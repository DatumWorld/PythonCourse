{
 "cells": [
  {
   "cell_type": "markdown",
   "id": "authorized-commercial",
   "metadata": {},
   "source": [
    "## 函数目录"
   ]
  },
  {
   "cell_type": "markdown",
   "id": "whole-nicholas",
   "metadata": {},
   "source": [
    "### 概述：\n",
    "#### 1 为便于数据分析师们理解，将 类对象函数属性方法等一律视为函数。\n",
    "#### 2 目录分类不严格区分，合计400+函数或操作，可以对应Excel中的常规计算操作。也有pandas特有的快捷操作函数。\n",
    "#### 3 对pandas官方文档的覆盖度：课程完成于pandas1.1.5-1.3.3期间，主要剩余官方文档的计算性能优化、大数据量处理等特定领域或工具的函数使用未系统地纳入翻译示例。"
   ]
  },
  {
   "cell_type": "markdown",
   "id": "eastern-while",
   "metadata": {},
   "source": [
    "### 格式说明：\n",
    "#### 例如 下一行：\n",
    "#### 135 keys/name/ names /axes/ flags/ set_flags: df属性相关 ，attrs : 数据集属性， show_versions  :pandas 版本 \n",
    "表示 第135篇（笔记本开头的数字） 含有 右侧 的 函数名称及其描述的功能作用的示例。\n",
    "### 注意：很多同名函数或属性或对象操作 可以使用在表格索引列上，大多数情况下使用方法和作用类似，不做完全特别说明"
   ]
  },
  {
   "cell_type": "markdown",
   "id": "removed-extreme",
   "metadata": {},
   "source": [
    "###  表格属性及操作"
   ]
  },
  {
   "cell_type": "markdown",
   "id": "frozen-export",
   "metadata": {},
   "source": [
    "#### 135 keys/name/ names /axes/ flags/ set_flags: df属性相关 ，attrs : 数据集属性， show_versions  :pandas 版本 \n",
    "#### 82和159和160  shape: 形状; ndim: 维数; size: 数据的元素个数;nbytes: 数据的字节数;  memory_usage :内存使用;\n",
    "#### 131 copy：获取对象副本\n",
    "#### 132 view：获取视图\n",
    "####  24  info：表格信息摘要，"
   ]
  },
  {
   "cell_type": "markdown",
   "id": "rubber-steel",
   "metadata": {},
   "source": [
    "###  索引列操作"
   ]
  },
  {
   "cell_type": "markdown",
   "id": "abandoned-release",
   "metadata": {},
   "source": [
    "#### 162 DataFrame：创建数据表格\n",
    "#### 155 series：序列创建操作\n",
    "#### 156 Index：基本索引创建\n",
    "####  24  dtypes dtype：数据类型\n",
    "#### 133 add_prefix和add_suffix：添加前后缀\n",
    "#### 157 MultiIndex：多级索引创建\n",
    "#### 158 RangeIndex CategoricalIndex IntervalIndex DatetimeIndex TimedeltaIndex PeriodIndex Int64Index UInt64Index Float64Index interval_range from_range：创建多种类型的索引\n",
    "#### 37 set_index：设置索引\n",
    "#### 38  reset_index ：移除索引\n",
    "####  39 reindex： 重新索引\n",
    "#### 40   reindex_like： 参照另一个df重新索引\n",
    "#### 159和161 is_all_dates holds_integer identical   ：索引通用操作，类型判断比较\n",
    "#### 159和161 argmax argmin argsort   ：索引通用操作，排序位置\n",
    "#### 159和161   get_indexer_for get_indexer_non_unique get_indexer slice_indexer slice_locs get_loc get_slice_bound ：索引通用操作，切片位置边界\n",
    "#### 159和161   set_names  delete  get_level_values  ：索引通用操作，删除/设置层级名字/获取层级值\n",
    "#### 159和161 to_flat_index to_series  ：索引通用操作，转换成flat形状或series\n",
    "#### 125 to_frame：序列转换成表格（dateframe）\n",
    "#### 161 levels codes  levshape nlevels set_levels set_codes  ：多级索引操作，层级形状/数量/编码/读取修改\n",
    "#### 142和161 droplevel sortlevel swaplevel reorder_levels remove_unused_levels ：多级索引操作：删除层级/按层级排序/交换层级/对层级排序/移除未使用到的层级数据\n",
    "#### 160 left right  mid closed  length   set_closed   is_non_overlapping_monotonic is_overlapping  overlaps : 区间间隔索引的操作：区间的左右边界/中值/闭合/长度/单调性/是否重合\n",
    "#### 123 intersection： 交集 ； union： 并集； difference： 差集（补集）； symmetric_difference： 差集的并集（交集的补集） \n",
    "#### 96  is_monotonic 或 is_monotonic_increasing ： 判断列数据是否单调增加；is_monotonic_decreasing： 判断列数据是否单调减少"
   ]
  },
  {
   "cell_type": "markdown",
   "id": "alive-excerpt",
   "metadata": {},
   "source": [
    "### 输入和输出"
   ]
  },
  {
   "cell_type": "markdown",
   "id": "consolidated-bristol",
   "metadata": {},
   "source": [
    "####  08和170 读写 read_csv to_csv read_excel to_excel read_sql to_sql: 读写 csv Excel（含多表格编码等） 数据库\n",
    "#### 09 读写 csv(压缩文件) to_html read_html to_hdf read_hdf\n",
    "#### 134  read_json  读取json，to_json 保存成json文件 "
   ]
  },
  {
   "cell_type": "markdown",
   "id": "complimentary-compact",
   "metadata": {},
   "source": [
    "###  表格循环遍历"
   ]
  },
  {
   "cell_type": "markdown",
   "id": "forbidden-retail",
   "metadata": {},
   "source": [
    "#### 143 items iteritems iterrows itertuples item"
   ]
  },
  {
   "cell_type": "markdown",
   "id": "mexican-basket",
   "metadata": {},
   "source": [
    "###  行列上使用自定义函数"
   ]
  },
  {
   "cell_type": "markdown",
   "id": "raised-choir",
   "metadata": {},
   "source": [
    "#### 15 apply map applymap"
   ]
  },
  {
   "cell_type": "markdown",
   "id": "perceived-hometown",
   "metadata": {},
   "source": [
    "### 缺失值与空值处理"
   ]
  },
  {
   "cell_type": "markdown",
   "id": "obvious-ecuador",
   "metadata": {},
   "source": [
    "#### 18  isna / isnull ：判断是否na ；notna / notnull  ：判断是否非na\n",
    "#### 33 fillna ：通用填充na为其它内容\n",
    "#### 36 dropna：删除有na 的序列\n",
    "#### 34和35 ffill bfill pad backfil：专用的指定填充内容的方向"
   ]
  },
  {
   "cell_type": "markdown",
   "id": "motivated-image",
   "metadata": {},
   "source": [
    "### 重复数据处理"
   ]
  },
  {
   "cell_type": "markdown",
   "id": "tutorial-teens",
   "metadata": {},
   "source": [
    "#### 58和59  duplicated /drop_duplicates /has_duplicates ：表格/列/索引上是否有重复数据及如何去重"
   ]
  },
  {
   "cell_type": "markdown",
   "id": "communist-sunglasses",
   "metadata": {},
   "source": [
    "###  通用基础增删改查"
   ]
  },
  {
   "cell_type": "markdown",
   "id": "tired-prize",
   "metadata": {},
   "source": [
    "#### 20 loc iloc at iat head tail：查询修改 \n",
    "#### 21和159   insert ：新增列或索引\n",
    "#### 22 drop：数据删除\n",
    "####  23和159 append ：增加/合并 行/索引"
   ]
  },
  {
   "cell_type": "markdown",
   "id": "medieval-intensity",
   "metadata": {},
   "source": [
    "###  基础计算"
   ]
  },
  {
   "cell_type": "markdown",
   "id": "supposed-justice",
   "metadata": {},
   "source": [
    "### 26和27和29 加减乘除运算\n",
    "#### 50 add sub mul div truediv floordiv mod power 加减乘除模余乘方等等\n",
    "#### 139 abs：求绝对值"
   ]
  },
  {
   "cell_type": "markdown",
   "id": "embedded-reality",
   "metadata": {},
   "source": [
    "###  基础逻辑比较"
   ]
  },
  {
   "cell_type": "markdown",
   "id": "burning-scoop",
   "metadata": {},
   "source": [
    "#### 107 eq, ne, le, lt, ge, gt 比较大小 作用分别等同于 ==, !=, <=, <, >=, >\n",
    "#### 20 & | ~ ：查询\n",
    "#### 124 all：沿着轴的元素是否都是True ，any：沿着轴的元素是否存在True "
   ]
  },
  {
   "cell_type": "markdown",
   "id": "thermal-favorite",
   "metadata": {},
   "source": [
    "###  排序"
   ]
  },
  {
   "cell_type": "markdown",
   "id": "immediate-arena",
   "metadata": {},
   "source": [
    "####  78  sort_values 和sort_index\n",
    "#### 79  rank ：排名函数，计算数字排序"
   ]
  },
  {
   "cell_type": "markdown",
   "id": "reserved-sleeve",
   "metadata": {},
   "source": [
    "###  数据类型转换"
   ]
  },
  {
   "cell_type": "markdown",
   "id": "hindu-gothic",
   "metadata": {},
   "source": [
    "#### 85和86 astype: 通用数据类型转换\n",
    "#### 86  to_numeric：转换成数字类型\n",
    "#### 87和88 to_datetime： 转换成时间\n",
    "#### 88 to_timedelta： 将参数转换为 timedelta\n",
    "#### 89  convert_dtypes： 将列转换成最可能的类型； infer_objects ：尝试推断列的最可能的类型\n",
    "#### 134 to_period ：转换成周期，  to_string ：转换成字符串，"
   ]
  },
  {
   "cell_type": "markdown",
   "id": "based-discharge",
   "metadata": {},
   "source": [
    "### 分析计算函数"
   ]
  },
  {
   "cell_type": "markdown",
   "id": "eligible-aaron",
   "metadata": {},
   "source": [
    "#### 16 describe：描述对象的简单统计信息\n",
    "#### 105 max 最大 min 最小 mean 平均 median 中位数； sum: 计算和\n",
    "#### 148 mode：计算众数\n",
    "#### 104 cummax 累计最大 cummin 累计最小 cumprod 累计乘积 cumsum 累计求和\n",
    "#### 90 nlargest ：返回降序排列后的最前面n行；nsmallest ：返回升序排列后的最前面n行\n",
    "#### 91 idxmax ：返回沿着指定轴方向出现的第一个最大值的索引； idxmin： 返回沿着指定轴方向出现的第一个最小值的索引\n",
    "#### 92 first_valid_index： 返回第一个非空值的索引； last_valid_index ：返回最后一个非空值的索引\n",
    "#### 93 first 和last：不同情况下用途不同\n",
    "#### 102 prod 计算值的乘积\n",
    "#### 103 quantile 返回给定的分位数对应的值\n",
    "#### 122 diff：计算相邻元素差\n",
    "#### 97 pct_change： 计算序列数据变化的百分比\n",
    "#### 106 unique： 返回不同元素 ,nunique： 返回不同元素的个数, value_counts： 返回不同元素的个数\n",
    "####  140 dot：矩阵乘法\n",
    "####  57 crosstab ：计算因素的简单的交叉表\n",
    "#### 98 cov： 计算列数据之间的协方差； corr： 计算列数据之间的相关系数；corrwith： 计算两个表/列数据之间的相关系数\n",
    "#### 99 var： 计算无偏方差；std ：计算样本标准偏差\n",
    "#### 100 mad 计算平均绝对偏差, sem 计算平均值的无偏标准误差 \n",
    "#### 101 skew 计算无偏偏度, kurtosis 计算无偏峰度"
   ]
  },
  {
   "cell_type": "markdown",
   "id": "graduate-script",
   "metadata": {},
   "source": [
    "###  表格合并"
   ]
  },
  {
   "cell_type": "markdown",
   "id": "administrative-going",
   "metadata": {},
   "source": [
    "#### 23和25和32  join ，merge，concat ：表格合并或增加行\n",
    "#### 172 merge_asof：近邻键合并表格\n",
    "#### 173 merge_ordered：合并表格（有顺序）"
   ]
  },
  {
   "cell_type": "markdown",
   "id": "stuck-proposal",
   "metadata": {},
   "source": [
    "###  表格形状操作"
   ]
  },
  {
   "cell_type": "markdown",
   "id": "north-honduras",
   "metadata": {},
   "source": [
    "#### 53和55 pivot_table：类似Excel透视表\n",
    "#### 54 pivot：类似pivot_table的某列转列头的操作，但是不支持重复标签对（指行/列对）\n",
    "#### 56  stack 与unstack： 将某个层级的列头调整到索引或相反\n",
    "#### 144 melt：宽表调整成长表\n",
    "####  82 T，transpose : 转置\n",
    "#### 163 wide_to_long：宽表调长表"
   ]
  },
  {
   "cell_type": "markdown",
   "id": "ceramic-article",
   "metadata": {},
   "source": [
    "###  窗口函数"
   ]
  },
  {
   "cell_type": "markdown",
   "id": "infinite-cradle",
   "metadata": {},
   "source": [
    "####  19和60 rolling ：滚动窗口；expanding：扩展窗口\n",
    "#### 52 ewm： 指数加权窗口"
   ]
  },
  {
   "cell_type": "markdown",
   "id": "sought-bosnia",
   "metadata": {},
   "source": [
    "###  采样/抽样"
   ]
  },
  {
   "cell_type": "markdown",
   "id": "indian-modern",
   "metadata": {},
   "source": [
    "#### 28和51 sample：数据抽样\n",
    "#### 149-151 resample：频率转换和时序数据采样\n",
    "#### 152 asfreq：时序数据频率转换采样"
   ]
  },
  {
   "cell_type": "markdown",
   "id": "genetic-labor",
   "metadata": {},
   "source": [
    "###  分组聚合统计"
   ]
  },
  {
   "cell_type": "markdown",
   "id": "inside-psychology",
   "metadata": {},
   "source": [
    "#### 16和41-49 groupby/ agg/ get_group：含自定义聚合统计\n",
    "#### 94 ngroup：  给每组标数字，从从开始；nth： 找出每组中的第nth行"
   ]
  },
  {
   "cell_type": "markdown",
   "id": "general-concentrate",
   "metadata": {},
   "source": [
    "### 绘制图形"
   ]
  },
  {
   "cell_type": "markdown",
   "id": "bacterial-element",
   "metadata": {},
   "source": [
    "#### 145 plot bar：绘制图形"
   ]
  },
  {
   "cell_type": "markdown",
   "id": "later-carry",
   "metadata": {},
   "source": [
    "### 选项设置"
   ]
  },
  {
   "cell_type": "markdown",
   "id": "seven-trader",
   "metadata": {},
   "source": [
    "#### 146 get_option : 获取选项 ， set_option : 设置选项，reset_option : 重置选项为默认值 ，describe_option : 描述选项，option_context : 代码块执行环境选项"
   ]
  },
  {
   "cell_type": "markdown",
   "id": "underlying-sunday",
   "metadata": {},
   "source": [
    "### 表格视觉样式设置"
   ]
  },
  {
   "cell_type": "markdown",
   "id": "perfect-census",
   "metadata": {},
   "source": [
    "#### 147 format /hide_columns /hide_index/hide_columns_/hide_index_（pandas1.3支持）\n",
    "#### 138 round：四舍五入小数位数"
   ]
  },
  {
   "cell_type": "markdown",
   "id": "quiet-quantity",
   "metadata": {},
   "source": [
    "### 字符串处理（用于处理文本数据）"
   ]
  },
  {
   "cell_type": "markdown",
   "id": "serial-patient",
   "metadata": {},
   "source": [
    "####  01和160   get split len  count contains find \n",
    "#### 02  lower upper title capitalize swapcase\n",
    "#### 03 replace slice_replace translate\n",
    "#### 04 cat center startswith endswith join repeat\n",
    "#### 05 pad partition strip lstrip rstrip wrap zfill\n",
    "#### 06 extract extractall rpartition rfind rsplit ljust rjust match\n",
    "#### 07 isdigit isalpha isnumeric isalnum isdecimal isspace isupper islower istitle\n",
    "#### 141 explode：炸开数据堆"
   ]
  },
  {
   "cell_type": "markdown",
   "id": "statutory-breakdown",
   "metadata": {},
   "source": [
    "### 时间处理"
   ]
  },
  {
   "cell_type": "markdown",
   "id": "warming-entry",
   "metadata": {},
   "source": [
    "#### 167  Timestamp：创建时间，生成/获取当前时间（now）/时间差/比较等计算\n",
    "#### 165 DateOffset：时间偏移创建及属性 kwds freqstr\n",
    "#### 166  Timedelta：时间间隔（差）计算，创建/索引和时间类型数据四则运算/ 使用函数/排序/比较等components timedelta_range\n",
    "#### 17 date_range：在指定时间范围内产生要求的时间序列。含常见约10种用法，更多详细可参考官方文档\n",
    "#### 154 bdate_range: 在指定时间范围内产生要求的时间序列,默认工作日时间。\n",
    "#### 10 year 、month、day、hour、minute、second、quarter、dayofweek、dayofyear、date、time：时间对象的年月日时分秒日期时间季度周的第几天\n",
    "#### 11 is_month_start、is_month_end 、is_year_start、is _year_end、is_quarter_start、is_quarter_end、daysinmonth、is_leap_year：时间对象是否年月季度第一天或最后一天/所在月天数/所在年是否闰年\n",
    "#### 12 weekofyear、week、to_period 、to_pydatetime、round、floor、ceil、month_name、day_name：时间对象是年的第几周 /类型转转 /近似到最近的周期 /月份名字 /周几名字\n",
    "#### 13 DateOffset MonthBegin MonthEnd：计算所在/偏移周期开始结束\n",
    "#### 164  DateOffset BMonthBegin BMonthEnd BQuarterEnd BQuarterBegin QuarterBegin QuarterEnd YearEnd YearBegin BYearEnd BYearBegin SemiMonthBegin SemiMonthEnd：计算所在/偏移周期开始结束\n",
    "#### 14 综合利用DateOffSet dateutil calendar 计算 时间/日期所在月的第一天或最后一天（可用以参考计算周/季度的第一天和最后一天）\n",
    "#### 116 shift：索引不变，移动数据；或者数据不变，调整索引\n",
    "#### 153 ohlc：计算各时间段的开高低收"
   ]
  },
  {
   "cell_type": "markdown",
   "id": "continental-berkeley",
   "metadata": {},
   "source": [
    "###  分类数据（范畴数据）"
   ]
  },
  {
   "cell_type": "markdown",
   "id": "naval-oakland",
   "metadata": {},
   "source": [
    "#### 71和72 cut：数据切片。和分类数据有一定关系\n",
    "#### 73 qcut:数据切片  ，基于分位数离散化。和分类数据有一定关系\n",
    "#### 74 get_dummies: 将分类数据变量 转换为 虚拟/指标/哑变量。\n",
    "#### 75 factorize: 值分解，类比因式分解。这里将对象编码成枚举类型或分类变量\n",
    "#### 61和62  CategoricalDtype和Categorical ：常见操作\n",
    "#### 63 categories/ordered/rename_categories：常见操作类别/有序/更名\n",
    "#### 64 add_categories/remove_categories/remove_unused_categories/set_categories：分类数据操作：增加/删除/设置/删除未使用的分类\n",
    "#### 65 as_ordered/as_unordered/reorder_categories/sort_values：分类数据操作：排序\n",
    "#### 66 比较\n",
    "#### 67 常规统计\n",
    "#### 68 常规增删改查\n",
    "#### 69 使用函数\n",
    "#### 70 union_categoricals：表格合并"
   ]
  },
  {
   "cell_type": "markdown",
   "id": "burning-password",
   "metadata": {},
   "source": [
    "###  与其它数据结构转换"
   ]
  },
  {
   "cell_type": "markdown",
   "id": "combined-tennis",
   "metadata": {},
   "source": [
    "#### 108和160 to_numpy ：转换成numpy数组(等效values，但不推荐)。可能发生数据类型转换\n",
    "#### 108 tolist ：转换成python列表list，可能发生数组类型转换\n",
    "#### 109 from_records ：将结构或记录数组转换成数据框， to_records ：将数据框转换成记录数组\n",
    "#### 125 squeeze：单元素序列或表转换成标量值；单序列表格转换成单个序列\n",
    "#### 130 ravel：返回扁平化的数组\n",
    "#### 134   to_xarray ：转换成 xarray， to_dict： 转换成 字典， from_dict： 字典转换成df，  to_json： 保存成json字符串"
   ]
  },
  {
   "cell_type": "markdown",
   "id": "pursuant-appreciation",
   "metadata": {},
   "source": [
    "###  高级查询"
   ]
  },
  {
   "cell_type": "markdown",
   "id": "administrative-cornwall",
   "metadata": {},
   "source": [
    "#### 110 select_dtypes ：根据数据类型选择列，返回指定数据类型的列\n",
    "#### 111  take ：根据位置选择数据，类似iloc\n",
    "#### 112 truncate ：根据条件按照索引值截取数据，去掉before之前和after之后的数据。对照loc\n",
    "#### 113 between_time ：返回位于一天的特定时间之间的值，indexer_between_time：返回位于一天的特定时间之间的值的索引位置\n",
    "#### 114 at_time ：返回位于一天的特定时间的值，indexer_at_time：返回位于一天的特定时间的值的索引位置\n",
    "#### 115和49 filter ：根据行列标签索引选择子集数据 或 与groupby联合使用过滤结果\n",
    "#### 117 xs：根据行列索引层次查询数据\n",
    "#### 127 searchsorted：查询插队位置\n",
    "####  136 isin：判断是否属于（包含在某个集合的元素中）\n",
    "####  137 between：查询数据\n",
    "#### 77 query： 布尔表达式查询列"
   ]
  },
  {
   "cell_type": "markdown",
   "id": "dietary-advertising",
   "metadata": {},
   "source": [
    "###  表格整体数据修改"
   ]
  },
  {
   "cell_type": "markdown",
   "id": "modified-weapon",
   "metadata": {},
   "source": [
    "#### 118 update：更新表格\n",
    "#### 120 combine：表格合并\n",
    "#### 121 combine_first：表格合并\n",
    "####  128 clip：修剪平整数据"
   ]
  },
  {
   "cell_type": "markdown",
   "id": "encouraging-truth",
   "metadata": {},
   "source": [
    "###  稀疏数据操作"
   ]
  },
  {
   "cell_type": "markdown",
   "id": "serial-mortgage",
   "metadata": {},
   "source": [
    "#### 171 Sparse SparseArray SparseDtype density ：稀疏数据操作"
   ]
  },
  {
   "cell_type": "markdown",
   "id": "alive-accent",
   "metadata": {},
   "source": [
    "###  通用类型判定"
   ]
  },
  {
   "cell_type": "markdown",
   "id": "agricultural-thirty",
   "metadata": {},
   "source": [
    "#### 169  is_number is_integer is_float  is_bool   infer_dtype is_string_dtype is_numeric_dtype ：通用类型判定\n",
    "##### （以下用法与上述类似，仅作用有区别，但未在笔记本中给出示例）\n",
    "##### is_unsigned_integer_dtype   is_signed_integer_dtype is_period_dtype is_interval_dtype  is_re is_object_dtype  is_int64_dtype is_float_dtype\n",
    "##### is_datetime64_dtype is_complex_dtype is_categorical_dtype   is_complex is_file_like is_categorical is_list_like is_dict_like is_sparse is_bool_dtype"
   ]
  },
  {
   "cell_type": "markdown",
   "id": "human-envelope",
   "metadata": {},
   "source": [
    "###  其它"
   ]
  },
  {
   "cell_type": "markdown",
   "id": "external-scale",
   "metadata": {},
   "source": [
    "#### 126  transform：根据表格和函数计算产生结果表\n",
    "#### 76 where ：修改/查询不满足条件的值为 给定值，保持size；mask： 修改/查询满足条件的值为 给定值，保持size\n",
    "####  80 eval： 将字符串描述的运算操作作用于表格的列。\n",
    "#### 81  assign ：新增列或修改已有列\n",
    "#### 95  pipe：管道构建链式函数\n",
    "#### 129 pop：返回删除的列或元素\n",
    "#### 119 compare：比较表格数据差异\n",
    "#### 168  Int64Dtype Float64Dtype：数字类型与计算范围"
   ]
  }
 ],
 "metadata": {
  "kernelspec": {
   "display_name": "Python 3 (ipykernel)",
   "language": "python",
   "name": "python3"
  },
  "language_info": {
   "codemirror_mode": {
    "name": "ipython",
    "version": 3
   },
   "file_extension": ".py",
   "mimetype": "text/x-python",
   "name": "python",
   "nbconvert_exporter": "python",
   "pygments_lexer": "ipython3",
   "version": "3.8.12"
  },
  "toc-autonumbering": true
 },
 "nbformat": 4,
 "nbformat_minor": 5
}
