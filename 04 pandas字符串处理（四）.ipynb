{
 "cells": [
  {
   "cell_type": "markdown",
   "id": "lasting-enterprise",
   "metadata": {
    "execution": {
     "iopub.execute_input": "2021-05-10T07:18:52.990449Z",
     "iopub.status.busy": "2021-05-10T07:18:52.990449Z",
     "iopub.status.idle": "2021-05-10T07:18:52.994464Z",
     "shell.execute_reply": "2021-05-10T07:18:52.993452Z",
     "shell.execute_reply.started": "2021-05-10T07:18:52.990449Z"
    }
   },
   "source": [
    "## pandas字符串处理(四)"
   ]
  },
  {
   "cell_type": "markdown",
   "id": "restricted-charge",
   "metadata": {},
   "source": [
    "### 字符串其它操作\n",
    "#### cat center startswith endswith join repeat"
   ]
  },
  {
   "cell_type": "code",
   "execution_count": 1,
   "id": "genuine-worker",
   "metadata": {
    "execution": {
     "iopub.execute_input": "2021-05-12T09:18:05.931312Z",
     "iopub.status.busy": "2021-05-12T09:18:05.931312Z",
     "iopub.status.idle": "2021-05-12T09:18:06.170927Z",
     "shell.execute_reply": "2021-05-12T09:18:06.170927Z",
     "shell.execute_reply.started": "2021-05-12T09:18:05.931312Z"
    }
   },
   "outputs": [],
   "source": [
    "from faker import Faker\n",
    "fake = Faker('zh_CN')"
   ]
  },
  {
   "cell_type": "code",
   "execution_count": 2,
   "id": "amber-content",
   "metadata": {
    "execution": {
     "iopub.execute_input": "2021-05-12T09:18:06.170927Z",
     "iopub.status.busy": "2021-05-12T09:18:06.170927Z",
     "iopub.status.idle": "2021-05-12T09:18:06.782795Z",
     "shell.execute_reply": "2021-05-12T09:18:06.782795Z",
     "shell.execute_reply.started": "2021-05-12T09:18:06.170927Z"
    }
   },
   "outputs": [],
   "source": [
    "import pandas as pd\n",
    "df=pd.DataFrame(data=[ [fake.name(),fake.company()] for x in range(10) ],columns=['user','company'])"
   ]
  },
  {
   "cell_type": "code",
   "execution_count": 3,
   "id": "square-antigua",
   "metadata": {
    "execution": {
     "iopub.execute_input": "2021-05-12T09:18:06.782795Z",
     "iopub.status.busy": "2021-05-12T09:18:06.782795Z",
     "iopub.status.idle": "2021-05-12T09:18:06.813705Z",
     "shell.execute_reply": "2021-05-12T09:18:06.813705Z",
     "shell.execute_reply.started": "2021-05-12T09:18:06.782795Z"
    }
   },
   "outputs": [
    {
     "data": {
      "text/html": [
       "<div>\n",
       "<style scoped>\n",
       "    .dataframe tbody tr th:only-of-type {\n",
       "        vertical-align: middle;\n",
       "    }\n",
       "\n",
       "    .dataframe tbody tr th {\n",
       "        vertical-align: top;\n",
       "    }\n",
       "\n",
       "    .dataframe thead th {\n",
       "        text-align: right;\n",
       "    }\n",
       "</style>\n",
       "<table border=\"1\" class=\"dataframe\">\n",
       "  <thead>\n",
       "    <tr style=\"text-align: right;\">\n",
       "      <th></th>\n",
       "      <th>user</th>\n",
       "      <th>company</th>\n",
       "    </tr>\n",
       "  </thead>\n",
       "  <tbody>\n",
       "    <tr>\n",
       "      <th>0</th>\n",
       "      <td>张秀云</td>\n",
       "      <td>中建创业信息有限公司</td>\n",
       "    </tr>\n",
       "    <tr>\n",
       "      <th>1</th>\n",
       "      <td>张华</td>\n",
       "      <td>七喜科技有限公司</td>\n",
       "    </tr>\n",
       "    <tr>\n",
       "      <th>2</th>\n",
       "      <td>蒋勇</td>\n",
       "      <td>方正科技信息有限公司</td>\n",
       "    </tr>\n",
       "    <tr>\n",
       "      <th>3</th>\n",
       "      <td>陈玉华</td>\n",
       "      <td>维涛传媒有限公司</td>\n",
       "    </tr>\n",
       "    <tr>\n",
       "      <th>4</th>\n",
       "      <td>胡龙</td>\n",
       "      <td>数字100传媒有限公司</td>\n",
       "    </tr>\n",
       "    <tr>\n",
       "      <th>5</th>\n",
       "      <td>庄丽</td>\n",
       "      <td>盟新网络有限公司</td>\n",
       "    </tr>\n",
       "    <tr>\n",
       "      <th>6</th>\n",
       "      <td>莫刚</td>\n",
       "      <td>明腾网络有限公司</td>\n",
       "    </tr>\n",
       "    <tr>\n",
       "      <th>7</th>\n",
       "      <td>吴金凤</td>\n",
       "      <td>通际名联科技有限公司</td>\n",
       "    </tr>\n",
       "    <tr>\n",
       "      <th>8</th>\n",
       "      <td>高桂珍</td>\n",
       "      <td>通际名联传媒有限公司</td>\n",
       "    </tr>\n",
       "    <tr>\n",
       "      <th>9</th>\n",
       "      <td>赵雪梅</td>\n",
       "      <td>新宇龙信息信息有限公司</td>\n",
       "    </tr>\n",
       "  </tbody>\n",
       "</table>\n",
       "</div>"
      ],
      "text/plain": [
       "  user      company\n",
       "0  张秀云   中建创业信息有限公司\n",
       "1   张华     七喜科技有限公司\n",
       "2   蒋勇   方正科技信息有限公司\n",
       "3  陈玉华     维涛传媒有限公司\n",
       "4   胡龙  数字100传媒有限公司\n",
       "5   庄丽     盟新网络有限公司\n",
       "6   莫刚     明腾网络有限公司\n",
       "7  吴金凤   通际名联科技有限公司\n",
       "8  高桂珍   通际名联传媒有限公司\n",
       "9  赵雪梅  新宇龙信息信息有限公司"
      ]
     },
     "execution_count": 3,
     "metadata": {},
     "output_type": "execute_result"
    }
   ],
   "source": [
    "df #生成的测试数据来演示"
   ]
  },
  {
   "cell_type": "code",
   "execution_count": 4,
   "id": "interpreted-chester",
   "metadata": {
    "execution": {
     "iopub.execute_input": "2021-05-12T09:18:06.813705Z",
     "iopub.status.busy": "2021-05-12T09:18:06.813705Z",
     "iopub.status.idle": "2021-05-12T09:18:06.884397Z",
     "shell.execute_reply": "2021-05-12T09:18:06.883389Z",
     "shell.execute_reply.started": "2021-05-12T09:18:06.813705Z"
    }
   },
   "outputs": [
    {
     "data": {
      "text/plain": [
       "0     张秀云_中建创业信息有限公司\n",
       "1        张华_七喜科技有限公司\n",
       "2      蒋勇_方正科技信息有限公司\n",
       "3       陈玉华_维涛传媒有限公司\n",
       "4     胡龙_数字100传媒有限公司\n",
       "5        庄丽_盟新网络有限公司\n",
       "6        莫刚_明腾网络有限公司\n",
       "7     吴金凤_通际名联科技有限公司\n",
       "8     高桂珍_通际名联传媒有限公司\n",
       "9    赵雪梅_新宇龙信息信息有限公司\n",
       "Name: user, dtype: object"
      ]
     },
     "execution_count": 4,
     "metadata": {},
     "output_type": "execute_result"
    }
   ],
   "source": [
    "df.user.str.cat(df.company,sep='_') #合并两列"
   ]
  },
  {
   "cell_type": "code",
   "execution_count": 5,
   "id": "blind-boards",
   "metadata": {
    "execution": {
     "iopub.execute_input": "2021-05-12T09:18:06.886472Z",
     "iopub.status.busy": "2021-05-12T09:18:06.885456Z",
     "iopub.status.idle": "2021-05-12T09:18:06.967273Z",
     "shell.execute_reply": "2021-05-12T09:18:06.966704Z",
     "shell.execute_reply.started": "2021-05-12T09:18:06.886472Z"
    }
   },
   "outputs": [
    {
     "data": {
      "text/plain": [
       "0    *张秀云*\n",
       "1    **张华*\n",
       "2    **蒋勇*\n",
       "3    *陈玉华*\n",
       "4    **胡龙*\n",
       "5    **庄丽*\n",
       "6    **莫刚*\n",
       "7    *吴金凤*\n",
       "8    *高桂珍*\n",
       "9    *赵雪梅*\n",
       "Name: user, dtype: object"
      ]
     },
     "execution_count": 5,
     "metadata": {},
     "output_type": "execute_result"
    }
   ],
   "source": [
    "df.user.str.center(5,'*') # 字符串统一长度，两侧填充指定字符"
   ]
  },
  {
   "cell_type": "code",
   "execution_count": 6,
   "id": "developed-reconstruction",
   "metadata": {
    "execution": {
     "iopub.execute_input": "2021-05-12T09:18:06.967273Z",
     "iopub.status.busy": "2021-05-12T09:18:06.967273Z",
     "iopub.status.idle": "2021-05-12T09:18:07.039047Z",
     "shell.execute_reply": "2021-05-12T09:18:07.038468Z",
     "shell.execute_reply.started": "2021-05-12T09:18:06.967273Z"
    }
   },
   "outputs": [
    {
     "data": {
      "text/plain": [
       "0    False\n",
       "1    False\n",
       "2    False\n",
       "3    False\n",
       "4    False\n",
       "5    False\n",
       "6    False\n",
       "7    False\n",
       "8    False\n",
       "9    False\n",
       "Name: user, dtype: bool"
      ]
     },
     "execution_count": 6,
     "metadata": {},
     "output_type": "execute_result"
    }
   ],
   "source": [
    "df.user.str.startswith('范') #字符串以某个字符串开头"
   ]
  },
  {
   "cell_type": "code",
   "execution_count": 7,
   "id": "skilled-peninsula",
   "metadata": {
    "execution": {
     "iopub.execute_input": "2021-05-12T09:18:07.039047Z",
     "iopub.status.busy": "2021-05-12T09:18:07.039047Z",
     "iopub.status.idle": "2021-05-12T09:18:07.099305Z",
     "shell.execute_reply": "2021-05-12T09:18:07.098252Z",
     "shell.execute_reply.started": "2021-05-12T09:18:07.039047Z"
    }
   },
   "outputs": [
    {
     "data": {
      "text/plain": [
       "0    False\n",
       "1    False\n",
       "2    False\n",
       "3    False\n",
       "4    False\n",
       "5    False\n",
       "6    False\n",
       "7    False\n",
       "8    False\n",
       "9    False\n",
       "Name: user, dtype: bool"
      ]
     },
     "execution_count": 7,
     "metadata": {},
     "output_type": "execute_result"
    }
   ],
   "source": [
    "df.user.str.endswith('静') #字符串以某个字符串结尾"
   ]
  },
  {
   "cell_type": "code",
   "execution_count": 8,
   "id": "round-flooring",
   "metadata": {
    "execution": {
     "iopub.execute_input": "2021-05-12T09:18:07.101941Z",
     "iopub.status.busy": "2021-05-12T09:18:07.100903Z",
     "iopub.status.idle": "2021-05-12T09:18:07.179703Z",
     "shell.execute_reply": "2021-05-12T09:18:07.179092Z",
     "shell.execute_reply.started": "2021-05-12T09:18:07.101941Z"
    }
   },
   "outputs": [
    {
     "data": {
      "text/plain": [
       "0    张-秀-云\n",
       "1      张-华\n",
       "2      蒋-勇\n",
       "3    陈-玉-华\n",
       "4      胡-龙\n",
       "5      庄-丽\n",
       "6      莫-刚\n",
       "7    吴-金-凤\n",
       "8    高-桂-珍\n",
       "9    赵-雪-梅\n",
       "Name: user, dtype: object"
      ]
     },
     "execution_count": 8,
     "metadata": {},
     "output_type": "execute_result"
    }
   ],
   "source": [
    "df.user.str.join('-') # 将每个字符串元素视为一个字符列表，用指定的字符分隔符拼接"
   ]
  },
  {
   "cell_type": "code",
   "execution_count": 9,
   "id": "characteristic-retrieval",
   "metadata": {
    "execution": {
     "iopub.execute_input": "2021-05-12T09:18:07.179703Z",
     "iopub.status.busy": "2021-05-12T09:18:07.179703Z",
     "iopub.status.idle": "2021-05-12T09:18:07.238489Z",
     "shell.execute_reply": "2021-05-12T09:18:07.237930Z",
     "shell.execute_reply.started": "2021-05-12T09:18:07.179703Z"
    }
   },
   "outputs": [
    {
     "data": {
      "text/plain": [
       "0    张秀云张秀云\n",
       "1      张华张华\n",
       "2      蒋勇蒋勇\n",
       "3    陈玉华陈玉华\n",
       "4      胡龙胡龙\n",
       "5      庄丽庄丽\n",
       "6      莫刚莫刚\n",
       "7    吴金凤吴金凤\n",
       "8    高桂珍高桂珍\n",
       "9    赵雪梅赵雪梅\n",
       "Name: user, dtype: object"
      ]
     },
     "execution_count": 9,
     "metadata": {},
     "output_type": "execute_result"
    }
   ],
   "source": [
    "df.user.str.repeat(2) # 字符串重复指定次数"
   ]
  },
  {
   "cell_type": "code",
   "execution_count": 10,
   "id": "european-remains",
   "metadata": {
    "execution": {
     "iopub.execute_input": "2021-05-12T09:18:07.240563Z",
     "iopub.status.busy": "2021-05-12T09:18:07.240563Z",
     "iopub.status.idle": "2021-05-12T09:18:07.309990Z",
     "shell.execute_reply": "2021-05-12T09:18:07.308948Z",
     "shell.execute_reply.started": "2021-05-12T09:18:07.240563Z"
    }
   },
   "outputs": [
    {
     "data": {
      "text/plain": [
       "0                               \n",
       "1                             张华\n",
       "2                           蒋勇蒋勇\n",
       "3                      陈玉华陈玉华陈玉华\n",
       "4                       胡龙胡龙胡龙胡龙\n",
       "5                     庄丽庄丽庄丽庄丽庄丽\n",
       "6                   莫刚莫刚莫刚莫刚莫刚莫刚\n",
       "7          吴金凤吴金凤吴金凤吴金凤吴金凤吴金凤吴金凤\n",
       "8       高桂珍高桂珍高桂珍高桂珍高桂珍高桂珍高桂珍高桂珍\n",
       "9    赵雪梅赵雪梅赵雪梅赵雪梅赵雪梅赵雪梅赵雪梅赵雪梅赵雪梅\n",
       "Name: user, dtype: object"
      ]
     },
     "execution_count": 10,
     "metadata": {},
     "output_type": "execute_result"
    }
   ],
   "source": [
    "df.user.str.repeat(repeats=range(10)) # 字符串重复指定次数,每一行指定不同重复次数"
   ]
  }
 ],
 "metadata": {
  "kernelspec": {
   "display_name": "Python 3",
   "language": "python",
   "name": "python3"
  },
  "language_info": {
   "codemirror_mode": {
    "name": "ipython",
    "version": 3
   },
   "file_extension": ".py",
   "mimetype": "text/x-python",
   "name": "python",
   "nbconvert_exporter": "python",
   "pygments_lexer": "ipython3",
   "version": "3.6.8"
  }
 },
 "nbformat": 4,
 "nbformat_minor": 5
}
