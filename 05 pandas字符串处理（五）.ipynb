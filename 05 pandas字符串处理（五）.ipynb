{
 "cells": [
  {
   "cell_type": "markdown",
   "id": "verbal-uganda",
   "metadata": {
    "execution": {
     "iopub.execute_input": "2021-05-10T07:18:52.990449Z",
     "iopub.status.busy": "2021-05-10T07:18:52.990449Z",
     "iopub.status.idle": "2021-05-10T07:18:52.994464Z",
     "shell.execute_reply": "2021-05-10T07:18:52.993452Z",
     "shell.execute_reply.started": "2021-05-10T07:18:52.990449Z"
    }
   },
   "source": [
    "## pandas字符串处理(五)"
   ]
  },
  {
   "cell_type": "markdown",
   "id": "conscious-cedar",
   "metadata": {},
   "source": [
    "### 字符串其它操作\n",
    "#### pad partition strip lstrip rstrip wrap zfill"
   ]
  },
  {
   "cell_type": "code",
   "execution_count": 1,
   "id": "packed-growth",
   "metadata": {
    "execution": {
     "iopub.execute_input": "2021-05-13T07:25:12.127674Z",
     "iopub.status.busy": "2021-05-13T07:25:12.126675Z",
     "iopub.status.idle": "2021-05-13T07:25:12.204674Z",
     "shell.execute_reply": "2021-05-13T07:25:12.204674Z",
     "shell.execute_reply.started": "2021-05-13T07:25:12.127674Z"
    }
   },
   "outputs": [],
   "source": [
    "from faker import Faker\n",
    "fake = Faker('zh_CN')"
   ]
  },
  {
   "cell_type": "code",
   "execution_count": 2,
   "id": "coral-asset",
   "metadata": {
    "execution": {
     "iopub.execute_input": "2021-05-13T07:25:12.205642Z",
     "iopub.status.busy": "2021-05-13T07:25:12.205642Z",
     "iopub.status.idle": "2021-05-13T07:25:12.459677Z",
     "shell.execute_reply": "2021-05-13T07:25:12.459677Z",
     "shell.execute_reply.started": "2021-05-13T07:25:12.205642Z"
    }
   },
   "outputs": [],
   "source": [
    "import pandas as pd\n",
    "df=pd.DataFrame(data=[ [fake.name(),fake.company(),fake.numerify(),'空格 空格2'] for x in range(10) ],columns=['user','company','number','空格列'])"
   ]
  },
  {
   "cell_type": "code",
   "execution_count": 3,
   "id": "vital-fireplace",
   "metadata": {
    "execution": {
     "iopub.execute_input": "2021-05-13T07:25:12.460646Z",
     "iopub.status.busy": "2021-05-13T07:25:12.460646Z",
     "iopub.status.idle": "2021-05-13T07:25:12.481660Z",
     "shell.execute_reply": "2021-05-13T07:25:12.479649Z",
     "shell.execute_reply.started": "2021-05-13T07:25:12.460646Z"
    }
   },
   "outputs": [
    {
     "data": {
      "text/html": [
       "<div>\n",
       "<style scoped>\n",
       "    .dataframe tbody tr th:only-of-type {\n",
       "        vertical-align: middle;\n",
       "    }\n",
       "\n",
       "    .dataframe tbody tr th {\n",
       "        vertical-align: top;\n",
       "    }\n",
       "\n",
       "    .dataframe thead th {\n",
       "        text-align: right;\n",
       "    }\n",
       "</style>\n",
       "<table border=\"1\" class=\"dataframe\">\n",
       "  <thead>\n",
       "    <tr style=\"text-align: right;\">\n",
       "      <th></th>\n",
       "      <th>user</th>\n",
       "      <th>company</th>\n",
       "      <th>number</th>\n",
       "      <th>空格列</th>\n",
       "    </tr>\n",
       "  </thead>\n",
       "  <tbody>\n",
       "    <tr>\n",
       "      <th>0</th>\n",
       "      <td>侯志强</td>\n",
       "      <td>时刻信息有限公司</td>\n",
       "      <td>687</td>\n",
       "      <td>空格 空格2</td>\n",
       "    </tr>\n",
       "    <tr>\n",
       "      <th>1</th>\n",
       "      <td>韩建</td>\n",
       "      <td>诺依曼软件网络有限公司</td>\n",
       "      <td>249</td>\n",
       "      <td>空格 空格2</td>\n",
       "    </tr>\n",
       "    <tr>\n",
       "      <th>2</th>\n",
       "      <td>刘燕</td>\n",
       "      <td>四通传媒有限公司</td>\n",
       "      <td>818</td>\n",
       "      <td>空格 空格2</td>\n",
       "    </tr>\n",
       "    <tr>\n",
       "      <th>3</th>\n",
       "      <td>杨冬梅</td>\n",
       "      <td>雨林木风计算机网络有限公司</td>\n",
       "      <td>801</td>\n",
       "      <td>空格 空格2</td>\n",
       "    </tr>\n",
       "    <tr>\n",
       "      <th>4</th>\n",
       "      <td>郝桂荣</td>\n",
       "      <td>飞利信网络有限公司</td>\n",
       "      <td>236</td>\n",
       "      <td>空格 空格2</td>\n",
       "    </tr>\n",
       "    <tr>\n",
       "      <th>5</th>\n",
       "      <td>孙红霞</td>\n",
       "      <td>明腾传媒有限公司</td>\n",
       "      <td>751</td>\n",
       "      <td>空格 空格2</td>\n",
       "    </tr>\n",
       "    <tr>\n",
       "      <th>6</th>\n",
       "      <td>刘凤英</td>\n",
       "      <td>新宇龙信息信息有限公司</td>\n",
       "      <td>663</td>\n",
       "      <td>空格 空格2</td>\n",
       "    </tr>\n",
       "    <tr>\n",
       "      <th>7</th>\n",
       "      <td>何辉</td>\n",
       "      <td>易动力传媒有限公司</td>\n",
       "      <td>603</td>\n",
       "      <td>空格 空格2</td>\n",
       "    </tr>\n",
       "    <tr>\n",
       "      <th>8</th>\n",
       "      <td>谢刚</td>\n",
       "      <td>网新恒天科技有限公司</td>\n",
       "      <td>594</td>\n",
       "      <td>空格 空格2</td>\n",
       "    </tr>\n",
       "    <tr>\n",
       "      <th>9</th>\n",
       "      <td>段宁</td>\n",
       "      <td>网新恒天信息有限公司</td>\n",
       "      <td>827</td>\n",
       "      <td>空格 空格2</td>\n",
       "    </tr>\n",
       "  </tbody>\n",
       "</table>\n",
       "</div>"
      ],
      "text/plain": [
       "  user        company number     空格列\n",
       "0  侯志强       时刻信息有限公司    687  空格 空格2\n",
       "1   韩建    诺依曼软件网络有限公司    249  空格 空格2\n",
       "2   刘燕       四通传媒有限公司    818  空格 空格2\n",
       "3  杨冬梅  雨林木风计算机网络有限公司    801  空格 空格2\n",
       "4  郝桂荣      飞利信网络有限公司    236  空格 空格2\n",
       "5  孙红霞       明腾传媒有限公司    751  空格 空格2\n",
       "6  刘凤英    新宇龙信息信息有限公司    663  空格 空格2\n",
       "7   何辉      易动力传媒有限公司    603  空格 空格2\n",
       "8   谢刚     网新恒天科技有限公司    594  空格 空格2\n",
       "9   段宁     网新恒天信息有限公司    827  空格 空格2"
      ]
     },
     "execution_count": 3,
     "metadata": {},
     "output_type": "execute_result"
    }
   ],
   "source": [
    "df #生成的测试数据来演示"
   ]
  },
  {
   "cell_type": "code",
   "execution_count": 4,
   "id": "sustained-trouble",
   "metadata": {
    "execution": {
     "iopub.execute_input": "2021-05-13T07:26:22.251665Z",
     "iopub.status.busy": "2021-05-13T07:26:22.251665Z",
     "iopub.status.idle": "2021-05-13T07:26:22.261651Z",
     "shell.execute_reply": "2021-05-13T07:26:22.259657Z",
     "shell.execute_reply.started": "2021-05-13T07:26:22.251665Z"
    }
   },
   "outputs": [
    {
     "data": {
      "text/plain": [
       "0    *侯志强*\n",
       "1    **韩建*\n",
       "2    **刘燕*\n",
       "3    *杨冬梅*\n",
       "4    *郝桂荣*\n",
       "5    *孙红霞*\n",
       "6    *刘凤英*\n",
       "7    **何辉*\n",
       "8    **谢刚*\n",
       "9    **段宁*\n",
       "Name: user, dtype: object"
      ]
     },
     "execution_count": 4,
     "metadata": {},
     "output_type": "execute_result"
    }
   ],
   "source": [
    "df.user.str.pad(5,side='both',fillchar='*') # 将字符串“展开”到指定字符数量宽度，空白以指定字符填充"
   ]
  },
  {
   "cell_type": "code",
   "execution_count": 5,
   "id": "deluxe-angola",
   "metadata": {
    "execution": {
     "iopub.execute_input": "2021-05-13T07:27:54.124643Z",
     "iopub.status.busy": "2021-05-13T07:27:54.123645Z",
     "iopub.status.idle": "2021-05-13T07:27:54.138668Z",
     "shell.execute_reply": "2021-05-13T07:27:54.137651Z",
     "shell.execute_reply.started": "2021-05-13T07:27:54.124643Z"
    }
   },
   "outputs": [
    {
     "data": {
      "text/html": [
       "<div>\n",
       "<style scoped>\n",
       "    .dataframe tbody tr th:only-of-type {\n",
       "        vertical-align: middle;\n",
       "    }\n",
       "\n",
       "    .dataframe tbody tr th {\n",
       "        vertical-align: top;\n",
       "    }\n",
       "\n",
       "    .dataframe thead th {\n",
       "        text-align: right;\n",
       "    }\n",
       "</style>\n",
       "<table border=\"1\" class=\"dataframe\">\n",
       "  <thead>\n",
       "    <tr style=\"text-align: right;\">\n",
       "      <th></th>\n",
       "      <th>0</th>\n",
       "      <th>1</th>\n",
       "      <th>2</th>\n",
       "    </tr>\n",
       "  </thead>\n",
       "  <tbody>\n",
       "    <tr>\n",
       "      <th>0</th>\n",
       "      <td>空格</td>\n",
       "      <td></td>\n",
       "      <td>空格2</td>\n",
       "    </tr>\n",
       "    <tr>\n",
       "      <th>1</th>\n",
       "      <td>空格</td>\n",
       "      <td></td>\n",
       "      <td>空格2</td>\n",
       "    </tr>\n",
       "    <tr>\n",
       "      <th>2</th>\n",
       "      <td>空格</td>\n",
       "      <td></td>\n",
       "      <td>空格2</td>\n",
       "    </tr>\n",
       "    <tr>\n",
       "      <th>3</th>\n",
       "      <td>空格</td>\n",
       "      <td></td>\n",
       "      <td>空格2</td>\n",
       "    </tr>\n",
       "    <tr>\n",
       "      <th>4</th>\n",
       "      <td>空格</td>\n",
       "      <td></td>\n",
       "      <td>空格2</td>\n",
       "    </tr>\n",
       "    <tr>\n",
       "      <th>5</th>\n",
       "      <td>空格</td>\n",
       "      <td></td>\n",
       "      <td>空格2</td>\n",
       "    </tr>\n",
       "    <tr>\n",
       "      <th>6</th>\n",
       "      <td>空格</td>\n",
       "      <td></td>\n",
       "      <td>空格2</td>\n",
       "    </tr>\n",
       "    <tr>\n",
       "      <th>7</th>\n",
       "      <td>空格</td>\n",
       "      <td></td>\n",
       "      <td>空格2</td>\n",
       "    </tr>\n",
       "    <tr>\n",
       "      <th>8</th>\n",
       "      <td>空格</td>\n",
       "      <td></td>\n",
       "      <td>空格2</td>\n",
       "    </tr>\n",
       "    <tr>\n",
       "      <th>9</th>\n",
       "      <td>空格</td>\n",
       "      <td></td>\n",
       "      <td>空格2</td>\n",
       "    </tr>\n",
       "  </tbody>\n",
       "</table>\n",
       "</div>"
      ],
      "text/plain": [
       "    0  1    2\n",
       "0  空格     空格2\n",
       "1  空格     空格2\n",
       "2  空格     空格2\n",
       "3  空格     空格2\n",
       "4  空格     空格2\n",
       "5  空格     空格2\n",
       "6  空格     空格2\n",
       "7  空格     空格2\n",
       "8  空格     空格2\n",
       "9  空格     空格2"
      ]
     },
     "execution_count": 5,
     "metadata": {},
     "output_type": "execute_result"
    }
   ],
   "source": [
    "df.空格列.str.partition(' ') # 将字符串以指定字符分开"
   ]
  },
  {
   "cell_type": "code",
   "execution_count": 7,
   "id": "amazing-premises",
   "metadata": {
    "execution": {
     "iopub.execute_input": "2021-05-13T07:29:10.644644Z",
     "iopub.status.busy": "2021-05-13T07:29:10.644644Z",
     "iopub.status.idle": "2021-05-13T07:29:10.655665Z",
     "shell.execute_reply": "2021-05-13T07:29:10.653655Z",
     "shell.execute_reply.started": "2021-05-13T07:29:10.644644Z"
    }
   },
   "outputs": [
    {
     "data": {
      "text/plain": [
       "0    侯志强\n",
       "1     韩建\n",
       "2     刘燕\n",
       "3    杨冬梅\n",
       "4    郝桂荣\n",
       "5    孙红霞\n",
       "6    刘凤英\n",
       "7     何辉\n",
       "8     谢刚\n",
       "9     段宁\n",
       "Name: user, dtype: object"
      ]
     },
     "execution_count": 7,
     "metadata": {},
     "output_type": "execute_result"
    }
   ],
   "source": [
    "df.user.str.pad(5,side='both',fillchar='*').str.strip('*') # 将字符串两侧的指定字符去掉"
   ]
  },
  {
   "cell_type": "code",
   "execution_count": 8,
   "id": "annoying-boards",
   "metadata": {
    "execution": {
     "iopub.execute_input": "2021-05-13T07:29:46.640648Z",
     "iopub.status.busy": "2021-05-13T07:29:46.639646Z",
     "iopub.status.idle": "2021-05-13T07:29:46.649647Z",
     "shell.execute_reply": "2021-05-13T07:29:46.647661Z",
     "shell.execute_reply.started": "2021-05-13T07:29:46.640648Z"
    }
   },
   "outputs": [
    {
     "data": {
      "text/plain": [
       "0    侯志强*\n",
       "1     韩建*\n",
       "2     刘燕*\n",
       "3    杨冬梅*\n",
       "4    郝桂荣*\n",
       "5    孙红霞*\n",
       "6    刘凤英*\n",
       "7     何辉*\n",
       "8     谢刚*\n",
       "9     段宁*\n",
       "Name: user, dtype: object"
      ]
     },
     "execution_count": 8,
     "metadata": {},
     "output_type": "execute_result"
    }
   ],
   "source": [
    "df.user.str.pad(5,side='both',fillchar='*').str.lstrip('*') # 将字符串左侧的指定字符去掉"
   ]
  },
  {
   "cell_type": "code",
   "execution_count": 11,
   "id": "interracial-triangle",
   "metadata": {
    "execution": {
     "iopub.execute_input": "2021-05-13T07:30:29.841644Z",
     "iopub.status.busy": "2021-05-13T07:30:29.841644Z",
     "iopub.status.idle": "2021-05-13T07:30:29.849661Z",
     "shell.execute_reply": "2021-05-13T07:30:29.848644Z",
     "shell.execute_reply.started": "2021-05-13T07:30:29.841644Z"
    }
   },
   "outputs": [
    {
     "data": {
      "text/plain": [
       "0    *侯志强\n",
       "1    **韩建\n",
       "2    **刘燕\n",
       "3    *杨冬梅\n",
       "4    *郝桂荣\n",
       "5    *孙红霞\n",
       "6    *刘凤英\n",
       "7    **何辉\n",
       "8    **谢刚\n",
       "9    **段宁\n",
       "Name: user, dtype: object"
      ]
     },
     "execution_count": 11,
     "metadata": {},
     "output_type": "execute_result"
    }
   ],
   "source": [
    "df.user.str.pad(5,side='both',fillchar='*').str.rstrip('*') # 将字符串右侧的指定字符去掉"
   ]
  },
  {
   "cell_type": "code",
   "execution_count": 14,
   "id": "protecting-evolution",
   "metadata": {
    "execution": {
     "iopub.execute_input": "2021-05-13T07:32:22.652642Z",
     "iopub.status.busy": "2021-05-13T07:32:22.652642Z",
     "iopub.status.idle": "2021-05-13T07:32:22.657650Z",
     "shell.execute_reply": "2021-05-13T07:32:22.657650Z",
     "shell.execute_reply.started": "2021-05-13T07:32:22.652642Z"
    }
   },
   "outputs": [
    {
     "data": {
      "text/plain": [
       "0    侯\\n志\\n强\n",
       "1       韩\\n建\n",
       "2       刘\\n燕\n",
       "3    杨\\n冬\\n梅\n",
       "4    郝\\n桂\\n荣\n",
       "5    孙\\n红\\n霞\n",
       "6    刘\\n凤\\n英\n",
       "7       何\\n辉\n",
       "8       谢\\n刚\n",
       "9       段\\n宁\n",
       "Name: user, dtype: object"
      ]
     },
     "execution_count": 14,
     "metadata": {},
     "output_type": "execute_result"
    }
   ],
   "source": [
    "df.user.str.wrap(1) # 将字符串限制在指定宽度，加换行符"
   ]
  },
  {
   "cell_type": "code",
   "execution_count": 18,
   "id": "frequent-estimate",
   "metadata": {
    "execution": {
     "iopub.execute_input": "2021-05-13T07:40:23.055644Z",
     "iopub.status.busy": "2021-05-13T07:40:23.055644Z",
     "iopub.status.idle": "2021-05-13T07:40:23.060648Z",
     "shell.execute_reply": "2021-05-13T07:40:23.060648Z",
     "shell.execute_reply.started": "2021-05-13T07:40:23.055644Z"
    }
   },
   "outputs": [
    {
     "data": {
      "text/plain": [
       "0    0687\n",
       "1    0249\n",
       "2    0818\n",
       "3    0801\n",
       "4    0236\n",
       "5    0751\n",
       "6    0663\n",
       "7    0603\n",
       "8    0594\n",
       "9    0827\n",
       "Name: number, dtype: object"
      ]
     },
     "execution_count": 18,
     "metadata": {},
     "output_type": "execute_result"
    }
   ],
   "source": [
    "df.number.str.zfill(4) # 将字符串“展开”到指定宽度，左侧补零"
   ]
  }
 ],
 "metadata": {
  "kernelspec": {
   "display_name": "Python 3",
   "language": "python",
   "name": "python3"
  },
  "language_info": {
   "codemirror_mode": {
    "name": "ipython",
    "version": 3
   },
   "file_extension": ".py",
   "mimetype": "text/x-python",
   "name": "python",
   "nbconvert_exporter": "python",
   "pygments_lexer": "ipython3",
   "version": "3.6.8"
  }
 },
 "nbformat": 4,
 "nbformat_minor": 5
}
