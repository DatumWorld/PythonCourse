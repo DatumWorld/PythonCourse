{
 "cells": [
  {
   "cell_type": "markdown",
   "id": "00af4289",
   "metadata": {
    "execution": {
     "iopub.execute_input": "2021-05-10T07:18:52.990449Z",
     "iopub.status.busy": "2021-05-10T07:18:52.990449Z",
     "iopub.status.idle": "2021-05-10T07:18:52.994464Z",
     "shell.execute_reply": "2021-05-10T07:18:52.993452Z",
     "shell.execute_reply.started": "2021-05-10T07:18:52.990449Z"
    }
   },
   "source": [
    "## pandas输入和输出（二）"
   ]
  },
  {
   "cell_type": "markdown",
   "id": "15e5716e",
   "metadata": {},
   "source": [
    "### 比较常用的读写 csv(压缩文件) html hdf"
   ]
  },
  {
   "cell_type": "code",
   "execution_count": 28,
   "id": "6d887056",
   "metadata": {
    "execution": {
     "iopub.execute_input": "2021-05-19T12:50:07.253443Z",
     "iopub.status.busy": "2021-05-19T12:50:07.253145Z",
     "iopub.status.idle": "2021-05-19T12:50:07.275421Z",
     "shell.execute_reply": "2021-05-19T12:50:07.274710Z",
     "shell.execute_reply.started": "2021-05-19T12:50:07.253416Z"
    }
   },
   "outputs": [],
   "source": [
    "from faker import Faker\n",
    "fake = Faker('zh_CN')"
   ]
  },
  {
   "cell_type": "code",
   "execution_count": 29,
   "id": "18570133",
   "metadata": {
    "execution": {
     "iopub.execute_input": "2021-05-19T12:50:07.276609Z",
     "iopub.status.busy": "2021-05-19T12:50:07.276381Z",
     "iopub.status.idle": "2021-05-19T12:50:07.283572Z",
     "shell.execute_reply": "2021-05-19T12:50:07.282628Z",
     "shell.execute_reply.started": "2021-05-19T12:50:07.276576Z"
    }
   },
   "outputs": [],
   "source": [
    "import pandas as pd\n",
    "df=pd.DataFrame(data=[ [fake.name(),fake.company(),fake.numerify(),'空格 空格2 空格3'] for x in range(10) ],columns=['user','company','number','空格列'])"
   ]
  },
  {
   "cell_type": "code",
   "execution_count": 30,
   "id": "8ec36aad",
   "metadata": {
    "execution": {
     "iopub.execute_input": "2021-05-19T12:50:07.285225Z",
     "iopub.status.busy": "2021-05-19T12:50:07.284918Z",
     "iopub.status.idle": "2021-05-19T12:50:07.297566Z",
     "shell.execute_reply": "2021-05-19T12:50:07.296962Z",
     "shell.execute_reply.started": "2021-05-19T12:50:07.285202Z"
    }
   },
   "outputs": [
    {
     "data": {
      "text/html": [
       "<div>\n",
       "<style scoped>\n",
       "    .dataframe tbody tr th:only-of-type {\n",
       "        vertical-align: middle;\n",
       "    }\n",
       "\n",
       "    .dataframe tbody tr th {\n",
       "        vertical-align: top;\n",
       "    }\n",
       "\n",
       "    .dataframe thead th {\n",
       "        text-align: right;\n",
       "    }\n",
       "</style>\n",
       "<table border=\"1\" class=\"dataframe\">\n",
       "  <thead>\n",
       "    <tr style=\"text-align: right;\">\n",
       "      <th></th>\n",
       "      <th>user</th>\n",
       "      <th>company</th>\n",
       "      <th>number</th>\n",
       "      <th>空格列</th>\n",
       "    </tr>\n",
       "  </thead>\n",
       "  <tbody>\n",
       "    <tr>\n",
       "      <th>0</th>\n",
       "      <td>周丹</td>\n",
       "      <td>华远软件网络有限公司</td>\n",
       "      <td>231</td>\n",
       "      <td>空格 空格2 空格3</td>\n",
       "    </tr>\n",
       "    <tr>\n",
       "      <th>1</th>\n",
       "      <td>王冬梅</td>\n",
       "      <td>创亿科技有限公司</td>\n",
       "      <td>915</td>\n",
       "      <td>空格 空格2 空格3</td>\n",
       "    </tr>\n",
       "    <tr>\n",
       "      <th>2</th>\n",
       "      <td>蔡超</td>\n",
       "      <td>新格林耐特传媒有限公司</td>\n",
       "      <td>586</td>\n",
       "      <td>空格 空格2 空格3</td>\n",
       "    </tr>\n",
       "    <tr>\n",
       "      <th>3</th>\n",
       "      <td>柳佳</td>\n",
       "      <td>七喜科技有限公司</td>\n",
       "      <td>765</td>\n",
       "      <td>空格 空格2 空格3</td>\n",
       "    </tr>\n",
       "    <tr>\n",
       "      <th>4</th>\n",
       "      <td>吴玉梅</td>\n",
       "      <td>商软冠联传媒有限公司</td>\n",
       "      <td>882</td>\n",
       "      <td>空格 空格2 空格3</td>\n",
       "    </tr>\n",
       "    <tr>\n",
       "      <th>5</th>\n",
       "      <td>王萍</td>\n",
       "      <td>艾提科信网络有限公司</td>\n",
       "      <td>532</td>\n",
       "      <td>空格 空格2 空格3</td>\n",
       "    </tr>\n",
       "    <tr>\n",
       "      <th>6</th>\n",
       "      <td>李杨</td>\n",
       "      <td>合联电子信息有限公司</td>\n",
       "      <td>005</td>\n",
       "      <td>空格 空格2 空格3</td>\n",
       "    </tr>\n",
       "    <tr>\n",
       "      <th>7</th>\n",
       "      <td>周婷婷</td>\n",
       "      <td>飞利信信息有限公司</td>\n",
       "      <td>211</td>\n",
       "      <td>空格 空格2 空格3</td>\n",
       "    </tr>\n",
       "    <tr>\n",
       "      <th>8</th>\n",
       "      <td>刘淑兰</td>\n",
       "      <td>佳禾网络有限公司</td>\n",
       "      <td>222</td>\n",
       "      <td>空格 空格2 空格3</td>\n",
       "    </tr>\n",
       "    <tr>\n",
       "      <th>9</th>\n",
       "      <td>覃霞</td>\n",
       "      <td>华远软件科技有限公司</td>\n",
       "      <td>495</td>\n",
       "      <td>空格 空格2 空格3</td>\n",
       "    </tr>\n",
       "  </tbody>\n",
       "</table>\n",
       "</div>"
      ],
      "text/plain": [
       "  user      company number         空格列\n",
       "0   周丹   华远软件网络有限公司    231  空格 空格2 空格3\n",
       "1  王冬梅     创亿科技有限公司    915  空格 空格2 空格3\n",
       "2   蔡超  新格林耐特传媒有限公司    586  空格 空格2 空格3\n",
       "3   柳佳     七喜科技有限公司    765  空格 空格2 空格3\n",
       "4  吴玉梅   商软冠联传媒有限公司    882  空格 空格2 空格3\n",
       "5   王萍   艾提科信网络有限公司    532  空格 空格2 空格3\n",
       "6   李杨   合联电子信息有限公司    005  空格 空格2 空格3\n",
       "7  周婷婷    飞利信信息有限公司    211  空格 空格2 空格3\n",
       "8  刘淑兰     佳禾网络有限公司    222  空格 空格2 空格3\n",
       "9   覃霞   华远软件科技有限公司    495  空格 空格2 空格3"
      ]
     },
     "execution_count": 30,
     "metadata": {},
     "output_type": "execute_result"
    }
   ],
   "source": [
    "df #生成的测试数据来演示"
   ]
  },
  {
   "cell_type": "code",
   "execution_count": 32,
   "id": "f5f5d26b",
   "metadata": {
    "execution": {
     "iopub.execute_input": "2021-05-19T12:52:16.487957Z",
     "iopub.status.busy": "2021-05-19T12:52:16.487525Z",
     "iopub.status.idle": "2021-05-19T12:52:16.494428Z",
     "shell.execute_reply": "2021-05-19T12:52:16.493585Z",
     "shell.execute_reply.started": "2021-05-19T12:52:16.487926Z"
    }
   },
   "outputs": [],
   "source": [
    " df.to_csv('demo.zip',index=False,compression=dict(method='zip',archive_name='demo.csv'))# 保存成csv，压缩格式。可以选其它格式"
   ]
  },
  {
   "cell_type": "code",
   "execution_count": 33,
   "id": "815e7d51",
   "metadata": {
    "execution": {
     "iopub.execute_input": "2021-05-19T12:53:27.282827Z",
     "iopub.status.busy": "2021-05-19T12:53:27.282385Z",
     "iopub.status.idle": "2021-05-19T12:53:27.300330Z",
     "shell.execute_reply": "2021-05-19T12:53:27.298920Z",
     "shell.execute_reply.started": "2021-05-19T12:53:27.282792Z"
    }
   },
   "outputs": [
    {
     "data": {
      "text/html": [
       "<div>\n",
       "<style scoped>\n",
       "    .dataframe tbody tr th:only-of-type {\n",
       "        vertical-align: middle;\n",
       "    }\n",
       "\n",
       "    .dataframe tbody tr th {\n",
       "        vertical-align: top;\n",
       "    }\n",
       "\n",
       "    .dataframe thead th {\n",
       "        text-align: right;\n",
       "    }\n",
       "</style>\n",
       "<table border=\"1\" class=\"dataframe\">\n",
       "  <thead>\n",
       "    <tr style=\"text-align: right;\">\n",
       "      <th></th>\n",
       "      <th>user</th>\n",
       "      <th>company</th>\n",
       "      <th>number</th>\n",
       "      <th>空格列</th>\n",
       "    </tr>\n",
       "  </thead>\n",
       "  <tbody>\n",
       "    <tr>\n",
       "      <th>0</th>\n",
       "      <td>周丹</td>\n",
       "      <td>华远软件网络有限公司</td>\n",
       "      <td>231</td>\n",
       "      <td>空格 空格2 空格3</td>\n",
       "    </tr>\n",
       "    <tr>\n",
       "      <th>1</th>\n",
       "      <td>王冬梅</td>\n",
       "      <td>创亿科技有限公司</td>\n",
       "      <td>915</td>\n",
       "      <td>空格 空格2 空格3</td>\n",
       "    </tr>\n",
       "    <tr>\n",
       "      <th>2</th>\n",
       "      <td>蔡超</td>\n",
       "      <td>新格林耐特传媒有限公司</td>\n",
       "      <td>586</td>\n",
       "      <td>空格 空格2 空格3</td>\n",
       "    </tr>\n",
       "    <tr>\n",
       "      <th>3</th>\n",
       "      <td>柳佳</td>\n",
       "      <td>七喜科技有限公司</td>\n",
       "      <td>765</td>\n",
       "      <td>空格 空格2 空格3</td>\n",
       "    </tr>\n",
       "    <tr>\n",
       "      <th>4</th>\n",
       "      <td>吴玉梅</td>\n",
       "      <td>商软冠联传媒有限公司</td>\n",
       "      <td>882</td>\n",
       "      <td>空格 空格2 空格3</td>\n",
       "    </tr>\n",
       "    <tr>\n",
       "      <th>5</th>\n",
       "      <td>王萍</td>\n",
       "      <td>艾提科信网络有限公司</td>\n",
       "      <td>532</td>\n",
       "      <td>空格 空格2 空格3</td>\n",
       "    </tr>\n",
       "    <tr>\n",
       "      <th>6</th>\n",
       "      <td>李杨</td>\n",
       "      <td>合联电子信息有限公司</td>\n",
       "      <td>5</td>\n",
       "      <td>空格 空格2 空格3</td>\n",
       "    </tr>\n",
       "    <tr>\n",
       "      <th>7</th>\n",
       "      <td>周婷婷</td>\n",
       "      <td>飞利信信息有限公司</td>\n",
       "      <td>211</td>\n",
       "      <td>空格 空格2 空格3</td>\n",
       "    </tr>\n",
       "    <tr>\n",
       "      <th>8</th>\n",
       "      <td>刘淑兰</td>\n",
       "      <td>佳禾网络有限公司</td>\n",
       "      <td>222</td>\n",
       "      <td>空格 空格2 空格3</td>\n",
       "    </tr>\n",
       "    <tr>\n",
       "      <th>9</th>\n",
       "      <td>覃霞</td>\n",
       "      <td>华远软件科技有限公司</td>\n",
       "      <td>495</td>\n",
       "      <td>空格 空格2 空格3</td>\n",
       "    </tr>\n",
       "  </tbody>\n",
       "</table>\n",
       "</div>"
      ],
      "text/plain": [
       "  user      company  number         空格列\n",
       "0   周丹   华远软件网络有限公司     231  空格 空格2 空格3\n",
       "1  王冬梅     创亿科技有限公司     915  空格 空格2 空格3\n",
       "2   蔡超  新格林耐特传媒有限公司     586  空格 空格2 空格3\n",
       "3   柳佳     七喜科技有限公司     765  空格 空格2 空格3\n",
       "4  吴玉梅   商软冠联传媒有限公司     882  空格 空格2 空格3\n",
       "5   王萍   艾提科信网络有限公司     532  空格 空格2 空格3\n",
       "6   李杨   合联电子信息有限公司       5  空格 空格2 空格3\n",
       "7  周婷婷    飞利信信息有限公司     211  空格 空格2 空格3\n",
       "8  刘淑兰     佳禾网络有限公司     222  空格 空格2 空格3\n",
       "9   覃霞   华远软件科技有限公司     495  空格 空格2 空格3"
      ]
     },
     "execution_count": 33,
     "metadata": {},
     "output_type": "execute_result"
    }
   ],
   "source": [
    "pd.read_csv('demo.zip') #读取压缩文件中的csv"
   ]
  },
  {
   "cell_type": "code",
   "execution_count": 36,
   "id": "3dcec6dc",
   "metadata": {
    "execution": {
     "iopub.execute_input": "2021-05-19T12:54:43.650530Z",
     "iopub.status.busy": "2021-05-19T12:54:43.650074Z",
     "iopub.status.idle": "2021-05-19T12:54:43.658122Z",
     "shell.execute_reply": "2021-05-19T12:54:43.657201Z",
     "shell.execute_reply.started": "2021-05-19T12:54:43.650483Z"
    }
   },
   "outputs": [],
   "source": [
    "df.to_html('demo.html') # 保存成html表格"
   ]
  },
  {
   "cell_type": "code",
   "execution_count": 38,
   "id": "79936b67",
   "metadata": {
    "execution": {
     "iopub.execute_input": "2021-05-19T12:55:11.673346Z",
     "iopub.status.busy": "2021-05-19T12:55:11.673020Z",
     "iopub.status.idle": "2021-05-19T12:55:11.687788Z",
     "shell.execute_reply": "2021-05-19T12:55:11.686950Z",
     "shell.execute_reply.started": "2021-05-19T12:55:11.673317Z"
    }
   },
   "outputs": [
    {
     "data": {
      "text/plain": [
       "[   Unnamed: 0 user      company  number         空格列\n",
       " 0           0   周丹   华远软件网络有限公司     231  空格 空格2 空格3\n",
       " 1           1  王冬梅     创亿科技有限公司     915  空格 空格2 空格3\n",
       " 2           2   蔡超  新格林耐特传媒有限公司     586  空格 空格2 空格3\n",
       " 3           3   柳佳     七喜科技有限公司     765  空格 空格2 空格3\n",
       " 4           4  吴玉梅   商软冠联传媒有限公司     882  空格 空格2 空格3\n",
       " 5           5   王萍   艾提科信网络有限公司     532  空格 空格2 空格3\n",
       " 6           6   李杨   合联电子信息有限公司       5  空格 空格2 空格3\n",
       " 7           7  周婷婷    飞利信信息有限公司     211  空格 空格2 空格3\n",
       " 8           8  刘淑兰     佳禾网络有限公司     222  空格 空格2 空格3\n",
       " 9           9   覃霞   华远软件科技有限公司     495  空格 空格2 空格3]"
      ]
     },
     "execution_count": 38,
     "metadata": {},
     "output_type": "execute_result"
    }
   ],
   "source": [
    "pd.read_html('demo.html',encoding='utf-8') # 读取html表格"
   ]
  },
  {
   "cell_type": "code",
   "execution_count": 39,
   "id": "a8d2bb50",
   "metadata": {
    "execution": {
     "iopub.execute_input": "2021-05-19T12:56:05.913710Z",
     "iopub.status.busy": "2021-05-19T12:56:05.913011Z",
     "iopub.status.idle": "2021-05-19T12:56:05.930744Z",
     "shell.execute_reply": "2021-05-19T12:56:05.929693Z",
     "shell.execute_reply.started": "2021-05-19T12:56:05.913653Z"
    }
   },
   "outputs": [],
   "source": [
    "df.to_hdf('demo.h5',key='df') # 保存成hdf文件"
   ]
  },
  {
   "cell_type": "code",
   "execution_count": 40,
   "id": "9605757a",
   "metadata": {
    "execution": {
     "iopub.execute_input": "2021-05-19T12:56:49.025184Z",
     "iopub.status.busy": "2021-05-19T12:56:49.024526Z",
     "iopub.status.idle": "2021-05-19T12:56:49.047229Z",
     "shell.execute_reply": "2021-05-19T12:56:49.046050Z",
     "shell.execute_reply.started": "2021-05-19T12:56:49.025111Z"
    }
   },
   "outputs": [
    {
     "data": {
      "text/html": [
       "<div>\n",
       "<style scoped>\n",
       "    .dataframe tbody tr th:only-of-type {\n",
       "        vertical-align: middle;\n",
       "    }\n",
       "\n",
       "    .dataframe tbody tr th {\n",
       "        vertical-align: top;\n",
       "    }\n",
       "\n",
       "    .dataframe thead th {\n",
       "        text-align: right;\n",
       "    }\n",
       "</style>\n",
       "<table border=\"1\" class=\"dataframe\">\n",
       "  <thead>\n",
       "    <tr style=\"text-align: right;\">\n",
       "      <th></th>\n",
       "      <th>user</th>\n",
       "      <th>company</th>\n",
       "      <th>number</th>\n",
       "      <th>空格列</th>\n",
       "    </tr>\n",
       "  </thead>\n",
       "  <tbody>\n",
       "    <tr>\n",
       "      <th>0</th>\n",
       "      <td>周丹</td>\n",
       "      <td>华远软件网络有限公司</td>\n",
       "      <td>231</td>\n",
       "      <td>空格 空格2 空格3</td>\n",
       "    </tr>\n",
       "    <tr>\n",
       "      <th>1</th>\n",
       "      <td>王冬梅</td>\n",
       "      <td>创亿科技有限公司</td>\n",
       "      <td>915</td>\n",
       "      <td>空格 空格2 空格3</td>\n",
       "    </tr>\n",
       "    <tr>\n",
       "      <th>2</th>\n",
       "      <td>蔡超</td>\n",
       "      <td>新格林耐特传媒有限公司</td>\n",
       "      <td>586</td>\n",
       "      <td>空格 空格2 空格3</td>\n",
       "    </tr>\n",
       "    <tr>\n",
       "      <th>3</th>\n",
       "      <td>柳佳</td>\n",
       "      <td>七喜科技有限公司</td>\n",
       "      <td>765</td>\n",
       "      <td>空格 空格2 空格3</td>\n",
       "    </tr>\n",
       "    <tr>\n",
       "      <th>4</th>\n",
       "      <td>吴玉梅</td>\n",
       "      <td>商软冠联传媒有限公司</td>\n",
       "      <td>882</td>\n",
       "      <td>空格 空格2 空格3</td>\n",
       "    </tr>\n",
       "    <tr>\n",
       "      <th>5</th>\n",
       "      <td>王萍</td>\n",
       "      <td>艾提科信网络有限公司</td>\n",
       "      <td>532</td>\n",
       "      <td>空格 空格2 空格3</td>\n",
       "    </tr>\n",
       "    <tr>\n",
       "      <th>6</th>\n",
       "      <td>李杨</td>\n",
       "      <td>合联电子信息有限公司</td>\n",
       "      <td>005</td>\n",
       "      <td>空格 空格2 空格3</td>\n",
       "    </tr>\n",
       "    <tr>\n",
       "      <th>7</th>\n",
       "      <td>周婷婷</td>\n",
       "      <td>飞利信信息有限公司</td>\n",
       "      <td>211</td>\n",
       "      <td>空格 空格2 空格3</td>\n",
       "    </tr>\n",
       "    <tr>\n",
       "      <th>8</th>\n",
       "      <td>刘淑兰</td>\n",
       "      <td>佳禾网络有限公司</td>\n",
       "      <td>222</td>\n",
       "      <td>空格 空格2 空格3</td>\n",
       "    </tr>\n",
       "    <tr>\n",
       "      <th>9</th>\n",
       "      <td>覃霞</td>\n",
       "      <td>华远软件科技有限公司</td>\n",
       "      <td>495</td>\n",
       "      <td>空格 空格2 空格3</td>\n",
       "    </tr>\n",
       "  </tbody>\n",
       "</table>\n",
       "</div>"
      ],
      "text/plain": [
       "  user      company number         空格列\n",
       "0   周丹   华远软件网络有限公司    231  空格 空格2 空格3\n",
       "1  王冬梅     创亿科技有限公司    915  空格 空格2 空格3\n",
       "2   蔡超  新格林耐特传媒有限公司    586  空格 空格2 空格3\n",
       "3   柳佳     七喜科技有限公司    765  空格 空格2 空格3\n",
       "4  吴玉梅   商软冠联传媒有限公司    882  空格 空格2 空格3\n",
       "5   王萍   艾提科信网络有限公司    532  空格 空格2 空格3\n",
       "6   李杨   合联电子信息有限公司    005  空格 空格2 空格3\n",
       "7  周婷婷    飞利信信息有限公司    211  空格 空格2 空格3\n",
       "8  刘淑兰     佳禾网络有限公司    222  空格 空格2 空格3\n",
       "9   覃霞   华远软件科技有限公司    495  空格 空格2 空格3"
      ]
     },
     "execution_count": 40,
     "metadata": {},
     "output_type": "execute_result"
    }
   ],
   "source": [
    "pd.read_hdf('demo.h5') # 读取hdf文件"
   ]
  }
 ],
 "metadata": {
  "kernelspec": {
   "display_name": "Python 3",
   "language": "python",
   "name": "python3"
  },
  "language_info": {
   "codemirror_mode": {
    "name": "ipython",
    "version": 3
   },
   "file_extension": ".py",
   "mimetype": "text/x-python",
   "name": "python",
   "nbconvert_exporter": "python",
   "pygments_lexer": "ipython3",
   "version": "3.8.8"
  }
 },
 "nbformat": 4,
 "nbformat_minor": 5
}
