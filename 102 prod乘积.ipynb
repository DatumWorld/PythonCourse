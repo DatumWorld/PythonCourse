{
 "cells": [
  {
   "cell_type": "markdown",
   "id": "ba29632c",
   "metadata": {
    "execution": {
     "iopub.execute_input": "2021-05-10T07:18:52.990449Z",
     "iopub.status.busy": "2021-05-10T07:18:52.990449Z",
     "iopub.status.idle": "2021-05-10T07:18:52.994464Z",
     "shell.execute_reply": "2021-05-10T07:18:52.993452Z",
     "shell.execute_reply.started": "2021-05-10T07:18:52.990449Z"
    }
   },
   "source": [
    "## 102 prod乘积"
   ]
  },
  {
   "cell_type": "markdown",
   "id": "610b48da",
   "metadata": {
    "jp-MarkdownHeadingCollapsed": true,
    "tags": []
   },
   "source": [
    "### prod 计算值的乘积\n",
    "参数 axis=None, skipna=None, level=None, numeric_only=None, min_count=0, **kwargs"
   ]
  },
  {
   "cell_type": "code",
   "execution_count": 1,
   "id": "7aaf4ed8",
   "metadata": {
    "execution": {
     "iopub.execute_input": "2021-08-23T12:42:38.655342Z",
     "iopub.status.busy": "2021-08-23T12:42:38.654947Z",
     "iopub.status.idle": "2021-08-23T12:42:39.091173Z",
     "shell.execute_reply": "2021-08-23T12:42:39.090452Z",
     "shell.execute_reply.started": "2021-08-23T12:42:38.655259Z"
    },
    "tags": []
   },
   "outputs": [],
   "source": [
    "import numpy  as np\n",
    "import pandas as pd\n",
    "\n",
    "df=pd.DataFrame(data=np.random.randint(100,100000,size=(10, 1)),columns=['a'])\n",
    "df.insert(0,'dept',['部门1']*5+['部门2']*5)\n",
    "df.insert(1,'dept1',['小部门1']*2+['小部门2']*3+['小部门3']*1+['小部门4']*4)\n",
    "df['b']=np.random.randint(100,100000,size=(10, 1))\n",
    "df.iloc[1,2:4]=np.nan"
   ]
  },
  {
   "cell_type": "markdown",
   "id": "498e1972",
   "metadata": {
    "tags": []
   },
   "source": [
    "### 演示数据"
   ]
  },
  {
   "cell_type": "code",
   "execution_count": 2,
   "id": "5f09406d",
   "metadata": {
    "execution": {
     "iopub.execute_input": "2021-08-23T12:42:40.074122Z",
     "iopub.status.busy": "2021-08-23T12:42:40.073733Z",
     "iopub.status.idle": "2021-08-23T12:42:40.101606Z",
     "shell.execute_reply": "2021-08-23T12:42:40.100707Z",
     "shell.execute_reply.started": "2021-08-23T12:42:40.074089Z"
    },
    "tags": []
   },
   "outputs": [
    {
     "data": {
      "text/html": [
       "<div>\n",
       "<style scoped>\n",
       "    .dataframe tbody tr th:only-of-type {\n",
       "        vertical-align: middle;\n",
       "    }\n",
       "\n",
       "    .dataframe tbody tr th {\n",
       "        vertical-align: top;\n",
       "    }\n",
       "\n",
       "    .dataframe thead th {\n",
       "        text-align: right;\n",
       "    }\n",
       "</style>\n",
       "<table border=\"1\" class=\"dataframe\">\n",
       "  <thead>\n",
       "    <tr style=\"text-align: right;\">\n",
       "      <th></th>\n",
       "      <th>dept</th>\n",
       "      <th>dept1</th>\n",
       "      <th>a</th>\n",
       "      <th>b</th>\n",
       "    </tr>\n",
       "  </thead>\n",
       "  <tbody>\n",
       "    <tr>\n",
       "      <th>0</th>\n",
       "      <td>部门1</td>\n",
       "      <td>小部门1</td>\n",
       "      <td>27153.0</td>\n",
       "      <td>65219.0</td>\n",
       "    </tr>\n",
       "    <tr>\n",
       "      <th>1</th>\n",
       "      <td>部门1</td>\n",
       "      <td>小部门1</td>\n",
       "      <td>NaN</td>\n",
       "      <td>NaN</td>\n",
       "    </tr>\n",
       "    <tr>\n",
       "      <th>2</th>\n",
       "      <td>部门1</td>\n",
       "      <td>小部门2</td>\n",
       "      <td>60593.0</td>\n",
       "      <td>86546.0</td>\n",
       "    </tr>\n",
       "    <tr>\n",
       "      <th>3</th>\n",
       "      <td>部门1</td>\n",
       "      <td>小部门2</td>\n",
       "      <td>77702.0</td>\n",
       "      <td>86777.0</td>\n",
       "    </tr>\n",
       "    <tr>\n",
       "      <th>4</th>\n",
       "      <td>部门1</td>\n",
       "      <td>小部门2</td>\n",
       "      <td>2385.0</td>\n",
       "      <td>59182.0</td>\n",
       "    </tr>\n",
       "    <tr>\n",
       "      <th>5</th>\n",
       "      <td>部门2</td>\n",
       "      <td>小部门3</td>\n",
       "      <td>87246.0</td>\n",
       "      <td>62164.0</td>\n",
       "    </tr>\n",
       "    <tr>\n",
       "      <th>6</th>\n",
       "      <td>部门2</td>\n",
       "      <td>小部门4</td>\n",
       "      <td>60174.0</td>\n",
       "      <td>30154.0</td>\n",
       "    </tr>\n",
       "    <tr>\n",
       "      <th>7</th>\n",
       "      <td>部门2</td>\n",
       "      <td>小部门4</td>\n",
       "      <td>75849.0</td>\n",
       "      <td>24112.0</td>\n",
       "    </tr>\n",
       "    <tr>\n",
       "      <th>8</th>\n",
       "      <td>部门2</td>\n",
       "      <td>小部门4</td>\n",
       "      <td>84730.0</td>\n",
       "      <td>23018.0</td>\n",
       "    </tr>\n",
       "    <tr>\n",
       "      <th>9</th>\n",
       "      <td>部门2</td>\n",
       "      <td>小部门4</td>\n",
       "      <td>25499.0</td>\n",
       "      <td>57573.0</td>\n",
       "    </tr>\n",
       "  </tbody>\n",
       "</table>\n",
       "</div>"
      ],
      "text/plain": [
       "  dept dept1        a        b\n",
       "0  部门1  小部门1  27153.0  65219.0\n",
       "1  部门1  小部门1      NaN      NaN\n",
       "2  部门1  小部门2  60593.0  86546.0\n",
       "3  部门1  小部门2  77702.0  86777.0\n",
       "4  部门1  小部门2   2385.0  59182.0\n",
       "5  部门2  小部门3  87246.0  62164.0\n",
       "6  部门2  小部门4  60174.0  30154.0\n",
       "7  部门2  小部门4  75849.0  24112.0\n",
       "8  部门2  小部门4  84730.0  23018.0\n",
       "9  部门2  小部门4  25499.0  57573.0"
      ]
     },
     "execution_count": 2,
     "metadata": {},
     "output_type": "execute_result"
    }
   ],
   "source": [
    "df # 随机生成的数据"
   ]
  },
  {
   "cell_type": "code",
   "execution_count": 21,
   "id": "9f84c00e",
   "metadata": {
    "execution": {
     "iopub.execute_input": "2021-08-23T12:53:53.091621Z",
     "iopub.status.busy": "2021-08-23T12:53:53.091174Z",
     "iopub.status.idle": "2021-08-23T12:53:53.100833Z",
     "shell.execute_reply": "2021-08-23T12:53:53.099781Z",
     "shell.execute_reply.started": "2021-08-23T12:53:53.091581Z"
    }
   },
   "outputs": [
    {
     "data": {
      "text/plain": [
       "a    2.623164e+41\n",
       "b    1.736277e+42\n",
       "dtype: float64"
      ]
     },
     "execution_count": 21,
     "metadata": {},
     "output_type": "execute_result"
    }
   ],
   "source": [
    "df.product() # 等效用法"
   ]
  },
  {
   "cell_type": "code",
   "execution_count": 19,
   "id": "83bb2833",
   "metadata": {
    "execution": {
     "iopub.execute_input": "2021-08-23T12:52:33.853946Z",
     "iopub.status.busy": "2021-08-23T12:52:33.853443Z",
     "iopub.status.idle": "2021-08-23T12:52:33.865300Z",
     "shell.execute_reply": "2021-08-23T12:52:33.864297Z",
     "shell.execute_reply.started": "2021-08-23T12:52:33.853904Z"
    }
   },
   "outputs": [
    {
     "data": {
      "text/plain": [
       "a   NaN\n",
       "b   NaN\n",
       "dtype: float64"
      ]
     },
     "execution_count": 19,
     "metadata": {},
     "output_type": "execute_result"
    }
   ],
   "source": [
    "df.prod(min_count=10) # min_count 要求的最少数字个数，如果不够返回nan"
   ]
  },
  {
   "cell_type": "code",
   "execution_count": 15,
   "id": "bc5d8968",
   "metadata": {
    "execution": {
     "iopub.execute_input": "2021-08-23T12:51:01.475699Z",
     "iopub.status.busy": "2021-08-23T12:51:01.475372Z",
     "iopub.status.idle": "2021-08-23T12:51:01.482692Z",
     "shell.execute_reply": "2021-08-23T12:51:01.481992Z",
     "shell.execute_reply.started": "2021-08-23T12:51:01.475672Z"
    }
   },
   "outputs": [
    {
     "data": {
      "text/plain": [
       "a    2.623164e+41\n",
       "b    1.736277e+42\n",
       "dtype: float64"
      ]
     },
     "execution_count": 15,
     "metadata": {},
     "output_type": "execute_result"
    }
   ],
   "source": [
    "df.prod(numeric_only=True) # numeric_only 是否仅仅计算数字列/行"
   ]
  },
  {
   "cell_type": "code",
   "execution_count": 13,
   "id": "3036c4c1",
   "metadata": {
    "execution": {
     "iopub.execute_input": "2021-08-23T12:49:09.253777Z",
     "iopub.status.busy": "2021-08-23T12:49:09.253393Z",
     "iopub.status.idle": "2021-08-23T12:49:09.275123Z",
     "shell.execute_reply": "2021-08-23T12:49:09.270436Z",
     "shell.execute_reply.started": "2021-08-23T12:49:09.253748Z"
    }
   },
   "outputs": [
    {
     "data": {
      "text/html": [
       "<div>\n",
       "<style scoped>\n",
       "    .dataframe tbody tr th:only-of-type {\n",
       "        vertical-align: middle;\n",
       "    }\n",
       "\n",
       "    .dataframe tbody tr th {\n",
       "        vertical-align: top;\n",
       "    }\n",
       "\n",
       "    .dataframe thead th {\n",
       "        text-align: right;\n",
       "    }\n",
       "</style>\n",
       "<table border=\"1\" class=\"dataframe\">\n",
       "  <thead>\n",
       "    <tr style=\"text-align: right;\">\n",
       "      <th></th>\n",
       "      <th>a</th>\n",
       "      <th>b</th>\n",
       "    </tr>\n",
       "    <tr>\n",
       "      <th>dept1</th>\n",
       "      <th></th>\n",
       "      <th></th>\n",
       "    </tr>\n",
       "  </thead>\n",
       "  <tbody>\n",
       "    <tr>\n",
       "      <th>小部门1</th>\n",
       "      <td>2.715300e+04</td>\n",
       "      <td>6.521900e+04</td>\n",
       "    </tr>\n",
       "    <tr>\n",
       "      <th>小部门2</th>\n",
       "      <td>1.122905e+13</td>\n",
       "      <td>4.444688e+14</td>\n",
       "    </tr>\n",
       "    <tr>\n",
       "      <th>小部门3</th>\n",
       "      <td>8.724600e+04</td>\n",
       "      <td>6.216400e+04</td>\n",
       "    </tr>\n",
       "    <tr>\n",
       "      <th>小部门4</th>\n",
       "      <td>9.860958e+18</td>\n",
       "      <td>9.635286e+17</td>\n",
       "    </tr>\n",
       "  </tbody>\n",
       "</table>\n",
       "</div>"
      ],
      "text/plain": [
       "                  a             b\n",
       "dept1                            \n",
       "小部门1   2.715300e+04  6.521900e+04\n",
       "小部门2   1.122905e+13  4.444688e+14\n",
       "小部门3   8.724600e+04  6.216400e+04\n",
       "小部门4   9.860958e+18  9.635286e+17"
      ]
     },
     "execution_count": 13,
     "metadata": {},
     "output_type": "execute_result"
    }
   ],
   "source": [
    "df.set_index(['dept','dept1']).prod(level='dept1') # level 指定 多索引的层级"
   ]
  },
  {
   "cell_type": "code",
   "execution_count": 12,
   "id": "436c1d0f",
   "metadata": {
    "execution": {
     "iopub.execute_input": "2021-08-23T12:48:44.691214Z",
     "iopub.status.busy": "2021-08-23T12:48:44.690767Z",
     "iopub.status.idle": "2021-08-23T12:48:44.703576Z",
     "shell.execute_reply": "2021-08-23T12:48:44.702778Z",
     "shell.execute_reply.started": "2021-08-23T12:48:44.691180Z"
    }
   },
   "outputs": [
    {
     "data": {
      "text/html": [
       "<div>\n",
       "<style scoped>\n",
       "    .dataframe tbody tr th:only-of-type {\n",
       "        vertical-align: middle;\n",
       "    }\n",
       "\n",
       "    .dataframe tbody tr th {\n",
       "        vertical-align: top;\n",
       "    }\n",
       "\n",
       "    .dataframe thead th {\n",
       "        text-align: right;\n",
       "    }\n",
       "</style>\n",
       "<table border=\"1\" class=\"dataframe\">\n",
       "  <thead>\n",
       "    <tr style=\"text-align: right;\">\n",
       "      <th></th>\n",
       "      <th>a</th>\n",
       "      <th>b</th>\n",
       "    </tr>\n",
       "    <tr>\n",
       "      <th>dept</th>\n",
       "      <th></th>\n",
       "      <th></th>\n",
       "    </tr>\n",
       "  </thead>\n",
       "  <tbody>\n",
       "    <tr>\n",
       "      <th>部门1</th>\n",
       "      <td>3.049024e+17</td>\n",
       "      <td>2.898781e+19</td>\n",
       "    </tr>\n",
       "    <tr>\n",
       "      <th>部门2</th>\n",
       "      <td>8.603291e+23</td>\n",
       "      <td>5.989679e+22</td>\n",
       "    </tr>\n",
       "  </tbody>\n",
       "</table>\n",
       "</div>"
      ],
      "text/plain": [
       "                 a             b\n",
       "dept                            \n",
       "部门1   3.049024e+17  2.898781e+19\n",
       "部门2   8.603291e+23  5.989679e+22"
      ]
     },
     "execution_count": 12,
     "metadata": {},
     "output_type": "execute_result"
    }
   ],
   "source": [
    "df.set_index(['dept','dept1']).prod(level=0) # level 指定 多索引的层级"
   ]
  },
  {
   "cell_type": "code",
   "execution_count": 10,
   "id": "8a31cc2e",
   "metadata": {
    "execution": {
     "iopub.execute_input": "2021-08-23T12:47:21.129284Z",
     "iopub.status.busy": "2021-08-23T12:47:21.128990Z",
     "iopub.status.idle": "2021-08-23T12:47:21.137126Z",
     "shell.execute_reply": "2021-08-23T12:47:21.136305Z",
     "shell.execute_reply.started": "2021-08-23T12:47:21.129261Z"
    }
   },
   "outputs": [
    {
     "data": {
      "text/plain": [
       "a   NaN\n",
       "b   NaN\n",
       "dtype: float64"
      ]
     },
     "execution_count": 10,
     "metadata": {},
     "output_type": "execute_result"
    }
   ],
   "source": [
    "df.prod(axis=0,skipna=False) # 数字的乘积。skipna 计算是否排除nan"
   ]
  },
  {
   "cell_type": "code",
   "execution_count": 8,
   "id": "d9d1f709",
   "metadata": {
    "execution": {
     "iopub.execute_input": "2021-08-23T12:46:16.857286Z",
     "iopub.status.busy": "2021-08-23T12:46:16.856901Z",
     "iopub.status.idle": "2021-08-23T12:46:16.865987Z",
     "shell.execute_reply": "2021-08-23T12:46:16.865137Z",
     "shell.execute_reply.started": "2021-08-23T12:46:16.857253Z"
    }
   },
   "outputs": [
    {
     "data": {
      "text/plain": [
       "0    1.770892e+09\n",
       "1    1.000000e+00\n",
       "2    5.244082e+09\n",
       "3    6.742746e+09\n",
       "4    1.411491e+08\n",
       "5    5.423560e+09\n",
       "6    1.814487e+09\n",
       "7    1.828871e+09\n",
       "8    1.950315e+09\n",
       "9    1.468054e+09\n",
       "dtype: float64"
      ]
     },
     "execution_count": 8,
     "metadata": {},
     "output_type": "execute_result"
    }
   ],
   "source": [
    "df.prod(axis=1) # 行上数字的乘积"
   ]
  },
  {
   "cell_type": "code",
   "execution_count": 5,
   "id": "5b16255c",
   "metadata": {
    "execution": {
     "iopub.execute_input": "2021-08-23T12:44:34.526009Z",
     "iopub.status.busy": "2021-08-23T12:44:34.525590Z",
     "iopub.status.idle": "2021-08-23T12:44:34.537262Z",
     "shell.execute_reply": "2021-08-23T12:44:34.536221Z",
     "shell.execute_reply.started": "2021-08-23T12:44:34.525982Z"
    }
   },
   "outputs": [
    {
     "data": {
      "text/html": [
       "<div>\n",
       "<style scoped>\n",
       "    .dataframe tbody tr th:only-of-type {\n",
       "        vertical-align: middle;\n",
       "    }\n",
       "\n",
       "    .dataframe tbody tr th {\n",
       "        vertical-align: top;\n",
       "    }\n",
       "\n",
       "    .dataframe thead th {\n",
       "        text-align: right;\n",
       "    }\n",
       "</style>\n",
       "<table border=\"1\" class=\"dataframe\">\n",
       "  <thead>\n",
       "    <tr style=\"text-align: right;\">\n",
       "      <th></th>\n",
       "      <th>dept</th>\n",
       "      <th>dept1</th>\n",
       "      <th>a</th>\n",
       "      <th>b</th>\n",
       "    </tr>\n",
       "  </thead>\n",
       "  <tbody>\n",
       "    <tr>\n",
       "      <th>0</th>\n",
       "      <td>部门1</td>\n",
       "      <td>小部门1</td>\n",
       "      <td>27153.0</td>\n",
       "      <td>65219.0</td>\n",
       "    </tr>\n",
       "    <tr>\n",
       "      <th>1</th>\n",
       "      <td>部门1</td>\n",
       "      <td>小部门1</td>\n",
       "      <td>NaN</td>\n",
       "      <td>NaN</td>\n",
       "    </tr>\n",
       "    <tr>\n",
       "      <th>2</th>\n",
       "      <td>部门1</td>\n",
       "      <td>小部门2</td>\n",
       "      <td>60593.0</td>\n",
       "      <td>86546.0</td>\n",
       "    </tr>\n",
       "  </tbody>\n",
       "</table>\n",
       "</div>"
      ],
      "text/plain": [
       "  dept dept1        a        b\n",
       "0  部门1  小部门1  27153.0  65219.0\n",
       "1  部门1  小部门1      NaN      NaN\n",
       "2  部门1  小部门2  60593.0  86546.0"
      ]
     },
     "execution_count": 5,
     "metadata": {},
     "output_type": "execute_result"
    }
   ],
   "source": [
    "df.loc[:2]"
   ]
  },
  {
   "cell_type": "code",
   "execution_count": 6,
   "id": "14d190e1",
   "metadata": {
    "execution": {
     "iopub.execute_input": "2021-08-23T12:44:57.135726Z",
     "iopub.status.busy": "2021-08-23T12:44:57.135288Z",
     "iopub.status.idle": "2021-08-23T12:44:57.147257Z",
     "shell.execute_reply": "2021-08-23T12:44:57.145025Z",
     "shell.execute_reply.started": "2021-08-23T12:44:57.135692Z"
    }
   },
   "outputs": [
    {
     "data": {
      "text/plain": [
       "a    1.645282e+09\n",
       "b    5.644444e+09\n",
       "dtype: float64"
      ]
     },
     "execution_count": 6,
     "metadata": {},
     "output_type": "execute_result"
    }
   ],
   "source": [
    "df.loc[:2].prod()"
   ]
  },
  {
   "cell_type": "code",
   "execution_count": 7,
   "id": "2267b77c",
   "metadata": {
    "execution": {
     "iopub.execute_input": "2021-08-23T12:45:15.841974Z",
     "iopub.status.busy": "2021-08-23T12:45:15.841454Z",
     "iopub.status.idle": "2021-08-23T12:45:15.848564Z",
     "shell.execute_reply": "2021-08-23T12:45:15.847304Z",
     "shell.execute_reply.started": "2021-08-23T12:45:15.841930Z"
    }
   },
   "outputs": [
    {
     "data": {
      "text/plain": [
       "1645281729.0"
      ]
     },
     "execution_count": 7,
     "metadata": {},
     "output_type": "execute_result"
    }
   ],
   "source": [
    "27153.0*60593.0"
   ]
  },
  {
   "cell_type": "code",
   "execution_count": 3,
   "id": "79a9fca9",
   "metadata": {
    "execution": {
     "iopub.execute_input": "2021-08-23T12:43:33.548426Z",
     "iopub.status.busy": "2021-08-23T12:43:33.547797Z",
     "iopub.status.idle": "2021-08-23T12:43:33.559235Z",
     "shell.execute_reply": "2021-08-23T12:43:33.557794Z",
     "shell.execute_reply.started": "2021-08-23T12:43:33.548372Z"
    }
   },
   "outputs": [
    {
     "data": {
      "text/plain": [
       "a    2.623164e+41\n",
       "b    1.736277e+42\n",
       "dtype: float64"
      ]
     },
     "execution_count": 3,
     "metadata": {},
     "output_type": "execute_result"
    }
   ],
   "source": [
    "df.prod() # 列上数字的乘积"
   ]
  }
 ],
 "metadata": {
  "kernelspec": {
   "display_name": "Python 3 (ipykernel)",
   "language": "python",
   "name": "python3"
  },
  "language_info": {
   "codemirror_mode": {
    "name": "ipython",
    "version": 3
   },
   "file_extension": ".py",
   "mimetype": "text/x-python",
   "name": "python",
   "nbconvert_exporter": "python",
   "pygments_lexer": "ipython3",
   "version": "3.8.11"
  }
 },
 "nbformat": 4,
 "nbformat_minor": 5
}
