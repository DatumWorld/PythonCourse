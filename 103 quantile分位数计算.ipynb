{
 "cells": [
  {
   "cell_type": "markdown",
   "id": "fe95639a",
   "metadata": {
    "execution": {
     "iopub.execute_input": "2021-05-10T07:18:52.990449Z",
     "iopub.status.busy": "2021-05-10T07:18:52.990449Z",
     "iopub.status.idle": "2021-05-10T07:18:52.994464Z",
     "shell.execute_reply": "2021-05-10T07:18:52.993452Z",
     "shell.execute_reply.started": "2021-05-10T07:18:52.990449Z"
    }
   },
   "source": [
    "## 103 quantile分位数计算"
   ]
  },
  {
   "cell_type": "markdown",
   "id": "0ddac84a",
   "metadata": {
    "tags": []
   },
   "source": [
    "### quantile 返回给定的分位数对应的值\n",
    "参数 q=0.5, axis=0, numeric_only=True, interpolation={‘linear’, ‘lower’, ‘higher’, ‘midpoint’, ‘nearest’}"
   ]
  },
  {
   "cell_type": "code",
   "execution_count": 1,
   "id": "5d61795b",
   "metadata": {
    "execution": {
     "iopub.execute_input": "2021-08-24T03:36:24.371846Z",
     "iopub.status.busy": "2021-08-24T03:36:24.370844Z",
     "iopub.status.idle": "2021-08-24T03:36:24.681879Z",
     "shell.execute_reply": "2021-08-24T03:36:24.681879Z",
     "shell.execute_reply.started": "2021-08-24T03:36:24.371846Z"
    },
    "tags": []
   },
   "outputs": [],
   "source": [
    "import numpy  as np\n",
    "import pandas as pd\n",
    "from faker import Faker\n",
    "\n",
    "fake = Faker('zh_CN')\n",
    "df=pd.DataFrame(data=[ [fake.name()] for x in range(10) ],columns=['name'])\n",
    "\n",
    "df['销售额']=np.random.randint(100,100000,size=(10, 1))\n",
    "df['时间']=pd.date_range(start='2020-01-01',periods=10,freq='D')\n",
    "df.insert(0,'dept',['部门1']*5+['部门2']*5)\n",
    "df.insert(1,'dept 1',['小部门1']*2+['小部门2']*3+['小部门3']*1+['小部门4']*4)\n",
    "df.iloc[1,1]=np.nan #  修改成nan"
   ]
  },
  {
   "cell_type": "markdown",
   "id": "cde7d4a7",
   "metadata": {
    "tags": []
   },
   "source": [
    "### 演示数据"
   ]
  },
  {
   "cell_type": "code",
   "execution_count": 2,
   "id": "5ff3889a",
   "metadata": {
    "execution": {
     "iopub.execute_input": "2021-08-24T03:36:24.682846Z",
     "iopub.status.busy": "2021-08-24T03:36:24.682846Z",
     "iopub.status.idle": "2021-08-24T03:36:24.698843Z",
     "shell.execute_reply": "2021-08-24T03:36:24.698843Z",
     "shell.execute_reply.started": "2021-08-24T03:36:24.682846Z"
    },
    "tags": []
   },
   "outputs": [
    {
     "data": {
      "text/html": [
       "<div>\n",
       "<style scoped>\n",
       "    .dataframe tbody tr th:only-of-type {\n",
       "        vertical-align: middle;\n",
       "    }\n",
       "\n",
       "    .dataframe tbody tr th {\n",
       "        vertical-align: top;\n",
       "    }\n",
       "\n",
       "    .dataframe thead th {\n",
       "        text-align: right;\n",
       "    }\n",
       "</style>\n",
       "<table border=\"1\" class=\"dataframe\">\n",
       "  <thead>\n",
       "    <tr style=\"text-align: right;\">\n",
       "      <th></th>\n",
       "      <th>dept</th>\n",
       "      <th>dept 1</th>\n",
       "      <th>name</th>\n",
       "      <th>销售额</th>\n",
       "      <th>时间</th>\n",
       "    </tr>\n",
       "  </thead>\n",
       "  <tbody>\n",
       "    <tr>\n",
       "      <th>0</th>\n",
       "      <td>部门1</td>\n",
       "      <td>小部门1</td>\n",
       "      <td>伍秀云</td>\n",
       "      <td>19565</td>\n",
       "      <td>2020-01-01</td>\n",
       "    </tr>\n",
       "    <tr>\n",
       "      <th>1</th>\n",
       "      <td>部门1</td>\n",
       "      <td>NaN</td>\n",
       "      <td>金晨</td>\n",
       "      <td>27108</td>\n",
       "      <td>2020-01-02</td>\n",
       "    </tr>\n",
       "    <tr>\n",
       "      <th>2</th>\n",
       "      <td>部门1</td>\n",
       "      <td>小部门2</td>\n",
       "      <td>李晶</td>\n",
       "      <td>73363</td>\n",
       "      <td>2020-01-03</td>\n",
       "    </tr>\n",
       "    <tr>\n",
       "      <th>3</th>\n",
       "      <td>部门1</td>\n",
       "      <td>小部门2</td>\n",
       "      <td>王丽</td>\n",
       "      <td>5410</td>\n",
       "      <td>2020-01-04</td>\n",
       "    </tr>\n",
       "    <tr>\n",
       "      <th>4</th>\n",
       "      <td>部门1</td>\n",
       "      <td>小部门2</td>\n",
       "      <td>陈桂芳</td>\n",
       "      <td>96968</td>\n",
       "      <td>2020-01-05</td>\n",
       "    </tr>\n",
       "    <tr>\n",
       "      <th>5</th>\n",
       "      <td>部门2</td>\n",
       "      <td>小部门3</td>\n",
       "      <td>杨兵</td>\n",
       "      <td>98158</td>\n",
       "      <td>2020-01-06</td>\n",
       "    </tr>\n",
       "    <tr>\n",
       "      <th>6</th>\n",
       "      <td>部门2</td>\n",
       "      <td>小部门4</td>\n",
       "      <td>邹志强</td>\n",
       "      <td>2365</td>\n",
       "      <td>2020-01-07</td>\n",
       "    </tr>\n",
       "    <tr>\n",
       "      <th>7</th>\n",
       "      <td>部门2</td>\n",
       "      <td>小部门4</td>\n",
       "      <td>夏佳</td>\n",
       "      <td>43175</td>\n",
       "      <td>2020-01-08</td>\n",
       "    </tr>\n",
       "    <tr>\n",
       "      <th>8</th>\n",
       "      <td>部门2</td>\n",
       "      <td>小部门4</td>\n",
       "      <td>吴建华</td>\n",
       "      <td>85795</td>\n",
       "      <td>2020-01-09</td>\n",
       "    </tr>\n",
       "    <tr>\n",
       "      <th>9</th>\n",
       "      <td>部门2</td>\n",
       "      <td>小部门4</td>\n",
       "      <td>蔡坤</td>\n",
       "      <td>32299</td>\n",
       "      <td>2020-01-10</td>\n",
       "    </tr>\n",
       "  </tbody>\n",
       "</table>\n",
       "</div>"
      ],
      "text/plain": [
       "  dept dept 1 name    销售额         时间\n",
       "0  部门1   小部门1  伍秀云  19565 2020-01-01\n",
       "1  部门1    NaN   金晨  27108 2020-01-02\n",
       "2  部门1   小部门2   李晶  73363 2020-01-03\n",
       "3  部门1   小部门2   王丽   5410 2020-01-04\n",
       "4  部门1   小部门2  陈桂芳  96968 2020-01-05\n",
       "5  部门2   小部门3   杨兵  98158 2020-01-06\n",
       "6  部门2   小部门4  邹志强   2365 2020-01-07\n",
       "7  部门2   小部门4   夏佳  43175 2020-01-08\n",
       "8  部门2   小部门4  吴建华  85795 2020-01-09\n",
       "9  部门2   小部门4   蔡坤  32299 2020-01-10"
      ]
     },
     "execution_count": 2,
     "metadata": {},
     "output_type": "execute_result"
    }
   ],
   "source": [
    "df # 随机生成的数据"
   ]
  },
  {
   "cell_type": "code",
   "execution_count": null,
   "id": "c369fc53-bc51-4a59-a267-3df19c9b56cd",
   "metadata": {
    "tags": []
   },
   "outputs": [],
   "source": [
    "df.quantile(axis=1,q=[.25,.5,.75],interpolation='nearest',numeric_only=False) #  axis 轴参数 "
   ]
  },
  {
   "cell_type": "code",
   "execution_count": 18,
   "id": "d0cb1871-37ee-4c5d-90df-a84ab33481ea",
   "metadata": {
    "execution": {
     "iopub.execute_input": "2021-08-24T03:48:23.198550Z",
     "iopub.status.busy": "2021-08-24T03:48:23.197554Z",
     "iopub.status.idle": "2021-08-24T03:48:23.212554Z",
     "shell.execute_reply": "2021-08-24T03:48:23.210602Z",
     "shell.execute_reply.started": "2021-08-24T03:48:23.198550Z"
    },
    "tags": []
   },
   "outputs": [
    {
     "data": {
      "text/html": [
       "<div>\n",
       "<style scoped>\n",
       "    .dataframe tbody tr th:only-of-type {\n",
       "        vertical-align: middle;\n",
       "    }\n",
       "\n",
       "    .dataframe tbody tr th {\n",
       "        vertical-align: top;\n",
       "    }\n",
       "\n",
       "    .dataframe thead th {\n",
       "        text-align: right;\n",
       "    }\n",
       "</style>\n",
       "<table border=\"1\" class=\"dataframe\">\n",
       "  <thead>\n",
       "    <tr style=\"text-align: right;\">\n",
       "      <th></th>\n",
       "      <th>dept</th>\n",
       "      <th>dept 1</th>\n",
       "      <th>name</th>\n",
       "      <th>销售额</th>\n",
       "      <th>时间</th>\n",
       "    </tr>\n",
       "  </thead>\n",
       "  <tbody>\n",
       "    <tr>\n",
       "      <th>0.25</th>\n",
       "      <td>部门1</td>\n",
       "      <td>小部门2</td>\n",
       "      <td>夏佳</td>\n",
       "      <td>19565</td>\n",
       "      <td>2020-01-03</td>\n",
       "    </tr>\n",
       "    <tr>\n",
       "      <th>0.50</th>\n",
       "      <td>部门1</td>\n",
       "      <td>小部门3</td>\n",
       "      <td>杨兵</td>\n",
       "      <td>32299</td>\n",
       "      <td>2020-01-05</td>\n",
       "    </tr>\n",
       "    <tr>\n",
       "      <th>0.75</th>\n",
       "      <td>部门2</td>\n",
       "      <td>小部门4</td>\n",
       "      <td>邹志强</td>\n",
       "      <td>85795</td>\n",
       "      <td>2020-01-08</td>\n",
       "    </tr>\n",
       "  </tbody>\n",
       "</table>\n",
       "</div>"
      ],
      "text/plain": [
       "     dept dept 1 name    销售额         时间\n",
       "0.25  部门1   小部门2   夏佳  19565 2020-01-03\n",
       "0.50  部门1   小部门3   杨兵  32299 2020-01-05\n",
       "0.75  部门2   小部门4  邹志强  85795 2020-01-08"
      ]
     },
     "execution_count": 18,
     "metadata": {},
     "output_type": "execute_result"
    }
   ],
   "source": [
    "df.quantile(q=[.25,.5,.75],interpolation='nearest',numeric_only=False) #  numeric_only 如果，False会计算 时间和时差类型数据"
   ]
  },
  {
   "cell_type": "code",
   "execution_count": 8,
   "id": "78135a4e-d870-4c5c-8c0f-e55191e883d6",
   "metadata": {
    "execution": {
     "iopub.execute_input": "2021-08-24T03:40:07.377821Z",
     "iopub.status.busy": "2021-08-24T03:40:07.377821Z",
     "iopub.status.idle": "2021-08-24T03:40:07.384826Z",
     "shell.execute_reply": "2021-08-24T03:40:07.383820Z",
     "shell.execute_reply.started": "2021-08-24T03:40:07.377821Z"
    },
    "tags": []
   },
   "outputs": [
    {
     "data": {
      "text/plain": [
       "count       10.000000\n",
       "mean     48420.600000\n",
       "std      37110.874385\n",
       "min       2365.000000\n",
       "25%      21450.750000\n",
       "50%      37737.000000\n",
       "75%      82687.000000\n",
       "max      98158.000000\n",
       "Name: 销售额, dtype: float64"
      ]
     },
     "execution_count": 8,
     "metadata": {},
     "output_type": "execute_result"
    }
   ],
   "source": [
    "df.销售额.describe()"
   ]
  },
  {
   "cell_type": "code",
   "execution_count": 12,
   "id": "fea912ed-161c-49c1-bee3-a72c671d7052",
   "metadata": {
    "execution": {
     "iopub.execute_input": "2021-08-24T03:43:02.584563Z",
     "iopub.status.busy": "2021-08-24T03:43:02.584563Z",
     "iopub.status.idle": "2021-08-24T03:43:02.589564Z",
     "shell.execute_reply": "2021-08-24T03:43:02.589564Z",
     "shell.execute_reply.started": "2021-08-24T03:43:02.584563Z"
    },
    "tags": []
   },
   "outputs": [
    {
     "data": {
      "text/plain": [
       "(1885, -5658)"
      ]
     },
     "execution_count": 12,
     "metadata": {},
     "output_type": "execute_result"
    }
   ],
   "source": [
    "21450-19565,21450-27108 "
   ]
  },
  {
   "cell_type": "code",
   "execution_count": 11,
   "id": "af045767-43e0-492c-9bc6-817809a63f4b",
   "metadata": {
    "execution": {
     "iopub.execute_input": "2021-08-24T03:42:24.328958Z",
     "iopub.status.busy": "2021-08-24T03:42:24.328958Z",
     "iopub.status.idle": "2021-08-24T03:42:24.339941Z",
     "shell.execute_reply": "2021-08-24T03:42:24.339941Z",
     "shell.execute_reply.started": "2021-08-24T03:42:24.328958Z"
    },
    "tags": []
   },
   "outputs": [
    {
     "data": {
      "text/html": [
       "<div>\n",
       "<style scoped>\n",
       "    .dataframe tbody tr th:only-of-type {\n",
       "        vertical-align: middle;\n",
       "    }\n",
       "\n",
       "    .dataframe tbody tr th {\n",
       "        vertical-align: top;\n",
       "    }\n",
       "\n",
       "    .dataframe thead th {\n",
       "        text-align: right;\n",
       "    }\n",
       "</style>\n",
       "<table border=\"1\" class=\"dataframe\">\n",
       "  <thead>\n",
       "    <tr style=\"text-align: right;\">\n",
       "      <th></th>\n",
       "      <th>销售额</th>\n",
       "    </tr>\n",
       "  </thead>\n",
       "  <tbody>\n",
       "    <tr>\n",
       "      <th>0.25</th>\n",
       "      <td>19565</td>\n",
       "    </tr>\n",
       "    <tr>\n",
       "      <th>0.50</th>\n",
       "      <td>32299</td>\n",
       "    </tr>\n",
       "    <tr>\n",
       "      <th>0.75</th>\n",
       "      <td>85795</td>\n",
       "    </tr>\n",
       "  </tbody>\n",
       "</table>\n",
       "</div>"
      ],
      "text/plain": [
       "        销售额\n",
       "0.25  19565\n",
       "0.50  32299\n",
       "0.75  85795"
      ]
     },
     "execution_count": 11,
     "metadata": {},
     "output_type": "execute_result"
    }
   ],
   "source": [
    "df.quantile(q=[.25,.5,.75],interpolation='nearest') # z最近的值"
   ]
  },
  {
   "cell_type": "code",
   "execution_count": 10,
   "id": "7031d813-8f8f-4ce3-b7a0-f06fdc9bbef6",
   "metadata": {
    "execution": {
     "iopub.execute_input": "2021-08-24T03:41:43.672941Z",
     "iopub.status.busy": "2021-08-24T03:41:43.671939Z",
     "iopub.status.idle": "2021-08-24T03:41:43.680950Z",
     "shell.execute_reply": "2021-08-24T03:41:43.679945Z",
     "shell.execute_reply.started": "2021-08-24T03:41:43.672941Z"
    },
    "tags": []
   },
   "outputs": [
    {
     "data": {
      "text/html": [
       "<div>\n",
       "<style scoped>\n",
       "    .dataframe tbody tr th:only-of-type {\n",
       "        vertical-align: middle;\n",
       "    }\n",
       "\n",
       "    .dataframe tbody tr th {\n",
       "        vertical-align: top;\n",
       "    }\n",
       "\n",
       "    .dataframe thead th {\n",
       "        text-align: right;\n",
       "    }\n",
       "</style>\n",
       "<table border=\"1\" class=\"dataframe\">\n",
       "  <thead>\n",
       "    <tr style=\"text-align: right;\">\n",
       "      <th></th>\n",
       "      <th>销售额</th>\n",
       "    </tr>\n",
       "  </thead>\n",
       "  <tbody>\n",
       "    <tr>\n",
       "      <th>0.25</th>\n",
       "      <td>23336.5</td>\n",
       "    </tr>\n",
       "    <tr>\n",
       "      <th>0.50</th>\n",
       "      <td>37737.0</td>\n",
       "    </tr>\n",
       "    <tr>\n",
       "      <th>0.75</th>\n",
       "      <td>79579.0</td>\n",
       "    </tr>\n",
       "  </tbody>\n",
       "</table>\n",
       "</div>"
      ],
      "text/plain": [
       "          销售额\n",
       "0.25  23336.5\n",
       "0.50  37737.0\n",
       "0.75  79579.0"
      ]
     },
     "execution_count": 10,
     "metadata": {},
     "output_type": "execute_result"
    }
   ],
   "source": [
    "df.quantile(q=[.25,.5,.75],interpolation='midpoint') # minpoint 最近的两个值的均值"
   ]
  },
  {
   "cell_type": "code",
   "execution_count": 9,
   "id": "de47a049-701e-495f-a066-385b9d0dac87",
   "metadata": {
    "execution": {
     "iopub.execute_input": "2021-08-24T03:41:02.761827Z",
     "iopub.status.busy": "2021-08-24T03:41:02.760820Z",
     "iopub.status.idle": "2021-08-24T03:41:02.776831Z",
     "shell.execute_reply": "2021-08-24T03:41:02.773827Z",
     "shell.execute_reply.started": "2021-08-24T03:41:02.761827Z"
    },
    "tags": []
   },
   "outputs": [
    {
     "data": {
      "text/html": [
       "<div>\n",
       "<style scoped>\n",
       "    .dataframe tbody tr th:only-of-type {\n",
       "        vertical-align: middle;\n",
       "    }\n",
       "\n",
       "    .dataframe tbody tr th {\n",
       "        vertical-align: top;\n",
       "    }\n",
       "\n",
       "    .dataframe thead th {\n",
       "        text-align: right;\n",
       "    }\n",
       "</style>\n",
       "<table border=\"1\" class=\"dataframe\">\n",
       "  <thead>\n",
       "    <tr style=\"text-align: right;\">\n",
       "      <th></th>\n",
       "      <th>销售额</th>\n",
       "    </tr>\n",
       "  </thead>\n",
       "  <tbody>\n",
       "    <tr>\n",
       "      <th>0.25</th>\n",
       "      <td>27108</td>\n",
       "    </tr>\n",
       "    <tr>\n",
       "      <th>0.50</th>\n",
       "      <td>43175</td>\n",
       "    </tr>\n",
       "    <tr>\n",
       "      <th>0.75</th>\n",
       "      <td>85795</td>\n",
       "    </tr>\n",
       "  </tbody>\n",
       "</table>\n",
       "</div>"
      ],
      "text/plain": [
       "        销售额\n",
       "0.25  27108\n",
       "0.50  43175\n",
       "0.75  85795"
      ]
     },
     "execution_count": 9,
     "metadata": {},
     "output_type": "execute_result"
    }
   ],
   "source": [
    "df.quantile(q=[.25,.5,.75],interpolation='higher') # 比它大的最近的"
   ]
  },
  {
   "cell_type": "code",
   "execution_count": 7,
   "id": "c43520f5-5f1b-458b-b9e2-09156a074fef",
   "metadata": {
    "execution": {
     "iopub.execute_input": "2021-08-24T03:39:18.254851Z",
     "iopub.status.busy": "2021-08-24T03:39:18.253822Z",
     "iopub.status.idle": "2021-08-24T03:39:18.261820Z",
     "shell.execute_reply": "2021-08-24T03:39:18.260849Z",
     "shell.execute_reply.started": "2021-08-24T03:39:18.254851Z"
    },
    "tags": []
   },
   "outputs": [
    {
     "data": {
      "text/html": [
       "<div>\n",
       "<style scoped>\n",
       "    .dataframe tbody tr th:only-of-type {\n",
       "        vertical-align: middle;\n",
       "    }\n",
       "\n",
       "    .dataframe tbody tr th {\n",
       "        vertical-align: top;\n",
       "    }\n",
       "\n",
       "    .dataframe thead th {\n",
       "        text-align: right;\n",
       "    }\n",
       "</style>\n",
       "<table border=\"1\" class=\"dataframe\">\n",
       "  <thead>\n",
       "    <tr style=\"text-align: right;\">\n",
       "      <th></th>\n",
       "      <th>销售额</th>\n",
       "    </tr>\n",
       "  </thead>\n",
       "  <tbody>\n",
       "    <tr>\n",
       "      <th>0.25</th>\n",
       "      <td>19565</td>\n",
       "    </tr>\n",
       "    <tr>\n",
       "      <th>0.50</th>\n",
       "      <td>32299</td>\n",
       "    </tr>\n",
       "    <tr>\n",
       "      <th>0.75</th>\n",
       "      <td>73363</td>\n",
       "    </tr>\n",
       "  </tbody>\n",
       "</table>\n",
       "</div>"
      ],
      "text/plain": [
       "        销售额\n",
       "0.25  19565\n",
       "0.50  32299\n",
       "0.75  73363"
      ]
     },
     "execution_count": 7,
     "metadata": {},
     "output_type": "execute_result"
    }
   ],
   "source": [
    "df.quantile(q=[.25,.5,.75],interpolation='lower') # 比它小的最近的"
   ]
  },
  {
   "cell_type": "code",
   "execution_count": 5,
   "id": "51f4694e-4b66-44ec-8b6e-e2818316e8c8",
   "metadata": {
    "execution": {
     "iopub.execute_input": "2021-08-24T03:38:17.352819Z",
     "iopub.status.busy": "2021-08-24T03:38:17.352819Z",
     "iopub.status.idle": "2021-08-24T03:38:17.365840Z",
     "shell.execute_reply": "2021-08-24T03:38:17.364824Z",
     "shell.execute_reply.started": "2021-08-24T03:38:17.352819Z"
    },
    "tags": []
   },
   "outputs": [
    {
     "data": {
      "text/html": [
       "<div>\n",
       "<style scoped>\n",
       "    .dataframe tbody tr th:only-of-type {\n",
       "        vertical-align: middle;\n",
       "    }\n",
       "\n",
       "    .dataframe tbody tr th {\n",
       "        vertical-align: top;\n",
       "    }\n",
       "\n",
       "    .dataframe thead th {\n",
       "        text-align: right;\n",
       "    }\n",
       "</style>\n",
       "<table border=\"1\" class=\"dataframe\">\n",
       "  <thead>\n",
       "    <tr style=\"text-align: right;\">\n",
       "      <th></th>\n",
       "      <th>销售额</th>\n",
       "    </tr>\n",
       "  </thead>\n",
       "  <tbody>\n",
       "    <tr>\n",
       "      <th>0.25</th>\n",
       "      <td>21450.75</td>\n",
       "    </tr>\n",
       "    <tr>\n",
       "      <th>0.50</th>\n",
       "      <td>37737.00</td>\n",
       "    </tr>\n",
       "    <tr>\n",
       "      <th>0.75</th>\n",
       "      <td>82687.00</td>\n",
       "    </tr>\n",
       "  </tbody>\n",
       "</table>\n",
       "</div>"
      ],
      "text/plain": [
       "           销售额\n",
       "0.25  21450.75\n",
       "0.50  37737.00\n",
       "0.75  82687.00"
      ]
     },
     "execution_count": 5,
     "metadata": {},
     "output_type": "execute_result"
    }
   ],
   "source": [
    "df.quantile(q=[.25,.5,.75]) # 返回对应的分位数的值"
   ]
  },
  {
   "cell_type": "code",
   "execution_count": 4,
   "id": "e3f6c9bb-5d23-42bc-9590-751ceb71241a",
   "metadata": {
    "execution": {
     "iopub.execute_input": "2021-08-24T03:37:12.630847Z",
     "iopub.status.busy": "2021-08-24T03:37:12.630847Z",
     "iopub.status.idle": "2021-08-24T03:37:12.638846Z",
     "shell.execute_reply": "2021-08-24T03:37:12.637847Z",
     "shell.execute_reply.started": "2021-08-24T03:37:12.630847Z"
    },
    "tags": []
   },
   "outputs": [
    {
     "data": {
      "text/plain": [
       "销售额    37737.0\n",
       "Name: 0.5, dtype: float64"
      ]
     },
     "execution_count": 4,
     "metadata": {},
     "output_type": "execute_result"
    }
   ],
   "source": [
    "df.quantile(q=0.5) # 返回对应的分位数的值"
   ]
  }
 ],
 "metadata": {
  "kernelspec": {
   "display_name": "Python 3 (ipykernel)",
   "language": "python",
   "name": "python3"
  },
  "language_info": {
   "codemirror_mode": {
    "name": "ipython",
    "version": 3
   },
   "file_extension": ".py",
   "mimetype": "text/x-python",
   "name": "python",
   "nbconvert_exporter": "python",
   "pygments_lexer": "ipython3",
   "version": "3.8.11"
  }
 },
 "nbformat": 4,
 "nbformat_minor": 5
}
