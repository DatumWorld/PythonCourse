{
 "cells": [
  {
   "cell_type": "markdown",
   "id": "fe95639a",
   "metadata": {
    "execution": {
     "iopub.execute_input": "2021-05-10T07:18:52.990449Z",
     "iopub.status.busy": "2021-05-10T07:18:52.990449Z",
     "iopub.status.idle": "2021-05-10T07:18:52.994464Z",
     "shell.execute_reply": "2021-05-10T07:18:52.993452Z",
     "shell.execute_reply.started": "2021-05-10T07:18:52.990449Z"
    }
   },
   "source": [
    "## 105 最大最小平均中位求和"
   ]
  },
  {
   "cell_type": "markdown",
   "id": "0ddac84a",
   "metadata": {
    "tags": []
   },
   "source": [
    "### max 最大 min 最小 mean 平均 median 中位数\n",
    "参数一致 axis=None, skipna=None, level=None, numeric_only=None, **kwargs\n",
    "### sum 求和\n",
    "参数多一个 min_count=0"
   ]
  },
  {
   "cell_type": "code",
   "execution_count": 1,
   "id": "5d61795b",
   "metadata": {
    "execution": {
     "iopub.execute_input": "2021-08-24T08:16:58.644692Z",
     "iopub.status.busy": "2021-08-24T08:16:58.644692Z",
     "iopub.status.idle": "2021-08-24T08:16:58.956726Z",
     "shell.execute_reply": "2021-08-24T08:16:58.956726Z",
     "shell.execute_reply.started": "2021-08-24T08:16:58.644692Z"
    },
    "tags": []
   },
   "outputs": [],
   "source": [
    "import numpy  as np\n",
    "import pandas as pd\n",
    "from faker import Faker\n",
    "\n",
    "fake = Faker('zh_CN')\n",
    "df=pd.DataFrame(data=[ [fake.name()] for x in range(10) ],columns=['name'])\n",
    "\n",
    "df['销售额']=np.random.randint(100,100000,size=(10, 1))\n",
    "df['时间']=pd.date_range(start='2020-01-01',periods=10,freq='D')\n",
    "df.insert(0,'dept',['部门1']*5+['部门2']*5)\n",
    "df.insert(1,'dept 1',['小部门1']*2+['小部门2']*3+['小部门3']*1+['小部门4']*4)\n",
    "df.iloc[1,3]=np.nan #  修改成nan"
   ]
  },
  {
   "cell_type": "markdown",
   "id": "cde7d4a7",
   "metadata": {
    "tags": []
   },
   "source": [
    "### 演示数据"
   ]
  },
  {
   "cell_type": "code",
   "execution_count": 2,
   "id": "5ff3889a",
   "metadata": {
    "execution": {
     "iopub.execute_input": "2021-08-24T08:16:58.957693Z",
     "iopub.status.busy": "2021-08-24T08:16:58.957693Z",
     "iopub.status.idle": "2021-08-24T08:16:58.972718Z",
     "shell.execute_reply": "2021-08-24T08:16:58.972718Z",
     "shell.execute_reply.started": "2021-08-24T08:16:58.957693Z"
    },
    "tags": []
   },
   "outputs": [
    {
     "data": {
      "text/html": [
       "<div>\n",
       "<style scoped>\n",
       "    .dataframe tbody tr th:only-of-type {\n",
       "        vertical-align: middle;\n",
       "    }\n",
       "\n",
       "    .dataframe tbody tr th {\n",
       "        vertical-align: top;\n",
       "    }\n",
       "\n",
       "    .dataframe thead th {\n",
       "        text-align: right;\n",
       "    }\n",
       "</style>\n",
       "<table border=\"1\" class=\"dataframe\">\n",
       "  <thead>\n",
       "    <tr style=\"text-align: right;\">\n",
       "      <th></th>\n",
       "      <th>dept</th>\n",
       "      <th>dept 1</th>\n",
       "      <th>name</th>\n",
       "      <th>销售额</th>\n",
       "      <th>时间</th>\n",
       "    </tr>\n",
       "  </thead>\n",
       "  <tbody>\n",
       "    <tr>\n",
       "      <th>0</th>\n",
       "      <td>部门1</td>\n",
       "      <td>小部门1</td>\n",
       "      <td>梁凤兰</td>\n",
       "      <td>23643.0</td>\n",
       "      <td>2020-01-01</td>\n",
       "    </tr>\n",
       "    <tr>\n",
       "      <th>1</th>\n",
       "      <td>部门1</td>\n",
       "      <td>小部门1</td>\n",
       "      <td>蔡萍</td>\n",
       "      <td>NaN</td>\n",
       "      <td>2020-01-02</td>\n",
       "    </tr>\n",
       "    <tr>\n",
       "      <th>2</th>\n",
       "      <td>部门1</td>\n",
       "      <td>小部门2</td>\n",
       "      <td>赵成</td>\n",
       "      <td>75702.0</td>\n",
       "      <td>2020-01-03</td>\n",
       "    </tr>\n",
       "    <tr>\n",
       "      <th>3</th>\n",
       "      <td>部门1</td>\n",
       "      <td>小部门2</td>\n",
       "      <td>徐莉</td>\n",
       "      <td>65898.0</td>\n",
       "      <td>2020-01-04</td>\n",
       "    </tr>\n",
       "    <tr>\n",
       "      <th>4</th>\n",
       "      <td>部门1</td>\n",
       "      <td>小部门2</td>\n",
       "      <td>李林</td>\n",
       "      <td>41013.0</td>\n",
       "      <td>2020-01-05</td>\n",
       "    </tr>\n",
       "    <tr>\n",
       "      <th>5</th>\n",
       "      <td>部门2</td>\n",
       "      <td>小部门3</td>\n",
       "      <td>陈桂荣</td>\n",
       "      <td>49587.0</td>\n",
       "      <td>2020-01-06</td>\n",
       "    </tr>\n",
       "    <tr>\n",
       "      <th>6</th>\n",
       "      <td>部门2</td>\n",
       "      <td>小部门4</td>\n",
       "      <td>杨冬梅</td>\n",
       "      <td>96819.0</td>\n",
       "      <td>2020-01-07</td>\n",
       "    </tr>\n",
       "    <tr>\n",
       "      <th>7</th>\n",
       "      <td>部门2</td>\n",
       "      <td>小部门4</td>\n",
       "      <td>欧阳春梅</td>\n",
       "      <td>19368.0</td>\n",
       "      <td>2020-01-08</td>\n",
       "    </tr>\n",
       "    <tr>\n",
       "      <th>8</th>\n",
       "      <td>部门2</td>\n",
       "      <td>小部门4</td>\n",
       "      <td>吴建平</td>\n",
       "      <td>5089.0</td>\n",
       "      <td>2020-01-09</td>\n",
       "    </tr>\n",
       "    <tr>\n",
       "      <th>9</th>\n",
       "      <td>部门2</td>\n",
       "      <td>小部门4</td>\n",
       "      <td>郝兵</td>\n",
       "      <td>91546.0</td>\n",
       "      <td>2020-01-10</td>\n",
       "    </tr>\n",
       "  </tbody>\n",
       "</table>\n",
       "</div>"
      ],
      "text/plain": [
       "  dept dept 1  name      销售额         时间\n",
       "0  部门1   小部门1   梁凤兰  23643.0 2020-01-01\n",
       "1  部门1   小部门1    蔡萍      NaN 2020-01-02\n",
       "2  部门1   小部门2    赵成  75702.0 2020-01-03\n",
       "3  部门1   小部门2    徐莉  65898.0 2020-01-04\n",
       "4  部门1   小部门2    李林  41013.0 2020-01-05\n",
       "5  部门2   小部门3   陈桂荣  49587.0 2020-01-06\n",
       "6  部门2   小部门4   杨冬梅  96819.0 2020-01-07\n",
       "7  部门2   小部门4  欧阳春梅  19368.0 2020-01-08\n",
       "8  部门2   小部门4   吴建平   5089.0 2020-01-09\n",
       "9  部门2   小部门4    郝兵  91546.0 2020-01-10"
      ]
     },
     "execution_count": 2,
     "metadata": {},
     "output_type": "execute_result"
    }
   ],
   "source": [
    "df # 随机生成的数据"
   ]
  },
  {
   "cell_type": "code",
   "execution_count": 22,
   "id": "a8de5139-0d83-4d00-a403-2270951759d7",
   "metadata": {
    "execution": {
     "iopub.execute_input": "2021-08-24T08:28:59.921482Z",
     "iopub.status.busy": "2021-08-24T08:28:59.921482Z",
     "iopub.status.idle": "2021-08-24T08:28:59.926480Z",
     "shell.execute_reply": "2021-08-24T08:28:59.926480Z",
     "shell.execute_reply.started": "2021-08-24T08:28:59.921482Z"
    },
    "tags": []
   },
   "outputs": [
    {
     "data": {
      "text/plain": [
       "(5089.0, 52073.88888888889, 49587.0)"
      ]
     },
     "execution_count": 22,
     "metadata": {},
     "output_type": "execute_result"
    }
   ],
   "source": [
    "df.销售额.min(),df.销售额.mean(),df.销售额.median() # 放在一起。参数用法类似，不再演示"
   ]
  },
  {
   "cell_type": "code",
   "execution_count": 19,
   "id": "6df2e285-80a0-4db9-a12d-edabc6624c9f",
   "metadata": {
    "execution": {
     "iopub.execute_input": "2021-08-24T08:27:46.362384Z",
     "iopub.status.busy": "2021-08-24T08:27:46.362384Z",
     "iopub.status.idle": "2021-08-24T08:27:46.367387Z",
     "shell.execute_reply": "2021-08-24T08:27:46.366385Z",
     "shell.execute_reply.started": "2021-08-24T08:27:46.362384Z"
    },
    "tags": []
   },
   "outputs": [
    {
     "data": {
      "text/plain": [
       "96819.0"
      ]
     },
     "execution_count": 19,
     "metadata": {},
     "output_type": "execute_result"
    }
   ],
   "source": [
    "df.销售额.max()"
   ]
  },
  {
   "cell_type": "code",
   "execution_count": 18,
   "id": "63234e14-c00c-490e-8535-2df1bf257264",
   "metadata": {
    "execution": {
     "iopub.execute_input": "2021-08-24T08:27:18.512378Z",
     "iopub.status.busy": "2021-08-24T08:27:18.511378Z",
     "iopub.status.idle": "2021-08-24T08:27:18.523381Z",
     "shell.execute_reply": "2021-08-24T08:27:18.522378Z",
     "shell.execute_reply.started": "2021-08-24T08:27:18.511378Z"
    },
    "tags": []
   },
   "outputs": [
    {
     "data": {
      "text/plain": [
       "dept                      部门2\n",
       "dept 1                   小部门4\n",
       "name                      陈桂荣\n",
       "销售额                   96819.0\n",
       "时间        2020-01-10 00:00:00\n",
       "dtype: object"
      ]
     },
     "execution_count": 18,
     "metadata": {},
     "output_type": "execute_result"
    }
   ],
   "source": [
    "df.max()"
   ]
  },
  {
   "cell_type": "code",
   "execution_count": 17,
   "id": "3ab1be66-2f01-415e-9ba6-7cd690327ee8",
   "metadata": {
    "execution": {
     "iopub.execute_input": "2021-08-24T08:25:50.103377Z",
     "iopub.status.busy": "2021-08-24T08:25:50.102396Z",
     "iopub.status.idle": "2021-08-24T08:25:50.112414Z",
     "shell.execute_reply": "2021-08-24T08:25:50.112414Z",
     "shell.execute_reply.started": "2021-08-24T08:25:50.103377Z"
    },
    "tags": []
   },
   "outputs": [
    {
     "data": {
      "text/plain": [
       "销售额    468665.0\n",
       "dtype: float64"
      ]
     },
     "execution_count": 17,
     "metadata": {},
     "output_type": "execute_result"
    }
   ],
   "source": [
    "df.sum(numeric_only= True,min_count=9) # min_count 如果 有效值 不够min_count个，返回nan"
   ]
  },
  {
   "cell_type": "code",
   "execution_count": 16,
   "id": "5f4a4dfd-6943-4c28-803e-fcfe3d0fff66",
   "metadata": {
    "execution": {
     "iopub.execute_input": "2021-08-24T08:25:36.745379Z",
     "iopub.status.busy": "2021-08-24T08:25:36.745379Z",
     "iopub.status.idle": "2021-08-24T08:25:36.753377Z",
     "shell.execute_reply": "2021-08-24T08:25:36.752399Z",
     "shell.execute_reply.started": "2021-08-24T08:25:36.745379Z"
    },
    "tags": []
   },
   "outputs": [
    {
     "data": {
      "text/plain": [
       "销售额   NaN\n",
       "dtype: float64"
      ]
     },
     "execution_count": 16,
     "metadata": {},
     "output_type": "execute_result"
    }
   ],
   "source": [
    "df.sum(numeric_only= True,min_count=10) # min_count 如果 有效值 不够min_count个，返回nan"
   ]
  },
  {
   "cell_type": "code",
   "execution_count": 14,
   "id": "1fe65cf8-9c72-4a15-b102-d3e65c7732d8",
   "metadata": {
    "execution": {
     "iopub.execute_input": "2021-08-24T08:24:17.199376Z",
     "iopub.status.busy": "2021-08-24T08:24:17.199376Z",
     "iopub.status.idle": "2021-08-24T08:24:17.205379Z",
     "shell.execute_reply": "2021-08-24T08:24:17.205379Z",
     "shell.execute_reply.started": "2021-08-24T08:24:17.199376Z"
    },
    "tags": []
   },
   "outputs": [
    {
     "data": {
      "text/plain": [
       "销售额    468665.0\n",
       "dtype: float64"
      ]
     },
     "execution_count": 14,
     "metadata": {},
     "output_type": "execute_result"
    }
   ],
   "source": [
    "df.sum(numeric_only= True) # numeric_only  是否仅仅计算数字类型列 float int bool"
   ]
  },
  {
   "cell_type": "code",
   "execution_count": 12,
   "id": "b265532b-37d6-4c76-acb3-b5776e067833",
   "metadata": {
    "execution": {
     "iopub.execute_input": "2021-08-24T08:22:35.384737Z",
     "iopub.status.busy": "2021-08-24T08:22:35.384737Z",
     "iopub.status.idle": "2021-08-24T08:22:35.396723Z",
     "shell.execute_reply": "2021-08-24T08:22:35.395723Z",
     "shell.execute_reply.started": "2021-08-24T08:22:35.384737Z"
    },
    "tags": []
   },
   "outputs": [
    {
     "data": {
      "text/plain": [
       "dept  dept 1\n",
       "部门1   小部门1       23643.0\n",
       "      小部门2      182613.0\n",
       "部门2   小部门3       49587.0\n",
       "      小部门4      212822.0\n",
       "Name: 销售额, dtype: float64"
      ]
     },
     "execution_count": 12,
     "metadata": {},
     "output_type": "execute_result"
    }
   ],
   "source": [
    "df.groupby(['dept','dept 1']).销售额.sum() # 和level对照"
   ]
  },
  {
   "cell_type": "code",
   "execution_count": 10,
   "id": "64bab6b0-4142-4408-8334-90453ba67a9a",
   "metadata": {
    "execution": {
     "iopub.execute_input": "2021-08-24T08:22:05.742004Z",
     "iopub.status.busy": "2021-08-24T08:22:05.742004Z",
     "iopub.status.idle": "2021-08-24T08:22:05.755005Z",
     "shell.execute_reply": "2021-08-24T08:22:05.754010Z",
     "shell.execute_reply.started": "2021-08-24T08:22:05.742004Z"
    },
    "tags": []
   },
   "outputs": [
    {
     "data": {
      "text/plain": [
       "dept 1\n",
       "小部门1     23643.0\n",
       "小部门2    182613.0\n",
       "小部门3     49587.0\n",
       "小部门4    212822.0\n",
       "Name: 销售额, dtype: float64"
      ]
     },
     "execution_count": 10,
     "metadata": {},
     "output_type": "execute_result"
    }
   ],
   "source": [
    "df.set_index(['dept','dept 1']).销售额.sum(level='dept 1') # level 多索引指定层级"
   ]
  },
  {
   "cell_type": "code",
   "execution_count": 9,
   "id": "bb30e4fd-c57f-4d96-acd8-dca682cb8386",
   "metadata": {
    "execution": {
     "iopub.execute_input": "2021-08-24T08:21:44.521008Z",
     "iopub.status.busy": "2021-08-24T08:21:44.521008Z",
     "iopub.status.idle": "2021-08-24T08:21:44.530007Z",
     "shell.execute_reply": "2021-08-24T08:21:44.529008Z",
     "shell.execute_reply.started": "2021-08-24T08:21:44.521008Z"
    },
    "tags": []
   },
   "outputs": [
    {
     "data": {
      "text/plain": [
       "dept\n",
       "部门1    206256.0\n",
       "部门2    262409.0\n",
       "Name: 销售额, dtype: float64"
      ]
     },
     "execution_count": 9,
     "metadata": {},
     "output_type": "execute_result"
    }
   ],
   "source": [
    "df.set_index(['dept','dept 1']).销售额.sum(level=0)  # level 多索引指定层级"
   ]
  },
  {
   "cell_type": "code",
   "execution_count": 6,
   "id": "cd7fe52c-44cf-4a1f-9faa-c2b506f1dd1e",
   "metadata": {
    "execution": {
     "iopub.execute_input": "2021-08-24T08:20:25.665004Z",
     "iopub.status.busy": "2021-08-24T08:20:25.665004Z",
     "iopub.status.idle": "2021-08-24T08:20:25.671021Z",
     "shell.execute_reply": "2021-08-24T08:20:25.670009Z",
     "shell.execute_reply.started": "2021-08-24T08:20:25.665004Z"
    },
    "tags": []
   },
   "outputs": [
    {
     "data": {
      "text/plain": [
       "nan"
      ]
     },
     "execution_count": 6,
     "metadata": {},
     "output_type": "execute_result"
    }
   ],
   "source": [
    "df.销售额.sum(skipna=False) # skipna 是否排除nan"
   ]
  },
  {
   "cell_type": "code",
   "execution_count": 3,
   "id": "e3ca6338-f4e5-4bc5-a84d-8f9aa6653e88",
   "metadata": {
    "execution": {
     "iopub.execute_input": "2021-08-24T08:18:08.710692Z",
     "iopub.status.busy": "2021-08-24T08:18:08.709692Z",
     "iopub.status.idle": "2021-08-24T08:18:08.717746Z",
     "shell.execute_reply": "2021-08-24T08:18:08.716692Z",
     "shell.execute_reply.started": "2021-08-24T08:18:08.710692Z"
    },
    "tags": []
   },
   "outputs": [
    {
     "data": {
      "text/plain": [
       "dept                部门1部门1部门1部门1部门1部门2部门2部门2部门2部门2\n",
       "dept 1    小部门1小部门1小部门2小部门2小部门2小部门3小部门4小部门4小部门4小部门4\n",
       "name                    梁凤兰蔡萍赵成徐莉李林陈桂荣杨冬梅欧阳春梅吴建平郝兵\n",
       "销售额                                       468665.0\n",
       "dtype: object"
      ]
     },
     "execution_count": 3,
     "metadata": {},
     "output_type": "execute_result"
    }
   ],
   "source": [
    "df.sum() # sum 的用法 "
   ]
  },
  {
   "cell_type": "code",
   "execution_count": 4,
   "id": "d1850d2a-64ae-4d30-9b40-76a457c88057",
   "metadata": {
    "execution": {
     "iopub.execute_input": "2021-08-24T08:19:19.023422Z",
     "iopub.status.busy": "2021-08-24T08:19:19.022439Z",
     "iopub.status.idle": "2021-08-24T08:19:19.026419Z",
     "shell.execute_reply": "2021-08-24T08:19:19.026419Z",
     "shell.execute_reply.started": "2021-08-24T08:19:19.023422Z"
    },
    "tags": []
   },
   "outputs": [
    {
     "data": {
      "text/plain": [
       "468665.0"
      ]
     },
     "execution_count": 4,
     "metadata": {},
     "output_type": "execute_result"
    }
   ],
   "source": [
    "df.销售额.sum() # 销售额总和"
   ]
  }
 ],
 "metadata": {
  "kernelspec": {
   "display_name": "Python 3 (ipykernel)",
   "language": "python",
   "name": "python3"
  },
  "language_info": {
   "codemirror_mode": {
    "name": "ipython",
    "version": 3
   },
   "file_extension": ".py",
   "mimetype": "text/x-python",
   "name": "python",
   "nbconvert_exporter": "python",
   "pygments_lexer": "ipython3",
   "version": "3.8.11"
  }
 },
 "nbformat": 4,
 "nbformat_minor": 5
}
