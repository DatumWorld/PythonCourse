{
 "cells": [
  {
   "cell_type": "markdown",
   "id": "9f986fb6",
   "metadata": {
    "execution": {
     "iopub.execute_input": "2021-05-10T07:18:52.990449Z",
     "iopub.status.busy": "2021-05-10T07:18:52.990449Z",
     "iopub.status.idle": "2021-05-10T07:18:52.994464Z",
     "shell.execute_reply": "2021-05-10T07:18:52.993452Z",
     "shell.execute_reply.started": "2021-05-10T07:18:52.990449Z"
    }
   },
   "source": [
    "## 106 统计不同元素个数"
   ]
  },
  {
   "cell_type": "markdown",
   "id": "36a8b478",
   "metadata": {
    "heading_collapsed": "true",
    "tags": []
   },
   "source": [
    "### unique 返回不同元素 \n",
    "### nunique 返回不同元素的个数\n",
    "参数 axis=0, dropna=True\n",
    "### value_counts 返回不同元素的个数\n",
    "参数 subset=None, normalize=False, sort=True, ascending=False"
   ]
  },
  {
   "cell_type": "code",
   "execution_count": 1,
   "id": "a10885c5",
   "metadata": {
    "execution": {
     "iopub.execute_input": "2021-08-24T12:00:14.343372Z",
     "iopub.status.busy": "2021-08-24T12:00:14.343088Z",
     "iopub.status.idle": "2021-08-24T12:00:14.663084Z",
     "shell.execute_reply": "2021-08-24T12:00:14.661956Z",
     "shell.execute_reply.started": "2021-08-24T12:00:14.343329Z"
    },
    "tags": []
   },
   "outputs": [],
   "source": [
    "import numpy  as np\n",
    "import pandas as pd\n",
    "from faker import Faker\n",
    "\n",
    "fake = Faker('zh_CN')\n",
    "df=pd.DataFrame(data=[ [fake.name()] for x in range(10) ],columns=['name'])\n",
    "\n",
    "df['销售额']=np.random.randint(100,100000,size=(10, 1))\n",
    "df['时间']=pd.date_range(start='2020-01-01',periods=10,freq='D')\n",
    "df.insert(0,'dept',['部门1']*5+['部门2']*5)\n",
    "df.insert(1,'dept 1',['小部门1']*2+['小部门2']*3+['小部门3']*1+['小部门4']*4)\n",
    "df.iloc[1,3]=np.nan #  修改成nan"
   ]
  },
  {
   "cell_type": "markdown",
   "id": "4cfbc919",
   "metadata": {
    "tags": []
   },
   "source": [
    "### 演示数据"
   ]
  },
  {
   "cell_type": "code",
   "execution_count": 2,
   "id": "ddb397eb",
   "metadata": {
    "execution": {
     "iopub.execute_input": "2021-08-24T12:00:14.667216Z",
     "iopub.status.busy": "2021-08-24T12:00:14.666949Z",
     "iopub.status.idle": "2021-08-24T12:00:14.694834Z",
     "shell.execute_reply": "2021-08-24T12:00:14.694101Z",
     "shell.execute_reply.started": "2021-08-24T12:00:14.667186Z"
    },
    "tags": []
   },
   "outputs": [
    {
     "data": {
      "text/html": [
       "<div>\n",
       "<style scoped>\n",
       "    .dataframe tbody tr th:only-of-type {\n",
       "        vertical-align: middle;\n",
       "    }\n",
       "\n",
       "    .dataframe tbody tr th {\n",
       "        vertical-align: top;\n",
       "    }\n",
       "\n",
       "    .dataframe thead th {\n",
       "        text-align: right;\n",
       "    }\n",
       "</style>\n",
       "<table border=\"1\" class=\"dataframe\">\n",
       "  <thead>\n",
       "    <tr style=\"text-align: right;\">\n",
       "      <th></th>\n",
       "      <th>dept</th>\n",
       "      <th>dept 1</th>\n",
       "      <th>name</th>\n",
       "      <th>销售额</th>\n",
       "      <th>时间</th>\n",
       "    </tr>\n",
       "  </thead>\n",
       "  <tbody>\n",
       "    <tr>\n",
       "      <th>0</th>\n",
       "      <td>部门1</td>\n",
       "      <td>小部门1</td>\n",
       "      <td>王淑珍</td>\n",
       "      <td>56964.0</td>\n",
       "      <td>2020-01-01</td>\n",
       "    </tr>\n",
       "    <tr>\n",
       "      <th>1</th>\n",
       "      <td>部门1</td>\n",
       "      <td>小部门1</td>\n",
       "      <td>孙云</td>\n",
       "      <td>NaN</td>\n",
       "      <td>2020-01-02</td>\n",
       "    </tr>\n",
       "    <tr>\n",
       "      <th>2</th>\n",
       "      <td>部门1</td>\n",
       "      <td>小部门2</td>\n",
       "      <td>张建华</td>\n",
       "      <td>34873.0</td>\n",
       "      <td>2020-01-03</td>\n",
       "    </tr>\n",
       "    <tr>\n",
       "      <th>3</th>\n",
       "      <td>部门1</td>\n",
       "      <td>小部门2</td>\n",
       "      <td>杨红</td>\n",
       "      <td>24140.0</td>\n",
       "      <td>2020-01-04</td>\n",
       "    </tr>\n",
       "    <tr>\n",
       "      <th>4</th>\n",
       "      <td>部门1</td>\n",
       "      <td>小部门2</td>\n",
       "      <td>陈阳</td>\n",
       "      <td>37500.0</td>\n",
       "      <td>2020-01-05</td>\n",
       "    </tr>\n",
       "    <tr>\n",
       "      <th>5</th>\n",
       "      <td>部门2</td>\n",
       "      <td>小部门3</td>\n",
       "      <td>杨超</td>\n",
       "      <td>30003.0</td>\n",
       "      <td>2020-01-06</td>\n",
       "    </tr>\n",
       "    <tr>\n",
       "      <th>6</th>\n",
       "      <td>部门2</td>\n",
       "      <td>小部门4</td>\n",
       "      <td>王丽丽</td>\n",
       "      <td>21058.0</td>\n",
       "      <td>2020-01-07</td>\n",
       "    </tr>\n",
       "    <tr>\n",
       "      <th>7</th>\n",
       "      <td>部门2</td>\n",
       "      <td>小部门4</td>\n",
       "      <td>张倩</td>\n",
       "      <td>2620.0</td>\n",
       "      <td>2020-01-08</td>\n",
       "    </tr>\n",
       "    <tr>\n",
       "      <th>8</th>\n",
       "      <td>部门2</td>\n",
       "      <td>小部门4</td>\n",
       "      <td>乔荣</td>\n",
       "      <td>95599.0</td>\n",
       "      <td>2020-01-09</td>\n",
       "    </tr>\n",
       "    <tr>\n",
       "      <th>9</th>\n",
       "      <td>部门2</td>\n",
       "      <td>小部门4</td>\n",
       "      <td>曾浩</td>\n",
       "      <td>39327.0</td>\n",
       "      <td>2020-01-10</td>\n",
       "    </tr>\n",
       "  </tbody>\n",
       "</table>\n",
       "</div>"
      ],
      "text/plain": [
       "  dept dept 1 name      销售额         时间\n",
       "0  部门1   小部门1  王淑珍  56964.0 2020-01-01\n",
       "1  部门1   小部门1   孙云      NaN 2020-01-02\n",
       "2  部门1   小部门2  张建华  34873.0 2020-01-03\n",
       "3  部门1   小部门2   杨红  24140.0 2020-01-04\n",
       "4  部门1   小部门2   陈阳  37500.0 2020-01-05\n",
       "5  部门2   小部门3   杨超  30003.0 2020-01-06\n",
       "6  部门2   小部门4  王丽丽  21058.0 2020-01-07\n",
       "7  部门2   小部门4   张倩   2620.0 2020-01-08\n",
       "8  部门2   小部门4   乔荣  95599.0 2020-01-09\n",
       "9  部门2   小部门4   曾浩  39327.0 2020-01-10"
      ]
     },
     "execution_count": 2,
     "metadata": {},
     "output_type": "execute_result"
    }
   ],
   "source": [
    "df # 随机生成的数据"
   ]
  },
  {
   "cell_type": "code",
   "execution_count": 27,
   "id": "c8b42575",
   "metadata": {
    "execution": {
     "iopub.execute_input": "2021-08-24T12:13:30.375681Z",
     "iopub.status.busy": "2021-08-24T12:13:30.375262Z",
     "iopub.status.idle": "2021-08-24T12:13:30.383642Z",
     "shell.execute_reply": "2021-08-24T12:13:30.382978Z",
     "shell.execute_reply.started": "2021-08-24T12:13:30.375637Z"
    }
   },
   "outputs": [
    {
     "data": {
      "text/plain": [
       "dept 1\n",
       "小部门3      0.1\n",
       "小部门1      0.2\n",
       "小部门2      0.3\n",
       "小部门4      0.4\n",
       "dtype: float64"
      ]
     },
     "execution_count": 27,
     "metadata": {},
     "output_type": "execute_result"
    }
   ],
   "source": [
    "df.value_counts(subset=['dept 1'],normalize=True,ascending=True) # ascending 升序"
   ]
  },
  {
   "cell_type": "code",
   "execution_count": 25,
   "id": "2ff99275",
   "metadata": {
    "execution": {
     "iopub.execute_input": "2021-08-24T12:12:27.172996Z",
     "iopub.status.busy": "2021-08-24T12:12:27.172580Z",
     "iopub.status.idle": "2021-08-24T12:12:27.183122Z",
     "shell.execute_reply": "2021-08-24T12:12:27.182141Z",
     "shell.execute_reply.started": "2021-08-24T12:12:27.172963Z"
    }
   },
   "outputs": [
    {
     "data": {
      "text/plain": [
       "dept 1\n",
       "小部门1      0.2\n",
       "小部门2      0.3\n",
       "小部门3      0.1\n",
       "小部门4      0.4\n",
       "dtype: float64"
      ]
     },
     "execution_count": 25,
     "metadata": {},
     "output_type": "execute_result"
    }
   ],
   "source": [
    "df.value_counts(subset=['dept 1'],normalize=True,sort=False) # sort 不排序"
   ]
  },
  {
   "cell_type": "code",
   "execution_count": 24,
   "id": "bc0e37cb",
   "metadata": {
    "execution": {
     "iopub.execute_input": "2021-08-24T12:12:10.019437Z",
     "iopub.status.busy": "2021-08-24T12:12:10.019040Z",
     "iopub.status.idle": "2021-08-24T12:12:10.031370Z",
     "shell.execute_reply": "2021-08-24T12:12:10.030400Z",
     "shell.execute_reply.started": "2021-08-24T12:12:10.019402Z"
    }
   },
   "outputs": [
    {
     "data": {
      "text/plain": [
       "dept 1\n",
       "小部门4      0.4\n",
       "小部门2      0.3\n",
       "小部门1      0.2\n",
       "小部门3      0.1\n",
       "dtype: float64"
      ]
     },
     "execution_count": 24,
     "metadata": {},
     "output_type": "execute_result"
    }
   ],
   "source": [
    "df.value_counts(subset=['dept 1'],normalize=True,sort=True) # sort 降序"
   ]
  },
  {
   "cell_type": "code",
   "execution_count": 16,
   "id": "9a9c0eb4",
   "metadata": {
    "execution": {
     "iopub.execute_input": "2021-08-24T12:10:20.821463Z",
     "iopub.status.busy": "2021-08-24T12:10:20.821192Z",
     "iopub.status.idle": "2021-08-24T12:10:20.844974Z",
     "shell.execute_reply": "2021-08-24T12:10:20.843870Z",
     "shell.execute_reply.started": "2021-08-24T12:10:20.821440Z"
    }
   },
   "outputs": [
    {
     "data": {
      "text/plain": [
       "销售额      时间        \n",
       "2620.0   2020-01-08    0.111111\n",
       "21058.0  2020-01-07    0.111111\n",
       "24140.0  2020-01-04    0.111111\n",
       "30003.0  2020-01-06    0.111111\n",
       "34873.0  2020-01-03    0.111111\n",
       "37500.0  2020-01-05    0.111111\n",
       "39327.0  2020-01-10    0.111111\n",
       "56964.0  2020-01-01    0.111111\n",
       "95599.0  2020-01-09    0.111111\n",
       "dtype: float64"
      ]
     },
     "execution_count": 16,
     "metadata": {},
     "output_type": "execute_result"
    }
   ],
   "source": [
    "df.value_counts(subset=['销售额','时间'],normalize=True) # normalize 类似每个元素个数的占比"
   ]
  },
  {
   "cell_type": "code",
   "execution_count": 15,
   "id": "f6dba380",
   "metadata": {
    "execution": {
     "iopub.execute_input": "2021-08-24T12:09:39.940995Z",
     "iopub.status.busy": "2021-08-24T12:09:39.940597Z",
     "iopub.status.idle": "2021-08-24T12:09:39.952710Z",
     "shell.execute_reply": "2021-08-24T12:09:39.951793Z",
     "shell.execute_reply.started": "2021-08-24T12:09:39.940963Z"
    }
   },
   "outputs": [
    {
     "data": {
      "text/plain": [
       "销售额      时间        \n",
       "2620.0   2020-01-08    1\n",
       "21058.0  2020-01-07    1\n",
       "24140.0  2020-01-04    1\n",
       "30003.0  2020-01-06    1\n",
       "34873.0  2020-01-03    1\n",
       "37500.0  2020-01-05    1\n",
       "39327.0  2020-01-10    1\n",
       "56964.0  2020-01-01    1\n",
       "95599.0  2020-01-09    1\n",
       "dtype: int64"
      ]
     },
     "execution_count": 15,
     "metadata": {},
     "output_type": "execute_result"
    }
   ],
   "source": [
    "df.value_counts(subset=['销售额','时间']) # subset 限定子集列"
   ]
  },
  {
   "cell_type": "code",
   "execution_count": 13,
   "id": "5a64dd0e",
   "metadata": {
    "execution": {
     "iopub.execute_input": "2021-08-24T12:07:52.081697Z",
     "iopub.status.busy": "2021-08-24T12:07:52.081327Z",
     "iopub.status.idle": "2021-08-24T12:07:52.089584Z",
     "shell.execute_reply": "2021-08-24T12:07:52.088885Z",
     "shell.execute_reply.started": "2021-08-24T12:07:52.081669Z"
    }
   },
   "outputs": [
    {
     "data": {
      "text/plain": [
       "2620.0     1\n",
       "37500.0    1\n",
       "21058.0    1\n",
       "24140.0    1\n",
       "34873.0    1\n",
       "30003.0    1\n",
       "39327.0    1\n",
       "56964.0    1\n",
       "95599.0    1\n",
       "Name: 销售额, dtype: int64"
      ]
     },
     "execution_count": 13,
     "metadata": {},
     "output_type": "execute_result"
    }
   ],
   "source": [
    "df.销售额.value_counts() # 统计不同值的个数"
   ]
  },
  {
   "cell_type": "code",
   "execution_count": 12,
   "id": "f46846c9",
   "metadata": {
    "execution": {
     "iopub.execute_input": "2021-08-24T12:07:06.274178Z",
     "iopub.status.busy": "2021-08-24T12:07:06.273794Z",
     "iopub.status.idle": "2021-08-24T12:07:06.289603Z",
     "shell.execute_reply": "2021-08-24T12:07:06.288246Z",
     "shell.execute_reply.started": "2021-08-24T12:07:06.274150Z"
    }
   },
   "outputs": [
    {
     "data": {
      "text/plain": [
       "dept  dept 1  name  销售额      时间        \n",
       "部门1   小部门1    王淑珍   56964.0  2020-01-01    1\n",
       "      小部门2    张建华   34873.0  2020-01-03    1\n",
       "              杨红    24140.0  2020-01-04    1\n",
       "              陈阳    37500.0  2020-01-05    1\n",
       "部门2   小部门3    杨超    30003.0  2020-01-06    1\n",
       "      小部门4    乔荣    95599.0  2020-01-09    1\n",
       "              张倩    2620.0   2020-01-08    1\n",
       "              曾浩    39327.0  2020-01-10    1\n",
       "              王丽丽   21058.0  2020-01-07    1\n",
       "dtype: int64"
      ]
     },
     "execution_count": 12,
     "metadata": {},
     "output_type": "execute_result"
    }
   ],
   "source": [
    "df.value_counts()  # 统计不同值的个数"
   ]
  },
  {
   "cell_type": "code",
   "execution_count": 11,
   "id": "50c128e4",
   "metadata": {
    "execution": {
     "iopub.execute_input": "2021-08-24T12:06:15.480194Z",
     "iopub.status.busy": "2021-08-24T12:06:15.479745Z",
     "iopub.status.idle": "2021-08-24T12:06:15.488135Z",
     "shell.execute_reply": "2021-08-24T12:06:15.487478Z",
     "shell.execute_reply.started": "2021-08-24T12:06:15.480160Z"
    }
   },
   "outputs": [
    {
     "data": {
      "text/plain": [
       "dept       2\n",
       "dept 1     4\n",
       "name      10\n",
       "销售额       10\n",
       "时间        10\n",
       "dtype: int64"
      ]
     },
     "execution_count": 11,
     "metadata": {},
     "output_type": "execute_result"
    }
   ],
   "source": [
    "df.nunique(dropna=False) # 返回各个列中不同元素的个数。dropna 是否统计nan"
   ]
  },
  {
   "cell_type": "code",
   "execution_count": 9,
   "id": "7253cbd3",
   "metadata": {
    "execution": {
     "iopub.execute_input": "2021-08-24T12:04:51.955613Z",
     "iopub.status.busy": "2021-08-24T12:04:51.955150Z",
     "iopub.status.idle": "2021-08-24T12:04:52.017818Z",
     "shell.execute_reply": "2021-08-24T12:04:52.016123Z",
     "shell.execute_reply.started": "2021-08-24T12:04:51.955575Z"
    }
   },
   "outputs": [
    {
     "ename": "AttributeError",
     "evalue": "'DataFrame' object has no attribute 'unique'",
     "output_type": "error",
     "traceback": [
      "\u001b[0;31m---------------------------------------------------------------------------\u001b[0m",
      "\u001b[0;31mAttributeError\u001b[0m                            Traceback (most recent call last)",
      "\u001b[0;32m<ipython-input-9-84bc62f43960>\u001b[0m in \u001b[0;36m<module>\u001b[0;34m\u001b[0m\n\u001b[0;32m----> 1\u001b[0;31m \u001b[0mdf\u001b[0m\u001b[0;34m.\u001b[0m\u001b[0munique\u001b[0m\u001b[0;34m(\u001b[0m\u001b[0;34m)\u001b[0m\u001b[0;34m\u001b[0m\u001b[0;34m\u001b[0m\u001b[0m\n\u001b[0m",
      "\u001b[0;32m/app/miniconda3/envs/jupyter/lib/python3.8/site-packages/pandas/core/generic.py\u001b[0m in \u001b[0;36m__getattr__\u001b[0;34m(self, name)\u001b[0m\n\u001b[1;32m   5463\u001b[0m             \u001b[0;32mif\u001b[0m \u001b[0mself\u001b[0m\u001b[0;34m.\u001b[0m\u001b[0m_info_axis\u001b[0m\u001b[0;34m.\u001b[0m\u001b[0m_can_hold_identifiers_and_holds_name\u001b[0m\u001b[0;34m(\u001b[0m\u001b[0mname\u001b[0m\u001b[0;34m)\u001b[0m\u001b[0;34m:\u001b[0m\u001b[0;34m\u001b[0m\u001b[0;34m\u001b[0m\u001b[0m\n\u001b[1;32m   5464\u001b[0m                 \u001b[0;32mreturn\u001b[0m \u001b[0mself\u001b[0m\u001b[0;34m[\u001b[0m\u001b[0mname\u001b[0m\u001b[0;34m]\u001b[0m\u001b[0;34m\u001b[0m\u001b[0;34m\u001b[0m\u001b[0m\n\u001b[0;32m-> 5465\u001b[0;31m             \u001b[0;32mreturn\u001b[0m \u001b[0mobject\u001b[0m\u001b[0;34m.\u001b[0m\u001b[0m__getattribute__\u001b[0m\u001b[0;34m(\u001b[0m\u001b[0mself\u001b[0m\u001b[0;34m,\u001b[0m \u001b[0mname\u001b[0m\u001b[0;34m)\u001b[0m\u001b[0;34m\u001b[0m\u001b[0;34m\u001b[0m\u001b[0m\n\u001b[0m\u001b[1;32m   5466\u001b[0m \u001b[0;34m\u001b[0m\u001b[0m\n\u001b[1;32m   5467\u001b[0m     \u001b[0;32mdef\u001b[0m \u001b[0m__setattr__\u001b[0m\u001b[0;34m(\u001b[0m\u001b[0mself\u001b[0m\u001b[0;34m,\u001b[0m \u001b[0mname\u001b[0m\u001b[0;34m:\u001b[0m \u001b[0mstr\u001b[0m\u001b[0;34m,\u001b[0m \u001b[0mvalue\u001b[0m\u001b[0;34m)\u001b[0m \u001b[0;34m->\u001b[0m \u001b[0;32mNone\u001b[0m\u001b[0;34m:\u001b[0m\u001b[0;34m\u001b[0m\u001b[0;34m\u001b[0m\u001b[0m\n",
      "\u001b[0;31mAttributeError\u001b[0m: 'DataFrame' object has no attribute 'unique'"
     ]
    }
   ],
   "source": [
    "df.unique() # df上不能使用"
   ]
  },
  {
   "cell_type": "code",
   "execution_count": 8,
   "id": "69023075",
   "metadata": {
    "execution": {
     "iopub.execute_input": "2021-08-24T12:04:12.126941Z",
     "iopub.status.busy": "2021-08-24T12:04:12.126551Z",
     "iopub.status.idle": "2021-08-24T12:04:12.138582Z",
     "shell.execute_reply": "2021-08-24T12:04:12.137614Z",
     "shell.execute_reply.started": "2021-08-24T12:04:12.126908Z"
    }
   },
   "outputs": [
    {
     "data": {
      "text/plain": [
       "dept       2\n",
       "dept 1     4\n",
       "name      10\n",
       "销售额        9\n",
       "时间        10\n",
       "dtype: int64"
      ]
     },
     "execution_count": 8,
     "metadata": {},
     "output_type": "execute_result"
    }
   ],
   "source": [
    "df.nunique() # 返回各个列中不同元素的个数"
   ]
  },
  {
   "cell_type": "code",
   "execution_count": 7,
   "id": "d05647cb",
   "metadata": {
    "execution": {
     "iopub.execute_input": "2021-08-24T12:03:43.780831Z",
     "iopub.status.busy": "2021-08-24T12:03:43.780367Z",
     "iopub.status.idle": "2021-08-24T12:03:43.786693Z",
     "shell.execute_reply": "2021-08-24T12:03:43.785564Z",
     "shell.execute_reply.started": "2021-08-24T12:03:43.780785Z"
    }
   },
   "outputs": [
    {
     "data": {
      "text/plain": [
       "10"
      ]
     },
     "execution_count": 7,
     "metadata": {},
     "output_type": "execute_result"
    }
   ],
   "source": [
    "df.index.nunique() # 返回不同元素的个数。用在索引上"
   ]
  },
  {
   "cell_type": "code",
   "execution_count": 6,
   "id": "8953a60e",
   "metadata": {
    "execution": {
     "iopub.execute_input": "2021-08-24T12:03:10.740426Z",
     "iopub.status.busy": "2021-08-24T12:03:10.740052Z",
     "iopub.status.idle": "2021-08-24T12:03:10.746706Z",
     "shell.execute_reply": "2021-08-24T12:03:10.745845Z",
     "shell.execute_reply.started": "2021-08-24T12:03:10.740401Z"
    }
   },
   "outputs": [
    {
     "data": {
      "text/plain": [
       "2"
      ]
     },
     "execution_count": 6,
     "metadata": {},
     "output_type": "execute_result"
    }
   ],
   "source": [
    "df.dept.nunique() # 返回不同元素的个数"
   ]
  },
  {
   "cell_type": "code",
   "execution_count": 5,
   "id": "6936f5ae",
   "metadata": {
    "execution": {
     "iopub.execute_input": "2021-08-24T12:02:17.503006Z",
     "iopub.status.busy": "2021-08-24T12:02:17.502646Z",
     "iopub.status.idle": "2021-08-24T12:02:17.509630Z",
     "shell.execute_reply": "2021-08-24T12:02:17.508597Z",
     "shell.execute_reply.started": "2021-08-24T12:02:17.502969Z"
    }
   },
   "outputs": [
    {
     "data": {
      "text/plain": [
       "RangeIndex(start=0, stop=10, step=1)"
      ]
     },
     "execution_count": 5,
     "metadata": {},
     "output_type": "execute_result"
    }
   ],
   "source": [
    "df.index.unique() # 用在索引上"
   ]
  },
  {
   "cell_type": "code",
   "execution_count": 4,
   "id": "bb102244",
   "metadata": {
    "execution": {
     "iopub.execute_input": "2021-08-24T12:01:58.664144Z",
     "iopub.status.busy": "2021-08-24T12:01:58.663533Z",
     "iopub.status.idle": "2021-08-24T12:01:58.672289Z",
     "shell.execute_reply": "2021-08-24T12:01:58.671033Z",
     "shell.execute_reply.started": "2021-08-24T12:01:58.664101Z"
    }
   },
   "outputs": [
    {
     "data": {
      "text/plain": [
       "array(['部门1', '部门2'], dtype=object)"
      ]
     },
     "execution_count": 4,
     "metadata": {},
     "output_type": "execute_result"
    }
   ],
   "source": [
    "df.dept.unique() # dept列中的不同元素。等效"
   ]
  },
  {
   "cell_type": "code",
   "execution_count": 3,
   "id": "f103ac7a",
   "metadata": {
    "execution": {
     "iopub.execute_input": "2021-08-24T12:01:19.104442Z",
     "iopub.status.busy": "2021-08-24T12:01:19.103939Z",
     "iopub.status.idle": "2021-08-24T12:01:19.111034Z",
     "shell.execute_reply": "2021-08-24T12:01:19.109848Z",
     "shell.execute_reply.started": "2021-08-24T12:01:19.104405Z"
    }
   },
   "outputs": [
    {
     "data": {
      "text/plain": [
       "array(['部门1', '部门2'], dtype=object)"
      ]
     },
     "execution_count": 3,
     "metadata": {},
     "output_type": "execute_result"
    }
   ],
   "source": [
    "pd.unique(df.dept) # dept列中的不同元素"
   ]
  }
 ],
 "metadata": {
  "kernelspec": {
   "display_name": "Python 3 (ipykernel)",
   "language": "python",
   "name": "python3"
  },
  "language_info": {
   "codemirror_mode": {
    "name": "ipython",
    "version": 3
   },
   "file_extension": ".py",
   "mimetype": "text/x-python",
   "name": "python",
   "nbconvert_exporter": "python",
   "pygments_lexer": "ipython3",
   "version": "3.8.10"
  }
 },
 "nbformat": 4,
 "nbformat_minor": 5
}
