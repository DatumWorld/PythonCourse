{
 "cells": [
  {
   "cell_type": "markdown",
   "id": "4cbc8110",
   "metadata": {
    "execution": {
     "iopub.execute_input": "2021-05-10T07:18:52.990449Z",
     "iopub.status.busy": "2021-05-10T07:18:52.990449Z",
     "iopub.status.idle": "2021-05-10T07:18:52.994464Z",
     "shell.execute_reply": "2021-05-10T07:18:52.993452Z",
     "shell.execute_reply.started": "2021-05-10T07:18:52.990449Z"
    }
   },
   "source": [
    "## 117 xs根据行列索引层次查询数据"
   ]
  },
  {
   "cell_type": "markdown",
   "id": "3163ea6c",
   "metadata": {
    "tags": []
   },
   "source": [
    "### xs：根据行列索引层次查询数据\n",
    "参数 key=label or tuple of label, axis=0, level=None(object, defaults to first n levels (n=1 or len(key))), drop_level=True"
   ]
  },
  {
   "cell_type": "code",
   "execution_count": 1,
   "id": "b9a561c5",
   "metadata": {
    "execution": {
     "iopub.execute_input": "2021-08-27T09:05:34.947971Z",
     "iopub.status.busy": "2021-08-27T09:05:34.947971Z",
     "iopub.status.idle": "2021-08-27T09:05:35.189000Z",
     "shell.execute_reply": "2021-08-27T09:05:35.189000Z",
     "shell.execute_reply.started": "2021-08-27T09:05:34.947971Z"
    },
    "tags": []
   },
   "outputs": [],
   "source": [
    "import numpy  as np\n",
    "import pandas as pd\n",
    "d = {'num_legs': [4, 4, 2, 2],\n",
    "     'num_wings': [0, 0, 2, 2],\n",
    "     'class': ['mammal', 'mammal', 'mammal', 'bird'],\n",
    "     'animal': ['cat', 'dog', 'bat', 'penguin'],\n",
    "     'locomotion': ['walks', 'walks', 'flies', 'walks']}\n",
    "df = pd.DataFrame(data=d)\n",
    "df = df.set_index(['class', 'animal', 'locomotion'])"
   ]
  },
  {
   "cell_type": "markdown",
   "id": "6a0c0441",
   "metadata": {
    "tags": []
   },
   "source": [
    "### 演示数据"
   ]
  },
  {
   "cell_type": "code",
   "execution_count": 2,
   "id": "5a43fa3f",
   "metadata": {
    "execution": {
     "iopub.execute_input": "2021-08-27T09:05:35.189968Z",
     "iopub.status.busy": "2021-08-27T09:05:35.189968Z",
     "iopub.status.idle": "2021-08-27T09:05:35.201968Z",
     "shell.execute_reply": "2021-08-27T09:05:35.201968Z",
     "shell.execute_reply.started": "2021-08-27T09:05:35.189968Z"
    },
    "tags": []
   },
   "outputs": [
    {
     "data": {
      "text/html": [
       "<div>\n",
       "<style scoped>\n",
       "    .dataframe tbody tr th:only-of-type {\n",
       "        vertical-align: middle;\n",
       "    }\n",
       "\n",
       "    .dataframe tbody tr th {\n",
       "        vertical-align: top;\n",
       "    }\n",
       "\n",
       "    .dataframe thead th {\n",
       "        text-align: right;\n",
       "    }\n",
       "</style>\n",
       "<table border=\"1\" class=\"dataframe\">\n",
       "  <thead>\n",
       "    <tr style=\"text-align: right;\">\n",
       "      <th></th>\n",
       "      <th></th>\n",
       "      <th></th>\n",
       "      <th>num_legs</th>\n",
       "      <th>num_wings</th>\n",
       "    </tr>\n",
       "    <tr>\n",
       "      <th>class</th>\n",
       "      <th>animal</th>\n",
       "      <th>locomotion</th>\n",
       "      <th></th>\n",
       "      <th></th>\n",
       "    </tr>\n",
       "  </thead>\n",
       "  <tbody>\n",
       "    <tr>\n",
       "      <th rowspan=\"3\" valign=\"top\">mammal</th>\n",
       "      <th>cat</th>\n",
       "      <th>walks</th>\n",
       "      <td>4</td>\n",
       "      <td>0</td>\n",
       "    </tr>\n",
       "    <tr>\n",
       "      <th>dog</th>\n",
       "      <th>walks</th>\n",
       "      <td>4</td>\n",
       "      <td>0</td>\n",
       "    </tr>\n",
       "    <tr>\n",
       "      <th>bat</th>\n",
       "      <th>flies</th>\n",
       "      <td>2</td>\n",
       "      <td>2</td>\n",
       "    </tr>\n",
       "    <tr>\n",
       "      <th>bird</th>\n",
       "      <th>penguin</th>\n",
       "      <th>walks</th>\n",
       "      <td>2</td>\n",
       "      <td>2</td>\n",
       "    </tr>\n",
       "  </tbody>\n",
       "</table>\n",
       "</div>"
      ],
      "text/plain": [
       "                           num_legs  num_wings\n",
       "class  animal  locomotion                     \n",
       "mammal cat     walks              4          0\n",
       "       dog     walks              4          0\n",
       "       bat     flies              2          2\n",
       "bird   penguin walks              2          2"
      ]
     },
     "execution_count": 2,
     "metadata": {},
     "output_type": "execute_result"
    }
   ],
   "source": [
    "df"
   ]
  },
  {
   "cell_type": "code",
   "execution_count": 4,
   "id": "3b697c1d-07b1-4266-a4ed-de2e99fab27b",
   "metadata": {
    "execution": {
     "iopub.execute_input": "2021-08-27T09:07:07.465970Z",
     "iopub.status.busy": "2021-08-27T09:07:07.465970Z",
     "iopub.status.idle": "2021-08-27T09:07:07.471970Z",
     "shell.execute_reply": "2021-08-27T09:07:07.471970Z",
     "shell.execute_reply.started": "2021-08-27T09:07:07.465970Z"
    },
    "tags": []
   },
   "outputs": [
    {
     "data": {
      "text/plain": [
       "MultiIndex([('mammal',     'cat', 'walks'),\n",
       "            ('mammal',     'dog', 'walks'),\n",
       "            ('mammal',     'bat', 'flies'),\n",
       "            (  'bird', 'penguin', 'walks')],\n",
       "           names=['class', 'animal', 'locomotion'])"
      ]
     },
     "execution_count": 4,
     "metadata": {},
     "output_type": "execute_result"
    }
   ],
   "source": [
    "df.index # 索引"
   ]
  },
  {
   "cell_type": "code",
   "execution_count": 3,
   "id": "527c34fd-c031-42aa-b5ca-3d7fe2cc4931",
   "metadata": {
    "execution": {
     "iopub.execute_input": "2021-08-27T09:06:31.580973Z",
     "iopub.status.busy": "2021-08-27T09:06:31.580020Z",
     "iopub.status.idle": "2021-08-27T09:06:31.591968Z",
     "shell.execute_reply": "2021-08-27T09:06:31.591968Z",
     "shell.execute_reply.started": "2021-08-27T09:06:31.580973Z"
    },
    "tags": []
   },
   "outputs": [
    {
     "data": {
      "text/html": [
       "<div>\n",
       "<style scoped>\n",
       "    .dataframe tbody tr th:only-of-type {\n",
       "        vertical-align: middle;\n",
       "    }\n",
       "\n",
       "    .dataframe tbody tr th {\n",
       "        vertical-align: top;\n",
       "    }\n",
       "\n",
       "    .dataframe thead th {\n",
       "        text-align: right;\n",
       "    }\n",
       "</style>\n",
       "<table border=\"1\" class=\"dataframe\">\n",
       "  <thead>\n",
       "    <tr style=\"text-align: right;\">\n",
       "      <th></th>\n",
       "      <th></th>\n",
       "      <th>num_legs</th>\n",
       "      <th>num_wings</th>\n",
       "    </tr>\n",
       "    <tr>\n",
       "      <th>animal</th>\n",
       "      <th>locomotion</th>\n",
       "      <th></th>\n",
       "      <th></th>\n",
       "    </tr>\n",
       "  </thead>\n",
       "  <tbody>\n",
       "    <tr>\n",
       "      <th>cat</th>\n",
       "      <th>walks</th>\n",
       "      <td>4</td>\n",
       "      <td>0</td>\n",
       "    </tr>\n",
       "    <tr>\n",
       "      <th>dog</th>\n",
       "      <th>walks</th>\n",
       "      <td>4</td>\n",
       "      <td>0</td>\n",
       "    </tr>\n",
       "    <tr>\n",
       "      <th>bat</th>\n",
       "      <th>flies</th>\n",
       "      <td>2</td>\n",
       "      <td>2</td>\n",
       "    </tr>\n",
       "  </tbody>\n",
       "</table>\n",
       "</div>"
      ],
      "text/plain": [
       "                   num_legs  num_wings\n",
       "animal locomotion                     \n",
       "cat    walks              4          0\n",
       "dog    walks              4          0\n",
       "bat    flies              2          2"
      ]
     },
     "execution_count": 3,
     "metadata": {},
     "output_type": "execute_result"
    }
   ],
   "source": [
    "df.xs('mammal') # 获取mammal 下的数据"
   ]
  },
  {
   "cell_type": "code",
   "execution_count": 6,
   "id": "5f2fa522-2ef4-4b4e-822f-1c4f488150cd",
   "metadata": {
    "execution": {
     "iopub.execute_input": "2021-08-27T09:08:08.601968Z",
     "iopub.status.busy": "2021-08-27T09:08:08.601968Z",
     "iopub.status.idle": "2021-08-27T09:08:08.610972Z",
     "shell.execute_reply": "2021-08-27T09:08:08.609973Z",
     "shell.execute_reply.started": "2021-08-27T09:08:08.601968Z"
    },
    "tags": []
   },
   "outputs": [
    {
     "data": {
      "text/html": [
       "<div>\n",
       "<style scoped>\n",
       "    .dataframe tbody tr th:only-of-type {\n",
       "        vertical-align: middle;\n",
       "    }\n",
       "\n",
       "    .dataframe tbody tr th {\n",
       "        vertical-align: top;\n",
       "    }\n",
       "\n",
       "    .dataframe thead th {\n",
       "        text-align: right;\n",
       "    }\n",
       "</style>\n",
       "<table border=\"1\" class=\"dataframe\">\n",
       "  <thead>\n",
       "    <tr style=\"text-align: right;\">\n",
       "      <th></th>\n",
       "      <th></th>\n",
       "      <th>num_legs</th>\n",
       "      <th>num_wings</th>\n",
       "    </tr>\n",
       "    <tr>\n",
       "      <th>class</th>\n",
       "      <th>locomotion</th>\n",
       "      <th></th>\n",
       "      <th></th>\n",
       "    </tr>\n",
       "  </thead>\n",
       "  <tbody>\n",
       "    <tr>\n",
       "      <th>mammal</th>\n",
       "      <th>walks</th>\n",
       "      <td>4</td>\n",
       "      <td>0</td>\n",
       "    </tr>\n",
       "  </tbody>\n",
       "</table>\n",
       "</div>"
      ],
      "text/plain": [
       "                   num_legs  num_wings\n",
       "class  locomotion                     \n",
       "mammal walks              4          0"
      ]
     },
     "execution_count": 6,
     "metadata": {},
     "output_type": "execute_result"
    }
   ],
   "source": [
    "df.xs(key='cat',level=1) # 第一层级中的cat的数据"
   ]
  },
  {
   "cell_type": "code",
   "execution_count": 11,
   "id": "f1b84b0e-ffd9-4317-b7c7-b6629e4ea931",
   "metadata": {
    "execution": {
     "iopub.execute_input": "2021-08-27T09:12:20.777974Z",
     "iopub.status.busy": "2021-08-27T09:12:20.777974Z",
     "iopub.status.idle": "2021-08-27T09:12:20.785974Z",
     "shell.execute_reply": "2021-08-27T09:12:20.785974Z",
     "shell.execute_reply.started": "2021-08-27T09:12:20.777974Z"
    },
    "tags": []
   },
   "outputs": [
    {
     "data": {
      "text/html": [
       "<div>\n",
       "<style scoped>\n",
       "    .dataframe tbody tr th:only-of-type {\n",
       "        vertical-align: middle;\n",
       "    }\n",
       "\n",
       "    .dataframe tbody tr th {\n",
       "        vertical-align: top;\n",
       "    }\n",
       "\n",
       "    .dataframe thead th {\n",
       "        text-align: right;\n",
       "    }\n",
       "</style>\n",
       "<table border=\"1\" class=\"dataframe\">\n",
       "  <thead>\n",
       "    <tr style=\"text-align: right;\">\n",
       "      <th></th>\n",
       "      <th></th>\n",
       "      <th></th>\n",
       "      <th>num_legs</th>\n",
       "      <th>num_wings</th>\n",
       "    </tr>\n",
       "    <tr>\n",
       "      <th>class</th>\n",
       "      <th>animal</th>\n",
       "      <th>locomotion</th>\n",
       "      <th></th>\n",
       "      <th></th>\n",
       "    </tr>\n",
       "  </thead>\n",
       "  <tbody>\n",
       "    <tr>\n",
       "      <th>mammal</th>\n",
       "      <th>cat</th>\n",
       "      <th>walks</th>\n",
       "      <td>4</td>\n",
       "      <td>0</td>\n",
       "    </tr>\n",
       "  </tbody>\n",
       "</table>\n",
       "</div>"
      ],
      "text/plain": [
       "                          num_legs  num_wings\n",
       "class  animal locomotion                     \n",
       "mammal cat    walks              4          0"
      ]
     },
     "execution_count": 11,
     "metadata": {},
     "output_type": "execute_result"
    }
   ],
   "source": [
    "df.xs(key='cat',level=1,drop_level=False) #  drop_level 结果中是否删除层级"
   ]
  },
  {
   "cell_type": "code",
   "execution_count": 7,
   "id": "eef87738-cf96-45fd-9bf7-10e83dd218ac",
   "metadata": {
    "execution": {
     "iopub.execute_input": "2021-08-27T09:09:07.304972Z",
     "iopub.status.busy": "2021-08-27T09:09:07.303975Z",
     "iopub.status.idle": "2021-08-27T09:09:07.316981Z",
     "shell.execute_reply": "2021-08-27T09:09:07.315971Z",
     "shell.execute_reply.started": "2021-08-27T09:09:07.304972Z"
    },
    "tags": []
   },
   "outputs": [
    {
     "data": {
      "text/html": [
       "<div>\n",
       "<style scoped>\n",
       "    .dataframe tbody tr th:only-of-type {\n",
       "        vertical-align: middle;\n",
       "    }\n",
       "\n",
       "    .dataframe tbody tr th {\n",
       "        vertical-align: top;\n",
       "    }\n",
       "\n",
       "    .dataframe thead th {\n",
       "        text-align: right;\n",
       "    }\n",
       "</style>\n",
       "<table border=\"1\" class=\"dataframe\">\n",
       "  <thead>\n",
       "    <tr style=\"text-align: right;\">\n",
       "      <th></th>\n",
       "      <th>num_legs</th>\n",
       "      <th>num_wings</th>\n",
       "    </tr>\n",
       "    <tr>\n",
       "      <th>class</th>\n",
       "      <th></th>\n",
       "      <th></th>\n",
       "    </tr>\n",
       "  </thead>\n",
       "  <tbody>\n",
       "    <tr>\n",
       "      <th>mammal</th>\n",
       "      <td>4</td>\n",
       "      <td>0</td>\n",
       "    </tr>\n",
       "  </tbody>\n",
       "</table>\n",
       "</div>"
      ],
      "text/plain": [
       "        num_legs  num_wings\n",
       "class                      \n",
       "mammal         4          0"
      ]
     },
     "execution_count": 7,
     "metadata": {},
     "output_type": "execute_result"
    }
   ],
   "source": [
    "df.xs(key=('cat','walks'),level=[1,2]) # 第一层 cat 第二层级 walks 下相关数据"
   ]
  },
  {
   "cell_type": "code",
   "execution_count": 8,
   "id": "5f8d017d-9a3f-4c47-b9ff-858832ff6cde",
   "metadata": {
    "execution": {
     "iopub.execute_input": "2021-08-27T09:10:37.445971Z",
     "iopub.status.busy": "2021-08-27T09:10:37.444969Z",
     "iopub.status.idle": "2021-08-27T09:10:37.452975Z",
     "shell.execute_reply": "2021-08-27T09:10:37.452975Z",
     "shell.execute_reply.started": "2021-08-27T09:10:37.445971Z"
    },
    "tags": []
   },
   "outputs": [
    {
     "data": {
      "text/plain": [
       "class   animal   locomotion\n",
       "mammal  cat      walks         4\n",
       "        dog      walks         4\n",
       "        bat      flies         2\n",
       "bird    penguin  walks         2\n",
       "Name: num_legs, dtype: int64"
      ]
     },
     "execution_count": 8,
     "metadata": {},
     "output_type": "execute_result"
    }
   ],
   "source": [
    "df.xs(key=('num_legs'),axis=1) # axis 依然是轴方向"
   ]
  },
  {
   "cell_type": "code",
   "execution_count": 10,
   "id": "1bc72ebe-abfa-4332-b264-5835d247b96b",
   "metadata": {
    "execution": {
     "iopub.execute_input": "2021-08-27T09:11:25.097982Z",
     "iopub.status.busy": "2021-08-27T09:11:25.097982Z",
     "iopub.status.idle": "2021-08-27T09:11:25.105972Z",
     "shell.execute_reply": "2021-08-27T09:11:25.105972Z",
     "shell.execute_reply.started": "2021-08-27T09:11:25.097982Z"
    },
    "tags": []
   },
   "outputs": [
    {
     "data": {
      "text/html": [
       "<div>\n",
       "<style scoped>\n",
       "    .dataframe tbody tr th:only-of-type {\n",
       "        vertical-align: middle;\n",
       "    }\n",
       "\n",
       "    .dataframe tbody tr th {\n",
       "        vertical-align: top;\n",
       "    }\n",
       "\n",
       "    .dataframe thead th {\n",
       "        text-align: right;\n",
       "    }\n",
       "</style>\n",
       "<table border=\"1\" class=\"dataframe\">\n",
       "  <thead>\n",
       "    <tr style=\"text-align: right;\">\n",
       "      <th></th>\n",
       "      <th></th>\n",
       "      <th></th>\n",
       "      <th>num_legs</th>\n",
       "    </tr>\n",
       "    <tr>\n",
       "      <th>class</th>\n",
       "      <th>animal</th>\n",
       "      <th>locomotion</th>\n",
       "      <th></th>\n",
       "    </tr>\n",
       "  </thead>\n",
       "  <tbody>\n",
       "    <tr>\n",
       "      <th rowspan=\"3\" valign=\"top\">mammal</th>\n",
       "      <th>cat</th>\n",
       "      <th>walks</th>\n",
       "      <td>4</td>\n",
       "    </tr>\n",
       "    <tr>\n",
       "      <th>dog</th>\n",
       "      <th>walks</th>\n",
       "      <td>4</td>\n",
       "    </tr>\n",
       "    <tr>\n",
       "      <th>bat</th>\n",
       "      <th>flies</th>\n",
       "      <td>2</td>\n",
       "    </tr>\n",
       "    <tr>\n",
       "      <th>bird</th>\n",
       "      <th>penguin</th>\n",
       "      <th>walks</th>\n",
       "      <td>2</td>\n",
       "    </tr>\n",
       "  </tbody>\n",
       "</table>\n",
       "</div>"
      ],
      "text/plain": [
       "                           num_legs\n",
       "class  animal  locomotion          \n",
       "mammal cat     walks              4\n",
       "       dog     walks              4\n",
       "       bat     flies              2\n",
       "bird   penguin walks              2"
      ]
     },
     "execution_count": 10,
     "metadata": {},
     "output_type": "execute_result"
    }
   ],
   "source": [
    "df.xs(key=('num_legs'),axis=1,drop_level=False) # drop_level 结果中是否删除层级"
   ]
  }
 ],
 "metadata": {
  "kernelspec": {
   "display_name": "Python 3 (ipykernel)",
   "language": "python",
   "name": "python3"
  },
  "language_info": {
   "codemirror_mode": {
    "name": "ipython",
    "version": 3
   },
   "file_extension": ".py",
   "mimetype": "text/x-python",
   "name": "python",
   "nbconvert_exporter": "python",
   "pygments_lexer": "ipython3",
   "version": "3.8.10"
  }
 },
 "nbformat": 4,
 "nbformat_minor": 5
}
