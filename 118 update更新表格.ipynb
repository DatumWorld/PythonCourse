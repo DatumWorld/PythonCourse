{
 "cells": [
  {
   "cell_type": "markdown",
   "id": "45a29482",
   "metadata": {
    "execution": {
     "iopub.execute_input": "2021-05-10T07:18:52.990449Z",
     "iopub.status.busy": "2021-05-10T07:18:52.990449Z",
     "iopub.status.idle": "2021-05-10T07:18:52.994464Z",
     "shell.execute_reply": "2021-05-10T07:18:52.993452Z",
     "shell.execute_reply.started": "2021-05-10T07:18:52.990449Z"
    }
   },
   "source": [
    "## 118 update更新表格"
   ]
  },
  {
   "cell_type": "markdown",
   "id": "620174c7",
   "metadata": {
    "tags": []
   },
   "source": [
    "### update：更新表格\n",
    "参数 other, join='left', overwrite=True, filter_func=None, errors='ignore'"
   ]
  },
  {
   "cell_type": "code",
   "execution_count": 36,
   "id": "54cd8be4",
   "metadata": {
    "execution": {
     "iopub.execute_input": "2021-08-27T13:08:56.019923Z",
     "iopub.status.busy": "2021-08-27T13:08:56.019591Z",
     "iopub.status.idle": "2021-08-27T13:08:56.030244Z",
     "shell.execute_reply": "2021-08-27T13:08:56.029522Z",
     "shell.execute_reply.started": "2021-08-27T13:08:56.019896Z"
    },
    "tags": []
   },
   "outputs": [],
   "source": [
    "import numpy  as np\n",
    "import pandas as pd\n",
    "df = pd.DataFrame({'A': [1, 2, 3],\n",
    "                   'B': [400, 500, 600]})\n",
    "new_df = pd.DataFrame({'B': [4, 5, 6],\n",
    "                       'C': [7, 8, 9]})"
   ]
  },
  {
   "cell_type": "code",
   "execution_count": 37,
   "id": "76014523",
   "metadata": {
    "execution": {
     "iopub.execute_input": "2021-08-27T13:09:11.305715Z",
     "iopub.status.busy": "2021-08-27T13:09:11.305250Z",
     "iopub.status.idle": "2021-08-27T13:09:11.311450Z",
     "shell.execute_reply": "2021-08-27T13:09:11.310523Z",
     "shell.execute_reply.started": "2021-08-27T13:09:11.305685Z"
    }
   },
   "outputs": [],
   "source": [
    "df.update(new_df) # 更新到目标表，而非返回副本"
   ]
  },
  {
   "cell_type": "code",
   "execution_count": 38,
   "id": "fa58bbbe",
   "metadata": {
    "execution": {
     "iopub.execute_input": "2021-08-27T13:09:16.204374Z",
     "iopub.status.busy": "2021-08-27T13:09:16.203967Z",
     "iopub.status.idle": "2021-08-27T13:09:16.215369Z",
     "shell.execute_reply": "2021-08-27T13:09:16.214412Z",
     "shell.execute_reply.started": "2021-08-27T13:09:16.204338Z"
    }
   },
   "outputs": [
    {
     "data": {
      "text/html": [
       "<div>\n",
       "<style scoped>\n",
       "    .dataframe tbody tr th:only-of-type {\n",
       "        vertical-align: middle;\n",
       "    }\n",
       "\n",
       "    .dataframe tbody tr th {\n",
       "        vertical-align: top;\n",
       "    }\n",
       "\n",
       "    .dataframe thead th {\n",
       "        text-align: right;\n",
       "    }\n",
       "</style>\n",
       "<table border=\"1\" class=\"dataframe\">\n",
       "  <thead>\n",
       "    <tr style=\"text-align: right;\">\n",
       "      <th></th>\n",
       "      <th>A</th>\n",
       "      <th>B</th>\n",
       "    </tr>\n",
       "  </thead>\n",
       "  <tbody>\n",
       "    <tr>\n",
       "      <th>0</th>\n",
       "      <td>1</td>\n",
       "      <td>4</td>\n",
       "    </tr>\n",
       "    <tr>\n",
       "      <th>1</th>\n",
       "      <td>2</td>\n",
       "      <td>5</td>\n",
       "    </tr>\n",
       "    <tr>\n",
       "      <th>2</th>\n",
       "      <td>3</td>\n",
       "      <td>6</td>\n",
       "    </tr>\n",
       "  </tbody>\n",
       "</table>\n",
       "</div>"
      ],
      "text/plain": [
       "   A  B\n",
       "0  1  4\n",
       "1  2  5\n",
       "2  3  6"
      ]
     },
     "execution_count": 38,
     "metadata": {},
     "output_type": "execute_result"
    }
   ],
   "source": [
    "df # 对应位置更新"
   ]
  },
  {
   "cell_type": "code",
   "execution_count": 39,
   "id": "aa3ecaae",
   "metadata": {
    "execution": {
     "iopub.execute_input": "2021-08-27T13:10:18.744416Z",
     "iopub.status.busy": "2021-08-27T13:10:18.744002Z",
     "iopub.status.idle": "2021-08-27T13:10:18.751160Z",
     "shell.execute_reply": "2021-08-27T13:10:18.750419Z",
     "shell.execute_reply.started": "2021-08-27T13:10:18.744382Z"
    },
    "tags": []
   },
   "outputs": [],
   "source": [
    "df1 = pd.DataFrame({'A': ['a', 'b', 'c'],\n",
    "                   'B': ['x', 'y', 'z']})\n",
    "new_df1 = pd.DataFrame({'B': ['d', 'e', 'f', 'g', 'h', 'i']})"
   ]
  },
  {
   "cell_type": "code",
   "execution_count": 41,
   "id": "5d5982c5",
   "metadata": {
    "execution": {
     "iopub.execute_input": "2021-08-27T13:10:51.297067Z",
     "iopub.status.busy": "2021-08-27T13:10:51.296595Z",
     "iopub.status.idle": "2021-08-27T13:10:51.303661Z",
     "shell.execute_reply": "2021-08-27T13:10:51.303011Z",
     "shell.execute_reply.started": "2021-08-27T13:10:51.297019Z"
    }
   },
   "outputs": [],
   "source": [
    "df1.update(new_df1)"
   ]
  },
  {
   "cell_type": "code",
   "execution_count": 42,
   "id": "dbfd68ff",
   "metadata": {
    "execution": {
     "iopub.execute_input": "2021-08-27T13:10:55.712605Z",
     "iopub.status.busy": "2021-08-27T13:10:55.711959Z",
     "iopub.status.idle": "2021-08-27T13:10:55.726915Z",
     "shell.execute_reply": "2021-08-27T13:10:55.722262Z",
     "shell.execute_reply.started": "2021-08-27T13:10:55.712561Z"
    }
   },
   "outputs": [
    {
     "data": {
      "text/html": [
       "<div>\n",
       "<style scoped>\n",
       "    .dataframe tbody tr th:only-of-type {\n",
       "        vertical-align: middle;\n",
       "    }\n",
       "\n",
       "    .dataframe tbody tr th {\n",
       "        vertical-align: top;\n",
       "    }\n",
       "\n",
       "    .dataframe thead th {\n",
       "        text-align: right;\n",
       "    }\n",
       "</style>\n",
       "<table border=\"1\" class=\"dataframe\">\n",
       "  <thead>\n",
       "    <tr style=\"text-align: right;\">\n",
       "      <th></th>\n",
       "      <th>A</th>\n",
       "      <th>B</th>\n",
       "    </tr>\n",
       "  </thead>\n",
       "  <tbody>\n",
       "    <tr>\n",
       "      <th>0</th>\n",
       "      <td>a</td>\n",
       "      <td>d</td>\n",
       "    </tr>\n",
       "    <tr>\n",
       "      <th>1</th>\n",
       "      <td>b</td>\n",
       "      <td>e</td>\n",
       "    </tr>\n",
       "    <tr>\n",
       "      <th>2</th>\n",
       "      <td>c</td>\n",
       "      <td>f</td>\n",
       "    </tr>\n",
       "  </tbody>\n",
       "</table>\n",
       "</div>"
      ],
      "text/plain": [
       "   A  B\n",
       "0  a  d\n",
       "1  b  e\n",
       "2  c  f"
      ]
     },
     "execution_count": 42,
     "metadata": {},
     "output_type": "execute_result"
    }
   ],
   "source": [
    "df1 # 目标表 不会因为 数据源表行数更多 而改变自己的行数"
   ]
  },
  {
   "cell_type": "code",
   "execution_count": 43,
   "id": "2935f1d9",
   "metadata": {
    "execution": {
     "iopub.execute_input": "2021-08-27T13:11:53.815281Z",
     "iopub.status.busy": "2021-08-27T13:11:53.814919Z",
     "iopub.status.idle": "2021-08-27T13:11:53.821198Z",
     "shell.execute_reply": "2021-08-27T13:11:53.820414Z",
     "shell.execute_reply.started": "2021-08-27T13:11:53.815240Z"
    },
    "tags": []
   },
   "outputs": [],
   "source": [
    "df2 = pd.DataFrame({'A': ['a', 'b', 'c'],\n",
    "                   'B': ['x', 'y', 'z']})\n",
    "new_column2 = pd.Series(['d', 'e'], name='B', index=[0, 2])"
   ]
  },
  {
   "cell_type": "code",
   "execution_count": 45,
   "id": "7fdf956c",
   "metadata": {
    "execution": {
     "iopub.execute_input": "2021-08-27T13:13:12.016159Z",
     "iopub.status.busy": "2021-08-27T13:13:12.015735Z",
     "iopub.status.idle": "2021-08-27T13:13:12.024460Z",
     "shell.execute_reply": "2021-08-27T13:13:12.023775Z",
     "shell.execute_reply.started": "2021-08-27T13:13:12.016125Z"
    }
   },
   "outputs": [],
   "source": [
    "df2.update(new_column2) # 使用序列更新表格"
   ]
  },
  {
   "cell_type": "code",
   "execution_count": 46,
   "id": "927de1ff",
   "metadata": {
    "execution": {
     "iopub.execute_input": "2021-08-27T13:13:12.924033Z",
     "iopub.status.busy": "2021-08-27T13:13:12.923645Z",
     "iopub.status.idle": "2021-08-27T13:13:12.934982Z",
     "shell.execute_reply": "2021-08-27T13:13:12.934019Z",
     "shell.execute_reply.started": "2021-08-27T13:13:12.924000Z"
    }
   },
   "outputs": [
    {
     "data": {
      "text/html": [
       "<div>\n",
       "<style scoped>\n",
       "    .dataframe tbody tr th:only-of-type {\n",
       "        vertical-align: middle;\n",
       "    }\n",
       "\n",
       "    .dataframe tbody tr th {\n",
       "        vertical-align: top;\n",
       "    }\n",
       "\n",
       "    .dataframe thead th {\n",
       "        text-align: right;\n",
       "    }\n",
       "</style>\n",
       "<table border=\"1\" class=\"dataframe\">\n",
       "  <thead>\n",
       "    <tr style=\"text-align: right;\">\n",
       "      <th></th>\n",
       "      <th>A</th>\n",
       "      <th>B</th>\n",
       "    </tr>\n",
       "  </thead>\n",
       "  <tbody>\n",
       "    <tr>\n",
       "      <th>0</th>\n",
       "      <td>a</td>\n",
       "      <td>d</td>\n",
       "    </tr>\n",
       "    <tr>\n",
       "      <th>1</th>\n",
       "      <td>b</td>\n",
       "      <td>y</td>\n",
       "    </tr>\n",
       "    <tr>\n",
       "      <th>2</th>\n",
       "      <td>c</td>\n",
       "      <td>e</td>\n",
       "    </tr>\n",
       "  </tbody>\n",
       "</table>\n",
       "</div>"
      ],
      "text/plain": [
       "   A  B\n",
       "0  a  d\n",
       "1  b  y\n",
       "2  c  e"
      ]
     },
     "execution_count": 46,
     "metadata": {},
     "output_type": "execute_result"
    }
   ],
   "source": [
    "df2"
   ]
  },
  {
   "cell_type": "code",
   "execution_count": 47,
   "id": "1b6868ac",
   "metadata": {
    "execution": {
     "iopub.execute_input": "2021-08-27T13:13:41.659523Z",
     "iopub.status.busy": "2021-08-27T13:13:41.659258Z",
     "iopub.status.idle": "2021-08-27T13:13:41.664567Z",
     "shell.execute_reply": "2021-08-27T13:13:41.663644Z",
     "shell.execute_reply.started": "2021-08-27T13:13:41.659501Z"
    },
    "tags": []
   },
   "outputs": [],
   "source": [
    "df3 = pd.DataFrame({'A': [1, 2, 3],\n",
    "                   'B': [400, 500, 600]})\n",
    "new_df3 = pd.DataFrame({'B': [4, np.nan, 6]})"
   ]
  },
  {
   "cell_type": "code",
   "execution_count": 48,
   "id": "08854146",
   "metadata": {
    "execution": {
     "iopub.execute_input": "2021-08-27T13:13:54.088927Z",
     "iopub.status.busy": "2021-08-27T13:13:54.088278Z",
     "iopub.status.idle": "2021-08-27T13:13:54.095600Z",
     "shell.execute_reply": "2021-08-27T13:13:54.094899Z",
     "shell.execute_reply.started": "2021-08-27T13:13:54.088866Z"
    }
   },
   "outputs": [],
   "source": [
    "df3.update(new_df3) # nan 未参与更新"
   ]
  },
  {
   "cell_type": "code",
   "execution_count": 49,
   "id": "20b574a6",
   "metadata": {
    "execution": {
     "iopub.execute_input": "2021-08-27T13:13:59.431467Z",
     "iopub.status.busy": "2021-08-27T13:13:59.431043Z",
     "iopub.status.idle": "2021-08-27T13:13:59.441382Z",
     "shell.execute_reply": "2021-08-27T13:13:59.440684Z",
     "shell.execute_reply.started": "2021-08-27T13:13:59.431431Z"
    }
   },
   "outputs": [
    {
     "data": {
      "text/html": [
       "<div>\n",
       "<style scoped>\n",
       "    .dataframe tbody tr th:only-of-type {\n",
       "        vertical-align: middle;\n",
       "    }\n",
       "\n",
       "    .dataframe tbody tr th {\n",
       "        vertical-align: top;\n",
       "    }\n",
       "\n",
       "    .dataframe thead th {\n",
       "        text-align: right;\n",
       "    }\n",
       "</style>\n",
       "<table border=\"1\" class=\"dataframe\">\n",
       "  <thead>\n",
       "    <tr style=\"text-align: right;\">\n",
       "      <th></th>\n",
       "      <th>A</th>\n",
       "      <th>B</th>\n",
       "    </tr>\n",
       "  </thead>\n",
       "  <tbody>\n",
       "    <tr>\n",
       "      <th>0</th>\n",
       "      <td>1</td>\n",
       "      <td>4.0</td>\n",
       "    </tr>\n",
       "    <tr>\n",
       "      <th>1</th>\n",
       "      <td>2</td>\n",
       "      <td>500.0</td>\n",
       "    </tr>\n",
       "    <tr>\n",
       "      <th>2</th>\n",
       "      <td>3</td>\n",
       "      <td>6.0</td>\n",
       "    </tr>\n",
       "  </tbody>\n",
       "</table>\n",
       "</div>"
      ],
      "text/plain": [
       "   A      B\n",
       "0  1    4.0\n",
       "1  2  500.0\n",
       "2  3    6.0"
      ]
     },
     "execution_count": 49,
     "metadata": {},
     "output_type": "execute_result"
    }
   ],
   "source": [
    "df3"
   ]
  },
  {
   "cell_type": "code",
   "execution_count": 53,
   "id": "47f05849",
   "metadata": {
    "execution": {
     "iopub.execute_input": "2021-08-27T13:16:02.926290Z",
     "iopub.status.busy": "2021-08-27T13:16:02.925867Z",
     "iopub.status.idle": "2021-08-27T13:16:02.932126Z",
     "shell.execute_reply": "2021-08-27T13:16:02.931136Z",
     "shell.execute_reply.started": "2021-08-27T13:16:02.926262Z"
    }
   },
   "outputs": [],
   "source": [
    "df4 = pd.DataFrame({'A': [1, 2, 3],\n",
    "                   'B': [400, 500, np.nan]})\n",
    "new_df4 = pd.DataFrame({'B': [4, np.nan, 6]})"
   ]
  },
  {
   "cell_type": "code",
   "execution_count": 51,
   "id": "a51c2a70",
   "metadata": {
    "execution": {
     "iopub.execute_input": "2021-08-27T13:15:12.146134Z",
     "iopub.status.busy": "2021-08-27T13:15:12.145746Z",
     "iopub.status.idle": "2021-08-27T13:15:12.152429Z",
     "shell.execute_reply": "2021-08-27T13:15:12.151511Z",
     "shell.execute_reply.started": "2021-08-27T13:15:12.146103Z"
    }
   },
   "outputs": [],
   "source": [
    "df4.update(new_df4) # 默认 true，正常更新"
   ]
  },
  {
   "cell_type": "code",
   "execution_count": 52,
   "id": "20f29058",
   "metadata": {
    "execution": {
     "iopub.execute_input": "2021-08-27T13:15:21.482151Z",
     "iopub.status.busy": "2021-08-27T13:15:21.481703Z",
     "iopub.status.idle": "2021-08-27T13:15:21.493313Z",
     "shell.execute_reply": "2021-08-27T13:15:21.492477Z",
     "shell.execute_reply.started": "2021-08-27T13:15:21.482112Z"
    }
   },
   "outputs": [
    {
     "data": {
      "text/html": [
       "<div>\n",
       "<style scoped>\n",
       "    .dataframe tbody tr th:only-of-type {\n",
       "        vertical-align: middle;\n",
       "    }\n",
       "\n",
       "    .dataframe tbody tr th {\n",
       "        vertical-align: top;\n",
       "    }\n",
       "\n",
       "    .dataframe thead th {\n",
       "        text-align: right;\n",
       "    }\n",
       "</style>\n",
       "<table border=\"1\" class=\"dataframe\">\n",
       "  <thead>\n",
       "    <tr style=\"text-align: right;\">\n",
       "      <th></th>\n",
       "      <th>A</th>\n",
       "      <th>B</th>\n",
       "    </tr>\n",
       "  </thead>\n",
       "  <tbody>\n",
       "    <tr>\n",
       "      <th>0</th>\n",
       "      <td>1</td>\n",
       "      <td>4.0</td>\n",
       "    </tr>\n",
       "    <tr>\n",
       "      <th>1</th>\n",
       "      <td>2</td>\n",
       "      <td>500.0</td>\n",
       "    </tr>\n",
       "    <tr>\n",
       "      <th>2</th>\n",
       "      <td>3</td>\n",
       "      <td>6.0</td>\n",
       "    </tr>\n",
       "  </tbody>\n",
       "</table>\n",
       "</div>"
      ],
      "text/plain": [
       "   A      B\n",
       "0  1    4.0\n",
       "1  2  500.0\n",
       "2  3    6.0"
      ]
     },
     "execution_count": 52,
     "metadata": {},
     "output_type": "execute_result"
    }
   ],
   "source": [
    "df4"
   ]
  },
  {
   "cell_type": "code",
   "execution_count": 54,
   "id": "4e25b7ba",
   "metadata": {
    "execution": {
     "iopub.execute_input": "2021-08-27T13:16:14.146437Z",
     "iopub.status.busy": "2021-08-27T13:16:14.145919Z",
     "iopub.status.idle": "2021-08-27T13:16:14.153085Z",
     "shell.execute_reply": "2021-08-27T13:16:14.152169Z",
     "shell.execute_reply.started": "2021-08-27T13:16:14.146394Z"
    }
   },
   "outputs": [],
   "source": [
    "df4.update(new_df4,overwrite=False) # overwrite False 只更新目标表中对应列的nan值；"
   ]
  },
  {
   "cell_type": "code",
   "execution_count": 55,
   "id": "c8a3b822",
   "metadata": {
    "execution": {
     "iopub.execute_input": "2021-08-27T13:16:22.154750Z",
     "iopub.status.busy": "2021-08-27T13:16:22.154082Z",
     "iopub.status.idle": "2021-08-27T13:16:22.166148Z",
     "shell.execute_reply": "2021-08-27T13:16:22.165416Z",
     "shell.execute_reply.started": "2021-08-27T13:16:22.154681Z"
    }
   },
   "outputs": [
    {
     "data": {
      "text/html": [
       "<div>\n",
       "<style scoped>\n",
       "    .dataframe tbody tr th:only-of-type {\n",
       "        vertical-align: middle;\n",
       "    }\n",
       "\n",
       "    .dataframe tbody tr th {\n",
       "        vertical-align: top;\n",
       "    }\n",
       "\n",
       "    .dataframe thead th {\n",
       "        text-align: right;\n",
       "    }\n",
       "</style>\n",
       "<table border=\"1\" class=\"dataframe\">\n",
       "  <thead>\n",
       "    <tr style=\"text-align: right;\">\n",
       "      <th></th>\n",
       "      <th>A</th>\n",
       "      <th>B</th>\n",
       "    </tr>\n",
       "  </thead>\n",
       "  <tbody>\n",
       "    <tr>\n",
       "      <th>0</th>\n",
       "      <td>1</td>\n",
       "      <td>400.0</td>\n",
       "    </tr>\n",
       "    <tr>\n",
       "      <th>1</th>\n",
       "      <td>2</td>\n",
       "      <td>500.0</td>\n",
       "    </tr>\n",
       "    <tr>\n",
       "      <th>2</th>\n",
       "      <td>3</td>\n",
       "      <td>6.0</td>\n",
       "    </tr>\n",
       "  </tbody>\n",
       "</table>\n",
       "</div>"
      ],
      "text/plain": [
       "   A      B\n",
       "0  1  400.0\n",
       "1  2  500.0\n",
       "2  3    6.0"
      ]
     },
     "execution_count": 55,
     "metadata": {},
     "output_type": "execute_result"
    }
   ],
   "source": [
    "df4"
   ]
  }
 ],
 "metadata": {
  "kernelspec": {
   "display_name": "Python 3 (ipykernel)",
   "language": "python",
   "name": "python3"
  },
  "language_info": {
   "codemirror_mode": {
    "name": "ipython",
    "version": 3
   },
   "file_extension": ".py",
   "mimetype": "text/x-python",
   "name": "python",
   "nbconvert_exporter": "python",
   "pygments_lexer": "ipython3",
   "version": "3.8.10"
  }
 },
 "nbformat": 4,
 "nbformat_minor": 5
}
