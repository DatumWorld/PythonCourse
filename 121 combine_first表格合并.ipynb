{
 "cells": [
  {
   "cell_type": "markdown",
   "id": "imposed-scott",
   "metadata": {
    "execution": {
     "iopub.execute_input": "2021-05-10T07:18:52.990449Z",
     "iopub.status.busy": "2021-05-10T07:18:52.990449Z",
     "iopub.status.idle": "2021-05-10T07:18:52.994464Z",
     "shell.execute_reply": "2021-05-10T07:18:52.993452Z",
     "shell.execute_reply.started": "2021-05-10T07:18:52.990449Z"
    }
   },
   "source": [
    "## 121 combine_first表格合并"
   ]
  },
  {
   "cell_type": "markdown",
   "id": "express-service",
   "metadata": {
    "tags": []
   },
   "source": [
    "### combine_first:表格合并,更新null\n",
    "参数 other"
   ]
  },
  {
   "cell_type": "code",
   "execution_count": 1,
   "id": "adverse-pizza",
   "metadata": {
    "execution": {
     "iopub.execute_input": "2021-08-28T12:22:11.268142Z",
     "iopub.status.busy": "2021-08-28T12:22:11.267858Z",
     "iopub.status.idle": "2021-08-28T12:22:11.547168Z",
     "shell.execute_reply": "2021-08-28T12:22:11.546334Z",
     "shell.execute_reply.started": "2021-08-28T12:22:11.268096Z"
    },
    "tags": []
   },
   "outputs": [],
   "source": [
    "import numpy  as np \n",
    "import pandas as pd\n",
    "df1 = pd.DataFrame({'A': [0, 0], 'B': [4, np.nan]})\n",
    "df2 = pd.DataFrame({'A': [1, 1,1], 'C': [3, 3,np.nan]})\n",
    "take_smaller = lambda s1, s2: s1 if s1.sum() < s2.sum() else s2"
   ]
  },
  {
   "cell_type": "code",
   "execution_count": 2,
   "id": "smooth-semester",
   "metadata": {
    "execution": {
     "iopub.execute_input": "2021-08-28T12:22:11.551456Z",
     "iopub.status.busy": "2021-08-28T12:22:11.551208Z",
     "iopub.status.idle": "2021-08-28T12:22:11.571179Z",
     "shell.execute_reply": "2021-08-28T12:22:11.569686Z",
     "shell.execute_reply.started": "2021-08-28T12:22:11.551432Z"
    }
   },
   "outputs": [
    {
     "data": {
      "text/html": [
       "<div>\n",
       "<style scoped>\n",
       "    .dataframe tbody tr th:only-of-type {\n",
       "        vertical-align: middle;\n",
       "    }\n",
       "\n",
       "    .dataframe tbody tr th {\n",
       "        vertical-align: top;\n",
       "    }\n",
       "\n",
       "    .dataframe thead th {\n",
       "        text-align: right;\n",
       "    }\n",
       "</style>\n",
       "<table border=\"1\" class=\"dataframe\">\n",
       "  <thead>\n",
       "    <tr style=\"text-align: right;\">\n",
       "      <th></th>\n",
       "      <th>A</th>\n",
       "      <th>B</th>\n",
       "    </tr>\n",
       "  </thead>\n",
       "  <tbody>\n",
       "    <tr>\n",
       "      <th>0</th>\n",
       "      <td>0</td>\n",
       "      <td>4.0</td>\n",
       "    </tr>\n",
       "    <tr>\n",
       "      <th>1</th>\n",
       "      <td>0</td>\n",
       "      <td>NaN</td>\n",
       "    </tr>\n",
       "  </tbody>\n",
       "</table>\n",
       "</div>"
      ],
      "text/plain": [
       "   A    B\n",
       "0  0  4.0\n",
       "1  0  NaN"
      ]
     },
     "execution_count": 2,
     "metadata": {},
     "output_type": "execute_result"
    }
   ],
   "source": [
    "df1"
   ]
  },
  {
   "cell_type": "code",
   "execution_count": 3,
   "id": "rural-iraqi",
   "metadata": {
    "execution": {
     "iopub.execute_input": "2021-08-28T12:22:11.573548Z",
     "iopub.status.busy": "2021-08-28T12:22:11.573319Z",
     "iopub.status.idle": "2021-08-28T12:22:11.581305Z",
     "shell.execute_reply": "2021-08-28T12:22:11.580577Z",
     "shell.execute_reply.started": "2021-08-28T12:22:11.573527Z"
    }
   },
   "outputs": [
    {
     "data": {
      "text/html": [
       "<div>\n",
       "<style scoped>\n",
       "    .dataframe tbody tr th:only-of-type {\n",
       "        vertical-align: middle;\n",
       "    }\n",
       "\n",
       "    .dataframe tbody tr th {\n",
       "        vertical-align: top;\n",
       "    }\n",
       "\n",
       "    .dataframe thead th {\n",
       "        text-align: right;\n",
       "    }\n",
       "</style>\n",
       "<table border=\"1\" class=\"dataframe\">\n",
       "  <thead>\n",
       "    <tr style=\"text-align: right;\">\n",
       "      <th></th>\n",
       "      <th>A</th>\n",
       "      <th>C</th>\n",
       "    </tr>\n",
       "  </thead>\n",
       "  <tbody>\n",
       "    <tr>\n",
       "      <th>0</th>\n",
       "      <td>1</td>\n",
       "      <td>3.0</td>\n",
       "    </tr>\n",
       "    <tr>\n",
       "      <th>1</th>\n",
       "      <td>1</td>\n",
       "      <td>3.0</td>\n",
       "    </tr>\n",
       "    <tr>\n",
       "      <th>2</th>\n",
       "      <td>1</td>\n",
       "      <td>NaN</td>\n",
       "    </tr>\n",
       "  </tbody>\n",
       "</table>\n",
       "</div>"
      ],
      "text/plain": [
       "   A    C\n",
       "0  1  3.0\n",
       "1  1  3.0\n",
       "2  1  NaN"
      ]
     },
     "execution_count": 3,
     "metadata": {},
     "output_type": "execute_result"
    }
   ],
   "source": [
    "df2"
   ]
  },
  {
   "cell_type": "code",
   "execution_count": 4,
   "id": "later-tribe",
   "metadata": {
    "execution": {
     "iopub.execute_input": "2021-08-28T12:23:13.139856Z",
     "iopub.status.busy": "2021-08-28T12:23:13.139380Z",
     "iopub.status.idle": "2021-08-28T12:23:13.160023Z",
     "shell.execute_reply": "2021-08-28T12:23:13.159122Z",
     "shell.execute_reply.started": "2021-08-28T12:23:13.139816Z"
    }
   },
   "outputs": [
    {
     "data": {
      "text/html": [
       "<div>\n",
       "<style scoped>\n",
       "    .dataframe tbody tr th:only-of-type {\n",
       "        vertical-align: middle;\n",
       "    }\n",
       "\n",
       "    .dataframe tbody tr th {\n",
       "        vertical-align: top;\n",
       "    }\n",
       "\n",
       "    .dataframe thead th {\n",
       "        text-align: right;\n",
       "    }\n",
       "</style>\n",
       "<table border=\"1\" class=\"dataframe\">\n",
       "  <thead>\n",
       "    <tr style=\"text-align: right;\">\n",
       "      <th></th>\n",
       "      <th>A</th>\n",
       "      <th>B</th>\n",
       "      <th>C</th>\n",
       "    </tr>\n",
       "  </thead>\n",
       "  <tbody>\n",
       "    <tr>\n",
       "      <th>0</th>\n",
       "      <td>0.0</td>\n",
       "      <td>4.0</td>\n",
       "      <td>3.0</td>\n",
       "    </tr>\n",
       "    <tr>\n",
       "      <th>1</th>\n",
       "      <td>0.0</td>\n",
       "      <td>NaN</td>\n",
       "      <td>3.0</td>\n",
       "    </tr>\n",
       "    <tr>\n",
       "      <th>2</th>\n",
       "      <td>1.0</td>\n",
       "      <td>NaN</td>\n",
       "      <td>NaN</td>\n",
       "    </tr>\n",
       "  </tbody>\n",
       "</table>\n",
       "</div>"
      ],
      "text/plain": [
       "     A    B    C\n",
       "0  0.0  4.0  3.0\n",
       "1  0.0  NaN  3.0\n",
       "2  1.0  NaN  NaN"
      ]
     },
     "execution_count": 4,
     "metadata": {},
     "output_type": "execute_result"
    }
   ],
   "source": [
    "df1.combine_first(df2) # 将df1 的null ，利用df2 同样位置的非null值 更新。结果的行列索引是两个表的组合"
   ]
  },
  {
   "cell_type": "code",
   "execution_count": 5,
   "id": "obvious-vinyl",
   "metadata": {
    "execution": {
     "iopub.execute_input": "2021-08-28T12:25:49.014531Z",
     "iopub.status.busy": "2021-08-28T12:25:49.014169Z",
     "iopub.status.idle": "2021-08-28T12:25:49.025024Z",
     "shell.execute_reply": "2021-08-28T12:25:49.023698Z",
     "shell.execute_reply.started": "2021-08-28T12:25:49.014501Z"
    }
   },
   "outputs": [
    {
     "data": {
      "text/plain": [
       "0    0.0\n",
       "1    0.0\n",
       "2    1.0\n",
       "Name: A, dtype: float64"
      ]
     },
     "execution_count": 5,
     "metadata": {},
     "output_type": "execute_result"
    }
   ],
   "source": [
    "df1.A.combine_first(df2.A) # 可以用在列上"
   ]
  }
 ],
 "metadata": {
  "kernelspec": {
   "display_name": "Python 3",
   "language": "python",
   "name": "python3"
  },
  "language_info": {
   "codemirror_mode": {
    "name": "ipython",
    "version": 3
   },
   "file_extension": ".py",
   "mimetype": "text/x-python",
   "name": "python",
   "nbconvert_exporter": "python",
   "pygments_lexer": "ipython3",
   "version": "3.6.8"
  }
 },
 "nbformat": 4,
 "nbformat_minor": 5
}
