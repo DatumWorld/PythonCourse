{
 "cells": [
  {
   "cell_type": "markdown",
   "id": "forced-burke",
   "metadata": {
    "execution": {
     "iopub.execute_input": "2021-05-10T07:18:52.990449Z",
     "iopub.status.busy": "2021-05-10T07:18:52.990449Z",
     "iopub.status.idle": "2021-05-10T07:18:52.994464Z",
     "shell.execute_reply": "2021-05-10T07:18:52.993452Z",
     "shell.execute_reply.started": "2021-05-10T07:18:52.990449Z"
    }
   },
   "source": [
    "## 123 索引的交集差集并集补集"
   ]
  },
  {
   "cell_type": "markdown",
   "id": "marked-subscriber",
   "metadata": {
    "tags": []
   },
   "source": [
    "### intersection 交集  union 并集 difference 差集（补集） symmetric_difference 差集的并集（交集的补集） \n",
    "参数 other, result_name=None（symmetric_difference独有）, sort=None"
   ]
  },
  {
   "cell_type": "code",
   "execution_count": 3,
   "id": "organic-prairie",
   "metadata": {
    "execution": {
     "iopub.execute_input": "2021-08-29T00:26:48.665993Z",
     "iopub.status.busy": "2021-08-29T00:26:48.665532Z",
     "iopub.status.idle": "2021-08-29T00:26:48.680233Z",
     "shell.execute_reply": "2021-08-29T00:26:48.679123Z",
     "shell.execute_reply.started": "2021-08-29T00:26:48.665951Z"
    },
    "tags": []
   },
   "outputs": [],
   "source": [
    "import numpy  as np\n",
    "import pandas as pd\n",
    "from faker import Faker\n",
    "\n",
    "idx1 = pd.Index([1, 2, 3, 4])\n",
    "idx2 = pd.Index([2, 3, 4, 5])\n",
    "idx3 = pd.Index(['a', 'b', 'c', 'd'])\n",
    "idx4 = pd.MultiIndex.from_arrays(\n",
    "    [[1, 1, 2, 2], [\"Red\", \"Blue\", \"Red\", \"Blue\"]]\n",
    ")\n",
    "idx5 = pd.MultiIndex.from_arrays(\n",
    "    [[3, 3, 2, 2], [\"Red\", \"Green\", \"Red\", \"Green\"]]\n",
    ")"
   ]
  },
  {
   "cell_type": "code",
   "execution_count": 14,
   "id": "complicated-reach",
   "metadata": {
    "execution": {
     "iopub.execute_input": "2021-08-29T00:33:58.854296Z",
     "iopub.status.busy": "2021-08-29T00:33:58.853933Z",
     "iopub.status.idle": "2021-08-29T00:33:58.864609Z",
     "shell.execute_reply": "2021-08-29T00:33:58.863830Z",
     "shell.execute_reply.started": "2021-08-29T00:33:58.854273Z"
    }
   },
   "outputs": [
    {
     "data": {
      "text/plain": [
       "MultiIndex([(1,  'Blue'),\n",
       "            (1,   'Red'),\n",
       "            (2,  'Blue'),\n",
       "            (2, 'Green'),\n",
       "            (3, 'Green'),\n",
       "            (3,   'Red')],\n",
       "           )"
      ]
     },
     "execution_count": 14,
     "metadata": {},
     "output_type": "execute_result"
    }
   ],
   "source": [
    "idx4.symmetric_difference(idx5) # 两个索引的 差集元素进行合并。 多级索引"
   ]
  },
  {
   "cell_type": "code",
   "execution_count": 13,
   "id": "improved-hunter",
   "metadata": {
    "execution": {
     "iopub.execute_input": "2021-08-29T00:33:00.868100Z",
     "iopub.status.busy": "2021-08-29T00:33:00.867282Z",
     "iopub.status.idle": "2021-08-29T00:33:00.874585Z",
     "shell.execute_reply": "2021-08-29T00:33:00.873994Z",
     "shell.execute_reply.started": "2021-08-29T00:33:00.868035Z"
    }
   },
   "outputs": [
    {
     "data": {
      "text/plain": [
       "Int64Index([1, 5], dtype='int64')"
      ]
     },
     "execution_count": 13,
     "metadata": {},
     "output_type": "execute_result"
    }
   ],
   "source": [
    "idx2.symmetric_difference(idx1) # 两个索引的 差集元素进行合并。 "
   ]
  },
  {
   "cell_type": "code",
   "execution_count": 12,
   "id": "subsequent-schema",
   "metadata": {
    "execution": {
     "iopub.execute_input": "2021-08-29T00:32:23.364020Z",
     "iopub.status.busy": "2021-08-29T00:32:23.363632Z",
     "iopub.status.idle": "2021-08-29T00:32:23.369730Z",
     "shell.execute_reply": "2021-08-29T00:32:23.368695Z",
     "shell.execute_reply.started": "2021-08-29T00:32:23.363996Z"
    }
   },
   "outputs": [
    {
     "data": {
      "text/plain": [
       "Int64Index([5], dtype='int64')"
      ]
     },
     "execution_count": 12,
     "metadata": {},
     "output_type": "execute_result"
    }
   ],
   "source": [
    "idx2.difference(idx1) # 两个索引的 差集元素。 有顺序，结果不同。独有的元素可能是不同的"
   ]
  },
  {
   "cell_type": "code",
   "execution_count": 10,
   "id": "convertible-smith",
   "metadata": {
    "execution": {
     "iopub.execute_input": "2021-08-29T00:31:52.560083Z",
     "iopub.status.busy": "2021-08-29T00:31:52.559627Z",
     "iopub.status.idle": "2021-08-29T00:31:52.567489Z",
     "shell.execute_reply": "2021-08-29T00:31:52.566310Z",
     "shell.execute_reply.started": "2021-08-29T00:31:52.560043Z"
    }
   },
   "outputs": [
    {
     "data": {
      "text/plain": [
       "Int64Index([1], dtype='int64')"
      ]
     },
     "execution_count": 10,
     "metadata": {},
     "output_type": "execute_result"
    }
   ],
   "source": [
    "idx1.difference(idx2) # 两个索引的 差集元素。 有顺序，结果不同。独有的元素可能是不同的"
   ]
  },
  {
   "cell_type": "code",
   "execution_count": 9,
   "id": "trained-galaxy",
   "metadata": {
    "execution": {
     "iopub.execute_input": "2021-08-29T00:30:17.994425Z",
     "iopub.status.busy": "2021-08-29T00:30:17.993909Z",
     "iopub.status.idle": "2021-08-29T00:30:18.004948Z",
     "shell.execute_reply": "2021-08-29T00:30:18.003636Z",
     "shell.execute_reply.started": "2021-08-29T00:30:17.994389Z"
    }
   },
   "outputs": [
    {
     "data": {
      "text/plain": [
       "MultiIndex([(2, 'Green'),\n",
       "            (3, 'Green'),\n",
       "            (3,   'Red')],\n",
       "           )"
      ]
     },
     "execution_count": 9,
     "metadata": {},
     "output_type": "execute_result"
    }
   ],
   "source": [
    "idx5.difference(idx4) # 两个索引的 差集元素。多级索引 有顺序，结果不同。独有的元素可能是不同的"
   ]
  },
  {
   "cell_type": "code",
   "execution_count": 8,
   "id": "sudden-backing",
   "metadata": {
    "execution": {
     "iopub.execute_input": "2021-08-29T00:29:39.299879Z",
     "iopub.status.busy": "2021-08-29T00:29:39.299340Z",
     "iopub.status.idle": "2021-08-29T00:29:39.310131Z",
     "shell.execute_reply": "2021-08-29T00:29:39.309059Z",
     "shell.execute_reply.started": "2021-08-29T00:29:39.299838Z"
    }
   },
   "outputs": [
    {
     "data": {
      "text/plain": [
       "MultiIndex([(1, 'Blue'),\n",
       "            (1,  'Red'),\n",
       "            (2, 'Blue')],\n",
       "           )"
      ]
     },
     "execution_count": 8,
     "metadata": {},
     "output_type": "execute_result"
    }
   ],
   "source": [
    "idx4.difference(idx5) # 两个索引的 差集元素。多级索引。 有顺序，结果不同。独有的元素可能是不同的"
   ]
  },
  {
   "cell_type": "code",
   "execution_count": 7,
   "id": "occupational-america",
   "metadata": {
    "execution": {
     "iopub.execute_input": "2021-08-29T00:28:46.722637Z",
     "iopub.status.busy": "2021-08-29T00:28:46.721992Z",
     "iopub.status.idle": "2021-08-29T00:28:46.732957Z",
     "shell.execute_reply": "2021-08-29T00:28:46.732053Z",
     "shell.execute_reply.started": "2021-08-29T00:28:46.722588Z"
    }
   },
   "outputs": [
    {
     "data": {
      "text/plain": [
       "MultiIndex([(1,  'Blue'),\n",
       "            (1,   'Red'),\n",
       "            (2,  'Blue'),\n",
       "            (2, 'Green'),\n",
       "            (2,   'Red'),\n",
       "            (3, 'Green'),\n",
       "            (3,   'Red')],\n",
       "           )"
      ]
     },
     "execution_count": 7,
     "metadata": {},
     "output_type": "execute_result"
    }
   ],
   "source": [
    "idx4.union(idx5) # 两个索引的 所有元素。多级索引"
   ]
  },
  {
   "cell_type": "code",
   "execution_count": 6,
   "id": "recovered-desktop",
   "metadata": {
    "execution": {
     "iopub.execute_input": "2021-08-29T00:28:26.445782Z",
     "iopub.status.busy": "2021-08-29T00:28:26.445225Z",
     "iopub.status.idle": "2021-08-29T00:28:26.454261Z",
     "shell.execute_reply": "2021-08-29T00:28:26.453602Z",
     "shell.execute_reply.started": "2021-08-29T00:28:26.445734Z"
    }
   },
   "outputs": [
    {
     "data": {
      "text/plain": [
       "Int64Index([1, 2, 3, 4, 5], dtype='int64')"
      ]
     },
     "execution_count": 6,
     "metadata": {},
     "output_type": "execute_result"
    }
   ],
   "source": [
    "idx1.union(idx2) # 两个索引的 所有元素"
   ]
  },
  {
   "cell_type": "code",
   "execution_count": 4,
   "id": "dense-channels",
   "metadata": {
    "execution": {
     "iopub.execute_input": "2021-08-29T00:27:15.551329Z",
     "iopub.status.busy": "2021-08-29T00:27:15.550902Z",
     "iopub.status.idle": "2021-08-29T00:27:15.569277Z",
     "shell.execute_reply": "2021-08-29T00:27:15.568183Z",
     "shell.execute_reply.started": "2021-08-29T00:27:15.551285Z"
    }
   },
   "outputs": [
    {
     "data": {
      "text/plain": [
       "Int64Index([2, 3, 4], dtype='int64')"
      ]
     },
     "execution_count": 4,
     "metadata": {},
     "output_type": "execute_result"
    }
   ],
   "source": [
    "idx1.intersection(idx2) # 两个索引的 共有元素"
   ]
  },
  {
   "cell_type": "code",
   "execution_count": 5,
   "id": "beginning-uruguay",
   "metadata": {
    "execution": {
     "iopub.execute_input": "2021-08-29T00:27:51.343244Z",
     "iopub.status.busy": "2021-08-29T00:27:51.342673Z",
     "iopub.status.idle": "2021-08-29T00:27:51.352473Z",
     "shell.execute_reply": "2021-08-29T00:27:51.351342Z",
     "shell.execute_reply.started": "2021-08-29T00:27:51.343210Z"
    }
   },
   "outputs": [
    {
     "data": {
      "text/plain": [
       "MultiIndex([(2, 'Red')],\n",
       "           )"
      ]
     },
     "execution_count": 5,
     "metadata": {},
     "output_type": "execute_result"
    }
   ],
   "source": [
    "idx4.intersection(idx5) # 两个索引的 共有元素。多级索引"
   ]
  }
 ],
 "metadata": {
  "kernelspec": {
   "display_name": "Python 3",
   "language": "python",
   "name": "python3"
  },
  "language_info": {
   "codemirror_mode": {
    "name": "ipython",
    "version": 3
   },
   "file_extension": ".py",
   "mimetype": "text/x-python",
   "name": "python",
   "nbconvert_exporter": "python",
   "pygments_lexer": "ipython3",
   "version": "3.6.8"
  }
 },
 "nbformat": 4,
 "nbformat_minor": 5
}
