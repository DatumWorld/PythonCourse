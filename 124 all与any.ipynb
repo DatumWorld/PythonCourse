{
 "cells": [
  {
   "cell_type": "markdown",
   "id": "cordless-lawyer",
   "metadata": {
    "execution": {
     "iopub.execute_input": "2021-05-10T07:18:52.990449Z",
     "iopub.status.busy": "2021-05-10T07:18:52.990449Z",
     "iopub.status.idle": "2021-05-10T07:18:52.994464Z",
     "shell.execute_reply": "2021-05-10T07:18:52.993452Z",
     "shell.execute_reply.started": "2021-05-10T07:18:52.990449Z"
    }
   },
   "source": [
    "## 124 all与any"
   ]
  },
  {
   "cell_type": "markdown",
   "id": "hungry-thousand",
   "metadata": {
    "tags": []
   },
   "source": [
    "###  all：沿着轴的元素是否都是True \n",
    "###  any：沿着轴的元素是否存在True \n",
    "##### 常常配合其它函数使用\n",
    "参数 axis=0, bool_only=None, skipna=True, level=None, **kwargs"
   ]
  },
  {
   "cell_type": "code",
   "execution_count": 1,
   "id": "electric-deputy",
   "metadata": {
    "execution": {
     "iopub.execute_input": "2021-08-29T03:08:07.609476Z",
     "iopub.status.busy": "2021-08-29T03:08:07.609197Z",
     "iopub.status.idle": "2021-08-29T03:08:07.898366Z",
     "shell.execute_reply": "2021-08-29T03:08:07.897240Z",
     "shell.execute_reply.started": "2021-08-29T03:08:07.609432Z"
    },
    "tags": []
   },
   "outputs": [],
   "source": [
    "import numpy  as np\n",
    "import pandas as pd\n",
    "df = pd.DataFrame({'col1': [True, True], 'col2': [True, False], 'col3': [np.nan,np.nan], 'col4': [True,False],'col5': [np.nan,False],'col6': [np.nan,True],})"
   ]
  },
  {
   "cell_type": "code",
   "execution_count": 2,
   "id": "varying-retreat",
   "metadata": {
    "execution": {
     "iopub.execute_input": "2021-08-29T03:08:07.903086Z",
     "iopub.status.busy": "2021-08-29T03:08:07.902608Z",
     "iopub.status.idle": "2021-08-29T03:08:07.930880Z",
     "shell.execute_reply": "2021-08-29T03:08:07.930186Z",
     "shell.execute_reply.started": "2021-08-29T03:08:07.903063Z"
    }
   },
   "outputs": [
    {
     "data": {
      "text/html": [
       "<div>\n",
       "<style scoped>\n",
       "    .dataframe tbody tr th:only-of-type {\n",
       "        vertical-align: middle;\n",
       "    }\n",
       "\n",
       "    .dataframe tbody tr th {\n",
       "        vertical-align: top;\n",
       "    }\n",
       "\n",
       "    .dataframe thead th {\n",
       "        text-align: right;\n",
       "    }\n",
       "</style>\n",
       "<table border=\"1\" class=\"dataframe\">\n",
       "  <thead>\n",
       "    <tr style=\"text-align: right;\">\n",
       "      <th></th>\n",
       "      <th>col1</th>\n",
       "      <th>col2</th>\n",
       "      <th>col3</th>\n",
       "      <th>col4</th>\n",
       "      <th>col5</th>\n",
       "      <th>col6</th>\n",
       "    </tr>\n",
       "  </thead>\n",
       "  <tbody>\n",
       "    <tr>\n",
       "      <th>0</th>\n",
       "      <td>True</td>\n",
       "      <td>True</td>\n",
       "      <td>NaN</td>\n",
       "      <td>True</td>\n",
       "      <td>NaN</td>\n",
       "      <td>NaN</td>\n",
       "    </tr>\n",
       "    <tr>\n",
       "      <th>1</th>\n",
       "      <td>True</td>\n",
       "      <td>False</td>\n",
       "      <td>NaN</td>\n",
       "      <td>False</td>\n",
       "      <td>False</td>\n",
       "      <td>True</td>\n",
       "    </tr>\n",
       "  </tbody>\n",
       "</table>\n",
       "</div>"
      ],
      "text/plain": [
       "   col1   col2  col3   col4   col5  col6\n",
       "0  True   True   NaN   True    NaN   NaN\n",
       "1  True  False   NaN  False  False  True"
      ]
     },
     "execution_count": 2,
     "metadata": {},
     "output_type": "execute_result"
    }
   ],
   "source": [
    "df"
   ]
  },
  {
   "cell_type": "code",
   "execution_count": 11,
   "id": "accepted-modeling",
   "metadata": {
    "execution": {
     "iopub.execute_input": "2021-08-29T03:20:10.618887Z",
     "iopub.status.busy": "2021-08-29T03:20:10.618629Z",
     "iopub.status.idle": "2021-08-29T03:20:10.643523Z",
     "shell.execute_reply": "2021-08-29T03:20:10.642305Z",
     "shell.execute_reply.started": "2021-08-29T03:20:10.618865Z"
    }
   },
   "outputs": [
    {
     "data": {
      "text/html": [
       "<div>\n",
       "<style scoped>\n",
       "    .dataframe tbody tr th:only-of-type {\n",
       "        vertical-align: middle;\n",
       "    }\n",
       "\n",
       "    .dataframe tbody tr th {\n",
       "        vertical-align: top;\n",
       "    }\n",
       "\n",
       "    .dataframe thead th {\n",
       "        text-align: right;\n",
       "    }\n",
       "</style>\n",
       "<table border=\"1\" class=\"dataframe\">\n",
       "  <thead>\n",
       "    <tr style=\"text-align: right;\">\n",
       "      <th></th>\n",
       "      <th>col3</th>\n",
       "      <th>col4</th>\n",
       "      <th>col5</th>\n",
       "      <th>col6</th>\n",
       "    </tr>\n",
       "    <tr>\n",
       "      <th>col2</th>\n",
       "      <th></th>\n",
       "      <th></th>\n",
       "      <th></th>\n",
       "      <th></th>\n",
       "    </tr>\n",
       "  </thead>\n",
       "  <tbody>\n",
       "    <tr>\n",
       "      <th>True</th>\n",
       "      <td>True</td>\n",
       "      <td>True</td>\n",
       "      <td>True</td>\n",
       "      <td>True</td>\n",
       "    </tr>\n",
       "    <tr>\n",
       "      <th>False</th>\n",
       "      <td>True</td>\n",
       "      <td>False</td>\n",
       "      <td>False</td>\n",
       "      <td>True</td>\n",
       "    </tr>\n",
       "  </tbody>\n",
       "</table>\n",
       "</div>"
      ],
      "text/plain": [
       "       col3   col4   col5  col6\n",
       "col2                           \n",
       "True   True   True   True  True\n",
       "False  True  False  False  True"
      ]
     },
     "execution_count": 11,
     "metadata": {},
     "output_type": "execute_result"
    }
   ],
   "source": [
    "df.set_index(['col1','col2']).all(level='col2') # level 多索引情况，指定层级。类似分组"
   ]
  },
  {
   "cell_type": "code",
   "execution_count": 9,
   "id": "indie-bloom",
   "metadata": {
    "execution": {
     "iopub.execute_input": "2021-08-29T03:18:46.335743Z",
     "iopub.status.busy": "2021-08-29T03:18:46.335373Z",
     "iopub.status.idle": "2021-08-29T03:18:46.354191Z",
     "shell.execute_reply": "2021-08-29T03:18:46.353112Z",
     "shell.execute_reply.started": "2021-08-29T03:18:46.335710Z"
    }
   },
   "outputs": [
    {
     "data": {
      "text/html": [
       "<div>\n",
       "<style scoped>\n",
       "    .dataframe tbody tr th:only-of-type {\n",
       "        vertical-align: middle;\n",
       "    }\n",
       "\n",
       "    .dataframe tbody tr th {\n",
       "        vertical-align: top;\n",
       "    }\n",
       "\n",
       "    .dataframe thead th {\n",
       "        text-align: right;\n",
       "    }\n",
       "</style>\n",
       "<table border=\"1\" class=\"dataframe\">\n",
       "  <thead>\n",
       "    <tr style=\"text-align: right;\">\n",
       "      <th></th>\n",
       "      <th>col3</th>\n",
       "      <th>col4</th>\n",
       "      <th>col5</th>\n",
       "      <th>col6</th>\n",
       "    </tr>\n",
       "    <tr>\n",
       "      <th>col1</th>\n",
       "      <th></th>\n",
       "      <th></th>\n",
       "      <th></th>\n",
       "      <th></th>\n",
       "    </tr>\n",
       "  </thead>\n",
       "  <tbody>\n",
       "    <tr>\n",
       "      <th>True</th>\n",
       "      <td>True</td>\n",
       "      <td>False</td>\n",
       "      <td>False</td>\n",
       "      <td>True</td>\n",
       "    </tr>\n",
       "  </tbody>\n",
       "</table>\n",
       "</div>"
      ],
      "text/plain": [
       "      col3   col4   col5  col6\n",
       "col1                          \n",
       "True  True  False  False  True"
      ]
     },
     "execution_count": 9,
     "metadata": {},
     "output_type": "execute_result"
    }
   ],
   "source": [
    "df.set_index(['col1','col2']).all(level=0) # bool_only 是否只计算bool型列"
   ]
  },
  {
   "cell_type": "code",
   "execution_count": 7,
   "id": "constant-session",
   "metadata": {
    "execution": {
     "iopub.execute_input": "2021-08-29T03:16:52.529384Z",
     "iopub.status.busy": "2021-08-29T03:16:52.528886Z",
     "iopub.status.idle": "2021-08-29T03:16:52.538703Z",
     "shell.execute_reply": "2021-08-29T03:16:52.538129Z",
     "shell.execute_reply.started": "2021-08-29T03:16:52.529336Z"
    }
   },
   "outputs": [
    {
     "data": {
      "text/plain": [
       "col1     True\n",
       "col2    False\n",
       "col4    False\n",
       "dtype: bool"
      ]
     },
     "execution_count": 7,
     "metadata": {},
     "output_type": "execute_result"
    }
   ],
   "source": [
    "df.all(bool_only=True) # bool_only 是否只计算bool型列"
   ]
  },
  {
   "cell_type": "code",
   "execution_count": 3,
   "id": "endangered-wagner",
   "metadata": {
    "execution": {
     "iopub.execute_input": "2021-08-29T03:09:30.287821Z",
     "iopub.status.busy": "2021-08-29T03:09:30.287373Z",
     "iopub.status.idle": "2021-08-29T03:09:30.296807Z",
     "shell.execute_reply": "2021-08-29T03:09:30.295977Z",
     "shell.execute_reply.started": "2021-08-29T03:09:30.287782Z"
    }
   },
   "outputs": [
    {
     "data": {
      "text/plain": [
       "col1     True\n",
       "col2    False\n",
       "col3     True\n",
       "col4    False\n",
       "col5    False\n",
       "col6     True\n",
       "dtype: bool"
      ]
     },
     "execution_count": 3,
     "metadata": {},
     "output_type": "execute_result"
    }
   ],
   "source": [
    "df.all() # 序列都是True，就返回True"
   ]
  },
  {
   "cell_type": "code",
   "execution_count": 6,
   "id": "framed-split",
   "metadata": {
    "execution": {
     "iopub.execute_input": "2021-08-29T03:12:48.355854Z",
     "iopub.status.busy": "2021-08-29T03:12:48.355360Z",
     "iopub.status.idle": "2021-08-29T03:12:48.367666Z",
     "shell.execute_reply": "2021-08-29T03:12:48.365458Z",
     "shell.execute_reply.started": "2021-08-29T03:12:48.355813Z"
    }
   },
   "outputs": [
    {
     "data": {
      "text/plain": [
       "col1     True\n",
       "col2     True\n",
       "col3    False\n",
       "col4     True\n",
       "col5    False\n",
       "col6     True\n",
       "dtype: bool"
      ]
     },
     "execution_count": 6,
     "metadata": {},
     "output_type": "execute_result"
    }
   ],
   "source": [
    "df.any() # 序列存在True，就返回True"
   ]
  },
  {
   "cell_type": "code",
   "execution_count": 4,
   "id": "expensive-first",
   "metadata": {
    "execution": {
     "iopub.execute_input": "2021-08-29T03:11:40.020535Z",
     "iopub.status.busy": "2021-08-29T03:11:40.020200Z",
     "iopub.status.idle": "2021-08-29T03:11:40.030565Z",
     "shell.execute_reply": "2021-08-29T03:11:40.029351Z",
     "shell.execute_reply.started": "2021-08-29T03:11:40.020494Z"
    }
   },
   "outputs": [
    {
     "data": {
      "text/plain": [
       "col1     True\n",
       "col2    False\n",
       "col3     True\n",
       "col4    False\n",
       "col5    False\n",
       "col6     True\n",
       "dtype: bool"
      ]
     },
     "execution_count": 4,
     "metadata": {},
     "output_type": "execute_result"
    }
   ],
   "source": [
    "df.all(skipna=False) # skipna  nan 当做True"
   ]
  },
  {
   "cell_type": "code",
   "execution_count": 5,
   "id": "pretty-particle",
   "metadata": {
    "execution": {
     "iopub.execute_input": "2021-08-29T03:12:29.054221Z",
     "iopub.status.busy": "2021-08-29T03:12:29.053804Z",
     "iopub.status.idle": "2021-08-29T03:12:29.064452Z",
     "shell.execute_reply": "2021-08-29T03:12:29.062809Z",
     "shell.execute_reply.started": "2021-08-29T03:12:29.054180Z"
    }
   },
   "outputs": [
    {
     "data": {
      "text/plain": [
       "col1    True\n",
       "col2    True\n",
       "col3    True\n",
       "col4    True\n",
       "col5    True\n",
       "col6    True\n",
       "dtype: bool"
      ]
     },
     "execution_count": 5,
     "metadata": {},
     "output_type": "execute_result"
    }
   ],
   "source": [
    "df.any(skipna=False) # skipna  nan 当做True"
   ]
  }
 ],
 "metadata": {
  "kernelspec": {
   "display_name": "Python 3",
   "language": "python",
   "name": "python3"
  },
  "language_info": {
   "codemirror_mode": {
    "name": "ipython",
    "version": 3
   },
   "file_extension": ".py",
   "mimetype": "text/x-python",
   "name": "python",
   "nbconvert_exporter": "python",
   "pygments_lexer": "ipython3",
   "version": "3.6.8"
  }
 },
 "nbformat": 4,
 "nbformat_minor": 5
}
