{
 "cells": [
  {
   "cell_type": "markdown",
   "id": "1c2ed2d2",
   "metadata": {
    "execution": {
     "iopub.execute_input": "2021-05-10T07:18:52.990449Z",
     "iopub.status.busy": "2021-05-10T07:18:52.990449Z",
     "iopub.status.idle": "2021-05-10T07:18:52.994464Z",
     "shell.execute_reply": "2021-05-10T07:18:52.993452Z",
     "shell.execute_reply.started": "2021-05-10T07:18:52.990449Z"
    }
   },
   "source": [
    "## 125 squeeze和to_frame"
   ]
  },
  {
   "cell_type": "markdown",
   "id": "40692675",
   "metadata": {
    "tags": []
   },
   "source": [
    "###  squeeze：单元素序列或表转换成标量值；单序列表格转换成单个序列\n",
    "参数 axis=None\n",
    "###  to_frame：序列转换成表格（dateframe）\n",
    "参数 name=None"
   ]
  },
  {
   "cell_type": "code",
   "execution_count": 1,
   "id": "4ec534b9",
   "metadata": {
    "execution": {
     "iopub.execute_input": "2021-08-29T07:26:02.946848Z",
     "iopub.status.busy": "2021-08-29T07:26:02.946457Z",
     "iopub.status.idle": "2021-08-29T07:26:03.231825Z",
     "shell.execute_reply": "2021-08-29T07:26:03.230694Z",
     "shell.execute_reply.started": "2021-08-29T07:26:02.946789Z"
    },
    "tags": []
   },
   "outputs": [],
   "source": [
    "import numpy  as np\n",
    "import pandas as pd\n",
    "primes = pd.Series([2, 3, 5, 7])\n",
    "df = pd.DataFrame([[1, 2], [3, 4]], columns=['a', 'b'])"
   ]
  },
  {
   "cell_type": "code",
   "execution_count": 2,
   "id": "688dd3a7",
   "metadata": {
    "execution": {
     "iopub.execute_input": "2021-08-29T07:26:03.234867Z",
     "iopub.status.busy": "2021-08-29T07:26:03.234412Z",
     "iopub.status.idle": "2021-08-29T07:26:03.248802Z",
     "shell.execute_reply": "2021-08-29T07:26:03.247521Z",
     "shell.execute_reply.started": "2021-08-29T07:26:03.234823Z"
    }
   },
   "outputs": [
    {
     "data": {
      "text/plain": [
       "0    2\n",
       "1    3\n",
       "2    5\n",
       "3    7\n",
       "dtype: int64"
      ]
     },
     "execution_count": 2,
     "metadata": {},
     "output_type": "execute_result"
    }
   ],
   "source": [
    "primes"
   ]
  },
  {
   "cell_type": "code",
   "execution_count": 4,
   "id": "675856f3",
   "metadata": {
    "execution": {
     "iopub.execute_input": "2021-08-29T07:27:29.494543Z",
     "iopub.status.busy": "2021-08-29T07:27:29.494279Z",
     "iopub.status.idle": "2021-08-29T07:27:29.503377Z",
     "shell.execute_reply": "2021-08-29T07:27:29.502472Z",
     "shell.execute_reply.started": "2021-08-29T07:27:29.494521Z"
    }
   },
   "outputs": [
    {
     "data": {
      "text/html": [
       "<div>\n",
       "<style scoped>\n",
       "    .dataframe tbody tr th:only-of-type {\n",
       "        vertical-align: middle;\n",
       "    }\n",
       "\n",
       "    .dataframe tbody tr th {\n",
       "        vertical-align: top;\n",
       "    }\n",
       "\n",
       "    .dataframe thead th {\n",
       "        text-align: right;\n",
       "    }\n",
       "</style>\n",
       "<table border=\"1\" class=\"dataframe\">\n",
       "  <thead>\n",
       "    <tr style=\"text-align: right;\">\n",
       "      <th></th>\n",
       "      <th>primes</th>\n",
       "    </tr>\n",
       "  </thead>\n",
       "  <tbody>\n",
       "    <tr>\n",
       "      <th>0</th>\n",
       "      <td>2</td>\n",
       "    </tr>\n",
       "    <tr>\n",
       "      <th>1</th>\n",
       "      <td>3</td>\n",
       "    </tr>\n",
       "    <tr>\n",
       "      <th>2</th>\n",
       "      <td>5</td>\n",
       "    </tr>\n",
       "    <tr>\n",
       "      <th>3</th>\n",
       "      <td>7</td>\n",
       "    </tr>\n",
       "  </tbody>\n",
       "</table>\n",
       "</div>"
      ],
      "text/plain": [
       "   primes\n",
       "0       2\n",
       "1       3\n",
       "2       5\n",
       "3       7"
      ]
     },
     "execution_count": 4,
     "metadata": {},
     "output_type": "execute_result"
    }
   ],
   "source": [
    "primes.to_frame(name='primes') #将序列转换成df 表格。name  列名"
   ]
  },
  {
   "cell_type": "code",
   "execution_count": 5,
   "id": "5373de5f",
   "metadata": {
    "execution": {
     "iopub.execute_input": "2021-08-29T07:28:04.758486Z",
     "iopub.status.busy": "2021-08-29T07:28:04.758028Z",
     "iopub.status.idle": "2021-08-29T07:28:04.768126Z",
     "shell.execute_reply": "2021-08-29T07:28:04.767046Z",
     "shell.execute_reply.started": "2021-08-29T07:28:04.758444Z"
    }
   },
   "outputs": [
    {
     "data": {
      "text/html": [
       "<div>\n",
       "<style scoped>\n",
       "    .dataframe tbody tr th:only-of-type {\n",
       "        vertical-align: middle;\n",
       "    }\n",
       "\n",
       "    .dataframe tbody tr th {\n",
       "        vertical-align: top;\n",
       "    }\n",
       "\n",
       "    .dataframe thead th {\n",
       "        text-align: right;\n",
       "    }\n",
       "</style>\n",
       "<table border=\"1\" class=\"dataframe\">\n",
       "  <thead>\n",
       "    <tr style=\"text-align: right;\">\n",
       "      <th></th>\n",
       "      <th>a</th>\n",
       "      <th>b</th>\n",
       "    </tr>\n",
       "  </thead>\n",
       "  <tbody>\n",
       "    <tr>\n",
       "      <th>0</th>\n",
       "      <td>1</td>\n",
       "      <td>2</td>\n",
       "    </tr>\n",
       "    <tr>\n",
       "      <th>1</th>\n",
       "      <td>3</td>\n",
       "      <td>4</td>\n",
       "    </tr>\n",
       "  </tbody>\n",
       "</table>\n",
       "</div>"
      ],
      "text/plain": [
       "   a  b\n",
       "0  1  2\n",
       "1  3  4"
      ]
     },
     "execution_count": 5,
     "metadata": {},
     "output_type": "execute_result"
    }
   ],
   "source": [
    "df"
   ]
  },
  {
   "cell_type": "code",
   "execution_count": 27,
   "id": "d3c49f00",
   "metadata": {
    "execution": {
     "iopub.execute_input": "2021-08-29T07:37:10.786608Z",
     "iopub.status.busy": "2021-08-29T07:37:10.786173Z",
     "iopub.status.idle": "2021-08-29T07:37:10.795516Z",
     "shell.execute_reply": "2021-08-29T07:37:10.794615Z",
     "shell.execute_reply.started": "2021-08-29T07:37:10.786564Z"
    }
   },
   "outputs": [
    {
     "data": {
      "text/html": [
       "<div>\n",
       "<style scoped>\n",
       "    .dataframe tbody tr th:only-of-type {\n",
       "        vertical-align: middle;\n",
       "    }\n",
       "\n",
       "    .dataframe tbody tr th {\n",
       "        vertical-align: top;\n",
       "    }\n",
       "\n",
       "    .dataframe thead th {\n",
       "        text-align: right;\n",
       "    }\n",
       "</style>\n",
       "<table border=\"1\" class=\"dataframe\">\n",
       "  <thead>\n",
       "    <tr style=\"text-align: right;\">\n",
       "      <th></th>\n",
       "      <th>a</th>\n",
       "      <th>b</th>\n",
       "    </tr>\n",
       "  </thead>\n",
       "  <tbody>\n",
       "    <tr>\n",
       "      <th>0</th>\n",
       "      <td>1</td>\n",
       "      <td>2</td>\n",
       "    </tr>\n",
       "    <tr>\n",
       "      <th>1</th>\n",
       "      <td>3</td>\n",
       "      <td>4</td>\n",
       "    </tr>\n",
       "  </tbody>\n",
       "</table>\n",
       "</div>"
      ],
      "text/plain": [
       "   a  b\n",
       "0  1  2\n",
       "1  3  4"
      ]
     },
     "execution_count": 27,
     "metadata": {},
     "output_type": "execute_result"
    }
   ],
   "source": [
    "df.squeeze()# 不符合条件，保持不变"
   ]
  },
  {
   "cell_type": "code",
   "execution_count": 7,
   "id": "10c3eb86",
   "metadata": {
    "execution": {
     "iopub.execute_input": "2021-08-29T07:28:58.423054Z",
     "iopub.status.busy": "2021-08-29T07:28:58.422690Z",
     "iopub.status.idle": "2021-08-29T07:28:58.434605Z",
     "shell.execute_reply": "2021-08-29T07:28:58.433530Z",
     "shell.execute_reply.started": "2021-08-29T07:28:58.423020Z"
    }
   },
   "outputs": [
    {
     "data": {
      "text/plain": [
       "0    1\n",
       "Name: a, dtype: int64"
      ]
     },
     "execution_count": 7,
     "metadata": {},
     "output_type": "execute_result"
    }
   ],
   "source": [
    "df.loc[df.a==1,'a']"
   ]
  },
  {
   "cell_type": "code",
   "execution_count": 8,
   "id": "5dfcbd95",
   "metadata": {
    "execution": {
     "iopub.execute_input": "2021-08-29T07:29:31.005515Z",
     "iopub.status.busy": "2021-08-29T07:29:31.004757Z",
     "iopub.status.idle": "2021-08-29T07:29:31.015446Z",
     "shell.execute_reply": "2021-08-29T07:29:31.012818Z",
     "shell.execute_reply.started": "2021-08-29T07:29:31.005444Z"
    }
   },
   "outputs": [
    {
     "data": {
      "text/plain": [
       "pandas.core.series.Series"
      ]
     },
     "execution_count": 8,
     "metadata": {},
     "output_type": "execute_result"
    }
   ],
   "source": [
    "type(df.loc[df.a==1,'a'])"
   ]
  },
  {
   "cell_type": "code",
   "execution_count": 9,
   "id": "4d038d32",
   "metadata": {
    "execution": {
     "iopub.execute_input": "2021-08-29T07:30:01.971153Z",
     "iopub.status.busy": "2021-08-29T07:30:01.970628Z",
     "iopub.status.idle": "2021-08-29T07:30:01.977672Z",
     "shell.execute_reply": "2021-08-29T07:30:01.976972Z",
     "shell.execute_reply.started": "2021-08-29T07:30:01.971096Z"
    }
   },
   "outputs": [
    {
     "data": {
      "text/plain": [
       "1"
      ]
     },
     "execution_count": 9,
     "metadata": {},
     "output_type": "execute_result"
    }
   ],
   "source": [
    "df.loc[df.a==1,'a'].squeeze() # 单元素序列转换成标量值"
   ]
  },
  {
   "cell_type": "code",
   "execution_count": 11,
   "id": "b93b8544",
   "metadata": {
    "execution": {
     "iopub.execute_input": "2021-08-29T07:30:33.277618Z",
     "iopub.status.busy": "2021-08-29T07:30:33.277330Z",
     "iopub.status.idle": "2021-08-29T07:30:33.282405Z",
     "shell.execute_reply": "2021-08-29T07:30:33.281782Z",
     "shell.execute_reply.started": "2021-08-29T07:30:33.277595Z"
    }
   },
   "outputs": [
    {
     "data": {
      "text/plain": [
       "(1, 1)"
      ]
     },
     "execution_count": 11,
     "metadata": {},
     "output_type": "execute_result"
    }
   ],
   "source": [
    "df.loc[0,'a'],df.iloc[0,0]"
   ]
  },
  {
   "cell_type": "code",
   "execution_count": 21,
   "id": "fb892733",
   "metadata": {
    "execution": {
     "iopub.execute_input": "2021-08-29T07:34:14.223554Z",
     "iopub.status.busy": "2021-08-29T07:34:14.222949Z",
     "iopub.status.idle": "2021-08-29T07:34:14.238153Z",
     "shell.execute_reply": "2021-08-29T07:34:14.236570Z",
     "shell.execute_reply.started": "2021-08-29T07:34:14.223502Z"
    }
   },
   "outputs": [
    {
     "data": {
      "text/html": [
       "<div>\n",
       "<style scoped>\n",
       "    .dataframe tbody tr th:only-of-type {\n",
       "        vertical-align: middle;\n",
       "    }\n",
       "\n",
       "    .dataframe tbody tr th {\n",
       "        vertical-align: top;\n",
       "    }\n",
       "\n",
       "    .dataframe thead th {\n",
       "        text-align: right;\n",
       "    }\n",
       "</style>\n",
       "<table border=\"1\" class=\"dataframe\">\n",
       "  <thead>\n",
       "    <tr style=\"text-align: right;\">\n",
       "      <th></th>\n",
       "      <th>a</th>\n",
       "    </tr>\n",
       "  </thead>\n",
       "  <tbody>\n",
       "    <tr>\n",
       "      <th>0</th>\n",
       "      <td>1</td>\n",
       "    </tr>\n",
       "  </tbody>\n",
       "</table>\n",
       "</div>"
      ],
      "text/plain": [
       "   a\n",
       "0  1"
      ]
     },
     "execution_count": 21,
     "metadata": {},
     "output_type": "execute_result"
    }
   ],
   "source": [
    "df.loc[df.a==1,['a']]"
   ]
  },
  {
   "cell_type": "code",
   "execution_count": 22,
   "id": "ef51e999",
   "metadata": {
    "execution": {
     "iopub.execute_input": "2021-08-29T07:34:29.197372Z",
     "iopub.status.busy": "2021-08-29T07:34:29.196927Z",
     "iopub.status.idle": "2021-08-29T07:34:29.206053Z",
     "shell.execute_reply": "2021-08-29T07:34:29.205053Z",
     "shell.execute_reply.started": "2021-08-29T07:34:29.197336Z"
    }
   },
   "outputs": [
    {
     "data": {
      "text/plain": [
       "1"
      ]
     },
     "execution_count": 22,
     "metadata": {},
     "output_type": "execute_result"
    }
   ],
   "source": [
    "df.loc[df.a==1,['a']].squeeze()"
   ]
  },
  {
   "cell_type": "code",
   "execution_count": 20,
   "id": "7c7c38c7",
   "metadata": {
    "execution": {
     "iopub.execute_input": "2021-08-29T07:33:48.795462Z",
     "iopub.status.busy": "2021-08-29T07:33:48.795077Z",
     "iopub.status.idle": "2021-08-29T07:33:48.803517Z",
     "shell.execute_reply": "2021-08-29T07:33:48.802518Z",
     "shell.execute_reply.started": "2021-08-29T07:33:48.795419Z"
    }
   },
   "outputs": [
    {
     "data": {
      "text/plain": [
       "pandas.core.frame.DataFrame"
      ]
     },
     "execution_count": 20,
     "metadata": {},
     "output_type": "execute_result"
    }
   ],
   "source": [
    "type(df.loc[df.a==1,['a']]) "
   ]
  },
  {
   "cell_type": "code",
   "execution_count": 24,
   "id": "e690bf3d",
   "metadata": {
    "execution": {
     "iopub.execute_input": "2021-08-29T07:35:11.238050Z",
     "iopub.status.busy": "2021-08-29T07:35:11.237673Z",
     "iopub.status.idle": "2021-08-29T07:35:11.243265Z",
     "shell.execute_reply": "2021-08-29T07:35:11.242633Z",
     "shell.execute_reply.started": "2021-08-29T07:35:11.238018Z"
    }
   },
   "outputs": [
    {
     "data": {
      "text/plain": [
       "pandas.core.frame.DataFrame"
      ]
     },
     "execution_count": 24,
     "metadata": {},
     "output_type": "execute_result"
    }
   ],
   "source": [
    "type(df[['a']])"
   ]
  },
  {
   "cell_type": "code",
   "execution_count": 25,
   "id": "9d5e320a",
   "metadata": {
    "execution": {
     "iopub.execute_input": "2021-08-29T07:35:43.490532Z",
     "iopub.status.busy": "2021-08-29T07:35:43.490269Z",
     "iopub.status.idle": "2021-08-29T07:35:43.498991Z",
     "shell.execute_reply": "2021-08-29T07:35:43.497781Z",
     "shell.execute_reply.started": "2021-08-29T07:35:43.490501Z"
    }
   },
   "outputs": [
    {
     "data": {
      "text/plain": [
       "0    1\n",
       "1    3\n",
       "Name: a, dtype: int64"
      ]
     },
     "execution_count": 25,
     "metadata": {},
     "output_type": "execute_result"
    }
   ],
   "source": [
    "df[['a']].squeeze() # 单序列表格 “挤压”成了 序列类型"
   ]
  },
  {
   "cell_type": "code",
   "execution_count": 26,
   "id": "14b2a188",
   "metadata": {
    "execution": {
     "iopub.execute_input": "2021-08-29T07:36:04.227603Z",
     "iopub.status.busy": "2021-08-29T07:36:04.227285Z",
     "iopub.status.idle": "2021-08-29T07:36:04.235444Z",
     "shell.execute_reply": "2021-08-29T07:36:04.234646Z",
     "shell.execute_reply.started": "2021-08-29T07:36:04.227576Z"
    }
   },
   "outputs": [
    {
     "data": {
      "text/plain": [
       "pandas.core.series.Series"
      ]
     },
     "execution_count": 26,
     "metadata": {},
     "output_type": "execute_result"
    }
   ],
   "source": [
    "type(df[['a']].squeeze())"
   ]
  }
 ],
 "metadata": {
  "kernelspec": {
   "display_name": "Python 3",
   "language": "python",
   "name": "python3"
  },
  "language_info": {
   "codemirror_mode": {
    "name": "ipython",
    "version": 3
   },
   "file_extension": ".py",
   "mimetype": "text/x-python",
   "name": "python",
   "nbconvert_exporter": "python",
   "pygments_lexer": "ipython3",
   "version": "3.8.8"
  }
 },
 "nbformat": 4,
 "nbformat_minor": 5
}
