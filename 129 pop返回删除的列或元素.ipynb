{
 "cells": [
  {
   "cell_type": "markdown",
   "id": "c0c09dba",
   "metadata": {
    "execution": {
     "iopub.execute_input": "2021-05-10T07:18:52.990449Z",
     "iopub.status.busy": "2021-05-10T07:18:52.990449Z",
     "iopub.status.idle": "2021-05-10T07:18:52.994464Z",
     "shell.execute_reply": "2021-05-10T07:18:52.993452Z",
     "shell.execute_reply.started": "2021-05-10T07:18:52.990449Z"
    }
   },
   "source": [
    "## 129 pop返回删除的列或元素"
   ]
  },
  {
   "cell_type": "markdown",
   "id": "f8eac7fd",
   "metadata": {
    "tags": []
   },
   "source": [
    "### pop：返回删除的列或元素。\n",
    "参数 item"
   ]
  },
  {
   "cell_type": "code",
   "execution_count": 30,
   "id": "bd6890d9",
   "metadata": {
    "execution": {
     "iopub.execute_input": "2021-08-30T03:35:48.498502Z",
     "iopub.status.busy": "2021-08-30T03:35:48.498502Z",
     "iopub.status.idle": "2021-08-30T03:35:48.502547Z",
     "shell.execute_reply": "2021-08-30T03:35:48.502547Z",
     "shell.execute_reply.started": "2021-08-30T03:35:48.498502Z"
    },
    "tags": []
   },
   "outputs": [],
   "source": [
    "import numpy  as np\n",
    "import pandas as pd\n",
    "data = {'col_0': [9, -3, 0, -1, 5], 'col_1': [-2, -7, 6, 8, -5]}\n",
    "df = pd.DataFrame(data)"
   ]
  },
  {
   "cell_type": "code",
   "execution_count": 31,
   "id": "beae23d5",
   "metadata": {
    "execution": {
     "iopub.execute_input": "2021-08-30T03:35:49.490532Z",
     "iopub.status.busy": "2021-08-30T03:35:49.490532Z",
     "iopub.status.idle": "2021-08-30T03:35:49.496532Z",
     "shell.execute_reply": "2021-08-30T03:35:49.496532Z",
     "shell.execute_reply.started": "2021-08-30T03:35:49.490532Z"
    },
    "tags": []
   },
   "outputs": [
    {
     "data": {
      "text/html": [
       "<div>\n",
       "<style scoped>\n",
       "    .dataframe tbody tr th:only-of-type {\n",
       "        vertical-align: middle;\n",
       "    }\n",
       "\n",
       "    .dataframe tbody tr th {\n",
       "        vertical-align: top;\n",
       "    }\n",
       "\n",
       "    .dataframe thead th {\n",
       "        text-align: right;\n",
       "    }\n",
       "</style>\n",
       "<table border=\"1\" class=\"dataframe\">\n",
       "  <thead>\n",
       "    <tr style=\"text-align: right;\">\n",
       "      <th></th>\n",
       "      <th>col_0</th>\n",
       "      <th>col_1</th>\n",
       "    </tr>\n",
       "  </thead>\n",
       "  <tbody>\n",
       "    <tr>\n",
       "      <th>0</th>\n",
       "      <td>9</td>\n",
       "      <td>-2</td>\n",
       "    </tr>\n",
       "    <tr>\n",
       "      <th>1</th>\n",
       "      <td>-3</td>\n",
       "      <td>-7</td>\n",
       "    </tr>\n",
       "    <tr>\n",
       "      <th>2</th>\n",
       "      <td>0</td>\n",
       "      <td>6</td>\n",
       "    </tr>\n",
       "    <tr>\n",
       "      <th>3</th>\n",
       "      <td>-1</td>\n",
       "      <td>8</td>\n",
       "    </tr>\n",
       "    <tr>\n",
       "      <th>4</th>\n",
       "      <td>5</td>\n",
       "      <td>-5</td>\n",
       "    </tr>\n",
       "  </tbody>\n",
       "</table>\n",
       "</div>"
      ],
      "text/plain": [
       "   col_0  col_1\n",
       "0      9     -2\n",
       "1     -3     -7\n",
       "2      0      6\n",
       "3     -1      8\n",
       "4      5     -5"
      ]
     },
     "execution_count": 31,
     "metadata": {},
     "output_type": "execute_result"
    }
   ],
   "source": [
    "df"
   ]
  },
  {
   "cell_type": "code",
   "execution_count": 32,
   "id": "6bf4a4b1-4b33-4dfa-ac00-3791c1a31c26",
   "metadata": {
    "execution": {
     "iopub.execute_input": "2021-08-30T03:35:50.672534Z",
     "iopub.status.busy": "2021-08-30T03:35:50.672534Z",
     "iopub.status.idle": "2021-08-30T03:35:50.680507Z",
     "shell.execute_reply": "2021-08-30T03:35:50.678519Z",
     "shell.execute_reply.started": "2021-08-30T03:35:50.672534Z"
    },
    "tags": []
   },
   "outputs": [
    {
     "data": {
      "text/plain": [
       "0   -2\n",
       "1   -7\n",
       "2    6\n",
       "3    8\n",
       "4   -5\n",
       "Name: col_1, dtype: int64"
      ]
     },
     "execution_count": 32,
     "metadata": {},
     "output_type": "execute_result"
    }
   ],
   "source": [
    "df.col_1"
   ]
  },
  {
   "cell_type": "code",
   "execution_count": 33,
   "id": "b93779cb-1839-4347-b4be-b661743b3b32",
   "metadata": {
    "execution": {
     "iopub.execute_input": "2021-08-30T03:35:54.515503Z",
     "iopub.status.busy": "2021-08-30T03:35:54.514502Z",
     "iopub.status.idle": "2021-08-30T03:35:54.520506Z",
     "shell.execute_reply": "2021-08-30T03:35:54.519515Z",
     "shell.execute_reply.started": "2021-08-30T03:35:54.515503Z"
    },
    "tags": []
   },
   "outputs": [
    {
     "data": {
      "text/plain": [
       "-2"
      ]
     },
     "execution_count": 33,
     "metadata": {},
     "output_type": "execute_result"
    }
   ],
   "source": [
    "df.col_1.pop(item=0) # “弹出” col_1 列的0行元素。就是将这个元素从列中删除，并返回删除的这个元素的值"
   ]
  },
  {
   "cell_type": "code",
   "execution_count": 12,
   "id": "526225e2-e4b8-486c-9223-6c4edc31ef13",
   "metadata": {
    "execution": {
     "iopub.execute_input": "2021-08-30T03:28:11.037257Z",
     "iopub.status.busy": "2021-08-30T03:28:11.037257Z",
     "iopub.status.idle": "2021-08-30T03:28:11.047235Z",
     "shell.execute_reply": "2021-08-30T03:28:11.045239Z",
     "shell.execute_reply.started": "2021-08-30T03:28:11.037257Z"
    },
    "tags": []
   },
   "outputs": [
    {
     "data": {
      "text/html": [
       "<div>\n",
       "<style scoped>\n",
       "    .dataframe tbody tr th:only-of-type {\n",
       "        vertical-align: middle;\n",
       "    }\n",
       "\n",
       "    .dataframe tbody tr th {\n",
       "        vertical-align: top;\n",
       "    }\n",
       "\n",
       "    .dataframe thead th {\n",
       "        text-align: right;\n",
       "    }\n",
       "</style>\n",
       "<table border=\"1\" class=\"dataframe\">\n",
       "  <thead>\n",
       "    <tr style=\"text-align: right;\">\n",
       "      <th></th>\n",
       "      <th>col_1</th>\n",
       "    </tr>\n",
       "  </thead>\n",
       "  <tbody>\n",
       "    <tr>\n",
       "      <th>0</th>\n",
       "      <td>-2</td>\n",
       "    </tr>\n",
       "    <tr>\n",
       "      <th>1</th>\n",
       "      <td>-7</td>\n",
       "    </tr>\n",
       "    <tr>\n",
       "      <th>2</th>\n",
       "      <td>6</td>\n",
       "    </tr>\n",
       "    <tr>\n",
       "      <th>3</th>\n",
       "      <td>8</td>\n",
       "    </tr>\n",
       "    <tr>\n",
       "      <th>4</th>\n",
       "      <td>-5</td>\n",
       "    </tr>\n",
       "  </tbody>\n",
       "</table>\n",
       "</div>"
      ],
      "text/plain": [
       "   col_1\n",
       "0     -2\n",
       "1     -7\n",
       "2      6\n",
       "3      8\n",
       "4     -5"
      ]
     },
     "execution_count": 12,
     "metadata": {},
     "output_type": "execute_result"
    }
   ],
   "source": [
    "df"
   ]
  },
  {
   "cell_type": "code",
   "execution_count": 11,
   "id": "42d526eb-65e7-49ab-80cc-b7391a33b466",
   "metadata": {
    "execution": {
     "iopub.execute_input": "2021-08-30T03:28:10.147227Z",
     "iopub.status.busy": "2021-08-30T03:28:10.146227Z",
     "iopub.status.idle": "2021-08-30T03:28:10.154237Z",
     "shell.execute_reply": "2021-08-30T03:28:10.152277Z",
     "shell.execute_reply.started": "2021-08-30T03:28:10.147227Z"
    },
    "tags": []
   },
   "outputs": [
    {
     "data": {
      "text/plain": [
       "0    9\n",
       "1   -3\n",
       "2    0\n",
       "3   -1\n",
       "4    5\n",
       "Name: col_0, dtype: int64"
      ]
     },
     "execution_count": 11,
     "metadata": {},
     "output_type": "execute_result"
    }
   ],
   "source": [
    "df.pop(item='col_0') # “弹出” col_0 列。就是将这列从表中删除，并返回删除的列"
   ]
  }
 ],
 "metadata": {
  "kernelspec": {
   "display_name": "Python 3 (ipykernel)",
   "language": "python",
   "name": "python3"
  },
  "language_info": {
   "codemirror_mode": {
    "name": "ipython",
    "version": 3
   },
   "file_extension": ".py",
   "mimetype": "text/x-python",
   "name": "python",
   "nbconvert_exporter": "python",
   "pygments_lexer": "ipython3",
   "version": "3.8.11"
  }
 },
 "nbformat": 4,
 "nbformat_minor": 5
}
