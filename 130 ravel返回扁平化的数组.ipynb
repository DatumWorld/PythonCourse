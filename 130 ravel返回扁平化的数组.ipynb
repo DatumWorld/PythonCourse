{
 "cells": [
  {
   "cell_type": "markdown",
   "id": "c0c09dba",
   "metadata": {
    "execution": {
     "iopub.execute_input": "2021-05-10T07:18:52.990449Z",
     "iopub.status.busy": "2021-05-10T07:18:52.990449Z",
     "iopub.status.idle": "2021-05-10T07:18:52.994464Z",
     "shell.execute_reply": "2021-05-10T07:18:52.993452Z",
     "shell.execute_reply.started": "2021-05-10T07:18:52.990449Z"
    }
   },
   "source": [
    "## 130 ravel返回扁平化的数组"
   ]
  },
  {
   "cell_type": "markdown",
   "id": "f8eac7fd",
   "metadata": {
    "tags": []
   },
   "source": [
    "### ravel：返回序列或索引扁平化的数组\n",
    "参数 order='C'"
   ]
  },
  {
   "cell_type": "code",
   "execution_count": 1,
   "id": "bd6890d9",
   "metadata": {
    "execution": {
     "iopub.execute_input": "2021-08-30T03:48:02.003700Z",
     "iopub.status.busy": "2021-08-30T03:48:02.003700Z",
     "iopub.status.idle": "2021-08-30T03:48:02.231732Z",
     "shell.execute_reply": "2021-08-30T03:48:02.231732Z",
     "shell.execute_reply.started": "2021-08-30T03:48:02.003700Z"
    },
    "tags": []
   },
   "outputs": [],
   "source": [
    "import numpy  as np\n",
    "import pandas as pd\n",
    "data = {'col_0': [9, -3, 0, -1, 5], 'col_1': [-2, -7, 6, 8, -5]}\n",
    "df = pd.DataFrame(data)"
   ]
  },
  {
   "cell_type": "code",
   "execution_count": 2,
   "id": "beae23d5",
   "metadata": {
    "execution": {
     "iopub.execute_input": "2021-08-30T03:48:02.232700Z",
     "iopub.status.busy": "2021-08-30T03:48:02.232700Z",
     "iopub.status.idle": "2021-08-30T03:48:02.243706Z",
     "shell.execute_reply": "2021-08-30T03:48:02.242704Z",
     "shell.execute_reply.started": "2021-08-30T03:48:02.232700Z"
    },
    "tags": []
   },
   "outputs": [
    {
     "data": {
      "text/html": [
       "<div>\n",
       "<style scoped>\n",
       "    .dataframe tbody tr th:only-of-type {\n",
       "        vertical-align: middle;\n",
       "    }\n",
       "\n",
       "    .dataframe tbody tr th {\n",
       "        vertical-align: top;\n",
       "    }\n",
       "\n",
       "    .dataframe thead th {\n",
       "        text-align: right;\n",
       "    }\n",
       "</style>\n",
       "<table border=\"1\" class=\"dataframe\">\n",
       "  <thead>\n",
       "    <tr style=\"text-align: right;\">\n",
       "      <th></th>\n",
       "      <th>col_0</th>\n",
       "      <th>col_1</th>\n",
       "    </tr>\n",
       "  </thead>\n",
       "  <tbody>\n",
       "    <tr>\n",
       "      <th>0</th>\n",
       "      <td>9</td>\n",
       "      <td>-2</td>\n",
       "    </tr>\n",
       "    <tr>\n",
       "      <th>1</th>\n",
       "      <td>-3</td>\n",
       "      <td>-7</td>\n",
       "    </tr>\n",
       "    <tr>\n",
       "      <th>2</th>\n",
       "      <td>0</td>\n",
       "      <td>6</td>\n",
       "    </tr>\n",
       "    <tr>\n",
       "      <th>3</th>\n",
       "      <td>-1</td>\n",
       "      <td>8</td>\n",
       "    </tr>\n",
       "    <tr>\n",
       "      <th>4</th>\n",
       "      <td>5</td>\n",
       "      <td>-5</td>\n",
       "    </tr>\n",
       "  </tbody>\n",
       "</table>\n",
       "</div>"
      ],
      "text/plain": [
       "   col_0  col_1\n",
       "0      9     -2\n",
       "1     -3     -7\n",
       "2      0      6\n",
       "3     -1      8\n",
       "4      5     -5"
      ]
     },
     "execution_count": 2,
     "metadata": {},
     "output_type": "execute_result"
    }
   ],
   "source": [
    "df"
   ]
  },
  {
   "cell_type": "code",
   "execution_count": 6,
   "id": "3e4c8488-f46a-43ba-8d5c-a9ee16d656f2",
   "metadata": {
    "execution": {
     "iopub.execute_input": "2021-08-30T03:50:39.575201Z",
     "iopub.status.busy": "2021-08-30T03:50:39.575201Z",
     "iopub.status.idle": "2021-08-30T03:50:39.583196Z",
     "shell.execute_reply": "2021-08-30T03:50:39.581193Z",
     "shell.execute_reply.started": "2021-08-30T03:50:39.575201Z"
    },
    "tags": []
   },
   "outputs": [
    {
     "data": {
      "text/plain": [
       "array([ 9, -3,  0, -1,  5], dtype=int64)"
      ]
     },
     "execution_count": 6,
     "metadata": {},
     "output_type": "execute_result"
    }
   ],
   "source": [
    "df.col_0.ravel() # 序列扁平化成数组返回。"
   ]
  },
  {
   "cell_type": "code",
   "execution_count": 3,
   "id": "c4ad7d88-5025-4f93-82e9-1d16fe52dffa",
   "metadata": {
    "execution": {
     "iopub.execute_input": "2021-08-30T03:48:36.540127Z",
     "iopub.status.busy": "2021-08-30T03:48:36.539127Z",
     "iopub.status.idle": "2021-08-30T03:48:36.551136Z",
     "shell.execute_reply": "2021-08-30T03:48:36.548129Z",
     "shell.execute_reply.started": "2021-08-30T03:48:36.540127Z"
    },
    "tags": []
   },
   "outputs": [
    {
     "name": "stderr",
     "output_type": "stream",
     "text": [
      "C:\\Users\\ADMINI~1\\AppData\\Local\\Temp\\1/ipykernel_544/934222693.py:1: FutureWarning: Index.ravel returning ndarray is deprecated; in a future version this will return a view on self.\n",
      "  df.index.ravel()\n"
     ]
    },
    {
     "data": {
      "text/plain": [
       "array([0, 1, 2, 3, 4], dtype=int64)"
      ]
     },
     "execution_count": 3,
     "metadata": {},
     "output_type": "execute_result"
    }
   ],
   "source": [
    "df.index.ravel() # 索引扁平化成数组返回。注意warning"
   ]
  },
  {
   "cell_type": "code",
   "execution_count": 4,
   "id": "9fdf122e-a75d-4fe0-a04f-3bfdeb379c55",
   "metadata": {
    "execution": {
     "iopub.execute_input": "2021-08-30T03:49:50.649196Z",
     "iopub.status.busy": "2021-08-30T03:49:50.649196Z",
     "iopub.status.idle": "2021-08-30T03:49:50.654195Z",
     "shell.execute_reply": "2021-08-30T03:49:50.654195Z",
     "shell.execute_reply.started": "2021-08-30T03:49:50.649196Z"
    },
    "tags": []
   },
   "outputs": [
    {
     "data": {
      "text/plain": [
       "Index(['col_0', 'col_1'], dtype='object')"
      ]
     },
     "execution_count": 4,
     "metadata": {},
     "output_type": "execute_result"
    }
   ],
   "source": [
    "df.columns"
   ]
  },
  {
   "cell_type": "code",
   "execution_count": 5,
   "id": "abeb9872-4d80-4ef2-8c44-d7f374806c56",
   "metadata": {
    "execution": {
     "iopub.execute_input": "2021-08-30T03:50:07.457199Z",
     "iopub.status.busy": "2021-08-30T03:50:07.456195Z",
     "iopub.status.idle": "2021-08-30T03:50:07.464204Z",
     "shell.execute_reply": "2021-08-30T03:50:07.463214Z",
     "shell.execute_reply.started": "2021-08-30T03:50:07.457199Z"
    },
    "tags": []
   },
   "outputs": [
    {
     "name": "stderr",
     "output_type": "stream",
     "text": [
      "C:\\Users\\ADMINI~1\\AppData\\Local\\Temp\\1/ipykernel_544/2596401100.py:1: FutureWarning: Index.ravel returning ndarray is deprecated; in a future version this will return a view on self.\n",
      "  df.set_index(['col_0', 'col_1']).index.ravel() # 索引扁平化成数组返回。注意warning\n"
     ]
    },
    {
     "data": {
      "text/plain": [
       "array([(9, -2), (-3, -7), (0, 6), (-1, 8), (5, -5)], dtype=object)"
      ]
     },
     "execution_count": 5,
     "metadata": {},
     "output_type": "execute_result"
    }
   ],
   "source": [
    "df.set_index(['col_0', 'col_1']).index.ravel() # 索引扁平化成数组返回。注意warning。二级索引的"
   ]
  }
 ],
 "metadata": {
  "kernelspec": {
   "display_name": "Python 3 (ipykernel)",
   "language": "python",
   "name": "python3"
  },
  "language_info": {
   "codemirror_mode": {
    "name": "ipython",
    "version": 3
   },
   "file_extension": ".py",
   "mimetype": "text/x-python",
   "name": "python",
   "nbconvert_exporter": "python",
   "pygments_lexer": "ipython3",
   "version": "3.8.11"
  }
 },
 "nbformat": 4,
 "nbformat_minor": 5
}
