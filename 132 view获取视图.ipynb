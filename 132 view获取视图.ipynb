{
 "cells": [
  {
   "cell_type": "markdown",
   "id": "efc00f43",
   "metadata": {
    "execution": {
     "iopub.execute_input": "2021-05-10T07:18:52.990449Z",
     "iopub.status.busy": "2021-05-10T07:18:52.990449Z",
     "iopub.status.idle": "2021-05-10T07:18:52.994464Z",
     "shell.execute_reply": "2021-05-10T07:18:52.993452Z",
     "shell.execute_reply.started": "2021-05-10T07:18:52.990449Z"
    }
   },
   "source": [
    "## 132 view获取视图"
   ]
  },
  {
   "cell_type": "markdown",
   "id": "fff861c9",
   "metadata": {
    "tags": []
   },
   "source": [
    "### view：获取视图。获取原序列数据的新序列，两者共享内存中的数据，新类型必须与原类型有同样大小的字节数，否则会导致索引混乱\n",
    "参数 dtype=None"
   ]
  },
  {
   "cell_type": "code",
   "execution_count": 28,
   "id": "d3db11ce",
   "metadata": {
    "execution": {
     "iopub.execute_input": "2021-08-30T11:40:40.117448Z",
     "iopub.status.busy": "2021-08-30T11:40:40.116993Z",
     "iopub.status.idle": "2021-08-30T11:40:40.123285Z",
     "shell.execute_reply": "2021-08-30T11:40:40.122552Z",
     "shell.execute_reply.started": "2021-08-30T11:40:40.117409Z"
    },
    "tags": []
   },
   "outputs": [],
   "source": [
    "import numpy  as np\n",
    "import pandas as pd\n",
    "data = {'col_0': [9, -3, 0, -1, 5], 'col_1': [-2, -7, 6, 8, -5]}\n",
    "df = pd.DataFrame(data,dtype='int16')"
   ]
  },
  {
   "cell_type": "code",
   "execution_count": 29,
   "id": "c29d1e54",
   "metadata": {
    "execution": {
     "iopub.execute_input": "2021-08-30T11:40:40.928090Z",
     "iopub.status.busy": "2021-08-30T11:40:40.927729Z",
     "iopub.status.idle": "2021-08-30T11:40:40.943583Z",
     "shell.execute_reply": "2021-08-30T11:40:40.942617Z",
     "shell.execute_reply.started": "2021-08-30T11:40:40.928061Z"
    },
    "tags": []
   },
   "outputs": [
    {
     "data": {
      "text/html": [
       "<div>\n",
       "<style scoped>\n",
       "    .dataframe tbody tr th:only-of-type {\n",
       "        vertical-align: middle;\n",
       "    }\n",
       "\n",
       "    .dataframe tbody tr th {\n",
       "        vertical-align: top;\n",
       "    }\n",
       "\n",
       "    .dataframe thead th {\n",
       "        text-align: right;\n",
       "    }\n",
       "</style>\n",
       "<table border=\"1\" class=\"dataframe\">\n",
       "  <thead>\n",
       "    <tr style=\"text-align: right;\">\n",
       "      <th></th>\n",
       "      <th>col_0</th>\n",
       "      <th>col_1</th>\n",
       "    </tr>\n",
       "  </thead>\n",
       "  <tbody>\n",
       "    <tr>\n",
       "      <th>0</th>\n",
       "      <td>9</td>\n",
       "      <td>-2</td>\n",
       "    </tr>\n",
       "    <tr>\n",
       "      <th>1</th>\n",
       "      <td>-3</td>\n",
       "      <td>-7</td>\n",
       "    </tr>\n",
       "    <tr>\n",
       "      <th>2</th>\n",
       "      <td>0</td>\n",
       "      <td>6</td>\n",
       "    </tr>\n",
       "    <tr>\n",
       "      <th>3</th>\n",
       "      <td>-1</td>\n",
       "      <td>8</td>\n",
       "    </tr>\n",
       "    <tr>\n",
       "      <th>4</th>\n",
       "      <td>5</td>\n",
       "      <td>-5</td>\n",
       "    </tr>\n",
       "  </tbody>\n",
       "</table>\n",
       "</div>"
      ],
      "text/plain": [
       "   col_0  col_1\n",
       "0      9     -2\n",
       "1     -3     -7\n",
       "2      0      6\n",
       "3     -1      8\n",
       "4      5     -5"
      ]
     },
     "execution_count": 29,
     "metadata": {},
     "output_type": "execute_result"
    }
   ],
   "source": [
    "df"
   ]
  },
  {
   "cell_type": "code",
   "execution_count": 34,
   "id": "e1f2d433",
   "metadata": {
    "execution": {
     "iopub.execute_input": "2021-08-30T11:46:08.673153Z",
     "iopub.status.busy": "2021-08-30T11:46:08.672642Z",
     "iopub.status.idle": "2021-08-30T11:46:08.688128Z",
     "shell.execute_reply": "2021-08-30T11:46:08.685972Z",
     "shell.execute_reply.started": "2021-08-30T11:46:08.673110Z"
    }
   },
   "outputs": [
    {
     "ename": "ValueError",
     "evalue": "When changing to a larger dtype, its size must be a divisor of the total size in bytes of the last axis of the array.",
     "output_type": "error",
     "traceback": [
      "\u001b[0;31m---------------------------------------------------------------------------\u001b[0m",
      "\u001b[0;31mValueError\u001b[0m                                Traceback (most recent call last)",
      "\u001b[0;32m<ipython-input-34-1c3ce8570925>\u001b[0m in \u001b[0;36m<module>\u001b[0;34m\u001b[0m\n\u001b[0;32m----> 1\u001b[0;31m \u001b[0mdf\u001b[0m\u001b[0;34m.\u001b[0m\u001b[0mcol_0\u001b[0m\u001b[0;34m.\u001b[0m\u001b[0mview\u001b[0m\u001b[0;34m(\u001b[0m\u001b[0;34m)\u001b[0m \u001b[0;31m# 提示， 由于新老两种类型的字节数大小不同导致问题\u001b[0m\u001b[0;34m\u001b[0m\u001b[0;34m\u001b[0m\u001b[0m\n\u001b[0m",
      "\u001b[0;32m/app/miniconda3/envs/jupyter/lib/python3.8/site-packages/pandas/core/series.py\u001b[0m in \u001b[0;36mview\u001b[0;34m(self, dtype)\u001b[0m\n\u001b[1;32m    712\u001b[0m         \"\"\"\n\u001b[1;32m    713\u001b[0m         return self._constructor(\n\u001b[0;32m--> 714\u001b[0;31m             \u001b[0mself\u001b[0m\u001b[0;34m.\u001b[0m\u001b[0m_values\u001b[0m\u001b[0;34m.\u001b[0m\u001b[0mview\u001b[0m\u001b[0;34m(\u001b[0m\u001b[0mdtype\u001b[0m\u001b[0;34m)\u001b[0m\u001b[0;34m,\u001b[0m \u001b[0mindex\u001b[0m\u001b[0;34m=\u001b[0m\u001b[0mself\u001b[0m\u001b[0;34m.\u001b[0m\u001b[0mindex\u001b[0m\u001b[0;34m\u001b[0m\u001b[0;34m\u001b[0m\u001b[0m\n\u001b[0m\u001b[1;32m    715\u001b[0m         ).__finalize__(self, method=\"view\")\n\u001b[1;32m    716\u001b[0m \u001b[0;34m\u001b[0m\u001b[0m\n",
      "\u001b[0;31mValueError\u001b[0m: When changing to a larger dtype, its size must be a divisor of the total size in bytes of the last axis of the array."
     ]
    }
   ],
   "source": [
    "df.col_0.view() # 默认类型 可能与原来的指定类型不同"
   ]
  },
  {
   "cell_type": "code",
   "execution_count": 32,
   "id": "6ee952be",
   "metadata": {
    "execution": {
     "iopub.execute_input": "2021-08-30T11:44:35.346430Z",
     "iopub.status.busy": "2021-08-30T11:44:35.346001Z",
     "iopub.status.idle": "2021-08-30T11:44:35.353213Z",
     "shell.execute_reply": "2021-08-30T11:44:35.352324Z",
     "shell.execute_reply.started": "2021-08-30T11:44:35.346397Z"
    }
   },
   "outputs": [
    {
     "data": {
      "text/plain": [
       "0        9\n",
       "1    65533\n",
       "2        0\n",
       "3    65535\n",
       "4        5\n",
       "Name: col_0, dtype: uint16"
      ]
     },
     "execution_count": 32,
     "metadata": {},
     "output_type": "execute_result"
    }
   ],
   "source": [
    "df.col_0.view(dtype='uint16') # 获取视图 ，指定类型"
   ]
  },
  {
   "cell_type": "code",
   "execution_count": 33,
   "id": "8603db4c",
   "metadata": {
    "execution": {
     "iopub.execute_input": "2021-08-30T11:44:52.877745Z",
     "iopub.status.busy": "2021-08-30T11:44:52.877268Z",
     "iopub.status.idle": "2021-08-30T11:44:52.890906Z",
     "shell.execute_reply": "2021-08-30T11:44:52.889498Z",
     "shell.execute_reply.started": "2021-08-30T11:44:52.877701Z"
    }
   },
   "outputs": [
    {
     "ename": "ValueError",
     "evalue": "When changing to a larger dtype, its size must be a divisor of the total size in bytes of the last axis of the array.",
     "output_type": "error",
     "traceback": [
      "\u001b[0;31m---------------------------------------------------------------------------\u001b[0m",
      "\u001b[0;31mValueError\u001b[0m                                Traceback (most recent call last)",
      "\u001b[0;32m<ipython-input-33-1beb43cfd10a>\u001b[0m in \u001b[0;36m<module>\u001b[0;34m\u001b[0m\n\u001b[0;32m----> 1\u001b[0;31m \u001b[0mdf\u001b[0m\u001b[0;34m.\u001b[0m\u001b[0mcol_0\u001b[0m\u001b[0;34m.\u001b[0m\u001b[0mview\u001b[0m\u001b[0;34m(\u001b[0m\u001b[0mdtype\u001b[0m\u001b[0;34m=\u001b[0m\u001b[0;34m'uint32'\u001b[0m\u001b[0;34m)\u001b[0m \u001b[0;31m# 获取视图 ，指定类型\u001b[0m\u001b[0;34m\u001b[0m\u001b[0;34m\u001b[0m\u001b[0m\n\u001b[0m",
      "\u001b[0;32m/app/miniconda3/envs/jupyter/lib/python3.8/site-packages/pandas/core/series.py\u001b[0m in \u001b[0;36mview\u001b[0;34m(self, dtype)\u001b[0m\n\u001b[1;32m    712\u001b[0m         \"\"\"\n\u001b[1;32m    713\u001b[0m         return self._constructor(\n\u001b[0;32m--> 714\u001b[0;31m             \u001b[0mself\u001b[0m\u001b[0;34m.\u001b[0m\u001b[0m_values\u001b[0m\u001b[0;34m.\u001b[0m\u001b[0mview\u001b[0m\u001b[0;34m(\u001b[0m\u001b[0mdtype\u001b[0m\u001b[0;34m)\u001b[0m\u001b[0;34m,\u001b[0m \u001b[0mindex\u001b[0m\u001b[0;34m=\u001b[0m\u001b[0mself\u001b[0m\u001b[0;34m.\u001b[0m\u001b[0mindex\u001b[0m\u001b[0;34m\u001b[0m\u001b[0;34m\u001b[0m\u001b[0m\n\u001b[0m\u001b[1;32m    715\u001b[0m         ).__finalize__(self, method=\"view\")\n\u001b[1;32m    716\u001b[0m \u001b[0;34m\u001b[0m\u001b[0m\n",
      "\u001b[0;31mValueError\u001b[0m: When changing to a larger dtype, its size must be a divisor of the total size in bytes of the last axis of the array."
     ]
    }
   ],
   "source": [
    "df.col_0.view(dtype='uint32') # 提示， 由于新老两种类型的字节数大小不同导致问题"
   ]
  }
 ],
 "metadata": {
  "kernelspec": {
   "display_name": "Python 3",
   "language": "python",
   "name": "python3"
  },
  "language_info": {
   "codemirror_mode": {
    "name": "ipython",
    "version": 3
   },
   "file_extension": ".py",
   "mimetype": "text/x-python",
   "name": "python",
   "nbconvert_exporter": "python",
   "pygments_lexer": "ipython3",
   "version": "3.8.8"
  }
 },
 "nbformat": 4,
 "nbformat_minor": 5
}
