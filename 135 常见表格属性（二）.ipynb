{
 "cells": [
  {
   "cell_type": "markdown",
   "id": "native-silicon",
   "metadata": {
    "execution": {
     "iopub.execute_input": "2021-05-10T07:18:52.990449Z",
     "iopub.status.busy": "2021-05-10T07:18:52.990449Z",
     "iopub.status.idle": "2021-05-10T07:18:52.994464Z",
     "shell.execute_reply": "2021-05-10T07:18:52.993452Z",
     "shell.execute_reply.started": "2021-05-10T07:18:52.990449Z"
    },
    "tags": []
   },
   "source": [
    "## 135 常见表格属性（二）"
   ]
  },
  {
   "cell_type": "markdown",
   "id": "hungry-heater",
   "metadata": {
    "tags": []
   },
   "source": [
    "### df属性相关： keys name names axes flags set_flags \n",
    "### 数据集属性 ：attrs \n",
    "### pandas 版本 ：show_versions "
   ]
  },
  {
   "cell_type": "code",
   "execution_count": 1,
   "id": "illegal-prairie",
   "metadata": {
    "execution": {
     "iopub.execute_input": "2021-08-31T03:25:43.987766Z",
     "iopub.status.busy": "2021-08-31T03:25:43.987766Z",
     "iopub.status.idle": "2021-08-31T03:25:44.305763Z",
     "shell.execute_reply": "2021-08-31T03:25:44.305763Z",
     "shell.execute_reply.started": "2021-08-31T03:25:43.987766Z"
    },
    "tags": []
   },
   "outputs": [],
   "source": [
    "import numpy  as np\n",
    "import pandas as pd\n",
    "from faker import Faker\n",
    "\n",
    "fake = Faker('zh_CN')\n",
    "df=pd.DataFrame(data=[ [fake.name()] for x in range(10) ],columns=['name'])\n",
    "\n",
    "df['销售额']=np.random.randint(100,100000,size=(10, 1))\n",
    "df['时间']=pd.date_range(start='2020-01-01',periods=10,freq='D')\n",
    "df.insert(0,'dept',['部门1']*5+['部门2']*5)\n",
    "df.insert(1,'dept 1',['小部门1']*2+['小部门2']*3+['小部门3']*1+['小部门4']*4)"
   ]
  },
  {
   "cell_type": "markdown",
   "id": "26c34ee2-b934-4459-b3bc-3065ccd98f50",
   "metadata": {
    "tags": []
   },
   "source": [
    "### 演示数据"
   ]
  },
  {
   "cell_type": "code",
   "execution_count": 2,
   "id": "sufficient-voltage",
   "metadata": {
    "execution": {
     "iopub.execute_input": "2021-08-31T03:25:44.306766Z",
     "iopub.status.busy": "2021-08-31T03:25:44.306766Z",
     "iopub.status.idle": "2021-08-31T03:25:44.321766Z",
     "shell.execute_reply": "2021-08-31T03:25:44.321766Z",
     "shell.execute_reply.started": "2021-08-31T03:25:44.306766Z"
    },
    "tags": []
   },
   "outputs": [
    {
     "data": {
      "text/html": [
       "<div>\n",
       "<style scoped>\n",
       "    .dataframe tbody tr th:only-of-type {\n",
       "        vertical-align: middle;\n",
       "    }\n",
       "\n",
       "    .dataframe tbody tr th {\n",
       "        vertical-align: top;\n",
       "    }\n",
       "\n",
       "    .dataframe thead th {\n",
       "        text-align: right;\n",
       "    }\n",
       "</style>\n",
       "<table border=\"1\" class=\"dataframe\">\n",
       "  <thead>\n",
       "    <tr style=\"text-align: right;\">\n",
       "      <th></th>\n",
       "      <th>dept</th>\n",
       "      <th>dept 1</th>\n",
       "      <th>name</th>\n",
       "      <th>销售额</th>\n",
       "      <th>时间</th>\n",
       "    </tr>\n",
       "  </thead>\n",
       "  <tbody>\n",
       "    <tr>\n",
       "      <th>0</th>\n",
       "      <td>部门1</td>\n",
       "      <td>小部门1</td>\n",
       "      <td>祝宇</td>\n",
       "      <td>32488</td>\n",
       "      <td>2020-01-01</td>\n",
       "    </tr>\n",
       "    <tr>\n",
       "      <th>1</th>\n",
       "      <td>部门1</td>\n",
       "      <td>小部门1</td>\n",
       "      <td>胡明</td>\n",
       "      <td>90862</td>\n",
       "      <td>2020-01-02</td>\n",
       "    </tr>\n",
       "    <tr>\n",
       "      <th>2</th>\n",
       "      <td>部门1</td>\n",
       "      <td>小部门2</td>\n",
       "      <td>徐辉</td>\n",
       "      <td>24553</td>\n",
       "      <td>2020-01-03</td>\n",
       "    </tr>\n",
       "    <tr>\n",
       "      <th>3</th>\n",
       "      <td>部门1</td>\n",
       "      <td>小部门2</td>\n",
       "      <td>李璐</td>\n",
       "      <td>68535</td>\n",
       "      <td>2020-01-04</td>\n",
       "    </tr>\n",
       "    <tr>\n",
       "      <th>4</th>\n",
       "      <td>部门1</td>\n",
       "      <td>小部门2</td>\n",
       "      <td>王俊</td>\n",
       "      <td>21722</td>\n",
       "      <td>2020-01-05</td>\n",
       "    </tr>\n",
       "    <tr>\n",
       "      <th>5</th>\n",
       "      <td>部门2</td>\n",
       "      <td>小部门3</td>\n",
       "      <td>曾红梅</td>\n",
       "      <td>895</td>\n",
       "      <td>2020-01-06</td>\n",
       "    </tr>\n",
       "    <tr>\n",
       "      <th>6</th>\n",
       "      <td>部门2</td>\n",
       "      <td>小部门4</td>\n",
       "      <td>郭梅</td>\n",
       "      <td>3763</td>\n",
       "      <td>2020-01-07</td>\n",
       "    </tr>\n",
       "    <tr>\n",
       "      <th>7</th>\n",
       "      <td>部门2</td>\n",
       "      <td>小部门4</td>\n",
       "      <td>张平</td>\n",
       "      <td>92118</td>\n",
       "      <td>2020-01-08</td>\n",
       "    </tr>\n",
       "    <tr>\n",
       "      <th>8</th>\n",
       "      <td>部门2</td>\n",
       "      <td>小部门4</td>\n",
       "      <td>高桂香</td>\n",
       "      <td>10202</td>\n",
       "      <td>2020-01-09</td>\n",
       "    </tr>\n",
       "    <tr>\n",
       "      <th>9</th>\n",
       "      <td>部门2</td>\n",
       "      <td>小部门4</td>\n",
       "      <td>李利</td>\n",
       "      <td>1030</td>\n",
       "      <td>2020-01-10</td>\n",
       "    </tr>\n",
       "  </tbody>\n",
       "</table>\n",
       "</div>"
      ],
      "text/plain": [
       "  dept dept 1 name    销售额         时间\n",
       "0  部门1   小部门1   祝宇  32488 2020-01-01\n",
       "1  部门1   小部门1   胡明  90862 2020-01-02\n",
       "2  部门1   小部门2   徐辉  24553 2020-01-03\n",
       "3  部门1   小部门2   李璐  68535 2020-01-04\n",
       "4  部门1   小部门2   王俊  21722 2020-01-05\n",
       "5  部门2   小部门3  曾红梅    895 2020-01-06\n",
       "6  部门2   小部门4   郭梅   3763 2020-01-07\n",
       "7  部门2   小部门4   张平  92118 2020-01-08\n",
       "8  部门2   小部门4  高桂香  10202 2020-01-09\n",
       "9  部门2   小部门4   李利   1030 2020-01-10"
      ]
     },
     "execution_count": 2,
     "metadata": {},
     "output_type": "execute_result"
    }
   ],
   "source": [
    "df # 随机生成的数据"
   ]
  },
  {
   "cell_type": "code",
   "execution_count": 36,
   "id": "c712fac8-d3b6-4d76-aed6-4e7ae7e152da",
   "metadata": {
    "execution": {
     "iopub.execute_input": "2021-08-31T03:40:41.278193Z",
     "iopub.status.busy": "2021-08-31T03:40:41.277193Z",
     "iopub.status.idle": "2021-08-31T03:40:42.161193Z",
     "shell.execute_reply": "2021-08-31T03:40:42.161193Z",
     "shell.execute_reply.started": "2021-08-31T03:40:41.278193Z"
    },
    "tags": []
   },
   "outputs": [
    {
     "name": "stdout",
     "output_type": "stream",
     "text": [
      "\n",
      "INSTALLED VERSIONS\n",
      "------------------\n",
      "commit           : 7c48ff4409c622c582c56a5702373f726de08e96\n",
      "python           : 3.8.10.final.0\n",
      "python-bits      : 64\n",
      "OS               : Windows\n",
      "OS-release       : 10\n",
      "Version          : 10.0.17763\n",
      "machine          : AMD64\n",
      "processor        : Intel64 Family 6 Model 158 Stepping 10, GenuineIntel\n",
      "byteorder        : little\n",
      "LC_ALL           : None\n",
      "LANG             : zh_CN.UTF8\n",
      "LOCALE           : Chinese (Simplified)_China.936\n",
      "\n",
      "pandas           : 1.2.5\n",
      "numpy            : 1.19.3\n",
      "pytz             : 2021.1\n",
      "dateutil         : 2.8.2\n",
      "pip              : 21.1.1\n",
      "setuptools       : 56.0.0\n",
      "Cython           : None\n",
      "pytest           : None\n",
      "hypothesis       : None\n",
      "sphinx           : None\n",
      "blosc            : None\n",
      "feather          : None\n",
      "xlsxwriter       : 1.4.4\n",
      "lxml.etree       : 4.6.3\n",
      "html5lib         : None\n",
      "pymysql          : None\n",
      "psycopg2         : None\n",
      "jinja2           : 2.11.3\n",
      "IPython          : 7.25.0\n",
      "pandas_datareader: None\n",
      "bs4              : None\n",
      "bottleneck       : 1.3.2\n",
      "fsspec           : None\n",
      "fastparquet      : None\n",
      "gcsfs            : None\n",
      "matplotlib       : 3.4.2\n",
      "numexpr          : 2.7.3\n",
      "odfpy            : None\n",
      "openpyxl         : 3.0.7\n",
      "pandas_gbq       : None\n",
      "pyarrow          : None\n",
      "pyxlsb           : None\n",
      "s3fs             : None\n",
      "scipy            : 1.7.0\n",
      "sqlalchemy       : 1.3.24\n",
      "tables           : None\n",
      "tabulate         : 0.8.9\n",
      "xarray           : 0.19.0\n",
      "xlrd             : 2.0.1\n",
      "xlwt             : 1.3.0\n",
      "numba            : 0.53.1\n"
     ]
    }
   ],
   "source": [
    "pd.show_versions() # pandas环境软件的版本"
   ]
  },
  {
   "cell_type": "code",
   "execution_count": 35,
   "id": "b27abc3d-0b46-4cad-b6b8-a47d9a2e53ce",
   "metadata": {
    "execution": {
     "iopub.execute_input": "2021-08-31T03:40:05.137727Z",
     "iopub.status.busy": "2021-08-31T03:40:05.137727Z",
     "iopub.status.idle": "2021-08-31T03:40:05.147724Z",
     "shell.execute_reply": "2021-08-31T03:40:05.147724Z",
     "shell.execute_reply.started": "2021-08-31T03:40:05.137727Z"
    },
    "tags": []
   },
   "outputs": [
    {
     "data": {
      "text/plain": [
       "({}, {}, {})"
      ]
     },
     "execution_count": 35,
     "metadata": {},
     "output_type": "execute_result"
    }
   ],
   "source": [
    "df.attrs,df.dept.attrs,df.set_index(['dept','dept 1']).attrs # 数据集属性 attrs"
   ]
  },
  {
   "cell_type": "code",
   "execution_count": 31,
   "id": "0ddc00fe-8e6f-4e82-8835-6aabf3a78edf",
   "metadata": {
    "execution": {
     "iopub.execute_input": "2021-08-31T03:38:30.603721Z",
     "iopub.status.busy": "2021-08-31T03:38:30.602724Z",
     "iopub.status.idle": "2021-08-31T03:38:30.609722Z",
     "shell.execute_reply": "2021-08-31T03:38:30.608724Z",
     "shell.execute_reply.started": "2021-08-31T03:38:30.603721Z"
    },
    "tags": []
   },
   "outputs": [
    {
     "data": {
      "text/plain": [
       "<Flags(allows_duplicate_labels=False)>"
      ]
     },
     "execution_count": 31,
     "metadata": {},
     "output_type": "execute_result"
    }
   ],
   "source": [
    "df2.flags "
   ]
  },
  {
   "cell_type": "code",
   "execution_count": 30,
   "id": "b462a958-164f-4a1f-b396-3b730665020b",
   "metadata": {
    "execution": {
     "iopub.execute_input": "2021-08-31T03:38:19.676724Z",
     "iopub.status.busy": "2021-08-31T03:38:19.676724Z",
     "iopub.status.idle": "2021-08-31T03:38:19.681738Z",
     "shell.execute_reply": "2021-08-31T03:38:19.680725Z",
     "shell.execute_reply.started": "2021-08-31T03:38:19.676724Z"
    },
    "tags": []
   },
   "outputs": [],
   "source": [
    "df2=df.set_flags(allows_duplicate_labels=False) # 设置"
   ]
  },
  {
   "cell_type": "code",
   "execution_count": 29,
   "id": "42b06587-2f1a-45df-91eb-7ab6e79a3ab6",
   "metadata": {
    "execution": {
     "iopub.execute_input": "2021-08-31T03:37:24.842426Z",
     "iopub.status.busy": "2021-08-31T03:37:24.841424Z",
     "iopub.status.idle": "2021-08-31T03:37:24.848423Z",
     "shell.execute_reply": "2021-08-31T03:37:24.848423Z",
     "shell.execute_reply.started": "2021-08-31T03:37:24.842426Z"
    },
    "tags": []
   },
   "outputs": [
    {
     "data": {
      "text/plain": [
       "<Flags(allows_duplicate_labels=True)>"
      ]
     },
     "execution_count": 29,
     "metadata": {},
     "output_type": "execute_result"
    }
   ],
   "source": [
    "df.flags # df de flags 属性"
   ]
  },
  {
   "cell_type": "code",
   "execution_count": 28,
   "id": "fd3016eb-6ca3-4619-85bb-b1fcc14d3b15",
   "metadata": {
    "execution": {
     "iopub.execute_input": "2021-08-31T03:36:01.147423Z",
     "iopub.status.busy": "2021-08-31T03:36:01.146423Z",
     "iopub.status.idle": "2021-08-31T03:36:01.157434Z",
     "shell.execute_reply": "2021-08-31T03:36:01.156431Z",
     "shell.execute_reply.started": "2021-08-31T03:36:01.147423Z"
    },
    "tags": []
   },
   "outputs": [
    {
     "data": {
      "text/plain": [
       "[MultiIndex([('部门1', '小部门1'),\n",
       "             ('部门1', '小部门1'),\n",
       "             ('部门1', '小部门2'),\n",
       "             ('部门1', '小部门2'),\n",
       "             ('部门1', '小部门2'),\n",
       "             ('部门2', '小部门3'),\n",
       "             ('部门2', '小部门4'),\n",
       "             ('部门2', '小部门4'),\n",
       "             ('部门2', '小部门4'),\n",
       "             ('部门2', '小部门4')],\n",
       "            names=['dept', 'dept 1']),\n",
       " Index(['name', '销售额', '时间'], dtype='object')]"
      ]
     },
     "execution_count": 28,
     "metadata": {},
     "output_type": "execute_result"
    }
   ],
   "source": [
    "df.set_index(['dept','dept 1']).axes # 二级索引上的"
   ]
  },
  {
   "cell_type": "code",
   "execution_count": 27,
   "id": "9b0a88c4-48ea-4b94-848d-073ade03fb6e",
   "metadata": {
    "execution": {
     "iopub.execute_input": "2021-08-31T03:35:42.256429Z",
     "iopub.status.busy": "2021-08-31T03:35:42.256429Z",
     "iopub.status.idle": "2021-08-31T03:35:42.262454Z",
     "shell.execute_reply": "2021-08-31T03:35:42.262454Z",
     "shell.execute_reply.started": "2021-08-31T03:35:42.256429Z"
    },
    "tags": []
   },
   "outputs": [
    {
     "data": {
      "text/plain": [
       "[RangeIndex(start=0, stop=10, step=1)]"
      ]
     },
     "execution_count": 27,
     "metadata": {},
     "output_type": "execute_result"
    }
   ],
   "source": [
    "df.dept.axes # 序列上的轴名称，索引"
   ]
  },
  {
   "cell_type": "code",
   "execution_count": 25,
   "id": "cf8ab3ff-55a6-4928-a7b8-4cd479c1500f",
   "metadata": {
    "execution": {
     "iopub.execute_input": "2021-08-31T03:35:19.987423Z",
     "iopub.status.busy": "2021-08-31T03:35:19.986446Z",
     "iopub.status.idle": "2021-08-31T03:35:19.992424Z",
     "shell.execute_reply": "2021-08-31T03:35:19.991453Z",
     "shell.execute_reply.started": "2021-08-31T03:35:19.987423Z"
    },
    "tags": []
   },
   "outputs": [
    {
     "data": {
      "text/plain": [
       "[RangeIndex(start=0, stop=10, step=1),\n",
       " Index(['dept', 'dept 1', 'name', '销售额', '时间'], dtype='object')]"
      ]
     },
     "execution_count": 25,
     "metadata": {},
     "output_type": "execute_result"
    }
   ],
   "source": [
    "df.axes # 表格上的两个轴名称"
   ]
  },
  {
   "cell_type": "code",
   "execution_count": 17,
   "id": "12c89417-ffaa-43b4-9a4c-9a4f2de80b20",
   "metadata": {
    "execution": {
     "iopub.execute_input": "2021-08-31T03:32:54.567591Z",
     "iopub.status.busy": "2021-08-31T03:32:54.567591Z",
     "iopub.status.idle": "2021-08-31T03:32:54.576596Z",
     "shell.execute_reply": "2021-08-31T03:32:54.575608Z",
     "shell.execute_reply.started": "2021-08-31T03:32:54.567591Z"
    },
    "tags": []
   },
   "outputs": [
    {
     "data": {
      "text/plain": [
       "('dept',\n",
       " None,\n",
       " dept  dept 1\n",
       " 部门1   小部门1       祝宇\n",
       "       小部门1       胡明\n",
       "       小部门2       徐辉\n",
       "       小部门2       李璐\n",
       "       小部门2       王俊\n",
       " 部门2   小部门3      曾红梅\n",
       "       小部门4       郭梅\n",
       "       小部门4       张平\n",
       "       小部门4      高桂香\n",
       "       小部门4       李利\n",
       " Name: name, dtype: object)"
      ]
     },
     "execution_count": 17,
     "metadata": {},
     "output_type": "execute_result"
    }
   ],
   "source": [
    "df.dept.name,df.index.name,df.set_index(['dept','dept 1']).name # name 用于列或者索引，返回名称"
   ]
  },
  {
   "cell_type": "code",
   "execution_count": 4,
   "id": "5491a7a9-7926-44b1-8216-b838c6434efe",
   "metadata": {
    "execution": {
     "iopub.execute_input": "2021-08-31T03:27:48.977442Z",
     "iopub.status.busy": "2021-08-31T03:27:48.977442Z",
     "iopub.status.idle": "2021-08-31T03:27:48.982442Z",
     "shell.execute_reply": "2021-08-31T03:27:48.982442Z",
     "shell.execute_reply.started": "2021-08-31T03:27:48.977442Z"
    },
    "tags": []
   },
   "outputs": [
    {
     "data": {
      "text/plain": [
       "(Index(['dept', 'dept 1', 'name', '销售额', '时间'], dtype='object'),\n",
       " RangeIndex(start=0, stop=10, step=1))"
      ]
     },
     "execution_count": 4,
     "metadata": {},
     "output_type": "execute_result"
    }
   ],
   "source": [
    "df.keys(),df.dept.keys() # 表格的列，或者列的索引"
   ]
  },
  {
   "cell_type": "code",
   "execution_count": 7,
   "id": "ce9953e8-0f2b-4b38-9840-bd9a0d4d224d",
   "metadata": {
    "execution": {
     "iopub.execute_input": "2021-08-31T03:29:08.982443Z",
     "iopub.status.busy": "2021-08-31T03:29:08.982443Z",
     "iopub.status.idle": "2021-08-31T03:29:08.990448Z",
     "shell.execute_reply": "2021-08-31T03:29:08.989446Z",
     "shell.execute_reply.started": "2021-08-31T03:29:08.982443Z"
    },
    "tags": []
   },
   "outputs": [
    {
     "ename": "AttributeError",
     "evalue": "'RangeIndex' object has no attribute 'keys'",
     "output_type": "error",
     "traceback": [
      "\u001b[1;31m---------------------------------------------------------------------------\u001b[0m",
      "\u001b[1;31mAttributeError\u001b[0m                            Traceback (most recent call last)",
      "\u001b[1;32mC:\\Users\\ADMINI~1\\AppData\\Local\\Temp\\1/ipykernel_9948/3749917203.py\u001b[0m in \u001b[0;36m<module>\u001b[1;34m\u001b[0m\n\u001b[1;32m----> 1\u001b[1;33m \u001b[0mdf\u001b[0m\u001b[1;33m.\u001b[0m\u001b[0mindex\u001b[0m\u001b[1;33m.\u001b[0m\u001b[0mkeys\u001b[0m\u001b[1;33m(\u001b[0m\u001b[1;33m)\u001b[0m\u001b[1;33m,\u001b[0m\u001b[0mdf\u001b[0m\u001b[1;33m.\u001b[0m\u001b[0mset_index\u001b[0m\u001b[1;33m(\u001b[0m\u001b[1;33m[\u001b[0m\u001b[1;34m'dept'\u001b[0m\u001b[1;33m,\u001b[0m\u001b[1;34m'dept 1'\u001b[0m\u001b[1;33m]\u001b[0m\u001b[1;33m)\u001b[0m\u001b[1;33m.\u001b[0m\u001b[0mindex\u001b[0m\u001b[1;33m.\u001b[0m\u001b[0mkeys\u001b[0m\u001b[1;33m(\u001b[0m\u001b[1;33m)\u001b[0m\u001b[1;33m\u001b[0m\u001b[1;33m\u001b[0m\u001b[0m\n\u001b[0m",
      "\u001b[1;31mAttributeError\u001b[0m: 'RangeIndex' object has no attribute 'keys'"
     ]
    }
   ],
   "source": [
    "df.index.keys() # keys不适用于index"
   ]
  },
  {
   "cell_type": "code",
   "execution_count": 8,
   "id": "b2ce11e7-de2f-411e-a3be-d69909d6a5ac",
   "metadata": {
    "execution": {
     "iopub.execute_input": "2021-08-31T03:29:38.408113Z",
     "iopub.status.busy": "2021-08-31T03:29:38.408113Z",
     "iopub.status.idle": "2021-08-31T03:29:38.418101Z",
     "shell.execute_reply": "2021-08-31T03:29:38.418101Z",
     "shell.execute_reply.started": "2021-08-31T03:29:38.408113Z"
    },
    "tags": []
   },
   "outputs": [
    {
     "data": {
      "text/plain": [
       "Index(['name', '销售额', '时间'], dtype='object')"
      ]
     },
     "execution_count": 8,
     "metadata": {},
     "output_type": "execute_result"
    }
   ],
   "source": [
    "df.set_index(['dept','dept 1']).keys() # 二级索引的情况"
   ]
  }
 ],
 "metadata": {
  "kernelspec": {
   "display_name": "Python 3 (ipykernel)",
   "language": "python",
   "name": "python3"
  },
  "language_info": {
   "codemirror_mode": {
    "name": "ipython",
    "version": 3
   },
   "file_extension": ".py",
   "mimetype": "text/x-python",
   "name": "python",
   "nbconvert_exporter": "python",
   "pygments_lexer": "ipython3",
   "version": "3.8.11"
  }
 },
 "nbformat": 4,
 "nbformat_minor": 5
}
