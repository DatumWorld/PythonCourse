{
 "cells": [
  {
   "cell_type": "markdown",
   "id": "native-silicon",
   "metadata": {
    "execution": {
     "iopub.execute_input": "2021-05-10T07:18:52.990449Z",
     "iopub.status.busy": "2021-05-10T07:18:52.990449Z",
     "iopub.status.idle": "2021-05-10T07:18:52.994464Z",
     "shell.execute_reply": "2021-05-10T07:18:52.993452Z",
     "shell.execute_reply.started": "2021-05-10T07:18:52.990449Z"
    },
    "tags": []
   },
   "source": [
    "## 136 isin判断是否属于"
   ]
  },
  {
   "cell_type": "markdown",
   "id": "hungry-heater",
   "metadata": {
    "tags": []
   },
   "source": [
    "### isin判断是否属于\n",
    "参数 values=iterable, Series, DataFrame or dict"
   ]
  },
  {
   "cell_type": "code",
   "execution_count": 15,
   "id": "illegal-prairie",
   "metadata": {
    "execution": {
     "iopub.execute_input": "2021-08-31T07:47:23.625173Z",
     "iopub.status.busy": "2021-08-31T07:47:23.625173Z",
     "iopub.status.idle": "2021-08-31T07:47:23.630197Z",
     "shell.execute_reply": "2021-08-31T07:47:23.630197Z",
     "shell.execute_reply.started": "2021-08-31T07:47:23.625173Z"
    },
    "tags": []
   },
   "outputs": [],
   "source": [
    "import numpy  as np\n",
    "import pandas as pd\n",
    "df = pd.DataFrame({'num_legs': [2, 4], 'num_wings': [2, 0]},\n",
    "                  index=['falcon', 'dog'])\n",
    "isin_dict={'num_wings': [0, 3]}\n",
    "other = pd.DataFrame({'num_legs': [8, 2], 'num_wings': [0, 2]},\n",
    "                     index=['spider', 'falcon'])"
   ]
  },
  {
   "cell_type": "markdown",
   "id": "26c34ee2-b934-4459-b3bc-3065ccd98f50",
   "metadata": {
    "tags": []
   },
   "source": [
    "### 演示数据"
   ]
  },
  {
   "cell_type": "code",
   "execution_count": 2,
   "id": "sufficient-voltage",
   "metadata": {
    "execution": {
     "iopub.execute_input": "2021-08-31T07:33:53.107629Z",
     "iopub.status.busy": "2021-08-31T07:33:53.107629Z",
     "iopub.status.idle": "2021-08-31T07:33:53.119657Z",
     "shell.execute_reply": "2021-08-31T07:33:53.119657Z",
     "shell.execute_reply.started": "2021-08-31T07:33:53.107629Z"
    },
    "tags": []
   },
   "outputs": [
    {
     "data": {
      "text/html": [
       "<div>\n",
       "<style scoped>\n",
       "    .dataframe tbody tr th:only-of-type {\n",
       "        vertical-align: middle;\n",
       "    }\n",
       "\n",
       "    .dataframe tbody tr th {\n",
       "        vertical-align: top;\n",
       "    }\n",
       "\n",
       "    .dataframe thead th {\n",
       "        text-align: right;\n",
       "    }\n",
       "</style>\n",
       "<table border=\"1\" class=\"dataframe\">\n",
       "  <thead>\n",
       "    <tr style=\"text-align: right;\">\n",
       "      <th></th>\n",
       "      <th>num_legs</th>\n",
       "      <th>num_wings</th>\n",
       "    </tr>\n",
       "  </thead>\n",
       "  <tbody>\n",
       "    <tr>\n",
       "      <th>falcon</th>\n",
       "      <td>2</td>\n",
       "      <td>2</td>\n",
       "    </tr>\n",
       "    <tr>\n",
       "      <th>dog</th>\n",
       "      <td>4</td>\n",
       "      <td>0</td>\n",
       "    </tr>\n",
       "  </tbody>\n",
       "</table>\n",
       "</div>"
      ],
      "text/plain": [
       "        num_legs  num_wings\n",
       "falcon         2          2\n",
       "dog            4          0"
      ]
     },
     "execution_count": 2,
     "metadata": {},
     "output_type": "execute_result"
    }
   ],
   "source": [
    "df "
   ]
  },
  {
   "cell_type": "code",
   "execution_count": 16,
   "id": "151e9e6f-c935-4558-a663-1a79f92c76a5",
   "metadata": {
    "execution": {
     "iopub.execute_input": "2021-08-31T07:47:25.027171Z",
     "iopub.status.busy": "2021-08-31T07:47:25.027171Z",
     "iopub.status.idle": "2021-08-31T07:47:25.038198Z",
     "shell.execute_reply": "2021-08-31T07:47:25.038198Z",
     "shell.execute_reply.started": "2021-08-31T07:47:25.027171Z"
    },
    "tags": []
   },
   "outputs": [
    {
     "data": {
      "text/html": [
       "<div>\n",
       "<style scoped>\n",
       "    .dataframe tbody tr th:only-of-type {\n",
       "        vertical-align: middle;\n",
       "    }\n",
       "\n",
       "    .dataframe tbody tr th {\n",
       "        vertical-align: top;\n",
       "    }\n",
       "\n",
       "    .dataframe thead th {\n",
       "        text-align: right;\n",
       "    }\n",
       "</style>\n",
       "<table border=\"1\" class=\"dataframe\">\n",
       "  <thead>\n",
       "    <tr style=\"text-align: right;\">\n",
       "      <th></th>\n",
       "      <th>num_legs</th>\n",
       "      <th>num_wings</th>\n",
       "    </tr>\n",
       "  </thead>\n",
       "  <tbody>\n",
       "    <tr>\n",
       "      <th>falcon</th>\n",
       "      <td>False</td>\n",
       "      <td>False</td>\n",
       "    </tr>\n",
       "    <tr>\n",
       "      <th>dog</th>\n",
       "      <td>False</td>\n",
       "      <td>True</td>\n",
       "    </tr>\n",
       "  </tbody>\n",
       "</table>\n",
       "</div>"
      ],
      "text/plain": [
       "        num_legs  num_wings\n",
       "falcon     False      False\n",
       "dog        False       True"
      ]
     },
     "execution_count": 16,
     "metadata": {},
     "output_type": "execute_result"
    }
   ],
   "source": [
    "df.isin(values=isin_dict) # 使用字典"
   ]
  },
  {
   "cell_type": "code",
   "execution_count": 10,
   "id": "3b8f6b57-10b0-49b0-b86d-5adf7d1de392",
   "metadata": {
    "execution": {
     "iopub.execute_input": "2021-08-31T07:38:15.066628Z",
     "iopub.status.busy": "2021-08-31T07:38:15.066628Z",
     "iopub.status.idle": "2021-08-31T07:38:15.075628Z",
     "shell.execute_reply": "2021-08-31T07:38:15.074626Z",
     "shell.execute_reply.started": "2021-08-31T07:38:15.066628Z"
    },
    "tags": []
   },
   "outputs": [
    {
     "data": {
      "text/html": [
       "<div>\n",
       "<style scoped>\n",
       "    .dataframe tbody tr th:only-of-type {\n",
       "        vertical-align: middle;\n",
       "    }\n",
       "\n",
       "    .dataframe tbody tr th {\n",
       "        vertical-align: top;\n",
       "    }\n",
       "\n",
       "    .dataframe thead th {\n",
       "        text-align: right;\n",
       "    }\n",
       "</style>\n",
       "<table border=\"1\" class=\"dataframe\">\n",
       "  <thead>\n",
       "    <tr style=\"text-align: right;\">\n",
       "      <th></th>\n",
       "      <th>num_legs</th>\n",
       "      <th>num_wings</th>\n",
       "    </tr>\n",
       "  </thead>\n",
       "  <tbody>\n",
       "    <tr>\n",
       "      <th>spider</th>\n",
       "      <td>8</td>\n",
       "      <td>0</td>\n",
       "    </tr>\n",
       "    <tr>\n",
       "      <th>falcon</th>\n",
       "      <td>2</td>\n",
       "      <td>2</td>\n",
       "    </tr>\n",
       "  </tbody>\n",
       "</table>\n",
       "</div>"
      ],
      "text/plain": [
       "        num_legs  num_wings\n",
       "spider         8          0\n",
       "falcon         2          2"
      ]
     },
     "execution_count": 10,
     "metadata": {},
     "output_type": "execute_result"
    }
   ],
   "source": [
    "other"
   ]
  },
  {
   "cell_type": "code",
   "execution_count": 9,
   "id": "8be909df-5e23-433b-b0f0-e86a37ea7d53",
   "metadata": {
    "execution": {
     "iopub.execute_input": "2021-08-31T07:38:00.813634Z",
     "iopub.status.busy": "2021-08-31T07:38:00.812629Z",
     "iopub.status.idle": "2021-08-31T07:38:00.823627Z",
     "shell.execute_reply": "2021-08-31T07:38:00.823627Z",
     "shell.execute_reply.started": "2021-08-31T07:38:00.813634Z"
    },
    "tags": []
   },
   "outputs": [
    {
     "data": {
      "text/html": [
       "<div>\n",
       "<style scoped>\n",
       "    .dataframe tbody tr th:only-of-type {\n",
       "        vertical-align: middle;\n",
       "    }\n",
       "\n",
       "    .dataframe tbody tr th {\n",
       "        vertical-align: top;\n",
       "    }\n",
       "\n",
       "    .dataframe thead th {\n",
       "        text-align: right;\n",
       "    }\n",
       "</style>\n",
       "<table border=\"1\" class=\"dataframe\">\n",
       "  <thead>\n",
       "    <tr style=\"text-align: right;\">\n",
       "      <th></th>\n",
       "      <th>num_legs</th>\n",
       "      <th>num_wings</th>\n",
       "    </tr>\n",
       "  </thead>\n",
       "  <tbody>\n",
       "    <tr>\n",
       "      <th>falcon</th>\n",
       "      <td>True</td>\n",
       "      <td>True</td>\n",
       "    </tr>\n",
       "    <tr>\n",
       "      <th>dog</th>\n",
       "      <td>False</td>\n",
       "      <td>False</td>\n",
       "    </tr>\n",
       "  </tbody>\n",
       "</table>\n",
       "</div>"
      ],
      "text/plain": [
       "        num_legs  num_wings\n",
       "falcon      True       True\n",
       "dog        False      False"
      ]
     },
     "execution_count": 9,
     "metadata": {},
     "output_type": "execute_result"
    }
   ],
   "source": [
    "df.isin(other) # 使用df做判断"
   ]
  },
  {
   "cell_type": "code",
   "execution_count": 8,
   "id": "7e4f6b8b-8acd-42ac-b4bc-6c40351c6458",
   "metadata": {
    "execution": {
     "iopub.execute_input": "2021-08-31T07:37:06.436626Z",
     "iopub.status.busy": "2021-08-31T07:37:06.436626Z",
     "iopub.status.idle": "2021-08-31T07:37:06.443629Z",
     "shell.execute_reply": "2021-08-31T07:37:06.442627Z",
     "shell.execute_reply.started": "2021-08-31T07:37:06.436626Z"
    },
    "tags": []
   },
   "outputs": [
    {
     "data": {
      "text/plain": [
       "falcon    2\n",
       "dog       4\n",
       "Name: num_legs, dtype: int64"
      ]
     },
     "execution_count": 8,
     "metadata": {},
     "output_type": "execute_result"
    }
   ],
   "source": [
    "df.num_legs"
   ]
  },
  {
   "cell_type": "code",
   "execution_count": 7,
   "id": "fe877ab9-9e5f-4bd8-9b6c-4df9b327cf9f",
   "metadata": {
    "execution": {
     "iopub.execute_input": "2021-08-31T07:36:46.139632Z",
     "iopub.status.busy": "2021-08-31T07:36:46.138626Z",
     "iopub.status.idle": "2021-08-31T07:36:46.147626Z",
     "shell.execute_reply": "2021-08-31T07:36:46.146627Z",
     "shell.execute_reply.started": "2021-08-31T07:36:46.139632Z"
    },
    "tags": []
   },
   "outputs": [
    {
     "data": {
      "text/html": [
       "<div>\n",
       "<style scoped>\n",
       "    .dataframe tbody tr th:only-of-type {\n",
       "        vertical-align: middle;\n",
       "    }\n",
       "\n",
       "    .dataframe tbody tr th {\n",
       "        vertical-align: top;\n",
       "    }\n",
       "\n",
       "    .dataframe thead th {\n",
       "        text-align: right;\n",
       "    }\n",
       "</style>\n",
       "<table border=\"1\" class=\"dataframe\">\n",
       "  <thead>\n",
       "    <tr style=\"text-align: right;\">\n",
       "      <th></th>\n",
       "      <th>num_legs</th>\n",
       "      <th>num_wings</th>\n",
       "    </tr>\n",
       "  </thead>\n",
       "  <tbody>\n",
       "    <tr>\n",
       "      <th>falcon</th>\n",
       "      <td>True</td>\n",
       "      <td>True</td>\n",
       "    </tr>\n",
       "    <tr>\n",
       "      <th>dog</th>\n",
       "      <td>True</td>\n",
       "      <td>False</td>\n",
       "    </tr>\n",
       "  </tbody>\n",
       "</table>\n",
       "</div>"
      ],
      "text/plain": [
       "        num_legs  num_wings\n",
       "falcon      True       True\n",
       "dog         True      False"
      ]
     },
     "execution_count": 7,
     "metadata": {},
     "output_type": "execute_result"
    }
   ],
   "source": [
    "df.isin(df.num_legs) # 使用序列"
   ]
  },
  {
   "cell_type": "code",
   "execution_count": 6,
   "id": "1779b1d0-e5f5-420d-867d-bb75f3799556",
   "metadata": {
    "execution": {
     "iopub.execute_input": "2021-08-31T07:36:14.481631Z",
     "iopub.status.busy": "2021-08-31T07:36:14.481631Z",
     "iopub.status.idle": "2021-08-31T07:36:14.490626Z",
     "shell.execute_reply": "2021-08-31T07:36:14.490626Z",
     "shell.execute_reply.started": "2021-08-31T07:36:14.481631Z"
    },
    "tags": []
   },
   "outputs": [
    {
     "data": {
      "text/html": [
       "<div>\n",
       "<style scoped>\n",
       "    .dataframe tbody tr th:only-of-type {\n",
       "        vertical-align: middle;\n",
       "    }\n",
       "\n",
       "    .dataframe tbody tr th {\n",
       "        vertical-align: top;\n",
       "    }\n",
       "\n",
       "    .dataframe thead th {\n",
       "        text-align: right;\n",
       "    }\n",
       "</style>\n",
       "<table border=\"1\" class=\"dataframe\">\n",
       "  <thead>\n",
       "    <tr style=\"text-align: right;\">\n",
       "      <th></th>\n",
       "      <th>num_legs</th>\n",
       "      <th>num_wings</th>\n",
       "    </tr>\n",
       "  </thead>\n",
       "  <tbody>\n",
       "    <tr>\n",
       "      <th>falcon</th>\n",
       "      <td>True</td>\n",
       "      <td>True</td>\n",
       "    </tr>\n",
       "    <tr>\n",
       "      <th>dog</th>\n",
       "      <td>False</td>\n",
       "      <td>True</td>\n",
       "    </tr>\n",
       "  </tbody>\n",
       "</table>\n",
       "</div>"
      ],
      "text/plain": [
       "        num_legs  num_wings\n",
       "falcon      True       True\n",
       "dog        False       True"
      ]
     },
     "execution_count": 6,
     "metadata": {},
     "output_type": "execute_result"
    }
   ],
   "source": [
    "df.isin([2,0]) # df中每个元素是不是包含在[2,0]"
   ]
  },
  {
   "cell_type": "code",
   "execution_count": 4,
   "id": "f405faa2-4061-4fc1-a70f-7ce938a6aabe",
   "metadata": {
    "execution": {
     "iopub.execute_input": "2021-08-31T07:35:43.536627Z",
     "iopub.status.busy": "2021-08-31T07:35:43.535636Z",
     "iopub.status.idle": "2021-08-31T07:35:43.555629Z",
     "shell.execute_reply": "2021-08-31T07:35:43.554649Z",
     "shell.execute_reply.started": "2021-08-31T07:35:43.536627Z"
    },
    "tags": []
   },
   "outputs": [
    {
     "data": {
      "text/html": [
       "<div>\n",
       "<style scoped>\n",
       "    .dataframe tbody tr th:only-of-type {\n",
       "        vertical-align: middle;\n",
       "    }\n",
       "\n",
       "    .dataframe tbody tr th {\n",
       "        vertical-align: top;\n",
       "    }\n",
       "\n",
       "    .dataframe thead th {\n",
       "        text-align: right;\n",
       "    }\n",
       "</style>\n",
       "<table border=\"1\" class=\"dataframe\">\n",
       "  <thead>\n",
       "    <tr style=\"text-align: right;\">\n",
       "      <th></th>\n",
       "      <th>num_legs</th>\n",
       "      <th>num_wings</th>\n",
       "    </tr>\n",
       "  </thead>\n",
       "  <tbody>\n",
       "    <tr>\n",
       "      <th>falcon</th>\n",
       "      <td>True</td>\n",
       "      <td>True</td>\n",
       "    </tr>\n",
       "    <tr>\n",
       "      <th>dog</th>\n",
       "      <td>False</td>\n",
       "      <td>False</td>\n",
       "    </tr>\n",
       "  </tbody>\n",
       "</table>\n",
       "</div>"
      ],
      "text/plain": [
       "        num_legs  num_wings\n",
       "falcon      True       True\n",
       "dog        False      False"
      ]
     },
     "execution_count": 4,
     "metadata": {},
     "output_type": "execute_result"
    }
   ],
   "source": [
    "df==2 # 等效"
   ]
  },
  {
   "cell_type": "code",
   "execution_count": 3,
   "id": "f073a6b8-46f9-4f8e-87e8-d0c7164d015d",
   "metadata": {
    "execution": {
     "iopub.execute_input": "2021-08-31T07:34:42.089632Z",
     "iopub.status.busy": "2021-08-31T07:34:42.088633Z",
     "iopub.status.idle": "2021-08-31T07:34:42.099625Z",
     "shell.execute_reply": "2021-08-31T07:34:42.098627Z",
     "shell.execute_reply.started": "2021-08-31T07:34:42.089632Z"
    },
    "tags": []
   },
   "outputs": [
    {
     "data": {
      "text/html": [
       "<div>\n",
       "<style scoped>\n",
       "    .dataframe tbody tr th:only-of-type {\n",
       "        vertical-align: middle;\n",
       "    }\n",
       "\n",
       "    .dataframe tbody tr th {\n",
       "        vertical-align: top;\n",
       "    }\n",
       "\n",
       "    .dataframe thead th {\n",
       "        text-align: right;\n",
       "    }\n",
       "</style>\n",
       "<table border=\"1\" class=\"dataframe\">\n",
       "  <thead>\n",
       "    <tr style=\"text-align: right;\">\n",
       "      <th></th>\n",
       "      <th>num_legs</th>\n",
       "      <th>num_wings</th>\n",
       "    </tr>\n",
       "  </thead>\n",
       "  <tbody>\n",
       "    <tr>\n",
       "      <th>falcon</th>\n",
       "      <td>True</td>\n",
       "      <td>True</td>\n",
       "    </tr>\n",
       "    <tr>\n",
       "      <th>dog</th>\n",
       "      <td>False</td>\n",
       "      <td>False</td>\n",
       "    </tr>\n",
       "  </tbody>\n",
       "</table>\n",
       "</div>"
      ],
      "text/plain": [
       "        num_legs  num_wings\n",
       "falcon      True       True\n",
       "dog        False      False"
      ]
     },
     "execution_count": 3,
     "metadata": {},
     "output_type": "execute_result"
    }
   ],
   "source": [
    "df.isin([2]) # df中每个元素是不是包含在[2]"
   ]
  }
 ],
 "metadata": {
  "kernelspec": {
   "display_name": "Python 3 (ipykernel)",
   "language": "python",
   "name": "python3"
  },
  "language_info": {
   "codemirror_mode": {
    "name": "ipython",
    "version": 3
   },
   "file_extension": ".py",
   "mimetype": "text/x-python",
   "name": "python",
   "nbconvert_exporter": "python",
   "pygments_lexer": "ipython3",
   "version": "3.8.11"
  }
 },
 "nbformat": 4,
 "nbformat_minor": 5
}
