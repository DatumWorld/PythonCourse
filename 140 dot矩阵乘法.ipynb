{
 "cells": [
  {
   "cell_type": "markdown",
   "id": "operating-tobago",
   "metadata": {
    "execution": {
     "iopub.execute_input": "2021-05-10T07:18:52.990449Z",
     "iopub.status.busy": "2021-05-10T07:18:52.990449Z",
     "iopub.status.idle": "2021-05-10T07:18:52.994464Z",
     "shell.execute_reply": "2021-05-10T07:18:52.993452Z",
     "shell.execute_reply.started": "2021-05-10T07:18:52.990449Z"
    },
    "tags": []
   },
   "source": [
    "## 140 dot矩阵乘法"
   ]
  },
  {
   "cell_type": "markdown",
   "id": "sharing-checklist",
   "metadata": {
    "tags": []
   },
   "source": [
    "### dot：矩阵乘法\n",
    "符号 @ 也可以计算矩阵乘法"
   ]
  },
  {
   "cell_type": "code",
   "execution_count": 1,
   "id": "transsexual-guinea",
   "metadata": {
    "execution": {
     "iopub.execute_input": "2021-08-31T11:35:30.827991Z",
     "iopub.status.busy": "2021-08-31T11:35:30.827709Z",
     "iopub.status.idle": "2021-08-31T11:35:31.100640Z",
     "shell.execute_reply": "2021-08-31T11:35:31.099415Z",
     "shell.execute_reply.started": "2021-08-31T11:35:30.827947Z"
    },
    "tags": []
   },
   "outputs": [],
   "source": [
    "import numpy  as np\n",
    "import pandas as pd\n",
    "df = pd.DataFrame([[0, 1, -2, -1], [1, 1, 1, 1]])\n",
    "s = pd.Series([1, 1, 2, 1])\n",
    "other = pd.DataFrame([[0, 1], [1, 2], [-1, -1], [2, 0]])\n",
    "arr = np.array([[0, 1], [1, 2], [-1, -1], [2, 0]])"
   ]
  },
  {
   "cell_type": "markdown",
   "id": "existing-torture",
   "metadata": {
    "tags": []
   },
   "source": [
    "### 演示数据"
   ]
  },
  {
   "cell_type": "code",
   "execution_count": 2,
   "id": "lined-reggae",
   "metadata": {
    "execution": {
     "iopub.execute_input": "2021-08-31T11:35:31.105206Z",
     "iopub.status.busy": "2021-08-31T11:35:31.104744Z",
     "iopub.status.idle": "2021-08-31T11:35:31.125025Z",
     "shell.execute_reply": "2021-08-31T11:35:31.124188Z",
     "shell.execute_reply.started": "2021-08-31T11:35:31.105164Z"
    },
    "tags": []
   },
   "outputs": [
    {
     "data": {
      "text/html": [
       "<div>\n",
       "<style scoped>\n",
       "    .dataframe tbody tr th:only-of-type {\n",
       "        vertical-align: middle;\n",
       "    }\n",
       "\n",
       "    .dataframe tbody tr th {\n",
       "        vertical-align: top;\n",
       "    }\n",
       "\n",
       "    .dataframe thead th {\n",
       "        text-align: right;\n",
       "    }\n",
       "</style>\n",
       "<table border=\"1\" class=\"dataframe\">\n",
       "  <thead>\n",
       "    <tr style=\"text-align: right;\">\n",
       "      <th></th>\n",
       "      <th>0</th>\n",
       "      <th>1</th>\n",
       "      <th>2</th>\n",
       "      <th>3</th>\n",
       "    </tr>\n",
       "  </thead>\n",
       "  <tbody>\n",
       "    <tr>\n",
       "      <th>0</th>\n",
       "      <td>0</td>\n",
       "      <td>1</td>\n",
       "      <td>-2</td>\n",
       "      <td>-1</td>\n",
       "    </tr>\n",
       "    <tr>\n",
       "      <th>1</th>\n",
       "      <td>1</td>\n",
       "      <td>1</td>\n",
       "      <td>1</td>\n",
       "      <td>1</td>\n",
       "    </tr>\n",
       "  </tbody>\n",
       "</table>\n",
       "</div>"
      ],
      "text/plain": [
       "   0  1  2  3\n",
       "0  0  1 -2 -1\n",
       "1  1  1  1  1"
      ]
     },
     "execution_count": 2,
     "metadata": {},
     "output_type": "execute_result"
    }
   ],
   "source": [
    "df "
   ]
  },
  {
   "cell_type": "code",
   "execution_count": 3,
   "id": "accessible-convertible",
   "metadata": {
    "execution": {
     "iopub.execute_input": "2021-08-31T11:35:31.126524Z",
     "iopub.status.busy": "2021-08-31T11:35:31.126204Z",
     "iopub.status.idle": "2021-08-31T11:35:31.132039Z",
     "shell.execute_reply": "2021-08-31T11:35:31.131297Z",
     "shell.execute_reply.started": "2021-08-31T11:35:31.126489Z"
    }
   },
   "outputs": [
    {
     "data": {
      "text/plain": [
       "0    1\n",
       "1    1\n",
       "2    2\n",
       "3    1\n",
       "dtype: int64"
      ]
     },
     "execution_count": 3,
     "metadata": {},
     "output_type": "execute_result"
    }
   ],
   "source": [
    "s"
   ]
  },
  {
   "cell_type": "code",
   "execution_count": 9,
   "id": "macro-november",
   "metadata": {
    "execution": {
     "iopub.execute_input": "2021-08-31T11:40:08.788670Z",
     "iopub.status.busy": "2021-08-31T11:40:08.788173Z",
     "iopub.status.idle": "2021-08-31T11:40:08.796719Z",
     "shell.execute_reply": "2021-08-31T11:40:08.795443Z",
     "shell.execute_reply.started": "2021-08-31T11:40:08.788629Z"
    }
   },
   "outputs": [
    {
     "data": {
      "text/plain": [
       "0   -4\n",
       "1    5\n",
       "dtype: int64"
      ]
     },
     "execution_count": 9,
     "metadata": {},
     "output_type": "execute_result"
    }
   ],
   "source": [
    "df @ s # 矩阵乘法 二维*一维"
   ]
  },
  {
   "cell_type": "code",
   "execution_count": 4,
   "id": "valid-softball",
   "metadata": {
    "execution": {
     "iopub.execute_input": "2021-08-31T11:36:27.930743Z",
     "iopub.status.busy": "2021-08-31T11:36:27.930196Z",
     "iopub.status.idle": "2021-08-31T11:36:27.938681Z",
     "shell.execute_reply": "2021-08-31T11:36:27.937609Z",
     "shell.execute_reply.started": "2021-08-31T11:36:27.930711Z"
    }
   },
   "outputs": [
    {
     "data": {
      "text/plain": [
       "0   -4\n",
       "1    5\n",
       "dtype: int64"
      ]
     },
     "execution_count": 4,
     "metadata": {},
     "output_type": "execute_result"
    }
   ],
   "source": [
    "df.dot(s) # 矩阵乘法 二维*一维"
   ]
  },
  {
   "cell_type": "code",
   "execution_count": 6,
   "id": "administrative-australian",
   "metadata": {
    "execution": {
     "iopub.execute_input": "2021-08-31T11:37:49.040750Z",
     "iopub.status.busy": "2021-08-31T11:37:49.040295Z",
     "iopub.status.idle": "2021-08-31T11:37:49.050238Z",
     "shell.execute_reply": "2021-08-31T11:37:49.049217Z",
     "shell.execute_reply.started": "2021-08-31T11:37:49.040703Z"
    }
   },
   "outputs": [
    {
     "data": {
      "text/html": [
       "<div>\n",
       "<style scoped>\n",
       "    .dataframe tbody tr th:only-of-type {\n",
       "        vertical-align: middle;\n",
       "    }\n",
       "\n",
       "    .dataframe tbody tr th {\n",
       "        vertical-align: top;\n",
       "    }\n",
       "\n",
       "    .dataframe thead th {\n",
       "        text-align: right;\n",
       "    }\n",
       "</style>\n",
       "<table border=\"1\" class=\"dataframe\">\n",
       "  <thead>\n",
       "    <tr style=\"text-align: right;\">\n",
       "      <th></th>\n",
       "      <th>0</th>\n",
       "      <th>1</th>\n",
       "    </tr>\n",
       "  </thead>\n",
       "  <tbody>\n",
       "    <tr>\n",
       "      <th>0</th>\n",
       "      <td>0</td>\n",
       "      <td>1</td>\n",
       "    </tr>\n",
       "    <tr>\n",
       "      <th>1</th>\n",
       "      <td>1</td>\n",
       "      <td>2</td>\n",
       "    </tr>\n",
       "    <tr>\n",
       "      <th>2</th>\n",
       "      <td>-1</td>\n",
       "      <td>-1</td>\n",
       "    </tr>\n",
       "    <tr>\n",
       "      <th>3</th>\n",
       "      <td>2</td>\n",
       "      <td>0</td>\n",
       "    </tr>\n",
       "  </tbody>\n",
       "</table>\n",
       "</div>"
      ],
      "text/plain": [
       "   0  1\n",
       "0  0  1\n",
       "1  1  2\n",
       "2 -1 -1\n",
       "3  2  0"
      ]
     },
     "execution_count": 6,
     "metadata": {},
     "output_type": "execute_result"
    }
   ],
   "source": [
    "other"
   ]
  },
  {
   "cell_type": "code",
   "execution_count": 5,
   "id": "affected-hanging",
   "metadata": {
    "execution": {
     "iopub.execute_input": "2021-08-31T11:37:42.223398Z",
     "iopub.status.busy": "2021-08-31T11:37:42.223079Z",
     "iopub.status.idle": "2021-08-31T11:37:42.232001Z",
     "shell.execute_reply": "2021-08-31T11:37:42.231031Z",
     "shell.execute_reply.started": "2021-08-31T11:37:42.223363Z"
    }
   },
   "outputs": [
    {
     "data": {
      "text/html": [
       "<div>\n",
       "<style scoped>\n",
       "    .dataframe tbody tr th:only-of-type {\n",
       "        vertical-align: middle;\n",
       "    }\n",
       "\n",
       "    .dataframe tbody tr th {\n",
       "        vertical-align: top;\n",
       "    }\n",
       "\n",
       "    .dataframe thead th {\n",
       "        text-align: right;\n",
       "    }\n",
       "</style>\n",
       "<table border=\"1\" class=\"dataframe\">\n",
       "  <thead>\n",
       "    <tr style=\"text-align: right;\">\n",
       "      <th></th>\n",
       "      <th>0</th>\n",
       "      <th>1</th>\n",
       "    </tr>\n",
       "  </thead>\n",
       "  <tbody>\n",
       "    <tr>\n",
       "      <th>0</th>\n",
       "      <td>1</td>\n",
       "      <td>4</td>\n",
       "    </tr>\n",
       "    <tr>\n",
       "      <th>1</th>\n",
       "      <td>2</td>\n",
       "      <td>2</td>\n",
       "    </tr>\n",
       "  </tbody>\n",
       "</table>\n",
       "</div>"
      ],
      "text/plain": [
       "   0  1\n",
       "0  1  4\n",
       "1  2  2"
      ]
     },
     "execution_count": 5,
     "metadata": {},
     "output_type": "execute_result"
    }
   ],
   "source": [
    "df.dot(other) # 矩阵乘法。两行两列结果。两个二维矩阵"
   ]
  },
  {
   "cell_type": "code",
   "execution_count": 7,
   "id": "cultural-coach",
   "metadata": {
    "execution": {
     "iopub.execute_input": "2021-08-31T11:39:15.759808Z",
     "iopub.status.busy": "2021-08-31T11:39:15.759422Z",
     "iopub.status.idle": "2021-08-31T11:39:15.770934Z",
     "shell.execute_reply": "2021-08-31T11:39:15.768618Z",
     "shell.execute_reply.started": "2021-08-31T11:39:15.759782Z"
    }
   },
   "outputs": [
    {
     "data": {
      "text/html": [
       "<div>\n",
       "<style scoped>\n",
       "    .dataframe tbody tr th:only-of-type {\n",
       "        vertical-align: middle;\n",
       "    }\n",
       "\n",
       "    .dataframe tbody tr th {\n",
       "        vertical-align: top;\n",
       "    }\n",
       "\n",
       "    .dataframe thead th {\n",
       "        text-align: right;\n",
       "    }\n",
       "</style>\n",
       "<table border=\"1\" class=\"dataframe\">\n",
       "  <thead>\n",
       "    <tr style=\"text-align: right;\">\n",
       "      <th></th>\n",
       "      <th>0</th>\n",
       "      <th>1</th>\n",
       "    </tr>\n",
       "  </thead>\n",
       "  <tbody>\n",
       "    <tr>\n",
       "      <th>0</th>\n",
       "      <td>1</td>\n",
       "      <td>4</td>\n",
       "    </tr>\n",
       "    <tr>\n",
       "      <th>1</th>\n",
       "      <td>2</td>\n",
       "      <td>2</td>\n",
       "    </tr>\n",
       "  </tbody>\n",
       "</table>\n",
       "</div>"
      ],
      "text/plain": [
       "   0  1\n",
       "0  1  4\n",
       "1  2  2"
      ]
     },
     "execution_count": 7,
     "metadata": {},
     "output_type": "execute_result"
    }
   ],
   "source": [
    "df.dot(arr) # 可以乘以数组"
   ]
  }
 ],
 "metadata": {
  "kernelspec": {
   "display_name": "Python 3 (ipykernel)",
   "language": "python",
   "name": "python3"
  },
  "language_info": {
   "codemirror_mode": {
    "name": "ipython",
    "version": 3
   },
   "file_extension": ".py",
   "mimetype": "text/x-python",
   "name": "python",
   "nbconvert_exporter": "python",
   "pygments_lexer": "ipython3",
   "version": "3.8.11"
  }
 },
 "nbformat": 4,
 "nbformat_minor": 5
}
