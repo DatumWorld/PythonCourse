{
 "cells": [
  {
   "cell_type": "markdown",
   "id": "absent-spelling",
   "metadata": {},
   "source": [
    "## 146 选项设置"
   ]
  },
  {
   "cell_type": "markdown",
   "id": "israeli-reduction",
   "metadata": {
    "tags": []
   },
   "source": [
    "### 选项设置\n",
    "##### get_option() 获取选项 ， set_option() 设置选项，reset_option()重置选项为默认值 ，describe_option() 描述选项，\n",
    "##### option_context() 代码块执行环境选项（即选项仅仅在代码块执行时起作用，执行完后恢复原先设置）\n",
    "##### 选项很多，使用技巧也多，这里简单展示常用的。具体参考官方文档"
   ]
  },
  {
   "cell_type": "code",
   "execution_count": 1,
   "id": "tracked-customer",
   "metadata": {
    "execution": {
     "iopub.execute_input": "2021-09-04T00:49:09.091336Z",
     "iopub.status.busy": "2021-09-04T00:49:09.090760Z",
     "iopub.status.idle": "2021-09-04T00:49:09.421450Z",
     "shell.execute_reply": "2021-09-04T00:49:09.420346Z",
     "shell.execute_reply.started": "2021-09-04T00:49:09.091255Z"
    },
    "tags": []
   },
   "outputs": [],
   "source": [
    "\n",
    "import numpy  as np\n",
    "import pandas as pd\n",
    "from faker import Faker\n",
    "\n",
    "fake = Faker('zh_CN')\n",
    "df=pd.DataFrame(data=[ [fake.name()] for x in range(10) ],columns=['name'])\n",
    "\n",
    "df['销售额']=np.random.randint(100,100000,size=(10, 1))\n",
    "df['时间']=pd.date_range(start='2020-01-01',periods=10,freq='D')\n",
    "df.insert(0,'dept',['部门1']*5+['部门2']*5)\n",
    "df.insert(1,'dept 1',['小部门1']*2+['小部门2']*3+['小部门3']*1+['小部门4']*4)\n",
    "df.iloc[1,1]=np.nan #  修改成nan"
   ]
  },
  {
   "cell_type": "code",
   "execution_count": 41,
   "id": "third-stationery",
   "metadata": {
    "execution": {
     "iopub.execute_input": "2021-09-04T01:05:17.469945Z",
     "iopub.status.busy": "2021-09-04T01:05:17.469457Z",
     "iopub.status.idle": "2021-09-04T01:05:17.486344Z",
     "shell.execute_reply": "2021-09-04T01:05:17.485461Z",
     "shell.execute_reply.started": "2021-09-04T01:05:17.469901Z"
    },
    "tags": []
   },
   "outputs": [
    {
     "data": {
      "text/html": [
       "<div>\n",
       "<style scoped>\n",
       "    .dataframe tbody tr th:only-of-type {\n",
       "        vertical-align: middle;\n",
       "    }\n",
       "\n",
       "    .dataframe tbody tr th {\n",
       "        vertical-align: top;\n",
       "    }\n",
       "\n",
       "    .dataframe thead th {\n",
       "        text-align: right;\n",
       "    }\n",
       "</style>\n",
       "<table border=\"1\" class=\"dataframe\">\n",
       "  <thead>\n",
       "    <tr style=\"text-align: right;\">\n",
       "      <th></th>\n",
       "      <th>dept</th>\n",
       "      <th>...</th>\n",
       "      <th>时间</th>\n",
       "    </tr>\n",
       "  </thead>\n",
       "  <tbody>\n",
       "    <tr>\n",
       "      <th>0</th>\n",
       "      <td>部门1</td>\n",
       "      <td>...</td>\n",
       "      <td>2020-01-01</td>\n",
       "    </tr>\n",
       "    <tr>\n",
       "      <th>1</th>\n",
       "      <td>部门1</td>\n",
       "      <td>...</td>\n",
       "      <td>2020-01-02</td>\n",
       "    </tr>\n",
       "    <tr>\n",
       "      <th>...</th>\n",
       "      <td>...</td>\n",
       "      <td>...</td>\n",
       "      <td>...</td>\n",
       "    </tr>\n",
       "    <tr>\n",
       "      <th>8</th>\n",
       "      <td>部门2</td>\n",
       "      <td>...</td>\n",
       "      <td>2020-01-09</td>\n",
       "    </tr>\n",
       "    <tr>\n",
       "      <th>9</th>\n",
       "      <td>部门2</td>\n",
       "      <td>...</td>\n",
       "      <td>2020-01-10</td>\n",
       "    </tr>\n",
       "  </tbody>\n",
       "</table>\n",
       "<p>10 rows × 5 columns</p>\n",
       "</div>"
      ],
      "text/plain": [
       "   dept  ...         时间\n",
       "0   部门1  ... 2020-01-01\n",
       "1   部门1  ... 2020-01-02\n",
       "..  ...  ...        ...\n",
       "8   部门2  ... 2020-01-09\n",
       "9   部门2  ... 2020-01-10\n",
       "\n",
       "[10 rows x 5 columns]"
      ]
     },
     "execution_count": 41,
     "metadata": {},
     "output_type": "execute_result"
    }
   ],
   "source": [
    "df"
   ]
  },
  {
   "cell_type": "code",
   "execution_count": 40,
   "id": "understanding-aruba",
   "metadata": {
    "execution": {
     "iopub.execute_input": "2021-09-04T01:05:14.042193Z",
     "iopub.status.busy": "2021-09-04T01:05:14.041471Z",
     "iopub.status.idle": "2021-09-04T01:05:14.047222Z",
     "shell.execute_reply": "2021-09-04T01:05:14.046530Z",
     "shell.execute_reply.started": "2021-09-04T01:05:14.042124Z"
    }
   },
   "outputs": [],
   "source": [
    "pd.set_option('max_rows',5,'max_columns',2)  # 设同时设置两个选项"
   ]
  },
  {
   "cell_type": "code",
   "execution_count": 39,
   "id": "thousand-estimate",
   "metadata": {
    "execution": {
     "iopub.execute_input": "2021-09-04T01:03:59.885511Z",
     "iopub.status.busy": "2021-09-04T01:03:59.884994Z",
     "iopub.status.idle": "2021-09-04T01:03:59.894860Z",
     "shell.execute_reply": "2021-09-04T01:03:59.894179Z",
     "shell.execute_reply.started": "2021-09-04T01:03:59.885469Z"
    }
   },
   "outputs": [
    {
     "name": "stdout",
     "output_type": "stream",
     "text": [
      "   dept  ...         时间\n",
      "0   部门1  ... 2020-01-01\n",
      "1   部门1  ... 2020-01-02\n",
      "..  ...  ...        ...\n",
      "8   部门2  ... 2020-01-09\n",
      "9   部门2  ... 2020-01-10\n",
      "\n",
      "[10 rows x 5 columns]\n"
     ]
    }
   ],
   "source": [
    "with pd.option_context('max_rows',5,'max_columns',2): # 同时设置两个选项。其它函数用法类似\n",
    "    print(df)"
   ]
  },
  {
   "cell_type": "code",
   "execution_count": 33,
   "id": "straight-wagon",
   "metadata": {
    "execution": {
     "iopub.execute_input": "2021-09-04T01:01:59.502140Z",
     "iopub.status.busy": "2021-09-04T01:01:59.501867Z",
     "iopub.status.idle": "2021-09-04T01:01:59.514496Z",
     "shell.execute_reply": "2021-09-04T01:01:59.513142Z",
     "shell.execute_reply.started": "2021-09-04T01:01:59.502116Z"
    }
   },
   "outputs": [
    {
     "name": "stdout",
     "output_type": "stream",
     "text": [
      "   dept dept 1 name    销售额         时间\n",
      "0   部门1   小部门1  王雪梅  65026 2020-01-01\n",
      "1   部门1    NaN   杨鹏  79428 2020-01-02\n",
      "..  ...    ...  ...    ...        ...\n",
      "8   部门2   小部门4   郭欢  27024 2020-01-09\n",
      "9   部门2   小部门4   李丹   4019 2020-01-10\n",
      "\n",
      "[10 rows x 5 columns]\n"
     ]
    }
   ],
   "source": [
    "with pd.option_context('max_rows',5): # 执行输出时显示5行，执行完成后 max_rows 恢复原先的设置\n",
    "    print(df)"
   ]
  },
  {
   "cell_type": "code",
   "execution_count": 36,
   "id": "pleased-leonard",
   "metadata": {
    "execution": {
     "iopub.execute_input": "2021-09-04T01:02:10.879125Z",
     "iopub.status.busy": "2021-09-04T01:02:10.878695Z",
     "iopub.status.idle": "2021-09-04T01:02:10.885822Z",
     "shell.execute_reply": "2021-09-04T01:02:10.884802Z",
     "shell.execute_reply.started": "2021-09-04T01:02:10.879089Z"
    }
   },
   "outputs": [
    {
     "name": "stdout",
     "output_type": "stream",
     "text": [
      "display.max_rows : int\n",
      "    If max_rows is exceeded, switch to truncate view. Depending on\n",
      "    `large_repr`, objects are either centrally truncated or printed as\n",
      "    a summary view. 'None' value means unlimited.\n",
      "\n",
      "    In case python/IPython is running in a terminal and `large_repr`\n",
      "    equals 'truncate' this can be set to 0 and pandas will auto-detect\n",
      "    the height of the terminal and print a truncated object which fits\n",
      "    the screen height. The IPython notebook, IPython qtconsole, or\n",
      "    IDLE do not run in a terminal and hence it is not possible to do\n",
      "    correct auto-detection.\n",
      "    [default: 60] [currently: 5]\n"
     ]
    }
   ],
   "source": [
    "pd.describe_option('max_rows')  # 描述磨具个属性的内容和当前值"
   ]
  },
  {
   "cell_type": "code",
   "execution_count": 25,
   "id": "square-canberra",
   "metadata": {
    "execution": {
     "iopub.execute_input": "2021-09-04T00:59:50.669893Z",
     "iopub.status.busy": "2021-09-04T00:59:50.669534Z",
     "iopub.status.idle": "2021-09-04T00:59:50.673260Z",
     "shell.execute_reply": "2021-09-04T00:59:50.672440Z",
     "shell.execute_reply.started": "2021-09-04T00:59:50.669862Z"
    }
   },
   "outputs": [],
   "source": [
    "pd.reset_option('max_rows')  # 重置最大行数为默认值"
   ]
  },
  {
   "cell_type": "code",
   "execution_count": 35,
   "id": "acknowledged-paintball",
   "metadata": {
    "execution": {
     "iopub.execute_input": "2021-09-04T01:02:07.713620Z",
     "iopub.status.busy": "2021-09-04T01:02:07.713115Z",
     "iopub.status.idle": "2021-09-04T01:02:07.718381Z",
     "shell.execute_reply": "2021-09-04T01:02:07.717428Z",
     "shell.execute_reply.started": "2021-09-04T01:02:07.713577Z"
    }
   },
   "outputs": [],
   "source": [
    "pd.set_option('max_rows',5)  # 设置为最多显示5行"
   ]
  },
  {
   "cell_type": "code",
   "execution_count": 20,
   "id": "consistent-buying",
   "metadata": {
    "execution": {
     "iopub.execute_input": "2021-09-04T00:58:09.707305Z",
     "iopub.status.busy": "2021-09-04T00:58:09.706885Z",
     "iopub.status.idle": "2021-09-04T00:58:09.713593Z",
     "shell.execute_reply": "2021-09-04T00:58:09.712453Z",
     "shell.execute_reply.started": "2021-09-04T00:58:09.707263Z"
    }
   },
   "outputs": [
    {
     "data": {
      "text/plain": [
       "60"
      ]
     },
     "execution_count": 20,
     "metadata": {},
     "output_type": "execute_result"
    }
   ],
   "source": [
    "pd.get_option('max_rows') "
   ]
  },
  {
   "cell_type": "code",
   "execution_count": 8,
   "id": "fundamental-ready",
   "metadata": {
    "execution": {
     "iopub.execute_input": "2021-09-04T00:53:42.676295Z",
     "iopub.status.busy": "2021-09-04T00:53:42.675994Z",
     "iopub.status.idle": "2021-09-04T00:53:42.681437Z",
     "shell.execute_reply": "2021-09-04T00:53:42.680360Z",
     "shell.execute_reply.started": "2021-09-04T00:53:42.676270Z"
    }
   },
   "outputs": [
    {
     "data": {
      "text/plain": [
       "5"
      ]
     },
     "execution_count": 8,
     "metadata": {},
     "output_type": "execute_result"
    }
   ],
   "source": [
    "pd.get_option('display.max_rows') #查看最多显示5行"
   ]
  },
  {
   "cell_type": "code",
   "execution_count": 5,
   "id": "answering-henry",
   "metadata": {
    "execution": {
     "iopub.execute_input": "2021-09-04T00:52:36.350961Z",
     "iopub.status.busy": "2021-09-04T00:52:36.350468Z",
     "iopub.status.idle": "2021-09-04T00:52:36.355734Z",
     "shell.execute_reply": "2021-09-04T00:52:36.354890Z",
     "shell.execute_reply.started": "2021-09-04T00:52:36.350933Z"
    }
   },
   "outputs": [
    {
     "data": {
      "text/plain": [
       "5"
      ]
     },
     "execution_count": 5,
     "metadata": {},
     "output_type": "execute_result"
    }
   ],
   "source": [
    "pd.options.display.max_rows # 查看最多显示5行"
   ]
  },
  {
   "cell_type": "code",
   "execution_count": 23,
   "id": "roman-edinburgh",
   "metadata": {
    "execution": {
     "iopub.execute_input": "2021-09-04T00:59:37.958564Z",
     "iopub.status.busy": "2021-09-04T00:59:37.958215Z",
     "iopub.status.idle": "2021-09-04T00:59:37.962463Z",
     "shell.execute_reply": "2021-09-04T00:59:37.961430Z",
     "shell.execute_reply.started": "2021-09-04T00:59:37.958539Z"
    }
   },
   "outputs": [],
   "source": [
    "pd.options.display.max_rows=5 # 设置为最多显示5行"
   ]
  }
 ],
 "metadata": {
  "kernelspec": {
   "display_name": "Python 3",
   "language": "python",
   "name": "python3"
  },
  "language_info": {
   "codemirror_mode": {
    "name": "ipython",
    "version": 3
   },
   "file_extension": ".py",
   "mimetype": "text/x-python",
   "name": "python",
   "nbconvert_exporter": "python",
   "pygments_lexer": "ipython3",
   "version": "3.6.8"
  }
 },
 "nbformat": 4,
 "nbformat_minor": 5
}
