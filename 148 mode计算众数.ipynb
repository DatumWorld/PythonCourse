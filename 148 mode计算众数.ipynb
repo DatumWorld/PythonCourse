{
 "cells": [
  {
   "cell_type": "markdown",
   "id": "ef54bbd7",
   "metadata": {},
   "source": [
    "## 148 mode计算众数"
   ]
  },
  {
   "cell_type": "markdown",
   "id": "9acbc8e4",
   "metadata": {
    "tags": []
   },
   "source": [
    "### mode：计算众数。就是返回出现次数最多的元素\n",
    "参数 axis=0, numeric_only=False, dropna=True"
   ]
  },
  {
   "cell_type": "code",
   "execution_count": 1,
   "id": "fb0cbd42",
   "metadata": {
    "execution": {
     "iopub.execute_input": "2021-09-09T06:42:58.035208Z",
     "iopub.status.busy": "2021-09-09T06:42:58.035208Z",
     "iopub.status.idle": "2021-09-09T06:42:58.293228Z",
     "shell.execute_reply": "2021-09-09T06:42:58.293228Z",
     "shell.execute_reply.started": "2021-09-09T06:42:58.035208Z"
    },
    "tags": []
   },
   "outputs": [],
   "source": [
    "import numpy  as np\n",
    "import pandas as pd\n",
    "\n",
    "df = pd.DataFrame([('bird', 2, 2),\n",
    "                   ('mammal', 4, np.nan),\n",
    "                   ('arthropod', 8, 0),\n",
    "                   ('bird', 2, np.nan)],\n",
    "                  index=('falcon', 'horse', 'spider', 'ostrich'),\n",
    "                  columns=('species', 'legs', 'wings'))"
   ]
  },
  {
   "cell_type": "code",
   "execution_count": 2,
   "id": "d9a1a11d",
   "metadata": {
    "execution": {
     "iopub.execute_input": "2021-09-09T06:42:58.294211Z",
     "iopub.status.busy": "2021-09-09T06:42:58.294211Z",
     "iopub.status.idle": "2021-09-09T06:42:58.307209Z",
     "shell.execute_reply": "2021-09-09T06:42:58.307209Z",
     "shell.execute_reply.started": "2021-09-09T06:42:58.294211Z"
    },
    "tags": []
   },
   "outputs": [
    {
     "data": {
      "text/html": [
       "<div>\n",
       "<style scoped>\n",
       "    .dataframe tbody tr th:only-of-type {\n",
       "        vertical-align: middle;\n",
       "    }\n",
       "\n",
       "    .dataframe tbody tr th {\n",
       "        vertical-align: top;\n",
       "    }\n",
       "\n",
       "    .dataframe thead th {\n",
       "        text-align: right;\n",
       "    }\n",
       "</style>\n",
       "<table border=\"1\" class=\"dataframe\">\n",
       "  <thead>\n",
       "    <tr style=\"text-align: right;\">\n",
       "      <th></th>\n",
       "      <th>species</th>\n",
       "      <th>legs</th>\n",
       "      <th>wings</th>\n",
       "    </tr>\n",
       "  </thead>\n",
       "  <tbody>\n",
       "    <tr>\n",
       "      <th>falcon</th>\n",
       "      <td>bird</td>\n",
       "      <td>2</td>\n",
       "      <td>2.0</td>\n",
       "    </tr>\n",
       "    <tr>\n",
       "      <th>horse</th>\n",
       "      <td>mammal</td>\n",
       "      <td>4</td>\n",
       "      <td>NaN</td>\n",
       "    </tr>\n",
       "    <tr>\n",
       "      <th>spider</th>\n",
       "      <td>arthropod</td>\n",
       "      <td>8</td>\n",
       "      <td>0.0</td>\n",
       "    </tr>\n",
       "    <tr>\n",
       "      <th>ostrich</th>\n",
       "      <td>bird</td>\n",
       "      <td>2</td>\n",
       "      <td>NaN</td>\n",
       "    </tr>\n",
       "  </tbody>\n",
       "</table>\n",
       "</div>"
      ],
      "text/plain": [
       "           species  legs  wings\n",
       "falcon        bird     2    2.0\n",
       "horse       mammal     4    NaN\n",
       "spider   arthropod     8    0.0\n",
       "ostrich       bird     2    NaN"
      ]
     },
     "execution_count": 2,
     "metadata": {},
     "output_type": "execute_result"
    }
   ],
   "source": [
    "df"
   ]
  },
  {
   "cell_type": "code",
   "execution_count": 12,
   "id": "df6679bb-34c6-4e81-a168-eff1a11f7f86",
   "metadata": {
    "execution": {
     "iopub.execute_input": "2021-09-09T06:51:35.523369Z",
     "iopub.status.busy": "2021-09-09T06:51:35.523369Z",
     "iopub.status.idle": "2021-09-09T06:51:35.532340Z",
     "shell.execute_reply": "2021-09-09T06:51:35.531342Z",
     "shell.execute_reply.started": "2021-09-09T06:51:35.523369Z"
    },
    "tags": []
   },
   "outputs": [
    {
     "data": {
      "text/plain": [
       "0    2\n",
       "dtype: int64"
      ]
     },
     "execution_count": 12,
     "metadata": {},
     "output_type": "execute_result"
    }
   ],
   "source": [
    "df.legs.mode(dropna=False) # 也可以使用在列上（就是序列上）"
   ]
  },
  {
   "cell_type": "code",
   "execution_count": 10,
   "id": "1bb305ed-aafc-423c-9c32-a2476b371580",
   "metadata": {
    "execution": {
     "iopub.execute_input": "2021-09-09T06:50:18.134336Z",
     "iopub.status.busy": "2021-09-09T06:50:18.134336Z",
     "iopub.status.idle": "2021-09-09T06:50:18.148339Z",
     "shell.execute_reply": "2021-09-09T06:50:18.147341Z",
     "shell.execute_reply.started": "2021-09-09T06:50:18.134336Z"
    },
    "tags": []
   },
   "outputs": [
    {
     "data": {
      "text/html": [
       "<div>\n",
       "<style scoped>\n",
       "    .dataframe tbody tr th:only-of-type {\n",
       "        vertical-align: middle;\n",
       "    }\n",
       "\n",
       "    .dataframe tbody tr th {\n",
       "        vertical-align: top;\n",
       "    }\n",
       "\n",
       "    .dataframe thead th {\n",
       "        text-align: right;\n",
       "    }\n",
       "</style>\n",
       "<table border=\"1\" class=\"dataframe\">\n",
       "  <thead>\n",
       "    <tr style=\"text-align: right;\">\n",
       "      <th></th>\n",
       "      <th>species</th>\n",
       "      <th>legs</th>\n",
       "      <th>wings</th>\n",
       "    </tr>\n",
       "  </thead>\n",
       "  <tbody>\n",
       "    <tr>\n",
       "      <th>0</th>\n",
       "      <td>bird</td>\n",
       "      <td>2</td>\n",
       "      <td>NaN</td>\n",
       "    </tr>\n",
       "  </tbody>\n",
       "</table>\n",
       "</div>"
      ],
      "text/plain": [
       "  species  legs  wings\n",
       "0    bird     2    NaN"
      ]
     },
     "execution_count": 10,
     "metadata": {},
     "output_type": "execute_result"
    }
   ],
   "source": [
    "df.mode(axis=0,numeric_only=False,dropna=False) # dropna :如果是False，nan也会参与计算 "
   ]
  },
  {
   "cell_type": "code",
   "execution_count": 6,
   "id": "15c2602b-aec2-46ae-9dd4-cc2d62f72ad2",
   "metadata": {
    "execution": {
     "iopub.execute_input": "2021-09-09T06:46:54.838338Z",
     "iopub.status.busy": "2021-09-09T06:46:54.838338Z",
     "iopub.status.idle": "2021-09-09T06:46:54.857336Z",
     "shell.execute_reply": "2021-09-09T06:46:54.857336Z",
     "shell.execute_reply.started": "2021-09-09T06:46:54.838338Z"
    },
    "tags": []
   },
   "outputs": [
    {
     "data": {
      "text/html": [
       "<div>\n",
       "<style scoped>\n",
       "    .dataframe tbody tr th:only-of-type {\n",
       "        vertical-align: middle;\n",
       "    }\n",
       "\n",
       "    .dataframe tbody tr th {\n",
       "        vertical-align: top;\n",
       "    }\n",
       "\n",
       "    .dataframe thead th {\n",
       "        text-align: right;\n",
       "    }\n",
       "</style>\n",
       "<table border=\"1\" class=\"dataframe\">\n",
       "  <thead>\n",
       "    <tr style=\"text-align: right;\">\n",
       "      <th></th>\n",
       "      <th>0</th>\n",
       "      <th>1</th>\n",
       "    </tr>\n",
       "  </thead>\n",
       "  <tbody>\n",
       "    <tr>\n",
       "      <th>falcon</th>\n",
       "      <td>2.0</td>\n",
       "      <td>NaN</td>\n",
       "    </tr>\n",
       "    <tr>\n",
       "      <th>horse</th>\n",
       "      <td>4.0</td>\n",
       "      <td>NaN</td>\n",
       "    </tr>\n",
       "    <tr>\n",
       "      <th>spider</th>\n",
       "      <td>0.0</td>\n",
       "      <td>8.0</td>\n",
       "    </tr>\n",
       "    <tr>\n",
       "      <th>ostrich</th>\n",
       "      <td>2.0</td>\n",
       "      <td>NaN</td>\n",
       "    </tr>\n",
       "  </tbody>\n",
       "</table>\n",
       "</div>"
      ],
      "text/plain": [
       "           0    1\n",
       "falcon   2.0  NaN\n",
       "horse    4.0  NaN\n",
       "spider   0.0  8.0\n",
       "ostrich  2.0  NaN"
      ]
     },
     "execution_count": 6,
     "metadata": {},
     "output_type": "execute_result"
    }
   ],
   "source": [
    "df.mode(axis=1,numeric_only=True) # numeric_only ：是否只计算数字类型数据。注意结果的数量不同，会产生nan进行补位置\n",
    "# 刚才的错误提示，是因为行方向上既有数字，也有字符串，发生比较错误。"
   ]
  },
  {
   "cell_type": "code",
   "execution_count": 3,
   "id": "a2f8843a-3630-48ca-92da-a0e21bba5ba2",
   "metadata": {
    "execution": {
     "iopub.execute_input": "2021-09-09T06:43:47.375209Z",
     "iopub.status.busy": "2021-09-09T06:43:47.375209Z",
     "iopub.status.idle": "2021-09-09T06:43:47.396238Z",
     "shell.execute_reply": "2021-09-09T06:43:47.396238Z",
     "shell.execute_reply.started": "2021-09-09T06:43:47.375209Z"
    },
    "tags": []
   },
   "outputs": [
    {
     "data": {
      "text/html": [
       "<div>\n",
       "<style scoped>\n",
       "    .dataframe tbody tr th:only-of-type {\n",
       "        vertical-align: middle;\n",
       "    }\n",
       "\n",
       "    .dataframe tbody tr th {\n",
       "        vertical-align: top;\n",
       "    }\n",
       "\n",
       "    .dataframe thead th {\n",
       "        text-align: right;\n",
       "    }\n",
       "</style>\n",
       "<table border=\"1\" class=\"dataframe\">\n",
       "  <thead>\n",
       "    <tr style=\"text-align: right;\">\n",
       "      <th></th>\n",
       "      <th>species</th>\n",
       "      <th>legs</th>\n",
       "      <th>wings</th>\n",
       "    </tr>\n",
       "  </thead>\n",
       "  <tbody>\n",
       "    <tr>\n",
       "      <th>0</th>\n",
       "      <td>bird</td>\n",
       "      <td>2.0</td>\n",
       "      <td>0.0</td>\n",
       "    </tr>\n",
       "    <tr>\n",
       "      <th>1</th>\n",
       "      <td>NaN</td>\n",
       "      <td>NaN</td>\n",
       "      <td>2.0</td>\n",
       "    </tr>\n",
       "  </tbody>\n",
       "</table>\n",
       "</div>"
      ],
      "text/plain": [
       "  species  legs  wings\n",
       "0    bird   2.0    0.0\n",
       "1     NaN   NaN    2.0"
      ]
     },
     "execution_count": 3,
     "metadata": {},
     "output_type": "execute_result"
    }
   ],
   "source": [
    "df.mode() # 简单给出各个列上的众数。默认排除nan"
   ]
  }
 ],
 "metadata": {
  "kernelspec": {
   "display_name": "Python 3 (ipykernel)",
   "language": "python",
   "name": "python3"
  },
  "language_info": {
   "codemirror_mode": {
    "name": "ipython",
    "version": 3
   },
   "file_extension": ".py",
   "mimetype": "text/x-python",
   "name": "python",
   "nbconvert_exporter": "python",
   "pygments_lexer": "ipython3",
   "version": "3.8.12"
  }
 },
 "nbformat": 4,
 "nbformat_minor": 5
}
