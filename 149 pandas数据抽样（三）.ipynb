{
 "cells": [
  {
   "cell_type": "markdown",
   "id": "handmade-mailman",
   "metadata": {
    "tags": []
   },
   "source": [
    "## 149 pandas数据抽样（三）"
   ]
  },
  {
   "cell_type": "markdown",
   "id": "healthy-ghana",
   "metadata": {
    "tags": []
   },
   "source": [
    "### resample：重采样时序数据。实现频率转换和时序数据重采样，df必须有类似时间索引\n",
    "参数 rule, axis=0, closed=None, label=None, convention='start', kind=None, loffset=None, base=None, on=None, level=None, origin='start_day', offset=None"
   ]
  },
  {
   "cell_type": "code",
   "execution_count": 1,
   "id": "encouraging-lithuania",
   "metadata": {
    "execution": {
     "iopub.execute_input": "2021-10-11T13:24:57.557743Z",
     "iopub.status.busy": "2021-10-11T13:24:57.557743Z",
     "iopub.status.idle": "2021-10-11T13:24:57.948233Z",
     "shell.execute_reply": "2021-10-11T13:24:57.948233Z",
     "shell.execute_reply.started": "2021-10-11T13:24:57.557743Z"
    },
    "tags": []
   },
   "outputs": [],
   "source": [
    "import pandas as pd\n",
    "index = pd.date_range('1/1/2000', periods=9, freq='T')\n",
    "series = pd.Series(range(9), index=index)\n",
    "\n",
    "s = pd.Series([1, 2], index=pd.period_range('2012-01-01',\n",
    "                                            freq='A',\n",
    "                                            periods=2))\n",
    "\n",
    "q = pd.Series([1, 2, 3, 4], index=pd.period_range('2018-01-01',\n",
    "                                                  freq='Q',\n",
    "                                                  periods=4))\n",
    "\n",
    "d = {'price': [10, 11, 9, 13, 14, 18, 17, 19],\n",
    "     'volume': [50, 60, 40, 100, 50, 100, 40, 50]}\n",
    "df = pd.DataFrame(d)\n",
    "df['week_starting'] = pd.date_range('01/01/2018',\n",
    "                                    periods=8,\n",
    "                                    freq='W')\n",
    "\n",
    "days = pd.date_range('1/1/2000', periods=4, freq='D')\n",
    "d2 = {'price': [10, 11, 9, 13, 14, 18, 17, 19],\n",
    "      'volume': [50, 60, 40, 100, 50, 100, 40, 50]}\n",
    "df2 = pd.DataFrame(\n",
    "    d2,\n",
    "    index=pd.MultiIndex.from_product(\n",
    "        [days, ['morning', 'afternoon']]\n",
    "    )\n",
    ")"
   ]
  },
  {
   "cell_type": "code",
   "execution_count": 2,
   "id": "optimum-strike",
   "metadata": {
    "execution": {
     "iopub.execute_input": "2021-10-11T13:24:57.950229Z",
     "iopub.status.busy": "2021-10-11T13:24:57.950229Z",
     "iopub.status.idle": "2021-10-11T13:24:57.963219Z",
     "shell.execute_reply": "2021-10-11T13:24:57.962219Z",
     "shell.execute_reply.started": "2021-10-11T13:24:57.950229Z"
    },
    "tags": []
   },
   "outputs": [
    {
     "data": {
      "text/plain": [
       "2000-01-01 00:00:00    0\n",
       "2000-01-01 00:01:00    1\n",
       "2000-01-01 00:02:00    2\n",
       "2000-01-01 00:03:00    3\n",
       "2000-01-01 00:04:00    4\n",
       "2000-01-01 00:05:00    5\n",
       "2000-01-01 00:06:00    6\n",
       "2000-01-01 00:07:00    7\n",
       "2000-01-01 00:08:00    8\n",
       "Freq: T, dtype: int64"
      ]
     },
     "execution_count": 2,
     "metadata": {},
     "output_type": "execute_result"
    }
   ],
   "source": [
    "series"
   ]
  },
  {
   "cell_type": "code",
   "execution_count": 3,
   "id": "efficient-patent",
   "metadata": {
    "execution": {
     "iopub.execute_input": "2021-10-11T13:28:48.619061Z",
     "iopub.status.busy": "2021-10-11T13:28:48.618064Z",
     "iopub.status.idle": "2021-10-11T13:28:48.634051Z",
     "shell.execute_reply": "2021-10-11T13:28:48.633052Z",
     "shell.execute_reply.started": "2021-10-11T13:28:48.619061Z"
    },
    "tags": []
   },
   "outputs": [
    {
     "data": {
      "text/plain": [
       "2000-01-01 00:00:00     3\n",
       "2000-01-01 00:03:00    12\n",
       "2000-01-01 00:06:00    21\n",
       "Freq: 3T, dtype: int64"
      ]
     },
     "execution_count": 3,
     "metadata": {},
     "output_type": "execute_result"
    }
   ],
   "source": [
    "series.resample(rule='3T').sum() # 划分成3分钟区间，区间内的值求和 rule ：转换规则"
   ]
  },
  {
   "cell_type": "code",
   "execution_count": 4,
   "id": "entitled-program",
   "metadata": {
    "execution": {
     "iopub.execute_input": "2021-10-11T13:32:32.625742Z",
     "iopub.status.busy": "2021-10-11T13:32:32.624741Z",
     "iopub.status.idle": "2021-10-11T13:32:32.633736Z",
     "shell.execute_reply": "2021-10-11T13:32:32.632738Z",
     "shell.execute_reply.started": "2021-10-11T13:32:32.625742Z"
    },
    "tags": []
   },
   "outputs": [
    {
     "data": {
      "text/plain": [
       "2000-01-01 00:00:00     3\n",
       "2000-01-01 00:03:00    12\n",
       "2000-01-01 00:06:00    21\n",
       "Freq: 3T, dtype: int64"
      ]
     },
     "execution_count": 4,
     "metadata": {},
     "output_type": "execute_result"
    }
   ],
   "source": [
    "series.resample(rule='3T',closed='left').sum() # closed 区间包含左边界还是右边界"
   ]
  },
  {
   "cell_type": "code",
   "execution_count": 5,
   "id": "subject-paris",
   "metadata": {
    "execution": {
     "iopub.execute_input": "2021-10-11T13:33:01.213255Z",
     "iopub.status.busy": "2021-10-11T13:33:01.213255Z",
     "iopub.status.idle": "2021-10-11T13:33:01.232243Z",
     "shell.execute_reply": "2021-10-11T13:33:01.230246Z",
     "shell.execute_reply.started": "2021-10-11T13:33:01.213255Z"
    },
    "tags": []
   },
   "outputs": [
    {
     "data": {
      "text/plain": [
       "1999-12-31 23:57:00     0\n",
       "2000-01-01 00:00:00     6\n",
       "2000-01-01 00:03:00    15\n",
       "2000-01-01 00:06:00    15\n",
       "Freq: 3T, dtype: int64"
      ]
     },
     "execution_count": 5,
     "metadata": {},
     "output_type": "execute_result"
    }
   ],
   "source": [
    "series.resample(rule='3T',closed='right').sum() # closed 区间包含左边界还是右边界"
   ]
  },
  {
   "cell_type": "code",
   "execution_count": 6,
   "id": "essential-manor",
   "metadata": {
    "execution": {
     "iopub.execute_input": "2021-10-11T13:38:06.912268Z",
     "iopub.status.busy": "2021-10-11T13:38:06.911268Z",
     "iopub.status.idle": "2021-10-11T13:38:06.925258Z",
     "shell.execute_reply": "2021-10-11T13:38:06.924257Z",
     "shell.execute_reply.started": "2021-10-11T13:38:06.912268Z"
    },
    "tags": []
   },
   "outputs": [
    {
     "data": {
      "text/plain": [
       "1999-12-31 23:57:00     0\n",
       "2000-01-01 00:00:00     6\n",
       "2000-01-01 00:03:00    15\n",
       "2000-01-01 00:06:00    15\n",
       "Freq: 3T, dtype: int64"
      ]
     },
     "execution_count": 6,
     "metadata": {},
     "output_type": "execute_result"
    }
   ],
   "source": [
    "series.resample(rule='3T',closed='right',label='left').sum() # label 区间组的标签使用 左边界 还是右边界"
   ]
  },
  {
   "cell_type": "code",
   "execution_count": 7,
   "id": "literary-picnic",
   "metadata": {
    "execution": {
     "iopub.execute_input": "2021-10-11T13:38:27.645723Z",
     "iopub.status.busy": "2021-10-11T13:38:27.645723Z",
     "iopub.status.idle": "2021-10-11T13:38:27.655718Z",
     "shell.execute_reply": "2021-10-11T13:38:27.654719Z",
     "shell.execute_reply.started": "2021-10-11T13:38:27.645723Z"
    },
    "tags": []
   },
   "outputs": [
    {
     "data": {
      "text/plain": [
       "2000-01-01 00:00:00     0\n",
       "2000-01-01 00:03:00     6\n",
       "2000-01-01 00:06:00    15\n",
       "2000-01-01 00:09:00    15\n",
       "Freq: 3T, dtype: int64"
      ]
     },
     "execution_count": 7,
     "metadata": {},
     "output_type": "execute_result"
    }
   ],
   "source": [
    "series.resample(rule='3T',closed='right',label='right').sum() # label 区间组的标签使用 左边界 还是右边界"
   ]
  },
  {
   "cell_type": "code",
   "execution_count": 8,
   "id": "ceramic-leader",
   "metadata": {
    "execution": {
     "iopub.execute_input": "2021-10-11T13:41:44.391707Z",
     "iopub.status.busy": "2021-10-11T13:41:44.391707Z",
     "iopub.status.idle": "2021-10-11T13:41:44.410696Z",
     "shell.execute_reply": "2021-10-11T13:41:44.409696Z",
     "shell.execute_reply.started": "2021-10-11T13:41:44.391707Z"
    },
    "tags": []
   },
   "outputs": [
    {
     "data": {
      "text/html": [
       "<div>\n",
       "<style scoped>\n",
       "    .dataframe tbody tr th:only-of-type {\n",
       "        vertical-align: middle;\n",
       "    }\n",
       "\n",
       "    .dataframe tbody tr th {\n",
       "        vertical-align: top;\n",
       "    }\n",
       "\n",
       "    .dataframe thead th {\n",
       "        text-align: right;\n",
       "    }\n",
       "</style>\n",
       "<table border=\"1\" class=\"dataframe\">\n",
       "  <thead>\n",
       "    <tr style=\"text-align: right;\">\n",
       "      <th></th>\n",
       "      <th>price</th>\n",
       "      <th>volume</th>\n",
       "      <th>week_starting</th>\n",
       "    </tr>\n",
       "  </thead>\n",
       "  <tbody>\n",
       "    <tr>\n",
       "      <th>0</th>\n",
       "      <td>10</td>\n",
       "      <td>50</td>\n",
       "      <td>2018-01-07</td>\n",
       "    </tr>\n",
       "    <tr>\n",
       "      <th>1</th>\n",
       "      <td>11</td>\n",
       "      <td>60</td>\n",
       "      <td>2018-01-14</td>\n",
       "    </tr>\n",
       "    <tr>\n",
       "      <th>2</th>\n",
       "      <td>9</td>\n",
       "      <td>40</td>\n",
       "      <td>2018-01-21</td>\n",
       "    </tr>\n",
       "    <tr>\n",
       "      <th>3</th>\n",
       "      <td>13</td>\n",
       "      <td>100</td>\n",
       "      <td>2018-01-28</td>\n",
       "    </tr>\n",
       "    <tr>\n",
       "      <th>4</th>\n",
       "      <td>14</td>\n",
       "      <td>50</td>\n",
       "      <td>2018-02-04</td>\n",
       "    </tr>\n",
       "    <tr>\n",
       "      <th>5</th>\n",
       "      <td>18</td>\n",
       "      <td>100</td>\n",
       "      <td>2018-02-11</td>\n",
       "    </tr>\n",
       "    <tr>\n",
       "      <th>6</th>\n",
       "      <td>17</td>\n",
       "      <td>40</td>\n",
       "      <td>2018-02-18</td>\n",
       "    </tr>\n",
       "    <tr>\n",
       "      <th>7</th>\n",
       "      <td>19</td>\n",
       "      <td>50</td>\n",
       "      <td>2018-02-25</td>\n",
       "    </tr>\n",
       "  </tbody>\n",
       "</table>\n",
       "</div>"
      ],
      "text/plain": [
       "   price  volume week_starting\n",
       "0     10      50    2018-01-07\n",
       "1     11      60    2018-01-14\n",
       "2      9      40    2018-01-21\n",
       "3     13     100    2018-01-28\n",
       "4     14      50    2018-02-04\n",
       "5     18     100    2018-02-11\n",
       "6     17      40    2018-02-18\n",
       "7     19      50    2018-02-25"
      ]
     },
     "execution_count": 8,
     "metadata": {},
     "output_type": "execute_result"
    }
   ],
   "source": [
    "df"
   ]
  },
  {
   "cell_type": "code",
   "execution_count": 10,
   "id": "facial-campus",
   "metadata": {
    "execution": {
     "iopub.execute_input": "2021-10-11T13:42:57.042862Z",
     "iopub.status.busy": "2021-10-11T13:42:57.042862Z",
     "iopub.status.idle": "2021-10-11T13:42:57.054853Z",
     "shell.execute_reply": "2021-10-11T13:42:57.053854Z",
     "shell.execute_reply.started": "2021-10-11T13:42:57.042862Z"
    },
    "tags": []
   },
   "outputs": [
    {
     "data": {
      "text/html": [
       "<div>\n",
       "<style scoped>\n",
       "    .dataframe tbody tr th:only-of-type {\n",
       "        vertical-align: middle;\n",
       "    }\n",
       "\n",
       "    .dataframe tbody tr th {\n",
       "        vertical-align: top;\n",
       "    }\n",
       "\n",
       "    .dataframe thead th {\n",
       "        text-align: right;\n",
       "    }\n",
       "</style>\n",
       "<table border=\"1\" class=\"dataframe\">\n",
       "  <thead>\n",
       "    <tr style=\"text-align: right;\">\n",
       "      <th></th>\n",
       "      <th>price</th>\n",
       "      <th>volume</th>\n",
       "    </tr>\n",
       "    <tr>\n",
       "      <th>week_starting</th>\n",
       "      <th></th>\n",
       "      <th></th>\n",
       "    </tr>\n",
       "  </thead>\n",
       "  <tbody>\n",
       "    <tr>\n",
       "      <th>2018-01-31</th>\n",
       "      <td>43</td>\n",
       "      <td>250</td>\n",
       "    </tr>\n",
       "    <tr>\n",
       "      <th>2018-02-28</th>\n",
       "      <td>68</td>\n",
       "      <td>240</td>\n",
       "    </tr>\n",
       "  </tbody>\n",
       "</table>\n",
       "</div>"
      ],
      "text/plain": [
       "               price  volume\n",
       "week_starting               \n",
       "2018-01-31        43     250\n",
       "2018-02-28        68     240"
      ]
     },
     "execution_count": 10,
     "metadata": {},
     "output_type": "execute_result"
    }
   ],
   "source": [
    "df.resample('M',on='week_starting').sum() # 使用非索引的时间类型的列 进行计算datetime类型"
   ]
  }
 ],
 "metadata": {
  "kernelspec": {
   "display_name": "Python 3",
   "language": "python",
   "name": "python3"
  },
  "language_info": {
   "codemirror_mode": {
    "name": "ipython",
    "version": 3
   },
   "file_extension": ".py",
   "mimetype": "text/x-python",
   "name": "python",
   "nbconvert_exporter": "python",
   "pygments_lexer": "ipython3",
   "version": "3.6.8"
  }
 },
 "nbformat": 4,
 "nbformat_minor": 5
}
