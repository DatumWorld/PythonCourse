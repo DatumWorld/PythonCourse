{
 "cells": [
  {
   "cell_type": "markdown",
   "id": "after-winning",
   "metadata": {
    "tags": []
   },
   "source": [
    "## 150 pandas数据抽样（四）"
   ]
  },
  {
   "cell_type": "markdown",
   "id": "aerial-notification",
   "metadata": {
    "tags": []
   },
   "source": [
    "### resample：重采样时序数据。实现频率转换和时序数据重采样。上采样和下采样(也有翻译为升采样和降采样)\n",
    "#### 周期索引、多级索引、定频和上下采样等\n",
    "参数 rule, axis=0, closed=None, label=None, convention='start', kind=None, loffset=None, base=None, on=None, level=None, origin='start_day', offset=None"
   ]
  },
  {
   "cell_type": "code",
   "execution_count": 1,
   "id": "printable-annex",
   "metadata": {
    "execution": {
     "iopub.execute_input": "2021-10-12T03:41:30.453330Z",
     "iopub.status.busy": "2021-10-12T03:41:30.453330Z",
     "iopub.status.idle": "2021-10-12T03:41:30.847089Z",
     "shell.execute_reply": "2021-10-12T03:41:30.847089Z",
     "shell.execute_reply.started": "2021-10-12T03:41:30.453330Z"
    },
    "tags": []
   },
   "outputs": [],
   "source": [
    "import pandas as pd\n",
    "import numpy as np\n",
    "index = pd.date_range('1/1/2000', periods=9, freq='T')\n",
    "series = pd.Series(range(9), index=index)\n",
    "\n",
    "s = pd.Series([1, 2], index=pd.period_range('2012-01-01',\n",
    "                                            freq='A',\n",
    "                                            periods=2))\n",
    "\n",
    "q = pd.Series([1, 2, 3, 4], index=pd.period_range('2018-01-01',\n",
    "                                                  freq='Q',\n",
    "                                                  periods=4))\n",
    "\n",
    "d = {'price': [10, 11, 9, 13, 14, 18, 17, 19],\n",
    "     'volume': [50, 60, 40, 100, 50, 100, 40, 50]}\n",
    "df = pd.DataFrame(d)\n",
    "df['week_starting'] = pd.date_range('01/01/2018',\n",
    "                                    periods=8,\n",
    "                                    freq='W')\n",
    "\n",
    "days = pd.date_range('1/1/2000', periods=4, freq='D')\n",
    "d2 = {'price': [10, 11, 9, 13, 14, 18, 17, 19],\n",
    "      'volume': [50, 60, 40, 100, 50, 100, 40, 50]}\n",
    "df2 = pd.DataFrame(\n",
    "    d2,\n",
    "    index=pd.MultiIndex.from_product(\n",
    "        [days, ['morning', 'afternoon']]\n",
    "    )\n",
    ")"
   ]
  },
  {
   "cell_type": "code",
   "execution_count": 2,
   "id": "alone-combine",
   "metadata": {
    "execution": {
     "iopub.execute_input": "2021-10-12T03:43:08.698063Z",
     "iopub.status.busy": "2021-10-12T03:43:08.698063Z",
     "iopub.status.idle": "2021-10-12T03:43:08.711054Z",
     "shell.execute_reply": "2021-10-12T03:43:08.711054Z",
     "shell.execute_reply.started": "2021-10-12T03:43:08.698063Z"
    },
    "tags": []
   },
   "outputs": [
    {
     "data": {
      "text/plain": [
       "2000-01-01 00:00:00    0\n",
       "2000-01-01 00:01:00    1\n",
       "2000-01-01 00:02:00    2\n",
       "2000-01-01 00:03:00    3\n",
       "2000-01-01 00:04:00    4\n",
       "2000-01-01 00:05:00    5\n",
       "2000-01-01 00:06:00    6\n",
       "2000-01-01 00:07:00    7\n",
       "2000-01-01 00:08:00    8\n",
       "Freq: T, dtype: int64"
      ]
     },
     "execution_count": 2,
     "metadata": {},
     "output_type": "execute_result"
    }
   ],
   "source": [
    "series"
   ]
  },
  {
   "cell_type": "code",
   "execution_count": 31,
   "id": "optimum-dialogue",
   "metadata": {
    "execution": {
     "iopub.execute_input": "2021-10-12T04:00:28.105327Z",
     "iopub.status.busy": "2021-10-12T04:00:28.104327Z",
     "iopub.status.idle": "2021-10-12T04:00:28.118316Z",
     "shell.execute_reply": "2021-10-12T04:00:28.116321Z",
     "shell.execute_reply.started": "2021-10-12T04:00:28.105327Z"
    },
    "tags": []
   },
   "outputs": [
    {
     "data": {
      "text/plain": [
       "2000-01-01 00:00:00    0\n",
       "2000-01-01 00:03:00    3\n",
       "2000-01-01 00:06:00    6\n",
       "Freq: 3T, dtype: int64"
      ]
     },
     "execution_count": 31,
     "metadata": {},
     "output_type": "execute_result"
    }
   ],
   "source": [
    "series[::3] # 查询的方法。对照"
   ]
  },
  {
   "cell_type": "code",
   "execution_count": 4,
   "id": "revised-galaxy",
   "metadata": {
    "execution": {
     "iopub.execute_input": "2021-10-12T03:43:55.499454Z",
     "iopub.status.busy": "2021-10-12T03:43:55.499454Z",
     "iopub.status.idle": "2021-10-12T03:43:55.512444Z",
     "shell.execute_reply": "2021-10-12T03:43:55.511445Z",
     "shell.execute_reply.started": "2021-10-12T03:43:55.499454Z"
    },
    "tags": []
   },
   "outputs": [
    {
     "data": {
      "text/plain": [
       "2000-01-01 00:00:00    0\n",
       "2000-01-01 00:03:00    3\n",
       "2000-01-01 00:06:00    6\n",
       "Freq: 3T, dtype: int64"
      ]
     },
     "execution_count": 4,
     "metadata": {},
     "output_type": "execute_result"
    }
   ],
   "source": [
    "series.resample('3T').asfreq()"
   ]
  },
  {
   "cell_type": "code",
   "execution_count": 5,
   "id": "electrical-british",
   "metadata": {
    "execution": {
     "iopub.execute_input": "2021-10-12T03:45:02.981458Z",
     "iopub.status.busy": "2021-10-12T03:45:02.980455Z",
     "iopub.status.idle": "2021-10-12T03:45:03.003441Z",
     "shell.execute_reply": "2021-10-12T03:45:03.002441Z",
     "shell.execute_reply.started": "2021-10-12T03:45:02.981458Z"
    },
    "tags": []
   },
   "outputs": [
    {
     "data": {
      "text/plain": [
       "2000-01-01 00:00:00    0.0\n",
       "2000-01-01 00:00:30    NaN\n",
       "2000-01-01 00:01:00    1.0\n",
       "2000-01-01 00:01:30    NaN\n",
       "2000-01-01 00:02:00    2.0\n",
       "2000-01-01 00:02:30    NaN\n",
       "2000-01-01 00:03:00    3.0\n",
       "2000-01-01 00:03:30    NaN\n",
       "2000-01-01 00:04:00    4.0\n",
       "2000-01-01 00:04:30    NaN\n",
       "2000-01-01 00:05:00    5.0\n",
       "2000-01-01 00:05:30    NaN\n",
       "2000-01-01 00:06:00    6.0\n",
       "2000-01-01 00:06:30    NaN\n",
       "2000-01-01 00:07:00    7.0\n",
       "2000-01-01 00:07:30    NaN\n",
       "2000-01-01 00:08:00    8.0\n",
       "Freq: 30S, dtype: float64"
      ]
     },
     "execution_count": 5,
     "metadata": {},
     "output_type": "execute_result"
    }
   ],
   "source": [
    "series.resample('.5T').asfreq() # 上采样"
   ]
  },
  {
   "cell_type": "code",
   "execution_count": 6,
   "id": "hundred-working",
   "metadata": {
    "execution": {
     "iopub.execute_input": "2021-10-12T03:46:28.744101Z",
     "iopub.status.busy": "2021-10-12T03:46:28.744101Z",
     "iopub.status.idle": "2021-10-12T03:46:28.752096Z",
     "shell.execute_reply": "2021-10-12T03:46:28.751096Z",
     "shell.execute_reply.started": "2021-10-12T03:46:28.744101Z"
    },
    "tags": []
   },
   "outputs": [
    {
     "data": {
      "text/plain": [
       "2018Q1    1\n",
       "2018Q2    2\n",
       "2018Q3    3\n",
       "2018Q4    4\n",
       "Freq: Q-DEC, dtype: int64"
      ]
     },
     "execution_count": 6,
     "metadata": {},
     "output_type": "execute_result"
    }
   ],
   "source": [
    "q"
   ]
  },
  {
   "cell_type": "code",
   "execution_count": 9,
   "id": "existing-office",
   "metadata": {
    "execution": {
     "iopub.execute_input": "2021-10-12T03:47:27.765496Z",
     "iopub.status.busy": "2021-10-12T03:47:27.765496Z",
     "iopub.status.idle": "2021-10-12T03:47:27.775490Z",
     "shell.execute_reply": "2021-10-12T03:47:27.774491Z",
     "shell.execute_reply.started": "2021-10-12T03:47:27.765496Z"
    },
    "tags": []
   },
   "outputs": [
    {
     "data": {
      "text/plain": [
       "2018-01    1.0\n",
       "2018-02    NaN\n",
       "2018-03    NaN\n",
       "2018-04    2.0\n",
       "2018-05    NaN\n",
       "2018-06    NaN\n",
       "2018-07    3.0\n",
       "2018-08    NaN\n",
       "2018-09    NaN\n",
       "2018-10    4.0\n",
       "2018-11    NaN\n",
       "2018-12    NaN\n",
       "Freq: M, dtype: float64"
      ]
     },
     "execution_count": 9,
     "metadata": {},
     "output_type": "execute_result"
    }
   ],
   "source": [
    "q.resample('M').sum()"
   ]
  },
  {
   "cell_type": "code",
   "execution_count": 11,
   "id": "standing-decrease",
   "metadata": {
    "execution": {
     "iopub.execute_input": "2021-10-12T03:48:36.370687Z",
     "iopub.status.busy": "2021-10-12T03:48:36.370687Z",
     "iopub.status.idle": "2021-10-12T03:48:36.379682Z",
     "shell.execute_reply": "2021-10-12T03:48:36.378683Z",
     "shell.execute_reply.started": "2021-10-12T03:48:36.370687Z"
    },
    "tags": []
   },
   "outputs": [
    {
     "data": {
      "text/plain": [
       "2018-01    1.0\n",
       "2018-02    NaN\n",
       "2018-03    NaN\n",
       "2018-04    2.0\n",
       "2018-05    NaN\n",
       "2018-06    NaN\n",
       "2018-07    3.0\n",
       "2018-08    NaN\n",
       "2018-09    NaN\n",
       "2018-10    4.0\n",
       "2018-11    NaN\n",
       "2018-12    NaN\n",
       "Freq: M, dtype: float64"
      ]
     },
     "execution_count": 11,
     "metadata": {},
     "output_type": "execute_result"
    }
   ],
   "source": [
    "q.resample('M',convention='start').sum() # convention 设置区间内的位置，在开始或者结束"
   ]
  },
  {
   "cell_type": "code",
   "execution_count": 13,
   "id": "patient-shooting",
   "metadata": {
    "execution": {
     "iopub.execute_input": "2021-10-12T03:49:33.417250Z",
     "iopub.status.busy": "2021-10-12T03:49:33.416250Z",
     "iopub.status.idle": "2021-10-12T03:49:33.433237Z",
     "shell.execute_reply": "2021-10-12T03:49:33.431242Z",
     "shell.execute_reply.started": "2021-10-12T03:49:33.417250Z"
    },
    "tags": []
   },
   "outputs": [
    {
     "data": {
      "text/plain": [
       "2018-03    1.0\n",
       "2018-04    NaN\n",
       "2018-05    NaN\n",
       "2018-06    2.0\n",
       "2018-07    NaN\n",
       "2018-08    NaN\n",
       "2018-09    3.0\n",
       "2018-10    NaN\n",
       "2018-11    NaN\n",
       "2018-12    4.0\n",
       "Freq: M, dtype: float64"
      ]
     },
     "execution_count": 13,
     "metadata": {},
     "output_type": "execute_result"
    }
   ],
   "source": [
    "q.resample('M',convention='end').sum() # convention 设置区间内的位置，在开始或者结束"
   ]
  },
  {
   "cell_type": "code",
   "execution_count": 14,
   "id": "sunrise-multiple",
   "metadata": {
    "execution": {
     "iopub.execute_input": "2021-10-12T03:52:02.166182Z",
     "iopub.status.busy": "2021-10-12T03:52:02.165183Z",
     "iopub.status.idle": "2021-10-12T03:52:02.172178Z",
     "shell.execute_reply": "2021-10-12T03:52:02.171179Z",
     "shell.execute_reply.started": "2021-10-12T03:52:02.166182Z"
    },
    "tags": []
   },
   "outputs": [
    {
     "data": {
      "text/plain": [
       "2012    1\n",
       "2013    2\n",
       "Freq: A-DEC, dtype: int64"
      ]
     },
     "execution_count": 14,
     "metadata": {},
     "output_type": "execute_result"
    }
   ],
   "source": [
    "s"
   ]
  },
  {
   "cell_type": "code",
   "execution_count": 15,
   "id": "constant-sandwich",
   "metadata": {
    "execution": {
     "iopub.execute_input": "2021-10-12T03:52:32.206412Z",
     "iopub.status.busy": "2021-10-12T03:52:32.206412Z",
     "iopub.status.idle": "2021-10-12T03:52:32.217405Z",
     "shell.execute_reply": "2021-10-12T03:52:32.216406Z",
     "shell.execute_reply.started": "2021-10-12T03:52:32.206412Z"
    },
    "tags": []
   },
   "outputs": [
    {
     "data": {
      "text/plain": [
       "2012Q4    1.0\n",
       "2013Q1    NaN\n",
       "2013Q2    NaN\n",
       "2013Q3    NaN\n",
       "2013Q4    2.0\n",
       "Freq: Q-DEC, dtype: float64"
      ]
     },
     "execution_count": 15,
     "metadata": {},
     "output_type": "execute_result"
    }
   ],
   "source": [
    "s.resample('Q',convention='end').sum() # convention 设置区间内的位置，在开始或者结束"
   ]
  },
  {
   "cell_type": "code",
   "execution_count": 16,
   "id": "blank-cleanup",
   "metadata": {
    "execution": {
     "iopub.execute_input": "2021-10-12T03:52:59.600068Z",
     "iopub.status.busy": "2021-10-12T03:52:59.599066Z",
     "iopub.status.idle": "2021-10-12T03:52:59.613061Z",
     "shell.execute_reply": "2021-10-12T03:52:59.611060Z",
     "shell.execute_reply.started": "2021-10-12T03:52:59.600068Z"
    },
    "tags": []
   },
   "outputs": [
    {
     "data": {
      "text/plain": [
       "2012Q1    1.0\n",
       "2012Q2    NaN\n",
       "2012Q3    NaN\n",
       "2012Q4    NaN\n",
       "2013Q1    2.0\n",
       "2013Q2    NaN\n",
       "2013Q3    NaN\n",
       "2013Q4    NaN\n",
       "Freq: Q-DEC, dtype: float64"
      ]
     },
     "execution_count": 16,
     "metadata": {},
     "output_type": "execute_result"
    }
   ],
   "source": [
    "s.resample('Q',convention='s').sum() # convention 设置区间内的位置，在开始或者结束"
   ]
  },
  {
   "cell_type": "code",
   "execution_count": 17,
   "id": "sunrise-patient",
   "metadata": {
    "execution": {
     "iopub.execute_input": "2021-10-12T03:53:34.669538Z",
     "iopub.status.busy": "2021-10-12T03:53:34.669538Z",
     "iopub.status.idle": "2021-10-12T03:53:34.686525Z",
     "shell.execute_reply": "2021-10-12T03:53:34.684528Z",
     "shell.execute_reply.started": "2021-10-12T03:53:34.669538Z"
    },
    "tags": []
   },
   "outputs": [
    {
     "data": {
      "text/plain": [
       "2012-03-31    1\n",
       "2012-06-30    0\n",
       "2012-09-30    0\n",
       "2012-12-31    0\n",
       "2013-03-31    2\n",
       "Freq: Q-DEC, dtype: int64"
      ]
     },
     "execution_count": 17,
     "metadata": {},
     "output_type": "execute_result"
    }
   ],
   "source": [
    "s.resample('Q',convention='s',kind='timestamp').sum() # kind 设置结果的数据类型 period timestamp"
   ]
  },
  {
   "cell_type": "code",
   "execution_count": 18,
   "id": "quality-jordan",
   "metadata": {
    "execution": {
     "iopub.execute_input": "2021-10-12T03:54:02.629792Z",
     "iopub.status.busy": "2021-10-12T03:54:02.628793Z",
     "iopub.status.idle": "2021-10-12T03:54:02.638785Z",
     "shell.execute_reply": "2021-10-12T03:54:02.637827Z",
     "shell.execute_reply.started": "2021-10-12T03:54:02.629792Z"
    },
    "tags": []
   },
   "outputs": [
    {
     "data": {
      "text/plain": [
       "2012Q1    1.0\n",
       "2012Q2    NaN\n",
       "2012Q3    NaN\n",
       "2012Q4    NaN\n",
       "2013Q1    2.0\n",
       "2013Q2    NaN\n",
       "2013Q3    NaN\n",
       "2013Q4    NaN\n",
       "Freq: Q-DEC, dtype: float64"
      ]
     },
     "execution_count": 18,
     "metadata": {},
     "output_type": "execute_result"
    }
   ],
   "source": [
    "s.resample('Q',convention='s',kind='period').sum() # kind 设置结果的数据类型 period timestamp"
   ]
  },
  {
   "cell_type": "code",
   "execution_count": 19,
   "id": "academic-diary",
   "metadata": {
    "execution": {
     "iopub.execute_input": "2021-10-12T03:55:23.092898Z",
     "iopub.status.busy": "2021-10-12T03:55:23.091899Z",
     "iopub.status.idle": "2021-10-12T03:55:23.107888Z",
     "shell.execute_reply": "2021-10-12T03:55:23.106892Z",
     "shell.execute_reply.started": "2021-10-12T03:55:23.092898Z"
    },
    "tags": []
   },
   "outputs": [
    {
     "data": {
      "text/html": [
       "<div>\n",
       "<style scoped>\n",
       "    .dataframe tbody tr th:only-of-type {\n",
       "        vertical-align: middle;\n",
       "    }\n",
       "\n",
       "    .dataframe tbody tr th {\n",
       "        vertical-align: top;\n",
       "    }\n",
       "\n",
       "    .dataframe thead th {\n",
       "        text-align: right;\n",
       "    }\n",
       "</style>\n",
       "<table border=\"1\" class=\"dataframe\">\n",
       "  <thead>\n",
       "    <tr style=\"text-align: right;\">\n",
       "      <th></th>\n",
       "      <th></th>\n",
       "      <th>price</th>\n",
       "      <th>volume</th>\n",
       "    </tr>\n",
       "  </thead>\n",
       "  <tbody>\n",
       "    <tr>\n",
       "      <th rowspan=\"2\" valign=\"top\">2000-01-01</th>\n",
       "      <th>morning</th>\n",
       "      <td>10</td>\n",
       "      <td>50</td>\n",
       "    </tr>\n",
       "    <tr>\n",
       "      <th>afternoon</th>\n",
       "      <td>11</td>\n",
       "      <td>60</td>\n",
       "    </tr>\n",
       "    <tr>\n",
       "      <th rowspan=\"2\" valign=\"top\">2000-01-02</th>\n",
       "      <th>morning</th>\n",
       "      <td>9</td>\n",
       "      <td>40</td>\n",
       "    </tr>\n",
       "    <tr>\n",
       "      <th>afternoon</th>\n",
       "      <td>13</td>\n",
       "      <td>100</td>\n",
       "    </tr>\n",
       "    <tr>\n",
       "      <th rowspan=\"2\" valign=\"top\">2000-01-03</th>\n",
       "      <th>morning</th>\n",
       "      <td>14</td>\n",
       "      <td>50</td>\n",
       "    </tr>\n",
       "    <tr>\n",
       "      <th>afternoon</th>\n",
       "      <td>18</td>\n",
       "      <td>100</td>\n",
       "    </tr>\n",
       "    <tr>\n",
       "      <th rowspan=\"2\" valign=\"top\">2000-01-04</th>\n",
       "      <th>morning</th>\n",
       "      <td>17</td>\n",
       "      <td>40</td>\n",
       "    </tr>\n",
       "    <tr>\n",
       "      <th>afternoon</th>\n",
       "      <td>19</td>\n",
       "      <td>50</td>\n",
       "    </tr>\n",
       "  </tbody>\n",
       "</table>\n",
       "</div>"
      ],
      "text/plain": [
       "                      price  volume\n",
       "2000-01-01 morning       10      50\n",
       "           afternoon     11      60\n",
       "2000-01-02 morning        9      40\n",
       "           afternoon     13     100\n",
       "2000-01-03 morning       14      50\n",
       "           afternoon     18     100\n",
       "2000-01-04 morning       17      40\n",
       "           afternoon     19      50"
      ]
     },
     "execution_count": 19,
     "metadata": {},
     "output_type": "execute_result"
    }
   ],
   "source": [
    "df2"
   ]
  },
  {
   "cell_type": "code",
   "execution_count": 27,
   "id": "collective-combine",
   "metadata": {
    "execution": {
     "iopub.execute_input": "2021-10-12T03:58:44.019310Z",
     "iopub.status.busy": "2021-10-12T03:58:44.018314Z",
     "iopub.status.idle": "2021-10-12T03:58:44.041296Z",
     "shell.execute_reply": "2021-10-12T03:58:44.040297Z",
     "shell.execute_reply.started": "2021-10-12T03:58:44.019310Z"
    },
    "tags": []
   },
   "outputs": [
    {
     "data": {
      "text/html": [
       "<div>\n",
       "<style scoped>\n",
       "    .dataframe tbody tr th:only-of-type {\n",
       "        vertical-align: middle;\n",
       "    }\n",
       "\n",
       "    .dataframe tbody tr th {\n",
       "        vertical-align: top;\n",
       "    }\n",
       "\n",
       "    .dataframe thead th {\n",
       "        text-align: right;\n",
       "    }\n",
       "</style>\n",
       "<table border=\"1\" class=\"dataframe\">\n",
       "  <thead>\n",
       "    <tr style=\"text-align: right;\">\n",
       "      <th></th>\n",
       "      <th>price</th>\n",
       "      <th>volume</th>\n",
       "    </tr>\n",
       "  </thead>\n",
       "  <tbody>\n",
       "    <tr>\n",
       "      <th>2000-01-01</th>\n",
       "      <td>21</td>\n",
       "      <td>110</td>\n",
       "    </tr>\n",
       "    <tr>\n",
       "      <th>2000-01-02</th>\n",
       "      <td>22</td>\n",
       "      <td>140</td>\n",
       "    </tr>\n",
       "    <tr>\n",
       "      <th>2000-01-03</th>\n",
       "      <td>32</td>\n",
       "      <td>150</td>\n",
       "    </tr>\n",
       "    <tr>\n",
       "      <th>2000-01-04</th>\n",
       "      <td>36</td>\n",
       "      <td>90</td>\n",
       "    </tr>\n",
       "  </tbody>\n",
       "</table>\n",
       "</div>"
      ],
      "text/plain": [
       "            price  volume\n",
       "2000-01-01     21     110\n",
       "2000-01-02     22     140\n",
       "2000-01-03     32     150\n",
       "2000-01-04     36      90"
      ]
     },
     "execution_count": 27,
     "metadata": {},
     "output_type": "execute_result"
    }
   ],
   "source": [
    "df2.resample('D',level=0).sum() # level 设置多索引时使用哪个层级"
   ]
  },
  {
   "cell_type": "code",
   "execution_count": 29,
   "id": "dangerous-bachelor",
   "metadata": {
    "execution": {
     "iopub.execute_input": "2021-10-12T03:59:05.319267Z",
     "iopub.status.busy": "2021-10-12T03:59:05.319267Z",
     "iopub.status.idle": "2021-10-12T03:59:05.330260Z",
     "shell.execute_reply": "2021-10-12T03:59:05.329261Z",
     "shell.execute_reply.started": "2021-10-12T03:59:05.319267Z"
    },
    "tags": []
   },
   "outputs": [
    {
     "data": {
      "text/plain": [
       "PeriodIndex(['2000-01-01', '2000-01-02', '2000-01-03', '2000-01-04'], dtype='period[D]')"
      ]
     },
     "execution_count": 29,
     "metadata": {},
     "output_type": "execute_result"
    }
   ],
   "source": [
    "df2.resample('D',level=0,kind='period').sum().index # kind 设置结果的数据类型 period timestamp"
   ]
  },
  {
   "cell_type": "code",
   "execution_count": 30,
   "id": "mental-price",
   "metadata": {
    "execution": {
     "iopub.execute_input": "2021-10-12T03:59:26.870182Z",
     "iopub.status.busy": "2021-10-12T03:59:26.869182Z",
     "iopub.status.idle": "2021-10-12T03:59:26.888167Z",
     "shell.execute_reply": "2021-10-12T03:59:26.886170Z",
     "shell.execute_reply.started": "2021-10-12T03:59:26.870182Z"
    },
    "tags": []
   },
   "outputs": [
    {
     "data": {
      "text/plain": [
       "DatetimeIndex(['2000-01-01', '2000-01-02', '2000-01-03', '2000-01-04'], dtype='datetime64[ns]', freq='D')"
      ]
     },
     "execution_count": 30,
     "metadata": {},
     "output_type": "execute_result"
    }
   ],
   "source": [
    "df2.resample('D',level=0,kind='timestamp').sum().index # level # kind 设置结果的数据类型 period timestamp"
   ]
  }
 ],
 "metadata": {
  "kernelspec": {
   "display_name": "Python 3",
   "language": "python",
   "name": "python3"
  },
  "language_info": {
   "codemirror_mode": {
    "name": "ipython",
    "version": 3
   },
   "file_extension": ".py",
   "mimetype": "text/x-python",
   "name": "python",
   "nbconvert_exporter": "python",
   "pygments_lexer": "ipython3",
   "version": "3.6.8"
  }
 },
 "nbformat": 4,
 "nbformat_minor": 5
}
