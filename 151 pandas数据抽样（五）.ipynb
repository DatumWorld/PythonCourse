{
 "cells": [
  {
   "cell_type": "markdown",
   "id": "sophisticated-desire",
   "metadata": {
    "tags": []
   },
   "source": [
    "## 151 pandas数据抽样（五）"
   ]
  },
  {
   "cell_type": "markdown",
   "id": "daily-ministry",
   "metadata": {
    "tags": []
   },
   "source": [
    "### resample：重采样时序数据。实现频率转换和时序数据重采样。上采样和下采样(也有翻译为升采样和降采样)\n",
    "#### 自定义函数 和 采样开始时间 及 偏移\n",
    "参数 rule, axis=0, closed=None, label=None, convention='start', kind=None, loffset=None, base=None, on=None, level=None, origin='start_day', offset=None"
   ]
  },
  {
   "cell_type": "code",
   "execution_count": 1,
   "id": "handy-milton",
   "metadata": {
    "execution": {
     "iopub.execute_input": "2021-10-12T12:06:00.823152Z",
     "iopub.status.busy": "2021-10-12T12:06:00.823152Z",
     "iopub.status.idle": "2021-10-12T12:06:01.246892Z",
     "shell.execute_reply": "2021-10-12T12:06:01.246892Z",
     "shell.execute_reply.started": "2021-10-12T12:06:00.823152Z"
    },
    "tags": []
   },
   "outputs": [],
   "source": [
    "import pandas as pd\n",
    "import numpy as np\n",
    "index = pd.date_range('1/1/2000', periods=9, freq='T')\n",
    "series = pd.Series(range(9), index=index)\n",
    "\n",
    "s = pd.Series([1, 2], index=pd.period_range('2012-01-01',\n",
    "                                            freq='A',\n",
    "                                            periods=2))\n",
    "\n",
    "q = pd.Series([1, 2, 3, 4], index=pd.period_range('2018-01-01',\n",
    "                                                  freq='Q',\n",
    "                                                  periods=4))\n",
    "\n",
    "d = {'price': [10, 11, 9, 13, 14, 18, 17, 19],\n",
    "     'volume': [50, 60, 40, 100, 50, 100, 40, 50]}\n",
    "df = pd.DataFrame(d)\n",
    "df['week_starting'] = pd.date_range('01/01/2018',\n",
    "                                    periods=8,\n",
    "                                    freq='W')\n",
    "\n",
    "days = pd.date_range('1/1/2000', periods=4, freq='D')\n",
    "d2 = {'price': [10, 11, 9, 13, 14, 18, 17, 19],\n",
    "      'volume': [50, 60, 40, 100, 50, 100, 40, 50]}\n",
    "df2 = pd.DataFrame(\n",
    "    d2,\n",
    "    index=pd.MultiIndex.from_product(\n",
    "        [days, ['morning', 'afternoon']]\n",
    "    )\n",
    ")"
   ]
  },
  {
   "cell_type": "code",
   "execution_count": 2,
   "id": "fitted-hardware",
   "metadata": {
    "execution": {
     "iopub.execute_input": "2021-10-12T12:07:00.798166Z",
     "iopub.status.busy": "2021-10-12T12:07:00.798166Z",
     "iopub.status.idle": "2021-10-12T12:07:00.812156Z",
     "shell.execute_reply": "2021-10-12T12:07:00.811158Z",
     "shell.execute_reply.started": "2021-10-12T12:07:00.798166Z"
    },
    "tags": []
   },
   "outputs": [
    {
     "data": {
      "text/plain": [
       "2000-01-01 00:00:00    0\n",
       "2000-01-01 00:01:00    1\n",
       "2000-01-01 00:02:00    2\n",
       "2000-01-01 00:03:00    3\n",
       "2000-01-01 00:04:00    4\n",
       "2000-01-01 00:05:00    5\n",
       "2000-01-01 00:06:00    6\n",
       "2000-01-01 00:07:00    7\n",
       "2000-01-01 00:08:00    8\n",
       "Freq: T, dtype: int64"
      ]
     },
     "execution_count": 2,
     "metadata": {},
     "output_type": "execute_result"
    }
   ],
   "source": [
    "series"
   ]
  },
  {
   "cell_type": "code",
   "execution_count": 21,
   "id": "north-swaziland",
   "metadata": {
    "execution": {
     "iopub.execute_input": "2021-10-12T12:25:16.267741Z",
     "iopub.status.busy": "2021-10-12T12:25:16.266742Z",
     "iopub.status.idle": "2021-10-12T12:25:16.274738Z",
     "shell.execute_reply": "2021-10-12T12:25:16.273739Z",
     "shell.execute_reply.started": "2021-10-12T12:25:16.267741Z"
    },
    "tags": []
   },
   "outputs": [
    {
     "data": {
      "text/plain": [
       "2012    1\n",
       "2013    2\n",
       "Freq: A-DEC, dtype: int64"
      ]
     },
     "execution_count": 21,
     "metadata": {},
     "output_type": "execute_result"
    }
   ],
   "source": [
    "s"
   ]
  },
  {
   "cell_type": "code",
   "execution_count": 23,
   "id": "sorted-overview",
   "metadata": {
    "execution": {
     "iopub.execute_input": "2021-10-12T12:25:42.097375Z",
     "iopub.status.busy": "2021-10-12T12:25:42.097375Z",
     "iopub.status.idle": "2021-10-12T12:25:42.106369Z",
     "shell.execute_reply": "2021-10-12T12:25:42.105372Z",
     "shell.execute_reply.started": "2021-10-12T12:25:42.097375Z"
    },
    "tags": []
   },
   "outputs": [
    {
     "data": {
      "text/plain": [
       "2012Q1    1\n",
       "2012Q2    1\n",
       "2012Q3    1\n",
       "2012Q4    1\n",
       "2013Q1    2\n",
       "2013Q2    2\n",
       "2013Q3    2\n",
       "2013Q4    2\n",
       "Freq: Q-DEC, dtype: int64"
      ]
     },
     "execution_count": 23,
     "metadata": {},
     "output_type": "execute_result"
    }
   ],
   "source": [
    "s.resample('Q').pad()"
   ]
  },
  {
   "cell_type": "code",
   "execution_count": 18,
   "id": "radical-reception",
   "metadata": {
    "execution": {
     "iopub.execute_input": "2021-10-12T12:23:35.964389Z",
     "iopub.status.busy": "2021-10-12T12:23:35.964389Z",
     "iopub.status.idle": "2021-10-12T12:23:35.973384Z",
     "shell.execute_reply": "2021-10-12T12:23:35.972385Z",
     "shell.execute_reply.started": "2021-10-12T12:23:35.964389Z"
    },
    "tags": []
   },
   "outputs": [],
   "source": [
    "def sum1(x):\n",
    "    return x +100\n",
    "def sum2(x):\n",
    "    return x.sum() +100"
   ]
  },
  {
   "cell_type": "code",
   "execution_count": 19,
   "id": "referenced-inclusion",
   "metadata": {
    "execution": {
     "iopub.execute_input": "2021-10-12T12:23:59.441437Z",
     "iopub.status.busy": "2021-10-12T12:23:59.440438Z",
     "iopub.status.idle": "2021-10-12T12:23:59.465422Z",
     "shell.execute_reply": "2021-10-12T12:23:59.464422Z",
     "shell.execute_reply.started": "2021-10-12T12:23:59.441437Z"
    },
    "tags": []
   },
   "outputs": [
    {
     "data": {
      "text/plain": [
       "2000-01-01 00:00:00    100\n",
       "2000-01-01 00:01:00    101\n",
       "2000-01-01 00:02:00    102\n",
       "2000-01-01 00:03:00    103\n",
       "2000-01-01 00:04:00    104\n",
       "2000-01-01 00:05:00    105\n",
       "2000-01-01 00:06:00    106\n",
       "2000-01-01 00:07:00    107\n",
       "2000-01-01 00:08:00    108\n",
       "Freq: T, dtype: int64"
      ]
     },
     "execution_count": 19,
     "metadata": {},
     "output_type": "execute_result"
    }
   ],
   "source": [
    "series.resample('3T').apply(sum1) # 使用apply 自定义函数"
   ]
  },
  {
   "cell_type": "code",
   "execution_count": 20,
   "id": "lined-setting",
   "metadata": {
    "execution": {
     "iopub.execute_input": "2021-10-12T12:24:16.853538Z",
     "iopub.status.busy": "2021-10-12T12:24:16.852540Z",
     "iopub.status.idle": "2021-10-12T12:24:16.862535Z",
     "shell.execute_reply": "2021-10-12T12:24:16.861536Z",
     "shell.execute_reply.started": "2021-10-12T12:24:16.853538Z"
    },
    "tags": []
   },
   "outputs": [
    {
     "data": {
      "text/plain": [
       "2000-01-01 00:00:00    103\n",
       "2000-01-01 00:03:00    112\n",
       "2000-01-01 00:06:00    121\n",
       "Freq: 3T, dtype: int64"
      ]
     },
     "execution_count": 20,
     "metadata": {},
     "output_type": "execute_result"
    }
   ],
   "source": [
    "series.resample('3T').apply(sum2) # 使用apply 自定义函数"
   ]
  },
  {
   "cell_type": "code",
   "execution_count": 6,
   "id": "meaning-sitting",
   "metadata": {
    "execution": {
     "iopub.execute_input": "2021-10-12T12:08:37.708679Z",
     "iopub.status.busy": "2021-10-12T12:08:37.707678Z",
     "iopub.status.idle": "2021-10-12T12:08:37.723665Z",
     "shell.execute_reply": "2021-10-12T12:08:37.721666Z",
     "shell.execute_reply.started": "2021-10-12T12:08:37.708679Z"
    },
    "tags": []
   },
   "outputs": [
    {
     "data": {
      "text/plain": [
       "2000-01-01 00:00:00     3\n",
       "2000-01-01 00:03:00    12\n",
       "2000-01-01 00:06:00    21\n",
       "Freq: 3T, dtype: int64"
      ]
     },
     "execution_count": 6,
     "metadata": {},
     "output_type": "execute_result"
    }
   ],
   "source": [
    "series.resample('3T').sum() # 参考对照"
   ]
  },
  {
   "cell_type": "code",
   "execution_count": 5,
   "id": "spare-invite",
   "metadata": {
    "execution": {
     "iopub.execute_input": "2021-10-12T12:08:21.298800Z",
     "iopub.status.busy": "2021-10-12T12:08:21.298800Z",
     "iopub.status.idle": "2021-10-12T12:08:21.308793Z",
     "shell.execute_reply": "2021-10-12T12:08:21.307794Z",
     "shell.execute_reply.started": "2021-10-12T12:08:21.298800Z"
    },
    "tags": []
   },
   "outputs": [
    {
     "data": {
      "text/plain": [
       "2000-01-01 00:00:00     3\n",
       "2000-01-01 00:03:00    12\n",
       "2000-01-01 00:06:00    21\n",
       "Freq: 3T, dtype: int64"
      ]
     },
     "execution_count": 5,
     "metadata": {},
     "output_type": "execute_result"
    }
   ],
   "source": [
    "series.resample('3T',origin='start').sum() # origin 参数：设置重采样的开始时间 ，5个参考值，或者自定义"
   ]
  },
  {
   "cell_type": "code",
   "execution_count": 17,
   "id": "lonely-century",
   "metadata": {
    "execution": {
     "iopub.execute_input": "2021-10-12T12:19:54.780553Z",
     "iopub.status.busy": "2021-10-12T12:19:54.780553Z",
     "iopub.status.idle": "2021-10-12T12:19:54.788549Z",
     "shell.execute_reply": "2021-10-12T12:19:54.787550Z",
     "shell.execute_reply.started": "2021-10-12T12:19:54.780553Z"
    },
    "tags": []
   },
   "outputs": [
    {
     "data": {
      "text/plain": [
       "1999-12-31 23:59:59     3\n",
       "2000-01-01 00:02:59    12\n",
       "2000-01-01 00:05:59    21\n",
       "Freq: 3T, dtype: int64"
      ]
     },
     "execution_count": 17,
     "metadata": {},
     "output_type": "execute_result"
    }
   ],
   "source": [
    "series.resample('3T',origin='start',offset='-1S').sum() # offset 参数：设置重采样的时间偏移"
   ]
  },
  {
   "cell_type": "code",
   "execution_count": 16,
   "id": "entitled-massachusetts",
   "metadata": {
    "execution": {
     "iopub.execute_input": "2021-10-12T12:19:01.364736Z",
     "iopub.status.busy": "2021-10-12T12:19:01.363737Z",
     "iopub.status.idle": "2021-10-12T12:19:01.383722Z",
     "shell.execute_reply": "2021-10-12T12:19:01.381723Z",
     "shell.execute_reply.started": "2021-10-12T12:19:01.364736Z"
    },
    "tags": []
   },
   "outputs": [
    {
     "data": {
      "text/plain": [
       "1999-12-31 23:59:00     1\n",
       "2000-01-01 00:02:00     9\n",
       "2000-01-01 00:05:00    18\n",
       "2000-01-01 00:08:00     8\n",
       "Freq: 3T, dtype: int64"
      ]
     },
     "execution_count": 16,
     "metadata": {},
     "output_type": "execute_result"
    }
   ],
   "source": [
    "series.resample('3T',origin='start',offset='-1T').sum() ## offset 参数：设置重采样的时间偏移"
   ]
  },
  {
   "cell_type": "code",
   "execution_count": 15,
   "id": "infectious-nickel",
   "metadata": {
    "execution": {
     "iopub.execute_input": "2021-10-12T12:17:32.462415Z",
     "iopub.status.busy": "2021-10-12T12:17:32.461415Z",
     "iopub.status.idle": "2021-10-12T12:17:32.470409Z",
     "shell.execute_reply": "2021-10-12T12:17:32.469411Z",
     "shell.execute_reply.started": "2021-10-12T12:17:32.462415Z"
    },
    "tags": []
   },
   "outputs": [
    {
     "data": {
      "text/plain": [
       "1999-12-31 23:58:00     0\n",
       "2000-01-01 00:01:00     6\n",
       "2000-01-01 00:04:00    15\n",
       "2000-01-01 00:07:00    15\n",
       "Freq: 3T, dtype: int64"
      ]
     },
     "execution_count": 15,
     "metadata": {},
     "output_type": "execute_result"
    }
   ],
   "source": [
    "series.resample('3T',origin='start',offset='1T').sum() # # offset 参数：设置重采样的时间偏移"
   ]
  },
  {
   "cell_type": "code",
   "execution_count": 7,
   "id": "express-commission",
   "metadata": {
    "execution": {
     "iopub.execute_input": "2021-10-12T12:08:56.351652Z",
     "iopub.status.busy": "2021-10-12T12:08:56.350652Z",
     "iopub.status.idle": "2021-10-12T12:08:56.368638Z",
     "shell.execute_reply": "2021-10-12T12:08:56.366642Z",
     "shell.execute_reply.started": "2021-10-12T12:08:56.351652Z"
    },
    "tags": []
   },
   "outputs": [
    {
     "data": {
      "text/plain": [
       "2000-01-01 00:00:00     3\n",
       "2000-01-01 00:03:00    12\n",
       "2000-01-01 00:06:00    21\n",
       "Freq: 3T, dtype: int64"
      ]
     },
     "execution_count": 7,
     "metadata": {},
     "output_type": "execute_result"
    }
   ],
   "source": [
    "series.resample('3T',origin='start_day').sum()  # origin 参数：设置重采样的开始时间 ，5个参考值，或者自定义"
   ]
  },
  {
   "cell_type": "code",
   "execution_count": 8,
   "id": "visible-preliminary",
   "metadata": {
    "execution": {
     "iopub.execute_input": "2021-10-12T12:09:06.191342Z",
     "iopub.status.busy": "2021-10-12T12:09:06.190341Z",
     "iopub.status.idle": "2021-10-12T12:09:06.200337Z",
     "shell.execute_reply": "2021-10-12T12:09:06.199336Z",
     "shell.execute_reply.started": "2021-10-12T12:09:06.191342Z"
    },
    "tags": []
   },
   "outputs": [
    {
     "data": {
      "text/plain": [
       "2000-01-01 00:02:00     3\n",
       "2000-01-01 00:05:00    12\n",
       "2000-01-01 00:08:00    21\n",
       "Freq: 3T, dtype: int64"
      ]
     },
     "execution_count": 8,
     "metadata": {},
     "output_type": "execute_result"
    }
   ],
   "source": [
    "series.resample('3T',origin='end').sum() # origin 参数：设置重采样的开始时间 ，5个参考值，或者自定义"
   ]
  },
  {
   "cell_type": "code",
   "execution_count": 9,
   "id": "executed-recruitment",
   "metadata": {
    "execution": {
     "iopub.execute_input": "2021-10-12T12:11:36.335232Z",
     "iopub.status.busy": "2021-10-12T12:11:36.334232Z",
     "iopub.status.idle": "2021-10-12T12:11:36.354221Z",
     "shell.execute_reply": "2021-10-12T12:11:36.351219Z",
     "shell.execute_reply.started": "2021-10-12T12:11:36.335232Z"
    },
    "tags": []
   },
   "outputs": [
    {
     "data": {
      "text/plain": [
       "2000-01-01 00:00:00     0\n",
       "2000-01-01 00:03:00     6\n",
       "2000-01-01 00:06:00    15\n",
       "2000-01-01 00:09:00    15\n",
       "Freq: 3T, dtype: int64"
      ]
     },
     "execution_count": 9,
     "metadata": {},
     "output_type": "execute_result"
    }
   ],
   "source": [
    "series.resample('3T',origin='end_day').sum() # origin 参数：设置重采样的开始时间 ，5个参考值，或者自定义"
   ]
  },
  {
   "cell_type": "code",
   "execution_count": 10,
   "id": "quarterly-touch",
   "metadata": {
    "execution": {
     "iopub.execute_input": "2021-10-12T12:13:08.154753Z",
     "iopub.status.busy": "2021-10-12T12:13:08.153753Z",
     "iopub.status.idle": "2021-10-12T12:13:08.161747Z",
     "shell.execute_reply": "2021-10-12T12:13:08.160749Z",
     "shell.execute_reply.started": "2021-10-12T12:13:08.154753Z"
    },
    "tags": []
   },
   "outputs": [
    {
     "data": {
      "text/plain": [
       "2000-01-01 00:00:00     0\n",
       "2000-01-01 00:03:00     6\n",
       "2000-01-01 00:06:00    15\n",
       "2000-01-01 00:09:00    15\n",
       "Freq: 3T, dtype: int64"
      ]
     },
     "execution_count": 10,
     "metadata": {},
     "output_type": "execute_result"
    }
   ],
   "source": [
    "series.resample('3T',label='right',closed='right').sum()"
   ]
  },
  {
   "cell_type": "code",
   "execution_count": 11,
   "id": "overall-bridge",
   "metadata": {
    "execution": {
     "iopub.execute_input": "2021-10-12T12:15:12.267068Z",
     "iopub.status.busy": "2021-10-12T12:15:12.266069Z",
     "iopub.status.idle": "2021-10-12T12:15:12.282060Z",
     "shell.execute_reply": "2021-10-12T12:15:12.280060Z",
     "shell.execute_reply.started": "2021-10-12T12:15:12.267068Z"
    },
    "tags": []
   },
   "outputs": [
    {
     "data": {
      "text/plain": [
       "2000-01-01 00:00:00     3\n",
       "2000-01-01 00:03:00    12\n",
       "2000-01-01 00:06:00    21\n",
       "Freq: 3T, dtype: int64"
      ]
     },
     "execution_count": 11,
     "metadata": {},
     "output_type": "execute_result"
    }
   ],
   "source": [
    "series.resample('3T',origin='epoch').sum() # origin 参数：设置重采样的开始时间 ，5个参考值，或者自定义"
   ]
  },
  {
   "cell_type": "code",
   "execution_count": 14,
   "id": "intensive-dealing",
   "metadata": {
    "execution": {
     "iopub.execute_input": "2021-10-12T12:16:20.330024Z",
     "iopub.status.busy": "2021-10-12T12:16:20.330024Z",
     "iopub.status.idle": "2021-10-12T12:16:20.339017Z",
     "shell.execute_reply": "2021-10-12T12:16:20.338018Z",
     "shell.execute_reply.started": "2021-10-12T12:16:20.330024Z"
    },
    "tags": []
   },
   "outputs": [
    {
     "data": {
      "text/plain": [
       "2000-01-01 00:00:00     3\n",
       "2000-01-01 00:03:00    12\n",
       "2000-01-01 00:06:00    21\n",
       "Freq: 3T, dtype: int64"
      ]
     },
     "execution_count": 14,
     "metadata": {},
     "output_type": "execute_result"
    }
   ],
   "source": [
    "series.resample('3T',origin='1970-01-01').sum() # origin 参数：设置重采样的开始时间 ，5个参考值，或者自定义。epoch 是unix1970-01-01"
   ]
  }
 ],
 "metadata": {
  "kernelspec": {
   "display_name": "Python 3",
   "language": "python",
   "name": "python3"
  },
  "language_info": {
   "codemirror_mode": {
    "name": "ipython",
    "version": 3
   },
   "file_extension": ".py",
   "mimetype": "text/x-python",
   "name": "python",
   "nbconvert_exporter": "python",
   "pygments_lexer": "ipython3",
   "version": "3.6.8"
  }
 },
 "nbformat": 4,
 "nbformat_minor": 5
}
