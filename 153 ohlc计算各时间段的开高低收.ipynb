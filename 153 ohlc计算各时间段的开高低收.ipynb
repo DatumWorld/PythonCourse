{
 "cells": [
  {
   "cell_type": "markdown",
   "id": "hearing-generation",
   "metadata": {
    "tags": []
   },
   "source": [
    "## 153 ohlc计算各时间段的开高低收"
   ]
  },
  {
   "cell_type": "markdown",
   "id": "ethical-official",
   "metadata": {
    "tags": []
   },
   "source": [
    "### ohlc：计算各时间段的开高低收，会排除空值。配合groupby和resample使用"
   ]
  },
  {
   "cell_type": "code",
   "execution_count": 1,
   "id": "clean-waterproof",
   "metadata": {
    "execution": {
     "iopub.execute_input": "2021-10-13T11:51:53.714639Z",
     "iopub.status.busy": "2021-10-13T11:51:53.714639Z",
     "iopub.status.idle": "2021-10-13T11:51:54.110397Z",
     "shell.execute_reply": "2021-10-13T11:51:54.110397Z",
     "shell.execute_reply.started": "2021-10-13T11:51:53.714639Z"
    },
    "tags": []
   },
   "outputs": [],
   "source": [
    "import pandas as pd\n",
    "import numpy as np\n",
    "index = pd.date_range('1/1/2000', periods=12, freq='6H')\n",
    "series = pd.Series([0.0, None, 2.0, 3.0]+[0.0, None, 5.0, 3.0]+[0.0, None, 2.0, 10.0], index=index)\n",
    "df = pd.DataFrame({'s': series})"
   ]
  },
  {
   "cell_type": "code",
   "execution_count": 2,
   "id": "4dc2f3ae-65b3-4d1b-8de8-f48cd7744de9",
   "metadata": {
    "execution": {
     "iopub.execute_input": "2021-10-13T11:51:54.112395Z",
     "iopub.status.busy": "2021-10-13T11:51:54.112395Z",
     "iopub.status.idle": "2021-10-13T11:51:54.134381Z",
     "shell.execute_reply": "2021-10-13T11:51:54.134381Z",
     "shell.execute_reply.started": "2021-10-13T11:51:54.112395Z"
    },
    "tags": []
   },
   "outputs": [
    {
     "data": {
      "text/html": [
       "<div>\n",
       "<style scoped>\n",
       "    .dataframe tbody tr th:only-of-type {\n",
       "        vertical-align: middle;\n",
       "    }\n",
       "\n",
       "    .dataframe tbody tr th {\n",
       "        vertical-align: top;\n",
       "    }\n",
       "\n",
       "    .dataframe thead th {\n",
       "        text-align: right;\n",
       "    }\n",
       "</style>\n",
       "<table border=\"1\" class=\"dataframe\">\n",
       "  <thead>\n",
       "    <tr style=\"text-align: right;\">\n",
       "      <th></th>\n",
       "      <th>s</th>\n",
       "    </tr>\n",
       "  </thead>\n",
       "  <tbody>\n",
       "    <tr>\n",
       "      <th>2000-01-01 00:00:00</th>\n",
       "      <td>0.0</td>\n",
       "    </tr>\n",
       "    <tr>\n",
       "      <th>2000-01-01 06:00:00</th>\n",
       "      <td>NaN</td>\n",
       "    </tr>\n",
       "    <tr>\n",
       "      <th>2000-01-01 12:00:00</th>\n",
       "      <td>2.0</td>\n",
       "    </tr>\n",
       "    <tr>\n",
       "      <th>2000-01-01 18:00:00</th>\n",
       "      <td>3.0</td>\n",
       "    </tr>\n",
       "    <tr>\n",
       "      <th>2000-01-02 00:00:00</th>\n",
       "      <td>0.0</td>\n",
       "    </tr>\n",
       "    <tr>\n",
       "      <th>2000-01-02 06:00:00</th>\n",
       "      <td>NaN</td>\n",
       "    </tr>\n",
       "    <tr>\n",
       "      <th>2000-01-02 12:00:00</th>\n",
       "      <td>5.0</td>\n",
       "    </tr>\n",
       "    <tr>\n",
       "      <th>2000-01-02 18:00:00</th>\n",
       "      <td>3.0</td>\n",
       "    </tr>\n",
       "    <tr>\n",
       "      <th>2000-01-03 00:00:00</th>\n",
       "      <td>0.0</td>\n",
       "    </tr>\n",
       "    <tr>\n",
       "      <th>2000-01-03 06:00:00</th>\n",
       "      <td>NaN</td>\n",
       "    </tr>\n",
       "    <tr>\n",
       "      <th>2000-01-03 12:00:00</th>\n",
       "      <td>2.0</td>\n",
       "    </tr>\n",
       "    <tr>\n",
       "      <th>2000-01-03 18:00:00</th>\n",
       "      <td>10.0</td>\n",
       "    </tr>\n",
       "  </tbody>\n",
       "</table>\n",
       "</div>"
      ],
      "text/plain": [
       "                        s\n",
       "2000-01-01 00:00:00   0.0\n",
       "2000-01-01 06:00:00   NaN\n",
       "2000-01-01 12:00:00   2.0\n",
       "2000-01-01 18:00:00   3.0\n",
       "2000-01-02 00:00:00   0.0\n",
       "2000-01-02 06:00:00   NaN\n",
       "2000-01-02 12:00:00   5.0\n",
       "2000-01-02 18:00:00   3.0\n",
       "2000-01-03 00:00:00   0.0\n",
       "2000-01-03 06:00:00   NaN\n",
       "2000-01-03 12:00:00   2.0\n",
       "2000-01-03 18:00:00  10.0"
      ]
     },
     "execution_count": 2,
     "metadata": {},
     "output_type": "execute_result"
    }
   ],
   "source": [
    "df"
   ]
  },
  {
   "cell_type": "code",
   "execution_count": 7,
   "id": "e8314a10-8d51-4f67-a453-630677db51c5",
   "metadata": {
    "execution": {
     "iopub.execute_input": "2021-10-13T11:56:30.297386Z",
     "iopub.status.busy": "2021-10-13T11:56:30.297386Z",
     "iopub.status.idle": "2021-10-13T11:56:30.314375Z",
     "shell.execute_reply": "2021-10-13T11:56:30.313376Z",
     "shell.execute_reply.started": "2021-10-13T11:56:30.297386Z"
    },
    "tags": []
   },
   "outputs": [
    {
     "data": {
      "text/html": [
       "<div>\n",
       "<style scoped>\n",
       "    .dataframe tbody tr th:only-of-type {\n",
       "        vertical-align: middle;\n",
       "    }\n",
       "\n",
       "    .dataframe tbody tr th {\n",
       "        vertical-align: top;\n",
       "    }\n",
       "\n",
       "    .dataframe thead tr th {\n",
       "        text-align: left;\n",
       "    }\n",
       "</style>\n",
       "<table border=\"1\" class=\"dataframe\">\n",
       "  <thead>\n",
       "    <tr>\n",
       "      <th></th>\n",
       "      <th colspan=\"4\" halign=\"left\">s</th>\n",
       "    </tr>\n",
       "    <tr>\n",
       "      <th></th>\n",
       "      <th>open</th>\n",
       "      <th>high</th>\n",
       "      <th>low</th>\n",
       "      <th>close</th>\n",
       "    </tr>\n",
       "  </thead>\n",
       "  <tbody>\n",
       "    <tr>\n",
       "      <th>2000-01-01 00:00:00</th>\n",
       "      <td>0.0</td>\n",
       "      <td>0.0</td>\n",
       "      <td>0.0</td>\n",
       "      <td>0.0</td>\n",
       "    </tr>\n",
       "    <tr>\n",
       "      <th>2000-01-01 12:00:00</th>\n",
       "      <td>2.0</td>\n",
       "      <td>3.0</td>\n",
       "      <td>2.0</td>\n",
       "      <td>3.0</td>\n",
       "    </tr>\n",
       "    <tr>\n",
       "      <th>2000-01-02 00:00:00</th>\n",
       "      <td>0.0</td>\n",
       "      <td>0.0</td>\n",
       "      <td>0.0</td>\n",
       "      <td>0.0</td>\n",
       "    </tr>\n",
       "    <tr>\n",
       "      <th>2000-01-02 12:00:00</th>\n",
       "      <td>5.0</td>\n",
       "      <td>5.0</td>\n",
       "      <td>3.0</td>\n",
       "      <td>3.0</td>\n",
       "    </tr>\n",
       "    <tr>\n",
       "      <th>2000-01-03 00:00:00</th>\n",
       "      <td>0.0</td>\n",
       "      <td>0.0</td>\n",
       "      <td>0.0</td>\n",
       "      <td>0.0</td>\n",
       "    </tr>\n",
       "    <tr>\n",
       "      <th>2000-01-03 12:00:00</th>\n",
       "      <td>2.0</td>\n",
       "      <td>10.0</td>\n",
       "      <td>2.0</td>\n",
       "      <td>10.0</td>\n",
       "    </tr>\n",
       "  </tbody>\n",
       "</table>\n",
       "</div>"
      ],
      "text/plain": [
       "                       s                 \n",
       "                    open  high  low close\n",
       "2000-01-01 00:00:00  0.0   0.0  0.0   0.0\n",
       "2000-01-01 12:00:00  2.0   3.0  2.0   3.0\n",
       "2000-01-02 00:00:00  0.0   0.0  0.0   0.0\n",
       "2000-01-02 12:00:00  5.0   5.0  3.0   3.0\n",
       "2000-01-03 00:00:00  0.0   0.0  0.0   0.0\n",
       "2000-01-03 12:00:00  2.0  10.0  2.0  10.0"
      ]
     },
     "execution_count": 7,
     "metadata": {},
     "output_type": "execute_result"
    }
   ],
   "source": [
    "df.resample('.5D').ohlc() # 可以调整时间区间（频率）"
   ]
  },
  {
   "cell_type": "code",
   "execution_count": 8,
   "id": "6185b907-73ec-440b-967c-eaf27d79d61d",
   "metadata": {
    "execution": {
     "iopub.execute_input": "2021-10-13T11:58:16.414684Z",
     "iopub.status.busy": "2021-10-13T11:58:16.414684Z",
     "iopub.status.idle": "2021-10-13T11:58:16.438668Z",
     "shell.execute_reply": "2021-10-13T11:58:16.437671Z",
     "shell.execute_reply.started": "2021-10-13T11:58:16.414684Z"
    },
    "tags": []
   },
   "outputs": [
    {
     "data": {
      "text/html": [
       "<div>\n",
       "<style scoped>\n",
       "    .dataframe tbody tr th:only-of-type {\n",
       "        vertical-align: middle;\n",
       "    }\n",
       "\n",
       "    .dataframe tbody tr th {\n",
       "        vertical-align: top;\n",
       "    }\n",
       "\n",
       "    .dataframe thead tr th {\n",
       "        text-align: left;\n",
       "    }\n",
       "</style>\n",
       "<table border=\"1\" class=\"dataframe\">\n",
       "  <thead>\n",
       "    <tr>\n",
       "      <th></th>\n",
       "      <th colspan=\"4\" halign=\"left\">s</th>\n",
       "    </tr>\n",
       "    <tr>\n",
       "      <th></th>\n",
       "      <th>open</th>\n",
       "      <th>high</th>\n",
       "      <th>low</th>\n",
       "      <th>close</th>\n",
       "    </tr>\n",
       "  </thead>\n",
       "  <tbody>\n",
       "    <tr>\n",
       "      <th>2000-01-31</th>\n",
       "      <td>0.0</td>\n",
       "      <td>10.0</td>\n",
       "      <td>0.0</td>\n",
       "      <td>10.0</td>\n",
       "    </tr>\n",
       "  </tbody>\n",
       "</table>\n",
       "</div>"
      ],
      "text/plain": [
       "              s                 \n",
       "           open  high  low close\n",
       "2000-01-31  0.0  10.0  0.0  10.0"
      ]
     },
     "execution_count": 8,
     "metadata": {},
     "output_type": "execute_result"
    }
   ],
   "source": [
    "df.resample('M').ohlc() #  月度"
   ]
  },
  {
   "cell_type": "code",
   "execution_count": 9,
   "id": "f4c86b36-a002-4bc8-944b-f071a160a5c2",
   "metadata": {
    "execution": {
     "iopub.execute_input": "2021-10-13T11:58:29.032821Z",
     "iopub.status.busy": "2021-10-13T11:58:29.032821Z",
     "iopub.status.idle": "2021-10-13T11:58:29.058804Z",
     "shell.execute_reply": "2021-10-13T11:58:29.057806Z",
     "shell.execute_reply.started": "2021-10-13T11:58:29.032821Z"
    },
    "tags": []
   },
   "outputs": [
    {
     "data": {
      "text/html": [
       "<div>\n",
       "<style scoped>\n",
       "    .dataframe tbody tr th:only-of-type {\n",
       "        vertical-align: middle;\n",
       "    }\n",
       "\n",
       "    .dataframe tbody tr th {\n",
       "        vertical-align: top;\n",
       "    }\n",
       "\n",
       "    .dataframe thead tr th {\n",
       "        text-align: left;\n",
       "    }\n",
       "</style>\n",
       "<table border=\"1\" class=\"dataframe\">\n",
       "  <thead>\n",
       "    <tr>\n",
       "      <th></th>\n",
       "      <th colspan=\"4\" halign=\"left\">s</th>\n",
       "    </tr>\n",
       "    <tr>\n",
       "      <th></th>\n",
       "      <th>open</th>\n",
       "      <th>high</th>\n",
       "      <th>low</th>\n",
       "      <th>close</th>\n",
       "    </tr>\n",
       "  </thead>\n",
       "  <tbody>\n",
       "    <tr>\n",
       "      <th>2000-01-01</th>\n",
       "      <td>0.0</td>\n",
       "      <td>10.0</td>\n",
       "      <td>0.0</td>\n",
       "      <td>10.0</td>\n",
       "    </tr>\n",
       "  </tbody>\n",
       "</table>\n",
       "</div>"
      ],
      "text/plain": [
       "              s                 \n",
       "           open  high  low close\n",
       "2000-01-01  0.0  10.0  0.0  10.0"
      ]
     },
     "execution_count": 9,
     "metadata": {},
     "output_type": "execute_result"
    }
   ],
   "source": [
    "df.resample('MS').ohlc() # 注意与上面的结果的日期的区别"
   ]
  },
  {
   "cell_type": "code",
   "execution_count": 3,
   "id": "5d9c1d9f-c4ff-4bbc-b7b7-a210c7df73cc",
   "metadata": {
    "execution": {
     "iopub.execute_input": "2021-10-13T11:53:36.067049Z",
     "iopub.status.busy": "2021-10-13T11:53:36.067049Z",
     "iopub.status.idle": "2021-10-13T11:53:36.090036Z",
     "shell.execute_reply": "2021-10-13T11:53:36.089037Z",
     "shell.execute_reply.started": "2021-10-13T11:53:36.067049Z"
    },
    "tags": []
   },
   "outputs": [
    {
     "data": {
      "text/html": [
       "<div>\n",
       "<style scoped>\n",
       "    .dataframe tbody tr th:only-of-type {\n",
       "        vertical-align: middle;\n",
       "    }\n",
       "\n",
       "    .dataframe tbody tr th {\n",
       "        vertical-align: top;\n",
       "    }\n",
       "\n",
       "    .dataframe thead tr th {\n",
       "        text-align: left;\n",
       "    }\n",
       "</style>\n",
       "<table border=\"1\" class=\"dataframe\">\n",
       "  <thead>\n",
       "    <tr>\n",
       "      <th></th>\n",
       "      <th colspan=\"4\" halign=\"left\">s</th>\n",
       "    </tr>\n",
       "    <tr>\n",
       "      <th></th>\n",
       "      <th>open</th>\n",
       "      <th>high</th>\n",
       "      <th>low</th>\n",
       "      <th>close</th>\n",
       "    </tr>\n",
       "  </thead>\n",
       "  <tbody>\n",
       "    <tr>\n",
       "      <th>2000-01-01</th>\n",
       "      <td>0.0</td>\n",
       "      <td>3.0</td>\n",
       "      <td>0.0</td>\n",
       "      <td>3.0</td>\n",
       "    </tr>\n",
       "    <tr>\n",
       "      <th>2000-01-02</th>\n",
       "      <td>0.0</td>\n",
       "      <td>5.0</td>\n",
       "      <td>0.0</td>\n",
       "      <td>3.0</td>\n",
       "    </tr>\n",
       "    <tr>\n",
       "      <th>2000-01-03</th>\n",
       "      <td>0.0</td>\n",
       "      <td>10.0</td>\n",
       "      <td>0.0</td>\n",
       "      <td>10.0</td>\n",
       "    </tr>\n",
       "  </tbody>\n",
       "</table>\n",
       "</div>"
      ],
      "text/plain": [
       "              s                 \n",
       "           open  high  low close\n",
       "2000-01-01  0.0   3.0  0.0   3.0\n",
       "2000-01-02  0.0   5.0  0.0   3.0\n",
       "2000-01-03  0.0  10.0  0.0  10.0"
      ]
     },
     "execution_count": 3,
     "metadata": {},
     "output_type": "execute_result"
    }
   ],
   "source": [
    "df.resample('D').ohlc() # 计算每天的开高低收"
   ]
  },
  {
   "cell_type": "code",
   "execution_count": 5,
   "id": "ab29e4c7-3a4c-4b32-90af-c4bb028cd4f1",
   "metadata": {
    "execution": {
     "iopub.execute_input": "2021-10-13T11:55:37.129260Z",
     "iopub.status.busy": "2021-10-13T11:55:37.129260Z",
     "iopub.status.idle": "2021-10-13T11:55:37.136256Z",
     "shell.execute_reply": "2021-10-13T11:55:37.135257Z",
     "shell.execute_reply.started": "2021-10-13T11:55:37.129260Z"
    },
    "tags": []
   },
   "outputs": [
    {
     "data": {
      "text/plain": [
       "PeriodIndex(['2000-01-01', '2000-01-01', '2000-01-01', '2000-01-01',\n",
       "             '2000-01-02', '2000-01-02', '2000-01-02', '2000-01-02',\n",
       "             '2000-01-03', '2000-01-03', '2000-01-03', '2000-01-03'],\n",
       "            dtype='period[D]')"
      ]
     },
     "execution_count": 5,
     "metadata": {},
     "output_type": "execute_result"
    }
   ],
   "source": [
    "index.astype('period[D]')"
   ]
  },
  {
   "cell_type": "code",
   "execution_count": 4,
   "id": "4fb66d67-819d-4b33-a31a-2ca8a9b1f6b3",
   "metadata": {
    "execution": {
     "iopub.execute_input": "2021-10-13T11:55:14.104044Z",
     "iopub.status.busy": "2021-10-13T11:55:14.103045Z",
     "iopub.status.idle": "2021-10-13T11:55:14.135021Z",
     "shell.execute_reply": "2021-10-13T11:55:14.134021Z",
     "shell.execute_reply.started": "2021-10-13T11:55:14.104044Z"
    },
    "tags": []
   },
   "outputs": [
    {
     "data": {
      "text/html": [
       "<div>\n",
       "<style scoped>\n",
       "    .dataframe tbody tr th:only-of-type {\n",
       "        vertical-align: middle;\n",
       "    }\n",
       "\n",
       "    .dataframe tbody tr th {\n",
       "        vertical-align: top;\n",
       "    }\n",
       "\n",
       "    .dataframe thead tr th {\n",
       "        text-align: left;\n",
       "    }\n",
       "</style>\n",
       "<table border=\"1\" class=\"dataframe\">\n",
       "  <thead>\n",
       "    <tr>\n",
       "      <th></th>\n",
       "      <th colspan=\"4\" halign=\"left\">s</th>\n",
       "    </tr>\n",
       "    <tr>\n",
       "      <th></th>\n",
       "      <th>open</th>\n",
       "      <th>high</th>\n",
       "      <th>low</th>\n",
       "      <th>close</th>\n",
       "    </tr>\n",
       "  </thead>\n",
       "  <tbody>\n",
       "    <tr>\n",
       "      <th>2000-01-01</th>\n",
       "      <td>0.0</td>\n",
       "      <td>3.0</td>\n",
       "      <td>0.0</td>\n",
       "      <td>3.0</td>\n",
       "    </tr>\n",
       "    <tr>\n",
       "      <th>2000-01-02</th>\n",
       "      <td>0.0</td>\n",
       "      <td>5.0</td>\n",
       "      <td>0.0</td>\n",
       "      <td>3.0</td>\n",
       "    </tr>\n",
       "    <tr>\n",
       "      <th>2000-01-03</th>\n",
       "      <td>0.0</td>\n",
       "      <td>10.0</td>\n",
       "      <td>0.0</td>\n",
       "      <td>10.0</td>\n",
       "    </tr>\n",
       "  </tbody>\n",
       "</table>\n",
       "</div>"
      ],
      "text/plain": [
       "              s                 \n",
       "           open  high  low close\n",
       "2000-01-01  0.0   3.0  0.0   3.0\n",
       "2000-01-02  0.0   5.0  0.0   3.0\n",
       "2000-01-03  0.0  10.0  0.0  10.0"
      ]
     },
     "execution_count": 4,
     "metadata": {},
     "output_type": "execute_result"
    }
   ],
   "source": [
    "df.groupby( index.astype('period[D]') ).ohlc() # 计算每天的开高低收。等效上面resample计算"
   ]
  }
 ],
 "metadata": {
  "kernelspec": {
   "display_name": "Python 3",
   "language": "python",
   "name": "python3"
  },
  "language_info": {
   "codemirror_mode": {
    "name": "ipython",
    "version": 3
   },
   "file_extension": ".py",
   "mimetype": "text/x-python",
   "name": "python",
   "nbconvert_exporter": "python",
   "pygments_lexer": "ipython3",
   "version": "3.8.5"
  }
 },
 "nbformat": 4,
 "nbformat_minor": 5
}
