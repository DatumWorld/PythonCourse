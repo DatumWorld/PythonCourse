{
 "cells": [
  {
   "cell_type": "markdown",
   "id": "joint-mercury",
   "metadata": {
    "execution": {
     "iopub.execute_input": "2021-05-10T07:18:52.990449Z",
     "iopub.status.busy": "2021-05-10T07:18:52.990449Z",
     "iopub.status.idle": "2021-05-10T07:18:52.994464Z",
     "shell.execute_reply": "2021-05-10T07:18:52.993452Z",
     "shell.execute_reply.started": "2021-05-10T07:18:52.990449Z"
    }
   },
   "source": [
    "## 158 创建各种类型的索引"
   ]
  },
  {
   "cell_type": "markdown",
   "id": "acceptable-florence",
   "metadata": {},
   "source": [
    "### 创建各种类型的索引。除以下外，另有 interval_range from_range 创建方式\n",
    "##### 参数RangeIndex：start=None, stop=None, step=None, dtype=None, copy=False, name=None\n",
    "##### 参数CategoricalIndex：data=None, categories=None, ordered=None, dtype=None, copy=False, name=None\n",
    "##### 参数IntervalIndex：data, closed=None, dtype=None, copy=False, name=None, verify_integrity=True\n",
    "##### 参数DatetimeIndex：data=None, freq=NoDefault.no_default, tz=None, normalize=False, closed=None, ambiguous='raise', dayfirst=False, yearfirst=False, dtype=None, copy=False, name=None\n",
    "##### 参数TimedeltaIndex：data=None, unit=None, freq=NoDefault.no_default, closed=None, dtype=dtype('<m8[ns]'), copy=False, name=None\n",
    "##### 参数PeriodIndex：data=None, ordinal=None, freq=None, dtype=None, copy=False, name=None, **fields\n",
    "##### 参数Int64Index：data=None, dtype=None, copy=False, name=None\n",
    "##### 参数UInt64Index：data=None, dtype=None, copy=False, name=None\n",
    "##### 参数Float64Index：data=None, dtype=None, copy=False, name=None"
   ]
  },
  {
   "cell_type": "code",
   "execution_count": 1,
   "id": "liberal-camping",
   "metadata": {
    "execution": {
     "iopub.execute_input": "2021-10-14T10:51:57.642764Z",
     "iopub.status.busy": "2021-10-14T10:51:57.642764Z",
     "iopub.status.idle": "2021-10-14T10:51:58.854021Z",
     "shell.execute_reply": "2021-10-14T10:51:58.854021Z",
     "shell.execute_reply.started": "2021-10-14T10:51:57.642764Z"
    },
    "tags": []
   },
   "outputs": [],
   "source": [
    "import pandas as pd"
   ]
  },
  {
   "cell_type": "code",
   "execution_count": 24,
   "id": "pharmaceutical-entrepreneur",
   "metadata": {
    "execution": {
     "iopub.execute_input": "2021-10-14T11:08:37.719207Z",
     "iopub.status.busy": "2021-10-14T11:08:37.719207Z",
     "iopub.status.idle": "2021-10-14T11:08:37.726202Z",
     "shell.execute_reply": "2021-10-14T11:08:37.725204Z",
     "shell.execute_reply.started": "2021-10-14T11:08:37.719207Z"
    },
    "tags": []
   },
   "outputs": [
    {
     "data": {
      "text/plain": [
       "Float64Index([0.0, 1.0, 2.0, 3.0, 4.0, 5.0, 6.0, 7.0, 8.0, 9.0], dtype='float64')"
      ]
     },
     "execution_count": 24,
     "metadata": {},
     "output_type": "execute_result"
    }
   ],
   "source": [
    "pd.Float64Index(data=range(10)) # Float64索引"
   ]
  },
  {
   "cell_type": "code",
   "execution_count": 23,
   "id": "unique-termination",
   "metadata": {
    "execution": {
     "iopub.execute_input": "2021-10-14T11:08:13.090308Z",
     "iopub.status.busy": "2021-10-14T11:08:13.089311Z",
     "iopub.status.idle": "2021-10-14T11:08:13.102302Z",
     "shell.execute_reply": "2021-10-14T11:08:13.100304Z",
     "shell.execute_reply.started": "2021-10-14T11:08:13.090308Z"
    },
    "tags": []
   },
   "outputs": [
    {
     "data": {
      "text/plain": [
       "UInt64Index([0, 1, 2, 3, 4, 5, 6, 7, 8, 9], dtype='uint64')"
      ]
     },
     "execution_count": 23,
     "metadata": {},
     "output_type": "execute_result"
    }
   ],
   "source": [
    "pd.UInt64Index(data=range(10)) # UInt64索引"
   ]
  },
  {
   "cell_type": "code",
   "execution_count": 22,
   "id": "disabled-salad",
   "metadata": {
    "execution": {
     "iopub.execute_input": "2021-10-14T11:07:46.454335Z",
     "iopub.status.busy": "2021-10-14T11:07:46.453336Z",
     "iopub.status.idle": "2021-10-14T11:07:46.466325Z",
     "shell.execute_reply": "2021-10-14T11:07:46.464324Z",
     "shell.execute_reply.started": "2021-10-14T11:07:46.453336Z"
    },
    "tags": []
   },
   "outputs": [
    {
     "data": {
      "text/plain": [
       "Int64Index([0, 1, 2, 3, 4, 5, 6, 7, 8, 9], dtype='int64')"
      ]
     },
     "execution_count": 22,
     "metadata": {},
     "output_type": "execute_result"
    }
   ],
   "source": [
    "pd.Int64Index(data=range(10)) # Int64索引"
   ]
  },
  {
   "cell_type": "code",
   "execution_count": 21,
   "id": "immediate-department",
   "metadata": {
    "execution": {
     "iopub.execute_input": "2021-10-14T11:06:36.670751Z",
     "iopub.status.busy": "2021-10-14T11:06:36.669752Z",
     "iopub.status.idle": "2021-10-14T11:06:36.688739Z",
     "shell.execute_reply": "2021-10-14T11:06:36.687740Z",
     "shell.execute_reply.started": "2021-10-14T11:06:36.670751Z"
    },
    "tags": []
   },
   "outputs": [
    {
     "data": {
      "text/plain": [
       "PeriodIndex(['2020-01-01', '2020-01-02', '2020-01-03', '2020-01-04',\n",
       "             '2020-01-05', '2020-01-06', '2020-01-07', '2020-01-08',\n",
       "             '2020-01-09', '2020-01-10'],\n",
       "            dtype='period[D]')"
      ]
     },
     "execution_count": 21,
     "metadata": {},
     "output_type": "execute_result"
    }
   ],
   "source": [
    "pd.period_range(start='2020-01-01',end='2020-01-10') # 周期索引"
   ]
  },
  {
   "cell_type": "code",
   "execution_count": 20,
   "id": "thick-shore",
   "metadata": {
    "execution": {
     "iopub.execute_input": "2021-10-14T11:05:45.875930Z",
     "iopub.status.busy": "2021-10-14T11:05:45.874931Z",
     "iopub.status.idle": "2021-10-14T11:05:45.882926Z",
     "shell.execute_reply": "2021-10-14T11:05:45.881928Z",
     "shell.execute_reply.started": "2021-10-14T11:05:45.874931Z"
    },
    "tags": []
   },
   "outputs": [
    {
     "data": {
      "text/plain": [
       "TimedeltaIndex([       '0 days 00:00:00', '0 days 00:00:00.001000',\n",
       "                '0 days 00:00:00.002000', '0 days 00:00:00.003000',\n",
       "                '0 days 00:00:00.004000', '0 days 00:00:00.005000',\n",
       "                '0 days 00:00:00.006000', '0 days 00:00:00.007000',\n",
       "                '0 days 00:00:00.008000', '0 days 00:00:00.009000',\n",
       "                '0 days 00:00:00.010000'],\n",
       "               dtype='timedelta64[ns]', freq='L')"
      ]
     },
     "execution_count": 20,
     "metadata": {},
     "output_type": "execute_result"
    }
   ],
   "source": [
    "pd.timedelta_range(start=0,end=10000000,freq='ms') # 时间差索引"
   ]
  },
  {
   "cell_type": "code",
   "execution_count": 11,
   "id": "increased-interface",
   "metadata": {
    "execution": {
     "iopub.execute_input": "2021-10-14T11:02:03.697471Z",
     "iopub.status.busy": "2021-10-14T11:02:03.697471Z",
     "iopub.status.idle": "2021-10-14T11:02:03.705466Z",
     "shell.execute_reply": "2021-10-14T11:02:03.704467Z",
     "shell.execute_reply.started": "2021-10-14T11:02:03.697471Z"
    },
    "tags": []
   },
   "outputs": [
    {
     "data": {
      "text/plain": [
       "DatetimeIndex(['2020-01-01', '2020-01-02', '2020-01-03', '2020-01-04',\n",
       "               '2020-01-05', '2020-01-06', '2020-01-07', '2020-01-08',\n",
       "               '2020-01-09', '2020-01-10'],\n",
       "              dtype='datetime64[ns]', freq='D')"
      ]
     },
     "execution_count": 11,
     "metadata": {},
     "output_type": "execute_result"
    }
   ],
   "source": [
    "pd.date_range(start='2020-01-01',end='2020-01-10') # 创建 日期时间索引"
   ]
  },
  {
   "cell_type": "code",
   "execution_count": 10,
   "id": "virgin-politics",
   "metadata": {
    "execution": {
     "iopub.execute_input": "2021-10-14T11:00:35.001159Z",
     "iopub.status.busy": "2021-10-14T11:00:35.000161Z",
     "iopub.status.idle": "2021-10-14T11:00:35.011152Z",
     "shell.execute_reply": "2021-10-14T11:00:35.009156Z",
     "shell.execute_reply.started": "2021-10-14T11:00:35.001159Z"
    },
    "tags": []
   },
   "outputs": [
    {
     "data": {
      "text/plain": [
       "IntervalIndex([(0, 1], (1, 2], (2, 3], (3, 4], (4, 5], (5, 6], (6, 7], (7, 8], (8, 9], (9, 10]], dtype='interval[int64, right]')"
      ]
     },
     "execution_count": 10,
     "metadata": {},
     "output_type": "execute_result"
    }
   ],
   "source": [
    "pd.interval_range(start=0,end=10,freq=1) # 间隔区间的索引"
   ]
  },
  {
   "cell_type": "code",
   "execution_count": 7,
   "id": "olympic-convention",
   "metadata": {
    "execution": {
     "iopub.execute_input": "2021-10-14T10:57:38.147244Z",
     "iopub.status.busy": "2021-10-14T10:57:38.147244Z",
     "iopub.status.idle": "2021-10-14T10:57:38.160235Z",
     "shell.execute_reply": "2021-10-14T10:57:38.159235Z",
     "shell.execute_reply.started": "2021-10-14T10:57:38.147244Z"
    },
    "tags": []
   },
   "outputs": [
    {
     "data": {
      "text/plain": [
       "CategoricalIndex(['a', 'b', 'b', 1, 1, 3], categories=[1, 3, 'a', 'b'], ordered=False, dtype='category')"
      ]
     },
     "execution_count": 7,
     "metadata": {},
     "output_type": "execute_result"
    }
   ],
   "source": [
    "pd.CategoricalIndex(['a','b','b',1,1,3]) # 分类数据型索引"
   ]
  },
  {
   "cell_type": "code",
   "execution_count": 5,
   "id": "nonprofit-chapter",
   "metadata": {
    "execution": {
     "iopub.execute_input": "2021-10-14T10:55:10.153696Z",
     "iopub.status.busy": "2021-10-14T10:55:10.153696Z",
     "iopub.status.idle": "2021-10-14T10:55:10.171685Z",
     "shell.execute_reply": "2021-10-14T10:55:10.170688Z",
     "shell.execute_reply.started": "2021-10-14T10:55:10.153696Z"
    },
    "tags": []
   },
   "outputs": [
    {
     "data": {
      "text/plain": [
       "RangeIndex(start=0, stop=10, step=1)"
      ]
     },
     "execution_count": 5,
     "metadata": {},
     "output_type": "execute_result"
    }
   ],
   "source": [
    "pd.RangeIndex.from_range(data=range(10)) # 范围索引"
   ]
  },
  {
   "cell_type": "code",
   "execution_count": 6,
   "id": "arctic-seller",
   "metadata": {
    "execution": {
     "iopub.execute_input": "2021-10-14T10:56:43.068526Z",
     "iopub.status.busy": "2021-10-14T10:56:43.068526Z",
     "iopub.status.idle": "2021-10-14T10:56:43.074522Z",
     "shell.execute_reply": "2021-10-14T10:56:43.073524Z",
     "shell.execute_reply.started": "2021-10-14T10:56:43.068526Z"
    },
    "tags": []
   },
   "outputs": [
    {
     "data": {
      "text/plain": [
       "RangeIndex(start=0, stop=10, step=2)"
      ]
     },
     "execution_count": 6,
     "metadata": {},
     "output_type": "execute_result"
    }
   ],
   "source": [
    "pd.RangeIndex(start=0,stop=10,step=2)  # 范围索引"
   ]
  }
 ],
 "metadata": {
  "kernelspec": {
   "display_name": "Python 3",
   "language": "python",
   "name": "python3"
  },
  "language_info": {
   "codemirror_mode": {
    "name": "ipython",
    "version": 3
   },
   "file_extension": ".py",
   "mimetype": "text/x-python",
   "name": "python",
   "nbconvert_exporter": "python",
   "pygments_lexer": "ipython3",
   "version": "3.6.8"
  }
 },
 "nbformat": 4,
 "nbformat_minor": 5
}
