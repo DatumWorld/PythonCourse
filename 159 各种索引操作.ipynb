{
 "cells": [
  {
   "cell_type": "markdown",
   "id": "inappropriate-carnival",
   "metadata": {
    "execution": {
     "iopub.execute_input": "2021-05-10T07:18:52.990449Z",
     "iopub.status.busy": "2021-05-10T07:18:52.990449Z",
     "iopub.status.idle": "2021-05-10T07:18:52.994464Z",
     "shell.execute_reply": "2021-05-10T07:18:52.993452Z",
     "shell.execute_reply.started": "2021-05-10T07:18:52.990449Z"
    }
   },
   "source": [
    "## 159 各种索引操作"
   ]
  },
  {
   "cell_type": "markdown",
   "id": "cosmetic-parker",
   "metadata": {},
   "source": [
    "###  各种索引操作。通用基础操作\n",
    "##### is_all_dates nbytes  ndim nlevels shape size values   set_names\n",
    "##### argmax argmin argsort \n",
    "##### delete insert append \n",
    "##### get_indexer_for get_indexer_non_unique get_indexer slice_indexer slice_locs get_loc get_slice_bound(n,side='right',kind='loc')\n",
    "##### get_level_values to_flat_index to_series\n",
    "##### holds_integer identical"
   ]
  },
  {
   "cell_type": "code",
   "execution_count": 5,
   "id": "deluxe-williams",
   "metadata": {
    "execution": {
     "iopub.execute_input": "2021-10-14T11:12:15.195501Z",
     "iopub.status.busy": "2021-10-14T11:12:15.194501Z",
     "iopub.status.idle": "2021-10-14T11:12:15.201498Z",
     "shell.execute_reply": "2021-10-14T11:12:15.200498Z",
     "shell.execute_reply.started": "2021-10-14T11:12:15.195501Z"
    },
    "tags": []
   },
   "outputs": [],
   "source": [
    "import pandas as pd"
   ]
  },
  {
   "cell_type": "code",
   "execution_count": 6,
   "id": "impressed-forest",
   "metadata": {
    "execution": {
     "iopub.execute_input": "2021-10-14T11:12:15.941573Z",
     "iopub.status.busy": "2021-10-14T11:12:15.941573Z",
     "iopub.status.idle": "2021-10-14T11:12:15.947568Z",
     "shell.execute_reply": "2021-10-14T11:12:15.946570Z",
     "shell.execute_reply.started": "2021-10-14T11:12:15.941573Z"
    },
    "tags": []
   },
   "outputs": [],
   "source": [
    "index=pd.Index([4,2,3,1,1])"
   ]
  },
  {
   "cell_type": "code",
   "execution_count": 23,
   "id": "entertaining-failure",
   "metadata": {
    "execution": {
     "iopub.execute_input": "2021-10-14T11:20:33.480174Z",
     "iopub.status.busy": "2021-10-14T11:20:33.480174Z",
     "iopub.status.idle": "2021-10-14T11:20:33.487169Z",
     "shell.execute_reply": "2021-10-14T11:20:33.486169Z",
     "shell.execute_reply.started": "2021-10-14T11:20:33.480174Z"
    },
    "tags": []
   },
   "outputs": [
    {
     "data": {
      "text/plain": [
       "Int64Index([4, 2, 3, 1, 1], dtype='int64')"
      ]
     },
     "execution_count": 23,
     "metadata": {},
     "output_type": "execute_result"
    }
   ],
   "source": [
    "index"
   ]
  },
  {
   "cell_type": "code",
   "execution_count": 49,
   "id": "pleased-girlfriend",
   "metadata": {
    "execution": {
     "iopub.execute_input": "2021-10-14T11:31:57.911038Z",
     "iopub.status.busy": "2021-10-14T11:31:57.910037Z",
     "iopub.status.idle": "2021-10-14T11:31:57.924026Z",
     "shell.execute_reply": "2021-10-14T11:31:57.922027Z",
     "shell.execute_reply.started": "2021-10-14T11:31:57.910037Z"
    },
    "tags": []
   },
   "outputs": [
    {
     "data": {
      "text/plain": [
       "True"
      ]
     },
     "execution_count": 49,
     "metadata": {},
     "output_type": "execute_result"
    }
   ],
   "source": [
    "index.identical(index) # 判断两个索引是否一样（值和类型都一样）"
   ]
  },
  {
   "cell_type": "code",
   "execution_count": 48,
   "id": "loaded-workshop",
   "metadata": {
    "execution": {
     "iopub.execute_input": "2021-10-14T11:31:15.646412Z",
     "iopub.status.busy": "2021-10-14T11:31:15.645415Z",
     "iopub.status.idle": "2021-10-14T11:31:15.653407Z",
     "shell.execute_reply": "2021-10-14T11:31:15.652411Z",
     "shell.execute_reply.started": "2021-10-14T11:31:15.645415Z"
    },
    "tags": []
   },
   "outputs": [
    {
     "data": {
      "text/plain": [
       "True"
      ]
     },
     "execution_count": 48,
     "metadata": {},
     "output_type": "execute_result"
    }
   ],
   "source": [
    "index.holds_integer() # 判断所有元素是都是整数"
   ]
  },
  {
   "cell_type": "code",
   "execution_count": 47,
   "id": "subsequent-aurora",
   "metadata": {
    "execution": {
     "iopub.execute_input": "2021-10-14T11:30:43.073441Z",
     "iopub.status.busy": "2021-10-14T11:30:43.073441Z",
     "iopub.status.idle": "2021-10-14T11:30:43.079435Z",
     "shell.execute_reply": "2021-10-14T11:30:43.078436Z",
     "shell.execute_reply.started": "2021-10-14T11:30:43.073441Z"
    },
    "tags": []
   },
   "outputs": [
    {
     "data": {
      "text/plain": [
       "4    4\n",
       "2    2\n",
       "3    3\n",
       "1    1\n",
       "1    1\n",
       "dtype: int64"
      ]
     },
     "execution_count": 47,
     "metadata": {},
     "output_type": "execute_result"
    }
   ],
   "source": [
    "index.to_series() # 转换成序列（列）"
   ]
  },
  {
   "cell_type": "code",
   "execution_count": 46,
   "id": "dedicated-complaint",
   "metadata": {
    "execution": {
     "iopub.execute_input": "2021-10-14T11:30:03.521863Z",
     "iopub.status.busy": "2021-10-14T11:30:03.521863Z",
     "iopub.status.idle": "2021-10-14T11:30:03.528858Z",
     "shell.execute_reply": "2021-10-14T11:30:03.527859Z",
     "shell.execute_reply.started": "2021-10-14T11:30:03.521863Z"
    },
    "tags": []
   },
   "outputs": [
    {
     "data": {
      "text/plain": [
       "Int64Index([4, 2, 3, 1, 1], dtype='int64')"
      ]
     },
     "execution_count": 46,
     "metadata": {},
     "output_type": "execute_result"
    }
   ],
   "source": [
    "index.to_flat_index() # “平整”索引"
   ]
  },
  {
   "cell_type": "code",
   "execution_count": 45,
   "id": "optional-think",
   "metadata": {
    "execution": {
     "iopub.execute_input": "2021-10-14T11:29:26.793779Z",
     "iopub.status.busy": "2021-10-14T11:29:26.793779Z",
     "iopub.status.idle": "2021-10-14T11:29:26.801772Z",
     "shell.execute_reply": "2021-10-14T11:29:26.800773Z",
     "shell.execute_reply.started": "2021-10-14T11:29:26.793779Z"
    },
    "tags": []
   },
   "outputs": [
    {
     "data": {
      "text/plain": [
       "Int64Index([4, 2, 3, 1, 1], dtype='int64')"
      ]
     },
     "execution_count": 45,
     "metadata": {},
     "output_type": "execute_result"
    }
   ],
   "source": [
    "index.get_level_values(0) # 返回某个层级的元素"
   ]
  },
  {
   "cell_type": "code",
   "execution_count": 44,
   "id": "opposed-entity",
   "metadata": {
    "execution": {
     "iopub.execute_input": "2021-10-14T11:28:49.234409Z",
     "iopub.status.busy": "2021-10-14T11:28:49.233410Z",
     "iopub.status.idle": "2021-10-14T11:28:49.240407Z",
     "shell.execute_reply": "2021-10-14T11:28:49.239408Z",
     "shell.execute_reply.started": "2021-10-14T11:28:49.234409Z"
    },
    "tags": []
   },
   "outputs": [
    {
     "data": {
      "text/plain": [
       "(2, 3)"
      ]
     },
     "execution_count": 44,
     "metadata": {},
     "output_type": "execute_result"
    }
   ],
   "source": [
    "index.get_slice_bound(3,side='left'),index.get_slice_bound(3,side='right') # 元素的切片边界"
   ]
  },
  {
   "cell_type": "code",
   "execution_count": 41,
   "id": "empty-spain",
   "metadata": {
    "execution": {
     "iopub.execute_input": "2021-10-14T11:27:33.991705Z",
     "iopub.status.busy": "2021-10-14T11:27:33.991705Z",
     "iopub.status.idle": "2021-10-14T11:27:33.999701Z",
     "shell.execute_reply": "2021-10-14T11:27:33.998700Z",
     "shell.execute_reply.started": "2021-10-14T11:27:33.991705Z"
    },
    "tags": []
   },
   "outputs": [
    {
     "data": {
      "text/plain": [
       "2"
      ]
     },
     "execution_count": 41,
     "metadata": {},
     "output_type": "execute_result"
    }
   ],
   "source": [
    "index.get_loc(3) # 获取元素的位置"
   ]
  },
  {
   "cell_type": "code",
   "execution_count": 39,
   "id": "widespread-wireless",
   "metadata": {
    "execution": {
     "iopub.execute_input": "2021-10-14T11:26:42.769417Z",
     "iopub.status.busy": "2021-10-14T11:26:42.769417Z",
     "iopub.status.idle": "2021-10-14T11:26:42.776412Z",
     "shell.execute_reply": "2021-10-14T11:26:42.775412Z",
     "shell.execute_reply.started": "2021-10-14T11:26:42.769417Z"
    },
    "tags": []
   },
   "outputs": [
    {
     "data": {
      "text/plain": [
       "(0, 3)"
      ]
     },
     "execution_count": 39,
     "metadata": {},
     "output_type": "execute_result"
    }
   ],
   "source": [
    "index.slice_locs(4,3) # 返回切片位置，整数。与下面对照"
   ]
  },
  {
   "cell_type": "code",
   "execution_count": 38,
   "id": "literary-settle",
   "metadata": {
    "execution": {
     "iopub.execute_input": "2021-10-14T11:25:55.864355Z",
     "iopub.status.busy": "2021-10-14T11:25:55.864355Z",
     "iopub.status.idle": "2021-10-14T11:25:55.871349Z",
     "shell.execute_reply": "2021-10-14T11:25:55.870351Z",
     "shell.execute_reply.started": "2021-10-14T11:25:55.864355Z"
    },
    "tags": []
   },
   "outputs": [
    {
     "data": {
      "text/plain": [
       "slice(0, 3, None)"
      ]
     },
     "execution_count": 38,
     "metadata": {},
     "output_type": "execute_result"
    }
   ],
   "source": [
    "index.slice_indexer(4,3) # 返回切片位置"
   ]
  },
  {
   "cell_type": "code",
   "execution_count": 34,
   "id": "proprietary-charter",
   "metadata": {
    "execution": {
     "iopub.execute_input": "2021-10-14T11:24:52.467610Z",
     "iopub.status.busy": "2021-10-14T11:24:52.466613Z",
     "iopub.status.idle": "2021-10-14T11:24:52.486598Z",
     "shell.execute_reply": "2021-10-14T11:24:52.485599Z",
     "shell.execute_reply.started": "2021-10-14T11:24:52.467610Z"
    },
    "tags": []
   },
   "outputs": [
    {
     "ename": "InvalidIndexError",
     "evalue": "Reindexing only valid with uniquely valued Index objects",
     "output_type": "error",
     "traceback": [
      "\u001b[1;31m---------------------------------------------------------------------------\u001b[0m",
      "\u001b[1;31mInvalidIndexError\u001b[0m                         Traceback (most recent call last)",
      "\u001b[1;32m<ipython-input-34-0bb2fb2f8a9e>\u001b[0m in \u001b[0;36m<module>\u001b[1;34m\u001b[0m\n\u001b[1;32m----> 1\u001b[1;33m \u001b[0mindex\u001b[0m\u001b[1;33m.\u001b[0m\u001b[0mget_indexer\u001b[0m\u001b[1;33m(\u001b[0m\u001b[1;33m[\u001b[0m\u001b[1;36m4\u001b[0m\u001b[1;33m]\u001b[0m\u001b[1;33m)\u001b[0m \u001b[1;31m# 保证返回指定元素的位置，不支持重复元素\u001b[0m\u001b[1;33m\u001b[0m\u001b[1;33m\u001b[0m\u001b[0m\n\u001b[0m",
      "\u001b[1;32mc:\\python\\jupyter\\venv\\lib\\site-packages\\pandas\\core\\indexes\\base.py\u001b[0m in \u001b[0;36mget_indexer\u001b[1;34m(self, target, method, limit, tolerance)\u001b[0m\n\u001b[0;32m   3440\u001b[0m \u001b[1;33m\u001b[0m\u001b[0m\n\u001b[0;32m   3441\u001b[0m         \u001b[1;32mif\u001b[0m \u001b[1;32mnot\u001b[0m \u001b[0mself\u001b[0m\u001b[1;33m.\u001b[0m\u001b[0m_index_as_unique\u001b[0m\u001b[1;33m:\u001b[0m\u001b[1;33m\u001b[0m\u001b[1;33m\u001b[0m\u001b[0m\n\u001b[1;32m-> 3442\u001b[1;33m             \u001b[1;32mraise\u001b[0m \u001b[0mInvalidIndexError\u001b[0m\u001b[1;33m(\u001b[0m\u001b[0mself\u001b[0m\u001b[1;33m.\u001b[0m\u001b[0m_requires_unique_msg\u001b[0m\u001b[1;33m)\u001b[0m\u001b[1;33m\u001b[0m\u001b[1;33m\u001b[0m\u001b[0m\n\u001b[0m\u001b[0;32m   3443\u001b[0m \u001b[1;33m\u001b[0m\u001b[0m\n\u001b[0;32m   3444\u001b[0m         \u001b[1;32mif\u001b[0m \u001b[1;32mnot\u001b[0m \u001b[0mself\u001b[0m\u001b[1;33m.\u001b[0m\u001b[0m_should_compare\u001b[0m\u001b[1;33m(\u001b[0m\u001b[0mtarget\u001b[0m\u001b[1;33m)\u001b[0m \u001b[1;32mand\u001b[0m \u001b[1;32mnot\u001b[0m \u001b[0mis_interval_dtype\u001b[0m\u001b[1;33m(\u001b[0m\u001b[0mself\u001b[0m\u001b[1;33m.\u001b[0m\u001b[0mdtype\u001b[0m\u001b[1;33m)\u001b[0m\u001b[1;33m:\u001b[0m\u001b[1;33m\u001b[0m\u001b[1;33m\u001b[0m\u001b[0m\n",
      "\u001b[1;31mInvalidIndexError\u001b[0m: Reindexing only valid with uniquely valued Index objects"
     ]
    }
   ],
   "source": [
    "index.get_indexer([4]) # 保证返回指定元素的位置，不支持重复元素"
   ]
  },
  {
   "cell_type": "code",
   "execution_count": 32,
   "id": "ideal-immunology",
   "metadata": {
    "execution": {
     "iopub.execute_input": "2021-10-14T11:23:42.489551Z",
     "iopub.status.busy": "2021-10-14T11:23:42.488552Z",
     "iopub.status.idle": "2021-10-14T11:23:42.498546Z",
     "shell.execute_reply": "2021-10-14T11:23:42.497547Z",
     "shell.execute_reply.started": "2021-10-14T11:23:42.489551Z"
    },
    "tags": []
   },
   "outputs": [
    {
     "data": {
      "text/plain": [
       "(array([3, 4, 0], dtype=int64), array([], dtype=int64))"
      ]
     },
     "execution_count": 32,
     "metadata": {},
     "output_type": "execute_result"
    }
   ],
   "source": [
    "index.get_indexer_non_unique([1,4]) # 类似下面，支持重复元素"
   ]
  },
  {
   "cell_type": "code",
   "execution_count": 30,
   "id": "assured-pearl",
   "metadata": {
    "execution": {
     "iopub.execute_input": "2021-10-14T11:22:46.147470Z",
     "iopub.status.busy": "2021-10-14T11:22:46.147470Z",
     "iopub.status.idle": "2021-10-14T11:22:46.154466Z",
     "shell.execute_reply": "2021-10-14T11:22:46.153467Z",
     "shell.execute_reply.started": "2021-10-14T11:22:46.147470Z"
    },
    "tags": []
   },
   "outputs": [
    {
     "data": {
      "text/plain": [
       "array([3, 4, 0], dtype=int64)"
      ]
     },
     "execution_count": 30,
     "metadata": {},
     "output_type": "execute_result"
    }
   ],
   "source": [
    "index.get_indexer_for([1,4]) # 保证返回指定元素的位置，支持重复元素"
   ]
  },
  {
   "cell_type": "code",
   "execution_count": 28,
   "id": "complimentary-sociology",
   "metadata": {
    "execution": {
     "iopub.execute_input": "2021-10-14T11:21:46.330841Z",
     "iopub.status.busy": "2021-10-14T11:21:46.329842Z",
     "iopub.status.idle": "2021-10-14T11:21:46.336838Z",
     "shell.execute_reply": "2021-10-14T11:21:46.335837Z",
     "shell.execute_reply.started": "2021-10-14T11:21:46.330841Z"
    },
    "tags": []
   },
   "outputs": [
    {
     "data": {
      "text/plain": [
       "Int64Index([4, 2, 3, 1, 1, 4, 2, 3, 1, 1], dtype='int64')"
      ]
     },
     "execution_count": 28,
     "metadata": {},
     "output_type": "execute_result"
    }
   ],
   "source": [
    "index.append(index) # 合并两个索引"
   ]
  },
  {
   "cell_type": "code",
   "execution_count": 27,
   "id": "selected-compromise",
   "metadata": {
    "execution": {
     "iopub.execute_input": "2021-10-14T11:21:14.298704Z",
     "iopub.status.busy": "2021-10-14T11:21:14.298704Z",
     "iopub.status.idle": "2021-10-14T11:21:14.310693Z",
     "shell.execute_reply": "2021-10-14T11:21:14.308694Z",
     "shell.execute_reply.started": "2021-10-14T11:21:14.298704Z"
    },
    "tags": []
   },
   "outputs": [
    {
     "data": {
      "text/plain": [
       "Int64Index([4, 9, 2, 3, 1, 1], dtype='int64')"
      ]
     },
     "execution_count": 27,
     "metadata": {},
     "output_type": "execute_result"
    }
   ],
   "source": [
    "index.insert(1,item=9) # 向指定位置插入元素"
   ]
  },
  {
   "cell_type": "code",
   "execution_count": 22,
   "id": "received-racing",
   "metadata": {
    "execution": {
     "iopub.execute_input": "2021-10-14T11:20:17.037824Z",
     "iopub.status.busy": "2021-10-14T11:20:17.037824Z",
     "iopub.status.idle": "2021-10-14T11:20:17.042822Z",
     "shell.execute_reply": "2021-10-14T11:20:17.042822Z",
     "shell.execute_reply.started": "2021-10-14T11:20:17.037824Z"
    },
    "tags": []
   },
   "outputs": [
    {
     "data": {
      "text/plain": [
       "Int64Index([4, 1, 1], dtype='int64')"
      ]
     },
     "execution_count": 22,
     "metadata": {},
     "output_type": "execute_result"
    }
   ],
   "source": [
    "index.delete([1,2]) # 删除元素"
   ]
  },
  {
   "cell_type": "code",
   "execution_count": 20,
   "id": "hollywood-vault",
   "metadata": {
    "execution": {
     "iopub.execute_input": "2021-10-14T11:18:30.540327Z",
     "iopub.status.busy": "2021-10-14T11:18:30.539327Z",
     "iopub.status.idle": "2021-10-14T11:18:30.545324Z",
     "shell.execute_reply": "2021-10-14T11:18:30.544337Z",
     "shell.execute_reply.started": "2021-10-14T11:18:30.540327Z"
    },
    "tags": []
   },
   "outputs": [
    {
     "data": {
      "text/plain": [
       "array([3, 4, 1, 2, 0], dtype=int64)"
      ]
     },
     "execution_count": 20,
     "metadata": {},
     "output_type": "execute_result"
    }
   ],
   "source": [
    "index.argsort() # 返回各个元素的排序位置。对比df上的rank"
   ]
  },
  {
   "cell_type": "code",
   "execution_count": 19,
   "id": "coated-worth",
   "metadata": {
    "execution": {
     "iopub.execute_input": "2021-10-14T11:17:58.649471Z",
     "iopub.status.busy": "2021-10-14T11:17:58.648472Z",
     "iopub.status.idle": "2021-10-14T11:17:58.657464Z",
     "shell.execute_reply": "2021-10-14T11:17:58.656465Z",
     "shell.execute_reply.started": "2021-10-14T11:17:58.649471Z"
    },
    "tags": []
   },
   "outputs": [
    {
     "data": {
      "text/plain": [
       "3"
      ]
     },
     "execution_count": 19,
     "metadata": {},
     "output_type": "execute_result"
    }
   ],
   "source": [
    "index.argmin() # 第一个最小元素的位置"
   ]
  },
  {
   "cell_type": "code",
   "execution_count": 18,
   "id": "loose-ethernet",
   "metadata": {
    "execution": {
     "iopub.execute_input": "2021-10-14T11:17:28.360338Z",
     "iopub.status.busy": "2021-10-14T11:17:28.360338Z",
     "iopub.status.idle": "2021-10-14T11:17:28.370329Z",
     "shell.execute_reply": "2021-10-14T11:17:28.369330Z",
     "shell.execute_reply.started": "2021-10-14T11:17:28.360338Z"
    },
    "tags": []
   },
   "outputs": [
    {
     "data": {
      "text/plain": [
       "0"
      ]
     },
     "execution_count": 18,
     "metadata": {},
     "output_type": "execute_result"
    }
   ],
   "source": [
    "index.argmax() # 第一个最大元素的位置"
   ]
  },
  {
   "cell_type": "code",
   "execution_count": 17,
   "id": "light-syntax",
   "metadata": {
    "execution": {
     "iopub.execute_input": "2021-10-14T11:16:54.973784Z",
     "iopub.status.busy": "2021-10-14T11:16:54.972787Z",
     "iopub.status.idle": "2021-10-14T11:16:54.985777Z",
     "shell.execute_reply": "2021-10-14T11:16:54.983778Z",
     "shell.execute_reply.started": "2021-10-14T11:16:54.973784Z"
    },
    "tags": []
   },
   "outputs": [
    {
     "data": {
      "text/plain": [
       "Int64Index([4, 2, 3, 1, 1], dtype='int64', name='index')"
      ]
     },
     "execution_count": 17,
     "metadata": {},
     "output_type": "execute_result"
    }
   ],
   "source": [
    "index.set_names('index') # 设置索引的名字"
   ]
  },
  {
   "cell_type": "code",
   "execution_count": 16,
   "id": "adjustable-elder",
   "metadata": {
    "execution": {
     "iopub.execute_input": "2021-10-14T11:16:08.450828Z",
     "iopub.status.busy": "2021-10-14T11:16:08.450828Z",
     "iopub.status.idle": "2021-10-14T11:16:08.457824Z",
     "shell.execute_reply": "2021-10-14T11:16:08.456825Z",
     "shell.execute_reply.started": "2021-10-14T11:16:08.450828Z"
    },
    "tags": []
   },
   "outputs": [
    {
     "data": {
      "text/plain": [
       "array([4, 2, 3, 1, 1], dtype=int64)"
      ]
     },
     "execution_count": 16,
     "metadata": {},
     "output_type": "execute_result"
    }
   ],
   "source": [
    "index.values # 元素转换成数组形式"
   ]
  },
  {
   "cell_type": "code",
   "execution_count": 15,
   "id": "sharp-poison",
   "metadata": {
    "execution": {
     "iopub.execute_input": "2021-10-14T11:15:50.181461Z",
     "iopub.status.busy": "2021-10-14T11:15:50.181461Z",
     "iopub.status.idle": "2021-10-14T11:15:50.194454Z",
     "shell.execute_reply": "2021-10-14T11:15:50.192452Z",
     "shell.execute_reply.started": "2021-10-14T11:15:50.181461Z"
    },
    "tags": []
   },
   "outputs": [
    {
     "data": {
      "text/plain": [
       "5"
      ]
     },
     "execution_count": 15,
     "metadata": {},
     "output_type": "execute_result"
    }
   ],
   "source": [
    "index.size # 5个元素"
   ]
  },
  {
   "cell_type": "code",
   "execution_count": 14,
   "id": "drawn-aside",
   "metadata": {
    "execution": {
     "iopub.execute_input": "2021-10-14T11:15:21.704112Z",
     "iopub.status.busy": "2021-10-14T11:15:21.704112Z",
     "iopub.status.idle": "2021-10-14T11:15:21.712106Z",
     "shell.execute_reply": "2021-10-14T11:15:21.711107Z",
     "shell.execute_reply.started": "2021-10-14T11:15:21.704112Z"
    },
    "tags": []
   },
   "outputs": [
    {
     "data": {
      "text/plain": [
       "(5,)"
      ]
     },
     "execution_count": 14,
     "metadata": {},
     "output_type": "execute_result"
    }
   ],
   "source": [
    "index.shape # 形状"
   ]
  },
  {
   "cell_type": "code",
   "execution_count": 12,
   "id": "indoor-capital",
   "metadata": {
    "execution": {
     "iopub.execute_input": "2021-10-14T11:15:01.939401Z",
     "iopub.status.busy": "2021-10-14T11:15:01.939401Z",
     "iopub.status.idle": "2021-10-14T11:15:01.944397Z",
     "shell.execute_reply": "2021-10-14T11:15:01.943399Z",
     "shell.execute_reply.started": "2021-10-14T11:15:01.939401Z"
    },
    "tags": []
   },
   "outputs": [
    {
     "data": {
      "text/plain": [
       "1"
      ]
     },
     "execution_count": 12,
     "metadata": {},
     "output_type": "execute_result"
    }
   ],
   "source": [
    "index.nlevels # 1个层级"
   ]
  },
  {
   "cell_type": "code",
   "execution_count": 11,
   "id": "australian-syndication",
   "metadata": {
    "execution": {
     "iopub.execute_input": "2021-10-14T11:14:28.613759Z",
     "iopub.status.busy": "2021-10-14T11:14:28.613759Z",
     "iopub.status.idle": "2021-10-14T11:14:28.623752Z",
     "shell.execute_reply": "2021-10-14T11:14:28.621754Z",
     "shell.execute_reply.started": "2021-10-14T11:14:28.613759Z"
    },
    "tags": []
   },
   "outputs": [
    {
     "data": {
      "text/plain": [
       "1"
      ]
     },
     "execution_count": 11,
     "metadata": {},
     "output_type": "execute_result"
    }
   ],
   "source": [
    "index.ndim # 索引几个维度"
   ]
  },
  {
   "cell_type": "code",
   "execution_count": 10,
   "id": "large-edward",
   "metadata": {
    "execution": {
     "iopub.execute_input": "2021-10-14T11:13:35.287305Z",
     "iopub.status.busy": "2021-10-14T11:13:35.287305Z",
     "iopub.status.idle": "2021-10-14T11:13:35.295299Z",
     "shell.execute_reply": "2021-10-14T11:13:35.294300Z",
     "shell.execute_reply.started": "2021-10-14T11:13:35.287305Z"
    },
    "tags": []
   },
   "outputs": [
    {
     "data": {
      "text/plain": [
       "40"
      ]
     },
     "execution_count": 10,
     "metadata": {},
     "output_type": "execute_result"
    }
   ],
   "source": [
    "index.nbytes # 站的字节数 5*8"
   ]
  },
  {
   "cell_type": "code",
   "execution_count": 9,
   "id": "acceptable-sunset",
   "metadata": {
    "execution": {
     "iopub.execute_input": "2021-10-14T11:12:48.188410Z",
     "iopub.status.busy": "2021-10-14T11:12:48.188410Z",
     "iopub.status.idle": "2021-10-14T11:12:48.195405Z",
     "shell.execute_reply": "2021-10-14T11:12:48.194406Z",
     "shell.execute_reply.started": "2021-10-14T11:12:48.188410Z"
    },
    "tags": []
   },
   "outputs": [
    {
     "data": {
      "text/plain": [
       "False"
      ]
     },
     "execution_count": 9,
     "metadata": {},
     "output_type": "execute_result"
    }
   ],
   "source": [
    "index.is_all_dates # 判断元素是否都是日期类型"
   ]
  }
 ],
 "metadata": {
  "kernelspec": {
   "display_name": "Python 3",
   "language": "python",
   "name": "python3"
  },
  "language_info": {
   "codemirror_mode": {
    "name": "ipython",
    "version": 3
   },
   "file_extension": ".py",
   "mimetype": "text/x-python",
   "name": "python",
   "nbconvert_exporter": "python",
   "pygments_lexer": "ipython3",
   "version": "3.6.8"
  }
 },
 "nbformat": 4,
 "nbformat_minor": 5
}
