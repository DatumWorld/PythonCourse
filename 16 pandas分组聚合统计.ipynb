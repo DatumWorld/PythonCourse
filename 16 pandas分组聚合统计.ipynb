{
 "cells": [
  {
   "cell_type": "markdown",
   "id": "valuable-sussex",
   "metadata": {
    "execution": {
     "iopub.execute_input": "2021-05-10T07:18:52.990449Z",
     "iopub.status.busy": "2021-05-10T07:18:52.990449Z",
     "iopub.status.idle": "2021-05-10T07:18:52.994464Z",
     "shell.execute_reply": "2021-05-10T07:18:52.993452Z",
     "shell.execute_reply.started": "2021-05-10T07:18:52.990449Z"
    }
   },
   "source": [
    "##  pandas分组聚合统计"
   ]
  },
  {
   "cell_type": "markdown",
   "id": "stupid-greensboro",
   "metadata": {},
   "source": [
    "### 分组聚合统计\n",
    "#### groupby mean sum min max median describe"
   ]
  },
  {
   "cell_type": "code",
   "execution_count": 41,
   "id": "fifth-monday",
   "metadata": {
    "execution": {
     "iopub.execute_input": "2021-06-02T06:56:32.712583Z",
     "iopub.status.busy": "2021-06-02T06:56:32.712583Z",
     "iopub.status.idle": "2021-06-02T06:56:32.749586Z",
     "shell.execute_reply": "2021-06-02T06:56:32.748609Z",
     "shell.execute_reply.started": "2021-06-02T06:56:32.712583Z"
    }
   },
   "outputs": [],
   "source": [
    "import numpy  as np\n",
    "import pandas as pd\n",
    "from faker import Faker\n",
    "\n",
    "fake = Faker('zh_CN')\n",
    "df=pd.DataFrame(data=[ [fake.name()] for x in range(10) ],columns=['name'])"
   ]
  },
  {
   "cell_type": "code",
   "execution_count": 42,
   "id": "hydraulic-premises",
   "metadata": {
    "execution": {
     "iopub.execute_input": "2021-06-02T06:56:32.750585Z",
     "iopub.status.busy": "2021-06-02T06:56:32.750585Z",
     "iopub.status.idle": "2021-06-02T06:56:32.754584Z",
     "shell.execute_reply": "2021-06-02T06:56:32.754584Z",
     "shell.execute_reply.started": "2021-06-02T06:56:32.750585Z"
    }
   },
   "outputs": [],
   "source": [
    "df['salary']=np.random.randint(100,100000,size=(10, 1))"
   ]
  },
  {
   "cell_type": "code",
   "execution_count": 43,
   "id": "active-nightmare",
   "metadata": {
    "execution": {
     "iopub.execute_input": "2021-06-02T06:56:32.756582Z",
     "iopub.status.busy": "2021-06-02T06:56:32.755584Z",
     "iopub.status.idle": "2021-06-02T06:56:32.764603Z",
     "shell.execute_reply": "2021-06-02T06:56:32.762601Z",
     "shell.execute_reply.started": "2021-06-02T06:56:32.756582Z"
    }
   },
   "outputs": [],
   "source": [
    "df.insert(0,'dept',['部门1']*5+['部门2']*5)"
   ]
  },
  {
   "cell_type": "code",
   "execution_count": 44,
   "id": "closing-coaching",
   "metadata": {
    "execution": {
     "iopub.execute_input": "2021-06-02T06:56:32.766584Z",
     "iopub.status.busy": "2021-06-02T06:56:32.766584Z",
     "iopub.status.idle": "2021-06-02T06:56:32.778587Z",
     "shell.execute_reply": "2021-06-02T06:56:32.777584Z",
     "shell.execute_reply.started": "2021-06-02T06:56:32.766584Z"
    }
   },
   "outputs": [
    {
     "data": {
      "text/html": [
       "<div>\n",
       "<style scoped>\n",
       "    .dataframe tbody tr th:only-of-type {\n",
       "        vertical-align: middle;\n",
       "    }\n",
       "\n",
       "    .dataframe tbody tr th {\n",
       "        vertical-align: top;\n",
       "    }\n",
       "\n",
       "    .dataframe thead th {\n",
       "        text-align: right;\n",
       "    }\n",
       "</style>\n",
       "<table border=\"1\" class=\"dataframe\">\n",
       "  <thead>\n",
       "    <tr style=\"text-align: right;\">\n",
       "      <th></th>\n",
       "      <th>dept</th>\n",
       "      <th>name</th>\n",
       "      <th>salary</th>\n",
       "    </tr>\n",
       "  </thead>\n",
       "  <tbody>\n",
       "    <tr>\n",
       "      <th>0</th>\n",
       "      <td>部门1</td>\n",
       "      <td>吴健</td>\n",
       "      <td>87665</td>\n",
       "    </tr>\n",
       "    <tr>\n",
       "      <th>1</th>\n",
       "      <td>部门1</td>\n",
       "      <td>田桂珍</td>\n",
       "      <td>31840</td>\n",
       "    </tr>\n",
       "    <tr>\n",
       "      <th>2</th>\n",
       "      <td>部门1</td>\n",
       "      <td>王春梅</td>\n",
       "      <td>72090</td>\n",
       "    </tr>\n",
       "    <tr>\n",
       "      <th>3</th>\n",
       "      <td>部门1</td>\n",
       "      <td>陈伟</td>\n",
       "      <td>83708</td>\n",
       "    </tr>\n",
       "    <tr>\n",
       "      <th>4</th>\n",
       "      <td>部门1</td>\n",
       "      <td>权霞</td>\n",
       "      <td>22177</td>\n",
       "    </tr>\n",
       "    <tr>\n",
       "      <th>5</th>\n",
       "      <td>部门2</td>\n",
       "      <td>郑秀荣</td>\n",
       "      <td>71673</td>\n",
       "    </tr>\n",
       "    <tr>\n",
       "      <th>6</th>\n",
       "      <td>部门2</td>\n",
       "      <td>杜建华</td>\n",
       "      <td>41404</td>\n",
       "    </tr>\n",
       "    <tr>\n",
       "      <th>7</th>\n",
       "      <td>部门2</td>\n",
       "      <td>孙志强</td>\n",
       "      <td>7081</td>\n",
       "    </tr>\n",
       "    <tr>\n",
       "      <th>8</th>\n",
       "      <td>部门2</td>\n",
       "      <td>许桂英</td>\n",
       "      <td>74388</td>\n",
       "    </tr>\n",
       "    <tr>\n",
       "      <th>9</th>\n",
       "      <td>部门2</td>\n",
       "      <td>潘丹丹</td>\n",
       "      <td>14055</td>\n",
       "    </tr>\n",
       "  </tbody>\n",
       "</table>\n",
       "</div>"
      ],
      "text/plain": [
       "  dept name  salary\n",
       "0  部门1   吴健   87665\n",
       "1  部门1  田桂珍   31840\n",
       "2  部门1  王春梅   72090\n",
       "3  部门1   陈伟   83708\n",
       "4  部门1   权霞   22177\n",
       "5  部门2  郑秀荣   71673\n",
       "6  部门2  杜建华   41404\n",
       "7  部门2  孙志强    7081\n",
       "8  部门2  许桂英   74388\n",
       "9  部门2  潘丹丹   14055"
      ]
     },
     "execution_count": 44,
     "metadata": {},
     "output_type": "execute_result"
    }
   ],
   "source": [
    "df # 随机生成的数据"
   ]
  },
  {
   "cell_type": "code",
   "execution_count": 45,
   "id": "about-surgery",
   "metadata": {
    "execution": {
     "iopub.execute_input": "2021-06-02T06:57:40.270739Z",
     "iopub.status.busy": "2021-06-02T06:57:40.270739Z",
     "iopub.status.idle": "2021-06-02T06:57:40.291726Z",
     "shell.execute_reply": "2021-06-02T06:57:40.290729Z",
     "shell.execute_reply.started": "2021-06-02T06:57:40.270739Z"
    }
   },
   "outputs": [
    {
     "data": {
      "text/plain": [
       "count       10.000000\n",
       "mean     50608.100000\n",
       "std      30578.723425\n",
       "min       7081.000000\n",
       "25%      24592.750000\n",
       "50%      56538.500000\n",
       "75%      73813.500000\n",
       "max      87665.000000\n",
       "Name: salary, dtype: float64"
      ]
     },
     "execution_count": 45,
     "metadata": {},
     "output_type": "execute_result"
    }
   ],
   "source": [
    "df.salary.describe() # 描述性统计，含个数 均值 最大最小等信息，具体参考官方文档定义"
   ]
  },
  {
   "cell_type": "code",
   "execution_count": 46,
   "id": "published-engineer",
   "metadata": {
    "execution": {
     "iopub.execute_input": "2021-06-02T06:58:54.373725Z",
     "iopub.status.busy": "2021-06-02T06:58:54.373725Z",
     "iopub.status.idle": "2021-06-02T06:58:54.379731Z",
     "shell.execute_reply": "2021-06-02T06:58:54.378732Z",
     "shell.execute_reply.started": "2021-06-02T06:58:54.373725Z"
    }
   },
   "outputs": [
    {
     "data": {
      "text/plain": [
       "50608.1"
      ]
     },
     "execution_count": 46,
     "metadata": {},
     "output_type": "execute_result"
    }
   ],
   "source": [
    "df.salary.mean() # salary的均值"
   ]
  },
  {
   "cell_type": "code",
   "execution_count": 47,
   "id": "baking-election",
   "metadata": {
    "execution": {
     "iopub.execute_input": "2021-06-02T06:59:23.955726Z",
     "iopub.status.busy": "2021-06-02T06:59:23.955726Z",
     "iopub.status.idle": "2021-06-02T06:59:23.961732Z",
     "shell.execute_reply": "2021-06-02T06:59:23.960727Z",
     "shell.execute_reply.started": "2021-06-02T06:59:23.955726Z"
    }
   },
   "outputs": [
    {
     "data": {
      "text/plain": [
       "7081"
      ]
     },
     "execution_count": 47,
     "metadata": {},
     "output_type": "execute_result"
    }
   ],
   "source": [
    "df.salary.min() # 最小值"
   ]
  },
  {
   "cell_type": "code",
   "execution_count": 48,
   "id": "previous-crest",
   "metadata": {
    "execution": {
     "iopub.execute_input": "2021-06-02T06:59:46.069726Z",
     "iopub.status.busy": "2021-06-02T06:59:46.069726Z",
     "iopub.status.idle": "2021-06-02T06:59:46.076724Z",
     "shell.execute_reply": "2021-06-02T06:59:46.074730Z",
     "shell.execute_reply.started": "2021-06-02T06:59:46.069726Z"
    }
   },
   "outputs": [
    {
     "data": {
      "text/plain": [
       "87665"
      ]
     },
     "execution_count": 48,
     "metadata": {},
     "output_type": "execute_result"
    }
   ],
   "source": [
    "df.salary.max() # 最大值"
   ]
  },
  {
   "cell_type": "code",
   "execution_count": 49,
   "id": "tender-communications",
   "metadata": {
    "execution": {
     "iopub.execute_input": "2021-06-02T07:00:24.154729Z",
     "iopub.status.busy": "2021-06-02T07:00:24.154729Z",
     "iopub.status.idle": "2021-06-02T07:00:24.159727Z",
     "shell.execute_reply": "2021-06-02T07:00:24.158727Z",
     "shell.execute_reply.started": "2021-06-02T07:00:24.154729Z"
    }
   },
   "outputs": [
    {
     "data": {
      "text/plain": [
       "506081"
      ]
     },
     "execution_count": 49,
     "metadata": {},
     "output_type": "execute_result"
    }
   ],
   "source": [
    "df.salary.sum() # 合计"
   ]
  },
  {
   "cell_type": "code",
   "execution_count": 50,
   "id": "outside-stock",
   "metadata": {
    "execution": {
     "iopub.execute_input": "2021-06-02T07:00:43.812727Z",
     "iopub.status.busy": "2021-06-02T07:00:43.811726Z",
     "iopub.status.idle": "2021-06-02T07:00:43.822730Z",
     "shell.execute_reply": "2021-06-02T07:00:43.821725Z",
     "shell.execute_reply.started": "2021-06-02T07:00:43.812727Z"
    }
   },
   "outputs": [
    {
     "data": {
      "text/plain": [
       "56538.5"
      ]
     },
     "execution_count": 50,
     "metadata": {},
     "output_type": "execute_result"
    }
   ],
   "source": [
    "df.salary.median() # 中位数"
   ]
  },
  {
   "cell_type": "code",
   "execution_count": 51,
   "id": "nervous-cuisine",
   "metadata": {
    "execution": {
     "iopub.execute_input": "2021-06-02T07:01:58.714728Z",
     "iopub.status.busy": "2021-06-02T07:01:58.714728Z",
     "iopub.status.idle": "2021-06-02T07:01:58.730757Z",
     "shell.execute_reply": "2021-06-02T07:01:58.730757Z",
     "shell.execute_reply.started": "2021-06-02T07:01:58.714728Z"
    }
   },
   "outputs": [
    {
     "data": {
      "text/html": [
       "<div>\n",
       "<style scoped>\n",
       "    .dataframe tbody tr th:only-of-type {\n",
       "        vertical-align: middle;\n",
       "    }\n",
       "\n",
       "    .dataframe tbody tr th {\n",
       "        vertical-align: top;\n",
       "    }\n",
       "\n",
       "    .dataframe thead th {\n",
       "        text-align: right;\n",
       "    }\n",
       "</style>\n",
       "<table border=\"1\" class=\"dataframe\">\n",
       "  <thead>\n",
       "    <tr style=\"text-align: right;\">\n",
       "      <th></th>\n",
       "      <th>salary</th>\n",
       "    </tr>\n",
       "    <tr>\n",
       "      <th>dept</th>\n",
       "      <th></th>\n",
       "    </tr>\n",
       "  </thead>\n",
       "  <tbody>\n",
       "    <tr>\n",
       "      <th>部门1</th>\n",
       "      <td>59496.0</td>\n",
       "    </tr>\n",
       "    <tr>\n",
       "      <th>部门2</th>\n",
       "      <td>41720.2</td>\n",
       "    </tr>\n",
       "  </tbody>\n",
       "</table>\n",
       "</div>"
      ],
      "text/plain": [
       "       salary\n",
       "dept         \n",
       "部门1   59496.0\n",
       "部门2   41720.2"
      ]
     },
     "execution_count": 51,
     "metadata": {},
     "output_type": "execute_result"
    }
   ],
   "source": [
    "df.groupby('dept').agg({'salary':'mean'}) # 按部门计算salary的均值"
   ]
  },
  {
   "cell_type": "code",
   "execution_count": 52,
   "id": "southeast-abraham",
   "metadata": {
    "execution": {
     "iopub.execute_input": "2021-06-02T07:02:55.188725Z",
     "iopub.status.busy": "2021-06-02T07:02:55.188725Z",
     "iopub.status.idle": "2021-06-02T07:02:55.217727Z",
     "shell.execute_reply": "2021-06-02T07:02:55.216729Z",
     "shell.execute_reply.started": "2021-06-02T07:02:55.188725Z"
    }
   },
   "outputs": [
    {
     "data": {
      "text/html": [
       "<div>\n",
       "<style scoped>\n",
       "    .dataframe tbody tr th:only-of-type {\n",
       "        vertical-align: middle;\n",
       "    }\n",
       "\n",
       "    .dataframe tbody tr th {\n",
       "        vertical-align: top;\n",
       "    }\n",
       "\n",
       "    .dataframe thead tr th {\n",
       "        text-align: left;\n",
       "    }\n",
       "\n",
       "    .dataframe thead tr:last-of-type th {\n",
       "        text-align: right;\n",
       "    }\n",
       "</style>\n",
       "<table border=\"1\" class=\"dataframe\">\n",
       "  <thead>\n",
       "    <tr>\n",
       "      <th></th>\n",
       "      <th colspan=\"5\" halign=\"left\">salary</th>\n",
       "    </tr>\n",
       "    <tr>\n",
       "      <th></th>\n",
       "      <th>mean</th>\n",
       "      <th>sum</th>\n",
       "      <th>min</th>\n",
       "      <th>max</th>\n",
       "      <th>median</th>\n",
       "    </tr>\n",
       "    <tr>\n",
       "      <th>dept</th>\n",
       "      <th></th>\n",
       "      <th></th>\n",
       "      <th></th>\n",
       "      <th></th>\n",
       "      <th></th>\n",
       "    </tr>\n",
       "  </thead>\n",
       "  <tbody>\n",
       "    <tr>\n",
       "      <th>部门1</th>\n",
       "      <td>59496.0</td>\n",
       "      <td>297480</td>\n",
       "      <td>22177</td>\n",
       "      <td>87665</td>\n",
       "      <td>72090</td>\n",
       "    </tr>\n",
       "    <tr>\n",
       "      <th>部门2</th>\n",
       "      <td>41720.2</td>\n",
       "      <td>208601</td>\n",
       "      <td>7081</td>\n",
       "      <td>74388</td>\n",
       "      <td>41404</td>\n",
       "    </tr>\n",
       "  </tbody>\n",
       "</table>\n",
       "</div>"
      ],
      "text/plain": [
       "       salary                             \n",
       "         mean     sum    min    max median\n",
       "dept                                      \n",
       "部门1   59496.0  297480  22177  87665  72090\n",
       "部门2   41720.2  208601   7081  74388  41404"
      ]
     },
     "execution_count": 52,
     "metadata": {},
     "output_type": "execute_result"
    }
   ],
   "source": [
    "df.groupby('dept').agg({'salary':['mean','sum','min','max','median']}) # 按部门计算salary的多个统计指标，含义参考上文"
   ]
  }
 ],
 "metadata": {
  "kernelspec": {
   "display_name": "Python 3",
   "language": "python",
   "name": "python3"
  },
  "language_info": {
   "codemirror_mode": {
    "name": "ipython",
    "version": 3
   },
   "file_extension": ".py",
   "mimetype": "text/x-python",
   "name": "python",
   "nbconvert_exporter": "python",
   "pygments_lexer": "ipython3",
   "version": "3.6.8"
  }
 },
 "nbformat": 4,
 "nbformat_minor": 5
}
