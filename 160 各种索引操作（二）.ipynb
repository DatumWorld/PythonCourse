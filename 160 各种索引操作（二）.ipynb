{
 "cells": [
  {
   "cell_type": "markdown",
   "id": "handmade-process",
   "metadata": {
    "execution": {
     "iopub.execute_input": "2021-05-10T07:18:52.990449Z",
     "iopub.status.busy": "2021-05-10T07:18:52.990449Z",
     "iopub.status.idle": "2021-05-10T07:18:52.994464Z",
     "shell.execute_reply": "2021-05-10T07:18:52.993452Z",
     "shell.execute_reply.started": "2021-05-10T07:18:52.990449Z"
    }
   },
   "source": [
    "## 160 各种索引操作（二）"
   ]
  },
  {
   "cell_type": "markdown",
   "id": "charming-weapon",
   "metadata": {},
   "source": [
    "###  各种索引操作。区间间隔索引\n",
    "##### left right  mid closed shape size length \n",
    "##### values append set_closed   \n",
    "##### is_non_overlapping_monotonic is_overlapping contains overlaps"
   ]
  },
  {
   "cell_type": "code",
   "execution_count": 1,
   "id": "double-collector",
   "metadata": {
    "execution": {
     "iopub.execute_input": "2021-10-14T11:34:21.284100Z",
     "iopub.status.busy": "2021-10-14T11:34:21.283100Z",
     "iopub.status.idle": "2021-10-14T11:34:21.667889Z",
     "shell.execute_reply": "2021-10-14T11:34:21.667889Z",
     "shell.execute_reply.started": "2021-10-14T11:34:21.284100Z"
    },
    "tags": []
   },
   "outputs": [],
   "source": [
    "import pandas as pd"
   ]
  },
  {
   "cell_type": "code",
   "execution_count": 4,
   "id": "present-ordering",
   "metadata": {
    "execution": {
     "iopub.execute_input": "2021-10-14T11:36:09.017194Z",
     "iopub.status.busy": "2021-10-14T11:36:09.016180Z",
     "iopub.status.idle": "2021-10-14T11:36:09.027175Z",
     "shell.execute_reply": "2021-10-14T11:36:09.025177Z",
     "shell.execute_reply.started": "2021-10-14T11:36:09.017194Z"
    },
    "tags": []
   },
   "outputs": [],
   "source": [
    "index=pd.IntervalIndex(pd.interval_range(0,5))"
   ]
  },
  {
   "cell_type": "code",
   "execution_count": 5,
   "id": "gorgeous-thursday",
   "metadata": {
    "execution": {
     "iopub.execute_input": "2021-10-14T11:36:14.372184Z",
     "iopub.status.busy": "2021-10-14T11:36:14.372184Z",
     "iopub.status.idle": "2021-10-14T11:36:14.381177Z",
     "shell.execute_reply": "2021-10-14T11:36:14.380177Z",
     "shell.execute_reply.started": "2021-10-14T11:36:14.372184Z"
    },
    "tags": []
   },
   "outputs": [
    {
     "data": {
      "text/plain": [
       "IntervalIndex([(0, 1], (1, 2], (2, 3], (3, 4], (4, 5]], dtype='interval[int64, right]')"
      ]
     },
     "execution_count": 5,
     "metadata": {},
     "output_type": "execute_result"
    }
   ],
   "source": [
    "index"
   ]
  },
  {
   "cell_type": "code",
   "execution_count": 32,
   "id": "facial-fields",
   "metadata": {
    "execution": {
     "iopub.execute_input": "2021-10-14T11:50:01.287980Z",
     "iopub.status.busy": "2021-10-14T11:50:01.287980Z",
     "iopub.status.idle": "2021-10-14T11:50:01.292977Z",
     "shell.execute_reply": "2021-10-14T11:50:01.291978Z",
     "shell.execute_reply.started": "2021-10-14T11:50:01.287980Z"
    },
    "tags": []
   },
   "outputs": [
    {
     "data": {
      "text/plain": [
       "Interval(1, 3, closed='right')"
      ]
     },
     "execution_count": 32,
     "metadata": {},
     "output_type": "execute_result"
    }
   ],
   "source": [
    "pd.Interval(1,3)"
   ]
  },
  {
   "cell_type": "code",
   "execution_count": 29,
   "id": "found-hardware",
   "metadata": {
    "execution": {
     "iopub.execute_input": "2021-10-14T11:48:52.483181Z",
     "iopub.status.busy": "2021-10-14T11:48:52.483181Z",
     "iopub.status.idle": "2021-10-14T11:48:52.490176Z",
     "shell.execute_reply": "2021-10-14T11:48:52.489177Z",
     "shell.execute_reply.started": "2021-10-14T11:48:52.483181Z"
    },
    "tags": []
   },
   "outputs": [
    {
     "data": {
      "text/plain": [
       "array([False,  True,  True, False, False])"
      ]
     },
     "execution_count": 29,
     "metadata": {},
     "output_type": "execute_result"
    }
   ],
   "source": [
    "index.overlaps(pd.Interval(1,3)) # 各个子区间是否和 给定的单个区间有交集（就是公共部分）"
   ]
  },
  {
   "cell_type": "code",
   "execution_count": 19,
   "id": "alternative-cornell",
   "metadata": {
    "execution": {
     "iopub.execute_input": "2021-10-14T11:45:46.847410Z",
     "iopub.status.busy": "2021-10-14T11:45:46.847410Z",
     "iopub.status.idle": "2021-10-14T11:45:46.858403Z",
     "shell.execute_reply": "2021-10-14T11:45:46.856406Z",
     "shell.execute_reply.started": "2021-10-14T11:45:46.847410Z"
    },
    "tags": []
   },
   "outputs": [
    {
     "data": {
      "text/plain": [
       "array([False,  True, False, False, False])"
      ]
     },
     "execution_count": 19,
     "metadata": {},
     "output_type": "execute_result"
    }
   ],
   "source": [
    "index.contains(1.5) # 返回各个子区间是否包含1.5"
   ]
  },
  {
   "cell_type": "code",
   "execution_count": 18,
   "id": "least-contents",
   "metadata": {
    "execution": {
     "iopub.execute_input": "2021-10-14T11:44:36.539038Z",
     "iopub.status.busy": "2021-10-14T11:44:36.538036Z",
     "iopub.status.idle": "2021-10-14T11:44:36.547029Z",
     "shell.execute_reply": "2021-10-14T11:44:36.546032Z",
     "shell.execute_reply.started": "2021-10-14T11:44:36.539038Z"
    },
    "tags": []
   },
   "outputs": [
    {
     "data": {
      "text/plain": [
       "False"
      ]
     },
     "execution_count": 18,
     "metadata": {},
     "output_type": "execute_result"
    }
   ],
   "source": [
    "index.is_overlapping # 子区间相互有没有共同点（即是否有重叠）"
   ]
  },
  {
   "cell_type": "code",
   "execution_count": 17,
   "id": "micro-venice",
   "metadata": {
    "execution": {
     "iopub.execute_input": "2021-10-14T11:42:44.547876Z",
     "iopub.status.busy": "2021-10-14T11:42:44.546877Z",
     "iopub.status.idle": "2021-10-14T11:42:44.556871Z",
     "shell.execute_reply": "2021-10-14T11:42:44.554872Z",
     "shell.execute_reply.started": "2021-10-14T11:42:44.547876Z"
    },
    "tags": []
   },
   "outputs": [
    {
     "data": {
      "text/plain": [
       "True"
      ]
     },
     "execution_count": 17,
     "metadata": {},
     "output_type": "execute_result"
    }
   ],
   "source": [
    "index.is_non_overlapping_monotonic # 判断子区间是否单调且不重合（不重合就是相互没有公共点）"
   ]
  },
  {
   "cell_type": "code",
   "execution_count": 16,
   "id": "substantial-poison",
   "metadata": {
    "execution": {
     "iopub.execute_input": "2021-10-14T11:41:18.282108Z",
     "iopub.status.busy": "2021-10-14T11:41:18.281109Z",
     "iopub.status.idle": "2021-10-14T11:41:18.290104Z",
     "shell.execute_reply": "2021-10-14T11:41:18.289104Z",
     "shell.execute_reply.started": "2021-10-14T11:41:18.282108Z"
    },
    "tags": []
   },
   "outputs": [
    {
     "data": {
      "text/plain": [
       "IntervalIndex([[0, 1), [1, 2), [2, 3), [3, 4), [4, 5)], dtype='interval[int64, left]')"
      ]
     },
     "execution_count": 16,
     "metadata": {},
     "output_type": "execute_result"
    }
   ],
   "source": [
    "index.set_closed('left') # 设置区间的包含的边界，只能包含左边界或者右边界之一"
   ]
  },
  {
   "cell_type": "code",
   "execution_count": 15,
   "id": "alternative-father",
   "metadata": {
    "execution": {
     "iopub.execute_input": "2021-10-14T11:40:35.612440Z",
     "iopub.status.busy": "2021-10-14T11:40:35.611440Z",
     "iopub.status.idle": "2021-10-14T11:40:35.618435Z",
     "shell.execute_reply": "2021-10-14T11:40:35.617438Z",
     "shell.execute_reply.started": "2021-10-14T11:40:35.612440Z"
    },
    "tags": []
   },
   "outputs": [
    {
     "data": {
      "text/plain": [
       "IntervalIndex([(0, 1], (1, 2], (2, 3], (3, 4], (4, 5], (0, 1], (1, 2], (2, 3], (3, 4], (4, 5]], dtype='interval[int64, right]')"
      ]
     },
     "execution_count": 15,
     "metadata": {},
     "output_type": "execute_result"
    }
   ],
   "source": [
    "index.append(index) # 合并"
   ]
  },
  {
   "cell_type": "code",
   "execution_count": 14,
   "id": "sexual-solid",
   "metadata": {
    "execution": {
     "iopub.execute_input": "2021-10-14T11:39:53.077164Z",
     "iopub.status.busy": "2021-10-14T11:39:53.076187Z",
     "iopub.status.idle": "2021-10-14T11:39:53.087158Z",
     "shell.execute_reply": "2021-10-14T11:39:53.085161Z",
     "shell.execute_reply.started": "2021-10-14T11:39:53.077164Z"
    },
    "tags": []
   },
   "outputs": [
    {
     "data": {
      "text/plain": [
       "<IntervalArray>\n",
       "[(0, 1], (1, 2], (2, 3], (3, 4], (4, 5]]\n",
       "Length: 5, dtype: interval[int64, right]"
      ]
     },
     "execution_count": 14,
     "metadata": {},
     "output_type": "execute_result"
    }
   ],
   "source": [
    "index.values # 转换成区间间隔数组展现"
   ]
  },
  {
   "cell_type": "code",
   "execution_count": 13,
   "id": "therapeutic-syndication",
   "metadata": {
    "execution": {
     "iopub.execute_input": "2021-10-14T11:39:17.098191Z",
     "iopub.status.busy": "2021-10-14T11:39:17.098191Z",
     "iopub.status.idle": "2021-10-14T11:39:17.104187Z",
     "shell.execute_reply": "2021-10-14T11:39:17.103188Z",
     "shell.execute_reply.started": "2021-10-14T11:39:17.098191Z"
    },
    "tags": []
   },
   "outputs": [
    {
     "data": {
      "text/plain": [
       "Int64Index([1, 1, 1, 1, 1], dtype='int64')"
      ]
     },
     "execution_count": 13,
     "metadata": {},
     "output_type": "execute_result"
    }
   ],
   "source": [
    "index.length # 每个区间的长度"
   ]
  },
  {
   "cell_type": "code",
   "execution_count": 12,
   "id": "technical-promotion",
   "metadata": {
    "execution": {
     "iopub.execute_input": "2021-10-14T11:39:01.626292Z",
     "iopub.status.busy": "2021-10-14T11:39:01.625293Z",
     "iopub.status.idle": "2021-10-14T11:39:01.631288Z",
     "shell.execute_reply": "2021-10-14T11:39:01.630291Z",
     "shell.execute_reply.started": "2021-10-14T11:39:01.626292Z"
    },
    "tags": []
   },
   "outputs": [
    {
     "data": {
      "text/plain": [
       "5"
      ]
     },
     "execution_count": 12,
     "metadata": {},
     "output_type": "execute_result"
    }
   ],
   "source": [
    "index.size # 元素个数"
   ]
  },
  {
   "cell_type": "code",
   "execution_count": 11,
   "id": "blond-species",
   "metadata": {
    "execution": {
     "iopub.execute_input": "2021-10-14T11:38:46.989166Z",
     "iopub.status.busy": "2021-10-14T11:38:46.989166Z",
     "iopub.status.idle": "2021-10-14T11:38:47.000160Z",
     "shell.execute_reply": "2021-10-14T11:38:46.998161Z",
     "shell.execute_reply.started": "2021-10-14T11:38:46.989166Z"
    },
    "tags": []
   },
   "outputs": [
    {
     "data": {
      "text/plain": [
       "(5,)"
      ]
     },
     "execution_count": 11,
     "metadata": {},
     "output_type": "execute_result"
    }
   ],
   "source": [
    "index.shape # 形状"
   ]
  },
  {
   "cell_type": "code",
   "execution_count": 10,
   "id": "executed-engagement",
   "metadata": {
    "execution": {
     "iopub.execute_input": "2021-10-14T11:37:35.333470Z",
     "iopub.status.busy": "2021-10-14T11:37:35.333470Z",
     "iopub.status.idle": "2021-10-14T11:37:35.338465Z",
     "shell.execute_reply": "2021-10-14T11:37:35.337467Z",
     "shell.execute_reply.started": "2021-10-14T11:37:35.333470Z"
    },
    "tags": []
   },
   "outputs": [
    {
     "data": {
      "text/plain": [
       "'right'"
      ]
     },
     "execution_count": 10,
     "metadata": {},
     "output_type": "execute_result"
    }
   ],
   "source": [
    "index.closed #  返回区间是左闭合还是右闭合"
   ]
  },
  {
   "cell_type": "code",
   "execution_count": 8,
   "id": "collectible-forward",
   "metadata": {
    "execution": {
     "iopub.execute_input": "2021-10-14T11:37:06.259066Z",
     "iopub.status.busy": "2021-10-14T11:37:06.259066Z",
     "iopub.status.idle": "2021-10-14T11:37:06.265062Z",
     "shell.execute_reply": "2021-10-14T11:37:06.264062Z",
     "shell.execute_reply.started": "2021-10-14T11:37:06.259066Z"
    },
    "tags": []
   },
   "outputs": [
    {
     "data": {
      "text/plain": [
       "Float64Index([0.5, 1.5, 2.5, 3.5, 4.5], dtype='float64')"
      ]
     },
     "execution_count": 8,
     "metadata": {},
     "output_type": "execute_result"
    }
   ],
   "source": [
    "index.mid # 所有区间的中间值"
   ]
  },
  {
   "cell_type": "code",
   "execution_count": 7,
   "id": "framed-trance",
   "metadata": {
    "execution": {
     "iopub.execute_input": "2021-10-14T11:36:53.075194Z",
     "iopub.status.busy": "2021-10-14T11:36:53.075194Z",
     "iopub.status.idle": "2021-10-14T11:36:53.081189Z",
     "shell.execute_reply": "2021-10-14T11:36:53.080190Z",
     "shell.execute_reply.started": "2021-10-14T11:36:53.075194Z"
    },
    "tags": []
   },
   "outputs": [
    {
     "data": {
      "text/plain": [
       "Int64Index([1, 2, 3, 4, 5], dtype='int64')"
      ]
     },
     "execution_count": 7,
     "metadata": {},
     "output_type": "execute_result"
    }
   ],
   "source": [
    "index.right # 所有区间的右边界"
   ]
  },
  {
   "cell_type": "code",
   "execution_count": 6,
   "id": "minimal-cooling",
   "metadata": {
    "execution": {
     "iopub.execute_input": "2021-10-14T11:36:25.627612Z",
     "iopub.status.busy": "2021-10-14T11:36:25.626613Z",
     "iopub.status.idle": "2021-10-14T11:36:25.633650Z",
     "shell.execute_reply": "2021-10-14T11:36:25.632609Z",
     "shell.execute_reply.started": "2021-10-14T11:36:25.627612Z"
    },
    "tags": []
   },
   "outputs": [
    {
     "data": {
      "text/plain": [
       "Int64Index([0, 1, 2, 3, 4], dtype='int64')"
      ]
     },
     "execution_count": 6,
     "metadata": {},
     "output_type": "execute_result"
    }
   ],
   "source": [
    "index.left # 所有区间的左边界"
   ]
  }
 ],
 "metadata": {
  "kernelspec": {
   "display_name": "Python 3",
   "language": "python",
   "name": "python3"
  },
  "language_info": {
   "codemirror_mode": {
    "name": "ipython",
    "version": 3
   },
   "file_extension": ".py",
   "mimetype": "text/x-python",
   "name": "python",
   "nbconvert_exporter": "python",
   "pygments_lexer": "ipython3",
   "version": "3.6.8"
  }
 },
 "nbformat": 4,
 "nbformat_minor": 5
}
