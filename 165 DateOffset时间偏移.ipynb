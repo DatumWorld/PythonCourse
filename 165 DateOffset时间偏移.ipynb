{
 "cells": [
  {
   "cell_type": "markdown",
   "metadata": {
    "azdata_cell_guid": "738c66e7-5806-4332-928c-26139eff72e5",
    "execution": {
     "iopub.execute_input": "2021-05-10T07:18:52.990449Z",
     "iopub.status.busy": "2021-05-10T07:18:52.990449Z",
     "iopub.status.idle": "2021-05-10T07:18:52.994464Z",
     "shell.execute_reply": "2021-05-10T07:18:52.993452Z",
     "shell.execute_reply.started": "2021-05-10T07:18:52.990449Z"
    }
   },
   "source": [
    "## 165 DateOffset时间偏移"
   ]
  },
  {
   "cell_type": "markdown",
   "metadata": {
    "azdata_cell_guid": "1d896d30-35f4-4f09-ad58-d938ea6fda1a"
   },
   "source": [
    "### DateOffset:时间偏移。用于时间计算 \n",
    "##### 属性：kwds freqstr"
   ]
  },
  {
   "cell_type": "code",
   "execution_count": 1,
   "metadata": {
    "azdata_cell_guid": "883d294e-1d74-4d29-9a1b-e298867fd8c8",
    "execution": {
     "iopub.execute_input": "2021-10-15T12:32:31.586906Z",
     "iopub.status.busy": "2021-10-15T12:32:31.586906Z",
     "iopub.status.idle": "2021-10-15T12:32:31.999652Z",
     "shell.execute_reply": "2021-10-15T12:32:31.999652Z",
     "shell.execute_reply.started": "2021-10-15T12:32:31.586906Z"
    },
    "tags": []
   },
   "outputs": [],
   "source": [
    "from pandas.tseries.offsets import DateOffset\n",
    "import pandas  as pd"
   ]
  },
  {
   "cell_type": "code",
   "execution_count": 2,
   "metadata": {
    "execution": {
     "iopub.execute_input": "2021-10-15T12:32:32.001649Z",
     "iopub.status.busy": "2021-10-15T12:32:32.001649Z",
     "iopub.status.idle": "2021-10-15T12:32:32.006648Z",
     "shell.execute_reply": "2021-10-15T12:32:32.005648Z",
     "shell.execute_reply.started": "2021-10-15T12:32:32.001649Z"
    },
    "tags": []
   },
   "outputs": [],
   "source": [
    "ts = pd.Timestamp('2020-01-31 09:10:11')"
   ]
  },
  {
   "cell_type": "code",
   "execution_count": 4,
   "metadata": {
    "execution": {
     "iopub.execute_input": "2021-10-15T12:33:28.562544Z",
     "iopub.status.busy": "2021-10-15T12:33:28.562544Z",
     "iopub.status.idle": "2021-10-15T12:33:28.568541Z",
     "shell.execute_reply": "2021-10-15T12:33:28.567542Z",
     "shell.execute_reply.started": "2021-10-15T12:33:28.562544Z"
    },
    "tags": []
   },
   "outputs": [
    {
     "data": {
      "text/plain": [
       "Timestamp('2020-02-01 09:10:11')"
      ]
     },
     "execution_count": 4,
     "metadata": {},
     "output_type": "execute_result"
    }
   ],
   "source": [
    "ts +DateOffset() # 默认加了1天"
   ]
  },
  {
   "cell_type": "code",
   "execution_count": 6,
   "metadata": {
    "execution": {
     "iopub.execute_input": "2021-10-15T12:35:26.017332Z",
     "iopub.status.busy": "2021-10-15T12:35:26.017332Z",
     "iopub.status.idle": "2021-10-15T12:35:26.025327Z",
     "shell.execute_reply": "2021-10-15T12:35:26.024329Z",
     "shell.execute_reply.started": "2021-10-15T12:35:26.017332Z"
    },
    "tags": []
   },
   "outputs": [
    {
     "data": {
      "text/plain": [
       "Timestamp('2021-01-03 10:45:21.000500')"
      ]
     },
     "execution_count": 6,
     "metadata": {},
     "output_type": "execute_result"
    }
   ],
   "source": [
    "ts +DateOffset(years=1,months=-1,days=3,hours=1.5,minutes=5,seconds=10,microseconds=500) # 精确指定时间偏移"
   ]
  },
  {
   "cell_type": "code",
   "execution_count": 7,
   "metadata": {
    "execution": {
     "iopub.execute_input": "2021-10-15T12:36:52.855372Z",
     "iopub.status.busy": "2021-10-15T12:36:52.854372Z",
     "iopub.status.idle": "2021-10-15T12:36:52.862367Z",
     "shell.execute_reply": "2021-10-15T12:36:52.861369Z",
     "shell.execute_reply.started": "2021-10-15T12:36:52.855372Z"
    },
    "tags": []
   },
   "outputs": [
    {
     "data": {
      "text/plain": [
       "<DateOffset: days=3, hours=1.5, microseconds=500, minutes=5, months=-1, seconds=10, years=1>"
      ]
     },
     "execution_count": 7,
     "metadata": {},
     "output_type": "execute_result"
    }
   ],
   "source": [
    "DateOffset(years=1,months=-1,days=3,hours=1.5,minutes=5,seconds=10,microseconds=500) # 查看属性信息"
   ]
  },
  {
   "cell_type": "code",
   "execution_count": 8,
   "metadata": {
    "execution": {
     "iopub.execute_input": "2021-10-15T12:37:18.637148Z",
     "iopub.status.busy": "2021-10-15T12:37:18.637148Z",
     "iopub.status.idle": "2021-10-15T12:37:18.647144Z",
     "shell.execute_reply": "2021-10-15T12:37:18.646145Z",
     "shell.execute_reply.started": "2021-10-15T12:37:18.637148Z"
    },
    "tags": []
   },
   "outputs": [
    {
     "data": {
      "text/plain": [
       "{'months': -1,\n",
       " 'hours': 1.5,\n",
       " 'days': 3,\n",
       " 'microseconds': 500,\n",
       " 'minutes': 5,\n",
       " 'seconds': 10,\n",
       " 'years': 1}"
      ]
     },
     "execution_count": 8,
     "metadata": {},
     "output_type": "execute_result"
    }
   ],
   "source": [
    "DateOffset(years=1,months=-1,days=3,hours=1.5,minutes=5,seconds=10,microseconds=500).kwds #偏移信息dict"
   ]
  },
  {
   "cell_type": "code",
   "execution_count": 10,
   "metadata": {
    "execution": {
     "iopub.execute_input": "2021-10-15T12:38:06.724124Z",
     "iopub.status.busy": "2021-10-15T12:38:06.723126Z",
     "iopub.status.idle": "2021-10-15T12:38:06.733119Z",
     "shell.execute_reply": "2021-10-15T12:38:06.732119Z",
     "shell.execute_reply.started": "2021-10-15T12:38:06.724124Z"
    },
    "tags": []
   },
   "outputs": [
    {
     "data": {
      "text/plain": [
       "'<DateOffset: days=3, hours=1.5, microseconds=500, minutes=5, months=-1, seconds=10, years=1>'"
      ]
     },
     "execution_count": 10,
     "metadata": {},
     "output_type": "execute_result"
    }
   ],
   "source": [
    "DateOffset(years=1,months=-1,days=3,hours=1.5,minutes=5,seconds=10,microseconds=500).freqstr # freqstr"
   ]
  }
 ],
 "metadata": {
  "kernelspec": {
   "display_name": "Python 3",
   "language": "python",
   "name": "python3"
  },
  "language_info": {
   "codemirror_mode": {
    "name": "ipython",
    "version": 3
   },
   "file_extension": ".py",
   "mimetype": "text/x-python",
   "name": "python",
   "nbconvert_exporter": "python",
   "pygments_lexer": "ipython3",
   "version": "3.8.5"
  }
 },
 "nbformat": 4,
 "nbformat_minor": 4
}
