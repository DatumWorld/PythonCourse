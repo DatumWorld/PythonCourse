{
 "cells": [
  {
   "cell_type": "markdown",
   "metadata": {
    "azdata_cell_guid": "738c66e7-5806-4332-928c-26139eff72e5",
    "execution": {
     "iopub.execute_input": "2021-05-10T07:18:52.990449Z",
     "iopub.status.busy": "2021-05-10T07:18:52.990449Z",
     "iopub.status.idle": "2021-05-10T07:18:52.994464Z",
     "shell.execute_reply": "2021-05-10T07:18:52.993452Z",
     "shell.execute_reply.started": "2021-05-10T07:18:52.990449Z"
    }
   },
   "source": [
    "## 166  Timedelta时间间隔计算"
   ]
  },
  {
   "cell_type": "markdown",
   "metadata": {
    "azdata_cell_guid": "1d896d30-35f4-4f09-ad58-d938ea6fda1a"
   },
   "source": [
    "###   Timedelta：时间间隔（差）计算，创建 索引 和时间类型数据四则运算 使用函数等。类似datetime.timedelta \n",
    "##### components timedelta_range"
   ]
  },
  {
   "cell_type": "code",
   "execution_count": 1,
   "metadata": {
    "azdata_cell_guid": "883d294e-1d74-4d29-9a1b-e298867fd8c8",
    "execution": {
     "iopub.execute_input": "2021-10-15T12:40:01.420740Z",
     "iopub.status.busy": "2021-10-15T12:40:01.420740Z",
     "iopub.status.idle": "2021-10-15T12:40:01.808910Z",
     "shell.execute_reply": "2021-10-15T12:40:01.808910Z",
     "shell.execute_reply.started": "2021-10-15T12:40:01.420740Z"
    },
    "tags": []
   },
   "outputs": [],
   "source": [
    "from pandas.tseries.offsets import DateOffset\n",
    "import pandas  as pd\n",
    "import datetime\n",
    "import numpy as np"
   ]
  },
  {
   "cell_type": "code",
   "execution_count": 3,
   "metadata": {
    "execution": {
     "iopub.execute_input": "2021-10-15T12:42:13.495982Z",
     "iopub.status.busy": "2021-10-15T12:42:13.494983Z",
     "iopub.status.idle": "2021-10-15T12:42:13.504977Z",
     "shell.execute_reply": "2021-10-15T12:42:13.503976Z",
     "shell.execute_reply.started": "2021-10-15T12:42:13.495982Z"
    },
    "tags": []
   },
   "outputs": [
    {
     "data": {
      "text/plain": [
       "Timedelta('0 days 00:00:01')"
      ]
     },
     "execution_count": 3,
     "metadata": {},
     "output_type": "execute_result"
    }
   ],
   "source": [
    "pd.Timedelta(1,unit='s') # 创建一个timedelta，unit 指定单位"
   ]
  },
  {
   "cell_type": "code",
   "execution_count": 6,
   "metadata": {
    "execution": {
     "iopub.execute_input": "2021-10-15T12:43:23.699331Z",
     "iopub.status.busy": "2021-10-15T12:43:23.698332Z",
     "iopub.status.idle": "2021-10-15T12:43:23.709332Z",
     "shell.execute_reply": "2021-10-15T12:43:23.707377Z",
     "shell.execute_reply.started": "2021-10-15T12:43:23.699331Z"
    },
    "tags": []
   },
   "outputs": [
    {
     "data": {
      "text/plain": [
       "Timedelta('1 days 03:00:05')"
      ]
     },
     "execution_count": 6,
     "metadata": {},
     "output_type": "execute_result"
    }
   ],
   "source": [
    "pd.Timedelta('1 day 03:00:05') # 创建一个timedelta，unit 指定单位"
   ]
  },
  {
   "cell_type": "code",
   "execution_count": 13,
   "metadata": {
    "execution": {
     "iopub.execute_input": "2021-10-15T12:46:58.711656Z",
     "iopub.status.busy": "2021-10-15T12:46:58.711656Z",
     "iopub.status.idle": "2021-10-15T12:46:58.720650Z",
     "shell.execute_reply": "2021-10-15T12:46:58.719651Z",
     "shell.execute_reply.started": "2021-10-15T12:46:58.711656Z"
    },
    "tags": []
   },
   "outputs": [
    {
     "data": {
      "text/plain": [
       "Timestamp('2020-01-02 03:00:05')"
      ]
     },
     "execution_count": 13,
     "metadata": {},
     "output_type": "execute_result"
    }
   ],
   "source": [
    "pd.Timedelta('1 day 03:00:05')+datetime.datetime(2020,1,1) # 与datetime 相加"
   ]
  },
  {
   "cell_type": "code",
   "execution_count": 9,
   "metadata": {
    "execution": {
     "iopub.execute_input": "2021-10-15T12:45:39.084140Z",
     "iopub.status.busy": "2021-10-15T12:45:39.083140Z",
     "iopub.status.idle": "2021-10-15T12:45:39.094133Z",
     "shell.execute_reply": "2021-10-15T12:45:39.092135Z",
     "shell.execute_reply.started": "2021-10-15T12:45:39.084140Z"
    },
    "tags": []
   },
   "outputs": [
    {
     "data": {
      "text/plain": [
       "Timestamp('2020-01-02 03:00:05')"
      ]
     },
     "execution_count": 9,
     "metadata": {},
     "output_type": "execute_result"
    }
   ],
   "source": [
    "pd.Timedelta('1 day 03:00:05')+pd.Timestamp('2020-01-01') # 与Timestamp 相加"
   ]
  },
  {
   "cell_type": "code",
   "execution_count": 8,
   "metadata": {
    "execution": {
     "iopub.execute_input": "2021-10-15T12:44:25.049092Z",
     "iopub.status.busy": "2021-10-15T12:44:25.049092Z",
     "iopub.status.idle": "2021-10-15T12:44:25.065079Z",
     "shell.execute_reply": "2021-10-15T12:44:25.063082Z",
     "shell.execute_reply.started": "2021-10-15T12:44:25.049092Z"
    },
    "tags": []
   },
   "outputs": [
    {
     "data": {
      "text/plain": [
       "TimedeltaIndex(['1 days 00:00:00', '1 days 06:00:00', '1 days 12:00:00',\n",
       "                '1 days 18:00:00', '2 days 00:00:00'],\n",
       "               dtype='timedelta64[ns]', freq='6H')"
      ]
     },
     "execution_count": 8,
     "metadata": {},
     "output_type": "execute_result"
    }
   ],
   "source": [
    "pd.timedelta_range(start='1 day',end='2 day',freq='6H') # 创建  TimedeltaIndex 的一种方式"
   ]
  },
  {
   "cell_type": "code",
   "execution_count": 14,
   "metadata": {
    "execution": {
     "iopub.execute_input": "2021-10-15T12:48:08.065753Z",
     "iopub.status.busy": "2021-10-15T12:48:08.065753Z",
     "iopub.status.idle": "2021-10-15T12:48:08.070749Z",
     "shell.execute_reply": "2021-10-15T12:48:08.069749Z",
     "shell.execute_reply.started": "2021-10-15T12:48:08.065753Z"
    },
    "tags": []
   },
   "outputs": [],
   "source": [
    "s=pd.Series(pd.timedelta_range(start='1 day',end='2 day',freq='6H') )"
   ]
  },
  {
   "cell_type": "code",
   "execution_count": 15,
   "metadata": {
    "execution": {
     "iopub.execute_input": "2021-10-15T12:48:12.439138Z",
     "iopub.status.busy": "2021-10-15T12:48:12.439138Z",
     "iopub.status.idle": "2021-10-15T12:48:12.444134Z",
     "shell.execute_reply": "2021-10-15T12:48:12.444134Z",
     "shell.execute_reply.started": "2021-10-15T12:48:12.439138Z"
    },
    "tags": []
   },
   "outputs": [
    {
     "data": {
      "text/plain": [
       "0   1 days 00:00:00\n",
       "1   1 days 06:00:00\n",
       "2   1 days 12:00:00\n",
       "3   1 days 18:00:00\n",
       "4   2 days 00:00:00\n",
       "dtype: timedelta64[ns]"
      ]
     },
     "execution_count": 15,
     "metadata": {},
     "output_type": "execute_result"
    }
   ],
   "source": [
    "s"
   ]
  },
  {
   "cell_type": "code",
   "execution_count": 18,
   "metadata": {
    "execution": {
     "iopub.execute_input": "2021-10-15T12:49:53.784050Z",
     "iopub.status.busy": "2021-10-15T12:49:53.783050Z",
     "iopub.status.idle": "2021-10-15T12:49:53.796041Z",
     "shell.execute_reply": "2021-10-15T12:49:53.794043Z",
     "shell.execute_reply.started": "2021-10-15T12:49:53.784050Z"
    },
    "tags": []
   },
   "outputs": [
    {
     "data": {
      "text/plain": [
       "0   2019-12-31 00:00:00\n",
       "1   2019-12-30 18:00:00\n",
       "2   2019-12-30 12:00:00\n",
       "3   2019-12-30 06:00:00\n",
       "4   2019-12-30 00:00:00\n",
       "dtype: datetime64[ns]"
      ]
     },
     "execution_count": 18,
     "metadata": {},
     "output_type": "execute_result"
    }
   ],
   "source": [
    "-s+pd.Timestamp('2020-01-01') # 序列上的减法"
   ]
  },
  {
   "cell_type": "code",
   "execution_count": 16,
   "metadata": {
    "execution": {
     "iopub.execute_input": "2021-10-15T12:48:35.894976Z",
     "iopub.status.busy": "2021-10-15T12:48:35.894976Z",
     "iopub.status.idle": "2021-10-15T12:48:35.906972Z",
     "shell.execute_reply": "2021-10-15T12:48:35.904979Z",
     "shell.execute_reply.started": "2021-10-15T12:48:35.894976Z"
    },
    "tags": []
   },
   "outputs": [
    {
     "data": {
      "text/plain": [
       "0   2020-01-02 00:00:00\n",
       "1   2020-01-02 06:00:00\n",
       "2   2020-01-02 12:00:00\n",
       "3   2020-01-02 18:00:00\n",
       "4   2020-01-03 00:00:00\n",
       "dtype: datetime64[ns]"
      ]
     },
     "execution_count": 16,
     "metadata": {},
     "output_type": "execute_result"
    }
   ],
   "source": [
    "s+pd.Timestamp('2020-01-01') # 序列上的加法"
   ]
  },
  {
   "cell_type": "code",
   "execution_count": 19,
   "metadata": {
    "execution": {
     "iopub.execute_input": "2021-10-15T12:50:46.006223Z",
     "iopub.status.busy": "2021-10-15T12:50:46.005223Z",
     "iopub.status.idle": "2021-10-15T12:50:46.019217Z",
     "shell.execute_reply": "2021-10-15T12:50:46.017219Z",
     "shell.execute_reply.started": "2021-10-15T12:50:46.006223Z"
    },
    "tags": []
   },
   "outputs": [
    {
     "data": {
      "text/plain": [
       "0     86400.0\n",
       "1    108000.0\n",
       "2    129600.0\n",
       "3    151200.0\n",
       "4    172800.0\n",
       "dtype: float64"
      ]
     },
     "execution_count": 19,
     "metadata": {},
     "output_type": "execute_result"
    }
   ],
   "source": [
    "s/pd.Timedelta(1,unit='s') # 除法"
   ]
  },
  {
   "cell_type": "code",
   "execution_count": 20,
   "metadata": {
    "execution": {
     "iopub.execute_input": "2021-10-15T12:51:33.848527Z",
     "iopub.status.busy": "2021-10-15T12:51:33.847527Z",
     "iopub.status.idle": "2021-10-15T12:51:33.861515Z",
     "shell.execute_reply": "2021-10-15T12:51:33.859518Z",
     "shell.execute_reply.started": "2021-10-15T12:51:33.848527Z"
    },
    "tags": []
   },
   "outputs": [
    {
     "data": {
      "text/plain": [
       "0    0.000012\n",
       "1    0.000009\n",
       "2    0.000008\n",
       "3    0.000007\n",
       "4    0.000006\n",
       "dtype: float64"
      ]
     },
     "execution_count": 20,
     "metadata": {},
     "output_type": "execute_result"
    }
   ],
   "source": [
    "pd.Timedelta(1,unit='s')/s #除法"
   ]
  },
  {
   "cell_type": "code",
   "execution_count": 22,
   "metadata": {
    "execution": {
     "iopub.execute_input": "2021-10-15T12:52:15.944840Z",
     "iopub.status.busy": "2021-10-15T12:52:15.944840Z",
     "iopub.status.idle": "2021-10-15T12:52:15.952830Z",
     "shell.execute_reply": "2021-10-15T12:52:15.951830Z",
     "shell.execute_reply.started": "2021-10-15T12:52:15.944840Z"
    },
    "tags": []
   },
   "outputs": [
    {
     "data": {
      "text/plain": [
       "Timedelta('0 days 00:00:02')"
      ]
     },
     "execution_count": 22,
     "metadata": {},
     "output_type": "execute_result"
    }
   ],
   "source": [
    "pd.Timedelta(1,unit='s')*2 # 乘法"
   ]
  },
  {
   "cell_type": "code",
   "execution_count": 24,
   "metadata": {
    "execution": {
     "iopub.execute_input": "2021-10-15T12:53:17.205125Z",
     "iopub.status.busy": "2021-10-15T12:53:17.204126Z",
     "iopub.status.idle": "2021-10-15T12:53:17.211121Z",
     "shell.execute_reply": "2021-10-15T12:53:17.210122Z",
     "shell.execute_reply.started": "2021-10-15T12:53:17.205125Z"
    },
    "tags": []
   },
   "outputs": [
    {
     "data": {
      "text/plain": [
       "Timedelta('1 days 03:00:06')"
      ]
     },
     "execution_count": 24,
     "metadata": {},
     "output_type": "execute_result"
    }
   ],
   "source": [
    "pd.Timedelta(1,unit='s')+pd.Timedelta('1 day 03:00:05') "
   ]
  },
  {
   "cell_type": "code",
   "execution_count": 23,
   "metadata": {
    "execution": {
     "iopub.execute_input": "2021-10-15T12:52:37.719987Z",
     "iopub.status.busy": "2021-10-15T12:52:37.718984Z",
     "iopub.status.idle": "2021-10-15T12:52:37.731977Z",
     "shell.execute_reply": "2021-10-15T12:52:37.729978Z",
     "shell.execute_reply.started": "2021-10-15T12:52:37.719987Z"
    },
    "tags": []
   },
   "outputs": [
    {
     "data": {
      "text/plain": [
       "0   2 days 00:00:00\n",
       "1   2 days 12:00:00\n",
       "2   3 days 00:00:00\n",
       "3   3 days 12:00:00\n",
       "4   4 days 00:00:00\n",
       "dtype: timedelta64[ns]"
      ]
     },
     "execution_count": 23,
     "metadata": {},
     "output_type": "execute_result"
    }
   ],
   "source": [
    "s*2 #乘法"
   ]
  },
  {
   "cell_type": "code",
   "execution_count": 25,
   "metadata": {
    "execution": {
     "iopub.execute_input": "2021-10-15T12:53:48.591069Z",
     "iopub.status.busy": "2021-10-15T12:53:48.591069Z",
     "iopub.status.idle": "2021-10-15T12:53:48.600063Z",
     "shell.execute_reply": "2021-10-15T12:53:48.599063Z",
     "shell.execute_reply.started": "2021-10-15T12:53:48.591069Z"
    },
    "tags": []
   },
   "outputs": [
    {
     "data": {
      "text/plain": [
       "0   2020-01-03 03:00:05\n",
       "1   2020-01-03 09:00:05\n",
       "2   2020-01-03 15:00:05\n",
       "3   2020-01-03 21:00:05\n",
       "4   2020-01-04 03:00:05\n",
       "dtype: datetime64[ns]"
      ]
     },
     "execution_count": 25,
     "metadata": {},
     "output_type": "execute_result"
    }
   ],
   "source": [
    "s+pd.Timestamp('2020-01-01')+pd.Timedelta('1 day 03:00:05')"
   ]
  },
  {
   "cell_type": "code",
   "execution_count": 28,
   "metadata": {
    "execution": {
     "iopub.execute_input": "2021-10-15T12:54:59.423149Z",
     "iopub.status.busy": "2021-10-15T12:54:59.422149Z",
     "iopub.status.idle": "2021-10-15T12:54:59.435138Z",
     "shell.execute_reply": "2021-10-15T12:54:59.433142Z",
     "shell.execute_reply.started": "2021-10-15T12:54:59.423149Z"
    },
    "tags": []
   },
   "outputs": [
    {
     "data": {
      "text/plain": [
       "(Timedelta('2 days 00:00:00'), Timedelta('7 days 12:00:00'))"
      ]
     },
     "execution_count": 28,
     "metadata": {},
     "output_type": "execute_result"
    }
   ],
   "source": [
    "s.max(),s.sum() # 统计函数"
   ]
  },
  {
   "cell_type": "code",
   "execution_count": 29,
   "metadata": {
    "execution": {
     "iopub.execute_input": "2021-10-15T12:55:39.243871Z",
     "iopub.status.busy": "2021-10-15T12:55:39.243871Z",
     "iopub.status.idle": "2021-10-15T12:55:39.260859Z",
     "shell.execute_reply": "2021-10-15T12:55:39.259860Z",
     "shell.execute_reply.started": "2021-10-15T12:55:39.243871Z"
    },
    "tags": []
   },
   "outputs": [
    {
     "data": {
      "text/html": [
       "<div>\n",
       "<style scoped>\n",
       "    .dataframe tbody tr th:only-of-type {\n",
       "        vertical-align: middle;\n",
       "    }\n",
       "\n",
       "    .dataframe tbody tr th {\n",
       "        vertical-align: top;\n",
       "    }\n",
       "\n",
       "    .dataframe thead th {\n",
       "        text-align: right;\n",
       "    }\n",
       "</style>\n",
       "<table border=\"1\" class=\"dataframe\">\n",
       "  <thead>\n",
       "    <tr style=\"text-align: right;\">\n",
       "      <th></th>\n",
       "      <th>days</th>\n",
       "      <th>hours</th>\n",
       "      <th>minutes</th>\n",
       "      <th>seconds</th>\n",
       "      <th>milliseconds</th>\n",
       "      <th>microseconds</th>\n",
       "      <th>nanoseconds</th>\n",
       "    </tr>\n",
       "  </thead>\n",
       "  <tbody>\n",
       "    <tr>\n",
       "      <th>0</th>\n",
       "      <td>1</td>\n",
       "      <td>0</td>\n",
       "      <td>0</td>\n",
       "      <td>0</td>\n",
       "      <td>0</td>\n",
       "      <td>0</td>\n",
       "      <td>0</td>\n",
       "    </tr>\n",
       "    <tr>\n",
       "      <th>1</th>\n",
       "      <td>1</td>\n",
       "      <td>6</td>\n",
       "      <td>0</td>\n",
       "      <td>0</td>\n",
       "      <td>0</td>\n",
       "      <td>0</td>\n",
       "      <td>0</td>\n",
       "    </tr>\n",
       "    <tr>\n",
       "      <th>2</th>\n",
       "      <td>1</td>\n",
       "      <td>12</td>\n",
       "      <td>0</td>\n",
       "      <td>0</td>\n",
       "      <td>0</td>\n",
       "      <td>0</td>\n",
       "      <td>0</td>\n",
       "    </tr>\n",
       "    <tr>\n",
       "      <th>3</th>\n",
       "      <td>1</td>\n",
       "      <td>18</td>\n",
       "      <td>0</td>\n",
       "      <td>0</td>\n",
       "      <td>0</td>\n",
       "      <td>0</td>\n",
       "      <td>0</td>\n",
       "    </tr>\n",
       "    <tr>\n",
       "      <th>4</th>\n",
       "      <td>2</td>\n",
       "      <td>0</td>\n",
       "      <td>0</td>\n",
       "      <td>0</td>\n",
       "      <td>0</td>\n",
       "      <td>0</td>\n",
       "      <td>0</td>\n",
       "    </tr>\n",
       "  </tbody>\n",
       "</table>\n",
       "</div>"
      ],
      "text/plain": [
       "   days  hours  minutes  seconds  milliseconds  microseconds  nanoseconds\n",
       "0     1      0        0        0             0             0            0\n",
       "1     1      6        0        0             0             0            0\n",
       "2     1     12        0        0             0             0            0\n",
       "3     1     18        0        0             0             0            0\n",
       "4     2      0        0        0             0             0            0"
      ]
     },
     "execution_count": 29,
     "metadata": {},
     "output_type": "execute_result"
    }
   ],
   "source": [
    "s.dt.components # dt 下的函数"
   ]
  }
 ],
 "metadata": {
  "kernelspec": {
   "display_name": "Python 3",
   "language": "python",
   "name": "python3"
  },
  "language_info": {
   "codemirror_mode": {
    "name": "ipython",
    "version": 3
   },
   "file_extension": ".py",
   "mimetype": "text/x-python",
   "name": "python",
   "nbconvert_exporter": "python",
   "pygments_lexer": "ipython3",
   "version": "3.6.8"
  }
 },
 "nbformat": 4,
 "nbformat_minor": 4
}
