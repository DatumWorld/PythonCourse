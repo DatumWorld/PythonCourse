{
 "cells": [
  {
   "cell_type": "markdown",
   "metadata": {
    "azdata_cell_guid": "738c66e7-5806-4332-928c-26139eff72e5",
    "execution": {
     "iopub.execute_input": "2021-05-10T07:18:52.990449Z",
     "iopub.status.busy": "2021-05-10T07:18:52.990449Z",
     "iopub.status.idle": "2021-05-10T07:18:52.994464Z",
     "shell.execute_reply": "2021-05-10T07:18:52.993452Z",
     "shell.execute_reply.started": "2021-05-10T07:18:52.990449Z"
    }
   },
   "source": [
    "## 167  Timestamp创建时间"
   ]
  },
  {
   "cell_type": "markdown",
   "metadata": {
    "azdata_cell_guid": "1d896d30-35f4-4f09-ad58-d938ea6fda1a"
   },
   "source": [
    "###   Timestamp：创建时间。类似datetime.datetime \n",
    "参数 ts_input=<object object>, freq=None, tz=None, unit=None, year=None, month=None, day=None, hour=None, minute=None, second=None, microsecond=None, nanosecond=None, tzinfo=None, *, fold=None"
   ]
  },
  {
   "cell_type": "code",
   "execution_count": 1,
   "metadata": {
    "azdata_cell_guid": "883d294e-1d74-4d29-9a1b-e298867fd8c8",
    "execution": {
     "iopub.execute_input": "2021-10-28T01:33:35.299662Z",
     "iopub.status.busy": "2021-10-28T01:33:35.299662Z",
     "iopub.status.idle": "2021-10-28T01:33:35.826514Z",
     "shell.execute_reply": "2021-10-28T01:33:35.826514Z",
     "shell.execute_reply.started": "2021-10-28T01:33:35.299662Z"
    },
    "tags": []
   },
   "outputs": [],
   "source": [
    "from pandas.tseries.offsets import DateOffset\n",
    "import pandas  as pd\n",
    "import datetime\n",
    "import numpy as np"
   ]
  },
  {
   "cell_type": "code",
   "execution_count": 4,
   "metadata": {
    "execution": {
     "iopub.execute_input": "2021-10-18T02:48:47.057239Z",
     "iopub.status.busy": "2021-10-18T02:48:47.057239Z",
     "iopub.status.idle": "2021-10-18T02:48:47.072993Z",
     "shell.execute_reply": "2021-10-18T02:48:47.072176Z",
     "shell.execute_reply.started": "2021-10-18T02:48:47.057239Z"
    }
   },
   "outputs": [
    {
     "data": {
      "text/plain": [
       "Timestamp('2021-10-18 10:48:47.057239')"
      ]
     },
     "execution_count": 4,
     "metadata": {},
     "output_type": "execute_result"
    }
   ],
   "source": [
    "pd.Timestamp.now() # 新增：新增获取当前时间"
   ]
  },
  {
   "cell_type": "code",
   "execution_count": 2,
   "metadata": {
    "execution": {
     "iopub.execute_input": "2021-10-16T01:27:55.249937Z",
     "iopub.status.busy": "2021-10-16T01:27:55.248939Z",
     "iopub.status.idle": "2021-10-16T01:27:55.260931Z",
     "shell.execute_reply": "2021-10-16T01:27:55.260931Z",
     "shell.execute_reply.started": "2021-10-16T01:27:55.249937Z"
    },
    "tags": []
   },
   "outputs": [
    {
     "data": {
      "text/plain": [
       "Timestamp('2020-01-01 00:00:00')"
      ]
     },
     "execution_count": 2,
     "metadata": {},
     "output_type": "execute_result"
    }
   ],
   "source": [
    "pd.Timestamp(ts_input='2020-01-01') # 创建日期时间"
   ]
  },
  {
   "cell_type": "code",
   "execution_count": 6,
   "metadata": {
    "execution": {
     "iopub.execute_input": "2021-10-16T01:29:34.968181Z",
     "iopub.status.busy": "2021-10-16T01:29:34.968181Z",
     "iopub.status.idle": "2021-10-16T01:29:34.977174Z",
     "shell.execute_reply": "2021-10-16T01:29:34.976177Z",
     "shell.execute_reply.started": "2021-10-16T01:29:34.968181Z"
    },
    "tags": []
   },
   "outputs": [
    {
     "data": {
      "text/plain": [
       "Timestamp('2020-01-01 00:00:00+0800', tz='Asia/Shanghai')"
      ]
     },
     "execution_count": 6,
     "metadata": {},
     "output_type": "execute_result"
    }
   ],
   "source": [
    "pd.Timestamp(ts_input='2020-01-01',tz='Asia/Shanghai') # 创建日期时间"
   ]
  },
  {
   "cell_type": "code",
   "execution_count": 9,
   "metadata": {
    "execution": {
     "iopub.execute_input": "2021-10-16T01:32:03.058213Z",
     "iopub.status.busy": "2021-10-16T01:32:03.057215Z",
     "iopub.status.idle": "2021-10-16T01:32:03.070204Z",
     "shell.execute_reply": "2021-10-16T01:32:03.068204Z",
     "shell.execute_reply.started": "2021-10-16T01:32:03.058213Z"
    },
    "tags": []
   },
   "outputs": [
    {
     "data": {
      "text/plain": [
       "Timestamp('1970-01-01 00:00:01.500000')"
      ]
     },
     "execution_count": 9,
     "metadata": {},
     "output_type": "execute_result"
    }
   ],
   "source": [
    "pd.Timestamp(ts_input=1.5,unit='s') # 创建日期时间,使用数字表示时间的偏移量。unit 偏移的时间单位"
   ]
  },
  {
   "cell_type": "code",
   "execution_count": 10,
   "metadata": {
    "execution": {
     "iopub.execute_input": "2021-10-16T01:33:10.423718Z",
     "iopub.status.busy": "2021-10-16T01:33:10.423718Z",
     "iopub.status.idle": "2021-10-16T01:33:10.436706Z",
     "shell.execute_reply": "2021-10-16T01:33:10.434708Z",
     "shell.execute_reply.started": "2021-10-16T01:33:10.423718Z"
    },
    "tags": []
   },
   "outputs": [
    {
     "data": {
      "text/plain": [
       "Timestamp('2020-01-01 10:02:50')"
      ]
     },
     "execution_count": 10,
     "metadata": {},
     "output_type": "execute_result"
    }
   ],
   "source": [
    "pd.Timestamp(year=2020,month=1,day=1,hour=10,minute=2,second=50) # 创建日期时间年月日时分秒"
   ]
  },
  {
   "cell_type": "code",
   "execution_count": 17,
   "metadata": {
    "execution": {
     "iopub.execute_input": "2021-10-16T01:35:58.730864Z",
     "iopub.status.busy": "2021-10-16T01:35:58.729864Z",
     "iopub.status.idle": "2021-10-16T01:35:58.736865Z",
     "shell.execute_reply": "2021-10-16T01:35:58.735862Z",
     "shell.execute_reply.started": "2021-10-16T01:35:58.730864Z"
    },
    "tags": []
   },
   "outputs": [
    {
     "data": {
      "text/plain": [
       "Timestamp('2020-01-01 10:02:50.005500300')"
      ]
     },
     "execution_count": 17,
     "metadata": {},
     "output_type": "execute_result"
    }
   ],
   "source": [
    "pd.Timestamp(year=2020,month=1,day=1,hour=10,minute=2,second=50,microsecond=5500,nanosecond=300) # 创建日期时间年月日时分秒微妙纳秒"
   ]
  },
  {
   "cell_type": "code",
   "execution_count": 18,
   "metadata": {
    "execution": {
     "iopub.execute_input": "2021-10-16T01:37:04.807216Z",
     "iopub.status.busy": "2021-10-16T01:37:04.807216Z",
     "iopub.status.idle": "2021-10-16T01:37:04.819209Z",
     "shell.execute_reply": "2021-10-16T01:37:04.818209Z",
     "shell.execute_reply.started": "2021-10-16T01:37:04.807216Z"
    },
    "tags": []
   },
   "outputs": [
    {
     "name": "stderr",
     "output_type": "stream",
     "text": [
      "<ipython-input-18-81664fe9bdff>:1: FutureWarning: The 'freq' argument in Timestamp is deprecated and will be removed in a future version.\n",
      "  pd.Timestamp(year=2020,month=1,day=1,hour=10,minute=2,second=50,microsecond=5500,nanosecond=300,freq='D') # 创建日期时间年月日时分秒微妙纳秒\n"
     ]
    },
    {
     "data": {
      "text/plain": [
       "Timestamp('2020-01-01 10:02:50.005500300', freq='D')"
      ]
     },
     "execution_count": 18,
     "metadata": {},
     "output_type": "execute_result"
    }
   ],
   "source": [
    "pd.Timestamp(year=2020,month=1,day=1,hour=10,minute=2,second=50,microsecond=5500,nanosecond=300,freq='D') # freq 官方声明已经弃用"
   ]
  },
  {
   "cell_type": "code",
   "execution_count": 26,
   "metadata": {
    "execution": {
     "iopub.execute_input": "2021-10-16T01:40:18.273847Z",
     "iopub.status.busy": "2021-10-16T01:40:18.272846Z",
     "iopub.status.idle": "2021-10-16T01:40:18.279842Z",
     "shell.execute_reply": "2021-10-16T01:40:18.278843Z",
     "shell.execute_reply.started": "2021-10-16T01:40:18.273847Z"
    },
    "tags": []
   },
   "outputs": [
    {
     "data": {
      "text/plain": [
       "Timedelta('-61 days +12:24:00')"
      ]
     },
     "execution_count": 26,
     "metadata": {},
     "output_type": "execute_result"
    }
   ],
   "source": [
    "pd.Timestamp(ts_input='2020-01-01 21:30:00')-datetime.datetime(2020,3,2,9,6) # 计算时差。"
   ]
  },
  {
   "cell_type": "code",
   "execution_count": 30,
   "metadata": {
    "execution": {
     "iopub.execute_input": "2021-10-16T01:43:37.790548Z",
     "iopub.status.busy": "2021-10-16T01:43:37.789554Z",
     "iopub.status.idle": "2021-10-16T01:43:37.797544Z",
     "shell.execute_reply": "2021-10-16T01:43:37.796545Z",
     "shell.execute_reply.started": "2021-10-16T01:43:37.790548Z"
    },
    "tags": []
   },
   "outputs": [
    {
     "data": {
      "text/plain": [
       "False"
      ]
     },
     "execution_count": 30,
     "metadata": {},
     "output_type": "execute_result"
    }
   ],
   "source": [
    "pd.Timestamp(ts_input='2020-01-01 21:30:00')>datetime.datetime(2020,3,2,9,6) # 时间比较。"
   ]
  },
  {
   "cell_type": "code",
   "execution_count": 28,
   "metadata": {
    "execution": {
     "iopub.execute_input": "2021-10-16T01:42:01.637081Z",
     "iopub.status.busy": "2021-10-16T01:42:01.636079Z",
     "iopub.status.idle": "2021-10-16T01:42:01.652070Z",
     "shell.execute_reply": "2021-10-16T01:42:01.649071Z",
     "shell.execute_reply.started": "2021-10-16T01:42:01.637081Z"
    },
    "tags": []
   },
   "outputs": [
    {
     "data": {
      "text/plain": [
       "Timedelta('0 days 00:00:00')"
      ]
     },
     "execution_count": 28,
     "metadata": {},
     "output_type": "execute_result"
    }
   ],
   "source": [
    "pd.Timestamp(ts_input='2020-01-01 21:30:00')-pd.Timestamp(ts_input='2020-01-01 21:30:00') # 计算时差。两个 timestamp "
   ]
  },
  {
   "cell_type": "code",
   "execution_count": 29,
   "metadata": {
    "execution": {
     "iopub.execute_input": "2021-10-16T01:42:19.794919Z",
     "iopub.status.busy": "2021-10-16T01:42:19.793920Z",
     "iopub.status.idle": "2021-10-16T01:42:19.803914Z",
     "shell.execute_reply": "2021-10-16T01:42:19.802914Z",
     "shell.execute_reply.started": "2021-10-16T01:42:19.794919Z"
    },
    "tags": []
   },
   "outputs": [
    {
     "data": {
      "text/plain": [
       "False"
      ]
     },
     "execution_count": 29,
     "metadata": {},
     "output_type": "execute_result"
    }
   ],
   "source": [
    "pd.Timestamp(ts_input='2020-01-01 21:30:00')>pd.Timestamp(ts_input='2020-01-01 21:30:00') # 时间比较。两个 timestamp "
   ]
  },
  {
   "cell_type": "code",
   "execution_count": 25,
   "metadata": {
    "execution": {
     "iopub.execute_input": "2021-10-28T01:45:54.051564Z",
     "iopub.status.busy": "2021-10-28T01:45:54.051564Z",
     "iopub.status.idle": "2021-10-28T01:45:54.082832Z",
     "shell.execute_reply": "2021-10-28T01:45:54.081764Z",
     "shell.execute_reply.started": "2021-10-28T01:45:54.051564Z"
    }
   },
   "outputs": [
    {
     "data": {
      "text/plain": [
       "(2020,\n",
       " 1,\n",
       " 1,\n",
       " 0,\n",
       " 0,\n",
       " 0,\n",
       " 1,\n",
       " 1,\n",
       " datetime.date(2020, 1, 1),\n",
       " datetime.time(21, 30, 1),\n",
       " 'January',\n",
       " 2,\n",
       " 1,\n",
       " True,\n",
       " False)"
      ]
     },
     "execution_count": 25,
     "metadata": {},
     "output_type": "execute_result"
    }
   ],
   "source": [
    "(pd.Timestamp(ts_input='2020-01-01').year, pd.Timestamp(ts_input='2020-01-01').month,pd.Timestamp(ts_input='2020-01-01').day,\n",
    "pd.Timestamp(ts_input='2020-01-01').hour,pd.Timestamp(ts_input='2020-01-01').minute,pd.Timestamp(ts_input='2020-01-01').second,\n",
    "pd.Timestamp(ts_input='2020-01-01').quarter,pd.Timestamp(ts_input='2020-01-01').week,\n",
    "pd.Timestamp(ts_input='2020-01-01').date(),pd.Timestamp(ts_input='2020-01-01  21:30:01').time(),\n",
    "pd.Timestamp(ts_input='2020-01-01').month_name(),pd.Timestamp(ts_input='2020-01-01').weekday(),\n",
    "pd.Timestamp(ts_input='2020-01-01').weekofyear,\n",
    "pd.Timestamp(ts_input='2020-01-01').is_leap_year,pd.Timestamp(ts_input='2020-01-01').is_month_end)\n",
    "# 新增。时间日期 的  年月日时分秒 季度 周几  日期 时间 月份名 等等等等。。。。。。。"
   ]
  }
 ],
 "metadata": {
  "kernelspec": {
   "display_name": "Python 3",
   "language": "python",
   "name": "python3"
  },
  "language_info": {
   "codemirror_mode": {
    "name": "ipython",
    "version": 3
   },
   "file_extension": ".py",
   "mimetype": "text/x-python",
   "name": "python",
   "nbconvert_exporter": "python",
   "pygments_lexer": "ipython3",
   "version": "3.6.8"
  }
 },
 "nbformat": 4,
 "nbformat_minor": 4
}
