{
 "cells": [
  {
   "cell_type": "markdown",
   "metadata": {
    "azdata_cell_guid": "738c66e7-5806-4332-928c-26139eff72e5",
    "execution": {
     "iopub.execute_input": "2021-05-10T07:18:52.990449Z",
     "iopub.status.busy": "2021-05-10T07:18:52.990449Z",
     "iopub.status.idle": "2021-05-10T07:18:52.994464Z",
     "shell.execute_reply": "2021-05-10T07:18:52.993452Z",
     "shell.execute_reply.started": "2021-05-10T07:18:52.990449Z"
    }
   },
   "source": [
    "## 168  数字类型与计算范围"
   ]
  },
  {
   "cell_type": "markdown",
   "metadata": {
    "azdata_cell_guid": "1d896d30-35f4-4f09-ad58-d938ea6fda1a"
   },
   "source": [
    "###   数字类型与计算范围"
   ]
  },
  {
   "cell_type": "code",
   "execution_count": 22,
   "metadata": {
    "azdata_cell_guid": "883d294e-1d74-4d29-9a1b-e298867fd8c8",
    "execution": {
     "iopub.execute_input": "2021-10-16T02:05:56.522262Z",
     "iopub.status.busy": "2021-10-16T02:05:56.521267Z",
     "iopub.status.idle": "2021-10-16T02:05:56.528260Z",
     "shell.execute_reply": "2021-10-16T02:05:56.526269Z",
     "shell.execute_reply.started": "2021-10-16T02:05:56.522262Z"
    },
    "tags": []
   },
   "outputs": [],
   "source": [
    "import pandas  as pd\n",
    "import numpy as np"
   ]
  },
  {
   "cell_type": "code",
   "execution_count": 37,
   "metadata": {
    "execution": {
     "iopub.execute_input": "2021-10-16T02:15:40.072029Z",
     "iopub.status.busy": "2021-10-16T02:15:40.072029Z",
     "iopub.status.idle": "2021-10-16T02:15:40.076027Z",
     "shell.execute_reply": "2021-10-16T02:15:40.076027Z",
     "shell.execute_reply.started": "2021-10-16T02:15:40.072029Z"
    },
    "tags": []
   },
   "outputs": [
    {
     "data": {
      "text/plain": [
       "int"
      ]
     },
     "execution_count": 37,
     "metadata": {},
     "output_type": "execute_result"
    }
   ],
   "source": [
    "type(88888**4)"
   ]
  },
  {
   "cell_type": "code",
   "execution_count": 31,
   "metadata": {
    "execution": {
     "iopub.execute_input": "2021-10-16T02:11:40.987904Z",
     "iopub.status.busy": "2021-10-16T02:11:40.986905Z",
     "iopub.status.idle": "2021-10-16T02:11:40.992901Z",
     "shell.execute_reply": "2021-10-16T02:11:40.991916Z",
     "shell.execute_reply.started": "2021-10-16T02:11:40.987904Z"
    },
    "tags": []
   },
   "outputs": [
    {
     "data": {
      "text/plain": [
       "(7901076544, 62427010554146983936)"
      ]
     },
     "execution_count": 31,
     "metadata": {},
     "output_type": "execute_result"
    }
   ],
   "source": [
    "88888**2,88888**4"
   ]
  },
  {
   "cell_type": "code",
   "execution_count": 24,
   "metadata": {
    "execution": {
     "iopub.execute_input": "2021-10-16T02:08:22.778809Z",
     "iopub.status.busy": "2021-10-16T02:08:22.778809Z",
     "iopub.status.idle": "2021-10-16T02:08:22.784804Z",
     "shell.execute_reply": "2021-10-16T02:08:22.783806Z",
     "shell.execute_reply.started": "2021-10-16T02:08:22.778809Z"
    },
    "tags": []
   },
   "outputs": [
    {
     "data": {
      "text/plain": [
       "4294967296"
      ]
     },
     "execution_count": 24,
     "metadata": {},
     "output_type": "execute_result"
    }
   ],
   "source": [
    "2**32 # int32 "
   ]
  },
  {
   "cell_type": "code",
   "execution_count": 25,
   "metadata": {
    "execution": {
     "iopub.execute_input": "2021-10-16T02:08:49.993403Z",
     "iopub.status.busy": "2021-10-16T02:08:49.993403Z",
     "iopub.status.idle": "2021-10-16T02:08:49.998386Z",
     "shell.execute_reply": "2021-10-16T02:08:49.997388Z",
     "shell.execute_reply.started": "2021-10-16T02:08:49.993403Z"
    },
    "tags": []
   },
   "outputs": [
    {
     "data": {
      "text/plain": [
       "18446744073709551616"
      ]
     },
     "execution_count": 25,
     "metadata": {},
     "output_type": "execute_result"
    }
   ],
   "source": [
    "2**64 # int64"
   ]
  },
  {
   "cell_type": "code",
   "execution_count": 36,
   "metadata": {
    "execution": {
     "iopub.execute_input": "2021-10-16T02:15:23.490846Z",
     "iopub.status.busy": "2021-10-16T02:15:23.490846Z",
     "iopub.status.idle": "2021-10-16T02:15:23.506836Z",
     "shell.execute_reply": "2021-10-16T02:15:23.504841Z",
     "shell.execute_reply.started": "2021-10-16T02:15:23.490846Z"
    },
    "tags": []
   },
   "outputs": [
    {
     "data": {
      "text/plain": [
       "0    7086778333018329088\n",
       "dtype: Int64"
      ]
     },
     "execution_count": 36,
     "metadata": {},
     "output_type": "execute_result"
    }
   ],
   "source": [
    "pd.Series(88888,dtype=pd.Int64Dtype())**4 # 计算与上面接近。int转成float再计算，精度可能会发生变化"
   ]
  },
  {
   "cell_type": "code",
   "execution_count": 35,
   "metadata": {
    "execution": {
     "iopub.execute_input": "2021-10-16T02:13:51.931088Z",
     "iopub.status.busy": "2021-10-16T02:13:51.930088Z",
     "iopub.status.idle": "2021-10-16T02:13:51.938084Z",
     "shell.execute_reply": "2021-10-16T02:13:51.937084Z",
     "shell.execute_reply.started": "2021-10-16T02:13:51.931088Z"
    },
    "tags": []
   },
   "outputs": [
    {
     "data": {
      "text/plain": [
       "0    62427010554146979840.0\n",
       "dtype: Float64"
      ]
     },
     "execution_count": 35,
     "metadata": {},
     "output_type": "execute_result"
    }
   ],
   "source": [
    "pd.Series(88888,dtype=pd.Float64Dtype())**4 # 计算与上面接近。int转成float再计算，精度可能会发生变化"
   ]
  },
  {
   "cell_type": "code",
   "execution_count": 34,
   "metadata": {
    "execution": {
     "iopub.execute_input": "2021-10-16T02:12:37.356417Z",
     "iopub.status.busy": "2021-10-16T02:12:37.355420Z",
     "iopub.status.idle": "2021-10-16T02:12:37.372407Z",
     "shell.execute_reply": "2021-10-16T02:12:37.370408Z",
     "shell.execute_reply.started": "2021-10-16T02:12:37.356417Z"
    },
    "tags": []
   },
   "outputs": [
    {
     "data": {
      "text/plain": [
       "0    6.242701e+19\n",
       "dtype: float64"
      ]
     },
     "execution_count": 34,
     "metadata": {},
     "output_type": "execute_result"
    }
   ],
   "source": [
    "pd.Series(88888,dtype='float64')**4 # 计算与上面接近"
   ]
  },
  {
   "cell_type": "code",
   "execution_count": 32,
   "metadata": {
    "execution": {
     "iopub.execute_input": "2021-10-16T02:12:15.567628Z",
     "iopub.status.busy": "2021-10-16T02:12:15.567628Z",
     "iopub.status.idle": "2021-10-16T02:12:15.575621Z",
     "shell.execute_reply": "2021-10-16T02:12:15.574621Z",
     "shell.execute_reply.started": "2021-10-16T02:12:15.567628Z"
    },
    "tags": []
   },
   "outputs": [
    {
     "data": {
      "text/plain": [
       "0    7086778333018329088\n",
       "dtype: int64"
      ]
     },
     "execution_count": 32,
     "metadata": {},
     "output_type": "execute_result"
    }
   ],
   "source": [
    "pd.Series(88888,dtype='int64')**4 #  对照，发现不同"
   ]
  },
  {
   "cell_type": "code",
   "execution_count": 28,
   "metadata": {
    "execution": {
     "iopub.execute_input": "2021-10-16T02:10:44.371153Z",
     "iopub.status.busy": "2021-10-16T02:10:44.371153Z",
     "iopub.status.idle": "2021-10-16T02:10:44.380148Z",
     "shell.execute_reply": "2021-10-16T02:10:44.379148Z",
     "shell.execute_reply.started": "2021-10-16T02:10:44.371153Z"
    },
    "tags": []
   },
   "outputs": [
    {
     "data": {
      "text/plain": [
       "0    7901076544\n",
       "dtype: int64"
      ]
     },
     "execution_count": 28,
     "metadata": {},
     "output_type": "execute_result"
    }
   ],
   "source": [
    "pd.Series(88888,dtype='int64')**2 # 正常"
   ]
  },
  {
   "cell_type": "code",
   "execution_count": 27,
   "metadata": {
    "execution": {
     "iopub.execute_input": "2021-10-16T02:09:39.102966Z",
     "iopub.status.busy": "2021-10-16T02:09:39.102966Z",
     "iopub.status.idle": "2021-10-16T02:09:39.111961Z",
     "shell.execute_reply": "2021-10-16T02:09:39.109973Z",
     "shell.execute_reply.started": "2021-10-16T02:09:39.102966Z"
    },
    "tags": []
   },
   "outputs": [
    {
     "data": {
      "text/plain": [
       "0   -688858048\n",
       "dtype: int32"
      ]
     },
     "execution_count": 27,
     "metadata": {},
     "output_type": "execute_result"
    }
   ],
   "source": [
    "pd.Series(88888,dtype='int32')**2 # 对照 ，发现结果超范围，出错"
   ]
  }
 ],
 "metadata": {
  "kernelspec": {
   "display_name": "Python 3",
   "language": "python",
   "name": "python3"
  },
  "language_info": {
   "codemirror_mode": {
    "name": "ipython",
    "version": 3
   },
   "file_extension": ".py",
   "mimetype": "text/x-python",
   "name": "python",
   "nbconvert_exporter": "python",
   "pygments_lexer": "ipython3",
   "version": "3.6.8"
  }
 },
 "nbformat": 4,
 "nbformat_minor": 4
}
