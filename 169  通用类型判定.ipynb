{
 "cells": [
  {
   "cell_type": "markdown",
   "metadata": {
    "azdata_cell_guid": "738c66e7-5806-4332-928c-26139eff72e5",
    "execution": {
     "iopub.execute_input": "2021-05-10T07:18:52.990449Z",
     "iopub.status.busy": "2021-05-10T07:18:52.990449Z",
     "iopub.status.idle": "2021-05-10T07:18:52.994464Z",
     "shell.execute_reply": "2021-05-10T07:18:52.993452Z",
     "shell.execute_reply.started": "2021-05-10T07:18:52.990449Z"
    }
   },
   "source": [
    "## 169  通用类型判定"
   ]
  },
  {
   "cell_type": "markdown",
   "metadata": {
    "azdata_cell_guid": "1d896d30-35f4-4f09-ad58-d938ea6fda1a"
   },
   "source": [
    "###   pandas.api.types：通用类型判定,判断某个对象实例 或者 某种类型 是否属于指定类型。\n",
    "##### is_number is_integer is_float  is_bool   infer_dtype is_string_dtype is_numeric_dtype \n",
    "##### is_unsigned_integer_dtype   is_signed_integer_dtype is_period_dtype is_interval_dtype  is_re is_object_dtype  is_int64_dtype is_float_dtype\n",
    "##### is_datetime64_dtype is_complex_dtype is_categorical_dtype   is_complex is_file_like is_categorical is_list_like is_dict_like is_sparse is_bool_dtype"
   ]
  },
  {
   "cell_type": "code",
   "execution_count": 46,
   "metadata": {
    "azdata_cell_guid": "883d294e-1d74-4d29-9a1b-e298867fd8c8",
    "execution": {
     "iopub.execute_input": "2021-10-15T22:51:22.760023Z",
     "iopub.status.busy": "2021-10-15T22:51:22.760023Z",
     "iopub.status.idle": "2021-10-15T22:51:22.769018Z",
     "shell.execute_reply": "2021-10-15T22:51:22.767016Z",
     "shell.execute_reply.started": "2021-10-15T22:51:22.760023Z"
    },
    "tags": []
   },
   "outputs": [],
   "source": [
    "import pandas  as pd\n",
    "import numpy as np\n",
    "from pandas.api.types import is_number,is_numeric_dtype,is_string_dtype,is_integer, is_float , is_bool,infer_dtype \n",
    "import datetime"
   ]
  },
  {
   "cell_type": "code",
   "execution_count": 42,
   "metadata": {
    "execution": {
     "iopub.execute_input": "2021-10-15T22:50:05.127270Z",
     "iopub.status.busy": "2021-10-15T22:50:05.127270Z",
     "iopub.status.idle": "2021-10-15T22:50:05.133266Z",
     "shell.execute_reply": "2021-10-15T22:50:05.132273Z",
     "shell.execute_reply.started": "2021-10-15T22:50:05.127270Z"
    },
    "tags": []
   },
   "outputs": [
    {
     "data": {
      "text/plain": [
       "(True, False, False, True)"
      ]
     },
     "execution_count": 42,
     "metadata": {},
     "output_type": "execute_result"
    }
   ],
   "source": [
    "is_numeric_dtype(int),is_numeric_dtype(1),is_numeric_dtype([1.5]),is_numeric_dtype(np.array(2)) \n",
    "# 判断 某个 类型 或者 对象是否 数字 类型"
   ]
  },
  {
   "cell_type": "code",
   "execution_count": 44,
   "metadata": {
    "execution": {
     "iopub.execute_input": "2021-10-15T22:51:07.283716Z",
     "iopub.status.busy": "2021-10-15T22:51:07.283716Z",
     "iopub.status.idle": "2021-10-15T22:51:07.296708Z",
     "shell.execute_reply": "2021-10-15T22:51:07.294710Z",
     "shell.execute_reply.started": "2021-10-15T22:51:07.283716Z"
    },
    "tags": []
   },
   "outputs": [
    {
     "ename": "NameError",
     "evalue": "name 'is_string' is not defined",
     "output_type": "error",
     "traceback": [
      "\u001b[1;31m---------------------------------------------------------------------------\u001b[0m",
      "\u001b[1;31mNameError\u001b[0m                                 Traceback (most recent call last)",
      "\u001b[1;32m<ipython-input-44-637abf2d20cb>\u001b[0m in \u001b[0;36m<module>\u001b[1;34m\u001b[0m\n\u001b[1;32m----> 1\u001b[1;33m \u001b[0mis_string\u001b[0m\u001b[1;33m(\u001b[0m\u001b[1;36m2\u001b[0m\u001b[1;33m)\u001b[0m\u001b[1;33m\u001b[0m\u001b[1;33m\u001b[0m\u001b[0m\n\u001b[0m",
      "\u001b[1;31mNameError\u001b[0m: name 'is_string' is not defined"
     ]
    }
   ],
   "source": [
    "is_string(2) # 没有这个"
   ]
  },
  {
   "cell_type": "code",
   "execution_count": 47,
   "metadata": {
    "execution": {
     "iopub.execute_input": "2021-10-15T22:54:02.430921Z",
     "iopub.status.busy": "2021-10-15T22:54:02.430921Z",
     "iopub.status.idle": "2021-10-15T22:54:02.438914Z",
     "shell.execute_reply": "2021-10-15T22:54:02.437916Z",
     "shell.execute_reply.started": "2021-10-15T22:54:02.430921Z"
    },
    "tags": []
   },
   "outputs": [
    {
     "data": {
      "text/plain": [
       "(True, True, False, True, True, True)"
      ]
     },
     "execution_count": 47,
     "metadata": {},
     "output_type": "execute_result"
    }
   ],
   "source": [
    "is_string_dtype(str), is_string_dtype(pd.StringDtype()),is_string_dtype(['a','b2']),is_string_dtype('c'),is_string_dtype(pd.Series(['a'])),is_string_dtype(np.array(['a']))\n",
    "# 判断 某个 类型 或者 对象是否 string 类型"
   ]
  },
  {
   "cell_type": "code",
   "execution_count": 49,
   "metadata": {
    "execution": {
     "iopub.execute_input": "2021-10-15T22:54:56.343752Z",
     "iopub.status.busy": "2021-10-15T22:54:56.343752Z",
     "iopub.status.idle": "2021-10-15T22:54:56.356741Z",
     "shell.execute_reply": "2021-10-15T22:54:56.354745Z",
     "shell.execute_reply.started": "2021-10-15T22:54:56.343752Z"
    },
    "tags": []
   },
   "outputs": [
    {
     "data": {
      "text/plain": [
       "('integer', 'integer', 'integer')"
      ]
     },
     "execution_count": 49,
     "metadata": {},
     "output_type": "execute_result"
    }
   ],
   "source": [
    "infer_dtype([2]),infer_dtype(np.array([2])),infer_dtype(pd.Series(np.array([2]))) # 推断 类似list结构的对象的数据类型"
   ]
  },
  {
   "cell_type": "code",
   "execution_count": 16,
   "metadata": {
    "execution": {
     "iopub.execute_input": "2021-10-15T22:39:03.792331Z",
     "iopub.status.busy": "2021-10-15T22:39:03.791332Z",
     "iopub.status.idle": "2021-10-15T22:39:03.798327Z",
     "shell.execute_reply": "2021-10-15T22:39:03.797328Z",
     "shell.execute_reply.started": "2021-10-15T22:39:03.792331Z"
    },
    "tags": []
   },
   "outputs": [
    {
     "data": {
      "text/plain": [
       "(False, False, False, True, True)"
      ]
     },
     "execution_count": 16,
     "metadata": {},
     "output_type": "execute_result"
    }
   ],
   "source": [
    "is_bool(2),is_bool(0),is_bool(1),is_bool(True),is_bool(False) # 是否bool类型"
   ]
  },
  {
   "cell_type": "code",
   "execution_count": 21,
   "metadata": {
    "execution": {
     "iopub.execute_input": "2021-10-15T22:41:02.486514Z",
     "iopub.status.busy": "2021-10-15T22:41:02.485514Z",
     "iopub.status.idle": "2021-10-15T22:41:02.494508Z",
     "shell.execute_reply": "2021-10-15T22:41:02.493510Z",
     "shell.execute_reply.started": "2021-10-15T22:41:02.485514Z"
    },
    "tags": []
   },
   "outputs": [
    {
     "data": {
      "text/plain": [
       "(True, False)"
      ]
     },
     "execution_count": 21,
     "metadata": {},
     "output_type": "execute_result"
    }
   ],
   "source": [
    "is_float(2.5),is_float(2) # 判断是否是float"
   ]
  },
  {
   "cell_type": "code",
   "execution_count": 22,
   "metadata": {
    "execution": {
     "iopub.execute_input": "2021-10-15T22:41:19.152921Z",
     "iopub.status.busy": "2021-10-15T22:41:19.151922Z",
     "iopub.status.idle": "2021-10-15T22:41:19.157919Z",
     "shell.execute_reply": "2021-10-15T22:41:19.156919Z",
     "shell.execute_reply.started": "2021-10-15T22:41:19.152921Z"
    },
    "tags": []
   },
   "outputs": [
    {
     "data": {
      "text/plain": [
       "(True, False, False, False)"
      ]
     },
     "execution_count": 22,
     "metadata": {},
     "output_type": "execute_result"
    }
   ],
   "source": [
    "is_integer(2),is_integer(2.5),is_integer(True),is_integer(False) # 判断是否是整数"
   ]
  },
  {
   "cell_type": "code",
   "execution_count": 23,
   "metadata": {
    "execution": {
     "iopub.execute_input": "2021-10-15T22:41:42.355067Z",
     "iopub.status.busy": "2021-10-15T22:41:42.355067Z",
     "iopub.status.idle": "2021-10-15T22:41:42.362060Z",
     "shell.execute_reply": "2021-10-15T22:41:42.361062Z",
     "shell.execute_reply.started": "2021-10-15T22:41:42.355067Z"
    },
    "tags": []
   },
   "outputs": [
    {
     "data": {
      "text/plain": [
       "(False, True, False, True, True, True)"
      ]
     },
     "execution_count": 23,
     "metadata": {},
     "output_type": "execute_result"
    }
   ],
   "source": [
    "is_number('2q'),is_number(2),is_number('2'),is_number(2.5),is_number(True),is_number(False) # 判断是否数字。注意 True False"
   ]
  }
 ],
 "metadata": {
  "kernelspec": {
   "display_name": "Python 3",
   "language": "python",
   "name": "python3"
  },
  "language_info": {
   "codemirror_mode": {
    "name": "ipython",
    "version": 3
   },
   "file_extension": ".py",
   "mimetype": "text/x-python",
   "name": "python",
   "nbconvert_exporter": "python",
   "pygments_lexer": "ipython3",
   "version": "3.6.8"
  }
 },
 "nbformat": 4,
 "nbformat_minor": 4
}
