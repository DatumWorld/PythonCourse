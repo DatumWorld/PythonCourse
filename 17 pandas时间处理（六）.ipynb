{
 "cells": [
  {
   "cell_type": "markdown",
   "id": "vocational-london",
   "metadata": {
    "execution": {
     "iopub.execute_input": "2021-05-10T07:18:52.990449Z",
     "iopub.status.busy": "2021-05-10T07:18:52.990449Z",
     "iopub.status.idle": "2021-05-10T07:18:52.994464Z",
     "shell.execute_reply": "2021-05-10T07:18:52.993452Z",
     "shell.execute_reply.started": "2021-05-10T07:18:52.990449Z"
    }
   },
   "source": [
    "## pandas时间处理（六）"
   ]
  },
  {
   "cell_type": "markdown",
   "id": "legitimate-teach",
   "metadata": {},
   "source": [
    "### date_range用法。\n",
    "#### 含 freq=B W M SM BM MS BMS Q BQ QS BQS A, Y  AS, YS  BAS, BYS   H  T, min   S   \n",
    "#### 更详细参见官方文档 https://pandas.pydata.org/pandas-docs/stable/user_guide/timeseries.html#dateoffset-objects"
   ]
  },
  {
   "cell_type": "code",
   "execution_count": 8,
   "id": "consecutive-bhutan",
   "metadata": {
    "execution": {
     "iopub.execute_input": "2021-06-03T05:59:31.909391Z",
     "iopub.status.busy": "2021-06-03T05:59:31.909391Z",
     "iopub.status.idle": "2021-06-03T05:59:31.911424Z",
     "shell.execute_reply": "2021-06-03T05:59:31.911424Z",
     "shell.execute_reply.started": "2021-06-03T05:59:31.909391Z"
    }
   },
   "outputs": [],
   "source": [
    "import pandas as pd"
   ]
  },
  {
   "cell_type": "code",
   "execution_count": 37,
   "id": "activated-spain",
   "metadata": {
    "execution": {
     "iopub.execute_input": "2021-06-03T06:13:43.219392Z",
     "iopub.status.busy": "2021-06-03T06:13:43.218390Z",
     "iopub.status.idle": "2021-06-03T06:13:43.237395Z",
     "shell.execute_reply": "2021-06-03T06:13:43.235395Z",
     "shell.execute_reply.started": "2021-06-03T06:13:43.219392Z"
    }
   },
   "outputs": [
    {
     "data": {
      "text/plain": [
       "DatetimeIndex(['2020-01-01 00:00:00', '2020-01-01 02:10:00',\n",
       "               '2020-01-01 04:20:00', '2020-01-01 06:30:00',\n",
       "               '2020-01-01 08:40:00', '2020-01-01 10:50:00',\n",
       "               '2020-01-01 13:00:00', '2020-01-01 15:10:00',\n",
       "               '2020-01-01 17:20:00', '2020-01-01 19:30:00',\n",
       "               '2020-01-01 21:40:00', '2020-01-01 23:50:00'],\n",
       "              dtype='datetime64[ns]', freq='130T')"
      ]
     },
     "execution_count": 37,
     "metadata": {},
     "output_type": "execute_result"
    }
   ],
   "source": [
    "pd.date_range(start='20200101',end='20200102',freq='2h10min') # 2小时10分钟间隔的序列"
   ]
  },
  {
   "cell_type": "code",
   "execution_count": 32,
   "id": "voluntary-baking",
   "metadata": {
    "execution": {
     "iopub.execute_input": "2021-06-03T06:12:09.970392Z",
     "iopub.status.busy": "2021-06-03T06:12:09.970392Z",
     "iopub.status.idle": "2021-06-03T06:12:09.978391Z",
     "shell.execute_reply": "2021-06-03T06:12:09.977392Z",
     "shell.execute_reply.started": "2021-06-03T06:12:09.970392Z"
    }
   },
   "outputs": [
    {
     "data": {
      "text/plain": [
       "DatetimeIndex(['2020-01-01 00:00:00', '2020-01-01 01:00:00',\n",
       "               '2020-01-01 02:00:00', '2020-01-01 03:00:00',\n",
       "               '2020-01-01 04:00:00', '2020-01-01 05:00:00',\n",
       "               '2020-01-01 06:00:00', '2020-01-01 07:00:00',\n",
       "               '2020-01-01 08:00:00', '2020-01-01 09:00:00',\n",
       "               '2020-01-01 10:00:00', '2020-01-01 11:00:00',\n",
       "               '2020-01-01 12:00:00', '2020-01-01 13:00:00',\n",
       "               '2020-01-01 14:00:00', '2020-01-01 15:00:00',\n",
       "               '2020-01-01 16:00:00', '2020-01-01 17:00:00',\n",
       "               '2020-01-01 18:00:00', '2020-01-01 19:00:00',\n",
       "               '2020-01-01 20:00:00', '2020-01-01 21:00:00',\n",
       "               '2020-01-01 22:00:00', '2020-01-01 23:00:00',\n",
       "               '2020-01-02 00:00:00'],\n",
       "              dtype='datetime64[ns]', freq='H')"
      ]
     },
     "execution_count": 32,
     "metadata": {},
     "output_type": "execute_result"
    }
   ],
   "source": [
    "pd.date_range(start='20200101',end='20200102',freq='H') # 小时间隔的序列"
   ]
  },
  {
   "cell_type": "code",
   "execution_count": 34,
   "id": "abandoned-howard",
   "metadata": {
    "execution": {
     "iopub.execute_input": "2021-06-03T06:12:54.462419Z",
     "iopub.status.busy": "2021-06-03T06:12:54.461419Z",
     "iopub.status.idle": "2021-06-03T06:12:54.470394Z",
     "shell.execute_reply": "2021-06-03T06:12:54.470394Z",
     "shell.execute_reply.started": "2021-06-03T06:12:54.462419Z"
    }
   },
   "outputs": [
    {
     "data": {
      "text/plain": [
       "DatetimeIndex(['2020-01-01 00:00:00', '2020-01-01 00:01:00',\n",
       "               '2020-01-01 00:02:00', '2020-01-01 00:03:00',\n",
       "               '2020-01-01 00:04:00', '2020-01-01 00:05:00',\n",
       "               '2020-01-01 00:06:00', '2020-01-01 00:07:00',\n",
       "               '2020-01-01 00:08:00', '2020-01-01 00:09:00',\n",
       "               ...\n",
       "               '2020-01-01 23:51:00', '2020-01-01 23:52:00',\n",
       "               '2020-01-01 23:53:00', '2020-01-01 23:54:00',\n",
       "               '2020-01-01 23:55:00', '2020-01-01 23:56:00',\n",
       "               '2020-01-01 23:57:00', '2020-01-01 23:58:00',\n",
       "               '2020-01-01 23:59:00', '2020-01-02 00:00:00'],\n",
       "              dtype='datetime64[ns]', length=1441, freq='T')"
      ]
     },
     "execution_count": 34,
     "metadata": {},
     "output_type": "execute_result"
    }
   ],
   "source": [
    "pd.date_range(start='20200101',end='20200102',freq='min') # 分钟间隔的序列"
   ]
  },
  {
   "cell_type": "code",
   "execution_count": 35,
   "id": "noble-wyoming",
   "metadata": {
    "execution": {
     "iopub.execute_input": "2021-06-03T06:13:11.039422Z",
     "iopub.status.busy": "2021-06-03T06:13:11.039422Z",
     "iopub.status.idle": "2021-06-03T06:13:11.051426Z",
     "shell.execute_reply": "2021-06-03T06:13:11.050398Z",
     "shell.execute_reply.started": "2021-06-03T06:13:11.039422Z"
    }
   },
   "outputs": [
    {
     "data": {
      "text/plain": [
       "DatetimeIndex(['2020-01-01 00:00:00', '2020-01-01 00:00:01',\n",
       "               '2020-01-01 00:00:02', '2020-01-01 00:00:03',\n",
       "               '2020-01-01 00:00:04', '2020-01-01 00:00:05',\n",
       "               '2020-01-01 00:00:06', '2020-01-01 00:00:07',\n",
       "               '2020-01-01 00:00:08', '2020-01-01 00:00:09',\n",
       "               ...\n",
       "               '2020-01-01 23:59:51', '2020-01-01 23:59:52',\n",
       "               '2020-01-01 23:59:53', '2020-01-01 23:59:54',\n",
       "               '2020-01-01 23:59:55', '2020-01-01 23:59:56',\n",
       "               '2020-01-01 23:59:57', '2020-01-01 23:59:58',\n",
       "               '2020-01-01 23:59:59', '2020-01-02 00:00:00'],\n",
       "              dtype='datetime64[ns]', length=86401, freq='S')"
      ]
     },
     "execution_count": 35,
     "metadata": {},
     "output_type": "execute_result"
    }
   ],
   "source": [
    "pd.date_range(start='20200101',end='20200102',freq='s') # 秒间隔的序列"
   ]
  },
  {
   "cell_type": "code",
   "execution_count": 31,
   "id": "significant-perfume",
   "metadata": {
    "execution": {
     "iopub.execute_input": "2021-06-03T06:11:26.971395Z",
     "iopub.status.busy": "2021-06-03T06:11:26.971395Z",
     "iopub.status.idle": "2021-06-03T06:11:26.979394Z",
     "shell.execute_reply": "2021-06-03T06:11:26.978391Z",
     "shell.execute_reply.started": "2021-06-03T06:11:26.971395Z"
    }
   },
   "outputs": [
    {
     "data": {
      "text/plain": [
       "DatetimeIndex(['2020-01-01', '2021-01-01', '2022-01-01'], dtype='datetime64[ns]', freq='AS-JAN')"
      ]
     },
     "execution_count": 31,
     "metadata": {},
     "output_type": "execute_result"
    }
   ],
   "source": [
    "pd.date_range(start='2020',end='2022',freq='YS') # 按日期“公差“为年生成，年首日"
   ]
  },
  {
   "cell_type": "code",
   "execution_count": 30,
   "id": "previous-parts",
   "metadata": {
    "execution": {
     "iopub.execute_input": "2021-06-03T06:10:59.655393Z",
     "iopub.status.busy": "2021-06-03T06:10:59.654394Z",
     "iopub.status.idle": "2021-06-03T06:10:59.662390Z",
     "shell.execute_reply": "2021-06-03T06:10:59.662390Z",
     "shell.execute_reply.started": "2021-06-03T06:10:59.655393Z"
    }
   },
   "outputs": [
    {
     "data": {
      "text/plain": [
       "DatetimeIndex(['2020-01-01', '2021-01-01', '2022-01-01'], dtype='datetime64[ns]', freq='AS-JAN')"
      ]
     },
     "execution_count": 30,
     "metadata": {},
     "output_type": "execute_result"
    }
   ],
   "source": [
    "pd.date_range(start='2020',end='2022',freq='AS') # 按日期“公差“为年生成，年首日"
   ]
  },
  {
   "cell_type": "code",
   "execution_count": 29,
   "id": "adjacent-promotion",
   "metadata": {
    "execution": {
     "iopub.execute_input": "2021-06-03T06:10:46.553391Z",
     "iopub.status.busy": "2021-06-03T06:10:46.552390Z",
     "iopub.status.idle": "2021-06-03T06:10:46.561390Z",
     "shell.execute_reply": "2021-06-03T06:10:46.559399Z",
     "shell.execute_reply.started": "2021-06-03T06:10:46.553391Z"
    }
   },
   "outputs": [
    {
     "data": {
      "text/plain": [
       "DatetimeIndex(['2020-12-31', '2021-12-31'], dtype='datetime64[ns]', freq='A-DEC')"
      ]
     },
     "execution_count": 29,
     "metadata": {},
     "output_type": "execute_result"
    }
   ],
   "source": [
    "pd.date_range(start='2020',end='2022',freq='A') # 按日期“公差“为年生成，默认年底"
   ]
  },
  {
   "cell_type": "code",
   "execution_count": 26,
   "id": "musical-arena",
   "metadata": {
    "execution": {
     "iopub.execute_input": "2021-06-03T06:09:29.267392Z",
     "iopub.status.busy": "2021-06-03T06:09:29.267392Z",
     "iopub.status.idle": "2021-06-03T06:09:29.275393Z",
     "shell.execute_reply": "2021-06-03T06:09:29.274392Z",
     "shell.execute_reply.started": "2021-06-03T06:09:29.267392Z"
    }
   },
   "outputs": [
    {
     "data": {
      "text/plain": [
       "DatetimeIndex(['2020-03-31', '2020-06-30', '2020-09-30', '2020-12-31'], dtype='datetime64[ns]', freq='Q-DEC')"
      ]
     },
     "execution_count": 26,
     "metadata": {},
     "output_type": "execute_result"
    }
   ],
   "source": [
    "pd.date_range(start='2020',end='2021',freq='Q') # 按日期“公差“为季度生成，默认季度底"
   ]
  },
  {
   "cell_type": "code",
   "execution_count": 25,
   "id": "loaded-submission",
   "metadata": {
    "execution": {
     "iopub.execute_input": "2021-06-03T06:09:02.108391Z",
     "iopub.status.busy": "2021-06-03T06:09:02.107390Z",
     "iopub.status.idle": "2021-06-03T06:09:02.115393Z",
     "shell.execute_reply": "2021-06-03T06:09:02.114389Z",
     "shell.execute_reply.started": "2021-06-03T06:09:02.107390Z"
    }
   },
   "outputs": [
    {
     "data": {
      "text/plain": [
       "DatetimeIndex(['2020-01-01', '2020-02-03', '2020-03-02', '2020-04-01',\n",
       "               '2020-05-01', '2020-06-01', '2020-07-01', '2020-08-03',\n",
       "               '2020-09-01', '2020-10-01', '2020-11-02', '2020-12-01',\n",
       "               '2021-01-01'],\n",
       "              dtype='datetime64[ns]', freq='BMS')"
      ]
     },
     "execution_count": 25,
     "metadata": {},
     "output_type": "execute_result"
    }
   ],
   "source": [
    "pd.date_range(start='2020',end='2021',freq='BMS') # 按日期“公差“为半月生成，工作日"
   ]
  },
  {
   "cell_type": "code",
   "execution_count": 24,
   "id": "surprising-rhythm",
   "metadata": {
    "execution": {
     "iopub.execute_input": "2021-06-03T06:08:36.869397Z",
     "iopub.status.busy": "2021-06-03T06:08:36.869397Z",
     "iopub.status.idle": "2021-06-03T06:08:36.873402Z",
     "shell.execute_reply": "2021-06-03T06:08:36.873402Z",
     "shell.execute_reply.started": "2021-06-03T06:08:36.869397Z"
    }
   },
   "outputs": [
    {
     "data": {
      "text/plain": [
       "DatetimeIndex(['2020-01-31', '2020-02-28', '2020-03-31', '2020-04-30',\n",
       "               '2020-05-29', '2020-06-30', '2020-07-31', '2020-08-31',\n",
       "               '2020-09-30', '2020-10-30', '2020-11-30', '2020-12-31'],\n",
       "              dtype='datetime64[ns]', freq='BM')"
      ]
     },
     "execution_count": 24,
     "metadata": {},
     "output_type": "execute_result"
    }
   ],
   "source": [
    "pd.date_range(start='2020',end='2021',freq='BM') # 按日期“公差“为月生成，工作日"
   ]
  },
  {
   "cell_type": "code",
   "execution_count": 23,
   "id": "atmospheric-verification",
   "metadata": {
    "execution": {
     "iopub.execute_input": "2021-06-03T06:08:09.988395Z",
     "iopub.status.busy": "2021-06-03T06:08:09.987391Z",
     "iopub.status.idle": "2021-06-03T06:08:09.993395Z",
     "shell.execute_reply": "2021-06-03T06:08:09.992397Z",
     "shell.execute_reply.started": "2021-06-03T06:08:09.988395Z"
    }
   },
   "outputs": [
    {
     "data": {
      "text/plain": [
       "DatetimeIndex(['2020-01-01', '2020-02-01', '2020-03-01', '2020-04-01',\n",
       "               '2020-05-01', '2020-06-01', '2020-07-01', '2020-08-01',\n",
       "               '2020-09-01', '2020-10-01', '2020-11-01', '2020-12-01',\n",
       "               '2021-01-01'],\n",
       "              dtype='datetime64[ns]', freq='MS')"
      ]
     },
     "execution_count": 23,
     "metadata": {},
     "output_type": "execute_result"
    }
   ],
   "source": [
    "pd.date_range(start='2020',end='2021',freq='MS') # 按日期“公差“为月生成，月首日"
   ]
  },
  {
   "cell_type": "code",
   "execution_count": 21,
   "id": "becoming-universal",
   "metadata": {
    "execution": {
     "iopub.execute_input": "2021-06-03T06:06:44.021392Z",
     "iopub.status.busy": "2021-06-03T06:06:44.021392Z",
     "iopub.status.idle": "2021-06-03T06:06:44.029398Z",
     "shell.execute_reply": "2021-06-03T06:06:44.028400Z",
     "shell.execute_reply.started": "2021-06-03T06:06:44.021392Z"
    }
   },
   "outputs": [
    {
     "data": {
      "text/plain": [
       "DatetimeIndex(['2020-01-31', '2020-02-29', '2020-03-31', '2020-04-30',\n",
       "               '2020-05-31', '2020-06-30', '2020-07-31', '2020-08-31',\n",
       "               '2020-09-30', '2020-10-31', '2020-11-30', '2020-12-31'],\n",
       "              dtype='datetime64[ns]', freq='M')"
      ]
     },
     "execution_count": 21,
     "metadata": {},
     "output_type": "execute_result"
    }
   ],
   "source": [
    "pd.date_range(start='2020',end='2021',freq='M') # 按日期“公差“为月生成，默认月底"
   ]
  },
  {
   "cell_type": "code",
   "execution_count": 22,
   "id": "criminal-colombia",
   "metadata": {
    "execution": {
     "iopub.execute_input": "2021-06-03T06:07:40.060395Z",
     "iopub.status.busy": "2021-06-03T06:07:40.060395Z",
     "iopub.status.idle": "2021-06-03T06:07:40.069392Z",
     "shell.execute_reply": "2021-06-03T06:07:40.067401Z",
     "shell.execute_reply.started": "2021-06-03T06:07:40.060395Z"
    }
   },
   "outputs": [
    {
     "data": {
      "text/plain": [
       "DatetimeIndex(['2020-01-15', '2020-01-31', '2020-02-15', '2020-02-29',\n",
       "               '2020-03-15', '2020-03-31', '2020-04-15', '2020-04-30',\n",
       "               '2020-05-15', '2020-05-31', '2020-06-15', '2020-06-30',\n",
       "               '2020-07-15', '2020-07-31', '2020-08-15', '2020-08-31',\n",
       "               '2020-09-15', '2020-09-30', '2020-10-15', '2020-10-31',\n",
       "               '2020-11-15', '2020-11-30', '2020-12-15', '2020-12-31'],\n",
       "              dtype='datetime64[ns]', freq='SM-15')"
      ]
     },
     "execution_count": 22,
     "metadata": {},
     "output_type": "execute_result"
    }
   ],
   "source": [
    "pd.date_range(start='2020',end='2021',freq='SM') # 按日期“公差“为半月生成，半月和月底"
   ]
  },
  {
   "cell_type": "code",
   "execution_count": 17,
   "id": "prerequisite-frost",
   "metadata": {
    "execution": {
     "iopub.execute_input": "2021-06-03T06:04:27.675394Z",
     "iopub.status.busy": "2021-06-03T06:04:27.674396Z",
     "iopub.status.idle": "2021-06-03T06:04:27.683398Z",
     "shell.execute_reply": "2021-06-03T06:04:27.682392Z",
     "shell.execute_reply.started": "2021-06-03T06:04:27.675394Z"
    }
   },
   "outputs": [
    {
     "data": {
      "text/plain": [
       "DatetimeIndex(['2020-01-05', '2020-01-12', '2020-01-19', '2020-01-26'], dtype='datetime64[ns]', freq='W-SUN')"
      ]
     },
     "execution_count": 17,
     "metadata": {},
     "output_type": "execute_result"
    }
   ],
   "source": [
    "pd.date_range(start='20200101',end='20200131',freq='W') # 按照周频率间隔生成，默认W-SUN（周日）"
   ]
  },
  {
   "cell_type": "code",
   "execution_count": 19,
   "id": "inner-incentive",
   "metadata": {
    "execution": {
     "iopub.execute_input": "2021-06-03T06:05:52.038423Z",
     "iopub.status.busy": "2021-06-03T06:05:52.038423Z",
     "iopub.status.idle": "2021-06-03T06:05:52.050392Z",
     "shell.execute_reply": "2021-06-03T06:05:52.047396Z",
     "shell.execute_reply.started": "2021-06-03T06:05:52.038423Z"
    }
   },
   "outputs": [
    {
     "data": {
      "text/plain": [
       "DatetimeIndex(['2020-01-06', '2020-01-13', '2020-01-20', '2020-01-27'], dtype='datetime64[ns]', freq='W-MON')"
      ]
     },
     "execution_count": 19,
     "metadata": {},
     "output_type": "execute_result"
    }
   ],
   "source": [
    "pd.date_range(start='20200101',end='20200131',freq='W-MON') # 按照周频率间隔生成，周一"
   ]
  },
  {
   "cell_type": "code",
   "execution_count": 9,
   "id": "dutch-swift",
   "metadata": {
    "execution": {
     "iopub.execute_input": "2021-06-03T06:00:32.424392Z",
     "iopub.status.busy": "2021-06-03T06:00:32.423391Z",
     "iopub.status.idle": "2021-06-03T06:00:32.432393Z",
     "shell.execute_reply": "2021-06-03T06:00:32.431392Z",
     "shell.execute_reply.started": "2021-06-03T06:00:32.424392Z"
    }
   },
   "outputs": [
    {
     "data": {
      "text/plain": [
       "DatetimeIndex(['2020-01-01', '2020-01-02', '2020-01-03', '2020-01-04',\n",
       "               '2020-01-05', '2020-01-06', '2020-01-07', '2020-01-08',\n",
       "               '2020-01-09', '2020-01-10', '2020-01-11', '2020-01-12',\n",
       "               '2020-01-13', '2020-01-14', '2020-01-15', '2020-01-16',\n",
       "               '2020-01-17', '2020-01-18', '2020-01-19', '2020-01-20',\n",
       "               '2020-01-21', '2020-01-22', '2020-01-23', '2020-01-24',\n",
       "               '2020-01-25', '2020-01-26', '2020-01-27', '2020-01-28',\n",
       "               '2020-01-29', '2020-01-30', '2020-01-31'],\n",
       "              dtype='datetime64[ns]', freq='D')"
      ]
     },
     "execution_count": 9,
     "metadata": {},
     "output_type": "execute_result"
    }
   ],
   "source": [
    "pd.date_range(start='20200101',end='20200131') # 生成开始和结束日期之间的日期序列"
   ]
  },
  {
   "cell_type": "code",
   "execution_count": 10,
   "id": "popular-nudist",
   "metadata": {
    "execution": {
     "iopub.execute_input": "2021-06-03T06:01:31.798391Z",
     "iopub.status.busy": "2021-06-03T06:01:31.798391Z",
     "iopub.status.idle": "2021-06-03T06:01:31.806395Z",
     "shell.execute_reply": "2021-06-03T06:01:31.804396Z",
     "shell.execute_reply.started": "2021-06-03T06:01:31.798391Z"
    }
   },
   "outputs": [
    {
     "data": {
      "text/plain": [
       "DatetimeIndex(['2020-01-01', '2020-01-02', '2020-01-03', '2020-01-04',\n",
       "               '2020-01-05', '2020-01-06', '2020-01-07', '2020-01-08',\n",
       "               '2020-01-09', '2020-01-10', '2020-01-11', '2020-01-12',\n",
       "               '2020-01-13', '2020-01-14', '2020-01-15', '2020-01-16',\n",
       "               '2020-01-17', '2020-01-18', '2020-01-19', '2020-01-20',\n",
       "               '2020-01-21', '2020-01-22', '2020-01-23', '2020-01-24',\n",
       "               '2020-01-25', '2020-01-26', '2020-01-27', '2020-01-28',\n",
       "               '2020-01-29', '2020-01-30', '2020-01-31'],\n",
       "              dtype='datetime64[ns]', freq='D')"
      ]
     },
     "execution_count": 10,
     "metadata": {},
     "output_type": "execute_result"
    }
   ],
   "source": [
    "pd.date_range(start='20200101',end='20200131',freq=pd.offsets.Day()) # 效果同上"
   ]
  },
  {
   "cell_type": "code",
   "execution_count": 11,
   "id": "documented-receptor",
   "metadata": {
    "execution": {
     "iopub.execute_input": "2021-06-03T06:01:56.071392Z",
     "iopub.status.busy": "2021-06-03T06:01:56.070394Z",
     "iopub.status.idle": "2021-06-03T06:01:56.079394Z",
     "shell.execute_reply": "2021-06-03T06:01:56.076403Z",
     "shell.execute_reply.started": "2021-06-03T06:01:56.071392Z"
    }
   },
   "outputs": [
    {
     "data": {
      "text/plain": [
       "DatetimeIndex(['2020-01-01', '2020-01-02', '2020-01-03', '2020-01-06',\n",
       "               '2020-01-07', '2020-01-08', '2020-01-09', '2020-01-10',\n",
       "               '2020-01-13', '2020-01-14', '2020-01-15', '2020-01-16',\n",
       "               '2020-01-17', '2020-01-20', '2020-01-21', '2020-01-22',\n",
       "               '2020-01-23', '2020-01-24', '2020-01-27', '2020-01-28',\n",
       "               '2020-01-29', '2020-01-30', '2020-01-31'],\n",
       "              dtype='datetime64[ns]', freq='B')"
      ]
     },
     "execution_count": 11,
     "metadata": {},
     "output_type": "execute_result"
    }
   ],
   "source": [
    "pd.date_range(start='20200101',end='20200131',freq=pd.offsets.BDay()) # 生成工作日的序列"
   ]
  },
  {
   "cell_type": "code",
   "execution_count": 15,
   "id": "optional-murder",
   "metadata": {
    "execution": {
     "iopub.execute_input": "2021-06-03T06:03:07.607392Z",
     "iopub.status.busy": "2021-06-03T06:03:07.607392Z",
     "iopub.status.idle": "2021-06-03T06:03:07.618394Z",
     "shell.execute_reply": "2021-06-03T06:03:07.615411Z",
     "shell.execute_reply.started": "2021-06-03T06:03:07.607392Z"
    }
   },
   "outputs": [
    {
     "data": {
      "text/plain": [
       "DatetimeIndex(['2020-01-01', '2020-01-02', '2020-01-03', '2020-01-06',\n",
       "               '2020-01-07', '2020-01-08', '2020-01-09', '2020-01-10',\n",
       "               '2020-01-13', '2020-01-14', '2020-01-15', '2020-01-16',\n",
       "               '2020-01-17', '2020-01-20', '2020-01-21', '2020-01-22',\n",
       "               '2020-01-23', '2020-01-24', '2020-01-27', '2020-01-28',\n",
       "               '2020-01-29', '2020-01-30', '2020-01-31'],\n",
       "              dtype='datetime64[ns]', freq='B')"
      ]
     },
     "execution_count": 15,
     "metadata": {},
     "output_type": "execute_result"
    }
   ],
   "source": [
    "pd.date_range(start='20200101',end='20200131',freq='B') # 效果同上"
   ]
  },
  {
   "cell_type": "code",
   "execution_count": 16,
   "id": "allied-jewel",
   "metadata": {
    "execution": {
     "iopub.execute_input": "2021-06-03T06:03:37.987393Z",
     "iopub.status.busy": "2021-06-03T06:03:37.986395Z",
     "iopub.status.idle": "2021-06-03T06:03:37.992393Z",
     "shell.execute_reply": "2021-06-03T06:03:37.991391Z",
     "shell.execute_reply.started": "2021-06-03T06:03:37.987393Z"
    }
   },
   "outputs": [
    {
     "data": {
      "text/plain": [
       "DatetimeIndex(['2020-01-01', '2020-01-02', '2020-01-03', '2020-01-04',\n",
       "               '2020-01-05', '2020-01-06', '2020-01-07', '2020-01-08',\n",
       "               '2020-01-09', '2020-01-10', '2020-01-11', '2020-01-12',\n",
       "               '2020-01-13', '2020-01-14', '2020-01-15', '2020-01-16',\n",
       "               '2020-01-17', '2020-01-18', '2020-01-19', '2020-01-20',\n",
       "               '2020-01-21', '2020-01-22', '2020-01-23', '2020-01-24',\n",
       "               '2020-01-25', '2020-01-26', '2020-01-27', '2020-01-28',\n",
       "               '2020-01-29', '2020-01-30', '2020-01-31'],\n",
       "              dtype='datetime64[ns]', freq='D')"
      ]
     },
     "execution_count": 16,
     "metadata": {},
     "output_type": "execute_result"
    }
   ],
   "source": [
    "pd.date_range(start='20200101',end='20200131',freq='D') # 全部自然日，另一种方法"
   ]
  }
 ],
 "metadata": {
  "kernelspec": {
   "display_name": "Python 3",
   "language": "python",
   "name": "python3"
  },
  "language_info": {
   "codemirror_mode": {
    "name": "ipython",
    "version": 3
   },
   "file_extension": ".py",
   "mimetype": "text/x-python",
   "name": "python",
   "nbconvert_exporter": "python",
   "pygments_lexer": "ipython3",
   "version": "3.6.8"
  }
 },
 "nbformat": 4,
 "nbformat_minor": 5
}
