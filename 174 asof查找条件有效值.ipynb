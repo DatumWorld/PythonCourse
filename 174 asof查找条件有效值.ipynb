{
 "cells": [
  {
   "cell_type": "markdown",
   "metadata": {
    "azdata_cell_guid": "738c66e7-5806-4332-928c-26139eff72e5",
    "execution": {
     "iopub.execute_input": "2021-05-10T07:18:52.990449Z",
     "iopub.status.busy": "2021-05-10T07:18:52.990449Z",
     "iopub.status.idle": "2021-05-10T07:18:52.994464Z",
     "shell.execute_reply": "2021-05-10T07:18:52.993452Z",
     "shell.execute_reply.started": "2021-05-10T07:18:52.990449Z"
    }
   },
   "source": [
    "## 174 asof查找条件有效值"
   ]
  },
  {
   "cell_type": "markdown",
   "metadata": {
    "azdata_cell_guid": "1d896d30-35f4-4f09-ad58-d938ea6fda1a"
   },
   "source": [
    "### asof查找条件有效值（即非空）。对照first_valid_index\n",
    "where, subset=None"
   ]
  },
  {
   "cell_type": "code",
   "execution_count": 1,
   "metadata": {
    "execution": {
     "iopub.execute_input": "2022-01-12T11:17:15.308529Z",
     "iopub.status.busy": "2022-01-12T11:17:15.307531Z",
     "iopub.status.idle": "2022-01-12T11:17:15.838205Z",
     "shell.execute_reply": "2022-01-12T11:17:15.838205Z",
     "shell.execute_reply.started": "2022-01-12T11:17:15.308529Z"
    },
    "tags": []
   },
   "outputs": [],
   "source": [
    "import numpy  as np\n",
    "import pandas as pd"
   ]
  },
  {
   "cell_type": "code",
   "execution_count": 2,
   "metadata": {
    "execution": {
     "iopub.execute_input": "2022-01-12T11:17:15.840204Z",
     "iopub.status.busy": "2022-01-12T11:17:15.839204Z",
     "iopub.status.idle": "2022-01-12T11:17:15.848198Z",
     "shell.execute_reply": "2022-01-12T11:17:15.848198Z",
     "shell.execute_reply.started": "2022-01-12T11:17:15.839204Z"
    },
    "tags": []
   },
   "outputs": [],
   "source": [
    "s = pd.Series([1, 2, np.nan, 4], index=[10, 20, 30, 40])\n",
    "df = pd.DataFrame({'a': [10, 20, 30, 40, 50],\n",
    "                   'b': [None, None, None, None, 500]},\n",
    "                  index=pd.DatetimeIndex(['2018-02-27 09:01:00',\n",
    "                                          '2018-02-27 09:02:00',\n",
    "                                          '2018-02-27 09:03:00',\n",
    "                                          '2018-02-27 09:04:00',\n",
    "                                          '2018-02-27 09:05:00']))\n"
   ]
  },
  {
   "cell_type": "code",
   "execution_count": 3,
   "metadata": {
    "execution": {
     "iopub.execute_input": "2022-01-12T11:18:38.194447Z",
     "iopub.status.busy": "2022-01-12T11:18:38.194447Z",
     "iopub.status.idle": "2022-01-12T11:18:38.203441Z",
     "shell.execute_reply": "2022-01-12T11:18:38.202442Z",
     "shell.execute_reply.started": "2022-01-12T11:18:38.194447Z"
    },
    "tags": []
   },
   "outputs": [
    {
     "data": {
      "text/plain": [
       "10    1.0\n",
       "20    2.0\n",
       "30    NaN\n",
       "40    4.0\n",
       "dtype: float64"
      ]
     },
     "execution_count": 3,
     "metadata": {},
     "output_type": "execute_result"
    }
   ],
   "source": [
    "s"
   ]
  },
  {
   "cell_type": "code",
   "execution_count": 4,
   "metadata": {
    "execution": {
     "iopub.execute_input": "2022-01-12T11:19:12.910019Z",
     "iopub.status.busy": "2022-01-12T11:19:12.910019Z",
     "iopub.status.idle": "2022-01-12T11:19:12.920014Z",
     "shell.execute_reply": "2022-01-12T11:19:12.919016Z",
     "shell.execute_reply.started": "2022-01-12T11:19:12.910019Z"
    },
    "tags": []
   },
   "outputs": [
    {
     "data": {
      "text/plain": [
       "2.0"
      ]
     },
     "execution_count": 4,
     "metadata": {},
     "output_type": "execute_result"
    }
   ],
   "source": [
    "s.asof(where=20)"
   ]
  },
  {
   "cell_type": "code",
   "execution_count": 5,
   "metadata": {
    "execution": {
     "iopub.execute_input": "2022-01-12T11:19:39.605913Z",
     "iopub.status.busy": "2022-01-12T11:19:39.604912Z",
     "iopub.status.idle": "2022-01-12T11:19:39.611910Z",
     "shell.execute_reply": "2022-01-12T11:19:39.610911Z",
     "shell.execute_reply.started": "2022-01-12T11:19:39.605913Z"
    },
    "tags": []
   },
   "outputs": [
    {
     "data": {
      "text/plain": [
       "2.0"
      ]
     },
     "execution_count": 5,
     "metadata": {},
     "output_type": "execute_result"
    }
   ],
   "source": [
    "s.asof(where=30) #  不超过30 的 有效值"
   ]
  },
  {
   "cell_type": "code",
   "execution_count": 7,
   "metadata": {
    "execution": {
     "iopub.execute_input": "2022-01-12T11:20:49.087925Z",
     "iopub.status.busy": "2022-01-12T11:20:49.086924Z",
     "iopub.status.idle": "2022-01-12T11:20:49.097917Z",
     "shell.execute_reply": "2022-01-12T11:20:49.097917Z",
     "shell.execute_reply.started": "2022-01-12T11:20:49.087925Z"
    },
    "tags": []
   },
   "outputs": [
    {
     "data": {
      "text/plain": [
       "30    2.0\n",
       "10    1.0\n",
       "dtype: float64"
      ]
     },
     "execution_count": 7,
     "metadata": {},
     "output_type": "execute_result"
    }
   ],
   "source": [
    "s.asof(where=[30,10]) #  多个"
   ]
  },
  {
   "cell_type": "code",
   "execution_count": 9,
   "metadata": {
    "execution": {
     "iopub.execute_input": "2022-01-12T11:21:35.678257Z",
     "iopub.status.busy": "2022-01-12T11:21:35.677254Z",
     "iopub.status.idle": "2022-01-12T11:21:35.696241Z",
     "shell.execute_reply": "2022-01-12T11:21:35.695241Z",
     "shell.execute_reply.started": "2022-01-12T11:21:35.678257Z"
    },
    "tags": []
   },
   "outputs": [
    {
     "data": {
      "text/plain": [
       "50    4.0\n",
       "0     NaN\n",
       "dtype: float64"
      ]
     },
     "execution_count": 9,
     "metadata": {},
     "output_type": "execute_result"
    }
   ],
   "source": [
    "s.asof(where=[50,0]) #  出界情况下"
   ]
  },
  {
   "cell_type": "code",
   "execution_count": 10,
   "metadata": {
    "execution": {
     "iopub.execute_input": "2022-01-12T11:22:09.490879Z",
     "iopub.status.busy": "2022-01-12T11:22:09.489880Z",
     "iopub.status.idle": "2022-01-12T11:22:09.502872Z",
     "shell.execute_reply": "2022-01-12T11:22:09.502872Z",
     "shell.execute_reply.started": "2022-01-12T11:22:09.490879Z"
    },
    "tags": []
   },
   "outputs": [
    {
     "data": {
      "text/html": [
       "<div>\n",
       "<style scoped>\n",
       "    .dataframe tbody tr th:only-of-type {\n",
       "        vertical-align: middle;\n",
       "    }\n",
       "\n",
       "    .dataframe tbody tr th {\n",
       "        vertical-align: top;\n",
       "    }\n",
       "\n",
       "    .dataframe thead th {\n",
       "        text-align: right;\n",
       "    }\n",
       "</style>\n",
       "<table border=\"1\" class=\"dataframe\">\n",
       "  <thead>\n",
       "    <tr style=\"text-align: right;\">\n",
       "      <th></th>\n",
       "      <th>a</th>\n",
       "      <th>b</th>\n",
       "    </tr>\n",
       "  </thead>\n",
       "  <tbody>\n",
       "    <tr>\n",
       "      <th>2018-02-27 09:01:00</th>\n",
       "      <td>10</td>\n",
       "      <td>NaN</td>\n",
       "    </tr>\n",
       "    <tr>\n",
       "      <th>2018-02-27 09:02:00</th>\n",
       "      <td>20</td>\n",
       "      <td>NaN</td>\n",
       "    </tr>\n",
       "    <tr>\n",
       "      <th>2018-02-27 09:03:00</th>\n",
       "      <td>30</td>\n",
       "      <td>NaN</td>\n",
       "    </tr>\n",
       "    <tr>\n",
       "      <th>2018-02-27 09:04:00</th>\n",
       "      <td>40</td>\n",
       "      <td>NaN</td>\n",
       "    </tr>\n",
       "    <tr>\n",
       "      <th>2018-02-27 09:05:00</th>\n",
       "      <td>50</td>\n",
       "      <td>500.0</td>\n",
       "    </tr>\n",
       "  </tbody>\n",
       "</table>\n",
       "</div>"
      ],
      "text/plain": [
       "                      a      b\n",
       "2018-02-27 09:01:00  10    NaN\n",
       "2018-02-27 09:02:00  20    NaN\n",
       "2018-02-27 09:03:00  30    NaN\n",
       "2018-02-27 09:04:00  40    NaN\n",
       "2018-02-27 09:05:00  50  500.0"
      ]
     },
     "execution_count": 10,
     "metadata": {},
     "output_type": "execute_result"
    }
   ],
   "source": [
    "df"
   ]
  },
  {
   "cell_type": "code",
   "execution_count": 17,
   "metadata": {
    "execution": {
     "iopub.execute_input": "2022-01-12T11:25:56.213571Z",
     "iopub.status.busy": "2022-01-12T11:25:56.212572Z",
     "iopub.status.idle": "2022-01-12T11:25:56.236552Z",
     "shell.execute_reply": "2022-01-12T11:25:56.236552Z",
     "shell.execute_reply.started": "2022-01-12T11:25:56.213571Z"
    },
    "tags": []
   },
   "outputs": [
    {
     "data": {
      "text/html": [
       "<div>\n",
       "<style scoped>\n",
       "    .dataframe tbody tr th:only-of-type {\n",
       "        vertical-align: middle;\n",
       "    }\n",
       "\n",
       "    .dataframe tbody tr th {\n",
       "        vertical-align: top;\n",
       "    }\n",
       "\n",
       "    .dataframe thead th {\n",
       "        text-align: right;\n",
       "    }\n",
       "</style>\n",
       "<table border=\"1\" class=\"dataframe\">\n",
       "  <thead>\n",
       "    <tr style=\"text-align: right;\">\n",
       "      <th></th>\n",
       "      <th>a</th>\n",
       "      <th>b</th>\n",
       "    </tr>\n",
       "  </thead>\n",
       "  <tbody>\n",
       "    <tr>\n",
       "      <th>2018-02-27 09:02:10</th>\n",
       "      <td>NaN</td>\n",
       "      <td>NaN</td>\n",
       "    </tr>\n",
       "    <tr>\n",
       "      <th>2018-02-27 09:03:10</th>\n",
       "      <td>NaN</td>\n",
       "      <td>NaN</td>\n",
       "    </tr>\n",
       "    <tr>\n",
       "      <th>2018-02-27 09:05:10</th>\n",
       "      <td>50.0</td>\n",
       "      <td>500.0</td>\n",
       "    </tr>\n",
       "  </tbody>\n",
       "</table>\n",
       "</div>"
      ],
      "text/plain": [
       "                        a      b\n",
       "2018-02-27 09:02:10   NaN    NaN\n",
       "2018-02-27 09:03:10   NaN    NaN\n",
       "2018-02-27 09:05:10  50.0  500.0"
      ]
     },
     "execution_count": 17,
     "metadata": {},
     "output_type": "execute_result"
    }
   ],
   "source": [
    "df.asof(pd.DatetimeIndex(['2018-02-27 09:02:10','2018-02-27 09:03:10','2018-02-27 09:05:10']))"
   ]
  },
  {
   "cell_type": "code",
   "execution_count": 11,
   "metadata": {
    "execution": {
     "iopub.execute_input": "2022-01-12T11:23:30.676904Z",
     "iopub.status.busy": "2022-01-12T11:23:30.676904Z",
     "iopub.status.idle": "2022-01-12T11:23:30.693894Z",
     "shell.execute_reply": "2022-01-12T11:23:30.692895Z",
     "shell.execute_reply.started": "2022-01-12T11:23:30.676904Z"
    },
    "tags": []
   },
   "outputs": [
    {
     "data": {
      "text/html": [
       "<div>\n",
       "<style scoped>\n",
       "    .dataframe tbody tr th:only-of-type {\n",
       "        vertical-align: middle;\n",
       "    }\n",
       "\n",
       "    .dataframe tbody tr th {\n",
       "        vertical-align: top;\n",
       "    }\n",
       "\n",
       "    .dataframe thead th {\n",
       "        text-align: right;\n",
       "    }\n",
       "</style>\n",
       "<table border=\"1\" class=\"dataframe\">\n",
       "  <thead>\n",
       "    <tr style=\"text-align: right;\">\n",
       "      <th></th>\n",
       "      <th>a</th>\n",
       "      <th>b</th>\n",
       "    </tr>\n",
       "  </thead>\n",
       "  <tbody>\n",
       "    <tr>\n",
       "      <th>2018-02-27 09:02:00</th>\n",
       "      <td>NaN</td>\n",
       "      <td>NaN</td>\n",
       "    </tr>\n",
       "  </tbody>\n",
       "</table>\n",
       "</div>"
      ],
      "text/plain": [
       "                      a   b\n",
       "2018-02-27 09:02:00 NaN NaN"
      ]
     },
     "execution_count": 11,
     "metadata": {},
     "output_type": "execute_result"
    }
   ],
   "source": [
    "df.asof(pd.DatetimeIndex(['2018-02-27 09:02:00']))"
   ]
  },
  {
   "cell_type": "code",
   "execution_count": 12,
   "metadata": {
    "execution": {
     "iopub.execute_input": "2022-01-12T11:24:15.353892Z",
     "iopub.status.busy": "2022-01-12T11:24:15.353892Z",
     "iopub.status.idle": "2022-01-12T11:24:15.368883Z",
     "shell.execute_reply": "2022-01-12T11:24:15.367882Z",
     "shell.execute_reply.started": "2022-01-12T11:24:15.353892Z"
    },
    "tags": []
   },
   "outputs": [
    {
     "data": {
      "text/html": [
       "<div>\n",
       "<style scoped>\n",
       "    .dataframe tbody tr th:only-of-type {\n",
       "        vertical-align: middle;\n",
       "    }\n",
       "\n",
       "    .dataframe tbody tr th {\n",
       "        vertical-align: top;\n",
       "    }\n",
       "\n",
       "    .dataframe thead th {\n",
       "        text-align: right;\n",
       "    }\n",
       "</style>\n",
       "<table border=\"1\" class=\"dataframe\">\n",
       "  <thead>\n",
       "    <tr style=\"text-align: right;\">\n",
       "      <th></th>\n",
       "      <th>a</th>\n",
       "      <th>b</th>\n",
       "    </tr>\n",
       "  </thead>\n",
       "  <tbody>\n",
       "    <tr>\n",
       "      <th>2018-02-27 09:02:00</th>\n",
       "      <td>20.0</td>\n",
       "      <td>NaN</td>\n",
       "    </tr>\n",
       "  </tbody>\n",
       "</table>\n",
       "</div>"
      ],
      "text/plain": [
       "                        a   b\n",
       "2018-02-27 09:02:00  20.0 NaN"
      ]
     },
     "execution_count": 12,
     "metadata": {},
     "output_type": "execute_result"
    }
   ],
   "source": [
    "df.asof(pd.DatetimeIndex(['2018-02-27 09:02:00']),subset=['a']) # subset 作用于指定的列的子集"
   ]
  }
 ],
 "metadata": {
  "kernelspec": {
   "display_name": "Python 3",
   "language": "python",
   "name": "python3"
  },
  "language_info": {
   "codemirror_mode": {
    "name": "ipython",
    "version": 3
   },
   "file_extension": ".py",
   "mimetype": "text/x-python",
   "name": "python",
   "nbconvert_exporter": "python",
   "pygments_lexer": "ipython3",
   "version": "3.6.8"
  }
 },
 "nbformat": 4,
 "nbformat_minor": 4
}
