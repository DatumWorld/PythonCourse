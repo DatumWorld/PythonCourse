{
 "cells": [
  {
   "cell_type": "markdown",
   "id": "caroline-merchant",
   "metadata": {
    "execution": {
     "iopub.execute_input": "2021-05-10T07:18:52.990449Z",
     "iopub.status.busy": "2021-05-10T07:18:52.990449Z",
     "iopub.status.idle": "2021-05-10T07:18:52.994464Z",
     "shell.execute_reply": "2021-05-10T07:18:52.993452Z",
     "shell.execute_reply.started": "2021-05-10T07:18:52.990449Z"
    }
   },
   "source": [
    "##  pandas窗口函数"
   ]
  },
  {
   "cell_type": "markdown",
   "id": "vocal-sunrise",
   "metadata": {},
   "source": [
    "### 窗口函数\n",
    "#### rolling expanding\n",
    "#### 可以使用 count sum mean std 等常规统计函数，不再一一示例"
   ]
  },
  {
   "cell_type": "code",
   "execution_count": 1,
   "id": "stone-observer",
   "metadata": {
    "execution": {
     "iopub.execute_input": "2021-06-08T07:55:30.634812Z",
     "iopub.status.busy": "2021-06-08T07:55:30.633811Z",
     "iopub.status.idle": "2021-06-08T07:55:30.951812Z",
     "shell.execute_reply": "2021-06-08T07:55:30.951812Z",
     "shell.execute_reply.started": "2021-06-08T07:55:30.634812Z"
    }
   },
   "outputs": [],
   "source": [
    "import numpy  as np\n",
    "import pandas as pd\n",
    "from faker import Faker\n",
    "\n",
    "fake = Faker('zh_CN')\n",
    "df=pd.DataFrame(data=[ [fake.name()] for x in range(10) ],columns=['name'])"
   ]
  },
  {
   "cell_type": "code",
   "execution_count": 2,
   "id": "suited-popularity",
   "metadata": {
    "execution": {
     "iopub.execute_input": "2021-06-08T07:55:30.952811Z",
     "iopub.status.busy": "2021-06-08T07:55:30.952811Z",
     "iopub.status.idle": "2021-06-08T07:55:30.956787Z",
     "shell.execute_reply": "2021-06-08T07:55:30.956787Z",
     "shell.execute_reply.started": "2021-06-08T07:55:30.952811Z"
    }
   },
   "outputs": [],
   "source": [
    "df['销售额']=np.random.randint(100,100000,size=(10, 1))"
   ]
  },
  {
   "cell_type": "code",
   "execution_count": 3,
   "id": "finnish-spray",
   "metadata": {
    "execution": {
     "iopub.execute_input": "2021-06-08T07:55:30.957784Z",
     "iopub.status.busy": "2021-06-08T07:55:30.957784Z",
     "iopub.status.idle": "2021-06-08T07:55:31.036781Z",
     "shell.execute_reply": "2021-06-08T07:55:31.036781Z",
     "shell.execute_reply.started": "2021-06-08T07:55:30.957784Z"
    }
   },
   "outputs": [],
   "source": [
    "df.insert(0,'dept',['部门1']*5+['部门2']*5)"
   ]
  },
  {
   "cell_type": "code",
   "execution_count": 4,
   "id": "banned-cache",
   "metadata": {
    "execution": {
     "iopub.execute_input": "2021-06-08T07:55:31.037780Z",
     "iopub.status.busy": "2021-06-08T07:55:31.037780Z",
     "iopub.status.idle": "2021-06-08T07:55:31.090778Z",
     "shell.execute_reply": "2021-06-08T07:55:31.090778Z",
     "shell.execute_reply.started": "2021-06-08T07:55:31.037780Z"
    }
   },
   "outputs": [
    {
     "data": {
      "text/html": [
       "<div>\n",
       "<style scoped>\n",
       "    .dataframe tbody tr th:only-of-type {\n",
       "        vertical-align: middle;\n",
       "    }\n",
       "\n",
       "    .dataframe tbody tr th {\n",
       "        vertical-align: top;\n",
       "    }\n",
       "\n",
       "    .dataframe thead th {\n",
       "        text-align: right;\n",
       "    }\n",
       "</style>\n",
       "<table border=\"1\" class=\"dataframe\">\n",
       "  <thead>\n",
       "    <tr style=\"text-align: right;\">\n",
       "      <th></th>\n",
       "      <th>dept</th>\n",
       "      <th>name</th>\n",
       "      <th>销售额</th>\n",
       "    </tr>\n",
       "  </thead>\n",
       "  <tbody>\n",
       "    <tr>\n",
       "      <th>0</th>\n",
       "      <td>部门1</td>\n",
       "      <td>刘秀英</td>\n",
       "      <td>36741</td>\n",
       "    </tr>\n",
       "    <tr>\n",
       "      <th>1</th>\n",
       "      <td>部门1</td>\n",
       "      <td>章辉</td>\n",
       "      <td>52573</td>\n",
       "    </tr>\n",
       "    <tr>\n",
       "      <th>2</th>\n",
       "      <td>部门1</td>\n",
       "      <td>武桂芝</td>\n",
       "      <td>51938</td>\n",
       "    </tr>\n",
       "    <tr>\n",
       "      <th>3</th>\n",
       "      <td>部门1</td>\n",
       "      <td>周涛</td>\n",
       "      <td>48193</td>\n",
       "    </tr>\n",
       "    <tr>\n",
       "      <th>4</th>\n",
       "      <td>部门1</td>\n",
       "      <td>曾雷</td>\n",
       "      <td>98505</td>\n",
       "    </tr>\n",
       "    <tr>\n",
       "      <th>5</th>\n",
       "      <td>部门2</td>\n",
       "      <td>熊宁</td>\n",
       "      <td>55224</td>\n",
       "    </tr>\n",
       "    <tr>\n",
       "      <th>6</th>\n",
       "      <td>部门2</td>\n",
       "      <td>贺玉华</td>\n",
       "      <td>56646</td>\n",
       "    </tr>\n",
       "    <tr>\n",
       "      <th>7</th>\n",
       "      <td>部门2</td>\n",
       "      <td>刘利</td>\n",
       "      <td>43944</td>\n",
       "    </tr>\n",
       "    <tr>\n",
       "      <th>8</th>\n",
       "      <td>部门2</td>\n",
       "      <td>詹彬</td>\n",
       "      <td>99967</td>\n",
       "    </tr>\n",
       "    <tr>\n",
       "      <th>9</th>\n",
       "      <td>部门2</td>\n",
       "      <td>宋桂芝</td>\n",
       "      <td>2502</td>\n",
       "    </tr>\n",
       "  </tbody>\n",
       "</table>\n",
       "</div>"
      ],
      "text/plain": [
       "  dept name    销售额\n",
       "0  部门1  刘秀英  36741\n",
       "1  部门1   章辉  52573\n",
       "2  部门1  武桂芝  51938\n",
       "3  部门1   周涛  48193\n",
       "4  部门1   曾雷  98505\n",
       "5  部门2   熊宁  55224\n",
       "6  部门2  贺玉华  56646\n",
       "7  部门2   刘利  43944\n",
       "8  部门2   詹彬  99967\n",
       "9  部门2  宋桂芝   2502"
      ]
     },
     "execution_count": 4,
     "metadata": {},
     "output_type": "execute_result"
    }
   ],
   "source": [
    "df # 随机生成的数据"
   ]
  },
  {
   "cell_type": "code",
   "execution_count": 5,
   "id": "binary-toilet",
   "metadata": {
    "execution": {
     "iopub.execute_input": "2021-06-08T07:57:01.677784Z",
     "iopub.status.busy": "2021-06-08T07:57:01.677784Z",
     "iopub.status.idle": "2021-06-08T07:57:01.687785Z",
     "shell.execute_reply": "2021-06-08T07:57:01.686783Z",
     "shell.execute_reply.started": "2021-06-08T07:57:01.677784Z"
    }
   },
   "outputs": [
    {
     "data": {
      "text/plain": [
       "0             NaN\n",
       "1             NaN\n",
       "2    47084.000000\n",
       "3    50901.333333\n",
       "4    66212.000000\n",
       "5    67307.333333\n",
       "6    70125.000000\n",
       "7    51938.000000\n",
       "8    66852.333333\n",
       "9    48804.333333\n",
       "Name: 销售额, dtype: float64"
      ]
     },
     "execution_count": 5,
     "metadata": {},
     "output_type": "execute_result"
    }
   ],
   "source": [
    "df.销售额.rolling(window=3).mean() # 移动窗口平均，制定窗口大小3"
   ]
  },
  {
   "cell_type": "code",
   "execution_count": 8,
   "id": "charged-stack",
   "metadata": {
    "execution": {
     "iopub.execute_input": "2021-06-08T07:58:01.862781Z",
     "iopub.status.busy": "2021-06-08T07:58:01.862781Z",
     "iopub.status.idle": "2021-06-08T07:58:01.870812Z",
     "shell.execute_reply": "2021-06-08T07:58:01.870812Z",
     "shell.execute_reply.started": "2021-06-08T07:58:01.862781Z"
    }
   },
   "outputs": [
    {
     "data": {
      "text/plain": [
       "0             NaN\n",
       "1    47084.000000\n",
       "2    50901.333333\n",
       "3    66212.000000\n",
       "4    67307.333333\n",
       "5    70125.000000\n",
       "6    51938.000000\n",
       "7    66852.333333\n",
       "8    48804.333333\n",
       "9             NaN\n",
       "Name: 销售额, dtype: float64"
      ]
     },
     "execution_count": 8,
     "metadata": {},
     "output_type": "execute_result"
    }
   ],
   "source": [
    "df.销售额.rolling(window=3,center=True).mean() # 移动窗口平均，指定窗口大小3,指定窗口中心"
   ]
  },
  {
   "cell_type": "code",
   "execution_count": 9,
   "id": "graphic-simple",
   "metadata": {
    "execution": {
     "iopub.execute_input": "2021-06-08T07:59:03.243790Z",
     "iopub.status.busy": "2021-06-08T07:59:03.243790Z",
     "iopub.status.idle": "2021-06-08T07:59:03.251786Z",
     "shell.execute_reply": "2021-06-08T07:59:03.250784Z",
     "shell.execute_reply.started": "2021-06-08T07:59:03.243790Z"
    }
   },
   "outputs": [
    {
     "data": {
      "text/plain": [
       "0     36741.0\n",
       "1     89314.0\n",
       "2    141252.0\n",
       "3    189445.0\n",
       "4    287950.0\n",
       "5    343174.0\n",
       "6    399820.0\n",
       "7    443764.0\n",
       "8    543731.0\n",
       "9    546233.0\n",
       "Name: 销售额, dtype: float64"
      ]
     },
     "execution_count": 9,
     "metadata": {},
     "output_type": "execute_result"
    }
   ],
   "source": [
    "df.销售额.expanding().sum() # 滚动累加"
   ]
  },
  {
   "cell_type": "code",
   "execution_count": 11,
   "id": "under-township",
   "metadata": {
    "execution": {
     "iopub.execute_input": "2021-06-08T07:59:56.932783Z",
     "iopub.status.busy": "2021-06-08T07:59:56.932783Z",
     "iopub.status.idle": "2021-06-08T07:59:56.941794Z",
     "shell.execute_reply": "2021-06-08T07:59:56.940784Z",
     "shell.execute_reply.started": "2021-06-08T07:59:56.932783Z"
    }
   },
   "outputs": [
    {
     "data": {
      "text/plain": [
       "0     36741.0\n",
       "1     89314.0\n",
       "2    141252.0\n",
       "3    189445.0\n",
       "4    287950.0\n",
       "5    343174.0\n",
       "6    399820.0\n",
       "7    443764.0\n",
       "8    543731.0\n",
       "9    546233.0\n",
       "Name: 销售额, dtype: float64"
      ]
     },
     "execution_count": 11,
     "metadata": {},
     "output_type": "execute_result"
    }
   ],
   "source": [
    "df.销售额.rolling(window=len(df),min_periods=1).sum() # 与 “滚动累加”鲜果相同，指定了最小窗口"
   ]
  },
  {
   "cell_type": "code",
   "execution_count": 13,
   "id": "opposed-algebra",
   "metadata": {
    "execution": {
     "iopub.execute_input": "2021-06-08T08:01:15.759780Z",
     "iopub.status.busy": "2021-06-08T08:01:15.759780Z",
     "iopub.status.idle": "2021-06-08T08:01:15.785784Z",
     "shell.execute_reply": "2021-06-08T08:01:15.784779Z",
     "shell.execute_reply.started": "2021-06-08T08:01:15.759780Z"
    }
   },
   "outputs": [
    {
     "data": {
      "text/html": [
       "<div>\n",
       "<style scoped>\n",
       "    .dataframe tbody tr th:only-of-type {\n",
       "        vertical-align: middle;\n",
       "    }\n",
       "\n",
       "    .dataframe tbody tr th {\n",
       "        vertical-align: top;\n",
       "    }\n",
       "\n",
       "    .dataframe thead th {\n",
       "        text-align: right;\n",
       "    }\n",
       "</style>\n",
       "<table border=\"1\" class=\"dataframe\">\n",
       "  <thead>\n",
       "    <tr style=\"text-align: right;\">\n",
       "      <th></th>\n",
       "      <th></th>\n",
       "      <th>销售额</th>\n",
       "    </tr>\n",
       "    <tr>\n",
       "      <th>dept</th>\n",
       "      <th></th>\n",
       "      <th></th>\n",
       "    </tr>\n",
       "  </thead>\n",
       "  <tbody>\n",
       "    <tr>\n",
       "      <th rowspan=\"5\" valign=\"top\">部门1</th>\n",
       "      <th>0</th>\n",
       "      <td>NaN</td>\n",
       "    </tr>\n",
       "    <tr>\n",
       "      <th>1</th>\n",
       "      <td>NaN</td>\n",
       "    </tr>\n",
       "    <tr>\n",
       "      <th>2</th>\n",
       "      <td>47084.000000</td>\n",
       "    </tr>\n",
       "    <tr>\n",
       "      <th>3</th>\n",
       "      <td>50901.333333</td>\n",
       "    </tr>\n",
       "    <tr>\n",
       "      <th>4</th>\n",
       "      <td>66212.000000</td>\n",
       "    </tr>\n",
       "    <tr>\n",
       "      <th rowspan=\"5\" valign=\"top\">部门2</th>\n",
       "      <th>5</th>\n",
       "      <td>NaN</td>\n",
       "    </tr>\n",
       "    <tr>\n",
       "      <th>6</th>\n",
       "      <td>NaN</td>\n",
       "    </tr>\n",
       "    <tr>\n",
       "      <th>7</th>\n",
       "      <td>51938.000000</td>\n",
       "    </tr>\n",
       "    <tr>\n",
       "      <th>8</th>\n",
       "      <td>66852.333333</td>\n",
       "    </tr>\n",
       "    <tr>\n",
       "      <th>9</th>\n",
       "      <td>48804.333333</td>\n",
       "    </tr>\n",
       "  </tbody>\n",
       "</table>\n",
       "</div>"
      ],
      "text/plain": [
       "                 销售额\n",
       "dept                \n",
       "部门1  0           NaN\n",
       "     1           NaN\n",
       "     2  47084.000000\n",
       "     3  50901.333333\n",
       "     4  66212.000000\n",
       "部门2  5           NaN\n",
       "     6           NaN\n",
       "     7  51938.000000\n",
       "     8  66852.333333\n",
       "     9  48804.333333"
      ]
     },
     "execution_count": 13,
     "metadata": {},
     "output_type": "execute_result"
    }
   ],
   "source": [
    "df.groupby('dept').rolling(window=3).mean() # 分组滚动窗口计算均值，窗口大小3"
   ]
  },
  {
   "cell_type": "code",
   "execution_count": 14,
   "id": "eight-trouble",
   "metadata": {
    "execution": {
     "iopub.execute_input": "2021-06-08T08:02:20.762783Z",
     "iopub.status.busy": "2021-06-08T08:02:20.761788Z",
     "iopub.status.idle": "2021-06-08T08:02:20.779781Z",
     "shell.execute_reply": "2021-06-08T08:02:20.778787Z",
     "shell.execute_reply.started": "2021-06-08T08:02:20.762783Z"
    }
   },
   "outputs": [
    {
     "data": {
      "text/html": [
       "<div>\n",
       "<style scoped>\n",
       "    .dataframe tbody tr th:only-of-type {\n",
       "        vertical-align: middle;\n",
       "    }\n",
       "\n",
       "    .dataframe tbody tr th {\n",
       "        vertical-align: top;\n",
       "    }\n",
       "\n",
       "    .dataframe thead th {\n",
       "        text-align: right;\n",
       "    }\n",
       "</style>\n",
       "<table border=\"1\" class=\"dataframe\">\n",
       "  <thead>\n",
       "    <tr style=\"text-align: right;\">\n",
       "      <th></th>\n",
       "      <th></th>\n",
       "      <th>销售额</th>\n",
       "    </tr>\n",
       "    <tr>\n",
       "      <th>dept</th>\n",
       "      <th></th>\n",
       "      <th></th>\n",
       "    </tr>\n",
       "  </thead>\n",
       "  <tbody>\n",
       "    <tr>\n",
       "      <th rowspan=\"5\" valign=\"top\">部门1</th>\n",
       "      <th>0</th>\n",
       "      <td>36741.0</td>\n",
       "    </tr>\n",
       "    <tr>\n",
       "      <th>1</th>\n",
       "      <td>89314.0</td>\n",
       "    </tr>\n",
       "    <tr>\n",
       "      <th>2</th>\n",
       "      <td>141252.0</td>\n",
       "    </tr>\n",
       "    <tr>\n",
       "      <th>3</th>\n",
       "      <td>189445.0</td>\n",
       "    </tr>\n",
       "    <tr>\n",
       "      <th>4</th>\n",
       "      <td>287950.0</td>\n",
       "    </tr>\n",
       "    <tr>\n",
       "      <th rowspan=\"5\" valign=\"top\">部门2</th>\n",
       "      <th>5</th>\n",
       "      <td>55224.0</td>\n",
       "    </tr>\n",
       "    <tr>\n",
       "      <th>6</th>\n",
       "      <td>111870.0</td>\n",
       "    </tr>\n",
       "    <tr>\n",
       "      <th>7</th>\n",
       "      <td>155814.0</td>\n",
       "    </tr>\n",
       "    <tr>\n",
       "      <th>8</th>\n",
       "      <td>255781.0</td>\n",
       "    </tr>\n",
       "    <tr>\n",
       "      <th>9</th>\n",
       "      <td>258283.0</td>\n",
       "    </tr>\n",
       "  </tbody>\n",
       "</table>\n",
       "</div>"
      ],
      "text/plain": [
       "             销售额\n",
       "dept            \n",
       "部门1  0   36741.0\n",
       "     1   89314.0\n",
       "     2  141252.0\n",
       "     3  189445.0\n",
       "     4  287950.0\n",
       "部门2  5   55224.0\n",
       "     6  111870.0\n",
       "     7  155814.0\n",
       "     8  255781.0\n",
       "     9  258283.0"
      ]
     },
     "execution_count": 14,
     "metadata": {},
     "output_type": "execute_result"
    }
   ],
   "source": [
    "df.groupby('dept').expanding().sum() # 分组滚动窗口累加"
   ]
  }
 ],
 "metadata": {
  "kernelspec": {
   "display_name": "Python 3",
   "language": "python",
   "name": "python3"
  },
  "language_info": {
   "codemirror_mode": {
    "name": "ipython",
    "version": 3
   },
   "file_extension": ".py",
   "mimetype": "text/x-python",
   "name": "python",
   "nbconvert_exporter": "python",
   "pygments_lexer": "ipython3",
   "version": "3.6.8"
  }
 },
 "nbformat": 4,
 "nbformat_minor": 5
}
