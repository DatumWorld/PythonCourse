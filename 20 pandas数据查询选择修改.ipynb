{
 "cells": [
  {
   "cell_type": "markdown",
   "id": "private-ability",
   "metadata": {
    "execution": {
     "iopub.execute_input": "2021-05-10T07:18:52.990449Z",
     "iopub.status.busy": "2021-05-10T07:18:52.990449Z",
     "iopub.status.idle": "2021-05-10T07:18:52.994464Z",
     "shell.execute_reply": "2021-05-10T07:18:52.993452Z",
     "shell.execute_reply.started": "2021-05-10T07:18:52.990449Z"
    }
   },
   "source": [
    "##  pandas数据查询选择修改"
   ]
  },
  {
   "cell_type": "markdown",
   "id": "identified-passion",
   "metadata": {},
   "source": [
    "### 数据的查询 和选择\n",
    "#### loc iloc at iat & | head tail ~（取反）"
   ]
  },
  {
   "cell_type": "code",
   "execution_count": 1,
   "id": "opened-membership",
   "metadata": {
    "execution": {
     "iopub.execute_input": "2021-09-07T08:21:45.619240Z",
     "iopub.status.busy": "2021-09-07T08:21:45.603499Z",
     "iopub.status.idle": "2021-09-07T08:21:46.493445Z",
     "shell.execute_reply": "2021-09-07T08:21:46.493445Z",
     "shell.execute_reply.started": "2021-09-07T08:21:45.619240Z"
    }
   },
   "outputs": [],
   "source": [
    "import numpy  as np\n",
    "import pandas as pd\n",
    "from faker import Faker\n",
    "\n",
    "fake = Faker('zh_CN')\n",
    "df=pd.DataFrame(data=[ [fake.name()] for x in range(10) ],columns=['name'])"
   ]
  },
  {
   "cell_type": "code",
   "execution_count": 2,
   "id": "bound-estimate",
   "metadata": {
    "execution": {
     "iopub.execute_input": "2021-09-07T08:21:46.813016Z",
     "iopub.status.busy": "2021-09-07T08:21:46.813016Z",
     "iopub.status.idle": "2021-09-07T08:21:46.823490Z",
     "shell.execute_reply": "2021-09-07T08:21:46.821933Z",
     "shell.execute_reply.started": "2021-09-07T08:21:46.813016Z"
    }
   },
   "outputs": [],
   "source": [
    "df['销售额']=np.random.randint(100,100000,size=(10, 1))"
   ]
  },
  {
   "cell_type": "code",
   "execution_count": 3,
   "id": "nasty-terrorist",
   "metadata": {
    "execution": {
     "iopub.execute_input": "2021-09-07T08:21:49.231060Z",
     "iopub.status.busy": "2021-09-07T08:21:49.231060Z",
     "iopub.status.idle": "2021-09-07T08:21:49.254191Z",
     "shell.execute_reply": "2021-09-07T08:21:49.251968Z",
     "shell.execute_reply.started": "2021-09-07T08:21:49.231060Z"
    }
   },
   "outputs": [],
   "source": [
    "df.insert(0,'dept',['部门1']*5+['部门2']*5)"
   ]
  },
  {
   "cell_type": "code",
   "execution_count": 4,
   "id": "professional-gates",
   "metadata": {
    "execution": {
     "iopub.execute_input": "2021-09-07T08:21:50.493607Z",
     "iopub.status.busy": "2021-09-07T08:21:50.493607Z",
     "iopub.status.idle": "2021-09-07T08:21:50.533470Z",
     "shell.execute_reply": "2021-09-07T08:21:50.531840Z",
     "shell.execute_reply.started": "2021-09-07T08:21:50.493607Z"
    }
   },
   "outputs": [
    {
     "data": {
      "text/html": [
       "<div>\n",
       "<style scoped>\n",
       "    .dataframe tbody tr th:only-of-type {\n",
       "        vertical-align: middle;\n",
       "    }\n",
       "\n",
       "    .dataframe tbody tr th {\n",
       "        vertical-align: top;\n",
       "    }\n",
       "\n",
       "    .dataframe thead th {\n",
       "        text-align: right;\n",
       "    }\n",
       "</style>\n",
       "<table border=\"1\" class=\"dataframe\">\n",
       "  <thead>\n",
       "    <tr style=\"text-align: right;\">\n",
       "      <th></th>\n",
       "      <th>dept</th>\n",
       "      <th>name</th>\n",
       "      <th>销售额</th>\n",
       "    </tr>\n",
       "  </thead>\n",
       "  <tbody>\n",
       "    <tr>\n",
       "      <th>0</th>\n",
       "      <td>部门1</td>\n",
       "      <td>詹志强</td>\n",
       "      <td>76675</td>\n",
       "    </tr>\n",
       "    <tr>\n",
       "      <th>1</th>\n",
       "      <td>部门1</td>\n",
       "      <td>姜婷</td>\n",
       "      <td>72822</td>\n",
       "    </tr>\n",
       "    <tr>\n",
       "      <th>2</th>\n",
       "      <td>部门1</td>\n",
       "      <td>徐凤兰</td>\n",
       "      <td>8072</td>\n",
       "    </tr>\n",
       "    <tr>\n",
       "      <th>3</th>\n",
       "      <td>部门1</td>\n",
       "      <td>张建军</td>\n",
       "      <td>81172</td>\n",
       "    </tr>\n",
       "    <tr>\n",
       "      <th>4</th>\n",
       "      <td>部门1</td>\n",
       "      <td>张璐</td>\n",
       "      <td>81996</td>\n",
       "    </tr>\n",
       "    <tr>\n",
       "      <th>5</th>\n",
       "      <td>部门2</td>\n",
       "      <td>丁颖</td>\n",
       "      <td>60047</td>\n",
       "    </tr>\n",
       "    <tr>\n",
       "      <th>6</th>\n",
       "      <td>部门2</td>\n",
       "      <td>庞杰</td>\n",
       "      <td>94096</td>\n",
       "    </tr>\n",
       "    <tr>\n",
       "      <th>7</th>\n",
       "      <td>部门2</td>\n",
       "      <td>王桂英</td>\n",
       "      <td>54048</td>\n",
       "    </tr>\n",
       "    <tr>\n",
       "      <th>8</th>\n",
       "      <td>部门2</td>\n",
       "      <td>谷海燕</td>\n",
       "      <td>6518</td>\n",
       "    </tr>\n",
       "    <tr>\n",
       "      <th>9</th>\n",
       "      <td>部门2</td>\n",
       "      <td>冯辉</td>\n",
       "      <td>53367</td>\n",
       "    </tr>\n",
       "  </tbody>\n",
       "</table>\n",
       "</div>"
      ],
      "text/plain": [
       "  dept name    销售额\n",
       "0  部门1  詹志强  76675\n",
       "1  部门1   姜婷  72822\n",
       "2  部门1  徐凤兰   8072\n",
       "3  部门1  张建军  81172\n",
       "4  部门1   张璐  81996\n",
       "5  部门2   丁颖  60047\n",
       "6  部门2   庞杰  94096\n",
       "7  部门2  王桂英  54048\n",
       "8  部门2  谷海燕   6518\n",
       "9  部门2   冯辉  53367"
      ]
     },
     "execution_count": 4,
     "metadata": {},
     "output_type": "execute_result"
    }
   ],
   "source": [
    "df # 随机生成的数据"
   ]
  },
  {
   "cell_type": "code",
   "execution_count": 13,
   "id": "dimensional-narrow",
   "metadata": {
    "execution": {
     "iopub.execute_input": "2021-06-09T07:41:58.411436Z",
     "iopub.status.busy": "2021-06-09T07:41:58.410442Z",
     "iopub.status.idle": "2021-06-09T07:41:58.424434Z",
     "shell.execute_reply": "2021-06-09T07:41:58.422451Z",
     "shell.execute_reply.started": "2021-06-09T07:41:58.411436Z"
    }
   },
   "outputs": [
    {
     "data": {
      "text/html": [
       "<div>\n",
       "<style scoped>\n",
       "    .dataframe tbody tr th:only-of-type {\n",
       "        vertical-align: middle;\n",
       "    }\n",
       "\n",
       "    .dataframe tbody tr th {\n",
       "        vertical-align: top;\n",
       "    }\n",
       "\n",
       "    .dataframe thead th {\n",
       "        text-align: right;\n",
       "    }\n",
       "</style>\n",
       "<table border=\"1\" class=\"dataframe\">\n",
       "  <thead>\n",
       "    <tr style=\"text-align: right;\">\n",
       "      <th></th>\n",
       "      <th>dept</th>\n",
       "      <th>name</th>\n",
       "      <th>销售额</th>\n",
       "    </tr>\n",
       "  </thead>\n",
       "  <tbody>\n",
       "    <tr>\n",
       "      <th>0</th>\n",
       "      <td>部门1</td>\n",
       "      <td>王瑞</td>\n",
       "      <td>63609</td>\n",
       "    </tr>\n",
       "  </tbody>\n",
       "</table>\n",
       "</div>"
      ],
      "text/plain": [
       "  dept name    销售额\n",
       "0  部门1   王瑞  63609"
      ]
     },
     "execution_count": 13,
     "metadata": {},
     "output_type": "execute_result"
    }
   ],
   "source": [
    "df.head(1) # 选择最前面一行"
   ]
  },
  {
   "cell_type": "code",
   "execution_count": 15,
   "id": "motivated-custody",
   "metadata": {
    "execution": {
     "iopub.execute_input": "2021-06-09T07:42:40.163434Z",
     "iopub.status.busy": "2021-06-09T07:42:40.163434Z",
     "iopub.status.idle": "2021-06-09T07:42:40.175441Z",
     "shell.execute_reply": "2021-06-09T07:42:40.173441Z",
     "shell.execute_reply.started": "2021-06-09T07:42:40.163434Z"
    }
   },
   "outputs": [
    {
     "data": {
      "text/html": [
       "<div>\n",
       "<style scoped>\n",
       "    .dataframe tbody tr th:only-of-type {\n",
       "        vertical-align: middle;\n",
       "    }\n",
       "\n",
       "    .dataframe tbody tr th {\n",
       "        vertical-align: top;\n",
       "    }\n",
       "\n",
       "    .dataframe thead th {\n",
       "        text-align: right;\n",
       "    }\n",
       "</style>\n",
       "<table border=\"1\" class=\"dataframe\">\n",
       "  <thead>\n",
       "    <tr style=\"text-align: right;\">\n",
       "      <th></th>\n",
       "      <th>dept</th>\n",
       "      <th>name</th>\n",
       "      <th>销售额</th>\n",
       "    </tr>\n",
       "  </thead>\n",
       "  <tbody>\n",
       "    <tr>\n",
       "      <th>7</th>\n",
       "      <td>部门2</td>\n",
       "      <td>伊斌</td>\n",
       "      <td>10075</td>\n",
       "    </tr>\n",
       "    <tr>\n",
       "      <th>8</th>\n",
       "      <td>部门2</td>\n",
       "      <td>王梅</td>\n",
       "      <td>97768</td>\n",
       "    </tr>\n",
       "    <tr>\n",
       "      <th>9</th>\n",
       "      <td>部门2</td>\n",
       "      <td>程芳</td>\n",
       "      <td>49716</td>\n",
       "    </tr>\n",
       "  </tbody>\n",
       "</table>\n",
       "</div>"
      ],
      "text/plain": [
       "  dept name    销售额\n",
       "7  部门2   伊斌  10075\n",
       "8  部门2   王梅  97768\n",
       "9  部门2   程芳  49716"
      ]
     },
     "execution_count": 15,
     "metadata": {},
     "output_type": "execute_result"
    }
   ],
   "source": [
    "df.tail(3) # 选择最3行"
   ]
  },
  {
   "cell_type": "code",
   "execution_count": 20,
   "id": "sweet-console",
   "metadata": {
    "execution": {
     "iopub.execute_input": "2021-06-09T07:44:00.305434Z",
     "iopub.status.busy": "2021-06-09T07:44:00.304436Z",
     "iopub.status.idle": "2021-06-09T07:44:00.320448Z",
     "shell.execute_reply": "2021-06-09T07:44:00.318445Z",
     "shell.execute_reply.started": "2021-06-09T07:44:00.305434Z"
    }
   },
   "outputs": [
    {
     "data": {
      "text/html": [
       "<div>\n",
       "<style scoped>\n",
       "    .dataframe tbody tr th:only-of-type {\n",
       "        vertical-align: middle;\n",
       "    }\n",
       "\n",
       "    .dataframe tbody tr th {\n",
       "        vertical-align: top;\n",
       "    }\n",
       "\n",
       "    .dataframe thead th {\n",
       "        text-align: right;\n",
       "    }\n",
       "</style>\n",
       "<table border=\"1\" class=\"dataframe\">\n",
       "  <thead>\n",
       "    <tr style=\"text-align: right;\">\n",
       "      <th></th>\n",
       "      <th>dept</th>\n",
       "      <th>name</th>\n",
       "    </tr>\n",
       "  </thead>\n",
       "  <tbody>\n",
       "    <tr>\n",
       "      <th>1</th>\n",
       "      <td>部门1</td>\n",
       "      <td>兰荣</td>\n",
       "    </tr>\n",
       "    <tr>\n",
       "      <th>2</th>\n",
       "      <td>部门1</td>\n",
       "      <td>林桂花</td>\n",
       "    </tr>\n",
       "    <tr>\n",
       "      <th>3</th>\n",
       "      <td>部门1</td>\n",
       "      <td>谢冬梅</td>\n",
       "    </tr>\n",
       "  </tbody>\n",
       "</table>\n",
       "</div>"
      ],
      "text/plain": [
       "  dept name\n",
       "1  部门1   兰荣\n",
       "2  部门1  林桂花\n",
       "3  部门1  谢冬梅"
      ]
     },
     "execution_count": 20,
     "metadata": {},
     "output_type": "execute_result"
    }
   ],
   "source": [
    "df.loc[1:3,['dept','name']] # loc位置标签选择"
   ]
  },
  {
   "cell_type": "code",
   "execution_count": 29,
   "id": "documented-lesbian",
   "metadata": {
    "execution": {
     "iopub.execute_input": "2021-06-09T07:46:48.690434Z",
     "iopub.status.busy": "2021-06-09T07:46:48.689433Z",
     "iopub.status.idle": "2021-06-09T07:46:48.696437Z",
     "shell.execute_reply": "2021-06-09T07:46:48.695434Z",
     "shell.execute_reply.started": "2021-06-09T07:46:48.690434Z"
    }
   },
   "outputs": [
    {
     "data": {
      "text/plain": [
       "'部门1'"
      ]
     },
     "execution_count": 29,
     "metadata": {},
     "output_type": "execute_result"
    }
   ],
   "source": [
    "df.at[1,'dept'] # 另一种选择方式"
   ]
  },
  {
   "cell_type": "code",
   "execution_count": 24,
   "id": "invalid-alabama",
   "metadata": {
    "execution": {
     "iopub.execute_input": "2021-06-09T07:45:33.828433Z",
     "iopub.status.busy": "2021-06-09T07:45:33.828433Z",
     "iopub.status.idle": "2021-06-09T07:45:33.836439Z",
     "shell.execute_reply": "2021-06-09T07:45:33.834434Z",
     "shell.execute_reply.started": "2021-06-09T07:45:33.828433Z"
    }
   },
   "outputs": [
    {
     "data": {
      "text/plain": [
       "'部门1'"
      ]
     },
     "execution_count": 24,
     "metadata": {},
     "output_type": "execute_result"
    }
   ],
   "source": [
    "df.iloc[1,0] # “位置号“选择"
   ]
  },
  {
   "cell_type": "code",
   "execution_count": 25,
   "id": "decimal-chosen",
   "metadata": {
    "execution": {
     "iopub.execute_input": "2021-06-09T07:45:48.325435Z",
     "iopub.status.busy": "2021-06-09T07:45:48.324436Z",
     "iopub.status.idle": "2021-06-09T07:45:48.331435Z",
     "shell.execute_reply": "2021-06-09T07:45:48.329449Z",
     "shell.execute_reply.started": "2021-06-09T07:45:48.324436Z"
    }
   },
   "outputs": [
    {
     "data": {
      "text/plain": [
       "'部门1'"
      ]
     },
     "execution_count": 25,
     "metadata": {},
     "output_type": "execute_result"
    }
   ],
   "source": [
    "df.iat[1,0] # “位置号“选择 同上"
   ]
  },
  {
   "cell_type": "code",
   "execution_count": 8,
   "id": "revolutionary-disaster",
   "metadata": {
    "execution": {
     "iopub.execute_input": "2021-09-07T08:22:50.662234Z",
     "iopub.status.busy": "2021-09-07T08:22:50.662234Z",
     "iopub.status.idle": "2021-09-07T08:22:50.685526Z",
     "shell.execute_reply": "2021-09-07T08:22:50.684488Z",
     "shell.execute_reply.started": "2021-09-07T08:22:50.662234Z"
    }
   },
   "outputs": [
    {
     "data": {
      "text/html": [
       "<div>\n",
       "<style scoped>\n",
       "    .dataframe tbody tr th:only-of-type {\n",
       "        vertical-align: middle;\n",
       "    }\n",
       "\n",
       "    .dataframe tbody tr th {\n",
       "        vertical-align: top;\n",
       "    }\n",
       "\n",
       "    .dataframe thead th {\n",
       "        text-align: right;\n",
       "    }\n",
       "</style>\n",
       "<table border=\"1\" class=\"dataframe\">\n",
       "  <thead>\n",
       "    <tr style=\"text-align: right;\">\n",
       "      <th></th>\n",
       "      <th>dept</th>\n",
       "      <th>name</th>\n",
       "      <th>销售额</th>\n",
       "    </tr>\n",
       "  </thead>\n",
       "  <tbody>\n",
       "    <tr>\n",
       "      <th>0</th>\n",
       "      <td>部门1</td>\n",
       "      <td>詹志强</td>\n",
       "      <td>76675</td>\n",
       "    </tr>\n",
       "    <tr>\n",
       "      <th>1</th>\n",
       "      <td>部门1</td>\n",
       "      <td>姜婷</td>\n",
       "      <td>72822</td>\n",
       "    </tr>\n",
       "    <tr>\n",
       "      <th>3</th>\n",
       "      <td>部门1</td>\n",
       "      <td>张建军</td>\n",
       "      <td>81172</td>\n",
       "    </tr>\n",
       "    <tr>\n",
       "      <th>4</th>\n",
       "      <td>部门1</td>\n",
       "      <td>张璐</td>\n",
       "      <td>81996</td>\n",
       "    </tr>\n",
       "    <tr>\n",
       "      <th>5</th>\n",
       "      <td>部门2</td>\n",
       "      <td>丁颖</td>\n",
       "      <td>60047</td>\n",
       "    </tr>\n",
       "    <tr>\n",
       "      <th>6</th>\n",
       "      <td>部门2</td>\n",
       "      <td>庞杰</td>\n",
       "      <td>94096</td>\n",
       "    </tr>\n",
       "    <tr>\n",
       "      <th>7</th>\n",
       "      <td>部门2</td>\n",
       "      <td>王桂英</td>\n",
       "      <td>54048</td>\n",
       "    </tr>\n",
       "    <tr>\n",
       "      <th>9</th>\n",
       "      <td>部门2</td>\n",
       "      <td>冯辉</td>\n",
       "      <td>53367</td>\n",
       "    </tr>\n",
       "  </tbody>\n",
       "</table>\n",
       "</div>"
      ],
      "text/plain": [
       "  dept name    销售额\n",
       "0  部门1  詹志强  76675\n",
       "1  部门1   姜婷  72822\n",
       "3  部门1  张建军  81172\n",
       "4  部门1   张璐  81996\n",
       "5  部门2   丁颖  60047\n",
       "6  部门2   庞杰  94096\n",
       "7  部门2  王桂英  54048\n",
       "9  部门2   冯辉  53367"
      ]
     },
     "execution_count": 8,
     "metadata": {},
     "output_type": "execute_result"
    }
   ],
   "source": [
    "df[df.销售额>50000] # 条件查询"
   ]
  },
  {
   "cell_type": "code",
   "execution_count": 9,
   "id": "invalid-mason",
   "metadata": {
    "execution": {
     "iopub.execute_input": "2021-09-07T08:22:54.336272Z",
     "iopub.status.busy": "2021-09-07T08:22:54.336272Z",
     "iopub.status.idle": "2021-09-07T08:22:54.354471Z",
     "shell.execute_reply": "2021-09-07T08:22:54.352349Z",
     "shell.execute_reply.started": "2021-09-07T08:22:54.336272Z"
    }
   },
   "outputs": [
    {
     "data": {
      "text/html": [
       "<div>\n",
       "<style scoped>\n",
       "    .dataframe tbody tr th:only-of-type {\n",
       "        vertical-align: middle;\n",
       "    }\n",
       "\n",
       "    .dataframe tbody tr th {\n",
       "        vertical-align: top;\n",
       "    }\n",
       "\n",
       "    .dataframe thead th {\n",
       "        text-align: right;\n",
       "    }\n",
       "</style>\n",
       "<table border=\"1\" class=\"dataframe\">\n",
       "  <thead>\n",
       "    <tr style=\"text-align: right;\">\n",
       "      <th></th>\n",
       "      <th>dept</th>\n",
       "      <th>name</th>\n",
       "      <th>销售额</th>\n",
       "    </tr>\n",
       "  </thead>\n",
       "  <tbody>\n",
       "    <tr>\n",
       "      <th>2</th>\n",
       "      <td>部门1</td>\n",
       "      <td>徐凤兰</td>\n",
       "      <td>8072</td>\n",
       "    </tr>\n",
       "    <tr>\n",
       "      <th>8</th>\n",
       "      <td>部门2</td>\n",
       "      <td>谷海燕</td>\n",
       "      <td>6518</td>\n",
       "    </tr>\n",
       "  </tbody>\n",
       "</table>\n",
       "</div>"
      ],
      "text/plain": [
       "  dept name   销售额\n",
       "2  部门1  徐凤兰  8072\n",
       "8  部门2  谷海燕  6518"
      ]
     },
     "execution_count": 9,
     "metadata": {},
     "output_type": "execute_result"
    }
   ],
   "source": [
    "df[~(df.销售额>50000)] # 条件查询，取反"
   ]
  },
  {
   "cell_type": "code",
   "execution_count": 31,
   "id": "resistant-tournament",
   "metadata": {
    "execution": {
     "iopub.execute_input": "2021-06-09T07:48:31.333451Z",
     "iopub.status.busy": "2021-06-09T07:48:31.332433Z",
     "iopub.status.idle": "2021-06-09T07:48:31.354435Z",
     "shell.execute_reply": "2021-06-09T07:48:31.353433Z",
     "shell.execute_reply.started": "2021-06-09T07:48:31.333451Z"
    }
   },
   "outputs": [
    {
     "data": {
      "text/html": [
       "<div>\n",
       "<style scoped>\n",
       "    .dataframe tbody tr th:only-of-type {\n",
       "        vertical-align: middle;\n",
       "    }\n",
       "\n",
       "    .dataframe tbody tr th {\n",
       "        vertical-align: top;\n",
       "    }\n",
       "\n",
       "    .dataframe thead th {\n",
       "        text-align: right;\n",
       "    }\n",
       "</style>\n",
       "<table border=\"1\" class=\"dataframe\">\n",
       "  <thead>\n",
       "    <tr style=\"text-align: right;\">\n",
       "      <th></th>\n",
       "      <th>dept</th>\n",
       "      <th>name</th>\n",
       "      <th>销售额</th>\n",
       "    </tr>\n",
       "  </thead>\n",
       "  <tbody>\n",
       "    <tr>\n",
       "      <th>0</th>\n",
       "      <td>部门1</td>\n",
       "      <td>王瑞</td>\n",
       "      <td>63609</td>\n",
       "    </tr>\n",
       "    <tr>\n",
       "      <th>1</th>\n",
       "      <td>部门1</td>\n",
       "      <td>兰荣</td>\n",
       "      <td>86675</td>\n",
       "    </tr>\n",
       "  </tbody>\n",
       "</table>\n",
       "</div>"
      ],
      "text/plain": [
       "  dept name    销售额\n",
       "0  部门1   王瑞  63609\n",
       "1  部门1   兰荣  86675"
      ]
     },
     "execution_count": 31,
     "metadata": {},
     "output_type": "execute_result"
    }
   ],
   "source": [
    "df[ (df.销售额>50000) & (df.dept=='部门1')] # 多条件查询，& 相当于and "
   ]
  },
  {
   "cell_type": "code",
   "execution_count": 32,
   "id": "private-penny",
   "metadata": {
    "execution": {
     "iopub.execute_input": "2021-06-09T07:49:03.355432Z",
     "iopub.status.busy": "2021-06-09T07:49:03.355432Z",
     "iopub.status.idle": "2021-06-09T07:49:03.364440Z",
     "shell.execute_reply": "2021-06-09T07:49:03.363434Z",
     "shell.execute_reply.started": "2021-06-09T07:49:03.355432Z"
    }
   },
   "outputs": [
    {
     "data": {
      "text/html": [
       "<div>\n",
       "<style scoped>\n",
       "    .dataframe tbody tr th:only-of-type {\n",
       "        vertical-align: middle;\n",
       "    }\n",
       "\n",
       "    .dataframe tbody tr th {\n",
       "        vertical-align: top;\n",
       "    }\n",
       "\n",
       "    .dataframe thead th {\n",
       "        text-align: right;\n",
       "    }\n",
       "</style>\n",
       "<table border=\"1\" class=\"dataframe\">\n",
       "  <thead>\n",
       "    <tr style=\"text-align: right;\">\n",
       "      <th></th>\n",
       "      <th>dept</th>\n",
       "      <th>name</th>\n",
       "      <th>销售额</th>\n",
       "    </tr>\n",
       "  </thead>\n",
       "  <tbody>\n",
       "    <tr>\n",
       "      <th>0</th>\n",
       "      <td>部门1</td>\n",
       "      <td>王瑞</td>\n",
       "      <td>63609</td>\n",
       "    </tr>\n",
       "    <tr>\n",
       "      <th>1</th>\n",
       "      <td>部门1</td>\n",
       "      <td>兰荣</td>\n",
       "      <td>86675</td>\n",
       "    </tr>\n",
       "    <tr>\n",
       "      <th>2</th>\n",
       "      <td>部门1</td>\n",
       "      <td>林桂花</td>\n",
       "      <td>27354</td>\n",
       "    </tr>\n",
       "    <tr>\n",
       "      <th>3</th>\n",
       "      <td>部门1</td>\n",
       "      <td>谢冬梅</td>\n",
       "      <td>40684</td>\n",
       "    </tr>\n",
       "    <tr>\n",
       "      <th>4</th>\n",
       "      <td>部门1</td>\n",
       "      <td>李刚</td>\n",
       "      <td>31702</td>\n",
       "    </tr>\n",
       "    <tr>\n",
       "      <th>8</th>\n",
       "      <td>部门2</td>\n",
       "      <td>王梅</td>\n",
       "      <td>97768</td>\n",
       "    </tr>\n",
       "  </tbody>\n",
       "</table>\n",
       "</div>"
      ],
      "text/plain": [
       "  dept name    销售额\n",
       "0  部门1   王瑞  63609\n",
       "1  部门1   兰荣  86675\n",
       "2  部门1  林桂花  27354\n",
       "3  部门1  谢冬梅  40684\n",
       "4  部门1   李刚  31702\n",
       "8  部门2   王梅  97768"
      ]
     },
     "execution_count": 32,
     "metadata": {},
     "output_type": "execute_result"
    }
   ],
   "source": [
    "df[ (df.销售额>50000) | (df.dept=='部门1')] # 多条件查询，| 相当于or "
   ]
  }
 ],
 "metadata": {
  "kernelspec": {
   "display_name": "Python 3",
   "language": "python",
   "name": "python3"
  },
  "language_info": {
   "codemirror_mode": {
    "name": "ipython",
    "version": 3
   },
   "file_extension": ".py",
   "mimetype": "text/x-python",
   "name": "python",
   "nbconvert_exporter": "python",
   "pygments_lexer": "ipython3",
   "version": "3.6.8"
  }
 },
 "nbformat": 4,
 "nbformat_minor": 5
}
