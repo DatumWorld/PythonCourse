{
 "cells": [
  {
   "cell_type": "markdown",
   "id": "verbal-warner",
   "metadata": {
    "execution": {
     "iopub.execute_input": "2021-05-10T07:18:52.990449Z",
     "iopub.status.busy": "2021-05-10T07:18:52.990449Z",
     "iopub.status.idle": "2021-05-10T07:18:52.994464Z",
     "shell.execute_reply": "2021-05-10T07:18:52.993452Z",
     "shell.execute_reply.started": "2021-05-10T07:18:52.990449Z"
    }
   },
   "source": [
    "##  pandas数据查询选择修改"
   ]
  },
  {
   "cell_type": "markdown",
   "id": "typical-change",
   "metadata": {},
   "source": [
    "### 数据的查询 和选择\n",
    "#### loc iloc at iat & | head tail"
   ]
  },
  {
   "cell_type": "code",
   "execution_count": 8,
   "id": "generous-lunch",
   "metadata": {
    "execution": {
     "iopub.execute_input": "2021-06-09T07:40:27.534434Z",
     "iopub.status.busy": "2021-06-09T07:40:27.534434Z",
     "iopub.status.idle": "2021-06-09T07:40:27.571461Z",
     "shell.execute_reply": "2021-06-09T07:40:27.571461Z",
     "shell.execute_reply.started": "2021-06-09T07:40:27.534434Z"
    }
   },
   "outputs": [],
   "source": [
    "import numpy  as np\n",
    "import pandas as pd\n",
    "from faker import Faker\n",
    "\n",
    "fake = Faker('zh_CN')\n",
    "df=pd.DataFrame(data=[ [fake.name()] for x in range(10) ],columns=['name'])"
   ]
  },
  {
   "cell_type": "code",
   "execution_count": 9,
   "id": "killing-contamination",
   "metadata": {
    "execution": {
     "iopub.execute_input": "2021-06-09T07:40:28.644433Z",
     "iopub.status.busy": "2021-06-09T07:40:28.644433Z",
     "iopub.status.idle": "2021-06-09T07:40:28.649437Z",
     "shell.execute_reply": "2021-06-09T07:40:28.648470Z",
     "shell.execute_reply.started": "2021-06-09T07:40:28.644433Z"
    }
   },
   "outputs": [],
   "source": [
    "df['销售额']=np.random.randint(100,100000,size=(10, 1))"
   ]
  },
  {
   "cell_type": "code",
   "execution_count": 10,
   "id": "copyrighted-clinic",
   "metadata": {
    "execution": {
     "iopub.execute_input": "2021-06-09T07:40:29.523464Z",
     "iopub.status.busy": "2021-06-09T07:40:29.523464Z",
     "iopub.status.idle": "2021-06-09T07:40:29.526450Z",
     "shell.execute_reply": "2021-06-09T07:40:29.526450Z",
     "shell.execute_reply.started": "2021-06-09T07:40:29.523464Z"
    }
   },
   "outputs": [],
   "source": [
    "df.insert(0,'dept',['部门1']*5+['部门2']*5)"
   ]
  },
  {
   "cell_type": "code",
   "execution_count": 11,
   "id": "surprising-tumor",
   "metadata": {
    "execution": {
     "iopub.execute_input": "2021-06-09T07:40:30.414433Z",
     "iopub.status.busy": "2021-06-09T07:40:30.414433Z",
     "iopub.status.idle": "2021-06-09T07:40:30.421471Z",
     "shell.execute_reply": "2021-06-09T07:40:30.421471Z",
     "shell.execute_reply.started": "2021-06-09T07:40:30.414433Z"
    }
   },
   "outputs": [
    {
     "data": {
      "text/html": [
       "<div>\n",
       "<style scoped>\n",
       "    .dataframe tbody tr th:only-of-type {\n",
       "        vertical-align: middle;\n",
       "    }\n",
       "\n",
       "    .dataframe tbody tr th {\n",
       "        vertical-align: top;\n",
       "    }\n",
       "\n",
       "    .dataframe thead th {\n",
       "        text-align: right;\n",
       "    }\n",
       "</style>\n",
       "<table border=\"1\" class=\"dataframe\">\n",
       "  <thead>\n",
       "    <tr style=\"text-align: right;\">\n",
       "      <th></th>\n",
       "      <th>dept</th>\n",
       "      <th>name</th>\n",
       "      <th>销售额</th>\n",
       "    </tr>\n",
       "  </thead>\n",
       "  <tbody>\n",
       "    <tr>\n",
       "      <th>0</th>\n",
       "      <td>部门1</td>\n",
       "      <td>王瑞</td>\n",
       "      <td>63609</td>\n",
       "    </tr>\n",
       "    <tr>\n",
       "      <th>1</th>\n",
       "      <td>部门1</td>\n",
       "      <td>兰荣</td>\n",
       "      <td>86675</td>\n",
       "    </tr>\n",
       "    <tr>\n",
       "      <th>2</th>\n",
       "      <td>部门1</td>\n",
       "      <td>林桂花</td>\n",
       "      <td>27354</td>\n",
       "    </tr>\n",
       "    <tr>\n",
       "      <th>3</th>\n",
       "      <td>部门1</td>\n",
       "      <td>谢冬梅</td>\n",
       "      <td>40684</td>\n",
       "    </tr>\n",
       "    <tr>\n",
       "      <th>4</th>\n",
       "      <td>部门1</td>\n",
       "      <td>李刚</td>\n",
       "      <td>31702</td>\n",
       "    </tr>\n",
       "    <tr>\n",
       "      <th>5</th>\n",
       "      <td>部门2</td>\n",
       "      <td>朱丽华</td>\n",
       "      <td>15205</td>\n",
       "    </tr>\n",
       "    <tr>\n",
       "      <th>6</th>\n",
       "      <td>部门2</td>\n",
       "      <td>刘华</td>\n",
       "      <td>23311</td>\n",
       "    </tr>\n",
       "    <tr>\n",
       "      <th>7</th>\n",
       "      <td>部门2</td>\n",
       "      <td>伊斌</td>\n",
       "      <td>10075</td>\n",
       "    </tr>\n",
       "    <tr>\n",
       "      <th>8</th>\n",
       "      <td>部门2</td>\n",
       "      <td>王梅</td>\n",
       "      <td>97768</td>\n",
       "    </tr>\n",
       "    <tr>\n",
       "      <th>9</th>\n",
       "      <td>部门2</td>\n",
       "      <td>程芳</td>\n",
       "      <td>49716</td>\n",
       "    </tr>\n",
       "  </tbody>\n",
       "</table>\n",
       "</div>"
      ],
      "text/plain": [
       "  dept name    销售额\n",
       "0  部门1   王瑞  63609\n",
       "1  部门1   兰荣  86675\n",
       "2  部门1  林桂花  27354\n",
       "3  部门1  谢冬梅  40684\n",
       "4  部门1   李刚  31702\n",
       "5  部门2  朱丽华  15205\n",
       "6  部门2   刘华  23311\n",
       "7  部门2   伊斌  10075\n",
       "8  部门2   王梅  97768\n",
       "9  部门2   程芳  49716"
      ]
     },
     "execution_count": 11,
     "metadata": {},
     "output_type": "execute_result"
    }
   ],
   "source": [
    "df # 随机生成的数据"
   ]
  },
  {
   "cell_type": "code",
   "execution_count": 13,
   "id": "blank-anatomy",
   "metadata": {
    "execution": {
     "iopub.execute_input": "2021-06-09T07:41:58.411436Z",
     "iopub.status.busy": "2021-06-09T07:41:58.410442Z",
     "iopub.status.idle": "2021-06-09T07:41:58.424434Z",
     "shell.execute_reply": "2021-06-09T07:41:58.422451Z",
     "shell.execute_reply.started": "2021-06-09T07:41:58.411436Z"
    }
   },
   "outputs": [
    {
     "data": {
      "text/html": [
       "<div>\n",
       "<style scoped>\n",
       "    .dataframe tbody tr th:only-of-type {\n",
       "        vertical-align: middle;\n",
       "    }\n",
       "\n",
       "    .dataframe tbody tr th {\n",
       "        vertical-align: top;\n",
       "    }\n",
       "\n",
       "    .dataframe thead th {\n",
       "        text-align: right;\n",
       "    }\n",
       "</style>\n",
       "<table border=\"1\" class=\"dataframe\">\n",
       "  <thead>\n",
       "    <tr style=\"text-align: right;\">\n",
       "      <th></th>\n",
       "      <th>dept</th>\n",
       "      <th>name</th>\n",
       "      <th>销售额</th>\n",
       "    </tr>\n",
       "  </thead>\n",
       "  <tbody>\n",
       "    <tr>\n",
       "      <th>0</th>\n",
       "      <td>部门1</td>\n",
       "      <td>王瑞</td>\n",
       "      <td>63609</td>\n",
       "    </tr>\n",
       "  </tbody>\n",
       "</table>\n",
       "</div>"
      ],
      "text/plain": [
       "  dept name    销售额\n",
       "0  部门1   王瑞  63609"
      ]
     },
     "execution_count": 13,
     "metadata": {},
     "output_type": "execute_result"
    }
   ],
   "source": [
    "df.head(1) # 选择最前面一行"
   ]
  },
  {
   "cell_type": "code",
   "execution_count": 15,
   "id": "wanted-navigation",
   "metadata": {
    "execution": {
     "iopub.execute_input": "2021-06-09T07:42:40.163434Z",
     "iopub.status.busy": "2021-06-09T07:42:40.163434Z",
     "iopub.status.idle": "2021-06-09T07:42:40.175441Z",
     "shell.execute_reply": "2021-06-09T07:42:40.173441Z",
     "shell.execute_reply.started": "2021-06-09T07:42:40.163434Z"
    }
   },
   "outputs": [
    {
     "data": {
      "text/html": [
       "<div>\n",
       "<style scoped>\n",
       "    .dataframe tbody tr th:only-of-type {\n",
       "        vertical-align: middle;\n",
       "    }\n",
       "\n",
       "    .dataframe tbody tr th {\n",
       "        vertical-align: top;\n",
       "    }\n",
       "\n",
       "    .dataframe thead th {\n",
       "        text-align: right;\n",
       "    }\n",
       "</style>\n",
       "<table border=\"1\" class=\"dataframe\">\n",
       "  <thead>\n",
       "    <tr style=\"text-align: right;\">\n",
       "      <th></th>\n",
       "      <th>dept</th>\n",
       "      <th>name</th>\n",
       "      <th>销售额</th>\n",
       "    </tr>\n",
       "  </thead>\n",
       "  <tbody>\n",
       "    <tr>\n",
       "      <th>7</th>\n",
       "      <td>部门2</td>\n",
       "      <td>伊斌</td>\n",
       "      <td>10075</td>\n",
       "    </tr>\n",
       "    <tr>\n",
       "      <th>8</th>\n",
       "      <td>部门2</td>\n",
       "      <td>王梅</td>\n",
       "      <td>97768</td>\n",
       "    </tr>\n",
       "    <tr>\n",
       "      <th>9</th>\n",
       "      <td>部门2</td>\n",
       "      <td>程芳</td>\n",
       "      <td>49716</td>\n",
       "    </tr>\n",
       "  </tbody>\n",
       "</table>\n",
       "</div>"
      ],
      "text/plain": [
       "  dept name    销售额\n",
       "7  部门2   伊斌  10075\n",
       "8  部门2   王梅  97768\n",
       "9  部门2   程芳  49716"
      ]
     },
     "execution_count": 15,
     "metadata": {},
     "output_type": "execute_result"
    }
   ],
   "source": [
    "df.tail(3) # 选择最3行"
   ]
  },
  {
   "cell_type": "code",
   "execution_count": 20,
   "id": "capital-migration",
   "metadata": {
    "execution": {
     "iopub.execute_input": "2021-06-09T07:44:00.305434Z",
     "iopub.status.busy": "2021-06-09T07:44:00.304436Z",
     "iopub.status.idle": "2021-06-09T07:44:00.320448Z",
     "shell.execute_reply": "2021-06-09T07:44:00.318445Z",
     "shell.execute_reply.started": "2021-06-09T07:44:00.305434Z"
    }
   },
   "outputs": [
    {
     "data": {
      "text/html": [
       "<div>\n",
       "<style scoped>\n",
       "    .dataframe tbody tr th:only-of-type {\n",
       "        vertical-align: middle;\n",
       "    }\n",
       "\n",
       "    .dataframe tbody tr th {\n",
       "        vertical-align: top;\n",
       "    }\n",
       "\n",
       "    .dataframe thead th {\n",
       "        text-align: right;\n",
       "    }\n",
       "</style>\n",
       "<table border=\"1\" class=\"dataframe\">\n",
       "  <thead>\n",
       "    <tr style=\"text-align: right;\">\n",
       "      <th></th>\n",
       "      <th>dept</th>\n",
       "      <th>name</th>\n",
       "    </tr>\n",
       "  </thead>\n",
       "  <tbody>\n",
       "    <tr>\n",
       "      <th>1</th>\n",
       "      <td>部门1</td>\n",
       "      <td>兰荣</td>\n",
       "    </tr>\n",
       "    <tr>\n",
       "      <th>2</th>\n",
       "      <td>部门1</td>\n",
       "      <td>林桂花</td>\n",
       "    </tr>\n",
       "    <tr>\n",
       "      <th>3</th>\n",
       "      <td>部门1</td>\n",
       "      <td>谢冬梅</td>\n",
       "    </tr>\n",
       "  </tbody>\n",
       "</table>\n",
       "</div>"
      ],
      "text/plain": [
       "  dept name\n",
       "1  部门1   兰荣\n",
       "2  部门1  林桂花\n",
       "3  部门1  谢冬梅"
      ]
     },
     "execution_count": 20,
     "metadata": {},
     "output_type": "execute_result"
    }
   ],
   "source": [
    "df.loc[1:3,['dept','name']] # loc位置标签选择"
   ]
  },
  {
   "cell_type": "code",
   "execution_count": 29,
   "id": "opposite-leone",
   "metadata": {
    "execution": {
     "iopub.execute_input": "2021-06-09T07:46:48.690434Z",
     "iopub.status.busy": "2021-06-09T07:46:48.689433Z",
     "iopub.status.idle": "2021-06-09T07:46:48.696437Z",
     "shell.execute_reply": "2021-06-09T07:46:48.695434Z",
     "shell.execute_reply.started": "2021-06-09T07:46:48.690434Z"
    }
   },
   "outputs": [
    {
     "data": {
      "text/plain": [
       "'部门1'"
      ]
     },
     "execution_count": 29,
     "metadata": {},
     "output_type": "execute_result"
    }
   ],
   "source": [
    "df.at[1,'dept'] # 另一种选择方式"
   ]
  },
  {
   "cell_type": "code",
   "execution_count": 24,
   "id": "still-advocate",
   "metadata": {
    "execution": {
     "iopub.execute_input": "2021-06-09T07:45:33.828433Z",
     "iopub.status.busy": "2021-06-09T07:45:33.828433Z",
     "iopub.status.idle": "2021-06-09T07:45:33.836439Z",
     "shell.execute_reply": "2021-06-09T07:45:33.834434Z",
     "shell.execute_reply.started": "2021-06-09T07:45:33.828433Z"
    }
   },
   "outputs": [
    {
     "data": {
      "text/plain": [
       "'部门1'"
      ]
     },
     "execution_count": 24,
     "metadata": {},
     "output_type": "execute_result"
    }
   ],
   "source": [
    "df.iloc[1,0] # “位置号“选择"
   ]
  },
  {
   "cell_type": "code",
   "execution_count": 25,
   "id": "governmental-rolling",
   "metadata": {
    "execution": {
     "iopub.execute_input": "2021-06-09T07:45:48.325435Z",
     "iopub.status.busy": "2021-06-09T07:45:48.324436Z",
     "iopub.status.idle": "2021-06-09T07:45:48.331435Z",
     "shell.execute_reply": "2021-06-09T07:45:48.329449Z",
     "shell.execute_reply.started": "2021-06-09T07:45:48.324436Z"
    }
   },
   "outputs": [
    {
     "data": {
      "text/plain": [
       "'部门1'"
      ]
     },
     "execution_count": 25,
     "metadata": {},
     "output_type": "execute_result"
    }
   ],
   "source": [
    "df.iat[1,0] # “位置号“选择 同上"
   ]
  },
  {
   "cell_type": "code",
   "execution_count": 30,
   "id": "comic-continuity",
   "metadata": {
    "execution": {
     "iopub.execute_input": "2021-06-09T07:47:46.301434Z",
     "iopub.status.busy": "2021-06-09T07:47:46.301434Z",
     "iopub.status.idle": "2021-06-09T07:47:46.328442Z",
     "shell.execute_reply": "2021-06-09T07:47:46.327437Z",
     "shell.execute_reply.started": "2021-06-09T07:47:46.301434Z"
    }
   },
   "outputs": [
    {
     "data": {
      "text/html": [
       "<div>\n",
       "<style scoped>\n",
       "    .dataframe tbody tr th:only-of-type {\n",
       "        vertical-align: middle;\n",
       "    }\n",
       "\n",
       "    .dataframe tbody tr th {\n",
       "        vertical-align: top;\n",
       "    }\n",
       "\n",
       "    .dataframe thead th {\n",
       "        text-align: right;\n",
       "    }\n",
       "</style>\n",
       "<table border=\"1\" class=\"dataframe\">\n",
       "  <thead>\n",
       "    <tr style=\"text-align: right;\">\n",
       "      <th></th>\n",
       "      <th>dept</th>\n",
       "      <th>name</th>\n",
       "      <th>销售额</th>\n",
       "    </tr>\n",
       "  </thead>\n",
       "  <tbody>\n",
       "    <tr>\n",
       "      <th>0</th>\n",
       "      <td>部门1</td>\n",
       "      <td>王瑞</td>\n",
       "      <td>63609</td>\n",
       "    </tr>\n",
       "    <tr>\n",
       "      <th>1</th>\n",
       "      <td>部门1</td>\n",
       "      <td>兰荣</td>\n",
       "      <td>86675</td>\n",
       "    </tr>\n",
       "    <tr>\n",
       "      <th>8</th>\n",
       "      <td>部门2</td>\n",
       "      <td>王梅</td>\n",
       "      <td>97768</td>\n",
       "    </tr>\n",
       "  </tbody>\n",
       "</table>\n",
       "</div>"
      ],
      "text/plain": [
       "  dept name    销售额\n",
       "0  部门1   王瑞  63609\n",
       "1  部门1   兰荣  86675\n",
       "8  部门2   王梅  97768"
      ]
     },
     "execution_count": 30,
     "metadata": {},
     "output_type": "execute_result"
    }
   ],
   "source": [
    "df[df.销售额>50000] # 条件查询"
   ]
  },
  {
   "cell_type": "code",
   "execution_count": 31,
   "id": "functioning-religious",
   "metadata": {
    "execution": {
     "iopub.execute_input": "2021-06-09T07:48:31.333451Z",
     "iopub.status.busy": "2021-06-09T07:48:31.332433Z",
     "iopub.status.idle": "2021-06-09T07:48:31.354435Z",
     "shell.execute_reply": "2021-06-09T07:48:31.353433Z",
     "shell.execute_reply.started": "2021-06-09T07:48:31.333451Z"
    }
   },
   "outputs": [
    {
     "data": {
      "text/html": [
       "<div>\n",
       "<style scoped>\n",
       "    .dataframe tbody tr th:only-of-type {\n",
       "        vertical-align: middle;\n",
       "    }\n",
       "\n",
       "    .dataframe tbody tr th {\n",
       "        vertical-align: top;\n",
       "    }\n",
       "\n",
       "    .dataframe thead th {\n",
       "        text-align: right;\n",
       "    }\n",
       "</style>\n",
       "<table border=\"1\" class=\"dataframe\">\n",
       "  <thead>\n",
       "    <tr style=\"text-align: right;\">\n",
       "      <th></th>\n",
       "      <th>dept</th>\n",
       "      <th>name</th>\n",
       "      <th>销售额</th>\n",
       "    </tr>\n",
       "  </thead>\n",
       "  <tbody>\n",
       "    <tr>\n",
       "      <th>0</th>\n",
       "      <td>部门1</td>\n",
       "      <td>王瑞</td>\n",
       "      <td>63609</td>\n",
       "    </tr>\n",
       "    <tr>\n",
       "      <th>1</th>\n",
       "      <td>部门1</td>\n",
       "      <td>兰荣</td>\n",
       "      <td>86675</td>\n",
       "    </tr>\n",
       "  </tbody>\n",
       "</table>\n",
       "</div>"
      ],
      "text/plain": [
       "  dept name    销售额\n",
       "0  部门1   王瑞  63609\n",
       "1  部门1   兰荣  86675"
      ]
     },
     "execution_count": 31,
     "metadata": {},
     "output_type": "execute_result"
    }
   ],
   "source": [
    "df[ (df.销售额>50000) & (df.dept=='部门1')] # 多条件查询，& 相当于and "
   ]
  },
  {
   "cell_type": "code",
   "execution_count": 32,
   "id": "southeast-albany",
   "metadata": {
    "execution": {
     "iopub.execute_input": "2021-06-09T07:49:03.355432Z",
     "iopub.status.busy": "2021-06-09T07:49:03.355432Z",
     "iopub.status.idle": "2021-06-09T07:49:03.364440Z",
     "shell.execute_reply": "2021-06-09T07:49:03.363434Z",
     "shell.execute_reply.started": "2021-06-09T07:49:03.355432Z"
    }
   },
   "outputs": [
    {
     "data": {
      "text/html": [
       "<div>\n",
       "<style scoped>\n",
       "    .dataframe tbody tr th:only-of-type {\n",
       "        vertical-align: middle;\n",
       "    }\n",
       "\n",
       "    .dataframe tbody tr th {\n",
       "        vertical-align: top;\n",
       "    }\n",
       "\n",
       "    .dataframe thead th {\n",
       "        text-align: right;\n",
       "    }\n",
       "</style>\n",
       "<table border=\"1\" class=\"dataframe\">\n",
       "  <thead>\n",
       "    <tr style=\"text-align: right;\">\n",
       "      <th></th>\n",
       "      <th>dept</th>\n",
       "      <th>name</th>\n",
       "      <th>销售额</th>\n",
       "    </tr>\n",
       "  </thead>\n",
       "  <tbody>\n",
       "    <tr>\n",
       "      <th>0</th>\n",
       "      <td>部门1</td>\n",
       "      <td>王瑞</td>\n",
       "      <td>63609</td>\n",
       "    </tr>\n",
       "    <tr>\n",
       "      <th>1</th>\n",
       "      <td>部门1</td>\n",
       "      <td>兰荣</td>\n",
       "      <td>86675</td>\n",
       "    </tr>\n",
       "    <tr>\n",
       "      <th>2</th>\n",
       "      <td>部门1</td>\n",
       "      <td>林桂花</td>\n",
       "      <td>27354</td>\n",
       "    </tr>\n",
       "    <tr>\n",
       "      <th>3</th>\n",
       "      <td>部门1</td>\n",
       "      <td>谢冬梅</td>\n",
       "      <td>40684</td>\n",
       "    </tr>\n",
       "    <tr>\n",
       "      <th>4</th>\n",
       "      <td>部门1</td>\n",
       "      <td>李刚</td>\n",
       "      <td>31702</td>\n",
       "    </tr>\n",
       "    <tr>\n",
       "      <th>8</th>\n",
       "      <td>部门2</td>\n",
       "      <td>王梅</td>\n",
       "      <td>97768</td>\n",
       "    </tr>\n",
       "  </tbody>\n",
       "</table>\n",
       "</div>"
      ],
      "text/plain": [
       "  dept name    销售额\n",
       "0  部门1   王瑞  63609\n",
       "1  部门1   兰荣  86675\n",
       "2  部门1  林桂花  27354\n",
       "3  部门1  谢冬梅  40684\n",
       "4  部门1   李刚  31702\n",
       "8  部门2   王梅  97768"
      ]
     },
     "execution_count": 32,
     "metadata": {},
     "output_type": "execute_result"
    }
   ],
   "source": [
    "df[ (df.销售额>50000) | (df.dept=='部门1')] # 多条件查询，| 相当于or "
   ]
  }
 ],
 "metadata": {
  "kernelspec": {
   "display_name": "Python 3",
   "language": "python",
   "name": "python3"
  },
  "language_info": {
   "codemirror_mode": {
    "name": "ipython",
    "version": 3
   },
   "file_extension": ".py",
   "mimetype": "text/x-python",
   "name": "python",
   "nbconvert_exporter": "python",
   "pygments_lexer": "ipython3",
   "version": "3.6.8"
  }
 },
 "nbformat": 4,
 "nbformat_minor": 5
}
