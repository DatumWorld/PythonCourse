{
 "cells": [
  {
   "cell_type": "markdown",
   "id": "stretch-belle",
   "metadata": {
    "execution": {
     "iopub.execute_input": "2021-05-10T07:18:52.990449Z",
     "iopub.status.busy": "2021-05-10T07:18:52.990449Z",
     "iopub.status.idle": "2021-05-10T07:18:52.994464Z",
     "shell.execute_reply": "2021-05-10T07:18:52.993452Z",
     "shell.execute_reply.started": "2021-05-10T07:18:52.990449Z"
    }
   },
   "source": [
    "##  21 pandas数据查询选择修改"
   ]
  },
  {
   "cell_type": "markdown",
   "id": "expected-centre",
   "metadata": {},
   "source": [
    "### 数据查询选择修改\n",
    "#### loc iloc insert 等"
   ]
  },
  {
   "cell_type": "code",
   "execution_count": 1,
   "id": "secret-croatia",
   "metadata": {
    "execution": {
     "iopub.execute_input": "2021-06-10T07:41:23.504603Z",
     "iopub.status.busy": "2021-06-10T07:41:23.503610Z",
     "iopub.status.idle": "2021-06-10T07:41:23.810609Z",
     "shell.execute_reply": "2021-06-10T07:41:23.810609Z",
     "shell.execute_reply.started": "2021-06-10T07:41:23.504603Z"
    }
   },
   "outputs": [],
   "source": [
    "import numpy  as np\n",
    "import pandas as pd\n",
    "from faker import Faker\n",
    "\n",
    "fake = Faker('zh_CN')\n",
    "df=pd.DataFrame(data=[ [fake.name()] for x in range(10) ],columns=['name'])"
   ]
  },
  {
   "cell_type": "code",
   "execution_count": 2,
   "id": "general-locking",
   "metadata": {
    "execution": {
     "iopub.execute_input": "2021-06-10T07:41:23.811579Z",
     "iopub.status.busy": "2021-06-10T07:41:23.811579Z",
     "iopub.status.idle": "2021-06-10T07:41:23.815601Z",
     "shell.execute_reply": "2021-06-10T07:41:23.815601Z",
     "shell.execute_reply.started": "2021-06-10T07:41:23.811579Z"
    }
   },
   "outputs": [],
   "source": [
    "df['销售额']=np.random.randint(100,100000,size=(10, 1))"
   ]
  },
  {
   "cell_type": "code",
   "execution_count": 3,
   "id": "configured-vehicle",
   "metadata": {
    "execution": {
     "iopub.execute_input": "2021-06-10T07:41:23.819575Z",
     "iopub.status.busy": "2021-06-10T07:41:23.819575Z",
     "iopub.status.idle": "2021-06-10T07:41:23.824575Z",
     "shell.execute_reply": "2021-06-10T07:41:23.824575Z",
     "shell.execute_reply.started": "2021-06-10T07:41:23.819575Z"
    }
   },
   "outputs": [],
   "source": [
    "df.insert(0,'dept',['部门1']*5+['部门2']*5)"
   ]
  },
  {
   "cell_type": "code",
   "execution_count": 25,
   "id": "occupational-lawyer",
   "metadata": {
    "execution": {
     "iopub.execute_input": "2021-06-10T07:49:06.738579Z",
     "iopub.status.busy": "2021-06-10T07:49:06.738579Z",
     "iopub.status.idle": "2021-06-10T07:49:06.751575Z",
     "shell.execute_reply": "2021-06-10T07:49:06.751575Z",
     "shell.execute_reply.started": "2021-06-10T07:49:06.738579Z"
    }
   },
   "outputs": [
    {
     "data": {
      "text/html": [
       "<div>\n",
       "<style scoped>\n",
       "    .dataframe tbody tr th:only-of-type {\n",
       "        vertical-align: middle;\n",
       "    }\n",
       "\n",
       "    .dataframe tbody tr th {\n",
       "        vertical-align: top;\n",
       "    }\n",
       "\n",
       "    .dataframe thead th {\n",
       "        text-align: right;\n",
       "    }\n",
       "</style>\n",
       "<table border=\"1\" class=\"dataframe\">\n",
       "  <thead>\n",
       "    <tr style=\"text-align: right;\">\n",
       "      <th></th>\n",
       "      <th>新列1</th>\n",
       "      <th>dept</th>\n",
       "      <th>name</th>\n",
       "      <th>新列5</th>\n",
       "      <th>销售额</th>\n",
       "      <th>新列</th>\n",
       "    </tr>\n",
       "  </thead>\n",
       "  <tbody>\n",
       "    <tr>\n",
       "      <th>0</th>\n",
       "      <td>新列内容</td>\n",
       "      <td>部门7</td>\n",
       "      <td>修改名字</td>\n",
       "      <td>新列内容</td>\n",
       "      <td>80629</td>\n",
       "      <td>新列内容</td>\n",
       "    </tr>\n",
       "    <tr>\n",
       "      <th>1</th>\n",
       "      <td>新列内容</td>\n",
       "      <td>部门7</td>\n",
       "      <td>吕玉梅</td>\n",
       "      <td>新列内容</td>\n",
       "      <td>84098</td>\n",
       "      <td>新列内容</td>\n",
       "    </tr>\n",
       "    <tr>\n",
       "      <th>2</th>\n",
       "      <td>新列内容</td>\n",
       "      <td>部门7</td>\n",
       "      <td>李秀荣</td>\n",
       "      <td>新列内容</td>\n",
       "      <td>69126</td>\n",
       "      <td>新列内容</td>\n",
       "    </tr>\n",
       "    <tr>\n",
       "      <th>3</th>\n",
       "      <td>新列内容</td>\n",
       "      <td>部门7</td>\n",
       "      <td>班芳</td>\n",
       "      <td>新列内容</td>\n",
       "      <td>83259</td>\n",
       "      <td>新列内容</td>\n",
       "    </tr>\n",
       "    <tr>\n",
       "      <th>4</th>\n",
       "      <td>新列内容</td>\n",
       "      <td>部门7</td>\n",
       "      <td>魏红梅</td>\n",
       "      <td>新列内容</td>\n",
       "      <td>53022</td>\n",
       "      <td>新列内容</td>\n",
       "    </tr>\n",
       "    <tr>\n",
       "      <th>5</th>\n",
       "      <td>新列内容</td>\n",
       "      <td>部门7</td>\n",
       "      <td>王柳</td>\n",
       "      <td>新列内容</td>\n",
       "      <td>49497</td>\n",
       "      <td>新列内容</td>\n",
       "    </tr>\n",
       "    <tr>\n",
       "      <th>6</th>\n",
       "      <td>新列内容</td>\n",
       "      <td>部门7</td>\n",
       "      <td>吕淑兰</td>\n",
       "      <td>新列内容</td>\n",
       "      <td>53530</td>\n",
       "      <td>新列内容</td>\n",
       "    </tr>\n",
       "    <tr>\n",
       "      <th>7</th>\n",
       "      <td>新列内容</td>\n",
       "      <td>部门7</td>\n",
       "      <td>李桂芝</td>\n",
       "      <td>新列内容</td>\n",
       "      <td>28519</td>\n",
       "      <td>新列内容</td>\n",
       "    </tr>\n",
       "    <tr>\n",
       "      <th>8</th>\n",
       "      <td>新列内容</td>\n",
       "      <td>部门7</td>\n",
       "      <td>刘彬</td>\n",
       "      <td>新列内容</td>\n",
       "      <td>20653</td>\n",
       "      <td>新列内容</td>\n",
       "    </tr>\n",
       "    <tr>\n",
       "      <th>9</th>\n",
       "      <td>新列内容</td>\n",
       "      <td>部门7</td>\n",
       "      <td>谭秀芳</td>\n",
       "      <td>新列内容</td>\n",
       "      <td>27008</td>\n",
       "      <td>新列内容</td>\n",
       "    </tr>\n",
       "  </tbody>\n",
       "</table>\n",
       "</div>"
      ],
      "text/plain": [
       "    新列1 dept  name   新列5    销售额    新列\n",
       "0  新列内容  部门7  修改名字  新列内容  80629  新列内容\n",
       "1  新列内容  部门7   吕玉梅  新列内容  84098  新列内容\n",
       "2  新列内容  部门7   李秀荣  新列内容  69126  新列内容\n",
       "3  新列内容  部门7    班芳  新列内容  83259  新列内容\n",
       "4  新列内容  部门7   魏红梅  新列内容  53022  新列内容\n",
       "5  新列内容  部门7    王柳  新列内容  49497  新列内容\n",
       "6  新列内容  部门7   吕淑兰  新列内容  53530  新列内容\n",
       "7  新列内容  部门7   李桂芝  新列内容  28519  新列内容\n",
       "8  新列内容  部门7    刘彬  新列内容  20653  新列内容\n",
       "9  新列内容  部门7   谭秀芳  新列内容  27008  新列内容"
      ]
     },
     "execution_count": 25,
     "metadata": {},
     "output_type": "execute_result"
    }
   ],
   "source": [
    "df # 随机生成的数据"
   ]
  },
  {
   "cell_type": "code",
   "execution_count": 6,
   "id": "legislative-business",
   "metadata": {
    "execution": {
     "iopub.execute_input": "2021-06-10T07:42:08.437586Z",
     "iopub.status.busy": "2021-06-10T07:42:08.436579Z",
     "iopub.status.idle": "2021-06-10T07:42:08.443579Z",
     "shell.execute_reply": "2021-06-10T07:42:08.442578Z",
     "shell.execute_reply.started": "2021-06-10T07:42:08.437586Z"
    }
   },
   "outputs": [],
   "source": [
    "df.loc[0,'dept'] = '部门3' # 修改方式1，某个单元格的值"
   ]
  },
  {
   "cell_type": "code",
   "execution_count": 8,
   "id": "outer-webcam",
   "metadata": {
    "execution": {
     "iopub.execute_input": "2021-06-10T07:43:03.409577Z",
     "iopub.status.busy": "2021-06-10T07:43:03.409577Z",
     "iopub.status.idle": "2021-06-10T07:43:03.414579Z",
     "shell.execute_reply": "2021-06-10T07:43:03.413576Z",
     "shell.execute_reply.started": "2021-06-10T07:43:03.409577Z"
    }
   },
   "outputs": [],
   "source": [
    "df.loc[:3,'dept'] = '部门4' # 修改方式2 范围修改"
   ]
  },
  {
   "cell_type": "code",
   "execution_count": 10,
   "id": "norwegian-guide",
   "metadata": {
    "execution": {
     "iopub.execute_input": "2021-06-10T07:43:41.279575Z",
     "iopub.status.busy": "2021-06-10T07:43:41.279575Z",
     "iopub.status.idle": "2021-06-10T07:43:41.282575Z",
     "shell.execute_reply": "2021-06-10T07:43:41.282575Z",
     "shell.execute_reply.started": "2021-06-10T07:43:41.279575Z"
    }
   },
   "outputs": [],
   "source": [
    "df.loc[:,'dept'] = '部门5' # 修改方式3 整列修改"
   ]
  },
  {
   "cell_type": "code",
   "execution_count": 13,
   "id": "streaming-needle",
   "metadata": {
    "execution": {
     "iopub.execute_input": "2021-06-10T07:44:24.690576Z",
     "iopub.status.busy": "2021-06-10T07:44:24.689576Z",
     "iopub.status.idle": "2021-06-10T07:44:24.695582Z",
     "shell.execute_reply": "2021-06-10T07:44:24.694608Z",
     "shell.execute_reply.started": "2021-06-10T07:44:24.690576Z"
    }
   },
   "outputs": [],
   "source": [
    "df['dept'] = '部门6' # 修改方式4 整列修改。同上"
   ]
  },
  {
   "cell_type": "code",
   "execution_count": 15,
   "id": "dimensional-thickness",
   "metadata": {
    "execution": {
     "iopub.execute_input": "2021-06-10T07:45:09.455595Z",
     "iopub.status.busy": "2021-06-10T07:45:09.455595Z",
     "iopub.status.idle": "2021-06-10T07:45:09.463575Z",
     "shell.execute_reply": "2021-06-10T07:45:09.462594Z",
     "shell.execute_reply.started": "2021-06-10T07:45:09.455595Z"
    }
   },
   "outputs": [],
   "source": [
    "df.dept = '部门7' # 修改方式5 整列修改。同上"
   ]
  },
  {
   "cell_type": "code",
   "execution_count": 18,
   "id": "greek-leader",
   "metadata": {
    "execution": {
     "iopub.execute_input": "2021-06-10T07:46:03.228612Z",
     "iopub.status.busy": "2021-06-10T07:46:03.228612Z",
     "iopub.status.idle": "2021-06-10T07:46:03.232577Z",
     "shell.execute_reply": "2021-06-10T07:46:03.231577Z",
     "shell.execute_reply.started": "2021-06-10T07:46:03.228612Z"
    }
   },
   "outputs": [],
   "source": [
    "df.iloc[0,1]='修改名字' # iloc修改"
   ]
  },
  {
   "cell_type": "code",
   "execution_count": 20,
   "id": "seventh-yukon",
   "metadata": {
    "execution": {
     "iopub.execute_input": "2021-06-10T07:46:57.335576Z",
     "iopub.status.busy": "2021-06-10T07:46:57.335576Z",
     "iopub.status.idle": "2021-06-10T07:46:57.339576Z",
     "shell.execute_reply": "2021-06-10T07:46:57.339576Z",
     "shell.execute_reply.started": "2021-06-10T07:46:57.335576Z"
    }
   },
   "outputs": [],
   "source": [
    "df['新列']='新列内容' # 如果不存在这个列名，在尾部新增一列并赋值"
   ]
  },
  {
   "cell_type": "code",
   "execution_count": 24,
   "id": "smaller-formula",
   "metadata": {
    "execution": {
     "iopub.execute_input": "2021-06-10T07:49:02.826579Z",
     "iopub.status.busy": "2021-06-10T07:49:02.825611Z",
     "iopub.status.idle": "2021-06-10T07:49:02.832577Z",
     "shell.execute_reply": "2021-06-10T07:49:02.831574Z",
     "shell.execute_reply.started": "2021-06-10T07:49:02.826579Z"
    }
   },
   "outputs": [],
   "source": [
    "df.insert(3,'新列5','新列内容') # 如果不存在这个列名，在指定位置插入一列"
   ]
  }
 ],
 "metadata": {
  "kernelspec": {
   "display_name": "Python 3",
   "language": "python",
   "name": "python3"
  },
  "language_info": {
   "codemirror_mode": {
    "name": "ipython",
    "version": 3
   },
   "file_extension": ".py",
   "mimetype": "text/x-python",
   "name": "python",
   "nbconvert_exporter": "python",
   "pygments_lexer": "ipython3",
   "version": "3.6.8"
  }
 },
 "nbformat": 4,
 "nbformat_minor": 5
}
