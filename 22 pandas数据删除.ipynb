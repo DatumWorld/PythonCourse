{
 "cells": [
  {
   "cell_type": "markdown",
   "id": "proof-boring",
   "metadata": {
    "execution": {
     "iopub.execute_input": "2021-05-10T07:18:52.990449Z",
     "iopub.status.busy": "2021-05-10T07:18:52.990449Z",
     "iopub.status.idle": "2021-05-10T07:18:52.994464Z",
     "shell.execute_reply": "2021-05-10T07:18:52.993452Z",
     "shell.execute_reply.started": "2021-05-10T07:18:52.990449Z"
    }
   },
   "source": [
    "##  pandas数据删除"
   ]
  },
  {
   "cell_type": "markdown",
   "id": "radical-modem",
   "metadata": {},
   "source": [
    "### 数据的删除\n",
    "#### drop"
   ]
  },
  {
   "cell_type": "code",
   "execution_count": 1,
   "id": "rational-continent",
   "metadata": {
    "execution": {
     "iopub.status.idle": "2021-06-11T06:08:51.174285Z",
     "shell.execute_reply": "2021-06-11T06:08:51.174285Z",
     "shell.execute_reply.started": "2021-06-11T06:08:50.879254Z"
    }
   },
   "outputs": [],
   "source": [
    "import numpy  as np\n",
    "import pandas as pd\n",
    "from faker import Faker\n",
    "\n",
    "fake = Faker('zh_CN')\n",
    "df=pd.DataFrame(data=[ [fake.name()] for x in range(10) ],columns=['name'])"
   ]
  },
  {
   "cell_type": "code",
   "execution_count": 2,
   "id": "thrown-chancellor",
   "metadata": {
    "execution": {
     "iopub.execute_input": "2021-06-11T06:08:51.176270Z",
     "iopub.status.busy": "2021-06-11T06:08:51.175286Z",
     "iopub.status.idle": "2021-06-11T06:08:51.181254Z",
     "shell.execute_reply": "2021-06-11T06:08:51.180258Z",
     "shell.execute_reply.started": "2021-06-11T06:08:51.176270Z"
    }
   },
   "outputs": [],
   "source": [
    "df['销售额']=np.random.randint(100,100000,size=(10, 1))"
   ]
  },
  {
   "cell_type": "code",
   "execution_count": 3,
   "id": "lucky-boxing",
   "metadata": {
    "execution": {
     "iopub.execute_input": "2021-06-11T06:08:51.183258Z",
     "iopub.status.busy": "2021-06-11T06:08:51.183258Z",
     "iopub.status.idle": "2021-06-11T06:08:51.190256Z",
     "shell.execute_reply": "2021-06-11T06:08:51.189256Z",
     "shell.execute_reply.started": "2021-06-11T06:08:51.183258Z"
    }
   },
   "outputs": [],
   "source": [
    "df.insert(0,'dept',['部门1']*5+['部门2']*5)"
   ]
  },
  {
   "cell_type": "code",
   "execution_count": 11,
   "id": "contrary-punch",
   "metadata": {
    "execution": {
     "iopub.execute_input": "2021-06-11T06:12:55.737257Z",
     "iopub.status.busy": "2021-06-11T06:12:55.736287Z",
     "iopub.status.idle": "2021-06-11T06:12:55.745252Z",
     "shell.execute_reply": "2021-06-11T06:12:55.745252Z",
     "shell.execute_reply.started": "2021-06-11T06:12:55.737257Z"
    }
   },
   "outputs": [
    {
     "data": {
      "text/html": [
       "<div>\n",
       "<style scoped>\n",
       "    .dataframe tbody tr th:only-of-type {\n",
       "        vertical-align: middle;\n",
       "    }\n",
       "\n",
       "    .dataframe tbody tr th {\n",
       "        vertical-align: top;\n",
       "    }\n",
       "\n",
       "    .dataframe thead th {\n",
       "        text-align: right;\n",
       "    }\n",
       "</style>\n",
       "<table border=\"1\" class=\"dataframe\">\n",
       "  <thead>\n",
       "    <tr style=\"text-align: right;\">\n",
       "      <th></th>\n",
       "      <th>销售额</th>\n",
       "    </tr>\n",
       "  </thead>\n",
       "  <tbody>\n",
       "    <tr>\n",
       "      <th>0</th>\n",
       "      <td>97695</td>\n",
       "    </tr>\n",
       "    <tr>\n",
       "      <th>1</th>\n",
       "      <td>57198</td>\n",
       "    </tr>\n",
       "    <tr>\n",
       "      <th>2</th>\n",
       "      <td>31264</td>\n",
       "    </tr>\n",
       "    <tr>\n",
       "      <th>3</th>\n",
       "      <td>9904</td>\n",
       "    </tr>\n",
       "    <tr>\n",
       "      <th>4</th>\n",
       "      <td>61159</td>\n",
       "    </tr>\n",
       "    <tr>\n",
       "      <th>5</th>\n",
       "      <td>19804</td>\n",
       "    </tr>\n",
       "    <tr>\n",
       "      <th>6</th>\n",
       "      <td>79772</td>\n",
       "    </tr>\n",
       "    <tr>\n",
       "      <th>7</th>\n",
       "      <td>21118</td>\n",
       "    </tr>\n",
       "    <tr>\n",
       "      <th>8</th>\n",
       "      <td>12487</td>\n",
       "    </tr>\n",
       "    <tr>\n",
       "      <th>9</th>\n",
       "      <td>5515</td>\n",
       "    </tr>\n",
       "  </tbody>\n",
       "</table>\n",
       "</div>"
      ],
      "text/plain": [
       "     销售额\n",
       "0  97695\n",
       "1  57198\n",
       "2  31264\n",
       "3   9904\n",
       "4  61159\n",
       "5  19804\n",
       "6  79772\n",
       "7  21118\n",
       "8  12487\n",
       "9   5515"
      ]
     },
     "execution_count": 11,
     "metadata": {},
     "output_type": "execute_result"
    }
   ],
   "source": [
    "df # 随机生成的数据"
   ]
  },
  {
   "cell_type": "code",
   "execution_count": 8,
   "id": "flexible-bennett",
   "metadata": {
    "execution": {
     "iopub.execute_input": "2021-06-11T06:11:01.335253Z",
     "iopub.status.busy": "2021-06-11T06:11:01.334258Z",
     "iopub.status.idle": "2021-06-11T06:11:01.340254Z",
     "shell.execute_reply": "2021-06-11T06:11:01.340254Z",
     "shell.execute_reply.started": "2021-06-11T06:11:01.335253Z"
    }
   },
   "outputs": [],
   "source": [
    "df.drop(['dept','name'],axis=1,inplace=True) # 删除两列 。这个是在副本上删除列，注意这点.\n",
    "# inplace=True，则是真正删除。也可以 删除后 将副本赋值给df来实现同样效果"
   ]
  },
  {
   "cell_type": "code",
   "execution_count": 10,
   "id": "swiss-schedule",
   "metadata": {
    "execution": {
     "iopub.execute_input": "2021-06-11T06:12:24.995253Z",
     "iopub.status.busy": "2021-06-11T06:12:24.995253Z",
     "iopub.status.idle": "2021-06-11T06:12:25.009252Z",
     "shell.execute_reply": "2021-06-11T06:12:25.009252Z",
     "shell.execute_reply.started": "2021-06-11T06:12:24.995253Z"
    }
   },
   "outputs": [
    {
     "data": {
      "text/html": [
       "<div>\n",
       "<style scoped>\n",
       "    .dataframe tbody tr th:only-of-type {\n",
       "        vertical-align: middle;\n",
       "    }\n",
       "\n",
       "    .dataframe tbody tr th {\n",
       "        vertical-align: top;\n",
       "    }\n",
       "\n",
       "    .dataframe thead th {\n",
       "        text-align: right;\n",
       "    }\n",
       "</style>\n",
       "<table border=\"1\" class=\"dataframe\">\n",
       "  <thead>\n",
       "    <tr style=\"text-align: right;\">\n",
       "      <th></th>\n",
       "      <th>销售额</th>\n",
       "    </tr>\n",
       "  </thead>\n",
       "  <tbody>\n",
       "    <tr>\n",
       "      <th>1</th>\n",
       "      <td>57198</td>\n",
       "    </tr>\n",
       "    <tr>\n",
       "      <th>2</th>\n",
       "      <td>31264</td>\n",
       "    </tr>\n",
       "    <tr>\n",
       "      <th>3</th>\n",
       "      <td>9904</td>\n",
       "    </tr>\n",
       "    <tr>\n",
       "      <th>4</th>\n",
       "      <td>61159</td>\n",
       "    </tr>\n",
       "    <tr>\n",
       "      <th>5</th>\n",
       "      <td>19804</td>\n",
       "    </tr>\n",
       "    <tr>\n",
       "      <th>6</th>\n",
       "      <td>79772</td>\n",
       "    </tr>\n",
       "    <tr>\n",
       "      <th>7</th>\n",
       "      <td>21118</td>\n",
       "    </tr>\n",
       "    <tr>\n",
       "      <th>8</th>\n",
       "      <td>12487</td>\n",
       "    </tr>\n",
       "    <tr>\n",
       "      <th>9</th>\n",
       "      <td>5515</td>\n",
       "    </tr>\n",
       "  </tbody>\n",
       "</table>\n",
       "</div>"
      ],
      "text/plain": [
       "     销售额\n",
       "1  57198\n",
       "2  31264\n",
       "3   9904\n",
       "4  61159\n",
       "5  19804\n",
       "6  79772\n",
       "7  21118\n",
       "8  12487\n",
       "9   5515"
      ]
     },
     "execution_count": 10,
     "metadata": {},
     "output_type": "execute_result"
    }
   ],
   "source": [
    "df.drop(0,axis=0) # 删除第一行（行号为0）。注意，也是删除副本的第一行，可使用inplace=True真正删除"
   ]
  },
  {
   "cell_type": "code",
   "execution_count": 12,
   "id": "thrown-assurance",
   "metadata": {
    "execution": {
     "iopub.execute_input": "2021-06-11T06:13:59.139256Z",
     "iopub.status.busy": "2021-06-11T06:13:59.138254Z",
     "iopub.status.idle": "2021-06-11T06:13:59.147285Z",
     "shell.execute_reply": "2021-06-11T06:13:59.147285Z",
     "shell.execute_reply.started": "2021-06-11T06:13:59.139256Z"
    }
   },
   "outputs": [
    {
     "data": {
      "text/html": [
       "<div>\n",
       "<style scoped>\n",
       "    .dataframe tbody tr th:only-of-type {\n",
       "        vertical-align: middle;\n",
       "    }\n",
       "\n",
       "    .dataframe tbody tr th {\n",
       "        vertical-align: top;\n",
       "    }\n",
       "\n",
       "    .dataframe thead th {\n",
       "        text-align: right;\n",
       "    }\n",
       "</style>\n",
       "<table border=\"1\" class=\"dataframe\">\n",
       "  <thead>\n",
       "    <tr style=\"text-align: right;\">\n",
       "      <th></th>\n",
       "      <th>销售额</th>\n",
       "    </tr>\n",
       "  </thead>\n",
       "  <tbody>\n",
       "    <tr>\n",
       "      <th>2</th>\n",
       "      <td>31264</td>\n",
       "    </tr>\n",
       "    <tr>\n",
       "      <th>3</th>\n",
       "      <td>9904</td>\n",
       "    </tr>\n",
       "    <tr>\n",
       "      <th>4</th>\n",
       "      <td>61159</td>\n",
       "    </tr>\n",
       "    <tr>\n",
       "      <th>5</th>\n",
       "      <td>19804</td>\n",
       "    </tr>\n",
       "    <tr>\n",
       "      <th>6</th>\n",
       "      <td>79772</td>\n",
       "    </tr>\n",
       "    <tr>\n",
       "      <th>7</th>\n",
       "      <td>21118</td>\n",
       "    </tr>\n",
       "    <tr>\n",
       "      <th>8</th>\n",
       "      <td>12487</td>\n",
       "    </tr>\n",
       "    <tr>\n",
       "      <th>9</th>\n",
       "      <td>5515</td>\n",
       "    </tr>\n",
       "  </tbody>\n",
       "</table>\n",
       "</div>"
      ],
      "text/plain": [
       "     销售额\n",
       "2  31264\n",
       "3   9904\n",
       "4  61159\n",
       "5  19804\n",
       "6  79772\n",
       "7  21118\n",
       "8  12487\n",
       "9   5515"
      ]
     },
     "execution_count": 12,
     "metadata": {},
     "output_type": "execute_result"
    }
   ],
   "source": [
    "df.drop([0,1],axis=0) # 删除制定的行"
   ]
  }
 ],
 "metadata": {
  "kernelspec": {
   "display_name": "Python 3",
   "language": "python",
   "name": "python3"
  },
  "language_info": {
   "codemirror_mode": {
    "name": "ipython",
    "version": 3
   },
   "file_extension": ".py",
   "mimetype": "text/x-python",
   "name": "python",
   "nbconvert_exporter": "python",
   "pygments_lexer": "ipython3",
   "version": "3.6.8"
  }
 },
 "nbformat": 4,
 "nbformat_minor": 5
}
