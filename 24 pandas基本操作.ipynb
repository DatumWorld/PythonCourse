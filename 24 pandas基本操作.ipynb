{
 "cells": [
  {
   "cell_type": "markdown",
   "id": "d1ac97ad",
   "metadata": {
    "execution": {
     "iopub.execute_input": "2021-05-10T07:18:52.990449Z",
     "iopub.status.busy": "2021-05-10T07:18:52.990449Z",
     "iopub.status.idle": "2021-05-10T07:18:52.994464Z",
     "shell.execute_reply": "2021-05-10T07:18:52.993452Z",
     "shell.execute_reply.started": "2021-05-10T07:18:52.990449Z"
    }
   },
   "source": [
    "##  pandas基本操作"
   ]
  },
  {
   "cell_type": "markdown",
   "id": "08793203",
   "metadata": {},
   "source": [
    "### 基本操作\n",
    "#### index columns dtypes info rename"
   ]
  },
  {
   "cell_type": "code",
   "execution_count": 1,
   "id": "2080904e",
   "metadata": {
    "execution": {
     "iopub.execute_input": "2021-06-13T10:40:19.109769Z",
     "iopub.status.busy": "2021-06-13T10:40:19.109495Z",
     "iopub.status.idle": "2021-06-13T10:40:19.426028Z",
     "shell.execute_reply": "2021-06-13T10:40:19.424475Z",
     "shell.execute_reply.started": "2021-06-13T10:40:19.109726Z"
    }
   },
   "outputs": [],
   "source": [
    "import numpy  as np\n",
    "import pandas as pd\n",
    "from faker import Faker\n",
    "\n",
    "fake = Faker('zh_CN')\n",
    "df=pd.DataFrame(data=[ [fake.name()] for x in range(10) ],columns=['name'])"
   ]
  },
  {
   "cell_type": "code",
   "execution_count": 2,
   "id": "686081bc",
   "metadata": {
    "execution": {
     "iopub.execute_input": "2021-06-13T10:40:19.432750Z",
     "iopub.status.busy": "2021-06-13T10:40:19.432264Z",
     "iopub.status.idle": "2021-06-13T10:40:19.438642Z",
     "shell.execute_reply": "2021-06-13T10:40:19.437795Z",
     "shell.execute_reply.started": "2021-06-13T10:40:19.432712Z"
    }
   },
   "outputs": [],
   "source": [
    "df['销售额']=np.random.randint(100,100000,size=(10, 1))"
   ]
  },
  {
   "cell_type": "code",
   "execution_count": 3,
   "id": "05ae1837",
   "metadata": {
    "execution": {
     "iopub.execute_input": "2021-06-13T10:40:19.440197Z",
     "iopub.status.busy": "2021-06-13T10:40:19.439856Z",
     "iopub.status.idle": "2021-06-13T10:40:19.445160Z",
     "shell.execute_reply": "2021-06-13T10:40:19.443959Z",
     "shell.execute_reply.started": "2021-06-13T10:40:19.440164Z"
    }
   },
   "outputs": [],
   "source": [
    "df.insert(0,'dept',['部门1']*5+['部门2']*5)"
   ]
  },
  {
   "cell_type": "code",
   "execution_count": 12,
   "id": "5247c64b",
   "metadata": {
    "execution": {
     "iopub.execute_input": "2021-06-13T10:44:42.110705Z",
     "iopub.status.busy": "2021-06-13T10:44:42.110423Z",
     "iopub.status.idle": "2021-06-13T10:44:42.120599Z",
     "shell.execute_reply": "2021-06-13T10:44:42.119532Z",
     "shell.execute_reply.started": "2021-06-13T10:44:42.110681Z"
    }
   },
   "outputs": [
    {
     "data": {
      "text/html": [
       "<div>\n",
       "<style scoped>\n",
       "    .dataframe tbody tr th:only-of-type {\n",
       "        vertical-align: middle;\n",
       "    }\n",
       "\n",
       "    .dataframe tbody tr th {\n",
       "        vertical-align: top;\n",
       "    }\n",
       "\n",
       "    .dataframe thead th {\n",
       "        text-align: right;\n",
       "    }\n",
       "</style>\n",
       "<table border=\"1\" class=\"dataframe\">\n",
       "  <thead>\n",
       "    <tr style=\"text-align: right;\">\n",
       "      <th></th>\n",
       "      <th>部门</th>\n",
       "      <th>name</th>\n",
       "      <th>销售额</th>\n",
       "    </tr>\n",
       "  </thead>\n",
       "  <tbody>\n",
       "    <tr>\n",
       "      <th>0</th>\n",
       "      <td>部门1</td>\n",
       "      <td>向博</td>\n",
       "      <td>9861</td>\n",
       "    </tr>\n",
       "    <tr>\n",
       "      <th>1</th>\n",
       "      <td>部门1</td>\n",
       "      <td>朱柳</td>\n",
       "      <td>5406</td>\n",
       "    </tr>\n",
       "    <tr>\n",
       "      <th>2</th>\n",
       "      <td>部门1</td>\n",
       "      <td>成楠</td>\n",
       "      <td>51699</td>\n",
       "    </tr>\n",
       "    <tr>\n",
       "      <th>3</th>\n",
       "      <td>部门1</td>\n",
       "      <td>谭云</td>\n",
       "      <td>36372</td>\n",
       "    </tr>\n",
       "    <tr>\n",
       "      <th>4</th>\n",
       "      <td>部门1</td>\n",
       "      <td>谢丽</td>\n",
       "      <td>85395</td>\n",
       "    </tr>\n",
       "    <tr>\n",
       "      <th>5</th>\n",
       "      <td>部门2</td>\n",
       "      <td>陈荣</td>\n",
       "      <td>32705</td>\n",
       "    </tr>\n",
       "    <tr>\n",
       "      <th>6</th>\n",
       "      <td>部门2</td>\n",
       "      <td>李俊</td>\n",
       "      <td>93233</td>\n",
       "    </tr>\n",
       "    <tr>\n",
       "      <th>7</th>\n",
       "      <td>部门2</td>\n",
       "      <td>李秀芳</td>\n",
       "      <td>12311</td>\n",
       "    </tr>\n",
       "    <tr>\n",
       "      <th>8</th>\n",
       "      <td>部门2</td>\n",
       "      <td>杜鹏</td>\n",
       "      <td>46586</td>\n",
       "    </tr>\n",
       "    <tr>\n",
       "      <th>9</th>\n",
       "      <td>部门2</td>\n",
       "      <td>张宁</td>\n",
       "      <td>19587</td>\n",
       "    </tr>\n",
       "  </tbody>\n",
       "</table>\n",
       "</div>"
      ],
      "text/plain": [
       "    部门 name    销售额\n",
       "0  部门1   向博   9861\n",
       "1  部门1   朱柳   5406\n",
       "2  部门1   成楠  51699\n",
       "3  部门1   谭云  36372\n",
       "4  部门1   谢丽  85395\n",
       "5  部门2   陈荣  32705\n",
       "6  部门2   李俊  93233\n",
       "7  部门2  李秀芳  12311\n",
       "8  部门2   杜鹏  46586\n",
       "9  部门2   张宁  19587"
      ]
     },
     "execution_count": 12,
     "metadata": {},
     "output_type": "execute_result"
    }
   ],
   "source": [
    "df # 随机生成的数据"
   ]
  },
  {
   "cell_type": "code",
   "execution_count": 5,
   "id": "ee5cf983",
   "metadata": {
    "execution": {
     "iopub.execute_input": "2021-06-13T10:40:44.999178Z",
     "iopub.status.busy": "2021-06-13T10:40:44.998707Z",
     "iopub.status.idle": "2021-06-13T10:40:45.005058Z",
     "shell.execute_reply": "2021-06-13T10:40:45.004390Z",
     "shell.execute_reply.started": "2021-06-13T10:40:44.999142Z"
    }
   },
   "outputs": [
    {
     "data": {
      "text/plain": [
       "RangeIndex(start=0, stop=10, step=1)"
      ]
     },
     "execution_count": 5,
     "metadata": {},
     "output_type": "execute_result"
    }
   ],
   "source": [
    "df.index  # 获取索引信息"
   ]
  },
  {
   "cell_type": "code",
   "execution_count": 6,
   "id": "80d65e64",
   "metadata": {
    "execution": {
     "iopub.execute_input": "2021-06-13T10:41:26.397390Z",
     "iopub.status.busy": "2021-06-13T10:41:26.396876Z",
     "iopub.status.idle": "2021-06-13T10:41:26.403324Z",
     "shell.execute_reply": "2021-06-13T10:41:26.402634Z",
     "shell.execute_reply.started": "2021-06-13T10:41:26.397336Z"
    }
   },
   "outputs": [
    {
     "data": {
      "text/plain": [
       "Index(['dept', 'name', '销售额'], dtype='object')"
      ]
     },
     "execution_count": 6,
     "metadata": {},
     "output_type": "execute_result"
    }
   ],
   "source": [
    "df.columns # 获取列名信息"
   ]
  },
  {
   "cell_type": "code",
   "execution_count": 7,
   "id": "902c75ae",
   "metadata": {
    "execution": {
     "iopub.execute_input": "2021-06-13T10:41:54.206355Z",
     "iopub.status.busy": "2021-06-13T10:41:54.205886Z",
     "iopub.status.idle": "2021-06-13T10:41:54.213639Z",
     "shell.execute_reply": "2021-06-13T10:41:54.212904Z",
     "shell.execute_reply.started": "2021-06-13T10:41:54.206316Z"
    }
   },
   "outputs": [
    {
     "data": {
      "text/plain": [
       "dept    object\n",
       "name    object\n",
       "销售额      int64\n",
       "dtype: object"
      ]
     },
     "execution_count": 7,
     "metadata": {},
     "output_type": "execute_result"
    }
   ],
   "source": [
    "df.dtypes # 获取列的类型信息"
   ]
  },
  {
   "cell_type": "code",
   "execution_count": 11,
   "id": "00fe3ec6",
   "metadata": {
    "execution": {
     "iopub.execute_input": "2021-06-13T10:44:37.089370Z",
     "iopub.status.busy": "2021-06-13T10:44:37.089088Z",
     "iopub.status.idle": "2021-06-13T10:44:37.093311Z",
     "shell.execute_reply": "2021-06-13T10:44:37.092504Z",
     "shell.execute_reply.started": "2021-06-13T10:44:37.089348Z"
    }
   },
   "outputs": [],
   "source": [
    "df.rename({'dept':'部门'},axis=1,inplace=True) # 修改列明，用dict 表示 原名：修改名 的映射，可以一次修改多个列名\n",
    "# inplace=True 直接在原来的df上修改，而非在副本上修改"
   ]
  },
  {
   "cell_type": "code",
   "execution_count": 14,
   "id": "fd01639c",
   "metadata": {
    "execution": {
     "iopub.execute_input": "2021-06-13T10:45:57.270006Z",
     "iopub.status.busy": "2021-06-13T10:45:57.269670Z",
     "iopub.status.idle": "2021-06-13T10:45:57.284161Z",
     "shell.execute_reply": "2021-06-13T10:45:57.283227Z",
     "shell.execute_reply.started": "2021-06-13T10:45:57.269973Z"
    }
   },
   "outputs": [
    {
     "name": "stdout",
     "output_type": "stream",
     "text": [
      "<class 'pandas.core.frame.DataFrame'>\n",
      "RangeIndex: 10 entries, 0 to 9\n",
      "Data columns (total 3 columns):\n",
      " #   Column  Non-Null Count  Dtype \n",
      "---  ------  --------------  ----- \n",
      " 0   部门      10 non-null     object\n",
      " 1   name    10 non-null     object\n",
      " 2   销售额     10 non-null     int64 \n",
      "dtypes: int64(1), object(2)\n",
      "memory usage: 368.0+ bytes\n"
     ]
    }
   ],
   "source": [
    "df.info() # 获取一个df对象的基本信息 ，含 列 名称 类型 统计 内存使用 索引等"
   ]
  }
 ],
 "metadata": {
  "kernelspec": {
   "display_name": "Python 3",
   "language": "python",
   "name": "python3"
  },
  "language_info": {
   "codemirror_mode": {
    "name": "ipython",
    "version": 3
   },
   "file_extension": ".py",
   "mimetype": "text/x-python",
   "name": "python",
   "nbconvert_exporter": "python",
   "pygments_lexer": "ipython3",
   "version": "3.8.8"
  }
 },
 "nbformat": 4,
 "nbformat_minor": 5
}
