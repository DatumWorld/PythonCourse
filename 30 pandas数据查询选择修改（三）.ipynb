{
 "cells": [
  {
   "cell_type": "markdown",
   "id": "funny-austin",
   "metadata": {
    "execution": {
     "iopub.execute_input": "2021-05-10T07:18:52.990449Z",
     "iopub.status.busy": "2021-05-10T07:18:52.990449Z",
     "iopub.status.idle": "2021-05-10T07:18:52.994464Z",
     "shell.execute_reply": "2021-05-10T07:18:52.993452Z",
     "shell.execute_reply.started": "2021-05-10T07:18:52.990449Z"
    }
   },
   "source": [
    "##  30 pandas数据查询选择修改"
   ]
  },
  {
   "cell_type": "markdown",
   "id": "stuffed-conservative",
   "metadata": {},
   "source": [
    "### 数据查询选择修改\n",
    "#### 若干种灵活的条件修改方式"
   ]
  },
  {
   "cell_type": "code",
   "execution_count": 34,
   "id": "apart-exhibit",
   "metadata": {
    "execution": {
     "iopub.execute_input": "2021-06-21T09:42:58.577220Z",
     "iopub.status.busy": "2021-06-21T09:42:58.577220Z",
     "iopub.status.idle": "2021-06-21T09:42:58.618218Z",
     "shell.execute_reply": "2021-06-21T09:42:58.617249Z",
     "shell.execute_reply.started": "2021-06-21T09:42:58.577220Z"
    }
   },
   "outputs": [],
   "source": [
    "import numpy  as np\n",
    "import pandas as pd\n",
    "from faker import Faker\n",
    "\n",
    "fake = Faker('zh_CN')\n",
    "df=pd.DataFrame(data=[ [fake.name()] for x in range(10) ],columns=['name'])"
   ]
  },
  {
   "cell_type": "code",
   "execution_count": 35,
   "id": "induced-conditioning",
   "metadata": {
    "execution": {
     "iopub.execute_input": "2021-06-21T09:42:59.768217Z",
     "iopub.status.busy": "2021-06-21T09:42:59.768217Z",
     "iopub.status.idle": "2021-06-21T09:42:59.772224Z",
     "shell.execute_reply": "2021-06-21T09:42:59.771221Z",
     "shell.execute_reply.started": "2021-06-21T09:42:59.768217Z"
    }
   },
   "outputs": [],
   "source": [
    "df['销售额']=np.random.randint(100,100000,size=(10, 1))"
   ]
  },
  {
   "cell_type": "code",
   "execution_count": 36,
   "id": "digital-wireless",
   "metadata": {
    "execution": {
     "iopub.execute_input": "2021-06-21T09:43:00.592245Z",
     "iopub.status.busy": "2021-06-21T09:43:00.592245Z",
     "iopub.status.idle": "2021-06-21T09:43:00.595243Z",
     "shell.execute_reply": "2021-06-21T09:43:00.595243Z",
     "shell.execute_reply.started": "2021-06-21T09:43:00.592245Z"
    }
   },
   "outputs": [],
   "source": [
    "df.insert(0,'dept',['部门1']*5+['部门2']*5)"
   ]
  },
  {
   "cell_type": "code",
   "execution_count": 39,
   "id": "olive-timing",
   "metadata": {
    "execution": {
     "iopub.execute_input": "2021-06-21T09:43:08.589218Z",
     "iopub.status.busy": "2021-06-21T09:43:08.589218Z",
     "iopub.status.idle": "2021-06-21T09:43:08.597217Z",
     "shell.execute_reply": "2021-06-21T09:43:08.597217Z",
     "shell.execute_reply.started": "2021-06-21T09:43:08.589218Z"
    }
   },
   "outputs": [
    {
     "data": {
      "text/html": [
       "<div>\n",
       "<style scoped>\n",
       "    .dataframe tbody tr th:only-of-type {\n",
       "        vertical-align: middle;\n",
       "    }\n",
       "\n",
       "    .dataframe tbody tr th {\n",
       "        vertical-align: top;\n",
       "    }\n",
       "\n",
       "    .dataframe thead th {\n",
       "        text-align: right;\n",
       "    }\n",
       "</style>\n",
       "<table border=\"1\" class=\"dataframe\">\n",
       "  <thead>\n",
       "    <tr style=\"text-align: right;\">\n",
       "      <th></th>\n",
       "      <th>dept</th>\n",
       "      <th>name</th>\n",
       "      <th>销售额</th>\n",
       "    </tr>\n",
       "  </thead>\n",
       "  <tbody>\n",
       "    <tr>\n",
       "      <th>0</th>\n",
       "      <td>部门1</td>\n",
       "      <td>贺桂香</td>\n",
       "      <td>70919</td>\n",
       "    </tr>\n",
       "    <tr>\n",
       "      <th>1</th>\n",
       "      <td>部门1</td>\n",
       "      <td>滕淑华</td>\n",
       "      <td>11213</td>\n",
       "    </tr>\n",
       "    <tr>\n",
       "      <th>2</th>\n",
       "      <td>部门1</td>\n",
       "      <td>吴英</td>\n",
       "      <td>68268</td>\n",
       "    </tr>\n",
       "    <tr>\n",
       "      <th>3</th>\n",
       "      <td>部门1</td>\n",
       "      <td>韦秀云</td>\n",
       "      <td>86186</td>\n",
       "    </tr>\n",
       "    <tr>\n",
       "      <th>4</th>\n",
       "      <td>部门1</td>\n",
       "      <td>朱婷婷</td>\n",
       "      <td>18949</td>\n",
       "    </tr>\n",
       "    <tr>\n",
       "      <th>5</th>\n",
       "      <td>部门1</td>\n",
       "      <td>张桂芳</td>\n",
       "      <td>70919</td>\n",
       "    </tr>\n",
       "    <tr>\n",
       "      <th>6</th>\n",
       "      <td>部门1</td>\n",
       "      <td>宋磊</td>\n",
       "      <td>11213</td>\n",
       "    </tr>\n",
       "    <tr>\n",
       "      <th>7</th>\n",
       "      <td>部门1</td>\n",
       "      <td>解平</td>\n",
       "      <td>68268</td>\n",
       "    </tr>\n",
       "    <tr>\n",
       "      <th>8</th>\n",
       "      <td>部门1</td>\n",
       "      <td>张玉英</td>\n",
       "      <td>86186</td>\n",
       "    </tr>\n",
       "    <tr>\n",
       "      <th>9</th>\n",
       "      <td>部门1</td>\n",
       "      <td>田英</td>\n",
       "      <td>18949</td>\n",
       "    </tr>\n",
       "  </tbody>\n",
       "</table>\n",
       "</div>"
      ],
      "text/plain": [
       "  dept name    销售额\n",
       "0  部门1  贺桂香  70919\n",
       "1  部门1  滕淑华  11213\n",
       "2  部门1   吴英  68268\n",
       "3  部门1  韦秀云  86186\n",
       "4  部门1  朱婷婷  18949\n",
       "5  部门1  张桂芳  70919\n",
       "6  部门1   宋磊  11213\n",
       "7  部门1   解平  68268\n",
       "8  部门1  张玉英  86186\n",
       "9  部门1   田英  18949"
      ]
     },
     "execution_count": 39,
     "metadata": {},
     "output_type": "execute_result"
    }
   ],
   "source": [
    "df # 随机生成的数据"
   ]
  },
  {
   "cell_type": "code",
   "execution_count": 5,
   "id": "sized-elizabeth",
   "metadata": {
    "execution": {
     "iopub.execute_input": "2021-06-21T09:39:53.462216Z",
     "iopub.status.busy": "2021-06-21T09:39:53.462216Z",
     "iopub.status.idle": "2021-06-21T09:39:53.471245Z",
     "shell.execute_reply": "2021-06-21T09:39:53.471245Z",
     "shell.execute_reply.started": "2021-06-21T09:39:53.462216Z"
    }
   },
   "outputs": [
    {
     "name": "stderr",
     "output_type": "stream",
     "text": [
      "d:\\datacenterkun\\jupyter\\venv\\lib\\site-packages\\ipykernel_launcher.py:1: SettingWithCopyWarning: \n",
      "A value is trying to be set on a copy of a slice from a DataFrame\n",
      "\n",
      "See the caveats in the documentation: https://pandas.pydata.org/pandas-docs/stable/user_guide/indexing.html#returning-a-view-versus-a-copy\n",
      "  \"\"\"Entry point for launching an IPython kernel.\n"
     ]
    }
   ],
   "source": [
    "df['dept'][df.dept.str.contains('1')]='部门3' # 将部门包含字符串'1'的行的部门名称改成 部门3.有警告一般是有风险，此处可以修改成功"
   ]
  },
  {
   "cell_type": "code",
   "execution_count": 6,
   "id": "current-tuesday",
   "metadata": {
    "execution": {
     "iopub.execute_input": "2021-06-21T09:39:53.473219Z",
     "iopub.status.busy": "2021-06-21T09:39:53.472219Z",
     "iopub.status.idle": "2021-06-21T09:39:53.482216Z",
     "shell.execute_reply": "2021-06-21T09:39:53.481248Z",
     "shell.execute_reply.started": "2021-06-21T09:39:53.473219Z"
    }
   },
   "outputs": [],
   "source": [
    "df.loc[df.dept.str.contains('3'),'dept']='部门4'  # 同上，无警告的方法"
   ]
  },
  {
   "cell_type": "code",
   "execution_count": 7,
   "id": "biblical-attempt",
   "metadata": {
    "execution": {
     "iopub.execute_input": "2021-06-21T09:39:53.483217Z",
     "iopub.status.busy": "2021-06-21T09:39:53.482216Z",
     "iopub.status.idle": "2021-06-21T09:39:53.489246Z",
     "shell.execute_reply": "2021-06-21T09:39:53.489246Z",
     "shell.execute_reply.started": "2021-06-21T09:39:53.483217Z"
    }
   },
   "outputs": [],
   "source": [
    "df.loc[df.dept.str.contains('4'),['dept']]='部门5'  # 同上，无警告的另一种方法"
   ]
  },
  {
   "cell_type": "code",
   "execution_count": 8,
   "id": "suburban-plaza",
   "metadata": {
    "execution": {
     "iopub.execute_input": "2021-06-21T09:39:53.491218Z",
     "iopub.status.busy": "2021-06-21T09:39:53.490218Z",
     "iopub.status.idle": "2021-06-21T09:39:53.501223Z",
     "shell.execute_reply": "2021-06-21T09:39:53.500252Z",
     "shell.execute_reply.started": "2021-06-21T09:39:53.490218Z"
    }
   },
   "outputs": [],
   "source": [
    "df.loc[df.dept.str.contains('5'),['dept','销售额']]=['部门6',10000]  # 同时根据条件修改两列"
   ]
  },
  {
   "cell_type": "code",
   "execution_count": 38,
   "id": "female-circus",
   "metadata": {
    "execution": {
     "iopub.execute_input": "2021-06-21T09:43:04.801221Z",
     "iopub.status.busy": "2021-06-21T09:43:04.800218Z",
     "iopub.status.idle": "2021-06-21T09:43:04.807216Z",
     "shell.execute_reply": "2021-06-21T09:43:04.806254Z",
     "shell.execute_reply.started": "2021-06-21T09:43:04.801221Z"
    }
   },
   "outputs": [],
   "source": [
    "df.loc[df.dept.str.contains('2'),['dept','销售额']]=df[['dept','销售额']][:5].values  # 同时根据条件修改两列。注意 不加values的 错误用法"
   ]
  },
  {
   "cell_type": "code",
   "execution_count": null,
   "id": "standard-exchange",
   "metadata": {},
   "outputs": [],
   "source": []
  }
 ],
 "metadata": {
  "kernelspec": {
   "display_name": "Python 3",
   "language": "python",
   "name": "python3"
  },
  "language_info": {
   "codemirror_mode": {
    "name": "ipython",
    "version": 3
   },
   "file_extension": ".py",
   "mimetype": "text/x-python",
   "name": "python",
   "nbconvert_exporter": "python",
   "pygments_lexer": "ipython3",
   "version": "3.6.8"
  }
 },
 "nbformat": 4,
 "nbformat_minor": 5
}
