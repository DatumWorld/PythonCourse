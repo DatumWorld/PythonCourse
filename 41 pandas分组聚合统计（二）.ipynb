{
 "cells": [
  {
   "cell_type": "markdown",
   "id": "29968586",
   "metadata": {
    "execution": {
     "iopub.execute_input": "2021-05-10T07:18:52.990449Z",
     "iopub.status.busy": "2021-05-10T07:18:52.990449Z",
     "iopub.status.idle": "2021-05-10T07:18:52.994464Z",
     "shell.execute_reply": "2021-05-10T07:18:52.993452Z",
     "shell.execute_reply.started": "2021-05-10T07:18:52.990449Z"
    }
   },
   "source": [
    "##  41 pandas分组聚合统计（二）"
   ]
  },
  {
   "cell_type": "markdown",
   "id": "db16e692",
   "metadata": {
    "heading_collapsed": "true"
   },
   "source": [
    "### groupby agg 分组聚合统计进阶"
   ]
  },
  {
   "cell_type": "code",
   "execution_count": 1,
   "id": "ed551b7e",
   "metadata": {
    "execution": {
     "iopub.execute_input": "2021-07-03T07:46:54.134337Z",
     "iopub.status.busy": "2021-07-03T07:46:54.134112Z",
     "iopub.status.idle": "2021-07-03T07:46:54.458653Z",
     "shell.execute_reply": "2021-07-03T07:46:54.457614Z",
     "shell.execute_reply.started": "2021-07-03T07:46:54.134289Z"
    }
   },
   "outputs": [],
   "source": [
    "import numpy  as np\n",
    "import pandas as pd\n",
    "from faker import Faker\n",
    "\n",
    "fake = Faker('zh_CN')\n",
    "df=pd.DataFrame(data=[ [fake.name()] for x in range(10) ],columns=['name'])\n",
    "\n",
    "df['销售额']=np.random.randint(100,100000,size=(10, 1))\n",
    "df['奖金']=np.random.randint(100,100000,size=(10, 1))\n",
    "\n",
    "df.insert(0,'dept',['部门1']*5+['部门2']*5)\n",
    "\n",
    "df.insert(1,'dept1',['小部门1']*2+['小部门2']*3+['小部门3']*1+['小部门4']*4)"
   ]
  },
  {
   "cell_type": "markdown",
   "id": "914d8ad8",
   "metadata": {},
   "source": [
    "### 数据和示例"
   ]
  },
  {
   "cell_type": "code",
   "execution_count": 2,
   "id": "d866ca8b",
   "metadata": {
    "execution": {
     "iopub.execute_input": "2021-07-03T07:46:54.460445Z",
     "iopub.status.busy": "2021-07-03T07:46:54.460225Z",
     "iopub.status.idle": "2021-07-03T07:46:54.480867Z",
     "shell.execute_reply": "2021-07-03T07:46:54.480310Z",
     "shell.execute_reply.started": "2021-07-03T07:46:54.460420Z"
    }
   },
   "outputs": [
    {
     "data": {
      "text/html": [
       "<div>\n",
       "<style scoped>\n",
       "    .dataframe tbody tr th:only-of-type {\n",
       "        vertical-align: middle;\n",
       "    }\n",
       "\n",
       "    .dataframe tbody tr th {\n",
       "        vertical-align: top;\n",
       "    }\n",
       "\n",
       "    .dataframe thead th {\n",
       "        text-align: right;\n",
       "    }\n",
       "</style>\n",
       "<table border=\"1\" class=\"dataframe\">\n",
       "  <thead>\n",
       "    <tr style=\"text-align: right;\">\n",
       "      <th></th>\n",
       "      <th>dept</th>\n",
       "      <th>dept1</th>\n",
       "      <th>name</th>\n",
       "      <th>销售额</th>\n",
       "      <th>奖金</th>\n",
       "    </tr>\n",
       "  </thead>\n",
       "  <tbody>\n",
       "    <tr>\n",
       "      <th>0</th>\n",
       "      <td>部门1</td>\n",
       "      <td>小部门1</td>\n",
       "      <td>邓秀英</td>\n",
       "      <td>45778</td>\n",
       "      <td>74547</td>\n",
       "    </tr>\n",
       "    <tr>\n",
       "      <th>1</th>\n",
       "      <td>部门1</td>\n",
       "      <td>小部门1</td>\n",
       "      <td>吴静</td>\n",
       "      <td>22304</td>\n",
       "      <td>27499</td>\n",
       "    </tr>\n",
       "    <tr>\n",
       "      <th>2</th>\n",
       "      <td>部门1</td>\n",
       "      <td>小部门2</td>\n",
       "      <td>高颖</td>\n",
       "      <td>1731</td>\n",
       "      <td>20171</td>\n",
       "    </tr>\n",
       "    <tr>\n",
       "      <th>3</th>\n",
       "      <td>部门1</td>\n",
       "      <td>小部门2</td>\n",
       "      <td>陈志强</td>\n",
       "      <td>16987</td>\n",
       "      <td>6029</td>\n",
       "    </tr>\n",
       "    <tr>\n",
       "      <th>4</th>\n",
       "      <td>部门1</td>\n",
       "      <td>小部门2</td>\n",
       "      <td>王秀梅</td>\n",
       "      <td>46915</td>\n",
       "      <td>43937</td>\n",
       "    </tr>\n",
       "    <tr>\n",
       "      <th>5</th>\n",
       "      <td>部门2</td>\n",
       "      <td>小部门3</td>\n",
       "      <td>卢雪</td>\n",
       "      <td>65484</td>\n",
       "      <td>90916</td>\n",
       "    </tr>\n",
       "    <tr>\n",
       "      <th>6</th>\n",
       "      <td>部门2</td>\n",
       "      <td>小部门4</td>\n",
       "      <td>刘佳</td>\n",
       "      <td>86604</td>\n",
       "      <td>44799</td>\n",
       "    </tr>\n",
       "    <tr>\n",
       "      <th>7</th>\n",
       "      <td>部门2</td>\n",
       "      <td>小部门4</td>\n",
       "      <td>李鹏</td>\n",
       "      <td>5416</td>\n",
       "      <td>45024</td>\n",
       "    </tr>\n",
       "    <tr>\n",
       "      <th>8</th>\n",
       "      <td>部门2</td>\n",
       "      <td>小部门4</td>\n",
       "      <td>金东</td>\n",
       "      <td>42893</td>\n",
       "      <td>74883</td>\n",
       "    </tr>\n",
       "    <tr>\n",
       "      <th>9</th>\n",
       "      <td>部门2</td>\n",
       "      <td>小部门4</td>\n",
       "      <td>彭静</td>\n",
       "      <td>7355</td>\n",
       "      <td>43434</td>\n",
       "    </tr>\n",
       "  </tbody>\n",
       "</table>\n",
       "</div>"
      ],
      "text/plain": [
       "  dept dept1 name    销售额     奖金\n",
       "0  部门1  小部门1  邓秀英  45778  74547\n",
       "1  部门1  小部门1   吴静  22304  27499\n",
       "2  部门1  小部门2   高颖   1731  20171\n",
       "3  部门1  小部门2  陈志强  16987   6029\n",
       "4  部门1  小部门2  王秀梅  46915  43937\n",
       "5  部门2  小部门3   卢雪  65484  90916\n",
       "6  部门2  小部门4   刘佳  86604  44799\n",
       "7  部门2  小部门4   李鹏   5416  45024\n",
       "8  部门2  小部门4   金东  42893  74883\n",
       "9  部门2  小部门4   彭静   7355  43434"
      ]
     },
     "execution_count": 2,
     "metadata": {},
     "output_type": "execute_result"
    }
   ],
   "source": [
    "df # 随机生成的数据"
   ]
  },
  {
   "cell_type": "code",
   "execution_count": 10,
   "id": "824f9329",
   "metadata": {
    "execution": {
     "iopub.execute_input": "2021-07-03T07:53:05.596343Z",
     "iopub.status.busy": "2021-07-03T07:53:05.595918Z",
     "iopub.status.idle": "2021-07-03T07:53:05.605435Z",
     "shell.execute_reply": "2021-07-03T07:53:05.604427Z",
     "shell.execute_reply.started": "2021-07-03T07:53:05.596313Z"
    }
   },
   "outputs": [
    {
     "data": {
      "text/plain": [
       "{('部门1', '小部门1'): [0, 1], ('部门1', '小部门2'): [2, 3, 4], ('部门2', '小部门3'): [5], ('部门2', '小部门4'): [6, 7, 8, 9]}"
      ]
     },
     "execution_count": 10,
     "metadata": {},
     "output_type": "execute_result"
    }
   ],
   "source": [
    "df.groupby(['dept','dept1']).groups # 给出 所分成的组的信息，每个组和其包含的行的索引"
   ]
  },
  {
   "cell_type": "code",
   "execution_count": 8,
   "id": "81bed8a2",
   "metadata": {
    "execution": {
     "iopub.execute_input": "2021-07-03T07:52:03.376232Z",
     "iopub.status.busy": "2021-07-03T07:52:03.375757Z",
     "iopub.status.idle": "2021-07-03T07:52:03.386697Z",
     "shell.execute_reply": "2021-07-03T07:52:03.386011Z",
     "shell.execute_reply.started": "2021-07-03T07:52:03.376190Z"
    }
   },
   "outputs": [
    {
     "data": {
      "text/plain": [
       "dept  dept1\n",
       "部门1   小部门1      68082\n",
       "      小部门2      65633\n",
       "部门2   小部门3      65484\n",
       "      小部门4     142268\n",
       "Name: 销售额, dtype: int64"
      ]
     },
     "execution_count": 8,
     "metadata": {},
     "output_type": "execute_result"
    }
   ],
   "source": [
    "df.groupby(['dept','dept1'])['销售额'].sum() # 单列某个统计指标计算可以这么写"
   ]
  },
  {
   "cell_type": "code",
   "execution_count": 7,
   "id": "60dab241",
   "metadata": {
    "execution": {
     "iopub.execute_input": "2021-07-03T07:50:54.911632Z",
     "iopub.status.busy": "2021-07-03T07:50:54.911230Z",
     "iopub.status.idle": "2021-07-03T07:50:54.939304Z",
     "shell.execute_reply": "2021-07-03T07:50:54.938388Z",
     "shell.execute_reply.started": "2021-07-03T07:50:54.911598Z"
    }
   },
   "outputs": [
    {
     "data": {
      "text/html": [
       "<div>\n",
       "<style scoped>\n",
       "    .dataframe tbody tr th:only-of-type {\n",
       "        vertical-align: middle;\n",
       "    }\n",
       "\n",
       "    .dataframe tbody tr th {\n",
       "        vertical-align: top;\n",
       "    }\n",
       "\n",
       "    .dataframe thead tr th {\n",
       "        text-align: left;\n",
       "    }\n",
       "\n",
       "    .dataframe thead tr:last-of-type th {\n",
       "        text-align: right;\n",
       "    }\n",
       "</style>\n",
       "<table border=\"1\" class=\"dataframe\">\n",
       "  <thead>\n",
       "    <tr>\n",
       "      <th></th>\n",
       "      <th></th>\n",
       "      <th colspan=\"3\" halign=\"left\">销售额</th>\n",
       "      <th colspan=\"2\" halign=\"left\">奖金</th>\n",
       "    </tr>\n",
       "    <tr>\n",
       "      <th></th>\n",
       "      <th></th>\n",
       "      <th>sum</th>\n",
       "      <th>mean</th>\n",
       "      <th>max</th>\n",
       "      <th>sum</th>\n",
       "      <th>mean</th>\n",
       "    </tr>\n",
       "    <tr>\n",
       "      <th>dept</th>\n",
       "      <th>dept1</th>\n",
       "      <th></th>\n",
       "      <th></th>\n",
       "      <th></th>\n",
       "      <th></th>\n",
       "      <th></th>\n",
       "    </tr>\n",
       "  </thead>\n",
       "  <tbody>\n",
       "    <tr>\n",
       "      <th rowspan=\"2\" valign=\"top\">部门1</th>\n",
       "      <th>小部门1</th>\n",
       "      <td>68082</td>\n",
       "      <td>34041.000000</td>\n",
       "      <td>45778</td>\n",
       "      <td>102046</td>\n",
       "      <td>51023</td>\n",
       "    </tr>\n",
       "    <tr>\n",
       "      <th>小部门2</th>\n",
       "      <td>65633</td>\n",
       "      <td>21877.666667</td>\n",
       "      <td>46915</td>\n",
       "      <td>70137</td>\n",
       "      <td>23379</td>\n",
       "    </tr>\n",
       "    <tr>\n",
       "      <th rowspan=\"2\" valign=\"top\">部门2</th>\n",
       "      <th>小部门3</th>\n",
       "      <td>65484</td>\n",
       "      <td>65484.000000</td>\n",
       "      <td>65484</td>\n",
       "      <td>90916</td>\n",
       "      <td>90916</td>\n",
       "    </tr>\n",
       "    <tr>\n",
       "      <th>小部门4</th>\n",
       "      <td>142268</td>\n",
       "      <td>35567.000000</td>\n",
       "      <td>86604</td>\n",
       "      <td>208140</td>\n",
       "      <td>52035</td>\n",
       "    </tr>\n",
       "  </tbody>\n",
       "</table>\n",
       "</div>"
      ],
      "text/plain": [
       "               销售额                           奖金       \n",
       "               sum          mean    max     sum   mean\n",
       "dept dept1                                            \n",
       "部门1  小部门1    68082  34041.000000  45778  102046  51023\n",
       "     小部门2    65633  21877.666667  46915   70137  23379\n",
       "部门2  小部门3    65484  65484.000000  65484   90916  90916\n",
       "     小部门4   142268  35567.000000  86604  208140  52035"
      ]
     },
     "execution_count": 7,
     "metadata": {},
     "output_type": "execute_result"
    }
   ],
   "source": [
    "df.groupby(['dept','dept1']).agg({'销售额':['sum','mean','max'],'奖金':['sum','mean']}) # 按照dept 和dept1 分组，进行 销售额 和 奖金的 和 和 平均 统计.统计指标可以根据实际需求调整"
   ]
  },
  {
   "cell_type": "code",
   "execution_count": 6,
   "id": "0fe264b6",
   "metadata": {
    "execution": {
     "iopub.execute_input": "2021-07-03T07:49:26.832876Z",
     "iopub.status.busy": "2021-07-03T07:49:26.832387Z",
     "iopub.status.idle": "2021-07-03T07:49:26.857755Z",
     "shell.execute_reply": "2021-07-03T07:49:26.857000Z",
     "shell.execute_reply.started": "2021-07-03T07:49:26.832834Z"
    }
   },
   "outputs": [
    {
     "data": {
      "text/html": [
       "<div>\n",
       "<style scoped>\n",
       "    .dataframe tbody tr th:only-of-type {\n",
       "        vertical-align: middle;\n",
       "    }\n",
       "\n",
       "    .dataframe tbody tr th {\n",
       "        vertical-align: top;\n",
       "    }\n",
       "\n",
       "    .dataframe thead tr th {\n",
       "        text-align: left;\n",
       "    }\n",
       "\n",
       "    .dataframe thead tr:last-of-type th {\n",
       "        text-align: right;\n",
       "    }\n",
       "</style>\n",
       "<table border=\"1\" class=\"dataframe\">\n",
       "  <thead>\n",
       "    <tr>\n",
       "      <th></th>\n",
       "      <th></th>\n",
       "      <th colspan=\"2\" halign=\"left\">销售额</th>\n",
       "      <th colspan=\"2\" halign=\"left\">奖金</th>\n",
       "    </tr>\n",
       "    <tr>\n",
       "      <th></th>\n",
       "      <th></th>\n",
       "      <th>sum</th>\n",
       "      <th>mean</th>\n",
       "      <th>sum</th>\n",
       "      <th>mean</th>\n",
       "    </tr>\n",
       "    <tr>\n",
       "      <th>dept</th>\n",
       "      <th>dept1</th>\n",
       "      <th></th>\n",
       "      <th></th>\n",
       "      <th></th>\n",
       "      <th></th>\n",
       "    </tr>\n",
       "  </thead>\n",
       "  <tbody>\n",
       "    <tr>\n",
       "      <th rowspan=\"2\" valign=\"top\">部门1</th>\n",
       "      <th>小部门1</th>\n",
       "      <td>68082</td>\n",
       "      <td>34041.000000</td>\n",
       "      <td>102046</td>\n",
       "      <td>51023</td>\n",
       "    </tr>\n",
       "    <tr>\n",
       "      <th>小部门2</th>\n",
       "      <td>65633</td>\n",
       "      <td>21877.666667</td>\n",
       "      <td>70137</td>\n",
       "      <td>23379</td>\n",
       "    </tr>\n",
       "    <tr>\n",
       "      <th rowspan=\"2\" valign=\"top\">部门2</th>\n",
       "      <th>小部门3</th>\n",
       "      <td>65484</td>\n",
       "      <td>65484.000000</td>\n",
       "      <td>90916</td>\n",
       "      <td>90916</td>\n",
       "    </tr>\n",
       "    <tr>\n",
       "      <th>小部门4</th>\n",
       "      <td>142268</td>\n",
       "      <td>35567.000000</td>\n",
       "      <td>208140</td>\n",
       "      <td>52035</td>\n",
       "    </tr>\n",
       "  </tbody>\n",
       "</table>\n",
       "</div>"
      ],
      "text/plain": [
       "               销售额                    奖金       \n",
       "               sum          mean     sum   mean\n",
       "dept dept1                                     \n",
       "部门1  小部门1    68082  34041.000000  102046  51023\n",
       "     小部门2    65633  21877.666667   70137  23379\n",
       "部门2  小部门3    65484  65484.000000   90916  90916\n",
       "     小部门4   142268  35567.000000  208140  52035"
      ]
     },
     "execution_count": 6,
     "metadata": {},
     "output_type": "execute_result"
    }
   ],
   "source": [
    "df.groupby(['dept','dept1']).agg({'销售额':['sum','mean'],'奖金':['sum','mean']}) # 按照dept 和dept1 分组，进行 销售额 和 奖金的 和 和 平均 统计"
   ]
  }
 ],
 "metadata": {
  "kernelspec": {
   "display_name": "Python 3",
   "language": "python",
   "name": "python3"
  },
  "language_info": {
   "codemirror_mode": {
    "name": "ipython",
    "version": 3
   },
   "file_extension": ".py",
   "mimetype": "text/x-python",
   "name": "python",
   "nbconvert_exporter": "python",
   "pygments_lexer": "ipython3",
   "version": "3.8.8"
  }
 },
 "nbformat": 4,
 "nbformat_minor": 5
}
