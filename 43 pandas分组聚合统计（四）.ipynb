{
 "cells": [
  {
   "cell_type": "markdown",
   "id": "automatic-middle",
   "metadata": {
    "execution": {
     "iopub.execute_input": "2021-05-10T07:18:52.990449Z",
     "iopub.status.busy": "2021-05-10T07:18:52.990449Z",
     "iopub.status.idle": "2021-05-10T07:18:52.994464Z",
     "shell.execute_reply": "2021-05-10T07:18:52.993452Z",
     "shell.execute_reply.started": "2021-05-10T07:18:52.990449Z"
    }
   },
   "source": [
    "##  43 pandas分组聚合统计（四）"
   ]
  },
  {
   "cell_type": "markdown",
   "id": "cleared-charter",
   "metadata": {},
   "source": [
    "### 分组聚合统计\n",
    "#### groupby  by  as_index dropna "
   ]
  },
  {
   "cell_type": "code",
   "execution_count": 1,
   "id": "alternate-oasis",
   "metadata": {
    "execution": {
     "iopub.execute_input": "2021-07-06T08:01:35.041351Z",
     "iopub.status.busy": "2021-07-06T08:01:35.041351Z",
     "iopub.status.idle": "2021-07-06T08:01:35.397350Z",
     "shell.execute_reply": "2021-07-06T08:01:35.397350Z",
     "shell.execute_reply.started": "2021-07-06T08:01:35.041351Z"
    }
   },
   "outputs": [],
   "source": [
    "import numpy  as np\n",
    "import pandas as pd\n",
    "from faker import Faker\n",
    "\n",
    "fake = Faker('zh_CN')\n",
    "df=pd.DataFrame(data=[ [fake.name()] for x in range(10) ],columns=['name'])\n",
    "df['销售额']=np.random.randint(100,100000,size=(10, 1))\n",
    "df['奖金']=np.random.randint(100,100000,size=(10, 1))\n",
    "df.insert(0,'dept',['部门1']*5+['部门2']*5)\n",
    "df.insert(1,'dept1',['小部门1']*2+['小部门2']*3+['小部门3']*1+['小部门4']*4)"
   ]
  },
  {
   "cell_type": "code",
   "execution_count": 5,
   "id": "backed-initial",
   "metadata": {
    "execution": {
     "iopub.execute_input": "2021-07-06T08:03:46.732349Z",
     "iopub.status.busy": "2021-07-06T08:03:46.732349Z",
     "iopub.status.idle": "2021-07-06T08:03:46.742351Z",
     "shell.execute_reply": "2021-07-06T08:03:46.741349Z",
     "shell.execute_reply.started": "2021-07-06T08:03:46.732349Z"
    }
   },
   "outputs": [
    {
     "data": {
      "text/html": [
       "<div>\n",
       "<style scoped>\n",
       "    .dataframe tbody tr th:only-of-type {\n",
       "        vertical-align: middle;\n",
       "    }\n",
       "\n",
       "    .dataframe tbody tr th {\n",
       "        vertical-align: top;\n",
       "    }\n",
       "\n",
       "    .dataframe thead th {\n",
       "        text-align: right;\n",
       "    }\n",
       "</style>\n",
       "<table border=\"1\" class=\"dataframe\">\n",
       "  <thead>\n",
       "    <tr style=\"text-align: right;\">\n",
       "      <th></th>\n",
       "      <th>dept</th>\n",
       "      <th>dept1</th>\n",
       "      <th>name</th>\n",
       "      <th>销售额</th>\n",
       "      <th>奖金</th>\n",
       "    </tr>\n",
       "  </thead>\n",
       "  <tbody>\n",
       "    <tr>\n",
       "      <th>0</th>\n",
       "      <td>部门1</td>\n",
       "      <td>NaN</td>\n",
       "      <td>高宇</td>\n",
       "      <td>NaN</td>\n",
       "      <td>72342</td>\n",
       "    </tr>\n",
       "    <tr>\n",
       "      <th>1</th>\n",
       "      <td>部门1</td>\n",
       "      <td>小部门1</td>\n",
       "      <td>张玉珍</td>\n",
       "      <td>96975.0</td>\n",
       "      <td>6967</td>\n",
       "    </tr>\n",
       "    <tr>\n",
       "      <th>2</th>\n",
       "      <td>部门1</td>\n",
       "      <td>小部门2</td>\n",
       "      <td>傅燕</td>\n",
       "      <td>34519.0</td>\n",
       "      <td>90357</td>\n",
       "    </tr>\n",
       "    <tr>\n",
       "      <th>3</th>\n",
       "      <td>部门1</td>\n",
       "      <td>小部门2</td>\n",
       "      <td>屈楠</td>\n",
       "      <td>17319.0</td>\n",
       "      <td>20822</td>\n",
       "    </tr>\n",
       "    <tr>\n",
       "      <th>4</th>\n",
       "      <td>部门1</td>\n",
       "      <td>小部门2</td>\n",
       "      <td>陈红</td>\n",
       "      <td>99682.0</td>\n",
       "      <td>22589</td>\n",
       "    </tr>\n",
       "    <tr>\n",
       "      <th>5</th>\n",
       "      <td>部门2</td>\n",
       "      <td>小部门3</td>\n",
       "      <td>李佳</td>\n",
       "      <td>75452.0</td>\n",
       "      <td>53421</td>\n",
       "    </tr>\n",
       "    <tr>\n",
       "      <th>6</th>\n",
       "      <td>部门2</td>\n",
       "      <td>小部门4</td>\n",
       "      <td>文淑兰</td>\n",
       "      <td>91965.0</td>\n",
       "      <td>40826</td>\n",
       "    </tr>\n",
       "    <tr>\n",
       "      <th>7</th>\n",
       "      <td>部门2</td>\n",
       "      <td>小部门4</td>\n",
       "      <td>刘春梅</td>\n",
       "      <td>87081.0</td>\n",
       "      <td>80507</td>\n",
       "    </tr>\n",
       "    <tr>\n",
       "      <th>8</th>\n",
       "      <td>部门2</td>\n",
       "      <td>小部门4</td>\n",
       "      <td>朱旭</td>\n",
       "      <td>20138.0</td>\n",
       "      <td>82734</td>\n",
       "    </tr>\n",
       "    <tr>\n",
       "      <th>9</th>\n",
       "      <td>部门2</td>\n",
       "      <td>小部门4</td>\n",
       "      <td>梁波</td>\n",
       "      <td>63673.0</td>\n",
       "      <td>79650</td>\n",
       "    </tr>\n",
       "  </tbody>\n",
       "</table>\n",
       "</div>"
      ],
      "text/plain": [
       "  dept dept1 name      销售额     奖金\n",
       "0  部门1   NaN   高宇      NaN  72342\n",
       "1  部门1  小部门1  张玉珍  96975.0   6967\n",
       "2  部门1  小部门2   傅燕  34519.0  90357\n",
       "3  部门1  小部门2   屈楠  17319.0  20822\n",
       "4  部门1  小部门2   陈红  99682.0  22589\n",
       "5  部门2  小部门3   李佳  75452.0  53421\n",
       "6  部门2  小部门4  文淑兰  91965.0  40826\n",
       "7  部门2  小部门4  刘春梅  87081.0  80507\n",
       "8  部门2  小部门4   朱旭  20138.0  82734\n",
       "9  部门2  小部门4   梁波  63673.0  79650"
      ]
     },
     "execution_count": 5,
     "metadata": {},
     "output_type": "execute_result"
    }
   ],
   "source": [
    "df # 随机生成的数据"
   ]
  },
  {
   "cell_type": "code",
   "execution_count": 4,
   "id": "generous-cradle",
   "metadata": {
    "execution": {
     "iopub.execute_input": "2021-07-06T08:03:43.217347Z",
     "iopub.status.busy": "2021-07-06T08:03:43.216350Z",
     "iopub.status.idle": "2021-07-06T08:03:43.221349Z",
     "shell.execute_reply": "2021-07-06T08:03:43.221349Z",
     "shell.execute_reply.started": "2021-07-06T08:03:43.217347Z"
    }
   },
   "outputs": [],
   "source": [
    "df.loc[0,['dept1','销售额']]=np.nan # 先修改成nan"
   ]
  },
  {
   "cell_type": "code",
   "execution_count": 3,
   "id": "functional-pathology",
   "metadata": {
    "execution": {
     "iopub.execute_input": "2021-07-06T08:02:45.221347Z",
     "iopub.status.busy": "2021-07-06T08:02:45.221347Z",
     "iopub.status.idle": "2021-07-06T08:02:45.259351Z",
     "shell.execute_reply": "2021-07-06T08:02:45.257359Z",
     "shell.execute_reply.started": "2021-07-06T08:02:45.221347Z"
    }
   },
   "outputs": [
    {
     "name": "stderr",
     "output_type": "stream",
     "text": [
      "d:\\datacenterkun\\jupyter\\venv\\lib\\site-packages\\ipykernel_launcher.py:1: FutureWarning: Indexing with multiple keys (implicitly converted to a tuple of keys) will be deprecated, use a list instead.\n",
      "  \"\"\"Entry point for launching an IPython kernel.\n"
     ]
    },
    {
     "data": {
      "text/html": [
       "<div>\n",
       "<style scoped>\n",
       "    .dataframe tbody tr th:only-of-type {\n",
       "        vertical-align: middle;\n",
       "    }\n",
       "\n",
       "    .dataframe tbody tr th {\n",
       "        vertical-align: top;\n",
       "    }\n",
       "\n",
       "    .dataframe thead th {\n",
       "        text-align: right;\n",
       "    }\n",
       "</style>\n",
       "<table border=\"1\" class=\"dataframe\">\n",
       "  <thead>\n",
       "    <tr style=\"text-align: right;\">\n",
       "      <th></th>\n",
       "      <th></th>\n",
       "      <th>销售额</th>\n",
       "      <th>奖金</th>\n",
       "    </tr>\n",
       "    <tr>\n",
       "      <th>dept</th>\n",
       "      <th>dept1</th>\n",
       "      <th></th>\n",
       "      <th></th>\n",
       "    </tr>\n",
       "  </thead>\n",
       "  <tbody>\n",
       "    <tr>\n",
       "      <th rowspan=\"2\" valign=\"top\">部门1</th>\n",
       "      <th>小部门1</th>\n",
       "      <td>187870</td>\n",
       "      <td>79309</td>\n",
       "    </tr>\n",
       "    <tr>\n",
       "      <th>小部门2</th>\n",
       "      <td>151520</td>\n",
       "      <td>133768</td>\n",
       "    </tr>\n",
       "    <tr>\n",
       "      <th rowspan=\"2\" valign=\"top\">部门2</th>\n",
       "      <th>小部门3</th>\n",
       "      <td>75452</td>\n",
       "      <td>53421</td>\n",
       "    </tr>\n",
       "    <tr>\n",
       "      <th>小部门4</th>\n",
       "      <td>262857</td>\n",
       "      <td>283717</td>\n",
       "    </tr>\n",
       "  </tbody>\n",
       "</table>\n",
       "</div>"
      ],
      "text/plain": [
       "               销售额      奖金\n",
       "dept dept1                \n",
       "部门1  小部门1   187870   79309\n",
       "     小部门2   151520  133768\n",
       "部门2  小部门3    75452   53421\n",
       "     小部门4   262857  283717"
      ]
     },
     "execution_count": 3,
     "metadata": {},
     "output_type": "execute_result"
    }
   ],
   "source": [
    "df.groupby(by=['dept','dept1'])['销售额','奖金'].sum()"
   ]
  },
  {
   "cell_type": "code",
   "execution_count": 9,
   "id": "cellular-cologne",
   "metadata": {
    "execution": {
     "iopub.execute_input": "2021-07-06T08:05:07.116353Z",
     "iopub.status.busy": "2021-07-06T08:05:07.116353Z",
     "iopub.status.idle": "2021-07-06T08:05:07.135352Z",
     "shell.execute_reply": "2021-07-06T08:05:07.134346Z",
     "shell.execute_reply.started": "2021-07-06T08:05:07.116353Z"
    }
   },
   "outputs": [
    {
     "name": "stderr",
     "output_type": "stream",
     "text": [
      "d:\\datacenterkun\\jupyter\\venv\\lib\\site-packages\\ipykernel_launcher.py:1: FutureWarning: Indexing with multiple keys (implicitly converted to a tuple of keys) will be deprecated, use a list instead.\n",
      "  \"\"\"Entry point for launching an IPython kernel.\n"
     ]
    },
    {
     "data": {
      "text/html": [
       "<div>\n",
       "<style scoped>\n",
       "    .dataframe tbody tr th:only-of-type {\n",
       "        vertical-align: middle;\n",
       "    }\n",
       "\n",
       "    .dataframe tbody tr th {\n",
       "        vertical-align: top;\n",
       "    }\n",
       "\n",
       "    .dataframe thead th {\n",
       "        text-align: right;\n",
       "    }\n",
       "</style>\n",
       "<table border=\"1\" class=\"dataframe\">\n",
       "  <thead>\n",
       "    <tr style=\"text-align: right;\">\n",
       "      <th></th>\n",
       "      <th></th>\n",
       "      <th>销售额</th>\n",
       "      <th>奖金</th>\n",
       "    </tr>\n",
       "    <tr>\n",
       "      <th>dept</th>\n",
       "      <th>dept1</th>\n",
       "      <th></th>\n",
       "      <th></th>\n",
       "    </tr>\n",
       "  </thead>\n",
       "  <tbody>\n",
       "    <tr>\n",
       "      <th rowspan=\"3\" valign=\"top\">部门1</th>\n",
       "      <th>小部门1</th>\n",
       "      <td>96975.0</td>\n",
       "      <td>6967</td>\n",
       "    </tr>\n",
       "    <tr>\n",
       "      <th>小部门2</th>\n",
       "      <td>151520.0</td>\n",
       "      <td>133768</td>\n",
       "    </tr>\n",
       "    <tr>\n",
       "      <th>NaN</th>\n",
       "      <td>0.0</td>\n",
       "      <td>72342</td>\n",
       "    </tr>\n",
       "    <tr>\n",
       "      <th rowspan=\"2\" valign=\"top\">部门2</th>\n",
       "      <th>小部门3</th>\n",
       "      <td>75452.0</td>\n",
       "      <td>53421</td>\n",
       "    </tr>\n",
       "    <tr>\n",
       "      <th>小部门4</th>\n",
       "      <td>262857.0</td>\n",
       "      <td>283717</td>\n",
       "    </tr>\n",
       "  </tbody>\n",
       "</table>\n",
       "</div>"
      ],
      "text/plain": [
       "                 销售额      奖金\n",
       "dept dept1                  \n",
       "部门1  小部门1    96975.0    6967\n",
       "     小部门2   151520.0  133768\n",
       "     NaN         0.0   72342\n",
       "部门2  小部门3    75452.0   53421\n",
       "     小部门4   262857.0  283717"
      ]
     },
     "execution_count": 9,
     "metadata": {},
     "output_type": "execute_result"
    }
   ],
   "source": [
    "df.groupby(by=['dept','dept1'],dropna=False)['销售额','奖金'].sum() # 对比两个，dropna 可以跳过或保留 分组key列的nan"
   ]
  },
  {
   "cell_type": "code",
   "execution_count": 11,
   "id": "practical-harvard",
   "metadata": {
    "execution": {
     "iopub.execute_input": "2021-07-06T08:06:58.297353Z",
     "iopub.status.busy": "2021-07-06T08:06:58.296357Z",
     "iopub.status.idle": "2021-07-06T08:06:58.317352Z",
     "shell.execute_reply": "2021-07-06T08:06:58.317352Z",
     "shell.execute_reply.started": "2021-07-06T08:06:58.297353Z"
    }
   },
   "outputs": [
    {
     "name": "stderr",
     "output_type": "stream",
     "text": [
      "d:\\datacenterkun\\jupyter\\venv\\lib\\site-packages\\ipykernel_launcher.py:1: FutureWarning: Indexing with multiple keys (implicitly converted to a tuple of keys) will be deprecated, use a list instead.\n",
      "  \"\"\"Entry point for launching an IPython kernel.\n"
     ]
    },
    {
     "data": {
      "text/html": [
       "<div>\n",
       "<style scoped>\n",
       "    .dataframe tbody tr th:only-of-type {\n",
       "        vertical-align: middle;\n",
       "    }\n",
       "\n",
       "    .dataframe tbody tr th {\n",
       "        vertical-align: top;\n",
       "    }\n",
       "\n",
       "    .dataframe thead th {\n",
       "        text-align: right;\n",
       "    }\n",
       "</style>\n",
       "<table border=\"1\" class=\"dataframe\">\n",
       "  <thead>\n",
       "    <tr style=\"text-align: right;\">\n",
       "      <th></th>\n",
       "      <th>dept</th>\n",
       "      <th>dept1</th>\n",
       "      <th>销售额</th>\n",
       "      <th>奖金</th>\n",
       "    </tr>\n",
       "  </thead>\n",
       "  <tbody>\n",
       "    <tr>\n",
       "      <th>0</th>\n",
       "      <td>部门1</td>\n",
       "      <td>小部门1</td>\n",
       "      <td>96975.0</td>\n",
       "      <td>6967</td>\n",
       "    </tr>\n",
       "    <tr>\n",
       "      <th>1</th>\n",
       "      <td>部门1</td>\n",
       "      <td>小部门2</td>\n",
       "      <td>151520.0</td>\n",
       "      <td>133768</td>\n",
       "    </tr>\n",
       "    <tr>\n",
       "      <th>2</th>\n",
       "      <td>部门1</td>\n",
       "      <td>NaN</td>\n",
       "      <td>0.0</td>\n",
       "      <td>72342</td>\n",
       "    </tr>\n",
       "    <tr>\n",
       "      <th>3</th>\n",
       "      <td>部门2</td>\n",
       "      <td>小部门3</td>\n",
       "      <td>75452.0</td>\n",
       "      <td>53421</td>\n",
       "    </tr>\n",
       "    <tr>\n",
       "      <th>4</th>\n",
       "      <td>部门2</td>\n",
       "      <td>小部门4</td>\n",
       "      <td>262857.0</td>\n",
       "      <td>283717</td>\n",
       "    </tr>\n",
       "  </tbody>\n",
       "</table>\n",
       "</div>"
      ],
      "text/plain": [
       "  dept dept1       销售额      奖金\n",
       "0  部门1  小部门1   96975.0    6967\n",
       "1  部门1  小部门2  151520.0  133768\n",
       "2  部门1   NaN       0.0   72342\n",
       "3  部门2  小部门3   75452.0   53421\n",
       "4  部门2  小部门4  262857.0  283717"
      ]
     },
     "execution_count": 11,
     "metadata": {},
     "output_type": "execute_result"
    }
   ],
   "source": [
    "df.groupby(by=['dept','dept1'],dropna=False,as_index=False)['销售额','奖金'].sum() # 分组的列不转换成索隐列"
   ]
  },
  {
   "cell_type": "code",
   "execution_count": 13,
   "id": "radical-klein",
   "metadata": {
    "execution": {
     "iopub.execute_input": "2021-07-06T08:07:26.718347Z",
     "iopub.status.busy": "2021-07-06T08:07:26.718347Z",
     "iopub.status.idle": "2021-07-06T08:07:26.737378Z",
     "shell.execute_reply": "2021-07-06T08:07:26.737378Z",
     "shell.execute_reply.started": "2021-07-06T08:07:26.718347Z"
    }
   },
   "outputs": [
    {
     "name": "stderr",
     "output_type": "stream",
     "text": [
      "d:\\datacenterkun\\jupyter\\venv\\lib\\site-packages\\ipykernel_launcher.py:1: FutureWarning: Indexing with multiple keys (implicitly converted to a tuple of keys) will be deprecated, use a list instead.\n",
      "  \"\"\"Entry point for launching an IPython kernel.\n"
     ]
    },
    {
     "data": {
      "text/html": [
       "<div>\n",
       "<style scoped>\n",
       "    .dataframe tbody tr th:only-of-type {\n",
       "        vertical-align: middle;\n",
       "    }\n",
       "\n",
       "    .dataframe tbody tr th {\n",
       "        vertical-align: top;\n",
       "    }\n",
       "\n",
       "    .dataframe thead th {\n",
       "        text-align: right;\n",
       "    }\n",
       "</style>\n",
       "<table border=\"1\" class=\"dataframe\">\n",
       "  <thead>\n",
       "    <tr style=\"text-align: right;\">\n",
       "      <th></th>\n",
       "      <th>dept</th>\n",
       "      <th>dept1</th>\n",
       "      <th>销售额</th>\n",
       "      <th>奖金</th>\n",
       "    </tr>\n",
       "  </thead>\n",
       "  <tbody>\n",
       "    <tr>\n",
       "      <th>0</th>\n",
       "      <td>部门1</td>\n",
       "      <td>小部门1</td>\n",
       "      <td>96975.0</td>\n",
       "      <td>6967</td>\n",
       "    </tr>\n",
       "    <tr>\n",
       "      <th>1</th>\n",
       "      <td>部门1</td>\n",
       "      <td>小部门2</td>\n",
       "      <td>151520.0</td>\n",
       "      <td>133768</td>\n",
       "    </tr>\n",
       "    <tr>\n",
       "      <th>2</th>\n",
       "      <td>部门1</td>\n",
       "      <td>NaN</td>\n",
       "      <td>0.0</td>\n",
       "      <td>72342</td>\n",
       "    </tr>\n",
       "    <tr>\n",
       "      <th>3</th>\n",
       "      <td>部门2</td>\n",
       "      <td>小部门3</td>\n",
       "      <td>75452.0</td>\n",
       "      <td>53421</td>\n",
       "    </tr>\n",
       "    <tr>\n",
       "      <th>4</th>\n",
       "      <td>部门2</td>\n",
       "      <td>小部门4</td>\n",
       "      <td>262857.0</td>\n",
       "      <td>283717</td>\n",
       "    </tr>\n",
       "  </tbody>\n",
       "</table>\n",
       "</div>"
      ],
      "text/plain": [
       "  dept dept1       销售额      奖金\n",
       "0  部门1  小部门1   96975.0    6967\n",
       "1  部门1  小部门2  151520.0  133768\n",
       "2  部门1   NaN       0.0   72342\n",
       "3  部门2  小部门3   75452.0   53421\n",
       "4  部门2  小部门4  262857.0  283717"
      ]
     },
     "execution_count": 13,
     "metadata": {},
     "output_type": "execute_result"
    }
   ],
   "source": [
    "df.groupby(by=['dept','dept1'],dropna=False)['销售额','奖金'].sum().reset_index() # 分组的列不转换成索隐列。效果同上"
   ]
  }
 ],
 "metadata": {
  "kernelspec": {
   "display_name": "Python 3",
   "language": "python",
   "name": "python3"
  },
  "language_info": {
   "codemirror_mode": {
    "name": "ipython",
    "version": 3
   },
   "file_extension": ".py",
   "mimetype": "text/x-python",
   "name": "python",
   "nbconvert_exporter": "python",
   "pygments_lexer": "ipython3",
   "version": "3.6.8"
  }
 },
 "nbformat": 4,
 "nbformat_minor": 5
}
