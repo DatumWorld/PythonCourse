{
 "cells": [
  {
   "cell_type": "markdown",
   "id": "excited-palestinian",
   "metadata": {
    "execution": {
     "iopub.execute_input": "2021-05-10T07:18:52.990449Z",
     "iopub.status.busy": "2021-05-10T07:18:52.990449Z",
     "iopub.status.idle": "2021-05-10T07:18:52.994464Z",
     "shell.execute_reply": "2021-05-10T07:18:52.993452Z",
     "shell.execute_reply.started": "2021-05-10T07:18:52.990449Z"
    }
   },
   "source": [
    "##  48 pandas分组聚合统计（九）"
   ]
  },
  {
   "cell_type": "markdown",
   "id": "human-madrid",
   "metadata": {},
   "source": [
    "### 分组聚合统计\n",
    "#### groupby  agg 使用 apply 实现灵活的自定义计算方式"
   ]
  },
  {
   "cell_type": "code",
   "execution_count": 1,
   "id": "trained-exclusion",
   "metadata": {
    "execution": {
     "iopub.execute_input": "2021-07-12T07:19:30.744900Z",
     "iopub.status.busy": "2021-07-12T07:19:30.743931Z",
     "iopub.status.idle": "2021-07-12T07:19:31.060934Z",
     "shell.execute_reply": "2021-07-12T07:19:31.060934Z",
     "shell.execute_reply.started": "2021-07-12T07:19:30.744900Z"
    }
   },
   "outputs": [],
   "source": [
    "import numpy  as np\n",
    "import pandas as pd\n",
    "from faker import Faker\n",
    "\n",
    "fake = Faker('zh_CN')\n",
    "df=pd.DataFrame(data=[ [fake.name()] for x in range(10) ],columns=['name'])\n",
    "df['销售额']=np.random.randint(100,100000,size=(10, 1))\n",
    "df['奖金']=np.random.randint(100,100000,size=(10, 1))\n",
    "df.insert(0,'dept',['部门1']*5+['部门2']*5)\n",
    "df.insert(1,'dept1',['小部门1']*2+['小部门2']*3+['小部门3']*1+['小部门4']*4)"
   ]
  },
  {
   "cell_type": "code",
   "execution_count": 2,
   "id": "funny-basket",
   "metadata": {
    "execution": {
     "iopub.execute_input": "2021-07-12T07:19:31.061900Z",
     "iopub.status.busy": "2021-07-12T07:19:31.061900Z",
     "iopub.status.idle": "2021-07-12T07:19:31.078936Z",
     "shell.execute_reply": "2021-07-12T07:19:31.078936Z",
     "shell.execute_reply.started": "2021-07-12T07:19:31.061900Z"
    }
   },
   "outputs": [
    {
     "data": {
      "text/html": [
       "<div>\n",
       "<style scoped>\n",
       "    .dataframe tbody tr th:only-of-type {\n",
       "        vertical-align: middle;\n",
       "    }\n",
       "\n",
       "    .dataframe tbody tr th {\n",
       "        vertical-align: top;\n",
       "    }\n",
       "\n",
       "    .dataframe thead th {\n",
       "        text-align: right;\n",
       "    }\n",
       "</style>\n",
       "<table border=\"1\" class=\"dataframe\">\n",
       "  <thead>\n",
       "    <tr style=\"text-align: right;\">\n",
       "      <th></th>\n",
       "      <th>dept</th>\n",
       "      <th>dept1</th>\n",
       "      <th>name</th>\n",
       "      <th>销售额</th>\n",
       "      <th>奖金</th>\n",
       "    </tr>\n",
       "  </thead>\n",
       "  <tbody>\n",
       "    <tr>\n",
       "      <th>0</th>\n",
       "      <td>部门1</td>\n",
       "      <td>小部门1</td>\n",
       "      <td>张燕</td>\n",
       "      <td>46323</td>\n",
       "      <td>50819</td>\n",
       "    </tr>\n",
       "    <tr>\n",
       "      <th>1</th>\n",
       "      <td>部门1</td>\n",
       "      <td>小部门1</td>\n",
       "      <td>赵娜</td>\n",
       "      <td>33396</td>\n",
       "      <td>40308</td>\n",
       "    </tr>\n",
       "    <tr>\n",
       "      <th>2</th>\n",
       "      <td>部门1</td>\n",
       "      <td>小部门2</td>\n",
       "      <td>周旭</td>\n",
       "      <td>24679</td>\n",
       "      <td>86008</td>\n",
       "    </tr>\n",
       "    <tr>\n",
       "      <th>3</th>\n",
       "      <td>部门1</td>\n",
       "      <td>小部门2</td>\n",
       "      <td>张欣</td>\n",
       "      <td>51276</td>\n",
       "      <td>37459</td>\n",
       "    </tr>\n",
       "    <tr>\n",
       "      <th>4</th>\n",
       "      <td>部门1</td>\n",
       "      <td>小部门2</td>\n",
       "      <td>王想</td>\n",
       "      <td>54515</td>\n",
       "      <td>35409</td>\n",
       "    </tr>\n",
       "    <tr>\n",
       "      <th>5</th>\n",
       "      <td>部门2</td>\n",
       "      <td>小部门3</td>\n",
       "      <td>孙鹏</td>\n",
       "      <td>14633</td>\n",
       "      <td>99245</td>\n",
       "    </tr>\n",
       "    <tr>\n",
       "      <th>6</th>\n",
       "      <td>部门2</td>\n",
       "      <td>小部门4</td>\n",
       "      <td>吴浩</td>\n",
       "      <td>34069</td>\n",
       "      <td>41247</td>\n",
       "    </tr>\n",
       "    <tr>\n",
       "      <th>7</th>\n",
       "      <td>部门2</td>\n",
       "      <td>小部门4</td>\n",
       "      <td>黄兵</td>\n",
       "      <td>52308</td>\n",
       "      <td>78575</td>\n",
       "    </tr>\n",
       "    <tr>\n",
       "      <th>8</th>\n",
       "      <td>部门2</td>\n",
       "      <td>小部门4</td>\n",
       "      <td>萧旭</td>\n",
       "      <td>20944</td>\n",
       "      <td>82971</td>\n",
       "    </tr>\n",
       "    <tr>\n",
       "      <th>9</th>\n",
       "      <td>部门2</td>\n",
       "      <td>小部门4</td>\n",
       "      <td>谢雷</td>\n",
       "      <td>11365</td>\n",
       "      <td>70479</td>\n",
       "    </tr>\n",
       "  </tbody>\n",
       "</table>\n",
       "</div>"
      ],
      "text/plain": [
       "  dept dept1 name    销售额     奖金\n",
       "0  部门1  小部门1   张燕  46323  50819\n",
       "1  部门1  小部门1   赵娜  33396  40308\n",
       "2  部门1  小部门2   周旭  24679  86008\n",
       "3  部门1  小部门2   张欣  51276  37459\n",
       "4  部门1  小部门2   王想  54515  35409\n",
       "5  部门2  小部门3   孙鹏  14633  99245\n",
       "6  部门2  小部门4   吴浩  34069  41247\n",
       "7  部门2  小部门4   黄兵  52308  78575\n",
       "8  部门2  小部门4   萧旭  20944  82971\n",
       "9  部门2  小部门4   谢雷  11365  70479"
      ]
     },
     "execution_count": 2,
     "metadata": {},
     "output_type": "execute_result"
    }
   ],
   "source": [
    "df # 随机生成的数据"
   ]
  },
  {
   "cell_type": "code",
   "execution_count": 22,
   "id": "french-yugoslavia",
   "metadata": {
    "execution": {
     "iopub.execute_input": "2021-07-12T07:28:36.776898Z",
     "iopub.status.busy": "2021-07-12T07:28:36.775900Z",
     "iopub.status.idle": "2021-07-12T07:28:36.779927Z",
     "shell.execute_reply": "2021-07-12T07:28:36.779927Z",
     "shell.execute_reply.started": "2021-07-12T07:28:36.776898Z"
    }
   },
   "outputs": [],
   "source": [
    "def compute(df): # 顶一个简单的函数\n",
    "    return pd.DataFrame({\n",
    "        'name':df.name\n",
    "    })\n",
    "\n",
    "def compute1(df): # 多加一列计算结果\n",
    "    return pd.DataFrame({\n",
    "        'name':df.name,\n",
    "        '销售额 占比':df.groupby(['dept','dept1'])['销售额'].transform(lambda x:x/x.sum()) # 列名可以自定义\n",
    "    })"
   ]
  },
  {
   "cell_type": "code",
   "execution_count": 21,
   "id": "interstate-portal",
   "metadata": {
    "execution": {
     "iopub.execute_input": "2021-07-12T07:28:28.203931Z",
     "iopub.status.busy": "2021-07-12T07:28:28.202900Z",
     "iopub.status.idle": "2021-07-12T07:28:28.214932Z",
     "shell.execute_reply": "2021-07-12T07:28:28.214932Z",
     "shell.execute_reply.started": "2021-07-12T07:28:28.203931Z"
    }
   },
   "outputs": [
    {
     "data": {
      "text/html": [
       "<div>\n",
       "<style scoped>\n",
       "    .dataframe tbody tr th:only-of-type {\n",
       "        vertical-align: middle;\n",
       "    }\n",
       "\n",
       "    .dataframe tbody tr th {\n",
       "        vertical-align: top;\n",
       "    }\n",
       "\n",
       "    .dataframe thead th {\n",
       "        text-align: right;\n",
       "    }\n",
       "</style>\n",
       "<table border=\"1\" class=\"dataframe\">\n",
       "  <thead>\n",
       "    <tr style=\"text-align: right;\">\n",
       "      <th></th>\n",
       "      <th>name</th>\n",
       "      <th>销售额 占比</th>\n",
       "    </tr>\n",
       "  </thead>\n",
       "  <tbody>\n",
       "    <tr>\n",
       "      <th>0</th>\n",
       "      <td>张燕</td>\n",
       "      <td>0.581079</td>\n",
       "    </tr>\n",
       "    <tr>\n",
       "      <th>1</th>\n",
       "      <td>赵娜</td>\n",
       "      <td>0.418921</td>\n",
       "    </tr>\n",
       "    <tr>\n",
       "      <th>2</th>\n",
       "      <td>周旭</td>\n",
       "      <td>0.189155</td>\n",
       "    </tr>\n",
       "    <tr>\n",
       "      <th>3</th>\n",
       "      <td>张欣</td>\n",
       "      <td>0.393010</td>\n",
       "    </tr>\n",
       "    <tr>\n",
       "      <th>4</th>\n",
       "      <td>王想</td>\n",
       "      <td>0.417836</td>\n",
       "    </tr>\n",
       "    <tr>\n",
       "      <th>5</th>\n",
       "      <td>孙鹏</td>\n",
       "      <td>1.000000</td>\n",
       "    </tr>\n",
       "    <tr>\n",
       "      <th>6</th>\n",
       "      <td>吴浩</td>\n",
       "      <td>0.287052</td>\n",
       "    </tr>\n",
       "    <tr>\n",
       "      <th>7</th>\n",
       "      <td>黄兵</td>\n",
       "      <td>0.440726</td>\n",
       "    </tr>\n",
       "    <tr>\n",
       "      <th>8</th>\n",
       "      <td>萧旭</td>\n",
       "      <td>0.176466</td>\n",
       "    </tr>\n",
       "    <tr>\n",
       "      <th>9</th>\n",
       "      <td>谢雷</td>\n",
       "      <td>0.095757</td>\n",
       "    </tr>\n",
       "  </tbody>\n",
       "</table>\n",
       "</div>"
      ],
      "text/plain": [
       "  name    销售额 占比\n",
       "0   张燕  0.581079\n",
       "1   赵娜  0.418921\n",
       "2   周旭  0.189155\n",
       "3   张欣  0.393010\n",
       "4   王想  0.417836\n",
       "5   孙鹏  1.000000\n",
       "6   吴浩  0.287052\n",
       "7   黄兵  0.440726\n",
       "8   萧旭  0.176466\n",
       "9   谢雷  0.095757"
      ]
     },
     "execution_count": 21,
     "metadata": {},
     "output_type": "execute_result"
    }
   ],
   "source": [
    "compute1(df)"
   ]
  },
  {
   "cell_type": "code",
   "execution_count": 10,
   "id": "marine-switch",
   "metadata": {
    "execution": {
     "iopub.execute_input": "2021-07-12T07:24:21.160900Z",
     "iopub.status.busy": "2021-07-12T07:24:21.159899Z",
     "iopub.status.idle": "2021-07-12T07:24:21.169923Z",
     "shell.execute_reply": "2021-07-12T07:24:21.167902Z",
     "shell.execute_reply.started": "2021-07-12T07:24:21.160900Z"
    }
   },
   "outputs": [
    {
     "data": {
      "text/html": [
       "<div>\n",
       "<style scoped>\n",
       "    .dataframe tbody tr th:only-of-type {\n",
       "        vertical-align: middle;\n",
       "    }\n",
       "\n",
       "    .dataframe tbody tr th {\n",
       "        vertical-align: top;\n",
       "    }\n",
       "\n",
       "    .dataframe thead th {\n",
       "        text-align: right;\n",
       "    }\n",
       "</style>\n",
       "<table border=\"1\" class=\"dataframe\">\n",
       "  <thead>\n",
       "    <tr style=\"text-align: right;\">\n",
       "      <th></th>\n",
       "      <th>name</th>\n",
       "    </tr>\n",
       "  </thead>\n",
       "  <tbody>\n",
       "    <tr>\n",
       "      <th>0</th>\n",
       "      <td>张燕</td>\n",
       "    </tr>\n",
       "    <tr>\n",
       "      <th>1</th>\n",
       "      <td>赵娜</td>\n",
       "    </tr>\n",
       "    <tr>\n",
       "      <th>2</th>\n",
       "      <td>周旭</td>\n",
       "    </tr>\n",
       "    <tr>\n",
       "      <th>3</th>\n",
       "      <td>张欣</td>\n",
       "    </tr>\n",
       "    <tr>\n",
       "      <th>4</th>\n",
       "      <td>王想</td>\n",
       "    </tr>\n",
       "    <tr>\n",
       "      <th>5</th>\n",
       "      <td>孙鹏</td>\n",
       "    </tr>\n",
       "    <tr>\n",
       "      <th>6</th>\n",
       "      <td>吴浩</td>\n",
       "    </tr>\n",
       "    <tr>\n",
       "      <th>7</th>\n",
       "      <td>黄兵</td>\n",
       "    </tr>\n",
       "    <tr>\n",
       "      <th>8</th>\n",
       "      <td>萧旭</td>\n",
       "    </tr>\n",
       "    <tr>\n",
       "      <th>9</th>\n",
       "      <td>谢雷</td>\n",
       "    </tr>\n",
       "  </tbody>\n",
       "</table>\n",
       "</div>"
      ],
      "text/plain": [
       "  name\n",
       "0   张燕\n",
       "1   赵娜\n",
       "2   周旭\n",
       "3   张欣\n",
       "4   王想\n",
       "5   孙鹏\n",
       "6   吴浩\n",
       "7   黄兵\n",
       "8   萧旭\n",
       "9   谢雷"
      ]
     },
     "execution_count": 10,
     "metadata": {},
     "output_type": "execute_result"
    }
   ],
   "source": [
    "compute(df)"
   ]
  },
  {
   "cell_type": "code",
   "execution_count": 8,
   "id": "driven-divide",
   "metadata": {
    "execution": {
     "iopub.execute_input": "2021-07-12T07:22:58.901900Z",
     "iopub.status.busy": "2021-07-12T07:22:58.901900Z",
     "iopub.status.idle": "2021-07-12T07:22:58.931915Z",
     "shell.execute_reply": "2021-07-12T07:22:58.929948Z",
     "shell.execute_reply.started": "2021-07-12T07:22:58.901900Z"
    }
   },
   "outputs": [
    {
     "data": {
      "text/html": [
       "<div>\n",
       "<style scoped>\n",
       "    .dataframe tbody tr th:only-of-type {\n",
       "        vertical-align: middle;\n",
       "    }\n",
       "\n",
       "    .dataframe tbody tr th {\n",
       "        vertical-align: top;\n",
       "    }\n",
       "\n",
       "    .dataframe thead th {\n",
       "        text-align: right;\n",
       "    }\n",
       "</style>\n",
       "<table border=\"1\" class=\"dataframe\">\n",
       "  <thead>\n",
       "    <tr style=\"text-align: right;\">\n",
       "      <th></th>\n",
       "      <th>销售额</th>\n",
       "      <th>奖金</th>\n",
       "    </tr>\n",
       "  </thead>\n",
       "  <tbody>\n",
       "    <tr>\n",
       "      <th>0</th>\n",
       "      <td>0.581079</td>\n",
       "      <td>0.557672</td>\n",
       "    </tr>\n",
       "    <tr>\n",
       "      <th>1</th>\n",
       "      <td>0.418921</td>\n",
       "      <td>0.442328</td>\n",
       "    </tr>\n",
       "    <tr>\n",
       "      <th>2</th>\n",
       "      <td>0.189155</td>\n",
       "      <td>0.541353</td>\n",
       "    </tr>\n",
       "    <tr>\n",
       "      <th>3</th>\n",
       "      <td>0.393010</td>\n",
       "      <td>0.235775</td>\n",
       "    </tr>\n",
       "    <tr>\n",
       "      <th>4</th>\n",
       "      <td>0.417836</td>\n",
       "      <td>0.222872</td>\n",
       "    </tr>\n",
       "    <tr>\n",
       "      <th>5</th>\n",
       "      <td>1.000000</td>\n",
       "      <td>1.000000</td>\n",
       "    </tr>\n",
       "    <tr>\n",
       "      <th>6</th>\n",
       "      <td>0.287052</td>\n",
       "      <td>0.150938</td>\n",
       "    </tr>\n",
       "    <tr>\n",
       "      <th>7</th>\n",
       "      <td>0.440726</td>\n",
       "      <td>0.287534</td>\n",
       "    </tr>\n",
       "    <tr>\n",
       "      <th>8</th>\n",
       "      <td>0.176466</td>\n",
       "      <td>0.303621</td>\n",
       "    </tr>\n",
       "    <tr>\n",
       "      <th>9</th>\n",
       "      <td>0.095757</td>\n",
       "      <td>0.257908</td>\n",
       "    </tr>\n",
       "  </tbody>\n",
       "</table>\n",
       "</div>"
      ],
      "text/plain": [
       "        销售额        奖金\n",
       "0  0.581079  0.557672\n",
       "1  0.418921  0.442328\n",
       "2  0.189155  0.541353\n",
       "3  0.393010  0.235775\n",
       "4  0.417836  0.222872\n",
       "5  1.000000  1.000000\n",
       "6  0.287052  0.150938\n",
       "7  0.440726  0.287534\n",
       "8  0.176466  0.303621\n",
       "9  0.095757  0.257908"
      ]
     },
     "execution_count": 8,
     "metadata": {},
     "output_type": "execute_result"
    }
   ],
   "source": [
    "df.groupby(['dept','dept1'])[['销售额','奖金']].apply(lambda x:x/x.sum()) # 使用apply 统计。多列。使用lambda 表达式。计算再复杂一点"
   ]
  },
  {
   "cell_type": "code",
   "execution_count": 7,
   "id": "annoying-small",
   "metadata": {
    "execution": {
     "iopub.execute_input": "2021-07-12T07:22:22.947899Z",
     "iopub.status.busy": "2021-07-12T07:22:22.947899Z",
     "iopub.status.idle": "2021-07-12T07:22:22.965900Z",
     "shell.execute_reply": "2021-07-12T07:22:22.964932Z",
     "shell.execute_reply.started": "2021-07-12T07:22:22.947899Z"
    }
   },
   "outputs": [
    {
     "data": {
      "text/html": [
       "<div>\n",
       "<style scoped>\n",
       "    .dataframe tbody tr th:only-of-type {\n",
       "        vertical-align: middle;\n",
       "    }\n",
       "\n",
       "    .dataframe tbody tr th {\n",
       "        vertical-align: top;\n",
       "    }\n",
       "\n",
       "    .dataframe thead th {\n",
       "        text-align: right;\n",
       "    }\n",
       "</style>\n",
       "<table border=\"1\" class=\"dataframe\">\n",
       "  <thead>\n",
       "    <tr style=\"text-align: right;\">\n",
       "      <th></th>\n",
       "      <th></th>\n",
       "      <th>销售额</th>\n",
       "      <th>奖金</th>\n",
       "    </tr>\n",
       "    <tr>\n",
       "      <th>dept</th>\n",
       "      <th>dept1</th>\n",
       "      <th></th>\n",
       "      <th></th>\n",
       "    </tr>\n",
       "  </thead>\n",
       "  <tbody>\n",
       "    <tr>\n",
       "      <th rowspan=\"2\" valign=\"top\">部门1</th>\n",
       "      <th>小部门1</th>\n",
       "      <td>79719</td>\n",
       "      <td>91127</td>\n",
       "    </tr>\n",
       "    <tr>\n",
       "      <th>小部门2</th>\n",
       "      <td>130470</td>\n",
       "      <td>158876</td>\n",
       "    </tr>\n",
       "    <tr>\n",
       "      <th rowspan=\"2\" valign=\"top\">部门2</th>\n",
       "      <th>小部门3</th>\n",
       "      <td>14633</td>\n",
       "      <td>99245</td>\n",
       "    </tr>\n",
       "    <tr>\n",
       "      <th>小部门4</th>\n",
       "      <td>118686</td>\n",
       "      <td>273272</td>\n",
       "    </tr>\n",
       "  </tbody>\n",
       "</table>\n",
       "</div>"
      ],
      "text/plain": [
       "               销售额      奖金\n",
       "dept dept1                \n",
       "部门1  小部门1    79719   91127\n",
       "     小部门2   130470  158876\n",
       "部门2  小部门3    14633   99245\n",
       "     小部门4   118686  273272"
      ]
     },
     "execution_count": 7,
     "metadata": {},
     "output_type": "execute_result"
    }
   ],
   "source": [
    "df.groupby(['dept','dept1'])[['销售额','奖金']].apply(lambda x:x.sum()) # 使用apply 统计。多列。使用lambda 表达式"
   ]
  },
  {
   "cell_type": "code",
   "execution_count": 6,
   "id": "finished-monte",
   "metadata": {
    "execution": {
     "iopub.execute_input": "2021-07-12T07:21:57.586898Z",
     "iopub.status.busy": "2021-07-12T07:21:57.585904Z",
     "iopub.status.idle": "2021-07-12T07:21:57.599900Z",
     "shell.execute_reply": "2021-07-12T07:21:57.599900Z",
     "shell.execute_reply.started": "2021-07-12T07:21:57.586898Z"
    }
   },
   "outputs": [
    {
     "data": {
      "text/html": [
       "<div>\n",
       "<style scoped>\n",
       "    .dataframe tbody tr th:only-of-type {\n",
       "        vertical-align: middle;\n",
       "    }\n",
       "\n",
       "    .dataframe tbody tr th {\n",
       "        vertical-align: top;\n",
       "    }\n",
       "\n",
       "    .dataframe thead th {\n",
       "        text-align: right;\n",
       "    }\n",
       "</style>\n",
       "<table border=\"1\" class=\"dataframe\">\n",
       "  <thead>\n",
       "    <tr style=\"text-align: right;\">\n",
       "      <th></th>\n",
       "      <th></th>\n",
       "      <th>销售额</th>\n",
       "      <th>奖金</th>\n",
       "    </tr>\n",
       "    <tr>\n",
       "      <th>dept</th>\n",
       "      <th>dept1</th>\n",
       "      <th></th>\n",
       "      <th></th>\n",
       "    </tr>\n",
       "  </thead>\n",
       "  <tbody>\n",
       "    <tr>\n",
       "      <th rowspan=\"2\" valign=\"top\">部门1</th>\n",
       "      <th>小部门1</th>\n",
       "      <td>79719</td>\n",
       "      <td>91127</td>\n",
       "    </tr>\n",
       "    <tr>\n",
       "      <th>小部门2</th>\n",
       "      <td>130470</td>\n",
       "      <td>158876</td>\n",
       "    </tr>\n",
       "    <tr>\n",
       "      <th rowspan=\"2\" valign=\"top\">部门2</th>\n",
       "      <th>小部门3</th>\n",
       "      <td>14633</td>\n",
       "      <td>99245</td>\n",
       "    </tr>\n",
       "    <tr>\n",
       "      <th>小部门4</th>\n",
       "      <td>118686</td>\n",
       "      <td>273272</td>\n",
       "    </tr>\n",
       "  </tbody>\n",
       "</table>\n",
       "</div>"
      ],
      "text/plain": [
       "               销售额      奖金\n",
       "dept dept1                \n",
       "部门1  小部门1    79719   91127\n",
       "     小部门2   130470  158876\n",
       "部门2  小部门3    14633   99245\n",
       "     小部门4   118686  273272"
      ]
     },
     "execution_count": 6,
     "metadata": {},
     "output_type": "execute_result"
    }
   ],
   "source": [
    "df.groupby(['dept','dept1'])[['销售额','奖金']].apply(sum) # 使用apply 统计。多列"
   ]
  },
  {
   "cell_type": "code",
   "execution_count": 4,
   "id": "african-weekly",
   "metadata": {
    "execution": {
     "iopub.execute_input": "2021-07-12T07:21:13.329901Z",
     "iopub.status.busy": "2021-07-12T07:21:13.328899Z",
     "iopub.status.idle": "2021-07-12T07:21:13.337900Z",
     "shell.execute_reply": "2021-07-12T07:21:13.337900Z",
     "shell.execute_reply.started": "2021-07-12T07:21:13.329901Z"
    }
   },
   "outputs": [
    {
     "data": {
      "text/plain": [
       "dept  dept1\n",
       "部门1   小部门1      79719\n",
       "      小部门2     130470\n",
       "部门2   小部门3      14633\n",
       "      小部门4     118686\n",
       "Name: 销售额, dtype: int64"
      ]
     },
     "execution_count": 4,
     "metadata": {},
     "output_type": "execute_result"
    }
   ],
   "source": [
    "df.groupby(['dept','dept1'])['销售额'].apply(sum) # 使用apply 统计。单列"
   ]
  },
  {
   "cell_type": "code",
   "execution_count": 3,
   "id": "vertical-migration",
   "metadata": {
    "execution": {
     "iopub.execute_input": "2021-07-12T07:20:08.347901Z",
     "iopub.status.busy": "2021-07-12T07:20:08.346903Z",
     "iopub.status.idle": "2021-07-12T07:20:08.382900Z",
     "shell.execute_reply": "2021-07-12T07:20:08.382900Z",
     "shell.execute_reply.started": "2021-07-12T07:20:08.347901Z"
    }
   },
   "outputs": [
    {
     "data": {
      "text/html": [
       "<div>\n",
       "<style scoped>\n",
       "    .dataframe tbody tr th:only-of-type {\n",
       "        vertical-align: middle;\n",
       "    }\n",
       "\n",
       "    .dataframe tbody tr th {\n",
       "        vertical-align: top;\n",
       "    }\n",
       "\n",
       "    .dataframe thead th {\n",
       "        text-align: right;\n",
       "    }\n",
       "</style>\n",
       "<table border=\"1\" class=\"dataframe\">\n",
       "  <thead>\n",
       "    <tr style=\"text-align: right;\">\n",
       "      <th></th>\n",
       "      <th></th>\n",
       "      <th>dept</th>\n",
       "      <th>dept1</th>\n",
       "      <th>name</th>\n",
       "      <th>销售额</th>\n",
       "      <th>奖金</th>\n",
       "    </tr>\n",
       "    <tr>\n",
       "      <th>dept</th>\n",
       "      <th>dept1</th>\n",
       "      <th></th>\n",
       "      <th></th>\n",
       "      <th></th>\n",
       "      <th></th>\n",
       "      <th></th>\n",
       "    </tr>\n",
       "  </thead>\n",
       "  <tbody>\n",
       "    <tr>\n",
       "      <th rowspan=\"2\" valign=\"top\">部门1</th>\n",
       "      <th>小部门1</th>\n",
       "      <td>部门1部门1</td>\n",
       "      <td>小部门1小部门1</td>\n",
       "      <td>张燕赵娜</td>\n",
       "      <td>79719</td>\n",
       "      <td>91127</td>\n",
       "    </tr>\n",
       "    <tr>\n",
       "      <th>小部门2</th>\n",
       "      <td>部门1部门1部门1</td>\n",
       "      <td>小部门2小部门2小部门2</td>\n",
       "      <td>周旭张欣王想</td>\n",
       "      <td>130470</td>\n",
       "      <td>158876</td>\n",
       "    </tr>\n",
       "    <tr>\n",
       "      <th rowspan=\"2\" valign=\"top\">部门2</th>\n",
       "      <th>小部门3</th>\n",
       "      <td>部门2</td>\n",
       "      <td>小部门3</td>\n",
       "      <td>孙鹏</td>\n",
       "      <td>14633</td>\n",
       "      <td>99245</td>\n",
       "    </tr>\n",
       "    <tr>\n",
       "      <th>小部门4</th>\n",
       "      <td>部门2部门2部门2部门2</td>\n",
       "      <td>小部门4小部门4小部门4小部门4</td>\n",
       "      <td>吴浩黄兵萧旭谢雷</td>\n",
       "      <td>118686</td>\n",
       "      <td>273272</td>\n",
       "    </tr>\n",
       "  </tbody>\n",
       "</table>\n",
       "</div>"
      ],
      "text/plain": [
       "                    dept             dept1      name     销售额      奖金\n",
       "dept dept1                                                          \n",
       "部门1  小部门1         部门1部门1          小部门1小部门1      张燕赵娜   79719   91127\n",
       "     小部门2      部门1部门1部门1      小部门2小部门2小部门2    周旭张欣王想  130470  158876\n",
       "部门2  小部门3            部门2              小部门3        孙鹏   14633   99245\n",
       "     小部门4   部门2部门2部门2部门2  小部门4小部门4小部门4小部门4  吴浩黄兵萧旭谢雷  118686  273272"
      ]
     },
     "execution_count": 3,
     "metadata": {},
     "output_type": "execute_result"
    }
   ],
   "source": [
    "df.groupby(['dept','dept1']).apply(sum) # 使用apply 统计。注意 结果中文本内容的处理方式"
   ]
  }
 ],
 "metadata": {
  "kernelspec": {
   "display_name": "Python 3",
   "language": "python",
   "name": "python3"
  },
  "language_info": {
   "codemirror_mode": {
    "name": "ipython",
    "version": 3
   },
   "file_extension": ".py",
   "mimetype": "text/x-python",
   "name": "python",
   "nbconvert_exporter": "python",
   "pygments_lexer": "ipython3",
   "version": "3.6.8"
  }
 },
 "nbformat": 4,
 "nbformat_minor": 5
}
