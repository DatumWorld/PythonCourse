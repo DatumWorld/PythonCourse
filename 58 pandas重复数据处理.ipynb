{
 "cells": [
  {
   "cell_type": "markdown",
   "id": "electoral-march",
   "metadata": {},
   "source": [
    "## 58 pandas重复数据处理 "
   ]
  },
  {
   "cell_type": "markdown",
   "id": "hollywood-chrome",
   "metadata": {},
   "source": [
    "### duplicated drop_duplicates has_duplicates 。表格/列/索引上是否有重复数据"
   ]
  },
  {
   "cell_type": "code",
   "execution_count": 1,
   "id": "parallel-journalist",
   "metadata": {
    "execution": {
     "iopub.execute_input": "2021-07-23T02:30:36.717091Z",
     "iopub.status.busy": "2021-07-23T02:30:36.716096Z",
     "iopub.status.idle": "2021-07-23T02:30:36.976095Z",
     "shell.execute_reply": "2021-07-23T02:30:36.976095Z",
     "shell.execute_reply.started": "2021-07-23T02:30:36.717091Z"
    }
   },
   "outputs": [],
   "source": [
    "import numpy  as np\n",
    "import pandas as pd"
   ]
  },
  {
   "cell_type": "code",
   "execution_count": 2,
   "id": "bizarre-dayton",
   "metadata": {
    "execution": {
     "iopub.execute_input": "2021-07-23T02:30:36.977060Z",
     "iopub.status.busy": "2021-07-23T02:30:36.977060Z",
     "iopub.status.idle": "2021-07-23T02:30:36.981062Z",
     "shell.execute_reply": "2021-07-23T02:30:36.981062Z",
     "shell.execute_reply.started": "2021-07-23T02:30:36.977060Z"
    }
   },
   "outputs": [],
   "source": [
    "df = pd.DataFrame({\n",
    "    'brand': ['Yum Yum', 'Yum Yum', 'Indomie', 'Indomie', 'Indomie'],\n",
    "    'style': ['cup', 'cup', 'cup', 'pack', 'pack'],\n",
    "    'rating': [4, 4, 3.5, 15, 5]\n",
    "})"
   ]
  },
  {
   "cell_type": "code",
   "execution_count": 25,
   "id": "declared-bridge",
   "metadata": {
    "execution": {
     "iopub.execute_input": "2021-07-23T02:45:40.585064Z",
     "iopub.status.busy": "2021-07-23T02:45:40.585064Z",
     "iopub.status.idle": "2021-07-23T02:45:40.593067Z",
     "shell.execute_reply": "2021-07-23T02:45:40.592065Z",
     "shell.execute_reply.started": "2021-07-23T02:45:40.585064Z"
    }
   },
   "outputs": [
    {
     "data": {
      "text/html": [
       "<div>\n",
       "<style scoped>\n",
       "    .dataframe tbody tr th:only-of-type {\n",
       "        vertical-align: middle;\n",
       "    }\n",
       "\n",
       "    .dataframe tbody tr th {\n",
       "        vertical-align: top;\n",
       "    }\n",
       "\n",
       "    .dataframe thead th {\n",
       "        text-align: right;\n",
       "    }\n",
       "</style>\n",
       "<table border=\"1\" class=\"dataframe\">\n",
       "  <thead>\n",
       "    <tr style=\"text-align: right;\">\n",
       "      <th></th>\n",
       "      <th>brand</th>\n",
       "      <th>style</th>\n",
       "      <th>rating</th>\n",
       "    </tr>\n",
       "  </thead>\n",
       "  <tbody>\n",
       "    <tr>\n",
       "      <th>0</th>\n",
       "      <td>Yum Yum</td>\n",
       "      <td>cup</td>\n",
       "      <td>4.0</td>\n",
       "    </tr>\n",
       "    <tr>\n",
       "      <th>1</th>\n",
       "      <td>Indomie</td>\n",
       "      <td>cup</td>\n",
       "      <td>3.5</td>\n",
       "    </tr>\n",
       "    <tr>\n",
       "      <th>2</th>\n",
       "      <td>Indomie</td>\n",
       "      <td>pack</td>\n",
       "      <td>5.0</td>\n",
       "    </tr>\n",
       "  </tbody>\n",
       "</table>\n",
       "</div>"
      ],
      "text/plain": [
       "     brand style  rating\n",
       "0  Yum Yum   cup     4.0\n",
       "1  Indomie   cup     3.5\n",
       "2  Indomie  pack     5.0"
      ]
     },
     "execution_count": 25,
     "metadata": {},
     "output_type": "execute_result"
    }
   ],
   "source": [
    "df "
   ]
  },
  {
   "cell_type": "code",
   "execution_count": 24,
   "id": "republican-structure",
   "metadata": {
    "execution": {
     "iopub.execute_input": "2021-07-23T02:45:37.552062Z",
     "iopub.status.busy": "2021-07-23T02:45:37.552062Z",
     "iopub.status.idle": "2021-07-23T02:45:37.557059Z",
     "shell.execute_reply": "2021-07-23T02:45:37.557059Z",
     "shell.execute_reply.started": "2021-07-23T02:45:37.552062Z"
    }
   },
   "outputs": [],
   "source": [
    "df.drop_duplicates(subset=['brand','style'],keep='last',inplace=True,ignore_index=1) # 注意索引变化，忽略原索引"
   ]
  },
  {
   "cell_type": "code",
   "execution_count": 22,
   "id": "interested-promotion",
   "metadata": {
    "execution": {
     "iopub.execute_input": "2021-07-23T02:44:38.539060Z",
     "iopub.status.busy": "2021-07-23T02:44:38.539060Z",
     "iopub.status.idle": "2021-07-23T02:44:38.544059Z",
     "shell.execute_reply": "2021-07-23T02:44:38.544059Z",
     "shell.execute_reply.started": "2021-07-23T02:44:38.539060Z"
    }
   },
   "outputs": [],
   "source": [
    "df.drop_duplicates(subset=['brand','style'],keep='last',inplace=True) # 修改原df，而非返回一个副本"
   ]
  },
  {
   "cell_type": "code",
   "execution_count": 20,
   "id": "honest-carnival",
   "metadata": {
    "execution": {
     "iopub.execute_input": "2021-07-23T02:43:41.407060Z",
     "iopub.status.busy": "2021-07-23T02:43:41.407060Z",
     "iopub.status.idle": "2021-07-23T02:43:41.414063Z",
     "shell.execute_reply": "2021-07-23T02:43:41.414063Z",
     "shell.execute_reply.started": "2021-07-23T02:43:41.407060Z"
    }
   },
   "outputs": [
    {
     "data": {
      "text/html": [
       "<div>\n",
       "<style scoped>\n",
       "    .dataframe tbody tr th:only-of-type {\n",
       "        vertical-align: middle;\n",
       "    }\n",
       "\n",
       "    .dataframe tbody tr th {\n",
       "        vertical-align: top;\n",
       "    }\n",
       "\n",
       "    .dataframe thead th {\n",
       "        text-align: right;\n",
       "    }\n",
       "</style>\n",
       "<table border=\"1\" class=\"dataframe\">\n",
       "  <thead>\n",
       "    <tr style=\"text-align: right;\">\n",
       "      <th></th>\n",
       "      <th>brand</th>\n",
       "      <th>style</th>\n",
       "      <th>rating</th>\n",
       "    </tr>\n",
       "  </thead>\n",
       "  <tbody>\n",
       "    <tr>\n",
       "      <th>1</th>\n",
       "      <td>Yum Yum</td>\n",
       "      <td>cup</td>\n",
       "      <td>4.0</td>\n",
       "    </tr>\n",
       "    <tr>\n",
       "      <th>2</th>\n",
       "      <td>Indomie</td>\n",
       "      <td>cup</td>\n",
       "      <td>3.5</td>\n",
       "    </tr>\n",
       "    <tr>\n",
       "      <th>4</th>\n",
       "      <td>Indomie</td>\n",
       "      <td>pack</td>\n",
       "      <td>5.0</td>\n",
       "    </tr>\n",
       "  </tbody>\n",
       "</table>\n",
       "</div>"
      ],
      "text/plain": [
       "     brand style  rating\n",
       "1  Yum Yum   cup     4.0\n",
       "2  Indomie   cup     3.5\n",
       "4  Indomie  pack     5.0"
      ]
     },
     "execution_count": 20,
     "metadata": {},
     "output_type": "execute_result"
    }
   ],
   "source": [
    "df.drop_duplicates(subset=['brand','style'],keep='last') # 指定保留第一个出现的还是最后一个出现的重复行"
   ]
  },
  {
   "cell_type": "code",
   "execution_count": 19,
   "id": "worse-spirituality",
   "metadata": {
    "execution": {
     "iopub.execute_input": "2021-07-23T02:42:36.933060Z",
     "iopub.status.busy": "2021-07-23T02:42:36.932062Z",
     "iopub.status.idle": "2021-07-23T02:42:36.942062Z",
     "shell.execute_reply": "2021-07-23T02:42:36.941061Z",
     "shell.execute_reply.started": "2021-07-23T02:42:36.933060Z"
    }
   },
   "outputs": [
    {
     "data": {
      "text/html": [
       "<div>\n",
       "<style scoped>\n",
       "    .dataframe tbody tr th:only-of-type {\n",
       "        vertical-align: middle;\n",
       "    }\n",
       "\n",
       "    .dataframe tbody tr th {\n",
       "        vertical-align: top;\n",
       "    }\n",
       "\n",
       "    .dataframe thead th {\n",
       "        text-align: right;\n",
       "    }\n",
       "</style>\n",
       "<table border=\"1\" class=\"dataframe\">\n",
       "  <thead>\n",
       "    <tr style=\"text-align: right;\">\n",
       "      <th></th>\n",
       "      <th>brand</th>\n",
       "      <th>style</th>\n",
       "      <th>rating</th>\n",
       "    </tr>\n",
       "  </thead>\n",
       "  <tbody>\n",
       "    <tr>\n",
       "      <th>0</th>\n",
       "      <td>Yum Yum</td>\n",
       "      <td>cup</td>\n",
       "      <td>4.0</td>\n",
       "    </tr>\n",
       "    <tr>\n",
       "      <th>2</th>\n",
       "      <td>Indomie</td>\n",
       "      <td>cup</td>\n",
       "      <td>3.5</td>\n",
       "    </tr>\n",
       "    <tr>\n",
       "      <th>3</th>\n",
       "      <td>Indomie</td>\n",
       "      <td>pack</td>\n",
       "      <td>15.0</td>\n",
       "    </tr>\n",
       "  </tbody>\n",
       "</table>\n",
       "</div>"
      ],
      "text/plain": [
       "     brand style  rating\n",
       "0  Yum Yum   cup     4.0\n",
       "2  Indomie   cup     3.5\n",
       "3  Indomie  pack    15.0"
      ]
     },
     "execution_count": 19,
     "metadata": {},
     "output_type": "execute_result"
    }
   ],
   "source": [
    "df.drop_duplicates(subset=['brand','style']) # 去除重复行。参考 duplicated 进行对比。指定参考的 列。可以多列。类似sql distinct"
   ]
  },
  {
   "cell_type": "code",
   "execution_count": 18,
   "id": "alike-belief",
   "metadata": {
    "execution": {
     "iopub.execute_input": "2021-07-23T02:42:04.121061Z",
     "iopub.status.busy": "2021-07-23T02:42:04.121061Z",
     "iopub.status.idle": "2021-07-23T02:42:04.130069Z",
     "shell.execute_reply": "2021-07-23T02:42:04.129069Z",
     "shell.execute_reply.started": "2021-07-23T02:42:04.121061Z"
    }
   },
   "outputs": [
    {
     "data": {
      "text/html": [
       "<div>\n",
       "<style scoped>\n",
       "    .dataframe tbody tr th:only-of-type {\n",
       "        vertical-align: middle;\n",
       "    }\n",
       "\n",
       "    .dataframe tbody tr th {\n",
       "        vertical-align: top;\n",
       "    }\n",
       "\n",
       "    .dataframe thead th {\n",
       "        text-align: right;\n",
       "    }\n",
       "</style>\n",
       "<table border=\"1\" class=\"dataframe\">\n",
       "  <thead>\n",
       "    <tr style=\"text-align: right;\">\n",
       "      <th></th>\n",
       "      <th>brand</th>\n",
       "      <th>style</th>\n",
       "      <th>rating</th>\n",
       "    </tr>\n",
       "  </thead>\n",
       "  <tbody>\n",
       "    <tr>\n",
       "      <th>0</th>\n",
       "      <td>Yum Yum</td>\n",
       "      <td>cup</td>\n",
       "      <td>4.0</td>\n",
       "    </tr>\n",
       "    <tr>\n",
       "      <th>2</th>\n",
       "      <td>Indomie</td>\n",
       "      <td>cup</td>\n",
       "      <td>3.5</td>\n",
       "    </tr>\n",
       "  </tbody>\n",
       "</table>\n",
       "</div>"
      ],
      "text/plain": [
       "     brand style  rating\n",
       "0  Yum Yum   cup     4.0\n",
       "2  Indomie   cup     3.5"
      ]
     },
     "execution_count": 18,
     "metadata": {},
     "output_type": "execute_result"
    }
   ],
   "source": [
    "df.drop_duplicates(subset=['brand']) # 去除重复行。参考 duplicated 进行对比。指定参考的 列"
   ]
  },
  {
   "cell_type": "code",
   "execution_count": 17,
   "id": "common-elizabeth",
   "metadata": {
    "execution": {
     "iopub.execute_input": "2021-07-23T02:40:57.074065Z",
     "iopub.status.busy": "2021-07-23T02:40:57.074065Z",
     "iopub.status.idle": "2021-07-23T02:40:57.085070Z",
     "shell.execute_reply": "2021-07-23T02:40:57.084067Z",
     "shell.execute_reply.started": "2021-07-23T02:40:57.074065Z"
    }
   },
   "outputs": [
    {
     "data": {
      "text/html": [
       "<div>\n",
       "<style scoped>\n",
       "    .dataframe tbody tr th:only-of-type {\n",
       "        vertical-align: middle;\n",
       "    }\n",
       "\n",
       "    .dataframe tbody tr th {\n",
       "        vertical-align: top;\n",
       "    }\n",
       "\n",
       "    .dataframe thead th {\n",
       "        text-align: right;\n",
       "    }\n",
       "</style>\n",
       "<table border=\"1\" class=\"dataframe\">\n",
       "  <thead>\n",
       "    <tr style=\"text-align: right;\">\n",
       "      <th></th>\n",
       "      <th>brand</th>\n",
       "      <th>style</th>\n",
       "      <th>rating</th>\n",
       "    </tr>\n",
       "  </thead>\n",
       "  <tbody>\n",
       "    <tr>\n",
       "      <th>0</th>\n",
       "      <td>Yum Yum</td>\n",
       "      <td>cup</td>\n",
       "      <td>4.0</td>\n",
       "    </tr>\n",
       "    <tr>\n",
       "      <th>2</th>\n",
       "      <td>Indomie</td>\n",
       "      <td>cup</td>\n",
       "      <td>3.5</td>\n",
       "    </tr>\n",
       "    <tr>\n",
       "      <th>3</th>\n",
       "      <td>Indomie</td>\n",
       "      <td>pack</td>\n",
       "      <td>15.0</td>\n",
       "    </tr>\n",
       "    <tr>\n",
       "      <th>4</th>\n",
       "      <td>Indomie</td>\n",
       "      <td>pack</td>\n",
       "      <td>5.0</td>\n",
       "    </tr>\n",
       "  </tbody>\n",
       "</table>\n",
       "</div>"
      ],
      "text/plain": [
       "     brand style  rating\n",
       "0  Yum Yum   cup     4.0\n",
       "2  Indomie   cup     3.5\n",
       "3  Indomie  pack    15.0\n",
       "4  Indomie  pack     5.0"
      ]
     },
     "execution_count": 17,
     "metadata": {},
     "output_type": "execute_result"
    }
   ],
   "source": [
    "df.drop_duplicates() # 去除重复行。参考 duplicated 进行对比"
   ]
  },
  {
   "cell_type": "code",
   "execution_count": 16,
   "id": "married-girlfriend",
   "metadata": {
    "execution": {
     "iopub.execute_input": "2021-07-23T02:40:21.506060Z",
     "iopub.status.busy": "2021-07-23T02:40:21.506060Z",
     "iopub.status.idle": "2021-07-23T02:40:21.511059Z",
     "shell.execute_reply": "2021-07-23T02:40:21.511059Z",
     "shell.execute_reply.started": "2021-07-23T02:40:21.506060Z"
    }
   },
   "outputs": [
    {
     "data": {
      "text/plain": [
       "False"
      ]
     },
     "execution_count": 16,
     "metadata": {},
     "output_type": "execute_result"
    }
   ],
   "source": [
    "df.index.has_duplicates # 与下面对照"
   ]
  },
  {
   "cell_type": "code",
   "execution_count": 15,
   "id": "registered-comment",
   "metadata": {
    "execution": {
     "iopub.execute_input": "2021-07-23T02:39:29.587062Z",
     "iopub.status.busy": "2021-07-23T02:39:29.587062Z",
     "iopub.status.idle": "2021-07-23T02:39:29.591060Z",
     "shell.execute_reply": "2021-07-23T02:39:29.591060Z",
     "shell.execute_reply.started": "2021-07-23T02:39:29.587062Z"
    }
   },
   "outputs": [
    {
     "data": {
      "text/plain": [
       "True"
      ]
     },
     "execution_count": 15,
     "metadata": {},
     "output_type": "execute_result"
    }
   ],
   "source": [
    "df.set_index('brand').index.has_duplicates # 判断是否有重复索引"
   ]
  },
  {
   "cell_type": "code",
   "execution_count": 14,
   "id": "corporate-olympus",
   "metadata": {
    "execution": {
     "iopub.execute_input": "2021-07-23T02:39:07.707060Z",
     "iopub.status.busy": "2021-07-23T02:39:07.707060Z",
     "iopub.status.idle": "2021-07-23T02:39:07.712064Z",
     "shell.execute_reply": "2021-07-23T02:39:07.712064Z",
     "shell.execute_reply.started": "2021-07-23T02:39:07.707060Z"
    }
   },
   "outputs": [
    {
     "data": {
      "text/plain": [
       "array([False,  True, False,  True,  True])"
      ]
     },
     "execution_count": 14,
     "metadata": {},
     "output_type": "execute_result"
    }
   ],
   "source": [
    "df.set_index('brand').index.duplicated(keep='first') # 在索引上使用，这里将 brand 设置为索引列"
   ]
  },
  {
   "cell_type": "code",
   "execution_count": 12,
   "id": "acquired-winner",
   "metadata": {
    "execution": {
     "iopub.execute_input": "2021-07-23T02:37:48.419065Z",
     "iopub.status.busy": "2021-07-23T02:37:48.419065Z",
     "iopub.status.idle": "2021-07-23T02:37:48.428067Z",
     "shell.execute_reply": "2021-07-23T02:37:48.427063Z",
     "shell.execute_reply.started": "2021-07-23T02:37:48.419065Z"
    }
   },
   "outputs": [
    {
     "data": {
      "text/plain": [
       "0     True\n",
       "1    False\n",
       "2     True\n",
       "3     True\n",
       "4    False\n",
       "Name: brand, dtype: bool"
      ]
     },
     "execution_count": 12,
     "metadata": {},
     "output_type": "execute_result"
    }
   ],
   "source": [
    "df.brand.duplicated(keep='last') # 也可以在某一列上使用。方法类似"
   ]
  },
  {
   "cell_type": "code",
   "execution_count": 11,
   "id": "herbal-investigator",
   "metadata": {
    "execution": {
     "iopub.execute_input": "2021-07-23T02:36:56.556061Z",
     "iopub.status.busy": "2021-07-23T02:36:56.555077Z",
     "iopub.status.idle": "2021-07-23T02:36:56.562062Z",
     "shell.execute_reply": "2021-07-23T02:36:56.561063Z",
     "shell.execute_reply.started": "2021-07-23T02:36:56.556061Z"
    }
   },
   "outputs": [
    {
     "data": {
      "text/plain": [
       "0    False\n",
       "1     True\n",
       "2    False\n",
       "3     True\n",
       "4     True\n",
       "Name: brand, dtype: bool"
      ]
     },
     "execution_count": 11,
     "metadata": {},
     "output_type": "execute_result"
    }
   ],
   "source": [
    "df.brand.duplicated() # 也可以在某一列上使用。方法类似"
   ]
  },
  {
   "cell_type": "code",
   "execution_count": 10,
   "id": "indie-mechanics",
   "metadata": {
    "execution": {
     "iopub.execute_input": "2021-07-23T02:36:17.555060Z",
     "iopub.status.busy": "2021-07-23T02:36:17.554064Z",
     "iopub.status.idle": "2021-07-23T02:36:17.560062Z",
     "shell.execute_reply": "2021-07-23T02:36:17.560062Z",
     "shell.execute_reply.started": "2021-07-23T02:36:17.555060Z"
    }
   },
   "outputs": [
    {
     "data": {
      "text/plain": [
       "0    False\n",
       "1     True\n",
       "2    False\n",
       "3    False\n",
       "4    False\n",
       "dtype: bool"
      ]
     },
     "execution_count": 10,
     "metadata": {},
     "output_type": "execute_result"
    }
   ],
   "source": [
    "df.duplicated(subset=['brand','style','rating'],keep='first') # 指定子集，即 以哪些列 判定 是否重复。可以多列。等效默认"
   ]
  },
  {
   "cell_type": "code",
   "execution_count": 9,
   "id": "imported-dominant",
   "metadata": {
    "execution": {
     "iopub.execute_input": "2021-07-23T02:35:21.284060Z",
     "iopub.status.busy": "2021-07-23T02:35:21.284060Z",
     "iopub.status.idle": "2021-07-23T02:35:21.291078Z",
     "shell.execute_reply": "2021-07-23T02:35:21.290061Z",
     "shell.execute_reply.started": "2021-07-23T02:35:21.284060Z"
    }
   },
   "outputs": [
    {
     "data": {
      "text/plain": [
       "0    False\n",
       "1     True\n",
       "2    False\n",
       "3    False\n",
       "4     True\n",
       "dtype: bool"
      ]
     },
     "execution_count": 9,
     "metadata": {},
     "output_type": "execute_result"
    }
   ],
   "source": [
    "df.duplicated(subset=['brand','style'],keep='first') # 指定子集，即 以哪些列 判定 是否重复。可以多列"
   ]
  },
  {
   "cell_type": "code",
   "execution_count": 8,
   "id": "younger-violation",
   "metadata": {
    "execution": {
     "iopub.execute_input": "2021-07-23T02:34:09.819063Z",
     "iopub.status.busy": "2021-07-23T02:34:09.818063Z",
     "iopub.status.idle": "2021-07-23T02:34:09.825060Z",
     "shell.execute_reply": "2021-07-23T02:34:09.825060Z",
     "shell.execute_reply.started": "2021-07-23T02:34:09.819063Z"
    }
   },
   "outputs": [
    {
     "data": {
      "text/plain": [
       "0    False\n",
       "1     True\n",
       "2    False\n",
       "3     True\n",
       "4     True\n",
       "dtype: bool"
      ]
     },
     "execution_count": 8,
     "metadata": {},
     "output_type": "execute_result"
    }
   ],
   "source": [
    "df.duplicated(subset=['brand'],keep='first') # 指定子集，即 以哪些列 判定 是否重复"
   ]
  },
  {
   "cell_type": "code",
   "execution_count": 7,
   "id": "guilty-baker",
   "metadata": {
    "execution": {
     "iopub.execute_input": "2021-07-23T02:33:22.101095Z",
     "iopub.status.busy": "2021-07-23T02:33:22.101095Z",
     "iopub.status.idle": "2021-07-23T02:33:22.109061Z",
     "shell.execute_reply": "2021-07-23T02:33:22.108060Z",
     "shell.execute_reply.started": "2021-07-23T02:33:22.101095Z"
    }
   },
   "outputs": [
    {
     "data": {
      "text/plain": [
       "0     True\n",
       "1    False\n",
       "2    False\n",
       "3    False\n",
       "4    False\n",
       "dtype: bool"
      ]
     },
     "execution_count": 7,
     "metadata": {},
     "output_type": "execute_result"
    }
   ],
   "source": [
    "df.duplicated(keep='last') # 注意与 first的区别"
   ]
  },
  {
   "cell_type": "code",
   "execution_count": 6,
   "id": "cloudy-oxide",
   "metadata": {
    "execution": {
     "iopub.execute_input": "2021-07-23T02:32:53.766061Z",
     "iopub.status.busy": "2021-07-23T02:32:53.765062Z",
     "iopub.status.idle": "2021-07-23T02:32:53.774086Z",
     "shell.execute_reply": "2021-07-23T02:32:53.773063Z",
     "shell.execute_reply.started": "2021-07-23T02:32:53.766061Z"
    }
   },
   "outputs": [
    {
     "data": {
      "text/plain": [
       "0    False\n",
       "1     True\n",
       "2    False\n",
       "3    False\n",
       "4    False\n",
       "dtype: bool"
      ]
     },
     "execution_count": 6,
     "metadata": {},
     "output_type": "execute_result"
    }
   ],
   "source": [
    "df.duplicated(keep='first') # 默认"
   ]
  },
  {
   "cell_type": "code",
   "execution_count": 5,
   "id": "diverse-spanish",
   "metadata": {
    "execution": {
     "iopub.execute_input": "2021-07-23T02:31:10.540061Z",
     "iopub.status.busy": "2021-07-23T02:31:10.539060Z",
     "iopub.status.idle": "2021-07-23T02:31:10.547060Z",
     "shell.execute_reply": "2021-07-23T02:31:10.546068Z",
     "shell.execute_reply.started": "2021-07-23T02:31:10.539060Z"
    }
   },
   "outputs": [
    {
     "data": {
      "text/plain": [
       "0    False\n",
       "1     True\n",
       "2    False\n",
       "3    False\n",
       "4    False\n",
       "dtype: bool"
      ]
     },
     "execution_count": 5,
     "metadata": {},
     "output_type": "execute_result"
    }
   ],
   "source": [
    "df.duplicated() # 找到标记表格的重复数据。默认全表的列，认为第一个发现的行为不重复行，再发现则认为重复"
   ]
  }
 ],
 "metadata": {
  "kernelspec": {
   "display_name": "Python 3",
   "language": "python",
   "name": "python3"
  },
  "language_info": {
   "codemirror_mode": {
    "name": "ipython",
    "version": 3
   },
   "file_extension": ".py",
   "mimetype": "text/x-python",
   "name": "python",
   "nbconvert_exporter": "python",
   "pygments_lexer": "ipython3",
   "version": "3.6.8"
  }
 },
 "nbformat": 4,
 "nbformat_minor": 5
}
