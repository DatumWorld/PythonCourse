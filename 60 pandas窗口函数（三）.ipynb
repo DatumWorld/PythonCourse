{
 "cells": [
  {
   "cell_type": "markdown",
   "id": "quantitative-logging",
   "metadata": {
    "execution": {
     "iopub.execute_input": "2021-05-10T07:18:52.990449Z",
     "iopub.status.busy": "2021-05-10T07:18:52.990449Z",
     "iopub.status.idle": "2021-05-10T07:18:52.994464Z",
     "shell.execute_reply": "2021-05-10T07:18:52.993452Z",
     "shell.execute_reply.started": "2021-05-10T07:18:52.990449Z"
    }
   },
   "source": [
    "## 60 pandas窗口函数（三）"
   ]
  },
  {
   "cell_type": "markdown",
   "id": "still-conference",
   "metadata": {},
   "source": [
    "### 窗口函数加权\n",
    "#### rolling  窗口加权。仅展示使用，数学物理意义参考网络。本功能需要环境中安装scipy\n",
    "#### win_type 参数参考 https://docs.scipy.org/doc/scipy/reference/signal.windows.html#module-scipy.signal.windows"
   ]
  },
  {
   "cell_type": "code",
   "execution_count": 1,
   "id": "defensive-animal",
   "metadata": {
    "execution": {
     "iopub.execute_input": "2021-07-26T07:33:34.648055Z",
     "iopub.status.busy": "2021-07-26T07:33:34.648055Z",
     "iopub.status.idle": "2021-07-26T07:33:35.264084Z",
     "shell.execute_reply": "2021-07-26T07:33:35.264084Z",
     "shell.execute_reply.started": "2021-07-26T07:33:34.648055Z"
    }
   },
   "outputs": [],
   "source": [
    "import numpy  as np\n",
    "import pandas as pd\n",
    "from faker import Faker\n",
    "\n",
    "fake = Faker('zh_CN')\n",
    "df=pd.DataFrame(data=[ [fake.name()] for x in range(10) ],columns=['name'])"
   ]
  },
  {
   "cell_type": "code",
   "execution_count": 2,
   "id": "respected-wonder",
   "metadata": {
    "execution": {
     "iopub.execute_input": "2021-07-26T07:33:35.265084Z",
     "iopub.status.busy": "2021-07-26T07:33:35.265084Z",
     "iopub.status.idle": "2021-07-26T07:33:35.270085Z",
     "shell.execute_reply": "2021-07-26T07:33:35.270085Z",
     "shell.execute_reply.started": "2021-07-26T07:33:35.265084Z"
    }
   },
   "outputs": [],
   "source": [
    "df['销售额']=np.random.randint(100,100000,size=(10, 1))\n",
    "df['时间']=pd.date_range(start='2020-01-01',periods=10,freq='D')"
   ]
  },
  {
   "cell_type": "code",
   "execution_count": 3,
   "id": "preliminary-wrapping",
   "metadata": {
    "execution": {
     "iopub.execute_input": "2021-07-26T07:33:35.273053Z",
     "iopub.status.busy": "2021-07-26T07:33:35.273053Z",
     "iopub.status.idle": "2021-07-26T07:33:35.280087Z",
     "shell.execute_reply": "2021-07-26T07:33:35.280087Z",
     "shell.execute_reply.started": "2021-07-26T07:33:35.273053Z"
    }
   },
   "outputs": [],
   "source": [
    "df.insert(0,'dept',['部门1']*5+['部门2']*5)"
   ]
  },
  {
   "cell_type": "code",
   "execution_count": 4,
   "id": "engaged-delta",
   "metadata": {
    "execution": {
     "iopub.execute_input": "2021-07-26T07:33:35.282061Z",
     "iopub.status.busy": "2021-07-26T07:33:35.281053Z",
     "iopub.status.idle": "2021-07-26T07:33:35.308058Z",
     "shell.execute_reply": "2021-07-26T07:33:35.306062Z",
     "shell.execute_reply.started": "2021-07-26T07:33:35.282061Z"
    }
   },
   "outputs": [
    {
     "data": {
      "text/html": [
       "<div>\n",
       "<style scoped>\n",
       "    .dataframe tbody tr th:only-of-type {\n",
       "        vertical-align: middle;\n",
       "    }\n",
       "\n",
       "    .dataframe tbody tr th {\n",
       "        vertical-align: top;\n",
       "    }\n",
       "\n",
       "    .dataframe thead th {\n",
       "        text-align: right;\n",
       "    }\n",
       "</style>\n",
       "<table border=\"1\" class=\"dataframe\">\n",
       "  <thead>\n",
       "    <tr style=\"text-align: right;\">\n",
       "      <th></th>\n",
       "      <th>dept</th>\n",
       "      <th>name</th>\n",
       "      <th>销售额</th>\n",
       "      <th>时间</th>\n",
       "    </tr>\n",
       "  </thead>\n",
       "  <tbody>\n",
       "    <tr>\n",
       "      <th>0</th>\n",
       "      <td>部门1</td>\n",
       "      <td>陈东</td>\n",
       "      <td>97013</td>\n",
       "      <td>2020-01-01</td>\n",
       "    </tr>\n",
       "    <tr>\n",
       "      <th>1</th>\n",
       "      <td>部门1</td>\n",
       "      <td>樊杨</td>\n",
       "      <td>3607</td>\n",
       "      <td>2020-01-02</td>\n",
       "    </tr>\n",
       "    <tr>\n",
       "      <th>2</th>\n",
       "      <td>部门1</td>\n",
       "      <td>郭洋</td>\n",
       "      <td>55848</td>\n",
       "      <td>2020-01-03</td>\n",
       "    </tr>\n",
       "    <tr>\n",
       "      <th>3</th>\n",
       "      <td>部门1</td>\n",
       "      <td>祝林</td>\n",
       "      <td>9582</td>\n",
       "      <td>2020-01-04</td>\n",
       "    </tr>\n",
       "    <tr>\n",
       "      <th>4</th>\n",
       "      <td>部门1</td>\n",
       "      <td>李彬</td>\n",
       "      <td>50773</td>\n",
       "      <td>2020-01-05</td>\n",
       "    </tr>\n",
       "    <tr>\n",
       "      <th>5</th>\n",
       "      <td>部门2</td>\n",
       "      <td>刘敏</td>\n",
       "      <td>74458</td>\n",
       "      <td>2020-01-06</td>\n",
       "    </tr>\n",
       "    <tr>\n",
       "      <th>6</th>\n",
       "      <td>部门2</td>\n",
       "      <td>吕明</td>\n",
       "      <td>64216</td>\n",
       "      <td>2020-01-07</td>\n",
       "    </tr>\n",
       "    <tr>\n",
       "      <th>7</th>\n",
       "      <td>部门2</td>\n",
       "      <td>黄海燕</td>\n",
       "      <td>24820</td>\n",
       "      <td>2020-01-08</td>\n",
       "    </tr>\n",
       "    <tr>\n",
       "      <th>8</th>\n",
       "      <td>部门2</td>\n",
       "      <td>但琳</td>\n",
       "      <td>62604</td>\n",
       "      <td>2020-01-09</td>\n",
       "    </tr>\n",
       "    <tr>\n",
       "      <th>9</th>\n",
       "      <td>部门2</td>\n",
       "      <td>张红霞</td>\n",
       "      <td>1719</td>\n",
       "      <td>2020-01-10</td>\n",
       "    </tr>\n",
       "  </tbody>\n",
       "</table>\n",
       "</div>"
      ],
      "text/plain": [
       "  dept name    销售额         时间\n",
       "0  部门1   陈东  97013 2020-01-01\n",
       "1  部门1   樊杨   3607 2020-01-02\n",
       "2  部门1   郭洋  55848 2020-01-03\n",
       "3  部门1   祝林   9582 2020-01-04\n",
       "4  部门1   李彬  50773 2020-01-05\n",
       "5  部门2   刘敏  74458 2020-01-06\n",
       "6  部门2   吕明  64216 2020-01-07\n",
       "7  部门2  黄海燕  24820 2020-01-08\n",
       "8  部门2   但琳  62604 2020-01-09\n",
       "9  部门2  张红霞   1719 2020-01-10"
      ]
     },
     "execution_count": 4,
     "metadata": {},
     "output_type": "execute_result"
    }
   ],
   "source": [
    "df # 随机生成的数据"
   ]
  },
  {
   "cell_type": "code",
   "execution_count": 5,
   "id": "funky-malawi",
   "metadata": {
    "execution": {
     "iopub.execute_input": "2021-07-26T07:34:15.442053Z",
     "iopub.status.busy": "2021-07-26T07:34:15.442053Z",
     "iopub.status.idle": "2021-07-26T07:34:15.453054Z",
     "shell.execute_reply": "2021-07-26T07:34:15.452055Z",
     "shell.execute_reply.started": "2021-07-26T07:34:15.442053Z"
    }
   },
   "outputs": [
    {
     "data": {
      "text/plain": [
       "0         NaN\n",
       "1         NaN\n",
       "2         NaN\n",
       "3         NaN\n",
       "4    216823.0\n",
       "5    194268.0\n",
       "6    254877.0\n",
       "7    223849.0\n",
       "8    276871.0\n",
       "9    227817.0\n",
       "Name: 销售额, dtype: float64"
      ]
     },
     "execution_count": 5,
     "metadata": {},
     "output_type": "execute_result"
    }
   ],
   "source": [
    "df.销售额.rolling(window=5).sum()"
   ]
  },
  {
   "cell_type": "code",
   "execution_count": 6,
   "id": "pressing-detection",
   "metadata": {
    "execution": {
     "iopub.execute_input": "2021-07-26T07:34:48.201075Z",
     "iopub.status.busy": "2021-07-26T07:34:48.201075Z",
     "iopub.status.idle": "2021-07-26T07:34:48.744055Z",
     "shell.execute_reply": "2021-07-26T07:34:48.743052Z",
     "shell.execute_reply.started": "2021-07-26T07:34:48.201075Z"
    }
   },
   "outputs": [
    {
     "data": {
      "text/plain": [
       "0              NaN\n",
       "1              NaN\n",
       "2              NaN\n",
       "3              NaN\n",
       "4    113902.666667\n",
       "5    106684.333333\n",
       "6    146821.000000\n",
       "7    162584.666667\n",
       "8    168193.666667\n",
       "9    134759.000000\n",
       "Name: 销售额, dtype: float64"
      ]
     },
     "execution_count": 6,
     "metadata": {},
     "output_type": "execute_result"
    }
   ],
   "source": [
    "df.销售额.rolling(window=5,win_type='triang').sum() # win_type 参数 指定加权函数名称"
   ]
  },
  {
   "cell_type": "code",
   "execution_count": 8,
   "id": "focused-truck",
   "metadata": {
    "execution": {
     "iopub.execute_input": "2021-07-26T07:35:58.162058Z",
     "iopub.status.busy": "2021-07-26T07:35:58.162058Z",
     "iopub.status.idle": "2021-07-26T07:35:58.172059Z",
     "shell.execute_reply": "2021-07-26T07:35:58.171056Z",
     "shell.execute_reply.started": "2021-07-26T07:35:58.162058Z"
    }
   },
   "outputs": [
    {
     "data": {
      "text/plain": [
       "0        NaN\n",
       "1        NaN\n",
       "2        NaN\n",
       "3        NaN\n",
       "4    43364.6\n",
       "5    38853.6\n",
       "6    50975.4\n",
       "7    44769.8\n",
       "8    55374.2\n",
       "9    45563.4\n",
       "Name: 销售额, dtype: float64"
      ]
     },
     "execution_count": 8,
     "metadata": {},
     "output_type": "execute_result"
    }
   ],
   "source": [
    "df.销售额.rolling(window=5).mean()"
   ]
  },
  {
   "cell_type": "code",
   "execution_count": 7,
   "id": "certified-minneapolis",
   "metadata": {
    "execution": {
     "iopub.execute_input": "2021-07-26T07:35:42.856055Z",
     "iopub.status.busy": "2021-07-26T07:35:42.856055Z",
     "iopub.status.idle": "2021-07-26T07:35:42.863059Z",
     "shell.execute_reply": "2021-07-26T07:35:42.862054Z",
     "shell.execute_reply.started": "2021-07-26T07:35:42.856055Z"
    }
   },
   "outputs": [
    {
     "data": {
      "text/plain": [
       "0             NaN\n",
       "1             NaN\n",
       "2             NaN\n",
       "3             NaN\n",
       "4    37967.555556\n",
       "5    35561.444444\n",
       "6    48940.333333\n",
       "7    54194.888889\n",
       "8    56064.555556\n",
       "9    44919.666667\n",
       "Name: 销售额, dtype: float64"
      ]
     },
     "execution_count": 7,
     "metadata": {},
     "output_type": "execute_result"
    }
   ],
   "source": [
    "df.销售额.rolling(window=5,win_type='triang').mean() # win_type 参数 指定加权函数名称"
   ]
  },
  {
   "cell_type": "code",
   "execution_count": 9,
   "id": "defined-refund",
   "metadata": {
    "execution": {
     "iopub.execute_input": "2021-07-26T07:36:15.696057Z",
     "iopub.status.busy": "2021-07-26T07:36:15.696057Z",
     "iopub.status.idle": "2021-07-26T07:36:15.704076Z",
     "shell.execute_reply": "2021-07-26T07:36:15.702073Z",
     "shell.execute_reply.started": "2021-07-26T07:36:15.696057Z"
    }
   },
   "outputs": [
    {
     "data": {
      "text/plain": [
       "0             NaN\n",
       "1             NaN\n",
       "2             NaN\n",
       "3             NaN\n",
       "4    1.191979e+09\n",
       "5    8.848490e+08\n",
       "6    6.059035e+08\n",
       "7    6.944569e+08\n",
       "8    4.474398e+08\n",
       "9    7.390234e+08\n",
       "Name: 销售额, dtype: float64"
      ]
     },
     "execution_count": 9,
     "metadata": {},
     "output_type": "execute_result"
    }
   ],
   "source": [
    "df.销售额.rolling(window=5,win_type='triang').var() # win_type 参数 指定加权函数名称"
   ]
  },
  {
   "cell_type": "code",
   "execution_count": 10,
   "id": "shaped-remedy",
   "metadata": {
    "execution": {
     "iopub.execute_input": "2021-07-26T07:36:26.978057Z",
     "iopub.status.busy": "2021-07-26T07:36:26.978057Z",
     "iopub.status.idle": "2021-07-26T07:36:27.011084Z",
     "shell.execute_reply": "2021-07-26T07:36:27.011084Z",
     "shell.execute_reply.started": "2021-07-26T07:36:26.978057Z"
    }
   },
   "outputs": [
    {
     "data": {
      "text/plain": [
       "0             NaN\n",
       "1             NaN\n",
       "2             NaN\n",
       "3             NaN\n",
       "4    34525.051054\n",
       "5    29746.411017\n",
       "6    24615.107728\n",
       "7    26352.549514\n",
       "8    21152.772989\n",
       "9    27184.985613\n",
       "Name: 销售额, dtype: float64"
      ]
     },
     "execution_count": 10,
     "metadata": {},
     "output_type": "execute_result"
    }
   ],
   "source": [
    "df.销售额.rolling(window=5,win_type='triang').std() # win_type 参数 指定加权函数名称。其它参数选择 参考 开头 链接"
   ]
  }
 ],
 "metadata": {
  "kernelspec": {
   "display_name": "Python 3",
   "language": "python",
   "name": "python3"
  },
  "language_info": {
   "codemirror_mode": {
    "name": "ipython",
    "version": 3
   },
   "file_extension": ".py",
   "mimetype": "text/x-python",
   "name": "python",
   "nbconvert_exporter": "python",
   "pygments_lexer": "ipython3",
   "version": "3.6.8"
  }
 },
 "nbformat": 4,
 "nbformat_minor": 5
}
