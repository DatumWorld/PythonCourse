{
 "cells": [
  {
   "cell_type": "markdown",
   "id": "magnetic-dietary",
   "metadata": {
    "execution": {
     "iopub.execute_input": "2021-05-10T07:18:52.990449Z",
     "iopub.status.busy": "2021-05-10T07:18:52.990449Z",
     "iopub.status.idle": "2021-05-10T07:18:52.994464Z",
     "shell.execute_reply": "2021-05-10T07:18:52.993452Z",
     "shell.execute_reply.started": "2021-05-10T07:18:52.990449Z"
    }
   },
   "source": [
    "## 61 pandas分类数据（一）"
   ]
  },
  {
   "cell_type": "markdown",
   "id": "assisted-growth",
   "metadata": {},
   "source": [
    "### 分类数据 Categorical data （也有翻译为范畴数据）\n",
    "#### 分类数据的创建操作"
   ]
  },
  {
   "cell_type": "code",
   "execution_count": 1,
   "id": "sustained-highland",
   "metadata": {
    "execution": {
     "iopub.status.idle": "2021-07-27T06:10:33.154894Z",
     "shell.execute_reply": "2021-07-27T06:10:33.154894Z",
     "shell.execute_reply.started": "2021-07-27T06:10:32.847860Z"
    }
   },
   "outputs": [],
   "source": [
    "import numpy  as np\n",
    "import pandas as pd\n",
    "from faker import Faker\n",
    "\n",
    "fake = Faker('zh_CN')\n",
    "df=pd.DataFrame(data=[ [fake.name()] for x in range(10) ],columns=['name'])"
   ]
  },
  {
   "cell_type": "code",
   "execution_count": 2,
   "id": "exempt-burst",
   "metadata": {
    "execution": {
     "iopub.execute_input": "2021-07-27T06:10:33.155895Z",
     "iopub.status.busy": "2021-07-27T06:10:33.155895Z",
     "iopub.status.idle": "2021-07-27T06:10:33.160860Z",
     "shell.execute_reply": "2021-07-27T06:10:33.160860Z",
     "shell.execute_reply.started": "2021-07-27T06:10:33.155895Z"
    }
   },
   "outputs": [],
   "source": [
    "df['销售额']=np.random.randint(100,100000,size=(10, 1))\n",
    "df['时间']=pd.date_range(start='2020-01-01',periods=10,freq='D')"
   ]
  },
  {
   "cell_type": "code",
   "execution_count": 3,
   "id": "difficult-airfare",
   "metadata": {
    "execution": {
     "iopub.execute_input": "2021-07-27T06:10:33.162861Z",
     "iopub.status.busy": "2021-07-27T06:10:33.162861Z",
     "iopub.status.idle": "2021-07-27T06:10:33.167860Z",
     "shell.execute_reply": "2021-07-27T06:10:33.167860Z",
     "shell.execute_reply.started": "2021-07-27T06:10:33.162861Z"
    }
   },
   "outputs": [],
   "source": [
    "df.insert(0,'dept',['部门1']*5+['部门2']*5)"
   ]
  },
  {
   "cell_type": "code",
   "execution_count": 4,
   "id": "bigger-miami",
   "metadata": {
    "execution": {
     "iopub.execute_input": "2021-07-27T06:10:33.168860Z",
     "iopub.status.busy": "2021-07-27T06:10:33.168860Z",
     "iopub.status.idle": "2021-07-27T06:10:33.189862Z",
     "shell.execute_reply": "2021-07-27T06:10:33.189862Z",
     "shell.execute_reply.started": "2021-07-27T06:10:33.168860Z"
    }
   },
   "outputs": [
    {
     "data": {
      "text/html": [
       "<div>\n",
       "<style scoped>\n",
       "    .dataframe tbody tr th:only-of-type {\n",
       "        vertical-align: middle;\n",
       "    }\n",
       "\n",
       "    .dataframe tbody tr th {\n",
       "        vertical-align: top;\n",
       "    }\n",
       "\n",
       "    .dataframe thead th {\n",
       "        text-align: right;\n",
       "    }\n",
       "</style>\n",
       "<table border=\"1\" class=\"dataframe\">\n",
       "  <thead>\n",
       "    <tr style=\"text-align: right;\">\n",
       "      <th></th>\n",
       "      <th>dept</th>\n",
       "      <th>name</th>\n",
       "      <th>销售额</th>\n",
       "      <th>时间</th>\n",
       "    </tr>\n",
       "  </thead>\n",
       "  <tbody>\n",
       "    <tr>\n",
       "      <th>0</th>\n",
       "      <td>部门1</td>\n",
       "      <td>刘璐</td>\n",
       "      <td>2387</td>\n",
       "      <td>2020-01-01</td>\n",
       "    </tr>\n",
       "    <tr>\n",
       "      <th>1</th>\n",
       "      <td>部门1</td>\n",
       "      <td>魏桂英</td>\n",
       "      <td>20235</td>\n",
       "      <td>2020-01-02</td>\n",
       "    </tr>\n",
       "    <tr>\n",
       "      <th>2</th>\n",
       "      <td>部门1</td>\n",
       "      <td>原坤</td>\n",
       "      <td>37653</td>\n",
       "      <td>2020-01-03</td>\n",
       "    </tr>\n",
       "    <tr>\n",
       "      <th>3</th>\n",
       "      <td>部门1</td>\n",
       "      <td>孟强</td>\n",
       "      <td>51038</td>\n",
       "      <td>2020-01-04</td>\n",
       "    </tr>\n",
       "    <tr>\n",
       "      <th>4</th>\n",
       "      <td>部门1</td>\n",
       "      <td>胡宁</td>\n",
       "      <td>92851</td>\n",
       "      <td>2020-01-05</td>\n",
       "    </tr>\n",
       "    <tr>\n",
       "      <th>5</th>\n",
       "      <td>部门2</td>\n",
       "      <td>刘娟</td>\n",
       "      <td>64950</td>\n",
       "      <td>2020-01-06</td>\n",
       "    </tr>\n",
       "    <tr>\n",
       "      <th>6</th>\n",
       "      <td>部门2</td>\n",
       "      <td>莫丹丹</td>\n",
       "      <td>77021</td>\n",
       "      <td>2020-01-07</td>\n",
       "    </tr>\n",
       "    <tr>\n",
       "      <th>7</th>\n",
       "      <td>部门2</td>\n",
       "      <td>徐明</td>\n",
       "      <td>2572</td>\n",
       "      <td>2020-01-08</td>\n",
       "    </tr>\n",
       "    <tr>\n",
       "      <th>8</th>\n",
       "      <td>部门2</td>\n",
       "      <td>朱玉梅</td>\n",
       "      <td>17734</td>\n",
       "      <td>2020-01-09</td>\n",
       "    </tr>\n",
       "    <tr>\n",
       "      <th>9</th>\n",
       "      <td>部门2</td>\n",
       "      <td>何玲</td>\n",
       "      <td>48867</td>\n",
       "      <td>2020-01-10</td>\n",
       "    </tr>\n",
       "  </tbody>\n",
       "</table>\n",
       "</div>"
      ],
      "text/plain": [
       "  dept name    销售额         时间\n",
       "0  部门1   刘璐   2387 2020-01-01\n",
       "1  部门1  魏桂英  20235 2020-01-02\n",
       "2  部门1   原坤  37653 2020-01-03\n",
       "3  部门1   孟强  51038 2020-01-04\n",
       "4  部门1   胡宁  92851 2020-01-05\n",
       "5  部门2   刘娟  64950 2020-01-06\n",
       "6  部门2  莫丹丹  77021 2020-01-07\n",
       "7  部门2   徐明   2572 2020-01-08\n",
       "8  部门2  朱玉梅  17734 2020-01-09\n",
       "9  部门2   何玲  48867 2020-01-10"
      ]
     },
     "execution_count": 4,
     "metadata": {},
     "output_type": "execute_result"
    }
   ],
   "source": [
    "df # 随机生成的数据"
   ]
  },
  {
   "cell_type": "code",
   "execution_count": 14,
   "id": "constitutional-joseph",
   "metadata": {
    "execution": {
     "iopub.execute_input": "2021-07-27T06:11:11.185870Z",
     "iopub.status.busy": "2021-07-27T06:11:11.185870Z",
     "iopub.status.idle": "2021-07-27T06:11:11.191865Z",
     "shell.execute_reply": "2021-07-27T06:11:11.190865Z",
     "shell.execute_reply.started": "2021-07-27T06:11:11.185870Z"
    }
   },
   "outputs": [
    {
     "data": {
      "text/plain": [
       "array(['部门1', '部门2'], dtype=object)"
      ]
     },
     "execution_count": 14,
     "metadata": {},
     "output_type": "execute_result"
    }
   ],
   "source": [
    "df.dept.unique()"
   ]
  },
  {
   "cell_type": "code",
   "execution_count": 15,
   "id": "instrumental-crash",
   "metadata": {
    "execution": {
     "iopub.execute_input": "2021-07-27T06:11:37.888865Z",
     "iopub.status.busy": "2021-07-27T06:11:37.888865Z",
     "iopub.status.idle": "2021-07-27T06:11:37.901867Z",
     "shell.execute_reply": "2021-07-27T06:11:37.897881Z",
     "shell.execute_reply.started": "2021-07-27T06:11:37.888865Z"
    }
   },
   "outputs": [
    {
     "data": {
      "text/plain": [
       "0    部门1\n",
       "1    部门1\n",
       "2    部门1\n",
       "3    部门1\n",
       "4    部门1\n",
       "5    部门2\n",
       "6    部门2\n",
       "7    部门2\n",
       "8    部门2\n",
       "9    部门2\n",
       "Name: dept, dtype: category\n",
       "Categories (2, object): ['部门1', '部门2']"
      ]
     },
     "execution_count": 15,
     "metadata": {},
     "output_type": "execute_result"
    }
   ],
   "source": [
    "df.dept.astype('category') # dept列转化为分类列"
   ]
  },
  {
   "cell_type": "code",
   "execution_count": 16,
   "id": "meaningful-divorce",
   "metadata": {
    "execution": {
     "iopub.execute_input": "2021-07-27T06:12:40.599860Z",
     "iopub.status.busy": "2021-07-27T06:12:40.598860Z",
     "iopub.status.idle": "2021-07-27T06:12:40.605859Z",
     "shell.execute_reply": "2021-07-27T06:12:40.605859Z",
     "shell.execute_reply.started": "2021-07-27T06:12:40.599860Z"
    }
   },
   "outputs": [
    {
     "data": {
      "text/plain": [
       "0    部门1\n",
       "1    部门1\n",
       "2    部门1\n",
       "3    部门1\n",
       "4    部门1\n",
       "5    部门2\n",
       "6    部门2\n",
       "7    部门2\n",
       "8    部门2\n",
       "9    部门2\n",
       "Name: dept, dtype: category\n",
       "Categories (2, object): ['部门1', '部门2']"
      ]
     },
     "execution_count": 16,
     "metadata": {},
     "output_type": "execute_result"
    }
   ],
   "source": [
    "df.dept.astype(pd.CategoricalDtype()) # dept列转化为分类列.效果同上"
   ]
  },
  {
   "cell_type": "code",
   "execution_count": 17,
   "id": "latest-steam",
   "metadata": {
    "execution": {
     "iopub.execute_input": "2021-07-27T06:13:37.697861Z",
     "iopub.status.busy": "2021-07-27T06:13:37.696859Z",
     "iopub.status.idle": "2021-07-27T06:13:37.704867Z",
     "shell.execute_reply": "2021-07-27T06:13:37.703863Z",
     "shell.execute_reply.started": "2021-07-27T06:13:37.697861Z"
    }
   },
   "outputs": [
    {
     "data": {
      "text/plain": [
       "0    a\n",
       "1    b\n",
       "2    b\n",
       "dtype: category\n",
       "Categories (2, object): ['a', 'b']"
      ]
     },
     "execution_count": 17,
     "metadata": {},
     "output_type": "execute_result"
    }
   ],
   "source": [
    "pd.Series(['a','b','b'],dtype=pd.CategoricalDtype()) #指定序列类型未分类类型"
   ]
  },
  {
   "cell_type": "code",
   "execution_count": 18,
   "id": "rocky-sessions",
   "metadata": {
    "execution": {
     "iopub.execute_input": "2021-07-27T06:14:15.639863Z",
     "iopub.status.busy": "2021-07-27T06:14:15.639863Z",
     "iopub.status.idle": "2021-07-27T06:14:15.652887Z",
     "shell.execute_reply": "2021-07-27T06:14:15.648874Z",
     "shell.execute_reply.started": "2021-07-27T06:14:15.639863Z"
    }
   },
   "outputs": [
    {
     "data": {
      "text/plain": [
       "0    a\n",
       "1    b\n",
       "2    b\n",
       "dtype: category\n",
       "Categories (2, object): ['a', 'b']"
      ]
     },
     "execution_count": 18,
     "metadata": {},
     "output_type": "execute_result"
    }
   ],
   "source": [
    "pd.Series(['a','b','b'],dtype='category') #指定序列类型未分类类型。效果同上"
   ]
  },
  {
   "cell_type": "code",
   "execution_count": 19,
   "id": "going-gateway",
   "metadata": {
    "execution": {
     "iopub.execute_input": "2021-07-27T06:15:23.422861Z",
     "iopub.status.busy": "2021-07-27T06:15:23.421860Z",
     "iopub.status.idle": "2021-07-27T06:15:23.425861Z",
     "shell.execute_reply": "2021-07-27T06:15:23.425861Z",
     "shell.execute_reply.started": "2021-07-27T06:15:23.422861Z"
    }
   },
   "outputs": [],
   "source": [
    "category=pd.Categorical(['a','b','b'],categories=['a','b'])"
   ]
  },
  {
   "cell_type": "code",
   "execution_count": 20,
   "id": "western-edward",
   "metadata": {
    "execution": {
     "iopub.execute_input": "2021-07-27T06:15:29.725865Z",
     "iopub.status.busy": "2021-07-27T06:15:29.725865Z",
     "iopub.status.idle": "2021-07-27T06:15:29.731863Z",
     "shell.execute_reply": "2021-07-27T06:15:29.730865Z",
     "shell.execute_reply.started": "2021-07-27T06:15:29.725865Z"
    }
   },
   "outputs": [
    {
     "data": {
      "text/plain": [
       "['a', 'b', 'b']\n",
       "Categories (2, object): ['a', 'b']"
      ]
     },
     "execution_count": 20,
     "metadata": {},
     "output_type": "execute_result"
    }
   ],
   "source": [
    "category # 利用分类定义创建"
   ]
  },
  {
   "cell_type": "code",
   "execution_count": 21,
   "id": "mature-integrity",
   "metadata": {
    "execution": {
     "iopub.execute_input": "2021-07-27T06:16:21.614863Z",
     "iopub.status.busy": "2021-07-27T06:16:21.614863Z",
     "iopub.status.idle": "2021-07-27T06:16:21.621865Z",
     "shell.execute_reply": "2021-07-27T06:16:21.620860Z",
     "shell.execute_reply.started": "2021-07-27T06:16:21.614863Z"
    }
   },
   "outputs": [],
   "source": [
    "category1=pd.Categorical(['a','b','b'],categories=['a','b'],ordered=True)"
   ]
  },
  {
   "cell_type": "code",
   "execution_count": 22,
   "id": "collaborative-three",
   "metadata": {
    "execution": {
     "iopub.execute_input": "2021-07-27T06:16:33.895861Z",
     "iopub.status.busy": "2021-07-27T06:16:33.895861Z",
     "iopub.status.idle": "2021-07-27T06:16:33.900901Z",
     "shell.execute_reply": "2021-07-27T06:16:33.900901Z",
     "shell.execute_reply.started": "2021-07-27T06:16:33.895861Z"
    }
   },
   "outputs": [
    {
     "data": {
      "text/plain": [
       "['a', 'b', 'b']\n",
       "Categories (2, object): ['a' < 'b']"
      ]
     },
     "execution_count": 22,
     "metadata": {},
     "output_type": "execute_result"
    }
   ],
   "source": [
    "category1 # 同刚才，但是定义了一个有序分类"
   ]
  },
  {
   "cell_type": "code",
   "execution_count": 23,
   "id": "immediate-pasta",
   "metadata": {
    "execution": {
     "iopub.execute_input": "2021-07-27T06:17:33.830862Z",
     "iopub.status.busy": "2021-07-27T06:17:33.830862Z",
     "iopub.status.idle": "2021-07-27T06:17:33.837863Z",
     "shell.execute_reply": "2021-07-27T06:17:33.836863Z",
     "shell.execute_reply.started": "2021-07-27T06:17:33.830862Z"
    }
   },
   "outputs": [
    {
     "data": {
      "text/plain": [
       "0    a\n",
       "1    b\n",
       "2    b\n",
       "dtype: category\n",
       "Categories (2, object): ['a', 'b']"
      ]
     },
     "execution_count": 23,
     "metadata": {},
     "output_type": "execute_result"
    }
   ],
   "source": [
    "pd.Series(category) # 根据 category创建一个 分类序列"
   ]
  },
  {
   "cell_type": "code",
   "execution_count": 24,
   "id": "ignored-leather",
   "metadata": {
    "execution": {
     "iopub.execute_input": "2021-07-27T06:18:40.609864Z",
     "iopub.status.busy": "2021-07-27T06:18:40.608860Z",
     "iopub.status.idle": "2021-07-27T06:18:40.617866Z",
     "shell.execute_reply": "2021-07-27T06:18:40.616861Z",
     "shell.execute_reply.started": "2021-07-27T06:18:40.609864Z"
    }
   },
   "outputs": [],
   "source": [
    "df['category']=df.dept.astype('category')"
   ]
  },
  {
   "cell_type": "code",
   "execution_count": 25,
   "id": "aware-princess",
   "metadata": {
    "execution": {
     "iopub.execute_input": "2021-07-27T06:18:46.293862Z",
     "iopub.status.busy": "2021-07-27T06:18:46.292860Z",
     "iopub.status.idle": "2021-07-27T06:18:46.306864Z",
     "shell.execute_reply": "2021-07-27T06:18:46.303872Z",
     "shell.execute_reply.started": "2021-07-27T06:18:46.293862Z"
    }
   },
   "outputs": [
    {
     "data": {
      "text/html": [
       "<div>\n",
       "<style scoped>\n",
       "    .dataframe tbody tr th:only-of-type {\n",
       "        vertical-align: middle;\n",
       "    }\n",
       "\n",
       "    .dataframe tbody tr th {\n",
       "        vertical-align: top;\n",
       "    }\n",
       "\n",
       "    .dataframe thead th {\n",
       "        text-align: right;\n",
       "    }\n",
       "</style>\n",
       "<table border=\"1\" class=\"dataframe\">\n",
       "  <thead>\n",
       "    <tr style=\"text-align: right;\">\n",
       "      <th></th>\n",
       "      <th>dept</th>\n",
       "      <th>name</th>\n",
       "      <th>销售额</th>\n",
       "      <th>时间</th>\n",
       "      <th>category</th>\n",
       "    </tr>\n",
       "  </thead>\n",
       "  <tbody>\n",
       "    <tr>\n",
       "      <th>0</th>\n",
       "      <td>部门1</td>\n",
       "      <td>刘璐</td>\n",
       "      <td>2387</td>\n",
       "      <td>2020-01-01</td>\n",
       "      <td>部门1</td>\n",
       "    </tr>\n",
       "    <tr>\n",
       "      <th>1</th>\n",
       "      <td>部门1</td>\n",
       "      <td>魏桂英</td>\n",
       "      <td>20235</td>\n",
       "      <td>2020-01-02</td>\n",
       "      <td>部门1</td>\n",
       "    </tr>\n",
       "    <tr>\n",
       "      <th>2</th>\n",
       "      <td>部门1</td>\n",
       "      <td>原坤</td>\n",
       "      <td>37653</td>\n",
       "      <td>2020-01-03</td>\n",
       "      <td>部门1</td>\n",
       "    </tr>\n",
       "    <tr>\n",
       "      <th>3</th>\n",
       "      <td>部门1</td>\n",
       "      <td>孟强</td>\n",
       "      <td>51038</td>\n",
       "      <td>2020-01-04</td>\n",
       "      <td>部门1</td>\n",
       "    </tr>\n",
       "    <tr>\n",
       "      <th>4</th>\n",
       "      <td>部门1</td>\n",
       "      <td>胡宁</td>\n",
       "      <td>92851</td>\n",
       "      <td>2020-01-05</td>\n",
       "      <td>部门1</td>\n",
       "    </tr>\n",
       "    <tr>\n",
       "      <th>5</th>\n",
       "      <td>部门2</td>\n",
       "      <td>刘娟</td>\n",
       "      <td>64950</td>\n",
       "      <td>2020-01-06</td>\n",
       "      <td>部门2</td>\n",
       "    </tr>\n",
       "    <tr>\n",
       "      <th>6</th>\n",
       "      <td>部门2</td>\n",
       "      <td>莫丹丹</td>\n",
       "      <td>77021</td>\n",
       "      <td>2020-01-07</td>\n",
       "      <td>部门2</td>\n",
       "    </tr>\n",
       "    <tr>\n",
       "      <th>7</th>\n",
       "      <td>部门2</td>\n",
       "      <td>徐明</td>\n",
       "      <td>2572</td>\n",
       "      <td>2020-01-08</td>\n",
       "      <td>部门2</td>\n",
       "    </tr>\n",
       "    <tr>\n",
       "      <th>8</th>\n",
       "      <td>部门2</td>\n",
       "      <td>朱玉梅</td>\n",
       "      <td>17734</td>\n",
       "      <td>2020-01-09</td>\n",
       "      <td>部门2</td>\n",
       "    </tr>\n",
       "    <tr>\n",
       "      <th>9</th>\n",
       "      <td>部门2</td>\n",
       "      <td>何玲</td>\n",
       "      <td>48867</td>\n",
       "      <td>2020-01-10</td>\n",
       "      <td>部门2</td>\n",
       "    </tr>\n",
       "  </tbody>\n",
       "</table>\n",
       "</div>"
      ],
      "text/plain": [
       "  dept name    销售额         时间 category\n",
       "0  部门1   刘璐   2387 2020-01-01      部门1\n",
       "1  部门1  魏桂英  20235 2020-01-02      部门1\n",
       "2  部门1   原坤  37653 2020-01-03      部门1\n",
       "3  部门1   孟强  51038 2020-01-04      部门1\n",
       "4  部门1   胡宁  92851 2020-01-05      部门1\n",
       "5  部门2   刘娟  64950 2020-01-06      部门2\n",
       "6  部门2  莫丹丹  77021 2020-01-07      部门2\n",
       "7  部门2   徐明   2572 2020-01-08      部门2\n",
       "8  部门2  朱玉梅  17734 2020-01-09      部门2\n",
       "9  部门2   何玲  48867 2020-01-10      部门2"
      ]
     },
     "execution_count": 25,
     "metadata": {},
     "output_type": "execute_result"
    }
   ],
   "source": [
    "df # df中新增分类型列（序列）"
   ]
  },
  {
   "cell_type": "code",
   "execution_count": 26,
   "id": "opposed-african",
   "metadata": {
    "execution": {
     "iopub.execute_input": "2021-07-27T06:19:31.807861Z",
     "iopub.status.busy": "2021-07-27T06:19:31.806861Z",
     "iopub.status.idle": "2021-07-27T06:19:31.813863Z",
     "shell.execute_reply": "2021-07-27T06:19:31.812864Z",
     "shell.execute_reply.started": "2021-07-27T06:19:31.807861Z"
    }
   },
   "outputs": [
    {
     "data": {
      "text/plain": [
       "dept                object\n",
       "name                object\n",
       "销售额                  int32\n",
       "时间          datetime64[ns]\n",
       "category          category\n",
       "dtype: object"
      ]
     },
     "execution_count": 26,
     "metadata": {},
     "output_type": "execute_result"
    }
   ],
   "source": [
    "df.dtypes"
   ]
  }
 ],
 "metadata": {
  "kernelspec": {
   "display_name": "Python 3",
   "language": "python",
   "name": "python3"
  },
  "language_info": {
   "codemirror_mode": {
    "name": "ipython",
    "version": 3
   },
   "file_extension": ".py",
   "mimetype": "text/x-python",
   "name": "python",
   "nbconvert_exporter": "python",
   "pygments_lexer": "ipython3",
   "version": "3.6.8"
  }
 },
 "nbformat": 4,
 "nbformat_minor": 5
}
