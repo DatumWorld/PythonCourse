{
 "cells": [
  {
   "cell_type": "markdown",
   "id": "banned-berry",
   "metadata": {
    "execution": {
     "iopub.execute_input": "2021-05-10T07:18:52.990449Z",
     "iopub.status.busy": "2021-05-10T07:18:52.990449Z",
     "iopub.status.idle": "2021-05-10T07:18:52.994464Z",
     "shell.execute_reply": "2021-05-10T07:18:52.993452Z",
     "shell.execute_reply.started": "2021-05-10T07:18:52.990449Z"
    }
   },
   "source": [
    "## 62 pandas分类数据（二）"
   ]
  },
  {
   "cell_type": "markdown",
   "id": "municipal-brick",
   "metadata": {},
   "source": [
    "### 分类数据 Categorical data （也有翻译为范畴数据）\n",
    "#### 分类数据的创建和转换"
   ]
  },
  {
   "cell_type": "code",
   "execution_count": 1,
   "id": "latest-roads",
   "metadata": {
    "execution": {
     "iopub.status.idle": "2021-07-28T03:28:29.115443Z",
     "shell.execute_reply": "2021-07-28T03:28:29.115443Z",
     "shell.execute_reply.started": "2021-07-28T03:28:28.809473Z"
    }
   },
   "outputs": [],
   "source": [
    "import numpy  as np\n",
    "import pandas as pd\n",
    "from faker import Faker\n",
    "\n",
    "fake = Faker('zh_CN')\n",
    "df=pd.DataFrame(data=[ [fake.name()] for x in range(10) ],columns=['name'])"
   ]
  },
  {
   "cell_type": "code",
   "execution_count": 2,
   "id": "otherwise-operator",
   "metadata": {
    "execution": {
     "iopub.execute_input": "2021-07-28T03:28:29.116445Z",
     "iopub.status.busy": "2021-07-28T03:28:29.116445Z",
     "iopub.status.idle": "2021-07-28T03:28:29.121446Z",
     "shell.execute_reply": "2021-07-28T03:28:29.121446Z",
     "shell.execute_reply.started": "2021-07-28T03:28:29.116445Z"
    }
   },
   "outputs": [],
   "source": [
    "df['销售额']=np.random.randint(100,100000,size=(10, 1))\n",
    "df['时间']=pd.date_range(start='2020-01-01',periods=10,freq='D')"
   ]
  },
  {
   "cell_type": "code",
   "execution_count": 3,
   "id": "superb-french",
   "metadata": {
    "execution": {
     "iopub.execute_input": "2021-07-28T03:28:29.123445Z",
     "iopub.status.busy": "2021-07-28T03:28:29.123445Z",
     "iopub.status.idle": "2021-07-28T03:28:29.130453Z",
     "shell.execute_reply": "2021-07-28T03:28:29.129445Z",
     "shell.execute_reply.started": "2021-07-28T03:28:29.123445Z"
    }
   },
   "outputs": [],
   "source": [
    "df.insert(0,'dept',['部门1']*5+['部门2']*5)"
   ]
  },
  {
   "cell_type": "code",
   "execution_count": 4,
   "id": "sporting-bishop",
   "metadata": {
    "execution": {
     "iopub.execute_input": "2021-07-28T03:28:29.133448Z",
     "iopub.status.busy": "2021-07-28T03:28:29.133448Z",
     "iopub.status.idle": "2021-07-28T03:28:29.152442Z",
     "shell.execute_reply": "2021-07-28T03:28:29.152442Z",
     "shell.execute_reply.started": "2021-07-28T03:28:29.133448Z"
    }
   },
   "outputs": [
    {
     "data": {
      "text/html": [
       "<div>\n",
       "<style scoped>\n",
       "    .dataframe tbody tr th:only-of-type {\n",
       "        vertical-align: middle;\n",
       "    }\n",
       "\n",
       "    .dataframe tbody tr th {\n",
       "        vertical-align: top;\n",
       "    }\n",
       "\n",
       "    .dataframe thead th {\n",
       "        text-align: right;\n",
       "    }\n",
       "</style>\n",
       "<table border=\"1\" class=\"dataframe\">\n",
       "  <thead>\n",
       "    <tr style=\"text-align: right;\">\n",
       "      <th></th>\n",
       "      <th>dept</th>\n",
       "      <th>name</th>\n",
       "      <th>销售额</th>\n",
       "      <th>时间</th>\n",
       "    </tr>\n",
       "  </thead>\n",
       "  <tbody>\n",
       "    <tr>\n",
       "      <th>0</th>\n",
       "      <td>部门1</td>\n",
       "      <td>陈磊</td>\n",
       "      <td>95743</td>\n",
       "      <td>2020-01-01</td>\n",
       "    </tr>\n",
       "    <tr>\n",
       "      <th>1</th>\n",
       "      <td>部门1</td>\n",
       "      <td>刘桂香</td>\n",
       "      <td>83999</td>\n",
       "      <td>2020-01-02</td>\n",
       "    </tr>\n",
       "    <tr>\n",
       "      <th>2</th>\n",
       "      <td>部门1</td>\n",
       "      <td>吴宁</td>\n",
       "      <td>99643</td>\n",
       "      <td>2020-01-03</td>\n",
       "    </tr>\n",
       "    <tr>\n",
       "      <th>3</th>\n",
       "      <td>部门1</td>\n",
       "      <td>李桂珍</td>\n",
       "      <td>67554</td>\n",
       "      <td>2020-01-04</td>\n",
       "    </tr>\n",
       "    <tr>\n",
       "      <th>4</th>\n",
       "      <td>部门1</td>\n",
       "      <td>王鹏</td>\n",
       "      <td>8416</td>\n",
       "      <td>2020-01-05</td>\n",
       "    </tr>\n",
       "    <tr>\n",
       "      <th>5</th>\n",
       "      <td>部门2</td>\n",
       "      <td>章秀云</td>\n",
       "      <td>35920</td>\n",
       "      <td>2020-01-06</td>\n",
       "    </tr>\n",
       "    <tr>\n",
       "      <th>6</th>\n",
       "      <td>部门2</td>\n",
       "      <td>孙畅</td>\n",
       "      <td>36497</td>\n",
       "      <td>2020-01-07</td>\n",
       "    </tr>\n",
       "    <tr>\n",
       "      <th>7</th>\n",
       "      <td>部门2</td>\n",
       "      <td>佘博</td>\n",
       "      <td>14867</td>\n",
       "      <td>2020-01-08</td>\n",
       "    </tr>\n",
       "    <tr>\n",
       "      <th>8</th>\n",
       "      <td>部门2</td>\n",
       "      <td>周倩</td>\n",
       "      <td>85618</td>\n",
       "      <td>2020-01-09</td>\n",
       "    </tr>\n",
       "    <tr>\n",
       "      <th>9</th>\n",
       "      <td>部门2</td>\n",
       "      <td>刘杰</td>\n",
       "      <td>26883</td>\n",
       "      <td>2020-01-10</td>\n",
       "    </tr>\n",
       "  </tbody>\n",
       "</table>\n",
       "</div>"
      ],
      "text/plain": [
       "  dept name    销售额         时间\n",
       "0  部门1   陈磊  95743 2020-01-01\n",
       "1  部门1  刘桂香  83999 2020-01-02\n",
       "2  部门1   吴宁  99643 2020-01-03\n",
       "3  部门1  李桂珍  67554 2020-01-04\n",
       "4  部门1   王鹏   8416 2020-01-05\n",
       "5  部门2  章秀云  35920 2020-01-06\n",
       "6  部门2   孙畅  36497 2020-01-07\n",
       "7  部门2   佘博  14867 2020-01-08\n",
       "8  部门2   周倩  85618 2020-01-09\n",
       "9  部门2   刘杰  26883 2020-01-10"
      ]
     },
     "execution_count": 4,
     "metadata": {},
     "output_type": "execute_result"
    }
   ],
   "source": [
    "df # 随机生成的数据"
   ]
  },
  {
   "cell_type": "code",
   "execution_count": 6,
   "id": "exposed-signal",
   "metadata": {
    "execution": {
     "iopub.execute_input": "2021-07-28T03:28:46.925446Z",
     "iopub.status.busy": "2021-07-28T03:28:46.925446Z",
     "iopub.status.idle": "2021-07-28T03:28:46.934475Z",
     "shell.execute_reply": "2021-07-28T03:28:46.934475Z",
     "shell.execute_reply.started": "2021-07-28T03:28:46.925446Z"
    }
   },
   "outputs": [
    {
     "name": "stdout",
     "output_type": "stream",
     "text": [
      "<class 'pandas.core.frame.DataFrame'>\n",
      "RangeIndex: 10 entries, 0 to 9\n",
      "Data columns (total 4 columns):\n",
      " #   Column  Non-Null Count  Dtype         \n",
      "---  ------  --------------  -----         \n",
      " 0   dept    10 non-null     object        \n",
      " 1   name    10 non-null     object        \n",
      " 2   销售额     10 non-null     int32         \n",
      " 3   时间      10 non-null     datetime64[ns]\n",
      "dtypes: datetime64[ns](1), int32(1), object(2)\n",
      "memory usage: 408.0+ bytes\n"
     ]
    }
   ],
   "source": [
    "df.info()"
   ]
  },
  {
   "cell_type": "code",
   "execution_count": 8,
   "id": "numeric-aberdeen",
   "metadata": {
    "execution": {
     "iopub.execute_input": "2021-07-28T03:29:06.867444Z",
     "iopub.status.busy": "2021-07-28T03:29:06.867444Z",
     "iopub.status.idle": "2021-07-28T03:29:06.885441Z",
     "shell.execute_reply": "2021-07-28T03:29:06.885441Z",
     "shell.execute_reply.started": "2021-07-28T03:29:06.867444Z"
    }
   },
   "outputs": [
    {
     "name": "stdout",
     "output_type": "stream",
     "text": [
      "<class 'pandas.core.frame.DataFrame'>\n",
      "RangeIndex: 10 entries, 0 to 9\n",
      "Data columns (total 4 columns):\n",
      " #   Column  Non-Null Count  Dtype   \n",
      "---  ------  --------------  -----   \n",
      " 0   dept    10 non-null     category\n",
      " 1   name    10 non-null     category\n",
      " 2   销售额     10 non-null     category\n",
      " 3   时间      10 non-null     category\n",
      "dtypes: category(4)\n",
      "memory usage: 1.4 KB\n"
     ]
    }
   ],
   "source": [
    "df.astype('category').info() # 数据帧（表）转换成分类数据类型"
   ]
  },
  {
   "cell_type": "code",
   "execution_count": 10,
   "id": "rapid-seeker",
   "metadata": {
    "execution": {
     "iopub.execute_input": "2021-07-28T03:30:05.526443Z",
     "iopub.status.busy": "2021-07-28T03:30:05.526443Z",
     "iopub.status.idle": "2021-07-28T03:30:05.532447Z",
     "shell.execute_reply": "2021-07-28T03:30:05.531443Z",
     "shell.execute_reply.started": "2021-07-28T03:30:05.526443Z"
    }
   },
   "outputs": [],
   "source": [
    "t=df.dept.astype('category')"
   ]
  },
  {
   "cell_type": "code",
   "execution_count": 11,
   "id": "reliable-cornell",
   "metadata": {
    "execution": {
     "iopub.execute_input": "2021-07-28T03:30:10.007447Z",
     "iopub.status.busy": "2021-07-28T03:30:10.006484Z",
     "iopub.status.idle": "2021-07-28T03:30:10.014447Z",
     "shell.execute_reply": "2021-07-28T03:30:10.013447Z",
     "shell.execute_reply.started": "2021-07-28T03:30:10.007447Z"
    }
   },
   "outputs": [
    {
     "data": {
      "text/plain": [
       "0    部门1\n",
       "1    部门1\n",
       "2    部门1\n",
       "3    部门1\n",
       "4    部门1\n",
       "5    部门2\n",
       "6    部门2\n",
       "7    部门2\n",
       "8    部门2\n",
       "9    部门2\n",
       "Name: dept, dtype: category\n",
       "Categories (2, object): ['部门1', '部门2']"
      ]
     },
     "execution_count": 11,
     "metadata": {},
     "output_type": "execute_result"
    }
   ],
   "source": [
    "t"
   ]
  },
  {
   "cell_type": "code",
   "execution_count": 12,
   "id": "collectible-sheriff",
   "metadata": {
    "execution": {
     "iopub.execute_input": "2021-07-28T03:30:38.664448Z",
     "iopub.status.busy": "2021-07-28T03:30:38.664448Z",
     "iopub.status.idle": "2021-07-28T03:30:38.670444Z",
     "shell.execute_reply": "2021-07-28T03:30:38.669450Z",
     "shell.execute_reply.started": "2021-07-28T03:30:38.664448Z"
    }
   },
   "outputs": [
    {
     "data": {
      "text/plain": [
       "0    部门1\n",
       "1    部门1\n",
       "2    部门1\n",
       "3    部门1\n",
       "4    部门1\n",
       "5    部门2\n",
       "6    部门2\n",
       "7    部门2\n",
       "8    部门2\n",
       "9    部门2\n",
       "Name: dept, dtype: object"
      ]
     },
     "execution_count": 12,
     "metadata": {},
     "output_type": "execute_result"
    }
   ],
   "source": [
    "t.astype(str) # 分类数据类型转换成 str(object 对象类型)"
   ]
  },
  {
   "cell_type": "code",
   "execution_count": 14,
   "id": "instrumental-edgar",
   "metadata": {
    "execution": {
     "iopub.execute_input": "2021-07-28T03:31:28.842443Z",
     "iopub.status.busy": "2021-07-28T03:31:28.842443Z",
     "iopub.status.idle": "2021-07-28T03:31:28.851446Z",
     "shell.execute_reply": "2021-07-28T03:31:28.850448Z",
     "shell.execute_reply.started": "2021-07-28T03:31:28.842443Z"
    }
   },
   "outputs": [
    {
     "data": {
      "text/plain": [
       "0    部门1\n",
       "1    部门1\n",
       "2    部门1\n",
       "3    部门1\n",
       "4    部门1\n",
       "5    部门2\n",
       "6    部门2\n",
       "7    部门2\n",
       "8    部门2\n",
       "9    部门2\n",
       "Name: dept, dtype: string"
      ]
     },
     "execution_count": 14,
     "metadata": {},
     "output_type": "execute_result"
    }
   ],
   "source": [
    "t.astype('string') # 分类数据类型转换成 string"
   ]
  },
  {
   "cell_type": "code",
   "execution_count": 17,
   "id": "attended-teacher",
   "metadata": {
    "execution": {
     "iopub.execute_input": "2021-07-28T03:33:06.045445Z",
     "iopub.status.busy": "2021-07-28T03:33:06.045445Z",
     "iopub.status.idle": "2021-07-28T03:33:06.050443Z",
     "shell.execute_reply": "2021-07-28T03:33:06.050443Z",
     "shell.execute_reply.started": "2021-07-28T03:33:06.045445Z"
    }
   },
   "outputs": [],
   "source": [
    "category=pd.Categorical(['a', 'b','c', 'c','a']*2,categories=['a','b','c'])"
   ]
  },
  {
   "cell_type": "code",
   "execution_count": 18,
   "id": "younger-graphics",
   "metadata": {
    "execution": {
     "iopub.execute_input": "2021-07-28T03:33:06.952453Z",
     "iopub.status.busy": "2021-07-28T03:33:06.952453Z",
     "iopub.status.idle": "2021-07-28T03:33:06.958445Z",
     "shell.execute_reply": "2021-07-28T03:33:06.958445Z",
     "shell.execute_reply.started": "2021-07-28T03:33:06.952453Z"
    }
   },
   "outputs": [
    {
     "data": {
      "text/plain": [
       "['a', 'b', 'c', 'c', 'a', 'a', 'b', 'c', 'c', 'a']\n",
       "Categories (3, object): ['a', 'b', 'c']"
      ]
     },
     "execution_count": 18,
     "metadata": {},
     "output_type": "execute_result"
    }
   ],
   "source": [
    "category"
   ]
  },
  {
   "cell_type": "code",
   "execution_count": 19,
   "id": "expected-mouth",
   "metadata": {
    "execution": {
     "iopub.execute_input": "2021-07-28T03:33:24.918449Z",
     "iopub.status.busy": "2021-07-28T03:33:24.918449Z",
     "iopub.status.idle": "2021-07-28T03:33:24.923443Z",
     "shell.execute_reply": "2021-07-28T03:33:24.922454Z",
     "shell.execute_reply.started": "2021-07-28T03:33:24.918449Z"
    }
   },
   "outputs": [],
   "source": [
    "df['category']=category # 尾部增加列，数据为category"
   ]
  },
  {
   "cell_type": "code",
   "execution_count": 20,
   "id": "brave-brooks",
   "metadata": {
    "execution": {
     "iopub.execute_input": "2021-07-28T03:33:29.759479Z",
     "iopub.status.busy": "2021-07-28T03:33:29.759479Z",
     "iopub.status.idle": "2021-07-28T03:33:29.768444Z",
     "shell.execute_reply": "2021-07-28T03:33:29.768444Z",
     "shell.execute_reply.started": "2021-07-28T03:33:29.759479Z"
    }
   },
   "outputs": [
    {
     "data": {
      "text/html": [
       "<div>\n",
       "<style scoped>\n",
       "    .dataframe tbody tr th:only-of-type {\n",
       "        vertical-align: middle;\n",
       "    }\n",
       "\n",
       "    .dataframe tbody tr th {\n",
       "        vertical-align: top;\n",
       "    }\n",
       "\n",
       "    .dataframe thead th {\n",
       "        text-align: right;\n",
       "    }\n",
       "</style>\n",
       "<table border=\"1\" class=\"dataframe\">\n",
       "  <thead>\n",
       "    <tr style=\"text-align: right;\">\n",
       "      <th></th>\n",
       "      <th>dept</th>\n",
       "      <th>name</th>\n",
       "      <th>销售额</th>\n",
       "      <th>时间</th>\n",
       "      <th>category</th>\n",
       "    </tr>\n",
       "  </thead>\n",
       "  <tbody>\n",
       "    <tr>\n",
       "      <th>0</th>\n",
       "      <td>部门1</td>\n",
       "      <td>陈磊</td>\n",
       "      <td>95743</td>\n",
       "      <td>2020-01-01</td>\n",
       "      <td>a</td>\n",
       "    </tr>\n",
       "    <tr>\n",
       "      <th>1</th>\n",
       "      <td>部门1</td>\n",
       "      <td>刘桂香</td>\n",
       "      <td>83999</td>\n",
       "      <td>2020-01-02</td>\n",
       "      <td>b</td>\n",
       "    </tr>\n",
       "    <tr>\n",
       "      <th>2</th>\n",
       "      <td>部门1</td>\n",
       "      <td>吴宁</td>\n",
       "      <td>99643</td>\n",
       "      <td>2020-01-03</td>\n",
       "      <td>c</td>\n",
       "    </tr>\n",
       "    <tr>\n",
       "      <th>3</th>\n",
       "      <td>部门1</td>\n",
       "      <td>李桂珍</td>\n",
       "      <td>67554</td>\n",
       "      <td>2020-01-04</td>\n",
       "      <td>c</td>\n",
       "    </tr>\n",
       "    <tr>\n",
       "      <th>4</th>\n",
       "      <td>部门1</td>\n",
       "      <td>王鹏</td>\n",
       "      <td>8416</td>\n",
       "      <td>2020-01-05</td>\n",
       "      <td>a</td>\n",
       "    </tr>\n",
       "    <tr>\n",
       "      <th>5</th>\n",
       "      <td>部门2</td>\n",
       "      <td>章秀云</td>\n",
       "      <td>35920</td>\n",
       "      <td>2020-01-06</td>\n",
       "      <td>a</td>\n",
       "    </tr>\n",
       "    <tr>\n",
       "      <th>6</th>\n",
       "      <td>部门2</td>\n",
       "      <td>孙畅</td>\n",
       "      <td>36497</td>\n",
       "      <td>2020-01-07</td>\n",
       "      <td>b</td>\n",
       "    </tr>\n",
       "    <tr>\n",
       "      <th>7</th>\n",
       "      <td>部门2</td>\n",
       "      <td>佘博</td>\n",
       "      <td>14867</td>\n",
       "      <td>2020-01-08</td>\n",
       "      <td>c</td>\n",
       "    </tr>\n",
       "    <tr>\n",
       "      <th>8</th>\n",
       "      <td>部门2</td>\n",
       "      <td>周倩</td>\n",
       "      <td>85618</td>\n",
       "      <td>2020-01-09</td>\n",
       "      <td>c</td>\n",
       "    </tr>\n",
       "    <tr>\n",
       "      <th>9</th>\n",
       "      <td>部门2</td>\n",
       "      <td>刘杰</td>\n",
       "      <td>26883</td>\n",
       "      <td>2020-01-10</td>\n",
       "      <td>a</td>\n",
       "    </tr>\n",
       "  </tbody>\n",
       "</table>\n",
       "</div>"
      ],
      "text/plain": [
       "  dept name    销售额         时间 category\n",
       "0  部门1   陈磊  95743 2020-01-01        a\n",
       "1  部门1  刘桂香  83999 2020-01-02        b\n",
       "2  部门1   吴宁  99643 2020-01-03        c\n",
       "3  部门1  李桂珍  67554 2020-01-04        c\n",
       "4  部门1   王鹏   8416 2020-01-05        a\n",
       "5  部门2  章秀云  35920 2020-01-06        a\n",
       "6  部门2   孙畅  36497 2020-01-07        b\n",
       "7  部门2   佘博  14867 2020-01-08        c\n",
       "8  部门2   周倩  85618 2020-01-09        c\n",
       "9  部门2   刘杰  26883 2020-01-10        a"
      ]
     },
     "execution_count": 20,
     "metadata": {},
     "output_type": "execute_result"
    }
   ],
   "source": [
    "df"
   ]
  },
  {
   "cell_type": "code",
   "execution_count": 22,
   "id": "approximate-spending",
   "metadata": {
    "execution": {
     "iopub.execute_input": "2021-07-28T03:35:30.284444Z",
     "iopub.status.busy": "2021-07-28T03:35:30.284444Z",
     "iopub.status.idle": "2021-07-28T03:35:30.294450Z",
     "shell.execute_reply": "2021-07-28T03:35:30.294450Z",
     "shell.execute_reply.started": "2021-07-28T03:35:30.284444Z"
    }
   },
   "outputs": [
    {
     "name": "stdout",
     "output_type": "stream",
     "text": [
      "<class 'pandas.core.frame.DataFrame'>\n",
      "RangeIndex: 4 entries, 0 to 3\n",
      "Data columns (total 1 columns):\n",
      " #   Column    Non-Null Count  Dtype \n",
      "---  ------    --------------  ----- \n",
      " 0   category  4 non-null      object\n",
      "dtypes: object(1)\n",
      "memory usage: 160.0+ bytes\n"
     ]
    }
   ],
   "source": [
    "pd.DataFrame(data=['1','b',2,3],columns=['category']).info()"
   ]
  },
  {
   "cell_type": "code",
   "execution_count": 24,
   "id": "signed-child",
   "metadata": {
    "execution": {
     "iopub.execute_input": "2021-07-28T03:35:59.377447Z",
     "iopub.status.busy": "2021-07-28T03:35:59.377447Z",
     "iopub.status.idle": "2021-07-28T03:35:59.387442Z",
     "shell.execute_reply": "2021-07-28T03:35:59.386457Z",
     "shell.execute_reply.started": "2021-07-28T03:35:59.377447Z"
    }
   },
   "outputs": [
    {
     "name": "stdout",
     "output_type": "stream",
     "text": [
      "<class 'pandas.core.frame.DataFrame'>\n",
      "RangeIndex: 4 entries, 0 to 3\n",
      "Data columns (total 1 columns):\n",
      " #   Column    Non-Null Count  Dtype   \n",
      "---  ------    --------------  -----   \n",
      " 0   category  4 non-null      category\n",
      "dtypes: category(1)\n",
      "memory usage: 324.0 bytes\n"
     ]
    }
   ],
   "source": [
    "pd.DataFrame(data=['1','b',2,3],columns=['category'],dtype='category').info() # 在创建 数据帧时指定为分类数据类型"
   ]
  }
 ],
 "metadata": {
  "kernelspec": {
   "display_name": "Python 3",
   "language": "python",
   "name": "python3"
  },
  "language_info": {
   "codemirror_mode": {
    "name": "ipython",
    "version": 3
   },
   "file_extension": ".py",
   "mimetype": "text/x-python",
   "name": "python",
   "nbconvert_exporter": "python",
   "pygments_lexer": "ipython3",
   "version": "3.6.8"
  }
 },
 "nbformat": 4,
 "nbformat_minor": 5
}
