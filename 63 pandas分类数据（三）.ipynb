{
 "cells": [
  {
   "cell_type": "markdown",
   "id": "banned-berry",
   "metadata": {
    "execution": {
     "iopub.execute_input": "2021-05-10T07:18:52.990449Z",
     "iopub.status.busy": "2021-05-10T07:18:52.990449Z",
     "iopub.status.idle": "2021-05-10T07:18:52.994464Z",
     "shell.execute_reply": "2021-05-10T07:18:52.993452Z",
     "shell.execute_reply.started": "2021-05-10T07:18:52.990449Z"
    }
   },
   "source": [
    "## 63 pandas分类数据（三）"
   ]
  },
  {
   "cell_type": "markdown",
   "id": "municipal-brick",
   "metadata": {},
   "source": [
    "### 分类数据 Categorical data （也有翻译为范畴数据）\n",
    "#### 分类数据含义要点和常见操作"
   ]
  },
  {
   "cell_type": "code",
   "execution_count": 1,
   "id": "latest-roads",
   "metadata": {
    "execution": {
     "iopub.execute_input": "2021-07-29T03:12:42.092006Z",
     "iopub.status.busy": "2021-07-29T03:12:42.092006Z",
     "iopub.status.idle": "2021-07-29T03:12:42.410001Z",
     "shell.execute_reply": "2021-07-29T03:12:42.410001Z",
     "shell.execute_reply.started": "2021-07-29T03:12:42.092006Z"
    },
    "tags": []
   },
   "outputs": [],
   "source": [
    "import numpy  as np\n",
    "import pandas as pd\n",
    "from faker import Faker\n",
    "\n",
    "fake = Faker('zh_CN')\n",
    "df=pd.DataFrame(data=[ [fake.name()] for x in range(10) ],columns=['name'])"
   ]
  },
  {
   "cell_type": "code",
   "execution_count": 2,
   "id": "otherwise-operator",
   "metadata": {
    "execution": {
     "iopub.execute_input": "2021-07-29T03:12:42.411001Z",
     "iopub.status.busy": "2021-07-29T03:12:42.411001Z",
     "iopub.status.idle": "2021-07-29T03:12:42.415007Z",
     "shell.execute_reply": "2021-07-29T03:12:42.415007Z",
     "shell.execute_reply.started": "2021-07-29T03:12:42.411001Z"
    },
    "tags": []
   },
   "outputs": [],
   "source": [
    "df['销售额']=np.random.randint(100,100000,size=(10, 1))\n",
    "df['时间']=pd.date_range(start='2020-01-01',periods=10,freq='D')"
   ]
  },
  {
   "cell_type": "code",
   "execution_count": 3,
   "id": "superb-french",
   "metadata": {
    "execution": {
     "iopub.execute_input": "2021-07-29T03:12:42.417003Z",
     "iopub.status.busy": "2021-07-29T03:12:42.417003Z",
     "iopub.status.idle": "2021-07-29T03:12:42.424002Z",
     "shell.execute_reply": "2021-07-29T03:12:42.424002Z",
     "shell.execute_reply.started": "2021-07-29T03:12:42.417003Z"
    },
    "tags": []
   },
   "outputs": [],
   "source": [
    "df.insert(0,'dept',['部门1']*5+['部门2']*5)"
   ]
  },
  {
   "cell_type": "code",
   "execution_count": 4,
   "id": "sporting-bishop",
   "metadata": {
    "execution": {
     "iopub.execute_input": "2021-07-29T03:12:42.425004Z",
     "iopub.status.busy": "2021-07-29T03:12:42.425004Z",
     "iopub.status.idle": "2021-07-29T03:12:42.443000Z",
     "shell.execute_reply": "2021-07-29T03:12:42.443000Z",
     "shell.execute_reply.started": "2021-07-29T03:12:42.425004Z"
    },
    "tags": []
   },
   "outputs": [
    {
     "data": {
      "text/html": [
       "<div>\n",
       "<style scoped>\n",
       "    .dataframe tbody tr th:only-of-type {\n",
       "        vertical-align: middle;\n",
       "    }\n",
       "\n",
       "    .dataframe tbody tr th {\n",
       "        vertical-align: top;\n",
       "    }\n",
       "\n",
       "    .dataframe thead th {\n",
       "        text-align: right;\n",
       "    }\n",
       "</style>\n",
       "<table border=\"1\" class=\"dataframe\">\n",
       "  <thead>\n",
       "    <tr style=\"text-align: right;\">\n",
       "      <th></th>\n",
       "      <th>dept</th>\n",
       "      <th>name</th>\n",
       "      <th>销售额</th>\n",
       "      <th>时间</th>\n",
       "    </tr>\n",
       "  </thead>\n",
       "  <tbody>\n",
       "    <tr>\n",
       "      <th>0</th>\n",
       "      <td>部门1</td>\n",
       "      <td>李红霞</td>\n",
       "      <td>69220</td>\n",
       "      <td>2020-01-01</td>\n",
       "    </tr>\n",
       "    <tr>\n",
       "      <th>1</th>\n",
       "      <td>部门1</td>\n",
       "      <td>郝雪</td>\n",
       "      <td>53796</td>\n",
       "      <td>2020-01-02</td>\n",
       "    </tr>\n",
       "    <tr>\n",
       "      <th>2</th>\n",
       "      <td>部门1</td>\n",
       "      <td>朱桂荣</td>\n",
       "      <td>72926</td>\n",
       "      <td>2020-01-03</td>\n",
       "    </tr>\n",
       "    <tr>\n",
       "      <th>3</th>\n",
       "      <td>部门1</td>\n",
       "      <td>田淑兰</td>\n",
       "      <td>6662</td>\n",
       "      <td>2020-01-04</td>\n",
       "    </tr>\n",
       "    <tr>\n",
       "      <th>4</th>\n",
       "      <td>部门1</td>\n",
       "      <td>周杨</td>\n",
       "      <td>20697</td>\n",
       "      <td>2020-01-05</td>\n",
       "    </tr>\n",
       "    <tr>\n",
       "      <th>5</th>\n",
       "      <td>部门2</td>\n",
       "      <td>杨凤兰</td>\n",
       "      <td>62903</td>\n",
       "      <td>2020-01-06</td>\n",
       "    </tr>\n",
       "    <tr>\n",
       "      <th>6</th>\n",
       "      <td>部门2</td>\n",
       "      <td>张桂荣</td>\n",
       "      <td>59300</td>\n",
       "      <td>2020-01-07</td>\n",
       "    </tr>\n",
       "    <tr>\n",
       "      <th>7</th>\n",
       "      <td>部门2</td>\n",
       "      <td>蒋秀芳</td>\n",
       "      <td>88447</td>\n",
       "      <td>2020-01-08</td>\n",
       "    </tr>\n",
       "    <tr>\n",
       "      <th>8</th>\n",
       "      <td>部门2</td>\n",
       "      <td>尹凤英</td>\n",
       "      <td>64203</td>\n",
       "      <td>2020-01-09</td>\n",
       "    </tr>\n",
       "    <tr>\n",
       "      <th>9</th>\n",
       "      <td>部门2</td>\n",
       "      <td>朱秀云</td>\n",
       "      <td>17718</td>\n",
       "      <td>2020-01-10</td>\n",
       "    </tr>\n",
       "  </tbody>\n",
       "</table>\n",
       "</div>"
      ],
      "text/plain": [
       "  dept name    销售额         时间\n",
       "0  部门1  李红霞  69220 2020-01-01\n",
       "1  部门1   郝雪  53796 2020-01-02\n",
       "2  部门1  朱桂荣  72926 2020-01-03\n",
       "3  部门1  田淑兰   6662 2020-01-04\n",
       "4  部门1   周杨  20697 2020-01-05\n",
       "5  部门2  杨凤兰  62903 2020-01-06\n",
       "6  部门2  张桂荣  59300 2020-01-07\n",
       "7  部门2  蒋秀芳  88447 2020-01-08\n",
       "8  部门2  尹凤英  64203 2020-01-09\n",
       "9  部门2  朱秀云  17718 2020-01-10"
      ]
     },
     "execution_count": 4,
     "metadata": {},
     "output_type": "execute_result"
    }
   ],
   "source": [
    "df # 随机生成的数据"
   ]
  },
  {
   "cell_type": "code",
   "execution_count": 5,
   "id": "b8cf2654-6704-4fa6-8e09-7bac7c104d49",
   "metadata": {
    "execution": {
     "iopub.execute_input": "2021-07-29T03:13:25.347009Z",
     "iopub.status.busy": "2021-07-29T03:13:25.346010Z",
     "iopub.status.idle": "2021-07-29T03:13:25.351010Z",
     "shell.execute_reply": "2021-07-29T03:13:25.351010Z",
     "shell.execute_reply.started": "2021-07-29T03:13:25.347009Z"
    },
    "tags": []
   },
   "outputs": [],
   "source": [
    "t=df.dept.astype('category')"
   ]
  },
  {
   "cell_type": "code",
   "execution_count": 6,
   "id": "9d2ea994-b2b6-416d-94cd-5ce0482ed566",
   "metadata": {
    "execution": {
     "iopub.execute_input": "2021-07-29T03:13:31.327007Z",
     "iopub.status.busy": "2021-07-29T03:13:31.327007Z",
     "iopub.status.idle": "2021-07-29T03:13:31.334013Z",
     "shell.execute_reply": "2021-07-29T03:13:31.332030Z",
     "shell.execute_reply.started": "2021-07-29T03:13:31.327007Z"
    },
    "tags": []
   },
   "outputs": [
    {
     "data": {
      "text/plain": [
       "0    部门1\n",
       "1    部门1\n",
       "2    部门1\n",
       "3    部门1\n",
       "4    部门1\n",
       "5    部门2\n",
       "6    部门2\n",
       "7    部门2\n",
       "8    部门2\n",
       "9    部门2\n",
       "Name: dept, dtype: category\n",
       "Categories (2, object): ['部门1', '部门2']"
      ]
     },
     "execution_count": 6,
     "metadata": {},
     "output_type": "execute_result"
    }
   ],
   "source": [
    "t # 分类数据类型：1 一组非空不重复的元素的集合 2 是否有序（可以有序或无序）"
   ]
  },
  {
   "cell_type": "code",
   "execution_count": 7,
   "id": "e09fc6ce-7a5e-48de-b169-8bb8ed27154f",
   "metadata": {
    "execution": {
     "iopub.execute_input": "2021-07-29T03:15:04.183006Z",
     "iopub.status.busy": "2021-07-29T03:15:04.183006Z",
     "iopub.status.idle": "2021-07-29T03:15:04.190003Z",
     "shell.execute_reply": "2021-07-29T03:15:04.189006Z",
     "shell.execute_reply.started": "2021-07-29T03:15:04.183006Z"
    },
    "tags": []
   },
   "outputs": [
    {
     "data": {
      "text/plain": [
       "Index(['部门1', '部门2'], dtype='object')"
      ]
     },
     "execution_count": 7,
     "metadata": {},
     "output_type": "execute_result"
    }
   ],
   "source": [
    "t.cat.categories # 获取分类数据的类型"
   ]
  },
  {
   "cell_type": "code",
   "execution_count": 8,
   "id": "502f31ef-99c9-403f-aed5-93219aa63626",
   "metadata": {
    "execution": {
     "iopub.execute_input": "2021-07-29T03:15:44.609003Z",
     "iopub.status.busy": "2021-07-29T03:15:44.609003Z",
     "iopub.status.idle": "2021-07-29T03:15:44.614001Z",
     "shell.execute_reply": "2021-07-29T03:15:44.614001Z",
     "shell.execute_reply.started": "2021-07-29T03:15:44.609003Z"
    },
    "tags": []
   },
   "outputs": [
    {
     "data": {
      "text/plain": [
       "False"
      ]
     },
     "execution_count": 8,
     "metadata": {},
     "output_type": "execute_result"
    }
   ],
   "source": [
    "t.cat.ordered # 获取分类数据 是否有序 ，当前例子无序"
   ]
  },
  {
   "cell_type": "code",
   "execution_count": 9,
   "id": "1382e970-d163-46f9-9e28-28fa96ffd872",
   "metadata": {
    "execution": {
     "iopub.execute_input": "2021-07-29T03:16:50.480010Z",
     "iopub.status.busy": "2021-07-29T03:16:50.480010Z",
     "iopub.status.idle": "2021-07-29T03:16:50.485004Z",
     "shell.execute_reply": "2021-07-29T03:16:50.484001Z",
     "shell.execute_reply.started": "2021-07-29T03:16:50.480010Z"
    },
    "tags": []
   },
   "outputs": [],
   "source": [
    "t.cat.categories=['dept1','dept2'] # 改分类值"
   ]
  },
  {
   "cell_type": "code",
   "execution_count": 13,
   "id": "13dab892-9c2f-4a71-9c0d-04bded1c2dba",
   "metadata": {
    "execution": {
     "iopub.execute_input": "2021-07-29T03:18:53.042002Z",
     "iopub.status.busy": "2021-07-29T03:18:53.041002Z",
     "iopub.status.idle": "2021-07-29T03:18:53.050009Z",
     "shell.execute_reply": "2021-07-29T03:18:53.049006Z",
     "shell.execute_reply.started": "2021-07-29T03:18:53.042002Z"
    },
    "tags": []
   },
   "outputs": [
    {
     "data": {
      "text/plain": [
       "0    dept1\n",
       "1    dept1\n",
       "2    dept1\n",
       "3    dept1\n",
       "4    dept1\n",
       "5    dept2\n",
       "6    dept2\n",
       "7    dept2\n",
       "8    dept2\n",
       "9    dept2\n",
       "Name: dept, dtype: category\n",
       "Categories (2, object): ['dept1', 'dept2']"
      ]
     },
     "execution_count": 13,
     "metadata": {},
     "output_type": "execute_result"
    }
   ],
   "source": [
    "t"
   ]
  },
  {
   "cell_type": "code",
   "execution_count": 12,
   "id": "c3471639-8c57-4d6c-a880-c3f561f5dd4d",
   "metadata": {
    "execution": {
     "iopub.execute_input": "2021-07-29T03:18:28.130007Z",
     "iopub.status.busy": "2021-07-29T03:18:28.130007Z",
     "iopub.status.idle": "2021-07-29T03:18:28.137004Z",
     "shell.execute_reply": "2021-07-29T03:18:28.136003Z",
     "shell.execute_reply.started": "2021-07-29T03:18:28.130007Z"
    },
    "tags": []
   },
   "outputs": [
    {
     "data": {
      "text/plain": [
       "0    部门1\n",
       "1    部门1\n",
       "2    部门1\n",
       "3    部门1\n",
       "4    部门1\n",
       "5    部门2\n",
       "6    部门2\n",
       "7    部门2\n",
       "8    部门2\n",
       "9    部门2\n",
       "Name: dept, dtype: category\n",
       "Categories (2, object): ['部门1', '部门2']"
      ]
     },
     "execution_count": 12,
     "metadata": {},
     "output_type": "execute_result"
    }
   ],
   "source": [
    "t.cat.rename_categories(['部门1','部门2']) # 改分类值。效果同上"
   ]
  },
  {
   "cell_type": "code",
   "execution_count": 14,
   "id": "4580db46-76f5-4fee-81eb-d4888f971fa7",
   "metadata": {
    "execution": {
     "iopub.execute_input": "2021-07-29T03:19:27.914003Z",
     "iopub.status.busy": "2021-07-29T03:19:27.914003Z",
     "iopub.status.idle": "2021-07-29T03:19:27.919007Z",
     "shell.execute_reply": "2021-07-29T03:19:27.919007Z",
     "shell.execute_reply.started": "2021-07-29T03:19:27.914003Z"
    },
    "tags": []
   },
   "outputs": [
    {
     "data": {
      "text/plain": [
       "0    部门1\n",
       "1    部门1\n",
       "2    部门1\n",
       "3    部门1\n",
       "4    部门1\n",
       "5    部门2\n",
       "6    部门2\n",
       "7    部门2\n",
       "8    部门2\n",
       "9    部门2\n",
       "Name: dept, dtype: category\n",
       "Categories (2, object): ['部门1', '部门2']"
      ]
     },
     "execution_count": 14,
     "metadata": {},
     "output_type": "execute_result"
    }
   ],
   "source": [
    "t.cat.rename_categories({'dept1':'部门1','dept2':'部门2'}) # 改分类值。效果同上.也可以用字段dict"
   ]
  }
 ],
 "metadata": {
  "kernelspec": {
   "display_name": "Python 3 (ipykernel)",
   "language": "python",
   "name": "python3"
  },
  "language_info": {
   "codemirror_mode": {
    "name": "ipython",
    "version": 3
   },
   "file_extension": ".py",
   "mimetype": "text/x-python",
   "name": "python",
   "nbconvert_exporter": "python",
   "pygments_lexer": "ipython3",
   "version": "3.8.10"
  }
 },
 "nbformat": 4,
 "nbformat_minor": 5
}
