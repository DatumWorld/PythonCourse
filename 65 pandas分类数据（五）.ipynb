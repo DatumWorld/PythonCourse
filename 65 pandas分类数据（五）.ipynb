{
 "cells": [
  {
   "cell_type": "markdown",
   "id": "banned-berry",
   "metadata": {
    "execution": {
     "iopub.execute_input": "2021-05-10T07:18:52.990449Z",
     "iopub.status.busy": "2021-05-10T07:18:52.990449Z",
     "iopub.status.idle": "2021-05-10T07:18:52.994464Z",
     "shell.execute_reply": "2021-05-10T07:18:52.993452Z",
     "shell.execute_reply.started": "2021-05-10T07:18:52.990449Z"
    }
   },
   "source": [
    "## 65 pandas分类数据（五）"
   ]
  },
  {
   "cell_type": "markdown",
   "id": "municipal-brick",
   "metadata": {},
   "source": [
    "### 分类数据 Categorical data （也有翻译为范畴数据）\n",
    "#### 分类数据操作：排序"
   ]
  },
  {
   "cell_type": "code",
   "execution_count": 1,
   "id": "416d534f-987e-4038-8096-0222d41f10a9",
   "metadata": {
    "execution": {
     "iopub.execute_input": "2021-07-30T05:40:52.594178Z",
     "iopub.status.busy": "2021-07-30T05:40:52.594178Z",
     "iopub.status.idle": "2021-07-30T05:40:52.893208Z",
     "shell.execute_reply": "2021-07-30T05:40:52.893208Z",
     "shell.execute_reply.started": "2021-07-30T05:40:52.594178Z"
    },
    "tags": []
   },
   "outputs": [],
   "source": [
    "import numpy  as np\n",
    "import pandas as pd\n",
    "from faker import Faker\n",
    "\n",
    "fake = Faker('zh_CN')\n",
    "df=pd.DataFrame(data=[ [fake.name()] for x in range(10) ],columns=['name'])\n",
    "\n",
    "df['销售额']=np.random.randint(100,100000,size=(10, 1))\n",
    "df['时间']=pd.date_range(start='2020-01-01',periods=10,freq='D')\n",
    "df.insert(0,'dept',['部门1']*5+['部门2']*5)\n",
    "df.insert(1,'dept1',['小部门1']*2+['小部门2']*3+['小部门3']*1+['小部门4']*4)"
   ]
  },
  {
   "cell_type": "code",
   "execution_count": 2,
   "id": "sporting-bishop",
   "metadata": {
    "execution": {
     "iopub.execute_input": "2021-07-30T05:40:52.894177Z",
     "iopub.status.busy": "2021-07-30T05:40:52.894177Z",
     "iopub.status.idle": "2021-07-30T05:40:52.909208Z",
     "shell.execute_reply": "2021-07-30T05:40:52.909208Z",
     "shell.execute_reply.started": "2021-07-30T05:40:52.894177Z"
    },
    "tags": []
   },
   "outputs": [
    {
     "data": {
      "text/html": [
       "<div>\n",
       "<style scoped>\n",
       "    .dataframe tbody tr th:only-of-type {\n",
       "        vertical-align: middle;\n",
       "    }\n",
       "\n",
       "    .dataframe tbody tr th {\n",
       "        vertical-align: top;\n",
       "    }\n",
       "\n",
       "    .dataframe thead th {\n",
       "        text-align: right;\n",
       "    }\n",
       "</style>\n",
       "<table border=\"1\" class=\"dataframe\">\n",
       "  <thead>\n",
       "    <tr style=\"text-align: right;\">\n",
       "      <th></th>\n",
       "      <th>dept</th>\n",
       "      <th>dept1</th>\n",
       "      <th>name</th>\n",
       "      <th>销售额</th>\n",
       "      <th>时间</th>\n",
       "    </tr>\n",
       "  </thead>\n",
       "  <tbody>\n",
       "    <tr>\n",
       "      <th>0</th>\n",
       "      <td>部门1</td>\n",
       "      <td>小部门1</td>\n",
       "      <td>朱东</td>\n",
       "      <td>18152</td>\n",
       "      <td>2020-01-01</td>\n",
       "    </tr>\n",
       "    <tr>\n",
       "      <th>1</th>\n",
       "      <td>部门1</td>\n",
       "      <td>小部门1</td>\n",
       "      <td>查璐</td>\n",
       "      <td>58596</td>\n",
       "      <td>2020-01-02</td>\n",
       "    </tr>\n",
       "    <tr>\n",
       "      <th>2</th>\n",
       "      <td>部门1</td>\n",
       "      <td>小部门2</td>\n",
       "      <td>杨玉英</td>\n",
       "      <td>47171</td>\n",
       "      <td>2020-01-03</td>\n",
       "    </tr>\n",
       "    <tr>\n",
       "      <th>3</th>\n",
       "      <td>部门1</td>\n",
       "      <td>小部门2</td>\n",
       "      <td>钱倩</td>\n",
       "      <td>3373</td>\n",
       "      <td>2020-01-04</td>\n",
       "    </tr>\n",
       "    <tr>\n",
       "      <th>4</th>\n",
       "      <td>部门1</td>\n",
       "      <td>小部门2</td>\n",
       "      <td>陈林</td>\n",
       "      <td>88914</td>\n",
       "      <td>2020-01-05</td>\n",
       "    </tr>\n",
       "    <tr>\n",
       "      <th>5</th>\n",
       "      <td>部门2</td>\n",
       "      <td>小部门3</td>\n",
       "      <td>陈红</td>\n",
       "      <td>34219</td>\n",
       "      <td>2020-01-06</td>\n",
       "    </tr>\n",
       "    <tr>\n",
       "      <th>6</th>\n",
       "      <td>部门2</td>\n",
       "      <td>小部门4</td>\n",
       "      <td>张建</td>\n",
       "      <td>51049</td>\n",
       "      <td>2020-01-07</td>\n",
       "    </tr>\n",
       "    <tr>\n",
       "      <th>7</th>\n",
       "      <td>部门2</td>\n",
       "      <td>小部门4</td>\n",
       "      <td>张晶</td>\n",
       "      <td>52944</td>\n",
       "      <td>2020-01-08</td>\n",
       "    </tr>\n",
       "    <tr>\n",
       "      <th>8</th>\n",
       "      <td>部门2</td>\n",
       "      <td>小部门4</td>\n",
       "      <td>钱勇</td>\n",
       "      <td>59554</td>\n",
       "      <td>2020-01-09</td>\n",
       "    </tr>\n",
       "    <tr>\n",
       "      <th>9</th>\n",
       "      <td>部门2</td>\n",
       "      <td>小部门4</td>\n",
       "      <td>谈秀华</td>\n",
       "      <td>16040</td>\n",
       "      <td>2020-01-10</td>\n",
       "    </tr>\n",
       "  </tbody>\n",
       "</table>\n",
       "</div>"
      ],
      "text/plain": [
       "  dept dept1 name    销售额         时间\n",
       "0  部门1  小部门1   朱东  18152 2020-01-01\n",
       "1  部门1  小部门1   查璐  58596 2020-01-02\n",
       "2  部门1  小部门2  杨玉英  47171 2020-01-03\n",
       "3  部门1  小部门2   钱倩   3373 2020-01-04\n",
       "4  部门1  小部门2   陈林  88914 2020-01-05\n",
       "5  部门2  小部门3   陈红  34219 2020-01-06\n",
       "6  部门2  小部门4   张建  51049 2020-01-07\n",
       "7  部门2  小部门4   张晶  52944 2020-01-08\n",
       "8  部门2  小部门4   钱勇  59554 2020-01-09\n",
       "9  部门2  小部门4  谈秀华  16040 2020-01-10"
      ]
     },
     "execution_count": 2,
     "metadata": {},
     "output_type": "execute_result"
    }
   ],
   "source": [
    "df # 随机生成的数据"
   ]
  },
  {
   "cell_type": "code",
   "execution_count": 3,
   "id": "21c1f3f2-95b4-43f1-9dcd-97c3a98a6b1a",
   "metadata": {
    "execution": {
     "iopub.execute_input": "2021-07-30T05:41:34.123180Z",
     "iopub.status.busy": "2021-07-30T05:41:34.123180Z",
     "iopub.status.idle": "2021-07-30T05:41:34.128178Z",
     "shell.execute_reply": "2021-07-30T05:41:34.128178Z",
     "shell.execute_reply.started": "2021-07-30T05:41:34.123180Z"
    },
    "tags": []
   },
   "outputs": [],
   "source": [
    "t=df.dept.astype(pd.CategoricalDtype())"
   ]
  },
  {
   "cell_type": "code",
   "execution_count": 5,
   "id": "dd307d48-7f80-495c-bab0-85bc23f752f4",
   "metadata": {
    "execution": {
     "iopub.execute_input": "2021-07-30T05:41:44.121183Z",
     "iopub.status.busy": "2021-07-30T05:41:44.119181Z",
     "iopub.status.idle": "2021-07-30T05:41:44.131186Z",
     "shell.execute_reply": "2021-07-30T05:41:44.129197Z",
     "shell.execute_reply.started": "2021-07-30T05:41:44.121183Z"
    },
    "tags": []
   },
   "outputs": [
    {
     "data": {
      "text/plain": [
       "0    部门1\n",
       "1    部门1\n",
       "2    部门1\n",
       "3    部门1\n",
       "4    部门1\n",
       "5    部门2\n",
       "6    部门2\n",
       "7    部门2\n",
       "8    部门2\n",
       "9    部门2\n",
       "Name: dept, dtype: category\n",
       "Categories (2, object): ['部门1', '部门2']"
      ]
     },
     "execution_count": 5,
     "metadata": {},
     "output_type": "execute_result"
    }
   ],
   "source": [
    "t"
   ]
  },
  {
   "cell_type": "code",
   "execution_count": 6,
   "id": "73eaeb6f-8943-447a-a0cb-3aa64e07a293",
   "metadata": {
    "execution": {
     "iopub.execute_input": "2021-07-30T05:42:07.139177Z",
     "iopub.status.busy": "2021-07-30T05:42:07.138179Z",
     "iopub.status.idle": "2021-07-30T05:42:07.146179Z",
     "shell.execute_reply": "2021-07-30T05:42:07.145187Z",
     "shell.execute_reply.started": "2021-07-30T05:42:07.139177Z"
    },
    "tags": []
   },
   "outputs": [
    {
     "data": {
      "text/plain": [
       "0    部门1\n",
       "1    部门1\n",
       "2    部门1\n",
       "3    部门1\n",
       "4    部门1\n",
       "5    部门2\n",
       "6    部门2\n",
       "7    部门2\n",
       "8    部门2\n",
       "9    部门2\n",
       "Name: dept, dtype: category\n",
       "Categories (2, object): ['部门1' < '部门2']"
      ]
     },
     "execution_count": 6,
     "metadata": {},
     "output_type": "execute_result"
    }
   ],
   "source": [
    "t.cat.as_ordered() # 调整为 分类有序"
   ]
  },
  {
   "cell_type": "code",
   "execution_count": 7,
   "id": "de1b5fea-918d-4b79-878e-aa3f96c6c075",
   "metadata": {
    "execution": {
     "iopub.execute_input": "2021-07-30T05:42:43.131177Z",
     "iopub.status.busy": "2021-07-30T05:42:43.131177Z",
     "iopub.status.idle": "2021-07-30T05:42:43.141181Z",
     "shell.execute_reply": "2021-07-30T05:42:43.140179Z",
     "shell.execute_reply.started": "2021-07-30T05:42:43.131177Z"
    },
    "tags": []
   },
   "outputs": [
    {
     "data": {
      "text/plain": [
       "0    部门1\n",
       "1    部门1\n",
       "2    部门1\n",
       "3    部门1\n",
       "4    部门1\n",
       "5    部门2\n",
       "6    部门2\n",
       "7    部门2\n",
       "8    部门2\n",
       "9    部门2\n",
       "Name: dept, dtype: category\n",
       "Categories (2, object): ['部门1', '部门2']"
      ]
     },
     "execution_count": 7,
     "metadata": {},
     "output_type": "execute_result"
    }
   ],
   "source": [
    "t.cat.as_unordered() # 调整为 分类无序"
   ]
  },
  {
   "cell_type": "code",
   "execution_count": 8,
   "id": "acec0539-def4-40ee-a598-3136bb75d69e",
   "metadata": {
    "execution": {
     "iopub.execute_input": "2021-07-30T05:43:15.395177Z",
     "iopub.status.busy": "2021-07-30T05:43:15.395177Z",
     "iopub.status.idle": "2021-07-30T05:43:15.404182Z",
     "shell.execute_reply": "2021-07-30T05:43:15.402179Z",
     "shell.execute_reply.started": "2021-07-30T05:43:15.395177Z"
    },
    "tags": []
   },
   "outputs": [
    {
     "data": {
      "text/plain": [
       "0    部门1\n",
       "1    部门1\n",
       "2    部门1\n",
       "3    部门1\n",
       "4    部门1\n",
       "5    部门2\n",
       "6    部门2\n",
       "7    部门2\n",
       "8    部门2\n",
       "9    部门2\n",
       "Name: dept, dtype: category\n",
       "Categories (2, object): ['部门1', '部门2']"
      ]
     },
     "execution_count": 8,
     "metadata": {},
     "output_type": "execute_result"
    }
   ],
   "source": [
    "t.sort_values()"
   ]
  },
  {
   "cell_type": "code",
   "execution_count": 12,
   "id": "5457d1b2-32e5-4f4d-a4e5-9d7d189af340",
   "metadata": {
    "execution": {
     "iopub.execute_input": "2021-07-30T05:44:48.989176Z",
     "iopub.status.busy": "2021-07-30T05:44:48.989176Z",
     "iopub.status.idle": "2021-07-30T05:44:48.992179Z",
     "shell.execute_reply": "2021-07-30T05:44:48.992179Z",
     "shell.execute_reply.started": "2021-07-30T05:44:48.989176Z"
    },
    "tags": []
   },
   "outputs": [],
   "source": [
    "t=t.cat.reorder_categories(['部门2', '部门1'],ordered=True) #调整分类数据 的殊顺序"
   ]
  },
  {
   "cell_type": "code",
   "execution_count": 13,
   "id": "2a336732-a02c-4918-a38a-51b8a196eac0",
   "metadata": {
    "execution": {
     "iopub.execute_input": "2021-07-30T05:44:51.705178Z",
     "iopub.status.busy": "2021-07-30T05:44:51.705178Z",
     "iopub.status.idle": "2021-07-30T05:44:51.710182Z",
     "shell.execute_reply": "2021-07-30T05:44:51.710182Z",
     "shell.execute_reply.started": "2021-07-30T05:44:51.705178Z"
    },
    "tags": []
   },
   "outputs": [
    {
     "data": {
      "text/plain": [
       "0    部门1\n",
       "1    部门1\n",
       "2    部门1\n",
       "3    部门1\n",
       "4    部门1\n",
       "5    部门2\n",
       "6    部门2\n",
       "7    部门2\n",
       "8    部门2\n",
       "9    部门2\n",
       "Name: dept, dtype: category\n",
       "Categories (2, object): ['部门2' < '部门1']"
      ]
     },
     "execution_count": 13,
     "metadata": {},
     "output_type": "execute_result"
    }
   ],
   "source": [
    "t"
   ]
  },
  {
   "cell_type": "code",
   "execution_count": 14,
   "id": "51af935e-f7e1-4b48-b051-bbc7f9597b41",
   "metadata": {
    "execution": {
     "iopub.execute_input": "2021-07-30T05:45:06.037177Z",
     "iopub.status.busy": "2021-07-30T05:45:06.037177Z",
     "iopub.status.idle": "2021-07-30T05:45:06.042178Z",
     "shell.execute_reply": "2021-07-30T05:45:06.042178Z",
     "shell.execute_reply.started": "2021-07-30T05:45:06.037177Z"
    },
    "tags": []
   },
   "outputs": [
    {
     "data": {
      "text/plain": [
       "5    部门2\n",
       "6    部门2\n",
       "7    部门2\n",
       "8    部门2\n",
       "9    部门2\n",
       "0    部门1\n",
       "1    部门1\n",
       "2    部门1\n",
       "3    部门1\n",
       "4    部门1\n",
       "Name: dept, dtype: category\n",
       "Categories (2, object): ['部门2' < '部门1']"
      ]
     },
     "execution_count": 14,
     "metadata": {},
     "output_type": "execute_result"
    }
   ],
   "source": [
    "t.sort_values() # 调整后 按照 分类数据顺序排序。对照区别。不再是字典排序"
   ]
  },
  {
   "cell_type": "code",
   "execution_count": 18,
   "id": "c9545686-c496-4cdd-8f1e-47709bde96fa",
   "metadata": {
    "execution": {
     "iopub.execute_input": "2021-07-30T05:47:22.751177Z",
     "iopub.status.busy": "2021-07-30T05:47:22.750176Z",
     "iopub.status.idle": "2021-07-30T05:47:22.760183Z",
     "shell.execute_reply": "2021-07-30T05:47:22.760183Z",
     "shell.execute_reply.started": "2021-07-30T05:47:22.751177Z"
    },
    "tags": []
   },
   "outputs": [
    {
     "data": {
      "text/html": [
       "<div>\n",
       "<style scoped>\n",
       "    .dataframe tbody tr th:only-of-type {\n",
       "        vertical-align: middle;\n",
       "    }\n",
       "\n",
       "    .dataframe tbody tr th {\n",
       "        vertical-align: top;\n",
       "    }\n",
       "\n",
       "    .dataframe thead th {\n",
       "        text-align: right;\n",
       "    }\n",
       "</style>\n",
       "<table border=\"1\" class=\"dataframe\">\n",
       "  <thead>\n",
       "    <tr style=\"text-align: right;\">\n",
       "      <th></th>\n",
       "      <th>dept</th>\n",
       "      <th>dept1</th>\n",
       "      <th>name</th>\n",
       "      <th>销售额</th>\n",
       "      <th>时间</th>\n",
       "    </tr>\n",
       "  </thead>\n",
       "  <tbody>\n",
       "    <tr>\n",
       "      <th>0</th>\n",
       "      <td>部门1</td>\n",
       "      <td>小部门1</td>\n",
       "      <td>朱东</td>\n",
       "      <td>18152</td>\n",
       "      <td>2020-01-01</td>\n",
       "    </tr>\n",
       "    <tr>\n",
       "      <th>1</th>\n",
       "      <td>部门1</td>\n",
       "      <td>小部门1</td>\n",
       "      <td>查璐</td>\n",
       "      <td>58596</td>\n",
       "      <td>2020-01-02</td>\n",
       "    </tr>\n",
       "    <tr>\n",
       "      <th>2</th>\n",
       "      <td>部门1</td>\n",
       "      <td>小部门2</td>\n",
       "      <td>杨玉英</td>\n",
       "      <td>47171</td>\n",
       "      <td>2020-01-03</td>\n",
       "    </tr>\n",
       "    <tr>\n",
       "      <th>3</th>\n",
       "      <td>部门1</td>\n",
       "      <td>小部门2</td>\n",
       "      <td>钱倩</td>\n",
       "      <td>3373</td>\n",
       "      <td>2020-01-04</td>\n",
       "    </tr>\n",
       "    <tr>\n",
       "      <th>4</th>\n",
       "      <td>部门1</td>\n",
       "      <td>小部门2</td>\n",
       "      <td>陈林</td>\n",
       "      <td>88914</td>\n",
       "      <td>2020-01-05</td>\n",
       "    </tr>\n",
       "    <tr>\n",
       "      <th>5</th>\n",
       "      <td>部门2</td>\n",
       "      <td>小部门3</td>\n",
       "      <td>陈红</td>\n",
       "      <td>34219</td>\n",
       "      <td>2020-01-06</td>\n",
       "    </tr>\n",
       "    <tr>\n",
       "      <th>6</th>\n",
       "      <td>部门2</td>\n",
       "      <td>小部门4</td>\n",
       "      <td>张建</td>\n",
       "      <td>51049</td>\n",
       "      <td>2020-01-07</td>\n",
       "    </tr>\n",
       "    <tr>\n",
       "      <th>7</th>\n",
       "      <td>部门2</td>\n",
       "      <td>小部门4</td>\n",
       "      <td>张晶</td>\n",
       "      <td>52944</td>\n",
       "      <td>2020-01-08</td>\n",
       "    </tr>\n",
       "    <tr>\n",
       "      <th>8</th>\n",
       "      <td>部门2</td>\n",
       "      <td>小部门4</td>\n",
       "      <td>钱勇</td>\n",
       "      <td>59554</td>\n",
       "      <td>2020-01-09</td>\n",
       "    </tr>\n",
       "    <tr>\n",
       "      <th>9</th>\n",
       "      <td>部门2</td>\n",
       "      <td>小部门4</td>\n",
       "      <td>谈秀华</td>\n",
       "      <td>16040</td>\n",
       "      <td>2020-01-10</td>\n",
       "    </tr>\n",
       "  </tbody>\n",
       "</table>\n",
       "</div>"
      ],
      "text/plain": [
       "  dept dept1 name    销售额         时间\n",
       "0  部门1  小部门1   朱东  18152 2020-01-01\n",
       "1  部门1  小部门1   查璐  58596 2020-01-02\n",
       "2  部门1  小部门2  杨玉英  47171 2020-01-03\n",
       "3  部门1  小部门2   钱倩   3373 2020-01-04\n",
       "4  部门1  小部门2   陈林  88914 2020-01-05\n",
       "5  部门2  小部门3   陈红  34219 2020-01-06\n",
       "6  部门2  小部门4   张建  51049 2020-01-07\n",
       "7  部门2  小部门4   张晶  52944 2020-01-08\n",
       "8  部门2  小部门4   钱勇  59554 2020-01-09\n",
       "9  部门2  小部门4  谈秀华  16040 2020-01-10"
      ]
     },
     "execution_count": 18,
     "metadata": {},
     "output_type": "execute_result"
    }
   ],
   "source": [
    "df"
   ]
  },
  {
   "cell_type": "code",
   "execution_count": 16,
   "id": "a46072b9-f20a-4053-9166-88c075a4fc9e",
   "metadata": {
    "execution": {
     "iopub.execute_input": "2021-07-30T05:47:03.474179Z",
     "iopub.status.busy": "2021-07-30T05:47:03.474179Z",
     "iopub.status.idle": "2021-07-30T05:47:03.480179Z",
     "shell.execute_reply": "2021-07-30T05:47:03.480179Z",
     "shell.execute_reply.started": "2021-07-30T05:47:03.474179Z"
    },
    "tags": []
   },
   "outputs": [],
   "source": [
    "df.dept= df.dept.astype(pd.CategoricalDtype())"
   ]
  },
  {
   "cell_type": "code",
   "execution_count": 17,
   "id": "32a784de-f66e-4460-bde7-2006656f1b98",
   "metadata": {
    "execution": {
     "iopub.execute_input": "2021-07-30T05:47:18.888178Z",
     "iopub.status.busy": "2021-07-30T05:47:18.887176Z",
     "iopub.status.idle": "2021-07-30T05:47:18.891209Z",
     "shell.execute_reply": "2021-07-30T05:47:18.891209Z",
     "shell.execute_reply.started": "2021-07-30T05:47:18.888178Z"
    },
    "tags": []
   },
   "outputs": [],
   "source": [
    "df.dept1= df.dept1.astype(pd.CategoricalDtype())"
   ]
  },
  {
   "cell_type": "code",
   "execution_count": 20,
   "id": "16051105-cab4-4c25-aa56-b74feb8feb09",
   "metadata": {
    "execution": {
     "iopub.execute_input": "2021-07-30T05:48:09.785179Z",
     "iopub.status.busy": "2021-07-30T05:48:09.785179Z",
     "iopub.status.idle": "2021-07-30T05:48:09.808181Z",
     "shell.execute_reply": "2021-07-30T05:48:09.807212Z",
     "shell.execute_reply.started": "2021-07-30T05:48:09.785179Z"
    },
    "tags": []
   },
   "outputs": [
    {
     "data": {
      "text/html": [
       "<div>\n",
       "<style scoped>\n",
       "    .dataframe tbody tr th:only-of-type {\n",
       "        vertical-align: middle;\n",
       "    }\n",
       "\n",
       "    .dataframe tbody tr th {\n",
       "        vertical-align: top;\n",
       "    }\n",
       "\n",
       "    .dataframe thead th {\n",
       "        text-align: right;\n",
       "    }\n",
       "</style>\n",
       "<table border=\"1\" class=\"dataframe\">\n",
       "  <thead>\n",
       "    <tr style=\"text-align: right;\">\n",
       "      <th></th>\n",
       "      <th>dept</th>\n",
       "      <th>dept1</th>\n",
       "      <th>name</th>\n",
       "      <th>销售额</th>\n",
       "      <th>时间</th>\n",
       "    </tr>\n",
       "  </thead>\n",
       "  <tbody>\n",
       "    <tr>\n",
       "      <th>0</th>\n",
       "      <td>部门1</td>\n",
       "      <td>小部门1</td>\n",
       "      <td>朱东</td>\n",
       "      <td>18152</td>\n",
       "      <td>2020-01-01</td>\n",
       "    </tr>\n",
       "    <tr>\n",
       "      <th>1</th>\n",
       "      <td>部门1</td>\n",
       "      <td>小部门1</td>\n",
       "      <td>查璐</td>\n",
       "      <td>58596</td>\n",
       "      <td>2020-01-02</td>\n",
       "    </tr>\n",
       "    <tr>\n",
       "      <th>2</th>\n",
       "      <td>部门1</td>\n",
       "      <td>小部门2</td>\n",
       "      <td>杨玉英</td>\n",
       "      <td>47171</td>\n",
       "      <td>2020-01-03</td>\n",
       "    </tr>\n",
       "    <tr>\n",
       "      <th>3</th>\n",
       "      <td>部门1</td>\n",
       "      <td>小部门2</td>\n",
       "      <td>钱倩</td>\n",
       "      <td>3373</td>\n",
       "      <td>2020-01-04</td>\n",
       "    </tr>\n",
       "    <tr>\n",
       "      <th>4</th>\n",
       "      <td>部门1</td>\n",
       "      <td>小部门2</td>\n",
       "      <td>陈林</td>\n",
       "      <td>88914</td>\n",
       "      <td>2020-01-05</td>\n",
       "    </tr>\n",
       "    <tr>\n",
       "      <th>5</th>\n",
       "      <td>部门2</td>\n",
       "      <td>小部门3</td>\n",
       "      <td>陈红</td>\n",
       "      <td>34219</td>\n",
       "      <td>2020-01-06</td>\n",
       "    </tr>\n",
       "    <tr>\n",
       "      <th>6</th>\n",
       "      <td>部门2</td>\n",
       "      <td>小部门4</td>\n",
       "      <td>张建</td>\n",
       "      <td>51049</td>\n",
       "      <td>2020-01-07</td>\n",
       "    </tr>\n",
       "    <tr>\n",
       "      <th>7</th>\n",
       "      <td>部门2</td>\n",
       "      <td>小部门4</td>\n",
       "      <td>张晶</td>\n",
       "      <td>52944</td>\n",
       "      <td>2020-01-08</td>\n",
       "    </tr>\n",
       "    <tr>\n",
       "      <th>8</th>\n",
       "      <td>部门2</td>\n",
       "      <td>小部门4</td>\n",
       "      <td>钱勇</td>\n",
       "      <td>59554</td>\n",
       "      <td>2020-01-09</td>\n",
       "    </tr>\n",
       "    <tr>\n",
       "      <th>9</th>\n",
       "      <td>部门2</td>\n",
       "      <td>小部门4</td>\n",
       "      <td>谈秀华</td>\n",
       "      <td>16040</td>\n",
       "      <td>2020-01-10</td>\n",
       "    </tr>\n",
       "  </tbody>\n",
       "</table>\n",
       "</div>"
      ],
      "text/plain": [
       "  dept dept1 name    销售额         时间\n",
       "0  部门1  小部门1   朱东  18152 2020-01-01\n",
       "1  部门1  小部门1   查璐  58596 2020-01-02\n",
       "2  部门1  小部门2  杨玉英  47171 2020-01-03\n",
       "3  部门1  小部门2   钱倩   3373 2020-01-04\n",
       "4  部门1  小部门2   陈林  88914 2020-01-05\n",
       "5  部门2  小部门3   陈红  34219 2020-01-06\n",
       "6  部门2  小部门4   张建  51049 2020-01-07\n",
       "7  部门2  小部门4   张晶  52944 2020-01-08\n",
       "8  部门2  小部门4   钱勇  59554 2020-01-09\n",
       "9  部门2  小部门4  谈秀华  16040 2020-01-10"
      ]
     },
     "execution_count": 20,
     "metadata": {},
     "output_type": "execute_result"
    }
   ],
   "source": [
    "df.sort_values(by=['dept','dept1']) # 原始字典排序"
   ]
  },
  {
   "cell_type": "code",
   "execution_count": 21,
   "id": "d3021180-c9c3-4dfe-91de-fd2abeb46517",
   "metadata": {
    "execution": {
     "iopub.execute_input": "2021-07-30T05:49:30.077183Z",
     "iopub.status.busy": "2021-07-30T05:49:30.076181Z",
     "iopub.status.idle": "2021-07-30T05:49:30.082178Z",
     "shell.execute_reply": "2021-07-30T05:49:30.082178Z",
     "shell.execute_reply.started": "2021-07-30T05:49:30.077183Z"
    },
    "tags": []
   },
   "outputs": [],
   "source": [
    "df.dept= df.dept.cat.reorder_categories(['部门2','部门1'],ordered=True)"
   ]
  },
  {
   "cell_type": "code",
   "execution_count": 22,
   "id": "b7a5fc4e-92a3-4f75-a08c-6969b4808ba5",
   "metadata": {
    "execution": {
     "iopub.execute_input": "2021-07-30T05:49:40.800177Z",
     "iopub.status.busy": "2021-07-30T05:49:40.799177Z",
     "iopub.status.idle": "2021-07-30T05:49:40.805211Z",
     "shell.execute_reply": "2021-07-30T05:49:40.805211Z",
     "shell.execute_reply.started": "2021-07-30T05:49:40.800177Z"
    },
    "tags": []
   },
   "outputs": [
    {
     "data": {
      "text/plain": [
       "0    部门1\n",
       "1    部门1\n",
       "2    部门1\n",
       "3    部门1\n",
       "4    部门1\n",
       "5    部门2\n",
       "6    部门2\n",
       "7    部门2\n",
       "8    部门2\n",
       "9    部门2\n",
       "Name: dept, dtype: category\n",
       "Categories (2, object): ['部门2' < '部门1']"
      ]
     },
     "execution_count": 22,
     "metadata": {},
     "output_type": "execute_result"
    }
   ],
   "source": [
    "df.dept # 分类数据顺序改变"
   ]
  },
  {
   "cell_type": "code",
   "execution_count": 23,
   "id": "0d8753e4-4164-4bc3-9497-07d3ab6ed600",
   "metadata": {
    "execution": {
     "iopub.execute_input": "2021-07-30T05:50:08.432177Z",
     "iopub.status.busy": "2021-07-30T05:50:08.432177Z",
     "iopub.status.idle": "2021-07-30T05:50:08.446183Z",
     "shell.execute_reply": "2021-07-30T05:50:08.444203Z",
     "shell.execute_reply.started": "2021-07-30T05:50:08.432177Z"
    },
    "tags": []
   },
   "outputs": [
    {
     "data": {
      "text/html": [
       "<div>\n",
       "<style scoped>\n",
       "    .dataframe tbody tr th:only-of-type {\n",
       "        vertical-align: middle;\n",
       "    }\n",
       "\n",
       "    .dataframe tbody tr th {\n",
       "        vertical-align: top;\n",
       "    }\n",
       "\n",
       "    .dataframe thead th {\n",
       "        text-align: right;\n",
       "    }\n",
       "</style>\n",
       "<table border=\"1\" class=\"dataframe\">\n",
       "  <thead>\n",
       "    <tr style=\"text-align: right;\">\n",
       "      <th></th>\n",
       "      <th>dept</th>\n",
       "      <th>dept1</th>\n",
       "      <th>name</th>\n",
       "      <th>销售额</th>\n",
       "      <th>时间</th>\n",
       "    </tr>\n",
       "  </thead>\n",
       "  <tbody>\n",
       "    <tr>\n",
       "      <th>5</th>\n",
       "      <td>部门2</td>\n",
       "      <td>小部门3</td>\n",
       "      <td>陈红</td>\n",
       "      <td>34219</td>\n",
       "      <td>2020-01-06</td>\n",
       "    </tr>\n",
       "    <tr>\n",
       "      <th>6</th>\n",
       "      <td>部门2</td>\n",
       "      <td>小部门4</td>\n",
       "      <td>张建</td>\n",
       "      <td>51049</td>\n",
       "      <td>2020-01-07</td>\n",
       "    </tr>\n",
       "    <tr>\n",
       "      <th>7</th>\n",
       "      <td>部门2</td>\n",
       "      <td>小部门4</td>\n",
       "      <td>张晶</td>\n",
       "      <td>52944</td>\n",
       "      <td>2020-01-08</td>\n",
       "    </tr>\n",
       "    <tr>\n",
       "      <th>8</th>\n",
       "      <td>部门2</td>\n",
       "      <td>小部门4</td>\n",
       "      <td>钱勇</td>\n",
       "      <td>59554</td>\n",
       "      <td>2020-01-09</td>\n",
       "    </tr>\n",
       "    <tr>\n",
       "      <th>9</th>\n",
       "      <td>部门2</td>\n",
       "      <td>小部门4</td>\n",
       "      <td>谈秀华</td>\n",
       "      <td>16040</td>\n",
       "      <td>2020-01-10</td>\n",
       "    </tr>\n",
       "    <tr>\n",
       "      <th>0</th>\n",
       "      <td>部门1</td>\n",
       "      <td>小部门1</td>\n",
       "      <td>朱东</td>\n",
       "      <td>18152</td>\n",
       "      <td>2020-01-01</td>\n",
       "    </tr>\n",
       "    <tr>\n",
       "      <th>1</th>\n",
       "      <td>部门1</td>\n",
       "      <td>小部门1</td>\n",
       "      <td>查璐</td>\n",
       "      <td>58596</td>\n",
       "      <td>2020-01-02</td>\n",
       "    </tr>\n",
       "    <tr>\n",
       "      <th>2</th>\n",
       "      <td>部门1</td>\n",
       "      <td>小部门2</td>\n",
       "      <td>杨玉英</td>\n",
       "      <td>47171</td>\n",
       "      <td>2020-01-03</td>\n",
       "    </tr>\n",
       "    <tr>\n",
       "      <th>3</th>\n",
       "      <td>部门1</td>\n",
       "      <td>小部门2</td>\n",
       "      <td>钱倩</td>\n",
       "      <td>3373</td>\n",
       "      <td>2020-01-04</td>\n",
       "    </tr>\n",
       "    <tr>\n",
       "      <th>4</th>\n",
       "      <td>部门1</td>\n",
       "      <td>小部门2</td>\n",
       "      <td>陈林</td>\n",
       "      <td>88914</td>\n",
       "      <td>2020-01-05</td>\n",
       "    </tr>\n",
       "  </tbody>\n",
       "</table>\n",
       "</div>"
      ],
      "text/plain": [
       "  dept dept1 name    销售额         时间\n",
       "5  部门2  小部门3   陈红  34219 2020-01-06\n",
       "6  部门2  小部门4   张建  51049 2020-01-07\n",
       "7  部门2  小部门4   张晶  52944 2020-01-08\n",
       "8  部门2  小部门4   钱勇  59554 2020-01-09\n",
       "9  部门2  小部门4  谈秀华  16040 2020-01-10\n",
       "0  部门1  小部门1   朱东  18152 2020-01-01\n",
       "1  部门1  小部门1   查璐  58596 2020-01-02\n",
       "2  部门1  小部门2  杨玉英  47171 2020-01-03\n",
       "3  部门1  小部门2   钱倩   3373 2020-01-04\n",
       "4  部门1  小部门2   陈林  88914 2020-01-05"
      ]
     },
     "execution_count": 23,
     "metadata": {},
     "output_type": "execute_result"
    }
   ],
   "source": [
    "df.sort_values(by=['dept','dept1']) # 排序发生变化，dept列按照dept 分类数据顺序"
   ]
  }
 ],
 "metadata": {
  "kernelspec": {
   "display_name": "Python 3 (ipykernel)",
   "language": "python",
   "name": "python3"
  },
  "language_info": {
   "codemirror_mode": {
    "name": "ipython",
    "version": 3
   },
   "file_extension": ".py",
   "mimetype": "text/x-python",
   "name": "python",
   "nbconvert_exporter": "python",
   "pygments_lexer": "ipython3",
   "version": "3.8.10"
  }
 },
 "nbformat": 4,
 "nbformat_minor": 5
}
