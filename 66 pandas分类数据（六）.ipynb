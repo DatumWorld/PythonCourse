{
 "cells": [
  {
   "cell_type": "markdown",
   "id": "banned-berry",
   "metadata": {
    "execution": {
     "iopub.execute_input": "2021-05-10T07:18:52.990449Z",
     "iopub.status.busy": "2021-05-10T07:18:52.990449Z",
     "iopub.status.idle": "2021-05-10T07:18:52.994464Z",
     "shell.execute_reply": "2021-05-10T07:18:52.993452Z",
     "shell.execute_reply.started": "2021-05-10T07:18:52.990449Z"
    }
   },
   "source": [
    "## 66 pandas分类数据（六）"
   ]
  },
  {
   "cell_type": "markdown",
   "id": "municipal-brick",
   "metadata": {},
   "source": [
    "### 分类数据 Categorical data （也有翻译为范畴数据）\n",
    "#### 分类数据操作：比较"
   ]
  },
  {
   "cell_type": "code",
   "execution_count": 1,
   "id": "416d534f-987e-4038-8096-0222d41f10a9",
   "metadata": {
    "execution": {
     "iopub.execute_input": "2021-08-02T06:08:58.031842Z",
     "iopub.status.busy": "2021-08-02T06:08:58.030829Z",
     "iopub.status.idle": "2021-08-02T06:08:58.341836Z",
     "shell.execute_reply": "2021-08-02T06:08:58.341836Z",
     "shell.execute_reply.started": "2021-08-02T06:08:58.030829Z"
    },
    "tags": []
   },
   "outputs": [],
   "source": [
    "import numpy  as np\n",
    "import pandas as pd\n",
    "from faker import Faker\n",
    "\n",
    "fake = Faker('zh_CN')\n",
    "df=pd.DataFrame(data=[ [fake.name()] for x in range(10) ],columns=['name'])\n",
    "\n",
    "df['销售额']=np.random.randint(100,100000,size=(10, 1))\n",
    "df['时间']=pd.date_range(start='2020-01-01',periods=10,freq='D')\n",
    "df.insert(0,'dept',['部门1']*5+['部门2']*5)\n",
    "df.insert(1,'dept1',['小部门1']*2+['小部门2']*3+['小部门3']*1+['小部门4']*4)"
   ]
  },
  {
   "cell_type": "code",
   "execution_count": 2,
   "id": "sporting-bishop",
   "metadata": {
    "execution": {
     "iopub.execute_input": "2021-08-02T06:08:58.342806Z",
     "iopub.status.busy": "2021-08-02T06:08:58.342806Z",
     "iopub.status.idle": "2021-08-02T06:08:58.354831Z",
     "shell.execute_reply": "2021-08-02T06:08:58.354831Z",
     "shell.execute_reply.started": "2021-08-02T06:08:58.342806Z"
    },
    "tags": []
   },
   "outputs": [
    {
     "data": {
      "text/html": [
       "<div>\n",
       "<style scoped>\n",
       "    .dataframe tbody tr th:only-of-type {\n",
       "        vertical-align: middle;\n",
       "    }\n",
       "\n",
       "    .dataframe tbody tr th {\n",
       "        vertical-align: top;\n",
       "    }\n",
       "\n",
       "    .dataframe thead th {\n",
       "        text-align: right;\n",
       "    }\n",
       "</style>\n",
       "<table border=\"1\" class=\"dataframe\">\n",
       "  <thead>\n",
       "    <tr style=\"text-align: right;\">\n",
       "      <th></th>\n",
       "      <th>dept</th>\n",
       "      <th>dept1</th>\n",
       "      <th>name</th>\n",
       "      <th>销售额</th>\n",
       "      <th>时间</th>\n",
       "    </tr>\n",
       "  </thead>\n",
       "  <tbody>\n",
       "    <tr>\n",
       "      <th>0</th>\n",
       "      <td>部门1</td>\n",
       "      <td>小部门1</td>\n",
       "      <td>李玲</td>\n",
       "      <td>99343</td>\n",
       "      <td>2020-01-01</td>\n",
       "    </tr>\n",
       "    <tr>\n",
       "      <th>1</th>\n",
       "      <td>部门1</td>\n",
       "      <td>小部门1</td>\n",
       "      <td>毛杨</td>\n",
       "      <td>13570</td>\n",
       "      <td>2020-01-02</td>\n",
       "    </tr>\n",
       "    <tr>\n",
       "      <th>2</th>\n",
       "      <td>部门1</td>\n",
       "      <td>小部门2</td>\n",
       "      <td>叶磊</td>\n",
       "      <td>27652</td>\n",
       "      <td>2020-01-03</td>\n",
       "    </tr>\n",
       "    <tr>\n",
       "      <th>3</th>\n",
       "      <td>部门1</td>\n",
       "      <td>小部门2</td>\n",
       "      <td>杨杨</td>\n",
       "      <td>18342</td>\n",
       "      <td>2020-01-04</td>\n",
       "    </tr>\n",
       "    <tr>\n",
       "      <th>4</th>\n",
       "      <td>部门1</td>\n",
       "      <td>小部门2</td>\n",
       "      <td>黄丽</td>\n",
       "      <td>72458</td>\n",
       "      <td>2020-01-05</td>\n",
       "    </tr>\n",
       "    <tr>\n",
       "      <th>5</th>\n",
       "      <td>部门2</td>\n",
       "      <td>小部门3</td>\n",
       "      <td>张婷</td>\n",
       "      <td>68941</td>\n",
       "      <td>2020-01-06</td>\n",
       "    </tr>\n",
       "    <tr>\n",
       "      <th>6</th>\n",
       "      <td>部门2</td>\n",
       "      <td>小部门4</td>\n",
       "      <td>罗丹</td>\n",
       "      <td>24683</td>\n",
       "      <td>2020-01-07</td>\n",
       "    </tr>\n",
       "    <tr>\n",
       "      <th>7</th>\n",
       "      <td>部门2</td>\n",
       "      <td>小部门4</td>\n",
       "      <td>王桂芝</td>\n",
       "      <td>9588</td>\n",
       "      <td>2020-01-08</td>\n",
       "    </tr>\n",
       "    <tr>\n",
       "      <th>8</th>\n",
       "      <td>部门2</td>\n",
       "      <td>小部门4</td>\n",
       "      <td>杨小红</td>\n",
       "      <td>12822</td>\n",
       "      <td>2020-01-09</td>\n",
       "    </tr>\n",
       "    <tr>\n",
       "      <th>9</th>\n",
       "      <td>部门2</td>\n",
       "      <td>小部门4</td>\n",
       "      <td>张琳</td>\n",
       "      <td>64382</td>\n",
       "      <td>2020-01-10</td>\n",
       "    </tr>\n",
       "  </tbody>\n",
       "</table>\n",
       "</div>"
      ],
      "text/plain": [
       "  dept dept1 name    销售额         时间\n",
       "0  部门1  小部门1   李玲  99343 2020-01-01\n",
       "1  部门1  小部门1   毛杨  13570 2020-01-02\n",
       "2  部门1  小部门2   叶磊  27652 2020-01-03\n",
       "3  部门1  小部门2   杨杨  18342 2020-01-04\n",
       "4  部门1  小部门2   黄丽  72458 2020-01-05\n",
       "5  部门2  小部门3   张婷  68941 2020-01-06\n",
       "6  部门2  小部门4   罗丹  24683 2020-01-07\n",
       "7  部门2  小部门4  王桂芝   9588 2020-01-08\n",
       "8  部门2  小部门4  杨小红  12822 2020-01-09\n",
       "9  部门2  小部门4   张琳  64382 2020-01-10"
      ]
     },
     "execution_count": 2,
     "metadata": {},
     "output_type": "execute_result"
    }
   ],
   "source": [
    "df # 随机生成的数据"
   ]
  },
  {
   "cell_type": "code",
   "execution_count": 4,
   "id": "12c552f6-d54b-4fe8-9317-ace4d31d666e",
   "metadata": {
    "execution": {
     "iopub.execute_input": "2021-08-02T06:10:16.455806Z",
     "iopub.status.busy": "2021-08-02T06:10:16.454807Z",
     "iopub.status.idle": "2021-08-02T06:10:16.459805Z",
     "shell.execute_reply": "2021-08-02T06:10:16.459805Z",
     "shell.execute_reply.started": "2021-08-02T06:10:16.455806Z"
    },
    "tags": []
   },
   "outputs": [],
   "source": [
    "t=df.dept.astype(pd.CategoricalDtype())"
   ]
  },
  {
   "cell_type": "code",
   "execution_count": 5,
   "id": "a73a240c-faf9-47ff-b163-28a9b7bae443",
   "metadata": {
    "execution": {
     "iopub.execute_input": "2021-08-02T06:10:20.888806Z",
     "iopub.status.busy": "2021-08-02T06:10:20.888806Z",
     "iopub.status.idle": "2021-08-02T06:10:20.895812Z",
     "shell.execute_reply": "2021-08-02T06:10:20.894806Z",
     "shell.execute_reply.started": "2021-08-02T06:10:20.888806Z"
    },
    "tags": []
   },
   "outputs": [
    {
     "data": {
      "text/plain": [
       "0    部门1\n",
       "1    部门1\n",
       "2    部门1\n",
       "3    部门1\n",
       "4    部门1\n",
       "5    部门2\n",
       "6    部门2\n",
       "7    部门2\n",
       "8    部门2\n",
       "9    部门2\n",
       "Name: dept, dtype: category\n",
       "Categories (2, object): ['部门1', '部门2']"
      ]
     },
     "execution_count": 5,
     "metadata": {},
     "output_type": "execute_result"
    }
   ],
   "source": [
    "t"
   ]
  },
  {
   "cell_type": "code",
   "execution_count": 6,
   "id": "cfa251c3-11a7-400b-90b2-9e855a2c917b",
   "metadata": {
    "execution": {
     "iopub.execute_input": "2021-08-02T06:10:36.375806Z",
     "iopub.status.busy": "2021-08-02T06:10:36.374839Z",
     "iopub.status.idle": "2021-08-02T06:10:36.378805Z",
     "shell.execute_reply": "2021-08-02T06:10:36.378805Z",
     "shell.execute_reply.started": "2021-08-02T06:10:36.375806Z"
    },
    "tags": []
   },
   "outputs": [],
   "source": [
    "t2=t"
   ]
  },
  {
   "cell_type": "code",
   "execution_count": 7,
   "id": "393e0898-708e-4c3a-bf27-34da40350af2",
   "metadata": {
    "execution": {
     "iopub.execute_input": "2021-08-02T06:10:44.779805Z",
     "iopub.status.busy": "2021-08-02T06:10:44.778806Z",
     "iopub.status.idle": "2021-08-02T06:10:44.784806Z",
     "shell.execute_reply": "2021-08-02T06:10:44.784806Z",
     "shell.execute_reply.started": "2021-08-02T06:10:44.779805Z"
    },
    "tags": []
   },
   "outputs": [
    {
     "data": {
      "text/plain": [
       "0    True\n",
       "1    True\n",
       "2    True\n",
       "3    True\n",
       "4    True\n",
       "5    True\n",
       "6    True\n",
       "7    True\n",
       "8    True\n",
       "9    True\n",
       "Name: dept, dtype: bool"
      ]
     },
     "execution_count": 7,
     "metadata": {},
     "output_type": "execute_result"
    }
   ],
   "source": [
    "t2==t # ==比较"
   ]
  },
  {
   "cell_type": "code",
   "execution_count": 9,
   "id": "24eb208a-637d-4736-bfb1-aa1090e49683",
   "metadata": {
    "execution": {
     "iopub.execute_input": "2021-08-02T06:12:06.407807Z",
     "iopub.status.busy": "2021-08-02T06:12:06.407807Z",
     "iopub.status.idle": "2021-08-02T06:12:06.416805Z",
     "shell.execute_reply": "2021-08-02T06:12:06.416805Z",
     "shell.execute_reply.started": "2021-08-02T06:12:06.407807Z"
    },
    "tags": []
   },
   "outputs": [
    {
     "data": {
      "text/plain": [
       "0    False\n",
       "1    False\n",
       "2    False\n",
       "3    False\n",
       "4    False\n",
       "5    False\n",
       "6    False\n",
       "7    False\n",
       "8    False\n",
       "9    False\n",
       "Name: dept, dtype: bool"
      ]
     },
     "execution_count": 9,
     "metadata": {},
     "output_type": "execute_result"
    }
   ],
   "source": [
    "t2.cat.as_ordered()>t.cat.as_ordered() # >比较\n",
    "# 提示 >比较要分类有序"
   ]
  },
  {
   "cell_type": "code",
   "execution_count": 10,
   "id": "2e7f5e42-7572-4463-b043-537dfb3fd9de",
   "metadata": {
    "execution": {
     "iopub.execute_input": "2021-08-02T06:12:32.112804Z",
     "iopub.status.busy": "2021-08-02T06:12:32.112804Z",
     "iopub.status.idle": "2021-08-02T06:12:32.119807Z",
     "shell.execute_reply": "2021-08-02T06:12:32.118808Z",
     "shell.execute_reply.started": "2021-08-02T06:12:32.112804Z"
    },
    "tags": []
   },
   "outputs": [
    {
     "data": {
      "text/plain": [
       "0    True\n",
       "1    True\n",
       "2    True\n",
       "3    True\n",
       "4    True\n",
       "5    True\n",
       "6    True\n",
       "7    True\n",
       "8    True\n",
       "9    True\n",
       "Name: dept, dtype: bool"
      ]
     },
     "execution_count": 10,
     "metadata": {},
     "output_type": "execute_result"
    }
   ],
   "source": [
    "t2.cat.as_ordered()>=t.cat.as_ordered() # >="
   ]
  },
  {
   "cell_type": "code",
   "execution_count": 11,
   "id": "5b01b705-d1ff-4171-945b-3f53a538adf7",
   "metadata": {
    "execution": {
     "iopub.execute_input": "2021-08-02T06:12:59.679804Z",
     "iopub.status.busy": "2021-08-02T06:12:59.679804Z",
     "iopub.status.idle": "2021-08-02T06:12:59.686825Z",
     "shell.execute_reply": "2021-08-02T06:12:59.685807Z",
     "shell.execute_reply.started": "2021-08-02T06:12:59.679804Z"
    },
    "tags": []
   },
   "outputs": [
    {
     "data": {
      "text/plain": [
       "0    True\n",
       "1    True\n",
       "2    True\n",
       "3    True\n",
       "4    True\n",
       "5    True\n",
       "6    True\n",
       "7    True\n",
       "8    True\n",
       "9    True\n",
       "Name: dept, dtype: bool"
      ]
     },
     "execution_count": 11,
     "metadata": {},
     "output_type": "execute_result"
    }
   ],
   "source": [
    "t2.cat.as_ordered()<=t.cat.as_ordered() # <="
   ]
  },
  {
   "cell_type": "code",
   "execution_count": 12,
   "id": "2b34dc99-c316-483b-a1c2-7720b87649d2",
   "metadata": {
    "execution": {
     "iopub.execute_input": "2021-08-02T06:13:16.071806Z",
     "iopub.status.busy": "2021-08-02T06:13:16.071806Z",
     "iopub.status.idle": "2021-08-02T06:13:16.078806Z",
     "shell.execute_reply": "2021-08-02T06:13:16.077812Z",
     "shell.execute_reply.started": "2021-08-02T06:13:16.071806Z"
    },
    "tags": []
   },
   "outputs": [
    {
     "data": {
      "text/plain": [
       "0    False\n",
       "1    False\n",
       "2    False\n",
       "3    False\n",
       "4    False\n",
       "5    False\n",
       "6    False\n",
       "7    False\n",
       "8    False\n",
       "9    False\n",
       "Name: dept, dtype: bool"
      ]
     },
     "execution_count": 12,
     "metadata": {},
     "output_type": "execute_result"
    }
   ],
   "source": [
    "t2.cat.as_ordered()!=t.cat.as_ordered() # !="
   ]
  },
  {
   "cell_type": "code",
   "execution_count": 15,
   "id": "0a5265f3-9d43-422c-8403-46fadd81e695",
   "metadata": {
    "execution": {
     "iopub.execute_input": "2021-08-02T06:14:40.313805Z",
     "iopub.status.busy": "2021-08-02T06:14:40.313805Z",
     "iopub.status.idle": "2021-08-02T06:14:40.319804Z",
     "shell.execute_reply": "2021-08-02T06:14:40.319804Z",
     "shell.execute_reply.started": "2021-08-02T06:14:40.313805Z"
    },
    "tags": []
   },
   "outputs": [
    {
     "data": {
      "text/plain": [
       "0    False\n",
       "1     True\n",
       "2     True\n",
       "dtype: bool"
      ]
     },
     "execution_count": 15,
     "metadata": {},
     "output_type": "execute_result"
    }
   ],
   "source": [
    "pd.Series([1,2,3],dtype=pd.CategoricalDtype()).cat.as_ordered()>1 # 序列（一列）数字比较"
   ]
  },
  {
   "cell_type": "code",
   "execution_count": 23,
   "id": "a2db45ef-29bb-4a0e-816d-a742ba1fc036",
   "metadata": {
    "execution": {
     "iopub.execute_input": "2021-08-02T06:17:08.731821Z",
     "iopub.status.busy": "2021-08-02T06:17:08.731821Z",
     "iopub.status.idle": "2021-08-02T06:17:08.737831Z",
     "shell.execute_reply": "2021-08-02T06:17:08.737831Z",
     "shell.execute_reply.started": "2021-08-02T06:17:08.731821Z"
    },
    "tags": []
   },
   "outputs": [
    {
     "data": {
      "text/plain": [
       "array([ True,  True,  True,  True,  True,  True,  True,  True,  True,\n",
       "        True])"
      ]
     },
     "execution_count": 23,
     "metadata": {},
     "output_type": "execute_result"
    }
   ],
   "source": [
    "np.asarray(df.销售额.astype(pd.CategoricalDtype()).cat.as_ordered()) >1 # 转换成 np 数组 ，再与数字比较 。否则容易出现提示中的错误"
   ]
  }
 ],
 "metadata": {
  "kernelspec": {
   "display_name": "Python 3 (ipykernel)",
   "language": "python",
   "name": "python3"
  },
  "language_info": {
   "codemirror_mode": {
    "name": "ipython",
    "version": 3
   },
   "file_extension": ".py",
   "mimetype": "text/x-python",
   "name": "python",
   "nbconvert_exporter": "python",
   "pygments_lexer": "ipython3",
   "version": "3.8.10"
  }
 },
 "nbformat": 4,
 "nbformat_minor": 5
}
