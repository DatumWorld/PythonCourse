{
 "cells": [
  {
   "cell_type": "markdown",
   "id": "banned-berry",
   "metadata": {
    "execution": {
     "iopub.execute_input": "2021-05-10T07:18:52.990449Z",
     "iopub.status.busy": "2021-05-10T07:18:52.990449Z",
     "iopub.status.idle": "2021-05-10T07:18:52.994464Z",
     "shell.execute_reply": "2021-05-10T07:18:52.993452Z",
     "shell.execute_reply.started": "2021-05-10T07:18:52.990449Z"
    }
   },
   "source": [
    "## 67 pandas分类数据（七）"
   ]
  },
  {
   "cell_type": "markdown",
   "id": "municipal-brick",
   "metadata": {},
   "source": [
    "### 分类数据 Categorical data （也有翻译为范畴数据）\n",
    "#### 分类数据操作：常规统计"
   ]
  },
  {
   "cell_type": "code",
   "execution_count": 1,
   "id": "416d534f-987e-4038-8096-0222d41f10a9",
   "metadata": {
    "execution": {
     "iopub.execute_input": "2021-08-03T06:24:44.077619Z",
     "iopub.status.busy": "2021-08-03T06:24:44.076616Z",
     "iopub.status.idle": "2021-08-03T06:24:44.381615Z",
     "shell.execute_reply": "2021-08-03T06:24:44.381615Z",
     "shell.execute_reply.started": "2021-08-03T06:24:44.077619Z"
    },
    "tags": []
   },
   "outputs": [],
   "source": [
    "import numpy  as np\n",
    "import pandas as pd\n",
    "from faker import Faker\n",
    "\n",
    "fake = Faker('zh_CN')\n",
    "df=pd.DataFrame(data=[ [fake.name()] for x in range(10) ],columns=['name'])\n",
    "\n",
    "df['销售额']=np.random.randint(100,100000,size=(10, 1))\n",
    "df['时间']=pd.date_range(start='2020-01-01',periods=10,freq='D')\n",
    "df.insert(0,'dept',['部门1']*5+['部门2']*5)\n",
    "df.insert(1,'dept1',['小部门1']*2+['小部门2']*3+['小部门3']*1+['小部门4']*4)"
   ]
  },
  {
   "cell_type": "code",
   "execution_count": 2,
   "id": "sporting-bishop",
   "metadata": {
    "execution": {
     "iopub.execute_input": "2021-08-03T06:24:44.382616Z",
     "iopub.status.busy": "2021-08-03T06:24:44.382616Z",
     "iopub.status.idle": "2021-08-03T06:24:44.399618Z",
     "shell.execute_reply": "2021-08-03T06:24:44.398616Z",
     "shell.execute_reply.started": "2021-08-03T06:24:44.382616Z"
    },
    "tags": []
   },
   "outputs": [
    {
     "data": {
      "text/html": [
       "<div>\n",
       "<style scoped>\n",
       "    .dataframe tbody tr th:only-of-type {\n",
       "        vertical-align: middle;\n",
       "    }\n",
       "\n",
       "    .dataframe tbody tr th {\n",
       "        vertical-align: top;\n",
       "    }\n",
       "\n",
       "    .dataframe thead th {\n",
       "        text-align: right;\n",
       "    }\n",
       "</style>\n",
       "<table border=\"1\" class=\"dataframe\">\n",
       "  <thead>\n",
       "    <tr style=\"text-align: right;\">\n",
       "      <th></th>\n",
       "      <th>dept</th>\n",
       "      <th>dept1</th>\n",
       "      <th>name</th>\n",
       "      <th>销售额</th>\n",
       "      <th>时间</th>\n",
       "    </tr>\n",
       "  </thead>\n",
       "  <tbody>\n",
       "    <tr>\n",
       "      <th>0</th>\n",
       "      <td>部门1</td>\n",
       "      <td>小部门1</td>\n",
       "      <td>王帅</td>\n",
       "      <td>3114</td>\n",
       "      <td>2020-01-01</td>\n",
       "    </tr>\n",
       "    <tr>\n",
       "      <th>1</th>\n",
       "      <td>部门1</td>\n",
       "      <td>小部门1</td>\n",
       "      <td>唐淑珍</td>\n",
       "      <td>61647</td>\n",
       "      <td>2020-01-02</td>\n",
       "    </tr>\n",
       "    <tr>\n",
       "      <th>2</th>\n",
       "      <td>部门1</td>\n",
       "      <td>小部门2</td>\n",
       "      <td>王成</td>\n",
       "      <td>58224</td>\n",
       "      <td>2020-01-03</td>\n",
       "    </tr>\n",
       "    <tr>\n",
       "      <th>3</th>\n",
       "      <td>部门1</td>\n",
       "      <td>小部门2</td>\n",
       "      <td>徐欣</td>\n",
       "      <td>33701</td>\n",
       "      <td>2020-01-04</td>\n",
       "    </tr>\n",
       "    <tr>\n",
       "      <th>4</th>\n",
       "      <td>部门1</td>\n",
       "      <td>小部门2</td>\n",
       "      <td>傅秀珍</td>\n",
       "      <td>31754</td>\n",
       "      <td>2020-01-05</td>\n",
       "    </tr>\n",
       "    <tr>\n",
       "      <th>5</th>\n",
       "      <td>部门2</td>\n",
       "      <td>小部门3</td>\n",
       "      <td>陈淑兰</td>\n",
       "      <td>67552</td>\n",
       "      <td>2020-01-06</td>\n",
       "    </tr>\n",
       "    <tr>\n",
       "      <th>6</th>\n",
       "      <td>部门2</td>\n",
       "      <td>小部门4</td>\n",
       "      <td>周想</td>\n",
       "      <td>45605</td>\n",
       "      <td>2020-01-07</td>\n",
       "    </tr>\n",
       "    <tr>\n",
       "      <th>7</th>\n",
       "      <td>部门2</td>\n",
       "      <td>小部门4</td>\n",
       "      <td>孙玉英</td>\n",
       "      <td>98854</td>\n",
       "      <td>2020-01-08</td>\n",
       "    </tr>\n",
       "    <tr>\n",
       "      <th>8</th>\n",
       "      <td>部门2</td>\n",
       "      <td>小部门4</td>\n",
       "      <td>卢玉兰</td>\n",
       "      <td>93458</td>\n",
       "      <td>2020-01-09</td>\n",
       "    </tr>\n",
       "    <tr>\n",
       "      <th>9</th>\n",
       "      <td>部门2</td>\n",
       "      <td>小部门4</td>\n",
       "      <td>叶晶</td>\n",
       "      <td>63959</td>\n",
       "      <td>2020-01-10</td>\n",
       "    </tr>\n",
       "  </tbody>\n",
       "</table>\n",
       "</div>"
      ],
      "text/plain": [
       "  dept dept1 name    销售额         时间\n",
       "0  部门1  小部门1   王帅   3114 2020-01-01\n",
       "1  部门1  小部门1  唐淑珍  61647 2020-01-02\n",
       "2  部门1  小部门2   王成  58224 2020-01-03\n",
       "3  部门1  小部门2   徐欣  33701 2020-01-04\n",
       "4  部门1  小部门2  傅秀珍  31754 2020-01-05\n",
       "5  部门2  小部门3  陈淑兰  67552 2020-01-06\n",
       "6  部门2  小部门4   周想  45605 2020-01-07\n",
       "7  部门2  小部门4  孙玉英  98854 2020-01-08\n",
       "8  部门2  小部门4  卢玉兰  93458 2020-01-09\n",
       "9  部门2  小部门4   叶晶  63959 2020-01-10"
      ]
     },
     "execution_count": 2,
     "metadata": {},
     "output_type": "execute_result"
    }
   ],
   "source": [
    "df # 随机生成的数据"
   ]
  },
  {
   "cell_type": "code",
   "execution_count": 3,
   "id": "f2829135-b61b-44a0-8046-656fd1766610",
   "metadata": {
    "execution": {
     "iopub.execute_input": "2021-08-03T06:25:27.220615Z",
     "iopub.status.busy": "2021-08-03T06:25:27.220615Z",
     "iopub.status.idle": "2021-08-03T06:25:27.230650Z",
     "shell.execute_reply": "2021-08-03T06:25:27.230650Z",
     "shell.execute_reply.started": "2021-08-03T06:25:27.220615Z"
    },
    "tags": []
   },
   "outputs": [
    {
     "data": {
      "text/html": [
       "<div>\n",
       "<style scoped>\n",
       "    .dataframe tbody tr th:only-of-type {\n",
       "        vertical-align: middle;\n",
       "    }\n",
       "\n",
       "    .dataframe tbody tr th {\n",
       "        vertical-align: top;\n",
       "    }\n",
       "\n",
       "    .dataframe thead th {\n",
       "        text-align: right;\n",
       "    }\n",
       "</style>\n",
       "<table border=\"1\" class=\"dataframe\">\n",
       "  <thead>\n",
       "    <tr style=\"text-align: right;\">\n",
       "      <th></th>\n",
       "      <th>销售额</th>\n",
       "    </tr>\n",
       "    <tr>\n",
       "      <th>dept</th>\n",
       "      <th></th>\n",
       "    </tr>\n",
       "  </thead>\n",
       "  <tbody>\n",
       "    <tr>\n",
       "      <th>部门1</th>\n",
       "      <td>188440</td>\n",
       "    </tr>\n",
       "    <tr>\n",
       "      <th>部门2</th>\n",
       "      <td>369428</td>\n",
       "    </tr>\n",
       "  </tbody>\n",
       "</table>\n",
       "</div>"
      ],
      "text/plain": [
       "         销售额\n",
       "dept        \n",
       "部门1   188440\n",
       "部门2   369428"
      ]
     },
     "execution_count": 3,
     "metadata": {},
     "output_type": "execute_result"
    }
   ],
   "source": [
    "df.groupby(['dept']).sum()"
   ]
  },
  {
   "cell_type": "code",
   "execution_count": 4,
   "id": "eb5c59df-84c4-446f-ac93-98466456ad27",
   "metadata": {
    "execution": {
     "iopub.execute_input": "2021-08-03T06:26:03.387617Z",
     "iopub.status.busy": "2021-08-03T06:26:03.387617Z",
     "iopub.status.idle": "2021-08-03T06:26:03.391620Z",
     "shell.execute_reply": "2021-08-03T06:26:03.390617Z",
     "shell.execute_reply.started": "2021-08-03T06:26:03.387617Z"
    },
    "tags": []
   },
   "outputs": [],
   "source": [
    "df.dept=df.dept.astype(pd.CategoricalDtype())"
   ]
  },
  {
   "cell_type": "code",
   "execution_count": 6,
   "id": "efa906c9-f8aa-4368-9d7d-345523d3d5fa",
   "metadata": {
    "execution": {
     "iopub.execute_input": "2021-08-03T06:26:17.128615Z",
     "iopub.status.busy": "2021-08-03T06:26:17.128615Z",
     "iopub.status.idle": "2021-08-03T06:26:17.135619Z",
     "shell.execute_reply": "2021-08-03T06:26:17.134617Z",
     "shell.execute_reply.started": "2021-08-03T06:26:17.128615Z"
    },
    "tags": []
   },
   "outputs": [
    {
     "data": {
      "text/plain": [
       "dept           category\n",
       "dept1            object\n",
       "name             object\n",
       "销售额               int32\n",
       "时间       datetime64[ns]\n",
       "dtype: object"
      ]
     },
     "execution_count": 6,
     "metadata": {},
     "output_type": "execute_result"
    }
   ],
   "source": [
    "df.dtypes"
   ]
  },
  {
   "cell_type": "code",
   "execution_count": 7,
   "id": "39420374-0c48-4eb3-919f-3d5623062c3a",
   "metadata": {
    "execution": {
     "iopub.execute_input": "2021-08-03T06:26:35.187620Z",
     "iopub.status.busy": "2021-08-03T06:26:35.187620Z",
     "iopub.status.idle": "2021-08-03T06:26:35.197652Z",
     "shell.execute_reply": "2021-08-03T06:26:35.197652Z",
     "shell.execute_reply.started": "2021-08-03T06:26:35.187620Z"
    },
    "tags": []
   },
   "outputs": [
    {
     "data": {
      "text/html": [
       "<div>\n",
       "<style scoped>\n",
       "    .dataframe tbody tr th:only-of-type {\n",
       "        vertical-align: middle;\n",
       "    }\n",
       "\n",
       "    .dataframe tbody tr th {\n",
       "        vertical-align: top;\n",
       "    }\n",
       "\n",
       "    .dataframe thead th {\n",
       "        text-align: right;\n",
       "    }\n",
       "</style>\n",
       "<table border=\"1\" class=\"dataframe\">\n",
       "  <thead>\n",
       "    <tr style=\"text-align: right;\">\n",
       "      <th></th>\n",
       "      <th>销售额</th>\n",
       "    </tr>\n",
       "    <tr>\n",
       "      <th>dept</th>\n",
       "      <th></th>\n",
       "    </tr>\n",
       "  </thead>\n",
       "  <tbody>\n",
       "    <tr>\n",
       "      <th>部门1</th>\n",
       "      <td>188440</td>\n",
       "    </tr>\n",
       "    <tr>\n",
       "      <th>部门2</th>\n",
       "      <td>369428</td>\n",
       "    </tr>\n",
       "  </tbody>\n",
       "</table>\n",
       "</div>"
      ],
      "text/plain": [
       "         销售额\n",
       "dept        \n",
       "部门1   188440\n",
       "部门2   369428"
      ]
     },
     "execution_count": 7,
     "metadata": {},
     "output_type": "execute_result"
    }
   ],
   "source": [
    "df.groupby(['dept']).sum() # 在分类数据上分组统计"
   ]
  },
  {
   "cell_type": "code",
   "execution_count": 9,
   "id": "adf3e5bb-8338-4078-88b4-13dab4434913",
   "metadata": {
    "execution": {
     "iopub.execute_input": "2021-08-03T06:28:28.184616Z",
     "iopub.status.busy": "2021-08-03T06:28:28.184616Z",
     "iopub.status.idle": "2021-08-03T06:28:28.204617Z",
     "shell.execute_reply": "2021-08-03T06:28:28.204617Z",
     "shell.execute_reply.started": "2021-08-03T06:28:28.184616Z"
    },
    "tags": []
   },
   "outputs": [
    {
     "data": {
      "text/html": [
       "<div>\n",
       "<style scoped>\n",
       "    .dataframe tbody tr th:only-of-type {\n",
       "        vertical-align: middle;\n",
       "    }\n",
       "\n",
       "    .dataframe tbody tr th {\n",
       "        vertical-align: top;\n",
       "    }\n",
       "\n",
       "    .dataframe thead tr th {\n",
       "        text-align: left;\n",
       "    }\n",
       "\n",
       "    .dataframe thead tr:last-of-type th {\n",
       "        text-align: right;\n",
       "    }\n",
       "</style>\n",
       "<table border=\"1\" class=\"dataframe\">\n",
       "  <thead>\n",
       "    <tr>\n",
       "      <th></th>\n",
       "      <th colspan=\"5\" halign=\"left\">销售额</th>\n",
       "    </tr>\n",
       "    <tr>\n",
       "      <th></th>\n",
       "      <th>sum</th>\n",
       "      <th>mean</th>\n",
       "      <th>min</th>\n",
       "      <th>max</th>\n",
       "      <th>median</th>\n",
       "    </tr>\n",
       "    <tr>\n",
       "      <th>dept</th>\n",
       "      <th></th>\n",
       "      <th></th>\n",
       "      <th></th>\n",
       "      <th></th>\n",
       "      <th></th>\n",
       "    </tr>\n",
       "  </thead>\n",
       "  <tbody>\n",
       "    <tr>\n",
       "      <th>部门1</th>\n",
       "      <td>188440</td>\n",
       "      <td>37688.0</td>\n",
       "      <td>3114</td>\n",
       "      <td>61647</td>\n",
       "      <td>33701</td>\n",
       "    </tr>\n",
       "    <tr>\n",
       "      <th>部门2</th>\n",
       "      <td>369428</td>\n",
       "      <td>73885.6</td>\n",
       "      <td>45605</td>\n",
       "      <td>98854</td>\n",
       "      <td>67552</td>\n",
       "    </tr>\n",
       "  </tbody>\n",
       "</table>\n",
       "</div>"
      ],
      "text/plain": [
       "         销售额                              \n",
       "         sum     mean    min    max median\n",
       "dept                                      \n",
       "部门1   188440  37688.0   3114  61647  33701\n",
       "部门2   369428  73885.6  45605  98854  67552"
      ]
     },
     "execution_count": 9,
     "metadata": {},
     "output_type": "execute_result"
    }
   ],
   "source": [
    "df.groupby(['dept']).agg({'销售额':['sum','mean','min','max','median']}) # 在分类数据上分组统计,使用聚合"
   ]
  },
  {
   "cell_type": "code",
   "execution_count": 10,
   "id": "bd96fa57-c419-46ee-8de7-0dcb5497ed5a",
   "metadata": {
    "execution": {
     "iopub.execute_input": "2021-08-03T06:28:56.939616Z",
     "iopub.status.busy": "2021-08-03T06:28:56.939616Z",
     "iopub.status.idle": "2021-08-03T06:28:56.959619Z",
     "shell.execute_reply": "2021-08-03T06:28:56.958621Z",
     "shell.execute_reply.started": "2021-08-03T06:28:56.939616Z"
    },
    "tags": []
   },
   "outputs": [
    {
     "data": {
      "text/plain": [
       "count      10\n",
       "unique      2\n",
       "top       部门1\n",
       "freq        5\n",
       "Name: dept, dtype: object"
      ]
     },
     "execution_count": 10,
     "metadata": {},
     "output_type": "execute_result"
    }
   ],
   "source": [
    "df.dept.describe() # 分类数据类型列上的描述性统计"
   ]
  },
  {
   "cell_type": "code",
   "execution_count": 11,
   "id": "3a34076b-26ce-48b6-8c06-61858536222b",
   "metadata": {
    "execution": {
     "iopub.execute_input": "2021-08-03T06:29:40.437617Z",
     "iopub.status.busy": "2021-08-03T06:29:40.437617Z",
     "iopub.status.idle": "2021-08-03T06:29:40.447616Z",
     "shell.execute_reply": "2021-08-03T06:29:40.447616Z",
     "shell.execute_reply.started": "2021-08-03T06:29:40.437617Z"
    },
    "tags": []
   },
   "outputs": [
    {
     "data": {
      "text/plain": [
       "部门1    5\n",
       "部门2    5\n",
       "Name: dept, dtype: int64"
      ]
     },
     "execution_count": 11,
     "metadata": {},
     "output_type": "execute_result"
    }
   ],
   "source": [
    "df.dept.value_counts() # 值的个数统计"
   ]
  },
  {
   "cell_type": "code",
   "execution_count": 13,
   "id": "f6fe6f92-2090-4506-b526-da9fd68a441e",
   "metadata": {
    "execution": {
     "iopub.execute_input": "2021-08-03T06:31:18.535616Z",
     "iopub.status.busy": "2021-08-03T06:31:18.535616Z",
     "iopub.status.idle": "2021-08-03T06:31:18.544649Z",
     "shell.execute_reply": "2021-08-03T06:31:18.544649Z",
     "shell.execute_reply.started": "2021-08-03T06:31:18.535616Z"
    },
    "tags": []
   },
   "outputs": [
    {
     "data": {
      "text/plain": [
       "0    部\n",
       "1    部\n",
       "2    部\n",
       "3    部\n",
       "4    部\n",
       "5    部\n",
       "6    部\n",
       "7    部\n",
       "8    部\n",
       "9    部\n",
       "Name: dept, dtype: object"
      ]
     },
     "execution_count": 13,
     "metadata": {},
     "output_type": "execute_result"
    }
   ],
   "source": [
    "df.dept.map(lambda x :x[0]) # 可以使用map 加  lambda 表达式"
   ]
  },
  {
   "cell_type": "code",
   "execution_count": 15,
   "id": "91a5024e-452a-4be7-9589-ec46bf060313",
   "metadata": {
    "execution": {
     "iopub.execute_input": "2021-08-03T06:32:11.598617Z",
     "iopub.status.busy": "2021-08-03T06:32:11.598617Z",
     "iopub.status.idle": "2021-08-03T06:32:11.603616Z",
     "shell.execute_reply": "2021-08-03T06:32:11.603616Z",
     "shell.execute_reply.started": "2021-08-03T06:32:11.598617Z"
    },
    "tags": []
   },
   "outputs": [
    {
     "data": {
      "text/plain": [
       "0    1\n",
       "1    1\n",
       "2    1\n",
       "3    1\n",
       "4    1\n",
       "5    2\n",
       "6    2\n",
       "7    2\n",
       "8    2\n",
       "9    2\n",
       "Name: dept, dtype: category\n",
       "Categories (2, object): ['1', '2']"
      ]
     },
     "execution_count": 15,
     "metadata": {},
     "output_type": "execute_result"
    }
   ],
   "source": [
    "df.dept.apply(lambda x :x[-1]) # 可以使用apply 加  lambda 表达式"
   ]
  }
 ],
 "metadata": {
  "kernelspec": {
   "display_name": "Python 3 (ipykernel)",
   "language": "python",
   "name": "python3"
  },
  "language_info": {
   "codemirror_mode": {
    "name": "ipython",
    "version": 3
   },
   "file_extension": ".py",
   "mimetype": "text/x-python",
   "name": "python",
   "nbconvert_exporter": "python",
   "pygments_lexer": "ipython3",
   "version": "3.8.10"
  }
 },
 "nbformat": 4,
 "nbformat_minor": 5
}
