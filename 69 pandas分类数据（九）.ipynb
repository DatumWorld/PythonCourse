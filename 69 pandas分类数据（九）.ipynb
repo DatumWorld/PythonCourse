{
 "cells": [
  {
   "cell_type": "markdown",
   "id": "4fd9eb70",
   "metadata": {
    "execution": {
     "iopub.execute_input": "2021-05-10T07:18:52.990449Z",
     "iopub.status.busy": "2021-05-10T07:18:52.990449Z",
     "iopub.status.idle": "2021-05-10T07:18:52.994464Z",
     "shell.execute_reply": "2021-05-10T07:18:52.993452Z",
     "shell.execute_reply.started": "2021-05-10T07:18:52.990449Z"
    }
   },
   "source": [
    "## 69 pandas分类数据（九）"
   ]
  },
  {
   "cell_type": "markdown",
   "id": "9d1d668e",
   "metadata": {},
   "source": [
    "### 分类数据 Categorical data （也有翻译为范畴数据）\n",
    "#### 分类数据操作：使用.dt和.str和自定义函数"
   ]
  },
  {
   "cell_type": "code",
   "execution_count": 1,
   "id": "92dfebdb",
   "metadata": {
    "execution": {
     "iopub.execute_input": "2021-08-05T07:51:00.763633Z",
     "iopub.status.busy": "2021-08-05T07:51:00.763230Z",
     "iopub.status.idle": "2021-08-05T07:51:01.093476Z",
     "shell.execute_reply": "2021-08-05T07:51:01.092331Z",
     "shell.execute_reply.started": "2021-08-05T07:51:00.763549Z"
    },
    "tags": []
   },
   "outputs": [],
   "source": [
    "import numpy  as np\n",
    "import pandas as pd\n",
    "from faker import Faker\n",
    "\n",
    "fake = Faker('zh_CN')\n",
    "df=pd.DataFrame(data=[ [fake.name()] for x in range(10) ],columns=['name'])\n",
    "\n",
    "df['销售额']=np.random.randint(100,100000,size=(10, 1))\n",
    "df['时间']=pd.date_range(start='2020-01-01',periods=10,freq='D')\n",
    "df.insert(0,'dept',['部门1']*5+['部门2']*5)\n",
    "df.insert(1,'dept1',['小部门1']*2+['小部门2']*3+['小部门3']*1+['小部门4']*4)"
   ]
  },
  {
   "cell_type": "code",
   "execution_count": 2,
   "id": "3731db9c",
   "metadata": {
    "execution": {
     "iopub.execute_input": "2021-08-05T07:51:01.095067Z",
     "iopub.status.busy": "2021-08-05T07:51:01.094842Z",
     "iopub.status.idle": "2021-08-05T07:51:01.112902Z",
     "shell.execute_reply": "2021-08-05T07:51:01.111885Z",
     "shell.execute_reply.started": "2021-08-05T07:51:01.095044Z"
    },
    "tags": []
   },
   "outputs": [
    {
     "data": {
      "text/html": [
       "<div>\n",
       "<style scoped>\n",
       "    .dataframe tbody tr th:only-of-type {\n",
       "        vertical-align: middle;\n",
       "    }\n",
       "\n",
       "    .dataframe tbody tr th {\n",
       "        vertical-align: top;\n",
       "    }\n",
       "\n",
       "    .dataframe thead th {\n",
       "        text-align: right;\n",
       "    }\n",
       "</style>\n",
       "<table border=\"1\" class=\"dataframe\">\n",
       "  <thead>\n",
       "    <tr style=\"text-align: right;\">\n",
       "      <th></th>\n",
       "      <th>dept</th>\n",
       "      <th>dept1</th>\n",
       "      <th>name</th>\n",
       "      <th>销售额</th>\n",
       "      <th>时间</th>\n",
       "    </tr>\n",
       "  </thead>\n",
       "  <tbody>\n",
       "    <tr>\n",
       "      <th>0</th>\n",
       "      <td>部门1</td>\n",
       "      <td>小部门1</td>\n",
       "      <td>沈秀英</td>\n",
       "      <td>57879</td>\n",
       "      <td>2020-01-01</td>\n",
       "    </tr>\n",
       "    <tr>\n",
       "      <th>1</th>\n",
       "      <td>部门1</td>\n",
       "      <td>小部门1</td>\n",
       "      <td>夏淑英</td>\n",
       "      <td>56089</td>\n",
       "      <td>2020-01-02</td>\n",
       "    </tr>\n",
       "    <tr>\n",
       "      <th>2</th>\n",
       "      <td>部门1</td>\n",
       "      <td>小部门2</td>\n",
       "      <td>陶秀珍</td>\n",
       "      <td>94814</td>\n",
       "      <td>2020-01-03</td>\n",
       "    </tr>\n",
       "    <tr>\n",
       "      <th>3</th>\n",
       "      <td>部门1</td>\n",
       "      <td>小部门2</td>\n",
       "      <td>黄桂珍</td>\n",
       "      <td>50933</td>\n",
       "      <td>2020-01-04</td>\n",
       "    </tr>\n",
       "    <tr>\n",
       "      <th>4</th>\n",
       "      <td>部门1</td>\n",
       "      <td>小部门2</td>\n",
       "      <td>史丹</td>\n",
       "      <td>77101</td>\n",
       "      <td>2020-01-05</td>\n",
       "    </tr>\n",
       "    <tr>\n",
       "      <th>5</th>\n",
       "      <td>部门2</td>\n",
       "      <td>小部门3</td>\n",
       "      <td>唐霞</td>\n",
       "      <td>28809</td>\n",
       "      <td>2020-01-06</td>\n",
       "    </tr>\n",
       "    <tr>\n",
       "      <th>6</th>\n",
       "      <td>部门2</td>\n",
       "      <td>小部门4</td>\n",
       "      <td>曾柳</td>\n",
       "      <td>85608</td>\n",
       "      <td>2020-01-07</td>\n",
       "    </tr>\n",
       "    <tr>\n",
       "      <th>7</th>\n",
       "      <td>部门2</td>\n",
       "      <td>小部门4</td>\n",
       "      <td>丁强</td>\n",
       "      <td>68350</td>\n",
       "      <td>2020-01-08</td>\n",
       "    </tr>\n",
       "    <tr>\n",
       "      <th>8</th>\n",
       "      <td>部门2</td>\n",
       "      <td>小部门4</td>\n",
       "      <td>吴红</td>\n",
       "      <td>79499</td>\n",
       "      <td>2020-01-09</td>\n",
       "    </tr>\n",
       "    <tr>\n",
       "      <th>9</th>\n",
       "      <td>部门2</td>\n",
       "      <td>小部门4</td>\n",
       "      <td>黄桂英</td>\n",
       "      <td>2020</td>\n",
       "      <td>2020-01-10</td>\n",
       "    </tr>\n",
       "  </tbody>\n",
       "</table>\n",
       "</div>"
      ],
      "text/plain": [
       "  dept dept1 name    销售额         时间\n",
       "0  部门1  小部门1  沈秀英  57879 2020-01-01\n",
       "1  部门1  小部门1  夏淑英  56089 2020-01-02\n",
       "2  部门1  小部门2  陶秀珍  94814 2020-01-03\n",
       "3  部门1  小部门2  黄桂珍  50933 2020-01-04\n",
       "4  部门1  小部门2   史丹  77101 2020-01-05\n",
       "5  部门2  小部门3   唐霞  28809 2020-01-06\n",
       "6  部门2  小部门4   曾柳  85608 2020-01-07\n",
       "7  部门2  小部门4   丁强  68350 2020-01-08\n",
       "8  部门2  小部门4   吴红  79499 2020-01-09\n",
       "9  部门2  小部门4  黄桂英   2020 2020-01-10"
      ]
     },
     "execution_count": 2,
     "metadata": {},
     "output_type": "execute_result"
    }
   ],
   "source": [
    "df # 随机生成的数据"
   ]
  },
  {
   "cell_type": "code",
   "execution_count": 3,
   "id": "6b4d9382",
   "metadata": {
    "execution": {
     "iopub.execute_input": "2021-08-05T07:51:42.738961Z",
     "iopub.status.busy": "2021-08-05T07:51:42.738654Z",
     "iopub.status.idle": "2021-08-05T07:51:42.744866Z",
     "shell.execute_reply": "2021-08-05T07:51:42.743832Z",
     "shell.execute_reply.started": "2021-08-05T07:51:42.738934Z"
    }
   },
   "outputs": [],
   "source": [
    "df.dept=df.dept.astype('category')"
   ]
  },
  {
   "cell_type": "code",
   "execution_count": 5,
   "id": "46a4ccaf",
   "metadata": {
    "execution": {
     "iopub.execute_input": "2021-08-05T07:52:00.214884Z",
     "iopub.status.busy": "2021-08-05T07:52:00.214460Z",
     "iopub.status.idle": "2021-08-05T07:52:00.221600Z",
     "shell.execute_reply": "2021-08-05T07:52:00.220692Z",
     "shell.execute_reply.started": "2021-08-05T07:52:00.214852Z"
    }
   },
   "outputs": [
    {
     "data": {
      "text/plain": [
       "0    部门1\n",
       "1    部门1\n",
       "2    部门1\n",
       "3    部门1\n",
       "4    部门1\n",
       "5    部门2\n",
       "6    部门2\n",
       "7    部门2\n",
       "8    部门2\n",
       "9    部门2\n",
       "Name: dept, dtype: category\n",
       "Categories (2, object): ['部门1', '部门2']"
      ]
     },
     "execution_count": 5,
     "metadata": {},
     "output_type": "execute_result"
    }
   ],
   "source": [
    "df.dept"
   ]
  },
  {
   "cell_type": "code",
   "execution_count": 6,
   "id": "1688978f",
   "metadata": {
    "execution": {
     "iopub.execute_input": "2021-08-05T07:52:29.680753Z",
     "iopub.status.busy": "2021-08-05T07:52:29.680227Z",
     "iopub.status.idle": "2021-08-05T07:52:29.689739Z",
     "shell.execute_reply": "2021-08-05T07:52:29.688462Z",
     "shell.execute_reply.started": "2021-08-05T07:52:29.680698Z"
    }
   },
   "outputs": [
    {
     "data": {
      "text/plain": [
       "0     True\n",
       "1     True\n",
       "2     True\n",
       "3     True\n",
       "4     True\n",
       "5    False\n",
       "6    False\n",
       "7    False\n",
       "8    False\n",
       "9    False\n",
       "Name: dept, dtype: bool"
      ]
     },
     "execution_count": 6,
     "metadata": {},
     "output_type": "execute_result"
    }
   ],
   "source": [
    "df.dept.str.contains('1') # 使用 .str函数。判断是否包含字符串'1'。 当然，也可以使用.str的其它函数，此处仅仅举一个例子。只要 元素本身可以是str类型就可以使用.str"
   ]
  },
  {
   "cell_type": "code",
   "execution_count": 12,
   "id": "a4cd8caa",
   "metadata": {
    "execution": {
     "iopub.execute_input": "2021-08-05T07:58:43.741736Z",
     "iopub.status.busy": "2021-08-05T07:58:43.741299Z",
     "iopub.status.idle": "2021-08-05T07:58:43.750833Z",
     "shell.execute_reply": "2021-08-05T07:58:43.749465Z",
     "shell.execute_reply.started": "2021-08-05T07:58:43.741699Z"
    }
   },
   "outputs": [
    {
     "data": {
      "text/plain": [
       "0    1\n",
       "1    1\n",
       "2    1\n",
       "3    1\n",
       "4    1\n",
       "5    0\n",
       "6    0\n",
       "7    0\n",
       "8    0\n",
       "9    0\n",
       "Name: dept, dtype: category\n",
       "Categories (2, int64): [1, 0]"
      ]
     },
     "execution_count": 12,
     "metadata": {},
     "output_type": "execute_result"
    }
   ],
   "source": [
    "df.dept.map(lambda x :x.count('1')) # 使用map 自定义函数，统计字符串'1'的个数"
   ]
  },
  {
   "cell_type": "code",
   "execution_count": 7,
   "id": "cf6709d8",
   "metadata": {
    "execution": {
     "iopub.execute_input": "2021-08-05T07:54:15.207647Z",
     "iopub.status.busy": "2021-08-05T07:54:15.207212Z",
     "iopub.status.idle": "2021-08-05T07:54:15.213784Z",
     "shell.execute_reply": "2021-08-05T07:54:15.213077Z",
     "shell.execute_reply.started": "2021-08-05T07:54:15.207614Z"
    }
   },
   "outputs": [],
   "source": [
    "df.时间=df.时间.astype('category')"
   ]
  },
  {
   "cell_type": "code",
   "execution_count": 8,
   "id": "5c7dc6bd",
   "metadata": {
    "execution": {
     "iopub.execute_input": "2021-08-05T07:54:24.280045Z",
     "iopub.status.busy": "2021-08-05T07:54:24.279704Z",
     "iopub.status.idle": "2021-08-05T07:54:24.288070Z",
     "shell.execute_reply": "2021-08-05T07:54:24.287243Z",
     "shell.execute_reply.started": "2021-08-05T07:54:24.280007Z"
    }
   },
   "outputs": [
    {
     "data": {
      "text/plain": [
       "0   2020-01-01\n",
       "1   2020-01-02\n",
       "2   2020-01-03\n",
       "3   2020-01-04\n",
       "4   2020-01-05\n",
       "5   2020-01-06\n",
       "6   2020-01-07\n",
       "7   2020-01-08\n",
       "8   2020-01-09\n",
       "9   2020-01-10\n",
       "Name: 时间, dtype: category\n",
       "Categories (10, datetime64[ns]): [2020-01-01, 2020-01-02, 2020-01-03, 2020-01-04, ..., 2020-01-07, 2020-01-08, 2020-01-09, 2020-01-10]"
      ]
     },
     "execution_count": 8,
     "metadata": {},
     "output_type": "execute_result"
    }
   ],
   "source": [
    "df.时间"
   ]
  },
  {
   "cell_type": "code",
   "execution_count": 9,
   "id": "50c62ff9",
   "metadata": {
    "execution": {
     "iopub.execute_input": "2021-08-05T07:54:43.993134Z",
     "iopub.status.busy": "2021-08-05T07:54:43.992733Z",
     "iopub.status.idle": "2021-08-05T07:54:44.000520Z",
     "shell.execute_reply": "2021-08-05T07:54:43.999600Z",
     "shell.execute_reply.started": "2021-08-05T07:54:43.993101Z"
    }
   },
   "outputs": [
    {
     "data": {
      "text/plain": [
       "0    2020-01-01\n",
       "1    2020-01-02\n",
       "2    2020-01-03\n",
       "3    2020-01-04\n",
       "4    2020-01-05\n",
       "5    2020-01-06\n",
       "6    2020-01-07\n",
       "7    2020-01-08\n",
       "8    2020-01-09\n",
       "9    2020-01-10\n",
       "Name: 时间, dtype: object"
      ]
     },
     "execution_count": 9,
     "metadata": {},
     "output_type": "execute_result"
    }
   ],
   "source": [
    "df.时间.dt.date # 使用 .dt函数。返回每个元素的date。 当然，也可以使用.dt的其它函数，此处仅仅举一个例子。只要 元素本身可以是datetime64类型就可以使用.dt"
   ]
  },
  {
   "cell_type": "code",
   "execution_count": 10,
   "id": "931bd80d",
   "metadata": {
    "execution": {
     "iopub.execute_input": "2021-08-05T07:57:16.135640Z",
     "iopub.status.busy": "2021-08-05T07:57:16.135367Z",
     "iopub.status.idle": "2021-08-05T07:57:16.143936Z",
     "shell.execute_reply": "2021-08-05T07:57:16.143141Z",
     "shell.execute_reply.started": "2021-08-05T07:57:16.135614Z"
    }
   },
   "outputs": [
    {
     "data": {
      "text/plain": [
       "0    2020-01-01\n",
       "1    2020-01-02\n",
       "2    2020-01-03\n",
       "3    2020-01-04\n",
       "4    2020-01-05\n",
       "5    2020-01-06\n",
       "6    2020-01-07\n",
       "7    2020-01-08\n",
       "8    2020-01-09\n",
       "9    2020-01-10\n",
       "Name: 时间, dtype: category\n",
       "Categories (10, object): [2020-01-01, 2020-01-02, 2020-01-03, 2020-01-04, ..., 2020-01-07, 2020-01-08, 2020-01-09, 2020-01-10]"
      ]
     },
     "execution_count": 10,
     "metadata": {},
     "output_type": "execute_result"
    }
   ],
   "source": [
    "df.时间.apply(lambda x :x.date) # 使用apply自定义函数实现同样效果"
   ]
  }
 ],
 "metadata": {
  "kernelspec": {
   "display_name": "Python 3",
   "language": "python",
   "name": "python3"
  },
  "language_info": {
   "codemirror_mode": {
    "name": "ipython",
    "version": 3
   },
   "file_extension": ".py",
   "mimetype": "text/x-python",
   "name": "python",
   "nbconvert_exporter": "python",
   "pygments_lexer": "ipython3",
   "version": "3.8.8"
  }
 },
 "nbformat": 4,
 "nbformat_minor": 5
}
