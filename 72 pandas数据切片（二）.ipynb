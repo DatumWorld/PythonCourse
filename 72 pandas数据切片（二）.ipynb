{
 "cells": [
  {
   "cell_type": "markdown",
   "id": "a23f619e",
   "metadata": {
    "execution": {
     "iopub.execute_input": "2021-05-10T07:18:52.990449Z",
     "iopub.status.busy": "2021-05-10T07:18:52.990449Z",
     "iopub.status.idle": "2021-05-10T07:18:52.994464Z",
     "shell.execute_reply": "2021-05-10T07:18:52.993452Z",
     "shell.execute_reply.started": "2021-05-10T07:18:52.990449Z"
    }
   },
   "source": [
    "## 72 pandas数据切片（二）"
   ]
  },
  {
   "cell_type": "markdown",
   "id": "efb03391",
   "metadata": {},
   "source": [
    "### 数据切片 cut ，其它内容。和分类数据有一定关系\n",
    "参数 x,\n",
    "    bins,\n",
    "    right: bool = True,\n",
    "    labels=None,\n",
    "    retbins: bool = False,\n",
    "    precision: int = 3,\n",
    "    include_lowest: bool = False,\n",
    "    duplicates: str = 'raise',\n",
    "    ordered: bool = True,"
   ]
  },
  {
   "cell_type": "code",
   "execution_count": 1,
   "id": "89fd1670",
   "metadata": {
    "execution": {
     "iopub.execute_input": "2021-08-07T01:54:21.787375Z",
     "iopub.status.busy": "2021-08-07T01:54:21.787097Z",
     "iopub.status.idle": "2021-08-07T01:54:22.110426Z",
     "shell.execute_reply": "2021-08-07T01:54:22.109404Z",
     "shell.execute_reply.started": "2021-08-07T01:54:21.787331Z"
    },
    "tags": []
   },
   "outputs": [],
   "source": [
    "import numpy  as np\n",
    "import pandas as pd\n",
    "from faker import Faker\n",
    "\n",
    "fake = Faker('zh_CN')\n",
    "df=pd.DataFrame(data=[ [fake.name()] for x in range(10) ],columns=['name'])\n",
    "\n",
    "df['销售额']=np.random.randint(100,100000,size=(10, 1))\n",
    "df['时间']=pd.date_range(start='2020-01-01',periods=10,freq='D')\n",
    "df.insert(0,'dept',['部门1']*5+['部门2']*5)\n",
    "df.insert(1,'dept1',['小部门1']*2+['小部门2']*3+['小部门3']*1+['小部门4']*4)"
   ]
  },
  {
   "cell_type": "code",
   "execution_count": 2,
   "id": "60ccb77b",
   "metadata": {
    "execution": {
     "iopub.execute_input": "2021-08-07T01:54:22.114765Z",
     "iopub.status.busy": "2021-08-07T01:54:22.114511Z",
     "iopub.status.idle": "2021-08-07T01:54:22.138513Z",
     "shell.execute_reply": "2021-08-07T01:54:22.137559Z",
     "shell.execute_reply.started": "2021-08-07T01:54:22.114740Z"
    },
    "tags": []
   },
   "outputs": [
    {
     "data": {
      "text/html": [
       "<div>\n",
       "<style scoped>\n",
       "    .dataframe tbody tr th:only-of-type {\n",
       "        vertical-align: middle;\n",
       "    }\n",
       "\n",
       "    .dataframe tbody tr th {\n",
       "        vertical-align: top;\n",
       "    }\n",
       "\n",
       "    .dataframe thead th {\n",
       "        text-align: right;\n",
       "    }\n",
       "</style>\n",
       "<table border=\"1\" class=\"dataframe\">\n",
       "  <thead>\n",
       "    <tr style=\"text-align: right;\">\n",
       "      <th></th>\n",
       "      <th>dept</th>\n",
       "      <th>dept1</th>\n",
       "      <th>name</th>\n",
       "      <th>销售额</th>\n",
       "      <th>时间</th>\n",
       "    </tr>\n",
       "  </thead>\n",
       "  <tbody>\n",
       "    <tr>\n",
       "      <th>0</th>\n",
       "      <td>部门1</td>\n",
       "      <td>小部门1</td>\n",
       "      <td>刘鹏</td>\n",
       "      <td>93458</td>\n",
       "      <td>2020-01-01</td>\n",
       "    </tr>\n",
       "    <tr>\n",
       "      <th>1</th>\n",
       "      <td>部门1</td>\n",
       "      <td>小部门1</td>\n",
       "      <td>王强</td>\n",
       "      <td>81349</td>\n",
       "      <td>2020-01-02</td>\n",
       "    </tr>\n",
       "    <tr>\n",
       "      <th>2</th>\n",
       "      <td>部门1</td>\n",
       "      <td>小部门2</td>\n",
       "      <td>朱莉</td>\n",
       "      <td>10492</td>\n",
       "      <td>2020-01-03</td>\n",
       "    </tr>\n",
       "    <tr>\n",
       "      <th>3</th>\n",
       "      <td>部门1</td>\n",
       "      <td>小部门2</td>\n",
       "      <td>许飞</td>\n",
       "      <td>35189</td>\n",
       "      <td>2020-01-04</td>\n",
       "    </tr>\n",
       "    <tr>\n",
       "      <th>4</th>\n",
       "      <td>部门1</td>\n",
       "      <td>小部门2</td>\n",
       "      <td>夏玉梅</td>\n",
       "      <td>78803</td>\n",
       "      <td>2020-01-05</td>\n",
       "    </tr>\n",
       "    <tr>\n",
       "      <th>5</th>\n",
       "      <td>部门2</td>\n",
       "      <td>小部门3</td>\n",
       "      <td>黄丹</td>\n",
       "      <td>2015</td>\n",
       "      <td>2020-01-06</td>\n",
       "    </tr>\n",
       "    <tr>\n",
       "      <th>6</th>\n",
       "      <td>部门2</td>\n",
       "      <td>小部门4</td>\n",
       "      <td>段玉珍</td>\n",
       "      <td>51608</td>\n",
       "      <td>2020-01-07</td>\n",
       "    </tr>\n",
       "    <tr>\n",
       "      <th>7</th>\n",
       "      <td>部门2</td>\n",
       "      <td>小部门4</td>\n",
       "      <td>姚丹丹</td>\n",
       "      <td>55364</td>\n",
       "      <td>2020-01-08</td>\n",
       "    </tr>\n",
       "    <tr>\n",
       "      <th>8</th>\n",
       "      <td>部门2</td>\n",
       "      <td>小部门4</td>\n",
       "      <td>束畅</td>\n",
       "      <td>84402</td>\n",
       "      <td>2020-01-09</td>\n",
       "    </tr>\n",
       "    <tr>\n",
       "      <th>9</th>\n",
       "      <td>部门2</td>\n",
       "      <td>小部门4</td>\n",
       "      <td>魏秀兰</td>\n",
       "      <td>32170</td>\n",
       "      <td>2020-01-10</td>\n",
       "    </tr>\n",
       "  </tbody>\n",
       "</table>\n",
       "</div>"
      ],
      "text/plain": [
       "  dept dept1 name    销售额         时间\n",
       "0  部门1  小部门1   刘鹏  93458 2020-01-01\n",
       "1  部门1  小部门1   王强  81349 2020-01-02\n",
       "2  部门1  小部门2   朱莉  10492 2020-01-03\n",
       "3  部门1  小部门2   许飞  35189 2020-01-04\n",
       "4  部门1  小部门2  夏玉梅  78803 2020-01-05\n",
       "5  部门2  小部门3   黄丹   2015 2020-01-06\n",
       "6  部门2  小部门4  段玉珍  51608 2020-01-07\n",
       "7  部门2  小部门4  姚丹丹  55364 2020-01-08\n",
       "8  部门2  小部门4   束畅  84402 2020-01-09\n",
       "9  部门2  小部门4  魏秀兰  32170 2020-01-10"
      ]
     },
     "execution_count": 2,
     "metadata": {},
     "output_type": "execute_result"
    }
   ],
   "source": [
    "df # 随机生成的数据"
   ]
  },
  {
   "cell_type": "code",
   "execution_count": 13,
   "id": "42831746",
   "metadata": {
    "execution": {
     "iopub.execute_input": "2021-08-07T01:59:40.059713Z",
     "iopub.status.busy": "2021-08-07T01:59:40.059283Z",
     "iopub.status.idle": "2021-08-07T01:59:40.064636Z",
     "shell.execute_reply": "2021-08-07T01:59:40.063743Z",
     "shell.execute_reply.started": "2021-08-07T01:59:40.059673Z"
    }
   },
   "outputs": [],
   "source": [
    "bins = pd.IntervalIndex.from_tuples([(0, 10000) , (10000, 30000) , (30000, 50000),(50000, 100000)])\n"
   ]
  },
  {
   "cell_type": "code",
   "execution_count": 14,
   "id": "0c8d734f",
   "metadata": {
    "execution": {
     "iopub.execute_input": "2021-08-07T01:59:49.497484Z",
     "iopub.status.busy": "2021-08-07T01:59:49.496797Z",
     "iopub.status.idle": "2021-08-07T01:59:49.504259Z",
     "shell.execute_reply": "2021-08-07T01:59:49.503685Z",
     "shell.execute_reply.started": "2021-08-07T01:59:49.497417Z"
    }
   },
   "outputs": [
    {
     "data": {
      "text/plain": [
       "IntervalIndex([(0, 10000], (10000, 30000], (30000, 50000], (50000, 100000]],\n",
       "              closed='right',\n",
       "              dtype='interval[int64]')"
      ]
     },
     "execution_count": 14,
     "metadata": {},
     "output_type": "execute_result"
    }
   ],
   "source": [
    "bins # 生成一个 区间索引"
   ]
  },
  {
   "cell_type": "code",
   "execution_count": 15,
   "id": "3f1fb072",
   "metadata": {
    "execution": {
     "iopub.execute_input": "2021-08-07T02:00:26.456013Z",
     "iopub.status.busy": "2021-08-07T02:00:26.455724Z",
     "iopub.status.idle": "2021-08-07T02:00:26.466241Z",
     "shell.execute_reply": "2021-08-07T02:00:26.464620Z",
     "shell.execute_reply.started": "2021-08-07T02:00:26.455989Z"
    }
   },
   "outputs": [
    {
     "data": {
      "text/plain": [
       "0    (50000, 100000]\n",
       "1    (50000, 100000]\n",
       "2     (10000, 30000]\n",
       "3     (30000, 50000]\n",
       "4    (50000, 100000]\n",
       "5         (0, 10000]\n",
       "6    (50000, 100000]\n",
       "7    (50000, 100000]\n",
       "8    (50000, 100000]\n",
       "9     (30000, 50000]\n",
       "Name: 销售额, dtype: category\n",
       "Categories (4, interval[int64]): [(0, 10000] < (10000, 30000] < (30000, 50000] < (50000, 100000]]"
      ]
     },
     "execution_count": 15,
     "metadata": {},
     "output_type": "execute_result"
    }
   ],
   "source": [
    "pd.cut(df.销售额,bins=bins) # 利用上面生成 的 区间索引 切片"
   ]
  },
  {
   "cell_type": "code",
   "execution_count": 12,
   "id": "521129d5",
   "metadata": {
    "execution": {
     "iopub.execute_input": "2021-08-07T01:58:13.149771Z",
     "iopub.status.busy": "2021-08-07T01:58:13.149146Z",
     "iopub.status.idle": "2021-08-07T01:58:13.160394Z",
     "shell.execute_reply": "2021-08-07T01:58:13.159278Z",
     "shell.execute_reply.started": "2021-08-07T01:58:13.149717Z"
    }
   },
   "outputs": [
    {
     "data": {
      "text/plain": [
       "0    (50000, 100000]\n",
       "1    (50000, 100000]\n",
       "2     (10000, 30000]\n",
       "3     (30000, 50000]\n",
       "4    (50000, 100000]\n",
       "5         (0, 10000]\n",
       "6    (50000, 100000]\n",
       "7    (50000, 100000]\n",
       "8    (50000, 100000]\n",
       "9     (30000, 50000]\n",
       "Name: 销售额, dtype: category\n",
       "Categories (4, interval[int64]): [(0, 10000] < (10000, 30000] < (30000, 50000] < (50000, 100000]]"
      ]
     },
     "execution_count": 12,
     "metadata": {},
     "output_type": "execute_result"
    }
   ],
   "source": [
    "pd.cut(df.销售额,bins=[0,10000,30000,50000,100000]) "
   ]
  },
  {
   "cell_type": "code",
   "execution_count": 9,
   "id": "0d6e65b2",
   "metadata": {
    "execution": {
     "iopub.execute_input": "2021-08-07T01:56:28.355736Z",
     "iopub.status.busy": "2021-08-07T01:56:28.355088Z",
     "iopub.status.idle": "2021-08-07T01:56:28.405600Z",
     "shell.execute_reply": "2021-08-07T01:56:28.404316Z",
     "shell.execute_reply.started": "2021-08-07T01:56:28.355668Z"
    }
   },
   "outputs": [
    {
     "ename": "ValueError",
     "evalue": "bins must increase monotonically.",
     "output_type": "error",
     "traceback": [
      "\u001b[0;31m---------------------------------------------------------------------------\u001b[0m",
      "\u001b[0;31mValueError\u001b[0m                                Traceback (most recent call last)",
      "\u001b[0;32m<ipython-input-9-651ef62f52aa>\u001b[0m in \u001b[0;36m<module>\u001b[0;34m\u001b[0m\n\u001b[0;32m----> 1\u001b[0;31m \u001b[0mpd\u001b[0m\u001b[0;34m.\u001b[0m\u001b[0mcut\u001b[0m\u001b[0;34m(\u001b[0m\u001b[0mdf\u001b[0m\u001b[0;34m.\u001b[0m\u001b[0m销售额\u001b[0m\u001b[0;34m,\u001b[0m\u001b[0mbins\u001b[0m\u001b[0;34m=\u001b[0m\u001b[0;34m[\u001b[0m\u001b[0;36m0\u001b[0m\u001b[0;34m,\u001b[0m\u001b[0;36m10000\u001b[0m\u001b[0;34m,\u001b[0m\u001b[0;36m50000\u001b[0m\u001b[0;34m,\u001b[0m\u001b[0;36m10000\u001b[0m\u001b[0;34m]\u001b[0m\u001b[0;34m)\u001b[0m \u001b[0;31m# 指定分割的边界值 进行切片\u001b[0m\u001b[0;34m\u001b[0m\u001b[0;34m\u001b[0m\u001b[0m\n\u001b[0m",
      "\u001b[0;32m/app/miniconda3/envs/jupyter/lib/python3.8/site-packages/pandas/core/reshape/tile.py\u001b[0m in \u001b[0;36mcut\u001b[0;34m(x, bins, right, labels, retbins, precision, include_lowest, duplicates, ordered)\u001b[0m\n\u001b[1;32m    269\u001b[0m         \u001b[0;31m# GH 26045: cast to float64 to avoid an overflow\u001b[0m\u001b[0;34m\u001b[0m\u001b[0;34m\u001b[0m\u001b[0;34m\u001b[0m\u001b[0m\n\u001b[1;32m    270\u001b[0m         \u001b[0;32mif\u001b[0m \u001b[0;34m(\u001b[0m\u001b[0mnp\u001b[0m\u001b[0;34m.\u001b[0m\u001b[0mdiff\u001b[0m\u001b[0;34m(\u001b[0m\u001b[0mbins\u001b[0m\u001b[0;34m.\u001b[0m\u001b[0mastype\u001b[0m\u001b[0;34m(\u001b[0m\u001b[0;34m\"float64\"\u001b[0m\u001b[0;34m)\u001b[0m\u001b[0;34m)\u001b[0m \u001b[0;34m<\u001b[0m \u001b[0;36m0\u001b[0m\u001b[0;34m)\u001b[0m\u001b[0;34m.\u001b[0m\u001b[0many\u001b[0m\u001b[0;34m(\u001b[0m\u001b[0;34m)\u001b[0m\u001b[0;34m:\u001b[0m\u001b[0;34m\u001b[0m\u001b[0;34m\u001b[0m\u001b[0m\n\u001b[0;32m--> 271\u001b[0;31m             \u001b[0;32mraise\u001b[0m \u001b[0mValueError\u001b[0m\u001b[0;34m(\u001b[0m\u001b[0;34m\"bins must increase monotonically.\"\u001b[0m\u001b[0;34m)\u001b[0m\u001b[0;34m\u001b[0m\u001b[0;34m\u001b[0m\u001b[0m\n\u001b[0m\u001b[1;32m    272\u001b[0m \u001b[0;34m\u001b[0m\u001b[0m\n\u001b[1;32m    273\u001b[0m     fac, bins = _bins_to_cuts(\n",
      "\u001b[0;31mValueError\u001b[0m: bins must increase monotonically."
     ]
    }
   ],
   "source": [
    "pd.cut(df.销售额,bins=[0,10000,50000,10000]) # 提示：这些分割边界的数值列表 必须是递增的数列"
   ]
  },
  {
   "cell_type": "code",
   "execution_count": 8,
   "id": "3ebdc07c",
   "metadata": {
    "execution": {
     "iopub.execute_input": "2021-08-07T01:55:43.119913Z",
     "iopub.status.busy": "2021-08-07T01:55:43.119522Z",
     "iopub.status.idle": "2021-08-07T01:55:43.133657Z",
     "shell.execute_reply": "2021-08-07T01:55:43.132561Z",
     "shell.execute_reply.started": "2021-08-07T01:55:43.119868Z"
    }
   },
   "outputs": [
    {
     "data": {
      "text/plain": [
       "0               NaN\n",
       "1               NaN\n",
       "2               NaN\n",
       "3               NaN\n",
       "4               NaN\n",
       "5    (0.0, 10000.0]\n",
       "6               NaN\n",
       "7               NaN\n",
       "8               NaN\n",
       "9               NaN\n",
       "Name: 销售额, dtype: category\n",
       "Categories (1, interval[int64]): [(0, 10000]]"
      ]
     },
     "execution_count": 8,
     "metadata": {},
     "output_type": "execute_result"
    }
   ],
   "source": [
    "pd.cut(df.销售额,bins=[0,10000]) # 指定分割的边界值 进行切片"
   ]
  }
 ],
 "metadata": {
  "kernelspec": {
   "display_name": "Python 3",
   "language": "python",
   "name": "python3"
  },
  "language_info": {
   "codemirror_mode": {
    "name": "ipython",
    "version": 3
   },
   "file_extension": ".py",
   "mimetype": "text/x-python",
   "name": "python",
   "nbconvert_exporter": "python",
   "pygments_lexer": "ipython3",
   "version": "3.8.8"
  }
 },
 "nbformat": 4,
 "nbformat_minor": 5
}
