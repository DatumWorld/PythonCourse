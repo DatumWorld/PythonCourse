{
 "cells": [
  {
   "cell_type": "markdown",
   "id": "b94424de",
   "metadata": {
    "execution": {
     "iopub.execute_input": "2021-05-10T07:18:52.990449Z",
     "iopub.status.busy": "2021-05-10T07:18:52.990449Z",
     "iopub.status.idle": "2021-05-10T07:18:52.994464Z",
     "shell.execute_reply": "2021-05-10T07:18:52.993452Z",
     "shell.execute_reply.started": "2021-05-10T07:18:52.990449Z"
    }
   },
   "source": [
    "## 73 pandas数据切片（三）"
   ]
  },
  {
   "cell_type": "markdown",
   "id": "af288b36",
   "metadata": {},
   "source": [
    "### 数据切片 qcut ，基于分位数离散化。和分类数据有一定关系\n",
    "参数 x, q, labels=None, retbins=False, precision=3, duplicates='raise'"
   ]
  },
  {
   "cell_type": "code",
   "execution_count": 1,
   "id": "1dda64d0",
   "metadata": {
    "execution": {
     "iopub.execute_input": "2021-08-07T09:48:35.377479Z",
     "iopub.status.busy": "2021-08-07T09:48:35.377128Z",
     "iopub.status.idle": "2021-08-07T09:48:35.701345Z",
     "shell.execute_reply": "2021-08-07T09:48:35.700225Z",
     "shell.execute_reply.started": "2021-08-07T09:48:35.377425Z"
    },
    "tags": []
   },
   "outputs": [],
   "source": [
    "import numpy  as np\n",
    "import pandas as pd\n",
    "from faker import Faker\n",
    "\n",
    "fake = Faker('zh_CN')\n",
    "df=pd.DataFrame(data=[ [fake.name()] for x in range(10) ],columns=['name'])\n",
    "\n",
    "df['销售额']=np.random.randint(100,100000,size=(10, 1))\n",
    "df['时间']=pd.date_range(start='2020-01-01',periods=10,freq='D')\n",
    "df.insert(0,'dept',['部门1']*5+['部门2']*5)\n",
    "df.insert(1,'dept1',['小部门1']*2+['小部门2']*3+['小部门3']*1+['小部门4']*4)"
   ]
  },
  {
   "cell_type": "code",
   "execution_count": 2,
   "id": "f6012818",
   "metadata": {
    "execution": {
     "iopub.execute_input": "2021-08-07T09:48:35.703061Z",
     "iopub.status.busy": "2021-08-07T09:48:35.702762Z",
     "iopub.status.idle": "2021-08-07T09:48:35.728376Z",
     "shell.execute_reply": "2021-08-07T09:48:35.727613Z",
     "shell.execute_reply.started": "2021-08-07T09:48:35.703038Z"
    },
    "tags": []
   },
   "outputs": [
    {
     "data": {
      "text/html": [
       "<div>\n",
       "<style scoped>\n",
       "    .dataframe tbody tr th:only-of-type {\n",
       "        vertical-align: middle;\n",
       "    }\n",
       "\n",
       "    .dataframe tbody tr th {\n",
       "        vertical-align: top;\n",
       "    }\n",
       "\n",
       "    .dataframe thead th {\n",
       "        text-align: right;\n",
       "    }\n",
       "</style>\n",
       "<table border=\"1\" class=\"dataframe\">\n",
       "  <thead>\n",
       "    <tr style=\"text-align: right;\">\n",
       "      <th></th>\n",
       "      <th>dept</th>\n",
       "      <th>dept1</th>\n",
       "      <th>name</th>\n",
       "      <th>销售额</th>\n",
       "      <th>时间</th>\n",
       "    </tr>\n",
       "  </thead>\n",
       "  <tbody>\n",
       "    <tr>\n",
       "      <th>3</th>\n",
       "      <td>部门1</td>\n",
       "      <td>小部门2</td>\n",
       "      <td>刘琴</td>\n",
       "      <td>14691</td>\n",
       "      <td>2020-01-04</td>\n",
       "    </tr>\n",
       "    <tr>\n",
       "      <th>1</th>\n",
       "      <td>部门1</td>\n",
       "      <td>小部门1</td>\n",
       "      <td>赖刚</td>\n",
       "      <td>18554</td>\n",
       "      <td>2020-01-02</td>\n",
       "    </tr>\n",
       "    <tr>\n",
       "      <th>5</th>\n",
       "      <td>部门2</td>\n",
       "      <td>小部门3</td>\n",
       "      <td>王莉</td>\n",
       "      <td>25790</td>\n",
       "      <td>2020-01-06</td>\n",
       "    </tr>\n",
       "    <tr>\n",
       "      <th>8</th>\n",
       "      <td>部门2</td>\n",
       "      <td>小部门4</td>\n",
       "      <td>黄淑兰</td>\n",
       "      <td>30647</td>\n",
       "      <td>2020-01-09</td>\n",
       "    </tr>\n",
       "    <tr>\n",
       "      <th>6</th>\n",
       "      <td>部门2</td>\n",
       "      <td>小部门4</td>\n",
       "      <td>王琴</td>\n",
       "      <td>37971</td>\n",
       "      <td>2020-01-07</td>\n",
       "    </tr>\n",
       "    <tr>\n",
       "      <th>9</th>\n",
       "      <td>部门2</td>\n",
       "      <td>小部门4</td>\n",
       "      <td>陈秀芳</td>\n",
       "      <td>58173</td>\n",
       "      <td>2020-01-10</td>\n",
       "    </tr>\n",
       "    <tr>\n",
       "      <th>0</th>\n",
       "      <td>部门1</td>\n",
       "      <td>小部门1</td>\n",
       "      <td>程杨</td>\n",
       "      <td>75023</td>\n",
       "      <td>2020-01-01</td>\n",
       "    </tr>\n",
       "    <tr>\n",
       "      <th>7</th>\n",
       "      <td>部门2</td>\n",
       "      <td>小部门4</td>\n",
       "      <td>唐玉华</td>\n",
       "      <td>81019</td>\n",
       "      <td>2020-01-08</td>\n",
       "    </tr>\n",
       "    <tr>\n",
       "      <th>4</th>\n",
       "      <td>部门1</td>\n",
       "      <td>小部门2</td>\n",
       "      <td>董海燕</td>\n",
       "      <td>92386</td>\n",
       "      <td>2020-01-05</td>\n",
       "    </tr>\n",
       "    <tr>\n",
       "      <th>2</th>\n",
       "      <td>部门1</td>\n",
       "      <td>小部门2</td>\n",
       "      <td>周玉华</td>\n",
       "      <td>92984</td>\n",
       "      <td>2020-01-03</td>\n",
       "    </tr>\n",
       "  </tbody>\n",
       "</table>\n",
       "</div>"
      ],
      "text/plain": [
       "  dept dept1 name    销售额         时间\n",
       "3  部门1  小部门2   刘琴  14691 2020-01-04\n",
       "1  部门1  小部门1   赖刚  18554 2020-01-02\n",
       "5  部门2  小部门3   王莉  25790 2020-01-06\n",
       "8  部门2  小部门4  黄淑兰  30647 2020-01-09\n",
       "6  部门2  小部门4   王琴  37971 2020-01-07\n",
       "9  部门2  小部门4  陈秀芳  58173 2020-01-10\n",
       "0  部门1  小部门1   程杨  75023 2020-01-01\n",
       "7  部门2  小部门4  唐玉华  81019 2020-01-08\n",
       "4  部门1  小部门2  董海燕  92386 2020-01-05\n",
       "2  部门1  小部门2  周玉华  92984 2020-01-03"
      ]
     },
     "execution_count": 2,
     "metadata": {},
     "output_type": "execute_result"
    }
   ],
   "source": [
    "df.sort_values('销售额') # 随机生成的数据"
   ]
  },
  {
   "cell_type": "code",
   "execution_count": 19,
   "id": "4121ca50",
   "metadata": {
    "execution": {
     "iopub.execute_input": "2021-08-07T09:56:23.170328Z",
     "iopub.status.busy": "2021-08-07T09:56:23.169893Z",
     "iopub.status.idle": "2021-08-07T09:56:23.181956Z",
     "shell.execute_reply": "2021-08-07T09:56:23.180188Z",
     "shell.execute_reply.started": "2021-08-07T09:56:23.170294Z"
    }
   },
   "outputs": [
    {
     "data": {
      "text/plain": [
       "(0      (48072.0, 79520.0]\n",
       " 1    (14690.99, 27004.25]\n",
       " 2      (79520.0, 92984.0]\n",
       " 3    (14690.99, 27004.25]\n",
       " 4      (79520.0, 92984.0]\n",
       " 5    (14690.99, 27004.25]\n",
       " 6     (27004.25, 48072.0]\n",
       " 7      (79520.0, 92984.0]\n",
       " 8     (27004.25, 48072.0]\n",
       " 9      (48072.0, 79520.0]\n",
       " Name: 销售额, dtype: category\n",
       " Categories (4, interval[float64]): [(14690.99, 27004.25] < (27004.25, 48072.0] < (48072.0, 79520.0] < (79520.0, 92984.0]],\n",
       " array([14691.  , 27004.25, 48072.  , 79520.  , 92984.  ]))"
      ]
     },
     "execution_count": 19,
     "metadata": {},
     "output_type": "execute_result"
    }
   ],
   "source": [
    "pd.qcut(df.销售额,q=4,retbins=1,precision=2,duplicates='drop') # duplicates 重复值处理，drop 删除  raise 报错。类似cut"
   ]
  },
  {
   "cell_type": "code",
   "execution_count": 17,
   "id": "c8ede461",
   "metadata": {
    "execution": {
     "iopub.execute_input": "2021-08-07T09:55:37.081631Z",
     "iopub.status.busy": "2021-08-07T09:55:37.081165Z",
     "iopub.status.idle": "2021-08-07T09:55:37.093282Z",
     "shell.execute_reply": "2021-08-07T09:55:37.092194Z",
     "shell.execute_reply.started": "2021-08-07T09:55:37.081594Z"
    }
   },
   "outputs": [
    {
     "data": {
      "text/plain": [
       "(0      (48072.0, 79520.0]\n",
       " 1    (14690.99, 27004.25]\n",
       " 2      (79520.0, 92984.0]\n",
       " 3    (14690.99, 27004.25]\n",
       " 4      (79520.0, 92984.0]\n",
       " 5    (14690.99, 27004.25]\n",
       " 6     (27004.25, 48072.0]\n",
       " 7      (79520.0, 92984.0]\n",
       " 8     (27004.25, 48072.0]\n",
       " 9      (48072.0, 79520.0]\n",
       " Name: 销售额, dtype: category\n",
       " Categories (4, interval[float64]): [(14690.99, 27004.25] < (27004.25, 48072.0] < (48072.0, 79520.0] < (79520.0, 92984.0]],\n",
       " array([14691.  , 27004.25, 48072.  , 79520.  , 92984.  ]))"
      ]
     },
     "execution_count": 17,
     "metadata": {},
     "output_type": "execute_result"
    }
   ],
   "source": [
    "pd.qcut(df.销售额,q=4,retbins=1,precision=2) # precision 控制精度"
   ]
  },
  {
   "cell_type": "code",
   "execution_count": 13,
   "id": "e2fff3f2",
   "metadata": {
    "execution": {
     "iopub.execute_input": "2021-08-07T09:53:59.176421Z",
     "iopub.status.busy": "2021-08-07T09:53:59.175956Z",
     "iopub.status.idle": "2021-08-07T09:53:59.188827Z",
     "shell.execute_reply": "2021-08-07T09:53:59.187656Z",
     "shell.execute_reply.started": "2021-08-07T09:53:59.176381Z"
    }
   },
   "outputs": [
    {
     "data": {
      "text/plain": [
       "(0    3\n",
       " 1    1\n",
       " 2    4\n",
       " 3    1\n",
       " 4    4\n",
       " 5    1\n",
       " 6    2\n",
       " 7    4\n",
       " 8    2\n",
       " 9    3\n",
       " Name: 销售额, dtype: category\n",
       " Categories (4, object): ['1' < '2' < '3' < '4'],\n",
       " array([14691.  , 27004.25, 48072.  , 79520.  , 92984.  ]))"
      ]
     },
     "execution_count": 13,
     "metadata": {},
     "output_type": "execute_result"
    }
   ],
   "source": [
    "pd.qcut(df.销售额,q=4,labels=['1','2','3','4'],retbins=1) # retbins 给出 含分界值的数组"
   ]
  },
  {
   "cell_type": "code",
   "execution_count": 12,
   "id": "dc612612",
   "metadata": {
    "execution": {
     "iopub.execute_input": "2021-08-07T09:53:21.648891Z",
     "iopub.status.busy": "2021-08-07T09:53:21.648289Z",
     "iopub.status.idle": "2021-08-07T09:53:21.660785Z",
     "shell.execute_reply": "2021-08-07T09:53:21.660059Z",
     "shell.execute_reply.started": "2021-08-07T09:53:21.648841Z"
    }
   },
   "outputs": [
    {
     "data": {
      "text/plain": [
       "0    3\n",
       "1    1\n",
       "2    4\n",
       "3    1\n",
       "4    4\n",
       "5    1\n",
       "6    2\n",
       "7    4\n",
       "8    2\n",
       "9    3\n",
       "Name: 销售额, dtype: category\n",
       "Categories (4, object): ['1' < '2' < '3' < '4']"
      ]
     },
     "execution_count": 12,
     "metadata": {},
     "output_type": "execute_result"
    }
   ],
   "source": [
    "pd.qcut(df.销售额,q=4,labels=['1','2','3','4']) # labels 自定义标签"
   ]
  },
  {
   "cell_type": "code",
   "execution_count": 11,
   "id": "674224b9",
   "metadata": {
    "execution": {
     "iopub.execute_input": "2021-08-07T09:52:18.166521Z",
     "iopub.status.busy": "2021-08-07T09:52:18.166138Z",
     "iopub.status.idle": "2021-08-07T09:52:18.182161Z",
     "shell.execute_reply": "2021-08-07T09:52:18.180139Z",
     "shell.execute_reply.started": "2021-08-07T09:52:18.166489Z"
    }
   },
   "outputs": [
    {
     "data": {
      "text/plain": [
       "0       (48072.0, 79520.0]\n",
       "1    (14690.999, 27004.25]\n",
       "2       (79520.0, 92984.0]\n",
       "3    (14690.999, 27004.25]\n",
       "4       (79520.0, 92984.0]\n",
       "5    (14690.999, 27004.25]\n",
       "6      (27004.25, 48072.0]\n",
       "7       (79520.0, 92984.0]\n",
       "8      (27004.25, 48072.0]\n",
       "9       (48072.0, 79520.0]\n",
       "Name: 销售额, dtype: category\n",
       "Categories (4, interval[float64]): [(14690.999, 27004.25] < (27004.25, 48072.0] < (48072.0, 79520.0] < (79520.0, 92984.0]]"
      ]
     },
     "execution_count": 11,
     "metadata": {},
     "output_type": "execute_result"
    }
   ],
   "source": [
    "pd.qcut(df.销售额,q=4) # 基于分位数离散化。上下对照"
   ]
  },
  {
   "cell_type": "code",
   "execution_count": 10,
   "id": "1389e375",
   "metadata": {
    "execution": {
     "iopub.execute_input": "2021-08-07T09:51:45.015851Z",
     "iopub.status.busy": "2021-08-07T09:51:45.015434Z",
     "iopub.status.idle": "2021-08-07T09:51:45.028054Z",
     "shell.execute_reply": "2021-08-07T09:51:45.026953Z",
     "shell.execute_reply.started": "2021-08-07T09:51:45.015818Z"
    }
   },
   "outputs": [
    {
     "data": {
      "text/plain": [
       "0       (48072.0, 79520.0]\n",
       "1    (14690.999, 27004.25]\n",
       "2       (79520.0, 92984.0]\n",
       "3    (14690.999, 27004.25]\n",
       "4       (79520.0, 92984.0]\n",
       "5    (14690.999, 27004.25]\n",
       "6      (27004.25, 48072.0]\n",
       "7       (79520.0, 92984.0]\n",
       "8      (27004.25, 48072.0]\n",
       "9       (48072.0, 79520.0]\n",
       "Name: 销售额, dtype: category\n",
       "Categories (4, interval[float64]): [(14690.999, 27004.25] < (27004.25, 48072.0] < (48072.0, 79520.0] < (79520.0, 92984.0]]"
      ]
     },
     "execution_count": 10,
     "metadata": {},
     "output_type": "execute_result"
    }
   ],
   "source": [
    "pd.qcut(df.销售额,q=[0,.25,.5,.75,1]) # 基于分位数离散化。q可以是list"
   ]
  },
  {
   "cell_type": "code",
   "execution_count": 9,
   "id": "e1ec8697",
   "metadata": {
    "execution": {
     "iopub.execute_input": "2021-08-07T09:51:02.410687Z",
     "iopub.status.busy": "2021-08-07T09:51:02.410262Z",
     "iopub.status.idle": "2021-08-07T09:51:02.423156Z",
     "shell.execute_reply": "2021-08-07T09:51:02.422379Z",
     "shell.execute_reply.started": "2021-08-07T09:51:02.410653Z"
    }
   },
   "outputs": [
    {
     "data": {
      "text/plain": [
       "0    (70427.545, 78293.545]\n",
       "1    (17851.636, 23158.727]\n",
       "2      (92494.727, 92984.0]\n",
       "3    (14690.999, 17851.636]\n",
       "4    (85152.455, 92494.727]\n",
       "5    (23158.727, 27997.727]\n",
       "6    (32644.455, 39807.545]\n",
       "7    (78293.545, 85152.455]\n",
       "8    (27997.727, 32644.455]\n",
       "9    (56336.455, 70427.545]\n",
       "Name: 销售额, dtype: category\n",
       "Categories (11, interval[float64]): [(14690.999, 17851.636] < (17851.636, 23158.727] < (23158.727, 27997.727] < (27997.727, 32644.455] ... (70427.545, 78293.545] < (78293.545, 85152.455] < (85152.455, 92494.727] < (92494.727, 92984.0]]"
      ]
     },
     "execution_count": 9,
     "metadata": {},
     "output_type": "execute_result"
    }
   ],
   "source": [
    "pd.qcut(df.销售额,q=11) # 基于分位数离散化。q 分位数"
   ]
  }
 ],
 "metadata": {
  "kernelspec": {
   "display_name": "Python 3 (ipykernel)",
   "language": "python",
   "name": "python3"
  },
  "language_info": {
   "codemirror_mode": {
    "name": "ipython",
    "version": 3
   },
   "file_extension": ".py",
   "mimetype": "text/x-python",
   "name": "python",
   "nbconvert_exporter": "python",
   "pygments_lexer": "ipython3",
   "version": "3.8.10"
  }
 },
 "nbformat": 4,
 "nbformat_minor": 5
}
