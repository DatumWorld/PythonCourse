{
 "cells": [
  {
   "cell_type": "markdown",
   "id": "native-silicon",
   "metadata": {
    "execution": {
     "iopub.execute_input": "2021-05-10T07:18:52.990449Z",
     "iopub.status.busy": "2021-05-10T07:18:52.990449Z",
     "iopub.status.idle": "2021-05-10T07:18:52.994464Z",
     "shell.execute_reply": "2021-05-10T07:18:52.993452Z",
     "shell.execute_reply.started": "2021-05-10T07:18:52.990449Z"
    }
   },
   "source": [
    "## 80 eval查询计算修改"
   ]
  },
  {
   "cell_type": "markdown",
   "id": "hungry-heater",
   "metadata": {
    "jp-MarkdownHeadingCollapsed": true,
    "tags": []
   },
   "source": [
    "### eval 将字符串描述的运算操作作用于表格的列。"
   ]
  },
  {
   "cell_type": "code",
   "execution_count": 1,
   "id": "illegal-prairie",
   "metadata": {
    "execution": {
     "iopub.execute_input": "2021-08-11T02:20:24.527212Z",
     "iopub.status.busy": "2021-08-11T02:20:24.527212Z",
     "iopub.status.idle": "2021-08-11T02:20:24.830224Z",
     "shell.execute_reply": "2021-08-11T02:20:24.830224Z",
     "shell.execute_reply.started": "2021-08-11T02:20:24.527212Z"
    },
    "tags": []
   },
   "outputs": [],
   "source": [
    "import numpy  as np\n",
    "import pandas as pd\n",
    "from faker import Faker\n",
    "\n",
    "fake = Faker('zh_CN')\n",
    "df=pd.DataFrame(data=[ [fake.name()] for x in range(10) ],columns=['name'])\n",
    "\n",
    "df['销售额']=np.random.randint(100,100000,size=(10, 1))\n",
    "df['时间']=pd.date_range(start='2020-01-01',periods=10,freq='D')\n",
    "df.insert(0,'dept',['部门1']*5+['部门2']*5)\n",
    "df.insert(1,'dept 1',['小部门1']*2+['小部门2']*3+['小部门3']*1+['小部门4']*4)"
   ]
  },
  {
   "cell_type": "markdown",
   "id": "26c34ee2-b934-4459-b3bc-3065ccd98f50",
   "metadata": {
    "tags": []
   },
   "source": [
    "### 演示数据"
   ]
  },
  {
   "cell_type": "code",
   "execution_count": 2,
   "id": "aa8d9bcc-4b8e-4796-9ecc-dec527dac496",
   "metadata": {
    "execution": {
     "iopub.execute_input": "2021-08-11T02:20:24.831195Z",
     "iopub.status.busy": "2021-08-11T02:20:24.831195Z",
     "iopub.status.idle": "2021-08-11T02:20:24.835225Z",
     "shell.execute_reply": "2021-08-11T02:20:24.835225Z",
     "shell.execute_reply.started": "2021-08-11T02:20:24.831195Z"
    },
    "tags": []
   },
   "outputs": [],
   "source": [
    "df.iloc[0,3]=np.nan #  修改成nan\n",
    "df.iloc[1,3]=df.iloc[5,3] #  修改成一样"
   ]
  },
  {
   "cell_type": "code",
   "execution_count": 12,
   "id": "sufficient-voltage",
   "metadata": {
    "execution": {
     "iopub.execute_input": "2021-08-11T02:26:53.786194Z",
     "iopub.status.busy": "2021-08-11T02:26:53.786194Z",
     "iopub.status.idle": "2021-08-11T02:26:53.798206Z",
     "shell.execute_reply": "2021-08-11T02:26:53.797212Z",
     "shell.execute_reply.started": "2021-08-11T02:26:53.786194Z"
    },
    "tags": []
   },
   "outputs": [
    {
     "data": {
      "text/html": [
       "<div>\n",
       "<style scoped>\n",
       "    .dataframe tbody tr th:only-of-type {\n",
       "        vertical-align: middle;\n",
       "    }\n",
       "\n",
       "    .dataframe tbody tr th {\n",
       "        vertical-align: top;\n",
       "    }\n",
       "\n",
       "    .dataframe thead th {\n",
       "        text-align: right;\n",
       "    }\n",
       "</style>\n",
       "<table border=\"1\" class=\"dataframe\">\n",
       "  <thead>\n",
       "    <tr style=\"text-align: right;\">\n",
       "      <th></th>\n",
       "      <th>dept</th>\n",
       "      <th>dept 1</th>\n",
       "      <th>name</th>\n",
       "      <th>销售额</th>\n",
       "      <th>时间</th>\n",
       "    </tr>\n",
       "  </thead>\n",
       "  <tbody>\n",
       "    <tr>\n",
       "      <th>0</th>\n",
       "      <td>部门1</td>\n",
       "      <td>小部门1</td>\n",
       "      <td>杨颖</td>\n",
       "      <td>NaN</td>\n",
       "      <td>2020-01-01</td>\n",
       "    </tr>\n",
       "    <tr>\n",
       "      <th>1</th>\n",
       "      <td>部门1</td>\n",
       "      <td>小部门1</td>\n",
       "      <td>侯婷婷</td>\n",
       "      <td>46064.0</td>\n",
       "      <td>2020-01-02</td>\n",
       "    </tr>\n",
       "    <tr>\n",
       "      <th>2</th>\n",
       "      <td>部门1</td>\n",
       "      <td>小部门2</td>\n",
       "      <td>秦楠</td>\n",
       "      <td>19799.0</td>\n",
       "      <td>2020-01-03</td>\n",
       "    </tr>\n",
       "    <tr>\n",
       "      <th>3</th>\n",
       "      <td>部门1</td>\n",
       "      <td>小部门2</td>\n",
       "      <td>张兵</td>\n",
       "      <td>55830.0</td>\n",
       "      <td>2020-01-04</td>\n",
       "    </tr>\n",
       "    <tr>\n",
       "      <th>4</th>\n",
       "      <td>部门1</td>\n",
       "      <td>小部门2</td>\n",
       "      <td>李秀芳</td>\n",
       "      <td>87647.0</td>\n",
       "      <td>2020-01-05</td>\n",
       "    </tr>\n",
       "    <tr>\n",
       "      <th>5</th>\n",
       "      <td>部门2</td>\n",
       "      <td>小部门3</td>\n",
       "      <td>张华</td>\n",
       "      <td>46064.0</td>\n",
       "      <td>2020-01-06</td>\n",
       "    </tr>\n",
       "    <tr>\n",
       "      <th>6</th>\n",
       "      <td>部门2</td>\n",
       "      <td>小部门4</td>\n",
       "      <td>殷秀珍</td>\n",
       "      <td>63625.0</td>\n",
       "      <td>2020-01-07</td>\n",
       "    </tr>\n",
       "    <tr>\n",
       "      <th>7</th>\n",
       "      <td>部门2</td>\n",
       "      <td>小部门4</td>\n",
       "      <td>袁勇</td>\n",
       "      <td>51770.0</td>\n",
       "      <td>2020-01-08</td>\n",
       "    </tr>\n",
       "    <tr>\n",
       "      <th>8</th>\n",
       "      <td>部门2</td>\n",
       "      <td>小部门4</td>\n",
       "      <td>张桂花</td>\n",
       "      <td>33423.0</td>\n",
       "      <td>2020-01-09</td>\n",
       "    </tr>\n",
       "    <tr>\n",
       "      <th>9</th>\n",
       "      <td>部门2</td>\n",
       "      <td>小部门4</td>\n",
       "      <td>岳凤兰</td>\n",
       "      <td>85151.0</td>\n",
       "      <td>2020-01-10</td>\n",
       "    </tr>\n",
       "  </tbody>\n",
       "</table>\n",
       "</div>"
      ],
      "text/plain": [
       "  dept dept 1 name      销售额         时间\n",
       "0  部门1   小部门1   杨颖      NaN 2020-01-01\n",
       "1  部门1   小部门1  侯婷婷  46064.0 2020-01-02\n",
       "2  部门1   小部门2   秦楠  19799.0 2020-01-03\n",
       "3  部门1   小部门2   张兵  55830.0 2020-01-04\n",
       "4  部门1   小部门2  李秀芳  87647.0 2020-01-05\n",
       "5  部门2   小部门3   张华  46064.0 2020-01-06\n",
       "6  部门2   小部门4  殷秀珍  63625.0 2020-01-07\n",
       "7  部门2   小部门4   袁勇  51770.0 2020-01-08\n",
       "8  部门2   小部门4  张桂花  33423.0 2020-01-09\n",
       "9  部门2   小部门4  岳凤兰  85151.0 2020-01-10"
      ]
     },
     "execution_count": 12,
     "metadata": {},
     "output_type": "execute_result"
    }
   ],
   "source": [
    "df # 随机生成的数据"
   ]
  },
  {
   "cell_type": "code",
   "execution_count": 18,
   "id": "47aad7d6-bbe5-42be-9787-bcefb034d9a8",
   "metadata": {
    "execution": {
     "iopub.execute_input": "2021-08-11T02:29:50.566194Z",
     "iopub.status.busy": "2021-08-11T02:29:50.566194Z",
     "iopub.status.idle": "2021-08-11T02:29:50.575208Z",
     "shell.execute_reply": "2021-08-11T02:29:50.574215Z",
     "shell.execute_reply.started": "2021-08-11T02:29:50.566194Z"
    },
    "tags": []
   },
   "outputs": [
    {
     "data": {
      "text/plain": [
       "0    False\n",
       "1     True\n",
       "2     True\n",
       "3    False\n",
       "4    False\n",
       "5    False\n",
       "6    False\n",
       "7    False\n",
       "8    False\n",
       "9    False\n",
       "dtype: bool"
      ]
     },
     "execution_count": 18,
     "metadata": {},
     "output_type": "execute_result"
    }
   ],
   "source": [
    "dept_name='部门1'\n",
    "df.eval('''1000<销售额<50000 and dept==@dept_name ''') # 多条件查询 。numexpr语法模式.@引入外部参数"
   ]
  },
  {
   "cell_type": "code",
   "execution_count": 19,
   "id": "2daab61a-937d-4a5a-a7c6-098275e0c15b",
   "metadata": {
    "execution": {
     "iopub.execute_input": "2021-08-11T02:29:54.777194Z",
     "iopub.status.busy": "2021-08-11T02:29:54.777194Z",
     "iopub.status.idle": "2021-08-11T02:29:54.787204Z",
     "shell.execute_reply": "2021-08-11T02:29:54.786197Z",
     "shell.execute_reply.started": "2021-08-11T02:29:54.777194Z"
    },
    "tags": []
   },
   "outputs": [
    {
     "data": {
      "text/plain": [
       "0    False\n",
       "1     True\n",
       "2     True\n",
       "3    False\n",
       "4    False\n",
       "5    False\n",
       "6    False\n",
       "7    False\n",
       "8    False\n",
       "9    False\n",
       "dtype: bool"
      ]
     },
     "execution_count": 19,
     "metadata": {},
     "output_type": "execute_result"
    }
   ],
   "source": [
    "df.eval('''1000<销售额<50000 and dept=='部门1' ''') # 多条件查询 。numexpr语法模式"
   ]
  },
  {
   "cell_type": "code",
   "execution_count": 13,
   "id": "7e28a989-fa6a-4862-842a-2791eec8e9f5",
   "metadata": {
    "execution": {
     "iopub.execute_input": "2021-08-11T02:27:34.317196Z",
     "iopub.status.busy": "2021-08-11T02:27:34.317196Z",
     "iopub.status.idle": "2021-08-11T02:27:34.325197Z",
     "shell.execute_reply": "2021-08-11T02:27:34.324195Z",
     "shell.execute_reply.started": "2021-08-11T02:27:34.317196Z"
    },
    "tags": []
   },
   "outputs": [
    {
     "data": {
      "text/plain": [
       "0    False\n",
       "1     True\n",
       "2     True\n",
       "3     True\n",
       "4     True\n",
       "5     True\n",
       "6     True\n",
       "7     True\n",
       "8     True\n",
       "9     True\n",
       "dtype: bool"
      ]
     },
     "execution_count": 13,
     "metadata": {},
     "output_type": "execute_result"
    }
   ],
   "source": [
    "df.eval('''销售额>10000 ''') # 查询 。类似query"
   ]
  },
  {
   "cell_type": "code",
   "execution_count": 11,
   "id": "9a296fca-a3d8-4d20-a25b-1697663f8aa4",
   "metadata": {
    "execution": {
     "iopub.execute_input": "2021-08-11T02:26:30.967194Z",
     "iopub.status.busy": "2021-08-11T02:26:30.967194Z",
     "iopub.status.idle": "2021-08-11T02:26:30.982194Z",
     "shell.execute_reply": "2021-08-11T02:26:30.981225Z",
     "shell.execute_reply.started": "2021-08-11T02:26:30.967194Z"
    },
    "tags": []
   },
   "outputs": [
    {
     "data": {
      "text/html": [
       "<div>\n",
       "<style scoped>\n",
       "    .dataframe tbody tr th:only-of-type {\n",
       "        vertical-align: middle;\n",
       "    }\n",
       "\n",
       "    .dataframe tbody tr th {\n",
       "        vertical-align: top;\n",
       "    }\n",
       "\n",
       "    .dataframe thead th {\n",
       "        text-align: right;\n",
       "    }\n",
       "</style>\n",
       "<table border=\"1\" class=\"dataframe\">\n",
       "  <thead>\n",
       "    <tr style=\"text-align: right;\">\n",
       "      <th></th>\n",
       "      <th>dept</th>\n",
       "      <th>dept 1</th>\n",
       "      <th>name</th>\n",
       "      <th>销售额</th>\n",
       "      <th>时间</th>\n",
       "      <th>提成</th>\n",
       "    </tr>\n",
       "  </thead>\n",
       "  <tbody>\n",
       "    <tr>\n",
       "      <th>0</th>\n",
       "      <td>部门1</td>\n",
       "      <td>小部门1</td>\n",
       "      <td>杨颖</td>\n",
       "      <td>NaN</td>\n",
       "      <td>2020-01-01</td>\n",
       "      <td>NaN</td>\n",
       "    </tr>\n",
       "    <tr>\n",
       "      <th>1</th>\n",
       "      <td>部门1</td>\n",
       "      <td>小部门1</td>\n",
       "      <td>侯婷婷</td>\n",
       "      <td>46064.0</td>\n",
       "      <td>2020-01-02</td>\n",
       "      <td>4606.4</td>\n",
       "    </tr>\n",
       "    <tr>\n",
       "      <th>2</th>\n",
       "      <td>部门1</td>\n",
       "      <td>小部门2</td>\n",
       "      <td>秦楠</td>\n",
       "      <td>19799.0</td>\n",
       "      <td>2020-01-03</td>\n",
       "      <td>1979.9</td>\n",
       "    </tr>\n",
       "    <tr>\n",
       "      <th>3</th>\n",
       "      <td>部门1</td>\n",
       "      <td>小部门2</td>\n",
       "      <td>张兵</td>\n",
       "      <td>55830.0</td>\n",
       "      <td>2020-01-04</td>\n",
       "      <td>5583.0</td>\n",
       "    </tr>\n",
       "    <tr>\n",
       "      <th>4</th>\n",
       "      <td>部门1</td>\n",
       "      <td>小部门2</td>\n",
       "      <td>李秀芳</td>\n",
       "      <td>87647.0</td>\n",
       "      <td>2020-01-05</td>\n",
       "      <td>8764.7</td>\n",
       "    </tr>\n",
       "    <tr>\n",
       "      <th>5</th>\n",
       "      <td>部门2</td>\n",
       "      <td>小部门3</td>\n",
       "      <td>张华</td>\n",
       "      <td>46064.0</td>\n",
       "      <td>2020-01-06</td>\n",
       "      <td>4606.4</td>\n",
       "    </tr>\n",
       "    <tr>\n",
       "      <th>6</th>\n",
       "      <td>部门2</td>\n",
       "      <td>小部门4</td>\n",
       "      <td>殷秀珍</td>\n",
       "      <td>63625.0</td>\n",
       "      <td>2020-01-07</td>\n",
       "      <td>6362.5</td>\n",
       "    </tr>\n",
       "    <tr>\n",
       "      <th>7</th>\n",
       "      <td>部门2</td>\n",
       "      <td>小部门4</td>\n",
       "      <td>袁勇</td>\n",
       "      <td>51770.0</td>\n",
       "      <td>2020-01-08</td>\n",
       "      <td>5177.0</td>\n",
       "    </tr>\n",
       "    <tr>\n",
       "      <th>8</th>\n",
       "      <td>部门2</td>\n",
       "      <td>小部门4</td>\n",
       "      <td>张桂花</td>\n",
       "      <td>33423.0</td>\n",
       "      <td>2020-01-09</td>\n",
       "      <td>3342.3</td>\n",
       "    </tr>\n",
       "    <tr>\n",
       "      <th>9</th>\n",
       "      <td>部门2</td>\n",
       "      <td>小部门4</td>\n",
       "      <td>岳凤兰</td>\n",
       "      <td>85151.0</td>\n",
       "      <td>2020-01-10</td>\n",
       "      <td>8515.1</td>\n",
       "    </tr>\n",
       "  </tbody>\n",
       "</table>\n",
       "</div>"
      ],
      "text/plain": [
       "  dept dept 1 name      销售额         时间      提成\n",
       "0  部门1   小部门1   杨颖      NaN 2020-01-01     NaN\n",
       "1  部门1   小部门1  侯婷婷  46064.0 2020-01-02  4606.4\n",
       "2  部门1   小部门2   秦楠  19799.0 2020-01-03  1979.9\n",
       "3  部门1   小部门2   张兵  55830.0 2020-01-04  5583.0\n",
       "4  部门1   小部门2  李秀芳  87647.0 2020-01-05  8764.7\n",
       "5  部门2   小部门3   张华  46064.0 2020-01-06  4606.4\n",
       "6  部门2   小部门4  殷秀珍  63625.0 2020-01-07  6362.5\n",
       "7  部门2   小部门4   袁勇  51770.0 2020-01-08  5177.0\n",
       "8  部门2   小部门4  张桂花  33423.0 2020-01-09  3342.3\n",
       "9  部门2   小部门4  岳凤兰  85151.0 2020-01-10  8515.1"
      ]
     },
     "execution_count": 11,
     "metadata": {},
     "output_type": "execute_result"
    }
   ],
   "source": [
    "pd.eval('''提成= df.销售额*.1''',target=df) # pd上的用法"
   ]
  },
  {
   "cell_type": "code",
   "execution_count": 10,
   "id": "8a884274-a858-4fb2-99da-35fe74af6259",
   "metadata": {
    "execution": {
     "iopub.execute_input": "2021-08-11T02:24:45.925193Z",
     "iopub.status.busy": "2021-08-11T02:24:45.924191Z",
     "iopub.status.idle": "2021-08-11T02:24:45.956207Z",
     "shell.execute_reply": "2021-08-11T02:24:45.955204Z",
     "shell.execute_reply.started": "2021-08-11T02:24:45.925193Z"
    },
    "tags": []
   },
   "outputs": [
    {
     "ename": "ValueError",
     "evalue": "data type must provide an itemsize",
     "output_type": "error",
     "traceback": [
      "\u001b[1;31m---------------------------------------------------------------------------\u001b[0m",
      "\u001b[1;31mValueError\u001b[0m                                Traceback (most recent call last)",
      "\u001b[1;32mC:\\Users\\ADMINI~1\\AppData\\Local\\Temp\\1/ipykernel_10176/2291570815.py\u001b[0m in \u001b[0;36m<module>\u001b[1;34m\u001b[0m\n\u001b[1;32m----> 1\u001b[1;33m df.eval('''提成= 销售额*.1\n\u001b[0m\u001b[0;32m      2\u001b[0m \u001b[0m提成_修正\u001b[0m\u001b[1;33m=\u001b[0m \u001b[0m提成\u001b[0m\u001b[1;33m*\u001b[0m\u001b[1;36m1.1\u001b[0m\u001b[1;33m\u001b[0m\u001b[1;33m\u001b[0m\u001b[0m\n\u001b[0;32m      3\u001b[0m \u001b[0m时间\u001b[0m\u001b[1;33m=\u001b[0m\u001b[1;34m'nan'\u001b[0m\u001b[1;33m\u001b[0m\u001b[1;33m\u001b[0m\u001b[0m\n\u001b[0;32m      4\u001b[0m ''') # 再增加 提成—_修正 列= 提成*1.1. 多列模式\n",
      "\u001b[1;32md:\\datacenterkun\\jupyter\\venv\\lib\\site-packages\\pandas\\core\\frame.py\u001b[0m in \u001b[0;36meval\u001b[1;34m(self, expr, inplace, **kwargs)\u001b[0m\n\u001b[0;32m   3597\u001b[0m         \u001b[0mkwargs\u001b[0m\u001b[1;33m[\u001b[0m\u001b[1;34m\"resolvers\"\u001b[0m\u001b[1;33m]\u001b[0m \u001b[1;33m=\u001b[0m \u001b[0mkwargs\u001b[0m\u001b[1;33m.\u001b[0m\u001b[0mget\u001b[0m\u001b[1;33m(\u001b[0m\u001b[1;34m\"resolvers\"\u001b[0m\u001b[1;33m,\u001b[0m \u001b[1;33m(\u001b[0m\u001b[1;33m)\u001b[0m\u001b[1;33m)\u001b[0m \u001b[1;33m+\u001b[0m \u001b[0mtuple\u001b[0m\u001b[1;33m(\u001b[0m\u001b[0mresolvers\u001b[0m\u001b[1;33m)\u001b[0m\u001b[1;33m\u001b[0m\u001b[1;33m\u001b[0m\u001b[0m\n\u001b[0;32m   3598\u001b[0m \u001b[1;33m\u001b[0m\u001b[0m\n\u001b[1;32m-> 3599\u001b[1;33m         \u001b[1;32mreturn\u001b[0m \u001b[0m_eval\u001b[0m\u001b[1;33m(\u001b[0m\u001b[0mexpr\u001b[0m\u001b[1;33m,\u001b[0m \u001b[0minplace\u001b[0m\u001b[1;33m=\u001b[0m\u001b[0minplace\u001b[0m\u001b[1;33m,\u001b[0m \u001b[1;33m**\u001b[0m\u001b[0mkwargs\u001b[0m\u001b[1;33m)\u001b[0m\u001b[1;33m\u001b[0m\u001b[1;33m\u001b[0m\u001b[0m\n\u001b[0m\u001b[0;32m   3600\u001b[0m \u001b[1;33m\u001b[0m\u001b[0m\n\u001b[0;32m   3601\u001b[0m     \u001b[1;32mdef\u001b[0m \u001b[0mselect_dtypes\u001b[0m\u001b[1;33m(\u001b[0m\u001b[0mself\u001b[0m\u001b[1;33m,\u001b[0m \u001b[0minclude\u001b[0m\u001b[1;33m=\u001b[0m\u001b[1;32mNone\u001b[0m\u001b[1;33m,\u001b[0m \u001b[0mexclude\u001b[0m\u001b[1;33m=\u001b[0m\u001b[1;32mNone\u001b[0m\u001b[1;33m)\u001b[0m \u001b[1;33m->\u001b[0m \u001b[0mDataFrame\u001b[0m\u001b[1;33m:\u001b[0m\u001b[1;33m\u001b[0m\u001b[1;33m\u001b[0m\u001b[0m\n",
      "\u001b[1;32md:\\datacenterkun\\jupyter\\venv\\lib\\site-packages\\pandas\\core\\computation\\eval.py\u001b[0m in \u001b[0;36meval\u001b[1;34m(expr, parser, engine, truediv, local_dict, global_dict, resolvers, level, target, inplace)\u001b[0m\n\u001b[0;32m    345\u001b[0m         \u001b[0meng\u001b[0m \u001b[1;33m=\u001b[0m \u001b[0mENGINES\u001b[0m\u001b[1;33m[\u001b[0m\u001b[0mengine\u001b[0m\u001b[1;33m]\u001b[0m\u001b[1;33m\u001b[0m\u001b[1;33m\u001b[0m\u001b[0m\n\u001b[0;32m    346\u001b[0m         \u001b[0meng_inst\u001b[0m \u001b[1;33m=\u001b[0m \u001b[0meng\u001b[0m\u001b[1;33m(\u001b[0m\u001b[0mparsed_expr\u001b[0m\u001b[1;33m)\u001b[0m\u001b[1;33m\u001b[0m\u001b[1;33m\u001b[0m\u001b[0m\n\u001b[1;32m--> 347\u001b[1;33m         \u001b[0mret\u001b[0m \u001b[1;33m=\u001b[0m \u001b[0meng_inst\u001b[0m\u001b[1;33m.\u001b[0m\u001b[0mevaluate\u001b[0m\u001b[1;33m(\u001b[0m\u001b[1;33m)\u001b[0m\u001b[1;33m\u001b[0m\u001b[1;33m\u001b[0m\u001b[0m\n\u001b[0m\u001b[0;32m    348\u001b[0m \u001b[1;33m\u001b[0m\u001b[0m\n\u001b[0;32m    349\u001b[0m         \u001b[1;32mif\u001b[0m \u001b[0mparsed_expr\u001b[0m\u001b[1;33m.\u001b[0m\u001b[0massigner\u001b[0m \u001b[1;32mis\u001b[0m \u001b[1;32mNone\u001b[0m\u001b[1;33m:\u001b[0m\u001b[1;33m\u001b[0m\u001b[1;33m\u001b[0m\u001b[0m\n",
      "\u001b[1;32md:\\datacenterkun\\jupyter\\venv\\lib\\site-packages\\pandas\\core\\computation\\engines.py\u001b[0m in \u001b[0;36mevaluate\u001b[1;34m(self)\u001b[0m\n\u001b[0;32m     71\u001b[0m \u001b[1;33m\u001b[0m\u001b[0m\n\u001b[0;32m     72\u001b[0m         \u001b[1;31m# make sure no names in resolvers and locals/globals clash\u001b[0m\u001b[1;33m\u001b[0m\u001b[1;33m\u001b[0m\u001b[1;33m\u001b[0m\u001b[0m\n\u001b[1;32m---> 73\u001b[1;33m         \u001b[0mres\u001b[0m \u001b[1;33m=\u001b[0m \u001b[0mself\u001b[0m\u001b[1;33m.\u001b[0m\u001b[0m_evaluate\u001b[0m\u001b[1;33m(\u001b[0m\u001b[1;33m)\u001b[0m\u001b[1;33m\u001b[0m\u001b[1;33m\u001b[0m\u001b[0m\n\u001b[0m\u001b[0;32m     74\u001b[0m         return reconstruct_object(\n\u001b[0;32m     75\u001b[0m             \u001b[0mself\u001b[0m\u001b[1;33m.\u001b[0m\u001b[0mresult_type\u001b[0m\u001b[1;33m,\u001b[0m \u001b[0mres\u001b[0m\u001b[1;33m,\u001b[0m \u001b[0mself\u001b[0m\u001b[1;33m.\u001b[0m\u001b[0maligned_axes\u001b[0m\u001b[1;33m,\u001b[0m \u001b[0mself\u001b[0m\u001b[1;33m.\u001b[0m\u001b[0mexpr\u001b[0m\u001b[1;33m.\u001b[0m\u001b[0mterms\u001b[0m\u001b[1;33m.\u001b[0m\u001b[0mreturn_type\u001b[0m\u001b[1;33m\u001b[0m\u001b[1;33m\u001b[0m\u001b[0m\n",
      "\u001b[1;32md:\\datacenterkun\\jupyter\\venv\\lib\\site-packages\\pandas\\core\\computation\\engines.py\u001b[0m in \u001b[0;36m_evaluate\u001b[1;34m(self)\u001b[0m\n\u001b[0;32m    112\u001b[0m         \u001b[0mscope\u001b[0m \u001b[1;33m=\u001b[0m \u001b[0menv\u001b[0m\u001b[1;33m.\u001b[0m\u001b[0mfull_scope\u001b[0m\u001b[1;33m\u001b[0m\u001b[1;33m\u001b[0m\u001b[0m\n\u001b[0;32m    113\u001b[0m         \u001b[0m_check_ne_builtin_clash\u001b[0m\u001b[1;33m(\u001b[0m\u001b[0mself\u001b[0m\u001b[1;33m.\u001b[0m\u001b[0mexpr\u001b[0m\u001b[1;33m)\u001b[0m\u001b[1;33m\u001b[0m\u001b[1;33m\u001b[0m\u001b[0m\n\u001b[1;32m--> 114\u001b[1;33m         \u001b[1;32mreturn\u001b[0m \u001b[0mne\u001b[0m\u001b[1;33m.\u001b[0m\u001b[0mevaluate\u001b[0m\u001b[1;33m(\u001b[0m\u001b[0ms\u001b[0m\u001b[1;33m,\u001b[0m \u001b[0mlocal_dict\u001b[0m\u001b[1;33m=\u001b[0m\u001b[0mscope\u001b[0m\u001b[1;33m)\u001b[0m\u001b[1;33m\u001b[0m\u001b[1;33m\u001b[0m\u001b[0m\n\u001b[0m\u001b[0;32m    115\u001b[0m \u001b[1;33m\u001b[0m\u001b[0m\n\u001b[0;32m    116\u001b[0m \u001b[1;33m\u001b[0m\u001b[0m\n",
      "\u001b[1;32md:\\datacenterkun\\jupyter\\venv\\lib\\site-packages\\numexpr\\necompiler.py\u001b[0m in \u001b[0;36mevaluate\u001b[1;34m(ex, local_dict, global_dict, out, order, casting, **kwargs)\u001b[0m\n\u001b[0;32m    834\u001b[0m     \u001b[0m_numexpr_last\u001b[0m \u001b[1;33m=\u001b[0m \u001b[0mdict\u001b[0m\u001b[1;33m(\u001b[0m\u001b[0mex\u001b[0m\u001b[1;33m=\u001b[0m\u001b[0mcompiled_ex\u001b[0m\u001b[1;33m,\u001b[0m \u001b[0margnames\u001b[0m\u001b[1;33m=\u001b[0m\u001b[0mnames\u001b[0m\u001b[1;33m,\u001b[0m \u001b[0mkwargs\u001b[0m\u001b[1;33m=\u001b[0m\u001b[0mkwargs\u001b[0m\u001b[1;33m)\u001b[0m\u001b[1;33m\u001b[0m\u001b[1;33m\u001b[0m\u001b[0m\n\u001b[0;32m    835\u001b[0m     \u001b[1;32mwith\u001b[0m \u001b[0mevaluate_lock\u001b[0m\u001b[1;33m:\u001b[0m\u001b[1;33m\u001b[0m\u001b[1;33m\u001b[0m\u001b[0m\n\u001b[1;32m--> 836\u001b[1;33m         \u001b[1;32mreturn\u001b[0m \u001b[0mcompiled_ex\u001b[0m\u001b[1;33m(\u001b[0m\u001b[1;33m*\u001b[0m\u001b[0marguments\u001b[0m\u001b[1;33m,\u001b[0m \u001b[1;33m**\u001b[0m\u001b[0mkwargs\u001b[0m\u001b[1;33m)\u001b[0m\u001b[1;33m\u001b[0m\u001b[1;33m\u001b[0m\u001b[0m\n\u001b[0m\u001b[0;32m    837\u001b[0m \u001b[1;33m\u001b[0m\u001b[0m\n\u001b[0;32m    838\u001b[0m \u001b[1;33m\u001b[0m\u001b[0m\n",
      "\u001b[1;31mValueError\u001b[0m: data type must provide an itemsize"
     ]
    }
   ],
   "source": [
    "df.eval('''提成= 销售额*.1\n",
    "提成_修正= 提成*1.1\n",
    "''') # 再增加 提成—_修正 列= 提成*1.1. 多列模式\n",
    "#  根据提示 ，不可修改。仅仅支持numexpr 支持的操作符号"
   ]
  },
  {
   "cell_type": "code",
   "execution_count": 6,
   "id": "b788b8bd-d92e-46aa-ae1a-4549d8a50203",
   "metadata": {
    "execution": {
     "iopub.execute_input": "2021-08-11T02:22:57.584197Z",
     "iopub.status.busy": "2021-08-11T02:22:57.583203Z",
     "iopub.status.idle": "2021-08-11T02:22:57.604191Z",
     "shell.execute_reply": "2021-08-11T02:22:57.604191Z",
     "shell.execute_reply.started": "2021-08-11T02:22:57.584197Z"
    },
    "tags": []
   },
   "outputs": [
    {
     "data": {
      "text/html": [
       "<div>\n",
       "<style scoped>\n",
       "    .dataframe tbody tr th:only-of-type {\n",
       "        vertical-align: middle;\n",
       "    }\n",
       "\n",
       "    .dataframe tbody tr th {\n",
       "        vertical-align: top;\n",
       "    }\n",
       "\n",
       "    .dataframe thead th {\n",
       "        text-align: right;\n",
       "    }\n",
       "</style>\n",
       "<table border=\"1\" class=\"dataframe\">\n",
       "  <thead>\n",
       "    <tr style=\"text-align: right;\">\n",
       "      <th></th>\n",
       "      <th>dept</th>\n",
       "      <th>dept 1</th>\n",
       "      <th>name</th>\n",
       "      <th>销售额</th>\n",
       "      <th>时间</th>\n",
       "      <th>提成</th>\n",
       "      <th>提成_修正</th>\n",
       "    </tr>\n",
       "  </thead>\n",
       "  <tbody>\n",
       "    <tr>\n",
       "      <th>0</th>\n",
       "      <td>部门1</td>\n",
       "      <td>小部门1</td>\n",
       "      <td>杨颖</td>\n",
       "      <td>NaN</td>\n",
       "      <td>2020-01-01</td>\n",
       "      <td>NaN</td>\n",
       "      <td>NaN</td>\n",
       "    </tr>\n",
       "    <tr>\n",
       "      <th>1</th>\n",
       "      <td>部门1</td>\n",
       "      <td>小部门1</td>\n",
       "      <td>侯婷婷</td>\n",
       "      <td>46064.0</td>\n",
       "      <td>2020-01-02</td>\n",
       "      <td>4606.4</td>\n",
       "      <td>5067.04</td>\n",
       "    </tr>\n",
       "    <tr>\n",
       "      <th>2</th>\n",
       "      <td>部门1</td>\n",
       "      <td>小部门2</td>\n",
       "      <td>秦楠</td>\n",
       "      <td>19799.0</td>\n",
       "      <td>2020-01-03</td>\n",
       "      <td>1979.9</td>\n",
       "      <td>2177.89</td>\n",
       "    </tr>\n",
       "    <tr>\n",
       "      <th>3</th>\n",
       "      <td>部门1</td>\n",
       "      <td>小部门2</td>\n",
       "      <td>张兵</td>\n",
       "      <td>55830.0</td>\n",
       "      <td>2020-01-04</td>\n",
       "      <td>5583.0</td>\n",
       "      <td>6141.30</td>\n",
       "    </tr>\n",
       "    <tr>\n",
       "      <th>4</th>\n",
       "      <td>部门1</td>\n",
       "      <td>小部门2</td>\n",
       "      <td>李秀芳</td>\n",
       "      <td>87647.0</td>\n",
       "      <td>2020-01-05</td>\n",
       "      <td>8764.7</td>\n",
       "      <td>9641.17</td>\n",
       "    </tr>\n",
       "    <tr>\n",
       "      <th>5</th>\n",
       "      <td>部门2</td>\n",
       "      <td>小部门3</td>\n",
       "      <td>张华</td>\n",
       "      <td>46064.0</td>\n",
       "      <td>2020-01-06</td>\n",
       "      <td>4606.4</td>\n",
       "      <td>5067.04</td>\n",
       "    </tr>\n",
       "    <tr>\n",
       "      <th>6</th>\n",
       "      <td>部门2</td>\n",
       "      <td>小部门4</td>\n",
       "      <td>殷秀珍</td>\n",
       "      <td>63625.0</td>\n",
       "      <td>2020-01-07</td>\n",
       "      <td>6362.5</td>\n",
       "      <td>6998.75</td>\n",
       "    </tr>\n",
       "    <tr>\n",
       "      <th>7</th>\n",
       "      <td>部门2</td>\n",
       "      <td>小部门4</td>\n",
       "      <td>袁勇</td>\n",
       "      <td>51770.0</td>\n",
       "      <td>2020-01-08</td>\n",
       "      <td>5177.0</td>\n",
       "      <td>5694.70</td>\n",
       "    </tr>\n",
       "    <tr>\n",
       "      <th>8</th>\n",
       "      <td>部门2</td>\n",
       "      <td>小部门4</td>\n",
       "      <td>张桂花</td>\n",
       "      <td>33423.0</td>\n",
       "      <td>2020-01-09</td>\n",
       "      <td>3342.3</td>\n",
       "      <td>3676.53</td>\n",
       "    </tr>\n",
       "    <tr>\n",
       "      <th>9</th>\n",
       "      <td>部门2</td>\n",
       "      <td>小部门4</td>\n",
       "      <td>岳凤兰</td>\n",
       "      <td>85151.0</td>\n",
       "      <td>2020-01-10</td>\n",
       "      <td>8515.1</td>\n",
       "      <td>9366.61</td>\n",
       "    </tr>\n",
       "  </tbody>\n",
       "</table>\n",
       "</div>"
      ],
      "text/plain": [
       "  dept dept 1 name      销售额         时间      提成    提成_修正\n",
       "0  部门1   小部门1   杨颖      NaN 2020-01-01     NaN      NaN\n",
       "1  部门1   小部门1  侯婷婷  46064.0 2020-01-02  4606.4  5067.04\n",
       "2  部门1   小部门2   秦楠  19799.0 2020-01-03  1979.9  2177.89\n",
       "3  部门1   小部门2   张兵  55830.0 2020-01-04  5583.0  6141.30\n",
       "4  部门1   小部门2  李秀芳  87647.0 2020-01-05  8764.7  9641.17\n",
       "5  部门2   小部门3   张华  46064.0 2020-01-06  4606.4  5067.04\n",
       "6  部门2   小部门4  殷秀珍  63625.0 2020-01-07  6362.5  6998.75\n",
       "7  部门2   小部门4   袁勇  51770.0 2020-01-08  5177.0  5694.70\n",
       "8  部门2   小部门4  张桂花  33423.0 2020-01-09  3342.3  3676.53\n",
       "9  部门2   小部门4  岳凤兰  85151.0 2020-01-10  8515.1  9366.61"
      ]
     },
     "execution_count": 6,
     "metadata": {},
     "output_type": "execute_result"
    }
   ],
   "source": [
    "df.eval('''提成= 销售额*.1\n",
    "提成_修正= 提成*1.1\n",
    "''') # 再增加 提成—_修正 列= 提成*1.1. 多列模式"
   ]
  },
  {
   "cell_type": "code",
   "execution_count": 5,
   "id": "092957f4-25e1-428c-9b89-4ca93df1eeec",
   "metadata": {
    "execution": {
     "iopub.execute_input": "2021-08-11T02:21:47.918197Z",
     "iopub.status.busy": "2021-08-11T02:21:47.918197Z",
     "iopub.status.idle": "2021-08-11T02:21:47.936193Z",
     "shell.execute_reply": "2021-08-11T02:21:47.936193Z",
     "shell.execute_reply.started": "2021-08-11T02:21:47.918197Z"
    },
    "tags": []
   },
   "outputs": [
    {
     "data": {
      "text/html": [
       "<div>\n",
       "<style scoped>\n",
       "    .dataframe tbody tr th:only-of-type {\n",
       "        vertical-align: middle;\n",
       "    }\n",
       "\n",
       "    .dataframe tbody tr th {\n",
       "        vertical-align: top;\n",
       "    }\n",
       "\n",
       "    .dataframe thead th {\n",
       "        text-align: right;\n",
       "    }\n",
       "</style>\n",
       "<table border=\"1\" class=\"dataframe\">\n",
       "  <thead>\n",
       "    <tr style=\"text-align: right;\">\n",
       "      <th></th>\n",
       "      <th>dept</th>\n",
       "      <th>dept 1</th>\n",
       "      <th>name</th>\n",
       "      <th>销售额</th>\n",
       "      <th>时间</th>\n",
       "      <th>提成</th>\n",
       "    </tr>\n",
       "  </thead>\n",
       "  <tbody>\n",
       "    <tr>\n",
       "      <th>0</th>\n",
       "      <td>部门1</td>\n",
       "      <td>小部门1</td>\n",
       "      <td>杨颖</td>\n",
       "      <td>NaN</td>\n",
       "      <td>2020-01-01</td>\n",
       "      <td>NaN</td>\n",
       "    </tr>\n",
       "    <tr>\n",
       "      <th>1</th>\n",
       "      <td>部门1</td>\n",
       "      <td>小部门1</td>\n",
       "      <td>侯婷婷</td>\n",
       "      <td>46064.0</td>\n",
       "      <td>2020-01-02</td>\n",
       "      <td>4606.4</td>\n",
       "    </tr>\n",
       "    <tr>\n",
       "      <th>2</th>\n",
       "      <td>部门1</td>\n",
       "      <td>小部门2</td>\n",
       "      <td>秦楠</td>\n",
       "      <td>19799.0</td>\n",
       "      <td>2020-01-03</td>\n",
       "      <td>1979.9</td>\n",
       "    </tr>\n",
       "    <tr>\n",
       "      <th>3</th>\n",
       "      <td>部门1</td>\n",
       "      <td>小部门2</td>\n",
       "      <td>张兵</td>\n",
       "      <td>55830.0</td>\n",
       "      <td>2020-01-04</td>\n",
       "      <td>5583.0</td>\n",
       "    </tr>\n",
       "    <tr>\n",
       "      <th>4</th>\n",
       "      <td>部门1</td>\n",
       "      <td>小部门2</td>\n",
       "      <td>李秀芳</td>\n",
       "      <td>87647.0</td>\n",
       "      <td>2020-01-05</td>\n",
       "      <td>8764.7</td>\n",
       "    </tr>\n",
       "    <tr>\n",
       "      <th>5</th>\n",
       "      <td>部门2</td>\n",
       "      <td>小部门3</td>\n",
       "      <td>张华</td>\n",
       "      <td>46064.0</td>\n",
       "      <td>2020-01-06</td>\n",
       "      <td>4606.4</td>\n",
       "    </tr>\n",
       "    <tr>\n",
       "      <th>6</th>\n",
       "      <td>部门2</td>\n",
       "      <td>小部门4</td>\n",
       "      <td>殷秀珍</td>\n",
       "      <td>63625.0</td>\n",
       "      <td>2020-01-07</td>\n",
       "      <td>6362.5</td>\n",
       "    </tr>\n",
       "    <tr>\n",
       "      <th>7</th>\n",
       "      <td>部门2</td>\n",
       "      <td>小部门4</td>\n",
       "      <td>袁勇</td>\n",
       "      <td>51770.0</td>\n",
       "      <td>2020-01-08</td>\n",
       "      <td>5177.0</td>\n",
       "    </tr>\n",
       "    <tr>\n",
       "      <th>8</th>\n",
       "      <td>部门2</td>\n",
       "      <td>小部门4</td>\n",
       "      <td>张桂花</td>\n",
       "      <td>33423.0</td>\n",
       "      <td>2020-01-09</td>\n",
       "      <td>3342.3</td>\n",
       "    </tr>\n",
       "    <tr>\n",
       "      <th>9</th>\n",
       "      <td>部门2</td>\n",
       "      <td>小部门4</td>\n",
       "      <td>岳凤兰</td>\n",
       "      <td>85151.0</td>\n",
       "      <td>2020-01-10</td>\n",
       "      <td>8515.1</td>\n",
       "    </tr>\n",
       "  </tbody>\n",
       "</table>\n",
       "</div>"
      ],
      "text/plain": [
       "  dept dept 1 name      销售额         时间      提成\n",
       "0  部门1   小部门1   杨颖      NaN 2020-01-01     NaN\n",
       "1  部门1   小部门1  侯婷婷  46064.0 2020-01-02  4606.4\n",
       "2  部门1   小部门2   秦楠  19799.0 2020-01-03  1979.9\n",
       "3  部门1   小部门2   张兵  55830.0 2020-01-04  5583.0\n",
       "4  部门1   小部门2  李秀芳  87647.0 2020-01-05  8764.7\n",
       "5  部门2   小部门3   张华  46064.0 2020-01-06  4606.4\n",
       "6  部门2   小部门4  殷秀珍  63625.0 2020-01-07  6362.5\n",
       "7  部门2   小部门4   袁勇  51770.0 2020-01-08  5177.0\n",
       "8  部门2   小部门4  张桂花  33423.0 2020-01-09  3342.3\n",
       "9  部门2   小部门4  岳凤兰  85151.0 2020-01-10  8515.1"
      ]
     },
     "execution_count": 5,
     "metadata": {},
     "output_type": "execute_result"
    }
   ],
   "source": [
    "df.eval('提成= 销售额*.1') # 增加 提成列= 销售额*0.1"
   ]
  },
  {
   "cell_type": "code",
   "execution_count": 4,
   "id": "4117a396-ce76-4e89-92e3-609c4d170219",
   "metadata": {
    "execution": {
     "iopub.execute_input": "2021-08-11T02:21:10.411194Z",
     "iopub.status.busy": "2021-08-11T02:21:10.411194Z",
     "iopub.status.idle": "2021-08-11T02:21:10.433197Z",
     "shell.execute_reply": "2021-08-11T02:21:10.432199Z",
     "shell.execute_reply.started": "2021-08-11T02:21:10.411194Z"
    },
    "tags": []
   },
   "outputs": [
    {
     "data": {
      "text/plain": [
       "0       NaN\n",
       "1    4606.4\n",
       "2    1979.9\n",
       "3    5583.0\n",
       "4    8764.7\n",
       "5    4606.4\n",
       "6    6362.5\n",
       "7    5177.0\n",
       "8    3342.3\n",
       "9    8515.1\n",
       "dtype: float64"
      ]
     },
     "execution_count": 4,
     "metadata": {},
     "output_type": "execute_result"
    }
   ],
   "source": [
    "df.eval('销售额*.1') # 简单计算 销售额*0.1"
   ]
  }
 ],
 "metadata": {
  "kernelspec": {
   "display_name": "Python 3 (ipykernel)",
   "language": "python",
   "name": "python3"
  },
  "language_info": {
   "codemirror_mode": {
    "name": "ipython",
    "version": 3
   },
   "file_extension": ".py",
   "mimetype": "text/x-python",
   "name": "python",
   "nbconvert_exporter": "python",
   "pygments_lexer": "ipython3",
   "version": "3.8.10"
  }
 },
 "nbformat": 4,
 "nbformat_minor": 5
}
