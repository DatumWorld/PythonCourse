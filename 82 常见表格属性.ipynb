{
 "cells": [
  {
   "cell_type": "markdown",
   "id": "native-silicon",
   "metadata": {
    "execution": {
     "iopub.execute_input": "2021-05-10T07:18:52.990449Z",
     "iopub.status.busy": "2021-05-10T07:18:52.990449Z",
     "iopub.status.idle": "2021-05-10T07:18:52.994464Z",
     "shell.execute_reply": "2021-05-10T07:18:52.993452Z",
     "shell.execute_reply.started": "2021-05-10T07:18:52.990449Z"
    }
   },
   "source": [
    "## 82 常见表格属性"
   ]
  },
  {
   "cell_type": "markdown",
   "id": "hungry-heater",
   "metadata": {
    "jp-MarkdownHeadingCollapsed": true,
    "tags": []
   },
   "source": [
    " shape 形状\n",
    "ndim 维数\n",
    "size 数据的元素个数\n",
    "nbytes 数据的字节数\n",
    "T，transpose  转置\n",
    "memory_usage 内存使用"
   ]
  },
  {
   "cell_type": "code",
   "execution_count": 1,
   "id": "illegal-prairie",
   "metadata": {
    "execution": {
     "iopub.execute_input": "2021-08-12T03:35:16.719215Z",
     "iopub.status.busy": "2021-08-12T03:35:16.719215Z",
     "iopub.status.idle": "2021-08-12T03:35:17.024245Z",
     "shell.execute_reply": "2021-08-12T03:35:17.024245Z",
     "shell.execute_reply.started": "2021-08-12T03:35:16.719215Z"
    },
    "tags": []
   },
   "outputs": [],
   "source": [
    "import numpy  as np\n",
    "import pandas as pd\n",
    "from faker import Faker\n",
    "\n",
    "fake = Faker('zh_CN')\n",
    "df=pd.DataFrame(data=[ [fake.name()] for x in range(10) ],columns=['name'])\n",
    "\n",
    "df['销售额']=np.random.randint(100,100000,size=(10, 1))\n",
    "df['时间']=pd.date_range(start='2020-01-01',periods=10,freq='D')\n",
    "df.insert(0,'dept',['部门1']*5+['部门2']*5)\n",
    "df.insert(1,'dept 1',['小部门1']*2+['小部门2']*3+['小部门3']*1+['小部门4']*4)"
   ]
  },
  {
   "cell_type": "markdown",
   "id": "26c34ee2-b934-4459-b3bc-3065ccd98f50",
   "metadata": {
    "tags": []
   },
   "source": [
    "### 演示数据"
   ]
  },
  {
   "cell_type": "code",
   "execution_count": 2,
   "id": "aa8d9bcc-4b8e-4796-9ecc-dec527dac496",
   "metadata": {
    "execution": {
     "iopub.execute_input": "2021-08-12T03:35:17.025214Z",
     "iopub.status.busy": "2021-08-12T03:35:17.025214Z",
     "iopub.status.idle": "2021-08-12T03:35:17.028214Z",
     "shell.execute_reply": "2021-08-12T03:35:17.028214Z",
     "shell.execute_reply.started": "2021-08-12T03:35:17.025214Z"
    },
    "tags": []
   },
   "outputs": [],
   "source": [
    "df.iloc[0,3]=np.nan #  修改成nan\n",
    "df.iloc[1,3]=df.iloc[5,3] #  修改成一样"
   ]
  },
  {
   "cell_type": "code",
   "execution_count": 3,
   "id": "sufficient-voltage",
   "metadata": {
    "execution": {
     "iopub.execute_input": "2021-08-12T03:35:17.029214Z",
     "iopub.status.busy": "2021-08-12T03:35:17.029214Z",
     "iopub.status.idle": "2021-08-12T03:35:17.048218Z",
     "shell.execute_reply": "2021-08-12T03:35:17.048218Z",
     "shell.execute_reply.started": "2021-08-12T03:35:17.029214Z"
    },
    "tags": []
   },
   "outputs": [
    {
     "data": {
      "text/html": [
       "<div>\n",
       "<style scoped>\n",
       "    .dataframe tbody tr th:only-of-type {\n",
       "        vertical-align: middle;\n",
       "    }\n",
       "\n",
       "    .dataframe tbody tr th {\n",
       "        vertical-align: top;\n",
       "    }\n",
       "\n",
       "    .dataframe thead th {\n",
       "        text-align: right;\n",
       "    }\n",
       "</style>\n",
       "<table border=\"1\" class=\"dataframe\">\n",
       "  <thead>\n",
       "    <tr style=\"text-align: right;\">\n",
       "      <th></th>\n",
       "      <th>dept</th>\n",
       "      <th>dept 1</th>\n",
       "      <th>name</th>\n",
       "      <th>销售额</th>\n",
       "      <th>时间</th>\n",
       "    </tr>\n",
       "  </thead>\n",
       "  <tbody>\n",
       "    <tr>\n",
       "      <th>0</th>\n",
       "      <td>部门1</td>\n",
       "      <td>小部门1</td>\n",
       "      <td>熊秀芳</td>\n",
       "      <td>NaN</td>\n",
       "      <td>2020-01-01</td>\n",
       "    </tr>\n",
       "    <tr>\n",
       "      <th>1</th>\n",
       "      <td>部门1</td>\n",
       "      <td>小部门1</td>\n",
       "      <td>赵秀兰</td>\n",
       "      <td>76194.0</td>\n",
       "      <td>2020-01-02</td>\n",
       "    </tr>\n",
       "    <tr>\n",
       "      <th>2</th>\n",
       "      <td>部门1</td>\n",
       "      <td>小部门2</td>\n",
       "      <td>邵秀荣</td>\n",
       "      <td>97114.0</td>\n",
       "      <td>2020-01-03</td>\n",
       "    </tr>\n",
       "    <tr>\n",
       "      <th>3</th>\n",
       "      <td>部门1</td>\n",
       "      <td>小部门2</td>\n",
       "      <td>傅琴</td>\n",
       "      <td>53305.0</td>\n",
       "      <td>2020-01-04</td>\n",
       "    </tr>\n",
       "    <tr>\n",
       "      <th>4</th>\n",
       "      <td>部门1</td>\n",
       "      <td>小部门2</td>\n",
       "      <td>张勇</td>\n",
       "      <td>59793.0</td>\n",
       "      <td>2020-01-05</td>\n",
       "    </tr>\n",
       "    <tr>\n",
       "      <th>5</th>\n",
       "      <td>部门2</td>\n",
       "      <td>小部门3</td>\n",
       "      <td>孙想</td>\n",
       "      <td>76194.0</td>\n",
       "      <td>2020-01-06</td>\n",
       "    </tr>\n",
       "    <tr>\n",
       "      <th>6</th>\n",
       "      <td>部门2</td>\n",
       "      <td>小部门4</td>\n",
       "      <td>王丽</td>\n",
       "      <td>27326.0</td>\n",
       "      <td>2020-01-07</td>\n",
       "    </tr>\n",
       "    <tr>\n",
       "      <th>7</th>\n",
       "      <td>部门2</td>\n",
       "      <td>小部门4</td>\n",
       "      <td>张雪</td>\n",
       "      <td>40904.0</td>\n",
       "      <td>2020-01-08</td>\n",
       "    </tr>\n",
       "    <tr>\n",
       "      <th>8</th>\n",
       "      <td>部门2</td>\n",
       "      <td>小部门4</td>\n",
       "      <td>李秀荣</td>\n",
       "      <td>44344.0</td>\n",
       "      <td>2020-01-09</td>\n",
       "    </tr>\n",
       "    <tr>\n",
       "      <th>9</th>\n",
       "      <td>部门2</td>\n",
       "      <td>小部门4</td>\n",
       "      <td>黄红梅</td>\n",
       "      <td>48316.0</td>\n",
       "      <td>2020-01-10</td>\n",
       "    </tr>\n",
       "  </tbody>\n",
       "</table>\n",
       "</div>"
      ],
      "text/plain": [
       "  dept dept 1 name      销售额         时间\n",
       "0  部门1   小部门1  熊秀芳      NaN 2020-01-01\n",
       "1  部门1   小部门1  赵秀兰  76194.0 2020-01-02\n",
       "2  部门1   小部门2  邵秀荣  97114.0 2020-01-03\n",
       "3  部门1   小部门2   傅琴  53305.0 2020-01-04\n",
       "4  部门1   小部门2   张勇  59793.0 2020-01-05\n",
       "5  部门2   小部门3   孙想  76194.0 2020-01-06\n",
       "6  部门2   小部门4   王丽  27326.0 2020-01-07\n",
       "7  部门2   小部门4   张雪  40904.0 2020-01-08\n",
       "8  部门2   小部门4  李秀荣  44344.0 2020-01-09\n",
       "9  部门2   小部门4  黄红梅  48316.0 2020-01-10"
      ]
     },
     "execution_count": 3,
     "metadata": {},
     "output_type": "execute_result"
    }
   ],
   "source": [
    "df # 随机生成的数据"
   ]
  },
  {
   "cell_type": "code",
   "execution_count": 18,
   "id": "0fee4d0e-be5b-4cdf-8aa9-b9e79465a85c",
   "metadata": {
    "execution": {
     "iopub.execute_input": "2021-08-12T03:41:38.210218Z",
     "iopub.status.busy": "2021-08-12T03:41:38.209220Z",
     "iopub.status.idle": "2021-08-12T03:41:38.216234Z",
     "shell.execute_reply": "2021-08-12T03:41:38.215217Z",
     "shell.execute_reply.started": "2021-08-12T03:41:38.210218Z"
    },
    "tags": []
   },
   "outputs": [
    {
     "data": {
      "text/plain": [
       "Index     128\n",
       "dept      960\n",
       "dept 1    900\n",
       "name      870\n",
       "销售额        80\n",
       "时间         80\n",
       "dtype: int64"
      ]
     },
     "execution_count": 18,
     "metadata": {},
     "output_type": "execute_result"
    }
   ],
   "source": [
    "df.memory_usage(deep=True) # 内存使用。可选deep参数，是否深入详细分析内存占用。df上使用"
   ]
  },
  {
   "cell_type": "code",
   "execution_count": 17,
   "id": "58b71a72-f449-4866-8664-0726bbc07736",
   "metadata": {
    "execution": {
     "iopub.execute_input": "2021-08-12T03:40:50.005215Z",
     "iopub.status.busy": "2021-08-12T03:40:50.004216Z",
     "iopub.status.idle": "2021-08-12T03:40:50.009218Z",
     "shell.execute_reply": "2021-08-12T03:40:50.009218Z",
     "shell.execute_reply.started": "2021-08-12T03:40:50.005215Z"
    },
    "tags": []
   },
   "outputs": [
    {
     "data": {
      "text/plain": [
       "1088"
      ]
     },
     "execution_count": 17,
     "metadata": {},
     "output_type": "execute_result"
    }
   ],
   "source": [
    "df.dept.memory_usage(deep=True) # 内存使用。可选deep参数，是否深入详细分析内存占用"
   ]
  },
  {
   "cell_type": "code",
   "execution_count": 15,
   "id": "72e23924-2e8e-43bf-ba31-f026a3e9afac",
   "metadata": {
    "execution": {
     "iopub.execute_input": "2021-08-12T03:40:04.258214Z",
     "iopub.status.busy": "2021-08-12T03:40:04.257214Z",
     "iopub.status.idle": "2021-08-12T03:40:04.262215Z",
     "shell.execute_reply": "2021-08-12T03:40:04.262215Z",
     "shell.execute_reply.started": "2021-08-12T03:40:04.258214Z"
    },
    "tags": []
   },
   "outputs": [
    {
     "data": {
      "text/plain": [
       "0    部门1\n",
       "1    部门1\n",
       "2    部门1\n",
       "3    部门1\n",
       "4    部门1\n",
       "5    部门2\n",
       "6    部门2\n",
       "7    部门2\n",
       "8    部门2\n",
       "9    部门2\n",
       "Name: dept, dtype: object"
      ]
     },
     "execution_count": 15,
     "metadata": {},
     "output_type": "execute_result"
    }
   ],
   "source": [
    "df.dept.transpose() # 转置。"
   ]
  },
  {
   "cell_type": "code",
   "execution_count": 14,
   "id": "34f946f7-e7ff-4965-9bf4-ae09e2201f9d",
   "metadata": {
    "execution": {
     "iopub.execute_input": "2021-08-12T03:39:39.292215Z",
     "iopub.status.busy": "2021-08-12T03:39:39.292215Z",
     "iopub.status.idle": "2021-08-12T03:39:39.307246Z",
     "shell.execute_reply": "2021-08-12T03:39:39.307246Z",
     "shell.execute_reply.started": "2021-08-12T03:39:39.292215Z"
    },
    "tags": []
   },
   "outputs": [
    {
     "data": {
      "text/html": [
       "<div>\n",
       "<style scoped>\n",
       "    .dataframe tbody tr th:only-of-type {\n",
       "        vertical-align: middle;\n",
       "    }\n",
       "\n",
       "    .dataframe tbody tr th {\n",
       "        vertical-align: top;\n",
       "    }\n",
       "\n",
       "    .dataframe thead th {\n",
       "        text-align: right;\n",
       "    }\n",
       "</style>\n",
       "<table border=\"1\" class=\"dataframe\">\n",
       "  <thead>\n",
       "    <tr style=\"text-align: right;\">\n",
       "      <th></th>\n",
       "      <th>0</th>\n",
       "      <th>1</th>\n",
       "      <th>2</th>\n",
       "      <th>3</th>\n",
       "      <th>4</th>\n",
       "      <th>5</th>\n",
       "      <th>6</th>\n",
       "      <th>7</th>\n",
       "      <th>8</th>\n",
       "      <th>9</th>\n",
       "    </tr>\n",
       "  </thead>\n",
       "  <tbody>\n",
       "    <tr>\n",
       "      <th>dept</th>\n",
       "      <td>部门1</td>\n",
       "      <td>部门1</td>\n",
       "      <td>部门1</td>\n",
       "      <td>部门1</td>\n",
       "      <td>部门1</td>\n",
       "      <td>部门2</td>\n",
       "      <td>部门2</td>\n",
       "      <td>部门2</td>\n",
       "      <td>部门2</td>\n",
       "      <td>部门2</td>\n",
       "    </tr>\n",
       "    <tr>\n",
       "      <th>dept 1</th>\n",
       "      <td>小部门1</td>\n",
       "      <td>小部门1</td>\n",
       "      <td>小部门2</td>\n",
       "      <td>小部门2</td>\n",
       "      <td>小部门2</td>\n",
       "      <td>小部门3</td>\n",
       "      <td>小部门4</td>\n",
       "      <td>小部门4</td>\n",
       "      <td>小部门4</td>\n",
       "      <td>小部门4</td>\n",
       "    </tr>\n",
       "    <tr>\n",
       "      <th>name</th>\n",
       "      <td>熊秀芳</td>\n",
       "      <td>赵秀兰</td>\n",
       "      <td>邵秀荣</td>\n",
       "      <td>傅琴</td>\n",
       "      <td>张勇</td>\n",
       "      <td>孙想</td>\n",
       "      <td>王丽</td>\n",
       "      <td>张雪</td>\n",
       "      <td>李秀荣</td>\n",
       "      <td>黄红梅</td>\n",
       "    </tr>\n",
       "    <tr>\n",
       "      <th>销售额</th>\n",
       "      <td>NaN</td>\n",
       "      <td>76194.0</td>\n",
       "      <td>97114.0</td>\n",
       "      <td>53305.0</td>\n",
       "      <td>59793.0</td>\n",
       "      <td>76194.0</td>\n",
       "      <td>27326.0</td>\n",
       "      <td>40904.0</td>\n",
       "      <td>44344.0</td>\n",
       "      <td>48316.0</td>\n",
       "    </tr>\n",
       "    <tr>\n",
       "      <th>时间</th>\n",
       "      <td>2020-01-01 00:00:00</td>\n",
       "      <td>2020-01-02 00:00:00</td>\n",
       "      <td>2020-01-03 00:00:00</td>\n",
       "      <td>2020-01-04 00:00:00</td>\n",
       "      <td>2020-01-05 00:00:00</td>\n",
       "      <td>2020-01-06 00:00:00</td>\n",
       "      <td>2020-01-07 00:00:00</td>\n",
       "      <td>2020-01-08 00:00:00</td>\n",
       "      <td>2020-01-09 00:00:00</td>\n",
       "      <td>2020-01-10 00:00:00</td>\n",
       "    </tr>\n",
       "  </tbody>\n",
       "</table>\n",
       "</div>"
      ],
      "text/plain": [
       "                          0                    1                    2  \\\n",
       "dept                    部门1                  部门1                  部门1   \n",
       "dept 1                 小部门1                 小部门1                 小部门2   \n",
       "name                    熊秀芳                  赵秀兰                  邵秀荣   \n",
       "销售额                     NaN              76194.0              97114.0   \n",
       "时间      2020-01-01 00:00:00  2020-01-02 00:00:00  2020-01-03 00:00:00   \n",
       "\n",
       "                          3                    4                    5  \\\n",
       "dept                    部门1                  部门1                  部门2   \n",
       "dept 1                 小部门2                 小部门2                 小部门3   \n",
       "name                     傅琴                   张勇                   孙想   \n",
       "销售额                 53305.0              59793.0              76194.0   \n",
       "时间      2020-01-04 00:00:00  2020-01-05 00:00:00  2020-01-06 00:00:00   \n",
       "\n",
       "                          6                    7                    8  \\\n",
       "dept                    部门2                  部门2                  部门2   \n",
       "dept 1                 小部门4                 小部门4                 小部门4   \n",
       "name                     王丽                   张雪                  李秀荣   \n",
       "销售额                 27326.0              40904.0              44344.0   \n",
       "时间      2020-01-07 00:00:00  2020-01-08 00:00:00  2020-01-09 00:00:00   \n",
       "\n",
       "                          9  \n",
       "dept                    部门2  \n",
       "dept 1                 小部门4  \n",
       "name                    黄红梅  \n",
       "销售额                 48316.0  \n",
       "时间      2020-01-10 00:00:00  "
      ]
     },
     "execution_count": 14,
     "metadata": {},
     "output_type": "execute_result"
    }
   ],
   "source": [
    "df.transpose() # 转置。等效"
   ]
  },
  {
   "cell_type": "code",
   "execution_count": 13,
   "id": "eb523487-9e6b-44a6-b3fb-59ef10d4f515",
   "metadata": {
    "execution": {
     "iopub.execute_input": "2021-08-12T03:39:02.371217Z",
     "iopub.status.busy": "2021-08-12T03:39:02.371217Z",
     "iopub.status.idle": "2021-08-12T03:39:02.386216Z",
     "shell.execute_reply": "2021-08-12T03:39:02.385215Z",
     "shell.execute_reply.started": "2021-08-12T03:39:02.371217Z"
    },
    "tags": []
   },
   "outputs": [
    {
     "data": {
      "text/html": [
       "<div>\n",
       "<style scoped>\n",
       "    .dataframe tbody tr th:only-of-type {\n",
       "        vertical-align: middle;\n",
       "    }\n",
       "\n",
       "    .dataframe tbody tr th {\n",
       "        vertical-align: top;\n",
       "    }\n",
       "\n",
       "    .dataframe thead th {\n",
       "        text-align: right;\n",
       "    }\n",
       "</style>\n",
       "<table border=\"1\" class=\"dataframe\">\n",
       "  <thead>\n",
       "    <tr style=\"text-align: right;\">\n",
       "      <th></th>\n",
       "      <th>0</th>\n",
       "      <th>1</th>\n",
       "      <th>2</th>\n",
       "      <th>3</th>\n",
       "      <th>4</th>\n",
       "      <th>5</th>\n",
       "      <th>6</th>\n",
       "      <th>7</th>\n",
       "      <th>8</th>\n",
       "      <th>9</th>\n",
       "    </tr>\n",
       "  </thead>\n",
       "  <tbody>\n",
       "    <tr>\n",
       "      <th>dept</th>\n",
       "      <td>部门1</td>\n",
       "      <td>部门1</td>\n",
       "      <td>部门1</td>\n",
       "      <td>部门1</td>\n",
       "      <td>部门1</td>\n",
       "      <td>部门2</td>\n",
       "      <td>部门2</td>\n",
       "      <td>部门2</td>\n",
       "      <td>部门2</td>\n",
       "      <td>部门2</td>\n",
       "    </tr>\n",
       "    <tr>\n",
       "      <th>dept 1</th>\n",
       "      <td>小部门1</td>\n",
       "      <td>小部门1</td>\n",
       "      <td>小部门2</td>\n",
       "      <td>小部门2</td>\n",
       "      <td>小部门2</td>\n",
       "      <td>小部门3</td>\n",
       "      <td>小部门4</td>\n",
       "      <td>小部门4</td>\n",
       "      <td>小部门4</td>\n",
       "      <td>小部门4</td>\n",
       "    </tr>\n",
       "    <tr>\n",
       "      <th>name</th>\n",
       "      <td>熊秀芳</td>\n",
       "      <td>赵秀兰</td>\n",
       "      <td>邵秀荣</td>\n",
       "      <td>傅琴</td>\n",
       "      <td>张勇</td>\n",
       "      <td>孙想</td>\n",
       "      <td>王丽</td>\n",
       "      <td>张雪</td>\n",
       "      <td>李秀荣</td>\n",
       "      <td>黄红梅</td>\n",
       "    </tr>\n",
       "    <tr>\n",
       "      <th>销售额</th>\n",
       "      <td>NaN</td>\n",
       "      <td>76194.0</td>\n",
       "      <td>97114.0</td>\n",
       "      <td>53305.0</td>\n",
       "      <td>59793.0</td>\n",
       "      <td>76194.0</td>\n",
       "      <td>27326.0</td>\n",
       "      <td>40904.0</td>\n",
       "      <td>44344.0</td>\n",
       "      <td>48316.0</td>\n",
       "    </tr>\n",
       "    <tr>\n",
       "      <th>时间</th>\n",
       "      <td>2020-01-01 00:00:00</td>\n",
       "      <td>2020-01-02 00:00:00</td>\n",
       "      <td>2020-01-03 00:00:00</td>\n",
       "      <td>2020-01-04 00:00:00</td>\n",
       "      <td>2020-01-05 00:00:00</td>\n",
       "      <td>2020-01-06 00:00:00</td>\n",
       "      <td>2020-01-07 00:00:00</td>\n",
       "      <td>2020-01-08 00:00:00</td>\n",
       "      <td>2020-01-09 00:00:00</td>\n",
       "      <td>2020-01-10 00:00:00</td>\n",
       "    </tr>\n",
       "  </tbody>\n",
       "</table>\n",
       "</div>"
      ],
      "text/plain": [
       "                          0                    1                    2  \\\n",
       "dept                    部门1                  部门1                  部门1   \n",
       "dept 1                 小部门1                 小部门1                 小部门2   \n",
       "name                    熊秀芳                  赵秀兰                  邵秀荣   \n",
       "销售额                     NaN              76194.0              97114.0   \n",
       "时间      2020-01-01 00:00:00  2020-01-02 00:00:00  2020-01-03 00:00:00   \n",
       "\n",
       "                          3                    4                    5  \\\n",
       "dept                    部门1                  部门1                  部门2   \n",
       "dept 1                 小部门2                 小部门2                 小部门3   \n",
       "name                     傅琴                   张勇                   孙想   \n",
       "销售额                 53305.0              59793.0              76194.0   \n",
       "时间      2020-01-04 00:00:00  2020-01-05 00:00:00  2020-01-06 00:00:00   \n",
       "\n",
       "                          6                    7                    8  \\\n",
       "dept                    部门2                  部门2                  部门2   \n",
       "dept 1                 小部门4                 小部门4                 小部门4   \n",
       "name                     王丽                   张雪                  李秀荣   \n",
       "销售额                 27326.0              40904.0              44344.0   \n",
       "时间      2020-01-07 00:00:00  2020-01-08 00:00:00  2020-01-09 00:00:00   \n",
       "\n",
       "                          9  \n",
       "dept                    部门2  \n",
       "dept 1                 小部门4  \n",
       "name                    黄红梅  \n",
       "销售额                 48316.0  \n",
       "时间      2020-01-10 00:00:00  "
      ]
     },
     "execution_count": 13,
     "metadata": {},
     "output_type": "execute_result"
    }
   ],
   "source": [
    "df.T # 转置。"
   ]
  },
  {
   "cell_type": "code",
   "execution_count": 12,
   "id": "4531d62d-04df-4413-b146-107d2bbcd035",
   "metadata": {
    "execution": {
     "iopub.execute_input": "2021-08-12T03:38:30.725216Z",
     "iopub.status.busy": "2021-08-12T03:38:30.725216Z",
     "iopub.status.idle": "2021-08-12T03:38:30.729214Z",
     "shell.execute_reply": "2021-08-12T03:38:30.729214Z",
     "shell.execute_reply.started": "2021-08-12T03:38:30.725216Z"
    },
    "tags": []
   },
   "outputs": [
    {
     "data": {
      "text/plain": [
       "80"
      ]
     },
     "execution_count": 12,
     "metadata": {},
     "output_type": "execute_result"
    }
   ],
   "source": [
    "df.dept.nbytes # 字节数"
   ]
  },
  {
   "cell_type": "code",
   "execution_count": 9,
   "id": "75a1a6e0-e808-48bf-b1a6-7da80e790785",
   "metadata": {
    "execution": {
     "iopub.execute_input": "2021-08-12T03:37:48.387214Z",
     "iopub.status.busy": "2021-08-12T03:37:48.387214Z",
     "iopub.status.idle": "2021-08-12T03:37:48.391224Z",
     "shell.execute_reply": "2021-08-12T03:37:48.391224Z",
     "shell.execute_reply.started": "2021-08-12T03:37:48.387214Z"
    },
    "tags": []
   },
   "outputs": [
    {
     "data": {
      "text/plain": [
       "50"
      ]
     },
     "execution_count": 9,
     "metadata": {},
     "output_type": "execute_result"
    }
   ],
   "source": [
    "df.size # 50个元素"
   ]
  },
  {
   "cell_type": "code",
   "execution_count": 8,
   "id": "78e2ffe3-7d4c-4f3b-a0a4-eddb2d25dc89",
   "metadata": {
    "execution": {
     "iopub.execute_input": "2021-08-12T03:37:28.525218Z",
     "iopub.status.busy": "2021-08-12T03:37:28.524214Z",
     "iopub.status.idle": "2021-08-12T03:37:28.529222Z",
     "shell.execute_reply": "2021-08-12T03:37:28.529222Z",
     "shell.execute_reply.started": "2021-08-12T03:37:28.525218Z"
    },
    "tags": []
   },
   "outputs": [
    {
     "data": {
      "text/plain": [
       "10"
      ]
     },
     "execution_count": 8,
     "metadata": {},
     "output_type": "execute_result"
    }
   ],
   "source": [
    "df.dept.size # 10个元素"
   ]
  },
  {
   "cell_type": "code",
   "execution_count": 7,
   "id": "7ad23092-4f5f-45be-8650-2e198616952d",
   "metadata": {
    "execution": {
     "iopub.execute_input": "2021-08-12T03:37:08.660219Z",
     "iopub.status.busy": "2021-08-12T03:37:08.660219Z",
     "iopub.status.idle": "2021-08-12T03:37:08.667215Z",
     "shell.execute_reply": "2021-08-12T03:37:08.666219Z",
     "shell.execute_reply.started": "2021-08-12T03:37:08.660219Z"
    },
    "tags": []
   },
   "outputs": [
    {
     "data": {
      "text/plain": [
       "1"
      ]
     },
     "execution_count": 7,
     "metadata": {},
     "output_type": "execute_result"
    }
   ],
   "source": [
    "df.dept.ndim # 一维"
   ]
  },
  {
   "cell_type": "code",
   "execution_count": 6,
   "id": "c913566e-1830-4d56-82b0-1cfd1c6f33ef",
   "metadata": {
    "execution": {
     "iopub.execute_input": "2021-08-12T03:36:49.610214Z",
     "iopub.status.busy": "2021-08-12T03:36:49.610214Z",
     "iopub.status.idle": "2021-08-12T03:36:49.613215Z",
     "shell.execute_reply": "2021-08-12T03:36:49.613215Z",
     "shell.execute_reply.started": "2021-08-12T03:36:49.610214Z"
    },
    "tags": []
   },
   "outputs": [
    {
     "data": {
      "text/plain": [
       "2"
      ]
     },
     "execution_count": 6,
     "metadata": {},
     "output_type": "execute_result"
    }
   ],
   "source": [
    "df.ndim # 二维"
   ]
  },
  {
   "cell_type": "code",
   "execution_count": 5,
   "id": "6b641feb-b5c2-4d8a-8b27-d1bad0b813b3",
   "metadata": {
    "execution": {
     "iopub.execute_input": "2021-08-12T03:36:19.506216Z",
     "iopub.status.busy": "2021-08-12T03:36:19.506216Z",
     "iopub.status.idle": "2021-08-12T03:36:19.510240Z",
     "shell.execute_reply": "2021-08-12T03:36:19.510240Z",
     "shell.execute_reply.started": "2021-08-12T03:36:19.506216Z"
    },
    "tags": []
   },
   "outputs": [
    {
     "data": {
      "text/plain": [
       "(10,)"
      ]
     },
     "execution_count": 5,
     "metadata": {},
     "output_type": "execute_result"
    }
   ],
   "source": [
    "df.dept.shape # 一维。10行"
   ]
  },
  {
   "cell_type": "code",
   "execution_count": 4,
   "id": "b882e68a-5fc4-4768-9023-5b53286b25dd",
   "metadata": {
    "execution": {
     "iopub.execute_input": "2021-08-12T03:35:41.103215Z",
     "iopub.status.busy": "2021-08-12T03:35:41.103215Z",
     "iopub.status.idle": "2021-08-12T03:35:41.110214Z",
     "shell.execute_reply": "2021-08-12T03:35:41.109217Z",
     "shell.execute_reply.started": "2021-08-12T03:35:41.103215Z"
    },
    "tags": []
   },
   "outputs": [
    {
     "data": {
      "text/plain": [
       "(10, 5)"
      ]
     },
     "execution_count": 4,
     "metadata": {},
     "output_type": "execute_result"
    }
   ],
   "source": [
    "df.shape # 二维。10行5列"
   ]
  }
 ],
 "metadata": {
  "kernelspec": {
   "display_name": "Python 3 (ipykernel)",
   "language": "python",
   "name": "python3"
  },
  "language_info": {
   "codemirror_mode": {
    "name": "ipython",
    "version": 3
   },
   "file_extension": ".py",
   "mimetype": "text/x-python",
   "name": "python",
   "nbconvert_exporter": "python",
   "pygments_lexer": "ipython3",
   "version": "3.8.10"
  }
 },
 "nbformat": 4,
 "nbformat_minor": 5
}
