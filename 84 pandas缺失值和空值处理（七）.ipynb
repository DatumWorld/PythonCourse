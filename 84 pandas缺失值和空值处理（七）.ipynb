{
 "cells": [
  {
   "cell_type": "markdown",
   "id": "handed-region",
   "metadata": {
    "execution": {
     "iopub.execute_input": "2021-05-10T07:18:52.990449Z",
     "iopub.status.busy": "2021-05-10T07:18:52.990449Z",
     "iopub.status.idle": "2021-05-10T07:18:52.994464Z",
     "shell.execute_reply": "2021-05-10T07:18:52.993452Z",
     "shell.execute_reply.started": "2021-05-10T07:18:52.990449Z"
    }
   },
   "source": [
    "## 84 pandas缺失值/空值处理（七）\n",
    "### interpolate 使用插值方法填充nan\n",
    "参数 method='linear', axis=0, limit=None, inplace=False, limit_direction=None, limit_area=None, downcast=None, **kwargs"
   ]
  },
  {
   "cell_type": "markdown",
   "id": "under-pulse",
   "metadata": {
    "heading_collapsed": true,
    "tags": []
   },
   "source": [
    "### 创建数据"
   ]
  },
  {
   "cell_type": "code",
   "execution_count": 1,
   "id": "wireless-poland",
   "metadata": {
    "ExecuteTime": {
     "end_time": "2021-06-28T08:03:26.728356Z",
     "start_time": "2021-06-28T08:03:26.483318Z"
    },
    "execution": {
     "iopub.execute_input": "2021-08-13T06:28:18.002820Z",
     "iopub.status.busy": "2021-08-13T06:28:18.002820Z",
     "iopub.status.idle": "2021-08-13T06:28:18.226850Z",
     "shell.execute_reply": "2021-08-13T06:28:18.226850Z",
     "shell.execute_reply.started": "2021-08-13T06:28:18.002820Z"
    },
    "hidden": true,
    "tags": []
   },
   "outputs": [],
   "source": [
    "import numpy as np\n",
    "import pandas as pd"
   ]
  },
  {
   "cell_type": "code",
   "execution_count": 2,
   "id": "southwest-retention",
   "metadata": {
    "ExecuteTime": {
     "end_time": "2021-06-28T08:03:26.733320Z",
     "start_time": "2021-06-28T08:03:26.729350Z"
    },
    "execution": {
     "iopub.execute_input": "2021-08-13T06:28:18.227814Z",
     "iopub.status.busy": "2021-08-13T06:28:18.227814Z",
     "iopub.status.idle": "2021-08-13T06:28:18.244815Z",
     "shell.execute_reply": "2021-08-13T06:28:18.244815Z",
     "shell.execute_reply.started": "2021-08-13T06:28:18.227814Z"
    },
    "hidden": true,
    "tags": []
   },
   "outputs": [
    {
     "data": {
      "text/html": [
       "<div>\n",
       "<style scoped>\n",
       "    .dataframe tbody tr th:only-of-type {\n",
       "        vertical-align: middle;\n",
       "    }\n",
       "\n",
       "    .dataframe tbody tr th {\n",
       "        vertical-align: top;\n",
       "    }\n",
       "\n",
       "    .dataframe thead th {\n",
       "        text-align: right;\n",
       "    }\n",
       "</style>\n",
       "<table border=\"1\" class=\"dataframe\">\n",
       "  <thead>\n",
       "    <tr style=\"text-align: right;\">\n",
       "      <th></th>\n",
       "      <th>a</th>\n",
       "      <th>b</th>\n",
       "      <th>c</th>\n",
       "      <th>d</th>\n",
       "    </tr>\n",
       "  </thead>\n",
       "  <tbody>\n",
       "    <tr>\n",
       "      <th>0</th>\n",
       "      <td>0.0</td>\n",
       "      <td>NaN</td>\n",
       "      <td>-1.0</td>\n",
       "      <td>1.0</td>\n",
       "    </tr>\n",
       "    <tr>\n",
       "      <th>1</th>\n",
       "      <td>NaN</td>\n",
       "      <td>2.0</td>\n",
       "      <td>NaN</td>\n",
       "      <td>NaN</td>\n",
       "    </tr>\n",
       "    <tr>\n",
       "      <th>2</th>\n",
       "      <td>2.0</td>\n",
       "      <td>3.0</td>\n",
       "      <td>NaN</td>\n",
       "      <td>9.0</td>\n",
       "    </tr>\n",
       "    <tr>\n",
       "      <th>3</th>\n",
       "      <td>NaN</td>\n",
       "      <td>4.0</td>\n",
       "      <td>-4.0</td>\n",
       "      <td>16.0</td>\n",
       "    </tr>\n",
       "  </tbody>\n",
       "</table>\n",
       "</div>"
      ],
      "text/plain": [
       "     a    b    c     d\n",
       "0  0.0  NaN -1.0   1.0\n",
       "1  NaN  2.0  NaN   NaN\n",
       "2  2.0  3.0  NaN   9.0\n",
       "3  NaN  4.0 -4.0  16.0"
      ]
     },
     "execution_count": 2,
     "metadata": {},
     "output_type": "execute_result"
    }
   ],
   "source": [
    "df = pd.DataFrame([(0.0, np.nan, -1.0, 1.0),\n",
    "                   (np.nan, 2.0, np.nan, np.nan),\n",
    "                   (2.0, 3.0, np.nan, 9.0),\n",
    "                   (np.nan, 4.0, -4.0, 16.0)],\n",
    "                  columns=list('abcd'))\n",
    "df"
   ]
  },
  {
   "cell_type": "code",
   "execution_count": 14,
   "id": "71858640-b31f-4b03-afaa-e222d8967ce4",
   "metadata": {
    "execution": {
     "iopub.execute_input": "2021-08-13T06:35:58.989010Z",
     "iopub.status.busy": "2021-08-13T06:35:58.989010Z",
     "iopub.status.idle": "2021-08-13T06:35:59.002017Z",
     "shell.execute_reply": "2021-08-13T06:35:59.000013Z",
     "shell.execute_reply.started": "2021-08-13T06:35:58.989010Z"
    },
    "tags": []
   },
   "outputs": [
    {
     "data": {
      "text/html": [
       "<div>\n",
       "<style scoped>\n",
       "    .dataframe tbody tr th:only-of-type {\n",
       "        vertical-align: middle;\n",
       "    }\n",
       "\n",
       "    .dataframe tbody tr th {\n",
       "        vertical-align: top;\n",
       "    }\n",
       "\n",
       "    .dataframe thead th {\n",
       "        text-align: right;\n",
       "    }\n",
       "</style>\n",
       "<table border=\"1\" class=\"dataframe\">\n",
       "  <thead>\n",
       "    <tr style=\"text-align: right;\">\n",
       "      <th></th>\n",
       "      <th>a</th>\n",
       "      <th>b</th>\n",
       "      <th>c</th>\n",
       "      <th>d</th>\n",
       "    </tr>\n",
       "  </thead>\n",
       "  <tbody>\n",
       "    <tr>\n",
       "      <th>0</th>\n",
       "      <td>0.0</td>\n",
       "      <td>NaN</td>\n",
       "      <td>-1.0</td>\n",
       "      <td>1.0</td>\n",
       "    </tr>\n",
       "    <tr>\n",
       "      <th>1</th>\n",
       "      <td>NaN</td>\n",
       "      <td>2.0</td>\n",
       "      <td>NaN</td>\n",
       "      <td>NaN</td>\n",
       "    </tr>\n",
       "    <tr>\n",
       "      <th>2</th>\n",
       "      <td>2.0</td>\n",
       "      <td>3.0</td>\n",
       "      <td>NaN</td>\n",
       "      <td>9.0</td>\n",
       "    </tr>\n",
       "    <tr>\n",
       "      <th>3</th>\n",
       "      <td>2.0</td>\n",
       "      <td>4.0</td>\n",
       "      <td>-4.0</td>\n",
       "      <td>16.0</td>\n",
       "    </tr>\n",
       "  </tbody>\n",
       "</table>\n",
       "</div>"
      ],
      "text/plain": [
       "     a    b    c     d\n",
       "0  0.0  NaN -1.0   1.0\n",
       "1  NaN  2.0  NaN   NaN\n",
       "2  2.0  3.0  NaN   9.0\n",
       "3  2.0  4.0 -4.0  16.0"
      ]
     },
     "execution_count": 14,
     "metadata": {},
     "output_type": "execute_result"
    }
   ],
   "source": [
    "df.interpolate(method='linear',limit_area='outside')"
   ]
  },
  {
   "cell_type": "code",
   "execution_count": 15,
   "id": "09a4c269-ee7c-44d6-a4fc-3aa622db57f5",
   "metadata": {
    "execution": {
     "iopub.execute_input": "2021-08-13T06:36:18.173033Z",
     "iopub.status.busy": "2021-08-13T06:36:18.173033Z",
     "iopub.status.idle": "2021-08-13T06:36:18.186026Z",
     "shell.execute_reply": "2021-08-13T06:36:18.184032Z",
     "shell.execute_reply.started": "2021-08-13T06:36:18.173033Z"
    },
    "tags": []
   },
   "outputs": [
    {
     "data": {
      "text/html": [
       "<div>\n",
       "<style scoped>\n",
       "    .dataframe tbody tr th:only-of-type {\n",
       "        vertical-align: middle;\n",
       "    }\n",
       "\n",
       "    .dataframe tbody tr th {\n",
       "        vertical-align: top;\n",
       "    }\n",
       "\n",
       "    .dataframe thead th {\n",
       "        text-align: right;\n",
       "    }\n",
       "</style>\n",
       "<table border=\"1\" class=\"dataframe\">\n",
       "  <thead>\n",
       "    <tr style=\"text-align: right;\">\n",
       "      <th></th>\n",
       "      <th>a</th>\n",
       "      <th>b</th>\n",
       "      <th>c</th>\n",
       "      <th>d</th>\n",
       "    </tr>\n",
       "  </thead>\n",
       "  <tbody>\n",
       "    <tr>\n",
       "      <th>0</th>\n",
       "      <td>0.0</td>\n",
       "      <td>NaN</td>\n",
       "      <td>-1.0</td>\n",
       "      <td>1.0</td>\n",
       "    </tr>\n",
       "    <tr>\n",
       "      <th>1</th>\n",
       "      <td>1.0</td>\n",
       "      <td>2.0</td>\n",
       "      <td>-2.0</td>\n",
       "      <td>5.0</td>\n",
       "    </tr>\n",
       "    <tr>\n",
       "      <th>2</th>\n",
       "      <td>2.0</td>\n",
       "      <td>3.0</td>\n",
       "      <td>-3.0</td>\n",
       "      <td>9.0</td>\n",
       "    </tr>\n",
       "    <tr>\n",
       "      <th>3</th>\n",
       "      <td>NaN</td>\n",
       "      <td>4.0</td>\n",
       "      <td>-4.0</td>\n",
       "      <td>16.0</td>\n",
       "    </tr>\n",
       "  </tbody>\n",
       "</table>\n",
       "</div>"
      ],
      "text/plain": [
       "     a    b    c     d\n",
       "0  0.0  NaN -1.0   1.0\n",
       "1  1.0  2.0 -2.0   5.0\n",
       "2  2.0  3.0 -3.0   9.0\n",
       "3  NaN  4.0 -4.0  16.0"
      ]
     },
     "execution_count": 15,
     "metadata": {},
     "output_type": "execute_result"
    }
   ],
   "source": [
    "df.interpolate(method='linear',limit_area='inside') # 通过与以上两个对比 limit_area 作用，决定 nan区域与非nan区域“环绕”时如何填充。详见官方文档"
   ]
  },
  {
   "cell_type": "code",
   "execution_count": 10,
   "id": "dc69a3bb-667e-4127-87a9-939839605700",
   "metadata": {
    "execution": {
     "iopub.execute_input": "2021-08-13T06:33:53.721009Z",
     "iopub.status.busy": "2021-08-13T06:33:53.721009Z",
     "iopub.status.idle": "2021-08-13T06:33:53.732011Z",
     "shell.execute_reply": "2021-08-13T06:33:53.732011Z",
     "shell.execute_reply.started": "2021-08-13T06:33:53.721009Z"
    },
    "tags": []
   },
   "outputs": [
    {
     "data": {
      "text/html": [
       "<div>\n",
       "<style scoped>\n",
       "    .dataframe tbody tr th:only-of-type {\n",
       "        vertical-align: middle;\n",
       "    }\n",
       "\n",
       "    .dataframe tbody tr th {\n",
       "        vertical-align: top;\n",
       "    }\n",
       "\n",
       "    .dataframe thead th {\n",
       "        text-align: right;\n",
       "    }\n",
       "</style>\n",
       "<table border=\"1\" class=\"dataframe\">\n",
       "  <thead>\n",
       "    <tr style=\"text-align: right;\">\n",
       "      <th></th>\n",
       "      <th>a</th>\n",
       "      <th>b</th>\n",
       "      <th>c</th>\n",
       "      <th>d</th>\n",
       "    </tr>\n",
       "  </thead>\n",
       "  <tbody>\n",
       "    <tr>\n",
       "      <th>0</th>\n",
       "      <td>0.0</td>\n",
       "      <td>NaN</td>\n",
       "      <td>-1.0</td>\n",
       "      <td>1.0</td>\n",
       "    </tr>\n",
       "    <tr>\n",
       "      <th>1</th>\n",
       "      <td>1.0</td>\n",
       "      <td>2.0</td>\n",
       "      <td>-2.0</td>\n",
       "      <td>5.0</td>\n",
       "    </tr>\n",
       "    <tr>\n",
       "      <th>2</th>\n",
       "      <td>2.0</td>\n",
       "      <td>3.0</td>\n",
       "      <td>NaN</td>\n",
       "      <td>9.0</td>\n",
       "    </tr>\n",
       "    <tr>\n",
       "      <th>3</th>\n",
       "      <td>2.0</td>\n",
       "      <td>4.0</td>\n",
       "      <td>-4.0</td>\n",
       "      <td>16.0</td>\n",
       "    </tr>\n",
       "  </tbody>\n",
       "</table>\n",
       "</div>"
      ],
      "text/plain": [
       "     a    b    c     d\n",
       "0  0.0  NaN -1.0   1.0\n",
       "1  1.0  2.0 -2.0   5.0\n",
       "2  2.0  3.0  NaN   9.0\n",
       "3  2.0  4.0 -4.0  16.0"
      ]
     },
     "execution_count": 10,
     "metadata": {},
     "output_type": "execute_result"
    }
   ],
   "source": [
    "df.interpolate(method='linear',limit=1,limit_direction='forward') # 沿着 limit=1,limit_direction='forward' 参数类似 fillna的 ，与method 配合使用"
   ]
  },
  {
   "cell_type": "code",
   "execution_count": 6,
   "id": "1a3b97cb-3eed-4790-91e3-def78cdc7be0",
   "metadata": {
    "execution": {
     "iopub.execute_input": "2021-08-13T06:32:18.161012Z",
     "iopub.status.busy": "2021-08-13T06:32:18.160034Z",
     "iopub.status.idle": "2021-08-13T06:32:18.177008Z",
     "shell.execute_reply": "2021-08-13T06:32:18.177008Z",
     "shell.execute_reply.started": "2021-08-13T06:32:18.161012Z"
    },
    "tags": []
   },
   "outputs": [
    {
     "data": {
      "text/html": [
       "<div>\n",
       "<style scoped>\n",
       "    .dataframe tbody tr th:only-of-type {\n",
       "        vertical-align: middle;\n",
       "    }\n",
       "\n",
       "    .dataframe tbody tr th {\n",
       "        vertical-align: top;\n",
       "    }\n",
       "\n",
       "    .dataframe thead th {\n",
       "        text-align: right;\n",
       "    }\n",
       "</style>\n",
       "<table border=\"1\" class=\"dataframe\">\n",
       "  <thead>\n",
       "    <tr style=\"text-align: right;\">\n",
       "      <th></th>\n",
       "      <th>a</th>\n",
       "      <th>b</th>\n",
       "      <th>c</th>\n",
       "      <th>d</th>\n",
       "    </tr>\n",
       "  </thead>\n",
       "  <tbody>\n",
       "    <tr>\n",
       "      <th>0</th>\n",
       "      <td>0.0</td>\n",
       "      <td>-0.5</td>\n",
       "      <td>-1.0</td>\n",
       "      <td>1.0</td>\n",
       "    </tr>\n",
       "    <tr>\n",
       "      <th>1</th>\n",
       "      <td>NaN</td>\n",
       "      <td>2.0</td>\n",
       "      <td>2.0</td>\n",
       "      <td>2.0</td>\n",
       "    </tr>\n",
       "    <tr>\n",
       "      <th>2</th>\n",
       "      <td>2.0</td>\n",
       "      <td>3.0</td>\n",
       "      <td>6.0</td>\n",
       "      <td>9.0</td>\n",
       "    </tr>\n",
       "    <tr>\n",
       "      <th>3</th>\n",
       "      <td>NaN</td>\n",
       "      <td>4.0</td>\n",
       "      <td>-4.0</td>\n",
       "      <td>16.0</td>\n",
       "    </tr>\n",
       "  </tbody>\n",
       "</table>\n",
       "</div>"
      ],
      "text/plain": [
       "     a    b    c     d\n",
       "0  0.0 -0.5 -1.0   1.0\n",
       "1  NaN  2.0  2.0   2.0\n",
       "2  2.0  3.0  6.0   9.0\n",
       "3  NaN  4.0 -4.0  16.0"
      ]
     },
     "execution_count": 6,
     "metadata": {},
     "output_type": "execute_result"
    }
   ],
   "source": [
    "df.interpolate(axis=1) # 沿着axis=1 水平方向"
   ]
  },
  {
   "cell_type": "code",
   "execution_count": 3,
   "id": "262fb7fe-3a81-4ec2-b378-1190aa5a9b2e",
   "metadata": {
    "execution": {
     "iopub.execute_input": "2021-08-13T06:29:50.384816Z",
     "iopub.status.busy": "2021-08-13T06:29:50.383818Z",
     "iopub.status.idle": "2021-08-13T06:29:50.398815Z",
     "shell.execute_reply": "2021-08-13T06:29:50.397817Z",
     "shell.execute_reply.started": "2021-08-13T06:29:50.384816Z"
    },
    "tags": []
   },
   "outputs": [
    {
     "data": {
      "text/html": [
       "<div>\n",
       "<style scoped>\n",
       "    .dataframe tbody tr th:only-of-type {\n",
       "        vertical-align: middle;\n",
       "    }\n",
       "\n",
       "    .dataframe tbody tr th {\n",
       "        vertical-align: top;\n",
       "    }\n",
       "\n",
       "    .dataframe thead th {\n",
       "        text-align: right;\n",
       "    }\n",
       "</style>\n",
       "<table border=\"1\" class=\"dataframe\">\n",
       "  <thead>\n",
       "    <tr style=\"text-align: right;\">\n",
       "      <th></th>\n",
       "      <th>a</th>\n",
       "      <th>b</th>\n",
       "      <th>c</th>\n",
       "      <th>d</th>\n",
       "    </tr>\n",
       "  </thead>\n",
       "  <tbody>\n",
       "    <tr>\n",
       "      <th>0</th>\n",
       "      <td>0.0</td>\n",
       "      <td>NaN</td>\n",
       "      <td>-1.0</td>\n",
       "      <td>1.0</td>\n",
       "    </tr>\n",
       "    <tr>\n",
       "      <th>1</th>\n",
       "      <td>1.0</td>\n",
       "      <td>2.0</td>\n",
       "      <td>-2.0</td>\n",
       "      <td>5.0</td>\n",
       "    </tr>\n",
       "    <tr>\n",
       "      <th>2</th>\n",
       "      <td>2.0</td>\n",
       "      <td>3.0</td>\n",
       "      <td>-3.0</td>\n",
       "      <td>9.0</td>\n",
       "    </tr>\n",
       "    <tr>\n",
       "      <th>3</th>\n",
       "      <td>2.0</td>\n",
       "      <td>4.0</td>\n",
       "      <td>-4.0</td>\n",
       "      <td>16.0</td>\n",
       "    </tr>\n",
       "  </tbody>\n",
       "</table>\n",
       "</div>"
      ],
      "text/plain": [
       "     a    b    c     d\n",
       "0  0.0  NaN -1.0   1.0\n",
       "1  1.0  2.0 -2.0   5.0\n",
       "2  2.0  3.0 -3.0   9.0\n",
       "3  2.0  4.0 -4.0  16.0"
      ]
     },
     "execution_count": 3,
     "metadata": {},
     "output_type": "execute_result"
    }
   ],
   "source": [
    "df.interpolate() # 一个简单的。观察数据变化，默认 线性插值"
   ]
  },
  {
   "cell_type": "code",
   "execution_count": 5,
   "id": "27068b07-abb0-4922-87b8-5a76fb430cbb",
   "metadata": {
    "execution": {
     "iopub.execute_input": "2021-08-13T06:30:51.690928Z",
     "iopub.status.busy": "2021-08-13T06:30:51.690928Z",
     "iopub.status.idle": "2021-08-13T06:30:51.982926Z",
     "shell.execute_reply": "2021-08-13T06:30:51.982926Z",
     "shell.execute_reply.started": "2021-08-13T06:30:51.690928Z"
    },
    "tags": []
   },
   "outputs": [
    {
     "data": {
      "text/plain": [
       "<AxesSubplot:>"
      ]
     },
     "execution_count": 5,
     "metadata": {},
     "output_type": "execute_result"
    },
    {
     "data": {
      "image/png": "[encoded data removed]",
      "text/plain": [
       "<Figure size 432x288 with 1 Axes>"
      ]
     },
     "metadata": {
      "needs_background": "light"
     },
     "output_type": "display_data"
    },
    {
     "data": {
      "image/png": "[encoded data removed]",
      "text/plain": [
       "<Figure size 432x288 with 1 Axes>"
      ]
     },
     "metadata": {
      "needs_background": "light"
     },
     "output_type": "display_data"
    }
   ],
   "source": [
    "df.plot();df.interpolate().plot() # 上下两个图，统一对比插值效果。这里用到 plot，作图"
   ]
  },
  {
   "cell_type": "code",
   "execution_count": 20,
   "id": "a6c334b2-7228-4d4b-817d-45dc95ee3f76",
   "metadata": {
    "execution": {
     "iopub.execute_input": "2021-08-13T06:39:50.922010Z",
     "iopub.status.busy": "2021-08-13T06:39:50.922010Z",
     "iopub.status.idle": "2021-08-13T06:39:50.935017Z",
     "shell.execute_reply": "2021-08-13T06:39:50.934020Z",
     "shell.execute_reply.started": "2021-08-13T06:39:50.922010Z"
    },
    "tags": []
   },
   "outputs": [
    {
     "data": {
      "text/html": [
       "<div>\n",
       "<style scoped>\n",
       "    .dataframe tbody tr th:only-of-type {\n",
       "        vertical-align: middle;\n",
       "    }\n",
       "\n",
       "    .dataframe tbody tr th {\n",
       "        vertical-align: top;\n",
       "    }\n",
       "\n",
       "    .dataframe thead th {\n",
       "        text-align: right;\n",
       "    }\n",
       "</style>\n",
       "<table border=\"1\" class=\"dataframe\">\n",
       "  <thead>\n",
       "    <tr style=\"text-align: right;\">\n",
       "      <th></th>\n",
       "      <th>a</th>\n",
       "      <th>b</th>\n",
       "      <th>c</th>\n",
       "      <th>d</th>\n",
       "    </tr>\n",
       "  </thead>\n",
       "  <tbody>\n",
       "    <tr>\n",
       "      <th>0</th>\n",
       "      <td>0</td>\n",
       "      <td>NaN</td>\n",
       "      <td>-1</td>\n",
       "      <td>1</td>\n",
       "    </tr>\n",
       "    <tr>\n",
       "      <th>1</th>\n",
       "      <td>1</td>\n",
       "      <td>2.0</td>\n",
       "      <td>-2</td>\n",
       "      <td>5</td>\n",
       "    </tr>\n",
       "    <tr>\n",
       "      <th>2</th>\n",
       "      <td>2</td>\n",
       "      <td>3.0</td>\n",
       "      <td>-3</td>\n",
       "      <td>9</td>\n",
       "    </tr>\n",
       "    <tr>\n",
       "      <th>3</th>\n",
       "      <td>2</td>\n",
       "      <td>4.0</td>\n",
       "      <td>-4</td>\n",
       "      <td>16</td>\n",
       "    </tr>\n",
       "  </tbody>\n",
       "</table>\n",
       "</div>"
      ],
      "text/plain": [
       "   a    b  c   d\n",
       "0  0  NaN -1   1\n",
       "1  1  2.0 -2   5\n",
       "2  2  3.0 -3   9\n",
       "3  2  4.0 -4  16"
      ]
     },
     "execution_count": 20,
     "metadata": {},
     "output_type": "execute_result"
    }
   ],
   "source": [
    "df.interpolate(downcast='infer') # 错误提示给出参数，infer 推断结果可能的转换类型"
   ]
  },
  {
   "cell_type": "code",
   "execution_count": 23,
   "id": "a28cbe43-6a7c-4a2d-90f6-805042dddcd5",
   "metadata": {
    "execution": {
     "iopub.execute_input": "2021-08-13T06:41:22.799009Z",
     "iopub.status.busy": "2021-08-13T06:41:22.799009Z",
     "iopub.status.idle": "2021-08-13T06:41:22.814008Z",
     "shell.execute_reply": "2021-08-13T06:41:22.814008Z",
     "shell.execute_reply.started": "2021-08-13T06:41:22.799009Z"
    },
    "tags": []
   },
   "outputs": [
    {
     "data": {
      "text/html": [
       "<div>\n",
       "<style scoped>\n",
       "    .dataframe tbody tr th:only-of-type {\n",
       "        vertical-align: middle;\n",
       "    }\n",
       "\n",
       "    .dataframe tbody tr th {\n",
       "        vertical-align: top;\n",
       "    }\n",
       "\n",
       "    .dataframe thead th {\n",
       "        text-align: right;\n",
       "    }\n",
       "</style>\n",
       "<table border=\"1\" class=\"dataframe\">\n",
       "  <thead>\n",
       "    <tr style=\"text-align: right;\">\n",
       "      <th></th>\n",
       "      <th>a</th>\n",
       "      <th>b</th>\n",
       "      <th>c</th>\n",
       "      <th>d</th>\n",
       "    </tr>\n",
       "  </thead>\n",
       "  <tbody>\n",
       "    <tr>\n",
       "      <th>0</th>\n",
       "      <td>0.0</td>\n",
       "      <td>NaN</td>\n",
       "      <td>-1.000000</td>\n",
       "      <td>1.00</td>\n",
       "    </tr>\n",
       "    <tr>\n",
       "      <th>1</th>\n",
       "      <td>0.0</td>\n",
       "      <td>2.0</td>\n",
       "      <td>-2.333333</td>\n",
       "      <td>4.25</td>\n",
       "    </tr>\n",
       "    <tr>\n",
       "      <th>2</th>\n",
       "      <td>2.0</td>\n",
       "      <td>3.0</td>\n",
       "      <td>-3.333333</td>\n",
       "      <td>9.00</td>\n",
       "    </tr>\n",
       "    <tr>\n",
       "      <th>3</th>\n",
       "      <td>NaN</td>\n",
       "      <td>4.0</td>\n",
       "      <td>-4.000000</td>\n",
       "      <td>16.00</td>\n",
       "    </tr>\n",
       "  </tbody>\n",
       "</table>\n",
       "</div>"
      ],
      "text/plain": [
       "     a    b         c      d\n",
       "0  0.0  NaN -1.000000   1.00\n",
       "1  0.0  2.0 -2.333333   4.25\n",
       "2  2.0  3.0 -3.333333   9.00\n",
       "3  NaN  4.0 -4.000000  16.00"
      ]
     },
     "execution_count": 23,
     "metadata": {},
     "output_type": "execute_result"
    }
   ],
   "source": [
    "df.interpolate(method='akima',order=1) # s使用的scipy中的特殊插值函数。详细参考相关文档"
   ]
  }
 ],
 "metadata": {
  "kernelspec": {
   "display_name": "Python 3 (ipykernel)",
   "language": "python",
   "name": "python3"
  },
  "language_info": {
   "codemirror_mode": {
    "name": "ipython",
    "version": 3
   },
   "file_extension": ".py",
   "mimetype": "text/x-python",
   "name": "python",
   "nbconvert_exporter": "python",
   "pygments_lexer": "ipython3",
   "version": "3.8.10"
  },
  "toc": {
   "base_numbering": 1,
   "nav_menu": {},
   "number_sections": true,
   "sideBar": true,
   "skip_h1_title": false,
   "title_cell": "Table of Contents",
   "title_sidebar": "Contents",
   "toc_cell": false,
   "toc_position": {},
   "toc_section_display": true,
   "toc_window_display": false
  },
  "varInspector": {
   "cols": {
    "lenName": 16,
    "lenType": 16,
    "lenVar": 40
   },
   "kernels_config": {
    "python": {
     "delete_cmd_postfix": "",
     "delete_cmd_prefix": "del ",
     "library": "var_list.py",
     "varRefreshCmd": "print(var_dic_list())"
    },
    "r": {
     "delete_cmd_postfix": ") ",
     "delete_cmd_prefix": "rm(",
     "library": "var_list.r",
     "varRefreshCmd": "cat(var_dic_list()) "
    }
   },
   "types_to_exclude": [
    "module",
    "function",
    "builtin_function_or_method",
    "instance",
    "_Feature"
   ],
   "window_display": false
  }
 },
 "nbformat": 4,
 "nbformat_minor": 5
}
