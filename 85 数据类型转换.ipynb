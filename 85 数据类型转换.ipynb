{
 "cells": [
  {
   "cell_type": "markdown",
   "id": "fe95639a",
   "metadata": {
    "execution": {
     "iopub.execute_input": "2021-05-10T07:18:52.990449Z",
     "iopub.status.busy": "2021-05-10T07:18:52.990449Z",
     "iopub.status.idle": "2021-05-10T07:18:52.994464Z",
     "shell.execute_reply": "2021-05-10T07:18:52.993452Z",
     "shell.execute_reply.started": "2021-05-10T07:18:52.990449Z"
    }
   },
   "source": [
    "## 85 数据类型转换"
   ]
  },
  {
   "cell_type": "markdown",
   "id": "0ddac84a",
   "metadata": {
    "jp-MarkdownHeadingCollapsed": true,
    "tags": []
   },
   "source": [
    "### astype\n",
    "参数 dtype, copy=True, errors='raise'"
   ]
  },
  {
   "cell_type": "code",
   "execution_count": 1,
   "id": "5d61795b",
   "metadata": {
    "execution": {
     "iopub.execute_input": "2021-08-14T05:55:28.691429Z",
     "iopub.status.busy": "2021-08-14T05:55:28.690925Z",
     "iopub.status.idle": "2021-08-14T05:55:29.014742Z",
     "shell.execute_reply": "2021-08-14T05:55:29.013627Z",
     "shell.execute_reply.started": "2021-08-14T05:55:28.691355Z"
    },
    "tags": []
   },
   "outputs": [],
   "source": [
    "import numpy  as np\n",
    "import pandas as pd\n",
    "from faker import Faker\n",
    "\n",
    "fake = Faker('zh_CN')\n",
    "df=pd.DataFrame(data=[ [fake.name()] for x in range(10) ],columns=['name'])\n",
    "\n",
    "df['销售额']=np.random.randint(100,100000,size=(10, 1))\n",
    "df['时间']=pd.date_range(start='2020-01-01',periods=10,freq='D')\n",
    "df.insert(0,'dept',['部门1']*5+['部门2']*5)\n",
    "df.insert(1,'dept 1',['小部门1']*2+['小部门2']*3+['小部门3']*1+['小部门4']*4)\n",
    "df.iloc[1,1]=np.nan #  修改成nan"
   ]
  },
  {
   "cell_type": "markdown",
   "id": "cde7d4a7",
   "metadata": {
    "tags": []
   },
   "source": [
    "### 演示数据"
   ]
  },
  {
   "cell_type": "code",
   "execution_count": 2,
   "id": "5ff3889a",
   "metadata": {
    "execution": {
     "iopub.execute_input": "2021-08-14T05:55:29.016293Z",
     "iopub.status.busy": "2021-08-14T05:55:29.016053Z",
     "iopub.status.idle": "2021-08-14T05:55:29.036456Z",
     "shell.execute_reply": "2021-08-14T05:55:29.035568Z",
     "shell.execute_reply.started": "2021-08-14T05:55:29.016270Z"
    },
    "tags": []
   },
   "outputs": [
    {
     "data": {
      "text/html": [
       "<div>\n",
       "<style scoped>\n",
       "    .dataframe tbody tr th:only-of-type {\n",
       "        vertical-align: middle;\n",
       "    }\n",
       "\n",
       "    .dataframe tbody tr th {\n",
       "        vertical-align: top;\n",
       "    }\n",
       "\n",
       "    .dataframe thead th {\n",
       "        text-align: right;\n",
       "    }\n",
       "</style>\n",
       "<table border=\"1\" class=\"dataframe\">\n",
       "  <thead>\n",
       "    <tr style=\"text-align: right;\">\n",
       "      <th></th>\n",
       "      <th>dept</th>\n",
       "      <th>dept 1</th>\n",
       "      <th>name</th>\n",
       "      <th>销售额</th>\n",
       "      <th>时间</th>\n",
       "    </tr>\n",
       "  </thead>\n",
       "  <tbody>\n",
       "    <tr>\n",
       "      <th>0</th>\n",
       "      <td>部门1</td>\n",
       "      <td>小部门1</td>\n",
       "      <td>张淑华</td>\n",
       "      <td>98990</td>\n",
       "      <td>2020-01-01</td>\n",
       "    </tr>\n",
       "    <tr>\n",
       "      <th>1</th>\n",
       "      <td>部门1</td>\n",
       "      <td>NaN</td>\n",
       "      <td>汪凤英</td>\n",
       "      <td>22824</td>\n",
       "      <td>2020-01-02</td>\n",
       "    </tr>\n",
       "    <tr>\n",
       "      <th>2</th>\n",
       "      <td>部门1</td>\n",
       "      <td>小部门2</td>\n",
       "      <td>谢明</td>\n",
       "      <td>31300</td>\n",
       "      <td>2020-01-03</td>\n",
       "    </tr>\n",
       "    <tr>\n",
       "      <th>3</th>\n",
       "      <td>部门1</td>\n",
       "      <td>小部门2</td>\n",
       "      <td>黄兵</td>\n",
       "      <td>7745</td>\n",
       "      <td>2020-01-04</td>\n",
       "    </tr>\n",
       "    <tr>\n",
       "      <th>4</th>\n",
       "      <td>部门1</td>\n",
       "      <td>小部门2</td>\n",
       "      <td>张兵</td>\n",
       "      <td>82926</td>\n",
       "      <td>2020-01-05</td>\n",
       "    </tr>\n",
       "    <tr>\n",
       "      <th>5</th>\n",
       "      <td>部门2</td>\n",
       "      <td>小部门3</td>\n",
       "      <td>张雪</td>\n",
       "      <td>2705</td>\n",
       "      <td>2020-01-06</td>\n",
       "    </tr>\n",
       "    <tr>\n",
       "      <th>6</th>\n",
       "      <td>部门2</td>\n",
       "      <td>小部门4</td>\n",
       "      <td>张雪</td>\n",
       "      <td>3370</td>\n",
       "      <td>2020-01-07</td>\n",
       "    </tr>\n",
       "    <tr>\n",
       "      <th>7</th>\n",
       "      <td>部门2</td>\n",
       "      <td>小部门4</td>\n",
       "      <td>张玉珍</td>\n",
       "      <td>47478</td>\n",
       "      <td>2020-01-08</td>\n",
       "    </tr>\n",
       "    <tr>\n",
       "      <th>8</th>\n",
       "      <td>部门2</td>\n",
       "      <td>小部门4</td>\n",
       "      <td>潘洁</td>\n",
       "      <td>70174</td>\n",
       "      <td>2020-01-09</td>\n",
       "    </tr>\n",
       "    <tr>\n",
       "      <th>9</th>\n",
       "      <td>部门2</td>\n",
       "      <td>小部门4</td>\n",
       "      <td>冯淑珍</td>\n",
       "      <td>79287</td>\n",
       "      <td>2020-01-10</td>\n",
       "    </tr>\n",
       "  </tbody>\n",
       "</table>\n",
       "</div>"
      ],
      "text/plain": [
       "  dept dept 1 name    销售额         时间\n",
       "0  部门1   小部门1  张淑华  98990 2020-01-01\n",
       "1  部门1    NaN  汪凤英  22824 2020-01-02\n",
       "2  部门1   小部门2   谢明  31300 2020-01-03\n",
       "3  部门1   小部门2   黄兵   7745 2020-01-04\n",
       "4  部门1   小部门2   张兵  82926 2020-01-05\n",
       "5  部门2   小部门3   张雪   2705 2020-01-06\n",
       "6  部门2   小部门4   张雪   3370 2020-01-07\n",
       "7  部门2   小部门4  张玉珍  47478 2020-01-08\n",
       "8  部门2   小部门4   潘洁  70174 2020-01-09\n",
       "9  部门2   小部门4  冯淑珍  79287 2020-01-10"
      ]
     },
     "execution_count": 2,
     "metadata": {},
     "output_type": "execute_result"
    }
   ],
   "source": [
    "df # 随机生成的数据"
   ]
  },
  {
   "cell_type": "code",
   "execution_count": 3,
   "id": "fdaef8c1",
   "metadata": {
    "execution": {
     "iopub.execute_input": "2021-08-14T05:55:53.285881Z",
     "iopub.status.busy": "2021-08-14T05:55:53.285394Z",
     "iopub.status.idle": "2021-08-14T05:55:53.293027Z",
     "shell.execute_reply": "2021-08-14T05:55:53.291590Z",
     "shell.execute_reply.started": "2021-08-14T05:55:53.285840Z"
    }
   },
   "outputs": [
    {
     "data": {
      "text/plain": [
       "dept              object\n",
       "dept 1            object\n",
       "name              object\n",
       "销售额                int64\n",
       "时间        datetime64[ns]\n",
       "dtype: object"
      ]
     },
     "execution_count": 3,
     "metadata": {},
     "output_type": "execute_result"
    }
   ],
   "source": [
    "df.dtypes"
   ]
  },
  {
   "cell_type": "code",
   "execution_count": 17,
   "id": "787b1a6b",
   "metadata": {
    "execution": {
     "iopub.execute_input": "2021-08-14T06:02:12.756955Z",
     "iopub.status.busy": "2021-08-14T06:02:12.756468Z",
     "iopub.status.idle": "2021-08-14T06:02:12.767751Z",
     "shell.execute_reply": "2021-08-14T06:02:12.767019Z",
     "shell.execute_reply.started": "2021-08-14T06:02:12.756915Z"
    }
   },
   "outputs": [
    {
     "data": {
      "text/plain": [
       "dept       object\n",
       "dept 1     object\n",
       "name       object\n",
       "销售额       float64\n",
       "时间         string\n",
       "dtype: object"
      ]
     },
     "execution_count": 17,
     "metadata": {},
     "output_type": "execute_result"
    }
   ],
   "source": [
    "df.astype(dtype={'销售额':'float','时间':'string'},errors='ignore').dtypes # 多列转换，dict 映射"
   ]
  },
  {
   "cell_type": "code",
   "execution_count": 13,
   "id": "9abbad58",
   "metadata": {
    "execution": {
     "iopub.execute_input": "2021-08-14T06:00:16.097481Z",
     "iopub.status.busy": "2021-08-14T06:00:16.097166Z",
     "iopub.status.idle": "2021-08-14T06:00:16.103504Z",
     "shell.execute_reply": "2021-08-14T06:00:16.102863Z",
     "shell.execute_reply.started": "2021-08-14T06:00:16.097456Z"
    }
   },
   "outputs": [
    {
     "data": {
      "text/plain": [
       "0    小部门1\n",
       "1     NaN\n",
       "2    小部门2\n",
       "3    小部门2\n",
       "4    小部门2\n",
       "5    小部门3\n",
       "6    小部门4\n",
       "7    小部门4\n",
       "8    小部门4\n",
       "9    小部门4\n",
       "Name: dept 1, dtype: object"
      ]
     },
     "execution_count": 13,
     "metadata": {},
     "output_type": "execute_result"
    }
   ],
   "source": [
    "df['dept 1'].astype('int',errors='ignore') # 转换为 失败，默认报错，也可以忽略 转换失败的错误并保持元素的原样"
   ]
  },
  {
   "cell_type": "code",
   "execution_count": 9,
   "id": "c7fe4f38",
   "metadata": {
    "execution": {
     "iopub.execute_input": "2021-08-14T05:58:31.350182Z",
     "iopub.status.busy": "2021-08-14T05:58:31.349755Z",
     "iopub.status.idle": "2021-08-14T05:58:31.357362Z",
     "shell.execute_reply": "2021-08-14T05:58:31.356427Z",
     "shell.execute_reply.started": "2021-08-14T05:58:31.350155Z"
    }
   },
   "outputs": [
    {
     "data": {
      "text/plain": [
       "0    98990\n",
       "1    22824\n",
       "2    31300\n",
       "3     7745\n",
       "4    82926\n",
       "5     2705\n",
       "6     3370\n",
       "7    47478\n",
       "8    70174\n",
       "9    79287\n",
       "Name: 销售额, dtype: object"
      ]
     },
     "execution_count": 9,
     "metadata": {},
     "output_type": "execute_result"
    }
   ],
   "source": [
    "df.销售额.astype(str) # 转换为 object"
   ]
  },
  {
   "cell_type": "code",
   "execution_count": 8,
   "id": "79a4a77a",
   "metadata": {
    "execution": {
     "iopub.execute_input": "2021-08-14T05:58:06.620814Z",
     "iopub.status.busy": "2021-08-14T05:58:06.620348Z",
     "iopub.status.idle": "2021-08-14T05:58:06.629185Z",
     "shell.execute_reply": "2021-08-14T05:58:06.628510Z",
     "shell.execute_reply.started": "2021-08-14T05:58:06.620776Z"
    }
   },
   "outputs": [
    {
     "data": {
      "text/plain": [
       "0    98990\n",
       "1    22824\n",
       "2    31300\n",
       "3     7745\n",
       "4    82926\n",
       "5     2705\n",
       "6     3370\n",
       "7    47478\n",
       "8    70174\n",
       "9    79287\n",
       "Name: 销售额, dtype: string"
      ]
     },
     "execution_count": 8,
     "metadata": {},
     "output_type": "execute_result"
    }
   ],
   "source": [
    "df.销售额.astype(pd.StringDtype()) # 转换为 string。等效"
   ]
  },
  {
   "cell_type": "code",
   "execution_count": 7,
   "id": "55f6bec3",
   "metadata": {
    "execution": {
     "iopub.execute_input": "2021-08-14T05:57:40.596582Z",
     "iopub.status.busy": "2021-08-14T05:57:40.596190Z",
     "iopub.status.idle": "2021-08-14T05:57:40.604031Z",
     "shell.execute_reply": "2021-08-14T05:57:40.603183Z",
     "shell.execute_reply.started": "2021-08-14T05:57:40.596542Z"
    }
   },
   "outputs": [
    {
     "data": {
      "text/plain": [
       "0    98990\n",
       "1    22824\n",
       "2    31300\n",
       "3     7745\n",
       "4    82926\n",
       "5     2705\n",
       "6     3370\n",
       "7    47478\n",
       "8    70174\n",
       "9    79287\n",
       "Name: 销售额, dtype: string"
      ]
     },
     "execution_count": 7,
     "metadata": {},
     "output_type": "execute_result"
    }
   ],
   "source": [
    "df.销售额.astype('string') # 转换为 string"
   ]
  },
  {
   "cell_type": "code",
   "execution_count": 6,
   "id": "8006a37d",
   "metadata": {
    "execution": {
     "iopub.execute_input": "2021-08-14T05:57:13.538425Z",
     "iopub.status.busy": "2021-08-14T05:57:13.538075Z",
     "iopub.status.idle": "2021-08-14T05:57:13.544718Z",
     "shell.execute_reply": "2021-08-14T05:57:13.544065Z",
     "shell.execute_reply.started": "2021-08-14T05:57:13.538399Z"
    }
   },
   "outputs": [
    {
     "data": {
      "text/plain": [
       "0   1970-01-01 00:00:00.000098990\n",
       "1   1970-01-01 00:00:00.000022824\n",
       "2   1970-01-01 00:00:00.000031300\n",
       "3   1970-01-01 00:00:00.000007745\n",
       "4   1970-01-01 00:00:00.000082926\n",
       "5   1970-01-01 00:00:00.000002705\n",
       "6   1970-01-01 00:00:00.000003370\n",
       "7   1970-01-01 00:00:00.000047478\n",
       "8   1970-01-01 00:00:00.000070174\n",
       "9   1970-01-01 00:00:00.000079287\n",
       "Name: 销售额, dtype: datetime64[ns]"
      ]
     },
     "execution_count": 6,
     "metadata": {},
     "output_type": "execute_result"
    }
   ],
   "source": [
    "df.销售额.astype('datetime64[ns]') # 转换为 datetime，注意unit"
   ]
  },
  {
   "cell_type": "code",
   "execution_count": 5,
   "id": "2bb3d3b4",
   "metadata": {
    "execution": {
     "iopub.execute_input": "2021-08-14T05:56:35.535961Z",
     "iopub.status.busy": "2021-08-14T05:56:35.535451Z",
     "iopub.status.idle": "2021-08-14T05:56:35.545036Z",
     "shell.execute_reply": "2021-08-14T05:56:35.543548Z",
     "shell.execute_reply.started": "2021-08-14T05:56:35.535927Z"
    }
   },
   "outputs": [
    {
     "data": {
      "text/plain": [
       "0    98990.0\n",
       "1    22824.0\n",
       "2    31300.0\n",
       "3     7745.0\n",
       "4    82926.0\n",
       "5     2705.0\n",
       "6     3370.0\n",
       "7    47478.0\n",
       "8    70174.0\n",
       "9    79287.0\n",
       "Name: 销售额, dtype: float32"
      ]
     },
     "execution_count": 5,
     "metadata": {},
     "output_type": "execute_result"
    }
   ],
   "source": [
    "df.销售额.astype('float32') # 转换为 float32"
   ]
  },
  {
   "cell_type": "code",
   "execution_count": 4,
   "id": "e8f653e4",
   "metadata": {
    "execution": {
     "iopub.execute_input": "2021-08-14T05:56:13.861082Z",
     "iopub.status.busy": "2021-08-14T05:56:13.860681Z",
     "iopub.status.idle": "2021-08-14T05:56:13.870786Z",
     "shell.execute_reply": "2021-08-14T05:56:13.869072Z",
     "shell.execute_reply.started": "2021-08-14T05:56:13.861048Z"
    }
   },
   "outputs": [
    {
     "data": {
      "text/plain": [
       "0    98990.0\n",
       "1    22824.0\n",
       "2    31300.0\n",
       "3     7745.0\n",
       "4    82926.0\n",
       "5     2705.0\n",
       "6     3370.0\n",
       "7    47478.0\n",
       "8    70174.0\n",
       "9    79287.0\n",
       "Name: 销售额, dtype: float64"
      ]
     },
     "execution_count": 4,
     "metadata": {},
     "output_type": "execute_result"
    }
   ],
   "source": [
    "df.销售额.astype('float') # 转换为 float"
   ]
  }
 ],
 "metadata": {
  "kernelspec": {
   "display_name": "Python 3 (ipykernel)",
   "language": "python",
   "name": "python3"
  },
  "language_info": {
   "codemirror_mode": {
    "name": "ipython",
    "version": 3
   },
   "file_extension": ".py",
   "mimetype": "text/x-python",
   "name": "python",
   "nbconvert_exporter": "python",
   "pygments_lexer": "ipython3",
   "version": "3.8.10"
  }
 },
 "nbformat": 4,
 "nbformat_minor": 5
}
