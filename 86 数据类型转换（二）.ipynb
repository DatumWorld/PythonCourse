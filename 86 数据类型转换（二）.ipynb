{
 "cells": [
  {
   "cell_type": "markdown",
   "id": "fe95639a",
   "metadata": {
    "execution": {
     "iopub.execute_input": "2021-05-10T07:18:52.990449Z",
     "iopub.status.busy": "2021-05-10T07:18:52.990449Z",
     "iopub.status.idle": "2021-05-10T07:18:52.994464Z",
     "shell.execute_reply": "2021-05-10T07:18:52.993452Z",
     "shell.execute_reply.started": "2021-05-10T07:18:52.990449Z"
    }
   },
   "source": [
    "## 86 数据类型转换（二）"
   ]
  },
  {
   "cell_type": "markdown",
   "id": "0ddac84a",
   "metadata": {
    "jp-MarkdownHeadingCollapsed": true,
    "tags": []
   },
   "source": [
    "### astype to_numeric"
   ]
  },
  {
   "cell_type": "code",
   "execution_count": 1,
   "id": "5d61795b",
   "metadata": {
    "execution": {
     "iopub.execute_input": "2021-08-16T03:33:57.176716Z",
     "iopub.status.busy": "2021-08-16T03:33:57.175715Z",
     "iopub.status.idle": "2021-08-16T03:33:57.486744Z",
     "shell.execute_reply": "2021-08-16T03:33:57.486744Z",
     "shell.execute_reply.started": "2021-08-16T03:33:57.176716Z"
    },
    "tags": []
   },
   "outputs": [],
   "source": [
    "import numpy  as np\n",
    "import pandas as pd\n",
    "from faker import Faker\n",
    "\n",
    "fake = Faker('zh_CN')\n",
    "df=pd.DataFrame(data=[ [fake.name()] for x in range(10) ],columns=['name'])\n",
    "\n",
    "df['销售额']=np.random.randint(100,100000,size=(10, 1))\n",
    "df['时间']=pd.date_range(start='2020-01-01',periods=10,freq='D')\n",
    "df.insert(0,'dept',['部门1']*5+['部门2']*5)\n",
    "df.insert(1,'dept 1',['小部门1']*2+['小部门2']*3+['小部门3']*1+['小部门4']*4)\n",
    "df.iloc[1,1]=np.nan #  修改成nan"
   ]
  },
  {
   "cell_type": "markdown",
   "id": "cde7d4a7",
   "metadata": {
    "tags": []
   },
   "source": [
    "### 演示数据"
   ]
  },
  {
   "cell_type": "code",
   "execution_count": 2,
   "id": "5ff3889a",
   "metadata": {
    "execution": {
     "iopub.execute_input": "2021-08-16T03:33:57.487748Z",
     "iopub.status.busy": "2021-08-16T03:33:57.487748Z",
     "iopub.status.idle": "2021-08-16T03:33:57.502738Z",
     "shell.execute_reply": "2021-08-16T03:33:57.502738Z",
     "shell.execute_reply.started": "2021-08-16T03:33:57.487748Z"
    },
    "tags": []
   },
   "outputs": [
    {
     "data": {
      "text/html": [
       "<div>\n",
       "<style scoped>\n",
       "    .dataframe tbody tr th:only-of-type {\n",
       "        vertical-align: middle;\n",
       "    }\n",
       "\n",
       "    .dataframe tbody tr th {\n",
       "        vertical-align: top;\n",
       "    }\n",
       "\n",
       "    .dataframe thead th {\n",
       "        text-align: right;\n",
       "    }\n",
       "</style>\n",
       "<table border=\"1\" class=\"dataframe\">\n",
       "  <thead>\n",
       "    <tr style=\"text-align: right;\">\n",
       "      <th></th>\n",
       "      <th>dept</th>\n",
       "      <th>dept 1</th>\n",
       "      <th>name</th>\n",
       "      <th>销售额</th>\n",
       "      <th>时间</th>\n",
       "    </tr>\n",
       "  </thead>\n",
       "  <tbody>\n",
       "    <tr>\n",
       "      <th>0</th>\n",
       "      <td>部门1</td>\n",
       "      <td>小部门1</td>\n",
       "      <td>迟淑华</td>\n",
       "      <td>90730</td>\n",
       "      <td>2020-01-01</td>\n",
       "    </tr>\n",
       "    <tr>\n",
       "      <th>1</th>\n",
       "      <td>部门1</td>\n",
       "      <td>NaN</td>\n",
       "      <td>宋伟</td>\n",
       "      <td>64142</td>\n",
       "      <td>2020-01-02</td>\n",
       "    </tr>\n",
       "    <tr>\n",
       "      <th>2</th>\n",
       "      <td>部门1</td>\n",
       "      <td>小部门2</td>\n",
       "      <td>卢雪</td>\n",
       "      <td>51633</td>\n",
       "      <td>2020-01-03</td>\n",
       "    </tr>\n",
       "    <tr>\n",
       "      <th>3</th>\n",
       "      <td>部门1</td>\n",
       "      <td>小部门2</td>\n",
       "      <td>吴洁</td>\n",
       "      <td>43061</td>\n",
       "      <td>2020-01-04</td>\n",
       "    </tr>\n",
       "    <tr>\n",
       "      <th>4</th>\n",
       "      <td>部门1</td>\n",
       "      <td>小部门2</td>\n",
       "      <td>周秀英</td>\n",
       "      <td>97544</td>\n",
       "      <td>2020-01-05</td>\n",
       "    </tr>\n",
       "    <tr>\n",
       "      <th>5</th>\n",
       "      <td>部门2</td>\n",
       "      <td>小部门3</td>\n",
       "      <td>张玉</td>\n",
       "      <td>20944</td>\n",
       "      <td>2020-01-06</td>\n",
       "    </tr>\n",
       "    <tr>\n",
       "      <th>6</th>\n",
       "      <td>部门2</td>\n",
       "      <td>小部门4</td>\n",
       "      <td>伍秀荣</td>\n",
       "      <td>48690</td>\n",
       "      <td>2020-01-07</td>\n",
       "    </tr>\n",
       "    <tr>\n",
       "      <th>7</th>\n",
       "      <td>部门2</td>\n",
       "      <td>小部门4</td>\n",
       "      <td>夏晶</td>\n",
       "      <td>27949</td>\n",
       "      <td>2020-01-08</td>\n",
       "    </tr>\n",
       "    <tr>\n",
       "      <th>8</th>\n",
       "      <td>部门2</td>\n",
       "      <td>小部门4</td>\n",
       "      <td>韩峰</td>\n",
       "      <td>41775</td>\n",
       "      <td>2020-01-09</td>\n",
       "    </tr>\n",
       "    <tr>\n",
       "      <th>9</th>\n",
       "      <td>部门2</td>\n",
       "      <td>小部门4</td>\n",
       "      <td>孔旭</td>\n",
       "      <td>95981</td>\n",
       "      <td>2020-01-10</td>\n",
       "    </tr>\n",
       "  </tbody>\n",
       "</table>\n",
       "</div>"
      ],
      "text/plain": [
       "  dept dept 1 name    销售额         时间\n",
       "0  部门1   小部门1  迟淑华  90730 2020-01-01\n",
       "1  部门1    NaN   宋伟  64142 2020-01-02\n",
       "2  部门1   小部门2   卢雪  51633 2020-01-03\n",
       "3  部门1   小部门2   吴洁  43061 2020-01-04\n",
       "4  部门1   小部门2  周秀英  97544 2020-01-05\n",
       "5  部门2   小部门3   张玉  20944 2020-01-06\n",
       "6  部门2   小部门4  伍秀荣  48690 2020-01-07\n",
       "7  部门2   小部门4   夏晶  27949 2020-01-08\n",
       "8  部门2   小部门4   韩峰  41775 2020-01-09\n",
       "9  部门2   小部门4   孔旭  95981 2020-01-10"
      ]
     },
     "execution_count": 2,
     "metadata": {},
     "output_type": "execute_result"
    }
   ],
   "source": [
    "df # 随机生成的数据"
   ]
  },
  {
   "cell_type": "code",
   "execution_count": 3,
   "id": "fdaef8c1",
   "metadata": {
    "execution": {
     "iopub.execute_input": "2021-08-16T03:33:57.504715Z",
     "iopub.status.busy": "2021-08-16T03:33:57.503715Z",
     "iopub.status.idle": "2021-08-16T03:33:57.509726Z",
     "shell.execute_reply": "2021-08-16T03:33:57.509726Z",
     "shell.execute_reply.started": "2021-08-16T03:33:57.504715Z"
    },
    "tags": []
   },
   "outputs": [
    {
     "data": {
      "text/plain": [
       "dept              object\n",
       "dept 1            object\n",
       "name              object\n",
       "销售额                int32\n",
       "时间        datetime64[ns]\n",
       "dtype: object"
      ]
     },
     "execution_count": 3,
     "metadata": {},
     "output_type": "execute_result"
    }
   ],
   "source": [
    "df.dtypes"
   ]
  },
  {
   "cell_type": "code",
   "execution_count": 10,
   "id": "305478a4-045f-48b5-a5dc-d9a6b047cb45",
   "metadata": {
    "execution": {
     "iopub.execute_input": "2021-08-16T03:38:33.833714Z",
     "iopub.status.busy": "2021-08-16T03:38:33.833714Z",
     "iopub.status.idle": "2021-08-16T03:38:33.843717Z",
     "shell.execute_reply": "2021-08-16T03:38:33.843717Z",
     "shell.execute_reply.started": "2021-08-16T03:38:33.833714Z"
    },
    "tags": []
   },
   "outputs": [
    {
     "data": {
      "text/plain": [
       "0    90730.0\n",
       "1    64142.0\n",
       "2    51633.0\n",
       "3    43061.0\n",
       "4    97544.0\n",
       "5    20944.0\n",
       "6    48690.0\n",
       "7    27949.0\n",
       "8    41775.0\n",
       "9    95981.0\n",
       "Name: 销售额, dtype: float32"
      ]
     },
     "execution_count": 10,
     "metadata": {},
     "output_type": "execute_result"
    }
   ],
   "source": [
    "pd.to_numeric(df.销售额,downcast='float') # 指定downcast 目标类型，具体参数值选取参考官方文档"
   ]
  },
  {
   "cell_type": "code",
   "execution_count": 9,
   "id": "e5824569-bd79-4f70-bbf1-21a2dca6e557",
   "metadata": {
    "execution": {
     "iopub.execute_input": "2021-08-16T03:37:46.653716Z",
     "iopub.status.busy": "2021-08-16T03:37:46.653716Z",
     "iopub.status.idle": "2021-08-16T03:37:46.659718Z",
     "shell.execute_reply": "2021-08-16T03:37:46.659718Z",
     "shell.execute_reply.started": "2021-08-16T03:37:46.653716Z"
    },
    "tags": []
   },
   "outputs": [
    {
     "data": {
      "text/plain": [
       "0   NaN\n",
       "1   NaN\n",
       "2   NaN\n",
       "3   NaN\n",
       "4   NaN\n",
       "5   NaN\n",
       "6   NaN\n",
       "7   NaN\n",
       "8   NaN\n",
       "9   NaN\n",
       "Name: dept, dtype: float64"
      ]
     },
     "execution_count": 9,
     "metadata": {},
     "output_type": "execute_result"
    }
   ],
   "source": [
    "pd.to_numeric(df.dept,errors='coerce') # 如果失败 ，强制将转换失败的转换为nan"
   ]
  },
  {
   "cell_type": "code",
   "execution_count": 8,
   "id": "2695eaac-b322-4a66-a6c9-958041bdf974",
   "metadata": {
    "execution": {
     "iopub.execute_input": "2021-08-16T03:36:26.601713Z",
     "iopub.status.busy": "2021-08-16T03:36:26.601713Z",
     "iopub.status.idle": "2021-08-16T03:36:26.606719Z",
     "shell.execute_reply": "2021-08-16T03:36:26.605719Z",
     "shell.execute_reply.started": "2021-08-16T03:36:26.601713Z"
    },
    "tags": []
   },
   "outputs": [
    {
     "data": {
      "text/plain": [
       "0    部门1\n",
       "1    部门1\n",
       "2    部门1\n",
       "3    部门1\n",
       "4    部门1\n",
       "5    部门2\n",
       "6    部门2\n",
       "7    部门2\n",
       "8    部门2\n",
       "9    部门2\n",
       "Name: dept, dtype: object"
      ]
     },
     "execution_count": 8,
     "metadata": {},
     "output_type": "execute_result"
    }
   ],
   "source": [
    "pd.to_numeric(df.dept,errors='ignore') # 如果失败 ，忽略并保持相关数据不变"
   ]
  },
  {
   "cell_type": "code",
   "execution_count": 7,
   "id": "9f46e84a-708a-4a22-877c-dd8793ff18c4",
   "metadata": {
    "execution": {
     "iopub.execute_input": "2021-08-16T03:36:09.447719Z",
     "iopub.status.busy": "2021-08-16T03:36:09.446724Z",
     "iopub.status.idle": "2021-08-16T03:36:09.472722Z",
     "shell.execute_reply": "2021-08-16T03:36:09.470733Z",
     "shell.execute_reply.started": "2021-08-16T03:36:09.447719Z"
    },
    "tags": []
   },
   "outputs": [
    {
     "ename": "ValueError",
     "evalue": "Unable to parse string \"部门1\" at position 0",
     "output_type": "error",
     "traceback": [
      "\u001b[1;31m---------------------------------------------------------------------------\u001b[0m",
      "\u001b[1;31mValueError\u001b[0m                                Traceback (most recent call last)",
      "\u001b[1;32mpandas\\_libs\\lib.pyx\u001b[0m in \u001b[0;36mpandas._libs.lib.maybe_convert_numeric\u001b[1;34m()\u001b[0m\n",
      "\u001b[1;31mValueError\u001b[0m: Unable to parse string \"部门1\"",
      "\nDuring handling of the above exception, another exception occurred:\n",
      "\u001b[1;31mValueError\u001b[0m                                Traceback (most recent call last)",
      "\u001b[1;32mC:\\Users\\ADMINI~1\\AppData\\Local\\Temp\\1/ipykernel_10476/105823161.py\u001b[0m in \u001b[0;36m<module>\u001b[1;34m\u001b[0m\n\u001b[1;32m----> 1\u001b[1;33m \u001b[0mpd\u001b[0m\u001b[1;33m.\u001b[0m\u001b[0mto_numeric\u001b[0m\u001b[1;33m(\u001b[0m\u001b[0mdf\u001b[0m\u001b[1;33m.\u001b[0m\u001b[0mdept\u001b[0m\u001b[1;33m,\u001b[0m\u001b[0merrors\u001b[0m\u001b[1;33m=\u001b[0m\u001b[1;34m'raise'\u001b[0m\u001b[1;33m)\u001b[0m\u001b[1;33m\u001b[0m\u001b[1;33m\u001b[0m\u001b[0m\n\u001b[0m",
      "\u001b[1;32md:\\datacenterkun\\jupyter\\venv\\lib\\site-packages\\pandas\\core\\tools\\numeric.py\u001b[0m in \u001b[0;36mto_numeric\u001b[1;34m(arg, errors, downcast)\u001b[0m\n\u001b[0;32m    152\u001b[0m         \u001b[0mcoerce_numeric\u001b[0m \u001b[1;33m=\u001b[0m \u001b[0merrors\u001b[0m \u001b[1;32mnot\u001b[0m \u001b[1;32min\u001b[0m \u001b[1;33m(\u001b[0m\u001b[1;34m\"ignore\"\u001b[0m\u001b[1;33m,\u001b[0m \u001b[1;34m\"raise\"\u001b[0m\u001b[1;33m)\u001b[0m\u001b[1;33m\u001b[0m\u001b[1;33m\u001b[0m\u001b[0m\n\u001b[0;32m    153\u001b[0m         \u001b[1;32mtry\u001b[0m\u001b[1;33m:\u001b[0m\u001b[1;33m\u001b[0m\u001b[1;33m\u001b[0m\u001b[0m\n\u001b[1;32m--> 154\u001b[1;33m             values = lib.maybe_convert_numeric(\n\u001b[0m\u001b[0;32m    155\u001b[0m                 \u001b[0mvalues\u001b[0m\u001b[1;33m,\u001b[0m \u001b[0mset\u001b[0m\u001b[1;33m(\u001b[0m\u001b[1;33m)\u001b[0m\u001b[1;33m,\u001b[0m \u001b[0mcoerce_numeric\u001b[0m\u001b[1;33m=\u001b[0m\u001b[0mcoerce_numeric\u001b[0m\u001b[1;33m\u001b[0m\u001b[1;33m\u001b[0m\u001b[0m\n\u001b[0;32m    156\u001b[0m             )\n",
      "\u001b[1;32mpandas\\_libs\\lib.pyx\u001b[0m in \u001b[0;36mpandas._libs.lib.maybe_convert_numeric\u001b[1;34m()\u001b[0m\n",
      "\u001b[1;31mValueError\u001b[0m: Unable to parse string \"部门1\" at position 0"
     ]
    }
   ],
   "source": [
    "pd.to_numeric(df.dept,errors='raise') # 尝试转换成数字，如果失败 默认报错"
   ]
  },
  {
   "cell_type": "code",
   "execution_count": 5,
   "id": "4100f7da-df93-46a8-a8e1-0c2a1cbd33f5",
   "metadata": {
    "execution": {
     "iopub.execute_input": "2021-08-16T03:35:09.833718Z",
     "iopub.status.busy": "2021-08-16T03:35:09.833718Z",
     "iopub.status.idle": "2021-08-16T03:35:09.837719Z",
     "shell.execute_reply": "2021-08-16T03:35:09.837719Z",
     "shell.execute_reply.started": "2021-08-16T03:35:09.833718Z"
    },
    "tags": []
   },
   "outputs": [
    {
     "data": {
      "text/plain": [
       "0    90730\n",
       "1    64142\n",
       "2    51633\n",
       "3    43061\n",
       "4    97544\n",
       "5    20944\n",
       "6    48690\n",
       "7    27949\n",
       "8    41775\n",
       "9    95981\n",
       "Name: 销售额, dtype: int32"
      ]
     },
     "execution_count": 5,
     "metadata": {},
     "output_type": "execute_result"
    }
   ],
   "source": [
    "pd.to_numeric(df.销售额)"
   ]
  },
  {
   "cell_type": "code",
   "execution_count": 4,
   "id": "4eeea3aa-b577-47d3-8d6b-02b0539db9f9",
   "metadata": {
    "execution": {
     "iopub.execute_input": "2021-08-16T03:34:26.399716Z",
     "iopub.status.busy": "2021-08-16T03:34:26.399716Z",
     "iopub.status.idle": "2021-08-16T03:34:26.406717Z",
     "shell.execute_reply": "2021-08-16T03:34:26.405722Z",
     "shell.execute_reply.started": "2021-08-16T03:34:26.399716Z"
    },
    "tags": []
   },
   "outputs": [
    {
     "data": {
      "text/plain": [
       "0    部门1\n",
       "1    部门1\n",
       "2    部门1\n",
       "3    部门1\n",
       "4    部门1\n",
       "5    部门2\n",
       "6    部门2\n",
       "7    部门2\n",
       "8    部门2\n",
       "9    部门2\n",
       "Name: dept, dtype: category\n",
       "Categories (2, object): ['部门1', '部门2']"
      ]
     },
     "execution_count": 4,
     "metadata": {},
     "output_type": "execute_result"
    }
   ],
   "source": [
    "df.dept.astype('category') # 转换成 分类数据"
   ]
  }
 ],
 "metadata": {
  "kernelspec": {
   "display_name": "Python 3 (ipykernel)",
   "language": "python",
   "name": "python3"
  },
  "language_info": {
   "codemirror_mode": {
    "name": "ipython",
    "version": 3
   },
   "file_extension": ".py",
   "mimetype": "text/x-python",
   "name": "python",
   "nbconvert_exporter": "python",
   "pygments_lexer": "ipython3",
   "version": "3.8.10"
  }
 },
 "nbformat": 4,
 "nbformat_minor": 5
}
