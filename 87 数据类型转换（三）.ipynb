{
 "cells": [
  {
   "cell_type": "markdown",
   "id": "fe95639a",
   "metadata": {
    "execution": {
     "iopub.execute_input": "2021-05-10T07:18:52.990449Z",
     "iopub.status.busy": "2021-05-10T07:18:52.990449Z",
     "iopub.status.idle": "2021-05-10T07:18:52.994464Z",
     "shell.execute_reply": "2021-05-10T07:18:52.993452Z",
     "shell.execute_reply.started": "2021-05-10T07:18:52.990449Z"
    }
   },
   "source": [
    "## 87 数据类型转换（三）"
   ]
  },
  {
   "cell_type": "markdown",
   "id": "0ddac84a",
   "metadata": {
    "jp-MarkdownHeadingCollapsed": true,
    "tags": []
   },
   "source": [
    "### to_datetime 转换成时间\n",
    "参数 arg, errors='raise', dayfirst=False, yearfirst=False, utc=None, format=None, exact=True, unit=None, infer_datetime_format=False, origin='unix', cache=True"
   ]
  },
  {
   "cell_type": "code",
   "execution_count": 1,
   "id": "5d61795b",
   "metadata": {
    "execution": {
     "iopub.execute_input": "2021-08-16T06:08:34.813564Z",
     "iopub.status.busy": "2021-08-16T06:08:34.812561Z",
     "iopub.status.idle": "2021-08-16T06:08:35.121589Z",
     "shell.execute_reply": "2021-08-16T06:08:35.121589Z",
     "shell.execute_reply.started": "2021-08-16T06:08:34.812561Z"
    },
    "tags": []
   },
   "outputs": [],
   "source": [
    "import numpy  as np\n",
    "import pandas as pd\n",
    "from faker import Faker\n",
    "\n",
    "fake = Faker('zh_CN')\n",
    "df=pd.DataFrame(data=[ [fake.name()] for x in range(10) ],columns=['name'])\n",
    "\n",
    "df['销售额']=np.random.randint(100,100000,size=(10, 1))\n",
    "df['时间']=pd.date_range(start='2020-01-01',periods=10,freq='D')\n",
    "df.insert(0,'dept',['部门1']*5+['部门2']*5)\n",
    "df.insert(1,'dept 1',['小部门1']*2+['小部门2']*3+['小部门3']*1+['小部门4']*4)\n",
    "df.iloc[1,1]=np.nan #  修改成nan"
   ]
  },
  {
   "cell_type": "markdown",
   "id": "cde7d4a7",
   "metadata": {
    "tags": []
   },
   "source": [
    "### 演示数据"
   ]
  },
  {
   "cell_type": "code",
   "execution_count": 2,
   "id": "5ff3889a",
   "metadata": {
    "execution": {
     "iopub.execute_input": "2021-08-16T06:08:35.122560Z",
     "iopub.status.busy": "2021-08-16T06:08:35.122560Z",
     "iopub.status.idle": "2021-08-16T06:08:35.134591Z",
     "shell.execute_reply": "2021-08-16T06:08:35.134591Z",
     "shell.execute_reply.started": "2021-08-16T06:08:35.122560Z"
    },
    "tags": []
   },
   "outputs": [
    {
     "data": {
      "text/html": [
       "<div>\n",
       "<style scoped>\n",
       "    .dataframe tbody tr th:only-of-type {\n",
       "        vertical-align: middle;\n",
       "    }\n",
       "\n",
       "    .dataframe tbody tr th {\n",
       "        vertical-align: top;\n",
       "    }\n",
       "\n",
       "    .dataframe thead th {\n",
       "        text-align: right;\n",
       "    }\n",
       "</style>\n",
       "<table border=\"1\" class=\"dataframe\">\n",
       "  <thead>\n",
       "    <tr style=\"text-align: right;\">\n",
       "      <th></th>\n",
       "      <th>dept</th>\n",
       "      <th>dept 1</th>\n",
       "      <th>name</th>\n",
       "      <th>销售额</th>\n",
       "      <th>时间</th>\n",
       "    </tr>\n",
       "  </thead>\n",
       "  <tbody>\n",
       "    <tr>\n",
       "      <th>0</th>\n",
       "      <td>部门1</td>\n",
       "      <td>小部门1</td>\n",
       "      <td>王坤</td>\n",
       "      <td>83716</td>\n",
       "      <td>2020-01-01</td>\n",
       "    </tr>\n",
       "    <tr>\n",
       "      <th>1</th>\n",
       "      <td>部门1</td>\n",
       "      <td>NaN</td>\n",
       "      <td>徐丽华</td>\n",
       "      <td>76979</td>\n",
       "      <td>2020-01-02</td>\n",
       "    </tr>\n",
       "    <tr>\n",
       "      <th>2</th>\n",
       "      <td>部门1</td>\n",
       "      <td>小部门2</td>\n",
       "      <td>曹磊</td>\n",
       "      <td>26657</td>\n",
       "      <td>2020-01-03</td>\n",
       "    </tr>\n",
       "    <tr>\n",
       "      <th>3</th>\n",
       "      <td>部门1</td>\n",
       "      <td>小部门2</td>\n",
       "      <td>卢兵</td>\n",
       "      <td>45838</td>\n",
       "      <td>2020-01-04</td>\n",
       "    </tr>\n",
       "    <tr>\n",
       "      <th>4</th>\n",
       "      <td>部门1</td>\n",
       "      <td>小部门2</td>\n",
       "      <td>田凤兰</td>\n",
       "      <td>98094</td>\n",
       "      <td>2020-01-05</td>\n",
       "    </tr>\n",
       "    <tr>\n",
       "      <th>5</th>\n",
       "      <td>部门2</td>\n",
       "      <td>小部门3</td>\n",
       "      <td>张红霞</td>\n",
       "      <td>42912</td>\n",
       "      <td>2020-01-06</td>\n",
       "    </tr>\n",
       "    <tr>\n",
       "      <th>6</th>\n",
       "      <td>部门2</td>\n",
       "      <td>小部门4</td>\n",
       "      <td>皮志强</td>\n",
       "      <td>98762</td>\n",
       "      <td>2020-01-07</td>\n",
       "    </tr>\n",
       "    <tr>\n",
       "      <th>7</th>\n",
       "      <td>部门2</td>\n",
       "      <td>小部门4</td>\n",
       "      <td>杨淑兰</td>\n",
       "      <td>6843</td>\n",
       "      <td>2020-01-08</td>\n",
       "    </tr>\n",
       "    <tr>\n",
       "      <th>8</th>\n",
       "      <td>部门2</td>\n",
       "      <td>小部门4</td>\n",
       "      <td>郑丹丹</td>\n",
       "      <td>14927</td>\n",
       "      <td>2020-01-09</td>\n",
       "    </tr>\n",
       "    <tr>\n",
       "      <th>9</th>\n",
       "      <td>部门2</td>\n",
       "      <td>小部门4</td>\n",
       "      <td>葛帆</td>\n",
       "      <td>64013</td>\n",
       "      <td>2020-01-10</td>\n",
       "    </tr>\n",
       "  </tbody>\n",
       "</table>\n",
       "</div>"
      ],
      "text/plain": [
       "  dept dept 1 name    销售额         时间\n",
       "0  部门1   小部门1   王坤  83716 2020-01-01\n",
       "1  部门1    NaN  徐丽华  76979 2020-01-02\n",
       "2  部门1   小部门2   曹磊  26657 2020-01-03\n",
       "3  部门1   小部门2   卢兵  45838 2020-01-04\n",
       "4  部门1   小部门2  田凤兰  98094 2020-01-05\n",
       "5  部门2   小部门3  张红霞  42912 2020-01-06\n",
       "6  部门2   小部门4  皮志强  98762 2020-01-07\n",
       "7  部门2   小部门4  杨淑兰   6843 2020-01-08\n",
       "8  部门2   小部门4  郑丹丹  14927 2020-01-09\n",
       "9  部门2   小部门4   葛帆  64013 2020-01-10"
      ]
     },
     "execution_count": 2,
     "metadata": {},
     "output_type": "execute_result"
    }
   ],
   "source": [
    "df # 随机生成的数据"
   ]
  },
  {
   "cell_type": "code",
   "execution_count": 3,
   "id": "fdaef8c1",
   "metadata": {
    "execution": {
     "iopub.execute_input": "2021-08-16T06:08:35.137561Z",
     "iopub.status.busy": "2021-08-16T06:08:35.136576Z",
     "iopub.status.idle": "2021-08-16T06:08:35.246558Z",
     "shell.execute_reply": "2021-08-16T06:08:35.246558Z",
     "shell.execute_reply.started": "2021-08-16T06:08:35.137561Z"
    },
    "tags": []
   },
   "outputs": [
    {
     "data": {
      "text/plain": [
       "dept              object\n",
       "dept 1            object\n",
       "name              object\n",
       "销售额                int32\n",
       "时间        datetime64[ns]\n",
       "dtype: object"
      ]
     },
     "execution_count": 3,
     "metadata": {},
     "output_type": "execute_result"
    }
   ],
   "source": [
    "df.dtypes"
   ]
  },
  {
   "cell_type": "code",
   "execution_count": 23,
   "id": "51a2b261-d574-4339-b65d-6c87f00b24bd",
   "metadata": {
    "execution": {
     "iopub.execute_input": "2021-08-16T06:17:50.673560Z",
     "iopub.status.busy": "2021-08-16T06:17:50.672563Z",
     "iopub.status.idle": "2021-08-16T06:17:50.678562Z",
     "shell.execute_reply": "2021-08-16T06:17:50.678562Z",
     "shell.execute_reply.started": "2021-08-16T06:17:50.673560Z"
    },
    "tags": []
   },
   "outputs": [
    {
     "data": {
      "text/plain": [
       "Timestamp('2010-11-12 00:00:00')"
      ]
     },
     "execution_count": 23,
     "metadata": {},
     "output_type": "execute_result"
    }
   ],
   "source": [
    "pd.to_datetime('10/11/12',format='%y/%m/%d') # 设置时间格式字符串"
   ]
  },
  {
   "cell_type": "code",
   "execution_count": 22,
   "id": "0ac330b0-4de8-47ef-b81e-347607cca8e3",
   "metadata": {
    "execution": {
     "iopub.execute_input": "2021-08-16T06:17:02.752557Z",
     "iopub.status.busy": "2021-08-16T06:17:02.752557Z",
     "iopub.status.idle": "2021-08-16T06:17:02.758565Z",
     "shell.execute_reply": "2021-08-16T06:17:02.758565Z",
     "shell.execute_reply.started": "2021-08-16T06:17:02.752557Z"
    },
    "tags": []
   },
   "outputs": [
    {
     "data": {
      "text/plain": [
       "Timestamp('2012-11-10 00:00:00')"
      ]
     },
     "execution_count": 22,
     "metadata": {},
     "output_type": "execute_result"
    }
   ],
   "source": [
    "pd.to_datetime('10/11/12',format='%d/%m/%y') # 设置时间格式字符串"
   ]
  },
  {
   "cell_type": "code",
   "execution_count": 21,
   "id": "e1b8613d-0631-4387-886c-2f3f60fb12a5",
   "metadata": {
    "execution": {
     "iopub.execute_input": "2021-08-16T06:15:54.097565Z",
     "iopub.status.busy": "2021-08-16T06:15:54.097565Z",
     "iopub.status.idle": "2021-08-16T06:15:54.105562Z",
     "shell.execute_reply": "2021-08-16T06:15:54.105562Z",
     "shell.execute_reply.started": "2021-08-16T06:15:54.097565Z"
    },
    "tags": []
   },
   "outputs": [
    {
     "data": {
      "text/plain": [
       "0   2020-01-01\n",
       "1   2020-01-02\n",
       "2   2020-01-03\n",
       "3   2020-01-04\n",
       "4   2020-01-05\n",
       "5   2020-01-06\n",
       "6   2020-01-07\n",
       "7   2020-01-08\n",
       "8   2020-01-09\n",
       "9   2020-01-10\n",
       "Name: 时间, dtype: datetime64[ns]"
      ]
     },
     "execution_count": 21,
     "metadata": {},
     "output_type": "execute_result"
    }
   ],
   "source": [
    "pd.to_datetime(df.时间,infer_datetime_format=True) # 推断第一个时间字符串的格式，尝试转换加速"
   ]
  },
  {
   "cell_type": "code",
   "execution_count": 17,
   "id": "dd485abe-8912-4080-a954-d8cd0bc8b0c8",
   "metadata": {
    "execution": {
     "iopub.execute_input": "2021-08-16T06:14:59.085558Z",
     "iopub.status.busy": "2021-08-16T06:14:59.085558Z",
     "iopub.status.idle": "2021-08-16T06:14:59.090560Z",
     "shell.execute_reply": "2021-08-16T06:14:59.090560Z",
     "shell.execute_reply.started": "2021-08-16T06:14:59.085558Z"
    },
    "tags": []
   },
   "outputs": [
    {
     "data": {
      "text/plain": [
       "Timestamp('2010-11-12 00:00:00')"
      ]
     },
     "execution_count": 17,
     "metadata": {},
     "output_type": "execute_result"
    }
   ],
   "source": [
    "pd.to_datetime('10/11/12',yearfirst=True) # 指定第一个数字（10）为年"
   ]
  },
  {
   "cell_type": "code",
   "execution_count": 16,
   "id": "4abf8c18-5056-4000-90b9-582b1be09279",
   "metadata": {
    "execution": {
     "iopub.execute_input": "2021-08-16T06:14:17.317563Z",
     "iopub.status.busy": "2021-08-16T06:14:17.316564Z",
     "iopub.status.idle": "2021-08-16T06:14:17.327557Z",
     "shell.execute_reply": "2021-08-16T06:14:17.326561Z",
     "shell.execute_reply.started": "2021-08-16T06:14:17.317563Z"
    },
    "tags": []
   },
   "outputs": [
    {
     "data": {
      "text/plain": [
       "Timestamp('2012-11-10 00:00:00')"
      ]
     },
     "execution_count": 16,
     "metadata": {},
     "output_type": "execute_result"
    }
   ],
   "source": [
    "pd.to_datetime('10/11/12',dayfirst=True) # 指定第一个数字（10）为日"
   ]
  },
  {
   "cell_type": "code",
   "execution_count": 14,
   "id": "a2836e47-652e-4ade-abcb-0a4a1762e51e",
   "metadata": {
    "execution": {
     "iopub.execute_input": "2021-08-16T06:13:44.309559Z",
     "iopub.status.busy": "2021-08-16T06:13:44.309559Z",
     "iopub.status.idle": "2021-08-16T06:13:44.313559Z",
     "shell.execute_reply": "2021-08-16T06:13:44.313559Z",
     "shell.execute_reply.started": "2021-08-16T06:13:44.309559Z"
    },
    "tags": []
   },
   "outputs": [
    {
     "data": {
      "text/plain": [
       "Timestamp('1970-01-06 16:13:02.858900')"
      ]
     },
     "execution_count": 14,
     "metadata": {},
     "output_type": "execute_result"
    }
   ],
   "source": [
    "pd.to_datetime(490382858.9,unit='ms',origin='unix')  # 将时间偏移数量转换成时间。unit 指定时间单位  origin 指定 时间的起点类型"
   ]
  },
  {
   "cell_type": "code",
   "execution_count": 11,
   "id": "e787b0d2-4e87-4cd0-866f-73f9231096a7",
   "metadata": {
    "execution": {
     "iopub.execute_input": "2021-08-16T06:12:07.521561Z",
     "iopub.status.busy": "2021-08-16T06:12:07.521561Z",
     "iopub.status.idle": "2021-08-16T06:12:07.525566Z",
     "shell.execute_reply": "2021-08-16T06:12:07.525566Z",
     "shell.execute_reply.started": "2021-08-16T06:12:07.521561Z"
    },
    "tags": []
   },
   "outputs": [
    {
     "data": {
      "text/plain": [
       "Timestamp('1970-01-01 00:00:00.490382858')"
      ]
     },
     "execution_count": 11,
     "metadata": {},
     "output_type": "execute_result"
    }
   ],
   "source": [
    "pd.to_datetime(490382858,unit='ns',origin='unix')  # 将时间偏移数量转换成时间。unit 指定时间单位  origin 指定 时间的起点类型"
   ]
  },
  {
   "cell_type": "code",
   "execution_count": 9,
   "id": "d105a793-f728-44d3-87b9-6dd0a08b287e",
   "metadata": {
    "execution": {
     "iopub.execute_input": "2021-08-16T06:11:18.447561Z",
     "iopub.status.busy": "2021-08-16T06:11:18.447561Z",
     "iopub.status.idle": "2021-08-16T06:11:18.456564Z",
     "shell.execute_reply": "2021-08-16T06:11:18.456564Z",
     "shell.execute_reply.started": "2021-08-16T06:11:18.447561Z"
    },
    "tags": []
   },
   "outputs": [
    {
     "data": {
      "text/plain": [
       "0    部门1\n",
       "1    部门1\n",
       "2    部门1\n",
       "3    部门1\n",
       "4    部门1\n",
       "5    部门2\n",
       "6    部门2\n",
       "7    部门2\n",
       "8    部门2\n",
       "9    部门2\n",
       "Name: dept, dtype: object"
      ]
     },
     "execution_count": 9,
     "metadata": {},
     "output_type": "execute_result"
    }
   ],
   "source": [
    "pd.to_datetime(df.dept,errors='ignore') # 转换失败的保留原数据"
   ]
  },
  {
   "cell_type": "code",
   "execution_count": 8,
   "id": "bae0d702-50f7-4cba-ae8f-af6737823653",
   "metadata": {
    "execution": {
     "iopub.execute_input": "2021-08-16T06:10:52.469561Z",
     "iopub.status.busy": "2021-08-16T06:10:52.468559Z",
     "iopub.status.idle": "2021-08-16T06:10:52.479562Z",
     "shell.execute_reply": "2021-08-16T06:10:52.478563Z",
     "shell.execute_reply.started": "2021-08-16T06:10:52.469561Z"
    },
    "tags": []
   },
   "outputs": [
    {
     "data": {
      "text/plain": [
       "0   NaT\n",
       "1   NaT\n",
       "2   NaT\n",
       "3   NaT\n",
       "4   NaT\n",
       "5   NaT\n",
       "6   NaT\n",
       "7   NaT\n",
       "8   NaT\n",
       "9   NaT\n",
       "Name: dept, dtype: datetime64[ns]"
      ]
     },
     "execution_count": 8,
     "metadata": {},
     "output_type": "execute_result"
    }
   ],
   "source": [
    "pd.to_datetime(df.dept,errors='coerce') # 转换失败，强制转换成nat"
   ]
  },
  {
   "cell_type": "code",
   "execution_count": 7,
   "id": "6f3546f0-5731-4879-a676-30dc0de086b5",
   "metadata": {
    "execution": {
     "iopub.execute_input": "2021-08-16T06:10:22.914557Z",
     "iopub.status.busy": "2021-08-16T06:10:22.913558Z",
     "iopub.status.idle": "2021-08-16T06:10:22.989567Z",
     "shell.execute_reply": "2021-08-16T06:10:22.985559Z",
     "shell.execute_reply.started": "2021-08-16T06:10:22.914557Z"
    },
    "tags": []
   },
   "outputs": [
    {
     "ename": "ParserError",
     "evalue": "Unknown string format: 部门1",
     "output_type": "error",
     "traceback": [
      "\u001b[1;31m---------------------------------------------------------------------------\u001b[0m",
      "\u001b[1;31mTypeError\u001b[0m                                 Traceback (most recent call last)",
      "\u001b[1;32md:\\datacenterkun\\jupyter\\venv\\lib\\site-packages\\pandas\\core\\arrays\\datetimes.py\u001b[0m in \u001b[0;36mobjects_to_datetime64ns\u001b[1;34m(data, dayfirst, yearfirst, utc, errors, require_iso8601, allow_object)\u001b[0m\n\u001b[0;32m   2084\u001b[0m         \u001b[1;32mtry\u001b[0m\u001b[1;33m:\u001b[0m\u001b[1;33m\u001b[0m\u001b[1;33m\u001b[0m\u001b[0m\n\u001b[1;32m-> 2085\u001b[1;33m             \u001b[0mvalues\u001b[0m\u001b[1;33m,\u001b[0m \u001b[0mtz_parsed\u001b[0m \u001b[1;33m=\u001b[0m \u001b[0mconversion\u001b[0m\u001b[1;33m.\u001b[0m\u001b[0mdatetime_to_datetime64\u001b[0m\u001b[1;33m(\u001b[0m\u001b[0mdata\u001b[0m\u001b[1;33m)\u001b[0m\u001b[1;33m\u001b[0m\u001b[1;33m\u001b[0m\u001b[0m\n\u001b[0m\u001b[0;32m   2086\u001b[0m             \u001b[1;31m# If tzaware, these values represent unix timestamps, so we\u001b[0m\u001b[1;33m\u001b[0m\u001b[1;33m\u001b[0m\u001b[1;33m\u001b[0m\u001b[0m\n",
      "\u001b[1;32mpandas\\_libs\\tslibs\\conversion.pyx\u001b[0m in \u001b[0;36mpandas._libs.tslibs.conversion.datetime_to_datetime64\u001b[1;34m()\u001b[0m\n",
      "\u001b[1;31mTypeError\u001b[0m: Unrecognized value type: <class 'str'>",
      "\nDuring handling of the above exception, another exception occurred:\n",
      "\u001b[1;31mParserError\u001b[0m                               Traceback (most recent call last)",
      "\u001b[1;32mC:\\Users\\ADMINI~1\\AppData\\Local\\Temp\\1/ipykernel_10208/2405311238.py\u001b[0m in \u001b[0;36m<module>\u001b[1;34m\u001b[0m\n\u001b[1;32m----> 1\u001b[1;33m \u001b[0mpd\u001b[0m\u001b[1;33m.\u001b[0m\u001b[0mto_datetime\u001b[0m\u001b[1;33m(\u001b[0m\u001b[0mdf\u001b[0m\u001b[1;33m.\u001b[0m\u001b[0mdept\u001b[0m\u001b[1;33m,\u001b[0m\u001b[0merrors\u001b[0m\u001b[1;33m=\u001b[0m\u001b[1;34m'raise'\u001b[0m\u001b[1;33m)\u001b[0m\u001b[1;33m\u001b[0m\u001b[1;33m\u001b[0m\u001b[0m\n\u001b[0m",
      "\u001b[1;32md:\\datacenterkun\\jupyter\\venv\\lib\\site-packages\\pandas\\core\\tools\\datetimes.py\u001b[0m in \u001b[0;36mto_datetime\u001b[1;34m(arg, errors, dayfirst, yearfirst, utc, format, exact, unit, infer_datetime_format, origin, cache)\u001b[0m\n\u001b[0;32m    803\u001b[0m             \u001b[0mresult\u001b[0m \u001b[1;33m=\u001b[0m \u001b[0marg\u001b[0m\u001b[1;33m.\u001b[0m\u001b[0mmap\u001b[0m\u001b[1;33m(\u001b[0m\u001b[0mcache_array\u001b[0m\u001b[1;33m)\u001b[0m\u001b[1;33m\u001b[0m\u001b[1;33m\u001b[0m\u001b[0m\n\u001b[0;32m    804\u001b[0m         \u001b[1;32melse\u001b[0m\u001b[1;33m:\u001b[0m\u001b[1;33m\u001b[0m\u001b[1;33m\u001b[0m\u001b[0m\n\u001b[1;32m--> 805\u001b[1;33m             \u001b[0mvalues\u001b[0m \u001b[1;33m=\u001b[0m \u001b[0mconvert_listlike\u001b[0m\u001b[1;33m(\u001b[0m\u001b[0marg\u001b[0m\u001b[1;33m.\u001b[0m\u001b[0m_values\u001b[0m\u001b[1;33m,\u001b[0m \u001b[0mformat\u001b[0m\u001b[1;33m)\u001b[0m\u001b[1;33m\u001b[0m\u001b[1;33m\u001b[0m\u001b[0m\n\u001b[0m\u001b[0;32m    806\u001b[0m             \u001b[0mresult\u001b[0m \u001b[1;33m=\u001b[0m \u001b[0marg\u001b[0m\u001b[1;33m.\u001b[0m\u001b[0m_constructor\u001b[0m\u001b[1;33m(\u001b[0m\u001b[0mvalues\u001b[0m\u001b[1;33m,\u001b[0m \u001b[0mindex\u001b[0m\u001b[1;33m=\u001b[0m\u001b[0marg\u001b[0m\u001b[1;33m.\u001b[0m\u001b[0mindex\u001b[0m\u001b[1;33m,\u001b[0m \u001b[0mname\u001b[0m\u001b[1;33m=\u001b[0m\u001b[0marg\u001b[0m\u001b[1;33m.\u001b[0m\u001b[0mname\u001b[0m\u001b[1;33m)\u001b[0m\u001b[1;33m\u001b[0m\u001b[1;33m\u001b[0m\u001b[0m\n\u001b[0;32m    807\u001b[0m     \u001b[1;32melif\u001b[0m \u001b[0misinstance\u001b[0m\u001b[1;33m(\u001b[0m\u001b[0marg\u001b[0m\u001b[1;33m,\u001b[0m \u001b[1;33m(\u001b[0m\u001b[0mABCDataFrame\u001b[0m\u001b[1;33m,\u001b[0m \u001b[0mabc\u001b[0m\u001b[1;33m.\u001b[0m\u001b[0mMutableMapping\u001b[0m\u001b[1;33m)\u001b[0m\u001b[1;33m)\u001b[0m\u001b[1;33m:\u001b[0m\u001b[1;33m\u001b[0m\u001b[1;33m\u001b[0m\u001b[0m\n",
      "\u001b[1;32md:\\datacenterkun\\jupyter\\venv\\lib\\site-packages\\pandas\\core\\tools\\datetimes.py\u001b[0m in \u001b[0;36m_convert_listlike_datetimes\u001b[1;34m(arg, format, name, tz, unit, errors, infer_datetime_format, dayfirst, yearfirst, exact)\u001b[0m\n\u001b[0;32m    463\u001b[0m         \u001b[1;32massert\u001b[0m \u001b[0mformat\u001b[0m \u001b[1;32mis\u001b[0m \u001b[1;32mNone\u001b[0m \u001b[1;32mor\u001b[0m \u001b[0minfer_datetime_format\u001b[0m\u001b[1;33m\u001b[0m\u001b[1;33m\u001b[0m\u001b[0m\n\u001b[0;32m    464\u001b[0m         \u001b[0mutc\u001b[0m \u001b[1;33m=\u001b[0m \u001b[0mtz\u001b[0m \u001b[1;33m==\u001b[0m \u001b[1;34m\"utc\"\u001b[0m\u001b[1;33m\u001b[0m\u001b[1;33m\u001b[0m\u001b[0m\n\u001b[1;32m--> 465\u001b[1;33m         result, tz_parsed = objects_to_datetime64ns(\n\u001b[0m\u001b[0;32m    466\u001b[0m             \u001b[0marg\u001b[0m\u001b[1;33m,\u001b[0m\u001b[1;33m\u001b[0m\u001b[1;33m\u001b[0m\u001b[0m\n\u001b[0;32m    467\u001b[0m             \u001b[0mdayfirst\u001b[0m\u001b[1;33m=\u001b[0m\u001b[0mdayfirst\u001b[0m\u001b[1;33m,\u001b[0m\u001b[1;33m\u001b[0m\u001b[1;33m\u001b[0m\u001b[0m\n",
      "\u001b[1;32md:\\datacenterkun\\jupyter\\venv\\lib\\site-packages\\pandas\\core\\arrays\\datetimes.py\u001b[0m in \u001b[0;36mobjects_to_datetime64ns\u001b[1;34m(data, dayfirst, yearfirst, utc, errors, require_iso8601, allow_object)\u001b[0m\n\u001b[0;32m   2088\u001b[0m             \u001b[1;32mreturn\u001b[0m \u001b[0mvalues\u001b[0m\u001b[1;33m.\u001b[0m\u001b[0mview\u001b[0m\u001b[1;33m(\u001b[0m\u001b[1;34m\"i8\"\u001b[0m\u001b[1;33m)\u001b[0m\u001b[1;33m,\u001b[0m \u001b[0mtz_parsed\u001b[0m\u001b[1;33m\u001b[0m\u001b[1;33m\u001b[0m\u001b[0m\n\u001b[0;32m   2089\u001b[0m         \u001b[1;32mexcept\u001b[0m \u001b[1;33m(\u001b[0m\u001b[0mValueError\u001b[0m\u001b[1;33m,\u001b[0m \u001b[0mTypeError\u001b[0m\u001b[1;33m)\u001b[0m\u001b[1;33m:\u001b[0m\u001b[1;33m\u001b[0m\u001b[1;33m\u001b[0m\u001b[0m\n\u001b[1;32m-> 2090\u001b[1;33m             \u001b[1;32mraise\u001b[0m \u001b[0me\u001b[0m\u001b[1;33m\u001b[0m\u001b[1;33m\u001b[0m\u001b[0m\n\u001b[0m\u001b[0;32m   2091\u001b[0m \u001b[1;33m\u001b[0m\u001b[0m\n\u001b[0;32m   2092\u001b[0m     \u001b[1;32mif\u001b[0m \u001b[0mtz_parsed\u001b[0m \u001b[1;32mis\u001b[0m \u001b[1;32mnot\u001b[0m \u001b[1;32mNone\u001b[0m\u001b[1;33m:\u001b[0m\u001b[1;33m\u001b[0m\u001b[1;33m\u001b[0m\u001b[0m\n",
      "\u001b[1;32md:\\datacenterkun\\jupyter\\venv\\lib\\site-packages\\pandas\\core\\arrays\\datetimes.py\u001b[0m in \u001b[0;36mobjects_to_datetime64ns\u001b[1;34m(data, dayfirst, yearfirst, utc, errors, require_iso8601, allow_object)\u001b[0m\n\u001b[0;32m   2073\u001b[0m \u001b[1;33m\u001b[0m\u001b[0m\n\u001b[0;32m   2074\u001b[0m     \u001b[1;32mtry\u001b[0m\u001b[1;33m:\u001b[0m\u001b[1;33m\u001b[0m\u001b[1;33m\u001b[0m\u001b[0m\n\u001b[1;32m-> 2075\u001b[1;33m         result, tz_parsed = tslib.array_to_datetime(\n\u001b[0m\u001b[0;32m   2076\u001b[0m             \u001b[0mdata\u001b[0m\u001b[1;33m,\u001b[0m\u001b[1;33m\u001b[0m\u001b[1;33m\u001b[0m\u001b[0m\n\u001b[0;32m   2077\u001b[0m             \u001b[0merrors\u001b[0m\u001b[1;33m=\u001b[0m\u001b[0merrors\u001b[0m\u001b[1;33m,\u001b[0m\u001b[1;33m\u001b[0m\u001b[1;33m\u001b[0m\u001b[0m\n",
      "\u001b[1;32mpandas\\_libs\\tslib.pyx\u001b[0m in \u001b[0;36mpandas._libs.tslib.array_to_datetime\u001b[1;34m()\u001b[0m\n",
      "\u001b[1;32mpandas\\_libs\\tslib.pyx\u001b[0m in \u001b[0;36mpandas._libs.tslib.array_to_datetime\u001b[1;34m()\u001b[0m\n",
      "\u001b[1;32mpandas\\_libs\\tslib.pyx\u001b[0m in \u001b[0;36mpandas._libs.tslib.array_to_datetime_object\u001b[1;34m()\u001b[0m\n",
      "\u001b[1;32mpandas\\_libs\\tslib.pyx\u001b[0m in \u001b[0;36mpandas._libs.tslib.array_to_datetime_object\u001b[1;34m()\u001b[0m\n",
      "\u001b[1;32mpandas\\_libs\\tslibs\\parsing.pyx\u001b[0m in \u001b[0;36mpandas._libs.tslibs.parsing.parse_datetime_string\u001b[1;34m()\u001b[0m\n",
      "\u001b[1;32md:\\datacenterkun\\jupyter\\venv\\lib\\site-packages\\dateutil\\parser\\_parser.py\u001b[0m in \u001b[0;36mparse\u001b[1;34m(timestr, parserinfo, **kwargs)\u001b[0m\n\u001b[0;32m   1366\u001b[0m         \u001b[1;32mreturn\u001b[0m \u001b[0mparser\u001b[0m\u001b[1;33m(\u001b[0m\u001b[0mparserinfo\u001b[0m\u001b[1;33m)\u001b[0m\u001b[1;33m.\u001b[0m\u001b[0mparse\u001b[0m\u001b[1;33m(\u001b[0m\u001b[0mtimestr\u001b[0m\u001b[1;33m,\u001b[0m \u001b[1;33m**\u001b[0m\u001b[0mkwargs\u001b[0m\u001b[1;33m)\u001b[0m\u001b[1;33m\u001b[0m\u001b[1;33m\u001b[0m\u001b[0m\n\u001b[0;32m   1367\u001b[0m     \u001b[1;32melse\u001b[0m\u001b[1;33m:\u001b[0m\u001b[1;33m\u001b[0m\u001b[1;33m\u001b[0m\u001b[0m\n\u001b[1;32m-> 1368\u001b[1;33m         \u001b[1;32mreturn\u001b[0m \u001b[0mDEFAULTPARSER\u001b[0m\u001b[1;33m.\u001b[0m\u001b[0mparse\u001b[0m\u001b[1;33m(\u001b[0m\u001b[0mtimestr\u001b[0m\u001b[1;33m,\u001b[0m \u001b[1;33m**\u001b[0m\u001b[0mkwargs\u001b[0m\u001b[1;33m)\u001b[0m\u001b[1;33m\u001b[0m\u001b[1;33m\u001b[0m\u001b[0m\n\u001b[0m\u001b[0;32m   1369\u001b[0m \u001b[1;33m\u001b[0m\u001b[0m\n\u001b[0;32m   1370\u001b[0m \u001b[1;33m\u001b[0m\u001b[0m\n",
      "\u001b[1;32md:\\datacenterkun\\jupyter\\venv\\lib\\site-packages\\dateutil\\parser\\_parser.py\u001b[0m in \u001b[0;36mparse\u001b[1;34m(self, timestr, default, ignoretz, tzinfos, **kwargs)\u001b[0m\n\u001b[0;32m    641\u001b[0m \u001b[1;33m\u001b[0m\u001b[0m\n\u001b[0;32m    642\u001b[0m         \u001b[1;32mif\u001b[0m \u001b[0mres\u001b[0m \u001b[1;32mis\u001b[0m \u001b[1;32mNone\u001b[0m\u001b[1;33m:\u001b[0m\u001b[1;33m\u001b[0m\u001b[1;33m\u001b[0m\u001b[0m\n\u001b[1;32m--> 643\u001b[1;33m             \u001b[1;32mraise\u001b[0m \u001b[0mParserError\u001b[0m\u001b[1;33m(\u001b[0m\u001b[1;34m\"Unknown string format: %s\"\u001b[0m\u001b[1;33m,\u001b[0m \u001b[0mtimestr\u001b[0m\u001b[1;33m)\u001b[0m\u001b[1;33m\u001b[0m\u001b[1;33m\u001b[0m\u001b[0m\n\u001b[0m\u001b[0;32m    644\u001b[0m \u001b[1;33m\u001b[0m\u001b[0m\n\u001b[0;32m    645\u001b[0m         \u001b[1;32mif\u001b[0m \u001b[0mlen\u001b[0m\u001b[1;33m(\u001b[0m\u001b[0mres\u001b[0m\u001b[1;33m)\u001b[0m \u001b[1;33m==\u001b[0m \u001b[1;36m0\u001b[0m\u001b[1;33m:\u001b[0m\u001b[1;33m\u001b[0m\u001b[1;33m\u001b[0m\u001b[0m\n",
      "\u001b[1;31mParserError\u001b[0m: Unknown string format: 部门1"
     ]
    }
   ],
   "source": [
    "pd.to_datetime(df.dept,errors='raise') # 转换失败默认报错"
   ]
  },
  {
   "cell_type": "code",
   "execution_count": 5,
   "id": "2fbf6f67-b0d0-4f9f-bf42-4ed3a9e5ae17",
   "metadata": {
    "execution": {
     "iopub.execute_input": "2021-08-16T06:09:13.155561Z",
     "iopub.status.busy": "2021-08-16T06:09:13.154560Z",
     "iopub.status.idle": "2021-08-16T06:09:13.162564Z",
     "shell.execute_reply": "2021-08-16T06:09:13.161563Z",
     "shell.execute_reply.started": "2021-08-16T06:09:13.155561Z"
    },
    "tags": []
   },
   "outputs": [
    {
     "data": {
      "text/plain": [
       "0   2020-01-01\n",
       "1   2020-01-02\n",
       "2   2020-01-03\n",
       "3   2020-01-04\n",
       "4   2020-01-05\n",
       "5   2020-01-06\n",
       "6   2020-01-07\n",
       "7   2020-01-08\n",
       "8   2020-01-09\n",
       "9   2020-01-10\n",
       "Name: 时间, dtype: datetime64[ns]"
      ]
     },
     "execution_count": 5,
     "metadata": {},
     "output_type": "execute_result"
    }
   ],
   "source": [
    "pd.to_datetime(df.时间.astype(str)) # 简单的，将转换成str的时间列再转换回时间类型"
   ]
  }
 ],
 "metadata": {
  "kernelspec": {
   "display_name": "Python 3 (ipykernel)",
   "language": "python",
   "name": "python3"
  },
  "language_info": {
   "codemirror_mode": {
    "name": "ipython",
    "version": 3
   },
   "file_extension": ".py",
   "mimetype": "text/x-python",
   "name": "python",
   "nbconvert_exporter": "python",
   "pygments_lexer": "ipython3",
   "version": "3.8.10"
  }
 },
 "nbformat": 4,
 "nbformat_minor": 5
}
