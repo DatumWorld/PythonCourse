{
 "cells": [
  {
   "cell_type": "markdown",
   "id": "fe95639a",
   "metadata": {
    "execution": {
     "iopub.execute_input": "2021-05-10T07:18:52.990449Z",
     "iopub.status.busy": "2021-05-10T07:18:52.990449Z",
     "iopub.status.idle": "2021-05-10T07:18:52.994464Z",
     "shell.execute_reply": "2021-05-10T07:18:52.993452Z",
     "shell.execute_reply.started": "2021-05-10T07:18:52.990449Z"
    }
   },
   "source": [
    "## 88 数据类型转换（四）"
   ]
  },
  {
   "cell_type": "markdown",
   "id": "0ddac84a",
   "metadata": {
    "jp-MarkdownHeadingCollapsed": true,
    "tags": []
   },
   "source": [
    "### to_datetime 转换成时间\n",
    "参数 arg, errors='raise', dayfirst=False, yearfirst=False, utc=None, format=None, exact=True, unit=None, infer_datetime_format=False, origin='unix', cache=True\n",
    "### to_timedelta 将转换为 timedelta\n",
    "参数 arg, unit=None, errors='raise'"
   ]
  },
  {
   "cell_type": "code",
   "execution_count": 1,
   "id": "5d61795b",
   "metadata": {
    "execution": {
     "iopub.execute_input": "2021-08-17T07:10:59.846821Z",
     "iopub.status.busy": "2021-08-17T07:10:59.845822Z",
     "iopub.status.idle": "2021-08-17T07:11:00.157852Z",
     "shell.execute_reply": "2021-08-17T07:11:00.157852Z",
     "shell.execute_reply.started": "2021-08-17T07:10:59.845822Z"
    },
    "tags": []
   },
   "outputs": [],
   "source": [
    "import numpy  as np\n",
    "import pandas as pd\n",
    "from faker import Faker\n",
    "\n",
    "fake = Faker('zh_CN')\n",
    "df=pd.DataFrame(data=[ [fake.name()] for x in range(10) ],columns=['name'])\n",
    "\n",
    "df['销售额']=np.random.randint(100,100000,size=(10, 1))\n",
    "df['时间']=pd.date_range(start='2020-01-01',periods=10,freq='D')\n",
    "df.insert(0,'dept',['部门1']*5+['部门2']*5)\n",
    "df.insert(1,'dept 1',['小部门1']*2+['小部门2']*3+['小部门3']*1+['小部门4']*4)\n",
    "df.iloc[1,1]=np.nan #  修改成nan"
   ]
  },
  {
   "cell_type": "markdown",
   "id": "cde7d4a7",
   "metadata": {
    "tags": []
   },
   "source": [
    "### 演示数据"
   ]
  },
  {
   "cell_type": "code",
   "execution_count": 2,
   "id": "5ff3889a",
   "metadata": {
    "execution": {
     "iopub.execute_input": "2021-08-17T07:11:00.158818Z",
     "iopub.status.busy": "2021-08-17T07:11:00.158818Z",
     "iopub.status.idle": "2021-08-17T07:11:00.173866Z",
     "shell.execute_reply": "2021-08-17T07:11:00.172836Z",
     "shell.execute_reply.started": "2021-08-17T07:11:00.158818Z"
    },
    "tags": []
   },
   "outputs": [
    {
     "data": {
      "text/html": [
       "<div>\n",
       "<style scoped>\n",
       "    .dataframe tbody tr th:only-of-type {\n",
       "        vertical-align: middle;\n",
       "    }\n",
       "\n",
       "    .dataframe tbody tr th {\n",
       "        vertical-align: top;\n",
       "    }\n",
       "\n",
       "    .dataframe thead th {\n",
       "        text-align: right;\n",
       "    }\n",
       "</style>\n",
       "<table border=\"1\" class=\"dataframe\">\n",
       "  <thead>\n",
       "    <tr style=\"text-align: right;\">\n",
       "      <th></th>\n",
       "      <th>dept</th>\n",
       "      <th>dept 1</th>\n",
       "      <th>name</th>\n",
       "      <th>销售额</th>\n",
       "      <th>时间</th>\n",
       "    </tr>\n",
       "  </thead>\n",
       "  <tbody>\n",
       "    <tr>\n",
       "      <th>0</th>\n",
       "      <td>部门1</td>\n",
       "      <td>小部门1</td>\n",
       "      <td>郭晶</td>\n",
       "      <td>41718</td>\n",
       "      <td>2020-01-01</td>\n",
       "    </tr>\n",
       "    <tr>\n",
       "      <th>1</th>\n",
       "      <td>部门1</td>\n",
       "      <td>NaN</td>\n",
       "      <td>张淑珍</td>\n",
       "      <td>57003</td>\n",
       "      <td>2020-01-02</td>\n",
       "    </tr>\n",
       "    <tr>\n",
       "      <th>2</th>\n",
       "      <td>部门1</td>\n",
       "      <td>小部门2</td>\n",
       "      <td>吴金凤</td>\n",
       "      <td>91917</td>\n",
       "      <td>2020-01-03</td>\n",
       "    </tr>\n",
       "    <tr>\n",
       "      <th>3</th>\n",
       "      <td>部门1</td>\n",
       "      <td>小部门2</td>\n",
       "      <td>喻冬梅</td>\n",
       "      <td>99808</td>\n",
       "      <td>2020-01-04</td>\n",
       "    </tr>\n",
       "    <tr>\n",
       "      <th>4</th>\n",
       "      <td>部门1</td>\n",
       "      <td>小部门2</td>\n",
       "      <td>李欣</td>\n",
       "      <td>43198</td>\n",
       "      <td>2020-01-05</td>\n",
       "    </tr>\n",
       "    <tr>\n",
       "      <th>5</th>\n",
       "      <td>部门2</td>\n",
       "      <td>小部门3</td>\n",
       "      <td>王明</td>\n",
       "      <td>17545</td>\n",
       "      <td>2020-01-06</td>\n",
       "    </tr>\n",
       "    <tr>\n",
       "      <th>6</th>\n",
       "      <td>部门2</td>\n",
       "      <td>小部门4</td>\n",
       "      <td>蔡杨</td>\n",
       "      <td>38268</td>\n",
       "      <td>2020-01-07</td>\n",
       "    </tr>\n",
       "    <tr>\n",
       "      <th>7</th>\n",
       "      <td>部门2</td>\n",
       "      <td>小部门4</td>\n",
       "      <td>冯海燕</td>\n",
       "      <td>461</td>\n",
       "      <td>2020-01-08</td>\n",
       "    </tr>\n",
       "    <tr>\n",
       "      <th>8</th>\n",
       "      <td>部门2</td>\n",
       "      <td>小部门4</td>\n",
       "      <td>杨丹丹</td>\n",
       "      <td>67721</td>\n",
       "      <td>2020-01-09</td>\n",
       "    </tr>\n",
       "    <tr>\n",
       "      <th>9</th>\n",
       "      <td>部门2</td>\n",
       "      <td>小部门4</td>\n",
       "      <td>王旭</td>\n",
       "      <td>60322</td>\n",
       "      <td>2020-01-10</td>\n",
       "    </tr>\n",
       "  </tbody>\n",
       "</table>\n",
       "</div>"
      ],
      "text/plain": [
       "  dept dept 1 name    销售额         时间\n",
       "0  部门1   小部门1   郭晶  41718 2020-01-01\n",
       "1  部门1    NaN  张淑珍  57003 2020-01-02\n",
       "2  部门1   小部门2  吴金凤  91917 2020-01-03\n",
       "3  部门1   小部门2  喻冬梅  99808 2020-01-04\n",
       "4  部门1   小部门2   李欣  43198 2020-01-05\n",
       "5  部门2   小部门3   王明  17545 2020-01-06\n",
       "6  部门2   小部门4   蔡杨  38268 2020-01-07\n",
       "7  部门2   小部门4  冯海燕    461 2020-01-08\n",
       "8  部门2   小部门4  杨丹丹  67721 2020-01-09\n",
       "9  部门2   小部门4   王旭  60322 2020-01-10"
      ]
     },
     "execution_count": 2,
     "metadata": {},
     "output_type": "execute_result"
    }
   ],
   "source": [
    "df # 随机生成的数据"
   ]
  },
  {
   "cell_type": "code",
   "execution_count": 3,
   "id": "fdaef8c1",
   "metadata": {
    "execution": {
     "iopub.execute_input": "2021-08-17T07:11:00.174823Z",
     "iopub.status.busy": "2021-08-17T07:11:00.174823Z",
     "iopub.status.idle": "2021-08-17T07:11:00.179820Z",
     "shell.execute_reply": "2021-08-17T07:11:00.179820Z",
     "shell.execute_reply.started": "2021-08-17T07:11:00.174823Z"
    },
    "tags": []
   },
   "outputs": [
    {
     "data": {
      "text/plain": [
       "dept              object\n",
       "dept 1            object\n",
       "name              object\n",
       "销售额                int32\n",
       "时间        datetime64[ns]\n",
       "dtype: object"
      ]
     },
     "execution_count": 3,
     "metadata": {},
     "output_type": "execute_result"
    }
   ],
   "source": [
    "df.dtypes"
   ]
  },
  {
   "cell_type": "code",
   "execution_count": 28,
   "id": "e6f4b749-25d2-4bcb-ba53-6ab585d8e674",
   "metadata": {
    "execution": {
     "iopub.execute_input": "2021-08-17T07:20:57.368075Z",
     "iopub.status.busy": "2021-08-17T07:20:57.367087Z",
     "iopub.status.idle": "2021-08-17T07:20:57.376071Z",
     "shell.execute_reply": "2021-08-17T07:20:57.375072Z",
     "shell.execute_reply.started": "2021-08-17T07:20:57.368075Z"
    },
    "tags": []
   },
   "outputs": [
    {
     "data": {
      "text/plain": [
       "TimedeltaIndex(['1 days 05:30:30', NaT, '1 days 00:00:00'], dtype='timedelta64[ns]', freq=None)"
      ]
     },
     "execution_count": 28,
     "metadata": {},
     "output_type": "execute_result"
    }
   ],
   "source": [
    "pd.to_timedelta(arg=['1 days 05:30:30',np.nan,'1 days']) # 转换成timedelta。可以使用list作为arg（数据源）"
   ]
  },
  {
   "cell_type": "code",
   "execution_count": 23,
   "id": "d6c53281-4f0f-4b7a-8364-a6ff5340d211",
   "metadata": {
    "execution": {
     "iopub.execute_input": "2021-08-17T07:18:56.671072Z",
     "iopub.status.busy": "2021-08-17T07:18:56.670073Z",
     "iopub.status.idle": "2021-08-17T07:18:56.677072Z",
     "shell.execute_reply": "2021-08-17T07:18:56.677072Z",
     "shell.execute_reply.started": "2021-08-17T07:18:56.671072Z"
    },
    "tags": []
   },
   "outputs": [
    {
     "data": {
      "text/plain": [
       "TimedeltaIndex(['0 days 00:00:00', '0 days 01:00:00', '0 days 02:00:00',\n",
       "                '0 days 03:00:00', '0 days 04:00:00', '0 days 05:00:00',\n",
       "                '0 days 06:00:00', '0 days 07:00:00', '0 days 08:00:00',\n",
       "                '0 days 09:00:00'],\n",
       "               dtype='timedelta64[ns]', freq=None)"
      ]
     },
     "execution_count": 23,
     "metadata": {},
     "output_type": "execute_result"
    }
   ],
   "source": [
    "pd.to_timedelta(np.arange(10),unit='H') # 转换成timedelta。10个，间隔一个小时"
   ]
  },
  {
   "cell_type": "code",
   "execution_count": 20,
   "id": "b855a7b8-6f25-4cdf-9253-460287c7d3c7",
   "metadata": {
    "execution": {
     "iopub.execute_input": "2021-08-17T07:17:41.346074Z",
     "iopub.status.busy": "2021-08-17T07:17:41.346074Z",
     "iopub.status.idle": "2021-08-17T07:17:41.357078Z",
     "shell.execute_reply": "2021-08-17T07:17:41.356073Z",
     "shell.execute_reply.started": "2021-08-17T07:17:41.346074Z"
    },
    "tags": []
   },
   "outputs": [
    {
     "ename": "ValueError",
     "evalue": "unit must not be specified if the input is/contains a str",
     "output_type": "error",
     "traceback": [
      "\u001b[1;31m---------------------------------------------------------------------------\u001b[0m",
      "\u001b[1;31mValueError\u001b[0m                                Traceback (most recent call last)",
      "\u001b[1;32mC:\\Users\\ADMINI~1\\AppData\\Local\\Temp\\1/ipykernel_11324/1784899130.py\u001b[0m in \u001b[0;36m<module>\u001b[1;34m\u001b[0m\n\u001b[1;32m----> 1\u001b[1;33m \u001b[0mpd\u001b[0m\u001b[1;33m.\u001b[0m\u001b[0mto_timedelta\u001b[0m\u001b[1;33m(\u001b[0m\u001b[1;34m'1 days 05:30:30'\u001b[0m\u001b[1;33m,\u001b[0m\u001b[0munit\u001b[0m\u001b[1;33m=\u001b[0m\u001b[1;34m'H'\u001b[0m\u001b[1;33m)\u001b[0m \u001b[1;31m# 转换成timedelta\u001b[0m\u001b[1;33m\u001b[0m\u001b[1;33m\u001b[0m\u001b[0m\n\u001b[0m",
      "\u001b[1;32md:\\datacenterkun\\jupyter\\venv\\lib\\site-packages\\pandas\\core\\tools\\timedeltas.py\u001b[0m in \u001b[0;36mto_timedelta\u001b[1;34m(arg, unit, errors)\u001b[0m\n\u001b[0;32m    127\u001b[0m \u001b[1;33m\u001b[0m\u001b[0m\n\u001b[0;32m    128\u001b[0m     \u001b[1;32mif\u001b[0m \u001b[0misinstance\u001b[0m\u001b[1;33m(\u001b[0m\u001b[0marg\u001b[0m\u001b[1;33m,\u001b[0m \u001b[0mstr\u001b[0m\u001b[1;33m)\u001b[0m \u001b[1;32mand\u001b[0m \u001b[0munit\u001b[0m \u001b[1;32mis\u001b[0m \u001b[1;32mnot\u001b[0m \u001b[1;32mNone\u001b[0m\u001b[1;33m:\u001b[0m\u001b[1;33m\u001b[0m\u001b[1;33m\u001b[0m\u001b[0m\n\u001b[1;32m--> 129\u001b[1;33m         \u001b[1;32mraise\u001b[0m \u001b[0mValueError\u001b[0m\u001b[1;33m(\u001b[0m\u001b[1;34m\"unit must not be specified if the input is/contains a str\"\u001b[0m\u001b[1;33m)\u001b[0m\u001b[1;33m\u001b[0m\u001b[1;33m\u001b[0m\u001b[0m\n\u001b[0m\u001b[0;32m    130\u001b[0m \u001b[1;33m\u001b[0m\u001b[0m\n\u001b[0;32m    131\u001b[0m     \u001b[1;31m# ...so it must be a scalar value. Return scalar.\u001b[0m\u001b[1;33m\u001b[0m\u001b[1;33m\u001b[0m\u001b[1;33m\u001b[0m\u001b[0m\n",
      "\u001b[1;31mValueError\u001b[0m: unit must not be specified if the input is/contains a str"
     ]
    }
   ],
   "source": [
    "pd.to_timedelta('1 days 05:30:30',unit='H') # 转换成timedelta。str不能使用unit（来自错误提示）"
   ]
  },
  {
   "cell_type": "code",
   "execution_count": 19,
   "id": "69779280-76fb-4dc8-ae1a-0c316765d426",
   "metadata": {
    "execution": {
     "iopub.execute_input": "2021-08-17T07:17:21.905073Z",
     "iopub.status.busy": "2021-08-17T07:17:21.904090Z",
     "iopub.status.idle": "2021-08-17T07:17:21.909084Z",
     "shell.execute_reply": "2021-08-17T07:17:21.909084Z",
     "shell.execute_reply.started": "2021-08-17T07:17:21.905073Z"
    },
    "tags": []
   },
   "outputs": [
    {
     "data": {
      "text/plain": [
       "Timedelta('1 days 05:30:30')"
      ]
     },
     "execution_count": 19,
     "metadata": {},
     "output_type": "execute_result"
    }
   ],
   "source": [
    "pd.to_timedelta('1 days 05:30:30') # 转换成timedelta"
   ]
  },
  {
   "cell_type": "code",
   "execution_count": 16,
   "id": "91f3449f-f94f-4053-b9f4-4154c5145bef",
   "metadata": {
    "execution": {
     "iopub.execute_input": "2021-08-17T07:16:44.710073Z",
     "iopub.status.busy": "2021-08-17T07:16:44.710073Z",
     "iopub.status.idle": "2021-08-17T07:16:44.716073Z",
     "shell.execute_reply": "2021-08-17T07:16:44.715077Z",
     "shell.execute_reply.started": "2021-08-17T07:16:44.710073Z"
    },
    "tags": []
   },
   "outputs": [
    {
     "data": {
      "text/plain": [
       "Timedelta('1 days 00:00:00')"
      ]
     },
     "execution_count": 16,
     "metadata": {},
     "output_type": "execute_result"
    }
   ],
   "source": [
    "pd.to_timedelta('1 days ') # 转换成timedelta"
   ]
  },
  {
   "cell_type": "code",
   "execution_count": 15,
   "id": "92fff42c-7e5d-4a1a-8c4b-25cfd698f536",
   "metadata": {
    "execution": {
     "iopub.execute_input": "2021-08-17T07:15:54.111072Z",
     "iopub.status.busy": "2021-08-17T07:15:54.110114Z",
     "iopub.status.idle": "2021-08-17T07:15:54.116074Z",
     "shell.execute_reply": "2021-08-17T07:15:54.115074Z",
     "shell.execute_reply.started": "2021-08-17T07:15:54.111072Z"
    },
    "tags": []
   },
   "outputs": [
    {
     "data": {
      "text/plain": [
       "Timestamp('1900-10-11 00:00:00')"
      ]
     },
     "execution_count": 15,
     "metadata": {},
     "output_type": "execute_result"
    }
   ],
   "source": [
    "pd.to_datetime('10/11/12 05:00+5',format='%m/%d',exact=False) # format非精确匹配模式"
   ]
  },
  {
   "cell_type": "code",
   "execution_count": 14,
   "id": "862eb3fb-60be-4c4c-afbd-36391aee4087",
   "metadata": {
    "execution": {
     "iopub.execute_input": "2021-08-17T07:15:36.973072Z",
     "iopub.status.busy": "2021-08-17T07:15:36.973072Z",
     "iopub.status.idle": "2021-08-17T07:15:36.978075Z",
     "shell.execute_reply": "2021-08-17T07:15:36.978075Z",
     "shell.execute_reply.started": "2021-08-17T07:15:36.973072Z"
    },
    "tags": []
   },
   "outputs": [
    {
     "data": {
      "text/plain": [
       "Timestamp('2010-11-12 00:00:00')"
      ]
     },
     "execution_count": 14,
     "metadata": {},
     "output_type": "execute_result"
    }
   ],
   "source": [
    "pd.to_datetime('10/11/12 05:00+5',format='%y/%m/%d',exact=False) # format非精确匹配模式"
   ]
  },
  {
   "cell_type": "code",
   "execution_count": 12,
   "id": "31313ab8-a5c3-4590-9081-68e38fa52a19",
   "metadata": {
    "execution": {
     "iopub.execute_input": "2021-08-17T07:14:59.662073Z",
     "iopub.status.busy": "2021-08-17T07:14:59.661073Z",
     "iopub.status.idle": "2021-08-17T07:14:59.689071Z",
     "shell.execute_reply": "2021-08-17T07:14:59.687074Z",
     "shell.execute_reply.started": "2021-08-17T07:14:59.662073Z"
    },
    "tags": []
   },
   "outputs": [
    {
     "ename": "ValueError",
     "evalue": "unconverted data remains:  00:00+5",
     "output_type": "error",
     "traceback": [
      "\u001b[1;31m---------------------------------------------------------------------------\u001b[0m",
      "\u001b[1;31mTypeError\u001b[0m                                 Traceback (most recent call last)",
      "\u001b[1;32md:\\datacenterkun\\jupyter\\venv\\lib\\site-packages\\pandas\\core\\tools\\datetimes.py\u001b[0m in \u001b[0;36m_convert_listlike_datetimes\u001b[1;34m(arg, format, name, tz, unit, errors, infer_datetime_format, dayfirst, yearfirst, exact)\u001b[0m\n\u001b[0;32m    455\u001b[0m             \u001b[1;32mtry\u001b[0m\u001b[1;33m:\u001b[0m\u001b[1;33m\u001b[0m\u001b[1;33m\u001b[0m\u001b[0m\n\u001b[1;32m--> 456\u001b[1;33m                 \u001b[0mvalues\u001b[0m\u001b[1;33m,\u001b[0m \u001b[0mtz\u001b[0m \u001b[1;33m=\u001b[0m \u001b[0mconversion\u001b[0m\u001b[1;33m.\u001b[0m\u001b[0mdatetime_to_datetime64\u001b[0m\u001b[1;33m(\u001b[0m\u001b[0marg\u001b[0m\u001b[1;33m)\u001b[0m\u001b[1;33m\u001b[0m\u001b[1;33m\u001b[0m\u001b[0m\n\u001b[0m\u001b[0;32m    457\u001b[0m                 \u001b[0mdta\u001b[0m \u001b[1;33m=\u001b[0m \u001b[0mDatetimeArray\u001b[0m\u001b[1;33m(\u001b[0m\u001b[0mvalues\u001b[0m\u001b[1;33m,\u001b[0m \u001b[0mdtype\u001b[0m\u001b[1;33m=\u001b[0m\u001b[0mtz_to_dtype\u001b[0m\u001b[1;33m(\u001b[0m\u001b[0mtz\u001b[0m\u001b[1;33m)\u001b[0m\u001b[1;33m)\u001b[0m\u001b[1;33m\u001b[0m\u001b[1;33m\u001b[0m\u001b[0m\n",
      "\u001b[1;32mpandas\\_libs\\tslibs\\conversion.pyx\u001b[0m in \u001b[0;36mpandas._libs.tslibs.conversion.datetime_to_datetime64\u001b[1;34m()\u001b[0m\n",
      "\u001b[1;31mTypeError\u001b[0m: Unrecognized value type: <class 'str'>",
      "\nDuring handling of the above exception, another exception occurred:\n",
      "\u001b[1;31mValueError\u001b[0m                                Traceback (most recent call last)",
      "\u001b[1;32mC:\\Users\\ADMINI~1\\AppData\\Local\\Temp\\1/ipykernel_11324/1260974529.py\u001b[0m in \u001b[0;36m<module>\u001b[1;34m\u001b[0m\n\u001b[1;32m----> 1\u001b[1;33m \u001b[0mpd\u001b[0m\u001b[1;33m.\u001b[0m\u001b[0mto_datetime\u001b[0m\u001b[1;33m(\u001b[0m\u001b[1;34m'10/11/12 00:00+5'\u001b[0m\u001b[1;33m,\u001b[0m\u001b[0mformat\u001b[0m\u001b[1;33m=\u001b[0m\u001b[1;34m'%y/%m/%d'\u001b[0m\u001b[1;33m,\u001b[0m\u001b[0mexact\u001b[0m\u001b[1;33m=\u001b[0m\u001b[1;32mTrue\u001b[0m\u001b[1;33m)\u001b[0m \u001b[1;31m# utc。注意对比这几个的区别，带时区 与 不带时区\u001b[0m\u001b[1;33m\u001b[0m\u001b[1;33m\u001b[0m\u001b[0m\n\u001b[0m",
      "\u001b[1;32md:\\datacenterkun\\jupyter\\venv\\lib\\site-packages\\pandas\\core\\tools\\datetimes.py\u001b[0m in \u001b[0;36mto_datetime\u001b[1;34m(arg, errors, dayfirst, yearfirst, utc, format, exact, unit, infer_datetime_format, origin, cache)\u001b[0m\n\u001b[0;32m    830\u001b[0m             \u001b[0mresult\u001b[0m \u001b[1;33m=\u001b[0m \u001b[0mconvert_listlike\u001b[0m\u001b[1;33m(\u001b[0m\u001b[0marg\u001b[0m\u001b[1;33m,\u001b[0m \u001b[0mformat\u001b[0m\u001b[1;33m)\u001b[0m\u001b[1;33m\u001b[0m\u001b[1;33m\u001b[0m\u001b[0m\n\u001b[0;32m    831\u001b[0m     \u001b[1;32melse\u001b[0m\u001b[1;33m:\u001b[0m\u001b[1;33m\u001b[0m\u001b[1;33m\u001b[0m\u001b[0m\n\u001b[1;32m--> 832\u001b[1;33m         \u001b[0mresult\u001b[0m \u001b[1;33m=\u001b[0m \u001b[0mconvert_listlike\u001b[0m\u001b[1;33m(\u001b[0m\u001b[0mnp\u001b[0m\u001b[1;33m.\u001b[0m\u001b[0marray\u001b[0m\u001b[1;33m(\u001b[0m\u001b[1;33m[\u001b[0m\u001b[0marg\u001b[0m\u001b[1;33m]\u001b[0m\u001b[1;33m)\u001b[0m\u001b[1;33m,\u001b[0m \u001b[0mformat\u001b[0m\u001b[1;33m)\u001b[0m\u001b[1;33m[\u001b[0m\u001b[1;36m0\u001b[0m\u001b[1;33m]\u001b[0m\u001b[1;33m\u001b[0m\u001b[1;33m\u001b[0m\u001b[0m\n\u001b[0m\u001b[0;32m    833\u001b[0m \u001b[1;33m\u001b[0m\u001b[0m\n\u001b[0;32m    834\u001b[0m     \u001b[1;32mreturn\u001b[0m \u001b[0mresult\u001b[0m\u001b[1;33m\u001b[0m\u001b[1;33m\u001b[0m\u001b[0m\n",
      "\u001b[1;32md:\\datacenterkun\\jupyter\\venv\\lib\\site-packages\\pandas\\core\\tools\\datetimes.py\u001b[0m in \u001b[0;36m_convert_listlike_datetimes\u001b[1;34m(arg, format, name, tz, unit, errors, infer_datetime_format, dayfirst, yearfirst, exact)\u001b[0m\n\u001b[0;32m    458\u001b[0m                 \u001b[1;32mreturn\u001b[0m \u001b[0mDatetimeIndex\u001b[0m\u001b[1;33m.\u001b[0m\u001b[0m_simple_new\u001b[0m\u001b[1;33m(\u001b[0m\u001b[0mdta\u001b[0m\u001b[1;33m,\u001b[0m \u001b[0mname\u001b[0m\u001b[1;33m=\u001b[0m\u001b[0mname\u001b[0m\u001b[1;33m)\u001b[0m\u001b[1;33m\u001b[0m\u001b[1;33m\u001b[0m\u001b[0m\n\u001b[0;32m    459\u001b[0m             \u001b[1;32mexcept\u001b[0m \u001b[1;33m(\u001b[0m\u001b[0mValueError\u001b[0m\u001b[1;33m,\u001b[0m \u001b[0mTypeError\u001b[0m\u001b[1;33m)\u001b[0m\u001b[1;33m:\u001b[0m\u001b[1;33m\u001b[0m\u001b[1;33m\u001b[0m\u001b[0m\n\u001b[1;32m--> 460\u001b[1;33m                 \u001b[1;32mraise\u001b[0m \u001b[0me\u001b[0m\u001b[1;33m\u001b[0m\u001b[1;33m\u001b[0m\u001b[0m\n\u001b[0m\u001b[0;32m    461\u001b[0m \u001b[1;33m\u001b[0m\u001b[0m\n\u001b[0;32m    462\u001b[0m     \u001b[1;32mif\u001b[0m \u001b[0mresult\u001b[0m \u001b[1;32mis\u001b[0m \u001b[1;32mNone\u001b[0m\u001b[1;33m:\u001b[0m\u001b[1;33m\u001b[0m\u001b[1;33m\u001b[0m\u001b[0m\n",
      "\u001b[1;32md:\\datacenterkun\\jupyter\\venv\\lib\\site-packages\\pandas\\core\\tools\\datetimes.py\u001b[0m in \u001b[0;36m_convert_listlike_datetimes\u001b[1;34m(arg, format, name, tz, unit, errors, infer_datetime_format, dayfirst, yearfirst, exact)\u001b[0m\n\u001b[0;32m    421\u001b[0m             \u001b[1;32mif\u001b[0m \u001b[0mresult\u001b[0m \u001b[1;32mis\u001b[0m \u001b[1;32mNone\u001b[0m\u001b[1;33m:\u001b[0m\u001b[1;33m\u001b[0m\u001b[1;33m\u001b[0m\u001b[0m\n\u001b[0;32m    422\u001b[0m                 \u001b[1;32mtry\u001b[0m\u001b[1;33m:\u001b[0m\u001b[1;33m\u001b[0m\u001b[1;33m\u001b[0m\u001b[0m\n\u001b[1;32m--> 423\u001b[1;33m                     result, timezones = array_strptime(\n\u001b[0m\u001b[0;32m    424\u001b[0m                         \u001b[0marg\u001b[0m\u001b[1;33m,\u001b[0m \u001b[0mformat\u001b[0m\u001b[1;33m,\u001b[0m \u001b[0mexact\u001b[0m\u001b[1;33m=\u001b[0m\u001b[0mexact\u001b[0m\u001b[1;33m,\u001b[0m \u001b[0merrors\u001b[0m\u001b[1;33m=\u001b[0m\u001b[0merrors\u001b[0m\u001b[1;33m\u001b[0m\u001b[1;33m\u001b[0m\u001b[0m\n\u001b[0;32m    425\u001b[0m                     )\n",
      "\u001b[1;32mpandas\\_libs\\tslibs\\strptime.pyx\u001b[0m in \u001b[0;36mpandas._libs.tslibs.strptime.array_strptime\u001b[1;34m()\u001b[0m\n",
      "\u001b[1;31mValueError\u001b[0m: unconverted data remains:  00:00+5"
     ]
    }
   ],
   "source": [
    "pd.to_datetime('10/11/12 00:00+5',format='%y/%m/%d',exact=True) # format精确匹配模式"
   ]
  },
  {
   "cell_type": "code",
   "execution_count": 10,
   "id": "1fdae2a2-e1f6-4a3b-9ff5-22a77bb4e27e",
   "metadata": {
    "execution": {
     "iopub.execute_input": "2021-08-17T07:13:28.581072Z",
     "iopub.status.busy": "2021-08-17T07:13:28.581072Z",
     "iopub.status.idle": "2021-08-17T07:13:28.589075Z",
     "shell.execute_reply": "2021-08-17T07:13:28.588074Z",
     "shell.execute_reply.started": "2021-08-17T07:13:28.581072Z"
    },
    "tags": []
   },
   "outputs": [
    {
     "data": {
      "text/plain": [
       "Timestamp('2012-10-11 00:00:00+0500', tz='pytz.FixedOffset(300)')"
      ]
     },
     "execution_count": 10,
     "metadata": {},
     "output_type": "execute_result"
    }
   ],
   "source": [
    "pd.to_datetime('10/11/12 00:00+5',utc=False) # utc。注意对比这几个的区别，带时区 与 不带时区"
   ]
  },
  {
   "cell_type": "code",
   "execution_count": 9,
   "id": "9f26fe77-21b3-4aca-a127-1aa21cecf896",
   "metadata": {
    "execution": {
     "iopub.execute_input": "2021-08-17T07:13:15.331072Z",
     "iopub.status.busy": "2021-08-17T07:13:15.331072Z",
     "iopub.status.idle": "2021-08-17T07:13:15.338075Z",
     "shell.execute_reply": "2021-08-17T07:13:15.337115Z",
     "shell.execute_reply.started": "2021-08-17T07:13:15.331072Z"
    },
    "tags": []
   },
   "outputs": [
    {
     "data": {
      "text/plain": [
       "Timestamp('2012-10-10 19:00:00+0000', tz='UTC')"
      ]
     },
     "execution_count": 9,
     "metadata": {},
     "output_type": "execute_result"
    }
   ],
   "source": [
    "pd.to_datetime('10/11/12 00:00+5',utc=True) # utc 化"
   ]
  },
  {
   "cell_type": "code",
   "execution_count": 8,
   "id": "65f0799e-34bc-42dc-9496-aa1e34d6b4d5",
   "metadata": {
    "execution": {
     "iopub.execute_input": "2021-08-17T07:12:48.358072Z",
     "iopub.status.busy": "2021-08-17T07:12:48.357072Z",
     "iopub.status.idle": "2021-08-17T07:12:48.363076Z",
     "shell.execute_reply": "2021-08-17T07:12:48.363076Z",
     "shell.execute_reply.started": "2021-08-17T07:12:48.358072Z"
    },
    "tags": []
   },
   "outputs": [
    {
     "data": {
      "text/plain": [
       "Timestamp('2012-10-11 00:00:00+0000', tz='UTC')"
      ]
     },
     "execution_count": 8,
     "metadata": {},
     "output_type": "execute_result"
    }
   ],
   "source": [
    "pd.to_datetime('10/11/12 05:00+5',utc=True) # utc 化"
   ]
  },
  {
   "cell_type": "code",
   "execution_count": 5,
   "id": "830df30e-a7a8-4a9f-8207-77792d35bcea",
   "metadata": {
    "execution": {
     "iopub.execute_input": "2021-08-17T07:11:47.370071Z",
     "iopub.status.busy": "2021-08-17T07:11:47.370071Z",
     "iopub.status.idle": "2021-08-17T07:11:47.374073Z",
     "shell.execute_reply": "2021-08-17T07:11:47.374073Z",
     "shell.execute_reply.started": "2021-08-17T07:11:47.370071Z"
    },
    "tags": []
   },
   "outputs": [
    {
     "data": {
      "text/plain": [
       "Timestamp('2012-10-11 00:00:00+0000', tz='UTC')"
      ]
     },
     "execution_count": 5,
     "metadata": {},
     "output_type": "execute_result"
    }
   ],
   "source": [
    "pd.to_datetime('10/11/12',utc=True) # utc 化"
   ]
  }
 ],
 "metadata": {
  "kernelspec": {
   "display_name": "Python 3 (ipykernel)",
   "language": "python",
   "name": "python3"
  },
  "language_info": {
   "codemirror_mode": {
    "name": "ipython",
    "version": 3
   },
   "file_extension": ".py",
   "mimetype": "text/x-python",
   "name": "python",
   "nbconvert_exporter": "python",
   "pygments_lexer": "ipython3",
   "version": "3.8.10"
  }
 },
 "nbformat": 4,
 "nbformat_minor": 5
}
