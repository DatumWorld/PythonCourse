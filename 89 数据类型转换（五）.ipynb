{
 "cells": [
  {
   "cell_type": "markdown",
   "id": "fe95639a",
   "metadata": {
    "execution": {
     "iopub.execute_input": "2021-05-10T07:18:52.990449Z",
     "iopub.status.busy": "2021-05-10T07:18:52.990449Z",
     "iopub.status.idle": "2021-05-10T07:18:52.994464Z",
     "shell.execute_reply": "2021-05-10T07:18:52.993452Z",
     "shell.execute_reply.started": "2021-05-10T07:18:52.990449Z"
    }
   },
   "source": [
    "## 89 数据类型转换（五）"
   ]
  },
  {
   "cell_type": "markdown",
   "id": "0ddac84a",
   "metadata": {
    "tags": []
   },
   "source": [
    "### convert_dtypes 将列转换成最可能的类型\n",
    "参数 infer_objects=True, convert_string=True, convert_integer=True, convert_boolean=True, convert_floating=True\n",
    "### infer_objects 尝试推断列的最可能的类型"
   ]
  },
  {
   "cell_type": "code",
   "execution_count": 1,
   "id": "5d61795b",
   "metadata": {
    "execution": {
     "iopub.execute_input": "2021-08-17T07:59:20.340076Z",
     "iopub.status.busy": "2021-08-17T07:59:20.338077Z",
     "iopub.status.idle": "2021-08-17T07:59:20.653104Z",
     "shell.execute_reply": "2021-08-17T07:59:20.653104Z",
     "shell.execute_reply.started": "2021-08-17T07:59:20.340076Z"
    },
    "tags": []
   },
   "outputs": [],
   "source": [
    "import numpy  as np\n",
    "import pandas as pd\n",
    "from faker import Faker\n",
    "\n",
    "fake = Faker('zh_CN')\n",
    "df=pd.DataFrame(data=[ [fake.name()] for x in range(10) ],columns=['name'])\n",
    "\n",
    "df['销售额']=np.random.randint(100,100000,size=(10, 1))\n",
    "df['时间']=pd.date_range(start='2020-01-01',periods=10,freq='D')\n",
    "df.insert(0,'dept',['部门1']*5+['部门2']*5)\n",
    "df.insert(1,'dept 1',['小部门1']*2+['小部门2']*3+['小部门3']*1+['小部门4']*4)\n",
    "df.iloc[1,1]=np.nan #  修改成nan"
   ]
  },
  {
   "cell_type": "code",
   "execution_count": 2,
   "id": "3f37c3f6-b656-421f-9be5-1005cd7cf152",
   "metadata": {
    "execution": {
     "iopub.execute_input": "2021-08-17T07:59:20.654074Z",
     "iopub.status.busy": "2021-08-17T07:59:20.654074Z",
     "iopub.status.idle": "2021-08-17T07:59:20.657074Z",
     "shell.execute_reply": "2021-08-17T07:59:20.657074Z",
     "shell.execute_reply.started": "2021-08-17T07:59:20.654074Z"
    },
    "tags": []
   },
   "outputs": [],
   "source": [
    "df2 = pd.DataFrame({\"A\": [\"a\", 1, 2, 3]})"
   ]
  },
  {
   "cell_type": "markdown",
   "id": "cde7d4a7",
   "metadata": {
    "tags": []
   },
   "source": [
    "### 演示数据"
   ]
  },
  {
   "cell_type": "code",
   "execution_count": 3,
   "id": "5ff3889a",
   "metadata": {
    "execution": {
     "iopub.execute_input": "2021-08-17T07:59:20.658076Z",
     "iopub.status.busy": "2021-08-17T07:59:20.658076Z",
     "iopub.status.idle": "2021-08-17T07:59:20.675074Z",
     "shell.execute_reply": "2021-08-17T07:59:20.675074Z",
     "shell.execute_reply.started": "2021-08-17T07:59:20.658076Z"
    },
    "tags": []
   },
   "outputs": [
    {
     "data": {
      "text/html": [
       "<div>\n",
       "<style scoped>\n",
       "    .dataframe tbody tr th:only-of-type {\n",
       "        vertical-align: middle;\n",
       "    }\n",
       "\n",
       "    .dataframe tbody tr th {\n",
       "        vertical-align: top;\n",
       "    }\n",
       "\n",
       "    .dataframe thead th {\n",
       "        text-align: right;\n",
       "    }\n",
       "</style>\n",
       "<table border=\"1\" class=\"dataframe\">\n",
       "  <thead>\n",
       "    <tr style=\"text-align: right;\">\n",
       "      <th></th>\n",
       "      <th>dept</th>\n",
       "      <th>dept 1</th>\n",
       "      <th>name</th>\n",
       "      <th>销售额</th>\n",
       "      <th>时间</th>\n",
       "    </tr>\n",
       "  </thead>\n",
       "  <tbody>\n",
       "    <tr>\n",
       "      <th>0</th>\n",
       "      <td>部门1</td>\n",
       "      <td>小部门1</td>\n",
       "      <td>曹勇</td>\n",
       "      <td>74927</td>\n",
       "      <td>2020-01-01</td>\n",
       "    </tr>\n",
       "    <tr>\n",
       "      <th>1</th>\n",
       "      <td>部门1</td>\n",
       "      <td>NaN</td>\n",
       "      <td>张丽丽</td>\n",
       "      <td>93559</td>\n",
       "      <td>2020-01-02</td>\n",
       "    </tr>\n",
       "    <tr>\n",
       "      <th>2</th>\n",
       "      <td>部门1</td>\n",
       "      <td>小部门2</td>\n",
       "      <td>覃红梅</td>\n",
       "      <td>27166</td>\n",
       "      <td>2020-01-03</td>\n",
       "    </tr>\n",
       "    <tr>\n",
       "      <th>3</th>\n",
       "      <td>部门1</td>\n",
       "      <td>小部门2</td>\n",
       "      <td>柳波</td>\n",
       "      <td>62734</td>\n",
       "      <td>2020-01-04</td>\n",
       "    </tr>\n",
       "    <tr>\n",
       "      <th>4</th>\n",
       "      <td>部门1</td>\n",
       "      <td>小部门2</td>\n",
       "      <td>吕玉</td>\n",
       "      <td>21535</td>\n",
       "      <td>2020-01-05</td>\n",
       "    </tr>\n",
       "    <tr>\n",
       "      <th>5</th>\n",
       "      <td>部门2</td>\n",
       "      <td>小部门3</td>\n",
       "      <td>岳磊</td>\n",
       "      <td>98682</td>\n",
       "      <td>2020-01-06</td>\n",
       "    </tr>\n",
       "    <tr>\n",
       "      <th>6</th>\n",
       "      <td>部门2</td>\n",
       "      <td>小部门4</td>\n",
       "      <td>史博</td>\n",
       "      <td>89210</td>\n",
       "      <td>2020-01-07</td>\n",
       "    </tr>\n",
       "    <tr>\n",
       "      <th>7</th>\n",
       "      <td>部门2</td>\n",
       "      <td>小部门4</td>\n",
       "      <td>周玉梅</td>\n",
       "      <td>484</td>\n",
       "      <td>2020-01-08</td>\n",
       "    </tr>\n",
       "    <tr>\n",
       "      <th>8</th>\n",
       "      <td>部门2</td>\n",
       "      <td>小部门4</td>\n",
       "      <td>李宁</td>\n",
       "      <td>18741</td>\n",
       "      <td>2020-01-09</td>\n",
       "    </tr>\n",
       "    <tr>\n",
       "      <th>9</th>\n",
       "      <td>部门2</td>\n",
       "      <td>小部门4</td>\n",
       "      <td>祝婷</td>\n",
       "      <td>77837</td>\n",
       "      <td>2020-01-10</td>\n",
       "    </tr>\n",
       "  </tbody>\n",
       "</table>\n",
       "</div>"
      ],
      "text/plain": [
       "  dept dept 1 name    销售额         时间\n",
       "0  部门1   小部门1   曹勇  74927 2020-01-01\n",
       "1  部门1    NaN  张丽丽  93559 2020-01-02\n",
       "2  部门1   小部门2  覃红梅  27166 2020-01-03\n",
       "3  部门1   小部门2   柳波  62734 2020-01-04\n",
       "4  部门1   小部门2   吕玉  21535 2020-01-05\n",
       "5  部门2   小部门3   岳磊  98682 2020-01-06\n",
       "6  部门2   小部门4   史博  89210 2020-01-07\n",
       "7  部门2   小部门4  周玉梅    484 2020-01-08\n",
       "8  部门2   小部门4   李宁  18741 2020-01-09\n",
       "9  部门2   小部门4   祝婷  77837 2020-01-10"
      ]
     },
     "execution_count": 3,
     "metadata": {},
     "output_type": "execute_result"
    }
   ],
   "source": [
    "df # 随机生成的数据"
   ]
  },
  {
   "cell_type": "code",
   "execution_count": 4,
   "id": "fdaef8c1",
   "metadata": {
    "execution": {
     "iopub.execute_input": "2021-08-17T07:59:20.677083Z",
     "iopub.status.busy": "2021-08-17T07:59:20.677083Z",
     "iopub.status.idle": "2021-08-17T07:59:20.684072Z",
     "shell.execute_reply": "2021-08-17T07:59:20.684072Z",
     "shell.execute_reply.started": "2021-08-17T07:59:20.677083Z"
    },
    "tags": []
   },
   "outputs": [
    {
     "data": {
      "text/plain": [
       "dept              object\n",
       "dept 1            object\n",
       "name              object\n",
       "销售额                int32\n",
       "时间        datetime64[ns]\n",
       "dtype: object"
      ]
     },
     "execution_count": 4,
     "metadata": {},
     "output_type": "execute_result"
    }
   ],
   "source": [
    "df.dtypes"
   ]
  },
  {
   "cell_type": "code",
   "execution_count": 5,
   "id": "eefc6202-9606-4aa3-8978-82f861a18312",
   "metadata": {
    "execution": {
     "iopub.execute_input": "2021-08-17T07:59:52.739075Z",
     "iopub.status.busy": "2021-08-17T07:59:52.739075Z",
     "iopub.status.idle": "2021-08-17T07:59:52.757072Z",
     "shell.execute_reply": "2021-08-17T07:59:52.757072Z",
     "shell.execute_reply.started": "2021-08-17T07:59:52.739075Z"
    },
    "tags": []
   },
   "outputs": [
    {
     "data": {
      "text/html": [
       "<div>\n",
       "<style scoped>\n",
       "    .dataframe tbody tr th:only-of-type {\n",
       "        vertical-align: middle;\n",
       "    }\n",
       "\n",
       "    .dataframe tbody tr th {\n",
       "        vertical-align: top;\n",
       "    }\n",
       "\n",
       "    .dataframe thead th {\n",
       "        text-align: right;\n",
       "    }\n",
       "</style>\n",
       "<table border=\"1\" class=\"dataframe\">\n",
       "  <thead>\n",
       "    <tr style=\"text-align: right;\">\n",
       "      <th></th>\n",
       "      <th>dept</th>\n",
       "      <th>dept 1</th>\n",
       "      <th>name</th>\n",
       "      <th>销售额</th>\n",
       "      <th>时间</th>\n",
       "    </tr>\n",
       "  </thead>\n",
       "  <tbody>\n",
       "    <tr>\n",
       "      <th>0</th>\n",
       "      <td>部门1</td>\n",
       "      <td>小部门1</td>\n",
       "      <td>曹勇</td>\n",
       "      <td>74927</td>\n",
       "      <td>2020-01-01</td>\n",
       "    </tr>\n",
       "    <tr>\n",
       "      <th>1</th>\n",
       "      <td>部门1</td>\n",
       "      <td>&lt;NA&gt;</td>\n",
       "      <td>张丽丽</td>\n",
       "      <td>93559</td>\n",
       "      <td>2020-01-02</td>\n",
       "    </tr>\n",
       "    <tr>\n",
       "      <th>2</th>\n",
       "      <td>部门1</td>\n",
       "      <td>小部门2</td>\n",
       "      <td>覃红梅</td>\n",
       "      <td>27166</td>\n",
       "      <td>2020-01-03</td>\n",
       "    </tr>\n",
       "    <tr>\n",
       "      <th>3</th>\n",
       "      <td>部门1</td>\n",
       "      <td>小部门2</td>\n",
       "      <td>柳波</td>\n",
       "      <td>62734</td>\n",
       "      <td>2020-01-04</td>\n",
       "    </tr>\n",
       "    <tr>\n",
       "      <th>4</th>\n",
       "      <td>部门1</td>\n",
       "      <td>小部门2</td>\n",
       "      <td>吕玉</td>\n",
       "      <td>21535</td>\n",
       "      <td>2020-01-05</td>\n",
       "    </tr>\n",
       "    <tr>\n",
       "      <th>5</th>\n",
       "      <td>部门2</td>\n",
       "      <td>小部门3</td>\n",
       "      <td>岳磊</td>\n",
       "      <td>98682</td>\n",
       "      <td>2020-01-06</td>\n",
       "    </tr>\n",
       "    <tr>\n",
       "      <th>6</th>\n",
       "      <td>部门2</td>\n",
       "      <td>小部门4</td>\n",
       "      <td>史博</td>\n",
       "      <td>89210</td>\n",
       "      <td>2020-01-07</td>\n",
       "    </tr>\n",
       "    <tr>\n",
       "      <th>7</th>\n",
       "      <td>部门2</td>\n",
       "      <td>小部门4</td>\n",
       "      <td>周玉梅</td>\n",
       "      <td>484</td>\n",
       "      <td>2020-01-08</td>\n",
       "    </tr>\n",
       "    <tr>\n",
       "      <th>8</th>\n",
       "      <td>部门2</td>\n",
       "      <td>小部门4</td>\n",
       "      <td>李宁</td>\n",
       "      <td>18741</td>\n",
       "      <td>2020-01-09</td>\n",
       "    </tr>\n",
       "    <tr>\n",
       "      <th>9</th>\n",
       "      <td>部门2</td>\n",
       "      <td>小部门4</td>\n",
       "      <td>祝婷</td>\n",
       "      <td>77837</td>\n",
       "      <td>2020-01-10</td>\n",
       "    </tr>\n",
       "  </tbody>\n",
       "</table>\n",
       "</div>"
      ],
      "text/plain": [
       "  dept dept 1 name    销售额         时间\n",
       "0  部门1   小部门1   曹勇  74927 2020-01-01\n",
       "1  部门1   <NA>  张丽丽  93559 2020-01-02\n",
       "2  部门1   小部门2  覃红梅  27166 2020-01-03\n",
       "3  部门1   小部门2   柳波  62734 2020-01-04\n",
       "4  部门1   小部门2   吕玉  21535 2020-01-05\n",
       "5  部门2   小部门3   岳磊  98682 2020-01-06\n",
       "6  部门2   小部门4   史博  89210 2020-01-07\n",
       "7  部门2   小部门4  周玉梅    484 2020-01-08\n",
       "8  部门2   小部门4   李宁  18741 2020-01-09\n",
       "9  部门2   小部门4   祝婷  77837 2020-01-10"
      ]
     },
     "execution_count": 5,
     "metadata": {},
     "output_type": "execute_result"
    }
   ],
   "source": [
    "df.convert_dtypes() # 转换成可能的类型（更合适精确）"
   ]
  },
  {
   "cell_type": "code",
   "execution_count": 6,
   "id": "376432e7-5703-481f-8672-2a556bbd1bc4",
   "metadata": {
    "execution": {
     "iopub.execute_input": "2021-08-17T08:00:03.812113Z",
     "iopub.status.busy": "2021-08-17T08:00:03.811078Z",
     "iopub.status.idle": "2021-08-17T08:00:03.826078Z",
     "shell.execute_reply": "2021-08-17T08:00:03.824073Z",
     "shell.execute_reply.started": "2021-08-17T08:00:03.812113Z"
    },
    "tags": []
   },
   "outputs": [
    {
     "data": {
      "text/plain": [
       "dept              string\n",
       "dept 1            string\n",
       "name              string\n",
       "销售额                Int32\n",
       "时间        datetime64[ns]\n",
       "dtype: object"
      ]
     },
     "execution_count": 6,
     "metadata": {},
     "output_type": "execute_result"
    }
   ],
   "source": [
    "df.convert_dtypes().dtypes"
   ]
  },
  {
   "cell_type": "code",
   "execution_count": 7,
   "id": "dd3965ba-9f87-4b15-a357-cd95d3655665",
   "metadata": {
    "execution": {
     "iopub.execute_input": "2021-08-17T08:01:17.668072Z",
     "iopub.status.busy": "2021-08-17T08:01:17.668072Z",
     "iopub.status.idle": "2021-08-17T08:01:17.686071Z",
     "shell.execute_reply": "2021-08-17T08:01:17.686071Z",
     "shell.execute_reply.started": "2021-08-17T08:01:17.668072Z"
    },
    "tags": []
   },
   "outputs": [
    {
     "data": {
      "text/html": [
       "<div>\n",
       "<style scoped>\n",
       "    .dataframe tbody tr th:only-of-type {\n",
       "        vertical-align: middle;\n",
       "    }\n",
       "\n",
       "    .dataframe tbody tr th {\n",
       "        vertical-align: top;\n",
       "    }\n",
       "\n",
       "    .dataframe thead th {\n",
       "        text-align: right;\n",
       "    }\n",
       "</style>\n",
       "<table border=\"1\" class=\"dataframe\">\n",
       "  <thead>\n",
       "    <tr style=\"text-align: right;\">\n",
       "      <th></th>\n",
       "      <th>dept</th>\n",
       "      <th>dept 1</th>\n",
       "      <th>name</th>\n",
       "      <th>销售额</th>\n",
       "      <th>时间</th>\n",
       "    </tr>\n",
       "  </thead>\n",
       "  <tbody>\n",
       "    <tr>\n",
       "      <th>0</th>\n",
       "      <td>部门1</td>\n",
       "      <td>小部门1</td>\n",
       "      <td>曹勇</td>\n",
       "      <td>74927</td>\n",
       "      <td>2020-01-01</td>\n",
       "    </tr>\n",
       "    <tr>\n",
       "      <th>1</th>\n",
       "      <td>部门1</td>\n",
       "      <td>NaN</td>\n",
       "      <td>张丽丽</td>\n",
       "      <td>93559</td>\n",
       "      <td>2020-01-02</td>\n",
       "    </tr>\n",
       "    <tr>\n",
       "      <th>2</th>\n",
       "      <td>部门1</td>\n",
       "      <td>小部门2</td>\n",
       "      <td>覃红梅</td>\n",
       "      <td>27166</td>\n",
       "      <td>2020-01-03</td>\n",
       "    </tr>\n",
       "    <tr>\n",
       "      <th>3</th>\n",
       "      <td>部门1</td>\n",
       "      <td>小部门2</td>\n",
       "      <td>柳波</td>\n",
       "      <td>62734</td>\n",
       "      <td>2020-01-04</td>\n",
       "    </tr>\n",
       "    <tr>\n",
       "      <th>4</th>\n",
       "      <td>部门1</td>\n",
       "      <td>小部门2</td>\n",
       "      <td>吕玉</td>\n",
       "      <td>21535</td>\n",
       "      <td>2020-01-05</td>\n",
       "    </tr>\n",
       "    <tr>\n",
       "      <th>5</th>\n",
       "      <td>部门2</td>\n",
       "      <td>小部门3</td>\n",
       "      <td>岳磊</td>\n",
       "      <td>98682</td>\n",
       "      <td>2020-01-06</td>\n",
       "    </tr>\n",
       "    <tr>\n",
       "      <th>6</th>\n",
       "      <td>部门2</td>\n",
       "      <td>小部门4</td>\n",
       "      <td>史博</td>\n",
       "      <td>89210</td>\n",
       "      <td>2020-01-07</td>\n",
       "    </tr>\n",
       "    <tr>\n",
       "      <th>7</th>\n",
       "      <td>部门2</td>\n",
       "      <td>小部门4</td>\n",
       "      <td>周玉梅</td>\n",
       "      <td>484</td>\n",
       "      <td>2020-01-08</td>\n",
       "    </tr>\n",
       "    <tr>\n",
       "      <th>8</th>\n",
       "      <td>部门2</td>\n",
       "      <td>小部门4</td>\n",
       "      <td>李宁</td>\n",
       "      <td>18741</td>\n",
       "      <td>2020-01-09</td>\n",
       "    </tr>\n",
       "    <tr>\n",
       "      <th>9</th>\n",
       "      <td>部门2</td>\n",
       "      <td>小部门4</td>\n",
       "      <td>祝婷</td>\n",
       "      <td>77837</td>\n",
       "      <td>2020-01-10</td>\n",
       "    </tr>\n",
       "  </tbody>\n",
       "</table>\n",
       "</div>"
      ],
      "text/plain": [
       "  dept dept 1 name    销售额         时间\n",
       "0  部门1   小部门1   曹勇  74927 2020-01-01\n",
       "1  部门1    NaN  张丽丽  93559 2020-01-02\n",
       "2  部门1   小部门2  覃红梅  27166 2020-01-03\n",
       "3  部门1   小部门2   柳波  62734 2020-01-04\n",
       "4  部门1   小部门2   吕玉  21535 2020-01-05\n",
       "5  部门2   小部门3   岳磊  98682 2020-01-06\n",
       "6  部门2   小部门4   史博  89210 2020-01-07\n",
       "7  部门2   小部门4  周玉梅    484 2020-01-08\n",
       "8  部门2   小部门4   李宁  18741 2020-01-09\n",
       "9  部门2   小部门4   祝婷  77837 2020-01-10"
      ]
     },
     "execution_count": 7,
     "metadata": {},
     "output_type": "execute_result"
    }
   ],
   "source": [
    "df.convert_dtypes(convert_string=False) # 转换成可能的类型（更合适精确）"
   ]
  },
  {
   "cell_type": "code",
   "execution_count": 8,
   "id": "8297520a-6638-42e5-bf61-e178c96981f9",
   "metadata": {
    "execution": {
     "iopub.execute_input": "2021-08-17T08:01:31.199088Z",
     "iopub.status.busy": "2021-08-17T08:01:31.199088Z",
     "iopub.status.idle": "2021-08-17T08:01:31.208080Z",
     "shell.execute_reply": "2021-08-17T08:01:31.207108Z",
     "shell.execute_reply.started": "2021-08-17T08:01:31.199088Z"
    },
    "tags": []
   },
   "outputs": [
    {
     "data": {
      "text/plain": [
       "dept              object\n",
       "dept 1            object\n",
       "name              object\n",
       "销售额                Int32\n",
       "时间        datetime64[ns]\n",
       "dtype: object"
      ]
     },
     "execution_count": 8,
     "metadata": {},
     "output_type": "execute_result"
    }
   ],
   "source": [
    "df.convert_dtypes(convert_string=False).dtypes # 转换成可能的类型（更合适精确）\n",
    "# 参数 ，可以指定不转换某些可能的类型，此处不转化可能的string类型。注意，string和pd.NA是pandas中新的特定类型"
   ]
  },
  {
   "cell_type": "code",
   "execution_count": 9,
   "id": "473a3c88-0e5e-4996-bba9-580ef35d9883",
   "metadata": {
    "execution": {
     "iopub.execute_input": "2021-08-17T08:03:16.900073Z",
     "iopub.status.busy": "2021-08-17T08:03:16.899081Z",
     "iopub.status.idle": "2021-08-17T08:03:16.907084Z",
     "shell.execute_reply": "2021-08-17T08:03:16.906073Z",
     "shell.execute_reply.started": "2021-08-17T08:03:16.900073Z"
    },
    "tags": []
   },
   "outputs": [
    {
     "data": {
      "text/html": [
       "<div>\n",
       "<style scoped>\n",
       "    .dataframe tbody tr th:only-of-type {\n",
       "        vertical-align: middle;\n",
       "    }\n",
       "\n",
       "    .dataframe tbody tr th {\n",
       "        vertical-align: top;\n",
       "    }\n",
       "\n",
       "    .dataframe thead th {\n",
       "        text-align: right;\n",
       "    }\n",
       "</style>\n",
       "<table border=\"1\" class=\"dataframe\">\n",
       "  <thead>\n",
       "    <tr style=\"text-align: right;\">\n",
       "      <th></th>\n",
       "      <th>A</th>\n",
       "    </tr>\n",
       "  </thead>\n",
       "  <tbody>\n",
       "    <tr>\n",
       "      <th>0</th>\n",
       "      <td>a</td>\n",
       "    </tr>\n",
       "    <tr>\n",
       "      <th>1</th>\n",
       "      <td>1</td>\n",
       "    </tr>\n",
       "    <tr>\n",
       "      <th>2</th>\n",
       "      <td>2</td>\n",
       "    </tr>\n",
       "    <tr>\n",
       "      <th>3</th>\n",
       "      <td>3</td>\n",
       "    </tr>\n",
       "  </tbody>\n",
       "</table>\n",
       "</div>"
      ],
      "text/plain": [
       "   A\n",
       "0  a\n",
       "1  1\n",
       "2  2\n",
       "3  3"
      ]
     },
     "execution_count": 9,
     "metadata": {},
     "output_type": "execute_result"
    }
   ],
   "source": [
    "df2"
   ]
  },
  {
   "cell_type": "code",
   "execution_count": 10,
   "id": "c45f4998-5707-40c7-86c7-33848a24ec56",
   "metadata": {
    "execution": {
     "iopub.execute_input": "2021-08-17T08:03:26.836073Z",
     "iopub.status.busy": "2021-08-17T08:03:26.835077Z",
     "iopub.status.idle": "2021-08-17T08:03:26.843072Z",
     "shell.execute_reply": "2021-08-17T08:03:26.842075Z",
     "shell.execute_reply.started": "2021-08-17T08:03:26.836073Z"
    },
    "tags": []
   },
   "outputs": [
    {
     "data": {
      "text/plain": [
       "A    object\n",
       "dtype: object"
      ]
     },
     "execution_count": 10,
     "metadata": {},
     "output_type": "execute_result"
    }
   ],
   "source": [
    "df2.dtypes"
   ]
  },
  {
   "cell_type": "code",
   "execution_count": 11,
   "id": "bca38798-d40e-4783-9752-9d16418519da",
   "metadata": {
    "execution": {
     "iopub.execute_input": "2021-08-17T08:03:57.180073Z",
     "iopub.status.busy": "2021-08-17T08:03:57.180073Z",
     "iopub.status.idle": "2021-08-17T08:03:57.183072Z",
     "shell.execute_reply": "2021-08-17T08:03:57.183072Z",
     "shell.execute_reply.started": "2021-08-17T08:03:57.180073Z"
    },
    "tags": []
   },
   "outputs": [],
   "source": [
    "df3=df2[1:]"
   ]
  },
  {
   "cell_type": "code",
   "execution_count": 12,
   "id": "130d13ec-31be-4085-8544-c2dfdacae05e",
   "metadata": {
    "execution": {
     "iopub.execute_input": "2021-08-17T08:04:02.526090Z",
     "iopub.status.busy": "2021-08-17T08:04:02.525073Z",
     "iopub.status.idle": "2021-08-17T08:04:02.532104Z",
     "shell.execute_reply": "2021-08-17T08:04:02.532104Z",
     "shell.execute_reply.started": "2021-08-17T08:04:02.526090Z"
    },
    "tags": []
   },
   "outputs": [
    {
     "data": {
      "text/html": [
       "<div>\n",
       "<style scoped>\n",
       "    .dataframe tbody tr th:only-of-type {\n",
       "        vertical-align: middle;\n",
       "    }\n",
       "\n",
       "    .dataframe tbody tr th {\n",
       "        vertical-align: top;\n",
       "    }\n",
       "\n",
       "    .dataframe thead th {\n",
       "        text-align: right;\n",
       "    }\n",
       "</style>\n",
       "<table border=\"1\" class=\"dataframe\">\n",
       "  <thead>\n",
       "    <tr style=\"text-align: right;\">\n",
       "      <th></th>\n",
       "      <th>A</th>\n",
       "    </tr>\n",
       "  </thead>\n",
       "  <tbody>\n",
       "    <tr>\n",
       "      <th>1</th>\n",
       "      <td>1</td>\n",
       "    </tr>\n",
       "    <tr>\n",
       "      <th>2</th>\n",
       "      <td>2</td>\n",
       "    </tr>\n",
       "    <tr>\n",
       "      <th>3</th>\n",
       "      <td>3</td>\n",
       "    </tr>\n",
       "  </tbody>\n",
       "</table>\n",
       "</div>"
      ],
      "text/plain": [
       "   A\n",
       "1  1\n",
       "2  2\n",
       "3  3"
      ]
     },
     "execution_count": 12,
     "metadata": {},
     "output_type": "execute_result"
    }
   ],
   "source": [
    "df3"
   ]
  },
  {
   "cell_type": "code",
   "execution_count": 13,
   "id": "f35e7736-b3cb-46f7-aba6-909835b3aa3b",
   "metadata": {
    "execution": {
     "iopub.execute_input": "2021-08-17T08:04:12.973079Z",
     "iopub.status.busy": "2021-08-17T08:04:12.972083Z",
     "iopub.status.idle": "2021-08-17T08:04:12.979103Z",
     "shell.execute_reply": "2021-08-17T08:04:12.979103Z",
     "shell.execute_reply.started": "2021-08-17T08:04:12.973079Z"
    },
    "tags": []
   },
   "outputs": [
    {
     "data": {
      "text/plain": [
       "A    object\n",
       "dtype: object"
      ]
     },
     "execution_count": 13,
     "metadata": {},
     "output_type": "execute_result"
    }
   ],
   "source": [
    "df3.dtypes"
   ]
  },
  {
   "cell_type": "code",
   "execution_count": 14,
   "id": "432a6acc-bdb7-4d7f-8646-b2873eea10f3",
   "metadata": {
    "execution": {
     "iopub.execute_input": "2021-08-17T08:04:26.660078Z",
     "iopub.status.busy": "2021-08-17T08:04:26.659079Z",
     "iopub.status.idle": "2021-08-17T08:04:26.669079Z",
     "shell.execute_reply": "2021-08-17T08:04:26.668078Z",
     "shell.execute_reply.started": "2021-08-17T08:04:26.660078Z"
    },
    "tags": []
   },
   "outputs": [
    {
     "data": {
      "text/plain": [
       "A    int64\n",
       "dtype: object"
      ]
     },
     "execution_count": 14,
     "metadata": {},
     "output_type": "execute_result"
    }
   ],
   "source": [
    "df3.infer_objects().dtypes # 推断可能的类型"
   ]
  }
 ],
 "metadata": {
  "kernelspec": {
   "display_name": "Python 3 (ipykernel)",
   "language": "python",
   "name": "python3"
  },
  "language_info": {
   "codemirror_mode": {
    "name": "ipython",
    "version": 3
   },
   "file_extension": ".py",
   "mimetype": "text/x-python",
   "name": "python",
   "nbconvert_exporter": "python",
   "pygments_lexer": "ipython3",
   "version": "3.8.10"
  }
 },
 "nbformat": 4,
 "nbformat_minor": 5
}
