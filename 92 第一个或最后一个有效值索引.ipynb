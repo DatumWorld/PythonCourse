{
 "cells": [
  {
   "cell_type": "markdown",
   "id": "fe95639a",
   "metadata": {
    "execution": {
     "iopub.execute_input": "2021-05-10T07:18:52.990449Z",
     "iopub.status.busy": "2021-05-10T07:18:52.990449Z",
     "iopub.status.idle": "2021-05-10T07:18:52.994464Z",
     "shell.execute_reply": "2021-05-10T07:18:52.993452Z",
     "shell.execute_reply.started": "2021-05-10T07:18:52.990449Z"
    }
   },
   "source": [
    "## 92 第一个或最后一个有效值索引"
   ]
  },
  {
   "cell_type": "markdown",
   "id": "0ddac84a",
   "metadata": {
    "tags": []
   },
   "source": [
    "### first_valid_index 返回第一个非空值的索引\n",
    "### last_valid_index 返回最后一个非空值的索引\n",
    "### 这里，有效值就是指 非空（na）元素"
   ]
  },
  {
   "cell_type": "code",
   "execution_count": 8,
   "id": "5d61795b",
   "metadata": {
    "execution": {
     "iopub.execute_input": "2021-08-19T03:18:14.031902Z",
     "iopub.status.busy": "2021-08-19T03:18:14.031902Z",
     "iopub.status.idle": "2021-08-19T03:18:14.075896Z",
     "shell.execute_reply": "2021-08-19T03:18:14.075896Z",
     "shell.execute_reply.started": "2021-08-19T03:18:14.031902Z"
    },
    "tags": []
   },
   "outputs": [],
   "source": [
    "import numpy  as np\n",
    "import pandas as pd\n",
    "from faker import Faker\n",
    "\n",
    "fake = Faker('zh_CN')\n",
    "df=pd.DataFrame(data=[ [fake.name()] for x in range(10) ],columns=['name'])\n",
    "\n",
    "df['销售额']=np.random.randint(100,100000,size=(10, 1))\n",
    "df['时间']=pd.date_range(start='2020-01-01',periods=10,freq='D')\n",
    "df.insert(0,'dept',['部门1']*5+['部门2']*5)\n",
    "df.insert(1,'dept 1',['小部门1']*2+['小部门2']*3+['小部门3']*1+['小部门4']*4)\n",
    "df.iloc[[0,9],[3]]=np.nan #  修改成nan"
   ]
  },
  {
   "cell_type": "markdown",
   "id": "cde7d4a7",
   "metadata": {
    "tags": []
   },
   "source": [
    "### 演示数据"
   ]
  },
  {
   "cell_type": "code",
   "execution_count": 9,
   "id": "5ff3889a",
   "metadata": {
    "execution": {
     "iopub.execute_input": "2021-08-19T03:18:16.046903Z",
     "iopub.status.busy": "2021-08-19T03:18:16.046903Z",
     "iopub.status.idle": "2021-08-19T03:18:16.060902Z",
     "shell.execute_reply": "2021-08-19T03:18:16.059901Z",
     "shell.execute_reply.started": "2021-08-19T03:18:16.046903Z"
    },
    "tags": []
   },
   "outputs": [
    {
     "data": {
      "text/html": [
       "<div>\n",
       "<style scoped>\n",
       "    .dataframe tbody tr th:only-of-type {\n",
       "        vertical-align: middle;\n",
       "    }\n",
       "\n",
       "    .dataframe tbody tr th {\n",
       "        vertical-align: top;\n",
       "    }\n",
       "\n",
       "    .dataframe thead th {\n",
       "        text-align: right;\n",
       "    }\n",
       "</style>\n",
       "<table border=\"1\" class=\"dataframe\">\n",
       "  <thead>\n",
       "    <tr style=\"text-align: right;\">\n",
       "      <th></th>\n",
       "      <th>dept</th>\n",
       "      <th>dept 1</th>\n",
       "      <th>name</th>\n",
       "      <th>销售额</th>\n",
       "      <th>时间</th>\n",
       "    </tr>\n",
       "  </thead>\n",
       "  <tbody>\n",
       "    <tr>\n",
       "      <th>0</th>\n",
       "      <td>部门1</td>\n",
       "      <td>小部门1</td>\n",
       "      <td>黄华</td>\n",
       "      <td>NaN</td>\n",
       "      <td>2020-01-01</td>\n",
       "    </tr>\n",
       "    <tr>\n",
       "      <th>1</th>\n",
       "      <td>部门1</td>\n",
       "      <td>小部门1</td>\n",
       "      <td>周玉英</td>\n",
       "      <td>10120.0</td>\n",
       "      <td>2020-01-02</td>\n",
       "    </tr>\n",
       "    <tr>\n",
       "      <th>2</th>\n",
       "      <td>部门1</td>\n",
       "      <td>小部门2</td>\n",
       "      <td>刘玉珍</td>\n",
       "      <td>54946.0</td>\n",
       "      <td>2020-01-03</td>\n",
       "    </tr>\n",
       "    <tr>\n",
       "      <th>3</th>\n",
       "      <td>部门1</td>\n",
       "      <td>小部门2</td>\n",
       "      <td>李娟</td>\n",
       "      <td>46189.0</td>\n",
       "      <td>2020-01-04</td>\n",
       "    </tr>\n",
       "    <tr>\n",
       "      <th>4</th>\n",
       "      <td>部门1</td>\n",
       "      <td>小部门2</td>\n",
       "      <td>曲桂英</td>\n",
       "      <td>67862.0</td>\n",
       "      <td>2020-01-05</td>\n",
       "    </tr>\n",
       "    <tr>\n",
       "      <th>5</th>\n",
       "      <td>部门2</td>\n",
       "      <td>小部门3</td>\n",
       "      <td>郑芳</td>\n",
       "      <td>14193.0</td>\n",
       "      <td>2020-01-06</td>\n",
       "    </tr>\n",
       "    <tr>\n",
       "      <th>6</th>\n",
       "      <td>部门2</td>\n",
       "      <td>小部门4</td>\n",
       "      <td>王淑英</td>\n",
       "      <td>93215.0</td>\n",
       "      <td>2020-01-07</td>\n",
       "    </tr>\n",
       "    <tr>\n",
       "      <th>7</th>\n",
       "      <td>部门2</td>\n",
       "      <td>小部门4</td>\n",
       "      <td>郭丽</td>\n",
       "      <td>77822.0</td>\n",
       "      <td>2020-01-08</td>\n",
       "    </tr>\n",
       "    <tr>\n",
       "      <th>8</th>\n",
       "      <td>部门2</td>\n",
       "      <td>小部门4</td>\n",
       "      <td>傅辉</td>\n",
       "      <td>27265.0</td>\n",
       "      <td>2020-01-09</td>\n",
       "    </tr>\n",
       "    <tr>\n",
       "      <th>9</th>\n",
       "      <td>部门2</td>\n",
       "      <td>小部门4</td>\n",
       "      <td>罗琳</td>\n",
       "      <td>NaN</td>\n",
       "      <td>2020-01-10</td>\n",
       "    </tr>\n",
       "  </tbody>\n",
       "</table>\n",
       "</div>"
      ],
      "text/plain": [
       "  dept dept 1 name      销售额         时间\n",
       "0  部门1   小部门1   黄华      NaN 2020-01-01\n",
       "1  部门1   小部门1  周玉英  10120.0 2020-01-02\n",
       "2  部门1   小部门2  刘玉珍  54946.0 2020-01-03\n",
       "3  部门1   小部门2   李娟  46189.0 2020-01-04\n",
       "4  部门1   小部门2  曲桂英  67862.0 2020-01-05\n",
       "5  部门2   小部门3   郑芳  14193.0 2020-01-06\n",
       "6  部门2   小部门4  王淑英  93215.0 2020-01-07\n",
       "7  部门2   小部门4   郭丽  77822.0 2020-01-08\n",
       "8  部门2   小部门4   傅辉  27265.0 2020-01-09\n",
       "9  部门2   小部门4   罗琳      NaN 2020-01-10"
      ]
     },
     "execution_count": 9,
     "metadata": {},
     "output_type": "execute_result"
    }
   ],
   "source": [
    "df"
   ]
  },
  {
   "cell_type": "code",
   "execution_count": 18,
   "id": "48252226-b5fe-4f33-bb44-59e3de88bfc2",
   "metadata": {
    "execution": {
     "iopub.execute_input": "2021-08-19T03:27:18.702901Z",
     "iopub.status.busy": "2021-08-19T03:27:18.701905Z",
     "iopub.status.idle": "2021-08-19T03:27:18.708905Z",
     "shell.execute_reply": "2021-08-19T03:27:18.707904Z",
     "shell.execute_reply.started": "2021-08-19T03:27:18.702901Z"
    },
    "tags": []
   },
   "outputs": [
    {
     "data": {
      "text/plain": [
       "8"
      ]
     },
     "execution_count": 18,
     "metadata": {},
     "output_type": "execute_result"
    }
   ],
   "source": [
    "df.销售额.last_valid_index() # 倒数第二个元素才是非空，返回索引8\n",
    "# 两者用法类似，不再重复举例"
   ]
  },
  {
   "cell_type": "code",
   "execution_count": 17,
   "id": "ba47da5c-202e-4661-9dc3-dd4a51ed6634",
   "metadata": {
    "execution": {
     "iopub.execute_input": "2021-08-19T03:26:53.226904Z",
     "iopub.status.busy": "2021-08-19T03:26:53.226904Z",
     "iopub.status.idle": "2021-08-19T03:26:53.231902Z",
     "shell.execute_reply": "2021-08-19T03:26:53.231902Z",
     "shell.execute_reply.started": "2021-08-19T03:26:53.226904Z"
    },
    "tags": []
   },
   "outputs": [
    {
     "data": {
      "text/plain": [
       "27265.0"
      ]
     },
     "execution_count": 17,
     "metadata": {},
     "output_type": "execute_result"
    }
   ],
   "source": [
    "df.销售额[df.销售额.last_valid_index()]  # 获取到最后一个非空元素"
   ]
  },
  {
   "cell_type": "code",
   "execution_count": 16,
   "id": "3b955924-6ee3-409a-a73f-2eb9555563b5",
   "metadata": {
    "execution": {
     "iopub.execute_input": "2021-08-19T03:25:40.142903Z",
     "iopub.status.busy": "2021-08-19T03:25:40.142903Z",
     "iopub.status.idle": "2021-08-19T03:25:40.148902Z",
     "shell.execute_reply": "2021-08-19T03:25:40.147904Z",
     "shell.execute_reply.started": "2021-08-19T03:25:40.142903Z"
    },
    "tags": []
   },
   "outputs": [
    {
     "data": {
      "text/plain": [
       "10120.0"
      ]
     },
     "execution_count": 16,
     "metadata": {},
     "output_type": "execute_result"
    }
   ],
   "source": [
    "df.销售额[df.销售额.first_valid_index()]  # 获取到第一个非空元素"
   ]
  },
  {
   "cell_type": "code",
   "execution_count": 15,
   "id": "1f6aaa9d-d6a4-437d-b50a-a3cb084a878e",
   "metadata": {
    "execution": {
     "iopub.execute_input": "2021-08-19T03:24:54.313902Z",
     "iopub.status.busy": "2021-08-19T03:24:54.313902Z",
     "iopub.status.idle": "2021-08-19T03:24:54.321904Z",
     "shell.execute_reply": "2021-08-19T03:24:54.320901Z",
     "shell.execute_reply.started": "2021-08-19T03:24:54.313902Z"
    },
    "tags": []
   },
   "outputs": [
    {
     "data": {
      "text/plain": [
       "dept                      部门1\n",
       "dept 1                   小部门1\n",
       "name                      周玉英\n",
       "销售额                   10120.0\n",
       "时间        2020-01-02 00:00:00\n",
       "Name: 1, dtype: object"
      ]
     },
     "execution_count": 15,
     "metadata": {},
     "output_type": "execute_result"
    }
   ],
   "source": [
    "df.iloc[df.销售额.first_valid_index(),:] # 获取到这一行"
   ]
  },
  {
   "cell_type": "code",
   "execution_count": 13,
   "id": "d970efed-dd1e-49ae-b2ee-78afd9217268",
   "metadata": {
    "execution": {
     "iopub.execute_input": "2021-08-19T03:23:08.483902Z",
     "iopub.status.busy": "2021-08-19T03:23:08.483902Z",
     "iopub.status.idle": "2021-08-19T03:23:08.490904Z",
     "shell.execute_reply": "2021-08-19T03:23:08.490904Z",
     "shell.execute_reply.started": "2021-08-19T03:23:08.483902Z"
    },
    "tags": []
   },
   "outputs": [
    {
     "data": {
      "text/plain": [
       "1"
      ]
     },
     "execution_count": 13,
     "metadata": {},
     "output_type": "execute_result"
    }
   ],
   "source": [
    "df.销售额.first_valid_index() # 第二个元素才是非空，返回索引1"
   ]
  },
  {
   "cell_type": "code",
   "execution_count": 12,
   "id": "f105234c-5684-4d1a-bd99-b48055d19e45",
   "metadata": {
    "execution": {
     "iopub.execute_input": "2021-08-19T03:22:48.440903Z",
     "iopub.status.busy": "2021-08-19T03:22:48.439900Z",
     "iopub.status.idle": "2021-08-19T03:22:48.448901Z",
     "shell.execute_reply": "2021-08-19T03:22:48.447901Z",
     "shell.execute_reply.started": "2021-08-19T03:22:48.440903Z"
    },
    "tags": []
   },
   "outputs": [
    {
     "data": {
      "text/plain": [
       "0"
      ]
     },
     "execution_count": 12,
     "metadata": {},
     "output_type": "execute_result"
    }
   ],
   "source": [
    "df.first_valid_index()  # 第一行非空"
   ]
  }
 ],
 "metadata": {
  "kernelspec": {
   "display_name": "Python 3 (ipykernel)",
   "language": "python",
   "name": "python3"
  },
  "language_info": {
   "codemirror_mode": {
    "name": "ipython",
    "version": 3
   },
   "file_extension": ".py",
   "mimetype": "text/x-python",
   "name": "python",
   "nbconvert_exporter": "python",
   "pygments_lexer": "ipython3",
   "version": "3.8.10"
  }
 },
 "nbformat": 4,
 "nbformat_minor": 5
}
