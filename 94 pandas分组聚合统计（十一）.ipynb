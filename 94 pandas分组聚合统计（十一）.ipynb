{
 "cells": [
  {
   "cell_type": "markdown",
   "id": "pharmaceutical-router",
   "metadata": {
    "execution": {
     "iopub.execute_input": "2021-05-10T07:18:52.990449Z",
     "iopub.status.busy": "2021-05-10T07:18:52.990449Z",
     "iopub.status.idle": "2021-05-10T07:18:52.994464Z",
     "shell.execute_reply": "2021-05-10T07:18:52.993452Z",
     "shell.execute_reply.started": "2021-05-10T07:18:52.990449Z"
    }
   },
   "source": [
    "##  94 pandas分组聚合统计（十一）"
   ]
  },
  {
   "cell_type": "markdown",
   "id": "handled-pathology",
   "metadata": {
    "tags": []
   },
   "source": [
    "### 分组聚合统计\n",
    "#### ngroup  给每组标数字，从从开始\n",
    "参数 ascending=True\n",
    "### nth 找出每组中的第nth行\n",
    "参数 n, dropna={‘any’, ‘all’, None}, default None"
   ]
  },
  {
   "cell_type": "code",
   "execution_count": 33,
   "id": "correct-solution",
   "metadata": {
    "execution": {
     "iopub.execute_input": "2021-08-20T06:24:33.432063Z",
     "iopub.status.busy": "2021-08-20T06:24:33.431074Z",
     "iopub.status.idle": "2021-08-20T06:24:33.475090Z",
     "shell.execute_reply": "2021-08-20T06:24:33.475090Z",
     "shell.execute_reply.started": "2021-08-20T06:24:33.432063Z"
    },
    "tags": []
   },
   "outputs": [],
   "source": [
    "import numpy  as np\n",
    "import pandas as pd\n",
    "from faker import Faker\n",
    "\n",
    "fake = Faker('zh_CN')\n",
    "df=pd.DataFrame(data=[ [fake.name()] for x in range(10) ],columns=['name'])\n",
    "df['销售额']=np.random.randint(100,100000,size=(10, 1))\n",
    "df['奖金']=np.random.randint(100,100000,size=(10, 1))\n",
    "df.insert(0,'dept',['部门1']*5+['部门2']*5)\n",
    "df.insert(1,'dept1',['小部门1']*2+['小部门2']*3+['小部门3']*1+['小部门4']*4)\n",
    "df.iloc[0,2]=np.nan # 修改一下"
   ]
  },
  {
   "cell_type": "code",
   "execution_count": 34,
   "id": "russian-cambridge",
   "metadata": {
    "execution": {
     "iopub.execute_input": "2021-08-20T06:24:35.025058Z",
     "iopub.status.busy": "2021-08-20T06:24:35.025058Z",
     "iopub.status.idle": "2021-08-20T06:24:35.035064Z",
     "shell.execute_reply": "2021-08-20T06:24:35.035064Z",
     "shell.execute_reply.started": "2021-08-20T06:24:35.025058Z"
    },
    "tags": []
   },
   "outputs": [
    {
     "data": {
      "text/html": [
       "<div>\n",
       "<style scoped>\n",
       "    .dataframe tbody tr th:only-of-type {\n",
       "        vertical-align: middle;\n",
       "    }\n",
       "\n",
       "    .dataframe tbody tr th {\n",
       "        vertical-align: top;\n",
       "    }\n",
       "\n",
       "    .dataframe thead th {\n",
       "        text-align: right;\n",
       "    }\n",
       "</style>\n",
       "<table border=\"1\" class=\"dataframe\">\n",
       "  <thead>\n",
       "    <tr style=\"text-align: right;\">\n",
       "      <th></th>\n",
       "      <th>dept</th>\n",
       "      <th>dept1</th>\n",
       "      <th>name</th>\n",
       "      <th>销售额</th>\n",
       "      <th>奖金</th>\n",
       "    </tr>\n",
       "  </thead>\n",
       "  <tbody>\n",
       "    <tr>\n",
       "      <th>0</th>\n",
       "      <td>部门1</td>\n",
       "      <td>小部门1</td>\n",
       "      <td>NaN</td>\n",
       "      <td>68079</td>\n",
       "      <td>79509</td>\n",
       "    </tr>\n",
       "    <tr>\n",
       "      <th>1</th>\n",
       "      <td>部门1</td>\n",
       "      <td>小部门1</td>\n",
       "      <td>陈瑞</td>\n",
       "      <td>97371</td>\n",
       "      <td>86469</td>\n",
       "    </tr>\n",
       "    <tr>\n",
       "      <th>2</th>\n",
       "      <td>部门1</td>\n",
       "      <td>小部门2</td>\n",
       "      <td>张萍</td>\n",
       "      <td>43498</td>\n",
       "      <td>96583</td>\n",
       "    </tr>\n",
       "    <tr>\n",
       "      <th>3</th>\n",
       "      <td>部门1</td>\n",
       "      <td>小部门2</td>\n",
       "      <td>刘桂芝</td>\n",
       "      <td>81560</td>\n",
       "      <td>19415</td>\n",
       "    </tr>\n",
       "    <tr>\n",
       "      <th>4</th>\n",
       "      <td>部门1</td>\n",
       "      <td>小部门2</td>\n",
       "      <td>刘丽娟</td>\n",
       "      <td>19386</td>\n",
       "      <td>60902</td>\n",
       "    </tr>\n",
       "    <tr>\n",
       "      <th>5</th>\n",
       "      <td>部门2</td>\n",
       "      <td>小部门3</td>\n",
       "      <td>印海燕</td>\n",
       "      <td>2461</td>\n",
       "      <td>6254</td>\n",
       "    </tr>\n",
       "    <tr>\n",
       "      <th>6</th>\n",
       "      <td>部门2</td>\n",
       "      <td>小部门4</td>\n",
       "      <td>陈雷</td>\n",
       "      <td>13515</td>\n",
       "      <td>15401</td>\n",
       "    </tr>\n",
       "    <tr>\n",
       "      <th>7</th>\n",
       "      <td>部门2</td>\n",
       "      <td>小部门4</td>\n",
       "      <td>周兵</td>\n",
       "      <td>73044</td>\n",
       "      <td>18583</td>\n",
       "    </tr>\n",
       "    <tr>\n",
       "      <th>8</th>\n",
       "      <td>部门2</td>\n",
       "      <td>小部门4</td>\n",
       "      <td>杨秀芳</td>\n",
       "      <td>88959</td>\n",
       "      <td>3466</td>\n",
       "    </tr>\n",
       "    <tr>\n",
       "      <th>9</th>\n",
       "      <td>部门2</td>\n",
       "      <td>小部门4</td>\n",
       "      <td>金丽娟</td>\n",
       "      <td>85271</td>\n",
       "      <td>76301</td>\n",
       "    </tr>\n",
       "  </tbody>\n",
       "</table>\n",
       "</div>"
      ],
      "text/plain": [
       "  dept dept1 name    销售额     奖金\n",
       "0  部门1  小部门1  NaN  68079  79509\n",
       "1  部门1  小部门1   陈瑞  97371  86469\n",
       "2  部门1  小部门2   张萍  43498  96583\n",
       "3  部门1  小部门2  刘桂芝  81560  19415\n",
       "4  部门1  小部门2  刘丽娟  19386  60902\n",
       "5  部门2  小部门3  印海燕   2461   6254\n",
       "6  部门2  小部门4   陈雷  13515  15401\n",
       "7  部门2  小部门4   周兵  73044  18583\n",
       "8  部门2  小部门4  杨秀芳  88959   3466\n",
       "9  部门2  小部门4  金丽娟  85271  76301"
      ]
     },
     "execution_count": 34,
     "metadata": {},
     "output_type": "execute_result"
    }
   ],
   "source": [
    "df # 随机生成的数据"
   ]
  },
  {
   "cell_type": "code",
   "execution_count": 40,
   "id": "ccd55916-e1d9-4afe-b56e-0896339e7e4a",
   "metadata": {
    "execution": {
     "iopub.execute_input": "2021-08-20T06:28:43.341058Z",
     "iopub.status.busy": "2021-08-20T06:28:43.340065Z",
     "iopub.status.idle": "2021-08-20T06:28:43.359065Z",
     "shell.execute_reply": "2021-08-20T06:28:43.357111Z",
     "shell.execute_reply.started": "2021-08-20T06:28:43.341058Z"
    },
    "tags": []
   },
   "outputs": [
    {
     "data": {
      "text/html": [
       "<div>\n",
       "<style scoped>\n",
       "    .dataframe tbody tr th:only-of-type {\n",
       "        vertical-align: middle;\n",
       "    }\n",
       "\n",
       "    .dataframe tbody tr th {\n",
       "        vertical-align: top;\n",
       "    }\n",
       "\n",
       "    .dataframe thead th {\n",
       "        text-align: right;\n",
       "    }\n",
       "</style>\n",
       "<table border=\"1\" class=\"dataframe\">\n",
       "  <thead>\n",
       "    <tr style=\"text-align: right;\">\n",
       "      <th></th>\n",
       "      <th></th>\n",
       "      <th>name</th>\n",
       "      <th>销售额</th>\n",
       "      <th>奖金</th>\n",
       "    </tr>\n",
       "    <tr>\n",
       "      <th>dept</th>\n",
       "      <th>dept1</th>\n",
       "      <th></th>\n",
       "      <th></th>\n",
       "      <th></th>\n",
       "    </tr>\n",
       "  </thead>\n",
       "  <tbody>\n",
       "    <tr>\n",
       "      <th rowspan=\"3\" valign=\"top\">部门1</th>\n",
       "      <th>小部门1</th>\n",
       "      <td>NaN</td>\n",
       "      <td>68079</td>\n",
       "      <td>79509</td>\n",
       "    </tr>\n",
       "    <tr>\n",
       "      <th>小部门2</th>\n",
       "      <td>张萍</td>\n",
       "      <td>43498</td>\n",
       "      <td>96583</td>\n",
       "    </tr>\n",
       "    <tr>\n",
       "      <th>小部门2</th>\n",
       "      <td>刘丽娟</td>\n",
       "      <td>19386</td>\n",
       "      <td>60902</td>\n",
       "    </tr>\n",
       "    <tr>\n",
       "      <th rowspan=\"3\" valign=\"top\">部门2</th>\n",
       "      <th>小部门3</th>\n",
       "      <td>印海燕</td>\n",
       "      <td>2461</td>\n",
       "      <td>6254</td>\n",
       "    </tr>\n",
       "    <tr>\n",
       "      <th>小部门4</th>\n",
       "      <td>陈雷</td>\n",
       "      <td>13515</td>\n",
       "      <td>15401</td>\n",
       "    </tr>\n",
       "    <tr>\n",
       "      <th>小部门4</th>\n",
       "      <td>杨秀芳</td>\n",
       "      <td>88959</td>\n",
       "      <td>3466</td>\n",
       "    </tr>\n",
       "  </tbody>\n",
       "</table>\n",
       "</div>"
      ],
      "text/plain": [
       "           name    销售额     奖金\n",
       "dept dept1                   \n",
       "部门1  小部门1   NaN  68079  79509\n",
       "     小部门2    张萍  43498  96583\n",
       "     小部门2   刘丽娟  19386  60902\n",
       "部门2  小部门3   印海燕   2461   6254\n",
       "     小部门4    陈雷  13515  15401\n",
       "     小部门4   杨秀芳  88959   3466"
      ]
     },
     "execution_count": 40,
     "metadata": {},
     "output_type": "execute_result"
    }
   ],
   "source": [
    "df.groupby(by=['dept','dept1']).nth([0,2]) # 每组第0,2个"
   ]
  },
  {
   "cell_type": "code",
   "execution_count": 39,
   "id": "5882ff11-a613-4511-991b-151c0c5af995",
   "metadata": {
    "execution": {
     "iopub.execute_input": "2021-08-20T06:27:55.816059Z",
     "iopub.status.busy": "2021-08-20T06:27:55.815061Z",
     "iopub.status.idle": "2021-08-20T06:27:55.829063Z",
     "shell.execute_reply": "2021-08-20T06:27:55.829063Z",
     "shell.execute_reply.started": "2021-08-20T06:27:55.816059Z"
    },
    "tags": []
   },
   "outputs": [
    {
     "data": {
      "text/html": [
       "<div>\n",
       "<style scoped>\n",
       "    .dataframe tbody tr th:only-of-type {\n",
       "        vertical-align: middle;\n",
       "    }\n",
       "\n",
       "    .dataframe tbody tr th {\n",
       "        vertical-align: top;\n",
       "    }\n",
       "\n",
       "    .dataframe thead th {\n",
       "        text-align: right;\n",
       "    }\n",
       "</style>\n",
       "<table border=\"1\" class=\"dataframe\">\n",
       "  <thead>\n",
       "    <tr style=\"text-align: right;\">\n",
       "      <th></th>\n",
       "      <th></th>\n",
       "      <th>name</th>\n",
       "      <th>销售额</th>\n",
       "      <th>奖金</th>\n",
       "    </tr>\n",
       "    <tr>\n",
       "      <th>dept</th>\n",
       "      <th>dept1</th>\n",
       "      <th></th>\n",
       "      <th></th>\n",
       "      <th></th>\n",
       "    </tr>\n",
       "  </thead>\n",
       "  <tbody>\n",
       "    <tr>\n",
       "      <th rowspan=\"4\" valign=\"top\">部门1</th>\n",
       "      <th>小部门1</th>\n",
       "      <td>NaN</td>\n",
       "      <td>68079</td>\n",
       "      <td>79509</td>\n",
       "    </tr>\n",
       "    <tr>\n",
       "      <th>小部门1</th>\n",
       "      <td>陈瑞</td>\n",
       "      <td>97371</td>\n",
       "      <td>86469</td>\n",
       "    </tr>\n",
       "    <tr>\n",
       "      <th>小部门2</th>\n",
       "      <td>张萍</td>\n",
       "      <td>43498</td>\n",
       "      <td>96583</td>\n",
       "    </tr>\n",
       "    <tr>\n",
       "      <th>小部门2</th>\n",
       "      <td>刘桂芝</td>\n",
       "      <td>81560</td>\n",
       "      <td>19415</td>\n",
       "    </tr>\n",
       "    <tr>\n",
       "      <th rowspan=\"3\" valign=\"top\">部门2</th>\n",
       "      <th>小部门3</th>\n",
       "      <td>印海燕</td>\n",
       "      <td>2461</td>\n",
       "      <td>6254</td>\n",
       "    </tr>\n",
       "    <tr>\n",
       "      <th>小部门4</th>\n",
       "      <td>陈雷</td>\n",
       "      <td>13515</td>\n",
       "      <td>15401</td>\n",
       "    </tr>\n",
       "    <tr>\n",
       "      <th>小部门4</th>\n",
       "      <td>周兵</td>\n",
       "      <td>73044</td>\n",
       "      <td>18583</td>\n",
       "    </tr>\n",
       "  </tbody>\n",
       "</table>\n",
       "</div>"
      ],
      "text/plain": [
       "           name    销售额     奖金\n",
       "dept dept1                   \n",
       "部门1  小部门1   NaN  68079  79509\n",
       "     小部门1    陈瑞  97371  86469\n",
       "     小部门2    张萍  43498  96583\n",
       "     小部门2   刘桂芝  81560  19415\n",
       "部门2  小部门3   印海燕   2461   6254\n",
       "     小部门4    陈雷  13515  15401\n",
       "     小部门4    周兵  73044  18583"
      ]
     },
     "execution_count": 39,
     "metadata": {},
     "output_type": "execute_result"
    }
   ],
   "source": [
    "df.groupby(by=['dept','dept1']).nth([0,1]) # 每组前两个"
   ]
  },
  {
   "cell_type": "code",
   "execution_count": 47,
   "id": "0cdda7c1-3730-40fa-9ab7-5adae6d5c19c",
   "metadata": {
    "execution": {
     "iopub.execute_input": "2021-08-20T06:31:44.631064Z",
     "iopub.status.busy": "2021-08-20T06:31:44.631064Z",
     "iopub.status.idle": "2021-08-20T06:31:44.653061Z",
     "shell.execute_reply": "2021-08-20T06:31:44.652059Z",
     "shell.execute_reply.started": "2021-08-20T06:31:44.631064Z"
    },
    "tags": []
   },
   "outputs": [
    {
     "data": {
      "text/html": [
       "<div>\n",
       "<style scoped>\n",
       "    .dataframe tbody tr th:only-of-type {\n",
       "        vertical-align: middle;\n",
       "    }\n",
       "\n",
       "    .dataframe tbody tr th {\n",
       "        vertical-align: top;\n",
       "    }\n",
       "\n",
       "    .dataframe thead th {\n",
       "        text-align: right;\n",
       "    }\n",
       "</style>\n",
       "<table border=\"1\" class=\"dataframe\">\n",
       "  <thead>\n",
       "    <tr style=\"text-align: right;\">\n",
       "      <th></th>\n",
       "      <th></th>\n",
       "      <th>name</th>\n",
       "      <th>销售额</th>\n",
       "      <th>奖金</th>\n",
       "    </tr>\n",
       "    <tr>\n",
       "      <th>dept</th>\n",
       "      <th>dept1</th>\n",
       "      <th></th>\n",
       "      <th></th>\n",
       "      <th></th>\n",
       "    </tr>\n",
       "  </thead>\n",
       "  <tbody>\n",
       "    <tr>\n",
       "      <th rowspan=\"2\" valign=\"top\">部门1</th>\n",
       "      <th>小部门1</th>\n",
       "      <td>陈瑞</td>\n",
       "      <td>97371</td>\n",
       "      <td>86469</td>\n",
       "    </tr>\n",
       "    <tr>\n",
       "      <th>小部门2</th>\n",
       "      <td>张萍</td>\n",
       "      <td>43498</td>\n",
       "      <td>96583</td>\n",
       "    </tr>\n",
       "    <tr>\n",
       "      <th rowspan=\"2\" valign=\"top\">部门2</th>\n",
       "      <th>小部门3</th>\n",
       "      <td>印海燕</td>\n",
       "      <td>2461</td>\n",
       "      <td>6254</td>\n",
       "    </tr>\n",
       "    <tr>\n",
       "      <th>小部门4</th>\n",
       "      <td>陈雷</td>\n",
       "      <td>13515</td>\n",
       "      <td>15401</td>\n",
       "    </tr>\n",
       "  </tbody>\n",
       "</table>\n",
       "</div>"
      ],
      "text/plain": [
       "           name    销售额     奖金\n",
       "dept dept1                   \n",
       "部门1  小部门1    陈瑞  97371  86469\n",
       "     小部门2    张萍  43498  96583\n",
       "部门2  小部门3   印海燕   2461   6254\n",
       "     小部门4    陈雷  13515  15401"
      ]
     },
     "execution_count": 47,
     "metadata": {},
     "output_type": "execute_result"
    }
   ],
   "source": [
    "df.groupby(by=['dept','dept1']).nth(0,dropna='any') # 每组第一个。对照dropna 参数带来的区别"
   ]
  },
  {
   "cell_type": "code",
   "execution_count": 46,
   "id": "0dba08fc-e794-40c4-93b3-99f9ed075618",
   "metadata": {
    "execution": {
     "iopub.execute_input": "2021-08-20T06:31:39.763098Z",
     "iopub.status.busy": "2021-08-20T06:31:39.762061Z",
     "iopub.status.idle": "2021-08-20T06:31:39.779117Z",
     "shell.execute_reply": "2021-08-20T06:31:39.778105Z",
     "shell.execute_reply.started": "2021-08-20T06:31:39.763098Z"
    },
    "tags": []
   },
   "outputs": [
    {
     "data": {
      "text/html": [
       "<div>\n",
       "<style scoped>\n",
       "    .dataframe tbody tr th:only-of-type {\n",
       "        vertical-align: middle;\n",
       "    }\n",
       "\n",
       "    .dataframe tbody tr th {\n",
       "        vertical-align: top;\n",
       "    }\n",
       "\n",
       "    .dataframe thead th {\n",
       "        text-align: right;\n",
       "    }\n",
       "</style>\n",
       "<table border=\"1\" class=\"dataframe\">\n",
       "  <thead>\n",
       "    <tr style=\"text-align: right;\">\n",
       "      <th></th>\n",
       "      <th></th>\n",
       "      <th>name</th>\n",
       "      <th>销售额</th>\n",
       "      <th>奖金</th>\n",
       "    </tr>\n",
       "    <tr>\n",
       "      <th>dept</th>\n",
       "      <th>dept1</th>\n",
       "      <th></th>\n",
       "      <th></th>\n",
       "      <th></th>\n",
       "    </tr>\n",
       "  </thead>\n",
       "  <tbody>\n",
       "    <tr>\n",
       "      <th rowspan=\"2\" valign=\"top\">部门1</th>\n",
       "      <th>小部门1</th>\n",
       "      <td>NaN</td>\n",
       "      <td>68079</td>\n",
       "      <td>79509</td>\n",
       "    </tr>\n",
       "    <tr>\n",
       "      <th>小部门2</th>\n",
       "      <td>张萍</td>\n",
       "      <td>43498</td>\n",
       "      <td>96583</td>\n",
       "    </tr>\n",
       "    <tr>\n",
       "      <th rowspan=\"2\" valign=\"top\">部门2</th>\n",
       "      <th>小部门3</th>\n",
       "      <td>印海燕</td>\n",
       "      <td>2461</td>\n",
       "      <td>6254</td>\n",
       "    </tr>\n",
       "    <tr>\n",
       "      <th>小部门4</th>\n",
       "      <td>陈雷</td>\n",
       "      <td>13515</td>\n",
       "      <td>15401</td>\n",
       "    </tr>\n",
       "  </tbody>\n",
       "</table>\n",
       "</div>"
      ],
      "text/plain": [
       "           name    销售额     奖金\n",
       "dept dept1                   \n",
       "部门1  小部门1   NaN  68079  79509\n",
       "     小部门2    张萍  43498  96583\n",
       "部门2  小部门3   印海燕   2461   6254\n",
       "     小部门4    陈雷  13515  15401"
      ]
     },
     "execution_count": 46,
     "metadata": {},
     "output_type": "execute_result"
    }
   ],
   "source": [
    "df.groupby(by=['dept','dept1']).nth(0,dropna='all') # 每组第一个"
   ]
  },
  {
   "cell_type": "code",
   "execution_count": 42,
   "id": "b61993a1-2c68-4e3f-b2ef-e0260a531b49",
   "metadata": {
    "execution": {
     "iopub.execute_input": "2021-08-20T06:30:15.914066Z",
     "iopub.status.busy": "2021-08-20T06:30:15.914066Z",
     "iopub.status.idle": "2021-08-20T06:30:15.930091Z",
     "shell.execute_reply": "2021-08-20T06:30:15.929096Z",
     "shell.execute_reply.started": "2021-08-20T06:30:15.914066Z"
    },
    "tags": []
   },
   "outputs": [
    {
     "data": {
      "text/html": [
       "<div>\n",
       "<style scoped>\n",
       "    .dataframe tbody tr th:only-of-type {\n",
       "        vertical-align: middle;\n",
       "    }\n",
       "\n",
       "    .dataframe tbody tr th {\n",
       "        vertical-align: top;\n",
       "    }\n",
       "\n",
       "    .dataframe thead th {\n",
       "        text-align: right;\n",
       "    }\n",
       "</style>\n",
       "<table border=\"1\" class=\"dataframe\">\n",
       "  <thead>\n",
       "    <tr style=\"text-align: right;\">\n",
       "      <th></th>\n",
       "      <th></th>\n",
       "      <th>name</th>\n",
       "      <th>销售额</th>\n",
       "      <th>奖金</th>\n",
       "    </tr>\n",
       "    <tr>\n",
       "      <th>dept</th>\n",
       "      <th>dept1</th>\n",
       "      <th></th>\n",
       "      <th></th>\n",
       "      <th></th>\n",
       "    </tr>\n",
       "  </thead>\n",
       "  <tbody>\n",
       "    <tr>\n",
       "      <th rowspan=\"2\" valign=\"top\">部门1</th>\n",
       "      <th>小部门1</th>\n",
       "      <td>NaN</td>\n",
       "      <td>68079</td>\n",
       "      <td>79509</td>\n",
       "    </tr>\n",
       "    <tr>\n",
       "      <th>小部门2</th>\n",
       "      <td>张萍</td>\n",
       "      <td>43498</td>\n",
       "      <td>96583</td>\n",
       "    </tr>\n",
       "    <tr>\n",
       "      <th rowspan=\"2\" valign=\"top\">部门2</th>\n",
       "      <th>小部门3</th>\n",
       "      <td>印海燕</td>\n",
       "      <td>2461</td>\n",
       "      <td>6254</td>\n",
       "    </tr>\n",
       "    <tr>\n",
       "      <th>小部门4</th>\n",
       "      <td>陈雷</td>\n",
       "      <td>13515</td>\n",
       "      <td>15401</td>\n",
       "    </tr>\n",
       "  </tbody>\n",
       "</table>\n",
       "</div>"
      ],
      "text/plain": [
       "           name    销售额     奖金\n",
       "dept dept1                   \n",
       "部门1  小部门1   NaN  68079  79509\n",
       "     小部门2    张萍  43498  96583\n",
       "部门2  小部门3   印海燕   2461   6254\n",
       "     小部门4    陈雷  13515  15401"
      ]
     },
     "execution_count": 42,
     "metadata": {},
     "output_type": "execute_result"
    }
   ],
   "source": [
    "df.groupby(by=['dept','dept1']).nth(0,dropna=None) # 每组第一个"
   ]
  },
  {
   "cell_type": "code",
   "execution_count": 35,
   "id": "a11a9317-2134-40b8-8d71-49ec70e7c6fa",
   "metadata": {
    "execution": {
     "iopub.execute_input": "2021-08-20T06:25:17.375063Z",
     "iopub.status.busy": "2021-08-20T06:25:17.374061Z",
     "iopub.status.idle": "2021-08-20T06:25:17.385060Z",
     "shell.execute_reply": "2021-08-20T06:25:17.384062Z",
     "shell.execute_reply.started": "2021-08-20T06:25:17.375063Z"
    },
    "tags": []
   },
   "outputs": [
    {
     "data": {
      "text/plain": [
       "{('部门1', '小部门1'): [0, 1], ('部门1', '小部门2'): [2, 3, 4], ('部门2', '小部门3'): [5], ('部门2', '小部门4'): [6, 7, 8, 9]}"
      ]
     },
     "execution_count": 35,
     "metadata": {},
     "output_type": "execute_result"
    }
   ],
   "source": [
    "df.groupby(by=['dept','dept1']).groups # 打出每个组所拥有的行"
   ]
  },
  {
   "cell_type": "code",
   "execution_count": 36,
   "id": "f69b51d3-b251-443d-b58d-c63a717cacda",
   "metadata": {
    "execution": {
     "iopub.execute_input": "2021-08-20T06:26:05.401066Z",
     "iopub.status.busy": "2021-08-20T06:26:05.400064Z",
     "iopub.status.idle": "2021-08-20T06:26:05.415066Z",
     "shell.execute_reply": "2021-08-20T06:26:05.411064Z",
     "shell.execute_reply.started": "2021-08-20T06:26:05.401066Z"
    },
    "tags": []
   },
   "outputs": [
    {
     "data": {
      "text/plain": [
       "0    0\n",
       "1    0\n",
       "2    1\n",
       "3    1\n",
       "4    1\n",
       "5    2\n",
       "6    3\n",
       "7    3\n",
       "8    3\n",
       "9    3\n",
       "dtype: int64"
      ]
     },
     "execution_count": 36,
     "metadata": {},
     "output_type": "execute_result"
    }
   ],
   "source": [
    "df.groupby(by=['dept','dept1']).ngroup() # 自然数排序，给每行元素标记组"
   ]
  },
  {
   "cell_type": "code",
   "execution_count": 37,
   "id": "e5445dd4-2b3d-4b9c-be13-4ed9e14e3494",
   "metadata": {
    "execution": {
     "iopub.execute_input": "2021-08-20T06:26:58.240059Z",
     "iopub.status.busy": "2021-08-20T06:26:58.240059Z",
     "iopub.status.idle": "2021-08-20T06:26:58.250059Z",
     "shell.execute_reply": "2021-08-20T06:26:58.250059Z",
     "shell.execute_reply.started": "2021-08-20T06:26:58.240059Z"
    },
    "tags": []
   },
   "outputs": [
    {
     "data": {
      "text/plain": [
       "0    3\n",
       "1    3\n",
       "2    2\n",
       "3    2\n",
       "4    2\n",
       "5    1\n",
       "6    0\n",
       "7    0\n",
       "8    0\n",
       "9    0\n",
       "dtype: int64"
      ]
     },
     "execution_count": 37,
     "metadata": {},
     "output_type": "execute_result"
    }
   ],
   "source": [
    "df.groupby(by=['dept','dept1']).ngroup(ascending=False) # 自然数排序，给每行元素标记组。降序"
   ]
  }
 ],
 "metadata": {
  "kernelspec": {
   "display_name": "Python 3 (ipykernel)",
   "language": "python",
   "name": "python3"
  },
  "language_info": {
   "codemirror_mode": {
    "name": "ipython",
    "version": 3
   },
   "file_extension": ".py",
   "mimetype": "text/x-python",
   "name": "python",
   "nbconvert_exporter": "python",
   "pygments_lexer": "ipython3",
   "version": "3.8.10"
  }
 },
 "nbformat": 4,
 "nbformat_minor": 5
}
