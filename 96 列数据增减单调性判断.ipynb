{
 "cells": [
  {
   "cell_type": "markdown",
   "id": "7d5f3045",
   "metadata": {
    "execution": {
     "iopub.execute_input": "2021-05-10T07:18:52.990449Z",
     "iopub.status.busy": "2021-05-10T07:18:52.990449Z",
     "iopub.status.idle": "2021-05-10T07:18:52.994464Z",
     "shell.execute_reply": "2021-05-10T07:18:52.993452Z",
     "shell.execute_reply.started": "2021-05-10T07:18:52.990449Z"
    }
   },
   "source": [
    "##  96 列数据增减单调性判断"
   ]
  },
  {
   "cell_type": "markdown",
   "id": "33cfb4df",
   "metadata": {
    "tags": []
   },
   "source": [
    "### is_monotonic 或 is_monotonic_increasing  判断列数据是否单调增加\n",
    "### is_monotonic_decreasing 判断列数据是否单调减少"
   ]
  },
  {
   "cell_type": "code",
   "execution_count": 1,
   "id": "bb36f330",
   "metadata": {
    "execution": {
     "iopub.execute_input": "2021-08-21T08:56:39.904606Z",
     "iopub.status.busy": "2021-08-21T08:56:39.904291Z",
     "iopub.status.idle": "2021-08-21T08:56:40.241847Z",
     "shell.execute_reply": "2021-08-21T08:56:40.240738Z",
     "shell.execute_reply.started": "2021-08-21T08:56:39.904560Z"
    },
    "tags": []
   },
   "outputs": [],
   "source": [
    "import numpy  as np\n",
    "import pandas as pd\n",
    "from faker import Faker\n",
    "\n",
    "fake = Faker('zh_CN')\n",
    "df=pd.DataFrame(data=[ [fake.name()] for x in range(10) ],columns=['name'])\n",
    "df['销售额']=np.random.randint(100,100000,size=(10, 1))\n",
    "df['奖金']=np.random.randint(100,100000,size=(10, 1))\n",
    "df.insert(0,'dept',['部门1']*5+['部门2']*5)\n",
    "df.insert(1,'dept1',['小部门1']*2+['小部门2']*3+['小部门3']*1+['小部门4']*4)\n",
    "df.iloc[0,2]=np.nan # 修改一下"
   ]
  },
  {
   "cell_type": "code",
   "execution_count": 2,
   "id": "285a8878",
   "metadata": {
    "execution": {
     "iopub.execute_input": "2021-08-21T08:56:40.246635Z",
     "iopub.status.busy": "2021-08-21T08:56:40.246283Z",
     "iopub.status.idle": "2021-08-21T08:56:40.268605Z",
     "shell.execute_reply": "2021-08-21T08:56:40.267660Z",
     "shell.execute_reply.started": "2021-08-21T08:56:40.246604Z"
    },
    "tags": []
   },
   "outputs": [
    {
     "data": {
      "text/html": [
       "<div>\n",
       "<style scoped>\n",
       "    .dataframe tbody tr th:only-of-type {\n",
       "        vertical-align: middle;\n",
       "    }\n",
       "\n",
       "    .dataframe tbody tr th {\n",
       "        vertical-align: top;\n",
       "    }\n",
       "\n",
       "    .dataframe thead th {\n",
       "        text-align: right;\n",
       "    }\n",
       "</style>\n",
       "<table border=\"1\" class=\"dataframe\">\n",
       "  <thead>\n",
       "    <tr style=\"text-align: right;\">\n",
       "      <th></th>\n",
       "      <th>dept</th>\n",
       "      <th>dept1</th>\n",
       "      <th>name</th>\n",
       "      <th>销售额</th>\n",
       "      <th>奖金</th>\n",
       "    </tr>\n",
       "  </thead>\n",
       "  <tbody>\n",
       "    <tr>\n",
       "      <th>0</th>\n",
       "      <td>部门1</td>\n",
       "      <td>小部门1</td>\n",
       "      <td>NaN</td>\n",
       "      <td>22093</td>\n",
       "      <td>51469</td>\n",
       "    </tr>\n",
       "    <tr>\n",
       "      <th>1</th>\n",
       "      <td>部门1</td>\n",
       "      <td>小部门1</td>\n",
       "      <td>姜斌</td>\n",
       "      <td>54907</td>\n",
       "      <td>49911</td>\n",
       "    </tr>\n",
       "    <tr>\n",
       "      <th>2</th>\n",
       "      <td>部门1</td>\n",
       "      <td>小部门2</td>\n",
       "      <td>王建</td>\n",
       "      <td>86532</td>\n",
       "      <td>25457</td>\n",
       "    </tr>\n",
       "    <tr>\n",
       "      <th>3</th>\n",
       "      <td>部门1</td>\n",
       "      <td>小部门2</td>\n",
       "      <td>罗欢</td>\n",
       "      <td>39495</td>\n",
       "      <td>78529</td>\n",
       "    </tr>\n",
       "    <tr>\n",
       "      <th>4</th>\n",
       "      <td>部门1</td>\n",
       "      <td>小部门2</td>\n",
       "      <td>王志强</td>\n",
       "      <td>77351</td>\n",
       "      <td>33243</td>\n",
       "    </tr>\n",
       "    <tr>\n",
       "      <th>5</th>\n",
       "      <td>部门2</td>\n",
       "      <td>小部门3</td>\n",
       "      <td>王春梅</td>\n",
       "      <td>57598</td>\n",
       "      <td>60002</td>\n",
       "    </tr>\n",
       "    <tr>\n",
       "      <th>6</th>\n",
       "      <td>部门2</td>\n",
       "      <td>小部门4</td>\n",
       "      <td>田斌</td>\n",
       "      <td>66531</td>\n",
       "      <td>55450</td>\n",
       "    </tr>\n",
       "    <tr>\n",
       "      <th>7</th>\n",
       "      <td>部门2</td>\n",
       "      <td>小部门4</td>\n",
       "      <td>宋楠</td>\n",
       "      <td>42943</td>\n",
       "      <td>24999</td>\n",
       "    </tr>\n",
       "    <tr>\n",
       "      <th>8</th>\n",
       "      <td>部门2</td>\n",
       "      <td>小部门4</td>\n",
       "      <td>张玲</td>\n",
       "      <td>57440</td>\n",
       "      <td>37513</td>\n",
       "    </tr>\n",
       "    <tr>\n",
       "      <th>9</th>\n",
       "      <td>部门2</td>\n",
       "      <td>小部门4</td>\n",
       "      <td>彭秀荣</td>\n",
       "      <td>40345</td>\n",
       "      <td>84553</td>\n",
       "    </tr>\n",
       "  </tbody>\n",
       "</table>\n",
       "</div>"
      ],
      "text/plain": [
       "  dept dept1 name    销售额     奖金\n",
       "0  部门1  小部门1  NaN  22093  51469\n",
       "1  部门1  小部门1   姜斌  54907  49911\n",
       "2  部门1  小部门2   王建  86532  25457\n",
       "3  部门1  小部门2   罗欢  39495  78529\n",
       "4  部门1  小部门2  王志强  77351  33243\n",
       "5  部门2  小部门3  王春梅  57598  60002\n",
       "6  部门2  小部门4   田斌  66531  55450\n",
       "7  部门2  小部门4   宋楠  42943  24999\n",
       "8  部门2  小部门4   张玲  57440  37513\n",
       "9  部门2  小部门4  彭秀荣  40345  84553"
      ]
     },
     "execution_count": 2,
     "metadata": {},
     "output_type": "execute_result"
    }
   ],
   "source": [
    "df # 随机生成的数据"
   ]
  },
  {
   "cell_type": "code",
   "execution_count": 3,
   "id": "7251baf4",
   "metadata": {
    "execution": {
     "iopub.execute_input": "2021-08-21T08:57:36.705483Z",
     "iopub.status.busy": "2021-08-21T08:57:36.704930Z",
     "iopub.status.idle": "2021-08-21T08:57:36.713702Z",
     "shell.execute_reply": "2021-08-21T08:57:36.712742Z",
     "shell.execute_reply.started": "2021-08-21T08:57:36.705443Z"
    }
   },
   "outputs": [
    {
     "data": {
      "text/plain": [
       "False"
      ]
     },
     "execution_count": 3,
     "metadata": {},
     "output_type": "execute_result"
    }
   ],
   "source": [
    "df.销售额.is_monotonic # 判断销售额数据列 数据是否单调增加"
   ]
  },
  {
   "cell_type": "code",
   "execution_count": 8,
   "id": "18d3ce26",
   "metadata": {
    "execution": {
     "iopub.execute_input": "2021-08-21T09:00:35.142260Z",
     "iopub.status.busy": "2021-08-21T09:00:35.141889Z",
     "iopub.status.idle": "2021-08-21T09:00:35.149393Z",
     "shell.execute_reply": "2021-08-21T09:00:35.148821Z",
     "shell.execute_reply.started": "2021-08-21T09:00:35.142228Z"
    }
   },
   "outputs": [
    {
     "data": {
      "text/plain": [
       "True"
      ]
     },
     "execution_count": 8,
     "metadata": {},
     "output_type": "execute_result"
    }
   ],
   "source": [
    "df.销售额.sort_values(ascending=True).is_monotonic # 判断销售额数据列 数据是否单调增加。先升序排序"
   ]
  },
  {
   "cell_type": "code",
   "execution_count": 7,
   "id": "b375132d",
   "metadata": {
    "execution": {
     "iopub.execute_input": "2021-08-21T08:59:57.964246Z",
     "iopub.status.busy": "2021-08-21T08:59:57.963769Z",
     "iopub.status.idle": "2021-08-21T08:59:57.970426Z",
     "shell.execute_reply": "2021-08-21T08:59:57.969541Z",
     "shell.execute_reply.started": "2021-08-21T08:59:57.964213Z"
    }
   },
   "outputs": [
    {
     "data": {
      "text/plain": [
       "True"
      ]
     },
     "execution_count": 7,
     "metadata": {},
     "output_type": "execute_result"
    }
   ],
   "source": [
    "df.销售额.sort_values(ascending=True).is_monotonic_increasing # 判断销售额数据列 数据是否单调增加。先升序排序"
   ]
  },
  {
   "cell_type": "code",
   "execution_count": null,
   "id": "1e25c3a8",
   "metadata": {},
   "outputs": [],
   "source": [
    "df.销售额.is_monotonic_increasing # 判断销售额数据列 数据是否单调增加"
   ]
  },
  {
   "cell_type": "code",
   "execution_count": 5,
   "id": "ebb0e3d4",
   "metadata": {
    "execution": {
     "iopub.execute_input": "2021-08-21T08:58:32.740935Z",
     "iopub.status.busy": "2021-08-21T08:58:32.740653Z",
     "iopub.status.idle": "2021-08-21T08:58:32.747362Z",
     "shell.execute_reply": "2021-08-21T08:58:32.746103Z",
     "shell.execute_reply.started": "2021-08-21T08:58:32.740912Z"
    }
   },
   "outputs": [
    {
     "data": {
      "text/plain": [
       "False"
      ]
     },
     "execution_count": 5,
     "metadata": {},
     "output_type": "execute_result"
    }
   ],
   "source": [
    "df.销售额.is_monotonic_decreasing # 判断销售额数据列 数据是否单调减少"
   ]
  },
  {
   "cell_type": "code",
   "execution_count": 6,
   "id": "c0fcbc34",
   "metadata": {
    "execution": {
     "iopub.execute_input": "2021-08-21T08:59:15.297422Z",
     "iopub.status.busy": "2021-08-21T08:59:15.296935Z",
     "iopub.status.idle": "2021-08-21T08:59:15.306620Z",
     "shell.execute_reply": "2021-08-21T08:59:15.305340Z",
     "shell.execute_reply.started": "2021-08-21T08:59:15.297379Z"
    }
   },
   "outputs": [
    {
     "data": {
      "text/plain": [
       "True"
      ]
     },
     "execution_count": 6,
     "metadata": {},
     "output_type": "execute_result"
    }
   ],
   "source": [
    "df.销售额.sort_values(ascending=False).is_monotonic_decreasing # 判断销售额数据列 数据是否单调减少.先降序排列"
   ]
  },
  {
   "cell_type": "code",
   "execution_count": 9,
   "id": "d031658a",
   "metadata": {
    "execution": {
     "iopub.execute_input": "2021-08-21T09:01:13.229954Z",
     "iopub.status.busy": "2021-08-21T09:01:13.229593Z",
     "iopub.status.idle": "2021-08-21T09:01:13.239688Z",
     "shell.execute_reply": "2021-08-21T09:01:13.238808Z",
     "shell.execute_reply.started": "2021-08-21T09:01:13.229922Z"
    }
   },
   "outputs": [
    {
     "data": {
      "text/plain": [
       "False"
      ]
     },
     "execution_count": 9,
     "metadata": {},
     "output_type": "execute_result"
    }
   ],
   "source": [
    "df.set_index('销售额').index.is_monotonic # 索引后，判断销售额数据列 数据是否单调增加"
   ]
  },
  {
   "cell_type": "code",
   "execution_count": 10,
   "id": "3b27b1fc",
   "metadata": {
    "execution": {
     "iopub.execute_input": "2021-08-21T09:02:01.868191Z",
     "iopub.status.busy": "2021-08-21T09:02:01.867698Z",
     "iopub.status.idle": "2021-08-21T09:02:01.875944Z",
     "shell.execute_reply": "2021-08-21T09:02:01.875181Z",
     "shell.execute_reply.started": "2021-08-21T09:02:01.868132Z"
    }
   },
   "outputs": [
    {
     "data": {
      "text/plain": [
       "True"
      ]
     },
     "execution_count": 10,
     "metadata": {},
     "output_type": "execute_result"
    }
   ],
   "source": [
    "df.set_index('销售额').index.sort_values().is_monotonic # 索引后，再升序排序后 判断销售额数据列 数据是否单调增加"
   ]
  },
  {
   "cell_type": "code",
   "execution_count": 12,
   "id": "1546baed",
   "metadata": {
    "execution": {
     "iopub.execute_input": "2021-08-21T09:03:09.566290Z",
     "iopub.status.busy": "2021-08-21T09:03:09.565918Z",
     "iopub.status.idle": "2021-08-21T09:03:09.572482Z",
     "shell.execute_reply": "2021-08-21T09:03:09.571857Z",
     "shell.execute_reply.started": "2021-08-21T09:03:09.566259Z"
    }
   },
   "outputs": [
    {
     "data": {
      "text/plain": [
       "True"
      ]
     },
     "execution_count": 12,
     "metadata": {},
     "output_type": "execute_result"
    }
   ],
   "source": [
    "df.set_index('销售额').index.sort_values(ascending=False).is_monotonic_decreasing # 索引后，再降序排序后 判断销售额数据 数据是否单调减少"
   ]
  }
 ],
 "metadata": {
  "kernelspec": {
   "display_name": "Python 3 (ipykernel)",
   "language": "python",
   "name": "python3"
  },
  "language_info": {
   "codemirror_mode": {
    "name": "ipython",
    "version": 3
   },
   "file_extension": ".py",
   "mimetype": "text/x-python",
   "name": "python",
   "nbconvert_exporter": "python",
   "pygments_lexer": "ipython3",
   "version": "3.8.10"
  }
 },
 "nbformat": 4,
 "nbformat_minor": 5
}
