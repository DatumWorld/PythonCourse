{
 "cells": [
  {
   "cell_type": "markdown",
   "id": "6dc5af62",
   "metadata": {
    "execution": {
     "iopub.execute_input": "2021-05-10T07:18:52.990449Z",
     "iopub.status.busy": "2021-05-10T07:18:52.990449Z",
     "iopub.status.idle": "2021-05-10T07:18:52.994464Z",
     "shell.execute_reply": "2021-05-10T07:18:52.993452Z",
     "shell.execute_reply.started": "2021-05-10T07:18:52.990449Z"
    }
   },
   "source": [
    "## 97 变化百分比同环比"
   ]
  },
  {
   "cell_type": "markdown",
   "id": "a9adc811",
   "metadata": {
    "jp-MarkdownHeadingCollapsed": true,
    "tags": []
   },
   "source": [
    "### pct_change 计算序列数据变化的百分比\n",
    "参数 periods=1, fill_method='pad', limit=None, freq=None, **kwargs"
   ]
  },
  {
   "cell_type": "code",
   "execution_count": 1,
   "id": "8046c32c",
   "metadata": {
    "execution": {
     "iopub.execute_input": "2021-08-22T03:18:07.779201Z",
     "iopub.status.busy": "2021-08-22T03:18:07.778827Z",
     "iopub.status.idle": "2021-08-22T03:18:08.102628Z",
     "shell.execute_reply": "2021-08-22T03:18:08.101675Z",
     "shell.execute_reply.started": "2021-08-22T03:18:07.779149Z"
    },
    "tags": []
   },
   "outputs": [],
   "source": [
    "import numpy  as np\n",
    "import pandas as pd\n",
    "from faker import Faker\n",
    "\n",
    "fake = Faker('zh_CN')\n",
    "df=pd.DataFrame(data=pd.date_range(start='2020-01-01',periods=15,freq='MS'),columns=['时间'])\n",
    "\n",
    "df['销售额']=np.random.randint(100,100000,size=(15, 1))\n",
    "# df['时间']=pd.date_range(start='2020-01-01',periods=10,freq='M')\n",
    "df.insert(0,'dept','部门1')\n",
    "# df.insert(1,'dept 1',['小部门1']*2+['小部门2']*3+['小部门3']*1+['小部门4']*4)\n",
    "df.iloc[1:3,2]=np.nan #  修改成nan"
   ]
  },
  {
   "cell_type": "markdown",
   "id": "0ad6044c",
   "metadata": {
    "tags": []
   },
   "source": [
    "### 演示数据"
   ]
  },
  {
   "cell_type": "code",
   "execution_count": 17,
   "id": "6fdf1a6b",
   "metadata": {
    "execution": {
     "iopub.execute_input": "2021-08-22T03:24:49.012399Z",
     "iopub.status.busy": "2021-08-22T03:24:49.011856Z",
     "iopub.status.idle": "2021-08-22T03:24:49.029395Z",
     "shell.execute_reply": "2021-08-22T03:24:49.028022Z",
     "shell.execute_reply.started": "2021-08-22T03:24:49.012351Z"
    },
    "tags": []
   },
   "outputs": [
    {
     "data": {
      "text/html": [
       "<div>\n",
       "<style scoped>\n",
       "    .dataframe tbody tr th:only-of-type {\n",
       "        vertical-align: middle;\n",
       "    }\n",
       "\n",
       "    .dataframe tbody tr th {\n",
       "        vertical-align: top;\n",
       "    }\n",
       "\n",
       "    .dataframe thead th {\n",
       "        text-align: right;\n",
       "    }\n",
       "</style>\n",
       "<table border=\"1\" class=\"dataframe\">\n",
       "  <thead>\n",
       "    <tr style=\"text-align: right;\">\n",
       "      <th></th>\n",
       "      <th>dept</th>\n",
       "      <th>时间</th>\n",
       "      <th>销售额</th>\n",
       "      <th>change</th>\n",
       "    </tr>\n",
       "  </thead>\n",
       "  <tbody>\n",
       "    <tr>\n",
       "      <th>0</th>\n",
       "      <td>部门1</td>\n",
       "      <td>2020-01</td>\n",
       "      <td>18904.0</td>\n",
       "      <td>NaN</td>\n",
       "    </tr>\n",
       "    <tr>\n",
       "      <th>1</th>\n",
       "      <td>部门1</td>\n",
       "      <td>2020-02</td>\n",
       "      <td>NaN</td>\n",
       "      <td>0.000000</td>\n",
       "    </tr>\n",
       "    <tr>\n",
       "      <th>2</th>\n",
       "      <td>部门1</td>\n",
       "      <td>2020-03</td>\n",
       "      <td>NaN</td>\n",
       "      <td>0.000000</td>\n",
       "    </tr>\n",
       "    <tr>\n",
       "      <th>3</th>\n",
       "      <td>部门1</td>\n",
       "      <td>2020-04</td>\n",
       "      <td>57649.0</td>\n",
       "      <td>2.049566</td>\n",
       "    </tr>\n",
       "    <tr>\n",
       "      <th>4</th>\n",
       "      <td>部门1</td>\n",
       "      <td>2020-05</td>\n",
       "      <td>23428.0</td>\n",
       "      <td>-0.593610</td>\n",
       "    </tr>\n",
       "    <tr>\n",
       "      <th>5</th>\n",
       "      <td>部门1</td>\n",
       "      <td>2020-06</td>\n",
       "      <td>58444.0</td>\n",
       "      <td>1.494622</td>\n",
       "    </tr>\n",
       "    <tr>\n",
       "      <th>6</th>\n",
       "      <td>部门1</td>\n",
       "      <td>2020-07</td>\n",
       "      <td>50283.0</td>\n",
       "      <td>-0.139638</td>\n",
       "    </tr>\n",
       "    <tr>\n",
       "      <th>7</th>\n",
       "      <td>部门1</td>\n",
       "      <td>2020-08</td>\n",
       "      <td>66858.0</td>\n",
       "      <td>0.329634</td>\n",
       "    </tr>\n",
       "    <tr>\n",
       "      <th>8</th>\n",
       "      <td>部门1</td>\n",
       "      <td>2020-09</td>\n",
       "      <td>18483.0</td>\n",
       "      <td>-0.723548</td>\n",
       "    </tr>\n",
       "    <tr>\n",
       "      <th>9</th>\n",
       "      <td>部门1</td>\n",
       "      <td>2020-10</td>\n",
       "      <td>29962.0</td>\n",
       "      <td>0.621057</td>\n",
       "    </tr>\n",
       "    <tr>\n",
       "      <th>10</th>\n",
       "      <td>部门1</td>\n",
       "      <td>2020-11</td>\n",
       "      <td>95654.0</td>\n",
       "      <td>2.192511</td>\n",
       "    </tr>\n",
       "    <tr>\n",
       "      <th>11</th>\n",
       "      <td>部门1</td>\n",
       "      <td>2020-12</td>\n",
       "      <td>20452.0</td>\n",
       "      <td>-0.786188</td>\n",
       "    </tr>\n",
       "    <tr>\n",
       "      <th>12</th>\n",
       "      <td>部门1</td>\n",
       "      <td>2021-01</td>\n",
       "      <td>70287.0</td>\n",
       "      <td>2.436681</td>\n",
       "    </tr>\n",
       "    <tr>\n",
       "      <th>13</th>\n",
       "      <td>部门1</td>\n",
       "      <td>2021-02</td>\n",
       "      <td>43920.0</td>\n",
       "      <td>-0.375133</td>\n",
       "    </tr>\n",
       "    <tr>\n",
       "      <th>14</th>\n",
       "      <td>部门1</td>\n",
       "      <td>2021-03</td>\n",
       "      <td>67967.0</td>\n",
       "      <td>0.547518</td>\n",
       "    </tr>\n",
       "  </tbody>\n",
       "</table>\n",
       "</div>"
      ],
      "text/plain": [
       "   dept       时间      销售额    change\n",
       "0   部门1  2020-01  18904.0       NaN\n",
       "1   部门1  2020-02      NaN  0.000000\n",
       "2   部门1  2020-03      NaN  0.000000\n",
       "3   部门1  2020-04  57649.0  2.049566\n",
       "4   部门1  2020-05  23428.0 -0.593610\n",
       "5   部门1  2020-06  58444.0  1.494622\n",
       "6   部门1  2020-07  50283.0 -0.139638\n",
       "7   部门1  2020-08  66858.0  0.329634\n",
       "8   部门1  2020-09  18483.0 -0.723548\n",
       "9   部门1  2020-10  29962.0  0.621057\n",
       "10  部门1  2020-11  95654.0  2.192511\n",
       "11  部门1  2020-12  20452.0 -0.786188\n",
       "12  部门1  2021-01  70287.0  2.436681\n",
       "13  部门1  2021-02  43920.0 -0.375133\n",
       "14  部门1  2021-03  67967.0  0.547518"
      ]
     },
     "execution_count": 17,
     "metadata": {},
     "output_type": "execute_result"
    }
   ],
   "source": [
    "df # 随机生成的数据"
   ]
  },
  {
   "cell_type": "code",
   "execution_count": 3,
   "id": "61d06961",
   "metadata": {
    "execution": {
     "iopub.execute_input": "2021-08-22T03:19:29.327188Z",
     "iopub.status.busy": "2021-08-22T03:19:29.326675Z",
     "iopub.status.idle": "2021-08-22T03:19:29.334088Z",
     "shell.execute_reply": "2021-08-22T03:19:29.332984Z",
     "shell.execute_reply.started": "2021-08-22T03:19:29.327151Z"
    }
   },
   "outputs": [],
   "source": [
    "df.时间=df.时间.dt.to_period('M')"
   ]
  },
  {
   "cell_type": "code",
   "execution_count": 20,
   "id": "c02cbd8c",
   "metadata": {
    "execution": {
     "iopub.execute_input": "2021-08-22T03:46:38.959632Z",
     "iopub.status.busy": "2021-08-22T03:46:38.959365Z",
     "iopub.status.idle": "2021-08-22T03:46:38.966458Z",
     "shell.execute_reply": "2021-08-22T03:46:38.965468Z",
     "shell.execute_reply.started": "2021-08-22T03:46:38.959595Z"
    }
   },
   "outputs": [
    {
     "data": {
      "text/plain": [
       "0          NaN\n",
       "1          NaN\n",
       "2          NaN\n",
       "3     2.049566\n",
       "4     0.239314\n",
       "5     2.091621\n",
       "6    -0.127773\n",
       "7     1.853765\n",
       "8    -0.683749\n",
       "9    -0.404133\n",
       "10    0.430704\n",
       "11    0.106530\n",
       "12    1.345871\n",
       "13   -0.540845\n",
       "14    2.323245\n",
       "Name: 销售额, dtype: float64"
      ]
     },
     "execution_count": 20,
     "metadata": {},
     "output_type": "execute_result"
    }
   ],
   "source": [
    "df.销售额.pct_change(periods=3) # 同比,自定义间隔周期数"
   ]
  },
  {
   "cell_type": "code",
   "execution_count": 16,
   "id": "b724a212",
   "metadata": {
    "execution": {
     "iopub.execute_input": "2021-08-22T03:24:44.815888Z",
     "iopub.status.busy": "2021-08-22T03:24:44.815135Z",
     "iopub.status.idle": "2021-08-22T03:24:44.821905Z",
     "shell.execute_reply": "2021-08-22T03:24:44.821181Z",
     "shell.execute_reply.started": "2021-08-22T03:24:44.815812Z"
    }
   },
   "outputs": [],
   "source": [
    "df['change']=df.销售额.pct_change()"
   ]
  },
  {
   "cell_type": "code",
   "execution_count": 13,
   "id": "28ad0e00",
   "metadata": {
    "execution": {
     "iopub.execute_input": "2021-08-22T03:23:39.607332Z",
     "iopub.status.busy": "2021-08-22T03:23:39.606840Z",
     "iopub.status.idle": "2021-08-22T03:23:39.615525Z",
     "shell.execute_reply": "2021-08-22T03:23:39.614882Z",
     "shell.execute_reply.started": "2021-08-22T03:23:39.607289Z"
    }
   },
   "outputs": [
    {
     "data": {
      "text/plain": [
       "0     18904.0\n",
       "1     18904.0\n",
       "2         NaN\n",
       "3     57649.0\n",
       "4     23428.0\n",
       "5     58444.0\n",
       "6     50283.0\n",
       "7     66858.0\n",
       "8     18483.0\n",
       "9     29962.0\n",
       "10    95654.0\n",
       "11    20452.0\n",
       "12    70287.0\n",
       "13    43920.0\n",
       "14    67967.0\n",
       "Name: 销售额, dtype: float64"
      ]
     },
     "execution_count": 13,
     "metadata": {},
     "output_type": "execute_result"
    }
   ],
   "source": [
    "df.销售额.pad(limit=1)"
   ]
  },
  {
   "cell_type": "code",
   "execution_count": 12,
   "id": "8aa0ebbe",
   "metadata": {
    "execution": {
     "iopub.execute_input": "2021-08-22T03:23:18.378936Z",
     "iopub.status.busy": "2021-08-22T03:23:18.378521Z",
     "iopub.status.idle": "2021-08-22T03:23:18.387700Z",
     "shell.execute_reply": "2021-08-22T03:23:18.386937Z",
     "shell.execute_reply.started": "2021-08-22T03:23:18.378903Z"
    }
   },
   "outputs": [
    {
     "data": {
      "text/plain": [
       "0          NaN\n",
       "1     0.000000\n",
       "2          NaN\n",
       "3          NaN\n",
       "4    -0.593610\n",
       "5     1.494622\n",
       "6    -0.139638\n",
       "7     0.329634\n",
       "8    -0.723548\n",
       "9     0.621057\n",
       "10    2.192511\n",
       "11   -0.786188\n",
       "12    2.436681\n",
       "13   -0.375133\n",
       "14    0.547518\n",
       "Name: 销售额, dtype: float64"
      ]
     },
     "execution_count": 12,
     "metadata": {},
     "output_type": "execute_result"
    }
   ],
   "source": [
    "df.销售额.pct_change(periods=1,limit=1) # 同比"
   ]
  },
  {
   "cell_type": "code",
   "execution_count": 11,
   "id": "7367107c",
   "metadata": {
    "execution": {
     "iopub.execute_input": "2021-08-22T03:22:30.023773Z",
     "iopub.status.busy": "2021-08-22T03:22:30.023206Z",
     "iopub.status.idle": "2021-08-22T03:22:30.031350Z",
     "shell.execute_reply": "2021-08-22T03:22:30.030432Z",
     "shell.execute_reply.started": "2021-08-22T03:22:30.023732Z"
    }
   },
   "outputs": [
    {
     "data": {
      "text/plain": [
       "0          NaN\n",
       "1          NaN\n",
       "2          NaN\n",
       "3          NaN\n",
       "4          NaN\n",
       "5          NaN\n",
       "6          NaN\n",
       "7          NaN\n",
       "8          NaN\n",
       "9          NaN\n",
       "10         NaN\n",
       "11         NaN\n",
       "12    2.718102\n",
       "13    1.323318\n",
       "14    2.595377\n",
       "Name: 销售额, dtype: float64"
      ]
     },
     "execution_count": 11,
     "metadata": {},
     "output_type": "execute_result"
    }
   ],
   "source": [
    "df.销售额.pct_change(periods=12) # 同比"
   ]
  },
  {
   "cell_type": "code",
   "execution_count": 5,
   "id": "20bfea60",
   "metadata": {
    "execution": {
     "iopub.execute_input": "2021-08-22T03:20:01.575978Z",
     "iopub.status.busy": "2021-08-22T03:20:01.573505Z",
     "iopub.status.idle": "2021-08-22T03:20:01.591453Z",
     "shell.execute_reply": "2021-08-22T03:20:01.590559Z",
     "shell.execute_reply.started": "2021-08-22T03:20:01.575923Z"
    }
   },
   "outputs": [
    {
     "data": {
      "text/plain": [
       "0          NaN\n",
       "1     0.000000\n",
       "2     0.000000\n",
       "3     2.049566\n",
       "4    -0.593610\n",
       "5     1.494622\n",
       "6    -0.139638\n",
       "7     0.329634\n",
       "8    -0.723548\n",
       "9     0.621057\n",
       "10    2.192511\n",
       "11   -0.786188\n",
       "12    2.436681\n",
       "13   -0.375133\n",
       "14    0.547518\n",
       "Name: 销售额, dtype: float64"
      ]
     },
     "execution_count": 5,
     "metadata": {},
     "output_type": "execute_result"
    }
   ],
   "source": [
    "df.销售额.pct_change() # 环比"
   ]
  },
  {
   "cell_type": "code",
   "execution_count": 8,
   "id": "0c056827",
   "metadata": {
    "execution": {
     "iopub.execute_input": "2021-08-22T03:21:29.547514Z",
     "iopub.status.busy": "2021-08-22T03:21:29.547244Z",
     "iopub.status.idle": "2021-08-22T03:21:29.554996Z",
     "shell.execute_reply": "2021-08-22T03:21:29.553204Z",
     "shell.execute_reply.started": "2021-08-22T03:21:29.547490Z"
    }
   },
   "outputs": [
    {
     "data": {
      "text/plain": [
       "0     18904.0\n",
       "1     18904.0\n",
       "2     18904.0\n",
       "3     57649.0\n",
       "4     23428.0\n",
       "5     58444.0\n",
       "6     50283.0\n",
       "7     66858.0\n",
       "8     18483.0\n",
       "9     29962.0\n",
       "10    95654.0\n",
       "11    20452.0\n",
       "12    70287.0\n",
       "13    43920.0\n",
       "14    67967.0\n",
       "Name: 销售额, dtype: float64"
      ]
     },
     "execution_count": 8,
     "metadata": {},
     "output_type": "execute_result"
    }
   ],
   "source": [
    "df.销售额.pad()"
   ]
  },
  {
   "cell_type": "code",
   "execution_count": 9,
   "id": "6276646a",
   "metadata": {
    "execution": {
     "iopub.execute_input": "2021-08-22T03:21:55.588419Z",
     "iopub.status.busy": "2021-08-22T03:21:55.588067Z",
     "iopub.status.idle": "2021-08-22T03:21:55.595601Z",
     "shell.execute_reply": "2021-08-22T03:21:55.594824Z",
     "shell.execute_reply.started": "2021-08-22T03:21:55.588391Z"
    }
   },
   "outputs": [
    {
     "data": {
      "text/plain": [
       "0          NaN\n",
       "1     0.000000\n",
       "2     0.000000\n",
       "3     2.049566\n",
       "4    -0.593610\n",
       "5     1.494622\n",
       "6    -0.139638\n",
       "7     0.329634\n",
       "8    -0.723548\n",
       "9     0.621057\n",
       "10    2.192511\n",
       "11   -0.786188\n",
       "12    2.436681\n",
       "13   -0.375133\n",
       "14    0.547518\n",
       "Name: 销售额, dtype: float64"
      ]
     },
     "execution_count": 9,
     "metadata": {},
     "output_type": "execute_result"
    }
   ],
   "source": [
    "df.销售额.pad().pct_change()"
   ]
  }
 ],
 "metadata": {
  "kernelspec": {
   "display_name": "Python 3 (ipykernel)",
   "language": "python",
   "name": "python3"
  },
  "language_info": {
   "codemirror_mode": {
    "name": "ipython",
    "version": 3
   },
   "file_extension": ".py",
   "mimetype": "text/x-python",
   "name": "python",
   "nbconvert_exporter": "python",
   "pygments_lexer": "ipython3",
   "version": "3.8.10"
  }
 },
 "nbformat": 4,
 "nbformat_minor": 5
}
