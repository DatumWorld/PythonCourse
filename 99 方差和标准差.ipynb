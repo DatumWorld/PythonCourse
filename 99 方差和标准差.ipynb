{
 "cells": [
  {
   "cell_type": "markdown",
   "id": "90e9e6c3",
   "metadata": {
    "execution": {
     "iopub.execute_input": "2021-05-10T07:18:52.990449Z",
     "iopub.status.busy": "2021-05-10T07:18:52.990449Z",
     "iopub.status.idle": "2021-05-10T07:18:52.994464Z",
     "shell.execute_reply": "2021-05-10T07:18:52.993452Z",
     "shell.execute_reply.started": "2021-05-10T07:18:52.990449Z"
    }
   },
   "source": [
    "## 99 方差和标准差"
   ]
  },
  {
   "cell_type": "markdown",
   "id": "84fb746f",
   "metadata": {
    "jp-MarkdownHeadingCollapsed": true,
    "tags": []
   },
   "source": [
    "### var 计算无偏方差\n",
    "参数 axis=None, skipna=None, level=None, ddof=1, numeric_only=None, **kwargs\n",
    "### std 计算样本标准偏差\n",
    "参数 axis=None, skipna=None, level=None, ddof=1, numeric_only=None, **kwargs"
   ]
  },
  {
   "cell_type": "code",
   "execution_count": 1,
   "id": "7bedc3f7",
   "metadata": {
    "execution": {
     "iopub.execute_input": "2021-08-23T01:43:41.484391Z",
     "iopub.status.busy": "2021-08-23T01:43:41.483869Z",
     "iopub.status.idle": "2021-08-23T01:43:41.753653Z",
     "shell.execute_reply": "2021-08-23T01:43:41.752621Z",
     "shell.execute_reply.started": "2021-08-23T01:43:41.484279Z"
    },
    "tags": []
   },
   "outputs": [],
   "source": [
    "import numpy  as np\n",
    "import pandas as pd\n",
    "\n",
    "df=pd.DataFrame(data=np.random.randint(100,100000,size=(10, 1)),columns=['a'])\n",
    "df.insert(0,'dept',['部门1']*5+['部门2']*5)\n",
    "df.insert(1,'dept1',['小部门1']*2+['小部门2']*3+['小部门3']*1+['小部门4']*4)\n",
    "df['b']=np.random.randint(100,100000,size=(10, 1))\n",
    "df.iloc[1,2:4]=np.nan"
   ]
  },
  {
   "cell_type": "markdown",
   "id": "f476a129",
   "metadata": {
    "tags": []
   },
   "source": [
    "### 演示数据"
   ]
  },
  {
   "cell_type": "code",
   "execution_count": 2,
   "id": "aae7736b",
   "metadata": {
    "execution": {
     "iopub.execute_input": "2021-08-23T01:43:41.755235Z",
     "iopub.status.busy": "2021-08-23T01:43:41.755010Z",
     "iopub.status.idle": "2021-08-23T01:43:41.779831Z",
     "shell.execute_reply": "2021-08-23T01:43:41.778867Z",
     "shell.execute_reply.started": "2021-08-23T01:43:41.755205Z"
    },
    "tags": []
   },
   "outputs": [
    {
     "data": {
      "text/html": [
       "<div>\n",
       "<style scoped>\n",
       "    .dataframe tbody tr th:only-of-type {\n",
       "        vertical-align: middle;\n",
       "    }\n",
       "\n",
       "    .dataframe tbody tr th {\n",
       "        vertical-align: top;\n",
       "    }\n",
       "\n",
       "    .dataframe thead th {\n",
       "        text-align: right;\n",
       "    }\n",
       "</style>\n",
       "<table border=\"1\" class=\"dataframe\">\n",
       "  <thead>\n",
       "    <tr style=\"text-align: right;\">\n",
       "      <th></th>\n",
       "      <th>dept</th>\n",
       "      <th>dept1</th>\n",
       "      <th>a</th>\n",
       "      <th>b</th>\n",
       "    </tr>\n",
       "  </thead>\n",
       "  <tbody>\n",
       "    <tr>\n",
       "      <th>0</th>\n",
       "      <td>部门1</td>\n",
       "      <td>小部门1</td>\n",
       "      <td>21183.0</td>\n",
       "      <td>808.0</td>\n",
       "    </tr>\n",
       "    <tr>\n",
       "      <th>1</th>\n",
       "      <td>部门1</td>\n",
       "      <td>小部门1</td>\n",
       "      <td>NaN</td>\n",
       "      <td>NaN</td>\n",
       "    </tr>\n",
       "    <tr>\n",
       "      <th>2</th>\n",
       "      <td>部门1</td>\n",
       "      <td>小部门2</td>\n",
       "      <td>53844.0</td>\n",
       "      <td>89822.0</td>\n",
       "    </tr>\n",
       "    <tr>\n",
       "      <th>3</th>\n",
       "      <td>部门1</td>\n",
       "      <td>小部门2</td>\n",
       "      <td>63113.0</td>\n",
       "      <td>57270.0</td>\n",
       "    </tr>\n",
       "    <tr>\n",
       "      <th>4</th>\n",
       "      <td>部门1</td>\n",
       "      <td>小部门2</td>\n",
       "      <td>10410.0</td>\n",
       "      <td>47414.0</td>\n",
       "    </tr>\n",
       "    <tr>\n",
       "      <th>5</th>\n",
       "      <td>部门2</td>\n",
       "      <td>小部门3</td>\n",
       "      <td>79632.0</td>\n",
       "      <td>11410.0</td>\n",
       "    </tr>\n",
       "    <tr>\n",
       "      <th>6</th>\n",
       "      <td>部门2</td>\n",
       "      <td>小部门4</td>\n",
       "      <td>52481.0</td>\n",
       "      <td>2458.0</td>\n",
       "    </tr>\n",
       "    <tr>\n",
       "      <th>7</th>\n",
       "      <td>部门2</td>\n",
       "      <td>小部门4</td>\n",
       "      <td>45570.0</td>\n",
       "      <td>82165.0</td>\n",
       "    </tr>\n",
       "    <tr>\n",
       "      <th>8</th>\n",
       "      <td>部门2</td>\n",
       "      <td>小部门4</td>\n",
       "      <td>33602.0</td>\n",
       "      <td>11648.0</td>\n",
       "    </tr>\n",
       "    <tr>\n",
       "      <th>9</th>\n",
       "      <td>部门2</td>\n",
       "      <td>小部门4</td>\n",
       "      <td>37682.0</td>\n",
       "      <td>7365.0</td>\n",
       "    </tr>\n",
       "  </tbody>\n",
       "</table>\n",
       "</div>"
      ],
      "text/plain": [
       "  dept dept1        a        b\n",
       "0  部门1  小部门1  21183.0    808.0\n",
       "1  部门1  小部门1      NaN      NaN\n",
       "2  部门1  小部门2  53844.0  89822.0\n",
       "3  部门1  小部门2  63113.0  57270.0\n",
       "4  部门1  小部门2  10410.0  47414.0\n",
       "5  部门2  小部门3  79632.0  11410.0\n",
       "6  部门2  小部门4  52481.0   2458.0\n",
       "7  部门2  小部门4  45570.0  82165.0\n",
       "8  部门2  小部门4  33602.0  11648.0\n",
       "9  部门2  小部门4  37682.0   7365.0"
      ]
     },
     "execution_count": 2,
     "metadata": {},
     "output_type": "execute_result"
    }
   ],
   "source": [
    "df # 随机生成的数据"
   ]
  },
  {
   "cell_type": "code",
   "execution_count": 13,
   "id": "032ae8d3",
   "metadata": {
    "execution": {
     "iopub.execute_input": "2021-08-23T01:53:07.435953Z",
     "iopub.status.busy": "2021-08-23T01:53:07.435520Z",
     "iopub.status.idle": "2021-08-23T01:53:07.444034Z",
     "shell.execute_reply": "2021-08-23T01:53:07.442985Z",
     "shell.execute_reply.started": "2021-08-23T01:53:07.435919Z"
    }
   },
   "outputs": [
    {
     "data": {
      "text/plain": [
       "a    21221.823108\n",
       "b    35304.441796\n",
       "dtype: float64"
      ]
     },
     "execution_count": 13,
     "metadata": {},
     "output_type": "execute_result"
    }
   ],
   "source": [
    "df.std() # 标准偏差 示例。 参数 用法与var 一致。不再重复演示"
   ]
  },
  {
   "cell_type": "code",
   "execution_count": 12,
   "id": "d034eb7d",
   "metadata": {
    "execution": {
     "iopub.execute_input": "2021-08-23T01:52:30.589200Z",
     "iopub.status.busy": "2021-08-23T01:52:30.588784Z",
     "iopub.status.idle": "2021-08-23T01:52:30.607866Z",
     "shell.execute_reply": "2021-08-23T01:52:30.606920Z",
     "shell.execute_reply.started": "2021-08-23T01:52:30.589167Z"
    }
   },
   "outputs": [
    {
     "data": {
      "text/html": [
       "<div>\n",
       "<style scoped>\n",
       "    .dataframe tbody tr th:only-of-type {\n",
       "        vertical-align: middle;\n",
       "    }\n",
       "\n",
       "    .dataframe tbody tr th {\n",
       "        vertical-align: top;\n",
       "    }\n",
       "\n",
       "    .dataframe thead th {\n",
       "        text-align: right;\n",
       "    }\n",
       "</style>\n",
       "<table border=\"1\" class=\"dataframe\">\n",
       "  <thead>\n",
       "    <tr style=\"text-align: right;\">\n",
       "      <th></th>\n",
       "      <th>a</th>\n",
       "      <th>b</th>\n",
       "    </tr>\n",
       "    <tr>\n",
       "      <th>dept1</th>\n",
       "      <th></th>\n",
       "      <th></th>\n",
       "    </tr>\n",
       "  </thead>\n",
       "  <tbody>\n",
       "    <tr>\n",
       "      <th>小部门1</th>\n",
       "      <td>NaN</td>\n",
       "      <td>NaN</td>\n",
       "    </tr>\n",
       "    <tr>\n",
       "      <th>小部门2</th>\n",
       "      <td>28136.669212</td>\n",
       "      <td>22193.136717</td>\n",
       "    </tr>\n",
       "    <tr>\n",
       "      <th>小部门3</th>\n",
       "      <td>NaN</td>\n",
       "      <td>NaN</td>\n",
       "    </tr>\n",
       "    <tr>\n",
       "      <th>小部门4</th>\n",
       "      <td>8392.898442</td>\n",
       "      <td>37691.480001</td>\n",
       "    </tr>\n",
       "  </tbody>\n",
       "</table>\n",
       "</div>"
      ],
      "text/plain": [
       "                  a             b\n",
       "dept1                            \n",
       "小部门1            NaN           NaN\n",
       "小部门2   28136.669212  22193.136717\n",
       "小部门3            NaN           NaN\n",
       "小部门4    8392.898442  37691.480001"
      ]
     },
     "execution_count": 12,
     "metadata": {},
     "output_type": "execute_result"
    }
   ],
   "source": [
    "df.set_index(['dept','dept1']).std(level=1,numeric_only=1) # numeric_only 是否只计算数字类型列/行 # 标准偏差"
   ]
  },
  {
   "cell_type": "code",
   "execution_count": 11,
   "id": "a5f5d6ae",
   "metadata": {
    "execution": {
     "iopub.execute_input": "2021-08-23T01:50:51.351058Z",
     "iopub.status.busy": "2021-08-23T01:50:51.350457Z",
     "iopub.status.idle": "2021-08-23T01:50:51.370654Z",
     "shell.execute_reply": "2021-08-23T01:50:51.369190Z",
     "shell.execute_reply.started": "2021-08-23T01:50:51.351008Z"
    }
   },
   "outputs": [
    {
     "data": {
      "text/html": [
       "<div>\n",
       "<style scoped>\n",
       "    .dataframe tbody tr th:only-of-type {\n",
       "        vertical-align: middle;\n",
       "    }\n",
       "\n",
       "    .dataframe tbody tr th {\n",
       "        vertical-align: top;\n",
       "    }\n",
       "\n",
       "    .dataframe thead th {\n",
       "        text-align: right;\n",
       "    }\n",
       "</style>\n",
       "<table border=\"1\" class=\"dataframe\">\n",
       "  <thead>\n",
       "    <tr style=\"text-align: right;\">\n",
       "      <th></th>\n",
       "      <th>a</th>\n",
       "      <th>b</th>\n",
       "    </tr>\n",
       "    <tr>\n",
       "      <th>dept1</th>\n",
       "      <th></th>\n",
       "      <th></th>\n",
       "    </tr>\n",
       "  </thead>\n",
       "  <tbody>\n",
       "    <tr>\n",
       "      <th>小部门1</th>\n",
       "      <td>NaN</td>\n",
       "      <td>NaN</td>\n",
       "    </tr>\n",
       "    <tr>\n",
       "      <th>小部门2</th>\n",
       "      <td>7.916722e+08</td>\n",
       "      <td>4.925353e+08</td>\n",
       "    </tr>\n",
       "    <tr>\n",
       "      <th>小部门3</th>\n",
       "      <td>NaN</td>\n",
       "      <td>NaN</td>\n",
       "    </tr>\n",
       "    <tr>\n",
       "      <th>小部门4</th>\n",
       "      <td>7.044074e+07</td>\n",
       "      <td>1.420648e+09</td>\n",
       "    </tr>\n",
       "  </tbody>\n",
       "</table>\n",
       "</div>"
      ],
      "text/plain": [
       "                  a             b\n",
       "dept1                            \n",
       "小部门1            NaN           NaN\n",
       "小部门2   7.916722e+08  4.925353e+08\n",
       "小部门3            NaN           NaN\n",
       "小部门4   7.044074e+07  1.420648e+09"
      ]
     },
     "execution_count": 11,
     "metadata": {},
     "output_type": "execute_result"
    }
   ],
   "source": [
    "df.set_index(['dept','dept1']).var(level=1,numeric_only=1) # numeric_only 是否只计算数字类型列/行"
   ]
  },
  {
   "cell_type": "code",
   "execution_count": 10,
   "id": "85bfc63f",
   "metadata": {
    "execution": {
     "iopub.execute_input": "2021-08-23T01:50:03.974822Z",
     "iopub.status.busy": "2021-08-23T01:50:03.974350Z",
     "iopub.status.idle": "2021-08-23T01:50:03.992937Z",
     "shell.execute_reply": "2021-08-23T01:50:03.992275Z",
     "shell.execute_reply.started": "2021-08-23T01:50:03.974780Z"
    }
   },
   "outputs": [
    {
     "data": {
      "text/html": [
       "<div>\n",
       "<style scoped>\n",
       "    .dataframe tbody tr th:only-of-type {\n",
       "        vertical-align: middle;\n",
       "    }\n",
       "\n",
       "    .dataframe tbody tr th {\n",
       "        vertical-align: top;\n",
       "    }\n",
       "\n",
       "    .dataframe thead th {\n",
       "        text-align: right;\n",
       "    }\n",
       "</style>\n",
       "<table border=\"1\" class=\"dataframe\">\n",
       "  <thead>\n",
       "    <tr style=\"text-align: right;\">\n",
       "      <th></th>\n",
       "      <th>a</th>\n",
       "      <th>b</th>\n",
       "    </tr>\n",
       "    <tr>\n",
       "      <th>dept1</th>\n",
       "      <th></th>\n",
       "      <th></th>\n",
       "    </tr>\n",
       "  </thead>\n",
       "  <tbody>\n",
       "    <tr>\n",
       "      <th>小部门1</th>\n",
       "      <td>NaN</td>\n",
       "      <td>NaN</td>\n",
       "    </tr>\n",
       "    <tr>\n",
       "      <th>小部门2</th>\n",
       "      <td>7.916722e+08</td>\n",
       "      <td>4.925353e+08</td>\n",
       "    </tr>\n",
       "    <tr>\n",
       "      <th>小部门3</th>\n",
       "      <td>NaN</td>\n",
       "      <td>NaN</td>\n",
       "    </tr>\n",
       "    <tr>\n",
       "      <th>小部门4</th>\n",
       "      <td>7.044074e+07</td>\n",
       "      <td>1.420648e+09</td>\n",
       "    </tr>\n",
       "  </tbody>\n",
       "</table>\n",
       "</div>"
      ],
      "text/plain": [
       "                  a             b\n",
       "dept1                            \n",
       "小部门1            NaN           NaN\n",
       "小部门2   7.916722e+08  4.925353e+08\n",
       "小部门3            NaN           NaN\n",
       "小部门4   7.044074e+07  1.420648e+09"
      ]
     },
     "execution_count": 10,
     "metadata": {},
     "output_type": "execute_result"
    }
   ],
   "source": [
    "df.set_index(['dept','dept1']).var(level=1,ddof=1) # ddof delta 自由度"
   ]
  },
  {
   "cell_type": "code",
   "execution_count": 8,
   "id": "88be0647",
   "metadata": {
    "execution": {
     "iopub.execute_input": "2021-08-23T01:48:14.695918Z",
     "iopub.status.busy": "2021-08-23T01:48:14.695535Z",
     "iopub.status.idle": "2021-08-23T01:48:14.713030Z",
     "shell.execute_reply": "2021-08-23T01:48:14.712204Z",
     "shell.execute_reply.started": "2021-08-23T01:48:14.695875Z"
    }
   },
   "outputs": [
    {
     "data": {
      "text/html": [
       "<div>\n",
       "<style scoped>\n",
       "    .dataframe tbody tr th:only-of-type {\n",
       "        vertical-align: middle;\n",
       "    }\n",
       "\n",
       "    .dataframe tbody tr th {\n",
       "        vertical-align: top;\n",
       "    }\n",
       "\n",
       "    .dataframe thead th {\n",
       "        text-align: right;\n",
       "    }\n",
       "</style>\n",
       "<table border=\"1\" class=\"dataframe\">\n",
       "  <thead>\n",
       "    <tr style=\"text-align: right;\">\n",
       "      <th></th>\n",
       "      <th>a</th>\n",
       "      <th>b</th>\n",
       "    </tr>\n",
       "    <tr>\n",
       "      <th>dept1</th>\n",
       "      <th></th>\n",
       "      <th></th>\n",
       "    </tr>\n",
       "  </thead>\n",
       "  <tbody>\n",
       "    <tr>\n",
       "      <th>小部门1</th>\n",
       "      <td>NaN</td>\n",
       "      <td>NaN</td>\n",
       "    </tr>\n",
       "    <tr>\n",
       "      <th>小部门2</th>\n",
       "      <td>7.916722e+08</td>\n",
       "      <td>4.925353e+08</td>\n",
       "    </tr>\n",
       "    <tr>\n",
       "      <th>小部门3</th>\n",
       "      <td>NaN</td>\n",
       "      <td>NaN</td>\n",
       "    </tr>\n",
       "    <tr>\n",
       "      <th>小部门4</th>\n",
       "      <td>7.044074e+07</td>\n",
       "      <td>1.420648e+09</td>\n",
       "    </tr>\n",
       "  </tbody>\n",
       "</table>\n",
       "</div>"
      ],
      "text/plain": [
       "                  a             b\n",
       "dept1                            \n",
       "小部门1            NaN           NaN\n",
       "小部门2   7.916722e+08  4.925353e+08\n",
       "小部门3            NaN           NaN\n",
       "小部门4   7.044074e+07  1.420648e+09"
      ]
     },
     "execution_count": 8,
     "metadata": {},
     "output_type": "execute_result"
    }
   ],
   "source": [
    "df.set_index(['dept','dept1']).var(level=1) "
   ]
  },
  {
   "cell_type": "code",
   "execution_count": 9,
   "id": "5fad8f22",
   "metadata": {
    "execution": {
     "iopub.execute_input": "2021-08-23T01:49:07.409473Z",
     "iopub.status.busy": "2021-08-23T01:49:07.409115Z",
     "iopub.status.idle": "2021-08-23T01:49:07.432109Z",
     "shell.execute_reply": "2021-08-23T01:49:07.431438Z",
     "shell.execute_reply.started": "2021-08-23T01:49:07.409449Z"
    }
   },
   "outputs": [
    {
     "data": {
      "text/html": [
       "<div>\n",
       "<style scoped>\n",
       "    .dataframe tbody tr th:only-of-type {\n",
       "        vertical-align: middle;\n",
       "    }\n",
       "\n",
       "    .dataframe tbody tr th {\n",
       "        vertical-align: top;\n",
       "    }\n",
       "\n",
       "    .dataframe thead th {\n",
       "        text-align: right;\n",
       "    }\n",
       "</style>\n",
       "<table border=\"1\" class=\"dataframe\">\n",
       "  <thead>\n",
       "    <tr style=\"text-align: right;\">\n",
       "      <th></th>\n",
       "      <th>a</th>\n",
       "      <th>b</th>\n",
       "    </tr>\n",
       "    <tr>\n",
       "      <th>dept</th>\n",
       "      <th></th>\n",
       "      <th></th>\n",
       "    </tr>\n",
       "  </thead>\n",
       "  <tbody>\n",
       "    <tr>\n",
       "      <th>部门1</th>\n",
       "      <td>640913023.0</td>\n",
       "      <td>1.353232e+09</td>\n",
       "    </tr>\n",
       "    <tr>\n",
       "      <th>部门2</th>\n",
       "      <td>331062448.8</td>\n",
       "      <td>1.107530e+09</td>\n",
       "    </tr>\n",
       "  </tbody>\n",
       "</table>\n",
       "</div>"
      ],
      "text/plain": [
       "                a             b\n",
       "dept                           \n",
       "部门1   640913023.0  1.353232e+09\n",
       "部门2   331062448.8  1.107530e+09"
      ]
     },
     "execution_count": 9,
     "metadata": {},
     "output_type": "execute_result"
    }
   ],
   "source": [
    "df.set_index(['dept','dept1']).var(level=0) # level 指定 多索引的层级"
   ]
  },
  {
   "cell_type": "code",
   "execution_count": 7,
   "id": "d21daa7c",
   "metadata": {
    "execution": {
     "iopub.execute_input": "2021-08-23T01:47:58.064249Z",
     "iopub.status.busy": "2021-08-23T01:47:58.063820Z",
     "iopub.status.idle": "2021-08-23T01:47:58.075591Z",
     "shell.execute_reply": "2021-08-23T01:47:58.074329Z",
     "shell.execute_reply.started": "2021-08-23T01:47:58.064211Z"
    }
   },
   "outputs": [
    {
     "data": {
      "text/plain": [
       "a    4.503658e+08\n",
       "b    1.246404e+09\n",
       "dtype: float64"
      ]
     },
     "execution_count": 7,
     "metadata": {},
     "output_type": "execute_result"
    }
   ],
   "source": [
    "df.set_index(['dept','dept1']).var() # "
   ]
  },
  {
   "cell_type": "code",
   "execution_count": 6,
   "id": "f2f25fc8",
   "metadata": {
    "execution": {
     "iopub.execute_input": "2021-08-23T01:46:37.386195Z",
     "iopub.status.busy": "2021-08-23T01:46:37.385775Z",
     "iopub.status.idle": "2021-08-23T01:46:37.394634Z",
     "shell.execute_reply": "2021-08-23T01:46:37.393461Z",
     "shell.execute_reply.started": "2021-08-23T01:46:37.386160Z"
    }
   },
   "outputs": [
    {
     "data": {
      "text/plain": [
       "a   NaN\n",
       "b   NaN\n",
       "dtype: float64"
      ]
     },
     "execution_count": 6,
     "metadata": {},
     "output_type": "execute_result"
    }
   ],
   "source": [
    "df.var(skipna=False) # skipna  是否排除nan"
   ]
  },
  {
   "cell_type": "code",
   "execution_count": 3,
   "id": "16520b35",
   "metadata": {
    "execution": {
     "iopub.execute_input": "2021-08-23T01:45:05.939805Z",
     "iopub.status.busy": "2021-08-23T01:45:05.939334Z",
     "iopub.status.idle": "2021-08-23T01:45:05.949249Z",
     "shell.execute_reply": "2021-08-23T01:45:05.947596Z",
     "shell.execute_reply.started": "2021-08-23T01:45:05.939773Z"
    }
   },
   "outputs": [
    {
     "data": {
      "text/plain": [
       "a    4.503658e+08\n",
       "b    1.246404e+09\n",
       "dtype: float64"
      ]
     },
     "execution_count": 3,
     "metadata": {},
     "output_type": "execute_result"
    }
   ],
   "source": [
    "df.var() # 列数据的 方差"
   ]
  },
  {
   "cell_type": "code",
   "execution_count": 5,
   "id": "4e6323c5",
   "metadata": {
    "execution": {
     "iopub.execute_input": "2021-08-23T01:45:47.190348Z",
     "iopub.status.busy": "2021-08-23T01:45:47.189889Z",
     "iopub.status.idle": "2021-08-23T01:45:47.197865Z",
     "shell.execute_reply": "2021-08-23T01:45:47.197174Z",
     "shell.execute_reply.started": "2021-08-23T01:45:47.190311Z"
    }
   },
   "outputs": [
    {
     "data": {
      "text/plain": [
       "0    2.075703e+08\n",
       "1             NaN\n",
       "2    6.472082e+08\n",
       "3    1.707032e+07\n",
       "4    6.846480e+08\n",
       "5    2.327121e+09\n",
       "6    1.251150e+09\n",
       "7    6.695970e+08\n",
       "8    2.409891e+08\n",
       "9    4.595602e+08\n",
       "dtype: float64"
      ]
     },
     "execution_count": 5,
     "metadata": {},
     "output_type": "execute_result"
    }
   ],
   "source": [
    "df.var(axis=1) # 行数据的 方差"
   ]
  }
 ],
 "metadata": {
  "kernelspec": {
   "display_name": "Python 3",
   "language": "python",
   "name": "python3"
  },
  "language_info": {
   "codemirror_mode": {
    "name": "ipython",
    "version": 3
   },
   "file_extension": ".py",
   "mimetype": "text/x-python",
   "name": "python",
   "nbconvert_exporter": "python",
   "pygments_lexer": "ipython3",
   "version": "3.8.8"
  }
 },
 "nbformat": 4,
 "nbformat_minor": 5
}
