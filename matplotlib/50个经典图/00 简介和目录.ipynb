{
 "cells": [
  {
   "cell_type": "markdown",
   "id": "dde58d4a-29db-46b0-b480-c226d9fc1498",
   "metadata": {},
   "source": [
    "# Matplotlib可视化最有价值的 50 个图表"
   ]
  },
  {
   "cell_type": "markdown",
   "id": "4442a695-bf3c-4ec2-ad89-ac6ae90816ea",
   "metadata": {},
   "source": [
    "## 引用\n",
    "### http://liyangbit.com/pythonvisualization/matplotlib-top-50-visualizations/\n",
    "### https://www.machinelearningplus.com/plots/top-50-matplotlib-visualizations-the-master-plots-python/\n",
    "### http://r-statistics.co/Top50-Ggplot2-Visualizations-MasterList-R-Code.html"
   ]
  },
  {
   "cell_type": "markdown",
   "id": "95b5abe5-bfb2-4da7-b0d5-73f9797aa2a5",
   "metadata": {
    "execution": {
     "iopub.execute_input": "2022-01-05T03:44:17.847970Z",
     "iopub.status.busy": "2022-01-05T03:44:17.847970Z",
     "iopub.status.idle": "2022-01-05T03:44:17.851978Z",
     "shell.execute_reply": "2022-01-05T03:44:17.850995Z",
     "shell.execute_reply.started": "2022-01-05T03:44:17.847970Z"
    },
    "tags": []
   },
   "source": [
    "## 一、关联 （Correlation）\n",
    "关联图表用于可视化2个或更多变量之间的关系。 也就是说，一个变量如何相对于另一个变化。"
   ]
  },
  {
   "cell_type": "markdown",
   "id": "027a6e86-ef79-4f85-ac01-7eab8736efc4",
   "metadata": {},
   "source": [
    "### 1 散点图（Scatter plot）\n",
    "### 2 带边界的气泡图（Bubble plot with Encircling）\n",
    "### 3 带线性回归最佳拟合线的散点图 （Scatter plot with linear regression line of best fit）\n",
    "### 4 抖动图 （Jittering with stripplot）\n",
    "### 5 计数图 （Counts Plot）\n",
    "### 6 边缘直方图 （Marginal Histogram）\n",
    "### 7 边缘箱形图 （Marginal Boxplot）\n",
    "### 8 相关图 （Correllogram）\n",
    "### 9 矩阵图 （Pairwise Plot）"
   ]
  },
  {
   "cell_type": "markdown",
   "id": "2d6319ff-6f75-40bb-9591-2f8df3004662",
   "metadata": {},
   "source": [
    "## 二、偏差 （Deviation）"
   ]
  },
  {
   "cell_type": "markdown",
   "id": "39a41eef-0ae1-49b1-94ac-63a9c41fc151",
   "metadata": {},
   "source": [
    "### 10 发散型条形图 （Diverging Bars）\n",
    "### 11 发散型文本 （Diverging Texts）\n",
    "### 12 发散型包点图 （Diverging Dot Plot）\n",
    "### 13 带标记的发散型棒棒糖图 （Diverging Lollipop Chart with Markers）\n",
    "### 14 面积图 （Area Chart）"
   ]
  },
  {
   "cell_type": "markdown",
   "id": "67339c26-f8cb-4af2-8cac-d959fd42db58",
   "metadata": {},
   "source": [
    "##　三、排序 （Ranking）"
   ]
  },
  {
   "cell_type": "markdown",
   "id": "5c8f83be-aaa4-4913-a411-d7b10a902ac1",
   "metadata": {},
   "source": [
    "### 15 有序条形图 （Ordered Bar Chart）\n",
    "### 16 棒棒糖图 （Lollipop Chart）\n",
    "### 17 包点图 （Dot Plot）\n",
    "### 18 坡度图 （Slope Chart）\n",
    "### 19 哑铃图 （Dumbbell Plot）"
   ]
  },
  {
   "cell_type": "markdown",
   "id": "17e64815-c87f-46cf-ae30-3e12dd45c401",
   "metadata": {},
   "source": [
    "## 四、分布 （Distribution）"
   ]
  },
  {
   "cell_type": "markdown",
   "id": "2197b23e-af13-45d7-b625-ca6058a82f02",
   "metadata": {},
   "source": [
    "### 20 连续变量的直方图 （Histogram for Continuous Variable）\n",
    "### 21 类型变量的直方图 （Histogram for Categorical Variable）\n",
    "### 22 密度图 （Density Plot）\n",
    "### 23 直方密度线图 （Density Curves with Histogram）\n",
    "### 24 Joy Plot\n",
    "### 25 分布式包点图 （Distributed Dot Plot）\n",
    "### 26 箱形图 （Box Plot）\n",
    "### 27 包点+箱形图 （Dot + Box Plot）\n",
    "### 28 小提琴图 （Violin Plot）\n",
    "### 29 人口金字塔 （Population Pyramid）\n",
    "### 30 分类图 （Categorical Plots）"
   ]
  },
  {
   "cell_type": "markdown",
   "id": "46a3114a-c9cc-4e1b-9ee8-ad3c92e89cfc",
   "metadata": {},
   "source": [
    "## 五、组成 （Composition）"
   ]
  },
  {
   "cell_type": "markdown",
   "id": "b262dd74-a132-4e79-87ba-2bbc6a7047ae",
   "metadata": {},
   "source": [
    "### 31 华夫饼图 （Waffle Chart）\n",
    "### 32 饼图 （Pie Chart）\n",
    "### 33 树形图 （Treemap）\n",
    "### 34 条形图 （Bar Chart）"
   ]
  },
  {
   "cell_type": "markdown",
   "id": "06bdda90-48bd-47a7-bc41-4e9cad8d4797",
   "metadata": {},
   "source": [
    "## 六、变化 （Change）"
   ]
  },
  {
   "cell_type": "markdown",
   "id": "f5db99cd-3356-43f8-9b80-e5e21465d1d0",
   "metadata": {},
   "source": [
    "### 35 时间序列图 （Time Series Plot）\n",
    "### 36 带波峰波谷标记的时序图 （Time Series with Peaks and Troughs Annotated）\n",
    "### 37 自相关和部分自相关图 （Autocorrelation (ACF) and Partial Autocorrelation (PACF) Plot）\n",
    "### 38 交叉相关图 （Cross Correlation plot）\n",
    "### 39 时间序列分解图 （Time Series Decomposition Plot）\n",
    "### 40 多个时间序列 （Multiple Time Series）\n",
    "### 41 使用辅助 Y 轴来绘制不同范围的图形 （Plotting with different scales using secondary Y axis）\n",
    "### 42 带有误差带的时间序列 （Time Series with Error Bands）\n",
    "### 43 堆积面积图 （Stacked Area Chart）\n",
    "### 44 未堆积的面积图 （Area Chart UnStacked）\n",
    "### 45 日历热力图 （Calendar Heat Map）\n",
    "### 46 季节图 （Seasonal Plot）"
   ]
  },
  {
   "cell_type": "markdown",
   "id": "37ffca4d-393f-423f-824c-bdbe544b8be8",
   "metadata": {},
   "source": [
    "## 七、分组 （Groups）"
   ]
  },
  {
   "cell_type": "markdown",
   "id": "edc4791e-05b7-4cd8-a015-81a492d97420",
   "metadata": {},
   "source": [
    "### 47 树状图 （Dendrogram）\n",
    "### 48 簇状图 （Cluster Plot）\n",
    "### 49 安德鲁斯曲线 （Andrews Curve）\n",
    "### 50 平行坐标 （Parallel Coordinates）"
   ]
  }
 ],
 "metadata": {
  "kernelspec": {
   "display_name": "Python 3 (ipykernel)",
   "language": "python",
   "name": "python3"
  },
  "language_info": {
   "codemirror_mode": {
    "name": "ipython",
    "version": 3
   },
   "file_extension": ".py",
   "mimetype": "text/x-python",
   "name": "python",
   "nbconvert_exporter": "python",
   "pygments_lexer": "ipython3",
   "version": "3.8.12"
  }
 },
 "nbformat": 4,
 "nbformat_minor": 5
}
