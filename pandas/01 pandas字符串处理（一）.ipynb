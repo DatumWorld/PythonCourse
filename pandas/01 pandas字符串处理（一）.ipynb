{
 "cells": [
  {
   "cell_type": "markdown",
   "id": "visible-groove",
   "metadata": {},
   "source": [
    "## pandas字符串处理(一)"
   ]
  },
  {
   "cell_type": "markdown",
   "id": "micro-laugh",
   "metadata": {},
   "source": [
    "### get split len  count contains find "
   ]
  },
  {
   "cell_type": "code",
   "execution_count": 34,
   "id": "brave-joining",
   "metadata": {
    "execution": {
     "iopub.execute_input": "2021-05-08T06:21:49.491612Z",
     "iopub.status.busy": "2021-05-08T06:21:49.490614Z",
     "iopub.status.idle": "2021-05-08T06:21:49.544611Z",
     "shell.execute_reply": "2021-05-08T06:21:49.543611Z",
     "shell.execute_reply.started": "2021-05-08T06:21:49.491612Z"
    }
   },
   "outputs": [],
   "source": [
    "from faker import Faker\n",
    "fake = Faker('zh_CN')"
   ]
  },
  {
   "cell_type": "code",
   "execution_count": 35,
   "id": "hourly-arlington",
   "metadata": {
    "execution": {
     "iopub.execute_input": "2021-05-08T06:21:59.476573Z",
     "iopub.status.busy": "2021-05-08T06:21:59.476573Z",
     "iopub.status.idle": "2021-05-08T06:21:59.485571Z",
     "shell.execute_reply": "2021-05-08T06:21:59.484597Z",
     "shell.execute_reply.started": "2021-05-08T06:21:59.476573Z"
    }
   },
   "outputs": [],
   "source": [
    "import pandas as pd\n",
    "df=pd.DataFrame(data=[ f'{fake.name()}_{fake.company()}' for x in range(10) ],columns=['user_info'])"
   ]
  },
  {
   "cell_type": "code",
   "execution_count": 36,
   "id": "copyrighted-paris",
   "metadata": {
    "execution": {
     "iopub.execute_input": "2021-05-08T06:22:04.368611Z",
     "iopub.status.busy": "2021-05-08T06:22:04.368611Z",
     "iopub.status.idle": "2021-05-08T06:22:04.374610Z",
     "shell.execute_reply": "2021-05-08T06:22:04.374610Z",
     "shell.execute_reply.started": "2021-05-08T06:22:04.368611Z"
    }
   },
   "outputs": [
    {
     "data": {
      "text/html": [
       "<div>\n",
       "<style scoped>\n",
       "    .dataframe tbody tr th:only-of-type {\n",
       "        vertical-align: middle;\n",
       "    }\n",
       "\n",
       "    .dataframe tbody tr th {\n",
       "        vertical-align: top;\n",
       "    }\n",
       "\n",
       "    .dataframe thead th {\n",
       "        text-align: right;\n",
       "    }\n",
       "</style>\n",
       "<table border=\"1\" class=\"dataframe\">\n",
       "  <thead>\n",
       "    <tr style=\"text-align: right;\">\n",
       "      <th></th>\n",
       "      <th>user_info</th>\n",
       "    </tr>\n",
       "  </thead>\n",
       "  <tbody>\n",
       "    <tr>\n",
       "      <th>0</th>\n",
       "      <td>郭玉_合联电子传媒有限公司</td>\n",
       "    </tr>\n",
       "    <tr>\n",
       "      <th>1</th>\n",
       "      <td>刘宁_四通信息有限公司</td>\n",
       "    </tr>\n",
       "    <tr>\n",
       "      <th>2</th>\n",
       "      <td>林杰_鸿睿思博信息有限公司</td>\n",
       "    </tr>\n",
       "    <tr>\n",
       "      <th>3</th>\n",
       "      <td>张秀云_雨林木风计算机信息有限公司</td>\n",
       "    </tr>\n",
       "    <tr>\n",
       "      <th>4</th>\n",
       "      <td>张丹_易动力网络有限公司</td>\n",
       "    </tr>\n",
       "    <tr>\n",
       "      <th>5</th>\n",
       "      <td>黄冬梅_飞利信科技有限公司</td>\n",
       "    </tr>\n",
       "    <tr>\n",
       "      <th>6</th>\n",
       "      <td>巩兰英_图龙信息信息有限公司</td>\n",
       "    </tr>\n",
       "    <tr>\n",
       "      <th>7</th>\n",
       "      <td>朱想_浙大万朋传媒有限公司</td>\n",
       "    </tr>\n",
       "    <tr>\n",
       "      <th>8</th>\n",
       "      <td>李霞_创联世纪科技有限公司</td>\n",
       "    </tr>\n",
       "    <tr>\n",
       "      <th>9</th>\n",
       "      <td>胡桂香_毕博诚科技有限公司</td>\n",
       "    </tr>\n",
       "  </tbody>\n",
       "</table>\n",
       "</div>"
      ],
      "text/plain": [
       "           user_info\n",
       "0      郭玉_合联电子传媒有限公司\n",
       "1        刘宁_四通信息有限公司\n",
       "2      林杰_鸿睿思博信息有限公司\n",
       "3  张秀云_雨林木风计算机信息有限公司\n",
       "4       张丹_易动力网络有限公司\n",
       "5      黄冬梅_飞利信科技有限公司\n",
       "6     巩兰英_图龙信息信息有限公司\n",
       "7      朱想_浙大万朋传媒有限公司\n",
       "8      李霞_创联世纪科技有限公司\n",
       "9      胡桂香_毕博诚科技有限公司"
      ]
     },
     "execution_count": 36,
     "metadata": {},
     "output_type": "execute_result"
    }
   ],
   "source": [
    "df"
   ]
  },
  {
   "cell_type": "code",
   "execution_count": 37,
   "id": "going-wales",
   "metadata": {
    "collapsed": true,
    "execution": {
     "iopub.execute_input": "2021-05-08T06:22:33.251824Z",
     "iopub.status.busy": "2021-05-08T06:22:33.250826Z",
     "iopub.status.idle": "2021-05-08T06:22:33.262824Z",
     "shell.execute_reply": "2021-05-08T06:22:33.260830Z",
     "shell.execute_reply.started": "2021-05-08T06:22:33.251824Z"
    },
    "jupyter": {
     "outputs_hidden": true,
     "source_hidden": true
    }
   },
   "outputs": [
    {
     "data": {
      "text/plain": [
       "0    郭\n",
       "1    刘\n",
       "2    林\n",
       "3    张\n",
       "4    张\n",
       "5    黄\n",
       "6    巩\n",
       "7    朱\n",
       "8    李\n",
       "9    胡\n",
       "Name: user_info, dtype: object"
      ]
     },
     "execution_count": 37,
     "metadata": {},
     "output_type": "execute_result"
    }
   ],
   "source": [
    "df.user_info.str.get(0) #获取某个位置的字符"
   ]
  },
  {
   "cell_type": "code",
   "execution_count": 38,
   "id": "appreciated-craps",
   "metadata": {
    "collapsed": true,
    "execution": {
     "iopub.execute_input": "2021-05-08T06:23:22.617176Z",
     "iopub.status.busy": "2021-05-08T06:23:22.617176Z",
     "iopub.status.idle": "2021-05-08T06:23:22.624176Z",
     "shell.execute_reply": "2021-05-08T06:23:22.624176Z",
     "shell.execute_reply.started": "2021-05-08T06:23:22.617176Z"
    },
    "jupyter": {
     "outputs_hidden": true,
     "source_hidden": true
    }
   },
   "outputs": [
    {
     "data": {
      "text/plain": [
       "0    郭\n",
       "1    刘\n",
       "2    林\n",
       "3    张\n",
       "4    张\n",
       "5    黄\n",
       "6    巩\n",
       "7    朱\n",
       "8    李\n",
       "9    胡\n",
       "Name: user_info, dtype: object"
      ]
     },
     "execution_count": 38,
     "metadata": {},
     "output_type": "execute_result"
    }
   ],
   "source": [
    "df.user_info.str[0] # 同上"
   ]
  },
  {
   "cell_type": "code",
   "execution_count": 39,
   "id": "copyrighted-length",
   "metadata": {
    "collapsed": true,
    "execution": {
     "iopub.execute_input": "2021-05-08T06:24:01.261443Z",
     "iopub.status.busy": "2021-05-08T06:24:01.261443Z",
     "iopub.status.idle": "2021-05-08T06:24:01.272443Z",
     "shell.execute_reply": "2021-05-08T06:24:01.270484Z",
     "shell.execute_reply.started": "2021-05-08T06:24:01.261443Z"
    },
    "jupyter": {
     "outputs_hidden": true,
     "source_hidden": true
    }
   },
   "outputs": [
    {
     "data": {
      "text/plain": [
       "0    郭\n",
       "1    刘\n",
       "2    林\n",
       "3    张\n",
       "4    张\n",
       "5    黄\n",
       "6    巩\n",
       "7    朱\n",
       "8    李\n",
       "9    胡\n",
       "Name: user_info, dtype: object"
      ]
     },
     "execution_count": 39,
     "metadata": {},
     "output_type": "execute_result"
    }
   ],
   "source": [
    "df['user_info'].str[0] #同上"
   ]
  },
  {
   "cell_type": "code",
   "execution_count": 40,
   "id": "hairy-intake",
   "metadata": {
    "collapsed": true,
    "execution": {
     "iopub.execute_input": "2021-05-08T06:24:47.619757Z",
     "iopub.status.busy": "2021-05-08T06:24:47.618753Z",
     "iopub.status.idle": "2021-05-08T06:24:47.627751Z",
     "shell.execute_reply": "2021-05-08T06:24:47.626752Z",
     "shell.execute_reply.started": "2021-05-08T06:24:47.619757Z"
    },
    "jupyter": {
     "outputs_hidden": true,
     "source_hidden": true
    }
   },
   "outputs": [
    {
     "data": {
      "text/plain": [
       "0        [郭玉, 合联电子传媒有限公司]\n",
       "1          [刘宁, 四通信息有限公司]\n",
       "2        [林杰, 鸿睿思博信息有限公司]\n",
       "3    [张秀云, 雨林木风计算机信息有限公司]\n",
       "4         [张丹, 易动力网络有限公司]\n",
       "5        [黄冬梅, 飞利信科技有限公司]\n",
       "6       [巩兰英, 图龙信息信息有限公司]\n",
       "7        [朱想, 浙大万朋传媒有限公司]\n",
       "8        [李霞, 创联世纪科技有限公司]\n",
       "9        [胡桂香, 毕博诚科技有限公司]\n",
       "Name: user_info, dtype: object"
      ]
     },
     "execution_count": 40,
     "metadata": {},
     "output_type": "execute_result"
    }
   ],
   "source": [
    "df.user_info.str.split('_') # 字符串分割split"
   ]
  },
  {
   "cell_type": "code",
   "execution_count": 41,
   "id": "toxic-raising",
   "metadata": {
    "collapsed": true,
    "execution": {
     "iopub.execute_input": "2021-05-08T06:25:49.149142Z",
     "iopub.status.busy": "2021-05-08T06:25:49.149142Z",
     "iopub.status.idle": "2021-05-08T06:25:49.161143Z",
     "shell.execute_reply": "2021-05-08T06:25:49.158170Z",
     "shell.execute_reply.started": "2021-05-08T06:25:49.149142Z"
    },
    "jupyter": {
     "outputs_hidden": true,
     "source_hidden": true
    }
   },
   "outputs": [
    {
     "data": {
      "text/html": [
       "<div>\n",
       "<style scoped>\n",
       "    .dataframe tbody tr th:only-of-type {\n",
       "        vertical-align: middle;\n",
       "    }\n",
       "\n",
       "    .dataframe tbody tr th {\n",
       "        vertical-align: top;\n",
       "    }\n",
       "\n",
       "    .dataframe thead th {\n",
       "        text-align: right;\n",
       "    }\n",
       "</style>\n",
       "<table border=\"1\" class=\"dataframe\">\n",
       "  <thead>\n",
       "    <tr style=\"text-align: right;\">\n",
       "      <th></th>\n",
       "      <th>0</th>\n",
       "      <th>1</th>\n",
       "    </tr>\n",
       "  </thead>\n",
       "  <tbody>\n",
       "    <tr>\n",
       "      <th>0</th>\n",
       "      <td>郭玉</td>\n",
       "      <td>合联电子传媒有限公司</td>\n",
       "    </tr>\n",
       "    <tr>\n",
       "      <th>1</th>\n",
       "      <td>刘宁</td>\n",
       "      <td>四通信息有限公司</td>\n",
       "    </tr>\n",
       "    <tr>\n",
       "      <th>2</th>\n",
       "      <td>林杰</td>\n",
       "      <td>鸿睿思博信息有限公司</td>\n",
       "    </tr>\n",
       "    <tr>\n",
       "      <th>3</th>\n",
       "      <td>张秀云</td>\n",
       "      <td>雨林木风计算机信息有限公司</td>\n",
       "    </tr>\n",
       "    <tr>\n",
       "      <th>4</th>\n",
       "      <td>张丹</td>\n",
       "      <td>易动力网络有限公司</td>\n",
       "    </tr>\n",
       "    <tr>\n",
       "      <th>5</th>\n",
       "      <td>黄冬梅</td>\n",
       "      <td>飞利信科技有限公司</td>\n",
       "    </tr>\n",
       "    <tr>\n",
       "      <th>6</th>\n",
       "      <td>巩兰英</td>\n",
       "      <td>图龙信息信息有限公司</td>\n",
       "    </tr>\n",
       "    <tr>\n",
       "      <th>7</th>\n",
       "      <td>朱想</td>\n",
       "      <td>浙大万朋传媒有限公司</td>\n",
       "    </tr>\n",
       "    <tr>\n",
       "      <th>8</th>\n",
       "      <td>李霞</td>\n",
       "      <td>创联世纪科技有限公司</td>\n",
       "    </tr>\n",
       "    <tr>\n",
       "      <th>9</th>\n",
       "      <td>胡桂香</td>\n",
       "      <td>毕博诚科技有限公司</td>\n",
       "    </tr>\n",
       "  </tbody>\n",
       "</table>\n",
       "</div>"
      ],
      "text/plain": [
       "     0              1\n",
       "0   郭玉     合联电子传媒有限公司\n",
       "1   刘宁       四通信息有限公司\n",
       "2   林杰     鸿睿思博信息有限公司\n",
       "3  张秀云  雨林木风计算机信息有限公司\n",
       "4   张丹      易动力网络有限公司\n",
       "5  黄冬梅      飞利信科技有限公司\n",
       "6  巩兰英     图龙信息信息有限公司\n",
       "7   朱想     浙大万朋传媒有限公司\n",
       "8   李霞     创联世纪科技有限公司\n",
       "9  胡桂香      毕博诚科技有限公司"
      ]
     },
     "execution_count": 41,
     "metadata": {},
     "output_type": "execute_result"
    }
   ],
   "source": [
    "df.user_info.str.split('_',expand=True) # 字符串分割split,展开成两列"
   ]
  },
  {
   "cell_type": "code",
   "execution_count": 42,
   "id": "gorgeous-crossing",
   "metadata": {
    "collapsed": true,
    "execution": {
     "iopub.execute_input": "2021-05-08T06:26:42.892220Z",
     "iopub.status.busy": "2021-05-08T06:26:42.892220Z",
     "iopub.status.idle": "2021-05-08T06:26:42.905218Z",
     "shell.execute_reply": "2021-05-08T06:26:42.901224Z",
     "shell.execute_reply.started": "2021-05-08T06:26:42.892220Z"
    },
    "jupyter": {
     "outputs_hidden": true,
     "source_hidden": true
    }
   },
   "outputs": [
    {
     "data": {
      "text/plain": [
       "0    13\n",
       "1    11\n",
       "2    13\n",
       "3    17\n",
       "4    12\n",
       "5    13\n",
       "6    14\n",
       "7    13\n",
       "8    13\n",
       "9    13\n",
       "Name: user_info, dtype: int64"
      ]
     },
     "execution_count": 42,
     "metadata": {},
     "output_type": "execute_result"
    }
   ],
   "source": [
    "df.user_info.str.len() # 字符串的字符数"
   ]
  },
  {
   "cell_type": "code",
   "execution_count": 44,
   "id": "optional-august",
   "metadata": {
    "collapsed": true,
    "execution": {
     "iopub.execute_input": "2021-05-08T06:28:23.147012Z",
     "iopub.status.busy": "2021-05-08T06:28:23.147012Z",
     "iopub.status.idle": "2021-05-08T06:28:23.155014Z",
     "shell.execute_reply": "2021-05-08T06:28:23.153028Z",
     "shell.execute_reply.started": "2021-05-08T06:28:23.147012Z"
    },
    "jupyter": {
     "outputs_hidden": true,
     "source_hidden": true
    }
   },
   "outputs": [
    {
     "data": {
      "text/plain": [
       "0    1\n",
       "1    0\n",
       "2    0\n",
       "3    0\n",
       "4    0\n",
       "5    0\n",
       "6    0\n",
       "7    1\n",
       "8    0\n",
       "9    0\n",
       "Name: user_info, dtype: int64"
      ]
     },
     "execution_count": 44,
     "metadata": {},
     "output_type": "execute_result"
    }
   ],
   "source": [
    "df.user_info.str.count('传媒') # 统计字符串出现次数"
   ]
  },
  {
   "cell_type": "code",
   "execution_count": 46,
   "id": "absolute-phrase",
   "metadata": {
    "collapsed": true,
    "execution": {
     "iopub.execute_input": "2021-05-08T06:29:46.731331Z",
     "iopub.status.busy": "2021-05-08T06:29:46.731331Z",
     "iopub.status.idle": "2021-05-08T06:29:46.740340Z",
     "shell.execute_reply": "2021-05-08T06:29:46.737335Z",
     "shell.execute_reply.started": "2021-05-08T06:29:46.731331Z"
    },
    "jupyter": {
     "outputs_hidden": true,
     "source_hidden": true
    }
   },
   "outputs": [
    {
     "data": {
      "text/plain": [
       "0     True\n",
       "1    False\n",
       "2    False\n",
       "3    False\n",
       "4    False\n",
       "5    False\n",
       "6    False\n",
       "7    False\n",
       "8    False\n",
       "9    False\n",
       "Name: user_info, dtype: bool"
      ]
     },
     "execution_count": 46,
     "metadata": {},
     "output_type": "execute_result"
    }
   ],
   "source": [
    "df.user_info.str.contains('郭玉',regex=True) # 判断是否包含指定的字符串"
   ]
  },
  {
   "cell_type": "code",
   "execution_count": 49,
   "id": "composite-northwest",
   "metadata": {
    "collapsed": true,
    "execution": {
     "iopub.execute_input": "2021-05-08T06:30:44.349644Z",
     "iopub.status.busy": "2021-05-08T06:30:44.349644Z",
     "iopub.status.idle": "2021-05-08T06:30:44.357623Z",
     "shell.execute_reply": "2021-05-08T06:30:44.355626Z",
     "shell.execute_reply.started": "2021-05-08T06:30:44.349644Z"
    },
    "jupyter": {
     "outputs_hidden": true,
     "source_hidden": true
    }
   },
   "outputs": [
    {
     "data": {
      "text/plain": [
       "0    False\n",
       "1    False\n",
       "2    False\n",
       "3    False\n",
       "4    False\n",
       "5    False\n",
       "6    False\n",
       "7    False\n",
       "8    False\n",
       "9    False\n",
       "Name: user_info, dtype: bool"
      ]
     },
     "execution_count": 49,
     "metadata": {},
     "output_type": "execute_result"
    }
   ],
   "source": [
    "df.user_info.str.contains('|',regex=False) # 判断是否包含指定的字符串,注意此处，正则表达式"
   ]
  },
  {
   "cell_type": "code",
   "execution_count": 50,
   "id": "abstract-newman",
   "metadata": {
    "collapsed": true,
    "execution": {
     "iopub.execute_input": "2021-05-08T06:31:28.814478Z",
     "iopub.status.busy": "2021-05-08T06:31:28.814478Z",
     "iopub.status.idle": "2021-05-08T06:31:28.821487Z",
     "shell.execute_reply": "2021-05-08T06:31:28.820487Z",
     "shell.execute_reply.started": "2021-05-08T06:31:28.814478Z"
    },
    "jupyter": {
     "outputs_hidden": true,
     "source_hidden": true
    }
   },
   "outputs": [
    {
     "data": {
      "text/plain": [
       "0   -1\n",
       "1   -1\n",
       "2   -1\n",
       "3   -1\n",
       "4   -1\n",
       "5    7\n",
       "6   -1\n",
       "7   -1\n",
       "8    7\n",
       "9    7\n",
       "Name: user_info, dtype: int64"
      ]
     },
     "execution_count": 50,
     "metadata": {},
     "output_type": "execute_result"
    }
   ],
   "source": [
    "df.user_info.str.find('科技') #返回给定字符串的位置；如果不含，返回-1"
   ]
  }
 ],
 "metadata": {
  "kernelspec": {
   "display_name": "Python 3",
   "language": "python",
   "name": "python3"
  },
  "language_info": {
   "codemirror_mode": {
    "name": "ipython",
    "version": 3
   },
   "file_extension": ".py",
   "mimetype": "text/x-python",
   "name": "python",
   "nbconvert_exporter": "python",
   "pygments_lexer": "ipython3",
   "version": "3.6.8"
  }
 },
 "nbformat": 4,
 "nbformat_minor": 5
}
