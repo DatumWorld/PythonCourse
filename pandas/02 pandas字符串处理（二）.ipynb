{
 "cells": [
  {
   "cell_type": "markdown",
   "id": "latin-operator",
   "metadata": {
    "execution": {
     "iopub.execute_input": "2021-05-10T07:18:52.990449Z",
     "iopub.status.busy": "2021-05-10T07:18:52.990449Z",
     "iopub.status.idle": "2021-05-10T07:18:52.994464Z",
     "shell.execute_reply": "2021-05-10T07:18:52.993452Z",
     "shell.execute_reply.started": "2021-05-10T07:18:52.990449Z"
    }
   },
   "source": [
    "## pandas字符串处理(二)"
   ]
  },
  {
   "cell_type": "markdown",
   "id": "blank-colon",
   "metadata": {},
   "source": [
    "### 字符串大小写转换\n",
    "#### lower upper title capitalize swapcase"
   ]
  },
  {
   "cell_type": "code",
   "execution_count": 10,
   "id": "combined-waterproof",
   "metadata": {
    "execution": {
     "iopub.execute_input": "2021-05-10T07:23:59.577828Z",
     "iopub.status.busy": "2021-05-10T07:23:59.577828Z",
     "iopub.status.idle": "2021-05-10T07:23:59.620823Z",
     "shell.execute_reply": "2021-05-10T07:23:59.619828Z",
     "shell.execute_reply.started": "2021-05-10T07:23:59.577828Z"
    }
   },
   "outputs": [],
   "source": [
    "from faker import Faker\n",
    "fake = Faker('en_US')"
   ]
  },
  {
   "cell_type": "code",
   "execution_count": 11,
   "id": "growing-yield",
   "metadata": {
    "execution": {
     "iopub.execute_input": "2021-05-10T07:24:00.364827Z",
     "iopub.status.busy": "2021-05-10T07:24:00.364827Z",
     "iopub.status.idle": "2021-05-10T07:24:00.372826Z",
     "shell.execute_reply": "2021-05-10T07:24:00.371843Z",
     "shell.execute_reply.started": "2021-05-10T07:24:00.364827Z"
    }
   },
   "outputs": [],
   "source": [
    "import pandas as pd\n",
    "df=pd.DataFrame(data=[ f'{fake.name()}_{fake.company()}' for x in range(10) ],columns=['user_info'])"
   ]
  },
  {
   "cell_type": "code",
   "execution_count": 17,
   "id": "remarkable-choir",
   "metadata": {
    "execution": {
     "iopub.execute_input": "2021-05-10T07:29:17.812825Z",
     "iopub.status.busy": "2021-05-10T07:29:17.812825Z",
     "iopub.status.idle": "2021-05-10T07:29:17.826825Z",
     "shell.execute_reply": "2021-05-10T07:29:17.825850Z",
     "shell.execute_reply.started": "2021-05-10T07:29:17.812825Z"
    }
   },
   "outputs": [
    {
     "data": {
      "text/html": [
       "<div>\n",
       "<style scoped>\n",
       "    .dataframe tbody tr th:only-of-type {\n",
       "        vertical-align: middle;\n",
       "    }\n",
       "\n",
       "    .dataframe tbody tr th {\n",
       "        vertical-align: top;\n",
       "    }\n",
       "\n",
       "    .dataframe thead th {\n",
       "        text-align: right;\n",
       "    }\n",
       "</style>\n",
       "<table border=\"1\" class=\"dataframe\">\n",
       "  <thead>\n",
       "    <tr style=\"text-align: right;\">\n",
       "      <th></th>\n",
       "      <th>user_info</th>\n",
       "    </tr>\n",
       "  </thead>\n",
       "  <tbody>\n",
       "    <tr>\n",
       "      <th>0</th>\n",
       "      <td>William Williams_Hall-Page</td>\n",
       "    </tr>\n",
       "    <tr>\n",
       "      <th>1</th>\n",
       "      <td>Robert Miranda_Bernard-Hernandez</td>\n",
       "    </tr>\n",
       "    <tr>\n",
       "      <th>2</th>\n",
       "      <td>Zachary Alvarez_Kirk-Williams</td>\n",
       "    </tr>\n",
       "    <tr>\n",
       "      <th>3</th>\n",
       "      <td>Erica Guerrero_Shaw, Washington and Stafford</td>\n",
       "    </tr>\n",
       "    <tr>\n",
       "      <th>4</th>\n",
       "      <td>Debbie Stephens_King Group</td>\n",
       "    </tr>\n",
       "    <tr>\n",
       "      <th>5</th>\n",
       "      <td>Victor Mcdonald_Griffin Ltd</td>\n",
       "    </tr>\n",
       "    <tr>\n",
       "      <th>6</th>\n",
       "      <td>Karen Everett_Reeves-Bradford</td>\n",
       "    </tr>\n",
       "    <tr>\n",
       "      <th>7</th>\n",
       "      <td>Isabel Clay_Schultz, Cook and Green</td>\n",
       "    </tr>\n",
       "    <tr>\n",
       "      <th>8</th>\n",
       "      <td>Dana Carney_Brown-Drake</td>\n",
       "    </tr>\n",
       "    <tr>\n",
       "      <th>9</th>\n",
       "      <td>Leslie Atkinson_Morgan and Sons</td>\n",
       "    </tr>\n",
       "  </tbody>\n",
       "</table>\n",
       "</div>"
      ],
      "text/plain": [
       "                                      user_info\n",
       "0                    William Williams_Hall-Page\n",
       "1              Robert Miranda_Bernard-Hernandez\n",
       "2                 Zachary Alvarez_Kirk-Williams\n",
       "3  Erica Guerrero_Shaw, Washington and Stafford\n",
       "4                    Debbie Stephens_King Group\n",
       "5                   Victor Mcdonald_Griffin Ltd\n",
       "6                 Karen Everett_Reeves-Bradford\n",
       "7           Isabel Clay_Schultz, Cook and Green\n",
       "8                       Dana Carney_Brown-Drake\n",
       "9               Leslie Atkinson_Morgan and Sons"
      ]
     },
     "execution_count": 17,
     "metadata": {},
     "output_type": "execute_result"
    }
   ],
   "source": [
    "df #生成的测试数据来演示"
   ]
  },
  {
   "cell_type": "markdown",
   "id": "athletic-nelson",
   "metadata": {
    "jupyter": {
     "source_hidden": true
    }
   },
   "source": [
    "### 转换成小写"
   ]
  },
  {
   "cell_type": "code",
   "execution_count": 18,
   "id": "japanese-hampton",
   "metadata": {
    "collapsed": true,
    "execution": {
     "iopub.execute_input": "2021-05-10T07:30:27.190822Z",
     "iopub.status.busy": "2021-05-10T07:30:27.190822Z",
     "iopub.status.idle": "2021-05-10T07:30:27.201821Z",
     "shell.execute_reply": "2021-05-10T07:30:27.199850Z",
     "shell.execute_reply.started": "2021-05-10T07:30:27.190822Z"
    },
    "jupyter": {
     "outputs_hidden": true,
     "source_hidden": true
    }
   },
   "outputs": [
    {
     "data": {
      "text/plain": [
       "0                      william williams_hall-page\n",
       "1                robert miranda_bernard-hernandez\n",
       "2                   zachary alvarez_kirk-williams\n",
       "3    erica guerrero_shaw, washington and stafford\n",
       "4                      debbie stephens_king group\n",
       "5                     victor mcdonald_griffin ltd\n",
       "6                   karen everett_reeves-bradford\n",
       "7             isabel clay_schultz, cook and green\n",
       "8                         dana carney_brown-drake\n",
       "9                 leslie atkinson_morgan and sons\n",
       "Name: user_info, dtype: object"
      ]
     },
     "execution_count": 18,
     "metadata": {},
     "output_type": "execute_result"
    }
   ],
   "source": [
    "df.user_info.str.lower()"
   ]
  },
  {
   "cell_type": "markdown",
   "id": "rocky-stocks",
   "metadata": {
    "jupyter": {
     "source_hidden": true
    }
   },
   "source": [
    "### 转换成大写"
   ]
  },
  {
   "cell_type": "code",
   "execution_count": 19,
   "id": "civil-yesterday",
   "metadata": {
    "collapsed": true,
    "execution": {
     "iopub.execute_input": "2021-05-10T07:31:19.180823Z",
     "iopub.status.busy": "2021-05-10T07:31:19.180823Z",
     "iopub.status.idle": "2021-05-10T07:31:19.190832Z",
     "shell.execute_reply": "2021-05-10T07:31:19.187824Z",
     "shell.execute_reply.started": "2021-05-10T07:31:19.180823Z"
    },
    "jupyter": {
     "outputs_hidden": true,
     "source_hidden": true
    }
   },
   "outputs": [
    {
     "data": {
      "text/plain": [
       "0                      WILLIAM WILLIAMS_HALL-PAGE\n",
       "1                ROBERT MIRANDA_BERNARD-HERNANDEZ\n",
       "2                   ZACHARY ALVAREZ_KIRK-WILLIAMS\n",
       "3    ERICA GUERRERO_SHAW, WASHINGTON AND STAFFORD\n",
       "4                      DEBBIE STEPHENS_KING GROUP\n",
       "5                     VICTOR MCDONALD_GRIFFIN LTD\n",
       "6                   KAREN EVERETT_REEVES-BRADFORD\n",
       "7             ISABEL CLAY_SCHULTZ, COOK AND GREEN\n",
       "8                         DANA CARNEY_BROWN-DRAKE\n",
       "9                 LESLIE ATKINSON_MORGAN AND SONS\n",
       "Name: user_info, dtype: object"
      ]
     },
     "execution_count": 19,
     "metadata": {},
     "output_type": "execute_result"
    }
   ],
   "source": [
    "df.user_info.str.upper()"
   ]
  },
  {
   "cell_type": "markdown",
   "id": "optical-nevada",
   "metadata": {},
   "source": [
    "### 转换成title样式的首字母大写"
   ]
  },
  {
   "cell_type": "code",
   "execution_count": 20,
   "id": "modified-equivalent",
   "metadata": {
    "execution": {
     "iopub.execute_input": "2021-05-10T07:32:17.844820Z",
     "iopub.status.busy": "2021-05-10T07:32:17.844820Z",
     "iopub.status.idle": "2021-05-10T07:32:17.853821Z",
     "shell.execute_reply": "2021-05-10T07:32:17.851828Z",
     "shell.execute_reply.started": "2021-05-10T07:32:17.844820Z"
    }
   },
   "outputs": [
    {
     "data": {
      "text/plain": [
       "0                      William Williams_Hall-Page\n",
       "1                Robert Miranda_Bernard-Hernandez\n",
       "2                   Zachary Alvarez_Kirk-Williams\n",
       "3    Erica Guerrero_Shaw, Washington And Stafford\n",
       "4                      Debbie Stephens_King Group\n",
       "5                     Victor Mcdonald_Griffin Ltd\n",
       "6                   Karen Everett_Reeves-Bradford\n",
       "7             Isabel Clay_Schultz, Cook And Green\n",
       "8                         Dana Carney_Brown-Drake\n",
       "9                 Leslie Atkinson_Morgan And Sons\n",
       "Name: user_info, dtype: object"
      ]
     },
     "execution_count": 20,
     "metadata": {},
     "output_type": "execute_result"
    }
   ],
   "source": [
    "df.user_info.str.title()"
   ]
  },
  {
   "cell_type": "markdown",
   "id": "detected-shore",
   "metadata": {},
   "source": [
    "### 转换成首字母大写，注意与title的区别"
   ]
  },
  {
   "cell_type": "code",
   "execution_count": 21,
   "id": "recorded-mayor",
   "metadata": {
    "execution": {
     "iopub.execute_input": "2021-05-10T07:33:19.445742Z",
     "iopub.status.busy": "2021-05-10T07:33:19.445742Z",
     "iopub.status.idle": "2021-05-10T07:33:19.452740Z",
     "shell.execute_reply": "2021-05-10T07:33:19.451749Z",
     "shell.execute_reply.started": "2021-05-10T07:33:19.445742Z"
    }
   },
   "outputs": [
    {
     "data": {
      "text/plain": [
       "0                      William williams_hall-page\n",
       "1                Robert miranda_bernard-hernandez\n",
       "2                   Zachary alvarez_kirk-williams\n",
       "3    Erica guerrero_shaw, washington and stafford\n",
       "4                      Debbie stephens_king group\n",
       "5                     Victor mcdonald_griffin ltd\n",
       "6                   Karen everett_reeves-bradford\n",
       "7             Isabel clay_schultz, cook and green\n",
       "8                         Dana carney_brown-drake\n",
       "9                 Leslie atkinson_morgan and sons\n",
       "Name: user_info, dtype: object"
      ]
     },
     "execution_count": 21,
     "metadata": {},
     "output_type": "execute_result"
    }
   ],
   "source": [
    "df.user_info.str.capitalize()"
   ]
  },
  {
   "cell_type": "markdown",
   "id": "fatty-associate",
   "metadata": {},
   "source": [
    "### 交换大小写"
   ]
  },
  {
   "cell_type": "code",
   "execution_count": 22,
   "id": "prospective-wright",
   "metadata": {
    "execution": {
     "iopub.execute_input": "2021-05-10T07:34:40.941743Z",
     "iopub.status.busy": "2021-05-10T07:34:40.941743Z",
     "iopub.status.idle": "2021-05-10T07:34:40.946767Z",
     "shell.execute_reply": "2021-05-10T07:34:40.945744Z",
     "shell.execute_reply.started": "2021-05-10T07:34:40.941743Z"
    }
   },
   "outputs": [
    {
     "data": {
      "text/plain": [
       "0                      wILLIAM wILLIAMS_hALL-pAGE\n",
       "1                rOBERT mIRANDA_bERNARD-hERNANDEZ\n",
       "2                   zACHARY aLVAREZ_kIRK-wILLIAMS\n",
       "3    eRICA gUERRERO_sHAW, wASHINGTON AND sTAFFORD\n",
       "4                      dEBBIE sTEPHENS_kING gROUP\n",
       "5                     vICTOR mCDONALD_gRIFFIN lTD\n",
       "6                   kAREN eVERETT_rEEVES-bRADFORD\n",
       "7             iSABEL cLAY_sCHULTZ, cOOK AND gREEN\n",
       "8                         dANA cARNEY_bROWN-dRAKE\n",
       "9                 lESLIE aTKINSON_mORGAN AND sONS\n",
       "Name: user_info, dtype: object"
      ]
     },
     "execution_count": 22,
     "metadata": {},
     "output_type": "execute_result"
    }
   ],
   "source": [
    "df.user_info.str.swapcase()"
   ]
  }
 ],
 "metadata": {
  "kernelspec": {
   "display_name": "Python 3",
   "language": "python",
   "name": "python3"
  },
  "language_info": {
   "codemirror_mode": {
    "name": "ipython",
    "version": 3
   },
   "file_extension": ".py",
   "mimetype": "text/x-python",
   "name": "python",
   "nbconvert_exporter": "python",
   "pygments_lexer": "ipython3",
   "version": "3.6.8"
  }
 },
 "nbformat": 4,
 "nbformat_minor": 5
}
