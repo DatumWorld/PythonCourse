{
 "cells": [
  {
   "cell_type": "markdown",
   "id": "designed-filename",
   "metadata": {
    "execution": {
     "iopub.execute_input": "2021-05-10T07:18:52.990449Z",
     "iopub.status.busy": "2021-05-10T07:18:52.990449Z",
     "iopub.status.idle": "2021-05-10T07:18:52.994464Z",
     "shell.execute_reply": "2021-05-10T07:18:52.993452Z",
     "shell.execute_reply.started": "2021-05-10T07:18:52.990449Z"
    }
   },
   "source": [
    "## pandas字符串处理(三)"
   ]
  },
  {
   "cell_type": "markdown",
   "id": "uniform-lindsay",
   "metadata": {},
   "source": [
    "### 字符串替换\n",
    "#### replace slice_replace translate"
   ]
  },
  {
   "cell_type": "code",
   "execution_count": 48,
   "id": "standing-inspection",
   "metadata": {
    "execution": {
     "iopub.execute_input": "2021-05-11T06:49:04.295113Z",
     "iopub.status.busy": "2021-05-11T06:49:04.295113Z",
     "iopub.status.idle": "2021-05-11T06:49:04.333119Z",
     "shell.execute_reply": "2021-05-11T06:49:04.332116Z",
     "shell.execute_reply.started": "2021-05-11T06:49:04.295113Z"
    }
   },
   "outputs": [],
   "source": [
    "from faker import Faker\n",
    "fake = Faker('en_US')"
   ]
  },
  {
   "cell_type": "code",
   "execution_count": 49,
   "id": "wireless-annex",
   "metadata": {
    "execution": {
     "iopub.execute_input": "2021-05-11T06:49:05.854114Z",
     "iopub.status.busy": "2021-05-11T06:49:05.854114Z",
     "iopub.status.idle": "2021-05-11T06:49:05.860141Z",
     "shell.execute_reply": "2021-05-11T06:49:05.860141Z",
     "shell.execute_reply.started": "2021-05-11T06:49:05.854114Z"
    }
   },
   "outputs": [],
   "source": [
    "import pandas as pd\n",
    "df=pd.DataFrame(data=[ f'{fake.name()}_{fake.company()}' for x in range(10) ],columns=['user_info'])"
   ]
  },
  {
   "cell_type": "code",
   "execution_count": 50,
   "id": "internal-civilian",
   "metadata": {
    "execution": {
     "iopub.execute_input": "2021-05-11T06:49:07.937113Z",
     "iopub.status.busy": "2021-05-11T06:49:07.936113Z",
     "iopub.status.idle": "2021-05-11T06:49:07.943113Z",
     "shell.execute_reply": "2021-05-11T06:49:07.943113Z",
     "shell.execute_reply.started": "2021-05-11T06:49:07.937113Z"
    }
   },
   "outputs": [
    {
     "data": {
      "text/html": [
       "<div>\n",
       "<style scoped>\n",
       "    .dataframe tbody tr th:only-of-type {\n",
       "        vertical-align: middle;\n",
       "    }\n",
       "\n",
       "    .dataframe tbody tr th {\n",
       "        vertical-align: top;\n",
       "    }\n",
       "\n",
       "    .dataframe thead th {\n",
       "        text-align: right;\n",
       "    }\n",
       "</style>\n",
       "<table border=\"1\" class=\"dataframe\">\n",
       "  <thead>\n",
       "    <tr style=\"text-align: right;\">\n",
       "      <th></th>\n",
       "      <th>user_info</th>\n",
       "    </tr>\n",
       "  </thead>\n",
       "  <tbody>\n",
       "    <tr>\n",
       "      <th>0</th>\n",
       "      <td>Brian Sheppard_Franco, Myers and Watson</td>\n",
       "    </tr>\n",
       "    <tr>\n",
       "      <th>1</th>\n",
       "      <td>Aaron Rodgers_Thompson, Smith and Coleman</td>\n",
       "    </tr>\n",
       "    <tr>\n",
       "      <th>2</th>\n",
       "      <td>Timothy Martinez_Jones, Norman and Rodriguez</td>\n",
       "    </tr>\n",
       "    <tr>\n",
       "      <th>3</th>\n",
       "      <td>Donald Marshall_Perkins-Koch</td>\n",
       "    </tr>\n",
       "    <tr>\n",
       "      <th>4</th>\n",
       "      <td>David Taylor_Schmidt-Santos</td>\n",
       "    </tr>\n",
       "    <tr>\n",
       "      <th>5</th>\n",
       "      <td>Donna Davis_Ball, Lopez and Welch</td>\n",
       "    </tr>\n",
       "    <tr>\n",
       "      <th>6</th>\n",
       "      <td>Randy Burns_Miller-Martinez</td>\n",
       "    </tr>\n",
       "    <tr>\n",
       "      <th>7</th>\n",
       "      <td>Kelsey Torres_Gonzalez and Sons</td>\n",
       "    </tr>\n",
       "    <tr>\n",
       "      <th>8</th>\n",
       "      <td>Kaylee Flores_Johnson-Sampson</td>\n",
       "    </tr>\n",
       "    <tr>\n",
       "      <th>9</th>\n",
       "      <td>Adam Johnson_Wallace, Ortega and Braun</td>\n",
       "    </tr>\n",
       "  </tbody>\n",
       "</table>\n",
       "</div>"
      ],
      "text/plain": [
       "                                      user_info\n",
       "0       Brian Sheppard_Franco, Myers and Watson\n",
       "1     Aaron Rodgers_Thompson, Smith and Coleman\n",
       "2  Timothy Martinez_Jones, Norman and Rodriguez\n",
       "3                  Donald Marshall_Perkins-Koch\n",
       "4                   David Taylor_Schmidt-Santos\n",
       "5             Donna Davis_Ball, Lopez and Welch\n",
       "6                   Randy Burns_Miller-Martinez\n",
       "7               Kelsey Torres_Gonzalez and Sons\n",
       "8                 Kaylee Flores_Johnson-Sampson\n",
       "9        Adam Johnson_Wallace, Ortega and Braun"
      ]
     },
     "execution_count": 50,
     "metadata": {},
     "output_type": "execute_result"
    }
   ],
   "source": [
    "df #生成的测试数据来演示"
   ]
  },
  {
   "cell_type": "code",
   "execution_count": 51,
   "id": "streaming-helen",
   "metadata": {
    "execution": {
     "iopub.execute_input": "2021-05-11T06:49:49.982115Z",
     "iopub.status.busy": "2021-05-11T06:49:49.981112Z",
     "iopub.status.idle": "2021-05-11T06:49:49.991121Z",
     "shell.execute_reply": "2021-05-11T06:49:49.990131Z",
     "shell.execute_reply.started": "2021-05-11T06:49:49.982115Z"
    }
   },
   "outputs": [
    {
     "data": {
      "text/plain": [
       "0         @rian Sheppard_Franco, Myers and Watson\n",
       "1       Aaron Rodgers_Thompson, Smith and Coleman\n",
       "2    Timothy Martinez_Jones, Norman and Rodriguez\n",
       "3                    Donald Marshall_Perkins-Koch\n",
       "4                     David Taylor_Schmidt-Santos\n",
       "5               Donna Davis_@all, Lopez and Welch\n",
       "6                     Randy @urns_Miller-Martinez\n",
       "7                 Kelsey Torres_Gonzalez and Sons\n",
       "8                   Kaylee Flores_Johnson-Sampson\n",
       "9          Adam Johnson_Wallace, Ortega and @raun\n",
       "Name: user_info, dtype: object"
      ]
     },
     "execution_count": 51,
     "metadata": {},
     "output_type": "execute_result"
    }
   ],
   "source": [
    "df.user_info.str.replace('B','@')"
   ]
  },
  {
   "cell_type": "code",
   "execution_count": 53,
   "id": "automatic-naples",
   "metadata": {
    "execution": {
     "iopub.execute_input": "2021-05-11T06:51:42.105121Z",
     "iopub.status.busy": "2021-05-11T06:51:42.105121Z",
     "iopub.status.idle": "2021-05-11T06:51:42.112123Z",
     "shell.execute_reply": "2021-05-11T06:51:42.111118Z",
     "shell.execute_reply.started": "2021-05-11T06:51:42.105121Z"
    }
   },
   "outputs": [
    {
     "data": {
      "text/plain": [
       "0          rian SheppardFranco, Myers and Watson\n",
       "1        aron RodgersThompson, Smith and Coleman\n",
       "2    Timothy MartinezJones, Norman and Rodriguez\n",
       "3                    Donald MarshallPerkins-Koch\n",
       "4                     David TaylorSchmidt-Santos\n",
       "5                Donna Davisall, Lopez and Welch\n",
       "6                      Randy urnsMiller-Martinez\n",
       "7                 Kelsey TorresGonzalez and Sons\n",
       "8                   Kaylee FloresJohnson-Sampson\n",
       "9            dam JohnsonWallace, Ortega and raun\n",
       "Name: user_info, dtype: object"
      ]
     },
     "execution_count": 53,
     "metadata": {},
     "output_type": "execute_result"
    }
   ],
   "source": [
    "df.user_info.str.replace('[BA_]','') # 正则表达式方式替换。将BA_ 全部替换''"
   ]
  },
  {
   "cell_type": "code",
   "execution_count": 52,
   "id": "smooth-collapse",
   "metadata": {
    "execution": {
     "iopub.execute_input": "2021-05-11T06:50:36.707116Z",
     "iopub.status.busy": "2021-05-11T06:50:36.707116Z",
     "iopub.status.idle": "2021-05-11T06:50:36.716118Z",
     "shell.execute_reply": "2021-05-11T06:50:36.715119Z",
     "shell.execute_reply.started": "2021-05-11T06:50:36.707116Z"
    }
   },
   "outputs": [
    {
     "data": {
      "text/plain": [
       "0         Brian S###ppard_Franco, Myers and Watson\n",
       "1       Aaron R###gers_Thompson, Smith and Coleman\n",
       "2    Timothy###artinez_Jones, Norman and Rodriguez\n",
       "3                    Donald ###rshall_Perkins-Koch\n",
       "4                     David T###lor_Schmidt-Santos\n",
       "5               Donna D###is_Ball, Lopez and Welch\n",
       "6                     Randy B###ns_Miller-Martinez\n",
       "7                 Kelsey ###rres_Gonzalez and Sons\n",
       "8                   Kaylee ###ores_Johnson-Sampson\n",
       "9          Adam Jo###son_Wallace, Ortega and Braun\n",
       "Name: user_info, dtype: object"
      ]
     },
     "execution_count": 52,
     "metadata": {},
     "output_type": "execute_result"
    }
   ],
   "source": [
    "df.user_info.str.slice_replace(7,9,'###') # 切片替换"
   ]
  },
  {
   "cell_type": "code",
   "execution_count": 54,
   "id": "vocal-mitchell",
   "metadata": {
    "execution": {
     "iopub.execute_input": "2021-05-11T06:53:44.242113Z",
     "iopub.status.busy": "2021-05-11T06:53:44.242113Z",
     "iopub.status.idle": "2021-05-11T06:53:44.251122Z",
     "shell.execute_reply": "2021-05-11T06:53:44.249129Z",
     "shell.execute_reply.started": "2021-05-11T06:53:44.242113Z"
    }
   },
   "outputs": [
    {
     "data": {
      "text/plain": [
       "0         1rian Sheppard_Franco, Myers and Watson\n",
       "1       2aron Rodgers_Thompson, Smith and Coleman\n",
       "2    Timothy Martinez_Jones, Norman and Rodriguez\n",
       "3                    Donald Marshall_Perkins-Koch\n",
       "4                     David Taylor_Schmidt-Santos\n",
       "5               Donna Davis_1all, Lopez and Welch\n",
       "6                     Randy 1urns_Miller-Martinez\n",
       "7                 Kelsey Torres_Gonzalez and Sons\n",
       "8                   Kaylee Flores_Johnson-Sampson\n",
       "9          2dam Johnson_Wallace, Ortega and 1raun\n",
       "Name: user_info, dtype: object"
      ]
     },
     "execution_count": 54,
     "metadata": {},
     "output_type": "execute_result"
    }
   ],
   "source": [
    "df.user_info.str.translate(str.maketrans({'B':'1','A':'2'})) # 批量替换，将B和A对应替换成1 会和2 "
   ]
  }
 ],
 "metadata": {
  "kernelspec": {
   "display_name": "Python 3",
   "language": "python",
   "name": "python3"
  },
  "language_info": {
   "codemirror_mode": {
    "name": "ipython",
    "version": 3
   },
   "file_extension": ".py",
   "mimetype": "text/x-python",
   "name": "python",
   "nbconvert_exporter": "python",
   "pygments_lexer": "ipython3",
   "version": "3.6.8"
  }
 },
 "nbformat": 4,
 "nbformat_minor": 5
}
