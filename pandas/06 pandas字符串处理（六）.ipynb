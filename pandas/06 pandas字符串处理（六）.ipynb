{
 "cells": [
  {
   "cell_type": "markdown",
   "id": "embedded-saudi",
   "metadata": {
    "execution": {
     "iopub.execute_input": "2021-05-10T07:18:52.990449Z",
     "iopub.status.busy": "2021-05-10T07:18:52.990449Z",
     "iopub.status.idle": "2021-05-10T07:18:52.994464Z",
     "shell.execute_reply": "2021-05-10T07:18:52.993452Z",
     "shell.execute_reply.started": "2021-05-10T07:18:52.990449Z"
    }
   },
   "source": [
    "## pandas字符串处理(六)"
   ]
  },
  {
   "cell_type": "markdown",
   "id": "employed-system",
   "metadata": {},
   "source": [
    "### 字符串其它操作\n",
    "#### extract extractall rpartition rfind rsplit ljust rjust match"
   ]
  },
  {
   "cell_type": "code",
   "execution_count": 69,
   "id": "comic-celebration",
   "metadata": {
    "execution": {
     "iopub.execute_input": "2021-05-14T07:09:58.533545Z",
     "iopub.status.busy": "2021-05-14T07:09:58.532543Z",
     "iopub.status.idle": "2021-05-14T07:09:58.565573Z",
     "shell.execute_reply": "2021-05-14T07:09:58.565573Z",
     "shell.execute_reply.started": "2021-05-14T07:09:58.533545Z"
    }
   },
   "outputs": [],
   "source": [
    "from faker import Faker\n",
    "fake = Faker('zh_CN')"
   ]
  },
  {
   "cell_type": "code",
   "execution_count": 70,
   "id": "insured-delicious",
   "metadata": {
    "execution": {
     "iopub.execute_input": "2021-05-14T07:09:59.409570Z",
     "iopub.status.busy": "2021-05-14T07:09:59.409570Z",
     "iopub.status.idle": "2021-05-14T07:09:59.414543Z",
     "shell.execute_reply": "2021-05-14T07:09:59.414543Z",
     "shell.execute_reply.started": "2021-05-14T07:09:59.409570Z"
    }
   },
   "outputs": [],
   "source": [
    "import pandas as pd\n",
    "df=pd.DataFrame(data=[ [fake.name(),fake.company(),fake.numerify(),'空格 空格2 空格3'] for x in range(10) ],columns=['user','company','number','空格列'])"
   ]
  },
  {
   "cell_type": "code",
   "execution_count": 71,
   "id": "technological-maple",
   "metadata": {
    "execution": {
     "iopub.execute_input": "2021-05-14T07:10:00.299575Z",
     "iopub.status.busy": "2021-05-14T07:10:00.299575Z",
     "iopub.status.idle": "2021-05-14T07:10:00.310552Z",
     "shell.execute_reply": "2021-05-14T07:10:00.308551Z",
     "shell.execute_reply.started": "2021-05-14T07:10:00.299575Z"
    }
   },
   "outputs": [
    {
     "data": {
      "text/html": [
       "<div>\n",
       "<style scoped>\n",
       "    .dataframe tbody tr th:only-of-type {\n",
       "        vertical-align: middle;\n",
       "    }\n",
       "\n",
       "    .dataframe tbody tr th {\n",
       "        vertical-align: top;\n",
       "    }\n",
       "\n",
       "    .dataframe thead th {\n",
       "        text-align: right;\n",
       "    }\n",
       "</style>\n",
       "<table border=\"1\" class=\"dataframe\">\n",
       "  <thead>\n",
       "    <tr style=\"text-align: right;\">\n",
       "      <th></th>\n",
       "      <th>user</th>\n",
       "      <th>company</th>\n",
       "      <th>number</th>\n",
       "      <th>空格列</th>\n",
       "    </tr>\n",
       "  </thead>\n",
       "  <tbody>\n",
       "    <tr>\n",
       "      <th>0</th>\n",
       "      <td>谭彬</td>\n",
       "      <td>快讯网络有限公司</td>\n",
       "      <td>678</td>\n",
       "      <td>空格 空格2 空格3</td>\n",
       "    </tr>\n",
       "    <tr>\n",
       "      <th>1</th>\n",
       "      <td>程荣</td>\n",
       "      <td>飞利信网络有限公司</td>\n",
       "      <td>940</td>\n",
       "      <td>空格 空格2 空格3</td>\n",
       "    </tr>\n",
       "    <tr>\n",
       "      <th>2</th>\n",
       "      <td>程瑜</td>\n",
       "      <td>合联电子信息有限公司</td>\n",
       "      <td>517</td>\n",
       "      <td>空格 空格2 空格3</td>\n",
       "    </tr>\n",
       "    <tr>\n",
       "      <th>3</th>\n",
       "      <td>王玉华</td>\n",
       "      <td>襄樊地球村科技有限公司</td>\n",
       "      <td>061</td>\n",
       "      <td>空格 空格2 空格3</td>\n",
       "    </tr>\n",
       "    <tr>\n",
       "      <th>4</th>\n",
       "      <td>胡春梅</td>\n",
       "      <td>昂歌信息科技有限公司</td>\n",
       "      <td>121</td>\n",
       "      <td>空格 空格2 空格3</td>\n",
       "    </tr>\n",
       "    <tr>\n",
       "      <th>5</th>\n",
       "      <td>黄晶</td>\n",
       "      <td>襄樊地球村科技有限公司</td>\n",
       "      <td>362</td>\n",
       "      <td>空格 空格2 空格3</td>\n",
       "    </tr>\n",
       "    <tr>\n",
       "      <th>6</th>\n",
       "      <td>阎璐</td>\n",
       "      <td>图龙信息传媒有限公司</td>\n",
       "      <td>554</td>\n",
       "      <td>空格 空格2 空格3</td>\n",
       "    </tr>\n",
       "    <tr>\n",
       "      <th>7</th>\n",
       "      <td>王峰</td>\n",
       "      <td>商软冠联传媒有限公司</td>\n",
       "      <td>671</td>\n",
       "      <td>空格 空格2 空格3</td>\n",
       "    </tr>\n",
       "    <tr>\n",
       "      <th>8</th>\n",
       "      <td>叶兰英</td>\n",
       "      <td>国讯信息有限公司</td>\n",
       "      <td>200</td>\n",
       "      <td>空格 空格2 空格3</td>\n",
       "    </tr>\n",
       "    <tr>\n",
       "      <th>9</th>\n",
       "      <td>李建</td>\n",
       "      <td>华远软件网络有限公司</td>\n",
       "      <td>483</td>\n",
       "      <td>空格 空格2 空格3</td>\n",
       "    </tr>\n",
       "  </tbody>\n",
       "</table>\n",
       "</div>"
      ],
      "text/plain": [
       "  user      company number         空格列\n",
       "0   谭彬     快讯网络有限公司    678  空格 空格2 空格3\n",
       "1   程荣    飞利信网络有限公司    940  空格 空格2 空格3\n",
       "2   程瑜   合联电子信息有限公司    517  空格 空格2 空格3\n",
       "3  王玉华  襄樊地球村科技有限公司    061  空格 空格2 空格3\n",
       "4  胡春梅   昂歌信息科技有限公司    121  空格 空格2 空格3\n",
       "5   黄晶  襄樊地球村科技有限公司    362  空格 空格2 空格3\n",
       "6   阎璐   图龙信息传媒有限公司    554  空格 空格2 空格3\n",
       "7   王峰   商软冠联传媒有限公司    671  空格 空格2 空格3\n",
       "8  叶兰英     国讯信息有限公司    200  空格 空格2 空格3\n",
       "9   李建   华远软件网络有限公司    483  空格 空格2 空格3"
      ]
     },
     "execution_count": 71,
     "metadata": {},
     "output_type": "execute_result"
    }
   ],
   "source": [
    "df #生成的测试数据来演示"
   ]
  },
  {
   "cell_type": "code",
   "execution_count": 73,
   "id": "textile-stress",
   "metadata": {
    "execution": {
     "iopub.execute_input": "2021-05-14T07:12:07.718553Z",
     "iopub.status.busy": "2021-05-14T07:12:07.718553Z",
     "iopub.status.idle": "2021-05-14T07:12:07.730546Z",
     "shell.execute_reply": "2021-05-14T07:12:07.730546Z",
     "shell.execute_reply.started": "2021-05-14T07:12:07.718553Z"
    }
   },
   "outputs": [
    {
     "data": {
      "text/html": [
       "<div>\n",
       "<style scoped>\n",
       "    .dataframe tbody tr th:only-of-type {\n",
       "        vertical-align: middle;\n",
       "    }\n",
       "\n",
       "    .dataframe tbody tr th {\n",
       "        vertical-align: top;\n",
       "    }\n",
       "\n",
       "    .dataframe thead th {\n",
       "        text-align: right;\n",
       "    }\n",
       "</style>\n",
       "<table border=\"1\" class=\"dataframe\">\n",
       "  <thead>\n",
       "    <tr style=\"text-align: right;\">\n",
       "      <th></th>\n",
       "      <th>0</th>\n",
       "    </tr>\n",
       "  </thead>\n",
       "  <tbody>\n",
       "    <tr>\n",
       "      <th>0</th>\n",
       "      <td>网</td>\n",
       "    </tr>\n",
       "    <tr>\n",
       "      <th>1</th>\n",
       "      <td>网</td>\n",
       "    </tr>\n",
       "    <tr>\n",
       "      <th>2</th>\n",
       "      <td>NaN</td>\n",
       "    </tr>\n",
       "    <tr>\n",
       "      <th>3</th>\n",
       "      <td>科</td>\n",
       "    </tr>\n",
       "    <tr>\n",
       "      <th>4</th>\n",
       "      <td>科</td>\n",
       "    </tr>\n",
       "    <tr>\n",
       "      <th>5</th>\n",
       "      <td>科</td>\n",
       "    </tr>\n",
       "    <tr>\n",
       "      <th>6</th>\n",
       "      <td>NaN</td>\n",
       "    </tr>\n",
       "    <tr>\n",
       "      <th>7</th>\n",
       "      <td>NaN</td>\n",
       "    </tr>\n",
       "    <tr>\n",
       "      <th>8</th>\n",
       "      <td>NaN</td>\n",
       "    </tr>\n",
       "    <tr>\n",
       "      <th>9</th>\n",
       "      <td>网</td>\n",
       "    </tr>\n",
       "  </tbody>\n",
       "</table>\n",
       "</div>"
      ],
      "text/plain": [
       "     0\n",
       "0    网\n",
       "1    网\n",
       "2  NaN\n",
       "3    科\n",
       "4    科\n",
       "5    科\n",
       "6  NaN\n",
       "7  NaN\n",
       "8  NaN\n",
       "9    网"
      ]
     },
     "execution_count": 73,
     "metadata": {},
     "output_type": "execute_result"
    }
   ],
   "source": [
    "df.company.str.extract(r'([网络科技])')\n",
    "# 在元素字符串中找到与给定字符串中匹配的第一个字符，并将该字符返回\n",
    "# 例如，在第一行元素中，依次查找是否包含“网络科技”中的某个字，找到“网”，将其返回，不再进行后续查找"
   ]
  },
  {
   "cell_type": "code",
   "execution_count": 74,
   "id": "future-turtle",
   "metadata": {
    "execution": {
     "iopub.execute_input": "2021-05-14T07:15:04.184550Z",
     "iopub.status.busy": "2021-05-14T07:15:04.184550Z",
     "iopub.status.idle": "2021-05-14T07:15:04.197562Z",
     "shell.execute_reply": "2021-05-14T07:15:04.195562Z",
     "shell.execute_reply.started": "2021-05-14T07:15:04.184550Z"
    }
   },
   "outputs": [
    {
     "data": {
      "text/html": [
       "<div>\n",
       "<style scoped>\n",
       "    .dataframe tbody tr th:only-of-type {\n",
       "        vertical-align: middle;\n",
       "    }\n",
       "\n",
       "    .dataframe tbody tr th {\n",
       "        vertical-align: top;\n",
       "    }\n",
       "\n",
       "    .dataframe thead th {\n",
       "        text-align: right;\n",
       "    }\n",
       "</style>\n",
       "<table border=\"1\" class=\"dataframe\">\n",
       "  <thead>\n",
       "    <tr style=\"text-align: right;\">\n",
       "      <th></th>\n",
       "      <th>结果</th>\n",
       "    </tr>\n",
       "  </thead>\n",
       "  <tbody>\n",
       "    <tr>\n",
       "      <th>0</th>\n",
       "      <td>网</td>\n",
       "    </tr>\n",
       "    <tr>\n",
       "      <th>1</th>\n",
       "      <td>网</td>\n",
       "    </tr>\n",
       "    <tr>\n",
       "      <th>2</th>\n",
       "      <td>NaN</td>\n",
       "    </tr>\n",
       "    <tr>\n",
       "      <th>3</th>\n",
       "      <td>科</td>\n",
       "    </tr>\n",
       "    <tr>\n",
       "      <th>4</th>\n",
       "      <td>科</td>\n",
       "    </tr>\n",
       "    <tr>\n",
       "      <th>5</th>\n",
       "      <td>科</td>\n",
       "    </tr>\n",
       "    <tr>\n",
       "      <th>6</th>\n",
       "      <td>NaN</td>\n",
       "    </tr>\n",
       "    <tr>\n",
       "      <th>7</th>\n",
       "      <td>NaN</td>\n",
       "    </tr>\n",
       "    <tr>\n",
       "      <th>8</th>\n",
       "      <td>NaN</td>\n",
       "    </tr>\n",
       "    <tr>\n",
       "      <th>9</th>\n",
       "      <td>网</td>\n",
       "    </tr>\n",
       "  </tbody>\n",
       "</table>\n",
       "</div>"
      ],
      "text/plain": [
       "    结果\n",
       "0    网\n",
       "1    网\n",
       "2  NaN\n",
       "3    科\n",
       "4    科\n",
       "5    科\n",
       "6  NaN\n",
       "7  NaN\n",
       "8  NaN\n",
       "9    网"
      ]
     },
     "execution_count": 74,
     "metadata": {},
     "output_type": "execute_result"
    }
   ],
   "source": [
    "df.company.str.extract(r'(?P<结果>[网络科技])')\n",
    "# 在元素字符串中找到与给定字符串中匹配的第一个字符，并将该字符返回\n",
    "# 例如，在第一行元素中，依次查找是否包含“网络科技”中的某个字，找到“网”，将其返回，不再进行后续查找\n",
    "# 指定返回结果的列名"
   ]
  },
  {
   "cell_type": "code",
   "execution_count": 75,
   "id": "direct-class",
   "metadata": {
    "execution": {
     "iopub.execute_input": "2021-05-14T07:15:35.352549Z",
     "iopub.status.busy": "2021-05-14T07:15:35.352549Z",
     "iopub.status.idle": "2021-05-14T07:15:35.367549Z",
     "shell.execute_reply": "2021-05-14T07:15:35.366577Z",
     "shell.execute_reply.started": "2021-05-14T07:15:35.352549Z"
    }
   },
   "outputs": [
    {
     "data": {
      "text/html": [
       "<div>\n",
       "<style scoped>\n",
       "    .dataframe tbody tr th:only-of-type {\n",
       "        vertical-align: middle;\n",
       "    }\n",
       "\n",
       "    .dataframe tbody tr th {\n",
       "        vertical-align: top;\n",
       "    }\n",
       "\n",
       "    .dataframe thead th {\n",
       "        text-align: right;\n",
       "    }\n",
       "</style>\n",
       "<table border=\"1\" class=\"dataframe\">\n",
       "  <thead>\n",
       "    <tr style=\"text-align: right;\">\n",
       "      <th></th>\n",
       "      <th></th>\n",
       "      <th>结果</th>\n",
       "    </tr>\n",
       "    <tr>\n",
       "      <th></th>\n",
       "      <th>match</th>\n",
       "      <th></th>\n",
       "    </tr>\n",
       "  </thead>\n",
       "  <tbody>\n",
       "    <tr>\n",
       "      <th rowspan=\"2\" valign=\"top\">0</th>\n",
       "      <th>0</th>\n",
       "      <td>网</td>\n",
       "    </tr>\n",
       "    <tr>\n",
       "      <th>1</th>\n",
       "      <td>络</td>\n",
       "    </tr>\n",
       "    <tr>\n",
       "      <th rowspan=\"2\" valign=\"top\">1</th>\n",
       "      <th>0</th>\n",
       "      <td>网</td>\n",
       "    </tr>\n",
       "    <tr>\n",
       "      <th>1</th>\n",
       "      <td>络</td>\n",
       "    </tr>\n",
       "    <tr>\n",
       "      <th rowspan=\"2\" valign=\"top\">3</th>\n",
       "      <th>0</th>\n",
       "      <td>科</td>\n",
       "    </tr>\n",
       "    <tr>\n",
       "      <th>1</th>\n",
       "      <td>技</td>\n",
       "    </tr>\n",
       "    <tr>\n",
       "      <th rowspan=\"2\" valign=\"top\">4</th>\n",
       "      <th>0</th>\n",
       "      <td>科</td>\n",
       "    </tr>\n",
       "    <tr>\n",
       "      <th>1</th>\n",
       "      <td>技</td>\n",
       "    </tr>\n",
       "    <tr>\n",
       "      <th rowspan=\"2\" valign=\"top\">5</th>\n",
       "      <th>0</th>\n",
       "      <td>科</td>\n",
       "    </tr>\n",
       "    <tr>\n",
       "      <th>1</th>\n",
       "      <td>技</td>\n",
       "    </tr>\n",
       "    <tr>\n",
       "      <th rowspan=\"2\" valign=\"top\">9</th>\n",
       "      <th>0</th>\n",
       "      <td>网</td>\n",
       "    </tr>\n",
       "    <tr>\n",
       "      <th>1</th>\n",
       "      <td>络</td>\n",
       "    </tr>\n",
       "  </tbody>\n",
       "</table>\n",
       "</div>"
      ],
      "text/plain": [
       "        结果\n",
       "  match   \n",
       "0 0      网\n",
       "  1      络\n",
       "1 0      网\n",
       "  1      络\n",
       "3 0      科\n",
       "  1      技\n",
       "4 0      科\n",
       "  1      技\n",
       "5 0      科\n",
       "  1      技\n",
       "9 0      网\n",
       "  1      络"
      ]
     },
     "execution_count": 75,
     "metadata": {},
     "output_type": "execute_result"
    }
   ],
   "source": [
    "df.company.str.extractall(r'(?P<结果>[网络科技])')\n",
    "# 在元素字符串中找到与给定字符串中匹配的第一个字符，并将该字符返回\n",
    "# 例如，在第一行元素中，依次查找是否包含“网络科技”中的某些字，找到“网”，将其返回，继续进行后续查找，“络”也返回，后面的均不匹配\n",
    "# 指定返回结果的列名"
   ]
  },
  {
   "cell_type": "code",
   "execution_count": 77,
   "id": "demographic-absorption",
   "metadata": {
    "execution": {
     "iopub.execute_input": "2021-05-14T07:18:14.002544Z",
     "iopub.status.busy": "2021-05-14T07:18:14.001545Z",
     "iopub.status.idle": "2021-05-14T07:18:14.014547Z",
     "shell.execute_reply": "2021-05-14T07:18:14.013545Z",
     "shell.execute_reply.started": "2021-05-14T07:18:14.002544Z"
    }
   },
   "outputs": [
    {
     "data": {
      "text/html": [
       "<div>\n",
       "<style scoped>\n",
       "    .dataframe tbody tr th:only-of-type {\n",
       "        vertical-align: middle;\n",
       "    }\n",
       "\n",
       "    .dataframe tbody tr th {\n",
       "        vertical-align: top;\n",
       "    }\n",
       "\n",
       "    .dataframe thead th {\n",
       "        text-align: right;\n",
       "    }\n",
       "</style>\n",
       "<table border=\"1\" class=\"dataframe\">\n",
       "  <thead>\n",
       "    <tr style=\"text-align: right;\">\n",
       "      <th></th>\n",
       "      <th>0</th>\n",
       "      <th>1</th>\n",
       "      <th>2</th>\n",
       "    </tr>\n",
       "  </thead>\n",
       "  <tbody>\n",
       "    <tr>\n",
       "      <th>0</th>\n",
       "      <td>空格</td>\n",
       "      <td></td>\n",
       "      <td>空格2 空格3</td>\n",
       "    </tr>\n",
       "    <tr>\n",
       "      <th>1</th>\n",
       "      <td>空格</td>\n",
       "      <td></td>\n",
       "      <td>空格2 空格3</td>\n",
       "    </tr>\n",
       "    <tr>\n",
       "      <th>2</th>\n",
       "      <td>空格</td>\n",
       "      <td></td>\n",
       "      <td>空格2 空格3</td>\n",
       "    </tr>\n",
       "    <tr>\n",
       "      <th>3</th>\n",
       "      <td>空格</td>\n",
       "      <td></td>\n",
       "      <td>空格2 空格3</td>\n",
       "    </tr>\n",
       "    <tr>\n",
       "      <th>4</th>\n",
       "      <td>空格</td>\n",
       "      <td></td>\n",
       "      <td>空格2 空格3</td>\n",
       "    </tr>\n",
       "    <tr>\n",
       "      <th>5</th>\n",
       "      <td>空格</td>\n",
       "      <td></td>\n",
       "      <td>空格2 空格3</td>\n",
       "    </tr>\n",
       "    <tr>\n",
       "      <th>6</th>\n",
       "      <td>空格</td>\n",
       "      <td></td>\n",
       "      <td>空格2 空格3</td>\n",
       "    </tr>\n",
       "    <tr>\n",
       "      <th>7</th>\n",
       "      <td>空格</td>\n",
       "      <td></td>\n",
       "      <td>空格2 空格3</td>\n",
       "    </tr>\n",
       "    <tr>\n",
       "      <th>8</th>\n",
       "      <td>空格</td>\n",
       "      <td></td>\n",
       "      <td>空格2 空格3</td>\n",
       "    </tr>\n",
       "    <tr>\n",
       "      <th>9</th>\n",
       "      <td>空格</td>\n",
       "      <td></td>\n",
       "      <td>空格2 空格3</td>\n",
       "    </tr>\n",
       "  </tbody>\n",
       "</table>\n",
       "</div>"
      ],
      "text/plain": [
       "    0  1        2\n",
       "0  空格     空格2 空格3\n",
       "1  空格     空格2 空格3\n",
       "2  空格     空格2 空格3\n",
       "3  空格     空格2 空格3\n",
       "4  空格     空格2 空格3\n",
       "5  空格     空格2 空格3\n",
       "6  空格     空格2 空格3\n",
       "7  空格     空格2 空格3\n",
       "8  空格     空格2 空格3\n",
       "9  空格     空格2 空格3"
      ]
     },
     "execution_count": 77,
     "metadata": {},
     "output_type": "execute_result"
    }
   ],
   "source": [
    "df.空格列.str.partition() # 分割开，类似split，但是包含分隔符。与partition的区别是 从右侧开始向左"
   ]
  },
  {
   "cell_type": "code",
   "execution_count": 88,
   "id": "hungarian-needle",
   "metadata": {
    "execution": {
     "iopub.execute_input": "2021-05-14T07:27:29.623543Z",
     "iopub.status.busy": "2021-05-14T07:27:29.623543Z",
     "iopub.status.idle": "2021-05-14T07:27:29.628542Z",
     "shell.execute_reply": "2021-05-14T07:27:29.628542Z",
     "shell.execute_reply.started": "2021-05-14T07:27:29.623543Z"
    }
   },
   "outputs": [
    {
     "data": {
      "text/plain": [
       "0    [空格, 空格2, 空格3]\n",
       "1    [空格, 空格2, 空格3]\n",
       "2    [空格, 空格2, 空格3]\n",
       "3    [空格, 空格2, 空格3]\n",
       "4    [空格, 空格2, 空格3]\n",
       "5    [空格, 空格2, 空格3]\n",
       "6    [空格, 空格2, 空格3]\n",
       "7    [空格, 空格2, 空格3]\n",
       "8    [空格, 空格2, 空格3]\n",
       "9    [空格, 空格2, 空格3]\n",
       "Name: 空格列, dtype: object"
      ]
     },
     "execution_count": 88,
     "metadata": {},
     "output_type": "execute_result"
    }
   ],
   "source": [
    "df.空格列.str.rsplit(\" \") # 分割开，从右侧开始向左"
   ]
  },
  {
   "cell_type": "code",
   "execution_count": 81,
   "id": "abstract-share",
   "metadata": {
    "execution": {
     "iopub.execute_input": "2021-05-14T07:20:10.308545Z",
     "iopub.status.busy": "2021-05-14T07:20:10.307545Z",
     "iopub.status.idle": "2021-05-14T07:20:10.316546Z",
     "shell.execute_reply": "2021-05-14T07:20:10.315547Z",
     "shell.execute_reply.started": "2021-05-14T07:20:10.308545Z"
    }
   },
   "outputs": [
    {
     "data": {
      "text/plain": [
       "0   -1\n",
       "1   -1\n",
       "2   -1\n",
       "3    5\n",
       "4    4\n",
       "5    5\n",
       "6   -1\n",
       "7   -1\n",
       "8   -1\n",
       "9   -1\n",
       "Name: company, dtype: int64"
      ]
     },
     "execution_count": 81,
     "metadata": {},
     "output_type": "execute_result"
    }
   ],
   "source": [
    "df.company.str.rfind(\"科技\") #从右侧查找指定字符串并返回位置，与find方向相反"
   ]
  },
  {
   "cell_type": "code",
   "execution_count": 82,
   "id": "paperback-indication",
   "metadata": {
    "execution": {
     "iopub.execute_input": "2021-05-14T07:21:45.561544Z",
     "iopub.status.busy": "2021-05-14T07:21:45.561544Z",
     "iopub.status.idle": "2021-05-14T07:21:45.570546Z",
     "shell.execute_reply": "2021-05-14T07:21:45.569545Z",
     "shell.execute_reply.started": "2021-05-14T07:21:45.561544Z"
    }
   },
   "outputs": [
    {
     "data": {
      "text/plain": [
       "0    谭彬*\n",
       "1    程荣*\n",
       "2    程瑜*\n",
       "3    王玉华\n",
       "4    胡春梅\n",
       "5    黄晶*\n",
       "6    阎璐*\n",
       "7    王峰*\n",
       "8    叶兰英\n",
       "9    李建*\n",
       "Name: user, dtype: object"
      ]
     },
     "execution_count": 82,
     "metadata": {},
     "output_type": "execute_result"
    }
   ],
   "source": [
    "df.user.str.ljust(3,'*') # 对齐字符串元素，右侧填充指定字符"
   ]
  },
  {
   "cell_type": "code",
   "execution_count": 83,
   "id": "floppy-highway",
   "metadata": {
    "execution": {
     "iopub.execute_input": "2021-05-14T07:22:28.280543Z",
     "iopub.status.busy": "2021-05-14T07:22:28.280543Z",
     "iopub.status.idle": "2021-05-14T07:22:28.286544Z",
     "shell.execute_reply": "2021-05-14T07:22:28.285544Z",
     "shell.execute_reply.started": "2021-05-14T07:22:28.280543Z"
    }
   },
   "outputs": [
    {
     "data": {
      "text/plain": [
       "0    *谭彬\n",
       "1    *程荣\n",
       "2    *程瑜\n",
       "3    王玉华\n",
       "4    胡春梅\n",
       "5    *黄晶\n",
       "6    *阎璐\n",
       "7    *王峰\n",
       "8    叶兰英\n",
       "9    *李建\n",
       "Name: user, dtype: object"
      ]
     },
     "execution_count": 83,
     "metadata": {},
     "output_type": "execute_result"
    }
   ],
   "source": [
    "df.user.str.rjust(3,'*') # 对齐字符串元素，左侧填充指定字符"
   ]
  },
  {
   "cell_type": "code",
   "execution_count": 84,
   "id": "adjusted-network",
   "metadata": {
    "execution": {
     "iopub.execute_input": "2021-05-14T07:23:19.735546Z",
     "iopub.status.busy": "2021-05-14T07:23:19.735546Z",
     "iopub.status.idle": "2021-05-14T07:23:19.745547Z",
     "shell.execute_reply": "2021-05-14T07:23:19.745547Z",
     "shell.execute_reply.started": "2021-05-14T07:23:19.735546Z"
    }
   },
   "outputs": [
    {
     "data": {
      "text/plain": [
       "0    False\n",
       "1     True\n",
       "2     True\n",
       "3    False\n",
       "4    False\n",
       "5    False\n",
       "6    False\n",
       "7    False\n",
       "8    False\n",
       "9    False\n",
       "Name: user, dtype: bool"
      ]
     },
     "execution_count": 84,
     "metadata": {},
     "output_type": "execute_result"
    }
   ],
   "source": [
    "df.user.str.match(r'([程])') # 判断是否以某个正则表达式形式的字符串开始"
   ]
  }
 ],
 "metadata": {
  "kernelspec": {
   "display_name": "Python 3",
   "language": "python",
   "name": "python3"
  },
  "language_info": {
   "codemirror_mode": {
    "name": "ipython",
    "version": 3
   },
   "file_extension": ".py",
   "mimetype": "text/x-python",
   "name": "python",
   "nbconvert_exporter": "python",
   "pygments_lexer": "ipython3",
   "version": "3.6.8"
  }
 },
 "nbformat": 4,
 "nbformat_minor": 5
}
