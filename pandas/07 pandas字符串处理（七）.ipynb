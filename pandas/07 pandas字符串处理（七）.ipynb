{
 "cells": [
  {
   "cell_type": "markdown",
   "id": "ultimate-pressure",
   "metadata": {
    "execution": {
     "iopub.execute_input": "2021-05-10T07:18:52.990449Z",
     "iopub.status.busy": "2021-05-10T07:18:52.990449Z",
     "iopub.status.idle": "2021-05-10T07:18:52.994464Z",
     "shell.execute_reply": "2021-05-10T07:18:52.993452Z",
     "shell.execute_reply.started": "2021-05-10T07:18:52.990449Z"
    }
   },
   "source": [
    "## pandas字符串处理(七)"
   ]
  },
  {
   "cell_type": "markdown",
   "id": "vulnerable-greenhouse",
   "metadata": {},
   "source": [
    "### 字符串其它操作（类型判断）\n",
    "#### isdigit isalpha isnumeric isalnum isdecimal isspace isupper islower istitle"
   ]
  },
  {
   "cell_type": "code",
   "execution_count": 75,
   "id": "grave-opportunity",
   "metadata": {
    "execution": {
     "iopub.execute_input": "2021-05-17T07:21:49.799758Z",
     "iopub.status.busy": "2021-05-17T07:21:49.798758Z",
     "iopub.status.idle": "2021-05-17T07:21:49.802759Z",
     "shell.execute_reply": "2021-05-17T07:21:49.802759Z",
     "shell.execute_reply.started": "2021-05-17T07:21:49.799758Z"
    }
   },
   "outputs": [],
   "source": [
    "import pandas as pd\n",
    "df=pd.DataFrame(data=[ 'one', 'ONE','One', '1', '',1.5,'1.2','3,000','4 2',' ' ,'³', '⅕'],columns=['data'])"
   ]
  },
  {
   "cell_type": "code",
   "execution_count": 76,
   "id": "brazilian-mexico",
   "metadata": {
    "execution": {
     "iopub.execute_input": "2021-05-17T07:21:49.805758Z",
     "iopub.status.busy": "2021-05-17T07:21:49.805758Z",
     "iopub.status.idle": "2021-05-17T07:21:49.812758Z",
     "shell.execute_reply": "2021-05-17T07:21:49.812758Z",
     "shell.execute_reply.started": "2021-05-17T07:21:49.805758Z"
    }
   },
   "outputs": [
    {
     "data": {
      "text/html": [
       "<div>\n",
       "<style scoped>\n",
       "    .dataframe tbody tr th:only-of-type {\n",
       "        vertical-align: middle;\n",
       "    }\n",
       "\n",
       "    .dataframe tbody tr th {\n",
       "        vertical-align: top;\n",
       "    }\n",
       "\n",
       "    .dataframe thead th {\n",
       "        text-align: right;\n",
       "    }\n",
       "</style>\n",
       "<table border=\"1\" class=\"dataframe\">\n",
       "  <thead>\n",
       "    <tr style=\"text-align: right;\">\n",
       "      <th></th>\n",
       "      <th>data</th>\n",
       "    </tr>\n",
       "  </thead>\n",
       "  <tbody>\n",
       "    <tr>\n",
       "      <th>0</th>\n",
       "      <td>one</td>\n",
       "    </tr>\n",
       "    <tr>\n",
       "      <th>1</th>\n",
       "      <td>ONE</td>\n",
       "    </tr>\n",
       "    <tr>\n",
       "      <th>2</th>\n",
       "      <td>One</td>\n",
       "    </tr>\n",
       "    <tr>\n",
       "      <th>3</th>\n",
       "      <td>1</td>\n",
       "    </tr>\n",
       "    <tr>\n",
       "      <th>4</th>\n",
       "      <td></td>\n",
       "    </tr>\n",
       "    <tr>\n",
       "      <th>5</th>\n",
       "      <td>1.5</td>\n",
       "    </tr>\n",
       "    <tr>\n",
       "      <th>6</th>\n",
       "      <td>1.2</td>\n",
       "    </tr>\n",
       "    <tr>\n",
       "      <th>7</th>\n",
       "      <td>3,000</td>\n",
       "    </tr>\n",
       "    <tr>\n",
       "      <th>8</th>\n",
       "      <td>4 2</td>\n",
       "    </tr>\n",
       "    <tr>\n",
       "      <th>9</th>\n",
       "      <td></td>\n",
       "    </tr>\n",
       "    <tr>\n",
       "      <th>10</th>\n",
       "      <td>³</td>\n",
       "    </tr>\n",
       "    <tr>\n",
       "      <th>11</th>\n",
       "      <td>⅕</td>\n",
       "    </tr>\n",
       "  </tbody>\n",
       "</table>\n",
       "</div>"
      ],
      "text/plain": [
       "     data\n",
       "0     one\n",
       "1     ONE\n",
       "2     One\n",
       "3       1\n",
       "4        \n",
       "5     1.5\n",
       "6     1.2\n",
       "7   3,000\n",
       "8     4 2\n",
       "9        \n",
       "10      ³\n",
       "11      ⅕"
      ]
     },
     "execution_count": 76,
     "metadata": {},
     "output_type": "execute_result"
    }
   ],
   "source": [
    "df "
   ]
  },
  {
   "cell_type": "code",
   "execution_count": 77,
   "id": "mobile-wells",
   "metadata": {
    "execution": {
     "iopub.execute_input": "2021-05-17T07:22:40.057760Z",
     "iopub.status.busy": "2021-05-17T07:22:40.057760Z",
     "iopub.status.idle": "2021-05-17T07:22:40.067761Z",
     "shell.execute_reply": "2021-05-17T07:22:40.066768Z",
     "shell.execute_reply.started": "2021-05-17T07:22:40.057760Z"
    }
   },
   "outputs": [
    {
     "data": {
      "text/plain": [
       "0     False\n",
       "1     False\n",
       "2     False\n",
       "3      True\n",
       "4     False\n",
       "5       NaN\n",
       "6     False\n",
       "7     False\n",
       "8     False\n",
       "9     False\n",
       "10     True\n",
       "11    False\n",
       "Name: data, dtype: object"
      ]
     },
     "execution_count": 77,
     "metadata": {},
     "output_type": "execute_result"
    }
   ],
   "source": [
    "df.data.str.isdigit() # 判断是否是数字"
   ]
  },
  {
   "cell_type": "code",
   "execution_count": 78,
   "id": "confirmed-stevens",
   "metadata": {
    "execution": {
     "iopub.execute_input": "2021-05-17T07:23:30.880760Z",
     "iopub.status.busy": "2021-05-17T07:23:30.880760Z",
     "iopub.status.idle": "2021-05-17T07:23:30.887767Z",
     "shell.execute_reply": "2021-05-17T07:23:30.886771Z",
     "shell.execute_reply.started": "2021-05-17T07:23:30.880760Z"
    }
   },
   "outputs": [
    {
     "data": {
      "text/plain": [
       "0      True\n",
       "1      True\n",
       "2      True\n",
       "3     False\n",
       "4     False\n",
       "5       NaN\n",
       "6     False\n",
       "7     False\n",
       "8     False\n",
       "9     False\n",
       "10    False\n",
       "11    False\n",
       "Name: data, dtype: object"
      ]
     },
     "execution_count": 78,
     "metadata": {},
     "output_type": "execute_result"
    }
   ],
   "source": [
    "df.data.str.isalpha() # 判断是否是字母"
   ]
  },
  {
   "cell_type": "code",
   "execution_count": 79,
   "id": "perfect-opera",
   "metadata": {
    "execution": {
     "iopub.execute_input": "2021-05-17T07:24:07.746757Z",
     "iopub.status.busy": "2021-05-17T07:24:07.745758Z",
     "iopub.status.idle": "2021-05-17T07:24:07.753761Z",
     "shell.execute_reply": "2021-05-17T07:24:07.752760Z",
     "shell.execute_reply.started": "2021-05-17T07:24:07.746757Z"
    }
   },
   "outputs": [
    {
     "data": {
      "text/plain": [
       "0     False\n",
       "1     False\n",
       "2     False\n",
       "3      True\n",
       "4     False\n",
       "5       NaN\n",
       "6     False\n",
       "7     False\n",
       "8     False\n",
       "9     False\n",
       "10     True\n",
       "11     True\n",
       "Name: data, dtype: object"
      ]
     },
     "execution_count": 79,
     "metadata": {},
     "output_type": "execute_result"
    }
   ],
   "source": [
    "df.data.str.isnumeric() # 判断是否是数字，注意与 isdigit的区别，isnumeric可以包含一些额外的特定字符"
   ]
  },
  {
   "cell_type": "code",
   "execution_count": 80,
   "id": "comprehensive-station",
   "metadata": {
    "execution": {
     "iopub.execute_input": "2021-05-17T07:25:43.864761Z",
     "iopub.status.busy": "2021-05-17T07:25:43.864761Z",
     "iopub.status.idle": "2021-05-17T07:25:43.873767Z",
     "shell.execute_reply": "2021-05-17T07:25:43.872759Z",
     "shell.execute_reply.started": "2021-05-17T07:25:43.864761Z"
    }
   },
   "outputs": [
    {
     "data": {
      "text/plain": [
       "0      True\n",
       "1      True\n",
       "2      True\n",
       "3      True\n",
       "4     False\n",
       "5       NaN\n",
       "6     False\n",
       "7     False\n",
       "8     False\n",
       "9     False\n",
       "10     True\n",
       "11     True\n",
       "Name: data, dtype: object"
      ]
     },
     "execution_count": 80,
     "metadata": {},
     "output_type": "execute_result"
    }
   ],
   "source": [
    "df.data.str.isalnum() # 判断是否是字母或数字，alpha和numeric 的结合"
   ]
  },
  {
   "cell_type": "code",
   "execution_count": 82,
   "id": "enabling-simple",
   "metadata": {
    "execution": {
     "iopub.execute_input": "2021-05-17T07:26:47.659761Z",
     "iopub.status.busy": "2021-05-17T07:26:47.659761Z",
     "iopub.status.idle": "2021-05-17T07:26:47.664762Z",
     "shell.execute_reply": "2021-05-17T07:26:47.664762Z",
     "shell.execute_reply.started": "2021-05-17T07:26:47.659761Z"
    }
   },
   "outputs": [
    {
     "data": {
      "text/plain": [
       "0     False\n",
       "1     False\n",
       "2     False\n",
       "3      True\n",
       "4     False\n",
       "5       NaN\n",
       "6     False\n",
       "7     False\n",
       "8     False\n",
       "9     False\n",
       "10    False\n",
       "11    False\n",
       "Name: data, dtype: object"
      ]
     },
     "execution_count": 82,
     "metadata": {},
     "output_type": "execute_result"
    }
   ],
   "source": [
    "df.data.str.isdecimal() # 判断是否是10进制数字"
   ]
  },
  {
   "cell_type": "code",
   "execution_count": 83,
   "id": "departmental-train",
   "metadata": {
    "execution": {
     "iopub.execute_input": "2021-05-17T07:27:33.687762Z",
     "iopub.status.busy": "2021-05-17T07:27:33.686765Z",
     "iopub.status.idle": "2021-05-17T07:27:33.699761Z",
     "shell.execute_reply": "2021-05-17T07:27:33.697759Z",
     "shell.execute_reply.started": "2021-05-17T07:27:33.687762Z"
    }
   },
   "outputs": [
    {
     "data": {
      "text/plain": [
       "0     False\n",
       "1     False\n",
       "2     False\n",
       "3     False\n",
       "4     False\n",
       "5       NaN\n",
       "6     False\n",
       "7     False\n",
       "8     False\n",
       "9      True\n",
       "10    False\n",
       "11    False\n",
       "Name: data, dtype: object"
      ]
     },
     "execution_count": 83,
     "metadata": {},
     "output_type": "execute_result"
    }
   ],
   "source": [
    "df.data.str.isspace() # 判断是否是空格"
   ]
  },
  {
   "cell_type": "code",
   "execution_count": 84,
   "id": "smaller-anthony",
   "metadata": {
    "execution": {
     "iopub.execute_input": "2021-05-17T07:28:08.628762Z",
     "iopub.status.busy": "2021-05-17T07:28:08.627759Z",
     "iopub.status.idle": "2021-05-17T07:28:08.637772Z",
     "shell.execute_reply": "2021-05-17T07:28:08.635764Z",
     "shell.execute_reply.started": "2021-05-17T07:28:08.628762Z"
    }
   },
   "outputs": [
    {
     "data": {
      "text/plain": [
       "0      True\n",
       "1     False\n",
       "2     False\n",
       "3     False\n",
       "4     False\n",
       "5       NaN\n",
       "6     False\n",
       "7     False\n",
       "8     False\n",
       "9     False\n",
       "10    False\n",
       "11    False\n",
       "Name: data, dtype: object"
      ]
     },
     "execution_count": 84,
     "metadata": {},
     "output_type": "execute_result"
    }
   ],
   "source": [
    "df.data.str.islower() # 判断是否是小写字母"
   ]
  },
  {
   "cell_type": "code",
   "execution_count": 85,
   "id": "hollow-coordinator",
   "metadata": {
    "execution": {
     "iopub.execute_input": "2021-05-17T07:28:38.057758Z",
     "iopub.status.busy": "2021-05-17T07:28:38.056758Z",
     "iopub.status.idle": "2021-05-17T07:28:38.066762Z",
     "shell.execute_reply": "2021-05-17T07:28:38.065758Z",
     "shell.execute_reply.started": "2021-05-17T07:28:38.057758Z"
    }
   },
   "outputs": [
    {
     "data": {
      "text/plain": [
       "0     False\n",
       "1      True\n",
       "2     False\n",
       "3     False\n",
       "4     False\n",
       "5       NaN\n",
       "6     False\n",
       "7     False\n",
       "8     False\n",
       "9     False\n",
       "10    False\n",
       "11    False\n",
       "Name: data, dtype: object"
      ]
     },
     "execution_count": 85,
     "metadata": {},
     "output_type": "execute_result"
    }
   ],
   "source": [
    "df.data.str.isupper() # 判断是否是大写字母，注意空的处理"
   ]
  },
  {
   "cell_type": "code",
   "execution_count": 87,
   "id": "advance-metropolitan",
   "metadata": {
    "execution": {
     "iopub.execute_input": "2021-05-17T07:29:46.588764Z",
     "iopub.status.busy": "2021-05-17T07:29:46.588764Z",
     "iopub.status.idle": "2021-05-17T07:29:46.596762Z",
     "shell.execute_reply": "2021-05-17T07:29:46.594764Z",
     "shell.execute_reply.started": "2021-05-17T07:29:46.588764Z"
    }
   },
   "outputs": [
    {
     "data": {
      "text/plain": [
       "0     False\n",
       "1     False\n",
       "2      True\n",
       "3     False\n",
       "4     False\n",
       "5       NaN\n",
       "6     False\n",
       "7     False\n",
       "8     False\n",
       "9     False\n",
       "10    False\n",
       "11    False\n",
       "Name: data, dtype: object"
      ]
     },
     "execution_count": 87,
     "metadata": {},
     "output_type": "execute_result"
    }
   ],
   "source": [
    "df.data.str.istitle() # 判断是否是符合title样式的字母"
   ]
  }
 ],
 "metadata": {
  "kernelspec": {
   "display_name": "Python 3",
   "language": "python",
   "name": "python3"
  },
  "language_info": {
   "codemirror_mode": {
    "name": "ipython",
    "version": 3
   },
   "file_extension": ".py",
   "mimetype": "text/x-python",
   "name": "python",
   "nbconvert_exporter": "python",
   "pygments_lexer": "ipython3",
   "version": "3.6.8"
  }
 },
 "nbformat": 4,
 "nbformat_minor": 5
}
