{
 "cells": [
  {
   "cell_type": "markdown",
   "id": "three-moore",
   "metadata": {
    "execution": {
     "iopub.execute_input": "2021-05-10T07:18:52.990449Z",
     "iopub.status.busy": "2021-05-10T07:18:52.990449Z",
     "iopub.status.idle": "2021-05-10T07:18:52.994464Z",
     "shell.execute_reply": "2021-05-10T07:18:52.993452Z",
     "shell.execute_reply.started": "2021-05-10T07:18:52.990449Z"
    }
   },
   "source": [
    "## pandas时间处理（一）"
   ]
  },
  {
   "cell_type": "markdown",
   "id": "concerned-mortgage",
   "metadata": {},
   "source": [
    "### 比较常用的时间处理函数。\n",
    "#### 字符串转时间、year 、month、day、hour、minute、second、quarter、dayofweek、dayofyear、date、time"
   ]
  },
  {
   "cell_type": "code",
   "execution_count": 10,
   "id": "killing-reaction",
   "metadata": {
    "execution": {
     "iopub.execute_input": "2021-05-20T07:49:27.996360Z",
     "iopub.status.busy": "2021-05-20T07:49:27.996360Z",
     "iopub.status.idle": "2021-05-20T07:49:28.072945Z",
     "shell.execute_reply": "2021-05-20T07:49:28.071789Z",
     "shell.execute_reply.started": "2021-05-20T07:49:27.996360Z"
    }
   },
   "outputs": [],
   "source": [
    "from faker import Faker\n",
    "fake = Faker('zh_CN')"
   ]
  },
  {
   "cell_type": "code",
   "execution_count": 11,
   "id": "behind-celebrity",
   "metadata": {
    "execution": {
     "iopub.execute_input": "2021-05-20T07:49:28.074614Z",
     "iopub.status.busy": "2021-05-20T07:49:28.074614Z",
     "iopub.status.idle": "2021-05-20T07:49:28.080816Z",
     "shell.execute_reply": "2021-05-20T07:49:28.079748Z",
     "shell.execute_reply.started": "2021-05-20T07:49:28.074614Z"
    }
   },
   "outputs": [],
   "source": [
    "import pandas as pd\n",
    "df=pd.DataFrame(data=[ [fake.date()+' '+fake.time()] for x in range(10) ],columns=['time'])"
   ]
  },
  {
   "cell_type": "code",
   "execution_count": 12,
   "id": "wicked-chorus",
   "metadata": {
    "execution": {
     "iopub.execute_input": "2021-05-20T07:49:28.082358Z",
     "iopub.status.busy": "2021-05-20T07:49:28.082358Z",
     "iopub.status.idle": "2021-05-20T07:49:28.167781Z",
     "shell.execute_reply": "2021-05-20T07:49:28.166417Z",
     "shell.execute_reply.started": "2021-05-20T07:49:28.082358Z"
    }
   },
   "outputs": [
    {
     "data": {
      "text/html": [
       "<div>\n",
       "<style scoped>\n",
       "    .dataframe tbody tr th:only-of-type {\n",
       "        vertical-align: middle;\n",
       "    }\n",
       "\n",
       "    .dataframe tbody tr th {\n",
       "        vertical-align: top;\n",
       "    }\n",
       "\n",
       "    .dataframe thead th {\n",
       "        text-align: right;\n",
       "    }\n",
       "</style>\n",
       "<table border=\"1\" class=\"dataframe\">\n",
       "  <thead>\n",
       "    <tr style=\"text-align: right;\">\n",
       "      <th></th>\n",
       "      <th>time</th>\n",
       "    </tr>\n",
       "  </thead>\n",
       "  <tbody>\n",
       "    <tr>\n",
       "      <th>0</th>\n",
       "      <td>1987-02-11 21:37:39</td>\n",
       "    </tr>\n",
       "    <tr>\n",
       "      <th>1</th>\n",
       "      <td>2000-07-20 15:40:50</td>\n",
       "    </tr>\n",
       "    <tr>\n",
       "      <th>2</th>\n",
       "      <td>1999-08-16 17:13:15</td>\n",
       "    </tr>\n",
       "    <tr>\n",
       "      <th>3</th>\n",
       "      <td>2008-11-12 09:51:38</td>\n",
       "    </tr>\n",
       "    <tr>\n",
       "      <th>4</th>\n",
       "      <td>1972-09-10 22:17:21</td>\n",
       "    </tr>\n",
       "    <tr>\n",
       "      <th>5</th>\n",
       "      <td>1971-11-08 15:52:11</td>\n",
       "    </tr>\n",
       "    <tr>\n",
       "      <th>6</th>\n",
       "      <td>1977-12-25 21:37:30</td>\n",
       "    </tr>\n",
       "    <tr>\n",
       "      <th>7</th>\n",
       "      <td>1976-02-01 15:07:33</td>\n",
       "    </tr>\n",
       "    <tr>\n",
       "      <th>8</th>\n",
       "      <td>2015-08-10 09:21:32</td>\n",
       "    </tr>\n",
       "    <tr>\n",
       "      <th>9</th>\n",
       "      <td>2018-06-04 07:38:49</td>\n",
       "    </tr>\n",
       "  </tbody>\n",
       "</table>\n",
       "</div>"
      ],
      "text/plain": [
       "                  time\n",
       "0  1987-02-11 21:37:39\n",
       "1  2000-07-20 15:40:50\n",
       "2  1999-08-16 17:13:15\n",
       "3  2008-11-12 09:51:38\n",
       "4  1972-09-10 22:17:21\n",
       "5  1971-11-08 15:52:11\n",
       "6  1977-12-25 21:37:30\n",
       "7  1976-02-01 15:07:33\n",
       "8  2015-08-10 09:21:32\n",
       "9  2018-06-04 07:38:49"
      ]
     },
     "execution_count": 12,
     "metadata": {},
     "output_type": "execute_result"
    }
   ],
   "source": [
    "df"
   ]
  },
  {
   "cell_type": "code",
   "execution_count": 13,
   "id": "designing-clothing",
   "metadata": {
    "execution": {
     "iopub.execute_input": "2021-05-20T07:49:28.167781Z",
     "iopub.status.busy": "2021-05-20T07:49:28.167781Z",
     "iopub.status.idle": "2021-05-20T07:49:28.236909Z",
     "shell.execute_reply": "2021-05-20T07:49:28.235855Z",
     "shell.execute_reply.started": "2021-05-20T07:49:28.167781Z"
    }
   },
   "outputs": [],
   "source": [
    "df.time=df.time.astype('datetime64') # 将时间字符串转换成时间格式"
   ]
  },
  {
   "cell_type": "code",
   "execution_count": 14,
   "id": "convertible-brick",
   "metadata": {
    "execution": {
     "iopub.execute_input": "2021-05-20T07:49:28.239000Z",
     "iopub.status.busy": "2021-05-20T07:49:28.237966Z",
     "iopub.status.idle": "2021-05-20T07:49:28.321769Z",
     "shell.execute_reply": "2021-05-20T07:49:28.321221Z",
     "shell.execute_reply.started": "2021-05-20T07:49:28.239000Z"
    }
   },
   "outputs": [
    {
     "data": {
      "text/plain": [
       "0     42\n",
       "1    202\n",
       "2    228\n",
       "3    317\n",
       "4    254\n",
       "5    312\n",
       "6    359\n",
       "7     32\n",
       "8    222\n",
       "9    155\n",
       "Name: time, dtype: int64"
      ]
     },
     "execution_count": 14,
     "metadata": {},
     "output_type": "execute_result"
    }
   ],
   "source": [
    "df.time.dt.dayofyear # 获取时间是一年的第几天"
   ]
  },
  {
   "cell_type": "code",
   "execution_count": 15,
   "id": "atmospheric-phrase",
   "metadata": {
    "execution": {
     "iopub.execute_input": "2021-05-20T07:49:28.321769Z",
     "iopub.status.busy": "2021-05-20T07:49:28.321769Z",
     "iopub.status.idle": "2021-05-20T07:49:28.396016Z",
     "shell.execute_reply": "2021-05-20T07:49:28.395469Z",
     "shell.execute_reply.started": "2021-05-20T07:49:28.321769Z"
    }
   },
   "outputs": [
    {
     "data": {
      "text/plain": [
       "0    2\n",
       "1    3\n",
       "2    0\n",
       "3    2\n",
       "4    6\n",
       "5    0\n",
       "6    6\n",
       "7    6\n",
       "8    0\n",
       "9    0\n",
       "Name: time, dtype: int64"
      ]
     },
     "execution_count": 15,
     "metadata": {},
     "output_type": "execute_result"
    }
   ],
   "source": [
    "df.time.dt.dayofweek # 获取时间属于一周的第几天，注意范围0-6"
   ]
  },
  {
   "cell_type": "code",
   "execution_count": 16,
   "id": "recovered-moscow",
   "metadata": {
    "execution": {
     "iopub.execute_input": "2021-05-20T07:49:28.396016Z",
     "iopub.status.busy": "2021-05-20T07:49:28.396016Z",
     "iopub.status.idle": "2021-05-20T07:49:28.470644Z",
     "shell.execute_reply": "2021-05-20T07:49:28.470092Z",
     "shell.execute_reply.started": "2021-05-20T07:49:28.396016Z"
    }
   },
   "outputs": [
    {
     "data": {
      "text/plain": [
       "0    1\n",
       "1    3\n",
       "2    3\n",
       "3    4\n",
       "4    3\n",
       "5    4\n",
       "6    4\n",
       "7    1\n",
       "8    3\n",
       "9    2\n",
       "Name: time, dtype: int64"
      ]
     },
     "execution_count": 16,
     "metadata": {},
     "output_type": "execute_result"
    }
   ],
   "source": [
    "df.time.dt.quarter # 获取时间属于哪个季度"
   ]
  },
  {
   "cell_type": "code",
   "execution_count": 17,
   "id": "civilian-mongolia",
   "metadata": {
    "execution": {
     "iopub.execute_input": "2021-05-20T07:49:28.470644Z",
     "iopub.status.busy": "2021-05-20T07:49:28.470644Z",
     "iopub.status.idle": "2021-05-20T07:49:28.559625Z",
     "shell.execute_reply": "2021-05-20T07:49:28.559079Z",
     "shell.execute_reply.started": "2021-05-20T07:49:28.470644Z"
    }
   },
   "outputs": [
    {
     "data": {
      "text/plain": [
       "0    21:37:39\n",
       "1    15:40:50\n",
       "2    17:13:15\n",
       "3    09:51:38\n",
       "4    22:17:21\n",
       "5    15:52:11\n",
       "6    21:37:30\n",
       "7    15:07:33\n",
       "8    09:21:32\n",
       "9    07:38:49\n",
       "Name: time, dtype: object"
      ]
     },
     "execution_count": 17,
     "metadata": {},
     "output_type": "execute_result"
    }
   ],
   "source": [
    "df.time.dt.time # 获取时间部分"
   ]
  },
  {
   "cell_type": "code",
   "execution_count": 18,
   "id": "outdoor-intermediate",
   "metadata": {
    "execution": {
     "iopub.execute_input": "2021-05-20T07:49:28.559625Z",
     "iopub.status.busy": "2021-05-20T07:49:28.559625Z",
     "iopub.status.idle": "2021-05-20T07:49:28.634863Z",
     "shell.execute_reply": "2021-05-20T07:49:28.634282Z",
     "shell.execute_reply.started": "2021-05-20T07:49:28.559625Z"
    }
   },
   "outputs": [
    {
     "data": {
      "text/plain": [
       "0    1987-02-11\n",
       "1    2000-07-20\n",
       "2    1999-08-16\n",
       "3    2008-11-12\n",
       "4    1972-09-10\n",
       "5    1971-11-08\n",
       "6    1977-12-25\n",
       "7    1976-02-01\n",
       "8    2015-08-10\n",
       "9    2018-06-04\n",
       "Name: time, dtype: object"
      ]
     },
     "execution_count": 18,
     "metadata": {},
     "output_type": "execute_result"
    }
   ],
   "source": [
    "df.time.dt.date # 获取日期部分"
   ]
  },
  {
   "cell_type": "code",
   "execution_count": 19,
   "id": "signal-coupon",
   "metadata": {
    "execution": {
     "iopub.execute_input": "2021-05-20T07:49:28.634863Z",
     "iopub.status.busy": "2021-05-20T07:49:28.634863Z",
     "iopub.status.idle": "2021-05-20T07:49:28.707571Z",
     "shell.execute_reply": "2021-05-20T07:49:28.706991Z",
     "shell.execute_reply.started": "2021-05-20T07:49:28.634863Z"
    }
   },
   "outputs": [
    {
     "data": {
      "text/plain": [
       "0    39\n",
       "1    50\n",
       "2    15\n",
       "3    38\n",
       "4    21\n",
       "5    11\n",
       "6    30\n",
       "7    33\n",
       "8    32\n",
       "9    49\n",
       "Name: time, dtype: int64"
      ]
     },
     "execution_count": 19,
     "metadata": {},
     "output_type": "execute_result"
    }
   ],
   "source": [
    "df.time.dt.second # 获取秒部分"
   ]
  },
  {
   "cell_type": "code",
   "execution_count": 20,
   "id": "timely-description",
   "metadata": {
    "execution": {
     "iopub.execute_input": "2021-05-20T07:49:28.707571Z",
     "iopub.status.busy": "2021-05-20T07:49:28.707571Z",
     "iopub.status.idle": "2021-05-20T07:49:28.784206Z",
     "shell.execute_reply": "2021-05-20T07:49:28.783668Z",
     "shell.execute_reply.started": "2021-05-20T07:49:28.707571Z"
    }
   },
   "outputs": [
    {
     "data": {
      "text/plain": [
       "0    37\n",
       "1    40\n",
       "2    13\n",
       "3    51\n",
       "4    17\n",
       "5    52\n",
       "6    37\n",
       "7     7\n",
       "8    21\n",
       "9    38\n",
       "Name: time, dtype: int64"
      ]
     },
     "execution_count": 20,
     "metadata": {},
     "output_type": "execute_result"
    }
   ],
   "source": [
    "df.time.dt.minute # 获取分钟部分"
   ]
  },
  {
   "cell_type": "code",
   "execution_count": 21,
   "id": "alternative-reception",
   "metadata": {
    "execution": {
     "iopub.execute_input": "2021-05-20T07:49:28.784206Z",
     "iopub.status.busy": "2021-05-20T07:49:28.784206Z",
     "iopub.status.idle": "2021-05-20T07:49:28.860390Z",
     "shell.execute_reply": "2021-05-20T07:49:28.859797Z",
     "shell.execute_reply.started": "2021-05-20T07:49:28.784206Z"
    }
   },
   "outputs": [
    {
     "data": {
      "text/plain": [
       "0    21\n",
       "1    15\n",
       "2    17\n",
       "3     9\n",
       "4    22\n",
       "5    15\n",
       "6    21\n",
       "7    15\n",
       "8     9\n",
       "9     7\n",
       "Name: time, dtype: int64"
      ]
     },
     "execution_count": 21,
     "metadata": {},
     "output_type": "execute_result"
    }
   ],
   "source": [
    "df.time.dt.hour # 获取小时部分"
   ]
  },
  {
   "cell_type": "code",
   "execution_count": 22,
   "id": "retained-macintosh",
   "metadata": {
    "execution": {
     "iopub.execute_input": "2021-05-20T07:49:28.860390Z",
     "iopub.status.busy": "2021-05-20T07:49:28.860390Z",
     "iopub.status.idle": "2021-05-20T07:49:28.936029Z",
     "shell.execute_reply": "2021-05-20T07:49:28.935480Z",
     "shell.execute_reply.started": "2021-05-20T07:49:28.860390Z"
    }
   },
   "outputs": [
    {
     "data": {
      "text/plain": [
       "0    11\n",
       "1    20\n",
       "2    16\n",
       "3    12\n",
       "4    10\n",
       "5     8\n",
       "6    25\n",
       "7     1\n",
       "8    10\n",
       "9     4\n",
       "Name: time, dtype: int64"
      ]
     },
     "execution_count": 22,
     "metadata": {},
     "output_type": "execute_result"
    }
   ],
   "source": [
    "df.time.dt.day # 获取日部分"
   ]
  },
  {
   "cell_type": "code",
   "execution_count": 23,
   "id": "baking-teaching",
   "metadata": {
    "execution": {
     "iopub.execute_input": "2021-05-20T07:49:28.936029Z",
     "iopub.status.busy": "2021-05-20T07:49:28.936029Z",
     "iopub.status.idle": "2021-05-20T07:49:29.000632Z",
     "shell.execute_reply": "2021-05-20T07:49:28.999599Z",
     "shell.execute_reply.started": "2021-05-20T07:49:28.936029Z"
    }
   },
   "outputs": [
    {
     "data": {
      "text/plain": [
       "0     2\n",
       "1     7\n",
       "2     8\n",
       "3    11\n",
       "4     9\n",
       "5    11\n",
       "6    12\n",
       "7     2\n",
       "8     8\n",
       "9     6\n",
       "Name: time, dtype: int64"
      ]
     },
     "execution_count": 23,
     "metadata": {},
     "output_type": "execute_result"
    }
   ],
   "source": [
    "df.time.dt.month # 获取月部分"
   ]
  },
  {
   "cell_type": "code",
   "execution_count": 24,
   "id": "exempt-produce",
   "metadata": {
    "execution": {
     "iopub.execute_input": "2021-05-20T07:49:29.001664Z",
     "iopub.status.busy": "2021-05-20T07:49:29.001664Z",
     "iopub.status.idle": "2021-05-20T07:49:29.077815Z",
     "shell.execute_reply": "2021-05-20T07:49:29.076783Z",
     "shell.execute_reply.started": "2021-05-20T07:49:29.001664Z"
    }
   },
   "outputs": [
    {
     "data": {
      "text/plain": [
       "0    1987\n",
       "1    2000\n",
       "2    1999\n",
       "3    2008\n",
       "4    1972\n",
       "5    1971\n",
       "6    1977\n",
       "7    1976\n",
       "8    2015\n",
       "9    2018\n",
       "Name: time, dtype: int64"
      ]
     },
     "execution_count": 24,
     "metadata": {},
     "output_type": "execute_result"
    }
   ],
   "source": [
    "df.time.dt.year # 获取年部分"
   ]
  }
 ],
 "metadata": {
  "kernelspec": {
   "display_name": "Python 3",
   "language": "python",
   "name": "python3"
  },
  "language_info": {
   "codemirror_mode": {
    "name": "ipython",
    "version": 3
   },
   "file_extension": ".py",
   "mimetype": "text/x-python",
   "name": "python",
   "nbconvert_exporter": "python",
   "pygments_lexer": "ipython3",
   "version": "3.6.8"
  }
 },
 "nbformat": 4,
 "nbformat_minor": 5
}
