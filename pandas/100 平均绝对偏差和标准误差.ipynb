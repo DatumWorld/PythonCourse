{
 "cells": [
  {
   "cell_type": "markdown",
   "id": "2715dcd1",
   "metadata": {
    "execution": {
     "iopub.execute_input": "2021-05-10T07:18:52.990449Z",
     "iopub.status.busy": "2021-05-10T07:18:52.990449Z",
     "iopub.status.idle": "2021-05-10T07:18:52.994464Z",
     "shell.execute_reply": "2021-05-10T07:18:52.993452Z",
     "shell.execute_reply.started": "2021-05-10T07:18:52.990449Z"
    }
   },
   "source": [
    "## 100 平均绝对偏差和标准误差"
   ]
  },
  {
   "cell_type": "markdown",
   "id": "98255102",
   "metadata": {
    "jp-MarkdownHeadingCollapsed": true,
    "tags": []
   },
   "source": [
    "### mad 计算平均绝对偏差\n",
    "参数 axis=None, skipna=None, level=None\n",
    "### sem 计算平均值的无偏标准误差\n",
    "参数 axis=None, skipna=None, level=None, ddof=1, numeric_only=None, **kwargs"
   ]
  },
  {
   "cell_type": "code",
   "execution_count": 1,
   "id": "4d4019bf",
   "metadata": {
    "execution": {
     "iopub.execute_input": "2021-08-23T02:21:42.229569Z",
     "iopub.status.busy": "2021-08-23T02:21:42.229022Z",
     "iopub.status.idle": "2021-08-23T02:21:42.506420Z",
     "shell.execute_reply": "2021-08-23T02:21:42.505809Z",
     "shell.execute_reply.started": "2021-08-23T02:21:42.229488Z"
    },
    "tags": []
   },
   "outputs": [],
   "source": [
    "import numpy  as np\n",
    "import pandas as pd\n",
    "\n",
    "df=pd.DataFrame(data=np.random.randint(100,100000,size=(10, 1)),columns=['a'])\n",
    "df.insert(0,'dept',['部门1']*5+['部门2']*5)\n",
    "df.insert(1,'dept1',['小部门1']*2+['小部门2']*3+['小部门3']*1+['小部门4']*4)\n",
    "df['b']=np.random.randint(100,100000,size=(10, 1))\n",
    "df.iloc[1,2:4]=np.nan"
   ]
  },
  {
   "cell_type": "markdown",
   "id": "3cd45943",
   "metadata": {
    "tags": []
   },
   "source": [
    "### 演示数据"
   ]
  },
  {
   "cell_type": "code",
   "execution_count": 2,
   "id": "d0ed5faf",
   "metadata": {
    "execution": {
     "iopub.execute_input": "2021-08-23T02:21:42.508421Z",
     "iopub.status.busy": "2021-08-23T02:21:42.508100Z",
     "iopub.status.idle": "2021-08-23T02:21:42.529264Z",
     "shell.execute_reply": "2021-08-23T02:21:42.528161Z",
     "shell.execute_reply.started": "2021-08-23T02:21:42.508391Z"
    },
    "tags": []
   },
   "outputs": [
    {
     "data": {
      "text/html": [
       "<div>\n",
       "<style scoped>\n",
       "    .dataframe tbody tr th:only-of-type {\n",
       "        vertical-align: middle;\n",
       "    }\n",
       "\n",
       "    .dataframe tbody tr th {\n",
       "        vertical-align: top;\n",
       "    }\n",
       "\n",
       "    .dataframe thead th {\n",
       "        text-align: right;\n",
       "    }\n",
       "</style>\n",
       "<table border=\"1\" class=\"dataframe\">\n",
       "  <thead>\n",
       "    <tr style=\"text-align: right;\">\n",
       "      <th></th>\n",
       "      <th>dept</th>\n",
       "      <th>dept1</th>\n",
       "      <th>a</th>\n",
       "      <th>b</th>\n",
       "    </tr>\n",
       "  </thead>\n",
       "  <tbody>\n",
       "    <tr>\n",
       "      <th>0</th>\n",
       "      <td>部门1</td>\n",
       "      <td>小部门1</td>\n",
       "      <td>65165.0</td>\n",
       "      <td>55458.0</td>\n",
       "    </tr>\n",
       "    <tr>\n",
       "      <th>1</th>\n",
       "      <td>部门1</td>\n",
       "      <td>小部门1</td>\n",
       "      <td>NaN</td>\n",
       "      <td>NaN</td>\n",
       "    </tr>\n",
       "    <tr>\n",
       "      <th>2</th>\n",
       "      <td>部门1</td>\n",
       "      <td>小部门2</td>\n",
       "      <td>77684.0</td>\n",
       "      <td>11183.0</td>\n",
       "    </tr>\n",
       "    <tr>\n",
       "      <th>3</th>\n",
       "      <td>部门1</td>\n",
       "      <td>小部门2</td>\n",
       "      <td>49164.0</td>\n",
       "      <td>11638.0</td>\n",
       "    </tr>\n",
       "    <tr>\n",
       "      <th>4</th>\n",
       "      <td>部门1</td>\n",
       "      <td>小部门2</td>\n",
       "      <td>21033.0</td>\n",
       "      <td>87951.0</td>\n",
       "    </tr>\n",
       "    <tr>\n",
       "      <th>5</th>\n",
       "      <td>部门2</td>\n",
       "      <td>小部门3</td>\n",
       "      <td>16830.0</td>\n",
       "      <td>64463.0</td>\n",
       "    </tr>\n",
       "    <tr>\n",
       "      <th>6</th>\n",
       "      <td>部门2</td>\n",
       "      <td>小部门4</td>\n",
       "      <td>88319.0</td>\n",
       "      <td>69324.0</td>\n",
       "    </tr>\n",
       "    <tr>\n",
       "      <th>7</th>\n",
       "      <td>部门2</td>\n",
       "      <td>小部门4</td>\n",
       "      <td>64278.0</td>\n",
       "      <td>86251.0</td>\n",
       "    </tr>\n",
       "    <tr>\n",
       "      <th>8</th>\n",
       "      <td>部门2</td>\n",
       "      <td>小部门4</td>\n",
       "      <td>45943.0</td>\n",
       "      <td>77804.0</td>\n",
       "    </tr>\n",
       "    <tr>\n",
       "      <th>9</th>\n",
       "      <td>部门2</td>\n",
       "      <td>小部门4</td>\n",
       "      <td>33883.0</td>\n",
       "      <td>14310.0</td>\n",
       "    </tr>\n",
       "  </tbody>\n",
       "</table>\n",
       "</div>"
      ],
      "text/plain": [
       "  dept dept1        a        b\n",
       "0  部门1  小部门1  65165.0  55458.0\n",
       "1  部门1  小部门1      NaN      NaN\n",
       "2  部门1  小部门2  77684.0  11183.0\n",
       "3  部门1  小部门2  49164.0  11638.0\n",
       "4  部门1  小部门2  21033.0  87951.0\n",
       "5  部门2  小部门3  16830.0  64463.0\n",
       "6  部门2  小部门4  88319.0  69324.0\n",
       "7  部门2  小部门4  64278.0  86251.0\n",
       "8  部门2  小部门4  45943.0  77804.0\n",
       "9  部门2  小部门4  33883.0  14310.0"
      ]
     },
     "execution_count": 2,
     "metadata": {},
     "output_type": "execute_result"
    }
   ],
   "source": [
    "df # 随机生成的数据"
   ]
  },
  {
   "cell_type": "code",
   "execution_count": 20,
   "id": "15a72667",
   "metadata": {
    "execution": {
     "iopub.execute_input": "2021-08-23T02:31:33.007316Z",
     "iopub.status.busy": "2021-08-23T02:31:33.006934Z",
     "iopub.status.idle": "2021-08-23T02:31:33.014289Z",
     "shell.execute_reply": "2021-08-23T02:31:33.013040Z",
     "shell.execute_reply.started": "2021-08-23T02:31:33.007286Z"
    }
   },
   "outputs": [
    {
     "data": {
      "text/plain": [
       "a     8222.625191\n",
       "b    10738.388656\n",
       "dtype: float64"
      ]
     },
     "execution_count": 20,
     "metadata": {},
     "output_type": "execute_result"
    }
   ],
   "source": [
    "df.sem(numeric_only=True) # numeric_only 是否仅仅计算 数字类型列/行"
   ]
  },
  {
   "cell_type": "code",
   "execution_count": 11,
   "id": "1900bfdf",
   "metadata": {
    "execution": {
     "iopub.execute_input": "2021-08-23T02:29:16.592731Z",
     "iopub.status.busy": "2021-08-23T02:29:16.592226Z",
     "iopub.status.idle": "2021-08-23T02:29:16.601382Z",
     "shell.execute_reply": "2021-08-23T02:29:16.600096Z",
     "shell.execute_reply.started": "2021-08-23T02:29:16.592690Z"
    }
   },
   "outputs": [
    {
     "data": {
      "text/plain": [
       "a     8222.625191\n",
       "b    10738.388656\n",
       "dtype: float64"
      ]
     },
     "execution_count": 11,
     "metadata": {},
     "output_type": "execute_result"
    }
   ],
   "source": [
    "df.sem(ddof=1) # ddof delta 自由度"
   ]
  },
  {
   "cell_type": "code",
   "execution_count": 10,
   "id": "c1c981aa",
   "metadata": {
    "execution": {
     "iopub.execute_input": "2021-08-23T02:28:13.818119Z",
     "iopub.status.busy": "2021-08-23T02:28:13.817662Z",
     "iopub.status.idle": "2021-08-23T02:28:13.826633Z",
     "shell.execute_reply": "2021-08-23T02:28:13.825620Z",
     "shell.execute_reply.started": "2021-08-23T02:28:13.818076Z"
    }
   },
   "outputs": [
    {
     "data": {
      "text/plain": [
       "a     8222.625191\n",
       "b    10738.388656\n",
       "dtype: float64"
      ]
     },
     "execution_count": 10,
     "metadata": {},
     "output_type": "execute_result"
    }
   ],
   "source": [
    "df.sem() # 平均值的无偏标准误差"
   ]
  },
  {
   "cell_type": "code",
   "execution_count": 9,
   "id": "543a0839",
   "metadata": {
    "execution": {
     "iopub.execute_input": "2021-08-23T02:27:27.389107Z",
     "iopub.status.busy": "2021-08-23T02:27:27.388768Z",
     "iopub.status.idle": "2021-08-23T02:27:27.420551Z",
     "shell.execute_reply": "2021-08-23T02:27:27.419889Z",
     "shell.execute_reply.started": "2021-08-23T02:27:27.389085Z"
    }
   },
   "outputs": [
    {
     "data": {
      "text/html": [
       "<div>\n",
       "<style scoped>\n",
       "    .dataframe tbody tr th:only-of-type {\n",
       "        vertical-align: middle;\n",
       "    }\n",
       "\n",
       "    .dataframe tbody tr th {\n",
       "        vertical-align: top;\n",
       "    }\n",
       "\n",
       "    .dataframe thead th {\n",
       "        text-align: right;\n",
       "    }\n",
       "</style>\n",
       "<table border=\"1\" class=\"dataframe\">\n",
       "  <thead>\n",
       "    <tr style=\"text-align: right;\">\n",
       "      <th></th>\n",
       "      <th>a</th>\n",
       "      <th>b</th>\n",
       "    </tr>\n",
       "    <tr>\n",
       "      <th>dept1</th>\n",
       "      <th></th>\n",
       "      <th></th>\n",
       "    </tr>\n",
       "  </thead>\n",
       "  <tbody>\n",
       "    <tr>\n",
       "      <th>小部门1</th>\n",
       "      <td>0.000000</td>\n",
       "      <td>0.000</td>\n",
       "    </tr>\n",
       "    <tr>\n",
       "      <th>小部门2</th>\n",
       "      <td>18926.888889</td>\n",
       "      <td>34018.000</td>\n",
       "    </tr>\n",
       "    <tr>\n",
       "      <th>小部门3</th>\n",
       "      <td>0.000000</td>\n",
       "      <td>0.000</td>\n",
       "    </tr>\n",
       "    <tr>\n",
       "      <th>小部门4</th>\n",
       "      <td>18192.750000</td>\n",
       "      <td>23806.125</td>\n",
       "    </tr>\n",
       "  </tbody>\n",
       "</table>\n",
       "</div>"
      ],
      "text/plain": [
       "                  a          b\n",
       "dept1                         \n",
       "小部门1       0.000000      0.000\n",
       "小部门2   18926.888889  34018.000\n",
       "小部门3       0.000000      0.000\n",
       "小部门4   18192.750000  23806.125"
      ]
     },
     "execution_count": 9,
     "metadata": {},
     "output_type": "execute_result"
    }
   ],
   "source": [
    "df.set_index(['dept','dept1']).mad(level=1) # level 设置多索引的层级"
   ]
  },
  {
   "cell_type": "code",
   "execution_count": 7,
   "id": "5d491134",
   "metadata": {
    "execution": {
     "iopub.execute_input": "2021-08-23T02:27:05.517264Z",
     "iopub.status.busy": "2021-08-23T02:27:05.516686Z",
     "iopub.status.idle": "2021-08-23T02:27:05.544097Z",
     "shell.execute_reply": "2021-08-23T02:27:05.543215Z",
     "shell.execute_reply.started": "2021-08-23T02:27:05.517228Z"
    }
   },
   "outputs": [
    {
     "data": {
      "text/html": [
       "<div>\n",
       "<style scoped>\n",
       "    .dataframe tbody tr th:only-of-type {\n",
       "        vertical-align: middle;\n",
       "    }\n",
       "\n",
       "    .dataframe tbody tr th {\n",
       "        vertical-align: top;\n",
       "    }\n",
       "\n",
       "    .dataframe thead th {\n",
       "        text-align: right;\n",
       "    }\n",
       "</style>\n",
       "<table border=\"1\" class=\"dataframe\">\n",
       "  <thead>\n",
       "    <tr style=\"text-align: right;\">\n",
       "      <th></th>\n",
       "      <th>a</th>\n",
       "      <th>b</th>\n",
       "    </tr>\n",
       "    <tr>\n",
       "      <th>dept</th>\n",
       "      <th></th>\n",
       "      <th></th>\n",
       "    </tr>\n",
       "  </thead>\n",
       "  <tbody>\n",
       "    <tr>\n",
       "      <th>部门1</th>\n",
       "      <td>18163.00</td>\n",
       "      <td>30147.00</td>\n",
       "    </tr>\n",
       "    <tr>\n",
       "      <th>部门2</th>\n",
       "      <td>21158.32</td>\n",
       "      <td>19248.16</td>\n",
       "    </tr>\n",
       "  </tbody>\n",
       "</table>\n",
       "</div>"
      ],
      "text/plain": [
       "             a         b\n",
       "dept                    \n",
       "部门1   18163.00  30147.00\n",
       "部门2   21158.32  19248.16"
      ]
     },
     "execution_count": 7,
     "metadata": {},
     "output_type": "execute_result"
    }
   ],
   "source": [
    "df.set_index(['dept','dept1']).mad(level=0) # level 设置多索引的层级"
   ]
  },
  {
   "cell_type": "code",
   "execution_count": 6,
   "id": "999211ef",
   "metadata": {
    "execution": {
     "iopub.execute_input": "2021-08-23T02:26:04.810087Z",
     "iopub.status.busy": "2021-08-23T02:26:04.809669Z",
     "iopub.status.idle": "2021-08-23T02:26:04.821781Z",
     "shell.execute_reply": "2021-08-23T02:26:04.820253Z",
     "shell.execute_reply.started": "2021-08-23T02:26:04.810043Z"
    }
   },
   "outputs": [
    {
     "data": {
      "text/plain": [
       "a   NaN\n",
       "b   NaN\n",
       "dtype: float64"
      ]
     },
     "execution_count": 6,
     "metadata": {},
     "output_type": "execute_result"
    }
   ],
   "source": [
    "df.mad(skipna=0) # skipna 是否排除nan"
   ]
  },
  {
   "cell_type": "code",
   "execution_count": 4,
   "id": "41296c76",
   "metadata": {
    "execution": {
     "iopub.execute_input": "2021-08-23T02:25:31.329191Z",
     "iopub.status.busy": "2021-08-23T02:25:31.328681Z",
     "iopub.status.idle": "2021-08-23T02:25:31.342743Z",
     "shell.execute_reply": "2021-08-23T02:25:31.341349Z",
     "shell.execute_reply.started": "2021-08-23T02:25:31.329154Z"
    }
   },
   "outputs": [
    {
     "data": {
      "text/plain": [
       "0     4853.5\n",
       "1        NaN\n",
       "2    33250.5\n",
       "3    18763.0\n",
       "4    33459.0\n",
       "5    23816.5\n",
       "6     9497.5\n",
       "7    10986.5\n",
       "8    15930.5\n",
       "9     9786.5\n",
       "dtype: float64"
      ]
     },
     "execution_count": 4,
     "metadata": {},
     "output_type": "execute_result"
    }
   ],
   "source": [
    "df.mad(axis=1) # 行数据的平均绝对偏差"
   ]
  },
  {
   "cell_type": "code",
   "execution_count": 3,
   "id": "675859c3",
   "metadata": {
    "execution": {
     "iopub.execute_input": "2021-08-23T02:24:49.950755Z",
     "iopub.status.busy": "2021-08-23T02:24:49.950345Z",
     "iopub.status.idle": "2021-08-23T02:24:49.969815Z",
     "shell.execute_reply": "2021-08-23T02:24:49.969153Z",
     "shell.execute_reply.started": "2021-08-23T02:24:49.950729Z"
    }
   },
   "outputs": [
    {
     "data": {
      "text/plain": [
       "a    19995.506173\n",
       "b    27184.370370\n",
       "dtype: float64"
      ]
     },
     "execution_count": 3,
     "metadata": {},
     "output_type": "execute_result"
    }
   ],
   "source": [
    "df.mad() # 列数据的平均绝对偏差"
   ]
  }
 ],
 "metadata": {
  "kernelspec": {
   "display_name": "Python 3",
   "language": "python",
   "name": "python3"
  },
  "language_info": {
   "codemirror_mode": {
    "name": "ipython",
    "version": 3
   },
   "file_extension": ".py",
   "mimetype": "text/x-python",
   "name": "python",
   "nbconvert_exporter": "python",
   "pygments_lexer": "ipython3",
   "version": "3.8.8"
  }
 },
 "nbformat": 4,
 "nbformat_minor": 5
}
