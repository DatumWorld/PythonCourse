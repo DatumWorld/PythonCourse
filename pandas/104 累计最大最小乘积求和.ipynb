{
 "cells": [
  {
   "cell_type": "markdown",
   "id": "fe95639a",
   "metadata": {
    "execution": {
     "iopub.execute_input": "2021-05-10T07:18:52.990449Z",
     "iopub.status.busy": "2021-05-10T07:18:52.990449Z",
     "iopub.status.idle": "2021-05-10T07:18:52.994464Z",
     "shell.execute_reply": "2021-05-10T07:18:52.993452Z",
     "shell.execute_reply.started": "2021-05-10T07:18:52.990449Z"
    }
   },
   "source": [
    "## 104 累计最大最小乘积求和"
   ]
  },
  {
   "cell_type": "markdown",
   "id": "0ddac84a",
   "metadata": {
    "tags": []
   },
   "source": [
    "### cummax 累计最大 cummin 累计最小 cumprod 累计乘积 cumsum 累计求和\n",
    "参数一致 axis=None, skipna=True, *args, **kwargs"
   ]
  },
  {
   "cell_type": "code",
   "execution_count": 1,
   "id": "5d61795b",
   "metadata": {
    "execution": {
     "iopub.execute_input": "2021-08-24T05:56:36.039225Z",
     "iopub.status.busy": "2021-08-24T05:56:36.039225Z",
     "iopub.status.idle": "2021-08-24T05:56:36.566224Z",
     "shell.execute_reply": "2021-08-24T05:56:36.566224Z",
     "shell.execute_reply.started": "2021-08-24T05:56:36.039225Z"
    },
    "tags": []
   },
   "outputs": [],
   "source": [
    "import numpy  as np\n",
    "import pandas as pd\n",
    "from faker import Faker\n",
    "\n",
    "fake = Faker('zh_CN')\n",
    "df=pd.DataFrame(data=[ [fake.name()] for x in range(10) ],columns=['name'])\n",
    "\n",
    "df['销售额']=np.random.randint(100,100000,size=(10, 1))\n",
    "df['时间']=pd.date_range(start='2020-01-01',periods=10,freq='D')\n",
    "df.insert(0,'dept',['部门1']*5+['部门2']*5)\n",
    "df.insert(1,'dept 1',['小部门1']*2+['小部门2']*3+['小部门3']*1+['小部门4']*4)\n",
    "df.iloc[1,1]=np.nan #  修改成nan"
   ]
  },
  {
   "cell_type": "markdown",
   "id": "cde7d4a7",
   "metadata": {
    "tags": []
   },
   "source": [
    "### 演示数据"
   ]
  },
  {
   "cell_type": "code",
   "execution_count": 7,
   "id": "5ff3889a",
   "metadata": {
    "execution": {
     "iopub.execute_input": "2021-08-24T05:59:35.353211Z",
     "iopub.status.busy": "2021-08-24T05:59:35.353211Z",
     "iopub.status.idle": "2021-08-24T05:59:35.366241Z",
     "shell.execute_reply": "2021-08-24T05:59:35.366241Z",
     "shell.execute_reply.started": "2021-08-24T05:59:35.353211Z"
    },
    "tags": []
   },
   "outputs": [
    {
     "data": {
      "text/html": [
       "<div>\n",
       "<style scoped>\n",
       "    .dataframe tbody tr th:only-of-type {\n",
       "        vertical-align: middle;\n",
       "    }\n",
       "\n",
       "    .dataframe tbody tr th {\n",
       "        vertical-align: top;\n",
       "    }\n",
       "\n",
       "    .dataframe thead th {\n",
       "        text-align: right;\n",
       "    }\n",
       "</style>\n",
       "<table border=\"1\" class=\"dataframe\">\n",
       "  <thead>\n",
       "    <tr style=\"text-align: right;\">\n",
       "      <th></th>\n",
       "      <th>dept</th>\n",
       "      <th>dept 1</th>\n",
       "      <th>name</th>\n",
       "      <th>销售额</th>\n",
       "      <th>时间</th>\n",
       "    </tr>\n",
       "  </thead>\n",
       "  <tbody>\n",
       "    <tr>\n",
       "      <th>0</th>\n",
       "      <td>部门1</td>\n",
       "      <td>小部门1</td>\n",
       "      <td>孙倩</td>\n",
       "      <td>68823.0</td>\n",
       "      <td>2020-01-01</td>\n",
       "    </tr>\n",
       "    <tr>\n",
       "      <th>1</th>\n",
       "      <td>部门1</td>\n",
       "      <td>NaN</td>\n",
       "      <td>刘秀梅</td>\n",
       "      <td>NaN</td>\n",
       "      <td>2020-01-02</td>\n",
       "    </tr>\n",
       "    <tr>\n",
       "      <th>2</th>\n",
       "      <td>部门1</td>\n",
       "      <td>小部门2</td>\n",
       "      <td>张秀云</td>\n",
       "      <td>83045.0</td>\n",
       "      <td>2020-01-03</td>\n",
       "    </tr>\n",
       "    <tr>\n",
       "      <th>3</th>\n",
       "      <td>部门1</td>\n",
       "      <td>小部门2</td>\n",
       "      <td>楼想</td>\n",
       "      <td>87794.0</td>\n",
       "      <td>2020-01-04</td>\n",
       "    </tr>\n",
       "    <tr>\n",
       "      <th>4</th>\n",
       "      <td>部门1</td>\n",
       "      <td>小部门2</td>\n",
       "      <td>项辉</td>\n",
       "      <td>16677.0</td>\n",
       "      <td>2020-01-05</td>\n",
       "    </tr>\n",
       "    <tr>\n",
       "      <th>5</th>\n",
       "      <td>部门2</td>\n",
       "      <td>小部门3</td>\n",
       "      <td>马佳</td>\n",
       "      <td>15866.0</td>\n",
       "      <td>2020-01-06</td>\n",
       "    </tr>\n",
       "    <tr>\n",
       "      <th>6</th>\n",
       "      <td>部门2</td>\n",
       "      <td>小部门4</td>\n",
       "      <td>郭桂珍</td>\n",
       "      <td>55156.0</td>\n",
       "      <td>2020-01-07</td>\n",
       "    </tr>\n",
       "    <tr>\n",
       "      <th>7</th>\n",
       "      <td>部门2</td>\n",
       "      <td>小部门4</td>\n",
       "      <td>郑淑英</td>\n",
       "      <td>9409.0</td>\n",
       "      <td>2020-01-08</td>\n",
       "    </tr>\n",
       "    <tr>\n",
       "      <th>8</th>\n",
       "      <td>部门2</td>\n",
       "      <td>小部门4</td>\n",
       "      <td>杨帆</td>\n",
       "      <td>38322.0</td>\n",
       "      <td>2020-01-09</td>\n",
       "    </tr>\n",
       "    <tr>\n",
       "      <th>9</th>\n",
       "      <td>部门2</td>\n",
       "      <td>小部门4</td>\n",
       "      <td>万瑜</td>\n",
       "      <td>56410.0</td>\n",
       "      <td>2020-01-10</td>\n",
       "    </tr>\n",
       "  </tbody>\n",
       "</table>\n",
       "</div>"
      ],
      "text/plain": [
       "  dept dept 1 name      销售额         时间\n",
       "0  部门1   小部门1   孙倩  68823.0 2020-01-01\n",
       "1  部门1    NaN  刘秀梅      NaN 2020-01-02\n",
       "2  部门1   小部门2  张秀云  83045.0 2020-01-03\n",
       "3  部门1   小部门2   楼想  87794.0 2020-01-04\n",
       "4  部门1   小部门2   项辉  16677.0 2020-01-05\n",
       "5  部门2   小部门3   马佳  15866.0 2020-01-06\n",
       "6  部门2   小部门4  郭桂珍  55156.0 2020-01-07\n",
       "7  部门2   小部门4  郑淑英   9409.0 2020-01-08\n",
       "8  部门2   小部门4   杨帆  38322.0 2020-01-09\n",
       "9  部门2   小部门4   万瑜  56410.0 2020-01-10"
      ]
     },
     "execution_count": 7,
     "metadata": {},
     "output_type": "execute_result"
    }
   ],
   "source": [
    "df # 随机生成的数据"
   ]
  },
  {
   "cell_type": "code",
   "execution_count": 6,
   "id": "e26ea8c0-8726-4225-bddc-de3d6dda3006",
   "metadata": {
    "execution": {
     "iopub.execute_input": "2021-08-24T05:59:32.465215Z",
     "iopub.status.busy": "2021-08-24T05:59:32.465215Z",
     "iopub.status.idle": "2021-08-24T05:59:32.469215Z",
     "shell.execute_reply": "2021-08-24T05:59:32.469215Z",
     "shell.execute_reply.started": "2021-08-24T05:59:32.465215Z"
    },
    "tags": []
   },
   "outputs": [],
   "source": [
    "df.iloc[1,3]=np.nan # 修改一个为nan"
   ]
  },
  {
   "cell_type": "code",
   "execution_count": 12,
   "id": "38e338f4-ec8b-418f-972a-c8c6882e7085",
   "metadata": {
    "execution": {
     "iopub.execute_input": "2021-08-24T06:02:29.458943Z",
     "iopub.status.busy": "2021-08-24T06:02:29.458943Z",
     "iopub.status.idle": "2021-08-24T06:02:29.464942Z",
     "shell.execute_reply": "2021-08-24T06:02:29.464942Z",
     "shell.execute_reply.started": "2021-08-24T06:02:29.458943Z"
    },
    "tags": []
   },
   "outputs": [
    {
     "data": {
      "text/plain": [
       "0     68823.0\n",
       "1         NaN\n",
       "2    151868.0\n",
       "3    239662.0\n",
       "4    256339.0\n",
       "5    272205.0\n",
       "6    327361.0\n",
       "7    336770.0\n",
       "8    375092.0\n",
       "9    431502.0\n",
       "Name: 销售额, dtype: float64"
      ]
     },
     "execution_count": 12,
     "metadata": {},
     "output_type": "execute_result"
    }
   ],
   "source": [
    "df.销售额.cumsum() # 累计求和 。这几个参数使用方法一样，就不再重复演示"
   ]
  },
  {
   "cell_type": "code",
   "execution_count": 11,
   "id": "e0e26012-b7c9-4894-88ef-60277f2ec376",
   "metadata": {
    "execution": {
     "iopub.execute_input": "2021-08-24T06:02:01.016943Z",
     "iopub.status.busy": "2021-08-24T06:02:01.016943Z",
     "iopub.status.idle": "2021-08-24T06:02:01.023946Z",
     "shell.execute_reply": "2021-08-24T06:02:01.022942Z",
     "shell.execute_reply.started": "2021-08-24T06:02:01.016943Z"
    },
    "tags": []
   },
   "outputs": [
    {
     "data": {
      "text/plain": [
       "0    6.882300e+04\n",
       "1             NaN\n",
       "2    5.715406e+09\n",
       "3    5.017784e+14\n",
       "4    8.368158e+18\n",
       "5    1.327692e+23\n",
       "6    7.323017e+27\n",
       "7    6.890227e+31\n",
       "8    2.640473e+36\n",
       "9    1.489491e+41\n",
       "Name: 销售额, dtype: float64"
      ]
     },
     "execution_count": 11,
     "metadata": {},
     "output_type": "execute_result"
    }
   ],
   "source": [
    "df.销售额.cumprod() # 累计乘积"
   ]
  },
  {
   "cell_type": "code",
   "execution_count": 10,
   "id": "f497d083-9c63-4cef-881c-ba22754fb674",
   "metadata": {
    "execution": {
     "iopub.execute_input": "2021-08-24T06:01:23.601941Z",
     "iopub.status.busy": "2021-08-24T06:01:23.600943Z",
     "iopub.status.idle": "2021-08-24T06:01:23.605942Z",
     "shell.execute_reply": "2021-08-24T06:01:23.605942Z",
     "shell.execute_reply.started": "2021-08-24T06:01:23.601941Z"
    },
    "tags": []
   },
   "outputs": [
    {
     "data": {
      "text/plain": [
       "0    68823.0\n",
       "1        NaN\n",
       "2    68823.0\n",
       "3    68823.0\n",
       "4    16677.0\n",
       "5    15866.0\n",
       "6    15866.0\n",
       "7     9409.0\n",
       "8     9409.0\n",
       "9     9409.0\n",
       "Name: 销售额, dtype: float64"
      ]
     },
     "execution_count": 10,
     "metadata": {},
     "output_type": "execute_result"
    }
   ],
   "source": [
    "df.销售额.cummin() # 累计最小"
   ]
  },
  {
   "cell_type": "code",
   "execution_count": 9,
   "id": "fb49cbfc-f8bd-4392-bac3-826561461a0d",
   "metadata": {
    "execution": {
     "iopub.execute_input": "2021-08-24T06:00:36.449242Z",
     "iopub.status.busy": "2021-08-24T06:00:36.448211Z",
     "iopub.status.idle": "2021-08-24T06:00:36.457210Z",
     "shell.execute_reply": "2021-08-24T06:00:36.455218Z",
     "shell.execute_reply.started": "2021-08-24T06:00:36.449242Z"
    },
    "tags": []
   },
   "outputs": [
    {
     "data": {
      "text/plain": [
       "0    68823.0\n",
       "1        NaN\n",
       "2        NaN\n",
       "3        NaN\n",
       "4        NaN\n",
       "5        NaN\n",
       "6        NaN\n",
       "7        NaN\n",
       "8        NaN\n",
       "9        NaN\n",
       "Name: 销售额, dtype: float64"
      ]
     },
     "execution_count": 9,
     "metadata": {},
     "output_type": "execute_result"
    }
   ],
   "source": [
    "df.销售额.cumsum(skipna=False) # 累计求和。skipna 是否排除nan"
   ]
  },
  {
   "cell_type": "code",
   "execution_count": 8,
   "id": "ca4fe71c-7259-4500-aa2e-02999c7f24f9",
   "metadata": {
    "execution": {
     "iopub.execute_input": "2021-08-24T06:00:02.311210Z",
     "iopub.status.busy": "2021-08-24T06:00:02.311210Z",
     "iopub.status.idle": "2021-08-24T06:00:02.316211Z",
     "shell.execute_reply": "2021-08-24T06:00:02.316211Z",
     "shell.execute_reply.started": "2021-08-24T06:00:02.311210Z"
    },
    "tags": []
   },
   "outputs": [
    {
     "data": {
      "text/plain": [
       "0     68823.0\n",
       "1         NaN\n",
       "2    151868.0\n",
       "3    239662.0\n",
       "4    256339.0\n",
       "5    272205.0\n",
       "6    327361.0\n",
       "7    336770.0\n",
       "8    375092.0\n",
       "9    431502.0\n",
       "Name: 销售额, dtype: float64"
      ]
     },
     "execution_count": 8,
     "metadata": {},
     "output_type": "execute_result"
    }
   ],
   "source": [
    "df.销售额.cumsum() # 累计求和"
   ]
  }
 ],
 "metadata": {
  "kernelspec": {
   "display_name": "Python 3 (ipykernel)",
   "language": "python",
   "name": "python3"
  },
  "language_info": {
   "codemirror_mode": {
    "name": "ipython",
    "version": 3
   },
   "file_extension": ".py",
   "mimetype": "text/x-python",
   "name": "python",
   "nbconvert_exporter": "python",
   "pygments_lexer": "ipython3",
   "version": "3.8.11"
  }
 },
 "nbformat": 4,
 "nbformat_minor": 5
}
