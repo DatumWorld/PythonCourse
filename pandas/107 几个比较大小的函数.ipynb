{
 "cells": [
  {
   "cell_type": "markdown",
   "id": "9f986fb6",
   "metadata": {
    "execution": {
     "iopub.execute_input": "2021-05-10T07:18:52.990449Z",
     "iopub.status.busy": "2021-05-10T07:18:52.990449Z",
     "iopub.status.idle": "2021-05-10T07:18:52.994464Z",
     "shell.execute_reply": "2021-05-10T07:18:52.993452Z",
     "shell.execute_reply.started": "2021-05-10T07:18:52.990449Z"
    }
   },
   "source": [
    "## 107 几个比较大小的函数"
   ]
  },
  {
   "cell_type": "markdown",
   "id": "36a8b478",
   "metadata": {
    "heading_collapsed": "true",
    "tags": []
   },
   "source": [
    "### eq, ne, le, lt, ge, gt 比较大小 作用分别等同于 ==, !=, <=, <, >=, >\n",
    "### 区别在于可以指定轴方向和层级\n",
    "参数 other, axis='columns', level=None"
   ]
  },
  {
   "cell_type": "code",
   "execution_count": 1,
   "id": "a10885c5",
   "metadata": {
    "execution": {
     "iopub.execute_input": "2021-08-25T03:15:08.891618Z",
     "iopub.status.busy": "2021-08-25T03:15:08.891618Z",
     "iopub.status.idle": "2021-08-25T03:15:09.126616Z",
     "shell.execute_reply": "2021-08-25T03:15:09.126616Z",
     "shell.execute_reply.started": "2021-08-25T03:15:08.891618Z"
    },
    "tags": []
   },
   "outputs": [],
   "source": [
    "import numpy  as np\n",
    "import pandas as pd\n",
    "\n",
    "df = pd.DataFrame({'cost': [250, 150, 100],\n",
    "                   'revenue': [100, 250, 300]},\n",
    "                  index=['A', 'B', 'C'])\n",
    "df_multindex = pd.DataFrame({'cost': [250, 150, 100, 150, 300, 220],\n",
    "                             'revenue': [100, 250, 300, 200, 175, 225]},\n",
    "                            index=[['Q1', 'Q1', 'Q1', 'Q2', 'Q2', 'Q2'],\n",
    "                                   ['A', 'B', 'C', 'A', 'B', 'C']])"
   ]
  },
  {
   "cell_type": "markdown",
   "id": "4cfbc919",
   "metadata": {
    "tags": []
   },
   "source": [
    "### 演示数据"
   ]
  },
  {
   "cell_type": "code",
   "execution_count": 2,
   "id": "ddb397eb",
   "metadata": {
    "execution": {
     "iopub.execute_input": "2021-08-25T03:15:09.127615Z",
     "iopub.status.busy": "2021-08-25T03:15:09.127615Z",
     "iopub.status.idle": "2021-08-25T03:15:09.141615Z",
     "shell.execute_reply": "2021-08-25T03:15:09.141615Z",
     "shell.execute_reply.started": "2021-08-25T03:15:09.127615Z"
    },
    "tags": []
   },
   "outputs": [
    {
     "data": {
      "text/html": [
       "<div>\n",
       "<style scoped>\n",
       "    .dataframe tbody tr th:only-of-type {\n",
       "        vertical-align: middle;\n",
       "    }\n",
       "\n",
       "    .dataframe tbody tr th {\n",
       "        vertical-align: top;\n",
       "    }\n",
       "\n",
       "    .dataframe thead th {\n",
       "        text-align: right;\n",
       "    }\n",
       "</style>\n",
       "<table border=\"1\" class=\"dataframe\">\n",
       "  <thead>\n",
       "    <tr style=\"text-align: right;\">\n",
       "      <th></th>\n",
       "      <th>cost</th>\n",
       "      <th>revenue</th>\n",
       "    </tr>\n",
       "  </thead>\n",
       "  <tbody>\n",
       "    <tr>\n",
       "      <th>A</th>\n",
       "      <td>250</td>\n",
       "      <td>100</td>\n",
       "    </tr>\n",
       "    <tr>\n",
       "      <th>B</th>\n",
       "      <td>150</td>\n",
       "      <td>250</td>\n",
       "    </tr>\n",
       "    <tr>\n",
       "      <th>C</th>\n",
       "      <td>100</td>\n",
       "      <td>300</td>\n",
       "    </tr>\n",
       "  </tbody>\n",
       "</table>\n",
       "</div>"
      ],
      "text/plain": [
       "   cost  revenue\n",
       "A   250      100\n",
       "B   150      250\n",
       "C   100      300"
      ]
     },
     "execution_count": 2,
     "metadata": {},
     "output_type": "execute_result"
    }
   ],
   "source": [
    "df "
   ]
  },
  {
   "cell_type": "code",
   "execution_count": 18,
   "id": "366f23f8-bbc8-441a-b9c4-5618c20533b4",
   "metadata": {
    "execution": {
     "iopub.execute_input": "2021-08-25T03:23:21.013323Z",
     "iopub.status.busy": "2021-08-25T03:23:21.013323Z",
     "iopub.status.idle": "2021-08-25T03:23:21.020318Z",
     "shell.execute_reply": "2021-08-25T03:23:21.020318Z",
     "shell.execute_reply.started": "2021-08-25T03:23:21.013323Z"
    },
    "tags": []
   },
   "outputs": [
    {
     "data": {
      "text/html": [
       "<div>\n",
       "<style scoped>\n",
       "    .dataframe tbody tr th:only-of-type {\n",
       "        vertical-align: middle;\n",
       "    }\n",
       "\n",
       "    .dataframe tbody tr th {\n",
       "        vertical-align: top;\n",
       "    }\n",
       "\n",
       "    .dataframe thead th {\n",
       "        text-align: right;\n",
       "    }\n",
       "</style>\n",
       "<table border=\"1\" class=\"dataframe\">\n",
       "  <thead>\n",
       "    <tr style=\"text-align: right;\">\n",
       "      <th></th>\n",
       "      <th>cost</th>\n",
       "      <th>revenue</th>\n",
       "    </tr>\n",
       "  </thead>\n",
       "  <tbody>\n",
       "    <tr>\n",
       "      <th>A</th>\n",
       "      <td>True</td>\n",
       "      <td>True</td>\n",
       "    </tr>\n",
       "    <tr>\n",
       "      <th>B</th>\n",
       "      <td>True</td>\n",
       "      <td>True</td>\n",
       "    </tr>\n",
       "    <tr>\n",
       "      <th>C</th>\n",
       "      <td>True</td>\n",
       "      <td>True</td>\n",
       "    </tr>\n",
       "  </tbody>\n",
       "</table>\n",
       "</div>"
      ],
      "text/plain": [
       "   cost  revenue\n",
       "A  True     True\n",
       "B  True     True\n",
       "C  True     True"
      ]
     },
     "execution_count": 18,
     "metadata": {},
     "output_type": "execute_result"
    }
   ],
   "source": [
    "df.eq(df) # 其它五个用法类似。，仅仅含义不同。不在重复演示"
   ]
  },
  {
   "cell_type": "code",
   "execution_count": 9,
   "id": "62f7ed15-ac4a-40ac-98ad-8be572209731",
   "metadata": {
    "execution": {
     "iopub.execute_input": "2021-08-25T03:19:22.186019Z",
     "iopub.status.busy": "2021-08-25T03:19:22.186019Z",
     "iopub.status.idle": "2021-08-25T03:19:22.196016Z",
     "shell.execute_reply": "2021-08-25T03:19:22.195020Z",
     "shell.execute_reply.started": "2021-08-25T03:19:22.186019Z"
    },
    "tags": []
   },
   "outputs": [
    {
     "data": {
      "text/html": [
       "<div>\n",
       "<style scoped>\n",
       "    .dataframe tbody tr th:only-of-type {\n",
       "        vertical-align: middle;\n",
       "    }\n",
       "\n",
       "    .dataframe tbody tr th {\n",
       "        vertical-align: top;\n",
       "    }\n",
       "\n",
       "    .dataframe thead th {\n",
       "        text-align: right;\n",
       "    }\n",
       "</style>\n",
       "<table border=\"1\" class=\"dataframe\">\n",
       "  <thead>\n",
       "    <tr style=\"text-align: right;\">\n",
       "      <th></th>\n",
       "      <th>cost</th>\n",
       "      <th>revenue</th>\n",
       "    </tr>\n",
       "  </thead>\n",
       "  <tbody>\n",
       "    <tr>\n",
       "      <th>A</th>\n",
       "      <td>False</td>\n",
       "      <td>False</td>\n",
       "    </tr>\n",
       "    <tr>\n",
       "      <th>B</th>\n",
       "      <td>False</td>\n",
       "      <td>False</td>\n",
       "    </tr>\n",
       "    <tr>\n",
       "      <th>C</th>\n",
       "      <td>False</td>\n",
       "      <td>False</td>\n",
       "    </tr>\n",
       "  </tbody>\n",
       "</table>\n",
       "</div>"
      ],
      "text/plain": [
       "    cost  revenue\n",
       "A  False    False\n",
       "B  False    False\n",
       "C  False    False"
      ]
     },
     "execution_count": 9,
     "metadata": {},
     "output_type": "execute_result"
    }
   ],
   "source": [
    "df.gt(other=df) # other 可以是df作为数据源"
   ]
  },
  {
   "cell_type": "code",
   "execution_count": 8,
   "id": "4dc40bfd-680d-4062-93a8-3fd04569ba97",
   "metadata": {
    "execution": {
     "iopub.execute_input": "2021-08-25T03:18:47.659080Z",
     "iopub.status.busy": "2021-08-25T03:18:47.659080Z",
     "iopub.status.idle": "2021-08-25T03:18:47.669079Z",
     "shell.execute_reply": "2021-08-25T03:18:47.668114Z",
     "shell.execute_reply.started": "2021-08-25T03:18:47.659080Z"
    },
    "tags": []
   },
   "outputs": [
    {
     "data": {
      "text/html": [
       "<div>\n",
       "<style scoped>\n",
       "    .dataframe tbody tr th:only-of-type {\n",
       "        vertical-align: middle;\n",
       "    }\n",
       "\n",
       "    .dataframe tbody tr th {\n",
       "        vertical-align: top;\n",
       "    }\n",
       "\n",
       "    .dataframe thead th {\n",
       "        text-align: right;\n",
       "    }\n",
       "</style>\n",
       "<table border=\"1\" class=\"dataframe\">\n",
       "  <thead>\n",
       "    <tr style=\"text-align: right;\">\n",
       "      <th></th>\n",
       "      <th>cost</th>\n",
       "      <th>revenue</th>\n",
       "    </tr>\n",
       "  </thead>\n",
       "  <tbody>\n",
       "    <tr>\n",
       "      <th>A</th>\n",
       "      <td>True</td>\n",
       "      <td>False</td>\n",
       "    </tr>\n",
       "    <tr>\n",
       "      <th>B</th>\n",
       "      <td>True</td>\n",
       "      <td>True</td>\n",
       "    </tr>\n",
       "    <tr>\n",
       "      <th>C</th>\n",
       "      <td>False</td>\n",
       "      <td>True</td>\n",
       "    </tr>\n",
       "  </tbody>\n",
       "</table>\n",
       "</div>"
      ],
      "text/plain": [
       "    cost  revenue\n",
       "A   True    False\n",
       "B   True     True\n",
       "C  False     True"
      ]
     },
     "execution_count": 8,
     "metadata": {},
     "output_type": "execute_result"
    }
   ],
   "source": [
    "df.gt(other=100,axis=1) # 表格中每个元素都和100比较，返回结果.axis指定轴方向"
   ]
  },
  {
   "cell_type": "code",
   "execution_count": 6,
   "id": "5d7a4db4-607b-4f68-be1f-0068df080d41",
   "metadata": {
    "execution": {
     "iopub.execute_input": "2021-08-25T03:18:00.253081Z",
     "iopub.status.busy": "2021-08-25T03:18:00.252081Z",
     "iopub.status.idle": "2021-08-25T03:18:00.262080Z",
     "shell.execute_reply": "2021-08-25T03:18:00.261083Z",
     "shell.execute_reply.started": "2021-08-25T03:18:00.253081Z"
    },
    "tags": []
   },
   "outputs": [
    {
     "data": {
      "text/html": [
       "<div>\n",
       "<style scoped>\n",
       "    .dataframe tbody tr th:only-of-type {\n",
       "        vertical-align: middle;\n",
       "    }\n",
       "\n",
       "    .dataframe tbody tr th {\n",
       "        vertical-align: top;\n",
       "    }\n",
       "\n",
       "    .dataframe thead th {\n",
       "        text-align: right;\n",
       "    }\n",
       "</style>\n",
       "<table border=\"1\" class=\"dataframe\">\n",
       "  <thead>\n",
       "    <tr style=\"text-align: right;\">\n",
       "      <th></th>\n",
       "      <th>cost</th>\n",
       "      <th>revenue</th>\n",
       "    </tr>\n",
       "  </thead>\n",
       "  <tbody>\n",
       "    <tr>\n",
       "      <th>A</th>\n",
       "      <td>True</td>\n",
       "      <td>False</td>\n",
       "    </tr>\n",
       "    <tr>\n",
       "      <th>B</th>\n",
       "      <td>True</td>\n",
       "      <td>True</td>\n",
       "    </tr>\n",
       "    <tr>\n",
       "      <th>C</th>\n",
       "      <td>False</td>\n",
       "      <td>True</td>\n",
       "    </tr>\n",
       "  </tbody>\n",
       "</table>\n",
       "</div>"
      ],
      "text/plain": [
       "    cost  revenue\n",
       "A   True    False\n",
       "B   True     True\n",
       "C  False     True"
      ]
     },
     "execution_count": 6,
     "metadata": {},
     "output_type": "execute_result"
    }
   ],
   "source": [
    "df.gt(other=100) # 表格中每个元素都和100比较，返回结果"
   ]
  },
  {
   "cell_type": "code",
   "execution_count": 5,
   "id": "fa45ba6b-6a6c-4917-a81b-02eaee345f46",
   "metadata": {
    "execution": {
     "iopub.execute_input": "2021-08-25T03:16:33.412226Z",
     "iopub.status.busy": "2021-08-25T03:16:33.411226Z",
     "iopub.status.idle": "2021-08-25T03:16:33.422231Z",
     "shell.execute_reply": "2021-08-25T03:16:33.419232Z",
     "shell.execute_reply.started": "2021-08-25T03:16:33.412226Z"
    },
    "tags": []
   },
   "outputs": [
    {
     "data": {
      "text/plain": [
       "A     True\n",
       "B     True\n",
       "C    False\n",
       "Name: cost, dtype: bool"
      ]
     },
     "execution_count": 5,
     "metadata": {},
     "output_type": "execute_result"
    }
   ],
   "source": [
    "df.cost>100 # 传统逻辑符号>"
   ]
  },
  {
   "cell_type": "code",
   "execution_count": 4,
   "id": "ad8f974c-4a27-46e4-9e4a-a0a4ceb72e42",
   "metadata": {
    "execution": {
     "iopub.execute_input": "2021-08-25T03:16:22.698220Z",
     "iopub.status.busy": "2021-08-25T03:16:22.698220Z",
     "iopub.status.idle": "2021-08-25T03:16:22.713254Z",
     "shell.execute_reply": "2021-08-25T03:16:22.713254Z",
     "shell.execute_reply.started": "2021-08-25T03:16:22.698220Z"
    },
    "tags": []
   },
   "outputs": [
    {
     "data": {
      "text/plain": [
       "A     True\n",
       "B     True\n",
       "C    False\n",
       "Name: cost, dtype: bool"
      ]
     },
     "execution_count": 4,
     "metadata": {},
     "output_type": "execute_result"
    }
   ],
   "source": [
    "df.cost.gt(100) # 函数gt 。等效"
   ]
  },
  {
   "cell_type": "code",
   "execution_count": 3,
   "id": "e002816c-170d-40ea-a545-2a449d305086",
   "metadata": {
    "execution": {
     "iopub.execute_input": "2021-08-25T03:15:09.143619Z",
     "iopub.status.busy": "2021-08-25T03:15:09.142615Z",
     "iopub.status.idle": "2021-08-25T03:15:09.150615Z",
     "shell.execute_reply": "2021-08-25T03:15:09.150615Z",
     "shell.execute_reply.started": "2021-08-25T03:15:09.143619Z"
    },
    "tags": []
   },
   "outputs": [
    {
     "data": {
      "text/html": [
       "<div>\n",
       "<style scoped>\n",
       "    .dataframe tbody tr th:only-of-type {\n",
       "        vertical-align: middle;\n",
       "    }\n",
       "\n",
       "    .dataframe tbody tr th {\n",
       "        vertical-align: top;\n",
       "    }\n",
       "\n",
       "    .dataframe thead th {\n",
       "        text-align: right;\n",
       "    }\n",
       "</style>\n",
       "<table border=\"1\" class=\"dataframe\">\n",
       "  <thead>\n",
       "    <tr style=\"text-align: right;\">\n",
       "      <th></th>\n",
       "      <th></th>\n",
       "      <th>cost</th>\n",
       "      <th>revenue</th>\n",
       "    </tr>\n",
       "  </thead>\n",
       "  <tbody>\n",
       "    <tr>\n",
       "      <th rowspan=\"3\" valign=\"top\">Q1</th>\n",
       "      <th>A</th>\n",
       "      <td>250</td>\n",
       "      <td>100</td>\n",
       "    </tr>\n",
       "    <tr>\n",
       "      <th>B</th>\n",
       "      <td>150</td>\n",
       "      <td>250</td>\n",
       "    </tr>\n",
       "    <tr>\n",
       "      <th>C</th>\n",
       "      <td>100</td>\n",
       "      <td>300</td>\n",
       "    </tr>\n",
       "    <tr>\n",
       "      <th rowspan=\"3\" valign=\"top\">Q2</th>\n",
       "      <th>A</th>\n",
       "      <td>150</td>\n",
       "      <td>200</td>\n",
       "    </tr>\n",
       "    <tr>\n",
       "      <th>B</th>\n",
       "      <td>300</td>\n",
       "      <td>175</td>\n",
       "    </tr>\n",
       "    <tr>\n",
       "      <th>C</th>\n",
       "      <td>220</td>\n",
       "      <td>225</td>\n",
       "    </tr>\n",
       "  </tbody>\n",
       "</table>\n",
       "</div>"
      ],
      "text/plain": [
       "      cost  revenue\n",
       "Q1 A   250      100\n",
       "   B   150      250\n",
       "   C   100      300\n",
       "Q2 A   150      200\n",
       "   B   300      175\n",
       "   C   220      225"
      ]
     },
     "execution_count": 3,
     "metadata": {},
     "output_type": "execute_result"
    }
   ],
   "source": [
    "df_multindex"
   ]
  },
  {
   "cell_type": "code",
   "execution_count": 15,
   "id": "2abf1edc-1062-4969-b040-807167aa94b8",
   "metadata": {
    "execution": {
     "iopub.execute_input": "2021-08-25T03:21:46.856268Z",
     "iopub.status.busy": "2021-08-25T03:21:46.855270Z",
     "iopub.status.idle": "2021-08-25T03:21:46.864271Z",
     "shell.execute_reply": "2021-08-25T03:21:46.863275Z",
     "shell.execute_reply.started": "2021-08-25T03:21:46.856268Z"
    },
    "tags": []
   },
   "outputs": [
    {
     "data": {
      "text/html": [
       "<div>\n",
       "<style scoped>\n",
       "    .dataframe tbody tr th:only-of-type {\n",
       "        vertical-align: middle;\n",
       "    }\n",
       "\n",
       "    .dataframe tbody tr th {\n",
       "        vertical-align: top;\n",
       "    }\n",
       "\n",
       "    .dataframe thead th {\n",
       "        text-align: right;\n",
       "    }\n",
       "</style>\n",
       "<table border=\"1\" class=\"dataframe\">\n",
       "  <thead>\n",
       "    <tr style=\"text-align: right;\">\n",
       "      <th></th>\n",
       "      <th></th>\n",
       "      <th>cost</th>\n",
       "      <th>revenue</th>\n",
       "    </tr>\n",
       "  </thead>\n",
       "  <tbody>\n",
       "    <tr>\n",
       "      <th rowspan=\"3\" valign=\"top\">Q1</th>\n",
       "      <th>A</th>\n",
       "      <td>False</td>\n",
       "      <td>False</td>\n",
       "    </tr>\n",
       "    <tr>\n",
       "      <th>B</th>\n",
       "      <td>False</td>\n",
       "      <td>False</td>\n",
       "    </tr>\n",
       "    <tr>\n",
       "      <th>C</th>\n",
       "      <td>False</td>\n",
       "      <td>False</td>\n",
       "    </tr>\n",
       "    <tr>\n",
       "      <th rowspan=\"3\" valign=\"top\">Q2</th>\n",
       "      <th>A</th>\n",
       "      <td>True</td>\n",
       "      <td>False</td>\n",
       "    </tr>\n",
       "    <tr>\n",
       "      <th>B</th>\n",
       "      <td>False</td>\n",
       "      <td>True</td>\n",
       "    </tr>\n",
       "    <tr>\n",
       "      <th>C</th>\n",
       "      <td>False</td>\n",
       "      <td>True</td>\n",
       "    </tr>\n",
       "  </tbody>\n",
       "</table>\n",
       "</div>"
      ],
      "text/plain": [
       "       cost  revenue\n",
       "Q1 A  False    False\n",
       "   B  False    False\n",
       "   C  False    False\n",
       "Q2 A   True    False\n",
       "   B  False     True\n",
       "   C  False     True"
      ]
     },
     "execution_count": 15,
     "metadata": {},
     "output_type": "execute_result"
    }
   ],
   "source": [
    "df.gt(df_multindex,level=1)"
   ]
  },
  {
   "cell_type": "code",
   "execution_count": 16,
   "id": "0236c2f1-c6db-4c8a-a743-890901c18069",
   "metadata": {
    "execution": {
     "iopub.execute_input": "2021-08-25T03:21:57.606269Z",
     "iopub.status.busy": "2021-08-25T03:21:57.606269Z",
     "iopub.status.idle": "2021-08-25T03:21:57.618271Z",
     "shell.execute_reply": "2021-08-25T03:21:57.616293Z",
     "shell.execute_reply.started": "2021-08-25T03:21:57.606269Z"
    },
    "tags": []
   },
   "outputs": [
    {
     "data": {
      "text/html": [
       "<div>\n",
       "<style scoped>\n",
       "    .dataframe tbody tr th:only-of-type {\n",
       "        vertical-align: middle;\n",
       "    }\n",
       "\n",
       "    .dataframe tbody tr th {\n",
       "        vertical-align: top;\n",
       "    }\n",
       "\n",
       "    .dataframe thead th {\n",
       "        text-align: right;\n",
       "    }\n",
       "</style>\n",
       "<table border=\"1\" class=\"dataframe\">\n",
       "  <thead>\n",
       "    <tr style=\"text-align: right;\">\n",
       "      <th></th>\n",
       "      <th></th>\n",
       "      <th>cost</th>\n",
       "      <th>revenue</th>\n",
       "    </tr>\n",
       "  </thead>\n",
       "  <tbody>\n",
       "    <tr>\n",
       "      <th rowspan=\"3\" valign=\"top\">Q1</th>\n",
       "      <th>A</th>\n",
       "      <td>False</td>\n",
       "      <td>False</td>\n",
       "    </tr>\n",
       "    <tr>\n",
       "      <th>B</th>\n",
       "      <td>False</td>\n",
       "      <td>False</td>\n",
       "    </tr>\n",
       "    <tr>\n",
       "      <th>C</th>\n",
       "      <td>False</td>\n",
       "      <td>False</td>\n",
       "    </tr>\n",
       "    <tr>\n",
       "      <th rowspan=\"3\" valign=\"top\">Q2</th>\n",
       "      <th>A</th>\n",
       "      <td>False</td>\n",
       "      <td>False</td>\n",
       "    </tr>\n",
       "    <tr>\n",
       "      <th>B</th>\n",
       "      <td>False</td>\n",
       "      <td>False</td>\n",
       "    </tr>\n",
       "    <tr>\n",
       "      <th>C</th>\n",
       "      <td>False</td>\n",
       "      <td>False</td>\n",
       "    </tr>\n",
       "  </tbody>\n",
       "</table>\n",
       "</div>"
      ],
      "text/plain": [
       "       cost  revenue\n",
       "Q1 A  False    False\n",
       "   B  False    False\n",
       "   C  False    False\n",
       "Q2 A  False    False\n",
       "   B  False    False\n",
       "   C  False    False"
      ]
     },
     "execution_count": 16,
     "metadata": {},
     "output_type": "execute_result"
    }
   ],
   "source": [
    "df.gt(df_multindex,level=0) # level 按照层级对齐索引比较"
   ]
  },
  {
   "cell_type": "code",
   "execution_count": 13,
   "id": "beda99e4-4f2f-46cc-b6fc-fc083d59a177",
   "metadata": {
    "execution": {
     "iopub.execute_input": "2021-08-25T03:21:02.541271Z",
     "iopub.status.busy": "2021-08-25T03:21:02.541271Z",
     "iopub.status.idle": "2021-08-25T03:21:02.551274Z",
     "shell.execute_reply": "2021-08-25T03:21:02.550271Z",
     "shell.execute_reply.started": "2021-08-25T03:21:02.541271Z"
    },
    "tags": []
   },
   "outputs": [
    {
     "data": {
      "text/html": [
       "<div>\n",
       "<style scoped>\n",
       "    .dataframe tbody tr th:only-of-type {\n",
       "        vertical-align: middle;\n",
       "    }\n",
       "\n",
       "    .dataframe tbody tr th {\n",
       "        vertical-align: top;\n",
       "    }\n",
       "\n",
       "    .dataframe thead th {\n",
       "        text-align: right;\n",
       "    }\n",
       "</style>\n",
       "<table border=\"1\" class=\"dataframe\">\n",
       "  <thead>\n",
       "    <tr style=\"text-align: right;\">\n",
       "      <th></th>\n",
       "      <th></th>\n",
       "      <th>cost</th>\n",
       "      <th>revenue</th>\n",
       "    </tr>\n",
       "  </thead>\n",
       "  <tbody>\n",
       "    <tr>\n",
       "      <th rowspan=\"3\" valign=\"top\">Q1</th>\n",
       "      <th>A</th>\n",
       "      <td>False</td>\n",
       "      <td>False</td>\n",
       "    </tr>\n",
       "    <tr>\n",
       "      <th>B</th>\n",
       "      <td>False</td>\n",
       "      <td>False</td>\n",
       "    </tr>\n",
       "    <tr>\n",
       "      <th>C</th>\n",
       "      <td>False</td>\n",
       "      <td>False</td>\n",
       "    </tr>\n",
       "    <tr>\n",
       "      <th rowspan=\"3\" valign=\"top\">Q2</th>\n",
       "      <th>A</th>\n",
       "      <td>False</td>\n",
       "      <td>True</td>\n",
       "    </tr>\n",
       "    <tr>\n",
       "      <th>B</th>\n",
       "      <td>True</td>\n",
       "      <td>False</td>\n",
       "    </tr>\n",
       "    <tr>\n",
       "      <th>C</th>\n",
       "      <td>True</td>\n",
       "      <td>False</td>\n",
       "    </tr>\n",
       "  </tbody>\n",
       "</table>\n",
       "</div>"
      ],
      "text/plain": [
       "       cost  revenue\n",
       "Q1 A  False    False\n",
       "   B  False    False\n",
       "   C  False    False\n",
       "Q2 A  False     True\n",
       "   B   True    False\n",
       "   C   True    False"
      ]
     },
     "execution_count": 13,
     "metadata": {},
     "output_type": "execute_result"
    }
   ],
   "source": [
    "df_multindex.gt(df,level=1)"
   ]
  },
  {
   "cell_type": "code",
   "execution_count": 14,
   "id": "1f93273d-d71e-420c-844a-0db1081ba557",
   "metadata": {
    "execution": {
     "iopub.execute_input": "2021-08-25T03:21:13.283273Z",
     "iopub.status.busy": "2021-08-25T03:21:13.283273Z",
     "iopub.status.idle": "2021-08-25T03:21:13.294276Z",
     "shell.execute_reply": "2021-08-25T03:21:13.293278Z",
     "shell.execute_reply.started": "2021-08-25T03:21:13.283273Z"
    },
    "tags": []
   },
   "outputs": [
    {
     "data": {
      "text/html": [
       "<div>\n",
       "<style scoped>\n",
       "    .dataframe tbody tr th:only-of-type {\n",
       "        vertical-align: middle;\n",
       "    }\n",
       "\n",
       "    .dataframe tbody tr th {\n",
       "        vertical-align: top;\n",
       "    }\n",
       "\n",
       "    .dataframe thead th {\n",
       "        text-align: right;\n",
       "    }\n",
       "</style>\n",
       "<table border=\"1\" class=\"dataframe\">\n",
       "  <thead>\n",
       "    <tr style=\"text-align: right;\">\n",
       "      <th></th>\n",
       "      <th></th>\n",
       "      <th>cost</th>\n",
       "      <th>revenue</th>\n",
       "    </tr>\n",
       "  </thead>\n",
       "  <tbody>\n",
       "    <tr>\n",
       "      <th rowspan=\"3\" valign=\"top\">Q1</th>\n",
       "      <th>A</th>\n",
       "      <td>False</td>\n",
       "      <td>False</td>\n",
       "    </tr>\n",
       "    <tr>\n",
       "      <th>B</th>\n",
       "      <td>False</td>\n",
       "      <td>False</td>\n",
       "    </tr>\n",
       "    <tr>\n",
       "      <th>C</th>\n",
       "      <td>False</td>\n",
       "      <td>False</td>\n",
       "    </tr>\n",
       "    <tr>\n",
       "      <th rowspan=\"3\" valign=\"top\">Q2</th>\n",
       "      <th>A</th>\n",
       "      <td>False</td>\n",
       "      <td>False</td>\n",
       "    </tr>\n",
       "    <tr>\n",
       "      <th>B</th>\n",
       "      <td>False</td>\n",
       "      <td>False</td>\n",
       "    </tr>\n",
       "    <tr>\n",
       "      <th>C</th>\n",
       "      <td>False</td>\n",
       "      <td>False</td>\n",
       "    </tr>\n",
       "  </tbody>\n",
       "</table>\n",
       "</div>"
      ],
      "text/plain": [
       "       cost  revenue\n",
       "Q1 A  False    False\n",
       "   B  False    False\n",
       "   C  False    False\n",
       "Q2 A  False    False\n",
       "   B  False    False\n",
       "   C  False    False"
      ]
     },
     "execution_count": 14,
     "metadata": {},
     "output_type": "execute_result"
    }
   ],
   "source": [
    "df_multindex.gt(df,level=0)"
   ]
  }
 ],
 "metadata": {
  "kernelspec": {
   "display_name": "Python 3 (ipykernel)",
   "language": "python",
   "name": "python3"
  },
  "language_info": {
   "codemirror_mode": {
    "name": "ipython",
    "version": 3
   },
   "file_extension": ".py",
   "mimetype": "text/x-python",
   "name": "python",
   "nbconvert_exporter": "python",
   "pygments_lexer": "ipython3",
   "version": "3.8.10"
  }
 },
 "nbformat": 4,
 "nbformat_minor": 5
}
