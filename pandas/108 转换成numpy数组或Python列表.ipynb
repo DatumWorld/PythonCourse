{
 "cells": [
  {
   "cell_type": "markdown",
   "id": "9f986fb6",
   "metadata": {
    "execution": {
     "iopub.execute_input": "2021-05-10T07:18:52.990449Z",
     "iopub.status.busy": "2021-05-10T07:18:52.990449Z",
     "iopub.status.idle": "2021-05-10T07:18:52.994464Z",
     "shell.execute_reply": "2021-05-10T07:18:52.993452Z",
     "shell.execute_reply.started": "2021-05-10T07:18:52.990449Z"
    }
   },
   "source": [
    "## 108 转换成numpy数组或Python列表"
   ]
  },
  {
   "cell_type": "markdown",
   "id": "36a8b478",
   "metadata": {
    "heading_collapsed": "true",
    "tags": []
   },
   "source": [
    "### to_numpy ：转换成numpy数组(等效values，但不推荐)。可能发生数据类型转换\n",
    "参数 dtype=None, copy=False, na_value=no_default\n",
    "### tolist ：转换成python列表list，可能发生数组类型转换"
   ]
  },
  {
   "cell_type": "code",
   "execution_count": 1,
   "id": "a10885c5",
   "metadata": {
    "execution": {
     "iopub.execute_input": "2021-08-25T07:41:46.142067Z",
     "iopub.status.busy": "2021-08-25T07:41:46.142067Z",
     "iopub.status.idle": "2021-08-25T07:41:46.471067Z",
     "shell.execute_reply": "2021-08-25T07:41:46.471067Z",
     "shell.execute_reply.started": "2021-08-25T07:41:46.142067Z"
    },
    "tags": []
   },
   "outputs": [],
   "source": [
    "import numpy  as np\n",
    "import pandas as pd\n",
    "from faker import Faker\n",
    "\n",
    "fake = Faker('zh_CN')\n",
    "df=pd.DataFrame(data=[ [fake.name()] for x in range(10) ],columns=['name'])\n",
    "\n",
    "df['销售额']=np.random.randint(100,100000,size=(10, 1))\n",
    "df['时间']=pd.date_range(start='2020-01-01',periods=10,freq='D')\n",
    "df.insert(0,'dept',['部门1']*5+['部门2']*5)\n",
    "df.insert(1,'dept 1',['小部门1']*2+['小部门2']*3+['小部门3']*1+['小部门4']*4)\n",
    "df.iloc[1,3]=np.nan #  修改成nan"
   ]
  },
  {
   "cell_type": "markdown",
   "id": "4cfbc919",
   "metadata": {
    "tags": []
   },
   "source": [
    "### 演示数据"
   ]
  },
  {
   "cell_type": "code",
   "execution_count": 2,
   "id": "ddb397eb",
   "metadata": {
    "execution": {
     "iopub.execute_input": "2021-08-25T07:41:46.472069Z",
     "iopub.status.busy": "2021-08-25T07:41:46.472069Z",
     "iopub.status.idle": "2021-08-25T07:41:46.489069Z",
     "shell.execute_reply": "2021-08-25T07:41:46.488070Z",
     "shell.execute_reply.started": "2021-08-25T07:41:46.472069Z"
    },
    "tags": []
   },
   "outputs": [
    {
     "data": {
      "text/html": [
       "<div>\n",
       "<style scoped>\n",
       "    .dataframe tbody tr th:only-of-type {\n",
       "        vertical-align: middle;\n",
       "    }\n",
       "\n",
       "    .dataframe tbody tr th {\n",
       "        vertical-align: top;\n",
       "    }\n",
       "\n",
       "    .dataframe thead th {\n",
       "        text-align: right;\n",
       "    }\n",
       "</style>\n",
       "<table border=\"1\" class=\"dataframe\">\n",
       "  <thead>\n",
       "    <tr style=\"text-align: right;\">\n",
       "      <th></th>\n",
       "      <th>dept</th>\n",
       "      <th>dept 1</th>\n",
       "      <th>name</th>\n",
       "      <th>销售额</th>\n",
       "      <th>时间</th>\n",
       "    </tr>\n",
       "  </thead>\n",
       "  <tbody>\n",
       "    <tr>\n",
       "      <th>0</th>\n",
       "      <td>部门1</td>\n",
       "      <td>小部门1</td>\n",
       "      <td>李荣</td>\n",
       "      <td>98001.0</td>\n",
       "      <td>2020-01-01</td>\n",
       "    </tr>\n",
       "    <tr>\n",
       "      <th>1</th>\n",
       "      <td>部门1</td>\n",
       "      <td>小部门1</td>\n",
       "      <td>朱丹</td>\n",
       "      <td>NaN</td>\n",
       "      <td>2020-01-02</td>\n",
       "    </tr>\n",
       "    <tr>\n",
       "      <th>2</th>\n",
       "      <td>部门1</td>\n",
       "      <td>小部门2</td>\n",
       "      <td>原淑珍</td>\n",
       "      <td>38880.0</td>\n",
       "      <td>2020-01-03</td>\n",
       "    </tr>\n",
       "    <tr>\n",
       "      <th>3</th>\n",
       "      <td>部门1</td>\n",
       "      <td>小部门2</td>\n",
       "      <td>刘帆</td>\n",
       "      <td>19383.0</td>\n",
       "      <td>2020-01-04</td>\n",
       "    </tr>\n",
       "    <tr>\n",
       "      <th>4</th>\n",
       "      <td>部门1</td>\n",
       "      <td>小部门2</td>\n",
       "      <td>吴秀云</td>\n",
       "      <td>83802.0</td>\n",
       "      <td>2020-01-05</td>\n",
       "    </tr>\n",
       "    <tr>\n",
       "      <th>5</th>\n",
       "      <td>部门2</td>\n",
       "      <td>小部门3</td>\n",
       "      <td>刘璐</td>\n",
       "      <td>895.0</td>\n",
       "      <td>2020-01-06</td>\n",
       "    </tr>\n",
       "    <tr>\n",
       "      <th>6</th>\n",
       "      <td>部门2</td>\n",
       "      <td>小部门4</td>\n",
       "      <td>邓博</td>\n",
       "      <td>86501.0</td>\n",
       "      <td>2020-01-07</td>\n",
       "    </tr>\n",
       "    <tr>\n",
       "      <th>7</th>\n",
       "      <td>部门2</td>\n",
       "      <td>小部门4</td>\n",
       "      <td>李欢</td>\n",
       "      <td>91805.0</td>\n",
       "      <td>2020-01-08</td>\n",
       "    </tr>\n",
       "    <tr>\n",
       "      <th>8</th>\n",
       "      <td>部门2</td>\n",
       "      <td>小部门4</td>\n",
       "      <td>张柳</td>\n",
       "      <td>13860.0</td>\n",
       "      <td>2020-01-09</td>\n",
       "    </tr>\n",
       "    <tr>\n",
       "      <th>9</th>\n",
       "      <td>部门2</td>\n",
       "      <td>小部门4</td>\n",
       "      <td>陈玉珍</td>\n",
       "      <td>83600.0</td>\n",
       "      <td>2020-01-10</td>\n",
       "    </tr>\n",
       "  </tbody>\n",
       "</table>\n",
       "</div>"
      ],
      "text/plain": [
       "  dept dept 1 name      销售额         时间\n",
       "0  部门1   小部门1   李荣  98001.0 2020-01-01\n",
       "1  部门1   小部门1   朱丹      NaN 2020-01-02\n",
       "2  部门1   小部门2  原淑珍  38880.0 2020-01-03\n",
       "3  部门1   小部门2   刘帆  19383.0 2020-01-04\n",
       "4  部门1   小部门2  吴秀云  83802.0 2020-01-05\n",
       "5  部门2   小部门3   刘璐    895.0 2020-01-06\n",
       "6  部门2   小部门4   邓博  86501.0 2020-01-07\n",
       "7  部门2   小部门4   李欢  91805.0 2020-01-08\n",
       "8  部门2   小部门4   张柳  13860.0 2020-01-09\n",
       "9  部门2   小部门4  陈玉珍  83600.0 2020-01-10"
      ]
     },
     "execution_count": 2,
     "metadata": {},
     "output_type": "execute_result"
    }
   ],
   "source": [
    "df "
   ]
  },
  {
   "cell_type": "code",
   "execution_count": 5,
   "id": "80d10318-91aa-495f-be86-1e698be3eaef",
   "metadata": {
    "execution": {
     "iopub.execute_input": "2021-08-25T07:45:17.562396Z",
     "iopub.status.busy": "2021-08-25T07:45:17.562396Z",
     "iopub.status.idle": "2021-08-25T07:45:17.569411Z",
     "shell.execute_reply": "2021-08-25T07:45:17.568391Z",
     "shell.execute_reply.started": "2021-08-25T07:45:17.562396Z"
    },
    "tags": []
   },
   "outputs": [
    {
     "data": {
      "text/plain": [
       "array([['部门1', '小部门1', '李荣', 98001.0, Timestamp('2020-01-01 00:00:00')],\n",
       "       ['部门1', '小部门1', '朱丹', nan, Timestamp('2020-01-02 00:00:00')],\n",
       "       ['部门1', '小部门2', '原淑珍', 38880.0, Timestamp('2020-01-03 00:00:00')],\n",
       "       ['部门1', '小部门2', '刘帆', 19383.0, Timestamp('2020-01-04 00:00:00')],\n",
       "       ['部门1', '小部门2', '吴秀云', 83802.0, Timestamp('2020-01-05 00:00:00')],\n",
       "       ['部门2', '小部门3', '刘璐', 895.0, Timestamp('2020-01-06 00:00:00')],\n",
       "       ['部门2', '小部门4', '邓博', 86501.0, Timestamp('2020-01-07 00:00:00')],\n",
       "       ['部门2', '小部门4', '李欢', 91805.0, Timestamp('2020-01-08 00:00:00')],\n",
       "       ['部门2', '小部门4', '张柳', 13860.0, Timestamp('2020-01-09 00:00:00')],\n",
       "       ['部门2', '小部门4', '陈玉珍', 83600.0, Timestamp('2020-01-10 00:00:00')]],\n",
       "      dtype=object)"
      ]
     },
     "execution_count": 5,
     "metadata": {},
     "output_type": "execute_result"
    }
   ],
   "source": [
    "df.values # 转换成numpy数组。等效，但是官方文档现在不推荐使用"
   ]
  },
  {
   "cell_type": "code",
   "execution_count": 3,
   "id": "e3086098-215b-4f3e-bd30-20612cca5edd",
   "metadata": {
    "execution": {
     "iopub.execute_input": "2021-08-25T07:43:06.572068Z",
     "iopub.status.busy": "2021-08-25T07:43:06.572068Z",
     "iopub.status.idle": "2021-08-25T07:43:06.581076Z",
     "shell.execute_reply": "2021-08-25T07:43:06.580076Z",
     "shell.execute_reply.started": "2021-08-25T07:43:06.572068Z"
    },
    "tags": []
   },
   "outputs": [
    {
     "data": {
      "text/plain": [
       "array([['部门1', '小部门1', '李荣', 98001.0, Timestamp('2020-01-01 00:00:00')],\n",
       "       ['部门1', '小部门1', '朱丹', nan, Timestamp('2020-01-02 00:00:00')],\n",
       "       ['部门1', '小部门2', '原淑珍', 38880.0, Timestamp('2020-01-03 00:00:00')],\n",
       "       ['部门1', '小部门2', '刘帆', 19383.0, Timestamp('2020-01-04 00:00:00')],\n",
       "       ['部门1', '小部门2', '吴秀云', 83802.0, Timestamp('2020-01-05 00:00:00')],\n",
       "       ['部门2', '小部门3', '刘璐', 895.0, Timestamp('2020-01-06 00:00:00')],\n",
       "       ['部门2', '小部门4', '邓博', 86501.0, Timestamp('2020-01-07 00:00:00')],\n",
       "       ['部门2', '小部门4', '李欢', 91805.0, Timestamp('2020-01-08 00:00:00')],\n",
       "       ['部门2', '小部门4', '张柳', 13860.0, Timestamp('2020-01-09 00:00:00')],\n",
       "       ['部门2', '小部门4', '陈玉珍', 83600.0, Timestamp('2020-01-10 00:00:00')]],\n",
       "      dtype=object)"
      ]
     },
     "execution_count": 3,
     "metadata": {},
     "output_type": "execute_result"
    }
   ],
   "source": [
    "df.to_numpy() # 转换成numpy数组"
   ]
  },
  {
   "cell_type": "code",
   "execution_count": 4,
   "id": "83d76645-283f-4a24-9aac-b9187fffa6ea",
   "metadata": {
    "execution": {
     "iopub.execute_input": "2021-08-25T07:44:01.730687Z",
     "iopub.status.busy": "2021-08-25T07:44:01.730687Z",
     "iopub.status.idle": "2021-08-25T07:44:01.737686Z",
     "shell.execute_reply": "2021-08-25T07:44:01.736686Z",
     "shell.execute_reply.started": "2021-08-25T07:44:01.730687Z"
    },
    "tags": []
   },
   "outputs": [
    {
     "data": {
      "text/plain": [
       "array([['部门1', '小部门1', '李荣', 98001.0, Timestamp('2020-01-01 00:00:00')],\n",
       "       ['部门1', '小部门1', '朱丹', 0, Timestamp('2020-01-02 00:00:00')],\n",
       "       ['部门1', '小部门2', '原淑珍', 38880.0, Timestamp('2020-01-03 00:00:00')],\n",
       "       ['部门1', '小部门2', '刘帆', 19383.0, Timestamp('2020-01-04 00:00:00')],\n",
       "       ['部门1', '小部门2', '吴秀云', 83802.0, Timestamp('2020-01-05 00:00:00')],\n",
       "       ['部门2', '小部门3', '刘璐', 895.0, Timestamp('2020-01-06 00:00:00')],\n",
       "       ['部门2', '小部门4', '邓博', 86501.0, Timestamp('2020-01-07 00:00:00')],\n",
       "       ['部门2', '小部门4', '李欢', 91805.0, Timestamp('2020-01-08 00:00:00')],\n",
       "       ['部门2', '小部门4', '张柳', 13860.0, Timestamp('2020-01-09 00:00:00')],\n",
       "       ['部门2', '小部门4', '陈玉珍', 83600.0, Timestamp('2020-01-10 00:00:00')]],\n",
       "      dtype=object)"
      ]
     },
     "execution_count": 4,
     "metadata": {},
     "output_type": "execute_result"
    }
   ],
   "source": [
    "df.to_numpy(na_value=0) # 转换成numpy数组.na_value nan 转换成什么"
   ]
  },
  {
   "cell_type": "code",
   "execution_count": 6,
   "id": "1a5b7864-44b4-4223-a70b-018b8d0a1d3c",
   "metadata": {
    "execution": {
     "iopub.execute_input": "2021-08-25T07:46:21.844399Z",
     "iopub.status.busy": "2021-08-25T07:46:21.844399Z",
     "iopub.status.idle": "2021-08-25T07:46:21.850390Z",
     "shell.execute_reply": "2021-08-25T07:46:21.850390Z",
     "shell.execute_reply.started": "2021-08-25T07:46:21.844399Z"
    },
    "tags": []
   },
   "outputs": [
    {
     "data": {
      "text/plain": [
       "['部门1', '部门1', '部门1', '部门1', '部门1', '部门2', '部门2', '部门2', '部门2', '部门2']"
      ]
     },
     "execution_count": 6,
     "metadata": {},
     "output_type": "execute_result"
    }
   ],
   "source": [
    "df.dept.tolist() # 列转换成list"
   ]
  },
  {
   "cell_type": "code",
   "execution_count": 7,
   "id": "aed68762-ee2e-4d1f-bce1-28567531d616",
   "metadata": {
    "execution": {
     "iopub.execute_input": "2021-08-25T07:46:36.291643Z",
     "iopub.status.busy": "2021-08-25T07:46:36.291643Z",
     "iopub.status.idle": "2021-08-25T07:46:36.296644Z",
     "shell.execute_reply": "2021-08-25T07:46:36.296644Z",
     "shell.execute_reply.started": "2021-08-25T07:46:36.291643Z"
    },
    "tags": []
   },
   "outputs": [
    {
     "data": {
      "text/plain": [
       "list"
      ]
     },
     "execution_count": 7,
     "metadata": {},
     "output_type": "execute_result"
    }
   ],
   "source": [
    "type(df.dept.tolist())# 输出类型"
   ]
  },
  {
   "cell_type": "code",
   "execution_count": 8,
   "id": "2335e047-dbd5-4ce3-9e4f-7f53cc1194fe",
   "metadata": {
    "execution": {
     "iopub.execute_input": "2021-08-25T07:47:47.180768Z",
     "iopub.status.busy": "2021-08-25T07:47:47.180768Z",
     "iopub.status.idle": "2021-08-25T07:47:47.187768Z",
     "shell.execute_reply": "2021-08-25T07:47:47.187768Z",
     "shell.execute_reply.started": "2021-08-25T07:47:47.180768Z"
    },
    "tags": []
   },
   "outputs": [
    {
     "data": {
      "text/plain": [
       "[['部门1', '小部门1', '李荣', 98001.0, Timestamp('2020-01-01 00:00:00')],\n",
       " ['部门1', '小部门1', '朱丹', nan, Timestamp('2020-01-02 00:00:00')],\n",
       " ['部门1', '小部门2', '原淑珍', 38880.0, Timestamp('2020-01-03 00:00:00')],\n",
       " ['部门1', '小部门2', '刘帆', 19383.0, Timestamp('2020-01-04 00:00:00')],\n",
       " ['部门1', '小部门2', '吴秀云', 83802.0, Timestamp('2020-01-05 00:00:00')],\n",
       " ['部门2', '小部门3', '刘璐', 895.0, Timestamp('2020-01-06 00:00:00')],\n",
       " ['部门2', '小部门4', '邓博', 86501.0, Timestamp('2020-01-07 00:00:00')],\n",
       " ['部门2', '小部门4', '李欢', 91805.0, Timestamp('2020-01-08 00:00:00')],\n",
       " ['部门2', '小部门4', '张柳', 13860.0, Timestamp('2020-01-09 00:00:00')],\n",
       " ['部门2', '小部门4', '陈玉珍', 83600.0, Timestamp('2020-01-10 00:00:00')]]"
      ]
     },
     "execution_count": 8,
     "metadata": {},
     "output_type": "execute_result"
    }
   ],
   "source": [
    "df.to_numpy().tolist() # 联合使用。"
   ]
  }
 ],
 "metadata": {
  "kernelspec": {
   "display_name": "Python 3 (ipykernel)",
   "language": "python",
   "name": "python3"
  },
  "language_info": {
   "codemirror_mode": {
    "name": "ipython",
    "version": 3
   },
   "file_extension": ".py",
   "mimetype": "text/x-python",
   "name": "python",
   "nbconvert_exporter": "python",
   "pygments_lexer": "ipython3",
   "version": "3.8.10"
  }
 },
 "nbformat": 4,
 "nbformat_minor": 5
}
