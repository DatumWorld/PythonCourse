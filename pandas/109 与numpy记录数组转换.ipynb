{
 "cells": [
  {
   "cell_type": "markdown",
   "id": "6eb107fd",
   "metadata": {
    "execution": {
     "iopub.execute_input": "2021-05-10T07:18:52.990449Z",
     "iopub.status.busy": "2021-05-10T07:18:52.990449Z",
     "iopub.status.idle": "2021-05-10T07:18:52.994464Z",
     "shell.execute_reply": "2021-05-10T07:18:52.993452Z",
     "shell.execute_reply.started": "2021-05-10T07:18:52.990449Z"
    }
   },
   "source": [
    "## 109 与numpy记录数组转换"
   ]
  },
  {
   "cell_type": "markdown",
   "id": "c41246a1",
   "metadata": {
    "heading_collapsed": "true",
    "tags": []
   },
   "source": [
    "### from_records ：将结构或记录数组转换成数据框\n",
    "参数 data, index=None, exclude=None, columns=None, coerce_float=False, nrows=None\n",
    "### to_records ：将数据框转换成记录数组\n",
    "参数 index=True, column_dtypes=None, index_dtypes=None"
   ]
  },
  {
   "cell_type": "code",
   "execution_count": 1,
   "id": "0350dc3e",
   "metadata": {
    "execution": {
     "iopub.execute_input": "2021-08-25T12:25:50.606928Z",
     "iopub.status.busy": "2021-08-25T12:25:50.606633Z",
     "iopub.status.idle": "2021-08-25T12:25:50.913267Z",
     "shell.execute_reply": "2021-08-25T12:25:50.912160Z",
     "shell.execute_reply.started": "2021-08-25T12:25:50.606884Z"
    },
    "tags": []
   },
   "outputs": [],
   "source": [
    "import numpy  as np\n",
    "import pandas as pd\n",
    "from faker import Faker\n",
    "\n",
    "fake = Faker('zh_CN')\n",
    "df=pd.DataFrame(data=[ [fake.name()] for x in range(10) ],columns=['name'])\n",
    "\n",
    "df['销售额']=np.random.randint(100,100000,size=(10, 1))\n",
    "df['时间']=pd.date_range(start='2020-01-01',periods=10,freq='D')\n",
    "df.insert(0,'dept',['部门1']*5+['部门2']*5)\n",
    "df.insert(1,'dept 1',['小部门1']*2+['小部门2']*3+['小部门3']*1+['小部门4']*4)\n",
    "df.iloc[1,3]=np.nan #  修改成nan"
   ]
  },
  {
   "cell_type": "markdown",
   "id": "fcd28e55",
   "metadata": {
    "tags": []
   },
   "source": [
    "### 演示数据"
   ]
  },
  {
   "cell_type": "code",
   "execution_count": 2,
   "id": "de47b967",
   "metadata": {
    "execution": {
     "iopub.execute_input": "2021-08-25T12:25:50.917943Z",
     "iopub.status.busy": "2021-08-25T12:25:50.917618Z",
     "iopub.status.idle": "2021-08-25T12:25:50.941531Z",
     "shell.execute_reply": "2021-08-25T12:25:50.940637Z",
     "shell.execute_reply.started": "2021-08-25T12:25:50.917911Z"
    },
    "tags": []
   },
   "outputs": [
    {
     "data": {
      "text/html": [
       "<div>\n",
       "<style scoped>\n",
       "    .dataframe tbody tr th:only-of-type {\n",
       "        vertical-align: middle;\n",
       "    }\n",
       "\n",
       "    .dataframe tbody tr th {\n",
       "        vertical-align: top;\n",
       "    }\n",
       "\n",
       "    .dataframe thead th {\n",
       "        text-align: right;\n",
       "    }\n",
       "</style>\n",
       "<table border=\"1\" class=\"dataframe\">\n",
       "  <thead>\n",
       "    <tr style=\"text-align: right;\">\n",
       "      <th></th>\n",
       "      <th>dept</th>\n",
       "      <th>dept 1</th>\n",
       "      <th>name</th>\n",
       "      <th>销售额</th>\n",
       "      <th>时间</th>\n",
       "    </tr>\n",
       "  </thead>\n",
       "  <tbody>\n",
       "    <tr>\n",
       "      <th>0</th>\n",
       "      <td>部门1</td>\n",
       "      <td>小部门1</td>\n",
       "      <td>魏凤英</td>\n",
       "      <td>37678.0</td>\n",
       "      <td>2020-01-01</td>\n",
       "    </tr>\n",
       "    <tr>\n",
       "      <th>1</th>\n",
       "      <td>部门1</td>\n",
       "      <td>小部门1</td>\n",
       "      <td>戴坤</td>\n",
       "      <td>NaN</td>\n",
       "      <td>2020-01-02</td>\n",
       "    </tr>\n",
       "    <tr>\n",
       "      <th>2</th>\n",
       "      <td>部门1</td>\n",
       "      <td>小部门2</td>\n",
       "      <td>纪明</td>\n",
       "      <td>26939.0</td>\n",
       "      <td>2020-01-03</td>\n",
       "    </tr>\n",
       "    <tr>\n",
       "      <th>3</th>\n",
       "      <td>部门1</td>\n",
       "      <td>小部门2</td>\n",
       "      <td>曹凤兰</td>\n",
       "      <td>96852.0</td>\n",
       "      <td>2020-01-04</td>\n",
       "    </tr>\n",
       "    <tr>\n",
       "      <th>4</th>\n",
       "      <td>部门1</td>\n",
       "      <td>小部门2</td>\n",
       "      <td>林桂荣</td>\n",
       "      <td>27738.0</td>\n",
       "      <td>2020-01-05</td>\n",
       "    </tr>\n",
       "    <tr>\n",
       "      <th>5</th>\n",
       "      <td>部门2</td>\n",
       "      <td>小部门3</td>\n",
       "      <td>赵春梅</td>\n",
       "      <td>34332.0</td>\n",
       "      <td>2020-01-06</td>\n",
       "    </tr>\n",
       "    <tr>\n",
       "      <th>6</th>\n",
       "      <td>部门2</td>\n",
       "      <td>小部门4</td>\n",
       "      <td>胡鹏</td>\n",
       "      <td>67693.0</td>\n",
       "      <td>2020-01-07</td>\n",
       "    </tr>\n",
       "    <tr>\n",
       "      <th>7</th>\n",
       "      <td>部门2</td>\n",
       "      <td>小部门4</td>\n",
       "      <td>傅强</td>\n",
       "      <td>20224.0</td>\n",
       "      <td>2020-01-08</td>\n",
       "    </tr>\n",
       "    <tr>\n",
       "      <th>8</th>\n",
       "      <td>部门2</td>\n",
       "      <td>小部门4</td>\n",
       "      <td>韩丹丹</td>\n",
       "      <td>91480.0</td>\n",
       "      <td>2020-01-09</td>\n",
       "    </tr>\n",
       "    <tr>\n",
       "      <th>9</th>\n",
       "      <td>部门2</td>\n",
       "      <td>小部门4</td>\n",
       "      <td>孙春梅</td>\n",
       "      <td>33409.0</td>\n",
       "      <td>2020-01-10</td>\n",
       "    </tr>\n",
       "  </tbody>\n",
       "</table>\n",
       "</div>"
      ],
      "text/plain": [
       "  dept dept 1 name      销售额         时间\n",
       "0  部门1   小部门1  魏凤英  37678.0 2020-01-01\n",
       "1  部门1   小部门1   戴坤      NaN 2020-01-02\n",
       "2  部门1   小部门2   纪明  26939.0 2020-01-03\n",
       "3  部门1   小部门2  曹凤兰  96852.0 2020-01-04\n",
       "4  部门1   小部门2  林桂荣  27738.0 2020-01-05\n",
       "5  部门2   小部门3  赵春梅  34332.0 2020-01-06\n",
       "6  部门2   小部门4   胡鹏  67693.0 2020-01-07\n",
       "7  部门2   小部门4   傅强  20224.0 2020-01-08\n",
       "8  部门2   小部门4  韩丹丹  91480.0 2020-01-09\n",
       "9  部门2   小部门4  孙春梅  33409.0 2020-01-10"
      ]
     },
     "execution_count": 2,
     "metadata": {},
     "output_type": "execute_result"
    }
   ],
   "source": [
    "df "
   ]
  },
  {
   "cell_type": "code",
   "execution_count": 3,
   "id": "34dc33eb",
   "metadata": {
    "execution": {
     "iopub.execute_input": "2021-08-25T12:27:12.014273Z",
     "iopub.status.busy": "2021-08-25T12:27:12.013673Z",
     "iopub.status.idle": "2021-08-25T12:27:12.024639Z",
     "shell.execute_reply": "2021-08-25T12:27:12.023841Z",
     "shell.execute_reply.started": "2021-08-25T12:27:12.014221Z"
    }
   },
   "outputs": [
    {
     "data": {
      "text/plain": [
       "rec.array([(0, '部门1', '小部门1', '魏凤英', 37678., '2020-01-01T00:00:00.000000000'),\n",
       "           (1, '部门1', '小部门1', '戴坤',    nan, '2020-01-02T00:00:00.000000000'),\n",
       "           (2, '部门1', '小部门2', '纪明', 26939., '2020-01-03T00:00:00.000000000'),\n",
       "           (3, '部门1', '小部门2', '曹凤兰', 96852., '2020-01-04T00:00:00.000000000'),\n",
       "           (4, '部门1', '小部门2', '林桂荣', 27738., '2020-01-05T00:00:00.000000000'),\n",
       "           (5, '部门2', '小部门3', '赵春梅', 34332., '2020-01-06T00:00:00.000000000'),\n",
       "           (6, '部门2', '小部门4', '胡鹏', 67693., '2020-01-07T00:00:00.000000000'),\n",
       "           (7, '部门2', '小部门4', '傅强', 20224., '2020-01-08T00:00:00.000000000'),\n",
       "           (8, '部门2', '小部门4', '韩丹丹', 91480., '2020-01-09T00:00:00.000000000'),\n",
       "           (9, '部门2', '小部门4', '孙春梅', 33409., '2020-01-10T00:00:00.000000000')],\n",
       "          dtype=[('index', '<i8'), ('dept', 'O'), ('dept 1', 'O'), ('name', 'O'), ('销售额', '<f8'), ('时间', '<M8[ns]')])"
      ]
     },
     "execution_count": 3,
     "metadata": {},
     "output_type": "execute_result"
    }
   ],
   "source": [
    "df.to_records()"
   ]
  },
  {
   "cell_type": "code",
   "execution_count": 4,
   "id": "833fb4e5",
   "metadata": {
    "execution": {
     "iopub.execute_input": "2021-08-25T12:28:20.729148Z",
     "iopub.status.busy": "2021-08-25T12:28:20.728806Z",
     "iopub.status.idle": "2021-08-25T12:28:20.738191Z",
     "shell.execute_reply": "2021-08-25T12:28:20.736761Z",
     "shell.execute_reply.started": "2021-08-25T12:28:20.729111Z"
    }
   },
   "outputs": [
    {
     "data": {
      "text/plain": [
       "rec.array([('部门1', '小部门1', '魏凤英', 37678., '2020-01-01T00:00:00.000000000'),\n",
       "           ('部门1', '小部门1', '戴坤',    nan, '2020-01-02T00:00:00.000000000'),\n",
       "           ('部门1', '小部门2', '纪明', 26939., '2020-01-03T00:00:00.000000000'),\n",
       "           ('部门1', '小部门2', '曹凤兰', 96852., '2020-01-04T00:00:00.000000000'),\n",
       "           ('部门1', '小部门2', '林桂荣', 27738., '2020-01-05T00:00:00.000000000'),\n",
       "           ('部门2', '小部门3', '赵春梅', 34332., '2020-01-06T00:00:00.000000000'),\n",
       "           ('部门2', '小部门4', '胡鹏', 67693., '2020-01-07T00:00:00.000000000'),\n",
       "           ('部门2', '小部门4', '傅强', 20224., '2020-01-08T00:00:00.000000000'),\n",
       "           ('部门2', '小部门4', '韩丹丹', 91480., '2020-01-09T00:00:00.000000000'),\n",
       "           ('部门2', '小部门4', '孙春梅', 33409., '2020-01-10T00:00:00.000000000')],\n",
       "          dtype=[('dept', 'O'), ('dept 1', 'O'), ('name', 'O'), ('销售额', '<f8'), ('时间', '<M8[ns]')])"
      ]
     },
     "execution_count": 4,
     "metadata": {},
     "output_type": "execute_result"
    }
   ],
   "source": [
    "df.to_records(index=False) # index  设置 结果中是否有索引"
   ]
  },
  {
   "cell_type": "code",
   "execution_count": 5,
   "id": "079b1b44",
   "metadata": {
    "execution": {
     "iopub.execute_input": "2021-08-25T12:29:35.746423Z",
     "iopub.status.busy": "2021-08-25T12:29:35.746031Z",
     "iopub.status.idle": "2021-08-25T12:29:35.754557Z",
     "shell.execute_reply": "2021-08-25T12:29:35.753545Z",
     "shell.execute_reply.started": "2021-08-25T12:29:35.746387Z"
    }
   },
   "outputs": [
    {
     "data": {
      "text/plain": [
       "rec.array([('部门1', '小部门1', '魏凤英', 37678.0, 1577836800000000000),\n",
       "           ('部门1', '小部门1', '戴坤', nan, 1577923200000000000),\n",
       "           ('部门1', '小部门2', '纪明', 26939.0, 1578009600000000000),\n",
       "           ('部门1', '小部门2', '曹凤兰', 96852.0, 1578096000000000000),\n",
       "           ('部门1', '小部门2', '林桂荣', 27738.0, 1578182400000000000),\n",
       "           ('部门2', '小部门3', '赵春梅', 34332.0, 1578268800000000000),\n",
       "           ('部门2', '小部门4', '胡鹏', 67693.0, 1578355200000000000),\n",
       "           ('部门2', '小部门4', '傅强', 20224.0, 1578441600000000000),\n",
       "           ('部门2', '小部门4', '韩丹丹', 91480.0, 1578528000000000000),\n",
       "           ('部门2', '小部门4', '孙春梅', 33409.0, 1578614400000000000)],\n",
       "          dtype=[('dept', 'O'), ('dept 1', 'O'), ('name', 'O'), ('销售额', 'O'), ('时间', 'O')])"
      ]
     },
     "execution_count": 5,
     "metadata": {},
     "output_type": "execute_result"
    }
   ],
   "source": [
    "df.to_records(index=False,column_dtypes='O') # column_dtypes  设置 转换的结果的列数据类型"
   ]
  },
  {
   "cell_type": "code",
   "execution_count": 6,
   "id": "15dd0ffe",
   "metadata": {
    "execution": {
     "iopub.execute_input": "2021-08-25T12:30:56.139861Z",
     "iopub.status.busy": "2021-08-25T12:30:56.139541Z",
     "iopub.status.idle": "2021-08-25T12:30:56.148164Z",
     "shell.execute_reply": "2021-08-25T12:30:56.146958Z",
     "shell.execute_reply.started": "2021-08-25T12:30:56.139832Z"
    }
   },
   "outputs": [
    {
     "data": {
      "text/plain": [
       "rec.array([('部门1', '小部门1', '魏凤英', 37678., 1577836800000000000),\n",
       "           ('部门1', '小部门1', '戴坤',    nan, 1577923200000000000),\n",
       "           ('部门1', '小部门2', '纪明', 26939., 1578009600000000000),\n",
       "           ('部门1', '小部门2', '曹凤兰', 96852., 1578096000000000000),\n",
       "           ('部门1', '小部门2', '林桂荣', 27738., 1578182400000000000),\n",
       "           ('部门2', '小部门3', '赵春梅', 34332., 1578268800000000000),\n",
       "           ('部门2', '小部门4', '胡鹏', 67693., 1578355200000000000),\n",
       "           ('部门2', '小部门4', '傅强', 20224., 1578441600000000000),\n",
       "           ('部门2', '小部门4', '韩丹丹', 91480., 1578528000000000000),\n",
       "           ('部门2', '小部门4', '孙春梅', 33409., 1578614400000000000)],\n",
       "          dtype=[('dept', 'O'), ('dept 1', 'O'), ('name', 'O'), ('销售额', '<f8'), ('时间', 'O')])"
      ]
     },
     "execution_count": 6,
     "metadata": {},
     "output_type": "execute_result"
    }
   ],
   "source": [
    "df.to_records(index=False,column_dtypes={'时间':'O'}) # column_dtypes  设置 转换的结果的列数据类型。字典映射模式"
   ]
  },
  {
   "cell_type": "code",
   "execution_count": 7,
   "id": "ac517269",
   "metadata": {
    "execution": {
     "iopub.execute_input": "2021-08-25T12:33:00.824384Z",
     "iopub.status.busy": "2021-08-25T12:33:00.824018Z",
     "iopub.status.idle": "2021-08-25T12:33:00.828649Z",
     "shell.execute_reply": "2021-08-25T12:33:00.827827Z",
     "shell.execute_reply.started": "2021-08-25T12:33:00.824349Z"
    }
   },
   "outputs": [],
   "source": [
    "data=df.to_records(index=False) # index  设置 结果中是否有索引"
   ]
  },
  {
   "cell_type": "code",
   "execution_count": 9,
   "id": "a70ee055",
   "metadata": {
    "execution": {
     "iopub.execute_input": "2021-08-25T12:33:23.173204Z",
     "iopub.status.busy": "2021-08-25T12:33:23.172805Z",
     "iopub.status.idle": "2021-08-25T12:33:23.180352Z",
     "shell.execute_reply": "2021-08-25T12:33:23.179535Z",
     "shell.execute_reply.started": "2021-08-25T12:33:23.173169Z"
    }
   },
   "outputs": [
    {
     "data": {
      "text/plain": [
       "rec.array([('部门1', '小部门1', '魏凤英', 37678., '2020-01-01T00:00:00.000000000'),\n",
       "           ('部门1', '小部门1', '戴坤',    nan, '2020-01-02T00:00:00.000000000'),\n",
       "           ('部门1', '小部门2', '纪明', 26939., '2020-01-03T00:00:00.000000000'),\n",
       "           ('部门1', '小部门2', '曹凤兰', 96852., '2020-01-04T00:00:00.000000000'),\n",
       "           ('部门1', '小部门2', '林桂荣', 27738., '2020-01-05T00:00:00.000000000'),\n",
       "           ('部门2', '小部门3', '赵春梅', 34332., '2020-01-06T00:00:00.000000000'),\n",
       "           ('部门2', '小部门4', '胡鹏', 67693., '2020-01-07T00:00:00.000000000'),\n",
       "           ('部门2', '小部门4', '傅强', 20224., '2020-01-08T00:00:00.000000000'),\n",
       "           ('部门2', '小部门4', '韩丹丹', 91480., '2020-01-09T00:00:00.000000000'),\n",
       "           ('部门2', '小部门4', '孙春梅', 33409., '2020-01-10T00:00:00.000000000')],\n",
       "          dtype=[('dept', 'O'), ('dept 1', 'O'), ('name', 'O'), ('销售额', '<f8'), ('时间', '<M8[ns]')])"
      ]
     },
     "execution_count": 9,
     "metadata": {},
     "output_type": "execute_result"
    }
   ],
   "source": [
    "data"
   ]
  },
  {
   "cell_type": "code",
   "execution_count": 8,
   "id": "40b6d0af",
   "metadata": {
    "execution": {
     "iopub.execute_input": "2021-08-25T12:33:16.000407Z",
     "iopub.status.busy": "2021-08-25T12:33:15.999830Z",
     "iopub.status.idle": "2021-08-25T12:33:16.018048Z",
     "shell.execute_reply": "2021-08-25T12:33:16.017212Z",
     "shell.execute_reply.started": "2021-08-25T12:33:16.000356Z"
    }
   },
   "outputs": [
    {
     "data": {
      "text/html": [
       "<div>\n",
       "<style scoped>\n",
       "    .dataframe tbody tr th:only-of-type {\n",
       "        vertical-align: middle;\n",
       "    }\n",
       "\n",
       "    .dataframe tbody tr th {\n",
       "        vertical-align: top;\n",
       "    }\n",
       "\n",
       "    .dataframe thead th {\n",
       "        text-align: right;\n",
       "    }\n",
       "</style>\n",
       "<table border=\"1\" class=\"dataframe\">\n",
       "  <thead>\n",
       "    <tr style=\"text-align: right;\">\n",
       "      <th></th>\n",
       "      <th>dept</th>\n",
       "      <th>dept 1</th>\n",
       "      <th>name</th>\n",
       "      <th>销售额</th>\n",
       "      <th>时间</th>\n",
       "    </tr>\n",
       "  </thead>\n",
       "  <tbody>\n",
       "    <tr>\n",
       "      <th>0</th>\n",
       "      <td>部门1</td>\n",
       "      <td>小部门1</td>\n",
       "      <td>魏凤英</td>\n",
       "      <td>37678.0</td>\n",
       "      <td>2020-01-01</td>\n",
       "    </tr>\n",
       "    <tr>\n",
       "      <th>1</th>\n",
       "      <td>部门1</td>\n",
       "      <td>小部门1</td>\n",
       "      <td>戴坤</td>\n",
       "      <td>NaN</td>\n",
       "      <td>2020-01-02</td>\n",
       "    </tr>\n",
       "    <tr>\n",
       "      <th>2</th>\n",
       "      <td>部门1</td>\n",
       "      <td>小部门2</td>\n",
       "      <td>纪明</td>\n",
       "      <td>26939.0</td>\n",
       "      <td>2020-01-03</td>\n",
       "    </tr>\n",
       "    <tr>\n",
       "      <th>3</th>\n",
       "      <td>部门1</td>\n",
       "      <td>小部门2</td>\n",
       "      <td>曹凤兰</td>\n",
       "      <td>96852.0</td>\n",
       "      <td>2020-01-04</td>\n",
       "    </tr>\n",
       "    <tr>\n",
       "      <th>4</th>\n",
       "      <td>部门1</td>\n",
       "      <td>小部门2</td>\n",
       "      <td>林桂荣</td>\n",
       "      <td>27738.0</td>\n",
       "      <td>2020-01-05</td>\n",
       "    </tr>\n",
       "    <tr>\n",
       "      <th>5</th>\n",
       "      <td>部门2</td>\n",
       "      <td>小部门3</td>\n",
       "      <td>赵春梅</td>\n",
       "      <td>34332.0</td>\n",
       "      <td>2020-01-06</td>\n",
       "    </tr>\n",
       "    <tr>\n",
       "      <th>6</th>\n",
       "      <td>部门2</td>\n",
       "      <td>小部门4</td>\n",
       "      <td>胡鹏</td>\n",
       "      <td>67693.0</td>\n",
       "      <td>2020-01-07</td>\n",
       "    </tr>\n",
       "    <tr>\n",
       "      <th>7</th>\n",
       "      <td>部门2</td>\n",
       "      <td>小部门4</td>\n",
       "      <td>傅强</td>\n",
       "      <td>20224.0</td>\n",
       "      <td>2020-01-08</td>\n",
       "    </tr>\n",
       "    <tr>\n",
       "      <th>8</th>\n",
       "      <td>部门2</td>\n",
       "      <td>小部门4</td>\n",
       "      <td>韩丹丹</td>\n",
       "      <td>91480.0</td>\n",
       "      <td>2020-01-09</td>\n",
       "    </tr>\n",
       "    <tr>\n",
       "      <th>9</th>\n",
       "      <td>部门2</td>\n",
       "      <td>小部门4</td>\n",
       "      <td>孙春梅</td>\n",
       "      <td>33409.0</td>\n",
       "      <td>2020-01-10</td>\n",
       "    </tr>\n",
       "  </tbody>\n",
       "</table>\n",
       "</div>"
      ],
      "text/plain": [
       "  dept dept 1 name      销售额         时间\n",
       "0  部门1   小部门1  魏凤英  37678.0 2020-01-01\n",
       "1  部门1   小部门1   戴坤      NaN 2020-01-02\n",
       "2  部门1   小部门2   纪明  26939.0 2020-01-03\n",
       "3  部门1   小部门2  曹凤兰  96852.0 2020-01-04\n",
       "4  部门1   小部门2  林桂荣  27738.0 2020-01-05\n",
       "5  部门2   小部门3  赵春梅  34332.0 2020-01-06\n",
       "6  部门2   小部门4   胡鹏  67693.0 2020-01-07\n",
       "7  部门2   小部门4   傅强  20224.0 2020-01-08\n",
       "8  部门2   小部门4  韩丹丹  91480.0 2020-01-09\n",
       "9  部门2   小部门4  孙春梅  33409.0 2020-01-10"
      ]
     },
     "execution_count": 8,
     "metadata": {},
     "output_type": "execute_result"
    }
   ],
   "source": [
    "df.from_records(data) # 从numpy 记录数组 转换成 数据框"
   ]
  },
  {
   "cell_type": "code",
   "execution_count": 10,
   "id": "d40bd9d5",
   "metadata": {
    "execution": {
     "iopub.execute_input": "2021-08-25T12:35:09.957417Z",
     "iopub.status.busy": "2021-08-25T12:35:09.956946Z",
     "iopub.status.idle": "2021-08-25T12:35:09.976545Z",
     "shell.execute_reply": "2021-08-25T12:35:09.975747Z",
     "shell.execute_reply.started": "2021-08-25T12:35:09.957377Z"
    }
   },
   "outputs": [
    {
     "data": {
      "text/html": [
       "<div>\n",
       "<style scoped>\n",
       "    .dataframe tbody tr th:only-of-type {\n",
       "        vertical-align: middle;\n",
       "    }\n",
       "\n",
       "    .dataframe tbody tr th {\n",
       "        vertical-align: top;\n",
       "    }\n",
       "\n",
       "    .dataframe thead th {\n",
       "        text-align: right;\n",
       "    }\n",
       "</style>\n",
       "<table border=\"1\" class=\"dataframe\">\n",
       "  <thead>\n",
       "    <tr style=\"text-align: right;\">\n",
       "      <th></th>\n",
       "      <th>dept 1</th>\n",
       "      <th>name</th>\n",
       "      <th>销售额</th>\n",
       "      <th>时间</th>\n",
       "    </tr>\n",
       "    <tr>\n",
       "      <th>dept</th>\n",
       "      <th></th>\n",
       "      <th></th>\n",
       "      <th></th>\n",
       "      <th></th>\n",
       "    </tr>\n",
       "  </thead>\n",
       "  <tbody>\n",
       "    <tr>\n",
       "      <th>部门1</th>\n",
       "      <td>小部门1</td>\n",
       "      <td>魏凤英</td>\n",
       "      <td>37678.0</td>\n",
       "      <td>2020-01-01</td>\n",
       "    </tr>\n",
       "    <tr>\n",
       "      <th>部门1</th>\n",
       "      <td>小部门1</td>\n",
       "      <td>戴坤</td>\n",
       "      <td>NaN</td>\n",
       "      <td>2020-01-02</td>\n",
       "    </tr>\n",
       "    <tr>\n",
       "      <th>部门1</th>\n",
       "      <td>小部门2</td>\n",
       "      <td>纪明</td>\n",
       "      <td>26939.0</td>\n",
       "      <td>2020-01-03</td>\n",
       "    </tr>\n",
       "    <tr>\n",
       "      <th>部门1</th>\n",
       "      <td>小部门2</td>\n",
       "      <td>曹凤兰</td>\n",
       "      <td>96852.0</td>\n",
       "      <td>2020-01-04</td>\n",
       "    </tr>\n",
       "    <tr>\n",
       "      <th>部门1</th>\n",
       "      <td>小部门2</td>\n",
       "      <td>林桂荣</td>\n",
       "      <td>27738.0</td>\n",
       "      <td>2020-01-05</td>\n",
       "    </tr>\n",
       "    <tr>\n",
       "      <th>部门2</th>\n",
       "      <td>小部门3</td>\n",
       "      <td>赵春梅</td>\n",
       "      <td>34332.0</td>\n",
       "      <td>2020-01-06</td>\n",
       "    </tr>\n",
       "    <tr>\n",
       "      <th>部门2</th>\n",
       "      <td>小部门4</td>\n",
       "      <td>胡鹏</td>\n",
       "      <td>67693.0</td>\n",
       "      <td>2020-01-07</td>\n",
       "    </tr>\n",
       "    <tr>\n",
       "      <th>部门2</th>\n",
       "      <td>小部门4</td>\n",
       "      <td>傅强</td>\n",
       "      <td>20224.0</td>\n",
       "      <td>2020-01-08</td>\n",
       "    </tr>\n",
       "    <tr>\n",
       "      <th>部门2</th>\n",
       "      <td>小部门4</td>\n",
       "      <td>韩丹丹</td>\n",
       "      <td>91480.0</td>\n",
       "      <td>2020-01-09</td>\n",
       "    </tr>\n",
       "    <tr>\n",
       "      <th>部门2</th>\n",
       "      <td>小部门4</td>\n",
       "      <td>孙春梅</td>\n",
       "      <td>33409.0</td>\n",
       "      <td>2020-01-10</td>\n",
       "    </tr>\n",
       "  </tbody>\n",
       "</table>\n",
       "</div>"
      ],
      "text/plain": [
       "     dept 1 name      销售额         时间\n",
       "dept                                \n",
       "部门1    小部门1  魏凤英  37678.0 2020-01-01\n",
       "部门1    小部门1   戴坤      NaN 2020-01-02\n",
       "部门1    小部门2   纪明  26939.0 2020-01-03\n",
       "部门1    小部门2  曹凤兰  96852.0 2020-01-04\n",
       "部门1    小部门2  林桂荣  27738.0 2020-01-05\n",
       "部门2    小部门3  赵春梅  34332.0 2020-01-06\n",
       "部门2    小部门4   胡鹏  67693.0 2020-01-07\n",
       "部门2    小部门4   傅强  20224.0 2020-01-08\n",
       "部门2    小部门4  韩丹丹  91480.0 2020-01-09\n",
       "部门2    小部门4  孙春梅  33409.0 2020-01-10"
      ]
     },
     "execution_count": 10,
     "metadata": {},
     "output_type": "execute_result"
    }
   ],
   "source": [
    "df.from_records(data,index='dept') # index 指定索引列"
   ]
  },
  {
   "cell_type": "code",
   "execution_count": 12,
   "id": "a21d28b2",
   "metadata": {
    "execution": {
     "iopub.execute_input": "2021-08-25T12:37:24.119437Z",
     "iopub.status.busy": "2021-08-25T12:37:24.119179Z",
     "iopub.status.idle": "2021-08-25T12:37:24.134470Z",
     "shell.execute_reply": "2021-08-25T12:37:24.132890Z",
     "shell.execute_reply.started": "2021-08-25T12:37:24.119414Z"
    }
   },
   "outputs": [
    {
     "data": {
      "text/html": [
       "<div>\n",
       "<style scoped>\n",
       "    .dataframe tbody tr th:only-of-type {\n",
       "        vertical-align: middle;\n",
       "    }\n",
       "\n",
       "    .dataframe tbody tr th {\n",
       "        vertical-align: top;\n",
       "    }\n",
       "\n",
       "    .dataframe thead th {\n",
       "        text-align: right;\n",
       "    }\n",
       "</style>\n",
       "<table border=\"1\" class=\"dataframe\">\n",
       "  <thead>\n",
       "    <tr style=\"text-align: right;\">\n",
       "      <th></th>\n",
       "      <th></th>\n",
       "      <th>name</th>\n",
       "      <th>销售额</th>\n",
       "      <th>时间</th>\n",
       "    </tr>\n",
       "    <tr>\n",
       "      <th>dept</th>\n",
       "      <th>dept 1</th>\n",
       "      <th></th>\n",
       "      <th></th>\n",
       "      <th></th>\n",
       "    </tr>\n",
       "  </thead>\n",
       "  <tbody>\n",
       "    <tr>\n",
       "      <th rowspan=\"5\" valign=\"top\">部门1</th>\n",
       "      <th>小部门1</th>\n",
       "      <td>魏凤英</td>\n",
       "      <td>37678.0</td>\n",
       "      <td>2020-01-01</td>\n",
       "    </tr>\n",
       "    <tr>\n",
       "      <th>小部门1</th>\n",
       "      <td>戴坤</td>\n",
       "      <td>NaN</td>\n",
       "      <td>2020-01-02</td>\n",
       "    </tr>\n",
       "    <tr>\n",
       "      <th>小部门2</th>\n",
       "      <td>纪明</td>\n",
       "      <td>26939.0</td>\n",
       "      <td>2020-01-03</td>\n",
       "    </tr>\n",
       "    <tr>\n",
       "      <th>小部门2</th>\n",
       "      <td>曹凤兰</td>\n",
       "      <td>96852.0</td>\n",
       "      <td>2020-01-04</td>\n",
       "    </tr>\n",
       "    <tr>\n",
       "      <th>小部门2</th>\n",
       "      <td>林桂荣</td>\n",
       "      <td>27738.0</td>\n",
       "      <td>2020-01-05</td>\n",
       "    </tr>\n",
       "    <tr>\n",
       "      <th rowspan=\"5\" valign=\"top\">部门2</th>\n",
       "      <th>小部门3</th>\n",
       "      <td>赵春梅</td>\n",
       "      <td>34332.0</td>\n",
       "      <td>2020-01-06</td>\n",
       "    </tr>\n",
       "    <tr>\n",
       "      <th>小部门4</th>\n",
       "      <td>胡鹏</td>\n",
       "      <td>67693.0</td>\n",
       "      <td>2020-01-07</td>\n",
       "    </tr>\n",
       "    <tr>\n",
       "      <th>小部门4</th>\n",
       "      <td>傅强</td>\n",
       "      <td>20224.0</td>\n",
       "      <td>2020-01-08</td>\n",
       "    </tr>\n",
       "    <tr>\n",
       "      <th>小部门4</th>\n",
       "      <td>韩丹丹</td>\n",
       "      <td>91480.0</td>\n",
       "      <td>2020-01-09</td>\n",
       "    </tr>\n",
       "    <tr>\n",
       "      <th>小部门4</th>\n",
       "      <td>孙春梅</td>\n",
       "      <td>33409.0</td>\n",
       "      <td>2020-01-10</td>\n",
       "    </tr>\n",
       "  </tbody>\n",
       "</table>\n",
       "</div>"
      ],
      "text/plain": [
       "            name      销售额         时间\n",
       "dept dept 1                         \n",
       "部门1  小部门1    魏凤英  37678.0 2020-01-01\n",
       "     小部门1     戴坤      NaN 2020-01-02\n",
       "     小部门2     纪明  26939.0 2020-01-03\n",
       "     小部门2    曹凤兰  96852.0 2020-01-04\n",
       "     小部门2    林桂荣  27738.0 2020-01-05\n",
       "部门2  小部门3    赵春梅  34332.0 2020-01-06\n",
       "     小部门4     胡鹏  67693.0 2020-01-07\n",
       "     小部门4     傅强  20224.0 2020-01-08\n",
       "     小部门4    韩丹丹  91480.0 2020-01-09\n",
       "     小部门4    孙春梅  33409.0 2020-01-10"
      ]
     },
     "execution_count": 12,
     "metadata": {},
     "output_type": "execute_result"
    }
   ],
   "source": [
    "df.from_records(data,index=['dept','dept 1']) # index 指定索引列。二级索引"
   ]
  },
  {
   "cell_type": "code",
   "execution_count": 13,
   "id": "5ed8f054",
   "metadata": {
    "execution": {
     "iopub.execute_input": "2021-08-25T12:37:27.292844Z",
     "iopub.status.busy": "2021-08-25T12:37:27.292325Z",
     "iopub.status.idle": "2021-08-25T12:37:27.313301Z",
     "shell.execute_reply": "2021-08-25T12:37:27.312526Z",
     "shell.execute_reply.started": "2021-08-25T12:37:27.292798Z"
    }
   },
   "outputs": [
    {
     "data": {
      "text/html": [
       "<div>\n",
       "<style scoped>\n",
       "    .dataframe tbody tr th:only-of-type {\n",
       "        vertical-align: middle;\n",
       "    }\n",
       "\n",
       "    .dataframe tbody tr th {\n",
       "        vertical-align: top;\n",
       "    }\n",
       "\n",
       "    .dataframe thead th {\n",
       "        text-align: right;\n",
       "    }\n",
       "</style>\n",
       "<table border=\"1\" class=\"dataframe\">\n",
       "  <thead>\n",
       "    <tr style=\"text-align: right;\">\n",
       "      <th></th>\n",
       "      <th></th>\n",
       "      <th>销售额</th>\n",
       "      <th>时间</th>\n",
       "    </tr>\n",
       "    <tr>\n",
       "      <th>dept</th>\n",
       "      <th>dept 1</th>\n",
       "      <th></th>\n",
       "      <th></th>\n",
       "    </tr>\n",
       "  </thead>\n",
       "  <tbody>\n",
       "    <tr>\n",
       "      <th rowspan=\"5\" valign=\"top\">部门1</th>\n",
       "      <th>小部门1</th>\n",
       "      <td>37678.0</td>\n",
       "      <td>2020-01-01</td>\n",
       "    </tr>\n",
       "    <tr>\n",
       "      <th>小部门1</th>\n",
       "      <td>NaN</td>\n",
       "      <td>2020-01-02</td>\n",
       "    </tr>\n",
       "    <tr>\n",
       "      <th>小部门2</th>\n",
       "      <td>26939.0</td>\n",
       "      <td>2020-01-03</td>\n",
       "    </tr>\n",
       "    <tr>\n",
       "      <th>小部门2</th>\n",
       "      <td>96852.0</td>\n",
       "      <td>2020-01-04</td>\n",
       "    </tr>\n",
       "    <tr>\n",
       "      <th>小部门2</th>\n",
       "      <td>27738.0</td>\n",
       "      <td>2020-01-05</td>\n",
       "    </tr>\n",
       "    <tr>\n",
       "      <th rowspan=\"5\" valign=\"top\">部门2</th>\n",
       "      <th>小部门3</th>\n",
       "      <td>34332.0</td>\n",
       "      <td>2020-01-06</td>\n",
       "    </tr>\n",
       "    <tr>\n",
       "      <th>小部门4</th>\n",
       "      <td>67693.0</td>\n",
       "      <td>2020-01-07</td>\n",
       "    </tr>\n",
       "    <tr>\n",
       "      <th>小部门4</th>\n",
       "      <td>20224.0</td>\n",
       "      <td>2020-01-08</td>\n",
       "    </tr>\n",
       "    <tr>\n",
       "      <th>小部门4</th>\n",
       "      <td>91480.0</td>\n",
       "      <td>2020-01-09</td>\n",
       "    </tr>\n",
       "    <tr>\n",
       "      <th>小部门4</th>\n",
       "      <td>33409.0</td>\n",
       "      <td>2020-01-10</td>\n",
       "    </tr>\n",
       "  </tbody>\n",
       "</table>\n",
       "</div>"
      ],
      "text/plain": [
       "                 销售额         时间\n",
       "dept dept 1                    \n",
       "部门1  小部门1    37678.0 2020-01-01\n",
       "     小部门1        NaN 2020-01-02\n",
       "     小部门2    26939.0 2020-01-03\n",
       "     小部门2    96852.0 2020-01-04\n",
       "     小部门2    27738.0 2020-01-05\n",
       "部门2  小部门3    34332.0 2020-01-06\n",
       "     小部门4    67693.0 2020-01-07\n",
       "     小部门4    20224.0 2020-01-08\n",
       "     小部门4    91480.0 2020-01-09\n",
       "     小部门4    33409.0 2020-01-10"
      ]
     },
     "execution_count": 13,
     "metadata": {},
     "output_type": "execute_result"
    }
   ],
   "source": [
    "df.from_records(data,index=['dept','dept 1'],exclude=['name']) # exclude 排除的列"
   ]
  },
  {
   "cell_type": "code",
   "execution_count": 15,
   "id": "814d10e5",
   "metadata": {
    "execution": {
     "iopub.execute_input": "2021-08-25T12:39:27.406370Z",
     "iopub.status.busy": "2021-08-25T12:39:27.405993Z",
     "iopub.status.idle": "2021-08-25T12:39:27.425973Z",
     "shell.execute_reply": "2021-08-25T12:39:27.424916Z",
     "shell.execute_reply.started": "2021-08-25T12:39:27.406338Z"
    }
   },
   "outputs": [
    {
     "data": {
      "text/html": [
       "<div>\n",
       "<style scoped>\n",
       "    .dataframe tbody tr th:only-of-type {\n",
       "        vertical-align: middle;\n",
       "    }\n",
       "\n",
       "    .dataframe tbody tr th {\n",
       "        vertical-align: top;\n",
       "    }\n",
       "\n",
       "    .dataframe thead th {\n",
       "        text-align: right;\n",
       "    }\n",
       "</style>\n",
       "<table border=\"1\" class=\"dataframe\">\n",
       "  <thead>\n",
       "    <tr style=\"text-align: right;\">\n",
       "      <th></th>\n",
       "      <th></th>\n",
       "      <th>销售额</th>\n",
       "      <th>时间</th>\n",
       "    </tr>\n",
       "    <tr>\n",
       "      <th>dept</th>\n",
       "      <th>dept 1</th>\n",
       "      <th></th>\n",
       "      <th></th>\n",
       "    </tr>\n",
       "  </thead>\n",
       "  <tbody>\n",
       "    <tr>\n",
       "      <th rowspan=\"5\" valign=\"top\">部门1</th>\n",
       "      <th>小部门1</th>\n",
       "      <td>37678.0</td>\n",
       "      <td>2020-01-01</td>\n",
       "    </tr>\n",
       "    <tr>\n",
       "      <th>小部门1</th>\n",
       "      <td>NaN</td>\n",
       "      <td>2020-01-02</td>\n",
       "    </tr>\n",
       "    <tr>\n",
       "      <th>小部门2</th>\n",
       "      <td>26939.0</td>\n",
       "      <td>2020-01-03</td>\n",
       "    </tr>\n",
       "    <tr>\n",
       "      <th>小部门2</th>\n",
       "      <td>96852.0</td>\n",
       "      <td>2020-01-04</td>\n",
       "    </tr>\n",
       "    <tr>\n",
       "      <th>小部门2</th>\n",
       "      <td>27738.0</td>\n",
       "      <td>2020-01-05</td>\n",
       "    </tr>\n",
       "    <tr>\n",
       "      <th rowspan=\"5\" valign=\"top\">部门2</th>\n",
       "      <th>小部门3</th>\n",
       "      <td>34332.0</td>\n",
       "      <td>2020-01-06</td>\n",
       "    </tr>\n",
       "    <tr>\n",
       "      <th>小部门4</th>\n",
       "      <td>67693.0</td>\n",
       "      <td>2020-01-07</td>\n",
       "    </tr>\n",
       "    <tr>\n",
       "      <th>小部门4</th>\n",
       "      <td>20224.0</td>\n",
       "      <td>2020-01-08</td>\n",
       "    </tr>\n",
       "    <tr>\n",
       "      <th>小部门4</th>\n",
       "      <td>91480.0</td>\n",
       "      <td>2020-01-09</td>\n",
       "    </tr>\n",
       "    <tr>\n",
       "      <th>小部门4</th>\n",
       "      <td>33409.0</td>\n",
       "      <td>2020-01-10</td>\n",
       "    </tr>\n",
       "  </tbody>\n",
       "</table>\n",
       "</div>"
      ],
      "text/plain": [
       "                 销售额         时间\n",
       "dept dept 1                    \n",
       "部门1  小部门1    37678.0 2020-01-01\n",
       "     小部门1        NaN 2020-01-02\n",
       "     小部门2    26939.0 2020-01-03\n",
       "     小部门2    96852.0 2020-01-04\n",
       "     小部门2    27738.0 2020-01-05\n",
       "部门2  小部门3    34332.0 2020-01-06\n",
       "     小部门4    67693.0 2020-01-07\n",
       "     小部门4    20224.0 2020-01-08\n",
       "     小部门4    91480.0 2020-01-09\n",
       "     小部门4    33409.0 2020-01-10"
      ]
     },
     "execution_count": 15,
     "metadata": {},
     "output_type": "execute_result"
    }
   ],
   "source": [
    "df.from_records(data,index=['dept','dept 1'],exclude=['name'],coerce_float=False) # coerce_float 将非字符串、非numeric 类型转换成float，比如decimal"
   ]
  },
  {
   "cell_type": "code",
   "execution_count": 16,
   "id": "573a8a52",
   "metadata": {
    "execution": {
     "iopub.execute_input": "2021-08-25T12:41:17.599443Z",
     "iopub.status.busy": "2021-08-25T12:41:17.599017Z",
     "iopub.status.idle": "2021-08-25T12:41:17.615606Z",
     "shell.execute_reply": "2021-08-25T12:41:17.614703Z",
     "shell.execute_reply.started": "2021-08-25T12:41:17.599404Z"
    }
   },
   "outputs": [
    {
     "data": {
      "text/html": [
       "<div>\n",
       "<style scoped>\n",
       "    .dataframe tbody tr th:only-of-type {\n",
       "        vertical-align: middle;\n",
       "    }\n",
       "\n",
       "    .dataframe tbody tr th {\n",
       "        vertical-align: top;\n",
       "    }\n",
       "\n",
       "    .dataframe thead th {\n",
       "        text-align: right;\n",
       "    }\n",
       "</style>\n",
       "<table border=\"1\" class=\"dataframe\">\n",
       "  <thead>\n",
       "    <tr style=\"text-align: right;\">\n",
       "      <th></th>\n",
       "      <th></th>\n",
       "      <th>销售额</th>\n",
       "      <th>时间</th>\n",
       "    </tr>\n",
       "    <tr>\n",
       "      <th>dept</th>\n",
       "      <th>dept 1</th>\n",
       "      <th></th>\n",
       "      <th></th>\n",
       "    </tr>\n",
       "  </thead>\n",
       "  <tbody>\n",
       "    <tr>\n",
       "      <th rowspan=\"5\" valign=\"top\">部门1</th>\n",
       "      <th>小部门1</th>\n",
       "      <td>37678.0</td>\n",
       "      <td>2020-01-01</td>\n",
       "    </tr>\n",
       "    <tr>\n",
       "      <th>小部门1</th>\n",
       "      <td>NaN</td>\n",
       "      <td>2020-01-02</td>\n",
       "    </tr>\n",
       "    <tr>\n",
       "      <th>小部门2</th>\n",
       "      <td>26939.0</td>\n",
       "      <td>2020-01-03</td>\n",
       "    </tr>\n",
       "    <tr>\n",
       "      <th>小部门2</th>\n",
       "      <td>96852.0</td>\n",
       "      <td>2020-01-04</td>\n",
       "    </tr>\n",
       "    <tr>\n",
       "      <th>小部门2</th>\n",
       "      <td>27738.0</td>\n",
       "      <td>2020-01-05</td>\n",
       "    </tr>\n",
       "    <tr>\n",
       "      <th rowspan=\"5\" valign=\"top\">部门2</th>\n",
       "      <th>小部门3</th>\n",
       "      <td>34332.0</td>\n",
       "      <td>2020-01-06</td>\n",
       "    </tr>\n",
       "    <tr>\n",
       "      <th>小部门4</th>\n",
       "      <td>67693.0</td>\n",
       "      <td>2020-01-07</td>\n",
       "    </tr>\n",
       "    <tr>\n",
       "      <th>小部门4</th>\n",
       "      <td>20224.0</td>\n",
       "      <td>2020-01-08</td>\n",
       "    </tr>\n",
       "    <tr>\n",
       "      <th>小部门4</th>\n",
       "      <td>91480.0</td>\n",
       "      <td>2020-01-09</td>\n",
       "    </tr>\n",
       "    <tr>\n",
       "      <th>小部门4</th>\n",
       "      <td>33409.0</td>\n",
       "      <td>2020-01-10</td>\n",
       "    </tr>\n",
       "  </tbody>\n",
       "</table>\n",
       "</div>"
      ],
      "text/plain": [
       "                 销售额         时间\n",
       "dept dept 1                    \n",
       "部门1  小部门1    37678.0 2020-01-01\n",
       "     小部门1        NaN 2020-01-02\n",
       "     小部门2    26939.0 2020-01-03\n",
       "     小部门2    96852.0 2020-01-04\n",
       "     小部门2    27738.0 2020-01-05\n",
       "部门2  小部门3    34332.0 2020-01-06\n",
       "     小部门4    67693.0 2020-01-07\n",
       "     小部门4    20224.0 2020-01-08\n",
       "     小部门4    91480.0 2020-01-09\n",
       "     小部门4    33409.0 2020-01-10"
      ]
     },
     "execution_count": 16,
     "metadata": {},
     "output_type": "execute_result"
    }
   ],
   "source": [
    "df.from_records(data,index=['dept','dept 1'],exclude=['name'],coerce_float=False) # nrows 如果可迭代，取前n行。   columns ，设置列名（如果没列名）"
   ]
  }
 ],
 "metadata": {
  "kernelspec": {
   "display_name": "Python 3 (ipykernel)",
   "language": "python",
   "name": "python3"
  },
  "language_info": {
   "codemirror_mode": {
    "name": "ipython",
    "version": 3
   },
   "file_extension": ".py",
   "mimetype": "text/x-python",
   "name": "python",
   "nbconvert_exporter": "python",
   "pygments_lexer": "ipython3",
   "version": "3.8.11"
  }
 },
 "nbformat": 4,
 "nbformat_minor": 5
}
