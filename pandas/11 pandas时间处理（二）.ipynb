{
 "cells": [
  {
   "cell_type": "markdown",
   "id": "respective-brook",
   "metadata": {
    "execution": {
     "iopub.execute_input": "2021-05-10T07:18:52.990449Z",
     "iopub.status.busy": "2021-05-10T07:18:52.990449Z",
     "iopub.status.idle": "2021-05-10T07:18:52.994464Z",
     "shell.execute_reply": "2021-05-10T07:18:52.993452Z",
     "shell.execute_reply.started": "2021-05-10T07:18:52.990449Z"
    }
   },
   "source": [
    "## pandas时间处理（二）"
   ]
  },
  {
   "cell_type": "markdown",
   "id": "piano-vertex",
   "metadata": {},
   "source": [
    "### 比较常用的时间处理函数。\n",
    "#### is_month_start、is_month_end 、is_year_start、is _year_end、is_quarter_start、is_quarter_end、daysinmonth、is_leap_year"
   ]
  },
  {
   "cell_type": "code",
   "execution_count": 40,
   "id": "saved-framework",
   "metadata": {
    "execution": {
     "iopub.execute_input": "2021-05-21T06:53:01.415674Z",
     "iopub.status.busy": "2021-05-21T06:53:01.415674Z",
     "iopub.status.idle": "2021-05-21T06:53:01.419644Z",
     "shell.execute_reply": "2021-05-21T06:53:01.419644Z",
     "shell.execute_reply.started": "2021-05-21T06:53:01.415674Z"
    }
   },
   "outputs": [],
   "source": [
    "import pandas as pd\n",
    "df=pd.DataFrame(data=[ '2020-01-01','2020-12-31','2020-02-01 10:10:00','2021-03-01 00:00:00'] ,columns=['time'])"
   ]
  },
  {
   "cell_type": "code",
   "execution_count": 41,
   "id": "weekly-photograph",
   "metadata": {
    "execution": {
     "iopub.execute_input": "2021-05-21T06:53:01.420648Z",
     "iopub.status.busy": "2021-05-21T06:53:01.420648Z",
     "iopub.status.idle": "2021-05-21T06:53:01.427646Z",
     "shell.execute_reply": "2021-05-21T06:53:01.427646Z",
     "shell.execute_reply.started": "2021-05-21T06:53:01.420648Z"
    }
   },
   "outputs": [
    {
     "data": {
      "text/html": [
       "<div>\n",
       "<style scoped>\n",
       "    .dataframe tbody tr th:only-of-type {\n",
       "        vertical-align: middle;\n",
       "    }\n",
       "\n",
       "    .dataframe tbody tr th {\n",
       "        vertical-align: top;\n",
       "    }\n",
       "\n",
       "    .dataframe thead th {\n",
       "        text-align: right;\n",
       "    }\n",
       "</style>\n",
       "<table border=\"1\" class=\"dataframe\">\n",
       "  <thead>\n",
       "    <tr style=\"text-align: right;\">\n",
       "      <th></th>\n",
       "      <th>time</th>\n",
       "    </tr>\n",
       "  </thead>\n",
       "  <tbody>\n",
       "    <tr>\n",
       "      <th>0</th>\n",
       "      <td>2020-01-01</td>\n",
       "    </tr>\n",
       "    <tr>\n",
       "      <th>1</th>\n",
       "      <td>2020-12-31</td>\n",
       "    </tr>\n",
       "    <tr>\n",
       "      <th>2</th>\n",
       "      <td>2020-02-01 10:10:00</td>\n",
       "    </tr>\n",
       "    <tr>\n",
       "      <th>3</th>\n",
       "      <td>2021-03-01 00:00:00</td>\n",
       "    </tr>\n",
       "  </tbody>\n",
       "</table>\n",
       "</div>"
      ],
      "text/plain": [
       "                  time\n",
       "0           2020-01-01\n",
       "1           2020-12-31\n",
       "2  2020-02-01 10:10:00\n",
       "3  2021-03-01 00:00:00"
      ]
     },
     "execution_count": 41,
     "metadata": {},
     "output_type": "execute_result"
    }
   ],
   "source": [
    "df"
   ]
  },
  {
   "cell_type": "code",
   "execution_count": 42,
   "id": "finnish-lounge",
   "metadata": {
    "execution": {
     "iopub.execute_input": "2021-05-21T06:53:01.428646Z",
     "iopub.status.busy": "2021-05-21T06:53:01.428646Z",
     "iopub.status.idle": "2021-05-21T06:53:01.433645Z",
     "shell.execute_reply": "2021-05-21T06:53:01.433645Z",
     "shell.execute_reply.started": "2021-05-21T06:53:01.428646Z"
    }
   },
   "outputs": [],
   "source": [
    "df.time=df.time.astype('datetime64') # 将时间字符串转换成时间格式"
   ]
  },
  {
   "cell_type": "code",
   "execution_count": 53,
   "id": "prescription-tanzania",
   "metadata": {
    "execution": {
     "iopub.execute_input": "2021-05-21T06:59:57.791646Z",
     "iopub.status.busy": "2021-05-21T06:59:57.791646Z",
     "iopub.status.idle": "2021-05-21T06:59:57.798659Z",
     "shell.execute_reply": "2021-05-21T06:59:57.797652Z",
     "shell.execute_reply.started": "2021-05-21T06:59:57.791646Z"
    }
   },
   "outputs": [
    {
     "data": {
      "text/plain": [
       "0     True\n",
       "1     True\n",
       "2     True\n",
       "3    False\n",
       "Name: time, dtype: bool"
      ]
     },
     "execution_count": 53,
     "metadata": {},
     "output_type": "execute_result"
    }
   ],
   "source": [
    "df.time.dt.is_leap_year # 判断所在年是否是闰年"
   ]
  },
  {
   "cell_type": "code",
   "execution_count": 51,
   "id": "careful-tennis",
   "metadata": {
    "execution": {
     "iopub.execute_input": "2021-05-21T06:59:25.159646Z",
     "iopub.status.busy": "2021-05-21T06:59:25.159646Z",
     "iopub.status.idle": "2021-05-21T06:59:25.167650Z",
     "shell.execute_reply": "2021-05-21T06:59:25.166647Z",
     "shell.execute_reply.started": "2021-05-21T06:59:25.159646Z"
    }
   },
   "outputs": [
    {
     "data": {
      "text/plain": [
       "0    31\n",
       "1    31\n",
       "2    29\n",
       "3    31\n",
       "Name: time, dtype: int64"
      ]
     },
     "execution_count": 51,
     "metadata": {},
     "output_type": "execute_result"
    }
   ],
   "source": [
    "df.time.dt.daysinmonth # 返回所在月天数。两种写法"
   ]
  },
  {
   "cell_type": "code",
   "execution_count": 48,
   "id": "close-albany",
   "metadata": {
    "execution": {
     "iopub.execute_input": "2021-05-21T06:57:35.563645Z",
     "iopub.status.busy": "2021-05-21T06:57:35.563645Z",
     "iopub.status.idle": "2021-05-21T06:57:35.568645Z",
     "shell.execute_reply": "2021-05-21T06:57:35.567647Z",
     "shell.execute_reply.started": "2021-05-21T06:57:35.563645Z"
    }
   },
   "outputs": [
    {
     "data": {
      "text/plain": [
       "0     True\n",
       "1    False\n",
       "2    False\n",
       "3    False\n",
       "Name: time, dtype: bool"
      ]
     },
     "execution_count": 48,
     "metadata": {},
     "output_type": "execute_result"
    }
   ],
   "source": [
    "df.time.dt.is_quarter_start # 判断是否是季度第一天"
   ]
  },
  {
   "cell_type": "code",
   "execution_count": 49,
   "id": "dramatic-surge",
   "metadata": {
    "execution": {
     "iopub.execute_input": "2021-05-21T06:58:14.196643Z",
     "iopub.status.busy": "2021-05-21T06:58:14.195649Z",
     "iopub.status.idle": "2021-05-21T06:58:14.205647Z",
     "shell.execute_reply": "2021-05-21T06:58:14.204665Z",
     "shell.execute_reply.started": "2021-05-21T06:58:14.196643Z"
    }
   },
   "outputs": [
    {
     "data": {
      "text/plain": [
       "0    False\n",
       "1     True\n",
       "2    False\n",
       "3    False\n",
       "Name: time, dtype: bool"
      ]
     },
     "execution_count": 49,
     "metadata": {},
     "output_type": "execute_result"
    }
   ],
   "source": [
    "df.time.dt.is_quarter_end # 判断是否是季度最后一天"
   ]
  },
  {
   "cell_type": "code",
   "execution_count": 47,
   "id": "recreational-keeping",
   "metadata": {
    "execution": {
     "iopub.execute_input": "2021-05-21T06:55:47.644645Z",
     "iopub.status.busy": "2021-05-21T06:55:47.644645Z",
     "iopub.status.idle": "2021-05-21T06:55:47.653649Z",
     "shell.execute_reply": "2021-05-21T06:55:47.651649Z",
     "shell.execute_reply.started": "2021-05-21T06:55:47.644645Z"
    }
   },
   "outputs": [
    {
     "data": {
      "text/plain": [
       "0    False\n",
       "1     True\n",
       "2    False\n",
       "3    False\n",
       "Name: time, dtype: bool"
      ]
     },
     "execution_count": 47,
     "metadata": {},
     "output_type": "execute_result"
    }
   ],
   "source": [
    "df.time.dt.is_year_end # 判断是否是年的最后一天"
   ]
  },
  {
   "cell_type": "code",
   "execution_count": 46,
   "id": "failing-proceeding",
   "metadata": {
    "execution": {
     "iopub.execute_input": "2021-05-21T06:55:16.132648Z",
     "iopub.status.busy": "2021-05-21T06:55:16.132648Z",
     "iopub.status.idle": "2021-05-21T06:55:16.143644Z",
     "shell.execute_reply": "2021-05-21T06:55:16.141661Z",
     "shell.execute_reply.started": "2021-05-21T06:55:16.132648Z"
    }
   },
   "outputs": [
    {
     "data": {
      "text/plain": [
       "0     True\n",
       "1    False\n",
       "2    False\n",
       "3    False\n",
       "Name: time, dtype: bool"
      ]
     },
     "execution_count": 46,
     "metadata": {},
     "output_type": "execute_result"
    }
   ],
   "source": [
    "df.time.dt.is_year_start # 判断是否是年的第一天"
   ]
  },
  {
   "cell_type": "code",
   "execution_count": 45,
   "id": "ambient-reaction",
   "metadata": {
    "execution": {
     "iopub.execute_input": "2021-05-21T06:54:36.390646Z",
     "iopub.status.busy": "2021-05-21T06:54:36.390646Z",
     "iopub.status.idle": "2021-05-21T06:54:36.399647Z",
     "shell.execute_reply": "2021-05-21T06:54:36.397669Z",
     "shell.execute_reply.started": "2021-05-21T06:54:36.390646Z"
    }
   },
   "outputs": [
    {
     "data": {
      "text/plain": [
       "0    False\n",
       "1     True\n",
       "2    False\n",
       "3    False\n",
       "Name: time, dtype: bool"
      ]
     },
     "execution_count": 45,
     "metadata": {},
     "output_type": "execute_result"
    }
   ],
   "source": [
    "df.time.dt.is_month_end # 判断是否是月的最后一天"
   ]
  },
  {
   "cell_type": "code",
   "execution_count": 44,
   "id": "arctic-entertainment",
   "metadata": {
    "execution": {
     "iopub.execute_input": "2021-05-21T06:53:58.499644Z",
     "iopub.status.busy": "2021-05-21T06:53:58.499644Z",
     "iopub.status.idle": "2021-05-21T06:53:58.509649Z",
     "shell.execute_reply": "2021-05-21T06:53:58.507653Z",
     "shell.execute_reply.started": "2021-05-21T06:53:58.499644Z"
    }
   },
   "outputs": [
    {
     "data": {
      "text/plain": [
       "0     True\n",
       "1    False\n",
       "2     True\n",
       "3     True\n",
       "Name: time, dtype: bool"
      ]
     },
     "execution_count": 44,
     "metadata": {},
     "output_type": "execute_result"
    }
   ],
   "source": [
    "df.time.dt.is_month_start # 判断是否月的第一天"
   ]
  }
 ],
 "metadata": {
  "kernelspec": {
   "display_name": "Python 3",
   "language": "python",
   "name": "python3"
  },
  "language_info": {
   "codemirror_mode": {
    "name": "ipython",
    "version": 3
   },
   "file_extension": ".py",
   "mimetype": "text/x-python",
   "name": "python",
   "nbconvert_exporter": "python",
   "pygments_lexer": "ipython3",
   "version": "3.6.8"
  }
 },
 "nbformat": 4,
 "nbformat_minor": 5
}
