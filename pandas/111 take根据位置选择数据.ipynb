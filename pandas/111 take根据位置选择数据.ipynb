{
 "cells": [
  {
   "cell_type": "markdown",
   "id": "6eb107fd",
   "metadata": {
    "execution": {
     "iopub.execute_input": "2021-05-10T07:18:52.990449Z",
     "iopub.status.busy": "2021-05-10T07:18:52.990449Z",
     "iopub.status.idle": "2021-05-10T07:18:52.994464Z",
     "shell.execute_reply": "2021-05-10T07:18:52.993452Z",
     "shell.execute_reply.started": "2021-05-10T07:18:52.990449Z"
    }
   },
   "source": [
    "## 111 take根据位置选择数据"
   ]
  },
  {
   "cell_type": "markdown",
   "id": "c41246a1",
   "metadata": {
    "heading_collapsed": "true",
    "tags": []
   },
   "source": [
    "### take ：根据位置选择数据，类似iloc\n",
    "参数 indices, axis=0, is_copy=None, **kwargs"
   ]
  },
  {
   "cell_type": "code",
   "execution_count": 1,
   "id": "0350dc3e",
   "metadata": {
    "execution": {
     "iopub.execute_input": "2021-08-26T06:48:27.894933Z",
     "iopub.status.busy": "2021-08-26T06:48:27.894933Z",
     "iopub.status.idle": "2021-08-26T06:48:28.207961Z",
     "shell.execute_reply": "2021-08-26T06:48:28.207961Z",
     "shell.execute_reply.started": "2021-08-26T06:48:27.894933Z"
    },
    "tags": []
   },
   "outputs": [],
   "source": [
    "import numpy  as np\n",
    "import pandas as pd\n",
    "from faker import Faker\n",
    "\n",
    "fake = Faker('zh_CN')\n",
    "df=pd.DataFrame(data=[ [fake.name()] for x in range(10) ],columns=['name'])\n",
    "\n",
    "df['销售额']=np.random.randint(100,100000,size=(10, 1))\n",
    "df['时间']=pd.date_range(start='2020-01-01',periods=10,freq='D')\n",
    "df.insert(0,'dept',['部门1']*5+['部门2']*5)\n",
    "df.insert(1,'dept 1',['小部门1']*2+['小部门2']*3+['小部门3']*1+['小部门4']*4)\n",
    "df.iloc[1,3]=np.nan #  修改成nan"
   ]
  },
  {
   "cell_type": "markdown",
   "id": "fcd28e55",
   "metadata": {
    "tags": []
   },
   "source": [
    "### 演示数据"
   ]
  },
  {
   "cell_type": "code",
   "execution_count": 2,
   "id": "de47b967",
   "metadata": {
    "execution": {
     "iopub.execute_input": "2021-08-26T06:48:28.208929Z",
     "iopub.status.busy": "2021-08-26T06:48:28.208929Z",
     "iopub.status.idle": "2021-08-26T06:48:28.225932Z",
     "shell.execute_reply": "2021-08-26T06:48:28.224947Z",
     "shell.execute_reply.started": "2021-08-26T06:48:28.208929Z"
    },
    "tags": []
   },
   "outputs": [
    {
     "data": {
      "text/html": [
       "<div>\n",
       "<style scoped>\n",
       "    .dataframe tbody tr th:only-of-type {\n",
       "        vertical-align: middle;\n",
       "    }\n",
       "\n",
       "    .dataframe tbody tr th {\n",
       "        vertical-align: top;\n",
       "    }\n",
       "\n",
       "    .dataframe thead th {\n",
       "        text-align: right;\n",
       "    }\n",
       "</style>\n",
       "<table border=\"1\" class=\"dataframe\">\n",
       "  <thead>\n",
       "    <tr style=\"text-align: right;\">\n",
       "      <th></th>\n",
       "      <th>dept</th>\n",
       "      <th>dept 1</th>\n",
       "      <th>name</th>\n",
       "      <th>销售额</th>\n",
       "      <th>时间</th>\n",
       "    </tr>\n",
       "  </thead>\n",
       "  <tbody>\n",
       "    <tr>\n",
       "      <th>0</th>\n",
       "      <td>部门1</td>\n",
       "      <td>小部门1</td>\n",
       "      <td>许杰</td>\n",
       "      <td>1923.0</td>\n",
       "      <td>2020-01-01</td>\n",
       "    </tr>\n",
       "    <tr>\n",
       "      <th>1</th>\n",
       "      <td>部门1</td>\n",
       "      <td>小部门1</td>\n",
       "      <td>黄燕</td>\n",
       "      <td>NaN</td>\n",
       "      <td>2020-01-02</td>\n",
       "    </tr>\n",
       "    <tr>\n",
       "      <th>2</th>\n",
       "      <td>部门1</td>\n",
       "      <td>小部门2</td>\n",
       "      <td>刘琳</td>\n",
       "      <td>56269.0</td>\n",
       "      <td>2020-01-03</td>\n",
       "    </tr>\n",
       "    <tr>\n",
       "      <th>3</th>\n",
       "      <td>部门1</td>\n",
       "      <td>小部门2</td>\n",
       "      <td>王桂香</td>\n",
       "      <td>21049.0</td>\n",
       "      <td>2020-01-04</td>\n",
       "    </tr>\n",
       "    <tr>\n",
       "      <th>4</th>\n",
       "      <td>部门1</td>\n",
       "      <td>小部门2</td>\n",
       "      <td>王桂花</td>\n",
       "      <td>51581.0</td>\n",
       "      <td>2020-01-05</td>\n",
       "    </tr>\n",
       "    <tr>\n",
       "      <th>5</th>\n",
       "      <td>部门2</td>\n",
       "      <td>小部门3</td>\n",
       "      <td>周博</td>\n",
       "      <td>3892.0</td>\n",
       "      <td>2020-01-06</td>\n",
       "    </tr>\n",
       "    <tr>\n",
       "      <th>6</th>\n",
       "      <td>部门2</td>\n",
       "      <td>小部门4</td>\n",
       "      <td>赵亮</td>\n",
       "      <td>53773.0</td>\n",
       "      <td>2020-01-07</td>\n",
       "    </tr>\n",
       "    <tr>\n",
       "      <th>7</th>\n",
       "      <td>部门2</td>\n",
       "      <td>小部门4</td>\n",
       "      <td>王玉英</td>\n",
       "      <td>58444.0</td>\n",
       "      <td>2020-01-08</td>\n",
       "    </tr>\n",
       "    <tr>\n",
       "      <th>8</th>\n",
       "      <td>部门2</td>\n",
       "      <td>小部门4</td>\n",
       "      <td>张艳</td>\n",
       "      <td>62996.0</td>\n",
       "      <td>2020-01-09</td>\n",
       "    </tr>\n",
       "    <tr>\n",
       "      <th>9</th>\n",
       "      <td>部门2</td>\n",
       "      <td>小部门4</td>\n",
       "      <td>杨瑞</td>\n",
       "      <td>15664.0</td>\n",
       "      <td>2020-01-10</td>\n",
       "    </tr>\n",
       "  </tbody>\n",
       "</table>\n",
       "</div>"
      ],
      "text/plain": [
       "  dept dept 1 name      销售额         时间\n",
       "0  部门1   小部门1   许杰   1923.0 2020-01-01\n",
       "1  部门1   小部门1   黄燕      NaN 2020-01-02\n",
       "2  部门1   小部门2   刘琳  56269.0 2020-01-03\n",
       "3  部门1   小部门2  王桂香  21049.0 2020-01-04\n",
       "4  部门1   小部门2  王桂花  51581.0 2020-01-05\n",
       "5  部门2   小部门3   周博   3892.0 2020-01-06\n",
       "6  部门2   小部门4   赵亮  53773.0 2020-01-07\n",
       "7  部门2   小部门4  王玉英  58444.0 2020-01-08\n",
       "8  部门2   小部门4   张艳  62996.0 2020-01-09\n",
       "9  部门2   小部门4   杨瑞  15664.0 2020-01-10"
      ]
     },
     "execution_count": 2,
     "metadata": {},
     "output_type": "execute_result"
    }
   ],
   "source": [
    "df "
   ]
  },
  {
   "cell_type": "code",
   "execution_count": null,
   "id": "8043a1d6-b01f-4cdb-a0fe-68041e644d13",
   "metadata": {},
   "outputs": [],
   "source": [
    "# is_copy 官方文档表示 该参数已经弃用"
   ]
  },
  {
   "cell_type": "code",
   "execution_count": 7,
   "id": "a8fad03f-5bb7-49f8-be23-493866c3d9e3",
   "metadata": {
    "execution": {
     "iopub.execute_input": "2021-08-26T06:50:06.152931Z",
     "iopub.status.busy": "2021-08-26T06:50:06.152931Z",
     "iopub.status.idle": "2021-08-26T06:50:06.163931Z",
     "shell.execute_reply": "2021-08-26T06:50:06.162932Z",
     "shell.execute_reply.started": "2021-08-26T06:50:06.152931Z"
    },
    "tags": []
   },
   "outputs": [
    {
     "data": {
      "text/html": [
       "<div>\n",
       "<style scoped>\n",
       "    .dataframe tbody tr th:only-of-type {\n",
       "        vertical-align: middle;\n",
       "    }\n",
       "\n",
       "    .dataframe tbody tr th {\n",
       "        vertical-align: top;\n",
       "    }\n",
       "\n",
       "    .dataframe thead th {\n",
       "        text-align: right;\n",
       "    }\n",
       "</style>\n",
       "<table border=\"1\" class=\"dataframe\">\n",
       "  <thead>\n",
       "    <tr style=\"text-align: right;\">\n",
       "      <th></th>\n",
       "      <th>dept 1</th>\n",
       "      <th>dept</th>\n",
       "      <th>name</th>\n",
       "    </tr>\n",
       "  </thead>\n",
       "  <tbody>\n",
       "    <tr>\n",
       "      <th>0</th>\n",
       "      <td>小部门1</td>\n",
       "      <td>部门1</td>\n",
       "      <td>许杰</td>\n",
       "    </tr>\n",
       "    <tr>\n",
       "      <th>1</th>\n",
       "      <td>小部门1</td>\n",
       "      <td>部门1</td>\n",
       "      <td>黄燕</td>\n",
       "    </tr>\n",
       "    <tr>\n",
       "      <th>2</th>\n",
       "      <td>小部门2</td>\n",
       "      <td>部门1</td>\n",
       "      <td>刘琳</td>\n",
       "    </tr>\n",
       "    <tr>\n",
       "      <th>3</th>\n",
       "      <td>小部门2</td>\n",
       "      <td>部门1</td>\n",
       "      <td>王桂香</td>\n",
       "    </tr>\n",
       "    <tr>\n",
       "      <th>4</th>\n",
       "      <td>小部门2</td>\n",
       "      <td>部门1</td>\n",
       "      <td>王桂花</td>\n",
       "    </tr>\n",
       "    <tr>\n",
       "      <th>5</th>\n",
       "      <td>小部门3</td>\n",
       "      <td>部门2</td>\n",
       "      <td>周博</td>\n",
       "    </tr>\n",
       "    <tr>\n",
       "      <th>6</th>\n",
       "      <td>小部门4</td>\n",
       "      <td>部门2</td>\n",
       "      <td>赵亮</td>\n",
       "    </tr>\n",
       "    <tr>\n",
       "      <th>7</th>\n",
       "      <td>小部门4</td>\n",
       "      <td>部门2</td>\n",
       "      <td>王玉英</td>\n",
       "    </tr>\n",
       "    <tr>\n",
       "      <th>8</th>\n",
       "      <td>小部门4</td>\n",
       "      <td>部门2</td>\n",
       "      <td>张艳</td>\n",
       "    </tr>\n",
       "    <tr>\n",
       "      <th>9</th>\n",
       "      <td>小部门4</td>\n",
       "      <td>部门2</td>\n",
       "      <td>杨瑞</td>\n",
       "    </tr>\n",
       "  </tbody>\n",
       "</table>\n",
       "</div>"
      ],
      "text/plain": [
       "  dept 1 dept name\n",
       "0   小部门1  部门1   许杰\n",
       "1   小部门1  部门1   黄燕\n",
       "2   小部门2  部门1   刘琳\n",
       "3   小部门2  部门1  王桂香\n",
       "4   小部门2  部门1  王桂花\n",
       "5   小部门3  部门2   周博\n",
       "6   小部门4  部门2   赵亮\n",
       "7   小部门4  部门2  王玉英\n",
       "8   小部门4  部门2   张艳\n",
       "9   小部门4  部门2   杨瑞"
      ]
     },
     "execution_count": 7,
     "metadata": {},
     "output_type": "execute_result"
    }
   ],
   "source": [
    "df.take(indices=[1,0,-3],axis=1) # axis 指定方向，行或者列"
   ]
  },
  {
   "cell_type": "code",
   "execution_count": 6,
   "id": "3696087c-cd22-423c-9a21-347099a77771",
   "metadata": {
    "execution": {
     "iopub.execute_input": "2021-08-26T06:49:44.593930Z",
     "iopub.status.busy": "2021-08-26T06:49:44.593930Z",
     "iopub.status.idle": "2021-08-26T06:49:44.605961Z",
     "shell.execute_reply": "2021-08-26T06:49:44.605961Z",
     "shell.execute_reply.started": "2021-08-26T06:49:44.593930Z"
    },
    "tags": []
   },
   "outputs": [
    {
     "data": {
      "text/html": [
       "<div>\n",
       "<style scoped>\n",
       "    .dataframe tbody tr th:only-of-type {\n",
       "        vertical-align: middle;\n",
       "    }\n",
       "\n",
       "    .dataframe tbody tr th {\n",
       "        vertical-align: top;\n",
       "    }\n",
       "\n",
       "    .dataframe thead th {\n",
       "        text-align: right;\n",
       "    }\n",
       "</style>\n",
       "<table border=\"1\" class=\"dataframe\">\n",
       "  <thead>\n",
       "    <tr style=\"text-align: right;\">\n",
       "      <th></th>\n",
       "      <th>dept</th>\n",
       "      <th>dept 1</th>\n",
       "      <th>name</th>\n",
       "      <th>销售额</th>\n",
       "      <th>时间</th>\n",
       "    </tr>\n",
       "  </thead>\n",
       "  <tbody>\n",
       "    <tr>\n",
       "      <th>1</th>\n",
       "      <td>部门1</td>\n",
       "      <td>小部门1</td>\n",
       "      <td>黄燕</td>\n",
       "      <td>NaN</td>\n",
       "      <td>2020-01-02</td>\n",
       "    </tr>\n",
       "    <tr>\n",
       "      <th>0</th>\n",
       "      <td>部门1</td>\n",
       "      <td>小部门1</td>\n",
       "      <td>许杰</td>\n",
       "      <td>1923.0</td>\n",
       "      <td>2020-01-01</td>\n",
       "    </tr>\n",
       "    <tr>\n",
       "      <th>7</th>\n",
       "      <td>部门2</td>\n",
       "      <td>小部门4</td>\n",
       "      <td>王玉英</td>\n",
       "      <td>58444.0</td>\n",
       "      <td>2020-01-08</td>\n",
       "    </tr>\n",
       "  </tbody>\n",
       "</table>\n",
       "</div>"
      ],
      "text/plain": [
       "  dept dept 1 name      销售额         时间\n",
       "1  部门1   小部门1   黄燕      NaN 2020-01-02\n",
       "0  部门1   小部门1   许杰   1923.0 2020-01-01\n",
       "7  部门2   小部门4  王玉英  58444.0 2020-01-08"
      ]
     },
     "execution_count": 6,
     "metadata": {},
     "output_type": "execute_result"
    }
   ],
   "source": [
    "df.take(indices=[1,0,-3]) # indices 返回的行的位置，整数，可以多行"
   ]
  },
  {
   "cell_type": "code",
   "execution_count": 8,
   "id": "ad98099b-3da4-4f7b-b2b4-a59535483d72",
   "metadata": {
    "execution": {
     "iopub.execute_input": "2021-08-26T06:53:05.958930Z",
     "iopub.status.busy": "2021-08-26T06:53:05.957933Z",
     "iopub.status.idle": "2021-08-26T06:53:05.972932Z",
     "shell.execute_reply": "2021-08-26T06:53:05.971931Z",
     "shell.execute_reply.started": "2021-08-26T06:53:05.958930Z"
    },
    "tags": []
   },
   "outputs": [
    {
     "data": {
      "text/html": [
       "<div>\n",
       "<style scoped>\n",
       "    .dataframe tbody tr th:only-of-type {\n",
       "        vertical-align: middle;\n",
       "    }\n",
       "\n",
       "    .dataframe tbody tr th {\n",
       "        vertical-align: top;\n",
       "    }\n",
       "\n",
       "    .dataframe thead th {\n",
       "        text-align: right;\n",
       "    }\n",
       "</style>\n",
       "<table border=\"1\" class=\"dataframe\">\n",
       "  <thead>\n",
       "    <tr style=\"text-align: right;\">\n",
       "      <th></th>\n",
       "      <th>dept 1</th>\n",
       "      <th>name</th>\n",
       "      <th>销售额</th>\n",
       "      <th>时间</th>\n",
       "    </tr>\n",
       "    <tr>\n",
       "      <th>dept</th>\n",
       "      <th></th>\n",
       "      <th></th>\n",
       "      <th></th>\n",
       "      <th></th>\n",
       "    </tr>\n",
       "  </thead>\n",
       "  <tbody>\n",
       "    <tr>\n",
       "      <th>部门1</th>\n",
       "      <td>小部门1</td>\n",
       "      <td>黄燕</td>\n",
       "      <td>NaN</td>\n",
       "      <td>2020-01-02</td>\n",
       "    </tr>\n",
       "    <tr>\n",
       "      <th>部门1</th>\n",
       "      <td>小部门1</td>\n",
       "      <td>许杰</td>\n",
       "      <td>1923.0</td>\n",
       "      <td>2020-01-01</td>\n",
       "    </tr>\n",
       "    <tr>\n",
       "      <th>部门2</th>\n",
       "      <td>小部门4</td>\n",
       "      <td>王玉英</td>\n",
       "      <td>58444.0</td>\n",
       "      <td>2020-01-08</td>\n",
       "    </tr>\n",
       "  </tbody>\n",
       "</table>\n",
       "</div>"
      ],
      "text/plain": [
       "     dept 1 name      销售额         时间\n",
       "dept                                \n",
       "部门1    小部门1   黄燕      NaN 2020-01-02\n",
       "部门1    小部门1   许杰   1923.0 2020-01-01\n",
       "部门2    小部门4  王玉英  58444.0 2020-01-08"
      ]
     },
     "execution_count": 8,
     "metadata": {},
     "output_type": "execute_result"
    }
   ],
   "source": [
    "df.set_index('dept').take(indices=[1,0,-3]) # indices 返回的行的位置，整数，可以多行"
   ]
  }
 ],
 "metadata": {
  "kernelspec": {
   "display_name": "Python 3 (ipykernel)",
   "language": "python",
   "name": "python3"
  },
  "language_info": {
   "codemirror_mode": {
    "name": "ipython",
    "version": 3
   },
   "file_extension": ".py",
   "mimetype": "text/x-python",
   "name": "python",
   "nbconvert_exporter": "python",
   "pygments_lexer": "ipython3",
   "version": "3.8.11"
  }
 },
 "nbformat": 4,
 "nbformat_minor": 5
}
