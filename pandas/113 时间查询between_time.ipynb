{
 "cells": [
  {
   "cell_type": "markdown",
   "id": "f5b0c054",
   "metadata": {
    "execution": {
     "iopub.execute_input": "2021-05-10T07:18:52.990449Z",
     "iopub.status.busy": "2021-05-10T07:18:52.990449Z",
     "iopub.status.idle": "2021-05-10T07:18:52.994464Z",
     "shell.execute_reply": "2021-05-10T07:18:52.993452Z",
     "shell.execute_reply.started": "2021-05-10T07:18:52.990449Z"
    }
   },
   "source": [
    "## 113 时间查询between_time"
   ]
  },
  {
   "cell_type": "markdown",
   "id": "bec4a913",
   "metadata": {
    "tags": []
   },
   "source": [
    "### between_time ：返回位于一天的特定时间之间的值\n",
    "参数 start_time, end_time, include_start=True, include_end=True, axis=None\n",
    "### indexer_between_time：返回位于一天的特定时间之间的值的索引位置\n",
    "参数 start_time, end_time, include_start=True, include_end=True"
   ]
  },
  {
   "cell_type": "code",
   "execution_count": 1,
   "id": "fd15c8a8",
   "metadata": {
    "execution": {
     "iopub.execute_input": "2021-08-26T12:00:19.669760Z",
     "iopub.status.busy": "2021-08-26T12:00:19.669127Z",
     "iopub.status.idle": "2021-08-26T12:00:20.020604Z",
     "shell.execute_reply": "2021-08-26T12:00:20.019359Z",
     "shell.execute_reply.started": "2021-08-26T12:00:19.669662Z"
    },
    "tags": []
   },
   "outputs": [],
   "source": [
    "import numpy  as np\n",
    "import pandas as pd\n",
    "from faker import Faker\n",
    "\n",
    "fake = Faker('zh_CN')\n",
    "df=pd.DataFrame(data=[ [fake.name()] for x in range(10) ],columns=['name'])\n",
    "\n",
    "df['销售额']=np.random.randint(100,100000,size=(10, 1))\n",
    "df['时间']=pd.date_range(start='2020-01-01',periods=10,freq='3H')\n",
    "df.insert(0,'dept',['部门1']*5+['部门2']*5)\n",
    "df.insert(1,'dept 1',['小部门1']*2+['小部门2']*3+['小部门3']*1+['小部门4']*4)\n",
    "df.iloc[1,3]=np.nan #  修改成nan"
   ]
  },
  {
   "cell_type": "markdown",
   "id": "2a7384fe",
   "metadata": {
    "tags": []
   },
   "source": [
    "### 演示数据"
   ]
  },
  {
   "cell_type": "code",
   "execution_count": 2,
   "id": "9bc2dd82",
   "metadata": {
    "execution": {
     "iopub.execute_input": "2021-08-26T12:00:20.027064Z",
     "iopub.status.busy": "2021-08-26T12:00:20.026565Z",
     "iopub.status.idle": "2021-08-26T12:00:20.057080Z",
     "shell.execute_reply": "2021-08-26T12:00:20.055629Z",
     "shell.execute_reply.started": "2021-08-26T12:00:20.027020Z"
    },
    "tags": []
   },
   "outputs": [
    {
     "data": {
      "text/html": [
       "<div>\n",
       "<style scoped>\n",
       "    .dataframe tbody tr th:only-of-type {\n",
       "        vertical-align: middle;\n",
       "    }\n",
       "\n",
       "    .dataframe tbody tr th {\n",
       "        vertical-align: top;\n",
       "    }\n",
       "\n",
       "    .dataframe thead th {\n",
       "        text-align: right;\n",
       "    }\n",
       "</style>\n",
       "<table border=\"1\" class=\"dataframe\">\n",
       "  <thead>\n",
       "    <tr style=\"text-align: right;\">\n",
       "      <th></th>\n",
       "      <th>dept</th>\n",
       "      <th>dept 1</th>\n",
       "      <th>name</th>\n",
       "      <th>销售额</th>\n",
       "      <th>时间</th>\n",
       "    </tr>\n",
       "  </thead>\n",
       "  <tbody>\n",
       "    <tr>\n",
       "      <th>0</th>\n",
       "      <td>部门1</td>\n",
       "      <td>小部门1</td>\n",
       "      <td>李超</td>\n",
       "      <td>4852.0</td>\n",
       "      <td>2020-01-01 00:00:00</td>\n",
       "    </tr>\n",
       "    <tr>\n",
       "      <th>1</th>\n",
       "      <td>部门1</td>\n",
       "      <td>小部门1</td>\n",
       "      <td>郑瑞</td>\n",
       "      <td>NaN</td>\n",
       "      <td>2020-01-01 03:00:00</td>\n",
       "    </tr>\n",
       "    <tr>\n",
       "      <th>2</th>\n",
       "      <td>部门1</td>\n",
       "      <td>小部门2</td>\n",
       "      <td>白坤</td>\n",
       "      <td>35836.0</td>\n",
       "      <td>2020-01-01 06:00:00</td>\n",
       "    </tr>\n",
       "    <tr>\n",
       "      <th>3</th>\n",
       "      <td>部门1</td>\n",
       "      <td>小部门2</td>\n",
       "      <td>倪建平</td>\n",
       "      <td>64972.0</td>\n",
       "      <td>2020-01-01 09:00:00</td>\n",
       "    </tr>\n",
       "    <tr>\n",
       "      <th>4</th>\n",
       "      <td>部门1</td>\n",
       "      <td>小部门2</td>\n",
       "      <td>秦超</td>\n",
       "      <td>74589.0</td>\n",
       "      <td>2020-01-01 12:00:00</td>\n",
       "    </tr>\n",
       "    <tr>\n",
       "      <th>5</th>\n",
       "      <td>部门2</td>\n",
       "      <td>小部门3</td>\n",
       "      <td>梁艳</td>\n",
       "      <td>63756.0</td>\n",
       "      <td>2020-01-01 15:00:00</td>\n",
       "    </tr>\n",
       "    <tr>\n",
       "      <th>6</th>\n",
       "      <td>部门2</td>\n",
       "      <td>小部门4</td>\n",
       "      <td>吴刚</td>\n",
       "      <td>9702.0</td>\n",
       "      <td>2020-01-01 18:00:00</td>\n",
       "    </tr>\n",
       "    <tr>\n",
       "      <th>7</th>\n",
       "      <td>部门2</td>\n",
       "      <td>小部门4</td>\n",
       "      <td>萧建</td>\n",
       "      <td>18982.0</td>\n",
       "      <td>2020-01-01 21:00:00</td>\n",
       "    </tr>\n",
       "    <tr>\n",
       "      <th>8</th>\n",
       "      <td>部门2</td>\n",
       "      <td>小部门4</td>\n",
       "      <td>庞秀兰</td>\n",
       "      <td>9327.0</td>\n",
       "      <td>2020-01-02 00:00:00</td>\n",
       "    </tr>\n",
       "    <tr>\n",
       "      <th>9</th>\n",
       "      <td>部门2</td>\n",
       "      <td>小部门4</td>\n",
       "      <td>赵建军</td>\n",
       "      <td>96213.0</td>\n",
       "      <td>2020-01-02 03:00:00</td>\n",
       "    </tr>\n",
       "  </tbody>\n",
       "</table>\n",
       "</div>"
      ],
      "text/plain": [
       "  dept dept 1 name      销售额                  时间\n",
       "0  部门1   小部门1   李超   4852.0 2020-01-01 00:00:00\n",
       "1  部门1   小部门1   郑瑞      NaN 2020-01-01 03:00:00\n",
       "2  部门1   小部门2   白坤  35836.0 2020-01-01 06:00:00\n",
       "3  部门1   小部门2  倪建平  64972.0 2020-01-01 09:00:00\n",
       "4  部门1   小部门2   秦超  74589.0 2020-01-01 12:00:00\n",
       "5  部门2   小部门3   梁艳  63756.0 2020-01-01 15:00:00\n",
       "6  部门2   小部门4   吴刚   9702.0 2020-01-01 18:00:00\n",
       "7  部门2   小部门4   萧建  18982.0 2020-01-01 21:00:00\n",
       "8  部门2   小部门4  庞秀兰   9327.0 2020-01-02 00:00:00\n",
       "9  部门2   小部门4  赵建军  96213.0 2020-01-02 03:00:00"
      ]
     },
     "execution_count": 2,
     "metadata": {},
     "output_type": "execute_result"
    }
   ],
   "source": [
    "df "
   ]
  },
  {
   "cell_type": "code",
   "execution_count": 4,
   "id": "21fd699b",
   "metadata": {
    "execution": {
     "iopub.execute_input": "2021-08-26T12:02:36.757742Z",
     "iopub.status.busy": "2021-08-26T12:02:36.757443Z",
     "iopub.status.idle": "2021-08-26T12:02:36.773063Z",
     "shell.execute_reply": "2021-08-26T12:02:36.772365Z",
     "shell.execute_reply.started": "2021-08-26T12:02:36.757716Z"
    }
   },
   "outputs": [
    {
     "data": {
      "text/html": [
       "<div>\n",
       "<style scoped>\n",
       "    .dataframe tbody tr th:only-of-type {\n",
       "        vertical-align: middle;\n",
       "    }\n",
       "\n",
       "    .dataframe tbody tr th {\n",
       "        vertical-align: top;\n",
       "    }\n",
       "\n",
       "    .dataframe thead th {\n",
       "        text-align: right;\n",
       "    }\n",
       "</style>\n",
       "<table border=\"1\" class=\"dataframe\">\n",
       "  <thead>\n",
       "    <tr style=\"text-align: right;\">\n",
       "      <th></th>\n",
       "      <th>dept</th>\n",
       "      <th>dept 1</th>\n",
       "      <th>name</th>\n",
       "      <th>销售额</th>\n",
       "    </tr>\n",
       "    <tr>\n",
       "      <th>时间</th>\n",
       "      <th></th>\n",
       "      <th></th>\n",
       "      <th></th>\n",
       "      <th></th>\n",
       "    </tr>\n",
       "  </thead>\n",
       "  <tbody>\n",
       "    <tr>\n",
       "      <th>2020-01-01 03:00:00</th>\n",
       "      <td>部门1</td>\n",
       "      <td>小部门1</td>\n",
       "      <td>郑瑞</td>\n",
       "      <td>NaN</td>\n",
       "    </tr>\n",
       "    <tr>\n",
       "      <th>2020-01-01 06:00:00</th>\n",
       "      <td>部门1</td>\n",
       "      <td>小部门2</td>\n",
       "      <td>白坤</td>\n",
       "      <td>35836.0</td>\n",
       "    </tr>\n",
       "    <tr>\n",
       "      <th>2020-01-02 03:00:00</th>\n",
       "      <td>部门2</td>\n",
       "      <td>小部门4</td>\n",
       "      <td>赵建军</td>\n",
       "      <td>96213.0</td>\n",
       "    </tr>\n",
       "  </tbody>\n",
       "</table>\n",
       "</div>"
      ],
      "text/plain": [
       "                    dept dept 1 name      销售额\n",
       "时间                                           \n",
       "2020-01-01 03:00:00  部门1   小部门1   郑瑞      NaN\n",
       "2020-01-01 06:00:00  部门1   小部门2   白坤  35836.0\n",
       "2020-01-02 03:00:00  部门2   小部门4  赵建军  96213.0"
      ]
     },
     "execution_count": 4,
     "metadata": {},
     "output_type": "execute_result"
    }
   ],
   "source": [
    "df.set_index('时间').between_time(start_time='03:00',end_time='6:00') # 返回介于3点和6点之间的所有值"
   ]
  },
  {
   "cell_type": "code",
   "execution_count": 5,
   "id": "05a0e0dc",
   "metadata": {
    "execution": {
     "iopub.execute_input": "2021-08-26T12:03:39.870709Z",
     "iopub.status.busy": "2021-08-26T12:03:39.870148Z",
     "iopub.status.idle": "2021-08-26T12:03:39.891941Z",
     "shell.execute_reply": "2021-08-26T12:03:39.890981Z",
     "shell.execute_reply.started": "2021-08-26T12:03:39.870672Z"
    }
   },
   "outputs": [
    {
     "data": {
      "text/html": [
       "<div>\n",
       "<style scoped>\n",
       "    .dataframe tbody tr th:only-of-type {\n",
       "        vertical-align: middle;\n",
       "    }\n",
       "\n",
       "    .dataframe tbody tr th {\n",
       "        vertical-align: top;\n",
       "    }\n",
       "\n",
       "    .dataframe thead th {\n",
       "        text-align: right;\n",
       "    }\n",
       "</style>\n",
       "<table border=\"1\" class=\"dataframe\">\n",
       "  <thead>\n",
       "    <tr style=\"text-align: right;\">\n",
       "      <th></th>\n",
       "      <th>dept</th>\n",
       "      <th>dept 1</th>\n",
       "      <th>name</th>\n",
       "      <th>销售额</th>\n",
       "    </tr>\n",
       "    <tr>\n",
       "      <th>时间</th>\n",
       "      <th></th>\n",
       "      <th></th>\n",
       "      <th></th>\n",
       "      <th></th>\n",
       "    </tr>\n",
       "  </thead>\n",
       "  <tbody>\n",
       "    <tr>\n",
       "      <th>2020-01-01 03:00:00</th>\n",
       "      <td>部门1</td>\n",
       "      <td>小部门1</td>\n",
       "      <td>郑瑞</td>\n",
       "      <td>NaN</td>\n",
       "    </tr>\n",
       "    <tr>\n",
       "      <th>2020-01-02 03:00:00</th>\n",
       "      <td>部门2</td>\n",
       "      <td>小部门4</td>\n",
       "      <td>赵建军</td>\n",
       "      <td>96213.0</td>\n",
       "    </tr>\n",
       "  </tbody>\n",
       "</table>\n",
       "</div>"
      ],
      "text/plain": [
       "                    dept dept 1 name      销售额\n",
       "时间                                           \n",
       "2020-01-01 03:00:00  部门1   小部门1   郑瑞      NaN\n",
       "2020-01-02 03:00:00  部门2   小部门4  赵建军  96213.0"
      ]
     },
     "execution_count": 5,
     "metadata": {},
     "output_type": "execute_result"
    }
   ],
   "source": [
    "df.set_index('时间').between_time(start_time='03:00',end_time='6:00',include_end=False) # 返回介于3点和6点之间的所有值, include_end 是否包含结束时间"
   ]
  },
  {
   "cell_type": "code",
   "execution_count": 6,
   "id": "bb1b0c46",
   "metadata": {
    "execution": {
     "iopub.execute_input": "2021-08-26T12:04:33.202221Z",
     "iopub.status.busy": "2021-08-26T12:04:33.201628Z",
     "iopub.status.idle": "2021-08-26T12:04:33.219062Z",
     "shell.execute_reply": "2021-08-26T12:04:33.218445Z",
     "shell.execute_reply.started": "2021-08-26T12:04:33.202180Z"
    }
   },
   "outputs": [
    {
     "data": {
      "text/html": [
       "<div>\n",
       "<style scoped>\n",
       "    .dataframe tbody tr th:only-of-type {\n",
       "        vertical-align: middle;\n",
       "    }\n",
       "\n",
       "    .dataframe tbody tr th {\n",
       "        vertical-align: top;\n",
       "    }\n",
       "\n",
       "    .dataframe thead th {\n",
       "        text-align: right;\n",
       "    }\n",
       "</style>\n",
       "<table border=\"1\" class=\"dataframe\">\n",
       "  <thead>\n",
       "    <tr style=\"text-align: right;\">\n",
       "      <th></th>\n",
       "      <th>dept</th>\n",
       "      <th>dept 1</th>\n",
       "      <th>name</th>\n",
       "      <th>销售额</th>\n",
       "    </tr>\n",
       "    <tr>\n",
       "      <th>时间</th>\n",
       "      <th></th>\n",
       "      <th></th>\n",
       "      <th></th>\n",
       "      <th></th>\n",
       "    </tr>\n",
       "  </thead>\n",
       "  <tbody>\n",
       "    <tr>\n",
       "      <th>2020-01-01 06:00:00</th>\n",
       "      <td>部门1</td>\n",
       "      <td>小部门2</td>\n",
       "      <td>白坤</td>\n",
       "      <td>35836.0</td>\n",
       "    </tr>\n",
       "  </tbody>\n",
       "</table>\n",
       "</div>"
      ],
      "text/plain": [
       "                    dept dept 1 name      销售额\n",
       "时间                                           \n",
       "2020-01-01 06:00:00  部门1   小部门2   白坤  35836.0"
      ]
     },
     "execution_count": 6,
     "metadata": {},
     "output_type": "execute_result"
    }
   ],
   "source": [
    "df.set_index('时间').between_time(start_time='03:00',end_time='6:00',include_start=False) # 返回介于3点和6点之间的所有值, include_start 是否包含开始时间"
   ]
  },
  {
   "cell_type": "code",
   "execution_count": 8,
   "id": "34abc3e6",
   "metadata": {
    "execution": {
     "iopub.execute_input": "2021-08-26T12:05:37.506047Z",
     "iopub.status.busy": "2021-08-26T12:05:37.505740Z",
     "iopub.status.idle": "2021-08-26T12:05:37.512087Z",
     "shell.execute_reply": "2021-08-26T12:05:37.511204Z",
     "shell.execute_reply.started": "2021-08-26T12:05:37.506024Z"
    }
   },
   "outputs": [
    {
     "data": {
      "text/plain": [
       "array([2])"
      ]
     },
     "execution_count": 8,
     "metadata": {},
     "output_type": "execute_result"
    }
   ],
   "source": [
    "df.set_index('时间').index.indexer_between_time(start_time='03:00',end_time='6:00',include_start=False) # 返回介于3点和6点之间的所有值的索引位置，不包含开始时间"
   ]
  },
  {
   "cell_type": "code",
   "execution_count": 9,
   "id": "1ae0a7e1",
   "metadata": {
    "execution": {
     "iopub.execute_input": "2021-08-26T12:06:23.016972Z",
     "iopub.status.busy": "2021-08-26T12:06:23.016311Z",
     "iopub.status.idle": "2021-08-26T12:06:23.025266Z",
     "shell.execute_reply": "2021-08-26T12:06:23.023939Z",
     "shell.execute_reply.started": "2021-08-26T12:06:23.016919Z"
    }
   },
   "outputs": [
    {
     "data": {
      "text/plain": [
       "array([1, 2, 9])"
      ]
     },
     "execution_count": 9,
     "metadata": {},
     "output_type": "execute_result"
    }
   ],
   "source": [
    "df.set_index('时间').index.indexer_between_time(start_time='03:00',end_time='6:00') # 返回介于3点和6点之间的所有值的索引位置"
   ]
  }
 ],
 "metadata": {
  "kernelspec": {
   "display_name": "Python 3 (ipykernel)",
   "language": "python",
   "name": "python3"
  },
  "language_info": {
   "codemirror_mode": {
    "name": "ipython",
    "version": 3
   },
   "file_extension": ".py",
   "mimetype": "text/x-python",
   "name": "python",
   "nbconvert_exporter": "python",
   "pygments_lexer": "ipython3",
   "version": "3.8.11"
  }
 },
 "nbformat": 4,
 "nbformat_minor": 5
}
