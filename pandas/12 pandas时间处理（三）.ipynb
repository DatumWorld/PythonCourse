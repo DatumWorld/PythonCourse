{
 "cells": [
  {
   "cell_type": "markdown",
   "id": "efe4be37",
   "metadata": {
    "execution": {
     "iopub.execute_input": "2021-05-10T07:18:52.990449Z",
     "iopub.status.busy": "2021-05-10T07:18:52.990449Z",
     "iopub.status.idle": "2021-05-10T07:18:52.994464Z",
     "shell.execute_reply": "2021-05-10T07:18:52.993452Z",
     "shell.execute_reply.started": "2021-05-10T07:18:52.990449Z"
    }
   },
   "source": [
    "## pandas时间处理（三）"
   ]
  },
  {
   "cell_type": "markdown",
   "id": "ac1ba896",
   "metadata": {},
   "source": [
    "### 比较常用的时间处理函数。\n",
    "#### weekofyear、to_period 、to_pydatetime、round、floor、ceil、month_name、day_name"
   ]
  },
  {
   "cell_type": "code",
   "execution_count": 20,
   "id": "6c8410a0",
   "metadata": {
    "execution": {
     "iopub.execute_input": "2021-05-22T09:47:54.189661Z",
     "iopub.status.busy": "2021-05-22T09:47:54.189295Z",
     "iopub.status.idle": "2021-05-22T09:47:54.195355Z",
     "shell.execute_reply": "2021-05-22T09:47:54.194230Z",
     "shell.execute_reply.started": "2021-05-22T09:47:54.189626Z"
    }
   },
   "outputs": [],
   "source": [
    "import pandas as pd\n",
    "df=pd.DataFrame(data=[ '2020-01-01','2020-01-02','2020-12-31','2020-02-01 10:10:00','2020-02-01 09:50:00','2020-02-01 19:50:00','2021-03-01 00:00:00'] ,columns=['time'])"
   ]
  },
  {
   "cell_type": "code",
   "execution_count": 21,
   "id": "e45bba50",
   "metadata": {
    "execution": {
     "iopub.execute_input": "2021-05-22T09:47:55.074584Z",
     "iopub.status.busy": "2021-05-22T09:47:55.074330Z",
     "iopub.status.idle": "2021-05-22T09:47:55.082426Z",
     "shell.execute_reply": "2021-05-22T09:47:55.081606Z",
     "shell.execute_reply.started": "2021-05-22T09:47:55.074563Z"
    }
   },
   "outputs": [
    {
     "data": {
      "text/html": [
       "<div>\n",
       "<style scoped>\n",
       "    .dataframe tbody tr th:only-of-type {\n",
       "        vertical-align: middle;\n",
       "    }\n",
       "\n",
       "    .dataframe tbody tr th {\n",
       "        vertical-align: top;\n",
       "    }\n",
       "\n",
       "    .dataframe thead th {\n",
       "        text-align: right;\n",
       "    }\n",
       "</style>\n",
       "<table border=\"1\" class=\"dataframe\">\n",
       "  <thead>\n",
       "    <tr style=\"text-align: right;\">\n",
       "      <th></th>\n",
       "      <th>time</th>\n",
       "    </tr>\n",
       "  </thead>\n",
       "  <tbody>\n",
       "    <tr>\n",
       "      <th>0</th>\n",
       "      <td>2020-01-01</td>\n",
       "    </tr>\n",
       "    <tr>\n",
       "      <th>1</th>\n",
       "      <td>2020-01-02</td>\n",
       "    </tr>\n",
       "    <tr>\n",
       "      <th>2</th>\n",
       "      <td>2020-12-31</td>\n",
       "    </tr>\n",
       "    <tr>\n",
       "      <th>3</th>\n",
       "      <td>2020-02-01 10:10:00</td>\n",
       "    </tr>\n",
       "    <tr>\n",
       "      <th>4</th>\n",
       "      <td>2020-02-01 09:50:00</td>\n",
       "    </tr>\n",
       "    <tr>\n",
       "      <th>5</th>\n",
       "      <td>2020-02-01 19:50:00</td>\n",
       "    </tr>\n",
       "    <tr>\n",
       "      <th>6</th>\n",
       "      <td>2021-03-01 00:00:00</td>\n",
       "    </tr>\n",
       "  </tbody>\n",
       "</table>\n",
       "</div>"
      ],
      "text/plain": [
       "                  time\n",
       "0           2020-01-01\n",
       "1           2020-01-02\n",
       "2           2020-12-31\n",
       "3  2020-02-01 10:10:00\n",
       "4  2020-02-01 09:50:00\n",
       "5  2020-02-01 19:50:00\n",
       "6  2021-03-01 00:00:00"
      ]
     },
     "execution_count": 21,
     "metadata": {},
     "output_type": "execute_result"
    }
   ],
   "source": [
    "df"
   ]
  },
  {
   "cell_type": "code",
   "execution_count": 22,
   "id": "9104e139",
   "metadata": {
    "execution": {
     "iopub.execute_input": "2021-05-22T09:47:57.342541Z",
     "iopub.status.busy": "2021-05-22T09:47:57.342013Z",
     "iopub.status.idle": "2021-05-22T09:47:57.349155Z",
     "shell.execute_reply": "2021-05-22T09:47:57.348024Z",
     "shell.execute_reply.started": "2021-05-22T09:47:57.342497Z"
    }
   },
   "outputs": [],
   "source": [
    "df.time=df.time.astype('datetime64') # 将时间字符串转换成时间格式"
   ]
  },
  {
   "cell_type": "code",
   "execution_count": 31,
   "id": "a3cd3d49",
   "metadata": {
    "execution": {
     "iopub.execute_input": "2021-05-22T09:59:23.007679Z",
     "iopub.status.busy": "2021-05-22T09:59:23.007057Z",
     "iopub.status.idle": "2021-05-22T09:59:23.014240Z",
     "shell.execute_reply": "2021-05-22T09:59:23.013228Z",
     "shell.execute_reply.started": "2021-05-22T09:59:23.007642Z"
    }
   },
   "outputs": [
    {
     "data": {
      "text/plain": [
       "0     January\n",
       "1     January\n",
       "2    December\n",
       "3    February\n",
       "4    February\n",
       "5    February\n",
       "6       March\n",
       "Name: time, dtype: object"
      ]
     },
     "execution_count": 31,
     "metadata": {},
     "output_type": "execute_result"
    }
   ],
   "source": [
    "df.time.dt.month_name() # 获取时间对应的月份名字"
   ]
  },
  {
   "cell_type": "code",
   "execution_count": 32,
   "id": "6f313725",
   "metadata": {
    "execution": {
     "iopub.execute_input": "2021-05-22T10:00:04.186430Z",
     "iopub.status.busy": "2021-05-22T10:00:04.186057Z",
     "iopub.status.idle": "2021-05-22T10:00:04.193863Z",
     "shell.execute_reply": "2021-05-22T10:00:04.192909Z",
     "shell.execute_reply.started": "2021-05-22T10:00:04.186404Z"
    }
   },
   "outputs": [
    {
     "data": {
      "text/plain": [
       "0    Wednesday\n",
       "1     Thursday\n",
       "2     Thursday\n",
       "3     Saturday\n",
       "4     Saturday\n",
       "5     Saturday\n",
       "6       Monday\n",
       "Name: time, dtype: object"
      ]
     },
     "execution_count": 32,
     "metadata": {},
     "output_type": "execute_result"
    }
   ],
   "source": [
    "df.time.dt.day_name() # 获取时间对应的周几的名字"
   ]
  },
  {
   "cell_type": "code",
   "execution_count": 29,
   "id": "cb236d12",
   "metadata": {
    "execution": {
     "iopub.execute_input": "2021-05-22T09:58:39.447186Z",
     "iopub.status.busy": "2021-05-22T09:58:39.446839Z",
     "iopub.status.idle": "2021-05-22T09:58:39.455210Z",
     "shell.execute_reply": "2021-05-22T09:58:39.454493Z",
     "shell.execute_reply.started": "2021-05-22T09:58:39.447148Z"
    }
   },
   "outputs": [
    {
     "data": {
      "text/plain": [
       "0   2020-01-01 00:00:00\n",
       "1   2020-01-02 00:00:00\n",
       "2   2020-12-31 00:00:00\n",
       "3   2020-02-01 11:00:00\n",
       "4   2020-02-01 10:00:00\n",
       "5   2020-02-01 20:00:00\n",
       "6   2021-03-01 00:00:00\n",
       "Name: time, dtype: datetime64[ns]"
      ]
     },
     "execution_count": 29,
     "metadata": {},
     "output_type": "execute_result"
    }
   ],
   "source": [
    "df.time.dt.ceil('H') # 类似数学中数字的按某位进行向上取整。参数可调"
   ]
  },
  {
   "cell_type": "code",
   "execution_count": 28,
   "id": "529c5da4",
   "metadata": {
    "execution": {
     "iopub.execute_input": "2021-05-22T09:57:10.023020Z",
     "iopub.status.busy": "2021-05-22T09:57:10.022583Z",
     "iopub.status.idle": "2021-05-22T09:57:10.031247Z",
     "shell.execute_reply": "2021-05-22T09:57:10.030415Z",
     "shell.execute_reply.started": "2021-05-22T09:57:10.022984Z"
    }
   },
   "outputs": [
    {
     "data": {
      "text/plain": [
       "0   2020-01-01 00:00:00\n",
       "1   2020-01-02 00:00:00\n",
       "2   2020-12-31 00:00:00\n",
       "3   2020-02-01 10:00:00\n",
       "4   2020-02-01 09:00:00\n",
       "5   2020-02-01 19:00:00\n",
       "6   2021-03-01 00:00:00\n",
       "Name: time, dtype: datetime64[ns]"
      ]
     },
     "execution_count": 28,
     "metadata": {},
     "output_type": "execute_result"
    }
   ],
   "source": [
    "df.time.dt.floor('H') # 类似数学中数字的按某位进行向下取整。参数可调"
   ]
  },
  {
   "cell_type": "code",
   "execution_count": 27,
   "id": "615a314b",
   "metadata": {
    "execution": {
     "iopub.execute_input": "2021-05-22T09:54:08.694013Z",
     "iopub.status.busy": "2021-05-22T09:54:08.693611Z",
     "iopub.status.idle": "2021-05-22T09:54:08.704728Z",
     "shell.execute_reply": "2021-05-22T09:54:08.703729Z",
     "shell.execute_reply.started": "2021-05-22T09:54:08.693985Z"
    }
   },
   "outputs": [
    {
     "data": {
      "text/plain": [
       "0   2020-01-01 00:00:00\n",
       "1   2020-01-02 00:00:00\n",
       "2   2020-12-31 00:00:00\n",
       "3   2020-02-01 10:00:00\n",
       "4   2020-02-01 10:00:00\n",
       "5   2020-02-01 20:00:00\n",
       "6   2021-03-01 00:00:00\n",
       "Name: time, dtype: datetime64[ns]"
      ]
     },
     "execution_count": 27,
     "metadata": {},
     "output_type": "execute_result"
    }
   ],
   "source": [
    "df.time.dt.round('H') # 类似数学中数字的按某位进行四舍五入，这里对小时进行四舍五入。比如，10：10 回四舍五入到10：00，而19：50会四舍五入到20：00。可以调整参数"
   ]
  },
  {
   "cell_type": "code",
   "execution_count": 24,
   "id": "2afb458d",
   "metadata": {
    "execution": {
     "iopub.execute_input": "2021-05-22T09:51:09.810159Z",
     "iopub.status.busy": "2021-05-22T09:51:09.809831Z",
     "iopub.status.idle": "2021-05-22T09:51:09.818879Z",
     "shell.execute_reply": "2021-05-22T09:51:09.818059Z",
     "shell.execute_reply.started": "2021-05-22T09:51:09.810136Z"
    }
   },
   "outputs": [
    {
     "data": {
      "text/plain": [
       "0     1\n",
       "1     1\n",
       "2    53\n",
       "3     5\n",
       "4     5\n",
       "5     5\n",
       "6     9\n",
       "Name: week, dtype: UInt32"
      ]
     },
     "execution_count": 24,
     "metadata": {},
     "output_type": "execute_result"
    }
   ],
   "source": [
    "df.time.dt.isocalendar().week # 获取日期属于所在年第几周，不推荐的用法;isocalendar().week 是推荐未来的用法"
   ]
  },
  {
   "cell_type": "code",
   "execution_count": 25,
   "id": "e5a6563b",
   "metadata": {
    "execution": {
     "iopub.execute_input": "2021-05-22T09:52:05.596302Z",
     "iopub.status.busy": "2021-05-22T09:52:05.595741Z",
     "iopub.status.idle": "2021-05-22T09:52:05.604650Z",
     "shell.execute_reply": "2021-05-22T09:52:05.603265Z",
     "shell.execute_reply.started": "2021-05-22T09:52:05.596242Z"
    }
   },
   "outputs": [
    {
     "data": {
      "text/plain": [
       "0    2020-01\n",
       "1    2020-01\n",
       "2    2020-12\n",
       "3    2020-02\n",
       "4    2020-02\n",
       "5    2020-02\n",
       "6    2021-03\n",
       "Name: time, dtype: period[M]"
      ]
     },
     "execution_count": 25,
     "metadata": {},
     "output_type": "execute_result"
    }
   ],
   "source": [
    "df.time.dt.to_period('M') # 获取指定频率周期的时间。这里是月份，可以选择其它"
   ]
  },
  {
   "cell_type": "code",
   "execution_count": 26,
   "id": "cc6ed472",
   "metadata": {
    "execution": {
     "iopub.execute_input": "2021-05-22T09:53:19.424769Z",
     "iopub.status.busy": "2021-05-22T09:53:19.424255Z",
     "iopub.status.idle": "2021-05-22T09:53:19.431448Z",
     "shell.execute_reply": "2021-05-22T09:53:19.430633Z",
     "shell.execute_reply.started": "2021-05-22T09:53:19.424724Z"
    }
   },
   "outputs": [
    {
     "data": {
      "text/plain": [
       "array([datetime.datetime(2020, 1, 1, 0, 0),\n",
       "       datetime.datetime(2020, 1, 2, 0, 0),\n",
       "       datetime.datetime(2020, 12, 31, 0, 0),\n",
       "       datetime.datetime(2020, 2, 1, 10, 10),\n",
       "       datetime.datetime(2020, 2, 1, 9, 50),\n",
       "       datetime.datetime(2020, 2, 1, 19, 50),\n",
       "       datetime.datetime(2021, 3, 1, 0, 0)], dtype=object)"
      ]
     },
     "execution_count": 26,
     "metadata": {},
     "output_type": "execute_result"
    }
   ],
   "source": [
    "df.time.dt.to_pydatetime() # 转换成本机python时间对象"
   ]
  }
 ],
 "metadata": {
  "kernelspec": {
   "display_name": "Python 3",
   "language": "python",
   "name": "python3"
  },
  "language_info": {
   "codemirror_mode": {
    "name": "ipython",
    "version": 3
   },
   "file_extension": ".py",
   "mimetype": "text/x-python",
   "name": "python",
   "nbconvert_exporter": "python",
   "pygments_lexer": "ipython3",
   "version": "3.8.8"
  }
 },
 "nbformat": 4,
 "nbformat_minor": 5
}
