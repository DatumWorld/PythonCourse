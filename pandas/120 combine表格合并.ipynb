{
 "cells": [
  {
   "cell_type": "markdown",
   "id": "45a29482",
   "metadata": {
    "execution": {
     "iopub.execute_input": "2021-05-10T07:18:52.990449Z",
     "iopub.status.busy": "2021-05-10T07:18:52.990449Z",
     "iopub.status.idle": "2021-05-10T07:18:52.994464Z",
     "shell.execute_reply": "2021-05-10T07:18:52.993452Z",
     "shell.execute_reply.started": "2021-05-10T07:18:52.990449Z"
    }
   },
   "source": [
    "## 120 combine表格合并"
   ]
  },
  {
   "cell_type": "markdown",
   "id": "620174c7",
   "metadata": {
    "tags": []
   },
   "source": [
    "### combine：表格合并，并相应更新值\n",
    "参数 other, func, fill_value=None, overwrite=True"
   ]
  },
  {
   "cell_type": "code",
   "execution_count": 7,
   "id": "54cd8be4",
   "metadata": {
    "execution": {
     "iopub.execute_input": "2021-08-28T02:07:41.131447Z",
     "iopub.status.busy": "2021-08-28T02:07:41.130449Z",
     "iopub.status.idle": "2021-08-28T02:07:41.135451Z",
     "shell.execute_reply": "2021-08-28T02:07:41.135451Z",
     "shell.execute_reply.started": "2021-08-28T02:07:41.131447Z"
    },
    "tags": []
   },
   "outputs": [],
   "source": [
    "import numpy  as np \n",
    "import pandas as pd\n",
    "df1 = pd.DataFrame({'A': [0, 0], 'B': [4, 4]})\n",
    "df2 = pd.DataFrame({'A': [1, 1], 'B': [3, 3]})\n",
    "take_smaller = lambda s1, s2: s1 if s1.sum() < s2.sum() else s2"
   ]
  },
  {
   "cell_type": "code",
   "execution_count": 9,
   "id": "ae7cdb2e-cdd9-4006-b5a5-dfc2dad91a73",
   "metadata": {
    "execution": {
     "iopub.execute_input": "2021-08-28T02:08:54.948476Z",
     "iopub.status.busy": "2021-08-28T02:08:54.947451Z",
     "iopub.status.idle": "2021-08-28T02:08:54.957475Z",
     "shell.execute_reply": "2021-08-28T02:08:54.957475Z",
     "shell.execute_reply.started": "2021-08-28T02:08:54.948476Z"
    },
    "tags": []
   },
   "outputs": [
    {
     "data": {
      "text/html": [
       "<div>\n",
       "<style scoped>\n",
       "    .dataframe tbody tr th:only-of-type {\n",
       "        vertical-align: middle;\n",
       "    }\n",
       "\n",
       "    .dataframe tbody tr th {\n",
       "        vertical-align: top;\n",
       "    }\n",
       "\n",
       "    .dataframe thead th {\n",
       "        text-align: right;\n",
       "    }\n",
       "</style>\n",
       "<table border=\"1\" class=\"dataframe\">\n",
       "  <thead>\n",
       "    <tr style=\"text-align: right;\">\n",
       "      <th></th>\n",
       "      <th>A</th>\n",
       "      <th>B</th>\n",
       "    </tr>\n",
       "  </thead>\n",
       "  <tbody>\n",
       "    <tr>\n",
       "      <th>0</th>\n",
       "      <td>0</td>\n",
       "      <td>3</td>\n",
       "    </tr>\n",
       "    <tr>\n",
       "      <th>1</th>\n",
       "      <td>0</td>\n",
       "      <td>3</td>\n",
       "    </tr>\n",
       "  </tbody>\n",
       "</table>\n",
       "</div>"
      ],
      "text/plain": [
       "   A  B\n",
       "0  0  3\n",
       "1  0  3"
      ]
     },
     "execution_count": 9,
     "metadata": {},
     "output_type": "execute_result"
    }
   ],
   "source": [
    "df1.combine(df2,take_smaller)"
   ]
  },
  {
   "cell_type": "code",
   "execution_count": 10,
   "id": "c30be7cd-245e-4842-8f71-d7efeb358e28",
   "metadata": {
    "execution": {
     "iopub.execute_input": "2021-08-28T02:09:42.857477Z",
     "iopub.status.busy": "2021-08-28T02:09:42.857477Z",
     "iopub.status.idle": "2021-08-28T02:09:42.868447Z",
     "shell.execute_reply": "2021-08-28T02:09:42.867481Z",
     "shell.execute_reply.started": "2021-08-28T02:09:42.857477Z"
    },
    "tags": []
   },
   "outputs": [
    {
     "data": {
      "text/html": [
       "<div>\n",
       "<style scoped>\n",
       "    .dataframe tbody tr th:only-of-type {\n",
       "        vertical-align: middle;\n",
       "    }\n",
       "\n",
       "    .dataframe tbody tr th {\n",
       "        vertical-align: top;\n",
       "    }\n",
       "\n",
       "    .dataframe thead th {\n",
       "        text-align: right;\n",
       "    }\n",
       "</style>\n",
       "<table border=\"1\" class=\"dataframe\">\n",
       "  <thead>\n",
       "    <tr style=\"text-align: right;\">\n",
       "      <th></th>\n",
       "      <th>A</th>\n",
       "      <th>B</th>\n",
       "    </tr>\n",
       "  </thead>\n",
       "  <tbody>\n",
       "    <tr>\n",
       "      <th>0</th>\n",
       "      <td>0</td>\n",
       "      <td>3</td>\n",
       "    </tr>\n",
       "    <tr>\n",
       "      <th>1</th>\n",
       "      <td>0</td>\n",
       "      <td>3</td>\n",
       "    </tr>\n",
       "  </tbody>\n",
       "</table>\n",
       "</div>"
      ],
      "text/plain": [
       "   A  B\n",
       "0  0  3\n",
       "1  0  3"
      ]
     },
     "execution_count": 10,
     "metadata": {},
     "output_type": "execute_result"
    }
   ],
   "source": [
    "df1.combine(df2,np.minimum)"
   ]
  },
  {
   "cell_type": "code",
   "execution_count": 11,
   "id": "8a4be0ac-755f-4a14-ae38-6fef872b1d5a",
   "metadata": {
    "execution": {
     "iopub.execute_input": "2021-08-28T02:09:53.329445Z",
     "iopub.status.busy": "2021-08-28T02:09:53.329445Z",
     "iopub.status.idle": "2021-08-28T02:09:53.338444Z",
     "shell.execute_reply": "2021-08-28T02:09:53.338444Z",
     "shell.execute_reply.started": "2021-08-28T02:09:53.329445Z"
    },
    "tags": []
   },
   "outputs": [
    {
     "data": {
      "text/html": [
       "<div>\n",
       "<style scoped>\n",
       "    .dataframe tbody tr th:only-of-type {\n",
       "        vertical-align: middle;\n",
       "    }\n",
       "\n",
       "    .dataframe tbody tr th {\n",
       "        vertical-align: top;\n",
       "    }\n",
       "\n",
       "    .dataframe thead th {\n",
       "        text-align: right;\n",
       "    }\n",
       "</style>\n",
       "<table border=\"1\" class=\"dataframe\">\n",
       "  <thead>\n",
       "    <tr style=\"text-align: right;\">\n",
       "      <th></th>\n",
       "      <th>A</th>\n",
       "      <th>B</th>\n",
       "    </tr>\n",
       "  </thead>\n",
       "  <tbody>\n",
       "    <tr>\n",
       "      <th>0</th>\n",
       "      <td>1</td>\n",
       "      <td>4</td>\n",
       "    </tr>\n",
       "    <tr>\n",
       "      <th>1</th>\n",
       "      <td>1</td>\n",
       "      <td>4</td>\n",
       "    </tr>\n",
       "  </tbody>\n",
       "</table>\n",
       "</div>"
      ],
      "text/plain": [
       "   A  B\n",
       "0  1  4\n",
       "1  1  4"
      ]
     },
     "execution_count": 11,
     "metadata": {},
     "output_type": "execute_result"
    }
   ],
   "source": [
    "df1.combine(df2,np.maximum)"
   ]
  },
  {
   "cell_type": "code",
   "execution_count": 21,
   "id": "c21219f6-8c46-414e-bf36-ad4043dc3648",
   "metadata": {
    "execution": {
     "iopub.execute_input": "2021-08-28T02:13:57.218444Z",
     "iopub.status.busy": "2021-08-28T02:13:57.218444Z",
     "iopub.status.idle": "2021-08-28T02:13:57.227444Z",
     "shell.execute_reply": "2021-08-28T02:13:57.226477Z",
     "shell.execute_reply.started": "2021-08-28T02:13:57.218444Z"
    },
    "tags": []
   },
   "outputs": [
    {
     "data": {
      "text/html": [
       "<div>\n",
       "<style scoped>\n",
       "    .dataframe tbody tr th:only-of-type {\n",
       "        vertical-align: middle;\n",
       "    }\n",
       "\n",
       "    .dataframe tbody tr th {\n",
       "        vertical-align: top;\n",
       "    }\n",
       "\n",
       "    .dataframe thead th {\n",
       "        text-align: right;\n",
       "    }\n",
       "</style>\n",
       "<table border=\"1\" class=\"dataframe\">\n",
       "  <thead>\n",
       "    <tr style=\"text-align: right;\">\n",
       "      <th></th>\n",
       "      <th>A</th>\n",
       "      <th>B</th>\n",
       "    </tr>\n",
       "  </thead>\n",
       "  <tbody>\n",
       "    <tr>\n",
       "      <th>0</th>\n",
       "      <td>1</td>\n",
       "      <td>11</td>\n",
       "    </tr>\n",
       "    <tr>\n",
       "      <th>1</th>\n",
       "      <td>1</td>\n",
       "      <td>11</td>\n",
       "    </tr>\n",
       "  </tbody>\n",
       "</table>\n",
       "</div>"
      ],
      "text/plain": [
       "   A   B\n",
       "0  1  11\n",
       "1  1  11"
      ]
     },
     "execution_count": 21,
     "metadata": {},
     "output_type": "execute_result"
    }
   ],
   "source": [
    "df1.combine(df2,sum)"
   ]
  },
  {
   "cell_type": "code",
   "execution_count": null,
   "id": "dbdab2cd-5b6a-4617-8b48-bb42f8cfa709",
   "metadata": {},
   "outputs": [],
   "source": [
    "df1.combine(df2,sum)"
   ]
  }
 ],
 "metadata": {
  "kernelspec": {
   "display_name": "Python 3 (ipykernel)",
   "language": "python",
   "name": "python3"
  },
  "language_info": {
   "codemirror_mode": {
    "name": "ipython",
    "version": 3
   },
   "file_extension": ".py",
   "mimetype": "text/x-python",
   "name": "python",
   "nbconvert_exporter": "python",
   "pygments_lexer": "ipython3",
   "version": "3.8.11"
  }
 },
 "nbformat": 4,
 "nbformat_minor": 5
}
