{
 "cells": [
  {
   "cell_type": "markdown",
   "id": "e87c3210",
   "metadata": {
    "execution": {
     "iopub.execute_input": "2021-05-10T07:18:52.990449Z",
     "iopub.status.busy": "2021-05-10T07:18:52.990449Z",
     "iopub.status.idle": "2021-05-10T07:18:52.994464Z",
     "shell.execute_reply": "2021-05-10T07:18:52.993452Z",
     "shell.execute_reply.started": "2021-05-10T07:18:52.990449Z"
    }
   },
   "source": [
    "## 126 transform表格计算"
   ]
  },
  {
   "cell_type": "markdown",
   "id": "a3f2b798",
   "metadata": {
    "tags": []
   },
   "source": [
    "###  transform：根据表格和函数计算产生结果表\n",
    "参数 func, axis=0, *args, **kwargs"
   ]
  },
  {
   "cell_type": "code",
   "execution_count": 1,
   "id": "35348c42",
   "metadata": {
    "execution": {
     "iopub.execute_input": "2021-08-29T11:25:08.977236Z",
     "iopub.status.busy": "2021-08-29T11:25:08.976849Z",
     "iopub.status.idle": "2021-08-29T11:25:09.247948Z",
     "shell.execute_reply": "2021-08-29T11:25:09.246960Z",
     "shell.execute_reply.started": "2021-08-29T11:25:08.977175Z"
    },
    "tags": []
   },
   "outputs": [],
   "source": [
    "import numpy  as np\n",
    "import pandas as pd\n",
    "df = pd.DataFrame({'A': range(3), 'B': range(1, 4)})"
   ]
  },
  {
   "cell_type": "code",
   "execution_count": 2,
   "id": "a5ef99df",
   "metadata": {
    "execution": {
     "iopub.execute_input": "2021-08-29T11:25:09.249444Z",
     "iopub.status.busy": "2021-08-29T11:25:09.249199Z",
     "iopub.status.idle": "2021-08-29T11:25:09.262233Z",
     "shell.execute_reply": "2021-08-29T11:25:09.261381Z",
     "shell.execute_reply.started": "2021-08-29T11:25:09.249411Z"
    }
   },
   "outputs": [
    {
     "data": {
      "text/html": [
       "<div>\n",
       "<style scoped>\n",
       "    .dataframe tbody tr th:only-of-type {\n",
       "        vertical-align: middle;\n",
       "    }\n",
       "\n",
       "    .dataframe tbody tr th {\n",
       "        vertical-align: top;\n",
       "    }\n",
       "\n",
       "    .dataframe thead th {\n",
       "        text-align: right;\n",
       "    }\n",
       "</style>\n",
       "<table border=\"1\" class=\"dataframe\">\n",
       "  <thead>\n",
       "    <tr style=\"text-align: right;\">\n",
       "      <th></th>\n",
       "      <th>A</th>\n",
       "      <th>B</th>\n",
       "    </tr>\n",
       "  </thead>\n",
       "  <tbody>\n",
       "    <tr>\n",
       "      <th>0</th>\n",
       "      <td>0</td>\n",
       "      <td>1</td>\n",
       "    </tr>\n",
       "    <tr>\n",
       "      <th>1</th>\n",
       "      <td>1</td>\n",
       "      <td>2</td>\n",
       "    </tr>\n",
       "    <tr>\n",
       "      <th>2</th>\n",
       "      <td>2</td>\n",
       "      <td>3</td>\n",
       "    </tr>\n",
       "  </tbody>\n",
       "</table>\n",
       "</div>"
      ],
      "text/plain": [
       "   A  B\n",
       "0  0  1\n",
       "1  1  2\n",
       "2  2  3"
      ]
     },
     "execution_count": 2,
     "metadata": {},
     "output_type": "execute_result"
    }
   ],
   "source": [
    "df"
   ]
  },
  {
   "cell_type": "code",
   "execution_count": 6,
   "id": "ce7de778",
   "metadata": {
    "execution": {
     "iopub.execute_input": "2021-08-29T11:30:16.293750Z",
     "iopub.status.busy": "2021-08-29T11:30:16.293364Z",
     "iopub.status.idle": "2021-08-29T11:30:16.312795Z",
     "shell.execute_reply": "2021-08-29T11:30:16.311854Z",
     "shell.execute_reply.started": "2021-08-29T11:30:16.293723Z"
    }
   },
   "outputs": [
    {
     "data": {
      "text/html": [
       "<div>\n",
       "<style scoped>\n",
       "    .dataframe tbody tr th:only-of-type {\n",
       "        vertical-align: middle;\n",
       "    }\n",
       "\n",
       "    .dataframe tbody tr th {\n",
       "        vertical-align: top;\n",
       "    }\n",
       "\n",
       "    .dataframe thead th {\n",
       "        text-align: right;\n",
       "    }\n",
       "</style>\n",
       "<table border=\"1\" class=\"dataframe\">\n",
       "  <thead>\n",
       "    <tr style=\"text-align: right;\">\n",
       "      <th></th>\n",
       "      <th></th>\n",
       "      <th>A</th>\n",
       "      <th>B</th>\n",
       "    </tr>\n",
       "  </thead>\n",
       "  <tbody>\n",
       "    <tr>\n",
       "      <th rowspan=\"2\" valign=\"top\">0</th>\n",
       "      <th>exp</th>\n",
       "      <td>1.000000</td>\n",
       "      <td>2.718282</td>\n",
       "    </tr>\n",
       "    <tr>\n",
       "      <th>sqrt</th>\n",
       "      <td>0.000000</td>\n",
       "      <td>1.000000</td>\n",
       "    </tr>\n",
       "    <tr>\n",
       "      <th rowspan=\"2\" valign=\"top\">1</th>\n",
       "      <th>exp</th>\n",
       "      <td>2.718282</td>\n",
       "      <td>7.389056</td>\n",
       "    </tr>\n",
       "    <tr>\n",
       "      <th>sqrt</th>\n",
       "      <td>1.000000</td>\n",
       "      <td>1.414214</td>\n",
       "    </tr>\n",
       "    <tr>\n",
       "      <th rowspan=\"2\" valign=\"top\">2</th>\n",
       "      <th>exp</th>\n",
       "      <td>7.389056</td>\n",
       "      <td>20.085537</td>\n",
       "    </tr>\n",
       "    <tr>\n",
       "      <th>sqrt</th>\n",
       "      <td>1.414214</td>\n",
       "      <td>1.732051</td>\n",
       "    </tr>\n",
       "  </tbody>\n",
       "</table>\n",
       "</div>"
      ],
      "text/plain": [
       "               A          B\n",
       "0 exp   1.000000   2.718282\n",
       "  sqrt  0.000000   1.000000\n",
       "1 exp   2.718282   7.389056\n",
       "  sqrt  1.000000   1.414214\n",
       "2 exp   7.389056  20.085537\n",
       "  sqrt  1.414214   1.732051"
      ]
     },
     "execution_count": 6,
     "metadata": {},
     "output_type": "execute_result"
    }
   ],
   "source": [
    "df.transform(func=[np.exp,np.sqrt],axis=1) # axis 结果的展示排版方式"
   ]
  },
  {
   "cell_type": "code",
   "execution_count": 5,
   "id": "c0997f12",
   "metadata": {
    "execution": {
     "iopub.execute_input": "2021-08-29T11:29:03.283523Z",
     "iopub.status.busy": "2021-08-29T11:29:03.283072Z",
     "iopub.status.idle": "2021-08-29T11:29:03.306343Z",
     "shell.execute_reply": "2021-08-29T11:29:03.305717Z",
     "shell.execute_reply.started": "2021-08-29T11:29:03.283472Z"
    }
   },
   "outputs": [
    {
     "data": {
      "text/html": [
       "<div>\n",
       "<style scoped>\n",
       "    .dataframe tbody tr th:only-of-type {\n",
       "        vertical-align: middle;\n",
       "    }\n",
       "\n",
       "    .dataframe tbody tr th {\n",
       "        vertical-align: top;\n",
       "    }\n",
       "\n",
       "    .dataframe thead tr th {\n",
       "        text-align: left;\n",
       "    }\n",
       "</style>\n",
       "<table border=\"1\" class=\"dataframe\">\n",
       "  <thead>\n",
       "    <tr>\n",
       "      <th></th>\n",
       "      <th colspan=\"2\" halign=\"left\">A</th>\n",
       "      <th colspan=\"2\" halign=\"left\">B</th>\n",
       "    </tr>\n",
       "    <tr>\n",
       "      <th></th>\n",
       "      <th>exp</th>\n",
       "      <th>sqrt</th>\n",
       "      <th>exp</th>\n",
       "      <th>sqrt</th>\n",
       "    </tr>\n",
       "  </thead>\n",
       "  <tbody>\n",
       "    <tr>\n",
       "      <th>0</th>\n",
       "      <td>1.000000</td>\n",
       "      <td>0.000000</td>\n",
       "      <td>2.718282</td>\n",
       "      <td>1.000000</td>\n",
       "    </tr>\n",
       "    <tr>\n",
       "      <th>1</th>\n",
       "      <td>2.718282</td>\n",
       "      <td>1.000000</td>\n",
       "      <td>7.389056</td>\n",
       "      <td>1.414214</td>\n",
       "    </tr>\n",
       "    <tr>\n",
       "      <th>2</th>\n",
       "      <td>7.389056</td>\n",
       "      <td>1.414214</td>\n",
       "      <td>20.085537</td>\n",
       "      <td>1.732051</td>\n",
       "    </tr>\n",
       "  </tbody>\n",
       "</table>\n",
       "</div>"
      ],
      "text/plain": [
       "          A                    B          \n",
       "        exp      sqrt        exp      sqrt\n",
       "0  1.000000  0.000000   2.718282  1.000000\n",
       "1  2.718282  1.000000   7.389056  1.414214\n",
       "2  7.389056  1.414214  20.085537  1.732051"
      ]
     },
     "execution_count": 5,
     "metadata": {},
     "output_type": "execute_result"
    }
   ],
   "source": [
    "df.transform(func=[np.exp,np.sqrt]) # func 以是符合要求的多个函数"
   ]
  },
  {
   "cell_type": "code",
   "execution_count": 3,
   "id": "9fb17c47",
   "metadata": {
    "execution": {
     "iopub.execute_input": "2021-08-29T11:26:12.136627Z",
     "iopub.status.busy": "2021-08-29T11:26:12.135952Z",
     "iopub.status.idle": "2021-08-29T11:26:12.156571Z",
     "shell.execute_reply": "2021-08-29T11:26:12.155195Z",
     "shell.execute_reply.started": "2021-08-29T11:26:12.136584Z"
    }
   },
   "outputs": [
    {
     "data": {
      "text/html": [
       "<div>\n",
       "<style scoped>\n",
       "    .dataframe tbody tr th:only-of-type {\n",
       "        vertical-align: middle;\n",
       "    }\n",
       "\n",
       "    .dataframe tbody tr th {\n",
       "        vertical-align: top;\n",
       "    }\n",
       "\n",
       "    .dataframe thead th {\n",
       "        text-align: right;\n",
       "    }\n",
       "</style>\n",
       "<table border=\"1\" class=\"dataframe\">\n",
       "  <thead>\n",
       "    <tr style=\"text-align: right;\">\n",
       "      <th></th>\n",
       "      <th>A</th>\n",
       "      <th>B</th>\n",
       "    </tr>\n",
       "  </thead>\n",
       "  <tbody>\n",
       "    <tr>\n",
       "      <th>0</th>\n",
       "      <td>8</td>\n",
       "      <td>9</td>\n",
       "    </tr>\n",
       "    <tr>\n",
       "      <th>1</th>\n",
       "      <td>9</td>\n",
       "      <td>10</td>\n",
       "    </tr>\n",
       "    <tr>\n",
       "      <th>2</th>\n",
       "      <td>10</td>\n",
       "      <td>11</td>\n",
       "    </tr>\n",
       "  </tbody>\n",
       "</table>\n",
       "</div>"
      ],
      "text/plain": [
       "    A   B\n",
       "0   8   9\n",
       "1   9  10\n",
       "2  10  11"
      ]
     },
     "execution_count": 3,
     "metadata": {},
     "output_type": "execute_result"
    }
   ],
   "source": [
    "df.transform(lambda x: x+8) # 将每个元素+8，返回结果表"
   ]
  },
  {
   "cell_type": "code",
   "execution_count": 4,
   "id": "0b920e81",
   "metadata": {
    "execution": {
     "iopub.execute_input": "2021-08-29T11:27:22.494916Z",
     "iopub.status.busy": "2021-08-29T11:27:22.494530Z",
     "iopub.status.idle": "2021-08-29T11:27:22.507688Z",
     "shell.execute_reply": "2021-08-29T11:27:22.506513Z",
     "shell.execute_reply.started": "2021-08-29T11:27:22.494877Z"
    }
   },
   "outputs": [
    {
     "data": {
      "text/html": [
       "<div>\n",
       "<style scoped>\n",
       "    .dataframe tbody tr th:only-of-type {\n",
       "        vertical-align: middle;\n",
       "    }\n",
       "\n",
       "    .dataframe tbody tr th {\n",
       "        vertical-align: top;\n",
       "    }\n",
       "\n",
       "    .dataframe thead th {\n",
       "        text-align: right;\n",
       "    }\n",
       "</style>\n",
       "<table border=\"1\" class=\"dataframe\">\n",
       "  <thead>\n",
       "    <tr style=\"text-align: right;\">\n",
       "      <th></th>\n",
       "      <th>A</th>\n",
       "      <th>B</th>\n",
       "    </tr>\n",
       "  </thead>\n",
       "  <tbody>\n",
       "    <tr>\n",
       "      <th>0</th>\n",
       "      <td>1.000000</td>\n",
       "      <td>2.718282</td>\n",
       "    </tr>\n",
       "    <tr>\n",
       "      <th>1</th>\n",
       "      <td>2.718282</td>\n",
       "      <td>7.389056</td>\n",
       "    </tr>\n",
       "    <tr>\n",
       "      <th>2</th>\n",
       "      <td>7.389056</td>\n",
       "      <td>20.085537</td>\n",
       "    </tr>\n",
       "  </tbody>\n",
       "</table>\n",
       "</div>"
      ],
      "text/plain": [
       "          A          B\n",
       "0  1.000000   2.718282\n",
       "1  2.718282   7.389056\n",
       "2  7.389056  20.085537"
      ]
     },
     "execution_count": 4,
     "metadata": {},
     "output_type": "execute_result"
    }
   ],
   "source": [
    "df.transform(func=np.exp) # 可以是符合要求的函数"
   ]
  },
  {
   "cell_type": "code",
   "execution_count": 7,
   "id": "e1d77939",
   "metadata": {
    "execution": {
     "iopub.execute_input": "2021-08-29T11:32:28.640876Z",
     "iopub.status.busy": "2021-08-29T11:32:28.640509Z",
     "iopub.status.idle": "2021-08-29T11:32:28.653982Z",
     "shell.execute_reply": "2021-08-29T11:32:28.653212Z",
     "shell.execute_reply.started": "2021-08-29T11:32:28.640833Z"
    }
   },
   "outputs": [
    {
     "data": {
      "text/html": [
       "<div>\n",
       "<style scoped>\n",
       "    .dataframe tbody tr th:only-of-type {\n",
       "        vertical-align: middle;\n",
       "    }\n",
       "\n",
       "    .dataframe tbody tr th {\n",
       "        vertical-align: top;\n",
       "    }\n",
       "\n",
       "    .dataframe thead th {\n",
       "        text-align: right;\n",
       "    }\n",
       "</style>\n",
       "<table border=\"1\" class=\"dataframe\">\n",
       "  <thead>\n",
       "    <tr style=\"text-align: right;\">\n",
       "      <th></th>\n",
       "      <th>A</th>\n",
       "      <th>B</th>\n",
       "    </tr>\n",
       "  </thead>\n",
       "  <tbody>\n",
       "    <tr>\n",
       "      <th>0</th>\n",
       "      <td>0.000000</td>\n",
       "      <td>2.718282</td>\n",
       "    </tr>\n",
       "    <tr>\n",
       "      <th>1</th>\n",
       "      <td>1.000000</td>\n",
       "      <td>7.389056</td>\n",
       "    </tr>\n",
       "    <tr>\n",
       "      <th>2</th>\n",
       "      <td>1.414214</td>\n",
       "      <td>20.085537</td>\n",
       "    </tr>\n",
       "  </tbody>\n",
       "</table>\n",
       "</div>"
      ],
      "text/plain": [
       "          A          B\n",
       "0  0.000000   2.718282\n",
       "1  1.000000   7.389056\n",
       "2  1.414214  20.085537"
      ]
     },
     "execution_count": 7,
     "metadata": {},
     "output_type": "execute_result"
    }
   ],
   "source": [
    "df.transform(func={'A':np.sqrt,'B':np.exp}) # 可以使用字典dict 指定每列的计算函数"
   ]
  },
  {
   "cell_type": "code",
   "execution_count": 8,
   "id": "b45cf7b0",
   "metadata": {
    "execution": {
     "iopub.execute_input": "2021-08-29T11:33:33.893963Z",
     "iopub.status.busy": "2021-08-29T11:33:33.893478Z",
     "iopub.status.idle": "2021-08-29T11:33:33.905772Z",
     "shell.execute_reply": "2021-08-29T11:33:33.905069Z",
     "shell.execute_reply.started": "2021-08-29T11:33:33.893917Z"
    }
   },
   "outputs": [
    {
     "data": {
      "text/html": [
       "<div>\n",
       "<style scoped>\n",
       "    .dataframe tbody tr th:only-of-type {\n",
       "        vertical-align: middle;\n",
       "    }\n",
       "\n",
       "    .dataframe tbody tr th {\n",
       "        vertical-align: top;\n",
       "    }\n",
       "\n",
       "    .dataframe thead th {\n",
       "        text-align: right;\n",
       "    }\n",
       "</style>\n",
       "<table border=\"1\" class=\"dataframe\">\n",
       "  <thead>\n",
       "    <tr style=\"text-align: right;\">\n",
       "      <th></th>\n",
       "      <th>A</th>\n",
       "    </tr>\n",
       "  </thead>\n",
       "  <tbody>\n",
       "    <tr>\n",
       "      <th>0</th>\n",
       "      <td>0.000000</td>\n",
       "    </tr>\n",
       "    <tr>\n",
       "      <th>1</th>\n",
       "      <td>1.000000</td>\n",
       "    </tr>\n",
       "    <tr>\n",
       "      <th>2</th>\n",
       "      <td>1.414214</td>\n",
       "    </tr>\n",
       "  </tbody>\n",
       "</table>\n",
       "</div>"
      ],
      "text/plain": [
       "          A\n",
       "0  0.000000\n",
       "1  1.000000\n",
       "2  1.414214"
      ]
     },
     "execution_count": 8,
     "metadata": {},
     "output_type": "execute_result"
    }
   ],
   "source": [
    "df.transform(func={'A':np.sqrt,}) # 可以使用字典dict 指定每列的计算函数"
   ]
  }
 ],
 "metadata": {
  "kernelspec": {
   "display_name": "Python 3",
   "language": "python",
   "name": "python3"
  },
  "language_info": {
   "codemirror_mode": {
    "name": "ipython",
    "version": 3
   },
   "file_extension": ".py",
   "mimetype": "text/x-python",
   "name": "python",
   "nbconvert_exporter": "python",
   "pygments_lexer": "ipython3",
   "version": "3.8.8"
  }
 },
 "nbformat": 4,
 "nbformat_minor": 5
}
