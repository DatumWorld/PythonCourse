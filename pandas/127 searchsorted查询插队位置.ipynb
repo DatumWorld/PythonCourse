{
 "cells": [
  {
   "cell_type": "markdown",
   "id": "differential-stereo",
   "metadata": {
    "execution": {
     "iopub.execute_input": "2021-05-10T07:18:52.990449Z",
     "iopub.status.busy": "2021-05-10T07:18:52.990449Z",
     "iopub.status.idle": "2021-05-10T07:18:52.994464Z",
     "shell.execute_reply": "2021-05-10T07:18:52.993452Z",
     "shell.execute_reply.started": "2021-05-10T07:18:52.990449Z"
    }
   },
   "source": [
    "## 127 searchsorted查询插队位置"
   ]
  },
  {
   "cell_type": "markdown",
   "id": "rubber-boundary",
   "metadata": {
    "tags": []
   },
   "source": [
    "### searchsorted：查询插队位置。“队列”数据尽可能单调，否则结果可能错误\n",
    "参数 value, side={‘left’, ‘right’}, sorter=None"
   ]
  },
  {
   "cell_type": "code",
   "execution_count": 2,
   "id": "statistical-mailing",
   "metadata": {
    "execution": {
     "iopub.execute_input": "2021-08-29T11:58:16.693904Z",
     "iopub.status.busy": "2021-08-29T11:58:16.693406Z",
     "iopub.status.idle": "2021-08-29T11:58:16.701273Z",
     "shell.execute_reply": "2021-08-29T11:58:16.700082Z",
     "shell.execute_reply.started": "2021-08-29T11:58:16.693863Z"
    },
    "tags": []
   },
   "outputs": [],
   "source": [
    "import numpy  as np\n",
    "import pandas as pd\n",
    "ser = pd.Series([1, 2, 3])\n",
    "ser1 = pd.Series(pd.to_datetime(['3/11/2000', '3/12/2000', '3/13/2000']))\n",
    "ser2 = pd.Categorical(\n",
    "    ['apple', 'bread', 'bread', 'cheese', 'milk'], ordered=True\n",
    ")"
   ]
  },
  {
   "cell_type": "code",
   "execution_count": 3,
   "id": "massive-classics",
   "metadata": {
    "execution": {
     "iopub.execute_input": "2021-08-29T11:58:48.304354Z",
     "iopub.status.busy": "2021-08-29T11:58:48.303835Z",
     "iopub.status.idle": "2021-08-29T11:58:48.319410Z",
     "shell.execute_reply": "2021-08-29T11:58:48.318808Z",
     "shell.execute_reply.started": "2021-08-29T11:58:48.304300Z"
    }
   },
   "outputs": [
    {
     "data": {
      "text/plain": [
       "0    1\n",
       "1    2\n",
       "2    3\n",
       "dtype: int64"
      ]
     },
     "execution_count": 3,
     "metadata": {},
     "output_type": "execute_result"
    }
   ],
   "source": [
    "ser"
   ]
  },
  {
   "cell_type": "code",
   "execution_count": 5,
   "id": "important-control",
   "metadata": {
    "execution": {
     "iopub.execute_input": "2021-08-29T12:00:22.171329Z",
     "iopub.status.busy": "2021-08-29T12:00:22.170811Z",
     "iopub.status.idle": "2021-08-29T12:00:22.178644Z",
     "shell.execute_reply": "2021-08-29T12:00:22.177791Z",
     "shell.execute_reply.started": "2021-08-29T12:00:22.171272Z"
    }
   },
   "outputs": [
    {
     "data": {
      "text/plain": [
       "0"
      ]
     },
     "execution_count": 5,
     "metadata": {},
     "output_type": "execute_result"
    }
   ],
   "source": [
    "ser.searchsorted(value=1) # 返回1 的插队位置"
   ]
  },
  {
   "cell_type": "code",
   "execution_count": 8,
   "id": "magnetic-dictionary",
   "metadata": {
    "execution": {
     "iopub.execute_input": "2021-08-29T12:01:46.239719Z",
     "iopub.status.busy": "2021-08-29T12:01:46.239168Z",
     "iopub.status.idle": "2021-08-29T12:01:46.246413Z",
     "shell.execute_reply": "2021-08-29T12:01:46.245310Z",
     "shell.execute_reply.started": "2021-08-29T12:01:46.239664Z"
    }
   },
   "outputs": [
    {
     "data": {
      "text/plain": [
       "array([0, 0, 2, 3])"
      ]
     },
     "execution_count": 8,
     "metadata": {},
     "output_type": "execute_result"
    }
   ],
   "source": [
    "ser.searchsorted(value=[1,0,3,4]) # 返回多个数字 的插队位置，不在队列中的范围的 返回边界值 0 或者 对列长度"
   ]
  },
  {
   "cell_type": "code",
   "execution_count": 10,
   "id": "distinguished-hypothesis",
   "metadata": {
    "execution": {
     "iopub.execute_input": "2021-08-29T12:03:13.328975Z",
     "iopub.status.busy": "2021-08-29T12:03:13.328512Z",
     "iopub.status.idle": "2021-08-29T12:03:13.336449Z",
     "shell.execute_reply": "2021-08-29T12:03:13.335041Z",
     "shell.execute_reply.started": "2021-08-29T12:03:13.328936Z"
    }
   },
   "outputs": [
    {
     "data": {
      "text/plain": [
       "array([1, 0, 3, 3])"
      ]
     },
     "execution_count": 10,
     "metadata": {},
     "output_type": "execute_result"
    }
   ],
   "source": [
    "ser.searchsorted(value=[1,0,3,4],side='right') # side 插队位置的 左侧索引 或者 右侧索引"
   ]
  },
  {
   "cell_type": "code",
   "execution_count": 11,
   "id": "surprised-utilization",
   "metadata": {
    "execution": {
     "iopub.execute_input": "2021-08-29T12:05:06.437656Z",
     "iopub.status.busy": "2021-08-29T12:05:06.437234Z",
     "iopub.status.idle": "2021-08-29T12:05:06.443529Z",
     "shell.execute_reply": "2021-08-29T12:05:06.442413Z",
     "shell.execute_reply.started": "2021-08-29T12:05:06.437619Z"
    }
   },
   "outputs": [
    {
     "data": {
      "text/plain": [
       "1"
      ]
     },
     "execution_count": 11,
     "metadata": {},
     "output_type": "execute_result"
    }
   ],
   "source": [
    "ser1.searchsorted('3/12/2000') # 用在时间数据上"
   ]
  },
  {
   "cell_type": "code",
   "execution_count": 14,
   "id": "final-bunny",
   "metadata": {
    "execution": {
     "iopub.execute_input": "2021-08-29T12:06:19.257502Z",
     "iopub.status.busy": "2021-08-29T12:06:19.257167Z",
     "iopub.status.idle": "2021-08-29T12:06:19.264627Z",
     "shell.execute_reply": "2021-08-29T12:06:19.263643Z",
     "shell.execute_reply.started": "2021-08-29T12:06:19.257462Z"
    }
   },
   "outputs": [
    {
     "data": {
      "text/plain": [
       "['apple', 'bread', 'bread', 'cheese', 'milk']\n",
       "Categories (4, object): ['apple' < 'bread' < 'cheese' < 'milk']"
      ]
     },
     "execution_count": 14,
     "metadata": {},
     "output_type": "execute_result"
    }
   ],
   "source": [
    "ser2"
   ]
  },
  {
   "cell_type": "code",
   "execution_count": 13,
   "id": "weekly-excuse",
   "metadata": {
    "execution": {
     "iopub.execute_input": "2021-08-29T12:06:08.126958Z",
     "iopub.status.busy": "2021-08-29T12:06:08.126678Z",
     "iopub.status.idle": "2021-08-29T12:06:08.131873Z",
     "shell.execute_reply": "2021-08-29T12:06:08.131103Z",
     "shell.execute_reply.started": "2021-08-29T12:06:08.126926Z"
    }
   },
   "outputs": [
    {
     "data": {
      "text/plain": [
       "1"
      ]
     },
     "execution_count": 13,
     "metadata": {},
     "output_type": "execute_result"
    }
   ],
   "source": [
    "ser2.searchsorted('bread') # 使用在 分类数据上面"
   ]
  },
  {
   "cell_type": "code",
   "execution_count": 15,
   "id": "advanced-footage",
   "metadata": {
    "execution": {
     "iopub.execute_input": "2021-08-29T12:06:51.922681Z",
     "iopub.status.busy": "2021-08-29T12:06:51.922230Z",
     "iopub.status.idle": "2021-08-29T12:06:51.929092Z",
     "shell.execute_reply": "2021-08-29T12:06:51.928060Z",
     "shell.execute_reply.started": "2021-08-29T12:06:51.922645Z"
    }
   },
   "outputs": [
    {
     "data": {
      "text/plain": [
       "3"
      ]
     },
     "execution_count": 15,
     "metadata": {},
     "output_type": "execute_result"
    }
   ],
   "source": [
    "ser2.searchsorted('bread',side='right') # 使用在 分类数据上面"
   ]
  },
  {
   "cell_type": "code",
   "execution_count": 19,
   "id": "durable-throw",
   "metadata": {
    "execution": {
     "iopub.execute_input": "2021-08-29T12:08:23.699480Z",
     "iopub.status.busy": "2021-08-29T12:08:23.699115Z",
     "iopub.status.idle": "2021-08-29T12:08:23.704938Z",
     "shell.execute_reply": "2021-08-29T12:08:23.703984Z",
     "shell.execute_reply.started": "2021-08-29T12:08:23.699454Z"
    }
   },
   "outputs": [
    {
     "data": {
      "text/plain": [
       "1"
      ]
     },
     "execution_count": 19,
     "metadata": {},
     "output_type": "execute_result"
    }
   ],
   "source": [
    "pd.Series([1, 2, 3,1]).searchsorted(1,side='right')"
   ]
  },
  {
   "cell_type": "code",
   "execution_count": 21,
   "id": "developed-transport",
   "metadata": {
    "execution": {
     "iopub.execute_input": "2021-08-29T12:09:18.758627Z",
     "iopub.status.busy": "2021-08-29T12:09:18.758066Z",
     "iopub.status.idle": "2021-08-29T12:09:18.768912Z",
     "shell.execute_reply": "2021-08-29T12:09:18.768004Z",
     "shell.execute_reply.started": "2021-08-29T12:09:18.758578Z"
    }
   },
   "outputs": [
    {
     "data": {
      "text/plain": [
       "0    1\n",
       "1    3\n",
       "2    2\n",
       "3    1\n",
       "dtype: int64"
      ]
     },
     "execution_count": 21,
     "metadata": {},
     "output_type": "execute_result"
    }
   ],
   "source": [
    "pd.Series([1, 3, 2,1])"
   ]
  },
  {
   "cell_type": "code",
   "execution_count": 22,
   "id": "digital-joyce",
   "metadata": {
    "execution": {
     "iopub.execute_input": "2021-08-29T12:09:33.498154Z",
     "iopub.status.busy": "2021-08-29T12:09:33.497481Z",
     "iopub.status.idle": "2021-08-29T12:09:33.504366Z",
     "shell.execute_reply": "2021-08-29T12:09:33.503640Z",
     "shell.execute_reply.started": "2021-08-29T12:09:33.498089Z"
    }
   },
   "outputs": [
    {
     "data": {
      "text/plain": [
       "4"
      ]
     },
     "execution_count": 22,
     "metadata": {},
     "output_type": "execute_result"
    }
   ],
   "source": [
    "pd.Series([1, 3, 2,1]).searchsorted(3,side='left') # 强调必须有序，否则可能不是正确的插队位置"
   ]
  },
  {
   "cell_type": "code",
   "execution_count": 29,
   "id": "loaded-reliance",
   "metadata": {
    "execution": {
     "iopub.execute_input": "2021-08-29T12:19:25.380151Z",
     "iopub.status.busy": "2021-08-29T12:19:25.379675Z",
     "iopub.status.idle": "2021-08-29T12:19:25.387687Z",
     "shell.execute_reply": "2021-08-29T12:19:25.386448Z",
     "shell.execute_reply.started": "2021-08-29T12:19:25.380107Z"
    }
   },
   "outputs": [
    {
     "data": {
      "text/plain": [
       "2"
      ]
     },
     "execution_count": 29,
     "metadata": {},
     "output_type": "execute_result"
    }
   ],
   "source": [
    "pd.Series([1, 3,5]).searchsorted(4,side='left') # 不重复的"
   ]
  },
  {
   "cell_type": "code",
   "execution_count": 30,
   "id": "flexible-island",
   "metadata": {
    "execution": {
     "iopub.execute_input": "2021-08-29T12:19:47.648572Z",
     "iopub.status.busy": "2021-08-29T12:19:47.648016Z",
     "iopub.status.idle": "2021-08-29T12:19:47.656886Z",
     "shell.execute_reply": "2021-08-29T12:19:47.656303Z",
     "shell.execute_reply.started": "2021-08-29T12:19:47.648520Z"
    }
   },
   "outputs": [
    {
     "data": {
      "text/plain": [
       "2"
      ]
     },
     "execution_count": 30,
     "metadata": {},
     "output_type": "execute_result"
    }
   ],
   "source": [
    "pd.Series([1, 3,5]).searchsorted(4,side='right')"
   ]
  }
 ],
 "metadata": {
  "kernelspec": {
   "display_name": "Python 3",
   "language": "python",
   "name": "python3"
  },
  "language_info": {
   "codemirror_mode": {
    "name": "ipython",
    "version": 3
   },
   "file_extension": ".py",
   "mimetype": "text/x-python",
   "name": "python",
   "nbconvert_exporter": "python",
   "pygments_lexer": "ipython3",
   "version": "3.6.8"
  }
 },
 "nbformat": 4,
 "nbformat_minor": 5
}
