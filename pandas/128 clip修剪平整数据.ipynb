{
 "cells": [
  {
   "cell_type": "markdown",
   "id": "c0c09dba",
   "metadata": {
    "execution": {
     "iopub.execute_input": "2021-05-10T07:18:52.990449Z",
     "iopub.status.busy": "2021-05-10T07:18:52.990449Z",
     "iopub.status.idle": "2021-05-10T07:18:52.994464Z",
     "shell.execute_reply": "2021-05-10T07:18:52.993452Z",
     "shell.execute_reply.started": "2021-05-10T07:18:52.990449Z"
    }
   },
   "source": [
    "## 128 clip修剪平整数据"
   ]
  },
  {
   "cell_type": "markdown",
   "id": "f8eac7fd",
   "metadata": {
    "tags": []
   },
   "source": [
    "### clip：修剪平整数据，将超过界限的数据修改成界限\n",
    "参数 lower=None, upper=None, axis=None, inplace=False, *args, **kwargs"
   ]
  },
  {
   "cell_type": "code",
   "execution_count": 1,
   "id": "bd6890d9",
   "metadata": {
    "execution": {
     "iopub.execute_input": "2021-08-29T13:57:12.332196Z",
     "iopub.status.busy": "2021-08-29T13:57:12.331798Z",
     "iopub.status.idle": "2021-08-29T13:57:12.596818Z",
     "shell.execute_reply": "2021-08-29T13:57:12.595852Z",
     "shell.execute_reply.started": "2021-08-29T13:57:12.332129Z"
    },
    "tags": []
   },
   "outputs": [],
   "source": [
    "import numpy  as np\n",
    "import pandas as pd\n",
    "data = {'col_0': [9, -3, 0, -1, 5], 'col_1': [-2, -7, 6, 8, -5]}\n",
    "df = pd.DataFrame(data)\n",
    "tmp=pd.Series([-1,0,1,np.nan,3])"
   ]
  },
  {
   "cell_type": "code",
   "execution_count": 2,
   "id": "beae23d5",
   "metadata": {
    "execution": {
     "iopub.execute_input": "2021-08-29T13:57:12.598444Z",
     "iopub.status.busy": "2021-08-29T13:57:12.598188Z",
     "iopub.status.idle": "2021-08-29T13:57:12.613383Z",
     "shell.execute_reply": "2021-08-29T13:57:12.611962Z",
     "shell.execute_reply.started": "2021-08-29T13:57:12.598422Z"
    }
   },
   "outputs": [
    {
     "data": {
      "text/html": [
       "<div>\n",
       "<style scoped>\n",
       "    .dataframe tbody tr th:only-of-type {\n",
       "        vertical-align: middle;\n",
       "    }\n",
       "\n",
       "    .dataframe tbody tr th {\n",
       "        vertical-align: top;\n",
       "    }\n",
       "\n",
       "    .dataframe thead th {\n",
       "        text-align: right;\n",
       "    }\n",
       "</style>\n",
       "<table border=\"1\" class=\"dataframe\">\n",
       "  <thead>\n",
       "    <tr style=\"text-align: right;\">\n",
       "      <th></th>\n",
       "      <th>col_0</th>\n",
       "      <th>col_1</th>\n",
       "    </tr>\n",
       "  </thead>\n",
       "  <tbody>\n",
       "    <tr>\n",
       "      <th>0</th>\n",
       "      <td>9</td>\n",
       "      <td>-2</td>\n",
       "    </tr>\n",
       "    <tr>\n",
       "      <th>1</th>\n",
       "      <td>-3</td>\n",
       "      <td>-7</td>\n",
       "    </tr>\n",
       "    <tr>\n",
       "      <th>2</th>\n",
       "      <td>0</td>\n",
       "      <td>6</td>\n",
       "    </tr>\n",
       "    <tr>\n",
       "      <th>3</th>\n",
       "      <td>-1</td>\n",
       "      <td>8</td>\n",
       "    </tr>\n",
       "    <tr>\n",
       "      <th>4</th>\n",
       "      <td>5</td>\n",
       "      <td>-5</td>\n",
       "    </tr>\n",
       "  </tbody>\n",
       "</table>\n",
       "</div>"
      ],
      "text/plain": [
       "   col_0  col_1\n",
       "0      9     -2\n",
       "1     -3     -7\n",
       "2      0      6\n",
       "3     -1      8\n",
       "4      5     -5"
      ]
     },
     "execution_count": 2,
     "metadata": {},
     "output_type": "execute_result"
    }
   ],
   "source": [
    "df"
   ]
  },
  {
   "cell_type": "code",
   "execution_count": 8,
   "id": "1cc019ab",
   "metadata": {
    "execution": {
     "iopub.execute_input": "2021-08-29T14:02:34.987584Z",
     "iopub.status.busy": "2021-08-29T14:02:34.987191Z",
     "iopub.status.idle": "2021-08-29T14:02:34.999836Z",
     "shell.execute_reply": "2021-08-29T14:02:34.998875Z",
     "shell.execute_reply.started": "2021-08-29T14:02:34.987556Z"
    }
   },
   "outputs": [
    {
     "data": {
      "text/html": [
       "<div>\n",
       "<style scoped>\n",
       "    .dataframe tbody tr th:only-of-type {\n",
       "        vertical-align: middle;\n",
       "    }\n",
       "\n",
       "    .dataframe tbody tr th {\n",
       "        vertical-align: top;\n",
       "    }\n",
       "\n",
       "    .dataframe thead th {\n",
       "        text-align: right;\n",
       "    }\n",
       "</style>\n",
       "<table border=\"1\" class=\"dataframe\">\n",
       "  <thead>\n",
       "    <tr style=\"text-align: right;\">\n",
       "      <th></th>\n",
       "      <th>col_0</th>\n",
       "      <th>col_1</th>\n",
       "    </tr>\n",
       "  </thead>\n",
       "  <tbody>\n",
       "    <tr>\n",
       "      <th>0</th>\n",
       "      <td>1.0</td>\n",
       "      <td>-1.0</td>\n",
       "    </tr>\n",
       "    <tr>\n",
       "      <th>1</th>\n",
       "      <td>0.0</td>\n",
       "      <td>0.0</td>\n",
       "    </tr>\n",
       "    <tr>\n",
       "      <th>2</th>\n",
       "      <td>1.0</td>\n",
       "      <td>3.0</td>\n",
       "    </tr>\n",
       "    <tr>\n",
       "      <th>3</th>\n",
       "      <td>NaN</td>\n",
       "      <td>NaN</td>\n",
       "    </tr>\n",
       "    <tr>\n",
       "      <th>4</th>\n",
       "      <td>5.0</td>\n",
       "      <td>3.0</td>\n",
       "    </tr>\n",
       "  </tbody>\n",
       "</table>\n",
       "</div>"
      ],
      "text/plain": [
       "   col_0  col_1\n",
       "0    1.0   -1.0\n",
       "1    0.0    0.0\n",
       "2    1.0    3.0\n",
       "3    NaN    NaN\n",
       "4    5.0    3.0"
      ]
     },
     "execution_count": 8,
     "metadata": {},
     "output_type": "execute_result"
    }
   ],
   "source": [
    "df # 对照"
   ]
  },
  {
   "cell_type": "code",
   "execution_count": 9,
   "id": "5c371135",
   "metadata": {
    "execution": {
     "iopub.execute_input": "2021-08-29T14:03:44.276270Z",
     "iopub.status.busy": "2021-08-29T14:03:44.275796Z",
     "iopub.status.idle": "2021-08-29T14:03:44.287470Z",
     "shell.execute_reply": "2021-08-29T14:03:44.286589Z",
     "shell.execute_reply.started": "2021-08-29T14:03:44.276216Z"
    }
   },
   "outputs": [
    {
     "data": {
      "text/plain": [
       "0    1.0\n",
       "1    0.0\n",
       "2    1.0\n",
       "3    NaN\n",
       "4    5.0\n",
       "Name: col_0, dtype: float64"
      ]
     },
     "execution_count": 9,
     "metadata": {},
     "output_type": "execute_result"
    }
   ],
   "source": [
    "df.col_0.clip(tmp,tmp+2) # 可以用在序列上，多组边界"
   ]
  },
  {
   "cell_type": "code",
   "execution_count": 7,
   "id": "6b210e7a",
   "metadata": {
    "execution": {
     "iopub.execute_input": "2021-08-29T14:02:25.149445Z",
     "iopub.status.busy": "2021-08-29T14:02:25.148922Z",
     "iopub.status.idle": "2021-08-29T14:02:25.163134Z",
     "shell.execute_reply": "2021-08-29T14:02:25.161082Z",
     "shell.execute_reply.started": "2021-08-29T14:02:25.149400Z"
    }
   },
   "outputs": [],
   "source": [
    "df.clip(lower=tmp,upper=tmp+2,axis=0,inplace=True) # inplace 是否直接在原来的df上修改数据"
   ]
  },
  {
   "cell_type": "code",
   "execution_count": 6,
   "id": "bfb9b0ea",
   "metadata": {
    "execution": {
     "iopub.execute_input": "2021-08-29T14:00:54.996944Z",
     "iopub.status.busy": "2021-08-29T14:00:54.996534Z",
     "iopub.status.idle": "2021-08-29T14:00:55.014791Z",
     "shell.execute_reply": "2021-08-29T14:00:55.013025Z",
     "shell.execute_reply.started": "2021-08-29T14:00:54.996909Z"
    }
   },
   "outputs": [
    {
     "data": {
      "text/html": [
       "<div>\n",
       "<style scoped>\n",
       "    .dataframe tbody tr th:only-of-type {\n",
       "        vertical-align: middle;\n",
       "    }\n",
       "\n",
       "    .dataframe tbody tr th {\n",
       "        vertical-align: top;\n",
       "    }\n",
       "\n",
       "    .dataframe thead th {\n",
       "        text-align: right;\n",
       "    }\n",
       "</style>\n",
       "<table border=\"1\" class=\"dataframe\">\n",
       "  <thead>\n",
       "    <tr style=\"text-align: right;\">\n",
       "      <th></th>\n",
       "      <th>col_0</th>\n",
       "      <th>col_1</th>\n",
       "    </tr>\n",
       "  </thead>\n",
       "  <tbody>\n",
       "    <tr>\n",
       "      <th>0</th>\n",
       "      <td>1.0</td>\n",
       "      <td>-1.0</td>\n",
       "    </tr>\n",
       "    <tr>\n",
       "      <th>1</th>\n",
       "      <td>0.0</td>\n",
       "      <td>0.0</td>\n",
       "    </tr>\n",
       "    <tr>\n",
       "      <th>2</th>\n",
       "      <td>1.0</td>\n",
       "      <td>3.0</td>\n",
       "    </tr>\n",
       "    <tr>\n",
       "      <th>3</th>\n",
       "      <td>NaN</td>\n",
       "      <td>NaN</td>\n",
       "    </tr>\n",
       "    <tr>\n",
       "      <th>4</th>\n",
       "      <td>5.0</td>\n",
       "      <td>3.0</td>\n",
       "    </tr>\n",
       "  </tbody>\n",
       "</table>\n",
       "</div>"
      ],
      "text/plain": [
       "   col_0  col_1\n",
       "0    1.0   -1.0\n",
       "1    0.0    0.0\n",
       "2    1.0    3.0\n",
       "3    NaN    NaN\n",
       "4    5.0    3.0"
      ]
     },
     "execution_count": 6,
     "metadata": {},
     "output_type": "execute_result"
    }
   ],
   "source": [
    "df.clip(lower=tmp,upper=tmp+2,axis=0) # 将超出界限的数据分别修改到上下界限,多组边界值，axis 指定轴方向"
   ]
  },
  {
   "cell_type": "code",
   "execution_count": 3,
   "id": "42d2cc72",
   "metadata": {
    "execution": {
     "iopub.execute_input": "2021-08-29T13:58:19.784999Z",
     "iopub.status.busy": "2021-08-29T13:58:19.784677Z",
     "iopub.status.idle": "2021-08-29T13:58:19.802460Z",
     "shell.execute_reply": "2021-08-29T13:58:19.801872Z",
     "shell.execute_reply.started": "2021-08-29T13:58:19.784975Z"
    }
   },
   "outputs": [
    {
     "data": {
      "text/html": [
       "<div>\n",
       "<style scoped>\n",
       "    .dataframe tbody tr th:only-of-type {\n",
       "        vertical-align: middle;\n",
       "    }\n",
       "\n",
       "    .dataframe tbody tr th {\n",
       "        vertical-align: top;\n",
       "    }\n",
       "\n",
       "    .dataframe thead th {\n",
       "        text-align: right;\n",
       "    }\n",
       "</style>\n",
       "<table border=\"1\" class=\"dataframe\">\n",
       "  <thead>\n",
       "    <tr style=\"text-align: right;\">\n",
       "      <th></th>\n",
       "      <th>col_0</th>\n",
       "      <th>col_1</th>\n",
       "    </tr>\n",
       "  </thead>\n",
       "  <tbody>\n",
       "    <tr>\n",
       "      <th>0</th>\n",
       "      <td>2</td>\n",
       "      <td>-2</td>\n",
       "    </tr>\n",
       "    <tr>\n",
       "      <th>1</th>\n",
       "      <td>-2</td>\n",
       "      <td>-2</td>\n",
       "    </tr>\n",
       "    <tr>\n",
       "      <th>2</th>\n",
       "      <td>0</td>\n",
       "      <td>2</td>\n",
       "    </tr>\n",
       "    <tr>\n",
       "      <th>3</th>\n",
       "      <td>-1</td>\n",
       "      <td>2</td>\n",
       "    </tr>\n",
       "    <tr>\n",
       "      <th>4</th>\n",
       "      <td>2</td>\n",
       "      <td>-2</td>\n",
       "    </tr>\n",
       "  </tbody>\n",
       "</table>\n",
       "</div>"
      ],
      "text/plain": [
       "   col_0  col_1\n",
       "0      2     -2\n",
       "1     -2     -2\n",
       "2      0      2\n",
       "3     -1      2\n",
       "4      2     -2"
      ]
     },
     "execution_count": 3,
     "metadata": {},
     "output_type": "execute_result"
    }
   ],
   "source": [
    "df.clip(lower=-2,upper=2) # 将超出界限的数据分别修改到上下界限"
   ]
  },
  {
   "cell_type": "code",
   "execution_count": 4,
   "id": "a2d27b05",
   "metadata": {
    "execution": {
     "iopub.execute_input": "2021-08-29T13:59:38.014514Z",
     "iopub.status.busy": "2021-08-29T13:59:38.014081Z",
     "iopub.status.idle": "2021-08-29T13:59:38.025675Z",
     "shell.execute_reply": "2021-08-29T13:59:38.024857Z",
     "shell.execute_reply.started": "2021-08-29T13:59:38.014457Z"
    }
   },
   "outputs": [
    {
     "data": {
      "text/plain": [
       "0    2\n",
       "1   -2\n",
       "2    0\n",
       "3   -1\n",
       "4    2\n",
       "Name: col_0, dtype: int64"
      ]
     },
     "execution_count": 4,
     "metadata": {},
     "output_type": "execute_result"
    }
   ],
   "source": [
    "df.col_0.clip(-2,2) # 可以用在序列上"
   ]
  }
 ],
 "metadata": {
  "kernelspec": {
   "display_name": "Python 3 (ipykernel)",
   "language": "python",
   "name": "python3"
  },
  "language_info": {
   "codemirror_mode": {
    "name": "ipython",
    "version": 3
   },
   "file_extension": ".py",
   "mimetype": "text/x-python",
   "name": "python",
   "nbconvert_exporter": "python",
   "pygments_lexer": "ipython3",
   "version": "3.8.10"
  }
 },
 "nbformat": 4,
 "nbformat_minor": 5
}
