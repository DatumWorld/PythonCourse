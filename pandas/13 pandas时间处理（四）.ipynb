{
 "cells": [
  {
   "cell_type": "markdown",
   "id": "8e8fdf95",
   "metadata": {
    "execution": {
     "iopub.execute_input": "2021-05-10T07:18:52.990449Z",
     "iopub.status.busy": "2021-05-10T07:18:52.990449Z",
     "iopub.status.idle": "2021-05-10T07:18:52.994464Z",
     "shell.execute_reply": "2021-05-10T07:18:52.993452Z",
     "shell.execute_reply.started": "2021-05-10T07:18:52.990449Z"
    }
   },
   "source": [
    "## pandas时间处理（四）"
   ]
  },
  {
   "cell_type": "markdown",
   "id": "b4731aa6",
   "metadata": {},
   "source": [
    "### 比较常用的时间处理函数。\n",
    "#### DateOffset"
   ]
  },
  {
   "cell_type": "code",
   "execution_count": 39,
   "id": "ee84942f",
   "metadata": {
    "execution": {
     "iopub.execute_input": "2021-05-24T11:07:42.422165Z",
     "iopub.status.busy": "2021-05-24T11:07:42.421782Z",
     "iopub.status.idle": "2021-05-24T11:07:42.425681Z",
     "shell.execute_reply": "2021-05-24T11:07:42.424944Z",
     "shell.execute_reply.started": "2021-05-24T11:07:42.422132Z"
    }
   },
   "outputs": [],
   "source": [
    "from pandas.tseries.offsets import *\n",
    "from datetime import datetime"
   ]
  },
  {
   "cell_type": "code",
   "execution_count": 40,
   "id": "80f304fa",
   "metadata": {
    "execution": {
     "iopub.execute_input": "2021-05-24T11:07:42.427233Z",
     "iopub.status.busy": "2021-05-24T11:07:42.426945Z",
     "iopub.status.idle": "2021-05-24T11:07:42.431903Z",
     "shell.execute_reply": "2021-05-24T11:07:42.430903Z",
     "shell.execute_reply.started": "2021-05-24T11:07:42.427212Z"
    }
   },
   "outputs": [
    {
     "data": {
      "text/plain": [
       "datetime.datetime(2021, 5, 24, 19, 7, 42, 427874)"
      ]
     },
     "execution_count": 40,
     "metadata": {},
     "output_type": "execute_result"
    }
   ],
   "source": [
    "a = datetime.today()\n",
    "a"
   ]
  },
  {
   "cell_type": "code",
   "execution_count": 41,
   "id": "84b08ca6",
   "metadata": {
    "execution": {
     "iopub.execute_input": "2021-05-24T11:08:02.825667Z",
     "iopub.status.busy": "2021-05-24T11:08:02.825369Z",
     "iopub.status.idle": "2021-05-24T11:08:02.830681Z",
     "shell.execute_reply": "2021-05-24T11:08:02.830053Z",
     "shell.execute_reply.started": "2021-05-24T11:08:02.825642Z"
    }
   },
   "outputs": [
    {
     "data": {
      "text/plain": [
       "Timestamp('2021-05-01 19:07:42.427874')"
      ]
     },
     "execution_count": 41,
     "metadata": {},
     "output_type": "execute_result"
    }
   ],
   "source": [
    "a-MonthBegin() # 获取所在月第一天"
   ]
  },
  {
   "cell_type": "code",
   "execution_count": 42,
   "id": "0f4f2964",
   "metadata": {
    "execution": {
     "iopub.execute_input": "2021-05-24T11:08:32.257223Z",
     "iopub.status.busy": "2021-05-24T11:08:32.256874Z",
     "iopub.status.idle": "2021-05-24T11:08:32.263386Z",
     "shell.execute_reply": "2021-05-24T11:08:32.262140Z",
     "shell.execute_reply.started": "2021-05-24T11:08:32.257191Z"
    }
   },
   "outputs": [
    {
     "data": {
      "text/plain": [
       "Timestamp('2021-05-31 19:07:42.427874')"
      ]
     },
     "execution_count": 42,
     "metadata": {},
     "output_type": "execute_result"
    }
   ],
   "source": [
    "a+MonthEnd() #获取所在月的最后一天"
   ]
  },
  {
   "cell_type": "code",
   "execution_count": 44,
   "id": "381cf001",
   "metadata": {
    "execution": {
     "iopub.execute_input": "2021-05-24T11:09:26.581911Z",
     "iopub.status.busy": "2021-05-24T11:09:26.581502Z",
     "iopub.status.idle": "2021-05-24T11:09:26.587816Z",
     "shell.execute_reply": "2021-05-24T11:09:26.587035Z",
     "shell.execute_reply.started": "2021-05-24T11:09:26.581877Z"
    }
   },
   "outputs": [
    {
     "data": {
      "text/plain": [
       "datetime.datetime(2020, 1, 1, 0, 0)"
      ]
     },
     "execution_count": 44,
     "metadata": {},
     "output_type": "execute_result"
    }
   ],
   "source": [
    "b = datetime(2020,1,1)\n",
    "b"
   ]
  },
  {
   "cell_type": "code",
   "execution_count": 46,
   "id": "9daf9eef",
   "metadata": {
    "execution": {
     "iopub.execute_input": "2021-05-24T11:10:07.582162Z",
     "iopub.status.busy": "2021-05-24T11:10:07.581618Z",
     "iopub.status.idle": "2021-05-24T11:10:07.588040Z",
     "shell.execute_reply": "2021-05-24T11:10:07.586736Z",
     "shell.execute_reply.started": "2021-05-24T11:10:07.582122Z"
    }
   },
   "outputs": [
    {
     "data": {
      "text/plain": [
       "Timestamp('2020-01-01 00:00:00')"
      ]
     },
     "execution_count": 46,
     "metadata": {},
     "output_type": "execute_result"
    }
   ],
   "source": [
    "b-MonthBegin(0) # 注意此处，月的第一天"
   ]
  },
  {
   "cell_type": "code",
   "execution_count": 47,
   "id": "953862a6",
   "metadata": {
    "execution": {
     "iopub.execute_input": "2021-05-24T11:10:32.816644Z",
     "iopub.status.busy": "2021-05-24T11:10:32.816360Z",
     "iopub.status.idle": "2021-05-24T11:10:32.821899Z",
     "shell.execute_reply": "2021-05-24T11:10:32.821230Z",
     "shell.execute_reply.started": "2021-05-24T11:10:32.816619Z"
    }
   },
   "outputs": [
    {
     "data": {
      "text/plain": [
       "datetime.datetime(2020, 1, 31, 0, 0)"
      ]
     },
     "execution_count": 47,
     "metadata": {},
     "output_type": "execute_result"
    }
   ],
   "source": [
    "c = datetime(2020,1,31)\n",
    "c"
   ]
  },
  {
   "cell_type": "code",
   "execution_count": 49,
   "id": "46cb0269",
   "metadata": {
    "execution": {
     "iopub.execute_input": "2021-05-24T11:11:17.805370Z",
     "iopub.status.busy": "2021-05-24T11:11:17.805109Z",
     "iopub.status.idle": "2021-05-24T11:11:17.809574Z",
     "shell.execute_reply": "2021-05-24T11:11:17.808877Z",
     "shell.execute_reply.started": "2021-05-24T11:11:17.805347Z"
    }
   },
   "outputs": [
    {
     "data": {
      "text/plain": [
       "Timestamp('2020-01-31 00:00:00')"
      ]
     },
     "execution_count": 49,
     "metadata": {},
     "output_type": "execute_result"
    }
   ],
   "source": [
    "c+MonthEnd(0) # 注意此处，月的最后一天"
   ]
  }
 ],
 "metadata": {
  "kernelspec": {
   "display_name": "Python 3",
   "language": "python",
   "name": "python3"
  },
  "language_info": {
   "codemirror_mode": {
    "name": "ipython",
    "version": 3
   },
   "file_extension": ".py",
   "mimetype": "text/x-python",
   "name": "python",
   "nbconvert_exporter": "python",
   "pygments_lexer": "ipython3",
   "version": "3.8.8"
  }
 },
 "nbformat": 4,
 "nbformat_minor": 5
}
