{
 "cells": [
  {
   "cell_type": "markdown",
   "id": "c0c09dba",
   "metadata": {
    "execution": {
     "iopub.execute_input": "2021-05-10T07:18:52.990449Z",
     "iopub.status.busy": "2021-05-10T07:18:52.990449Z",
     "iopub.status.idle": "2021-05-10T07:18:52.994464Z",
     "shell.execute_reply": "2021-05-10T07:18:52.993452Z",
     "shell.execute_reply.started": "2021-05-10T07:18:52.990449Z"
    }
   },
   "source": [
    "## 131 copy获取对象副本"
   ]
  },
  {
   "cell_type": "markdown",
   "id": "f8eac7fd",
   "metadata": {
    "tags": []
   },
   "source": [
    "### copy：获取对象副本\n",
    "参数 deep=True"
   ]
  },
  {
   "cell_type": "code",
   "execution_count": 1,
   "id": "bd6890d9",
   "metadata": {
    "execution": {
     "iopub.execute_input": "2021-08-30T06:08:55.342782Z",
     "iopub.status.busy": "2021-08-30T06:08:55.341782Z",
     "iopub.status.idle": "2021-08-30T06:08:55.571808Z",
     "shell.execute_reply": "2021-08-30T06:08:55.571808Z",
     "shell.execute_reply.started": "2021-08-30T06:08:55.342782Z"
    },
    "tags": []
   },
   "outputs": [],
   "source": [
    "import numpy  as np\n",
    "import pandas as pd\n",
    "data = {'col_0': [9, -3, 0, -1, 5], 'col_1': [-2, -7, 6, 8, -5]}\n",
    "df = pd.DataFrame(data)"
   ]
  },
  {
   "cell_type": "code",
   "execution_count": 2,
   "id": "beae23d5",
   "metadata": {
    "execution": {
     "iopub.execute_input": "2021-08-30T06:08:55.572782Z",
     "iopub.status.busy": "2021-08-30T06:08:55.572782Z",
     "iopub.status.idle": "2021-08-30T06:08:55.584779Z",
     "shell.execute_reply": "2021-08-30T06:08:55.583803Z",
     "shell.execute_reply.started": "2021-08-30T06:08:55.572782Z"
    },
    "tags": []
   },
   "outputs": [
    {
     "data": {
      "text/html": [
       "<div>\n",
       "<style scoped>\n",
       "    .dataframe tbody tr th:only-of-type {\n",
       "        vertical-align: middle;\n",
       "    }\n",
       "\n",
       "    .dataframe tbody tr th {\n",
       "        vertical-align: top;\n",
       "    }\n",
       "\n",
       "    .dataframe thead th {\n",
       "        text-align: right;\n",
       "    }\n",
       "</style>\n",
       "<table border=\"1\" class=\"dataframe\">\n",
       "  <thead>\n",
       "    <tr style=\"text-align: right;\">\n",
       "      <th></th>\n",
       "      <th>col_0</th>\n",
       "      <th>col_1</th>\n",
       "    </tr>\n",
       "  </thead>\n",
       "  <tbody>\n",
       "    <tr>\n",
       "      <th>0</th>\n",
       "      <td>9</td>\n",
       "      <td>-2</td>\n",
       "    </tr>\n",
       "    <tr>\n",
       "      <th>1</th>\n",
       "      <td>-3</td>\n",
       "      <td>-7</td>\n",
       "    </tr>\n",
       "    <tr>\n",
       "      <th>2</th>\n",
       "      <td>0</td>\n",
       "      <td>6</td>\n",
       "    </tr>\n",
       "    <tr>\n",
       "      <th>3</th>\n",
       "      <td>-1</td>\n",
       "      <td>8</td>\n",
       "    </tr>\n",
       "    <tr>\n",
       "      <th>4</th>\n",
       "      <td>5</td>\n",
       "      <td>-5</td>\n",
       "    </tr>\n",
       "  </tbody>\n",
       "</table>\n",
       "</div>"
      ],
      "text/plain": [
       "   col_0  col_1\n",
       "0      9     -2\n",
       "1     -3     -7\n",
       "2      0      6\n",
       "3     -1      8\n",
       "4      5     -5"
      ]
     },
     "execution_count": 2,
     "metadata": {},
     "output_type": "execute_result"
    }
   ],
   "source": [
    "df"
   ]
  },
  {
   "cell_type": "code",
   "execution_count": 18,
   "id": "ca47f2dc-7666-4a24-8403-510a78d051c5",
   "metadata": {
    "execution": {
     "iopub.execute_input": "2021-08-30T06:18:45.960782Z",
     "iopub.status.busy": "2021-08-30T06:18:45.960782Z",
     "iopub.status.idle": "2021-08-30T06:18:45.965781Z",
     "shell.execute_reply": "2021-08-30T06:18:45.964785Z",
     "shell.execute_reply.started": "2021-08-30T06:18:45.960782Z"
    },
    "tags": []
   },
   "outputs": [],
   "source": [
    "cptmp1=df.col_0.copy(deep=False)"
   ]
  },
  {
   "cell_type": "code",
   "execution_count": 23,
   "id": "9733550b-8caa-4504-8fc7-8a17c06b4453",
   "metadata": {
    "execution": {
     "iopub.execute_input": "2021-08-30T06:19:21.645785Z",
     "iopub.status.busy": "2021-08-30T06:19:21.644785Z",
     "iopub.status.idle": "2021-08-30T06:19:21.651782Z",
     "shell.execute_reply": "2021-08-30T06:19:21.651782Z",
     "shell.execute_reply.started": "2021-08-30T06:19:21.645785Z"
    },
    "tags": []
   },
   "outputs": [
    {
     "data": {
      "text/plain": [
       "True"
      ]
     },
     "execution_count": 23,
     "metadata": {},
     "output_type": "execute_result"
    }
   ],
   "source": [
    "cptmp1.values  is df.col_0.values # 共享数据"
   ]
  },
  {
   "cell_type": "code",
   "execution_count": 22,
   "id": "3ac69e6c-4f05-408c-8246-133d0add0a65",
   "metadata": {
    "execution": {
     "iopub.execute_input": "2021-08-30T06:19:03.891777Z",
     "iopub.status.busy": "2021-08-30T06:19:03.890777Z",
     "iopub.status.idle": "2021-08-30T06:19:03.894779Z",
     "shell.execute_reply": "2021-08-30T06:19:03.894779Z",
     "shell.execute_reply.started": "2021-08-30T06:19:03.891777Z"
    },
    "tags": []
   },
   "outputs": [
    {
     "data": {
      "text/plain": [
       "True"
      ]
     },
     "execution_count": 22,
     "metadata": {},
     "output_type": "execute_result"
    }
   ],
   "source": [
    "cptmp1.index  is df.col_0.index # 共享索引"
   ]
  },
  {
   "cell_type": "code",
   "execution_count": 19,
   "id": "cb1bb84f-e254-4e4b-b2d2-3ae28bda414e",
   "metadata": {
    "execution": {
     "iopub.execute_input": "2021-08-30T06:18:46.821778Z",
     "iopub.status.busy": "2021-08-30T06:18:46.821778Z",
     "iopub.status.idle": "2021-08-30T06:18:46.825794Z",
     "shell.execute_reply": "2021-08-30T06:18:46.824783Z",
     "shell.execute_reply.started": "2021-08-30T06:18:46.821778Z"
    },
    "tags": []
   },
   "outputs": [],
   "source": [
    "cptmp=df.col_0.copy()"
   ]
  },
  {
   "cell_type": "code",
   "execution_count": 20,
   "id": "5ba21881-c436-42b6-bcd6-f37069d1646c",
   "metadata": {
    "execution": {
     "iopub.execute_input": "2021-08-30T06:18:47.510778Z",
     "iopub.status.busy": "2021-08-30T06:18:47.510778Z",
     "iopub.status.idle": "2021-08-30T06:18:47.516792Z",
     "shell.execute_reply": "2021-08-30T06:18:47.515780Z",
     "shell.execute_reply.started": "2021-08-30T06:18:47.510778Z"
    },
    "tags": []
   },
   "outputs": [
    {
     "data": {
      "text/plain": [
       "False"
      ]
     },
     "execution_count": 20,
     "metadata": {},
     "output_type": "execute_result"
    }
   ],
   "source": [
    "cptmp.index  is df.col_0.index # 独立索引"
   ]
  },
  {
   "cell_type": "code",
   "execution_count": 21,
   "id": "5be77212-26ee-42d8-99cf-821bd6011c48",
   "metadata": {
    "execution": {
     "iopub.execute_input": "2021-08-30T06:18:48.233778Z",
     "iopub.status.busy": "2021-08-30T06:18:48.232811Z",
     "iopub.status.idle": "2021-08-30T06:18:48.237780Z",
     "shell.execute_reply": "2021-08-30T06:18:48.237780Z",
     "shell.execute_reply.started": "2021-08-30T06:18:48.233778Z"
    },
    "tags": []
   },
   "outputs": [
    {
     "data": {
      "text/plain": [
       "False"
      ]
     },
     "execution_count": 21,
     "metadata": {},
     "output_type": "execute_result"
    }
   ],
   "source": [
    "cptmp.values  is df.col_0.values # 独立数据"
   ]
  },
  {
   "cell_type": "code",
   "execution_count": 24,
   "id": "15a70c48-8829-4b4e-b702-2f2c623cc968",
   "metadata": {
    "execution": {
     "iopub.execute_input": "2021-08-30T06:23:31.094062Z",
     "iopub.status.busy": "2021-08-30T06:23:31.093050Z",
     "iopub.status.idle": "2021-08-30T06:23:31.099059Z",
     "shell.execute_reply": "2021-08-30T06:23:31.099059Z",
     "shell.execute_reply.started": "2021-08-30T06:23:31.094062Z"
    },
    "tags": []
   },
   "outputs": [],
   "source": [
    "cps=df.copy(deep=False) # “浅”复制，可以认为共享数据"
   ]
  },
  {
   "cell_type": "code",
   "execution_count": 25,
   "id": "c6cd0344-c15a-464e-9860-2bc556652924",
   "metadata": {
    "execution": {
     "iopub.execute_input": "2021-08-30T06:23:32.005052Z",
     "iopub.status.busy": "2021-08-30T06:23:32.005052Z",
     "iopub.status.idle": "2021-08-30T06:23:32.009051Z",
     "shell.execute_reply": "2021-08-30T06:23:32.009051Z",
     "shell.execute_reply.started": "2021-08-30T06:23:32.005052Z"
    },
    "tags": []
   },
   "outputs": [
    {
     "data": {
      "text/plain": [
       "True"
      ]
     },
     "execution_count": 25,
     "metadata": {},
     "output_type": "execute_result"
    }
   ],
   "source": [
    "cps.index is df.index # 索引是共享的df的"
   ]
  },
  {
   "cell_type": "code",
   "execution_count": 26,
   "id": "d653a9f6-1165-46f8-8c3d-612b784c5e8b",
   "metadata": {
    "execution": {
     "iopub.execute_input": "2021-08-30T06:23:32.820053Z",
     "iopub.status.busy": "2021-08-30T06:23:32.819086Z",
     "iopub.status.idle": "2021-08-30T06:23:32.824051Z",
     "shell.execute_reply": "2021-08-30T06:23:32.824051Z",
     "shell.execute_reply.started": "2021-08-30T06:23:32.820053Z"
    },
    "tags": []
   },
   "outputs": [
    {
     "data": {
      "text/plain": [
       "False"
      ]
     },
     "execution_count": 26,
     "metadata": {},
     "output_type": "execute_result"
    }
   ],
   "source": [
    "cps.values is df.values # df的列是python的数据类型，可能不会深度复制，而是共享"
   ]
  },
  {
   "cell_type": "code",
   "execution_count": 9,
   "id": "bfa0923d-867e-4e8a-8700-2afae44194db",
   "metadata": {
    "execution": {
     "iopub.execute_input": "2021-08-30T06:13:21.511782Z",
     "iopub.status.busy": "2021-08-30T06:13:21.510779Z",
     "iopub.status.idle": "2021-08-30T06:13:21.515778Z",
     "shell.execute_reply": "2021-08-30T06:13:21.515778Z",
     "shell.execute_reply.started": "2021-08-30T06:13:21.511782Z"
    },
    "tags": []
   },
   "outputs": [],
   "source": [
    "cp=df.copy() # cp 复制df，是一个新对象实例3， 在内存有属于自己的数据区域"
   ]
  },
  {
   "cell_type": "code",
   "execution_count": 10,
   "id": "238e4d5b-2725-4fab-855a-e76c106de69f",
   "metadata": {
    "execution": {
     "iopub.execute_input": "2021-08-30T06:13:22.354783Z",
     "iopub.status.busy": "2021-08-30T06:13:22.354783Z",
     "iopub.status.idle": "2021-08-30T06:13:22.360779Z",
     "shell.execute_reply": "2021-08-30T06:13:22.360779Z",
     "shell.execute_reply.started": "2021-08-30T06:13:22.354783Z"
    },
    "tags": []
   },
   "outputs": [
    {
     "data": {
      "text/plain": [
       "False"
      ]
     },
     "execution_count": 10,
     "metadata": {},
     "output_type": "execute_result"
    }
   ],
   "source": [
    "cp.index  is df.index # 独立索引"
   ]
  },
  {
   "cell_type": "code",
   "execution_count": 11,
   "id": "f5e2c9c9-0a93-4674-aec2-7f8356b71d4d",
   "metadata": {
    "execution": {
     "iopub.execute_input": "2021-08-30T06:13:23.130778Z",
     "iopub.status.busy": "2021-08-30T06:13:23.130778Z",
     "iopub.status.idle": "2021-08-30T06:13:23.135787Z",
     "shell.execute_reply": "2021-08-30T06:13:23.134791Z",
     "shell.execute_reply.started": "2021-08-30T06:13:23.130778Z"
    },
    "tags": []
   },
   "outputs": [
    {
     "data": {
      "text/plain": [
       "False"
      ]
     },
     "execution_count": 11,
     "metadata": {},
     "output_type": "execute_result"
    }
   ],
   "source": [
    "cp.values  is df.values # 独立数据"
   ]
  }
 ],
 "metadata": {
  "kernelspec": {
   "display_name": "Python 3 (ipykernel)",
   "language": "python",
   "name": "python3"
  },
  "language_info": {
   "codemirror_mode": {
    "name": "ipython",
    "version": 3
   },
   "file_extension": ".py",
   "mimetype": "text/x-python",
   "name": "python",
   "nbconvert_exporter": "python",
   "pygments_lexer": "ipython3",
   "version": "3.8.11"
  }
 },
 "nbformat": 4,
 "nbformat_minor": 5
}
