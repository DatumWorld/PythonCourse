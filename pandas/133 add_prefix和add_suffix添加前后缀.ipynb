{
 "cells": [
  {
   "cell_type": "markdown",
   "id": "c52088c8",
   "metadata": {
    "execution": {
     "iopub.execute_input": "2021-05-10T07:18:52.990449Z",
     "iopub.status.busy": "2021-05-10T07:18:52.990449Z",
     "iopub.status.idle": "2021-05-10T07:18:52.994464Z",
     "shell.execute_reply": "2021-05-10T07:18:52.993452Z",
     "shell.execute_reply.started": "2021-05-10T07:18:52.990449Z"
    }
   },
   "source": [
    "## 133 add_prefix和add_suffix添加前后缀"
   ]
  },
  {
   "cell_type": "markdown",
   "id": "51bf87f2",
   "metadata": {
    "tags": []
   },
   "source": [
    "### add_prefix和add_suffix添加前后缀\n",
    "参数 分别对应prefix和suffix"
   ]
  },
  {
   "cell_type": "code",
   "execution_count": 1,
   "id": "095fe144",
   "metadata": {
    "execution": {
     "iopub.execute_input": "2021-08-30T11:56:16.996799Z",
     "iopub.status.busy": "2021-08-30T11:56:16.996433Z",
     "iopub.status.idle": "2021-08-30T11:56:17.276051Z",
     "shell.execute_reply": "2021-08-30T11:56:17.274999Z",
     "shell.execute_reply.started": "2021-08-30T11:56:16.996714Z"
    },
    "tags": []
   },
   "outputs": [],
   "source": [
    "import numpy  as np\n",
    "import pandas as pd\n",
    "data = {'A': [9, -3, 0, -1, 5], 'B': [-2, -7, 6, 8, -5]}\n",
    "df = pd.DataFrame(data,dtype='int16')"
   ]
  },
  {
   "cell_type": "code",
   "execution_count": 2,
   "id": "62005fa6",
   "metadata": {
    "execution": {
     "iopub.execute_input": "2021-08-30T11:56:18.028527Z",
     "iopub.status.busy": "2021-08-30T11:56:18.028114Z",
     "iopub.status.idle": "2021-08-30T11:56:18.047936Z",
     "shell.execute_reply": "2021-08-30T11:56:18.046917Z",
     "shell.execute_reply.started": "2021-08-30T11:56:18.028497Z"
    },
    "tags": []
   },
   "outputs": [
    {
     "data": {
      "text/html": [
       "<div>\n",
       "<style scoped>\n",
       "    .dataframe tbody tr th:only-of-type {\n",
       "        vertical-align: middle;\n",
       "    }\n",
       "\n",
       "    .dataframe tbody tr th {\n",
       "        vertical-align: top;\n",
       "    }\n",
       "\n",
       "    .dataframe thead th {\n",
       "        text-align: right;\n",
       "    }\n",
       "</style>\n",
       "<table border=\"1\" class=\"dataframe\">\n",
       "  <thead>\n",
       "    <tr style=\"text-align: right;\">\n",
       "      <th></th>\n",
       "      <th>A</th>\n",
       "      <th>B</th>\n",
       "    </tr>\n",
       "  </thead>\n",
       "  <tbody>\n",
       "    <tr>\n",
       "      <th>0</th>\n",
       "      <td>9</td>\n",
       "      <td>-2</td>\n",
       "    </tr>\n",
       "    <tr>\n",
       "      <th>1</th>\n",
       "      <td>-3</td>\n",
       "      <td>-7</td>\n",
       "    </tr>\n",
       "    <tr>\n",
       "      <th>2</th>\n",
       "      <td>0</td>\n",
       "      <td>6</td>\n",
       "    </tr>\n",
       "    <tr>\n",
       "      <th>3</th>\n",
       "      <td>-1</td>\n",
       "      <td>8</td>\n",
       "    </tr>\n",
       "    <tr>\n",
       "      <th>4</th>\n",
       "      <td>5</td>\n",
       "      <td>-5</td>\n",
       "    </tr>\n",
       "  </tbody>\n",
       "</table>\n",
       "</div>"
      ],
      "text/plain": [
       "   A  B\n",
       "0  9 -2\n",
       "1 -3 -7\n",
       "2  0  6\n",
       "3 -1  8\n",
       "4  5 -5"
      ]
     },
     "execution_count": 2,
     "metadata": {},
     "output_type": "execute_result"
    }
   ],
   "source": [
    "df"
   ]
  },
  {
   "cell_type": "code",
   "execution_count": 10,
   "id": "ffd758b5",
   "metadata": {
    "execution": {
     "iopub.execute_input": "2021-08-30T12:00:24.180880Z",
     "iopub.status.busy": "2021-08-30T12:00:24.180583Z",
     "iopub.status.idle": "2021-08-30T12:00:24.189568Z",
     "shell.execute_reply": "2021-08-30T12:00:24.188315Z",
     "shell.execute_reply.started": "2021-08-30T12:00:24.180858Z"
    }
   },
   "outputs": [
    {
     "data": {
      "text/plain": [
       "0_col    9\n",
       "1_col   -3\n",
       "2_col    0\n",
       "3_col   -1\n",
       "4_col    5\n",
       "Name: A, dtype: int16"
      ]
     },
     "execution_count": 10,
     "metadata": {},
     "output_type": "execute_result"
    }
   ],
   "source": [
    "df.A.add_suffix(suffix='_col') # 给索引添加后缀 ，用在序列上"
   ]
  },
  {
   "cell_type": "code",
   "execution_count": 9,
   "id": "26536be3",
   "metadata": {
    "execution": {
     "iopub.execute_input": "2021-08-30T11:59:56.021538Z",
     "iopub.status.busy": "2021-08-30T11:59:56.021285Z",
     "iopub.status.idle": "2021-08-30T11:59:56.029506Z",
     "shell.execute_reply": "2021-08-30T11:59:56.028347Z",
     "shell.execute_reply.started": "2021-08-30T11:59:56.021516Z"
    }
   },
   "outputs": [
    {
     "data": {
      "text/html": [
       "<div>\n",
       "<style scoped>\n",
       "    .dataframe tbody tr th:only-of-type {\n",
       "        vertical-align: middle;\n",
       "    }\n",
       "\n",
       "    .dataframe tbody tr th {\n",
       "        vertical-align: top;\n",
       "    }\n",
       "\n",
       "    .dataframe thead th {\n",
       "        text-align: right;\n",
       "    }\n",
       "</style>\n",
       "<table border=\"1\" class=\"dataframe\">\n",
       "  <thead>\n",
       "    <tr style=\"text-align: right;\">\n",
       "      <th></th>\n",
       "      <th>A_col</th>\n",
       "      <th>B_col</th>\n",
       "    </tr>\n",
       "  </thead>\n",
       "  <tbody>\n",
       "    <tr>\n",
       "      <th>0</th>\n",
       "      <td>9</td>\n",
       "      <td>-2</td>\n",
       "    </tr>\n",
       "    <tr>\n",
       "      <th>1</th>\n",
       "      <td>-3</td>\n",
       "      <td>-7</td>\n",
       "    </tr>\n",
       "    <tr>\n",
       "      <th>2</th>\n",
       "      <td>0</td>\n",
       "      <td>6</td>\n",
       "    </tr>\n",
       "    <tr>\n",
       "      <th>3</th>\n",
       "      <td>-1</td>\n",
       "      <td>8</td>\n",
       "    </tr>\n",
       "    <tr>\n",
       "      <th>4</th>\n",
       "      <td>5</td>\n",
       "      <td>-5</td>\n",
       "    </tr>\n",
       "  </tbody>\n",
       "</table>\n",
       "</div>"
      ],
      "text/plain": [
       "   A_col  B_col\n",
       "0      9     -2\n",
       "1     -3     -7\n",
       "2      0      6\n",
       "3     -1      8\n",
       "4      5     -5"
      ]
     },
     "execution_count": 9,
     "metadata": {},
     "output_type": "execute_result"
    }
   ],
   "source": [
    "df.add_suffix(suffix='_col') # 给列名添加后缀 "
   ]
  },
  {
   "cell_type": "code",
   "execution_count": 6,
   "id": "0587ca05",
   "metadata": {
    "execution": {
     "iopub.execute_input": "2021-08-30T11:58:38.679303Z",
     "iopub.status.busy": "2021-08-30T11:58:38.679019Z",
     "iopub.status.idle": "2021-08-30T11:58:38.690385Z",
     "shell.execute_reply": "2021-08-30T11:58:38.689421Z",
     "shell.execute_reply.started": "2021-08-30T11:58:38.679280Z"
    }
   },
   "outputs": [
    {
     "data": {
      "text/plain": [
       "col_0    9\n",
       "col_1   -3\n",
       "col_2    0\n",
       "col_3   -1\n",
       "col_4    5\n",
       "Name: A, dtype: int16"
      ]
     },
     "execution_count": 6,
     "metadata": {},
     "output_type": "execute_result"
    }
   ],
   "source": [
    "df.A.add_prefix(prefix='col_') # 给索引添加前缀 ，用在序列上"
   ]
  },
  {
   "cell_type": "code",
   "execution_count": 5,
   "id": "97eebcf3",
   "metadata": {
    "execution": {
     "iopub.execute_input": "2021-08-30T11:58:08.486406Z",
     "iopub.status.busy": "2021-08-30T11:58:08.485984Z",
     "iopub.status.idle": "2021-08-30T11:58:08.494961Z",
     "shell.execute_reply": "2021-08-30T11:58:08.493922Z",
     "shell.execute_reply.started": "2021-08-30T11:58:08.486372Z"
    }
   },
   "outputs": [
    {
     "data": {
      "text/html": [
       "<div>\n",
       "<style scoped>\n",
       "    .dataframe tbody tr th:only-of-type {\n",
       "        vertical-align: middle;\n",
       "    }\n",
       "\n",
       "    .dataframe tbody tr th {\n",
       "        vertical-align: top;\n",
       "    }\n",
       "\n",
       "    .dataframe thead th {\n",
       "        text-align: right;\n",
       "    }\n",
       "</style>\n",
       "<table border=\"1\" class=\"dataframe\">\n",
       "  <thead>\n",
       "    <tr style=\"text-align: right;\">\n",
       "      <th></th>\n",
       "      <th>col_A</th>\n",
       "      <th>col_B</th>\n",
       "    </tr>\n",
       "  </thead>\n",
       "  <tbody>\n",
       "    <tr>\n",
       "      <th>0</th>\n",
       "      <td>9</td>\n",
       "      <td>-2</td>\n",
       "    </tr>\n",
       "    <tr>\n",
       "      <th>1</th>\n",
       "      <td>-3</td>\n",
       "      <td>-7</td>\n",
       "    </tr>\n",
       "    <tr>\n",
       "      <th>2</th>\n",
       "      <td>0</td>\n",
       "      <td>6</td>\n",
       "    </tr>\n",
       "    <tr>\n",
       "      <th>3</th>\n",
       "      <td>-1</td>\n",
       "      <td>8</td>\n",
       "    </tr>\n",
       "    <tr>\n",
       "      <th>4</th>\n",
       "      <td>5</td>\n",
       "      <td>-5</td>\n",
       "    </tr>\n",
       "  </tbody>\n",
       "</table>\n",
       "</div>"
      ],
      "text/plain": [
       "   col_A  col_B\n",
       "0      9     -2\n",
       "1     -3     -7\n",
       "2      0      6\n",
       "3     -1      8\n",
       "4      5     -5"
      ]
     },
     "execution_count": 5,
     "metadata": {},
     "output_type": "execute_result"
    }
   ],
   "source": [
    "df.add_prefix(prefix='col_') # 给列名添加前缀 "
   ]
  }
 ],
 "metadata": {
  "kernelspec": {
   "display_name": "Python 3",
   "language": "python",
   "name": "python3"
  },
  "language_info": {
   "codemirror_mode": {
    "name": "ipython",
    "version": 3
   },
   "file_extension": ".py",
   "mimetype": "text/x-python",
   "name": "python",
   "nbconvert_exporter": "python",
   "pygments_lexer": "ipython3",
   "version": "3.8.8"
  }
 },
 "nbformat": 4,
 "nbformat_minor": 5
}
