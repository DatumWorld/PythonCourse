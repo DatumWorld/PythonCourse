{
 "cells": [
  {
   "cell_type": "markdown",
   "id": "excited-marshall",
   "metadata": {
    "execution": {
     "iopub.execute_input": "2021-05-10T07:18:52.990449Z",
     "iopub.status.busy": "2021-05-10T07:18:52.990449Z",
     "iopub.status.idle": "2021-05-10T07:18:52.994464Z",
     "shell.execute_reply": "2021-05-10T07:18:52.993452Z",
     "shell.execute_reply.started": "2021-05-10T07:18:52.990449Z"
    },
    "tags": []
   },
   "source": [
    "## 137 between查询数据"
   ]
  },
  {
   "cell_type": "markdown",
   "id": "ruled-chosen",
   "metadata": {
    "tags": []
   },
   "source": [
    "### between查询数据\n",
    "参数 left, right"
   ]
  },
  {
   "cell_type": "code",
   "execution_count": 1,
   "id": "southwest-national",
   "metadata": {
    "execution": {
     "iopub.execute_input": "2021-08-31T11:06:17.207217Z",
     "iopub.status.busy": "2021-08-31T11:06:17.206931Z",
     "iopub.status.idle": "2021-08-31T11:06:17.546276Z",
     "shell.execute_reply": "2021-08-31T11:06:17.545571Z",
     "shell.execute_reply.started": "2021-08-31T11:06:17.207168Z"
    },
    "tags": []
   },
   "outputs": [],
   "source": [
    "import numpy  as np\n",
    "import pandas as pd\n",
    "from faker import Faker\n",
    "\n",
    "fake = Faker('zh_CN')\n",
    "df=pd.DataFrame(data=[ [fake.name()] for x in range(10) ],columns=['name'])\n",
    "\n",
    "df['销售额']=np.random.randint(100,100000,size=(10, 1))\n",
    "df['时间']=pd.date_range(start='2020-01-01',periods=10,freq='D')\n",
    "df.insert(0,'dept',['部门1']*5+['部门2']*5)\n",
    "df.insert(1,'dept1',['小部门1']*2+['小部门2']*3+['小部门3']*1+['小部门4']*4)\n",
    "df.iloc[1,1]=np.nan #  修改成nan"
   ]
  },
  {
   "cell_type": "markdown",
   "id": "forward-ordering",
   "metadata": {
    "tags": []
   },
   "source": [
    "### 演示数据"
   ]
  },
  {
   "cell_type": "code",
   "execution_count": 2,
   "id": "falling-interaction",
   "metadata": {
    "execution": {
     "iopub.execute_input": "2021-08-31T11:06:17.550949Z",
     "iopub.status.busy": "2021-08-31T11:06:17.550591Z",
     "iopub.status.idle": "2021-08-31T11:06:17.572105Z",
     "shell.execute_reply": "2021-08-31T11:06:17.571321Z",
     "shell.execute_reply.started": "2021-08-31T11:06:17.550918Z"
    },
    "tags": []
   },
   "outputs": [
    {
     "data": {
      "text/html": [
       "<div>\n",
       "<style scoped>\n",
       "    .dataframe tbody tr th:only-of-type {\n",
       "        vertical-align: middle;\n",
       "    }\n",
       "\n",
       "    .dataframe tbody tr th {\n",
       "        vertical-align: top;\n",
       "    }\n",
       "\n",
       "    .dataframe thead th {\n",
       "        text-align: right;\n",
       "    }\n",
       "</style>\n",
       "<table border=\"1\" class=\"dataframe\">\n",
       "  <thead>\n",
       "    <tr style=\"text-align: right;\">\n",
       "      <th></th>\n",
       "      <th>dept</th>\n",
       "      <th>dept1</th>\n",
       "      <th>name</th>\n",
       "      <th>销售额</th>\n",
       "      <th>时间</th>\n",
       "    </tr>\n",
       "  </thead>\n",
       "  <tbody>\n",
       "    <tr>\n",
       "      <th>0</th>\n",
       "      <td>部门1</td>\n",
       "      <td>小部门1</td>\n",
       "      <td>庄琴</td>\n",
       "      <td>72437</td>\n",
       "      <td>2020-01-01</td>\n",
       "    </tr>\n",
       "    <tr>\n",
       "      <th>1</th>\n",
       "      <td>部门1</td>\n",
       "      <td>NaN</td>\n",
       "      <td>窦楠</td>\n",
       "      <td>79182</td>\n",
       "      <td>2020-01-02</td>\n",
       "    </tr>\n",
       "    <tr>\n",
       "      <th>2</th>\n",
       "      <td>部门1</td>\n",
       "      <td>小部门2</td>\n",
       "      <td>黄瑜</td>\n",
       "      <td>55515</td>\n",
       "      <td>2020-01-03</td>\n",
       "    </tr>\n",
       "    <tr>\n",
       "      <th>3</th>\n",
       "      <td>部门1</td>\n",
       "      <td>小部门2</td>\n",
       "      <td>邹涛</td>\n",
       "      <td>77201</td>\n",
       "      <td>2020-01-04</td>\n",
       "    </tr>\n",
       "    <tr>\n",
       "      <th>4</th>\n",
       "      <td>部门1</td>\n",
       "      <td>小部门2</td>\n",
       "      <td>张颖</td>\n",
       "      <td>44810</td>\n",
       "      <td>2020-01-05</td>\n",
       "    </tr>\n",
       "    <tr>\n",
       "      <th>5</th>\n",
       "      <td>部门2</td>\n",
       "      <td>小部门3</td>\n",
       "      <td>王桂芳</td>\n",
       "      <td>59309</td>\n",
       "      <td>2020-01-06</td>\n",
       "    </tr>\n",
       "    <tr>\n",
       "      <th>6</th>\n",
       "      <td>部门2</td>\n",
       "      <td>小部门4</td>\n",
       "      <td>曹伟</td>\n",
       "      <td>18125</td>\n",
       "      <td>2020-01-07</td>\n",
       "    </tr>\n",
       "    <tr>\n",
       "      <th>7</th>\n",
       "      <td>部门2</td>\n",
       "      <td>小部门4</td>\n",
       "      <td>刘东</td>\n",
       "      <td>10489</td>\n",
       "      <td>2020-01-08</td>\n",
       "    </tr>\n",
       "    <tr>\n",
       "      <th>8</th>\n",
       "      <td>部门2</td>\n",
       "      <td>小部门4</td>\n",
       "      <td>刘彬</td>\n",
       "      <td>65888</td>\n",
       "      <td>2020-01-09</td>\n",
       "    </tr>\n",
       "    <tr>\n",
       "      <th>9</th>\n",
       "      <td>部门2</td>\n",
       "      <td>小部门4</td>\n",
       "      <td>陈霞</td>\n",
       "      <td>87725</td>\n",
       "      <td>2020-01-10</td>\n",
       "    </tr>\n",
       "  </tbody>\n",
       "</table>\n",
       "</div>"
      ],
      "text/plain": [
       "  dept dept1 name    销售额         时间\n",
       "0  部门1  小部门1   庄琴  72437 2020-01-01\n",
       "1  部门1   NaN   窦楠  79182 2020-01-02\n",
       "2  部门1  小部门2   黄瑜  55515 2020-01-03\n",
       "3  部门1  小部门2   邹涛  77201 2020-01-04\n",
       "4  部门1  小部门2   张颖  44810 2020-01-05\n",
       "5  部门2  小部门3  王桂芳  59309 2020-01-06\n",
       "6  部门2  小部门4   曹伟  18125 2020-01-07\n",
       "7  部门2  小部门4   刘东  10489 2020-01-08\n",
       "8  部门2  小部门4   刘彬  65888 2020-01-09\n",
       "9  部门2  小部门4   陈霞  87725 2020-01-10"
      ]
     },
     "execution_count": 2,
     "metadata": {},
     "output_type": "execute_result"
    }
   ],
   "source": [
    "df "
   ]
  },
  {
   "cell_type": "code",
   "execution_count": 7,
   "id": "adult-battery",
   "metadata": {
    "execution": {
     "iopub.execute_input": "2021-08-31T11:11:04.741428Z",
     "iopub.status.busy": "2021-08-31T11:11:04.741016Z",
     "iopub.status.idle": "2021-08-31T11:11:04.748322Z",
     "shell.execute_reply": "2021-08-31T11:11:04.747600Z",
     "shell.execute_reply.started": "2021-08-31T11:11:04.741397Z"
    }
   },
   "outputs": [
    {
     "data": {
      "text/plain": [
       "0    False\n",
       "1    False\n",
       "2    False\n",
       "3    False\n",
       "4     True\n",
       "5     True\n",
       "6     True\n",
       "7     True\n",
       "8     True\n",
       "9    False\n",
       "Name: 时间, dtype: bool"
      ]
     },
     "execution_count": 7,
     "metadata": {},
     "output_type": "execute_result"
    }
   ],
   "source": [
    "df.时间.between(left='2020-01-05',right='2020-01-09') # 返回每个元素是否满足条件。时间类型"
   ]
  },
  {
   "cell_type": "code",
   "execution_count": 6,
   "id": "extra-domestic",
   "metadata": {
    "execution": {
     "iopub.execute_input": "2021-08-31T11:10:29.217290Z",
     "iopub.status.busy": "2021-08-31T11:10:29.216889Z",
     "iopub.status.idle": "2021-08-31T11:10:29.225608Z",
     "shell.execute_reply": "2021-08-31T11:10:29.224648Z",
     "shell.execute_reply.started": "2021-08-31T11:10:29.217264Z"
    }
   },
   "outputs": [
    {
     "data": {
      "text/plain": [
       "0    False\n",
       "1    False\n",
       "2    False\n",
       "3    False\n",
       "4    False\n",
       "5    False\n",
       "6    False\n",
       "7    False\n",
       "8    False\n",
       "9    False\n",
       "Name: 销售额, dtype: bool"
      ]
     },
     "execution_count": 6,
     "metadata": {},
     "output_type": "execute_result"
    }
   ],
   "source": [
    "df.销售额.between(left=50000,right=10000) # 返回每个元素是否满足条件。数字类型"
   ]
  },
  {
   "cell_type": "code",
   "execution_count": 5,
   "id": "junior-disclosure",
   "metadata": {
    "execution": {
     "iopub.execute_input": "2021-08-31T11:10:07.892857Z",
     "iopub.status.busy": "2021-08-31T11:10:07.892389Z",
     "iopub.status.idle": "2021-08-31T11:10:07.906029Z",
     "shell.execute_reply": "2021-08-31T11:10:07.904346Z",
     "shell.execute_reply.started": "2021-08-31T11:10:07.892832Z"
    }
   },
   "outputs": [
    {
     "data": {
      "text/plain": [
       "0    False\n",
       "1    False\n",
       "2    False\n",
       "3    False\n",
       "4     True\n",
       "5    False\n",
       "6     True\n",
       "7     True\n",
       "8    False\n",
       "9    False\n",
       "Name: 销售额, dtype: bool"
      ]
     },
     "execution_count": 5,
     "metadata": {},
     "output_type": "execute_result"
    }
   ],
   "source": [
    "df.销售额.between(left=10000,right=50000) # 返回每个元素是否满足条件。数字类型"
   ]
  },
  {
   "cell_type": "code",
   "execution_count": 4,
   "id": "protected-marketing",
   "metadata": {
    "execution": {
     "iopub.execute_input": "2021-08-31T11:09:07.948155Z",
     "iopub.status.busy": "2021-08-31T11:09:07.947771Z",
     "iopub.status.idle": "2021-08-31T11:09:07.956640Z",
     "shell.execute_reply": "2021-08-31T11:09:07.955552Z",
     "shell.execute_reply.started": "2021-08-31T11:09:07.948122Z"
    }
   },
   "outputs": [
    {
     "data": {
      "text/plain": [
       "0     True\n",
       "1    False\n",
       "2     True\n",
       "3     True\n",
       "4     True\n",
       "5    False\n",
       "6    False\n",
       "7    False\n",
       "8    False\n",
       "9    False\n",
       "Name: dept1, dtype: bool"
      ]
     },
     "execution_count": 4,
     "metadata": {},
     "output_type": "execute_result"
    }
   ],
   "source": [
    "df.dept1.between(left='小部门1',right='小部门2') # 返回每个元素是否满足条件。字符串上"
   ]
  }
 ],
 "metadata": {
  "kernelspec": {
   "display_name": "Python 3 (ipykernel)",
   "language": "python",
   "name": "python3"
  },
  "language_info": {
   "codemirror_mode": {
    "name": "ipython",
    "version": 3
   },
   "file_extension": ".py",
   "mimetype": "text/x-python",
   "name": "python",
   "nbconvert_exporter": "python",
   "pygments_lexer": "ipython3",
   "version": "3.8.11"
  }
 },
 "nbformat": 4,
 "nbformat_minor": 5
}
