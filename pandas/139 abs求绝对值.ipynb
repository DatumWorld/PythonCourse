{
 "cells": [
  {
   "cell_type": "markdown",
   "id": "noticed-plymouth",
   "metadata": {
    "execution": {
     "iopub.execute_input": "2021-05-10T07:18:52.990449Z",
     "iopub.status.busy": "2021-05-10T07:18:52.990449Z",
     "iopub.status.idle": "2021-05-10T07:18:52.994464Z",
     "shell.execute_reply": "2021-05-10T07:18:52.993452Z",
     "shell.execute_reply.started": "2021-05-10T07:18:52.990449Z"
    },
    "tags": []
   },
   "source": [
    "## 139 abs求绝对值"
   ]
  },
  {
   "cell_type": "markdown",
   "id": "refined-charter",
   "metadata": {
    "tags": []
   },
   "source": [
    "### abs：求绝对值"
   ]
  },
  {
   "cell_type": "code",
   "execution_count": 1,
   "id": "appropriate-metadata",
   "metadata": {
    "execution": {
     "iopub.execute_input": "2021-08-31T11:25:15.510674Z",
     "iopub.status.busy": "2021-08-31T11:25:15.510338Z",
     "iopub.status.idle": "2021-08-31T11:25:15.808513Z",
     "shell.execute_reply": "2021-08-31T11:25:15.807582Z",
     "shell.execute_reply.started": "2021-08-31T11:25:15.510624Z"
    },
    "tags": []
   },
   "outputs": [],
   "source": [
    "import numpy  as np\n",
    "import pandas as pd\n",
    "df = pd.DataFrame([(10.21, .32), (.01, .67), (-.66, .03), (.21, -.18)],\n",
    "                  columns=['dogs', 'cats'])"
   ]
  },
  {
   "cell_type": "markdown",
   "id": "planned-jacksonville",
   "metadata": {
    "tags": []
   },
   "source": [
    "### 演示数据"
   ]
  },
  {
   "cell_type": "code",
   "execution_count": 2,
   "id": "wireless-elements",
   "metadata": {
    "execution": {
     "iopub.execute_input": "2021-08-31T11:25:15.810179Z",
     "iopub.status.busy": "2021-08-31T11:25:15.809847Z",
     "iopub.status.idle": "2021-08-31T11:25:15.826586Z",
     "shell.execute_reply": "2021-08-31T11:25:15.825556Z",
     "shell.execute_reply.started": "2021-08-31T11:25:15.810156Z"
    },
    "tags": []
   },
   "outputs": [
    {
     "data": {
      "text/html": [
       "<div>\n",
       "<style scoped>\n",
       "    .dataframe tbody tr th:only-of-type {\n",
       "        vertical-align: middle;\n",
       "    }\n",
       "\n",
       "    .dataframe tbody tr th {\n",
       "        vertical-align: top;\n",
       "    }\n",
       "\n",
       "    .dataframe thead th {\n",
       "        text-align: right;\n",
       "    }\n",
       "</style>\n",
       "<table border=\"1\" class=\"dataframe\">\n",
       "  <thead>\n",
       "    <tr style=\"text-align: right;\">\n",
       "      <th></th>\n",
       "      <th>dogs</th>\n",
       "      <th>cats</th>\n",
       "    </tr>\n",
       "  </thead>\n",
       "  <tbody>\n",
       "    <tr>\n",
       "      <th>0</th>\n",
       "      <td>10.21</td>\n",
       "      <td>0.32</td>\n",
       "    </tr>\n",
       "    <tr>\n",
       "      <th>1</th>\n",
       "      <td>0.01</td>\n",
       "      <td>0.67</td>\n",
       "    </tr>\n",
       "    <tr>\n",
       "      <th>2</th>\n",
       "      <td>-0.66</td>\n",
       "      <td>0.03</td>\n",
       "    </tr>\n",
       "    <tr>\n",
       "      <th>3</th>\n",
       "      <td>0.21</td>\n",
       "      <td>-0.18</td>\n",
       "    </tr>\n",
       "  </tbody>\n",
       "</table>\n",
       "</div>"
      ],
      "text/plain": [
       "    dogs  cats\n",
       "0  10.21  0.32\n",
       "1   0.01  0.67\n",
       "2  -0.66  0.03\n",
       "3   0.21 -0.18"
      ]
     },
     "execution_count": 2,
     "metadata": {},
     "output_type": "execute_result"
    }
   ],
   "source": [
    "df "
   ]
  },
  {
   "cell_type": "code",
   "execution_count": 4,
   "id": "human-praise",
   "metadata": {
    "execution": {
     "iopub.execute_input": "2021-08-31T11:26:19.675923Z",
     "iopub.status.busy": "2021-08-31T11:26:19.675544Z",
     "iopub.status.idle": "2021-08-31T11:26:19.684861Z",
     "shell.execute_reply": "2021-08-31T11:26:19.683199Z",
     "shell.execute_reply.started": "2021-08-31T11:26:19.675892Z"
    }
   },
   "outputs": [
    {
     "data": {
      "text/plain": [
       "0    0.32\n",
       "1    0.67\n",
       "2    0.03\n",
       "3    0.18\n",
       "Name: cats, dtype: float64"
      ]
     },
     "execution_count": 4,
     "metadata": {},
     "output_type": "execute_result"
    }
   ],
   "source": [
    "df.cats.abs() # 列所有元素的绝对值"
   ]
  },
  {
   "cell_type": "code",
   "execution_count": 3,
   "id": "considered-border",
   "metadata": {
    "execution": {
     "iopub.execute_input": "2021-08-31T11:25:49.595688Z",
     "iopub.status.busy": "2021-08-31T11:25:49.595223Z",
     "iopub.status.idle": "2021-08-31T11:25:49.607174Z",
     "shell.execute_reply": "2021-08-31T11:25:49.606267Z",
     "shell.execute_reply.started": "2021-08-31T11:25:49.595653Z"
    }
   },
   "outputs": [
    {
     "data": {
      "text/html": [
       "<div>\n",
       "<style scoped>\n",
       "    .dataframe tbody tr th:only-of-type {\n",
       "        vertical-align: middle;\n",
       "    }\n",
       "\n",
       "    .dataframe tbody tr th {\n",
       "        vertical-align: top;\n",
       "    }\n",
       "\n",
       "    .dataframe thead th {\n",
       "        text-align: right;\n",
       "    }\n",
       "</style>\n",
       "<table border=\"1\" class=\"dataframe\">\n",
       "  <thead>\n",
       "    <tr style=\"text-align: right;\">\n",
       "      <th></th>\n",
       "      <th>dogs</th>\n",
       "      <th>cats</th>\n",
       "    </tr>\n",
       "  </thead>\n",
       "  <tbody>\n",
       "    <tr>\n",
       "      <th>0</th>\n",
       "      <td>10.21</td>\n",
       "      <td>0.32</td>\n",
       "    </tr>\n",
       "    <tr>\n",
       "      <th>1</th>\n",
       "      <td>0.01</td>\n",
       "      <td>0.67</td>\n",
       "    </tr>\n",
       "    <tr>\n",
       "      <th>2</th>\n",
       "      <td>0.66</td>\n",
       "      <td>0.03</td>\n",
       "    </tr>\n",
       "    <tr>\n",
       "      <th>3</th>\n",
       "      <td>0.21</td>\n",
       "      <td>0.18</td>\n",
       "    </tr>\n",
       "  </tbody>\n",
       "</table>\n",
       "</div>"
      ],
      "text/plain": [
       "    dogs  cats\n",
       "0  10.21  0.32\n",
       "1   0.01  0.67\n",
       "2   0.66  0.03\n",
       "3   0.21  0.18"
      ]
     },
     "execution_count": 3,
     "metadata": {},
     "output_type": "execute_result"
    }
   ],
   "source": [
    "df.abs() # 表格所有元素的绝对值"
   ]
  }
 ],
 "metadata": {
  "kernelspec": {
   "display_name": "Python 3",
   "language": "python",
   "name": "python3"
  },
  "language_info": {
   "codemirror_mode": {
    "name": "ipython",
    "version": 3
   },
   "file_extension": ".py",
   "mimetype": "text/x-python",
   "name": "python",
   "nbconvert_exporter": "python",
   "pygments_lexer": "ipython3",
   "version": "3.6.8"
  }
 },
 "nbformat": 4,
 "nbformat_minor": 5
}
