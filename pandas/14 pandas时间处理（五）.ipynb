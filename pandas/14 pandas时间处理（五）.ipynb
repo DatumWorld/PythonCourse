{
 "cells": [
  {
   "cell_type": "markdown",
   "id": "functioning-lewis",
   "metadata": {
    "execution": {
     "iopub.execute_input": "2021-05-10T07:18:52.990449Z",
     "iopub.status.busy": "2021-05-10T07:18:52.990449Z",
     "iopub.status.idle": "2021-05-10T07:18:52.994464Z",
     "shell.execute_reply": "2021-05-10T07:18:52.993452Z",
     "shell.execute_reply.started": "2021-05-10T07:18:52.990449Z"
    }
   },
   "source": [
    "## pandas时间处理（五）"
   ]
  },
  {
   "cell_type": "markdown",
   "id": "veterinary-blank",
   "metadata": {},
   "source": [
    "### 比较常用的时间处理函数。\n",
    "#### 综合利用DateOffSet dateutil calendar 计算 时间/日期所在月的第一天或最后一天（可用以参考计算周/季度的第一天和最后一天）。方法较多，仅供参考"
   ]
  },
  {
   "cell_type": "code",
   "execution_count": 100,
   "id": "dietary-royal",
   "metadata": {
    "execution": {
     "iopub.execute_input": "2021-05-31T06:11:16.299173Z",
     "iopub.status.busy": "2021-05-31T06:11:16.299173Z",
     "iopub.status.idle": "2021-05-31T06:11:16.327187Z",
     "shell.execute_reply": "2021-05-31T06:11:16.327187Z",
     "shell.execute_reply.started": "2021-05-31T06:11:16.299173Z"
    }
   },
   "outputs": [],
   "source": [
    "from faker import Faker\n",
    "fake = Faker('zh_CN')"
   ]
  },
  {
   "cell_type": "code",
   "execution_count": 101,
   "id": "commercial-gibraltar",
   "metadata": {
    "execution": {
     "iopub.execute_input": "2021-05-31T06:11:16.328177Z",
     "iopub.status.busy": "2021-05-31T06:11:16.328177Z",
     "iopub.status.idle": "2021-05-31T06:11:16.334206Z",
     "shell.execute_reply": "2021-05-31T06:11:16.334206Z",
     "shell.execute_reply.started": "2021-05-31T06:11:16.328177Z"
    }
   },
   "outputs": [],
   "source": [
    "import pandas as pd\n",
    "import  datetime,calendar\n",
    "from pandas.tseries.offsets import *\n",
    "from dateutil import relativedelta\n",
    "df=pd.DataFrame(data=[ [fake.date()+' '+fake.time(),fake.date()] for x in range(10) ],columns=['datetime','date'])"
   ]
  },
  {
   "cell_type": "code",
   "execution_count": 102,
   "id": "fatty-earthquake",
   "metadata": {
    "execution": {
     "iopub.execute_input": "2021-05-31T06:11:16.337179Z",
     "iopub.status.busy": "2021-05-31T06:11:16.337179Z",
     "iopub.status.idle": "2021-05-31T06:11:16.348176Z",
     "shell.execute_reply": "2021-05-31T06:11:16.348176Z",
     "shell.execute_reply.started": "2021-05-31T06:11:16.337179Z"
    }
   },
   "outputs": [
    {
     "data": {
      "text/html": [
       "<div>\n",
       "<style scoped>\n",
       "    .dataframe tbody tr th:only-of-type {\n",
       "        vertical-align: middle;\n",
       "    }\n",
       "\n",
       "    .dataframe tbody tr th {\n",
       "        vertical-align: top;\n",
       "    }\n",
       "\n",
       "    .dataframe thead th {\n",
       "        text-align: right;\n",
       "    }\n",
       "</style>\n",
       "<table border=\"1\" class=\"dataframe\">\n",
       "  <thead>\n",
       "    <tr style=\"text-align: right;\">\n",
       "      <th></th>\n",
       "      <th>datetime</th>\n",
       "      <th>date</th>\n",
       "    </tr>\n",
       "  </thead>\n",
       "  <tbody>\n",
       "    <tr>\n",
       "      <th>0</th>\n",
       "      <td>2019-05-12 14:13:21</td>\n",
       "      <td>1984-10-12</td>\n",
       "    </tr>\n",
       "    <tr>\n",
       "      <th>1</th>\n",
       "      <td>1993-08-08 16:05:03</td>\n",
       "      <td>2016-05-20</td>\n",
       "    </tr>\n",
       "    <tr>\n",
       "      <th>2</th>\n",
       "      <td>2015-09-21 03:12:29</td>\n",
       "      <td>2013-08-31</td>\n",
       "    </tr>\n",
       "    <tr>\n",
       "      <th>3</th>\n",
       "      <td>2013-01-19 01:55:31</td>\n",
       "      <td>2018-01-14</td>\n",
       "    </tr>\n",
       "    <tr>\n",
       "      <th>4</th>\n",
       "      <td>1982-01-02 02:12:12</td>\n",
       "      <td>2000-05-21</td>\n",
       "    </tr>\n",
       "    <tr>\n",
       "      <th>5</th>\n",
       "      <td>1980-12-02 14:52:04</td>\n",
       "      <td>1994-02-05</td>\n",
       "    </tr>\n",
       "    <tr>\n",
       "      <th>6</th>\n",
       "      <td>2008-04-17 05:30:02</td>\n",
       "      <td>1985-08-29</td>\n",
       "    </tr>\n",
       "    <tr>\n",
       "      <th>7</th>\n",
       "      <td>1977-02-10 14:12:47</td>\n",
       "      <td>1980-04-04</td>\n",
       "    </tr>\n",
       "    <tr>\n",
       "      <th>8</th>\n",
       "      <td>2013-08-23 02:33:21</td>\n",
       "      <td>1990-06-06</td>\n",
       "    </tr>\n",
       "    <tr>\n",
       "      <th>9</th>\n",
       "      <td>2003-03-15 17:18:55</td>\n",
       "      <td>2003-04-21</td>\n",
       "    </tr>\n",
       "  </tbody>\n",
       "</table>\n",
       "</div>"
      ],
      "text/plain": [
       "              datetime        date\n",
       "0  2019-05-12 14:13:21  1984-10-12\n",
       "1  1993-08-08 16:05:03  2016-05-20\n",
       "2  2015-09-21 03:12:29  2013-08-31\n",
       "3  2013-01-19 01:55:31  2018-01-14\n",
       "4  1982-01-02 02:12:12  2000-05-21\n",
       "5  1980-12-02 14:52:04  1994-02-05\n",
       "6  2008-04-17 05:30:02  1985-08-29\n",
       "7  1977-02-10 14:12:47  1980-04-04\n",
       "8  2013-08-23 02:33:21  1990-06-06\n",
       "9  2003-03-15 17:18:55  2003-04-21"
      ]
     },
     "execution_count": 102,
     "metadata": {},
     "output_type": "execute_result"
    }
   ],
   "source": [
    "df"
   ]
  },
  {
   "cell_type": "code",
   "execution_count": 103,
   "id": "answering-least",
   "metadata": {
    "execution": {
     "iopub.execute_input": "2021-05-31T06:11:16.350173Z",
     "iopub.status.busy": "2021-05-31T06:11:16.350173Z",
     "iopub.status.idle": "2021-05-31T06:11:16.358175Z",
     "shell.execute_reply": "2021-05-31T06:11:16.358175Z",
     "shell.execute_reply.started": "2021-05-31T06:11:16.350173Z"
    }
   },
   "outputs": [],
   "source": [
    "df.datetime=df.datetime.astype('datetime64') # 将时间字符串转换成时间格式"
   ]
  },
  {
   "cell_type": "code",
   "execution_count": 104,
   "id": "herbal-integrity",
   "metadata": {
    "execution": {
     "iopub.execute_input": "2021-05-31T06:11:16.359173Z",
     "iopub.status.busy": "2021-05-31T06:11:16.359173Z",
     "iopub.status.idle": "2021-05-31T06:11:16.370177Z",
     "shell.execute_reply": "2021-05-31T06:11:16.369202Z",
     "shell.execute_reply.started": "2021-05-31T06:11:16.359173Z"
    }
   },
   "outputs": [],
   "source": [
    "df.date=df.date.astype('datetime64') # 将时间字符串转换成时间格式"
   ]
  },
  {
   "cell_type": "code",
   "execution_count": 106,
   "id": "tribal-delivery",
   "metadata": {
    "execution": {
     "iopub.execute_input": "2021-05-31T06:13:18.047175Z",
     "iopub.status.busy": "2021-05-31T06:13:18.046173Z",
     "iopub.status.idle": "2021-05-31T06:13:18.053179Z",
     "shell.execute_reply": "2021-05-31T06:13:18.052175Z",
     "shell.execute_reply.started": "2021-05-31T06:13:18.046173Z"
    }
   },
   "outputs": [
    {
     "data": {
      "text/plain": [
       "0   1984-10-01\n",
       "1   2016-05-01\n",
       "2   2013-08-01\n",
       "3   2018-01-01\n",
       "4   2000-05-01\n",
       "5   1994-02-01\n",
       "6   1985-08-01\n",
       "7   1980-04-01\n",
       "8   1990-06-01\n",
       "9   2003-04-01\n",
       "Name: date, dtype: datetime64[ns]"
      ]
     },
     "execution_count": 106,
     "metadata": {},
     "output_type": "execute_result"
    }
   ],
   "source": [
    "df.date.dt.strftime('%Y-%m-01').astype('datetime64') # 获取当月第一天，注意结果类型"
   ]
  },
  {
   "cell_type": "code",
   "execution_count": 107,
   "id": "automotive-desktop",
   "metadata": {
    "execution": {
     "iopub.execute_input": "2021-05-31T06:14:10.215177Z",
     "iopub.status.busy": "2021-05-31T06:14:10.214177Z",
     "iopub.status.idle": "2021-05-31T06:14:10.224183Z",
     "shell.execute_reply": "2021-05-31T06:14:10.223179Z",
     "shell.execute_reply.started": "2021-05-31T06:14:10.215177Z"
    }
   },
   "outputs": [
    {
     "data": {
      "text/plain": [
       "0   1984-10-01\n",
       "1   2016-05-01\n",
       "2   2013-08-01\n",
       "3   2018-01-01\n",
       "4   2000-05-01\n",
       "5   1994-02-01\n",
       "6   1985-08-01\n",
       "7   1980-04-01\n",
       "8   1990-06-01\n",
       "9   2003-04-01\n",
       "Name: date, dtype: datetime64[ns]"
      ]
     },
     "execution_count": 107,
     "metadata": {},
     "output_type": "execute_result"
    }
   ],
   "source": [
    "df.date.map(lambda x :pd.Timestamp(x.year,x.month,1)) # 获取当月第一天"
   ]
  },
  {
   "cell_type": "code",
   "execution_count": 108,
   "id": "important-burns",
   "metadata": {
    "execution": {
     "iopub.execute_input": "2021-05-31T06:15:06.159178Z",
     "iopub.status.busy": "2021-05-31T06:15:06.159178Z",
     "iopub.status.idle": "2021-05-31T06:15:06.169174Z",
     "shell.execute_reply": "2021-05-31T06:15:06.168183Z",
     "shell.execute_reply.started": "2021-05-31T06:15:06.159178Z"
    }
   },
   "outputs": [
    {
     "data": {
      "text/plain": [
       "0   1984-10-01\n",
       "1   2016-05-01\n",
       "2   2013-08-01\n",
       "3   2018-01-01\n",
       "4   2000-05-01\n",
       "5   1994-02-01\n",
       "6   1985-08-01\n",
       "7   1980-04-01\n",
       "8   1990-06-01\n",
       "9   2003-04-01\n",
       "Name: date, dtype: datetime64[ns]"
      ]
     },
     "execution_count": 108,
     "metadata": {},
     "output_type": "execute_result"
    }
   ],
   "source": [
    "df.date.map(lambda x : x-pd.DateOffset(x.day-1)) # 获取当月第一天，利用时间天数差值"
   ]
  },
  {
   "cell_type": "code",
   "execution_count": 109,
   "id": "given-proposal",
   "metadata": {
    "execution": {
     "iopub.execute_input": "2021-05-31T06:16:01.545186Z",
     "iopub.status.busy": "2021-05-31T06:16:01.545186Z",
     "iopub.status.idle": "2021-05-31T06:16:01.555177Z",
     "shell.execute_reply": "2021-05-31T06:16:01.553179Z",
     "shell.execute_reply.started": "2021-05-31T06:16:01.545186Z"
    }
   },
   "outputs": [
    {
     "data": {
      "text/plain": [
       "0   1984-10-01\n",
       "1   2016-05-01\n",
       "2   2013-08-01\n",
       "3   2018-01-01\n",
       "4   2000-05-01\n",
       "5   1994-02-01\n",
       "6   1985-08-01\n",
       "7   1980-04-01\n",
       "8   1990-06-01\n",
       "9   2003-04-01\n",
       "Name: date, dtype: datetime64[ns]"
      ]
     },
     "execution_count": 109,
     "metadata": {},
     "output_type": "execute_result"
    }
   ],
   "source": [
    "df.date.map(lambda x : datetime.datetime(x.year,x.month,1)) # 获取党羽第一天，利用datetime"
   ]
  },
  {
   "cell_type": "code",
   "execution_count": 116,
   "id": "limiting-length",
   "metadata": {
    "execution": {
     "iopub.execute_input": "2021-05-31T06:21:43.785186Z",
     "iopub.status.busy": "2021-05-31T06:21:43.784178Z",
     "iopub.status.idle": "2021-05-31T06:21:43.793175Z",
     "shell.execute_reply": "2021-05-31T06:21:43.792206Z",
     "shell.execute_reply.started": "2021-05-31T06:21:43.785186Z"
    }
   },
   "outputs": [
    {
     "data": {
      "text/plain": [
       "0   1984-10-01\n",
       "1   2016-05-01\n",
       "2   2013-08-01\n",
       "3   2018-01-01\n",
       "4   2000-05-01\n",
       "5   1994-02-01\n",
       "6   1985-08-01\n",
       "7   1980-04-01\n",
       "8   1990-06-01\n",
       "9   2003-04-01\n",
       "Name: date, dtype: datetime64[ns]"
      ]
     },
     "execution_count": 116,
     "metadata": {},
     "output_type": "execute_result"
    }
   ],
   "source": [
    "df.date.map(lambda x : x-relativedelta.relativedelta(days=x.day-1)) # 获取党羽第一天，利用dateutil"
   ]
  },
  {
   "cell_type": "code",
   "execution_count": 111,
   "id": "sensitive-security",
   "metadata": {
    "execution": {
     "iopub.execute_input": "2021-05-31T06:17:10.697176Z",
     "iopub.status.busy": "2021-05-31T06:17:10.697176Z",
     "iopub.status.idle": "2021-05-31T06:17:10.706196Z",
     "shell.execute_reply": "2021-05-31T06:17:10.704176Z",
     "shell.execute_reply.started": "2021-05-31T06:17:10.697176Z"
    }
   },
   "outputs": [
    {
     "data": {
      "text/plain": [
       "0   1984-10-31\n",
       "1   2016-05-31\n",
       "2   2013-08-31\n",
       "3   2018-01-31\n",
       "4   2000-05-31\n",
       "5   1994-02-28\n",
       "6   1985-08-31\n",
       "7   1980-04-30\n",
       "8   1990-06-30\n",
       "9   2003-04-30\n",
       "Name: date, dtype: datetime64[ns]"
      ]
     },
     "execution_count": 111,
     "metadata": {},
     "output_type": "execute_result"
    }
   ],
   "source": [
    "df.date.map(lambda x :pd.Timestamp(x.year,x.month,x.daysinmonth)) # 获取当月最后一天"
   ]
  },
  {
   "cell_type": "code",
   "execution_count": 112,
   "id": "laughing-referral",
   "metadata": {
    "execution": {
     "iopub.execute_input": "2021-05-31T06:17:55.279179Z",
     "iopub.status.busy": "2021-05-31T06:17:55.279179Z",
     "iopub.status.idle": "2021-05-31T06:17:55.284176Z",
     "shell.execute_reply": "2021-05-31T06:17:55.284176Z",
     "shell.execute_reply.started": "2021-05-31T06:17:55.279179Z"
    }
   },
   "outputs": [
    {
     "data": {
      "text/plain": [
       "0   1984-10-31\n",
       "1   2016-05-31\n",
       "2   2013-08-31\n",
       "3   2018-01-31\n",
       "4   2000-05-31\n",
       "5   1994-02-28\n",
       "6   1985-08-31\n",
       "7   1980-04-30\n",
       "8   1990-06-30\n",
       "9   2003-04-30\n",
       "Name: date, dtype: datetime64[ns]"
      ]
     },
     "execution_count": 112,
     "metadata": {},
     "output_type": "execute_result"
    }
   ],
   "source": [
    "df.date.map(lambda x : x+ pd.DateOffset(x.daysinmonth-x.day)) # 获取当月最后一天，利用时间天数差值"
   ]
  },
  {
   "cell_type": "code",
   "execution_count": 115,
   "id": "married-finance",
   "metadata": {
    "execution": {
     "iopub.execute_input": "2021-05-31T06:19:00.594175Z",
     "iopub.status.busy": "2021-05-31T06:19:00.594175Z",
     "iopub.status.idle": "2021-05-31T06:19:00.599178Z",
     "shell.execute_reply": "2021-05-31T06:19:00.599178Z",
     "shell.execute_reply.started": "2021-05-31T06:19:00.594175Z"
    }
   },
   "outputs": [
    {
     "data": {
      "text/plain": [
       "0   1984-10-31\n",
       "1   2016-05-31\n",
       "2   2013-08-31\n",
       "3   2018-01-31\n",
       "4   2000-05-31\n",
       "5   1994-02-28\n",
       "6   1985-08-31\n",
       "7   1980-04-30\n",
       "8   1990-06-30\n",
       "9   2003-04-30\n",
       "Name: date, dtype: datetime64[ns]"
      ]
     },
     "execution_count": 115,
     "metadata": {},
     "output_type": "execute_result"
    }
   ],
   "source": [
    "df.date.map(lambda x : datetime.datetime(x.year,x.month, calendar.monthrange(x.year,x.month)[1])) # 获取当月最后一天，利用datetime和calendar"
   ]
  }
 ],
 "metadata": {
  "kernelspec": {
   "display_name": "Python 3",
   "language": "python",
   "name": "python3"
  },
  "language_info": {
   "codemirror_mode": {
    "name": "ipython",
    "version": 3
   },
   "file_extension": ".py",
   "mimetype": "text/x-python",
   "name": "python",
   "nbconvert_exporter": "python",
   "pygments_lexer": "ipython3",
   "version": "3.6.8"
  }
 },
 "nbformat": 4,
 "nbformat_minor": 5
}
