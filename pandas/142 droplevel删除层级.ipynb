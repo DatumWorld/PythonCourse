{
 "cells": [
  {
   "cell_type": "markdown",
   "id": "honest-shirt",
   "metadata": {
    "execution": {
     "iopub.execute_input": "2021-05-10T07:18:52.990449Z",
     "iopub.status.busy": "2021-05-10T07:18:52.990449Z",
     "iopub.status.idle": "2021-05-10T07:18:52.994464Z",
     "shell.execute_reply": "2021-05-10T07:18:52.993452Z",
     "shell.execute_reply.started": "2021-05-10T07:18:52.990449Z"
    },
    "tags": []
   },
   "source": [
    "## 142 droplevel删除层级"
   ]
  },
  {
   "cell_type": "markdown",
   "id": "welcome-satin",
   "metadata": {
    "tags": []
   },
   "source": [
    "### droplevel：删除层级\n",
    "参数 level, axis=0"
   ]
  },
  {
   "cell_type": "code",
   "execution_count": 1,
   "id": "quick-environment",
   "metadata": {
    "execution": {
     "iopub.execute_input": "2021-09-01T11:12:54.459895Z",
     "iopub.status.busy": "2021-09-01T11:12:54.459414Z",
     "iopub.status.idle": "2021-09-01T11:12:54.749034Z",
     "shell.execute_reply": "2021-09-01T11:12:54.747981Z",
     "shell.execute_reply.started": "2021-09-01T11:12:54.459841Z"
    },
    "tags": []
   },
   "outputs": [],
   "source": [
    "import numpy  as np\n",
    "import pandas as pd\n",
    "df = pd.DataFrame(\n",
    "    [\n",
    "    [1, 2, 3, 4],\n",
    "    [5, 6, 7, 8],\n",
    "    [9, 10, 11, 12]\n",
    "        \n",
    "]).set_index([0, 1]).rename_axis(['a', 'b'])\n",
    "df.columns = pd.MultiIndex.from_tuples([\n",
    "    ('c', 'e'), ('d', 'f')\n",
    "], names=['level_1', 'level_2'])\n",
    "mi = pd.MultiIndex.from_arrays(\n",
    "[[1, 2], [3, 4], [5, 6]], names=['x', 'y', 'z'])"
   ]
  },
  {
   "cell_type": "markdown",
   "id": "fresh-stick",
   "metadata": {
    "tags": []
   },
   "source": [
    "### 演示数据"
   ]
  },
  {
   "cell_type": "code",
   "execution_count": 2,
   "id": "hindu-links",
   "metadata": {
    "execution": {
     "iopub.execute_input": "2021-09-01T11:12:54.750788Z",
     "iopub.status.busy": "2021-09-01T11:12:54.750566Z",
     "iopub.status.idle": "2021-09-01T11:12:54.768669Z",
     "shell.execute_reply": "2021-09-01T11:12:54.768040Z",
     "shell.execute_reply.started": "2021-09-01T11:12:54.750764Z"
    },
    "tags": []
   },
   "outputs": [
    {
     "data": {
      "text/html": [
       "<div>\n",
       "<style scoped>\n",
       "    .dataframe tbody tr th:only-of-type {\n",
       "        vertical-align: middle;\n",
       "    }\n",
       "\n",
       "    .dataframe tbody tr th {\n",
       "        vertical-align: top;\n",
       "    }\n",
       "\n",
       "    .dataframe thead tr th {\n",
       "        text-align: left;\n",
       "    }\n",
       "\n",
       "    .dataframe thead tr:last-of-type th {\n",
       "        text-align: right;\n",
       "    }\n",
       "</style>\n",
       "<table border=\"1\" class=\"dataframe\">\n",
       "  <thead>\n",
       "    <tr>\n",
       "      <th></th>\n",
       "      <th>level_1</th>\n",
       "      <th>c</th>\n",
       "      <th>d</th>\n",
       "    </tr>\n",
       "    <tr>\n",
       "      <th></th>\n",
       "      <th>level_2</th>\n",
       "      <th>e</th>\n",
       "      <th>f</th>\n",
       "    </tr>\n",
       "    <tr>\n",
       "      <th>a</th>\n",
       "      <th>b</th>\n",
       "      <th></th>\n",
       "      <th></th>\n",
       "    </tr>\n",
       "  </thead>\n",
       "  <tbody>\n",
       "    <tr>\n",
       "      <th>1</th>\n",
       "      <th>2</th>\n",
       "      <td>3</td>\n",
       "      <td>4</td>\n",
       "    </tr>\n",
       "    <tr>\n",
       "      <th>5</th>\n",
       "      <th>6</th>\n",
       "      <td>7</td>\n",
       "      <td>8</td>\n",
       "    </tr>\n",
       "    <tr>\n",
       "      <th>9</th>\n",
       "      <th>10</th>\n",
       "      <td>11</td>\n",
       "      <td>12</td>\n",
       "    </tr>\n",
       "  </tbody>\n",
       "</table>\n",
       "</div>"
      ],
      "text/plain": [
       "level_1   c   d\n",
       "level_2   e   f\n",
       "a b            \n",
       "1 2       3   4\n",
       "5 6       7   8\n",
       "9 10     11  12"
      ]
     },
     "execution_count": 2,
     "metadata": {},
     "output_type": "execute_result"
    }
   ],
   "source": [
    "df"
   ]
  },
  {
   "cell_type": "code",
   "execution_count": 8,
   "id": "beneficial-gabriel",
   "metadata": {
    "execution": {
     "iopub.execute_input": "2021-09-01T11:16:50.843316Z",
     "iopub.status.busy": "2021-09-01T11:16:50.842796Z",
     "iopub.status.idle": "2021-09-01T11:16:50.851164Z",
     "shell.execute_reply": "2021-09-01T11:16:50.850423Z",
     "shell.execute_reply.started": "2021-09-01T11:16:50.843248Z"
    }
   },
   "outputs": [
    {
     "data": {
      "text/plain": [
       "MultiIndex([(1, 3, 5),\n",
       "            (2, 4, 6)],\n",
       "           names=['x', 'y', 'z'])"
      ]
     },
     "execution_count": 8,
     "metadata": {},
     "output_type": "execute_result"
    }
   ],
   "source": [
    "mi"
   ]
  },
  {
   "cell_type": "code",
   "execution_count": 13,
   "id": "tutorial-border",
   "metadata": {
    "execution": {
     "iopub.execute_input": "2021-09-01T11:18:44.816754Z",
     "iopub.status.busy": "2021-09-01T11:18:44.816477Z",
     "iopub.status.idle": "2021-09-01T11:18:44.821622Z",
     "shell.execute_reply": "2021-09-01T11:18:44.821052Z",
     "shell.execute_reply.started": "2021-09-01T11:18:44.816731Z"
    }
   },
   "outputs": [
    {
     "data": {
      "text/plain": [
       "Int64Index([3, 4], dtype='int64', name='y')"
      ]
     },
     "execution_count": 13,
     "metadata": {},
     "output_type": "execute_result"
    }
   ],
   "source": [
    "mi.droplevel([0,2]) # 索引 索引上的层级,使用层级数字"
   ]
  },
  {
   "cell_type": "code",
   "execution_count": 9,
   "id": "heard-measure",
   "metadata": {
    "execution": {
     "iopub.execute_input": "2021-09-01T11:17:15.217391Z",
     "iopub.status.busy": "2021-09-01T11:17:15.217098Z",
     "iopub.status.idle": "2021-09-01T11:17:15.224504Z",
     "shell.execute_reply": "2021-09-01T11:17:15.223385Z",
     "shell.execute_reply.started": "2021-09-01T11:17:15.217359Z"
    }
   },
   "outputs": [
    {
     "data": {
      "text/plain": [
       "MultiIndex([(3, 5),\n",
       "            (4, 6)],\n",
       "           names=['y', 'z'])"
      ]
     },
     "execution_count": 9,
     "metadata": {},
     "output_type": "execute_result"
    }
   ],
   "source": [
    "mi.droplevel(['x']) # 索引 索引上的一个层级"
   ]
  },
  {
   "cell_type": "code",
   "execution_count": 10,
   "id": "corrected-poland",
   "metadata": {
    "execution": {
     "iopub.execute_input": "2021-09-01T11:17:30.635149Z",
     "iopub.status.busy": "2021-09-01T11:17:30.634622Z",
     "iopub.status.idle": "2021-09-01T11:17:30.642373Z",
     "shell.execute_reply": "2021-09-01T11:17:30.641660Z",
     "shell.execute_reply.started": "2021-09-01T11:17:30.635104Z"
    }
   },
   "outputs": [
    {
     "data": {
      "text/plain": [
       "Int64Index([5, 6], dtype='int64', name='z')"
      ]
     },
     "execution_count": 10,
     "metadata": {},
     "output_type": "execute_result"
    }
   ],
   "source": [
    "mi.droplevel(['x','y']) # 索引 索引上的多个层级"
   ]
  },
  {
   "cell_type": "code",
   "execution_count": 7,
   "id": "through-payday",
   "metadata": {
    "execution": {
     "iopub.execute_input": "2021-09-01T11:15:33.715282Z",
     "iopub.status.busy": "2021-09-01T11:15:33.714826Z",
     "iopub.status.idle": "2021-09-01T11:15:33.729487Z",
     "shell.execute_reply": "2021-09-01T11:15:33.727361Z",
     "shell.execute_reply.started": "2021-09-01T11:15:33.715246Z"
    }
   },
   "outputs": [
    {
     "data": {
      "text/html": [
       "<div>\n",
       "<style scoped>\n",
       "    .dataframe tbody tr th:only-of-type {\n",
       "        vertical-align: middle;\n",
       "    }\n",
       "\n",
       "    .dataframe tbody tr th {\n",
       "        vertical-align: top;\n",
       "    }\n",
       "\n",
       "    .dataframe thead th {\n",
       "        text-align: right;\n",
       "    }\n",
       "</style>\n",
       "<table border=\"1\" class=\"dataframe\">\n",
       "  <thead>\n",
       "    <tr style=\"text-align: right;\">\n",
       "      <th></th>\n",
       "      <th>level_1</th>\n",
       "      <th>c</th>\n",
       "      <th>d</th>\n",
       "    </tr>\n",
       "    <tr>\n",
       "      <th>a</th>\n",
       "      <th>b</th>\n",
       "      <th></th>\n",
       "      <th></th>\n",
       "    </tr>\n",
       "  </thead>\n",
       "  <tbody>\n",
       "    <tr>\n",
       "      <th>1</th>\n",
       "      <th>2</th>\n",
       "      <td>3</td>\n",
       "      <td>4</td>\n",
       "    </tr>\n",
       "    <tr>\n",
       "      <th>5</th>\n",
       "      <th>6</th>\n",
       "      <td>7</td>\n",
       "      <td>8</td>\n",
       "    </tr>\n",
       "    <tr>\n",
       "      <th>9</th>\n",
       "      <th>10</th>\n",
       "      <td>11</td>\n",
       "      <td>12</td>\n",
       "    </tr>\n",
       "  </tbody>\n",
       "</table>\n",
       "</div>"
      ],
      "text/plain": [
       "level_1   c   d\n",
       "a b            \n",
       "1 2       3   4\n",
       "5 6       7   8\n",
       "9 10     11  12"
      ]
     },
     "execution_count": 7,
     "metadata": {},
     "output_type": "execute_result"
    }
   ],
   "source": [
    "df.droplevel(level=1,axis=1) # axis 轴方向 1是列上"
   ]
  },
  {
   "cell_type": "code",
   "execution_count": 14,
   "id": "prompt-darkness",
   "metadata": {
    "execution": {
     "iopub.execute_input": "2021-09-01T11:19:26.560800Z",
     "iopub.status.busy": "2021-09-01T11:19:26.560366Z",
     "iopub.status.idle": "2021-09-01T11:19:26.578025Z",
     "shell.execute_reply": "2021-09-01T11:19:26.576126Z",
     "shell.execute_reply.started": "2021-09-01T11:19:26.560765Z"
    }
   },
   "outputs": [
    {
     "ename": "ValueError",
     "evalue": "Cannot remove 2 levels from an index with 2 levels: at least one level must be left.",
     "output_type": "error",
     "traceback": [
      "\u001b[0;31m---------------------------------------------------------------------------\u001b[0m",
      "\u001b[0;31mValueError\u001b[0m                                Traceback (most recent call last)",
      "\u001b[0;32m<ipython-input-14-a32ea4351b05>\u001b[0m in \u001b[0;36m<module>\u001b[0;34m\u001b[0m\n\u001b[0;32m----> 1\u001b[0;31m \u001b[0mdf\u001b[0m\u001b[0;34m.\u001b[0m\u001b[0mdroplevel\u001b[0m\u001b[0;34m(\u001b[0m\u001b[0mlevel\u001b[0m\u001b[0;34m=\u001b[0m\u001b[0;34m[\u001b[0m\u001b[0;36m0\u001b[0m\u001b[0;34m,\u001b[0m\u001b[0;36m1\u001b[0m\u001b[0;34m]\u001b[0m\u001b[0;34m)\u001b[0m \u001b[0;31m# 删除层级b(level=1)\u001b[0m\u001b[0;34m\u001b[0m\u001b[0;34m\u001b[0m\u001b[0m\n\u001b[0m",
      "\u001b[0;32m/app/miniconda3/envs/jupyter/lib/python3.8/site-packages/pandas/core/generic.py\u001b[0m in \u001b[0;36mdroplevel\u001b[0;34m(self, level, axis)\u001b[0m\n\u001b[1;32m    762\u001b[0m         \"\"\"\n\u001b[1;32m    763\u001b[0m         \u001b[0mlabels\u001b[0m \u001b[0;34m=\u001b[0m \u001b[0mself\u001b[0m\u001b[0;34m.\u001b[0m\u001b[0m_get_axis\u001b[0m\u001b[0;34m(\u001b[0m\u001b[0maxis\u001b[0m\u001b[0;34m)\u001b[0m\u001b[0;34m\u001b[0m\u001b[0;34m\u001b[0m\u001b[0m\n\u001b[0;32m--> 764\u001b[0;31m         \u001b[0mnew_labels\u001b[0m \u001b[0;34m=\u001b[0m \u001b[0mlabels\u001b[0m\u001b[0;34m.\u001b[0m\u001b[0mdroplevel\u001b[0m\u001b[0;34m(\u001b[0m\u001b[0mlevel\u001b[0m\u001b[0;34m)\u001b[0m\u001b[0;34m\u001b[0m\u001b[0;34m\u001b[0m\u001b[0m\n\u001b[0m\u001b[1;32m    765\u001b[0m         \u001b[0mresult\u001b[0m \u001b[0;34m=\u001b[0m \u001b[0mself\u001b[0m\u001b[0;34m.\u001b[0m\u001b[0mset_axis\u001b[0m\u001b[0;34m(\u001b[0m\u001b[0mnew_labels\u001b[0m\u001b[0;34m,\u001b[0m \u001b[0maxis\u001b[0m\u001b[0;34m=\u001b[0m\u001b[0maxis\u001b[0m\u001b[0;34m,\u001b[0m \u001b[0minplace\u001b[0m\u001b[0;34m=\u001b[0m\u001b[0;32mFalse\u001b[0m\u001b[0;34m)\u001b[0m\u001b[0;34m\u001b[0m\u001b[0;34m\u001b[0m\u001b[0m\n\u001b[1;32m    766\u001b[0m         \u001b[0;32mreturn\u001b[0m \u001b[0mresult\u001b[0m\u001b[0;34m\u001b[0m\u001b[0;34m\u001b[0m\u001b[0m\n",
      "\u001b[0;32m/app/miniconda3/envs/jupyter/lib/python3.8/site-packages/pandas/core/indexes/base.py\u001b[0m in \u001b[0;36mdroplevel\u001b[0;34m(self, level)\u001b[0m\n\u001b[1;32m   1609\u001b[0m         \u001b[0mlevnums\u001b[0m \u001b[0;34m=\u001b[0m \u001b[0msorted\u001b[0m\u001b[0;34m(\u001b[0m\u001b[0mself\u001b[0m\u001b[0;34m.\u001b[0m\u001b[0m_get_level_number\u001b[0m\u001b[0;34m(\u001b[0m\u001b[0mlev\u001b[0m\u001b[0;34m)\u001b[0m \u001b[0;32mfor\u001b[0m \u001b[0mlev\u001b[0m \u001b[0;32min\u001b[0m \u001b[0mlevel\u001b[0m\u001b[0;34m)\u001b[0m\u001b[0;34m[\u001b[0m\u001b[0;34m:\u001b[0m\u001b[0;34m:\u001b[0m\u001b[0;34m-\u001b[0m\u001b[0;36m1\u001b[0m\u001b[0;34m]\u001b[0m\u001b[0;34m\u001b[0m\u001b[0;34m\u001b[0m\u001b[0m\n\u001b[1;32m   1610\u001b[0m \u001b[0;34m\u001b[0m\u001b[0m\n\u001b[0;32m-> 1611\u001b[0;31m         \u001b[0;32mreturn\u001b[0m \u001b[0mself\u001b[0m\u001b[0;34m.\u001b[0m\u001b[0m_drop_level_numbers\u001b[0m\u001b[0;34m(\u001b[0m\u001b[0mlevnums\u001b[0m\u001b[0;34m)\u001b[0m\u001b[0;34m\u001b[0m\u001b[0;34m\u001b[0m\u001b[0m\n\u001b[0m\u001b[1;32m   1612\u001b[0m \u001b[0;34m\u001b[0m\u001b[0m\n\u001b[1;32m   1613\u001b[0m     \u001b[0;32mdef\u001b[0m \u001b[0m_drop_level_numbers\u001b[0m\u001b[0;34m(\u001b[0m\u001b[0mself\u001b[0m\u001b[0;34m,\u001b[0m \u001b[0mlevnums\u001b[0m\u001b[0;34m:\u001b[0m \u001b[0mList\u001b[0m\u001b[0;34m[\u001b[0m\u001b[0mint\u001b[0m\u001b[0;34m]\u001b[0m\u001b[0;34m)\u001b[0m\u001b[0;34m:\u001b[0m\u001b[0;34m\u001b[0m\u001b[0;34m\u001b[0m\u001b[0m\n",
      "\u001b[0;32m/app/miniconda3/envs/jupyter/lib/python3.8/site-packages/pandas/core/indexes/base.py\u001b[0m in \u001b[0;36m_drop_level_numbers\u001b[0;34m(self, levnums)\u001b[0m\n\u001b[1;32m   1619\u001b[0m             \u001b[0;32mreturn\u001b[0m \u001b[0mself\u001b[0m\u001b[0;34m\u001b[0m\u001b[0;34m\u001b[0m\u001b[0m\n\u001b[1;32m   1620\u001b[0m         \u001b[0;32mif\u001b[0m \u001b[0mlen\u001b[0m\u001b[0;34m(\u001b[0m\u001b[0mlevnums\u001b[0m\u001b[0;34m)\u001b[0m \u001b[0;34m>=\u001b[0m \u001b[0mself\u001b[0m\u001b[0;34m.\u001b[0m\u001b[0mnlevels\u001b[0m\u001b[0;34m:\u001b[0m\u001b[0;34m\u001b[0m\u001b[0;34m\u001b[0m\u001b[0m\n\u001b[0;32m-> 1621\u001b[0;31m             raise ValueError(\n\u001b[0m\u001b[1;32m   1622\u001b[0m                 \u001b[0;34mf\"Cannot remove {len(levnums)} levels from an index with \"\u001b[0m\u001b[0;34m\u001b[0m\u001b[0;34m\u001b[0m\u001b[0m\n\u001b[1;32m   1623\u001b[0m                 \u001b[0;34mf\"{self.nlevels} levels: at least one level must be left.\"\u001b[0m\u001b[0;34m\u001b[0m\u001b[0;34m\u001b[0m\u001b[0m\n",
      "\u001b[0;31mValueError\u001b[0m: Cannot remove 2 levels from an index with 2 levels: at least one level must be left."
     ]
    }
   ],
   "source": [
    "df.droplevel(level=[0,1]) # 提示：必须保留至少一个层级"
   ]
  },
  {
   "cell_type": "code",
   "execution_count": 6,
   "id": "lucky-turkey",
   "metadata": {
    "execution": {
     "iopub.execute_input": "2021-09-01T11:14:45.751580Z",
     "iopub.status.busy": "2021-09-01T11:14:45.751291Z",
     "iopub.status.idle": "2021-09-01T11:14:45.771692Z",
     "shell.execute_reply": "2021-09-01T11:14:45.767812Z",
     "shell.execute_reply.started": "2021-09-01T11:14:45.751554Z"
    }
   },
   "outputs": [
    {
     "data": {
      "text/html": [
       "<div>\n",
       "<style scoped>\n",
       "    .dataframe tbody tr th:only-of-type {\n",
       "        vertical-align: middle;\n",
       "    }\n",
       "\n",
       "    .dataframe tbody tr th {\n",
       "        vertical-align: top;\n",
       "    }\n",
       "\n",
       "    .dataframe thead tr th {\n",
       "        text-align: left;\n",
       "    }\n",
       "\n",
       "    .dataframe thead tr:last-of-type th {\n",
       "        text-align: right;\n",
       "    }\n",
       "</style>\n",
       "<table border=\"1\" class=\"dataframe\">\n",
       "  <thead>\n",
       "    <tr>\n",
       "      <th>level_1</th>\n",
       "      <th>c</th>\n",
       "      <th>d</th>\n",
       "    </tr>\n",
       "    <tr>\n",
       "      <th>level_2</th>\n",
       "      <th>e</th>\n",
       "      <th>f</th>\n",
       "    </tr>\n",
       "    <tr>\n",
       "      <th>a</th>\n",
       "      <th></th>\n",
       "      <th></th>\n",
       "    </tr>\n",
       "  </thead>\n",
       "  <tbody>\n",
       "    <tr>\n",
       "      <th>1</th>\n",
       "      <td>3</td>\n",
       "      <td>4</td>\n",
       "    </tr>\n",
       "    <tr>\n",
       "      <th>5</th>\n",
       "      <td>7</td>\n",
       "      <td>8</td>\n",
       "    </tr>\n",
       "    <tr>\n",
       "      <th>9</th>\n",
       "      <td>11</td>\n",
       "      <td>12</td>\n",
       "    </tr>\n",
       "  </tbody>\n",
       "</table>\n",
       "</div>"
      ],
      "text/plain": [
       "level_1   c   d\n",
       "level_2   e   f\n",
       "a              \n",
       "1         3   4\n",
       "5         7   8\n",
       "9        11  12"
      ]
     },
     "execution_count": 6,
     "metadata": {},
     "output_type": "execute_result"
    }
   ],
   "source": [
    "df.droplevel(level=1) # 删除层级b(level=1)"
   ]
  },
  {
   "cell_type": "code",
   "execution_count": 3,
   "id": "secure-mouth",
   "metadata": {
    "execution": {
     "iopub.execute_input": "2021-09-01T11:13:50.811099Z",
     "iopub.status.busy": "2021-09-01T11:13:50.810639Z",
     "iopub.status.idle": "2021-09-01T11:13:50.826286Z",
     "shell.execute_reply": "2021-09-01T11:13:50.825367Z",
     "shell.execute_reply.started": "2021-09-01T11:13:50.811060Z"
    }
   },
   "outputs": [
    {
     "data": {
      "text/html": [
       "<div>\n",
       "<style scoped>\n",
       "    .dataframe tbody tr th:only-of-type {\n",
       "        vertical-align: middle;\n",
       "    }\n",
       "\n",
       "    .dataframe tbody tr th {\n",
       "        vertical-align: top;\n",
       "    }\n",
       "\n",
       "    .dataframe thead tr th {\n",
       "        text-align: left;\n",
       "    }\n",
       "\n",
       "    .dataframe thead tr:last-of-type th {\n",
       "        text-align: right;\n",
       "    }\n",
       "</style>\n",
       "<table border=\"1\" class=\"dataframe\">\n",
       "  <thead>\n",
       "    <tr>\n",
       "      <th>level_1</th>\n",
       "      <th>c</th>\n",
       "      <th>d</th>\n",
       "    </tr>\n",
       "    <tr>\n",
       "      <th>level_2</th>\n",
       "      <th>e</th>\n",
       "      <th>f</th>\n",
       "    </tr>\n",
       "    <tr>\n",
       "      <th>b</th>\n",
       "      <th></th>\n",
       "      <th></th>\n",
       "    </tr>\n",
       "  </thead>\n",
       "  <tbody>\n",
       "    <tr>\n",
       "      <th>2</th>\n",
       "      <td>3</td>\n",
       "      <td>4</td>\n",
       "    </tr>\n",
       "    <tr>\n",
       "      <th>6</th>\n",
       "      <td>7</td>\n",
       "      <td>8</td>\n",
       "    </tr>\n",
       "    <tr>\n",
       "      <th>10</th>\n",
       "      <td>11</td>\n",
       "      <td>12</td>\n",
       "    </tr>\n",
       "  </tbody>\n",
       "</table>\n",
       "</div>"
      ],
      "text/plain": [
       "level_1   c   d\n",
       "level_2   e   f\n",
       "b              \n",
       "2         3   4\n",
       "6         7   8\n",
       "10       11  12"
      ]
     },
     "execution_count": 3,
     "metadata": {},
     "output_type": "execute_result"
    }
   ],
   "source": [
    "df.droplevel('a') # 删除层级a"
   ]
  }
 ],
 "metadata": {
  "kernelspec": {
   "display_name": "Python 3",
   "language": "python",
   "name": "python3"
  },
  "language_info": {
   "codemirror_mode": {
    "name": "ipython",
    "version": 3
   },
   "file_extension": ".py",
   "mimetype": "text/x-python",
   "name": "python",
   "nbconvert_exporter": "python",
   "pygments_lexer": "ipython3",
   "version": "3.6.8"
  }
 },
 "nbformat": 4,
 "nbformat_minor": 5
}
