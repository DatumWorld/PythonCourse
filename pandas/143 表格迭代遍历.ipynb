{
 "cells": [
  {
   "cell_type": "markdown",
   "id": "538aa3f3",
   "metadata": {
    "execution": {
     "iopub.execute_input": "2021-05-10T07:18:52.990449Z",
     "iopub.status.busy": "2021-05-10T07:18:52.990449Z",
     "iopub.status.idle": "2021-05-10T07:18:52.994464Z",
     "shell.execute_reply": "2021-05-10T07:18:52.993452Z",
     "shell.execute_reply.started": "2021-05-10T07:18:52.990449Z"
    },
    "tags": []
   },
   "source": [
    "## 143 表格迭代遍历"
   ]
  },
  {
   "cell_type": "markdown",
   "id": "e2d4096b",
   "metadata": {
    "tags": []
   },
   "source": [
    "### items iteritems iterrows \n",
    "### itertuples \n",
    "参数 index=True, name='Pandas'\n",
    "#### 一般尽量优先使用pandas自带函数，特定情况使用这些实现自定义的迭代循环\n",
    "### item"
   ]
  },
  {
   "cell_type": "code",
   "execution_count": 1,
   "id": "0cdaf9df",
   "metadata": {
    "execution": {
     "iopub.execute_input": "2021-09-01T12:39:08.839430Z",
     "iopub.status.busy": "2021-09-01T12:39:08.839114Z",
     "iopub.status.idle": "2021-09-01T12:39:09.175261Z",
     "shell.execute_reply": "2021-09-01T12:39:09.174277Z",
     "shell.execute_reply.started": "2021-09-01T12:39:08.839380Z"
    },
    "tags": []
   },
   "outputs": [],
   "source": [
    "\n",
    "import numpy  as np\n",
    "import pandas as pd\n",
    "from faker import Faker\n",
    "\n",
    "fake = Faker('zh_CN')\n",
    "df=pd.DataFrame(data=[ [fake.name()] for x in range(10) ],columns=['name'])\n",
    "\n",
    "df['销售额']=np.random.randint(100,100000,size=(10, 1))\n",
    "df['时间']=pd.date_range(start='2020-01-01',periods=10,freq='D')\n",
    "df.insert(0,'dept',['部门1']*5+['部门2']*5)\n",
    "df.insert(1,'dept 1',['小部门1']*2+['小部门2']*3+['小部门3']*1+['小部门4']*4)\n",
    "df.iloc[1,1]=np.nan #  修改成nan"
   ]
  },
  {
   "cell_type": "markdown",
   "id": "57316632",
   "metadata": {
    "tags": []
   },
   "source": [
    "### 演示数据"
   ]
  },
  {
   "cell_type": "code",
   "execution_count": 2,
   "id": "d4fb59ab",
   "metadata": {
    "execution": {
     "iopub.execute_input": "2021-09-01T12:39:09.179332Z",
     "iopub.status.busy": "2021-09-01T12:39:09.179105Z",
     "iopub.status.idle": "2021-09-01T12:39:09.199570Z",
     "shell.execute_reply": "2021-09-01T12:39:09.198842Z",
     "shell.execute_reply.started": "2021-09-01T12:39:09.179310Z"
    },
    "tags": []
   },
   "outputs": [
    {
     "data": {
      "text/html": [
       "<div>\n",
       "<style scoped>\n",
       "    .dataframe tbody tr th:only-of-type {\n",
       "        vertical-align: middle;\n",
       "    }\n",
       "\n",
       "    .dataframe tbody tr th {\n",
       "        vertical-align: top;\n",
       "    }\n",
       "\n",
       "    .dataframe thead th {\n",
       "        text-align: right;\n",
       "    }\n",
       "</style>\n",
       "<table border=\"1\" class=\"dataframe\">\n",
       "  <thead>\n",
       "    <tr style=\"text-align: right;\">\n",
       "      <th></th>\n",
       "      <th>dept</th>\n",
       "      <th>dept 1</th>\n",
       "      <th>name</th>\n",
       "      <th>销售额</th>\n",
       "      <th>时间</th>\n",
       "    </tr>\n",
       "  </thead>\n",
       "  <tbody>\n",
       "    <tr>\n",
       "      <th>0</th>\n",
       "      <td>部门1</td>\n",
       "      <td>小部门1</td>\n",
       "      <td>王勇</td>\n",
       "      <td>94372</td>\n",
       "      <td>2020-01-01</td>\n",
       "    </tr>\n",
       "    <tr>\n",
       "      <th>1</th>\n",
       "      <td>部门1</td>\n",
       "      <td>NaN</td>\n",
       "      <td>刘丽丽</td>\n",
       "      <td>89110</td>\n",
       "      <td>2020-01-02</td>\n",
       "    </tr>\n",
       "    <tr>\n",
       "      <th>2</th>\n",
       "      <td>部门1</td>\n",
       "      <td>小部门2</td>\n",
       "      <td>陈秀华</td>\n",
       "      <td>72414</td>\n",
       "      <td>2020-01-03</td>\n",
       "    </tr>\n",
       "    <tr>\n",
       "      <th>3</th>\n",
       "      <td>部门1</td>\n",
       "      <td>小部门2</td>\n",
       "      <td>向洁</td>\n",
       "      <td>1524</td>\n",
       "      <td>2020-01-04</td>\n",
       "    </tr>\n",
       "    <tr>\n",
       "      <th>4</th>\n",
       "      <td>部门1</td>\n",
       "      <td>小部门2</td>\n",
       "      <td>王玉</td>\n",
       "      <td>51179</td>\n",
       "      <td>2020-01-05</td>\n",
       "    </tr>\n",
       "    <tr>\n",
       "      <th>5</th>\n",
       "      <td>部门2</td>\n",
       "      <td>小部门3</td>\n",
       "      <td>侯静</td>\n",
       "      <td>62828</td>\n",
       "      <td>2020-01-06</td>\n",
       "    </tr>\n",
       "    <tr>\n",
       "      <th>6</th>\n",
       "      <td>部门2</td>\n",
       "      <td>小部门4</td>\n",
       "      <td>赵超</td>\n",
       "      <td>80084</td>\n",
       "      <td>2020-01-07</td>\n",
       "    </tr>\n",
       "    <tr>\n",
       "      <th>7</th>\n",
       "      <td>部门2</td>\n",
       "      <td>小部门4</td>\n",
       "      <td>张婷婷</td>\n",
       "      <td>67557</td>\n",
       "      <td>2020-01-08</td>\n",
       "    </tr>\n",
       "    <tr>\n",
       "      <th>8</th>\n",
       "      <td>部门2</td>\n",
       "      <td>小部门4</td>\n",
       "      <td>吴琳</td>\n",
       "      <td>49623</td>\n",
       "      <td>2020-01-09</td>\n",
       "    </tr>\n",
       "    <tr>\n",
       "      <th>9</th>\n",
       "      <td>部门2</td>\n",
       "      <td>小部门4</td>\n",
       "      <td>邵勇</td>\n",
       "      <td>7845</td>\n",
       "      <td>2020-01-10</td>\n",
       "    </tr>\n",
       "  </tbody>\n",
       "</table>\n",
       "</div>"
      ],
      "text/plain": [
       "  dept dept 1 name    销售额         时间\n",
       "0  部门1   小部门1   王勇  94372 2020-01-01\n",
       "1  部门1    NaN  刘丽丽  89110 2020-01-02\n",
       "2  部门1   小部门2  陈秀华  72414 2020-01-03\n",
       "3  部门1   小部门2   向洁   1524 2020-01-04\n",
       "4  部门1   小部门2   王玉  51179 2020-01-05\n",
       "5  部门2   小部门3   侯静  62828 2020-01-06\n",
       "6  部门2   小部门4   赵超  80084 2020-01-07\n",
       "7  部门2   小部门4  张婷婷  67557 2020-01-08\n",
       "8  部门2   小部门4   吴琳  49623 2020-01-09\n",
       "9  部门2   小部门4   邵勇   7845 2020-01-10"
      ]
     },
     "execution_count": 2,
     "metadata": {},
     "output_type": "execute_result"
    }
   ],
   "source": [
    "df"
   ]
  },
  {
   "cell_type": "code",
   "execution_count": 19,
   "id": "1a7afdd9",
   "metadata": {
    "execution": {
     "iopub.execute_input": "2021-09-01T12:50:27.419034Z",
     "iopub.status.busy": "2021-09-01T12:50:27.418739Z",
     "iopub.status.idle": "2021-09-01T12:50:27.424532Z",
     "shell.execute_reply": "2021-09-01T12:50:27.423591Z",
     "shell.execute_reply.started": "2021-09-01T12:50:27.419009Z"
    }
   },
   "outputs": [
    {
     "name": "stdout",
     "output_type": "stream",
     "text": [
      "results(dept='部门1', _1='小部门1', name='王勇', 销售额=94372, 时间=Timestamp('2020-01-01 00:00:00'))\n",
      "results(dept='部门1', _1=nan, name='刘丽丽', 销售额=89110, 时间=Timestamp('2020-01-02 00:00:00'))\n",
      "results(dept='部门1', _1='小部门2', name='陈秀华', 销售额=72414, 时间=Timestamp('2020-01-03 00:00:00'))\n",
      "results(dept='部门1', _1='小部门2', name='向洁', 销售额=1524, 时间=Timestamp('2020-01-04 00:00:00'))\n",
      "results(dept='部门1', _1='小部门2', name='王玉', 销售额=51179, 时间=Timestamp('2020-01-05 00:00:00'))\n",
      "results(dept='部门2', _1='小部门3', name='侯静', 销售额=62828, 时间=Timestamp('2020-01-06 00:00:00'))\n",
      "results(dept='部门2', _1='小部门4', name='赵超', 销售额=80084, 时间=Timestamp('2020-01-07 00:00:00'))\n",
      "results(dept='部门2', _1='小部门4', name='张婷婷', 销售额=67557, 时间=Timestamp('2020-01-08 00:00:00'))\n",
      "results(dept='部门2', _1='小部门4', name='吴琳', 销售额=49623, 时间=Timestamp('2020-01-09 00:00:00'))\n",
      "results(dept='部门2', _1='小部门4', name='邵勇', 销售额=7845, 时间=Timestamp('2020-01-10 00:00:00'))\n"
     ]
    }
   ],
   "source": [
    "for x in df.itertuples(index=False,name='results'): # index=False,name='results' 不输出索引，结果名称是results\n",
    "    print(x)"
   ]
  },
  {
   "cell_type": "code",
   "execution_count": 15,
   "id": "bd942de6",
   "metadata": {
    "execution": {
     "iopub.execute_input": "2021-09-01T12:48:34.344060Z",
     "iopub.status.busy": "2021-09-01T12:48:34.343544Z",
     "iopub.status.idle": "2021-09-01T12:48:34.363314Z",
     "shell.execute_reply": "2021-09-01T12:48:34.362385Z",
     "shell.execute_reply.started": "2021-09-01T12:48:34.344018Z"
    }
   },
   "outputs": [
    {
     "name": "stdout",
     "output_type": "stream",
     "text": [
      "(0, dept                      部门1\n",
      "dept 1                   小部门1\n",
      "name                       王勇\n",
      "销售额                     94372\n",
      "时间        2020-01-01 00:00:00\n",
      "Name: 0, dtype: object)\n",
      "(1, dept                      部门1\n",
      "dept 1                    NaN\n",
      "name                      刘丽丽\n",
      "销售额                     89110\n",
      "时间        2020-01-02 00:00:00\n",
      "Name: 1, dtype: object)\n",
      "(2, dept                      部门1\n",
      "dept 1                   小部门2\n",
      "name                      陈秀华\n",
      "销售额                     72414\n",
      "时间        2020-01-03 00:00:00\n",
      "Name: 2, dtype: object)\n",
      "(3, dept                      部门1\n",
      "dept 1                   小部门2\n",
      "name                       向洁\n",
      "销售额                      1524\n",
      "时间        2020-01-04 00:00:00\n",
      "Name: 3, dtype: object)\n",
      "(4, dept                      部门1\n",
      "dept 1                   小部门2\n",
      "name                       王玉\n",
      "销售额                     51179\n",
      "时间        2020-01-05 00:00:00\n",
      "Name: 4, dtype: object)\n",
      "(5, dept                      部门2\n",
      "dept 1                   小部门3\n",
      "name                       侯静\n",
      "销售额                     62828\n",
      "时间        2020-01-06 00:00:00\n",
      "Name: 5, dtype: object)\n",
      "(6, dept                      部门2\n",
      "dept 1                   小部门4\n",
      "name                       赵超\n",
      "销售额                     80084\n",
      "时间        2020-01-07 00:00:00\n",
      "Name: 6, dtype: object)\n",
      "(7, dept                      部门2\n",
      "dept 1                   小部门4\n",
      "name                      张婷婷\n",
      "销售额                     67557\n",
      "时间        2020-01-08 00:00:00\n",
      "Name: 7, dtype: object)\n",
      "(8, dept                      部门2\n",
      "dept 1                   小部门4\n",
      "name                       吴琳\n",
      "销售额                     49623\n",
      "时间        2020-01-09 00:00:00\n",
      "Name: 8, dtype: object)\n",
      "(9, dept                      部门2\n",
      "dept 1                   小部门4\n",
      "name                       邵勇\n",
      "销售额                      7845\n",
      "时间        2020-01-10 00:00:00\n",
      "Name: 9, dtype: object)\n"
     ]
    }
   ],
   "source": [
    "for x in df.iterrows(): # 表格上,输出元组\n",
    "    print(x)"
   ]
  },
  {
   "cell_type": "code",
   "execution_count": 14,
   "id": "0b717a51",
   "metadata": {
    "execution": {
     "iopub.execute_input": "2021-09-01T12:47:58.145715Z",
     "iopub.status.busy": "2021-09-01T12:47:58.145081Z",
     "iopub.status.idle": "2021-09-01T12:47:58.171306Z",
     "shell.execute_reply": "2021-09-01T12:47:58.163945Z",
     "shell.execute_reply.started": "2021-09-01T12:47:58.145660Z"
    }
   },
   "outputs": [
    {
     "name": "stdout",
     "output_type": "stream",
     "text": [
      "0 dept                      部门1\n",
      "dept 1                   小部门1\n",
      "name                       王勇\n",
      "销售额                     94372\n",
      "时间        2020-01-01 00:00:00\n",
      "Name: 0, dtype: object\n",
      "1 dept                      部门1\n",
      "dept 1                    NaN\n",
      "name                      刘丽丽\n",
      "销售额                     89110\n",
      "时间        2020-01-02 00:00:00\n",
      "Name: 1, dtype: object\n",
      "2 dept                      部门1\n",
      "dept 1                   小部门2\n",
      "name                      陈秀华\n",
      "销售额                     72414\n",
      "时间        2020-01-03 00:00:00\n",
      "Name: 2, dtype: object\n",
      "3 dept                      部门1\n",
      "dept 1                   小部门2\n",
      "name                       向洁\n",
      "销售额                      1524\n",
      "时间        2020-01-04 00:00:00\n",
      "Name: 3, dtype: object\n",
      "4 dept                      部门1\n",
      "dept 1                   小部门2\n",
      "name                       王玉\n",
      "销售额                     51179\n",
      "时间        2020-01-05 00:00:00\n",
      "Name: 4, dtype: object\n",
      "5 dept                      部门2\n",
      "dept 1                   小部门3\n",
      "name                       侯静\n",
      "销售额                     62828\n",
      "时间        2020-01-06 00:00:00\n",
      "Name: 5, dtype: object\n",
      "6 dept                      部门2\n",
      "dept 1                   小部门4\n",
      "name                       赵超\n",
      "销售额                     80084\n",
      "时间        2020-01-07 00:00:00\n",
      "Name: 6, dtype: object\n",
      "7 dept                      部门2\n",
      "dept 1                   小部门4\n",
      "name                      张婷婷\n",
      "销售额                     67557\n",
      "时间        2020-01-08 00:00:00\n",
      "Name: 7, dtype: object\n",
      "8 dept                      部门2\n",
      "dept 1                   小部门4\n",
      "name                       吴琳\n",
      "销售额                     49623\n",
      "时间        2020-01-09 00:00:00\n",
      "Name: 8, dtype: object\n",
      "9 dept                      部门2\n",
      "dept 1                   小部门4\n",
      "name                       邵勇\n",
      "销售额                      7845\n",
      "时间        2020-01-10 00:00:00\n",
      "Name: 9, dtype: object\n"
     ]
    }
   ],
   "source": [
    "for x,y in df.iterrows(): # 表格上,输出元组内容\n",
    "    print(x,y)"
   ]
  },
  {
   "cell_type": "code",
   "execution_count": 13,
   "id": "2cc45fb2",
   "metadata": {
    "execution": {
     "iopub.execute_input": "2021-09-01T12:47:14.354180Z",
     "iopub.status.busy": "2021-09-01T12:47:14.353718Z",
     "iopub.status.idle": "2021-09-01T12:47:14.361901Z",
     "shell.execute_reply": "2021-09-01T12:47:14.361238Z",
     "shell.execute_reply.started": "2021-09-01T12:47:14.354153Z"
    }
   },
   "outputs": [
    {
     "name": "stdout",
     "output_type": "stream",
     "text": [
      "dept 0    部门1\n",
      "1    部门1\n",
      "2    部门1\n",
      "3    部门1\n",
      "4    部门1\n",
      "5    部门2\n",
      "6    部门2\n",
      "7    部门2\n",
      "8    部门2\n",
      "9    部门2\n",
      "Name: dept, dtype: object\n",
      "dept 1 0    小部门1\n",
      "1     NaN\n",
      "2    小部门2\n",
      "3    小部门2\n",
      "4    小部门2\n",
      "5    小部门3\n",
      "6    小部门4\n",
      "7    小部门4\n",
      "8    小部门4\n",
      "9    小部门4\n",
      "Name: dept 1, dtype: object\n",
      "name 0     王勇\n",
      "1    刘丽丽\n",
      "2    陈秀华\n",
      "3     向洁\n",
      "4     王玉\n",
      "5     侯静\n",
      "6     赵超\n",
      "7    张婷婷\n",
      "8     吴琳\n",
      "9     邵勇\n",
      "Name: name, dtype: object\n",
      "销售额 0    94372\n",
      "1    89110\n",
      "2    72414\n",
      "3     1524\n",
      "4    51179\n",
      "5    62828\n",
      "6    80084\n",
      "7    67557\n",
      "8    49623\n",
      "9     7845\n",
      "Name: 销售额, dtype: int64\n",
      "时间 0   2020-01-01\n",
      "1   2020-01-02\n",
      "2   2020-01-03\n",
      "3   2020-01-04\n",
      "4   2020-01-05\n",
      "5   2020-01-06\n",
      "6   2020-01-07\n",
      "7   2020-01-08\n",
      "8   2020-01-09\n",
      "9   2020-01-10\n",
      "Name: 时间, dtype: datetime64[ns]\n"
     ]
    }
   ],
   "source": [
    "for x,y in df.iteritems(): # 表格上,输出元组内容\n",
    "    print(x,y)"
   ]
  },
  {
   "cell_type": "code",
   "execution_count": 12,
   "id": "83a256b1",
   "metadata": {
    "execution": {
     "iopub.execute_input": "2021-09-01T12:46:33.418690Z",
     "iopub.status.busy": "2021-09-01T12:46:33.418210Z",
     "iopub.status.idle": "2021-09-01T12:46:33.426309Z",
     "shell.execute_reply": "2021-09-01T12:46:33.425336Z",
     "shell.execute_reply.started": "2021-09-01T12:46:33.418658Z"
    }
   },
   "outputs": [
    {
     "name": "stdout",
     "output_type": "stream",
     "text": [
      "('dept', 0    部门1\n",
      "1    部门1\n",
      "2    部门1\n",
      "3    部门1\n",
      "4    部门1\n",
      "5    部门2\n",
      "6    部门2\n",
      "7    部门2\n",
      "8    部门2\n",
      "9    部门2\n",
      "Name: dept, dtype: object)\n",
      "('dept 1', 0    小部门1\n",
      "1     NaN\n",
      "2    小部门2\n",
      "3    小部门2\n",
      "4    小部门2\n",
      "5    小部门3\n",
      "6    小部门4\n",
      "7    小部门4\n",
      "8    小部门4\n",
      "9    小部门4\n",
      "Name: dept 1, dtype: object)\n",
      "('name', 0     王勇\n",
      "1    刘丽丽\n",
      "2    陈秀华\n",
      "3     向洁\n",
      "4     王玉\n",
      "5     侯静\n",
      "6     赵超\n",
      "7    张婷婷\n",
      "8     吴琳\n",
      "9     邵勇\n",
      "Name: name, dtype: object)\n",
      "('销售额', 0    94372\n",
      "1    89110\n",
      "2    72414\n",
      "3     1524\n",
      "4    51179\n",
      "5    62828\n",
      "6    80084\n",
      "7    67557\n",
      "8    49623\n",
      "9     7845\n",
      "Name: 销售额, dtype: int64)\n",
      "('时间', 0   2020-01-01\n",
      "1   2020-01-02\n",
      "2   2020-01-03\n",
      "3   2020-01-04\n",
      "4   2020-01-05\n",
      "5   2020-01-06\n",
      "6   2020-01-07\n",
      "7   2020-01-08\n",
      "8   2020-01-09\n",
      "9   2020-01-10\n",
      "Name: 时间, dtype: datetime64[ns])\n"
     ]
    }
   ],
   "source": [
    "for x in df.iteritems(): # 表格上\n",
    "    print(x)"
   ]
  },
  {
   "cell_type": "code",
   "execution_count": 11,
   "id": "14d0b4a5",
   "metadata": {
    "execution": {
     "iopub.execute_input": "2021-09-01T12:46:11.195598Z",
     "iopub.status.busy": "2021-09-01T12:46:11.195073Z",
     "iopub.status.idle": "2021-09-01T12:46:11.203998Z",
     "shell.execute_reply": "2021-09-01T12:46:11.202822Z",
     "shell.execute_reply.started": "2021-09-01T12:46:11.195551Z"
    }
   },
   "outputs": [
    {
     "name": "stdout",
     "output_type": "stream",
     "text": [
      "(0, '部门1')\n",
      "(1, '部门1')\n",
      "(2, '部门1')\n",
      "(3, '部门1')\n",
      "(4, '部门1')\n",
      "(5, '部门2')\n",
      "(6, '部门2')\n",
      "(7, '部门2')\n",
      "(8, '部门2')\n",
      "(9, '部门2')\n"
     ]
    }
   ],
   "source": [
    "for x in df.dept.iteritems(): # 序列上逐个元素输出 tuple 的两个值\n",
    "    print(x)"
   ]
  },
  {
   "cell_type": "code",
   "execution_count": 10,
   "id": "29341a1d",
   "metadata": {
    "execution": {
     "iopub.execute_input": "2021-09-01T12:45:54.072553Z",
     "iopub.status.busy": "2021-09-01T12:45:54.072031Z",
     "iopub.status.idle": "2021-09-01T12:45:54.080158Z",
     "shell.execute_reply": "2021-09-01T12:45:54.079463Z",
     "shell.execute_reply.started": "2021-09-01T12:45:54.072498Z"
    }
   },
   "outputs": [
    {
     "name": "stdout",
     "output_type": "stream",
     "text": [
      "0 部门1\n",
      "1 部门1\n",
      "2 部门1\n",
      "3 部门1\n",
      "4 部门1\n",
      "5 部门2\n",
      "6 部门2\n",
      "7 部门2\n",
      "8 部门2\n",
      "9 部门2\n"
     ]
    }
   ],
   "source": [
    "for x,y in df.dept.iteritems(): # 序列上逐个元素输出 tuple 的两个值\n",
    "    print(x,y)"
   ]
  },
  {
   "cell_type": "code",
   "execution_count": 8,
   "id": "eced6b5b",
   "metadata": {
    "execution": {
     "iopub.execute_input": "2021-09-01T12:44:04.075567Z",
     "iopub.status.busy": "2021-09-01T12:44:04.075268Z",
     "iopub.status.idle": "2021-09-01T12:44:04.084456Z",
     "shell.execute_reply": "2021-09-01T12:44:04.083366Z",
     "shell.execute_reply.started": "2021-09-01T12:44:04.075540Z"
    }
   },
   "outputs": [
    {
     "name": "stdout",
     "output_type": "stream",
     "text": [
      "0 部门1\n",
      "1 部门1\n",
      "2 部门1\n",
      "3 部门1\n",
      "4 部门1\n",
      "5 部门2\n",
      "6 部门2\n",
      "7 部门2\n",
      "8 部门2\n",
      "9 部门2\n"
     ]
    }
   ],
   "source": [
    "for x,y in df.dept.items(): # 序列上逐个元素输出 tuple 的两个值\n",
    "    print(x,y)"
   ]
  },
  {
   "cell_type": "code",
   "execution_count": 9,
   "id": "56bfdf39",
   "metadata": {
    "execution": {
     "iopub.execute_input": "2021-09-01T12:44:15.262137Z",
     "iopub.status.busy": "2021-09-01T12:44:15.261708Z",
     "iopub.status.idle": "2021-09-01T12:44:15.268948Z",
     "shell.execute_reply": "2021-09-01T12:44:15.268060Z",
     "shell.execute_reply.started": "2021-09-01T12:44:15.262107Z"
    }
   },
   "outputs": [
    {
     "name": "stdout",
     "output_type": "stream",
     "text": [
      "(0, '部门1')\n",
      "(1, '部门1')\n",
      "(2, '部门1')\n",
      "(3, '部门1')\n",
      "(4, '部门1')\n",
      "(5, '部门2')\n",
      "(6, '部门2')\n",
      "(7, '部门2')\n",
      "(8, '部门2')\n",
      "(9, '部门2')\n"
     ]
    }
   ],
   "source": [
    "for x in df.dept.items(): # 序列上逐个元素输出 元素，tuple 的整体\n",
    "    print(x)"
   ]
  },
  {
   "cell_type": "code",
   "execution_count": 7,
   "id": "606f5ca5",
   "metadata": {
    "execution": {
     "iopub.execute_input": "2021-09-01T12:43:46.142662Z",
     "iopub.status.busy": "2021-09-01T12:43:46.142169Z",
     "iopub.status.idle": "2021-09-01T12:43:46.153788Z",
     "shell.execute_reply": "2021-09-01T12:43:46.152577Z",
     "shell.execute_reply.started": "2021-09-01T12:43:46.142623Z"
    }
   },
   "outputs": [
    {
     "name": "stdout",
     "output_type": "stream",
     "text": [
      "dept 0    部门1\n",
      "1    部门1\n",
      "2    部门1\n",
      "3    部门1\n",
      "4    部门1\n",
      "5    部门2\n",
      "6    部门2\n",
      "7    部门2\n",
      "8    部门2\n",
      "9    部门2\n",
      "Name: dept, dtype: object\n",
      "dept 1 0    小部门1\n",
      "1     NaN\n",
      "2    小部门2\n",
      "3    小部门2\n",
      "4    小部门2\n",
      "5    小部门3\n",
      "6    小部门4\n",
      "7    小部门4\n",
      "8    小部门4\n",
      "9    小部门4\n",
      "Name: dept 1, dtype: object\n",
      "name 0     王勇\n",
      "1    刘丽丽\n",
      "2    陈秀华\n",
      "3     向洁\n",
      "4     王玉\n",
      "5     侯静\n",
      "6     赵超\n",
      "7    张婷婷\n",
      "8     吴琳\n",
      "9     邵勇\n",
      "Name: name, dtype: object\n",
      "销售额 0    94372\n",
      "1    89110\n",
      "2    72414\n",
      "3     1524\n",
      "4    51179\n",
      "5    62828\n",
      "6    80084\n",
      "7    67557\n",
      "8    49623\n",
      "9     7845\n",
      "Name: 销售额, dtype: int64\n",
      "时间 0   2020-01-01\n",
      "1   2020-01-02\n",
      "2   2020-01-03\n",
      "3   2020-01-04\n",
      "4   2020-01-05\n",
      "5   2020-01-06\n",
      "6   2020-01-07\n",
      "7   2020-01-08\n",
      "8   2020-01-09\n",
      "9   2020-01-10\n",
      "Name: 时间, dtype: datetime64[ns]\n"
     ]
    }
   ],
   "source": [
    "for x,y in df.items(): # 逐个列输出\n",
    "    print(x,y)"
   ]
  },
  {
   "cell_type": "code",
   "execution_count": 6,
   "id": "49dc67ea",
   "metadata": {
    "execution": {
     "iopub.execute_input": "2021-09-01T12:43:07.141502Z",
     "iopub.status.busy": "2021-09-01T12:43:07.141224Z",
     "iopub.status.idle": "2021-09-01T12:43:07.150464Z",
     "shell.execute_reply": "2021-09-01T12:43:07.149451Z",
     "shell.execute_reply.started": "2021-09-01T12:43:07.141478Z"
    }
   },
   "outputs": [
    {
     "name": "stdout",
     "output_type": "stream",
     "text": [
      "('dept', 0    部门1\n",
      "1    部门1\n",
      "2    部门1\n",
      "3    部门1\n",
      "4    部门1\n",
      "5    部门2\n",
      "6    部门2\n",
      "7    部门2\n",
      "8    部门2\n",
      "9    部门2\n",
      "Name: dept, dtype: object)\n",
      "('dept 1', 0    小部门1\n",
      "1     NaN\n",
      "2    小部门2\n",
      "3    小部门2\n",
      "4    小部门2\n",
      "5    小部门3\n",
      "6    小部门4\n",
      "7    小部门4\n",
      "8    小部门4\n",
      "9    小部门4\n",
      "Name: dept 1, dtype: object)\n",
      "('name', 0     王勇\n",
      "1    刘丽丽\n",
      "2    陈秀华\n",
      "3     向洁\n",
      "4     王玉\n",
      "5     侯静\n",
      "6     赵超\n",
      "7    张婷婷\n",
      "8     吴琳\n",
      "9     邵勇\n",
      "Name: name, dtype: object)\n",
      "('销售额', 0    94372\n",
      "1    89110\n",
      "2    72414\n",
      "3     1524\n",
      "4    51179\n",
      "5    62828\n",
      "6    80084\n",
      "7    67557\n",
      "8    49623\n",
      "9     7845\n",
      "Name: 销售额, dtype: int64)\n",
      "('时间', 0   2020-01-01\n",
      "1   2020-01-02\n",
      "2   2020-01-03\n",
      "3   2020-01-04\n",
      "4   2020-01-05\n",
      "5   2020-01-06\n",
      "6   2020-01-07\n",
      "7   2020-01-08\n",
      "8   2020-01-09\n",
      "9   2020-01-10\n",
      "Name: 时间, dtype: datetime64[ns])\n"
     ]
    }
   ],
   "source": [
    "for x in df.items(): # 逐个列输出\n",
    "    print(x)"
   ]
  },
  {
   "cell_type": "code",
   "execution_count": 3,
   "id": "e50716f7",
   "metadata": {
    "execution": {
     "iopub.execute_input": "2021-09-01T12:41:04.281423Z",
     "iopub.status.busy": "2021-09-01T12:41:04.280877Z",
     "iopub.status.idle": "2021-09-01T12:41:04.291163Z",
     "shell.execute_reply": "2021-09-01T12:41:04.289640Z",
     "shell.execute_reply.started": "2021-09-01T12:41:04.281374Z"
    }
   },
   "outputs": [
    {
     "data": {
      "text/plain": [
       "1    部门1\n",
       "Name: dept, dtype: object"
      ]
     },
     "execution_count": 3,
     "metadata": {},
     "output_type": "execute_result"
    }
   ],
   "source": [
    "df.iloc[[1],0]"
   ]
  },
  {
   "cell_type": "code",
   "execution_count": 4,
   "id": "5a02167f",
   "metadata": {
    "execution": {
     "iopub.execute_input": "2021-09-01T12:41:24.243604Z",
     "iopub.status.busy": "2021-09-01T12:41:24.242951Z",
     "iopub.status.idle": "2021-09-01T12:41:24.255174Z",
     "shell.execute_reply": "2021-09-01T12:41:24.253896Z",
     "shell.execute_reply.started": "2021-09-01T12:41:24.243552Z"
    }
   },
   "outputs": [
    {
     "data": {
      "text/plain": [
       "'部门1'"
      ]
     },
     "execution_count": 4,
     "metadata": {},
     "output_type": "execute_result"
    }
   ],
   "source": [
    "df.iloc[[1],0].item() # 将只有一行元素的序列的唯一一个值转成标量"
   ]
  },
  {
   "cell_type": "code",
   "execution_count": 5,
   "id": "2df4ceeb",
   "metadata": {
    "execution": {
     "iopub.execute_input": "2021-09-01T12:42:11.688628Z",
     "iopub.status.busy": "2021-09-01T12:42:11.688075Z",
     "iopub.status.idle": "2021-09-01T12:42:11.696682Z",
     "shell.execute_reply": "2021-09-01T12:42:11.695858Z",
     "shell.execute_reply.started": "2021-09-01T12:42:11.688579Z"
    }
   },
   "outputs": [
    {
     "data": {
      "text/plain": [
       "'部门1'"
      ]
     },
     "execution_count": 5,
     "metadata": {},
     "output_type": "execute_result"
    }
   ],
   "source": [
    "df.iloc[[1],0].squeeze() # 将只有一行元素的序列的唯一一个值转成标量。对照上面"
   ]
  }
 ],
 "metadata": {
  "kernelspec": {
   "display_name": "Python 3 (ipykernel)",
   "language": "python",
   "name": "python3"
  },
  "language_info": {
   "codemirror_mode": {
    "name": "ipython",
    "version": 3
   },
   "file_extension": ".py",
   "mimetype": "text/x-python",
   "name": "python",
   "nbconvert_exporter": "python",
   "pygments_lexer": "ipython3",
   "version": "3.8.11"
  }
 },
 "nbformat": 4,
 "nbformat_minor": 5
}
