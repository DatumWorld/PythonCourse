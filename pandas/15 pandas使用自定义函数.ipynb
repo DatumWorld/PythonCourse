{
 "cells": [
  {
   "cell_type": "markdown",
   "id": "sweet-opinion",
   "metadata": {
    "execution": {
     "iopub.execute_input": "2021-05-10T07:18:52.990449Z",
     "iopub.status.busy": "2021-05-10T07:18:52.990449Z",
     "iopub.status.idle": "2021-05-10T07:18:52.994464Z",
     "shell.execute_reply": "2021-05-10T07:18:52.993452Z",
     "shell.execute_reply.started": "2021-05-10T07:18:52.990449Z"
    }
   },
   "source": [
    "## pandas 使用自定义函数"
   ]
  },
  {
   "cell_type": "markdown",
   "id": "younger-liver",
   "metadata": {},
   "source": [
    "### 在行/列上使用自定义的函数。\n",
    "#### apply map applymap"
   ]
  },
  {
   "cell_type": "code",
   "execution_count": 63,
   "id": "royal-allen",
   "metadata": {
    "execution": {
     "iopub.execute_input": "2021-06-01T06:19:14.888237Z",
     "iopub.status.busy": "2021-06-01T06:19:14.887239Z",
     "iopub.status.idle": "2021-06-01T06:19:14.892239Z",
     "shell.execute_reply": "2021-06-01T06:19:14.892239Z",
     "shell.execute_reply.started": "2021-06-01T06:19:14.888237Z"
    }
   },
   "outputs": [],
   "source": [
    "import pandas as pd\n",
    "\n",
    "df=pd.DataFrame(data=[ [x ,x+0.1*x] for x in range(10) ],columns=['A','B'])"
   ]
  },
  {
   "cell_type": "code",
   "execution_count": 64,
   "id": "flush-wrapping",
   "metadata": {
    "execution": {
     "iopub.execute_input": "2021-06-01T06:19:14.893238Z",
     "iopub.status.busy": "2021-06-01T06:19:14.893238Z",
     "iopub.status.idle": "2021-06-01T06:19:14.901239Z",
     "shell.execute_reply": "2021-06-01T06:19:14.901239Z",
     "shell.execute_reply.started": "2021-06-01T06:19:14.893238Z"
    }
   },
   "outputs": [
    {
     "data": {
      "text/html": [
       "<div>\n",
       "<style scoped>\n",
       "    .dataframe tbody tr th:only-of-type {\n",
       "        vertical-align: middle;\n",
       "    }\n",
       "\n",
       "    .dataframe tbody tr th {\n",
       "        vertical-align: top;\n",
       "    }\n",
       "\n",
       "    .dataframe thead th {\n",
       "        text-align: right;\n",
       "    }\n",
       "</style>\n",
       "<table border=\"1\" class=\"dataframe\">\n",
       "  <thead>\n",
       "    <tr style=\"text-align: right;\">\n",
       "      <th></th>\n",
       "      <th>A</th>\n",
       "      <th>B</th>\n",
       "    </tr>\n",
       "  </thead>\n",
       "  <tbody>\n",
       "    <tr>\n",
       "      <th>0</th>\n",
       "      <td>0</td>\n",
       "      <td>0.0</td>\n",
       "    </tr>\n",
       "    <tr>\n",
       "      <th>1</th>\n",
       "      <td>1</td>\n",
       "      <td>1.1</td>\n",
       "    </tr>\n",
       "    <tr>\n",
       "      <th>2</th>\n",
       "      <td>2</td>\n",
       "      <td>2.2</td>\n",
       "    </tr>\n",
       "    <tr>\n",
       "      <th>3</th>\n",
       "      <td>3</td>\n",
       "      <td>3.3</td>\n",
       "    </tr>\n",
       "    <tr>\n",
       "      <th>4</th>\n",
       "      <td>4</td>\n",
       "      <td>4.4</td>\n",
       "    </tr>\n",
       "    <tr>\n",
       "      <th>5</th>\n",
       "      <td>5</td>\n",
       "      <td>5.5</td>\n",
       "    </tr>\n",
       "    <tr>\n",
       "      <th>6</th>\n",
       "      <td>6</td>\n",
       "      <td>6.6</td>\n",
       "    </tr>\n",
       "    <tr>\n",
       "      <th>7</th>\n",
       "      <td>7</td>\n",
       "      <td>7.7</td>\n",
       "    </tr>\n",
       "    <tr>\n",
       "      <th>8</th>\n",
       "      <td>8</td>\n",
       "      <td>8.8</td>\n",
       "    </tr>\n",
       "    <tr>\n",
       "      <th>9</th>\n",
       "      <td>9</td>\n",
       "      <td>9.9</td>\n",
       "    </tr>\n",
       "  </tbody>\n",
       "</table>\n",
       "</div>"
      ],
      "text/plain": [
       "   A    B\n",
       "0  0  0.0\n",
       "1  1  1.1\n",
       "2  2  2.2\n",
       "3  3  3.3\n",
       "4  4  4.4\n",
       "5  5  5.5\n",
       "6  6  6.6\n",
       "7  7  7.7\n",
       "8  8  8.8\n",
       "9  9  9.9"
      ]
     },
     "execution_count": 64,
     "metadata": {},
     "output_type": "execute_result"
    }
   ],
   "source": [
    "df"
   ]
  },
  {
   "cell_type": "code",
   "execution_count": 67,
   "id": "cutting-loading",
   "metadata": {
    "execution": {
     "iopub.execute_input": "2021-06-01T06:20:23.333237Z",
     "iopub.status.busy": "2021-06-01T06:20:23.332249Z",
     "iopub.status.idle": "2021-06-01T06:20:23.347235Z",
     "shell.execute_reply": "2021-06-01T06:20:23.346235Z",
     "shell.execute_reply.started": "2021-06-01T06:20:23.333237Z"
    }
   },
   "outputs": [
    {
     "data": {
      "text/plain": [
       "0    0.0\n",
       "1    0.1\n",
       "2    0.2\n",
       "3    0.3\n",
       "4    0.4\n",
       "5    0.5\n",
       "6    0.6\n",
       "7    0.7\n",
       "8    0.8\n",
       "9    0.9\n",
       "dtype: float64"
      ]
     },
     "execution_count": 67,
     "metadata": {},
     "output_type": "execute_result"
    }
   ],
   "source": [
    "df.apply(lambda x :x.max()-x.min(),axis=1) # 在行或者列方向上使用自定义函数"
   ]
  },
  {
   "cell_type": "code",
   "execution_count": 69,
   "id": "indie-belarus",
   "metadata": {
    "execution": {
     "iopub.execute_input": "2021-06-01T06:21:44.588236Z",
     "iopub.status.busy": "2021-06-01T06:21:44.587243Z",
     "iopub.status.idle": "2021-06-01T06:21:44.593236Z",
     "shell.execute_reply": "2021-06-01T06:21:44.593236Z",
     "shell.execute_reply.started": "2021-06-01T06:21:44.588236Z"
    }
   },
   "outputs": [],
   "source": [
    "# 两个简单函数，稍后使用\n",
    "def get_result(x):\n",
    "    if x>5:\n",
    "        return 1\n",
    "    else:\n",
    "        return 0\n",
    "def get_result1(x,y):\n",
    "    if x>y:\n",
    "        return 1\n",
    "    else:\n",
    "        return 0"
   ]
  },
  {
   "cell_type": "code",
   "execution_count": 80,
   "id": "optional-circulation",
   "metadata": {
    "execution": {
     "iopub.execute_input": "2021-06-01T06:27:01.855270Z",
     "iopub.status.busy": "2021-06-01T06:27:01.855270Z",
     "iopub.status.idle": "2021-06-01T06:27:01.865241Z",
     "shell.execute_reply": "2021-06-01T06:27:01.864246Z",
     "shell.execute_reply.started": "2021-06-01T06:27:01.855270Z"
    }
   },
   "outputs": [
    {
     "data": {
      "text/html": [
       "<div>\n",
       "<style scoped>\n",
       "    .dataframe tbody tr th:only-of-type {\n",
       "        vertical-align: middle;\n",
       "    }\n",
       "\n",
       "    .dataframe tbody tr th {\n",
       "        vertical-align: top;\n",
       "    }\n",
       "\n",
       "    .dataframe thead th {\n",
       "        text-align: right;\n",
       "    }\n",
       "</style>\n",
       "<table border=\"1\" class=\"dataframe\">\n",
       "  <thead>\n",
       "    <tr style=\"text-align: right;\">\n",
       "      <th></th>\n",
       "      <th>A</th>\n",
       "      <th>B</th>\n",
       "    </tr>\n",
       "  </thead>\n",
       "  <tbody>\n",
       "    <tr>\n",
       "      <th>0</th>\n",
       "      <td>0</td>\n",
       "      <td>0</td>\n",
       "    </tr>\n",
       "    <tr>\n",
       "      <th>1</th>\n",
       "      <td>0</td>\n",
       "      <td>0</td>\n",
       "    </tr>\n",
       "    <tr>\n",
       "      <th>2</th>\n",
       "      <td>0</td>\n",
       "      <td>0</td>\n",
       "    </tr>\n",
       "    <tr>\n",
       "      <th>3</th>\n",
       "      <td>0</td>\n",
       "      <td>0</td>\n",
       "    </tr>\n",
       "    <tr>\n",
       "      <th>4</th>\n",
       "      <td>0</td>\n",
       "      <td>0</td>\n",
       "    </tr>\n",
       "    <tr>\n",
       "      <th>5</th>\n",
       "      <td>0</td>\n",
       "      <td>1</td>\n",
       "    </tr>\n",
       "    <tr>\n",
       "      <th>6</th>\n",
       "      <td>1</td>\n",
       "      <td>1</td>\n",
       "    </tr>\n",
       "    <tr>\n",
       "      <th>7</th>\n",
       "      <td>1</td>\n",
       "      <td>1</td>\n",
       "    </tr>\n",
       "    <tr>\n",
       "      <th>8</th>\n",
       "      <td>1</td>\n",
       "      <td>1</td>\n",
       "    </tr>\n",
       "    <tr>\n",
       "      <th>9</th>\n",
       "      <td>1</td>\n",
       "      <td>1</td>\n",
       "    </tr>\n",
       "  </tbody>\n",
       "</table>\n",
       "</div>"
      ],
      "text/plain": [
       "   A  B\n",
       "0  0  0\n",
       "1  0  0\n",
       "2  0  0\n",
       "3  0  0\n",
       "4  0  0\n",
       "5  0  1\n",
       "6  1  1\n",
       "7  1  1\n",
       "8  1  1\n",
       "9  1  1"
      ]
     },
     "execution_count": 80,
     "metadata": {},
     "output_type": "execute_result"
    }
   ],
   "source": [
    "df.applymap(get_result) # 在所有元素上使用自定义函数。两种写法"
   ]
  },
  {
   "cell_type": "code",
   "execution_count": 78,
   "id": "toxic-aquarium",
   "metadata": {
    "execution": {
     "iopub.execute_input": "2021-06-01T06:25:53.297236Z",
     "iopub.status.busy": "2021-06-01T06:25:53.297236Z",
     "iopub.status.idle": "2021-06-01T06:25:53.306242Z",
     "shell.execute_reply": "2021-06-01T06:25:53.305237Z",
     "shell.execute_reply.started": "2021-06-01T06:25:53.297236Z"
    }
   },
   "outputs": [
    {
     "data": {
      "text/plain": [
       "0    0\n",
       "1    0\n",
       "2    0\n",
       "3    0\n",
       "4    0\n",
       "5    0\n",
       "6    0\n",
       "7    0\n",
       "8    0\n",
       "9    0\n",
       "dtype: int64"
      ]
     },
     "execution_count": 78,
     "metadata": {},
     "output_type": "execute_result"
    }
   ],
   "source": [
    "df.apply(lambda x: get_result1(x['A'],x['B']),axis=1) # 逐行遍历，传递两个元素.两种写法"
   ]
  },
  {
   "cell_type": "code",
   "execution_count": 75,
   "id": "considered-concept",
   "metadata": {
    "execution": {
     "iopub.execute_input": "2021-06-01T06:24:18.923263Z",
     "iopub.status.busy": "2021-06-01T06:24:18.923263Z",
     "iopub.status.idle": "2021-06-01T06:24:18.930249Z",
     "shell.execute_reply": "2021-06-01T06:24:18.929238Z",
     "shell.execute_reply.started": "2021-06-01T06:24:18.923263Z"
    }
   },
   "outputs": [
    {
     "data": {
      "text/plain": [
       "0    0\n",
       "1    0\n",
       "2    0\n",
       "3    0\n",
       "4    0\n",
       "5    0\n",
       "6    1\n",
       "7    1\n",
       "8    1\n",
       "9    1\n",
       "dtype: int64"
      ]
     },
     "execution_count": 75,
     "metadata": {},
     "output_type": "execute_result"
    }
   ],
   "source": [
    "df.apply(lambda x: get_result(x.A),axis=1) # 使用apply实现同样效果"
   ]
  },
  {
   "cell_type": "code",
   "execution_count": 70,
   "id": "hybrid-seating",
   "metadata": {
    "execution": {
     "iopub.execute_input": "2021-06-01T06:22:11.233240Z",
     "iopub.status.busy": "2021-06-01T06:22:11.232239Z",
     "iopub.status.idle": "2021-06-01T06:22:11.241237Z",
     "shell.execute_reply": "2021-06-01T06:22:11.240235Z",
     "shell.execute_reply.started": "2021-06-01T06:22:11.233240Z"
    }
   },
   "outputs": [
    {
     "data": {
      "text/plain": [
       "0    0\n",
       "1    0\n",
       "2    0\n",
       "3    0\n",
       "4    0\n",
       "5    0\n",
       "6    1\n",
       "7    1\n",
       "8    1\n",
       "9    1\n",
       "Name: A, dtype: int64"
      ]
     },
     "execution_count": 70,
     "metadata": {},
     "output_type": "execute_result"
    }
   ],
   "source": [
    "df.A.map(lambda x :get_result(x)) # 在A列上逐行调用函数get_result"
   ]
  },
  {
   "cell_type": "code",
   "execution_count": 71,
   "id": "subject-pierce",
   "metadata": {
    "execution": {
     "iopub.execute_input": "2021-06-01T06:23:04.892242Z",
     "iopub.status.busy": "2021-06-01T06:23:04.892242Z",
     "iopub.status.idle": "2021-06-01T06:23:04.900247Z",
     "shell.execute_reply": "2021-06-01T06:23:04.898251Z",
     "shell.execute_reply.started": "2021-06-01T06:23:04.892242Z"
    }
   },
   "outputs": [
    {
     "data": {
      "text/plain": [
       "0    0\n",
       "1    0\n",
       "2    0\n",
       "3    0\n",
       "4    0\n",
       "5    0\n",
       "6    1\n",
       "7    1\n",
       "8    1\n",
       "9    1\n",
       "Name: A, dtype: int64"
      ]
     },
     "execution_count": 71,
     "metadata": {},
     "output_type": "execute_result"
    }
   ],
   "source": [
    "df['A'].map(lambda x :get_result(x))  # 等效写法"
   ]
  },
  {
   "cell_type": "code",
   "execution_count": 73,
   "id": "referenced-canal",
   "metadata": {
    "execution": {
     "iopub.execute_input": "2021-06-01T06:23:42.303233Z",
     "iopub.status.busy": "2021-06-01T06:23:42.303233Z",
     "iopub.status.idle": "2021-06-01T06:23:42.313236Z",
     "shell.execute_reply": "2021-06-01T06:23:42.312235Z",
     "shell.execute_reply.started": "2021-06-01T06:23:42.303233Z"
    }
   },
   "outputs": [
    {
     "data": {
      "text/plain": [
       "0    0\n",
       "1    0\n",
       "2    0\n",
       "3    0\n",
       "4    0\n",
       "5    0\n",
       "6    1\n",
       "7    1\n",
       "8    1\n",
       "9    1\n",
       "Name: A, dtype: int64"
      ]
     },
     "execution_count": 73,
     "metadata": {},
     "output_type": "execute_result"
    }
   ],
   "source": [
    "df.A.map(get_result)  # 等效写法"
   ]
  }
 ],
 "metadata": {
  "kernelspec": {
   "display_name": "Python 3",
   "language": "python",
   "name": "python3"
  },
  "language_info": {
   "codemirror_mode": {
    "name": "ipython",
    "version": 3
   },
   "file_extension": ".py",
   "mimetype": "text/x-python",
   "name": "python",
   "nbconvert_exporter": "python",
   "pygments_lexer": "ipython3",
   "version": "3.6.8"
  }
 },
 "nbformat": 4,
 "nbformat_minor": 5
}
