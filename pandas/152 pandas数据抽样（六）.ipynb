{
 "cells": [
  {
   "cell_type": "markdown",
   "id": "accredited-stations",
   "metadata": {
    "tags": []
   },
   "source": [
    "## 152 pandas数据抽样（六）"
   ]
  },
  {
   "cell_type": "markdown",
   "id": "compact-prospect",
   "metadata": {
    "tags": []
   },
   "source": [
    "### asfreq：将源时序数据转换成特定频率的结果时序数据，实现时序数据的频率转换方式的“采样”\n",
    "#### asfreq与resample区别：asfreq采样时间区间边上的值（时刻值），resample采样的是时间区间内的值（一段时间内）\n",
    "参数 freq, method=None, how=None, normalize=False, fill_value=None"
   ]
  },
  {
   "cell_type": "code",
   "execution_count": 1,
   "id": "monetary-appointment",
   "metadata": {
    "execution": {
     "iopub.execute_input": "2021-10-13T11:38:41.416410Z",
     "iopub.status.busy": "2021-10-13T11:38:41.415410Z",
     "iopub.status.idle": "2021-10-13T11:38:41.807169Z",
     "shell.execute_reply": "2021-10-13T11:38:41.807169Z",
     "shell.execute_reply.started": "2021-10-13T11:38:41.416410Z"
    },
    "tags": []
   },
   "outputs": [],
   "source": [
    "import pandas as pd\n",
    "import numpy as np\n",
    "index = pd.date_range('1/1/2000', periods=4, freq='T')\n",
    "series = pd.Series([0.0, None, 2.0, 3.0], index=index)\n",
    "df = pd.DataFrame({'s': series})"
   ]
  },
  {
   "cell_type": "code",
   "execution_count": 2,
   "id": "quick-student",
   "metadata": {
    "execution": {
     "iopub.execute_input": "2021-10-13T11:38:41.809167Z",
     "iopub.status.busy": "2021-10-13T11:38:41.809167Z",
     "iopub.status.idle": "2021-10-13T11:38:41.824158Z",
     "shell.execute_reply": "2021-10-13T11:38:41.823159Z",
     "shell.execute_reply.started": "2021-10-13T11:38:41.809167Z"
    },
    "tags": []
   },
   "outputs": [
    {
     "data": {
      "text/plain": [
       "2000-01-01 00:00:00    0.0\n",
       "2000-01-01 00:01:00    NaN\n",
       "2000-01-01 00:02:00    2.0\n",
       "2000-01-01 00:03:00    3.0\n",
       "Freq: T, dtype: float64"
      ]
     },
     "execution_count": 2,
     "metadata": {},
     "output_type": "execute_result"
    }
   ],
   "source": [
    "series"
   ]
  },
  {
   "cell_type": "code",
   "execution_count": 8,
   "id": "broadband-closure",
   "metadata": {
    "execution": {
     "iopub.execute_input": "2021-10-13T11:41:18.092775Z",
     "iopub.status.busy": "2021-10-13T11:41:18.091776Z",
     "iopub.status.idle": "2021-10-13T11:41:18.101769Z",
     "shell.execute_reply": "2021-10-13T11:41:18.100770Z",
     "shell.execute_reply.started": "2021-10-13T11:41:18.092775Z"
    },
    "tags": []
   },
   "outputs": [
    {
     "data": {
      "text/plain": [
       "2000-01-01 00:00:00    0.0\n",
       "2000-01-01 00:03:00    3.0\n",
       "Freq: 3T, dtype: float64"
      ]
     },
     "execution_count": 8,
     "metadata": {},
     "output_type": "execute_result"
    }
   ],
   "source": [
    "series.asfreq(freq='3T') # freq 采样频率"
   ]
  },
  {
   "cell_type": "code",
   "execution_count": 3,
   "id": "provincial-chamber",
   "metadata": {
    "execution": {
     "iopub.execute_input": "2021-10-13T11:38:41.825157Z",
     "iopub.status.busy": "2021-10-13T11:38:41.825157Z",
     "iopub.status.idle": "2021-10-13T11:38:41.831154Z",
     "shell.execute_reply": "2021-10-13T11:38:41.830154Z",
     "shell.execute_reply.started": "2021-10-13T11:38:41.825157Z"
    }
   },
   "outputs": [],
   "source": [
    "df2 =df.copy()"
   ]
  },
  {
   "cell_type": "code",
   "execution_count": 4,
   "id": "oriented-mother",
   "metadata": {
    "execution": {
     "iopub.execute_input": "2021-10-13T11:38:41.832153Z",
     "iopub.status.busy": "2021-10-13T11:38:41.832153Z",
     "iopub.status.idle": "2021-10-13T11:38:41.838149Z",
     "shell.execute_reply": "2021-10-13T11:38:41.837151Z",
     "shell.execute_reply.started": "2021-10-13T11:38:41.832153Z"
    },
    "tags": []
   },
   "outputs": [],
   "source": [
    "df2.index=df2.index.astype('period[D]')"
   ]
  },
  {
   "cell_type": "code",
   "execution_count": 5,
   "id": "protected-wisconsin",
   "metadata": {
    "execution": {
     "iopub.execute_input": "2021-10-13T11:38:41.839149Z",
     "iopub.status.busy": "2021-10-13T11:38:41.839149Z",
     "iopub.status.idle": "2021-10-13T11:38:41.855139Z",
     "shell.execute_reply": "2021-10-13T11:38:41.854140Z",
     "shell.execute_reply.started": "2021-10-13T11:38:41.839149Z"
    }
   },
   "outputs": [
    {
     "data": {
      "text/html": [
       "<div>\n",
       "<style scoped>\n",
       "    .dataframe tbody tr th:only-of-type {\n",
       "        vertical-align: middle;\n",
       "    }\n",
       "\n",
       "    .dataframe tbody tr th {\n",
       "        vertical-align: top;\n",
       "    }\n",
       "\n",
       "    .dataframe thead th {\n",
       "        text-align: right;\n",
       "    }\n",
       "</style>\n",
       "<table border=\"1\" class=\"dataframe\">\n",
       "  <thead>\n",
       "    <tr style=\"text-align: right;\">\n",
       "      <th></th>\n",
       "      <th>s</th>\n",
       "    </tr>\n",
       "  </thead>\n",
       "  <tbody>\n",
       "    <tr>\n",
       "      <th>2000-01-01</th>\n",
       "      <td>0.0</td>\n",
       "    </tr>\n",
       "    <tr>\n",
       "      <th>2000-01-01</th>\n",
       "      <td>NaN</td>\n",
       "    </tr>\n",
       "    <tr>\n",
       "      <th>2000-01-01</th>\n",
       "      <td>2.0</td>\n",
       "    </tr>\n",
       "    <tr>\n",
       "      <th>2000-01-01</th>\n",
       "      <td>3.0</td>\n",
       "    </tr>\n",
       "  </tbody>\n",
       "</table>\n",
       "</div>"
      ],
      "text/plain": [
       "              s\n",
       "2000-01-01  0.0\n",
       "2000-01-01  NaN\n",
       "2000-01-01  2.0\n",
       "2000-01-01  3.0"
      ]
     },
     "execution_count": 5,
     "metadata": {},
     "output_type": "execute_result"
    }
   ],
   "source": [
    "df2"
   ]
  },
  {
   "cell_type": "code",
   "execution_count": 9,
   "id": "general-weapon",
   "metadata": {
    "execution": {
     "iopub.execute_input": "2021-10-13T11:41:41.854779Z",
     "iopub.status.busy": "2021-10-13T11:41:41.854779Z",
     "iopub.status.idle": "2021-10-13T11:41:41.862775Z",
     "shell.execute_reply": "2021-10-13T11:41:41.861776Z",
     "shell.execute_reply.started": "2021-10-13T11:41:41.854779Z"
    },
    "tags": []
   },
   "outputs": [
    {
     "data": {
      "text/plain": [
       "PeriodIndex(['2000-01-01', '2000-01-01', '2000-01-01', '2000-01-01'], dtype='period[D]')"
      ]
     },
     "execution_count": 9,
     "metadata": {},
     "output_type": "execute_result"
    }
   ],
   "source": [
    "df2.index"
   ]
  },
  {
   "cell_type": "code",
   "execution_count": 10,
   "id": "animal-meter",
   "metadata": {
    "execution": {
     "iopub.execute_input": "2021-10-13T11:42:03.426677Z",
     "iopub.status.busy": "2021-10-13T11:42:03.425677Z",
     "iopub.status.idle": "2021-10-13T11:42:03.440665Z",
     "shell.execute_reply": "2021-10-13T11:42:03.438667Z",
     "shell.execute_reply.started": "2021-10-13T11:42:03.426677Z"
    },
    "tags": []
   },
   "outputs": [
    {
     "data": {
      "text/plain": [
       "PeriodIndex(['2000-01-01 23:00', '2000-01-01 23:00', '2000-01-01 23:00',\n",
       "             '2000-01-01 23:00'],\n",
       "            dtype='period[H]')"
      ]
     },
     "execution_count": 10,
     "metadata": {},
     "output_type": "execute_result"
    }
   ],
   "source": [
    "df2.index.asfreq('H') # 在索引上使用"
   ]
  },
  {
   "cell_type": "code",
   "execution_count": 12,
   "id": "fallen-support",
   "metadata": {
    "execution": {
     "iopub.execute_input": "2021-10-13T11:42:50.759888Z",
     "iopub.status.busy": "2021-10-13T11:42:50.759888Z",
     "iopub.status.idle": "2021-10-13T11:42:50.767884Z",
     "shell.execute_reply": "2021-10-13T11:42:50.766884Z",
     "shell.execute_reply.started": "2021-10-13T11:42:50.759888Z"
    },
    "tags": []
   },
   "outputs": [
    {
     "data": {
      "text/plain": [
       "PeriodIndex(['2000-01-01 00:00', '2000-01-01 00:00', '2000-01-01 00:00',\n",
       "             '2000-01-01 00:00'],\n",
       "            dtype='period[H]')"
      ]
     },
     "execution_count": 12,
     "metadata": {},
     "output_type": "execute_result"
    }
   ],
   "source": [
    "df2.index.asfreq('H', how='start') # how ：用于周期索引，start end  确定 时间点是开始时间还是结束时间 "
   ]
  },
  {
   "cell_type": "code",
   "execution_count": 13,
   "id": "beautiful-occurrence",
   "metadata": {
    "execution": {
     "iopub.execute_input": "2021-10-13T11:43:06.667106Z",
     "iopub.status.busy": "2021-10-13T11:43:06.666106Z",
     "iopub.status.idle": "2021-10-13T11:43:06.681097Z",
     "shell.execute_reply": "2021-10-13T11:43:06.679099Z",
     "shell.execute_reply.started": "2021-10-13T11:43:06.667106Z"
    },
    "tags": []
   },
   "outputs": [
    {
     "data": {
      "text/plain": [
       "PeriodIndex(['2000-01-01 23:00', '2000-01-01 23:00', '2000-01-01 23:00',\n",
       "             '2000-01-01 23:00'],\n",
       "            dtype='period[H]')"
      ]
     },
     "execution_count": 13,
     "metadata": {},
     "output_type": "execute_result"
    }
   ],
   "source": [
    "df2.index.asfreq('H', how='end') # "
   ]
  },
  {
   "cell_type": "code",
   "execution_count": 6,
   "id": "oriental-finder",
   "metadata": {
    "execution": {
     "iopub.execute_input": "2021-10-13T11:38:41.856139Z",
     "iopub.status.busy": "2021-10-13T11:38:41.856139Z",
     "iopub.status.idle": "2021-10-13T11:38:41.865133Z",
     "shell.execute_reply": "2021-10-13T11:38:41.865133Z",
     "shell.execute_reply.started": "2021-10-13T11:38:41.856139Z"
    },
    "tags": []
   },
   "outputs": [
    {
     "data": {
      "text/html": [
       "<div>\n",
       "<style scoped>\n",
       "    .dataframe tbody tr th:only-of-type {\n",
       "        vertical-align: middle;\n",
       "    }\n",
       "\n",
       "    .dataframe tbody tr th {\n",
       "        vertical-align: top;\n",
       "    }\n",
       "\n",
       "    .dataframe thead th {\n",
       "        text-align: right;\n",
       "    }\n",
       "</style>\n",
       "<table border=\"1\" class=\"dataframe\">\n",
       "  <thead>\n",
       "    <tr style=\"text-align: right;\">\n",
       "      <th></th>\n",
       "      <th>s</th>\n",
       "    </tr>\n",
       "  </thead>\n",
       "  <tbody>\n",
       "    <tr>\n",
       "      <th>2000-01-01 00:00:00</th>\n",
       "      <td>0.0</td>\n",
       "    </tr>\n",
       "    <tr>\n",
       "      <th>2000-01-01 00:01:00</th>\n",
       "      <td>NaN</td>\n",
       "    </tr>\n",
       "    <tr>\n",
       "      <th>2000-01-01 00:02:00</th>\n",
       "      <td>2.0</td>\n",
       "    </tr>\n",
       "    <tr>\n",
       "      <th>2000-01-01 00:03:00</th>\n",
       "      <td>3.0</td>\n",
       "    </tr>\n",
       "  </tbody>\n",
       "</table>\n",
       "</div>"
      ],
      "text/plain": [
       "                       s\n",
       "2000-01-01 00:00:00  0.0\n",
       "2000-01-01 00:01:00  NaN\n",
       "2000-01-01 00:02:00  2.0\n",
       "2000-01-01 00:03:00  3.0"
      ]
     },
     "execution_count": 6,
     "metadata": {},
     "output_type": "execute_result"
    }
   ],
   "source": [
    "df"
   ]
  },
  {
   "cell_type": "code",
   "execution_count": 14,
   "id": "characteristic-scholarship",
   "metadata": {
    "execution": {
     "iopub.execute_input": "2021-10-13T11:45:19.423628Z",
     "iopub.status.busy": "2021-10-13T11:45:19.423628Z",
     "iopub.status.idle": "2021-10-13T11:45:19.435621Z",
     "shell.execute_reply": "2021-10-13T11:45:19.434622Z",
     "shell.execute_reply.started": "2021-10-13T11:45:19.423628Z"
    },
    "tags": []
   },
   "outputs": [
    {
     "data": {
      "text/html": [
       "<div>\n",
       "<style scoped>\n",
       "    .dataframe tbody tr th:only-of-type {\n",
       "        vertical-align: middle;\n",
       "    }\n",
       "\n",
       "    .dataframe tbody tr th {\n",
       "        vertical-align: top;\n",
       "    }\n",
       "\n",
       "    .dataframe thead th {\n",
       "        text-align: right;\n",
       "    }\n",
       "</style>\n",
       "<table border=\"1\" class=\"dataframe\">\n",
       "  <thead>\n",
       "    <tr style=\"text-align: right;\">\n",
       "      <th></th>\n",
       "      <th>s</th>\n",
       "    </tr>\n",
       "  </thead>\n",
       "  <tbody>\n",
       "    <tr>\n",
       "      <th>2000-01-01 00:00:00</th>\n",
       "      <td>0.0</td>\n",
       "    </tr>\n",
       "    <tr>\n",
       "      <th>2000-01-01 00:03:00</th>\n",
       "      <td>3.0</td>\n",
       "    </tr>\n",
       "  </tbody>\n",
       "</table>\n",
       "</div>"
      ],
      "text/plain": [
       "                       s\n",
       "2000-01-01 00:00:00  0.0\n",
       "2000-01-01 00:03:00  3.0"
      ]
     },
     "execution_count": 14,
     "metadata": {},
     "output_type": "execute_result"
    }
   ],
   "source": [
    "df.asfreq('3T') # 下采样。df上使用"
   ]
  },
  {
   "cell_type": "code",
   "execution_count": 15,
   "id": "average-glory",
   "metadata": {
    "execution": {
     "iopub.execute_input": "2021-10-13T11:45:52.947923Z",
     "iopub.status.busy": "2021-10-13T11:45:52.947923Z",
     "iopub.status.idle": "2021-10-13T11:45:52.959915Z",
     "shell.execute_reply": "2021-10-13T11:45:52.958918Z",
     "shell.execute_reply.started": "2021-10-13T11:45:52.947923Z"
    },
    "tags": []
   },
   "outputs": [
    {
     "data": {
      "text/html": [
       "<div>\n",
       "<style scoped>\n",
       "    .dataframe tbody tr th:only-of-type {\n",
       "        vertical-align: middle;\n",
       "    }\n",
       "\n",
       "    .dataframe tbody tr th {\n",
       "        vertical-align: top;\n",
       "    }\n",
       "\n",
       "    .dataframe thead th {\n",
       "        text-align: right;\n",
       "    }\n",
       "</style>\n",
       "<table border=\"1\" class=\"dataframe\">\n",
       "  <thead>\n",
       "    <tr style=\"text-align: right;\">\n",
       "      <th></th>\n",
       "      <th>s</th>\n",
       "    </tr>\n",
       "  </thead>\n",
       "  <tbody>\n",
       "    <tr>\n",
       "      <th>2000-01-01 00:00:00</th>\n",
       "      <td>0.0</td>\n",
       "    </tr>\n",
       "    <tr>\n",
       "      <th>2000-01-01 00:00:30</th>\n",
       "      <td>NaN</td>\n",
       "    </tr>\n",
       "    <tr>\n",
       "      <th>2000-01-01 00:01:00</th>\n",
       "      <td>NaN</td>\n",
       "    </tr>\n",
       "    <tr>\n",
       "      <th>2000-01-01 00:01:30</th>\n",
       "      <td>NaN</td>\n",
       "    </tr>\n",
       "    <tr>\n",
       "      <th>2000-01-01 00:02:00</th>\n",
       "      <td>2.0</td>\n",
       "    </tr>\n",
       "    <tr>\n",
       "      <th>2000-01-01 00:02:30</th>\n",
       "      <td>NaN</td>\n",
       "    </tr>\n",
       "    <tr>\n",
       "      <th>2000-01-01 00:03:00</th>\n",
       "      <td>3.0</td>\n",
       "    </tr>\n",
       "  </tbody>\n",
       "</table>\n",
       "</div>"
      ],
      "text/plain": [
       "                       s\n",
       "2000-01-01 00:00:00  0.0\n",
       "2000-01-01 00:00:30  NaN\n",
       "2000-01-01 00:01:00  NaN\n",
       "2000-01-01 00:01:30  NaN\n",
       "2000-01-01 00:02:00  2.0\n",
       "2000-01-01 00:02:30  NaN\n",
       "2000-01-01 00:03:00  3.0"
      ]
     },
     "execution_count": 15,
     "metadata": {},
     "output_type": "execute_result"
    }
   ],
   "source": [
    "df.asfreq('.5T') # 上采样"
   ]
  },
  {
   "cell_type": "code",
   "execution_count": 16,
   "id": "established-shakespeare",
   "metadata": {
    "execution": {
     "iopub.execute_input": "2021-10-13T11:46:19.513609Z",
     "iopub.status.busy": "2021-10-13T11:46:19.513609Z",
     "iopub.status.idle": "2021-10-13T11:46:19.530599Z",
     "shell.execute_reply": "2021-10-13T11:46:19.528602Z",
     "shell.execute_reply.started": "2021-10-13T11:46:19.513609Z"
    },
    "tags": []
   },
   "outputs": [
    {
     "data": {
      "text/html": [
       "<div>\n",
       "<style scoped>\n",
       "    .dataframe tbody tr th:only-of-type {\n",
       "        vertical-align: middle;\n",
       "    }\n",
       "\n",
       "    .dataframe tbody tr th {\n",
       "        vertical-align: top;\n",
       "    }\n",
       "\n",
       "    .dataframe thead th {\n",
       "        text-align: right;\n",
       "    }\n",
       "</style>\n",
       "<table border=\"1\" class=\"dataframe\">\n",
       "  <thead>\n",
       "    <tr style=\"text-align: right;\">\n",
       "      <th></th>\n",
       "      <th>s</th>\n",
       "    </tr>\n",
       "  </thead>\n",
       "  <tbody>\n",
       "    <tr>\n",
       "      <th>2000-01-01 00:00:00</th>\n",
       "      <td>0.0</td>\n",
       "    </tr>\n",
       "    <tr>\n",
       "      <th>2000-01-01 00:00:30</th>\n",
       "      <td>1.0</td>\n",
       "    </tr>\n",
       "    <tr>\n",
       "      <th>2000-01-01 00:01:00</th>\n",
       "      <td>NaN</td>\n",
       "    </tr>\n",
       "    <tr>\n",
       "      <th>2000-01-01 00:01:30</th>\n",
       "      <td>1.0</td>\n",
       "    </tr>\n",
       "    <tr>\n",
       "      <th>2000-01-01 00:02:00</th>\n",
       "      <td>2.0</td>\n",
       "    </tr>\n",
       "    <tr>\n",
       "      <th>2000-01-01 00:02:30</th>\n",
       "      <td>1.0</td>\n",
       "    </tr>\n",
       "    <tr>\n",
       "      <th>2000-01-01 00:03:00</th>\n",
       "      <td>3.0</td>\n",
       "    </tr>\n",
       "  </tbody>\n",
       "</table>\n",
       "</div>"
      ],
      "text/plain": [
       "                       s\n",
       "2000-01-01 00:00:00  0.0\n",
       "2000-01-01 00:00:30  1.0\n",
       "2000-01-01 00:01:00  NaN\n",
       "2000-01-01 00:01:30  1.0\n",
       "2000-01-01 00:02:00  2.0\n",
       "2000-01-01 00:02:30  1.0\n",
       "2000-01-01 00:03:00  3.0"
      ]
     },
     "execution_count": 16,
     "metadata": {},
     "output_type": "execute_result"
    }
   ],
   "source": [
    "df.asfreq('.5T',fill_value=1) # 上采样.将新生成的行的nan填充成指定的值，注意原有行 的nan不管"
   ]
  },
  {
   "cell_type": "code",
   "execution_count": 17,
   "id": "virgin-holder",
   "metadata": {
    "execution": {
     "iopub.execute_input": "2021-10-13T11:47:31.971061Z",
     "iopub.status.busy": "2021-10-13T11:47:31.971061Z",
     "iopub.status.idle": "2021-10-13T11:47:31.982055Z",
     "shell.execute_reply": "2021-10-13T11:47:31.981056Z",
     "shell.execute_reply.started": "2021-10-13T11:47:31.971061Z"
    },
    "tags": []
   },
   "outputs": [
    {
     "data": {
      "text/html": [
       "<div>\n",
       "<style scoped>\n",
       "    .dataframe tbody tr th:only-of-type {\n",
       "        vertical-align: middle;\n",
       "    }\n",
       "\n",
       "    .dataframe tbody tr th {\n",
       "        vertical-align: top;\n",
       "    }\n",
       "\n",
       "    .dataframe thead th {\n",
       "        text-align: right;\n",
       "    }\n",
       "</style>\n",
       "<table border=\"1\" class=\"dataframe\">\n",
       "  <thead>\n",
       "    <tr style=\"text-align: right;\">\n",
       "      <th></th>\n",
       "      <th>s</th>\n",
       "    </tr>\n",
       "  </thead>\n",
       "  <tbody>\n",
       "    <tr>\n",
       "      <th>2000-01-01 00:00:00</th>\n",
       "      <td>0.0</td>\n",
       "    </tr>\n",
       "    <tr>\n",
       "      <th>2000-01-01 00:00:30</th>\n",
       "      <td>0.0</td>\n",
       "    </tr>\n",
       "    <tr>\n",
       "      <th>2000-01-01 00:01:00</th>\n",
       "      <td>NaN</td>\n",
       "    </tr>\n",
       "    <tr>\n",
       "      <th>2000-01-01 00:01:30</th>\n",
       "      <td>NaN</td>\n",
       "    </tr>\n",
       "    <tr>\n",
       "      <th>2000-01-01 00:02:00</th>\n",
       "      <td>2.0</td>\n",
       "    </tr>\n",
       "    <tr>\n",
       "      <th>2000-01-01 00:02:30</th>\n",
       "      <td>2.0</td>\n",
       "    </tr>\n",
       "    <tr>\n",
       "      <th>2000-01-01 00:03:00</th>\n",
       "      <td>3.0</td>\n",
       "    </tr>\n",
       "  </tbody>\n",
       "</table>\n",
       "</div>"
      ],
      "text/plain": [
       "                       s\n",
       "2000-01-01 00:00:00  0.0\n",
       "2000-01-01 00:00:30  0.0\n",
       "2000-01-01 00:01:00  NaN\n",
       "2000-01-01 00:01:30  NaN\n",
       "2000-01-01 00:02:00  2.0\n",
       "2000-01-01 00:02:30  2.0\n",
       "2000-01-01 00:03:00  3.0"
      ]
     },
     "execution_count": 17,
     "metadata": {},
     "output_type": "execute_result"
    }
   ],
   "source": [
    "df.asfreq('.5T',method='pad') # method 指定填充方式，参考fillna函数的method。上采样.将新生成的行的nan填充成指定的值，注意原有行 的nan不管"
   ]
  },
  {
   "cell_type": "code",
   "execution_count": 19,
   "id": "limiting-snowboard",
   "metadata": {
    "execution": {
     "iopub.execute_input": "2021-10-13T11:49:27.136611Z",
     "iopub.status.busy": "2021-10-13T11:49:27.136611Z",
     "iopub.status.idle": "2021-10-13T11:49:27.159596Z",
     "shell.execute_reply": "2021-10-13T11:49:27.157597Z",
     "shell.execute_reply.started": "2021-10-13T11:49:27.136611Z"
    },
    "tags": []
   },
   "outputs": [
    {
     "data": {
      "text/html": [
       "<div>\n",
       "<style scoped>\n",
       "    .dataframe tbody tr th:only-of-type {\n",
       "        vertical-align: middle;\n",
       "    }\n",
       "\n",
       "    .dataframe tbody tr th {\n",
       "        vertical-align: top;\n",
       "    }\n",
       "\n",
       "    .dataframe thead th {\n",
       "        text-align: right;\n",
       "    }\n",
       "</style>\n",
       "<table border=\"1\" class=\"dataframe\">\n",
       "  <thead>\n",
       "    <tr style=\"text-align: right;\">\n",
       "      <th></th>\n",
       "      <th>s</th>\n",
       "    </tr>\n",
       "  </thead>\n",
       "  <tbody>\n",
       "    <tr>\n",
       "      <th>2000-01-01</th>\n",
       "      <td>0.0</td>\n",
       "    </tr>\n",
       "    <tr>\n",
       "      <th>2000-01-01</th>\n",
       "      <td>0.0</td>\n",
       "    </tr>\n",
       "    <tr>\n",
       "      <th>2000-01-01</th>\n",
       "      <td>NaN</td>\n",
       "    </tr>\n",
       "    <tr>\n",
       "      <th>2000-01-01</th>\n",
       "      <td>NaN</td>\n",
       "    </tr>\n",
       "    <tr>\n",
       "      <th>2000-01-01</th>\n",
       "      <td>2.0</td>\n",
       "    </tr>\n",
       "    <tr>\n",
       "      <th>2000-01-01</th>\n",
       "      <td>2.0</td>\n",
       "    </tr>\n",
       "    <tr>\n",
       "      <th>2000-01-01</th>\n",
       "      <td>3.0</td>\n",
       "    </tr>\n",
       "  </tbody>\n",
       "</table>\n",
       "</div>"
      ],
      "text/plain": [
       "              s\n",
       "2000-01-01  0.0\n",
       "2000-01-01  0.0\n",
       "2000-01-01  NaN\n",
       "2000-01-01  NaN\n",
       "2000-01-01  2.0\n",
       "2000-01-01  2.0\n",
       "2000-01-01  3.0"
      ]
     },
     "execution_count": 19,
     "metadata": {},
     "output_type": "execute_result"
    }
   ],
   "source": [
    "df.asfreq('.5T',method='pad',normalize=True) # normalize 将结果的时间统一调整成当天午夜（即零点）"
   ]
  }
 ],
 "metadata": {
  "kernelspec": {
   "display_name": "Python 3",
   "language": "python",
   "name": "python3"
  },
  "language_info": {
   "codemirror_mode": {
    "name": "ipython",
    "version": 3
   },
   "file_extension": ".py",
   "mimetype": "text/x-python",
   "name": "python",
   "nbconvert_exporter": "python",
   "pygments_lexer": "ipython3",
   "version": "3.6.8"
  }
 },
 "nbformat": 4,
 "nbformat_minor": 5
}
