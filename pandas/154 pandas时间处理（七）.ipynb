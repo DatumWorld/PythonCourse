{
 "cells": [
  {
   "cell_type": "markdown",
   "id": "vocational-london",
   "metadata": {
    "execution": {
     "iopub.execute_input": "2021-05-10T07:18:52.990449Z",
     "iopub.status.busy": "2021-05-10T07:18:52.990449Z",
     "iopub.status.idle": "2021-05-10T07:18:52.994464Z",
     "shell.execute_reply": "2021-05-10T07:18:52.993452Z",
     "shell.execute_reply.started": "2021-05-10T07:18:52.990449Z"
    }
   },
   "source": [
    "## 154 pandas时间处理（七）"
   ]
  },
  {
   "cell_type": "markdown",
   "id": "legitimate-teach",
   "metadata": {},
   "source": [
    "### bdate_range：生成工作日时间\n",
    "#### bdate_range与date_range的区别主要在前者默认生成 工作日的时间，即business day time，用法与date_range类似，这里仅仅简单补充\n",
    "##### 参数 start=None, end=None, periods=None, freq='B', tz=None, normalize=True, name=None, weekmask=None, holidays=None, closed=None, **kwargs"
   ]
  },
  {
   "cell_type": "code",
   "execution_count": 1,
   "id": "consecutive-bhutan",
   "metadata": {
    "execution": {
     "iopub.execute_input": "2021-10-14T10:32:41.903665Z",
     "iopub.status.busy": "2021-10-14T10:32:41.903665Z",
     "iopub.status.idle": "2021-10-14T10:32:43.471757Z",
     "shell.execute_reply": "2021-10-14T10:32:43.471757Z",
     "shell.execute_reply.started": "2021-10-14T10:32:41.903665Z"
    },
    "tags": []
   },
   "outputs": [],
   "source": [
    "import pandas as pd"
   ]
  },
  {
   "cell_type": "code",
   "execution_count": 2,
   "id": "c13b94d8-d85a-4cd3-a4c1-07af2045d0b6",
   "metadata": {
    "execution": {
     "iopub.execute_input": "2021-10-14T10:35:34.361596Z",
     "iopub.status.busy": "2021-10-14T10:35:34.361596Z",
     "iopub.status.idle": "2021-10-14T10:35:34.381583Z",
     "shell.execute_reply": "2021-10-14T10:35:34.380584Z",
     "shell.execute_reply.started": "2021-10-14T10:35:34.361596Z"
    },
    "tags": []
   },
   "outputs": [
    {
     "data": {
      "text/plain": [
       "DatetimeIndex(['2020-01-01', '2020-01-02', '2020-01-03', '2020-01-06',\n",
       "               '2020-01-07', '2020-01-08', '2020-01-09', '2020-01-10'],\n",
       "              dtype='datetime64[ns]', freq='B')"
      ]
     },
     "execution_count": 2,
     "metadata": {},
     "output_type": "execute_result"
    }
   ],
   "source": [
    "pd.bdate_range(start='2020-01-01',end='2020-01-10')"
   ]
  },
  {
   "cell_type": "code",
   "execution_count": 4,
   "id": "ca64efa9-b781-4b0e-b01b-faae3b51dc0f",
   "metadata": {
    "execution": {
     "iopub.execute_input": "2021-10-14T10:37:04.150675Z",
     "iopub.status.busy": "2021-10-14T10:37:04.150675Z",
     "iopub.status.idle": "2021-10-14T10:37:04.161665Z",
     "shell.execute_reply": "2021-10-14T10:37:04.160666Z",
     "shell.execute_reply.started": "2021-10-14T10:37:04.150675Z"
    },
    "tags": []
   },
   "outputs": [
    {
     "data": {
      "text/plain": [
       "DatetimeIndex(['2020-01-01', '2020-01-02', '2020-01-03', '2020-01-04'], dtype='datetime64[ns]', freq='D')"
      ]
     },
     "execution_count": 4,
     "metadata": {},
     "output_type": "execute_result"
    }
   ],
   "source": [
    "pd.bdate_range(start='2020-01-01',freq='D',periods=4) # freq 指定周期，即时间频率。这里就是“时间差”\n",
    "# periods 指定生成几个周期的元素"
   ]
  },
  {
   "cell_type": "code",
   "execution_count": 5,
   "id": "e609e83d-0482-44ec-a5d5-1634c32ce785",
   "metadata": {
    "execution": {
     "iopub.execute_input": "2021-10-14T10:39:16.514289Z",
     "iopub.status.busy": "2021-10-14T10:39:16.514289Z",
     "iopub.status.idle": "2021-10-14T10:39:18.182348Z",
     "shell.execute_reply": "2021-10-14T10:39:18.182348Z",
     "shell.execute_reply.started": "2021-10-14T10:39:16.514289Z"
    },
    "tags": []
   },
   "outputs": [
    {
     "data": {
      "text/plain": [
       "DatetimeIndex(['2020-01-01 00:00:00+08:00', '2020-01-02 00:00:00+08:00',\n",
       "               '2020-01-03 00:00:00+08:00', '2020-01-04 00:00:00+08:00'],\n",
       "              dtype='datetime64[ns, Asia/Shanghai]', freq='D')"
      ]
     },
     "execution_count": 5,
     "metadata": {},
     "output_type": "execute_result"
    }
   ],
   "source": [
    "pd.bdate_range(start='2020-01-01',freq='D',periods=4,tz='Asia/Shanghai') # freq 指定周期，即时间频率。这里就是“时间差”\n",
    "# periods 指定生成几个周期的元素"
   ]
  },
  {
   "cell_type": "code",
   "execution_count": 10,
   "id": "47ffb082-7961-4ee2-bc61-fedb01febca3",
   "metadata": {
    "execution": {
     "iopub.execute_input": "2021-10-14T10:41:28.053464Z",
     "iopub.status.busy": "2021-10-14T10:41:28.053464Z",
     "iopub.status.idle": "2021-10-14T10:41:28.060461Z",
     "shell.execute_reply": "2021-10-14T10:41:28.059461Z",
     "shell.execute_reply.started": "2021-10-14T10:41:28.053464Z"
    },
    "tags": []
   },
   "outputs": [
    {
     "data": {
      "text/plain": [
       "DatetimeIndex(['2020-01-01 00:00:00', '2020-01-01 01:00:00',\n",
       "               '2020-01-01 02:00:00', '2020-01-01 03:00:00'],\n",
       "              dtype='datetime64[ns]', freq='H')"
      ]
     },
     "execution_count": 10,
     "metadata": {},
     "output_type": "execute_result"
    }
   ],
   "source": [
    "pd.bdate_range(start='2020-01-01 00:10',freq='H',periods=4,normalize=True) # normalize True 将日期的时间在计算前先调整到当天午夜时间\n",
    "# periods 指定生成几个周期的元素"
   ]
  },
  {
   "cell_type": "code",
   "execution_count": 11,
   "id": "42e81da7-fec5-45ec-b289-8e5b45ec7050",
   "metadata": {
    "execution": {
     "iopub.execute_input": "2021-10-14T10:41:37.380486Z",
     "iopub.status.busy": "2021-10-14T10:41:37.379487Z",
     "iopub.status.idle": "2021-10-14T10:41:37.388483Z",
     "shell.execute_reply": "2021-10-14T10:41:37.387482Z",
     "shell.execute_reply.started": "2021-10-14T10:41:37.380486Z"
    },
    "tags": []
   },
   "outputs": [
    {
     "data": {
      "text/plain": [
       "DatetimeIndex(['2020-01-01 00:10:00', '2020-01-01 01:10:00',\n",
       "               '2020-01-01 02:10:00', '2020-01-01 03:10:00'],\n",
       "              dtype='datetime64[ns]', freq='H')"
      ]
     },
     "execution_count": 11,
     "metadata": {},
     "output_type": "execute_result"
    }
   ],
   "source": [
    "pd.bdate_range(start='2020-01-01 00:10',freq='H',periods=4,normalize=False) # normalize 将日期的时间在计算前先调整到当天午夜时间\n",
    "# periods 指定生成几个周期的元素"
   ]
  },
  {
   "cell_type": "code",
   "execution_count": 12,
   "id": "14cea565-a551-4b9f-95c7-245aea511655",
   "metadata": {
    "execution": {
     "iopub.execute_input": "2021-10-14T10:43:59.639572Z",
     "iopub.status.busy": "2021-10-14T10:43:59.638571Z",
     "iopub.status.idle": "2021-10-14T10:43:59.652560Z",
     "shell.execute_reply": "2021-10-14T10:43:59.650562Z",
     "shell.execute_reply.started": "2021-10-14T10:43:59.639572Z"
    },
    "tags": []
   },
   "outputs": [
    {
     "data": {
      "text/plain": [
       "DatetimeIndex(['2020-01-01 00:10:00', '2020-01-01 01:10:00',\n",
       "               '2020-01-01 02:10:00', '2020-01-01 03:10:00'],\n",
       "              dtype='datetime64[ns]', name='time', freq='H')"
      ]
     },
     "execution_count": 12,
     "metadata": {},
     "output_type": "execute_result"
    }
   ],
   "source": [
    "pd.bdate_range(start='2020-01-01 00:10',freq='H',periods=4,normalize=False,name='time') # name 自定义结果的索引名字\n",
    "# periods 指定生成几个周期的元素"
   ]
  },
  {
   "cell_type": "code",
   "execution_count": 13,
   "id": "0806e01f-8ac0-425f-95a2-c203fe27608d",
   "metadata": {
    "execution": {
     "iopub.execute_input": "2021-10-14T10:44:51.983034Z",
     "iopub.status.busy": "2021-10-14T10:44:51.982033Z",
     "iopub.status.idle": "2021-10-14T10:44:51.996025Z",
     "shell.execute_reply": "2021-10-14T10:44:51.994027Z",
     "shell.execute_reply.started": "2021-10-14T10:44:51.983034Z"
    },
    "tags": []
   },
   "outputs": [
    {
     "data": {
      "text/plain": [
       "DatetimeIndex(['2020-01-01 00:10:00', '2020-01-01 01:10:00',\n",
       "               '2020-01-01 02:10:00', '2020-01-01 03:10:00'],\n",
       "              dtype='datetime64[ns]', name='time', freq='H')"
      ]
     },
     "execution_count": 13,
     "metadata": {},
     "output_type": "execute_result"
    }
   ],
   "source": [
    "pd.bdate_range(start='2020-01-01 00:10',freq='H',periods=4,normalize=False,name='time',closed=None) # closed None 默认，两个边界\n",
    "# periods 指定生成几个周期的元素"
   ]
  },
  {
   "cell_type": "code",
   "execution_count": 19,
   "id": "615e8a74-c37f-41bb-8351-32e288028907",
   "metadata": {
    "execution": {
     "iopub.execute_input": "2021-10-14T10:48:07.374692Z",
     "iopub.status.busy": "2021-10-14T10:48:07.374692Z",
     "iopub.status.idle": "2021-10-14T10:48:07.386683Z",
     "shell.execute_reply": "2021-10-14T10:48:07.385684Z",
     "shell.execute_reply.started": "2021-10-14T10:48:07.374692Z"
    },
    "tags": []
   },
   "outputs": [
    {
     "data": {
      "text/plain": [
       "DatetimeIndex(['2020-01-01 00:10:00', '2020-01-01 01:10:00',\n",
       "               '2020-01-01 02:10:00'],\n",
       "              dtype='datetime64[ns]', name='time', freq='H')"
      ]
     },
     "execution_count": 19,
     "metadata": {},
     "output_type": "execute_result"
    }
   ],
   "source": [
    "pd.bdate_range(start='2020-01-01 00:10',end='2020-01-01 03:10',freq='H',normalize=False,name='time',closed='left') ## closed left 只要左边界\n",
    "# periods 指定生成几个周期的元素"
   ]
  },
  {
   "cell_type": "code",
   "execution_count": 20,
   "id": "8b23505d-7e34-4a5a-a017-c73d7c46333f",
   "metadata": {
    "execution": {
     "iopub.execute_input": "2021-10-14T10:48:45.206390Z",
     "iopub.status.busy": "2021-10-14T10:48:45.206390Z",
     "iopub.status.idle": "2021-10-14T10:48:45.219382Z",
     "shell.execute_reply": "2021-10-14T10:48:45.217383Z",
     "shell.execute_reply.started": "2021-10-14T10:48:45.206390Z"
    },
    "tags": []
   },
   "outputs": [
    {
     "data": {
      "text/plain": [
       "DatetimeIndex(['2020-01-01 01:10:00', '2020-01-01 02:10:00',\n",
       "               '2020-01-01 03:10:00'],\n",
       "              dtype='datetime64[ns]', name='time', freq='H')"
      ]
     },
     "execution_count": 20,
     "metadata": {},
     "output_type": "execute_result"
    }
   ],
   "source": [
    "pd.bdate_range(start='2020-01-01 00:10',freq='H',end='2020-01-01 03:10',normalize=False,name='time',closed='right') #  closed right 只要右边界\n",
    "# periods 指定生成几个周期的元素"
   ]
  },
  {
   "cell_type": "code",
   "execution_count": 16,
   "id": "c012f26f-ecd7-42a8-861f-45042ec5fe02",
   "metadata": {
    "execution": {
     "iopub.execute_input": "2021-10-14T10:45:33.136814Z",
     "iopub.status.busy": "2021-10-14T10:45:33.135795Z",
     "iopub.status.idle": "2021-10-14T10:45:33.175770Z",
     "shell.execute_reply": "2021-10-14T10:45:33.174770Z",
     "shell.execute_reply.started": "2021-10-14T10:45:33.136814Z"
    },
    "tags": []
   },
   "outputs": [
    {
     "ename": "ValueError",
     "evalue": "Closed has to be either 'left', 'right' or None",
     "output_type": "error",
     "traceback": [
      "\u001b[1;31m---------------------------------------------------------------------------\u001b[0m",
      "\u001b[1;31mValueError\u001b[0m                                Traceback (most recent call last)",
      "\u001b[1;32m<ipython-input-16-765af183ffa5>\u001b[0m in \u001b[0;36m<module>\u001b[1;34m\u001b[0m\n\u001b[1;32m----> 1\u001b[1;33m \u001b[0mpd\u001b[0m\u001b[1;33m.\u001b[0m\u001b[0mbdate_range\u001b[0m\u001b[1;33m(\u001b[0m\u001b[0mstart\u001b[0m\u001b[1;33m=\u001b[0m\u001b[1;34m'2020-01-01 00:10'\u001b[0m\u001b[1;33m,\u001b[0m\u001b[0mfreq\u001b[0m\u001b[1;33m=\u001b[0m\u001b[1;34m'H'\u001b[0m\u001b[1;33m,\u001b[0m\u001b[0mperiods\u001b[0m\u001b[1;33m=\u001b[0m\u001b[1;36m4\u001b[0m\u001b[1;33m,\u001b[0m\u001b[0mnormalize\u001b[0m\u001b[1;33m=\u001b[0m\u001b[1;32mFalse\u001b[0m\u001b[1;33m,\u001b[0m\u001b[0mname\u001b[0m\u001b[1;33m=\u001b[0m\u001b[1;34m'time'\u001b[0m\u001b[1;33m,\u001b[0m\u001b[0mclosed\u001b[0m\u001b[1;33m=\u001b[0m\u001b[1;34m'both'\u001b[0m\u001b[1;33m)\u001b[0m \u001b[1;31m# name 自定义结果的索引名字\u001b[0m\u001b[1;33m\u001b[0m\u001b[1;33m\u001b[0m\u001b[0m\n\u001b[0m\u001b[0;32m      2\u001b[0m \u001b[1;31m# periods 指定生成几个周期的元素\u001b[0m\u001b[1;33m\u001b[0m\u001b[1;33m\u001b[0m\u001b[1;33m\u001b[0m\u001b[0m\n",
      "\u001b[1;32mc:\\python\\jupyter\\venv\\lib\\site-packages\\pandas\\core\\indexes\\datetimes.py\u001b[0m in \u001b[0;36mbdate_range\u001b[1;34m(start, end, periods, freq, tz, normalize, name, weekmask, holidays, closed, **kwargs)\u001b[0m\n\u001b[0;32m   1197\u001b[0m         \u001b[1;32mraise\u001b[0m \u001b[0mValueError\u001b[0m\u001b[1;33m(\u001b[0m\u001b[0mmsg\u001b[0m\u001b[1;33m)\u001b[0m\u001b[1;33m\u001b[0m\u001b[1;33m\u001b[0m\u001b[0m\n\u001b[0;32m   1198\u001b[0m \u001b[1;33m\u001b[0m\u001b[0m\n\u001b[1;32m-> 1199\u001b[1;33m     return date_range(\n\u001b[0m\u001b[0;32m   1200\u001b[0m         \u001b[0mstart\u001b[0m\u001b[1;33m=\u001b[0m\u001b[0mstart\u001b[0m\u001b[1;33m,\u001b[0m\u001b[1;33m\u001b[0m\u001b[1;33m\u001b[0m\u001b[0m\n\u001b[0;32m   1201\u001b[0m         \u001b[0mend\u001b[0m\u001b[1;33m=\u001b[0m\u001b[0mend\u001b[0m\u001b[1;33m,\u001b[0m\u001b[1;33m\u001b[0m\u001b[1;33m\u001b[0m\u001b[0m\n",
      "\u001b[1;32mc:\\python\\jupyter\\venv\\lib\\site-packages\\pandas\\core\\indexes\\datetimes.py\u001b[0m in \u001b[0;36mdate_range\u001b[1;34m(start, end, periods, freq, tz, normalize, name, closed, **kwargs)\u001b[0m\n\u001b[0;32m   1095\u001b[0m         \u001b[0mfreq\u001b[0m \u001b[1;33m=\u001b[0m \u001b[1;34m\"D\"\u001b[0m\u001b[1;33m\u001b[0m\u001b[1;33m\u001b[0m\u001b[0m\n\u001b[0;32m   1096\u001b[0m \u001b[1;33m\u001b[0m\u001b[0m\n\u001b[1;32m-> 1097\u001b[1;33m     dtarr = DatetimeArray._generate_range(\n\u001b[0m\u001b[0;32m   1098\u001b[0m         \u001b[0mstart\u001b[0m\u001b[1;33m=\u001b[0m\u001b[0mstart\u001b[0m\u001b[1;33m,\u001b[0m\u001b[1;33m\u001b[0m\u001b[1;33m\u001b[0m\u001b[0m\n\u001b[0;32m   1099\u001b[0m         \u001b[0mend\u001b[0m\u001b[1;33m=\u001b[0m\u001b[0mend\u001b[0m\u001b[1;33m,\u001b[0m\u001b[1;33m\u001b[0m\u001b[1;33m\u001b[0m\u001b[0m\n",
      "\u001b[1;32mc:\\python\\jupyter\\venv\\lib\\site-packages\\pandas\\core\\arrays\\datetimes.py\u001b[0m in \u001b[0;36m_generate_range\u001b[1;34m(cls, start, end, periods, freq, tz, normalize, ambiguous, nonexistent, closed)\u001b[0m\n\u001b[0;32m    415\u001b[0m             \u001b[1;32mraise\u001b[0m \u001b[0mValueError\u001b[0m\u001b[1;33m(\u001b[0m\u001b[1;34m\"Neither `start` nor `end` can be NaT\"\u001b[0m\u001b[1;33m)\u001b[0m\u001b[1;33m\u001b[0m\u001b[1;33m\u001b[0m\u001b[0m\n\u001b[0;32m    416\u001b[0m \u001b[1;33m\u001b[0m\u001b[0m\n\u001b[1;32m--> 417\u001b[1;33m         \u001b[0mleft_closed\u001b[0m\u001b[1;33m,\u001b[0m \u001b[0mright_closed\u001b[0m \u001b[1;33m=\u001b[0m \u001b[0mdtl\u001b[0m\u001b[1;33m.\u001b[0m\u001b[0mvalidate_endpoints\u001b[0m\u001b[1;33m(\u001b[0m\u001b[0mclosed\u001b[0m\u001b[1;33m)\u001b[0m\u001b[1;33m\u001b[0m\u001b[1;33m\u001b[0m\u001b[0m\n\u001b[0m\u001b[0;32m    418\u001b[0m         \u001b[0mstart\u001b[0m\u001b[1;33m,\u001b[0m \u001b[0mend\u001b[0m\u001b[1;33m,\u001b[0m \u001b[0m_normalized\u001b[0m \u001b[1;33m=\u001b[0m \u001b[0m_maybe_normalize_endpoints\u001b[0m\u001b[1;33m(\u001b[0m\u001b[0mstart\u001b[0m\u001b[1;33m,\u001b[0m \u001b[0mend\u001b[0m\u001b[1;33m,\u001b[0m \u001b[0mnormalize\u001b[0m\u001b[1;33m)\u001b[0m\u001b[1;33m\u001b[0m\u001b[1;33m\u001b[0m\u001b[0m\n\u001b[0;32m    419\u001b[0m         \u001b[0mtz\u001b[0m \u001b[1;33m=\u001b[0m \u001b[0m_infer_tz_from_endpoints\u001b[0m\u001b[1;33m(\u001b[0m\u001b[0mstart\u001b[0m\u001b[1;33m,\u001b[0m \u001b[0mend\u001b[0m\u001b[1;33m,\u001b[0m \u001b[0mtz\u001b[0m\u001b[1;33m)\u001b[0m\u001b[1;33m\u001b[0m\u001b[1;33m\u001b[0m\u001b[0m\n",
      "\u001b[1;32mc:\\python\\jupyter\\venv\\lib\\site-packages\\pandas\\core\\arrays\\datetimelike.py\u001b[0m in \u001b[0;36mvalidate_endpoints\u001b[1;34m(closed)\u001b[0m\n\u001b[0;32m   1836\u001b[0m         \u001b[0mright_closed\u001b[0m \u001b[1;33m=\u001b[0m \u001b[1;32mTrue\u001b[0m\u001b[1;33m\u001b[0m\u001b[1;33m\u001b[0m\u001b[0m\n\u001b[0;32m   1837\u001b[0m     \u001b[1;32melse\u001b[0m\u001b[1;33m:\u001b[0m\u001b[1;33m\u001b[0m\u001b[1;33m\u001b[0m\u001b[0m\n\u001b[1;32m-> 1838\u001b[1;33m         \u001b[1;32mraise\u001b[0m \u001b[0mValueError\u001b[0m\u001b[1;33m(\u001b[0m\u001b[1;34m\"Closed has to be either 'left', 'right' or None\"\u001b[0m\u001b[1;33m)\u001b[0m\u001b[1;33m\u001b[0m\u001b[1;33m\u001b[0m\u001b[0m\n\u001b[0m\u001b[0;32m   1839\u001b[0m \u001b[1;33m\u001b[0m\u001b[0m\n\u001b[0;32m   1840\u001b[0m     \u001b[1;32mreturn\u001b[0m \u001b[0mleft_closed\u001b[0m\u001b[1;33m,\u001b[0m \u001b[0mright_closed\u001b[0m\u001b[1;33m\u001b[0m\u001b[1;33m\u001b[0m\u001b[0m\n",
      "\u001b[1;31mValueError\u001b[0m: Closed has to be either 'left', 'right' or None"
     ]
    }
   ],
   "source": [
    "pd.bdate_range(start='2020-01-01 00:10',freq='H',periods=4,normalize=False,name='time',closed='both') # 提示：closed只能 在'left', 'right' or None 选择一个\n",
    "# periods 指定生成几个周期的元素"
   ]
  }
 ],
 "metadata": {
  "kernelspec": {
   "display_name": "Python 3",
   "language": "python",
   "name": "python3"
  },
  "language_info": {
   "codemirror_mode": {
    "name": "ipython",
    "version": 3
   },
   "file_extension": ".py",
   "mimetype": "text/x-python",
   "name": "python",
   "nbconvert_exporter": "python",
   "pygments_lexer": "ipython3",
   "version": "3.8.5"
  }
 },
 "nbformat": 4,
 "nbformat_minor": 5
}
