{
 "cells": [
  {
   "cell_type": "markdown",
   "id": "vocational-london",
   "metadata": {
    "execution": {
     "iopub.execute_input": "2021-05-10T07:18:52.990449Z",
     "iopub.status.busy": "2021-05-10T07:18:52.990449Z",
     "iopub.status.idle": "2021-05-10T07:18:52.994464Z",
     "shell.execute_reply": "2021-05-10T07:18:52.993452Z",
     "shell.execute_reply.started": "2021-05-10T07:18:52.990449Z"
    }
   },
   "source": [
    "## 155 Series创建操作"
   ]
  },
  {
   "cell_type": "markdown",
   "id": "legitimate-teach",
   "metadata": {},
   "source": [
    "### 155 Series：创建操作\n",
    "参数 data=None, index=None, dtype=None, name=None, copy=False"
   ]
  },
  {
   "cell_type": "code",
   "execution_count": 1,
   "id": "consecutive-bhutan",
   "metadata": {
    "execution": {
     "iopub.execute_input": "2021-10-13T12:03:54.943814Z",
     "iopub.status.busy": "2021-10-13T12:03:54.943814Z",
     "iopub.status.idle": "2021-10-13T12:03:55.339708Z",
     "shell.execute_reply": "2021-10-13T12:03:55.339708Z",
     "shell.execute_reply.started": "2021-10-13T12:03:54.943814Z"
    },
    "tags": []
   },
   "outputs": [],
   "source": [
    "import pandas as pd"
   ]
  },
  {
   "cell_type": "code",
   "execution_count": 2,
   "id": "activated-spain",
   "metadata": {
    "execution": {
     "iopub.execute_input": "2021-10-13T12:03:55.341570Z",
     "iopub.status.busy": "2021-10-13T12:03:55.341570Z",
     "iopub.status.idle": "2021-10-13T12:03:55.346567Z",
     "shell.execute_reply": "2021-10-13T12:03:55.345567Z",
     "shell.execute_reply.started": "2021-10-13T12:03:55.341570Z"
    },
    "tags": []
   },
   "outputs": [],
   "source": [
    "d = {'a': 1, 'b': 2, 'c': 3}\n",
    "ser = pd.Series(data=d, index=['a', 'b', 'c']) # data 数据源 ，index  索引数据源"
   ]
  },
  {
   "cell_type": "code",
   "execution_count": 4,
   "id": "498633ce-3f66-457a-9fd4-ba6c1fb1d879",
   "metadata": {
    "execution": {
     "iopub.execute_input": "2021-10-13T12:06:14.086277Z",
     "iopub.status.busy": "2021-10-13T12:06:14.086277Z",
     "iopub.status.idle": "2021-10-13T12:06:14.102272Z",
     "shell.execute_reply": "2021-10-13T12:06:14.100275Z",
     "shell.execute_reply.started": "2021-10-13T12:06:14.086277Z"
    },
    "tags": []
   },
   "outputs": [
    {
     "data": {
      "text/plain": [
       "a    1.0\n",
       "b    2.0\n",
       "c    3.0\n",
       "dtype: float64"
      ]
     },
     "execution_count": 4,
     "metadata": {},
     "output_type": "execute_result"
    }
   ],
   "source": [
    "pd.Series(data=d, index=['a', 'b', 'c'],dtype='float') # dtype 指定 结果的额数据类型"
   ]
  },
  {
   "cell_type": "code",
   "execution_count": 5,
   "id": "c6280686-2592-48ed-a6cc-dc536ccebca3",
   "metadata": {
    "execution": {
     "iopub.execute_input": "2021-10-13T12:07:38.250415Z",
     "iopub.status.busy": "2021-10-13T12:07:38.250415Z",
     "iopub.status.idle": "2021-10-13T12:07:38.261409Z",
     "shell.execute_reply": "2021-10-13T12:07:38.260410Z",
     "shell.execute_reply.started": "2021-10-13T12:07:38.250415Z"
    },
    "tags": []
   },
   "outputs": [
    {
     "data": {
      "text/plain": [
       "a    1.0\n",
       "b    2.0\n",
       "c    3.0\n",
       "Name: ser, dtype: float64"
      ]
     },
     "execution_count": 5,
     "metadata": {},
     "output_type": "execute_result"
    }
   ],
   "source": [
    "pd.Series(data=d, index=['a', 'b', 'c'],dtype='float',name='ser') # name 指定 结果的列的名字"
   ]
  },
  {
   "cell_type": "code",
   "execution_count": 3,
   "id": "e29d4ece-dabe-4a90-b826-748cd0d1876d",
   "metadata": {
    "execution": {
     "iopub.execute_input": "2021-10-13T12:05:27.139804Z",
     "iopub.status.busy": "2021-10-13T12:05:27.138836Z",
     "iopub.status.idle": "2021-10-13T12:05:27.157790Z",
     "shell.execute_reply": "2021-10-13T12:05:27.156791Z",
     "shell.execute_reply.started": "2021-10-13T12:05:27.139804Z"
    },
    "tags": []
   },
   "outputs": [
    {
     "data": {
      "text/plain": [
       "a    1\n",
       "b    2\n",
       "c    3\n",
       "dtype: int64"
      ]
     },
     "execution_count": 3,
     "metadata": {},
     "output_type": "execute_result"
    }
   ],
   "source": [
    "ser"
   ]
  }
 ],
 "metadata": {
  "kernelspec": {
   "display_name": "Python 3",
   "language": "python",
   "name": "python3"
  },
  "language_info": {
   "codemirror_mode": {
    "name": "ipython",
    "version": 3
   },
   "file_extension": ".py",
   "mimetype": "text/x-python",
   "name": "python",
   "nbconvert_exporter": "python",
   "pygments_lexer": "ipython3",
   "version": "3.8.5"
  }
 },
 "nbformat": 4,
 "nbformat_minor": 5
}
