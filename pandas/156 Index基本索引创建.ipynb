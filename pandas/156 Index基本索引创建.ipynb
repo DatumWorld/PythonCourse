{
 "cells": [
  {
   "cell_type": "markdown",
   "id": "vocational-london",
   "metadata": {
    "execution": {
     "iopub.execute_input": "2021-05-10T07:18:52.990449Z",
     "iopub.status.busy": "2021-05-10T07:18:52.990449Z",
     "iopub.status.idle": "2021-05-10T07:18:52.994464Z",
     "shell.execute_reply": "2021-05-10T07:18:52.993452Z",
     "shell.execute_reply.started": "2021-05-10T07:18:52.990449Z"
    }
   },
   "source": [
    "## 156 Index基本索引创建"
   ]
  },
  {
   "cell_type": "markdown",
   "id": "legitimate-teach",
   "metadata": {},
   "source": [
    "### 156 Index：创建操作\n",
    "##### 参数 data=None, dtype=None, copy=False, name=None, tupleize_cols=True"
   ]
  },
  {
   "cell_type": "code",
   "execution_count": 1,
   "id": "consecutive-bhutan",
   "metadata": {
    "execution": {
     "iopub.execute_input": "2021-10-13T12:09:41.724015Z",
     "iopub.status.busy": "2021-10-13T12:09:41.724015Z",
     "iopub.status.idle": "2021-10-13T12:09:42.114776Z",
     "shell.execute_reply": "2021-10-13T12:09:42.114776Z",
     "shell.execute_reply.started": "2021-10-13T12:09:41.724015Z"
    },
    "tags": []
   },
   "outputs": [],
   "source": [
    "import pandas as pd"
   ]
  },
  {
   "cell_type": "code",
   "execution_count": 4,
   "id": "a08ab999-8d74-45df-be74-0e2db4fe1e2a",
   "metadata": {
    "execution": {
     "iopub.execute_input": "2021-10-13T12:12:00.282883Z",
     "iopub.status.busy": "2021-10-13T12:12:00.281885Z",
     "iopub.status.idle": "2021-10-13T12:12:00.294875Z",
     "shell.execute_reply": "2021-10-13T12:12:00.292875Z",
     "shell.execute_reply.started": "2021-10-13T12:12:00.282883Z"
    },
    "tags": []
   },
   "outputs": [
    {
     "data": {
      "text/plain": [
       "Float64Index([1.0, 2.0], dtype='float64')"
      ]
     },
     "execution_count": 4,
     "metadata": {},
     "output_type": "execute_result"
    }
   ],
   "source": [
    "pd.Index(data=[1,2],dtype='float') # dtype 指定索引的数据类型"
   ]
  },
  {
   "cell_type": "code",
   "execution_count": 6,
   "id": "607e547a-205a-4acb-9438-127cc98eb02f",
   "metadata": {
    "execution": {
     "iopub.execute_input": "2021-10-13T12:14:11.118567Z",
     "iopub.status.busy": "2021-10-13T12:14:11.118567Z",
     "iopub.status.idle": "2021-10-13T12:14:11.131558Z",
     "shell.execute_reply": "2021-10-13T12:14:11.129562Z",
     "shell.execute_reply.started": "2021-10-13T12:14:11.118567Z"
    },
    "tags": []
   },
   "outputs": [
    {
     "data": {
      "text/plain": [
       "MultiIndex([(1, 'a'),\n",
       "            (2, 'b')],\n",
       "           )"
      ]
     },
     "execution_count": 6,
     "metadata": {},
     "output_type": "execute_result"
    }
   ],
   "source": [
    "pd.Index(data=[(1,'a'),(2,'b')],dtype='float') # 默认尝试生成多级索引"
   ]
  },
  {
   "cell_type": "code",
   "execution_count": 8,
   "id": "1a1b7755-adcb-4ce8-9ffd-b3b23f024cab",
   "metadata": {
    "execution": {
     "iopub.execute_input": "2021-10-13T12:15:08.122046Z",
     "iopub.status.busy": "2021-10-13T12:15:08.122046Z",
     "iopub.status.idle": "2021-10-13T12:15:08.129042Z",
     "shell.execute_reply": "2021-10-13T12:15:08.128041Z",
     "shell.execute_reply.started": "2021-10-13T12:15:08.122046Z"
    },
    "tags": []
   },
   "outputs": [
    {
     "data": {
      "text/plain": [
       "Index([(1, 'a'), (2, 'b')], dtype='object')"
      ]
     },
     "execution_count": 8,
     "metadata": {},
     "output_type": "execute_result"
    }
   ],
   "source": [
    "pd.Index(data=[(1,'a'),(2,'b')],tupleize_cols=False) # tupleize_cols 是否尝试生成多级索引。对照上面"
   ]
  },
  {
   "cell_type": "code",
   "execution_count": 5,
   "id": "66b6380b-cc2a-418e-bf9c-870db018f355",
   "metadata": {
    "execution": {
     "iopub.execute_input": "2021-10-13T12:13:01.096448Z",
     "iopub.status.busy": "2021-10-13T12:13:01.095447Z",
     "iopub.status.idle": "2021-10-13T12:13:01.107439Z",
     "shell.execute_reply": "2021-10-13T12:13:01.105442Z",
     "shell.execute_reply.started": "2021-10-13T12:13:01.096448Z"
    },
    "tags": []
   },
   "outputs": [
    {
     "data": {
      "text/plain": [
       "Float64Index([1.0, 2.0], dtype='float64', name='index')"
      ]
     },
     "execution_count": 5,
     "metadata": {},
     "output_type": "execute_result"
    }
   ],
   "source": [
    "pd.Index(data=[1,2],dtype='float',name='index') # name 指定索引的名字"
   ]
  },
  {
   "cell_type": "code",
   "execution_count": 2,
   "id": "activated-spain",
   "metadata": {
    "execution": {
     "iopub.execute_input": "2021-10-13T12:09:42.116773Z",
     "iopub.status.busy": "2021-10-13T12:09:42.116773Z",
     "iopub.status.idle": "2021-10-13T12:09:42.121770Z",
     "shell.execute_reply": "2021-10-13T12:09:42.120772Z",
     "shell.execute_reply.started": "2021-10-13T12:09:42.116773Z"
    },
    "tags": []
   },
   "outputs": [],
   "source": [
    "index=pd.Index(data=[1,2]) # data 创建索引的数据源"
   ]
  },
  {
   "cell_type": "code",
   "execution_count": 3,
   "id": "4eda1a7b-9666-43d2-ad93-47f36fe84969",
   "metadata": {
    "execution": {
     "iopub.execute_input": "2021-10-13T12:10:43.848305Z",
     "iopub.status.busy": "2021-10-13T12:10:43.848305Z",
     "iopub.status.idle": "2021-10-13T12:10:43.864294Z",
     "shell.execute_reply": "2021-10-13T12:10:43.863294Z",
     "shell.execute_reply.started": "2021-10-13T12:10:43.848305Z"
    },
    "tags": []
   },
   "outputs": [
    {
     "data": {
      "text/plain": [
       "Int64Index([1, 2], dtype='int64')"
      ]
     },
     "execution_count": 3,
     "metadata": {},
     "output_type": "execute_result"
    }
   ],
   "source": [
    "index # 生成了一个int索引"
   ]
  }
 ],
 "metadata": {
  "kernelspec": {
   "display_name": "Python 3",
   "language": "python",
   "name": "python3"
  },
  "language_info": {
   "codemirror_mode": {
    "name": "ipython",
    "version": 3
   },
   "file_extension": ".py",
   "mimetype": "text/x-python",
   "name": "python",
   "nbconvert_exporter": "python",
   "pygments_lexer": "ipython3",
   "version": "3.8.5"
  }
 },
 "nbformat": 4,
 "nbformat_minor": 5
}
