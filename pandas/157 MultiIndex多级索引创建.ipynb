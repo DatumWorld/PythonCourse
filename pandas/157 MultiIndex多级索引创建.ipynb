{
 "cells": [
  {
   "cell_type": "markdown",
   "id": "dental-journalist",
   "metadata": {
    "execution": {
     "iopub.execute_input": "2021-05-10T07:18:52.990449Z",
     "iopub.status.busy": "2021-05-10T07:18:52.990449Z",
     "iopub.status.idle": "2021-05-10T07:18:52.994464Z",
     "shell.execute_reply": "2021-05-10T07:18:52.993452Z",
     "shell.execute_reply.started": "2021-05-10T07:18:52.990449Z"
    }
   },
   "source": [
    "## 157 MultiIndex多级索引创建"
   ]
  },
  {
   "cell_type": "markdown",
   "id": "hindu-bosnia",
   "metadata": {},
   "source": [
    "### MultiIndex：多级索引创建。\n",
    "#### from_arrays from_tuples  from_product from_frame\n",
    "##### 参数MultiIndex：levels=None, codes=None, sortorder=None, names=None, dtype=None, copy=False, name=None, verify_integrity=True\n",
    "##### 参数from_arrays：arrays, sortorder=None, names=NoDefault.no_default\n",
    "##### 参数from_tuples：tuples, sortorder=None, names=None\n",
    "##### 参数from_product：iterables, sortorder=None, names=NoDefault.no_default\n",
    "##### 参数from_frame：df, sortorder=None, names=None"
   ]
  },
  {
   "cell_type": "code",
   "execution_count": 1,
   "id": "palestinian-paradise",
   "metadata": {
    "execution": {
     "iopub.execute_input": "2021-10-15T08:22:43.251635Z",
     "iopub.status.busy": "2021-10-15T08:22:43.251635Z",
     "iopub.status.idle": "2021-10-15T08:22:43.730860Z",
     "shell.execute_reply": "2021-10-15T08:22:43.730860Z",
     "shell.execute_reply.started": "2021-10-15T08:22:43.251635Z"
    },
    "tags": []
   },
   "outputs": [],
   "source": [
    "import pandas as pd"
   ]
  },
  {
   "cell_type": "code",
   "execution_count": 2,
   "id": "clean-holder",
   "metadata": {
    "execution": {
     "iopub.execute_input": "2021-10-15T08:22:43.730860Z",
     "iopub.status.busy": "2021-10-15T08:22:43.730860Z",
     "iopub.status.idle": "2021-10-15T08:22:43.752148Z",
     "shell.execute_reply": "2021-10-15T08:22:43.751103Z",
     "shell.execute_reply.started": "2021-10-15T08:22:43.730860Z"
    }
   },
   "outputs": [
    {
     "data": {
      "text/plain": [
       "MultiIndex([('a', 'bb'),\n",
       "            ('a', 'aa'),\n",
       "            ('b', 'bb'),\n",
       "            ('b', 'aa')],\n",
       "           )"
      ]
     },
     "execution_count": 2,
     "metadata": {},
     "output_type": "execute_result"
    }
   ],
   "source": [
    "pd.MultiIndex(levels=[['a', 'b'], ['bb', 'aa']],\n",
    "                   codes=[[0, 0, 1, 1], [0, 1, 0, 1]])"
   ]
  },
  {
   "cell_type": "code",
   "execution_count": 3,
   "id": "statistical-owner",
   "metadata": {
    "execution": {
     "iopub.execute_input": "2021-10-15T08:22:43.757971Z",
     "iopub.status.busy": "2021-10-15T08:22:43.756943Z",
     "iopub.status.idle": "2021-10-15T08:22:43.762706Z",
     "shell.execute_reply": "2021-10-15T08:22:43.761666Z",
     "shell.execute_reply.started": "2021-10-15T08:22:43.757971Z"
    },
    "tags": []
   },
   "outputs": [],
   "source": [
    "arrays = [['b','a','c'], [3,1,2]]"
   ]
  },
  {
   "cell_type": "code",
   "execution_count": 4,
   "id": "flying-pepper",
   "metadata": {
    "execution": {
     "iopub.execute_input": "2021-10-15T08:22:43.764781Z",
     "iopub.status.busy": "2021-10-15T08:22:43.763757Z",
     "iopub.status.idle": "2021-10-15T08:22:43.793738Z",
     "shell.execute_reply": "2021-10-15T08:22:43.792834Z",
     "shell.execute_reply.started": "2021-10-15T08:22:43.764781Z"
    },
    "tags": []
   },
   "outputs": [
    {
     "data": {
      "text/html": [
       "<div>\n",
       "<style scoped>\n",
       "    .dataframe tbody tr th:only-of-type {\n",
       "        vertical-align: middle;\n",
       "    }\n",
       "\n",
       "    .dataframe tbody tr th {\n",
       "        vertical-align: top;\n",
       "    }\n",
       "\n",
       "    .dataframe thead th {\n",
       "        text-align: right;\n",
       "    }\n",
       "</style>\n",
       "<table border=\"1\" class=\"dataframe\">\n",
       "  <thead>\n",
       "    <tr style=\"text-align: right;\">\n",
       "      <th></th>\n",
       "      <th>0</th>\n",
       "      <th>1</th>\n",
       "    </tr>\n",
       "  </thead>\n",
       "  <tbody>\n",
       "    <tr>\n",
       "      <th>0</th>\n",
       "      <td>b</td>\n",
       "      <td>3</td>\n",
       "    </tr>\n",
       "    <tr>\n",
       "      <th>1</th>\n",
       "      <td>a</td>\n",
       "      <td>1</td>\n",
       "    </tr>\n",
       "    <tr>\n",
       "      <th>2</th>\n",
       "      <td>c</td>\n",
       "      <td>2</td>\n",
       "    </tr>\n",
       "  </tbody>\n",
       "</table>\n",
       "</div>"
      ],
      "text/plain": [
       "   0  1\n",
       "0  b  3\n",
       "1  a  1\n",
       "2  c  2"
      ]
     },
     "execution_count": 4,
     "metadata": {},
     "output_type": "execute_result"
    }
   ],
   "source": [
    "pd.DataFrame([('b',3),('a',1),('c',2)])"
   ]
  },
  {
   "cell_type": "code",
   "execution_count": 5,
   "id": "broken-insertion",
   "metadata": {
    "execution": {
     "iopub.execute_input": "2021-10-15T08:22:43.793738Z",
     "iopub.status.busy": "2021-10-15T08:22:43.793738Z",
     "iopub.status.idle": "2021-10-15T08:22:43.809555Z",
     "shell.execute_reply": "2021-10-15T08:22:43.808483Z",
     "shell.execute_reply.started": "2021-10-15T08:22:43.793738Z"
    },
    "tags": []
   },
   "outputs": [
    {
     "data": {
      "text/plain": [
       "MultiIndex([('b', 3),\n",
       "            ('a', 1),\n",
       "            ('c', 2)],\n",
       "           names=['letters', 'numbers'])"
      ]
     },
     "execution_count": 5,
     "metadata": {},
     "output_type": "execute_result"
    }
   ],
   "source": [
    "pd.MultiIndex.from_frame( # 使用df表格数据源创建多级索引\n",
    "    df=pd.DataFrame([('b',3),('a',1),('c',2)]), # 数据源\n",
    "    sortorder=0, # 排序\n",
    "    names=['letters', 'numbers'] # 索引的名字\n",
    ")"
   ]
  },
  {
   "cell_type": "code",
   "execution_count": 6,
   "id": "thick-taiwan",
   "metadata": {
    "execution": {
     "iopub.execute_input": "2021-10-15T08:22:43.809555Z",
     "iopub.status.busy": "2021-10-15T08:22:43.809555Z",
     "iopub.status.idle": "2021-10-15T08:22:43.825977Z",
     "shell.execute_reply": "2021-10-15T08:22:43.824951Z",
     "shell.execute_reply.started": "2021-10-15T08:22:43.809555Z"
    },
    "tags": []
   },
   "outputs": [
    {
     "data": {
      "text/plain": [
       "MultiIndex([('b', 3),\n",
       "            ('a', 1),\n",
       "            ('c', 2)],\n",
       "           names=['letters', 'numbers'])"
      ]
     },
     "execution_count": 6,
     "metadata": {},
     "output_type": "execute_result"
    }
   ],
   "source": [
    "pd.MultiIndex.from_arrays( # 使用数组数据源创建多级索引\n",
    "    arrays=arrays, # 数据源\n",
    "    sortorder=0, # 排序\n",
    "    names=['letters', 'numbers'] # 索引的名字\n",
    ")"
   ]
  },
  {
   "cell_type": "code",
   "execution_count": 7,
   "id": "union-surgery",
   "metadata": {
    "execution": {
     "iopub.execute_input": "2021-10-15T08:22:43.828069Z",
     "iopub.status.busy": "2021-10-15T08:22:43.827041Z",
     "iopub.status.idle": "2021-10-15T08:22:43.841563Z",
     "shell.execute_reply": "2021-10-15T08:22:43.840510Z",
     "shell.execute_reply.started": "2021-10-15T08:22:43.828069Z"
    },
    "tags": []
   },
   "outputs": [
    {
     "data": {
      "text/plain": [
       "MultiIndex([('b', 3),\n",
       "            ('a', 1),\n",
       "            ('c', 2)],\n",
       "           names=['letters', 'numbers'])"
      ]
     },
     "execution_count": 7,
     "metadata": {},
     "output_type": "execute_result"
    }
   ],
   "source": [
    "pd.MultiIndex.from_tuples( # 使用元组列表数据源创建多级索引\n",
    "    tuples=[('b',3),('a',1),('c',2)], # 数据源\n",
    "    sortorder=0, # 排序\n",
    "    names=['letters', 'numbers'] # 索引的名字\n",
    ")"
   ]
  },
  {
   "cell_type": "code",
   "execution_count": 8,
   "id": "illegal-christmas",
   "metadata": {
    "execution": {
     "iopub.execute_input": "2021-10-15T08:22:43.843634Z",
     "iopub.status.busy": "2021-10-15T08:22:43.843634Z",
     "iopub.status.idle": "2021-10-15T08:22:43.857186Z",
     "shell.execute_reply": "2021-10-15T08:22:43.856093Z",
     "shell.execute_reply.started": "2021-10-15T08:22:43.843634Z"
    },
    "tags": []
   },
   "outputs": [
    {
     "data": {
      "text/plain": [
       "MultiIndex([('b', 3),\n",
       "            ('b', 1),\n",
       "            ('b', 2),\n",
       "            ('a', 3),\n",
       "            ('a', 1),\n",
       "            ('a', 2),\n",
       "            ('c', 3),\n",
       "            ('c', 1),\n",
       "            ('c', 2)],\n",
       "           names=['letters', 'numbers'])"
      ]
     },
     "execution_count": 8,
     "metadata": {},
     "output_type": "execute_result"
    }
   ],
   "source": [
    "pd.MultiIndex.from_product( # 使用两个列表交叉乘积列表数据源创建多级索引\n",
    "    iterables=[arrays[0],arrays[1]], # 数据源\n",
    "    sortorder=0, # 排序\n",
    "    names=['letters', 'numbers'] # 索引的名字\n",
    ")"
   ]
  }
 ],
 "metadata": {
  "kernelspec": {
   "display_name": "Python 3",
   "language": "python",
   "name": "python3"
  },
  "language_info": {
   "codemirror_mode": {
    "name": "ipython",
    "version": 3
   },
   "file_extension": ".py",
   "mimetype": "text/x-python",
   "name": "python",
   "nbconvert_exporter": "python",
   "pygments_lexer": "ipython3",
   "version": "3.6.8"
  }
 },
 "nbformat": 4,
 "nbformat_minor": 5
}
