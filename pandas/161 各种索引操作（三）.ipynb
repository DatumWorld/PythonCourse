{
 "cells": [
  {
   "cell_type": "markdown",
   "id": "vocal-master",
   "metadata": {
    "execution": {
     "iopub.execute_input": "2021-05-10T07:18:52.990449Z",
     "iopub.status.busy": "2021-05-10T07:18:52.990449Z",
     "iopub.status.idle": "2021-05-10T07:18:52.994464Z",
     "shell.execute_reply": "2021-05-10T07:18:52.993452Z",
     "shell.execute_reply.started": "2021-05-10T07:18:52.990449Z"
    }
   },
   "source": [
    "## 161 各种索引操作（三）"
   ]
  },
  {
   "cell_type": "markdown",
   "id": "unavailable-personality",
   "metadata": {},
   "source": [
    "###  各种索引操作。多级索引\n",
    "#####  levels codes  levshape nlevels \n",
    "##### set_levels set_codes to_flat_index sortlevel droplevel swaplevel reorder_levels remove_unused_levels"
   ]
  },
  {
   "cell_type": "code",
   "execution_count": 1,
   "id": "considered-endorsement",
   "metadata": {
    "execution": {
     "iopub.execute_input": "2021-10-14T11:53:19.798862Z",
     "iopub.status.busy": "2021-10-14T11:53:19.798862Z",
     "iopub.status.idle": "2021-10-14T11:53:20.174656Z",
     "shell.execute_reply": "2021-10-14T11:53:20.174656Z",
     "shell.execute_reply.started": "2021-10-14T11:53:19.798862Z"
    },
    "tags": []
   },
   "outputs": [],
   "source": [
    "import pandas as pd"
   ]
  },
  {
   "cell_type": "code",
   "execution_count": 2,
   "id": "wanted-simulation",
   "metadata": {
    "execution": {
     "iopub.execute_input": "2021-10-14T11:53:20.176630Z",
     "iopub.status.busy": "2021-10-14T11:53:20.176630Z",
     "iopub.status.idle": "2021-10-14T11:53:20.191620Z",
     "shell.execute_reply": "2021-10-14T11:53:20.190622Z",
     "shell.execute_reply.started": "2021-10-14T11:53:20.176630Z"
    },
    "tags": []
   },
   "outputs": [
    {
     "data": {
      "text/plain": [
       "MultiIndex([(0, 'a'),\n",
       "            (0, 'c'),\n",
       "            (1, 'a'),\n",
       "            (1, 'c'),\n",
       "            (3, 'a'),\n",
       "            (3, 'c')],\n",
       "           names=['number', 'letter'])"
      ]
     },
     "execution_count": 2,
     "metadata": {},
     "output_type": "execute_result"
    }
   ],
   "source": [
    "index=pd.MultiIndex.from_product(\n",
    "    iterables=[[0,1,3], ['a','c']],\n",
    "    sortorder =0,\n",
    "    names=['number', 'letter']\n",
    ")\n",
    "index"
   ]
  },
  {
   "cell_type": "code",
   "execution_count": 14,
   "id": "quality-quebec",
   "metadata": {
    "execution": {
     "iopub.execute_input": "2021-10-14T11:59:22.614233Z",
     "iopub.status.busy": "2021-10-14T11:59:22.614233Z",
     "iopub.status.idle": "2021-10-14T11:59:22.627226Z",
     "shell.execute_reply": "2021-10-14T11:59:22.625226Z",
     "shell.execute_reply.started": "2021-10-14T11:59:22.614233Z"
    },
    "tags": []
   },
   "outputs": [
    {
     "data": {
      "text/plain": [
       "MultiIndex([(0, 'a'),\n",
       "            (0, 'c'),\n",
       "            (1, 'a'),\n",
       "            (1, 'c'),\n",
       "            (3, 'a'),\n",
       "            (3, 'c')],\n",
       "           names=['number', 'letter'])"
      ]
     },
     "execution_count": 14,
     "metadata": {},
     "output_type": "execute_result"
    }
   ],
   "source": [
    "index"
   ]
  },
  {
   "cell_type": "code",
   "execution_count": 43,
   "id": "supported-wrong",
   "metadata": {
    "execution": {
     "iopub.execute_input": "2021-10-14T12:12:18.286518Z",
     "iopub.status.busy": "2021-10-14T12:12:18.286518Z",
     "iopub.status.idle": "2021-10-14T12:12:18.296511Z",
     "shell.execute_reply": "2021-10-14T12:12:18.295512Z",
     "shell.execute_reply.started": "2021-10-14T12:12:18.286518Z"
    },
    "tags": []
   },
   "outputs": [
    {
     "data": {
      "text/plain": [
       "FrozenList([[0, 1, 3], ['a', 'c']])"
      ]
     },
     "execution_count": 43,
     "metadata": {},
     "output_type": "execute_result"
    }
   ],
   "source": [
    "index.levels"
   ]
  },
  {
   "cell_type": "code",
   "execution_count": 46,
   "id": "global-wound",
   "metadata": {
    "execution": {
     "iopub.execute_input": "2021-10-14T12:12:38.690752Z",
     "iopub.status.busy": "2021-10-14T12:12:38.689753Z",
     "iopub.status.idle": "2021-10-14T12:12:38.706742Z",
     "shell.execute_reply": "2021-10-14T12:12:38.705741Z",
     "shell.execute_reply.started": "2021-10-14T12:12:38.690752Z"
    },
    "tags": []
   },
   "outputs": [
    {
     "data": {
      "text/plain": [
       "FrozenList([[0], ['a', 'c']])"
      ]
     },
     "execution_count": 46,
     "metadata": {},
     "output_type": "execute_result"
    }
   ],
   "source": [
    "index[:2].remove_unused_levels().levels # 删除未使用的层级数据"
   ]
  },
  {
   "cell_type": "code",
   "execution_count": 42,
   "id": "scenic-register",
   "metadata": {
    "execution": {
     "iopub.execute_input": "2021-10-14T12:11:01.780116Z",
     "iopub.status.busy": "2021-10-14T12:11:01.780116Z",
     "iopub.status.idle": "2021-10-14T12:11:01.789111Z",
     "shell.execute_reply": "2021-10-14T12:11:01.788111Z",
     "shell.execute_reply.started": "2021-10-14T12:11:01.780116Z"
    },
    "tags": []
   },
   "outputs": [
    {
     "data": {
      "text/plain": [
       "MultiIndex([('a', 0),\n",
       "            ('c', 0),\n",
       "            ('a', 1),\n",
       "            ('c', 1),\n",
       "            ('a', 3),\n",
       "            ('c', 3)],\n",
       "           names=['letter', 'number'])"
      ]
     },
     "execution_count": 42,
     "metadata": {},
     "output_type": "execute_result"
    }
   ],
   "source": [
    "index.reorder_levels(order=[1,0]) # 重新调整层级的顺序"
   ]
  },
  {
   "cell_type": "code",
   "execution_count": 39,
   "id": "cheap-nature",
   "metadata": {
    "execution": {
     "iopub.execute_input": "2021-10-14T12:09:30.318607Z",
     "iopub.status.busy": "2021-10-14T12:09:30.318607Z",
     "iopub.status.idle": "2021-10-14T12:09:30.327599Z",
     "shell.execute_reply": "2021-10-14T12:09:30.326600Z",
     "shell.execute_reply.started": "2021-10-14T12:09:30.318607Z"
    },
    "tags": []
   },
   "outputs": [
    {
     "data": {
      "text/plain": [
       "Int64Index([0, 0, 1, 1, 3, 3], dtype='int64', name='number')"
      ]
     },
     "execution_count": 39,
     "metadata": {},
     "output_type": "execute_result"
    }
   ],
   "source": [
    "index.droplevel(level=1) # 删除层级"
   ]
  },
  {
   "cell_type": "code",
   "execution_count": 40,
   "id": "preceding-nutrition",
   "metadata": {
    "execution": {
     "iopub.execute_input": "2021-10-14T12:10:05.433493Z",
     "iopub.status.busy": "2021-10-14T12:10:05.433493Z",
     "iopub.status.idle": "2021-10-14T12:10:05.439490Z",
     "shell.execute_reply": "2021-10-14T12:10:05.439490Z",
     "shell.execute_reply.started": "2021-10-14T12:10:05.433493Z"
    },
    "tags": []
   },
   "outputs": [
    {
     "data": {
      "text/plain": [
       "MultiIndex([('a', 0),\n",
       "            ('c', 0),\n",
       "            ('a', 1),\n",
       "            ('c', 1),\n",
       "            ('a', 3),\n",
       "            ('c', 3)],\n",
       "           names=['letter', 'number'])"
      ]
     },
     "execution_count": 40,
     "metadata": {},
     "output_type": "execute_result"
    }
   ],
   "source": [
    "index.swaplevel(0,1) # 交换层级"
   ]
  },
  {
   "cell_type": "code",
   "execution_count": 37,
   "id": "controversial-issue",
   "metadata": {
    "execution": {
     "iopub.execute_input": "2021-10-14T12:08:54.986058Z",
     "iopub.status.busy": "2021-10-14T12:08:54.986058Z",
     "iopub.status.idle": "2021-10-14T12:08:54.994052Z",
     "shell.execute_reply": "2021-10-14T12:08:54.993053Z",
     "shell.execute_reply.started": "2021-10-14T12:08:54.986058Z"
    },
    "tags": []
   },
   "outputs": [
    {
     "data": {
      "text/plain": [
       "(MultiIndex([(3, 'c'),\n",
       "             (1, 'c'),\n",
       "             (0, 'c'),\n",
       "             (3, 'a'),\n",
       "             (1, 'a'),\n",
       "             (0, 'a')],\n",
       "            names=['number', 'letter']),\n",
       " array([5, 3, 1, 4, 2, 0], dtype=int64))"
      ]
     },
     "execution_count": 37,
     "metadata": {},
     "output_type": "execute_result"
    }
   ],
   "source": [
    "index.sortlevel(level=1,ascending=False) #排序"
   ]
  },
  {
   "cell_type": "code",
   "execution_count": 31,
   "id": "likely-lounge",
   "metadata": {
    "execution": {
     "iopub.execute_input": "2021-10-14T12:06:55.035797Z",
     "iopub.status.busy": "2021-10-14T12:06:55.035797Z",
     "iopub.status.idle": "2021-10-14T12:06:55.047788Z",
     "shell.execute_reply": "2021-10-14T12:06:55.045789Z",
     "shell.execute_reply.started": "2021-10-14T12:06:55.035797Z"
    },
    "tags": []
   },
   "outputs": [
    {
     "data": {
      "text/plain": [
       "Index([(0, 'a'), (0, 'c'), (1, 'a'), (1, 'c'), (3, 'a'), (3, 'c')], dtype='object')"
      ]
     },
     "execution_count": 31,
     "metadata": {},
     "output_type": "execute_result"
    }
   ],
   "source": [
    "index.to_flat_index() # 变成一维度索引"
   ]
  },
  {
   "cell_type": "code",
   "execution_count": 34,
   "id": "incorrect-transmission",
   "metadata": {
    "execution": {
     "iopub.execute_input": "2021-10-14T12:07:41.866010Z",
     "iopub.status.busy": "2021-10-14T12:07:41.866010Z",
     "iopub.status.idle": "2021-10-14T12:07:41.873005Z",
     "shell.execute_reply": "2021-10-14T12:07:41.873005Z",
     "shell.execute_reply.started": "2021-10-14T12:07:41.866010Z"
    },
    "tags": []
   },
   "outputs": [
    {
     "data": {
      "text/plain": [
       "MultiIndex([(0, 'a'),\n",
       "            (1, 'c'),\n",
       "            (3, 'a'),\n",
       "            (0, 'c'),\n",
       "            (1, 'a'),\n",
       "            (3, 'c')],\n",
       "           names=['number', 'letter'])"
      ]
     },
     "execution_count": 34,
     "metadata": {},
     "output_type": "execute_result"
    }
   ],
   "source": [
    "index.set_codes([0, 1, 2, 0, 1, 2],level=0) # 调整编码，索引元素会随着变化。level 指定层级"
   ]
  },
  {
   "cell_type": "code",
   "execution_count": 30,
   "id": "suburban-noise",
   "metadata": {
    "execution": {
     "iopub.execute_input": "2021-10-14T12:05:25.655295Z",
     "iopub.status.busy": "2021-10-14T12:05:25.654294Z",
     "iopub.status.idle": "2021-10-14T12:05:25.668286Z",
     "shell.execute_reply": "2021-10-14T12:05:25.667287Z",
     "shell.execute_reply.started": "2021-10-14T12:05:25.655295Z"
    },
    "tags": []
   },
   "outputs": [
    {
     "data": {
      "text/plain": [
       "MultiIndex([(0, 'c'),\n",
       "            (1, 'a'),\n",
       "            (3, 'c'),\n",
       "            (0, 'a'),\n",
       "            (1, 'c'),\n",
       "            (3, 'a')],\n",
       "           names=['number', 'letter'])"
      ]
     },
     "execution_count": 30,
     "metadata": {},
     "output_type": "execute_result"
    }
   ],
   "source": [
    "index.set_codes([[0, 1, 2, 0, 1, 2], [1, 0,1, 0, 1, 0]]) # 调整编码，索引元素会随着变化"
   ]
  },
  {
   "cell_type": "code",
   "execution_count": 22,
   "id": "cubic-counter",
   "metadata": {
    "execution": {
     "iopub.execute_input": "2021-10-14T12:01:30.440028Z",
     "iopub.status.busy": "2021-10-14T12:01:30.440028Z",
     "iopub.status.idle": "2021-10-14T12:01:30.454020Z",
     "shell.execute_reply": "2021-10-14T12:01:30.452024Z",
     "shell.execute_reply.started": "2021-10-14T12:01:30.440028Z"
    },
    "tags": []
   },
   "outputs": [
    {
     "data": {
      "text/plain": [
       "MultiIndex([(0, 1),\n",
       "            (0, 2),\n",
       "            (1, 1),\n",
       "            (1, 2),\n",
       "            (3, 1),\n",
       "            (3, 2)],\n",
       "           names=['number', 'letter'])"
      ]
     },
     "execution_count": 22,
     "metadata": {},
     "output_type": "execute_result"
    }
   ],
   "source": [
    "index.set_levels( [1,2],level=1) # 设置或修改层级的元素。注意这个修改方式"
   ]
  },
  {
   "cell_type": "code",
   "execution_count": 19,
   "id": "automated-water",
   "metadata": {
    "execution": {
     "iopub.execute_input": "2021-10-14T12:00:31.083166Z",
     "iopub.status.busy": "2021-10-14T12:00:31.083166Z",
     "iopub.status.idle": "2021-10-14T12:00:31.094160Z",
     "shell.execute_reply": "2021-10-14T12:00:31.093161Z",
     "shell.execute_reply.started": "2021-10-14T12:00:31.083166Z"
    },
    "tags": []
   },
   "outputs": [
    {
     "data": {
      "text/plain": [
       "MultiIndex([(0, 1),\n",
       "            (0, 2),\n",
       "            (1, 1),\n",
       "            (1, 2),\n",
       "            (3, 1),\n",
       "            (3, 2)],\n",
       "           names=['number', 'letter'])"
      ]
     },
     "execution_count": 19,
     "metadata": {},
     "output_type": "execute_result"
    }
   ],
   "source": [
    "index.set_levels( [1,2],level='letter') # 设置或修改层级的元素"
   ]
  },
  {
   "cell_type": "code",
   "execution_count": 20,
   "id": "primary-fever",
   "metadata": {
    "execution": {
     "iopub.execute_input": "2021-10-14T12:01:01.809844Z",
     "iopub.status.busy": "2021-10-14T12:01:01.809844Z",
     "iopub.status.idle": "2021-10-14T12:01:01.817838Z",
     "shell.execute_reply": "2021-10-14T12:01:01.816839Z",
     "shell.execute_reply.started": "2021-10-14T12:01:01.809844Z"
    },
    "tags": []
   },
   "outputs": [
    {
     "data": {
      "text/plain": [
       "MultiIndex([(0, 0),\n",
       "            (0, 5),\n",
       "            (1, 0),\n",
       "            (1, 5),\n",
       "            (2, 0),\n",
       "            (2, 5)],\n",
       "           names=['number', 'letter'])"
      ]
     },
     "execution_count": 20,
     "metadata": {},
     "output_type": "execute_result"
    }
   ],
   "source": [
    "index.set_levels([[0, 1, 2], [0, 5]]) # 设置或修改层级的元素"
   ]
  },
  {
   "cell_type": "code",
   "execution_count": 11,
   "id": "upset-surgeon",
   "metadata": {
    "execution": {
     "iopub.execute_input": "2021-10-14T11:58:14.324894Z",
     "iopub.status.busy": "2021-10-14T11:58:14.324894Z",
     "iopub.status.idle": "2021-10-14T11:58:14.342879Z",
     "shell.execute_reply": "2021-10-14T11:58:14.340881Z",
     "shell.execute_reply.started": "2021-10-14T11:58:14.324894Z"
    },
    "tags": []
   },
   "outputs": [
    {
     "data": {
      "text/plain": [
       "MultiIndex([(0, 0),\n",
       "            (0, 1),\n",
       "            (1, 0),\n",
       "            (1, 1),\n",
       "            (2, 0),\n",
       "            (2, 1)],\n",
       "           names=['number', 'letter'])"
      ]
     },
     "execution_count": 11,
     "metadata": {},
     "output_type": "execute_result"
    }
   ],
   "source": [
    "index.set_levels([[0, 1, 2, 3, 4, 5], [0, 1,2, 3, 4, 5]]) # 设置或修改层级的元素.对照，严格说不是这样改"
   ]
  },
  {
   "cell_type": "code",
   "execution_count": 7,
   "id": "guilty-stability",
   "metadata": {
    "execution": {
     "iopub.execute_input": "2021-10-14T11:56:02.757628Z",
     "iopub.status.busy": "2021-10-14T11:56:02.757628Z",
     "iopub.status.idle": "2021-10-14T11:56:02.767622Z",
     "shell.execute_reply": "2021-10-14T11:56:02.765624Z",
     "shell.execute_reply.started": "2021-10-14T11:56:02.757628Z"
    },
    "tags": []
   },
   "outputs": [
    {
     "data": {
      "text/plain": [
       "2"
      ]
     },
     "execution_count": 7,
     "metadata": {},
     "output_type": "execute_result"
    }
   ],
   "source": [
    "index.nlevels # 层级数量"
   ]
  },
  {
   "cell_type": "code",
   "execution_count": 6,
   "id": "assumed-northwest",
   "metadata": {
    "execution": {
     "iopub.execute_input": "2021-10-14T11:55:24.684687Z",
     "iopub.status.busy": "2021-10-14T11:55:24.684687Z",
     "iopub.status.idle": "2021-10-14T11:55:24.690683Z",
     "shell.execute_reply": "2021-10-14T11:55:24.689697Z",
     "shell.execute_reply.started": "2021-10-14T11:55:24.684687Z"
    },
    "tags": []
   },
   "outputs": [
    {
     "data": {
      "text/plain": [
       "(3, 2)"
      ]
     },
     "execution_count": 6,
     "metadata": {},
     "output_type": "execute_result"
    }
   ],
   "source": [
    "index.levshape # 形状"
   ]
  },
  {
   "cell_type": "code",
   "execution_count": 5,
   "id": "hourly-manual",
   "metadata": {
    "execution": {
     "iopub.execute_input": "2021-10-14T11:55:06.529221Z",
     "iopub.status.busy": "2021-10-14T11:55:06.528221Z",
     "iopub.status.idle": "2021-10-14T11:55:06.536215Z",
     "shell.execute_reply": "2021-10-14T11:55:06.535216Z",
     "shell.execute_reply.started": "2021-10-14T11:55:06.529221Z"
    },
    "tags": []
   },
   "outputs": [
    {
     "data": {
      "text/plain": [
       "FrozenList([[0, 0, 1, 1, 2, 2], [0, 1, 0, 1, 0, 1]])"
      ]
     },
     "execution_count": 5,
     "metadata": {},
     "output_type": "execute_result"
    }
   ],
   "source": [
    "index.codes #编码"
   ]
  },
  {
   "cell_type": "code",
   "execution_count": 3,
   "id": "adjustable-ranch",
   "metadata": {
    "execution": {
     "iopub.execute_input": "2021-10-14T11:54:07.015154Z",
     "iopub.status.busy": "2021-10-14T11:54:07.015154Z",
     "iopub.status.idle": "2021-10-14T11:54:07.026148Z",
     "shell.execute_reply": "2021-10-14T11:54:07.024149Z",
     "shell.execute_reply.started": "2021-10-14T11:54:07.015154Z"
    },
    "tags": []
   },
   "outputs": [
    {
     "data": {
      "text/plain": [
       "FrozenList([[0, 1, 3], ['a', 'c']])"
      ]
     },
     "execution_count": 3,
     "metadata": {},
     "output_type": "execute_result"
    }
   ],
   "source": [
    "index.levels # 层级"
   ]
  }
 ],
 "metadata": {
  "kernelspec": {
   "display_name": "Python 3",
   "language": "python",
   "name": "python3"
  },
  "language_info": {
   "codemirror_mode": {
    "name": "ipython",
    "version": 3
   },
   "file_extension": ".py",
   "mimetype": "text/x-python",
   "name": "python",
   "nbconvert_exporter": "python",
   "pygments_lexer": "ipython3",
   "version": "3.6.8"
  }
 },
 "nbformat": 4,
 "nbformat_minor": 5
}
