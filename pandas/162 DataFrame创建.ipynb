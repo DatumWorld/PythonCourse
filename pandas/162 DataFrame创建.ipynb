{
 "cells": [
  {
   "cell_type": "markdown",
   "id": "vocational-london",
   "metadata": {
    "execution": {
     "iopub.execute_input": "2021-05-10T07:18:52.990449Z",
     "iopub.status.busy": "2021-05-10T07:18:52.990449Z",
     "iopub.status.idle": "2021-05-10T07:18:52.994464Z",
     "shell.execute_reply": "2021-05-10T07:18:52.993452Z",
     "shell.execute_reply.started": "2021-05-10T07:18:52.990449Z"
    }
   },
   "source": [
    "## 162 DataFrame创建"
   ]
  },
  {
   "cell_type": "markdown",
   "id": "legitimate-teach",
   "metadata": {},
   "source": [
    "###   DataFrame：创建操作\n",
    "##### 参数 data=None, index=None, columns=None, dtype=None, copy=None"
   ]
  },
  {
   "cell_type": "code",
   "execution_count": 1,
   "id": "consecutive-bhutan",
   "metadata": {
    "execution": {
     "iopub.execute_input": "2021-10-15T11:39:56.676434Z",
     "iopub.status.busy": "2021-10-15T11:39:56.676434Z",
     "iopub.status.idle": "2021-10-15T11:39:58.197159Z",
     "shell.execute_reply": "2021-10-15T11:39:58.196162Z",
     "shell.execute_reply.started": "2021-10-15T11:39:56.676434Z"
    },
    "tags": []
   },
   "outputs": [],
   "source": [
    "import pandas as pd\n",
    "import numpy  as np"
   ]
  },
  {
   "cell_type": "code",
   "execution_count": 9,
   "id": "9f847d10-5fc2-4dd2-ae3f-ab2bb24c102c",
   "metadata": {
    "execution": {
     "iopub.execute_input": "2021-10-15T11:43:53.234356Z",
     "iopub.status.busy": "2021-10-15T11:43:53.234356Z",
     "iopub.status.idle": "2021-10-15T11:43:53.245348Z",
     "shell.execute_reply": "2021-10-15T11:43:53.245348Z",
     "shell.execute_reply.started": "2021-10-15T11:43:53.234356Z"
    },
    "tags": []
   },
   "outputs": [
    {
     "data": {
      "text/html": [
       "<div>\n",
       "<style scoped>\n",
       "    .dataframe tbody tr th:only-of-type {\n",
       "        vertical-align: middle;\n",
       "    }\n",
       "\n",
       "    .dataframe tbody tr th {\n",
       "        vertical-align: top;\n",
       "    }\n",
       "\n",
       "    .dataframe thead th {\n",
       "        text-align: right;\n",
       "    }\n",
       "</style>\n",
       "<table border=\"1\" class=\"dataframe\">\n",
       "  <thead>\n",
       "    <tr style=\"text-align: right;\">\n",
       "      <th></th>\n",
       "      <th>a</th>\n",
       "      <th>b</th>\n",
       "    </tr>\n",
       "  </thead>\n",
       "  <tbody>\n",
       "    <tr>\n",
       "      <th>0</th>\n",
       "      <td>1</td>\n",
       "      <td>3</td>\n",
       "    </tr>\n",
       "    <tr>\n",
       "      <th>1</th>\n",
       "      <td>2</td>\n",
       "      <td>4</td>\n",
       "    </tr>\n",
       "  </tbody>\n",
       "</table>\n",
       "</div>"
      ],
      "text/plain": [
       "   a  b\n",
       "0  1  3\n",
       "1  2  4"
      ]
     },
     "execution_count": 9,
     "metadata": {},
     "output_type": "execute_result"
    }
   ],
   "source": [
    "pd.DataFrame(data={'a':[1,2],'b':[3,4]},index=range(2))"
   ]
  },
  {
   "cell_type": "code",
   "execution_count": 11,
   "id": "012e174b-b623-4baa-9b3d-4c1d7dc64f7a",
   "metadata": {
    "execution": {
     "iopub.execute_input": "2021-10-15T11:44:20.191858Z",
     "iopub.status.busy": "2021-10-15T11:44:20.190859Z",
     "iopub.status.idle": "2021-10-15T11:44:20.210845Z",
     "shell.execute_reply": "2021-10-15T11:44:20.209849Z",
     "shell.execute_reply.started": "2021-10-15T11:44:20.191858Z"
    },
    "tags": []
   },
   "outputs": [
    {
     "data": {
      "text/html": [
       "<div>\n",
       "<style scoped>\n",
       "    .dataframe tbody tr th:only-of-type {\n",
       "        vertical-align: middle;\n",
       "    }\n",
       "\n",
       "    .dataframe tbody tr th {\n",
       "        vertical-align: top;\n",
       "    }\n",
       "\n",
       "    .dataframe thead th {\n",
       "        text-align: right;\n",
       "    }\n",
       "</style>\n",
       "<table border=\"1\" class=\"dataframe\">\n",
       "  <thead>\n",
       "    <tr style=\"text-align: right;\">\n",
       "      <th></th>\n",
       "      <th>a</th>\n",
       "      <th>b</th>\n",
       "    </tr>\n",
       "  </thead>\n",
       "  <tbody>\n",
       "    <tr>\n",
       "      <th>3</th>\n",
       "      <td>1</td>\n",
       "      <td>3</td>\n",
       "    </tr>\n",
       "    <tr>\n",
       "      <th>4</th>\n",
       "      <td>2</td>\n",
       "      <td>4</td>\n",
       "    </tr>\n",
       "  </tbody>\n",
       "</table>\n",
       "</div>"
      ],
      "text/plain": [
       "   a  b\n",
       "3  1  3\n",
       "4  2  4"
      ]
     },
     "execution_count": 11,
     "metadata": {},
     "output_type": "execute_result"
    }
   ],
   "source": [
    "pd.DataFrame(data={'a':[1,2],'b':[3,4]},index=[3,4]) # data 表格元素的数据源，index 索引的数据源"
   ]
  },
  {
   "cell_type": "code",
   "execution_count": 13,
   "id": "bfb527fe-24cd-434e-8bd9-1f003aef75c1",
   "metadata": {
    "execution": {
     "iopub.execute_input": "2021-10-15T11:46:50.133511Z",
     "iopub.status.busy": "2021-10-15T11:46:50.132511Z",
     "iopub.status.idle": "2021-10-15T11:46:50.147504Z",
     "shell.execute_reply": "2021-10-15T11:46:50.146505Z",
     "shell.execute_reply.started": "2021-10-15T11:46:50.133511Z"
    },
    "tags": []
   },
   "outputs": [
    {
     "data": {
      "text/html": [
       "<div>\n",
       "<style scoped>\n",
       "    .dataframe tbody tr th:only-of-type {\n",
       "        vertical-align: middle;\n",
       "    }\n",
       "\n",
       "    .dataframe tbody tr th {\n",
       "        vertical-align: top;\n",
       "    }\n",
       "\n",
       "    .dataframe thead th {\n",
       "        text-align: right;\n",
       "    }\n",
       "</style>\n",
       "<table border=\"1\" class=\"dataframe\">\n",
       "  <thead>\n",
       "    <tr style=\"text-align: right;\">\n",
       "      <th></th>\n",
       "      <th>a</th>\n",
       "      <th>b</th>\n",
       "    </tr>\n",
       "  </thead>\n",
       "  <tbody>\n",
       "    <tr>\n",
       "      <th>3</th>\n",
       "      <td>1</td>\n",
       "      <td>2</td>\n",
       "    </tr>\n",
       "    <tr>\n",
       "      <th>4</th>\n",
       "      <td>3</td>\n",
       "      <td>4</td>\n",
       "    </tr>\n",
       "  </tbody>\n",
       "</table>\n",
       "</div>"
      ],
      "text/plain": [
       "   a  b\n",
       "3  1  2\n",
       "4  3  4"
      ]
     },
     "execution_count": 13,
     "metadata": {},
     "output_type": "execute_result"
    }
   ],
   "source": [
    "pd.DataFrame(data=np.array([[1,2],[3,4]]),index=[3,4],columns=['a','b']) # np数组作为数据源。columns 指定列名称"
   ]
  },
  {
   "cell_type": "code",
   "execution_count": 14,
   "id": "81d54859-bd99-4edb-b250-105edcb589f7",
   "metadata": {
    "execution": {
     "iopub.execute_input": "2021-10-15T11:47:37.126889Z",
     "iopub.status.busy": "2021-10-15T11:47:37.126889Z",
     "iopub.status.idle": "2021-10-15T11:47:37.140881Z",
     "shell.execute_reply": "2021-10-15T11:47:37.139881Z",
     "shell.execute_reply.started": "2021-10-15T11:47:37.126889Z"
    },
    "tags": []
   },
   "outputs": [
    {
     "data": {
      "text/html": [
       "<div>\n",
       "<style scoped>\n",
       "    .dataframe tbody tr th:only-of-type {\n",
       "        vertical-align: middle;\n",
       "    }\n",
       "\n",
       "    .dataframe tbody tr th {\n",
       "        vertical-align: top;\n",
       "    }\n",
       "\n",
       "    .dataframe thead th {\n",
       "        text-align: right;\n",
       "    }\n",
       "</style>\n",
       "<table border=\"1\" class=\"dataframe\">\n",
       "  <thead>\n",
       "    <tr style=\"text-align: right;\">\n",
       "      <th></th>\n",
       "      <th>a</th>\n",
       "      <th>b</th>\n",
       "    </tr>\n",
       "  </thead>\n",
       "  <tbody>\n",
       "    <tr>\n",
       "      <th>3</th>\n",
       "      <td>1.0</td>\n",
       "      <td>2.0</td>\n",
       "    </tr>\n",
       "    <tr>\n",
       "      <th>4</th>\n",
       "      <td>3.0</td>\n",
       "      <td>4.0</td>\n",
       "    </tr>\n",
       "  </tbody>\n",
       "</table>\n",
       "</div>"
      ],
      "text/plain": [
       "     a    b\n",
       "3  1.0  2.0\n",
       "4  3.0  4.0"
      ]
     },
     "execution_count": 14,
     "metadata": {},
     "output_type": "execute_result"
    }
   ],
   "source": [
    "pd.DataFrame(data=np.array([[1,2],[3,4]]),index=[3,4],columns=['a','b'],dtype='float') # dtype 指定元素的数据类型"
   ]
  },
  {
   "cell_type": "code",
   "execution_count": 15,
   "id": "aa36a2d6-f510-4e52-afa9-7509a728eed9",
   "metadata": {
    "execution": {
     "iopub.execute_input": "2021-10-15T11:49:49.551550Z",
     "iopub.status.busy": "2021-10-15T11:49:49.550549Z",
     "iopub.status.idle": "2021-10-15T11:49:49.558546Z",
     "shell.execute_reply": "2021-10-15T11:49:49.557546Z",
     "shell.execute_reply.started": "2021-10-15T11:49:49.551550Z"
    },
    "tags": []
   },
   "outputs": [],
   "source": [
    "from dataclasses import make_dataclass # 利用数据类构建DataFrame\n",
    "p=make_dataclass('p',[('a',int),('b',int)])"
   ]
  },
  {
   "cell_type": "code",
   "execution_count": 16,
   "id": "239ecf21-2479-4379-90c5-5708ca269e20",
   "metadata": {
    "execution": {
     "iopub.execute_input": "2021-10-15T11:50:30.408378Z",
     "iopub.status.busy": "2021-10-15T11:50:30.407380Z",
     "iopub.status.idle": "2021-10-15T11:50:30.427367Z",
     "shell.execute_reply": "2021-10-15T11:50:30.425371Z",
     "shell.execute_reply.started": "2021-10-15T11:50:30.408378Z"
    },
    "tags": []
   },
   "outputs": [
    {
     "data": {
      "text/html": [
       "<div>\n",
       "<style scoped>\n",
       "    .dataframe tbody tr th:only-of-type {\n",
       "        vertical-align: middle;\n",
       "    }\n",
       "\n",
       "    .dataframe tbody tr th {\n",
       "        vertical-align: top;\n",
       "    }\n",
       "\n",
       "    .dataframe thead th {\n",
       "        text-align: right;\n",
       "    }\n",
       "</style>\n",
       "<table border=\"1\" class=\"dataframe\">\n",
       "  <thead>\n",
       "    <tr style=\"text-align: right;\">\n",
       "      <th></th>\n",
       "      <th>a</th>\n",
       "      <th>b</th>\n",
       "    </tr>\n",
       "  </thead>\n",
       "  <tbody>\n",
       "    <tr>\n",
       "      <th>0</th>\n",
       "      <td>1</td>\n",
       "      <td>2</td>\n",
       "    </tr>\n",
       "    <tr>\n",
       "      <th>1</th>\n",
       "      <td>3</td>\n",
       "      <td>4</td>\n",
       "    </tr>\n",
       "  </tbody>\n",
       "</table>\n",
       "</div>"
      ],
      "text/plain": [
       "   a  b\n",
       "0  1  2\n",
       "1  3  4"
      ]
     },
     "execution_count": 16,
     "metadata": {},
     "output_type": "execute_result"
    }
   ],
   "source": [
    "pd.DataFrame(data=[p(1,2),p(3,4)])"
   ]
  }
 ],
 "metadata": {
  "kernelspec": {
   "display_name": "Python 3",
   "language": "python",
   "name": "python3"
  },
  "language_info": {
   "codemirror_mode": {
    "name": "ipython",
    "version": 3
   },
   "file_extension": ".py",
   "mimetype": "text/x-python",
   "name": "python",
   "nbconvert_exporter": "python",
   "pygments_lexer": "ipython3",
   "version": "3.8.5"
  }
 },
 "nbformat": 4,
 "nbformat_minor": 5
}
