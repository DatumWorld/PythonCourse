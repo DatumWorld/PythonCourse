{
 "cells": [
  {
   "cell_type": "markdown",
   "metadata": {
    "azdata_cell_guid": "738c66e7-5806-4332-928c-26139eff72e5",
    "execution": {
     "iopub.execute_input": "2021-05-10T07:18:52.990449Z",
     "iopub.status.busy": "2021-05-10T07:18:52.990449Z",
     "iopub.status.idle": "2021-05-10T07:18:52.994464Z",
     "shell.execute_reply": "2021-05-10T07:18:52.993452Z",
     "shell.execute_reply.started": "2021-05-10T07:18:52.990449Z"
    }
   },
   "source": [
    "## 164 pandas时间处理（八）"
   ]
  },
  {
   "cell_type": "markdown",
   "metadata": {
    "azdata_cell_guid": "1d896d30-35f4-4f09-ad58-d938ea6fda1a"
   },
   "source": [
    "### 比较常用的时间处理函数。\n",
    "#### DateOffset BMonthBegin BMonthEnd BQuarterEnd BQuarterBegin QuarterBegin QuarterEnd YearEnd YearBegin BYearEnd BYearBegin SemiMonthBegin SemiMonthEnd"
   ]
  },
  {
   "cell_type": "code",
   "execution_count": 1,
   "metadata": {
    "azdata_cell_guid": "883d294e-1d74-4d29-9a1b-e298867fd8c8",
    "execution": {
     "iopub.execute_input": "2021-10-15T12:06:34.921740Z",
     "iopub.status.busy": "2021-10-15T12:06:34.920740Z",
     "iopub.status.idle": "2021-10-15T12:06:35.312501Z",
     "shell.execute_reply": "2021-10-15T12:06:35.312501Z",
     "shell.execute_reply.started": "2021-10-15T12:06:34.920740Z"
    },
    "tags": []
   },
   "outputs": [],
   "source": [
    "from pandas.tseries.offsets import *\n",
    "from datetime import datetime\n",
    "import pandas as pd"
   ]
  },
  {
   "cell_type": "code",
   "execution_count": 17,
   "metadata": {
    "execution": {
     "iopub.execute_input": "2021-10-15T12:17:22.760238Z",
     "iopub.status.busy": "2021-10-15T12:17:22.760238Z",
     "iopub.status.idle": "2021-10-15T12:17:22.768236Z",
     "shell.execute_reply": "2021-10-15T12:17:22.766236Z",
     "shell.execute_reply.started": "2021-10-15T12:17:22.760238Z"
    },
    "tags": []
   },
   "outputs": [],
   "source": [
    "b=pd.date_range('2020-4-01','2020-5-01',freq='MS')"
   ]
  },
  {
   "cell_type": "code",
   "execution_count": 19,
   "metadata": {
    "execution": {
     "iopub.execute_input": "2021-10-15T12:17:30.348327Z",
     "iopub.status.busy": "2021-10-15T12:17:30.348327Z",
     "iopub.status.idle": "2021-10-15T12:17:30.354323Z",
     "shell.execute_reply": "2021-10-15T12:17:30.353324Z",
     "shell.execute_reply.started": "2021-10-15T12:17:30.348327Z"
    },
    "tags": []
   },
   "outputs": [
    {
     "data": {
      "text/plain": [
       "DatetimeIndex(['2020-04-01', '2020-05-01'], dtype='datetime64[ns]', freq='MS')"
      ]
     },
     "execution_count": 19,
     "metadata": {},
     "output_type": "execute_result"
    }
   ],
   "source": [
    "b"
   ]
  },
  {
   "cell_type": "code",
   "execution_count": 38,
   "metadata": {
    "execution": {
     "iopub.execute_input": "2021-10-15T12:28:32.425958Z",
     "iopub.status.busy": "2021-10-15T12:28:32.424959Z",
     "iopub.status.idle": "2021-10-15T12:28:32.430956Z",
     "shell.execute_reply": "2021-10-15T12:28:32.429957Z",
     "shell.execute_reply.started": "2021-10-15T12:28:32.424959Z"
    },
    "tags": []
   },
   "outputs": [],
   "source": [
    "c=pd.Series(b)"
   ]
  },
  {
   "cell_type": "code",
   "execution_count": 39,
   "metadata": {
    "execution": {
     "iopub.execute_input": "2021-10-15T12:28:37.296619Z",
     "iopub.status.busy": "2021-10-15T12:28:37.296619Z",
     "iopub.status.idle": "2021-10-15T12:28:37.309611Z",
     "shell.execute_reply": "2021-10-15T12:28:37.307609Z",
     "shell.execute_reply.started": "2021-10-15T12:28:37.296619Z"
    },
    "tags": []
   },
   "outputs": [
    {
     "data": {
      "text/plain": [
       "0   2020-04-01\n",
       "1   2020-05-01\n",
       "dtype: datetime64[ns]"
      ]
     },
     "execution_count": 39,
     "metadata": {},
     "output_type": "execute_result"
    }
   ],
   "source": [
    "c"
   ]
  },
  {
   "cell_type": "code",
   "execution_count": 42,
   "metadata": {
    "execution": {
     "iopub.execute_input": "2021-10-15T12:29:49.063171Z",
     "iopub.status.busy": "2021-10-15T12:29:49.062172Z",
     "iopub.status.idle": "2021-10-15T12:29:49.069168Z",
     "shell.execute_reply": "2021-10-15T12:29:49.069168Z",
     "shell.execute_reply.started": "2021-10-15T12:29:49.063171Z"
    },
    "tags": []
   },
   "outputs": [
    {
     "data": {
      "text/plain": [
       "array([False, False])"
      ]
     },
     "execution_count": 42,
     "metadata": {},
     "output_type": "execute_result"
    }
   ],
   "source": [
    "b.is_quarter_start # 上下对照区别"
   ]
  },
  {
   "cell_type": "code",
   "execution_count": 41,
   "metadata": {
    "execution": {
     "iopub.execute_input": "2021-10-15T12:29:28.395152Z",
     "iopub.status.busy": "2021-10-15T12:29:28.394154Z",
     "iopub.status.idle": "2021-10-15T12:29:28.402148Z",
     "shell.execute_reply": "2021-10-15T12:29:28.402148Z",
     "shell.execute_reply.started": "2021-10-15T12:29:28.395152Z"
    },
    "tags": []
   },
   "outputs": [
    {
     "data": {
      "text/plain": [
       "0     True\n",
       "1    False\n",
       "dtype: bool"
      ]
     },
     "execution_count": 41,
     "metadata": {},
     "output_type": "execute_result"
    }
   ],
   "source": [
    "c.dt.is_quarter_start"
   ]
  },
  {
   "cell_type": "code",
   "execution_count": 37,
   "metadata": {
    "execution": {
     "iopub.execute_input": "2021-10-15T12:28:10.774773Z",
     "iopub.status.busy": "2021-10-15T12:28:10.773773Z",
     "iopub.status.idle": "2021-10-15T12:28:10.782766Z",
     "shell.execute_reply": "2021-10-15T12:28:10.781766Z",
     "shell.execute_reply.started": "2021-10-15T12:28:10.774773Z"
    },
    "tags": []
   },
   "outputs": [
    {
     "data": {
      "text/plain": [
       "DatetimeIndex(['2020-05-29', '2020-05-29'], dtype='datetime64[ns]', freq=None)"
      ]
     },
     "execution_count": 37,
     "metadata": {},
     "output_type": "execute_result"
    }
   ],
   "source": [
    "b+BQuarterEnd(startingMonth=2) # 所在季度的最后一个工作日"
   ]
  },
  {
   "cell_type": "code",
   "execution_count": 35,
   "metadata": {
    "execution": {
     "iopub.execute_input": "2021-10-15T12:27:19.671374Z",
     "iopub.status.busy": "2021-10-15T12:27:19.671374Z",
     "iopub.status.idle": "2021-10-15T12:27:19.679367Z",
     "shell.execute_reply": "2021-10-15T12:27:19.678368Z",
     "shell.execute_reply.started": "2021-10-15T12:27:19.671374Z"
    },
    "tags": []
   },
   "outputs": [
    {
     "data": {
      "text/plain": [
       "DatetimeIndex(['2020-04-30', '2020-07-31'], dtype='datetime64[ns]', freq=None)"
      ]
     },
     "execution_count": 35,
     "metadata": {},
     "output_type": "execute_result"
    }
   ],
   "source": [
    "b+QuarterEnd(startingMonth=1) # 所在季度的最后一个自然日"
   ]
  },
  {
   "cell_type": "code",
   "execution_count": 34,
   "metadata": {
    "execution": {
     "iopub.execute_input": "2021-10-15T12:26:42.470857Z",
     "iopub.status.busy": "2021-10-15T12:26:42.470857Z",
     "iopub.status.idle": "2021-10-15T12:26:42.475855Z",
     "shell.execute_reply": "2021-10-15T12:26:42.475855Z",
     "shell.execute_reply.started": "2021-10-15T12:26:42.470857Z"
    },
    "tags": []
   },
   "outputs": [
    {
     "data": {
      "text/plain": [
       "DatetimeIndex(['2020-01-01', '2020-04-01'], dtype='datetime64[ns]', freq=None)"
      ]
     },
     "execution_count": 34,
     "metadata": {},
     "output_type": "execute_result"
    }
   ],
   "source": [
    "b-QuarterBegin(startingMonth=1) # 所在季度的第一个自然日"
   ]
  },
  {
   "cell_type": "code",
   "execution_count": 33,
   "metadata": {
    "execution": {
     "iopub.execute_input": "2021-10-15T12:25:17.107301Z",
     "iopub.status.busy": "2021-10-15T12:25:17.107301Z",
     "iopub.status.idle": "2021-10-15T12:25:17.115295Z",
     "shell.execute_reply": "2021-10-15T12:25:17.114294Z",
     "shell.execute_reply.started": "2021-10-15T12:25:17.107301Z"
    },
    "tags": []
   },
   "outputs": [
    {
     "data": {
      "text/plain": [
       "Timestamp('2020-04-01 00:00:00')"
      ]
     },
     "execution_count": 33,
     "metadata": {},
     "output_type": "execute_result"
    }
   ],
   "source": [
    "pd.Timestamp('2020-4-04')-BQuarterBegin(startingMonth=1) # 注意 startingMonth ，参阅官方文档"
   ]
  },
  {
   "cell_type": "code",
   "execution_count": 32,
   "metadata": {
    "execution": {
     "iopub.execute_input": "2021-10-15T12:24:22.223870Z",
     "iopub.status.busy": "2021-10-15T12:24:22.222871Z",
     "iopub.status.idle": "2021-10-15T12:24:22.239861Z",
     "shell.execute_reply": "2021-10-15T12:24:22.237861Z",
     "shell.execute_reply.started": "2021-10-15T12:24:22.223870Z"
    },
    "tags": []
   },
   "outputs": [
    {
     "data": {
      "text/plain": [
       "DatetimeIndex(['2020-01-01', '2020-04-01'], dtype='datetime64[ns]', freq=None)"
      ]
     },
     "execution_count": 32,
     "metadata": {},
     "output_type": "execute_result"
    }
   ],
   "source": [
    "b-BQuarterBegin(startingMonth=1) # 所在季度的第一个工作日"
   ]
  },
  {
   "cell_type": "code",
   "execution_count": 31,
   "metadata": {
    "execution": {
     "iopub.execute_input": "2021-10-15T12:23:35.763116Z",
     "iopub.status.busy": "2021-10-15T12:23:35.763116Z",
     "iopub.status.idle": "2021-10-15T12:23:35.775109Z",
     "shell.execute_reply": "2021-10-15T12:23:35.773115Z",
     "shell.execute_reply.started": "2021-10-15T12:23:35.763116Z"
    },
    "tags": []
   },
   "outputs": [
    {
     "data": {
      "text/plain": [
       "DatetimeIndex(['2020-03-02', '2020-03-02'], dtype='datetime64[ns]', freq=None)"
      ]
     },
     "execution_count": 31,
     "metadata": {},
     "output_type": "execute_result"
    }
   ],
   "source": [
    "b-BQuarterBegin(1) # 所在季度的第一个工作日"
   ]
  },
  {
   "cell_type": "code",
   "execution_count": 30,
   "metadata": {
    "execution": {
     "iopub.execute_input": "2021-10-15T12:22:29.243648Z",
     "iopub.status.busy": "2021-10-15T12:22:29.242652Z",
     "iopub.status.idle": "2021-10-15T12:22:29.250178Z",
     "shell.execute_reply": "2021-10-15T12:22:29.249179Z",
     "shell.execute_reply.started": "2021-10-15T12:22:29.243648Z"
    },
    "tags": []
   },
   "outputs": [
    {
     "data": {
      "text/plain": [
       "Timestamp('2020-04-01 00:00:00')"
      ]
     },
     "execution_count": 30,
     "metadata": {},
     "output_type": "execute_result"
    }
   ],
   "source": [
    "pd.Timestamp('2020-4-04')-SemiMonthBegin(1)"
   ]
  },
  {
   "cell_type": "code",
   "execution_count": 28,
   "metadata": {
    "execution": {
     "iopub.execute_input": "2021-10-15T12:21:39.913168Z",
     "iopub.status.busy": "2021-10-15T12:21:39.912166Z",
     "iopub.status.idle": "2021-10-15T12:21:39.926159Z",
     "shell.execute_reply": "2021-10-15T12:21:39.924159Z",
     "shell.execute_reply.started": "2021-10-15T12:21:39.913168Z"
    },
    "tags": []
   },
   "outputs": [
    {
     "data": {
      "text/plain": [
       "DatetimeIndex(['2020-03-15', '2020-04-15'], dtype='datetime64[ns]', freq=None)"
      ]
     },
     "execution_count": 28,
     "metadata": {},
     "output_type": "execute_result"
    }
   ],
   "source": [
    "b-SemiMonthBegin(1) # 所在半月的第一个自然日"
   ]
  },
  {
   "cell_type": "code",
   "execution_count": 27,
   "metadata": {
    "execution": {
     "iopub.execute_input": "2021-10-15T12:20:59.751775Z",
     "iopub.status.busy": "2021-10-15T12:20:59.751775Z",
     "iopub.status.idle": "2021-10-15T12:20:59.759770Z",
     "shell.execute_reply": "2021-10-15T12:20:59.758771Z",
     "shell.execute_reply.started": "2021-10-15T12:20:59.751775Z"
    },
    "tags": []
   },
   "outputs": [
    {
     "data": {
      "text/plain": [
       "DatetimeIndex(['2020-04-15', '2020-05-15'], dtype='datetime64[ns]', freq=None)"
      ]
     },
     "execution_count": 27,
     "metadata": {},
     "output_type": "execute_result"
    }
   ],
   "source": [
    "b+SemiMonthEnd(1) # 所在半月的最后一个自然日"
   ]
  },
  {
   "cell_type": "code",
   "execution_count": 24,
   "metadata": {
    "execution": {
     "iopub.execute_input": "2021-10-15T12:19:46.755423Z",
     "iopub.status.busy": "2021-10-15T12:19:46.754423Z",
     "iopub.status.idle": "2021-10-15T12:19:46.762418Z",
     "shell.execute_reply": "2021-10-15T12:19:46.761420Z",
     "shell.execute_reply.started": "2021-10-15T12:19:46.755423Z"
    },
    "tags": []
   },
   "outputs": [
    {
     "data": {
      "text/plain": [
       "DatetimeIndex(['2020-01-01', '2020-01-01'], dtype='datetime64[ns]', freq=None)"
      ]
     },
     "execution_count": 24,
     "metadata": {},
     "output_type": "execute_result"
    }
   ],
   "source": [
    "b-BYearBegin(1) # 所在年的第一个工作日"
   ]
  },
  {
   "cell_type": "code",
   "execution_count": 25,
   "metadata": {
    "execution": {
     "iopub.execute_input": "2021-10-15T12:19:50.149390Z",
     "iopub.status.busy": "2021-10-15T12:19:50.149390Z",
     "iopub.status.idle": "2021-10-15T12:19:50.162373Z",
     "shell.execute_reply": "2021-10-15T12:19:50.161376Z",
     "shell.execute_reply.started": "2021-10-15T12:19:50.149390Z"
    },
    "tags": []
   },
   "outputs": [
    {
     "data": {
      "text/plain": [
       "DatetimeIndex(['2020-01-01', '2020-01-01'], dtype='datetime64[ns]', freq=None)"
      ]
     },
     "execution_count": 25,
     "metadata": {},
     "output_type": "execute_result"
    }
   ],
   "source": [
    "b-YearBegin(1) # 所在年的第一个自然日"
   ]
  },
  {
   "cell_type": "code",
   "execution_count": 21,
   "metadata": {
    "execution": {
     "iopub.execute_input": "2021-10-15T12:18:26.492060Z",
     "iopub.status.busy": "2021-10-15T12:18:26.491059Z",
     "iopub.status.idle": "2021-10-15T12:18:26.500054Z",
     "shell.execute_reply": "2021-10-15T12:18:26.499056Z",
     "shell.execute_reply.started": "2021-10-15T12:18:26.492060Z"
    },
    "tags": []
   },
   "outputs": [
    {
     "data": {
      "text/plain": [
       "DatetimeIndex(['2020-12-31', '2020-12-31'], dtype='datetime64[ns]', freq=None)"
      ]
     },
     "execution_count": 21,
     "metadata": {},
     "output_type": "execute_result"
    }
   ],
   "source": [
    "b+YearEnd(1) # 所在年的最后一个自然日"
   ]
  },
  {
   "cell_type": "code",
   "execution_count": 20,
   "metadata": {
    "execution": {
     "iopub.execute_input": "2021-10-15T12:18:07.811297Z",
     "iopub.status.busy": "2021-10-15T12:18:07.811297Z",
     "iopub.status.idle": "2021-10-15T12:18:07.819292Z",
     "shell.execute_reply": "2021-10-15T12:18:07.818295Z",
     "shell.execute_reply.started": "2021-10-15T12:18:07.811297Z"
    },
    "tags": []
   },
   "outputs": [
    {
     "data": {
      "text/plain": [
       "DatetimeIndex(['2020-12-31', '2020-12-31'], dtype='datetime64[ns]', freq=None)"
      ]
     },
     "execution_count": 20,
     "metadata": {},
     "output_type": "execute_result"
    }
   ],
   "source": [
    "b+BYearEnd(1) # 所在年的最后一个工作日"
   ]
  },
  {
   "cell_type": "code",
   "execution_count": 18,
   "metadata": {
    "execution": {
     "iopub.execute_input": "2021-10-15T12:17:25.272365Z",
     "iopub.status.busy": "2021-10-15T12:17:25.272365Z",
     "iopub.status.idle": "2021-10-15T12:17:25.278361Z",
     "shell.execute_reply": "2021-10-15T12:17:25.277360Z",
     "shell.execute_reply.started": "2021-10-15T12:17:25.272365Z"
    },
    "tags": []
   },
   "outputs": [],
   "source": [
    "a=pd.date_range('2020-4-01','2020-5-01',freq='D')"
   ]
  },
  {
   "cell_type": "code",
   "execution_count": 8,
   "metadata": {
    "execution": {
     "iopub.execute_input": "2021-10-15T12:10:30.410769Z",
     "iopub.status.busy": "2021-10-15T12:10:30.409769Z",
     "iopub.status.idle": "2021-10-15T12:10:30.417765Z",
     "shell.execute_reply": "2021-10-15T12:10:30.416767Z",
     "shell.execute_reply.started": "2021-10-15T12:10:30.410769Z"
    },
    "tags": []
   },
   "outputs": [
    {
     "data": {
      "text/plain": [
       "DatetimeIndex(['2020-04-01', '2020-04-02', '2020-04-03', '2020-04-04',\n",
       "               '2020-04-05', '2020-04-06', '2020-04-07', '2020-04-08',\n",
       "               '2020-04-09', '2020-04-10', '2020-04-11', '2020-04-12',\n",
       "               '2020-04-13', '2020-04-14', '2020-04-15', '2020-04-16',\n",
       "               '2020-04-17', '2020-04-18', '2020-04-19', '2020-04-20',\n",
       "               '2020-04-21', '2020-04-22', '2020-04-23', '2020-04-24',\n",
       "               '2020-04-25', '2020-04-26', '2020-04-27', '2020-04-28',\n",
       "               '2020-04-29', '2020-04-30', '2020-05-01'],\n",
       "              dtype='datetime64[ns]', freq='D')"
      ]
     },
     "execution_count": 8,
     "metadata": {},
     "output_type": "execute_result"
    }
   ],
   "source": [
    "a"
   ]
  },
  {
   "cell_type": "code",
   "execution_count": 15,
   "metadata": {
    "execution": {
     "iopub.execute_input": "2021-10-15T12:15:59.341047Z",
     "iopub.status.busy": "2021-10-15T12:15:59.340048Z",
     "iopub.status.idle": "2021-10-15T12:15:59.347043Z",
     "shell.execute_reply": "2021-10-15T12:15:59.346044Z",
     "shell.execute_reply.started": "2021-10-15T12:15:59.341047Z"
    },
    "tags": []
   },
   "outputs": [
    {
     "data": {
      "text/plain": [
       "DatetimeIndex(['2020-04-30', '2020-04-30', '2020-04-30', '2020-04-30',\n",
       "               '2020-04-30', '2020-04-30', '2020-04-30', '2020-04-30',\n",
       "               '2020-04-30', '2020-04-30', '2020-04-30', '2020-04-30',\n",
       "               '2020-04-30', '2020-04-30', '2020-04-30', '2020-04-30',\n",
       "               '2020-04-30', '2020-04-30', '2020-04-30', '2020-04-30',\n",
       "               '2020-04-30', '2020-04-30', '2020-04-30', '2020-04-30',\n",
       "               '2020-04-30', '2020-04-30', '2020-04-30', '2020-04-30',\n",
       "               '2020-04-30', '2020-05-29', '2020-05-29'],\n",
       "              dtype='datetime64[ns]', freq=None)"
      ]
     },
     "execution_count": 15,
     "metadata": {},
     "output_type": "execute_result"
    }
   ],
   "source": [
    "a+BMonthEnd(1) # 所在月的最后一个工作日"
   ]
  },
  {
   "cell_type": "code",
   "execution_count": 12,
   "metadata": {
    "execution": {
     "iopub.execute_input": "2021-10-15T12:12:37.334032Z",
     "iopub.status.busy": "2021-10-15T12:12:37.333038Z",
     "iopub.status.idle": "2021-10-15T12:12:37.346026Z",
     "shell.execute_reply": "2021-10-15T12:12:37.344028Z",
     "shell.execute_reply.started": "2021-10-15T12:12:37.334032Z"
    },
    "tags": []
   },
   "outputs": [
    {
     "data": {
      "text/plain": [
       "DatetimeIndex(['2020-04-30', '2020-04-30', '2020-04-30', '2020-04-30',\n",
       "               '2020-04-30', '2020-04-30', '2020-04-30', '2020-04-30',\n",
       "               '2020-04-30', '2020-04-30', '2020-04-30', '2020-04-30',\n",
       "               '2020-04-30', '2020-04-30', '2020-04-30', '2020-04-30',\n",
       "               '2020-04-30', '2020-04-30', '2020-04-30', '2020-04-30',\n",
       "               '2020-04-30', '2020-04-30', '2020-04-30', '2020-04-30',\n",
       "               '2020-04-30', '2020-04-30', '2020-04-30', '2020-04-30',\n",
       "               '2020-04-30', '2020-05-31', '2020-05-31'],\n",
       "              dtype='datetime64[ns]', freq=None)"
      ]
     },
     "execution_count": 12,
     "metadata": {},
     "output_type": "execute_result"
    }
   ],
   "source": [
    "a+MonthEnd(1)"
   ]
  },
  {
   "cell_type": "code",
   "execution_count": 13,
   "metadata": {
    "execution": {
     "iopub.execute_input": "2021-10-15T12:13:28.338248Z",
     "iopub.status.busy": "2021-10-15T12:13:28.337249Z",
     "iopub.status.idle": "2021-10-15T12:13:28.353239Z",
     "shell.execute_reply": "2021-10-15T12:13:28.351240Z",
     "shell.execute_reply.started": "2021-10-15T12:13:28.338248Z"
    },
    "tags": []
   },
   "outputs": [
    {
     "data": {
      "text/plain": [
       "DatetimeIndex(['2020-04-30', '2020-04-30', '2020-04-30', '2020-04-30',\n",
       "               '2020-04-30', '2020-04-30', '2020-04-30', '2020-04-30',\n",
       "               '2020-04-30', '2020-04-30', '2020-04-30', '2020-04-30',\n",
       "               '2020-04-30', '2020-04-30', '2020-04-30', '2020-04-30',\n",
       "               '2020-04-30', '2020-04-30', '2020-04-30', '2020-04-30',\n",
       "               '2020-04-30', '2020-04-30', '2020-04-30', '2020-04-30',\n",
       "               '2020-04-30', '2020-04-30', '2020-04-30', '2020-04-30',\n",
       "               '2020-04-30', '2020-04-30', '2020-05-31'],\n",
       "              dtype='datetime64[ns]', freq=None)"
      ]
     },
     "execution_count": 13,
     "metadata": {},
     "output_type": "execute_result"
    }
   ],
   "source": [
    "a+MonthEnd(0) # 注意锚点日期的计算"
   ]
  },
  {
   "cell_type": "code",
   "execution_count": 14,
   "metadata": {
    "execution": {
     "iopub.execute_input": "2021-10-15T12:14:57.677530Z",
     "iopub.status.busy": "2021-10-15T12:14:57.677530Z",
     "iopub.status.idle": "2021-10-15T12:14:57.684527Z",
     "shell.execute_reply": "2021-10-15T12:14:57.683528Z",
     "shell.execute_reply.started": "2021-10-15T12:14:57.677530Z"
    },
    "tags": []
   },
   "outputs": [
    {
     "data": {
      "text/plain": [
       "DatetimeIndex(['2020-03-02', '2020-04-01', '2020-04-01', '2020-04-01',\n",
       "               '2020-04-01', '2020-04-01', '2020-04-01', '2020-04-01',\n",
       "               '2020-04-01', '2020-04-01', '2020-04-01', '2020-04-01',\n",
       "               '2020-04-01', '2020-04-01', '2020-04-01', '2020-04-01',\n",
       "               '2020-04-01', '2020-04-01', '2020-04-01', '2020-04-01',\n",
       "               '2020-04-01', '2020-04-01', '2020-04-01', '2020-04-01',\n",
       "               '2020-04-01', '2020-04-01', '2020-04-01', '2020-04-01',\n",
       "               '2020-04-01', '2020-04-01', '2020-04-01'],\n",
       "              dtype='datetime64[ns]', freq=None)"
      ]
     },
     "execution_count": 14,
     "metadata": {},
     "output_type": "execute_result"
    }
   ],
   "source": [
    "a-BMonthBegin(1) # 月的第一个工作日的日期"
   ]
  },
  {
   "cell_type": "code",
   "execution_count": 11,
   "metadata": {
    "execution": {
     "iopub.execute_input": "2021-10-15T12:11:58.938312Z",
     "iopub.status.busy": "2021-10-15T12:11:58.938312Z",
     "iopub.status.idle": "2021-10-15T12:11:58.943310Z",
     "shell.execute_reply": "2021-10-15T12:11:58.943310Z",
     "shell.execute_reply.started": "2021-10-15T12:11:58.938312Z"
    },
    "tags": []
   },
   "outputs": [
    {
     "data": {
      "text/plain": [
       "DatetimeIndex(['2020-03-01', '2020-04-01', '2020-04-01', '2020-04-01',\n",
       "               '2020-04-01', '2020-04-01', '2020-04-01', '2020-04-01',\n",
       "               '2020-04-01', '2020-04-01', '2020-04-01', '2020-04-01',\n",
       "               '2020-04-01', '2020-04-01', '2020-04-01', '2020-04-01',\n",
       "               '2020-04-01', '2020-04-01', '2020-04-01', '2020-04-01',\n",
       "               '2020-04-01', '2020-04-01', '2020-04-01', '2020-04-01',\n",
       "               '2020-04-01', '2020-04-01', '2020-04-01', '2020-04-01',\n",
       "               '2020-04-01', '2020-04-01', '2020-04-01'],\n",
       "              dtype='datetime64[ns]', freq=None)"
      ]
     },
     "execution_count": 11,
     "metadata": {},
     "output_type": "execute_result"
    }
   ],
   "source": [
    "a-MonthBegin(1)"
   ]
  },
  {
   "cell_type": "code",
   "execution_count": 10,
   "metadata": {
    "execution": {
     "iopub.execute_input": "2021-10-15T12:11:47.057040Z",
     "iopub.status.busy": "2021-10-15T12:11:47.057040Z",
     "iopub.status.idle": "2021-10-15T12:11:47.066035Z",
     "shell.execute_reply": "2021-10-15T12:11:47.064040Z",
     "shell.execute_reply.started": "2021-10-15T12:11:47.057040Z"
    },
    "tags": []
   },
   "outputs": [
    {
     "data": {
      "text/plain": [
       "DatetimeIndex(['2020-04-01', '2020-05-01', '2020-05-01', '2020-05-01',\n",
       "               '2020-05-01', '2020-05-01', '2020-05-01', '2020-05-01',\n",
       "               '2020-05-01', '2020-05-01', '2020-05-01', '2020-05-01',\n",
       "               '2020-05-01', '2020-05-01', '2020-05-01', '2020-05-01',\n",
       "               '2020-05-01', '2020-05-01', '2020-05-01', '2020-05-01',\n",
       "               '2020-05-01', '2020-05-01', '2020-05-01', '2020-05-01',\n",
       "               '2020-05-01', '2020-05-01', '2020-05-01', '2020-05-01',\n",
       "               '2020-05-01', '2020-05-01', '2020-05-01'],\n",
       "              dtype='datetime64[ns]', freq=None)"
      ]
     },
     "execution_count": 10,
     "metadata": {},
     "output_type": "execute_result"
    }
   ],
   "source": [
    "a-MonthBegin(0)"
   ]
  }
 ],
 "metadata": {
  "kernelspec": {
   "display_name": "Python 3",
   "language": "python",
   "name": "python3"
  },
  "language_info": {
   "codemirror_mode": {
    "name": "ipython",
    "version": 3
   },
   "file_extension": ".py",
   "mimetype": "text/x-python",
   "name": "python",
   "nbconvert_exporter": "python",
   "pygments_lexer": "ipython3",
   "version": "3.6.8"
  }
 },
 "nbformat": 4,
 "nbformat_minor": 4
}
