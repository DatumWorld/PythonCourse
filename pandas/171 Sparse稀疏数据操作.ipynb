{
 "cells": [
  {
   "cell_type": "markdown",
   "metadata": {
    "azdata_cell_guid": "738c66e7-5806-4332-928c-26139eff72e5",
    "execution": {
     "iopub.execute_input": "2021-05-10T07:18:52.990449Z",
     "iopub.status.busy": "2021-05-10T07:18:52.990449Z",
     "iopub.status.idle": "2021-05-10T07:18:52.994464Z",
     "shell.execute_reply": "2021-05-10T07:18:52.993452Z",
     "shell.execute_reply.started": "2021-05-10T07:18:52.990449Z"
    }
   },
   "source": [
    "## 171 Sparse稀疏数据操作"
   ]
  },
  {
   "cell_type": "markdown",
   "metadata": {
    "azdata_cell_guid": "1d896d30-35f4-4f09-ad58-d938ea6fda1a"
   },
   "source": [
    "### Sparse稀疏数据操作：SparseArray SparseDtype density \n",
    "##### 要点：非稀疏数据的类型 和 填充值"
   ]
  },
  {
   "cell_type": "code",
   "execution_count": 1,
   "metadata": {
    "execution": {
     "iopub.execute_input": "2021-12-03T01:01:07.548548Z",
     "iopub.status.busy": "2021-12-03T01:01:07.548548Z",
     "iopub.status.idle": "2021-12-03T01:01:07.832582Z",
     "shell.execute_reply": "2021-12-03T01:01:07.832582Z",
     "shell.execute_reply.started": "2021-12-03T01:01:07.548548Z"
    },
    "tags": []
   },
   "outputs": [],
   "source": [
    "import numpy  as np\n",
    "import pandas as pd"
   ]
  },
  {
   "cell_type": "code",
   "execution_count": 2,
   "metadata": {
    "execution": {
     "iopub.execute_input": "2021-12-03T01:01:07.833550Z",
     "iopub.status.busy": "2021-12-03T01:01:07.833550Z",
     "iopub.status.idle": "2021-12-03T01:01:07.836549Z",
     "shell.execute_reply": "2021-12-03T01:01:07.836549Z",
     "shell.execute_reply.started": "2021-12-03T01:01:07.833550Z"
    },
    "tags": []
   },
   "outputs": [],
   "source": [
    "arr = np.random.randn(10)\n",
    "arr[2:-2] = np.nan\n",
    "ts = pd.Series(pd.arrays.SparseArray(arr))# 创建的Sparse 序列"
   ]
  },
  {
   "cell_type": "code",
   "execution_count": 3,
   "metadata": {
    "execution": {
     "iopub.execute_input": "2021-12-03T01:01:07.837547Z",
     "iopub.status.busy": "2021-12-03T01:01:07.837547Z",
     "iopub.status.idle": "2021-12-03T01:01:07.850550Z",
     "shell.execute_reply": "2021-12-03T01:01:07.850550Z",
     "shell.execute_reply.started": "2021-12-03T01:01:07.837547Z"
    },
    "tags": []
   },
   "outputs": [
    {
     "data": {
      "text/plain": [
       "208"
      ]
     },
     "execution_count": 3,
     "metadata": {},
     "output_type": "execute_result"
    }
   ],
   "source": [
    "pd.Series(arr).memory_usage(deep=True)"
   ]
  },
  {
   "cell_type": "code",
   "execution_count": 4,
   "metadata": {
    "execution": {
     "iopub.execute_input": "2021-12-03T01:01:07.851551Z",
     "iopub.status.busy": "2021-12-03T01:01:07.851551Z",
     "iopub.status.idle": "2021-12-03T01:01:07.859549Z",
     "shell.execute_reply": "2021-12-03T01:01:07.859549Z",
     "shell.execute_reply.started": "2021-12-03T01:01:07.851551Z"
    },
    "tags": []
   },
   "outputs": [
    {
     "data": {
      "text/plain": [
       "0    0.788268\n",
       "1    0.267111\n",
       "2         NaN\n",
       "3         NaN\n",
       "4         NaN\n",
       "5         NaN\n",
       "6         NaN\n",
       "7         NaN\n",
       "8   -0.876070\n",
       "9   -0.322615\n",
       "dtype: Sparse[float64, nan]"
      ]
     },
     "execution_count": 4,
     "metadata": {},
     "output_type": "execute_result"
    }
   ],
   "source": [
    "ts"
   ]
  },
  {
   "cell_type": "code",
   "execution_count": 5,
   "metadata": {
    "execution": {
     "iopub.execute_input": "2021-12-03T01:01:07.860551Z",
     "iopub.status.busy": "2021-12-03T01:01:07.860551Z",
     "iopub.status.idle": "2021-12-03T01:01:07.868552Z",
     "shell.execute_reply": "2021-12-03T01:01:07.868552Z",
     "shell.execute_reply.started": "2021-12-03T01:01:07.860551Z"
    },
    "tags": []
   },
   "outputs": [
    {
     "data": {
      "text/plain": [
       "176"
      ]
     },
     "execution_count": 5,
     "metadata": {},
     "output_type": "execute_result"
    }
   ],
   "source": [
    "ts.memory_usage(deep=True) # 对照发现内存占用比较小"
   ]
  },
  {
   "cell_type": "code",
   "execution_count": 6,
   "metadata": {
    "execution": {
     "iopub.execute_input": "2021-12-03T01:01:07.870571Z",
     "iopub.status.busy": "2021-12-03T01:01:07.869555Z",
     "iopub.status.idle": "2021-12-03T01:01:07.877579Z",
     "shell.execute_reply": "2021-12-03T01:01:07.877579Z",
     "shell.execute_reply.started": "2021-12-03T01:01:07.870571Z"
    },
    "tags": []
   },
   "outputs": [
    {
     "data": {
      "text/plain": [
       "0.4"
      ]
     },
     "execution_count": 6,
     "metadata": {},
     "output_type": "execute_result"
    }
   ],
   "source": [
    "ts.sparse.density"
   ]
  },
  {
   "cell_type": "code",
   "execution_count": 7,
   "metadata": {
    "execution": {
     "iopub.execute_input": "2021-12-03T01:01:07.878549Z",
     "iopub.status.busy": "2021-12-03T01:01:07.878549Z",
     "iopub.status.idle": "2021-12-03T01:01:07.888548Z",
     "shell.execute_reply": "2021-12-03T01:01:07.887670Z",
     "shell.execute_reply.started": "2021-12-03T01:01:07.878549Z"
    },
    "tags": []
   },
   "outputs": [],
   "source": [
    "df=pd.DataFrame(data=ts,columns=['sparse'],dtype=pd.SparseDtype()) # 创建Sparse df"
   ]
  },
  {
   "cell_type": "code",
   "execution_count": 8,
   "metadata": {
    "execution": {
     "iopub.execute_input": "2021-12-03T01:01:07.889554Z",
     "iopub.status.busy": "2021-12-03T01:01:07.889554Z",
     "iopub.status.idle": "2021-12-03T01:01:07.909576Z",
     "shell.execute_reply": "2021-12-03T01:01:07.909576Z",
     "shell.execute_reply.started": "2021-12-03T01:01:07.889554Z"
    },
    "tags": []
   },
   "outputs": [
    {
     "data": {
      "text/html": [
       "<div>\n",
       "<style scoped>\n",
       "    .dataframe tbody tr th:only-of-type {\n",
       "        vertical-align: middle;\n",
       "    }\n",
       "\n",
       "    .dataframe tbody tr th {\n",
       "        vertical-align: top;\n",
       "    }\n",
       "\n",
       "    .dataframe thead th {\n",
       "        text-align: right;\n",
       "    }\n",
       "</style>\n",
       "<table border=\"1\" class=\"dataframe\">\n",
       "  <thead>\n",
       "    <tr style=\"text-align: right;\">\n",
       "      <th></th>\n",
       "      <th>sparse</th>\n",
       "    </tr>\n",
       "  </thead>\n",
       "  <tbody>\n",
       "    <tr>\n",
       "      <th>0</th>\n",
       "      <td>0.788268</td>\n",
       "    </tr>\n",
       "    <tr>\n",
       "      <th>1</th>\n",
       "      <td>0.267111</td>\n",
       "    </tr>\n",
       "    <tr>\n",
       "      <th>2</th>\n",
       "      <td>NaN</td>\n",
       "    </tr>\n",
       "    <tr>\n",
       "      <th>3</th>\n",
       "      <td>NaN</td>\n",
       "    </tr>\n",
       "    <tr>\n",
       "      <th>4</th>\n",
       "      <td>NaN</td>\n",
       "    </tr>\n",
       "    <tr>\n",
       "      <th>5</th>\n",
       "      <td>NaN</td>\n",
       "    </tr>\n",
       "    <tr>\n",
       "      <th>6</th>\n",
       "      <td>NaN</td>\n",
       "    </tr>\n",
       "    <tr>\n",
       "      <th>7</th>\n",
       "      <td>NaN</td>\n",
       "    </tr>\n",
       "    <tr>\n",
       "      <th>8</th>\n",
       "      <td>-0.876070</td>\n",
       "    </tr>\n",
       "    <tr>\n",
       "      <th>9</th>\n",
       "      <td>-0.322615</td>\n",
       "    </tr>\n",
       "  </tbody>\n",
       "</table>\n",
       "</div>"
      ],
      "text/plain": [
       "     sparse\n",
       "0  0.788268\n",
       "1  0.267111\n",
       "2       NaN\n",
       "3       NaN\n",
       "4       NaN\n",
       "5       NaN\n",
       "6       NaN\n",
       "7       NaN\n",
       "8 -0.876070\n",
       "9 -0.322615"
      ]
     },
     "execution_count": 8,
     "metadata": {},
     "output_type": "execute_result"
    }
   ],
   "source": [
    "df"
   ]
  },
  {
   "cell_type": "code",
   "execution_count": 9,
   "metadata": {
    "execution": {
     "iopub.execute_input": "2021-12-03T01:01:07.910553Z",
     "iopub.status.busy": "2021-12-03T01:01:07.910553Z",
     "iopub.status.idle": "2021-12-03T01:01:07.919552Z",
     "shell.execute_reply": "2021-12-03T01:01:07.919552Z",
     "shell.execute_reply.started": "2021-12-03T01:01:07.910553Z"
    },
    "tags": []
   },
   "outputs": [
    {
     "data": {
      "text/plain": [
       "Index     128\n",
       "sparse     48\n",
       "dtype: int64"
      ]
     },
     "execution_count": 9,
     "metadata": {},
     "output_type": "execute_result"
    }
   ],
   "source": [
    "df.memory_usage(deep=True) # 对照发现内存占用比较小"
   ]
  },
  {
   "cell_type": "code",
   "execution_count": 15,
   "metadata": {
    "execution": {
     "iopub.execute_input": "2021-12-03T01:03:37.380072Z",
     "iopub.status.busy": "2021-12-03T01:03:37.380072Z",
     "iopub.status.idle": "2021-12-03T01:03:37.387077Z",
     "shell.execute_reply": "2021-12-03T01:03:37.386070Z",
     "shell.execute_reply.started": "2021-12-03T01:03:37.380072Z"
    },
    "tags": []
   },
   "outputs": [
    {
     "data": {
      "text/plain": [
       "Index     128\n",
       "sparse     80\n",
       "dtype: int64"
      ]
     },
     "execution_count": 15,
     "metadata": {},
     "output_type": "execute_result"
    }
   ],
   "source": [
    "pd.DataFrame(data=arr,columns=['sparse']).memory_usage(deep=True) # 新增。对比内存占用"
   ]
  },
  {
   "cell_type": "code",
   "execution_count": 10,
   "metadata": {
    "execution": {
     "iopub.execute_input": "2021-12-03T01:01:07.923575Z",
     "iopub.status.busy": "2021-12-03T01:01:07.923575Z",
     "iopub.status.idle": "2021-12-03T01:01:07.932574Z",
     "shell.execute_reply": "2021-12-03T01:01:07.932574Z",
     "shell.execute_reply.started": "2021-12-03T01:01:07.923575Z"
    },
    "tags": []
   },
   "outputs": [
    {
     "data": {
      "text/plain": [
       "Index    128\n",
       "0         80\n",
       "dtype: int64"
      ]
     },
     "execution_count": 10,
     "metadata": {},
     "output_type": "execute_result"
    }
   ],
   "source": [
    "pd.DataFrame(data=arr,).memory_usage(deep=True)"
   ]
  },
  {
   "cell_type": "code",
   "execution_count": 11,
   "metadata": {
    "execution": {
     "iopub.execute_input": "2021-12-03T01:01:07.933549Z",
     "iopub.status.busy": "2021-12-03T01:01:07.933549Z",
     "iopub.status.idle": "2021-12-03T01:01:07.941550Z",
     "shell.execute_reply": "2021-12-03T01:01:07.941550Z",
     "shell.execute_reply.started": "2021-12-03T01:01:07.933549Z"
    },
    "tags": []
   },
   "outputs": [
    {
     "data": {
      "text/plain": [
       "0.4"
      ]
     },
     "execution_count": 11,
     "metadata": {},
     "output_type": "execute_result"
    }
   ],
   "source": [
    "df.sparse.density"
   ]
  }
 ],
 "metadata": {
  "kernelspec": {
   "display_name": "Python 3 (ipykernel)",
   "language": "python",
   "name": "python3"
  },
  "language_info": {
   "codemirror_mode": {
    "name": "ipython",
    "version": 3
   },
   "file_extension": ".py",
   "mimetype": "text/x-python",
   "name": "python",
   "nbconvert_exporter": "python",
   "pygments_lexer": "ipython3",
   "version": "3.8.12"
  }
 },
 "nbformat": 4,
 "nbformat_minor": 4
}
