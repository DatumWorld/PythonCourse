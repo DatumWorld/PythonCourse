{
 "cells": [
  {
   "cell_type": "markdown",
   "metadata": {
    "azdata_cell_guid": "738c66e7-5806-4332-928c-26139eff72e5",
    "execution": {
     "iopub.execute_input": "2021-05-10T07:18:52.990449Z",
     "iopub.status.busy": "2021-05-10T07:18:52.990449Z",
     "iopub.status.idle": "2021-05-10T07:18:52.994464Z",
     "shell.execute_reply": "2021-05-10T07:18:52.993452Z",
     "shell.execute_reply.started": "2021-05-10T07:18:52.990449Z"
    }
   },
   "source": [
    "## 172 merge_asof近邻键合并表格"
   ]
  },
  {
   "cell_type": "markdown",
   "metadata": {
    "azdata_cell_guid": "1d896d30-35f4-4f09-ad58-d938ea6fda1a",
    "tags": []
   },
   "source": [
    "### merge_asof近邻键合并表格\n",
    "left, right, on=None, left_on=None, right_on=None, left_index=False, right_index=False, by=None, left_by=None, right_by=None, suffixes=('_x', '_y'), tolerance=None, allow_exact_matches=True, direction='backward'"
   ]
  },
  {
   "cell_type": "code",
   "execution_count": 1,
   "metadata": {
    "execution": {
     "iopub.execute_input": "2022-01-10T12:29:22.297838Z",
     "iopub.status.busy": "2022-01-10T12:29:22.297838Z",
     "iopub.status.idle": "2022-01-10T12:29:22.959010Z",
     "shell.execute_reply": "2022-01-10T12:29:22.959010Z",
     "shell.execute_reply.started": "2022-01-10T12:29:22.297838Z"
    },
    "tags": []
   },
   "outputs": [],
   "source": [
    "import numpy  as np\n",
    "import pandas as pd"
   ]
  },
  {
   "cell_type": "code",
   "execution_count": 2,
   "metadata": {
    "execution": {
     "iopub.execute_input": "2022-01-10T12:29:22.961007Z",
     "iopub.status.busy": "2022-01-10T12:29:22.961007Z",
     "iopub.status.idle": "2022-01-10T12:29:22.980996Z",
     "shell.execute_reply": "2022-01-10T12:29:22.980996Z",
     "shell.execute_reply.started": "2022-01-10T12:29:22.961007Z"
    },
    "tags": []
   },
   "outputs": [],
   "source": [
    "left = pd.DataFrame({\"a\": [1, 5, 10], \"left_val\": [\"a\", \"b\", \"c\"]})\n",
    "left_index = pd.DataFrame({\"left_val\": [\"a\", \"b\", \"c\"]}, index=[1, 5, 10])\n",
    "quotes = pd.DataFrame(\n",
    "    {\n",
    "        \"time\": [\n",
    "            pd.Timestamp(\"2016-05-25 13:30:00.023\"),\n",
    "            pd.Timestamp(\"2016-05-25 13:30:00.023\"),\n",
    "            pd.Timestamp(\"2016-05-25 13:30:00.030\"),\n",
    "            pd.Timestamp(\"2016-05-25 13:30:00.041\"),\n",
    "            pd.Timestamp(\"2016-05-25 13:30:00.048\"),\n",
    "            pd.Timestamp(\"2016-05-25 13:30:00.049\"),\n",
    "            pd.Timestamp(\"2016-05-25 13:30:00.072\"),\n",
    "            pd.Timestamp(\"2016-05-25 13:30:00.075\")\n",
    "        ],\n",
    "        \"ticker\": [\n",
    "               \"GOOG\",\n",
    "               \"MSFT\",\n",
    "               \"MSFT\",\n",
    "               \"MSFT\",\n",
    "               \"GOOG\",\n",
    "               \"AAPL\",\n",
    "               \"GOOG\",\n",
    "               \"MSFT\"\n",
    "           ],\n",
    "           \"bid\": [720.50, 51.95, 51.97, 51.99, 720.50, 97.99, 720.50, 52.01],\n",
    "           \"ask\": [720.93, 51.96, 51.98, 52.00, 720.93, 98.01, 720.88, 52.03]\n",
    "    }\n",
    ")\n",
    "\n",
    "right = pd.DataFrame({\"a\": [1, 2, 3, 6, 7], \"right_val\": [1, 2, 3, 6, 7]})\n",
    "right_index = pd.DataFrame({\"right_val\": [1, 2, 3, 6, 7]}, index=[1, 2, 3, 6, 7])\n",
    "trades = pd.DataFrame(\n",
    "       {\n",
    "           \"time\": [\n",
    "               pd.Timestamp(\"2016-05-25 13:30:00.023\"),\n",
    "               pd.Timestamp(\"2016-05-25 13:30:00.038\"),\n",
    "               pd.Timestamp(\"2016-05-25 13:30:00.048\"),\n",
    "               pd.Timestamp(\"2016-05-25 13:30:00.048\"),\n",
    "               pd.Timestamp(\"2016-05-25 13:30:00.048\")\n",
    "           ],\n",
    "           \"ticker\": [\"MSFT\", \"MSFT\", \"GOOG\", \"GOOG\", \"AAPL\"],\n",
    "           \"price\": [51.95, 51.95, 720.77, 720.92, 98.0],\n",
    "           \"quantity\": [75, 155, 100, 100, 100]\n",
    "       }\n",
    "   )"
   ]
  },
  {
   "cell_type": "code",
   "execution_count": 13,
   "metadata": {
    "execution": {
     "iopub.execute_input": "2022-01-10T12:40:36.421130Z",
     "iopub.status.busy": "2022-01-10T12:40:36.421130Z",
     "iopub.status.idle": "2022-01-10T12:40:36.432124Z",
     "shell.execute_reply": "2022-01-10T12:40:36.432124Z",
     "shell.execute_reply.started": "2022-01-10T12:40:36.421130Z"
    },
    "tags": []
   },
   "outputs": [
    {
     "data": {
      "text/html": [
       "<div>\n",
       "<style scoped>\n",
       "    .dataframe tbody tr th:only-of-type {\n",
       "        vertical-align: middle;\n",
       "    }\n",
       "\n",
       "    .dataframe tbody tr th {\n",
       "        vertical-align: top;\n",
       "    }\n",
       "\n",
       "    .dataframe thead th {\n",
       "        text-align: right;\n",
       "    }\n",
       "</style>\n",
       "<table border=\"1\" class=\"dataframe\">\n",
       "  <thead>\n",
       "    <tr style=\"text-align: right;\">\n",
       "      <th></th>\n",
       "      <th>time</th>\n",
       "      <th>ticker</th>\n",
       "      <th>bid</th>\n",
       "      <th>ask</th>\n",
       "    </tr>\n",
       "  </thead>\n",
       "  <tbody>\n",
       "    <tr>\n",
       "      <th>0</th>\n",
       "      <td>2016-05-25 13:30:00.023</td>\n",
       "      <td>GOOG</td>\n",
       "      <td>720.50</td>\n",
       "      <td>720.93</td>\n",
       "    </tr>\n",
       "    <tr>\n",
       "      <th>1</th>\n",
       "      <td>2016-05-25 13:30:00.023</td>\n",
       "      <td>MSFT</td>\n",
       "      <td>51.95</td>\n",
       "      <td>51.96</td>\n",
       "    </tr>\n",
       "    <tr>\n",
       "      <th>2</th>\n",
       "      <td>2016-05-25 13:30:00.030</td>\n",
       "      <td>MSFT</td>\n",
       "      <td>51.97</td>\n",
       "      <td>51.98</td>\n",
       "    </tr>\n",
       "    <tr>\n",
       "      <th>3</th>\n",
       "      <td>2016-05-25 13:30:00.041</td>\n",
       "      <td>MSFT</td>\n",
       "      <td>51.99</td>\n",
       "      <td>52.00</td>\n",
       "    </tr>\n",
       "    <tr>\n",
       "      <th>4</th>\n",
       "      <td>2016-05-25 13:30:00.048</td>\n",
       "      <td>GOOG</td>\n",
       "      <td>720.50</td>\n",
       "      <td>720.93</td>\n",
       "    </tr>\n",
       "    <tr>\n",
       "      <th>5</th>\n",
       "      <td>2016-05-25 13:30:00.049</td>\n",
       "      <td>AAPL</td>\n",
       "      <td>97.99</td>\n",
       "      <td>98.01</td>\n",
       "    </tr>\n",
       "    <tr>\n",
       "      <th>6</th>\n",
       "      <td>2016-05-25 13:30:00.072</td>\n",
       "      <td>GOOG</td>\n",
       "      <td>720.50</td>\n",
       "      <td>720.88</td>\n",
       "    </tr>\n",
       "    <tr>\n",
       "      <th>7</th>\n",
       "      <td>2016-05-25 13:30:00.075</td>\n",
       "      <td>MSFT</td>\n",
       "      <td>52.01</td>\n",
       "      <td>52.03</td>\n",
       "    </tr>\n",
       "  </tbody>\n",
       "</table>\n",
       "</div>"
      ],
      "text/plain": [
       "                     time ticker     bid     ask\n",
       "0 2016-05-25 13:30:00.023   GOOG  720.50  720.93\n",
       "1 2016-05-25 13:30:00.023   MSFT   51.95   51.96\n",
       "2 2016-05-25 13:30:00.030   MSFT   51.97   51.98\n",
       "3 2016-05-25 13:30:00.041   MSFT   51.99   52.00\n",
       "4 2016-05-25 13:30:00.048   GOOG  720.50  720.93\n",
       "5 2016-05-25 13:30:00.049   AAPL   97.99   98.01\n",
       "6 2016-05-25 13:30:00.072   GOOG  720.50  720.88\n",
       "7 2016-05-25 13:30:00.075   MSFT   52.01   52.03"
      ]
     },
     "execution_count": 13,
     "metadata": {},
     "output_type": "execute_result"
    }
   ],
   "source": [
    "quotes"
   ]
  },
  {
   "cell_type": "code",
   "execution_count": 14,
   "metadata": {
    "execution": {
     "iopub.execute_input": "2022-01-10T12:40:47.046034Z",
     "iopub.status.busy": "2022-01-10T12:40:47.045033Z",
     "iopub.status.idle": "2022-01-10T12:40:47.059026Z",
     "shell.execute_reply": "2022-01-10T12:40:47.059026Z",
     "shell.execute_reply.started": "2022-01-10T12:40:47.046034Z"
    },
    "tags": []
   },
   "outputs": [
    {
     "data": {
      "text/html": [
       "<div>\n",
       "<style scoped>\n",
       "    .dataframe tbody tr th:only-of-type {\n",
       "        vertical-align: middle;\n",
       "    }\n",
       "\n",
       "    .dataframe tbody tr th {\n",
       "        vertical-align: top;\n",
       "    }\n",
       "\n",
       "    .dataframe thead th {\n",
       "        text-align: right;\n",
       "    }\n",
       "</style>\n",
       "<table border=\"1\" class=\"dataframe\">\n",
       "  <thead>\n",
       "    <tr style=\"text-align: right;\">\n",
       "      <th></th>\n",
       "      <th>time</th>\n",
       "      <th>ticker</th>\n",
       "      <th>price</th>\n",
       "      <th>quantity</th>\n",
       "    </tr>\n",
       "  </thead>\n",
       "  <tbody>\n",
       "    <tr>\n",
       "      <th>0</th>\n",
       "      <td>2016-05-25 13:30:00.023</td>\n",
       "      <td>MSFT</td>\n",
       "      <td>51.95</td>\n",
       "      <td>75</td>\n",
       "    </tr>\n",
       "    <tr>\n",
       "      <th>1</th>\n",
       "      <td>2016-05-25 13:30:00.038</td>\n",
       "      <td>MSFT</td>\n",
       "      <td>51.95</td>\n",
       "      <td>155</td>\n",
       "    </tr>\n",
       "    <tr>\n",
       "      <th>2</th>\n",
       "      <td>2016-05-25 13:30:00.048</td>\n",
       "      <td>GOOG</td>\n",
       "      <td>720.77</td>\n",
       "      <td>100</td>\n",
       "    </tr>\n",
       "    <tr>\n",
       "      <th>3</th>\n",
       "      <td>2016-05-25 13:30:00.048</td>\n",
       "      <td>GOOG</td>\n",
       "      <td>720.92</td>\n",
       "      <td>100</td>\n",
       "    </tr>\n",
       "    <tr>\n",
       "      <th>4</th>\n",
       "      <td>2016-05-25 13:30:00.048</td>\n",
       "      <td>AAPL</td>\n",
       "      <td>98.00</td>\n",
       "      <td>100</td>\n",
       "    </tr>\n",
       "  </tbody>\n",
       "</table>\n",
       "</div>"
      ],
      "text/plain": [
       "                     time ticker   price  quantity\n",
       "0 2016-05-25 13:30:00.023   MSFT   51.95        75\n",
       "1 2016-05-25 13:30:00.038   MSFT   51.95       155\n",
       "2 2016-05-25 13:30:00.048   GOOG  720.77       100\n",
       "3 2016-05-25 13:30:00.048   GOOG  720.92       100\n",
       "4 2016-05-25 13:30:00.048   AAPL   98.00       100"
      ]
     },
     "execution_count": 14,
     "metadata": {},
     "output_type": "execute_result"
    }
   ],
   "source": [
    "trades"
   ]
  },
  {
   "cell_type": "code",
   "execution_count": 16,
   "metadata": {
    "execution": {
     "iopub.execute_input": "2022-01-10T12:42:36.370057Z",
     "iopub.status.busy": "2022-01-10T12:42:36.370057Z",
     "iopub.status.idle": "2022-01-10T12:42:36.392045Z",
     "shell.execute_reply": "2022-01-10T12:42:36.392045Z",
     "shell.execute_reply.started": "2022-01-10T12:42:36.370057Z"
    },
    "tags": []
   },
   "outputs": [
    {
     "data": {
      "text/html": [
       "<div>\n",
       "<style scoped>\n",
       "    .dataframe tbody tr th:only-of-type {\n",
       "        vertical-align: middle;\n",
       "    }\n",
       "\n",
       "    .dataframe tbody tr th {\n",
       "        vertical-align: top;\n",
       "    }\n",
       "\n",
       "    .dataframe thead th {\n",
       "        text-align: right;\n",
       "    }\n",
       "</style>\n",
       "<table border=\"1\" class=\"dataframe\">\n",
       "  <thead>\n",
       "    <tr style=\"text-align: right;\">\n",
       "      <th></th>\n",
       "      <th>time</th>\n",
       "      <th>ticker</th>\n",
       "      <th>price</th>\n",
       "      <th>quantity</th>\n",
       "      <th>bid</th>\n",
       "      <th>ask</th>\n",
       "    </tr>\n",
       "  </thead>\n",
       "  <tbody>\n",
       "    <tr>\n",
       "      <th>0</th>\n",
       "      <td>2016-05-25 13:30:00.023</td>\n",
       "      <td>MSFT</td>\n",
       "      <td>51.95</td>\n",
       "      <td>75</td>\n",
       "      <td>51.95</td>\n",
       "      <td>51.96</td>\n",
       "    </tr>\n",
       "    <tr>\n",
       "      <th>1</th>\n",
       "      <td>2016-05-25 13:30:00.038</td>\n",
       "      <td>MSFT</td>\n",
       "      <td>51.95</td>\n",
       "      <td>155</td>\n",
       "      <td>51.97</td>\n",
       "      <td>51.98</td>\n",
       "    </tr>\n",
       "    <tr>\n",
       "      <th>2</th>\n",
       "      <td>2016-05-25 13:30:00.048</td>\n",
       "      <td>GOOG</td>\n",
       "      <td>720.77</td>\n",
       "      <td>100</td>\n",
       "      <td>720.50</td>\n",
       "      <td>720.93</td>\n",
       "    </tr>\n",
       "    <tr>\n",
       "      <th>3</th>\n",
       "      <td>2016-05-25 13:30:00.048</td>\n",
       "      <td>GOOG</td>\n",
       "      <td>720.92</td>\n",
       "      <td>100</td>\n",
       "      <td>720.50</td>\n",
       "      <td>720.93</td>\n",
       "    </tr>\n",
       "    <tr>\n",
       "      <th>4</th>\n",
       "      <td>2016-05-25 13:30:00.048</td>\n",
       "      <td>AAPL</td>\n",
       "      <td>98.00</td>\n",
       "      <td>100</td>\n",
       "      <td>NaN</td>\n",
       "      <td>NaN</td>\n",
       "    </tr>\n",
       "  </tbody>\n",
       "</table>\n",
       "</div>"
      ],
      "text/plain": [
       "                     time ticker   price  quantity     bid     ask\n",
       "0 2016-05-25 13:30:00.023   MSFT   51.95        75   51.95   51.96\n",
       "1 2016-05-25 13:30:00.038   MSFT   51.95       155   51.97   51.98\n",
       "2 2016-05-25 13:30:00.048   GOOG  720.77       100  720.50  720.93\n",
       "3 2016-05-25 13:30:00.048   GOOG  720.92       100  720.50  720.93\n",
       "4 2016-05-25 13:30:00.048   AAPL   98.00       100     NaN     NaN"
      ]
     },
     "execution_count": 16,
     "metadata": {},
     "output_type": "execute_result"
    }
   ],
   "source": [
    "pd.merge_asof(trades,quotes,on='time',by='ticker') # by 先匹配分组，再合并表"
   ]
  },
  {
   "cell_type": "code",
   "execution_count": 17,
   "metadata": {
    "execution": {
     "iopub.execute_input": "2022-01-10T12:47:03.982968Z",
     "iopub.status.busy": "2022-01-10T12:47:03.982968Z",
     "iopub.status.idle": "2022-01-10T12:47:04.000931Z",
     "shell.execute_reply": "2022-01-10T12:47:04.000931Z",
     "shell.execute_reply.started": "2022-01-10T12:47:03.982968Z"
    },
    "tags": []
   },
   "outputs": [
    {
     "data": {
      "text/html": [
       "<div>\n",
       "<style scoped>\n",
       "    .dataframe tbody tr th:only-of-type {\n",
       "        vertical-align: middle;\n",
       "    }\n",
       "\n",
       "    .dataframe tbody tr th {\n",
       "        vertical-align: top;\n",
       "    }\n",
       "\n",
       "    .dataframe thead th {\n",
       "        text-align: right;\n",
       "    }\n",
       "</style>\n",
       "<table border=\"1\" class=\"dataframe\">\n",
       "  <thead>\n",
       "    <tr style=\"text-align: right;\">\n",
       "      <th></th>\n",
       "      <th>time</th>\n",
       "      <th>ticker</th>\n",
       "      <th>price</th>\n",
       "      <th>quantity</th>\n",
       "      <th>bid</th>\n",
       "      <th>ask</th>\n",
       "    </tr>\n",
       "  </thead>\n",
       "  <tbody>\n",
       "    <tr>\n",
       "      <th>0</th>\n",
       "      <td>2016-05-25 13:30:00.023</td>\n",
       "      <td>MSFT</td>\n",
       "      <td>51.95</td>\n",
       "      <td>75</td>\n",
       "      <td>51.95</td>\n",
       "      <td>51.96</td>\n",
       "    </tr>\n",
       "    <tr>\n",
       "      <th>1</th>\n",
       "      <td>2016-05-25 13:30:00.038</td>\n",
       "      <td>MSFT</td>\n",
       "      <td>51.95</td>\n",
       "      <td>155</td>\n",
       "      <td>NaN</td>\n",
       "      <td>NaN</td>\n",
       "    </tr>\n",
       "    <tr>\n",
       "      <th>2</th>\n",
       "      <td>2016-05-25 13:30:00.048</td>\n",
       "      <td>GOOG</td>\n",
       "      <td>720.77</td>\n",
       "      <td>100</td>\n",
       "      <td>720.50</td>\n",
       "      <td>720.93</td>\n",
       "    </tr>\n",
       "    <tr>\n",
       "      <th>3</th>\n",
       "      <td>2016-05-25 13:30:00.048</td>\n",
       "      <td>GOOG</td>\n",
       "      <td>720.92</td>\n",
       "      <td>100</td>\n",
       "      <td>720.50</td>\n",
       "      <td>720.93</td>\n",
       "    </tr>\n",
       "    <tr>\n",
       "      <th>4</th>\n",
       "      <td>2016-05-25 13:30:00.048</td>\n",
       "      <td>AAPL</td>\n",
       "      <td>98.00</td>\n",
       "      <td>100</td>\n",
       "      <td>NaN</td>\n",
       "      <td>NaN</td>\n",
       "    </tr>\n",
       "  </tbody>\n",
       "</table>\n",
       "</div>"
      ],
      "text/plain": [
       "                     time ticker   price  quantity     bid     ask\n",
       "0 2016-05-25 13:30:00.023   MSFT   51.95        75   51.95   51.96\n",
       "1 2016-05-25 13:30:00.038   MSFT   51.95       155     NaN     NaN\n",
       "2 2016-05-25 13:30:00.048   GOOG  720.77       100  720.50  720.93\n",
       "3 2016-05-25 13:30:00.048   GOOG  720.92       100  720.50  720.93\n",
       "4 2016-05-25 13:30:00.048   AAPL   98.00       100     NaN     NaN"
      ]
     },
     "execution_count": 17,
     "metadata": {},
     "output_type": "execute_result"
    }
   ],
   "source": [
    "pd.merge_asof(trades,quotes,on='time',by='ticker',tolerance=pd.Timedelta('2ms')) # tolerance 时间容差"
   ]
  },
  {
   "cell_type": "code",
   "execution_count": 9,
   "metadata": {
    "execution": {
     "iopub.execute_input": "2022-01-10T12:38:04.583689Z",
     "iopub.status.busy": "2022-01-10T12:38:04.582690Z",
     "iopub.status.idle": "2022-01-10T12:38:04.593683Z",
     "shell.execute_reply": "2022-01-10T12:38:04.592683Z",
     "shell.execute_reply.started": "2022-01-10T12:38:04.583689Z"
    },
    "tags": []
   },
   "outputs": [
    {
     "data": {
      "text/html": [
       "<div>\n",
       "<style scoped>\n",
       "    .dataframe tbody tr th:only-of-type {\n",
       "        vertical-align: middle;\n",
       "    }\n",
       "\n",
       "    .dataframe tbody tr th {\n",
       "        vertical-align: top;\n",
       "    }\n",
       "\n",
       "    .dataframe thead th {\n",
       "        text-align: right;\n",
       "    }\n",
       "</style>\n",
       "<table border=\"1\" class=\"dataframe\">\n",
       "  <thead>\n",
       "    <tr style=\"text-align: right;\">\n",
       "      <th></th>\n",
       "      <th>left_val</th>\n",
       "    </tr>\n",
       "  </thead>\n",
       "  <tbody>\n",
       "    <tr>\n",
       "      <th>1</th>\n",
       "      <td>a</td>\n",
       "    </tr>\n",
       "    <tr>\n",
       "      <th>5</th>\n",
       "      <td>b</td>\n",
       "    </tr>\n",
       "    <tr>\n",
       "      <th>10</th>\n",
       "      <td>c</td>\n",
       "    </tr>\n",
       "  </tbody>\n",
       "</table>\n",
       "</div>"
      ],
      "text/plain": [
       "   left_val\n",
       "1         a\n",
       "5         b\n",
       "10        c"
      ]
     },
     "execution_count": 9,
     "metadata": {},
     "output_type": "execute_result"
    }
   ],
   "source": [
    "left_index"
   ]
  },
  {
   "cell_type": "code",
   "execution_count": 10,
   "metadata": {
    "execution": {
     "iopub.execute_input": "2022-01-10T12:38:13.002684Z",
     "iopub.status.busy": "2022-01-10T12:38:13.001683Z",
     "iopub.status.idle": "2022-01-10T12:38:13.019676Z",
     "shell.execute_reply": "2022-01-10T12:38:13.017676Z",
     "shell.execute_reply.started": "2022-01-10T12:38:13.002684Z"
    },
    "tags": []
   },
   "outputs": [
    {
     "data": {
      "text/html": [
       "<div>\n",
       "<style scoped>\n",
       "    .dataframe tbody tr th:only-of-type {\n",
       "        vertical-align: middle;\n",
       "    }\n",
       "\n",
       "    .dataframe tbody tr th {\n",
       "        vertical-align: top;\n",
       "    }\n",
       "\n",
       "    .dataframe thead th {\n",
       "        text-align: right;\n",
       "    }\n",
       "</style>\n",
       "<table border=\"1\" class=\"dataframe\">\n",
       "  <thead>\n",
       "    <tr style=\"text-align: right;\">\n",
       "      <th></th>\n",
       "      <th>right_val</th>\n",
       "    </tr>\n",
       "  </thead>\n",
       "  <tbody>\n",
       "    <tr>\n",
       "      <th>1</th>\n",
       "      <td>1</td>\n",
       "    </tr>\n",
       "    <tr>\n",
       "      <th>2</th>\n",
       "      <td>2</td>\n",
       "    </tr>\n",
       "    <tr>\n",
       "      <th>3</th>\n",
       "      <td>3</td>\n",
       "    </tr>\n",
       "    <tr>\n",
       "      <th>6</th>\n",
       "      <td>6</td>\n",
       "    </tr>\n",
       "    <tr>\n",
       "      <th>7</th>\n",
       "      <td>7</td>\n",
       "    </tr>\n",
       "  </tbody>\n",
       "</table>\n",
       "</div>"
      ],
      "text/plain": [
       "   right_val\n",
       "1          1\n",
       "2          2\n",
       "3          3\n",
       "6          6\n",
       "7          7"
      ]
     },
     "execution_count": 10,
     "metadata": {},
     "output_type": "execute_result"
    }
   ],
   "source": [
    "right_index"
   ]
  },
  {
   "cell_type": "code",
   "execution_count": 12,
   "metadata": {
    "execution": {
     "iopub.execute_input": "2022-01-10T12:39:15.010967Z",
     "iopub.status.busy": "2022-01-10T12:39:15.009968Z",
     "iopub.status.idle": "2022-01-10T12:39:15.024958Z",
     "shell.execute_reply": "2022-01-10T12:39:15.023957Z",
     "shell.execute_reply.started": "2022-01-10T12:39:15.010967Z"
    },
    "tags": []
   },
   "outputs": [
    {
     "data": {
      "text/html": [
       "<div>\n",
       "<style scoped>\n",
       "    .dataframe tbody tr th:only-of-type {\n",
       "        vertical-align: middle;\n",
       "    }\n",
       "\n",
       "    .dataframe tbody tr th {\n",
       "        vertical-align: top;\n",
       "    }\n",
       "\n",
       "    .dataframe thead th {\n",
       "        text-align: right;\n",
       "    }\n",
       "</style>\n",
       "<table border=\"1\" class=\"dataframe\">\n",
       "  <thead>\n",
       "    <tr style=\"text-align: right;\">\n",
       "      <th></th>\n",
       "      <th>left_val</th>\n",
       "      <th>right_val</th>\n",
       "    </tr>\n",
       "  </thead>\n",
       "  <tbody>\n",
       "    <tr>\n",
       "      <th>1</th>\n",
       "      <td>a</td>\n",
       "      <td>1</td>\n",
       "    </tr>\n",
       "    <tr>\n",
       "      <th>5</th>\n",
       "      <td>b</td>\n",
       "      <td>3</td>\n",
       "    </tr>\n",
       "    <tr>\n",
       "      <th>10</th>\n",
       "      <td>c</td>\n",
       "      <td>7</td>\n",
       "    </tr>\n",
       "  </tbody>\n",
       "</table>\n",
       "</div>"
      ],
      "text/plain": [
       "   left_val  right_val\n",
       "1         a          1\n",
       "5         b          3\n",
       "10        c          7"
      ]
     },
     "execution_count": 12,
     "metadata": {},
     "output_type": "execute_result"
    }
   ],
   "source": [
    "pd.merge_asof(left_index,right_index,left_index=True,right_index=True) # 索引上使用"
   ]
  },
  {
   "cell_type": "code",
   "execution_count": 3,
   "metadata": {
    "execution": {
     "iopub.execute_input": "2022-01-10T12:31:10.829115Z",
     "iopub.status.busy": "2022-01-10T12:31:10.828116Z",
     "iopub.status.idle": "2022-01-10T12:31:10.845105Z",
     "shell.execute_reply": "2022-01-10T12:31:10.844106Z",
     "shell.execute_reply.started": "2022-01-10T12:31:10.829115Z"
    },
    "tags": []
   },
   "outputs": [
    {
     "data": {
      "text/html": [
       "<div>\n",
       "<style scoped>\n",
       "    .dataframe tbody tr th:only-of-type {\n",
       "        vertical-align: middle;\n",
       "    }\n",
       "\n",
       "    .dataframe tbody tr th {\n",
       "        vertical-align: top;\n",
       "    }\n",
       "\n",
       "    .dataframe thead th {\n",
       "        text-align: right;\n",
       "    }\n",
       "</style>\n",
       "<table border=\"1\" class=\"dataframe\">\n",
       "  <thead>\n",
       "    <tr style=\"text-align: right;\">\n",
       "      <th></th>\n",
       "      <th>a</th>\n",
       "      <th>left_val</th>\n",
       "    </tr>\n",
       "  </thead>\n",
       "  <tbody>\n",
       "    <tr>\n",
       "      <th>0</th>\n",
       "      <td>1</td>\n",
       "      <td>a</td>\n",
       "    </tr>\n",
       "    <tr>\n",
       "      <th>1</th>\n",
       "      <td>5</td>\n",
       "      <td>b</td>\n",
       "    </tr>\n",
       "    <tr>\n",
       "      <th>2</th>\n",
       "      <td>10</td>\n",
       "      <td>c</td>\n",
       "    </tr>\n",
       "  </tbody>\n",
       "</table>\n",
       "</div>"
      ],
      "text/plain": [
       "    a left_val\n",
       "0   1        a\n",
       "1   5        b\n",
       "2  10        c"
      ]
     },
     "execution_count": 3,
     "metadata": {},
     "output_type": "execute_result"
    }
   ],
   "source": [
    "left"
   ]
  },
  {
   "cell_type": "code",
   "execution_count": 4,
   "metadata": {
    "execution": {
     "iopub.execute_input": "2022-01-10T12:31:18.010162Z",
     "iopub.status.busy": "2022-01-10T12:31:18.010162Z",
     "iopub.status.idle": "2022-01-10T12:31:18.020155Z",
     "shell.execute_reply": "2022-01-10T12:31:18.020155Z",
     "shell.execute_reply.started": "2022-01-10T12:31:18.010162Z"
    },
    "tags": []
   },
   "outputs": [
    {
     "data": {
      "text/html": [
       "<div>\n",
       "<style scoped>\n",
       "    .dataframe tbody tr th:only-of-type {\n",
       "        vertical-align: middle;\n",
       "    }\n",
       "\n",
       "    .dataframe tbody tr th {\n",
       "        vertical-align: top;\n",
       "    }\n",
       "\n",
       "    .dataframe thead th {\n",
       "        text-align: right;\n",
       "    }\n",
       "</style>\n",
       "<table border=\"1\" class=\"dataframe\">\n",
       "  <thead>\n",
       "    <tr style=\"text-align: right;\">\n",
       "      <th></th>\n",
       "      <th>a</th>\n",
       "      <th>right_val</th>\n",
       "    </tr>\n",
       "  </thead>\n",
       "  <tbody>\n",
       "    <tr>\n",
       "      <th>0</th>\n",
       "      <td>1</td>\n",
       "      <td>1</td>\n",
       "    </tr>\n",
       "    <tr>\n",
       "      <th>1</th>\n",
       "      <td>2</td>\n",
       "      <td>2</td>\n",
       "    </tr>\n",
       "    <tr>\n",
       "      <th>2</th>\n",
       "      <td>3</td>\n",
       "      <td>3</td>\n",
       "    </tr>\n",
       "    <tr>\n",
       "      <th>3</th>\n",
       "      <td>6</td>\n",
       "      <td>6</td>\n",
       "    </tr>\n",
       "    <tr>\n",
       "      <th>4</th>\n",
       "      <td>7</td>\n",
       "      <td>7</td>\n",
       "    </tr>\n",
       "  </tbody>\n",
       "</table>\n",
       "</div>"
      ],
      "text/plain": [
       "   a  right_val\n",
       "0  1          1\n",
       "1  2          2\n",
       "2  3          3\n",
       "3  6          6\n",
       "4  7          7"
      ]
     },
     "execution_count": 4,
     "metadata": {},
     "output_type": "execute_result"
    }
   ],
   "source": [
    "right"
   ]
  },
  {
   "cell_type": "code",
   "execution_count": 5,
   "metadata": {
    "execution": {
     "iopub.execute_input": "2022-01-10T12:31:53.368440Z",
     "iopub.status.busy": "2022-01-10T12:31:53.367442Z",
     "iopub.status.idle": "2022-01-10T12:31:53.384429Z",
     "shell.execute_reply": "2022-01-10T12:31:53.383429Z",
     "shell.execute_reply.started": "2022-01-10T12:31:53.368440Z"
    },
    "tags": []
   },
   "outputs": [
    {
     "data": {
      "text/html": [
       "<div>\n",
       "<style scoped>\n",
       "    .dataframe tbody tr th:only-of-type {\n",
       "        vertical-align: middle;\n",
       "    }\n",
       "\n",
       "    .dataframe tbody tr th {\n",
       "        vertical-align: top;\n",
       "    }\n",
       "\n",
       "    .dataframe thead th {\n",
       "        text-align: right;\n",
       "    }\n",
       "</style>\n",
       "<table border=\"1\" class=\"dataframe\">\n",
       "  <thead>\n",
       "    <tr style=\"text-align: right;\">\n",
       "      <th></th>\n",
       "      <th>a</th>\n",
       "      <th>left_val</th>\n",
       "      <th>right_val</th>\n",
       "    </tr>\n",
       "  </thead>\n",
       "  <tbody>\n",
       "    <tr>\n",
       "      <th>0</th>\n",
       "      <td>1</td>\n",
       "      <td>a</td>\n",
       "      <td>1</td>\n",
       "    </tr>\n",
       "    <tr>\n",
       "      <th>1</th>\n",
       "      <td>5</td>\n",
       "      <td>b</td>\n",
       "      <td>3</td>\n",
       "    </tr>\n",
       "    <tr>\n",
       "      <th>2</th>\n",
       "      <td>10</td>\n",
       "      <td>c</td>\n",
       "      <td>7</td>\n",
       "    </tr>\n",
       "  </tbody>\n",
       "</table>\n",
       "</div>"
      ],
      "text/plain": [
       "    a left_val  right_val\n",
       "0   1        a          1\n",
       "1   5        b          3\n",
       "2  10        c          7"
      ]
     },
     "execution_count": 5,
     "metadata": {},
     "output_type": "execute_result"
    }
   ],
   "source": [
    "pd.merge_asof(left,right,on='a')"
   ]
  },
  {
   "cell_type": "code",
   "execution_count": 8,
   "metadata": {
    "execution": {
     "iopub.execute_input": "2022-01-10T12:36:58.448192Z",
     "iopub.status.busy": "2022-01-10T12:36:58.447180Z",
     "iopub.status.idle": "2022-01-10T12:36:58.490153Z",
     "shell.execute_reply": "2022-01-10T12:36:58.490153Z",
     "shell.execute_reply.started": "2022-01-10T12:36:58.448192Z"
    },
    "tags": []
   },
   "outputs": [
    {
     "data": {
      "text/html": [
       "<div>\n",
       "<style scoped>\n",
       "    .dataframe tbody tr th:only-of-type {\n",
       "        vertical-align: middle;\n",
       "    }\n",
       "\n",
       "    .dataframe tbody tr th {\n",
       "        vertical-align: top;\n",
       "    }\n",
       "\n",
       "    .dataframe thead th {\n",
       "        text-align: right;\n",
       "    }\n",
       "</style>\n",
       "<table border=\"1\" class=\"dataframe\">\n",
       "  <thead>\n",
       "    <tr style=\"text-align: right;\">\n",
       "      <th></th>\n",
       "      <th>a</th>\n",
       "      <th>left_val</th>\n",
       "      <th>right_val</th>\n",
       "    </tr>\n",
       "  </thead>\n",
       "  <tbody>\n",
       "    <tr>\n",
       "      <th>0</th>\n",
       "      <td>1</td>\n",
       "      <td>a</td>\n",
       "      <td>1</td>\n",
       "    </tr>\n",
       "    <tr>\n",
       "      <th>1</th>\n",
       "      <td>5</td>\n",
       "      <td>b</td>\n",
       "      <td>6</td>\n",
       "    </tr>\n",
       "    <tr>\n",
       "      <th>2</th>\n",
       "      <td>10</td>\n",
       "      <td>c</td>\n",
       "      <td>7</td>\n",
       "    </tr>\n",
       "  </tbody>\n",
       "</table>\n",
       "</div>"
      ],
      "text/plain": [
       "    a left_val  right_val\n",
       "0   1        a          1\n",
       "1   5        b          6\n",
       "2  10        c          7"
      ]
     },
     "execution_count": 8,
     "metadata": {},
     "output_type": "execute_result"
    }
   ],
   "source": [
    "pd.merge_asof(left,right,on='a',direction='nearest') # 方向参数"
   ]
  },
  {
   "cell_type": "code",
   "execution_count": 7,
   "metadata": {
    "execution": {
     "iopub.execute_input": "2022-01-10T12:35:33.724550Z",
     "iopub.status.busy": "2022-01-10T12:35:33.723549Z",
     "iopub.status.idle": "2022-01-10T12:35:33.751533Z",
     "shell.execute_reply": "2022-01-10T12:35:33.750532Z",
     "shell.execute_reply.started": "2022-01-10T12:35:33.724550Z"
    },
    "tags": []
   },
   "outputs": [
    {
     "data": {
      "text/html": [
       "<div>\n",
       "<style scoped>\n",
       "    .dataframe tbody tr th:only-of-type {\n",
       "        vertical-align: middle;\n",
       "    }\n",
       "\n",
       "    .dataframe tbody tr th {\n",
       "        vertical-align: top;\n",
       "    }\n",
       "\n",
       "    .dataframe thead th {\n",
       "        text-align: right;\n",
       "    }\n",
       "</style>\n",
       "<table border=\"1\" class=\"dataframe\">\n",
       "  <thead>\n",
       "    <tr style=\"text-align: right;\">\n",
       "      <th></th>\n",
       "      <th>a</th>\n",
       "      <th>left_val</th>\n",
       "      <th>right_val</th>\n",
       "    </tr>\n",
       "  </thead>\n",
       "  <tbody>\n",
       "    <tr>\n",
       "      <th>0</th>\n",
       "      <td>1</td>\n",
       "      <td>a</td>\n",
       "      <td>1.0</td>\n",
       "    </tr>\n",
       "    <tr>\n",
       "      <th>1</th>\n",
       "      <td>5</td>\n",
       "      <td>b</td>\n",
       "      <td>6.0</td>\n",
       "    </tr>\n",
       "    <tr>\n",
       "      <th>2</th>\n",
       "      <td>10</td>\n",
       "      <td>c</td>\n",
       "      <td>NaN</td>\n",
       "    </tr>\n",
       "  </tbody>\n",
       "</table>\n",
       "</div>"
      ],
      "text/plain": [
       "    a left_val  right_val\n",
       "0   1        a        1.0\n",
       "1   5        b        6.0\n",
       "2  10        c        NaN"
      ]
     },
     "execution_count": 7,
     "metadata": {},
     "output_type": "execute_result"
    }
   ],
   "source": [
    "pd.merge_asof(left,right,on='a',direction='forward') # 方向参数"
   ]
  },
  {
   "cell_type": "code",
   "execution_count": 6,
   "metadata": {
    "execution": {
     "iopub.execute_input": "2022-01-10T12:34:10.365483Z",
     "iopub.status.busy": "2022-01-10T12:34:10.363487Z",
     "iopub.status.idle": "2022-01-10T12:34:10.379497Z",
     "shell.execute_reply": "2022-01-10T12:34:10.379497Z",
     "shell.execute_reply.started": "2022-01-10T12:34:10.364486Z"
    },
    "tags": []
   },
   "outputs": [
    {
     "data": {
      "text/html": [
       "<div>\n",
       "<style scoped>\n",
       "    .dataframe tbody tr th:only-of-type {\n",
       "        vertical-align: middle;\n",
       "    }\n",
       "\n",
       "    .dataframe tbody tr th {\n",
       "        vertical-align: top;\n",
       "    }\n",
       "\n",
       "    .dataframe thead th {\n",
       "        text-align: right;\n",
       "    }\n",
       "</style>\n",
       "<table border=\"1\" class=\"dataframe\">\n",
       "  <thead>\n",
       "    <tr style=\"text-align: right;\">\n",
       "      <th></th>\n",
       "      <th>a</th>\n",
       "      <th>left_val</th>\n",
       "      <th>right_val</th>\n",
       "    </tr>\n",
       "  </thead>\n",
       "  <tbody>\n",
       "    <tr>\n",
       "      <th>0</th>\n",
       "      <td>1</td>\n",
       "      <td>a</td>\n",
       "      <td>NaN</td>\n",
       "    </tr>\n",
       "    <tr>\n",
       "      <th>1</th>\n",
       "      <td>5</td>\n",
       "      <td>b</td>\n",
       "      <td>3.0</td>\n",
       "    </tr>\n",
       "    <tr>\n",
       "      <th>2</th>\n",
       "      <td>10</td>\n",
       "      <td>c</td>\n",
       "      <td>7.0</td>\n",
       "    </tr>\n",
       "  </tbody>\n",
       "</table>\n",
       "</div>"
      ],
      "text/plain": [
       "    a left_val  right_val\n",
       "0   1        a        NaN\n",
       "1   5        b        3.0\n",
       "2  10        c        7.0"
      ]
     },
     "execution_count": 6,
     "metadata": {},
     "output_type": "execute_result"
    }
   ],
   "source": [
    "pd.merge_asof(left,right,on='a',allow_exact_matches=False) # 是否允许精确匹配，对比merge"
   ]
  }
 ],
 "metadata": {
  "kernelspec": {
   "display_name": "Python 3",
   "language": "python",
   "name": "python3"
  },
  "language_info": {
   "codemirror_mode": {
    "name": "ipython",
    "version": 3
   },
   "file_extension": ".py",
   "mimetype": "text/x-python",
   "name": "python",
   "nbconvert_exporter": "python",
   "pygments_lexer": "ipython3",
   "version": "3.6.8"
  }
 },
 "nbformat": 4,
 "nbformat_minor": 4
}
