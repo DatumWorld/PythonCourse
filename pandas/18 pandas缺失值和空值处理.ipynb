{
 "cells": [
  {
   "cell_type": "markdown",
   "id": "chief-withdrawal",
   "metadata": {
    "execution": {
     "iopub.execute_input": "2021-05-10T07:18:52.990449Z",
     "iopub.status.busy": "2021-05-10T07:18:52.990449Z",
     "iopub.status.idle": "2021-05-10T07:18:52.994464Z",
     "shell.execute_reply": "2021-05-10T07:18:52.993452Z",
     "shell.execute_reply.started": "2021-05-10T07:18:52.990449Z"
    }
   },
   "source": [
    "## pandas缺失值/空值处理"
   ]
  },
  {
   "cell_type": "markdown",
   "id": "stainless-offset",
   "metadata": {},
   "source": [
    "### 缺失值处理\n",
    "#### isna  isnull notna  notnull  fillna dropna"
   ]
  },
  {
   "cell_type": "code",
   "execution_count": 20,
   "id": "invisible-cause",
   "metadata": {
    "execution": {
     "iopub.execute_input": "2021-06-07T08:31:11.258133Z",
     "iopub.status.busy": "2021-06-07T08:31:11.258133Z",
     "iopub.status.idle": "2021-06-07T08:31:11.260133Z",
     "shell.execute_reply": "2021-06-07T08:31:11.260133Z",
     "shell.execute_reply.started": "2021-06-07T08:31:11.258133Z"
    }
   },
   "outputs": [],
   "source": [
    "import  numpy as np\n",
    "import pandas as pd"
   ]
  },
  {
   "cell_type": "code",
   "execution_count": 21,
   "id": "expressed-violin",
   "metadata": {
    "execution": {
     "iopub.execute_input": "2021-06-07T08:31:11.261132Z",
     "iopub.status.busy": "2021-06-07T08:31:11.261132Z",
     "iopub.status.idle": "2021-06-07T08:31:11.267131Z",
     "shell.execute_reply": "2021-06-07T08:31:11.267131Z",
     "shell.execute_reply.started": "2021-06-07T08:31:11.261132Z"
    }
   },
   "outputs": [],
   "source": [
    "s=pd.Series([1,5,2.5,np.nan,'t'])"
   ]
  },
  {
   "cell_type": "code",
   "execution_count": 29,
   "id": "critical-condition",
   "metadata": {
    "execution": {
     "iopub.execute_input": "2021-06-07T08:35:40.063128Z",
     "iopub.status.busy": "2021-06-07T08:35:40.063128Z",
     "iopub.status.idle": "2021-06-07T08:35:40.068136Z",
     "shell.execute_reply": "2021-06-07T08:35:40.067128Z",
     "shell.execute_reply.started": "2021-06-07T08:35:40.063128Z"
    }
   },
   "outputs": [
    {
     "data": {
      "text/plain": [
       "0      1\n",
       "1      5\n",
       "2    2.5\n",
       "3    NaN\n",
       "4      t\n",
       "dtype: object"
      ]
     },
     "execution_count": 29,
     "metadata": {},
     "output_type": "execute_result"
    }
   ],
   "source": [
    "s"
   ]
  },
  {
   "cell_type": "code",
   "execution_count": 23,
   "id": "anonymous-knitting",
   "metadata": {
    "execution": {
     "iopub.execute_input": "2021-06-07T08:31:55.264141Z",
     "iopub.status.busy": "2021-06-07T08:31:55.263134Z",
     "iopub.status.idle": "2021-06-07T08:31:55.272129Z",
     "shell.execute_reply": "2021-06-07T08:31:55.270134Z",
     "shell.execute_reply.started": "2021-06-07T08:31:55.264141Z"
    }
   },
   "outputs": [
    {
     "data": {
      "text/plain": [
       "0    False\n",
       "1    False\n",
       "2    False\n",
       "3     True\n",
       "4    False\n",
       "dtype: bool"
      ]
     },
     "execution_count": 23,
     "metadata": {},
     "output_type": "execute_result"
    }
   ],
   "source": [
    "s.isna() # 返回是否是空。空返回true"
   ]
  },
  {
   "cell_type": "code",
   "execution_count": 24,
   "id": "geological-flooring",
   "metadata": {
    "execution": {
     "iopub.execute_input": "2021-06-07T08:32:44.946129Z",
     "iopub.status.busy": "2021-06-07T08:32:44.945130Z",
     "iopub.status.idle": "2021-06-07T08:32:44.953133Z",
     "shell.execute_reply": "2021-06-07T08:32:44.951133Z",
     "shell.execute_reply.started": "2021-06-07T08:32:44.946129Z"
    }
   },
   "outputs": [
    {
     "data": {
      "text/plain": [
       "0    False\n",
       "1    False\n",
       "2    False\n",
       "3     True\n",
       "4    False\n",
       "dtype: bool"
      ]
     },
     "execution_count": 24,
     "metadata": {},
     "output_type": "execute_result"
    }
   ],
   "source": [
    "s.isnull() # 返回是否是空。空返回true"
   ]
  },
  {
   "cell_type": "code",
   "execution_count": 25,
   "id": "liquid-perth",
   "metadata": {
    "execution": {
     "iopub.execute_input": "2021-06-07T08:33:11.199134Z",
     "iopub.status.busy": "2021-06-07T08:33:11.198131Z",
     "iopub.status.idle": "2021-06-07T08:33:11.206129Z",
     "shell.execute_reply": "2021-06-07T08:33:11.205132Z",
     "shell.execute_reply.started": "2021-06-07T08:33:11.199134Z"
    }
   },
   "outputs": [
    {
     "data": {
      "text/plain": [
       "0     True\n",
       "1     True\n",
       "2     True\n",
       "3    False\n",
       "4     True\n",
       "dtype: bool"
      ]
     },
     "execution_count": 25,
     "metadata": {},
     "output_type": "execute_result"
    }
   ],
   "source": [
    "s.notna() # 非空返回true，否则返回false"
   ]
  },
  {
   "cell_type": "code",
   "execution_count": 26,
   "id": "thorough-nursery",
   "metadata": {
    "execution": {
     "iopub.execute_input": "2021-06-07T08:33:36.223133Z",
     "iopub.status.busy": "2021-06-07T08:33:36.223133Z",
     "iopub.status.idle": "2021-06-07T08:33:36.231133Z",
     "shell.execute_reply": "2021-06-07T08:33:36.231133Z",
     "shell.execute_reply.started": "2021-06-07T08:33:36.223133Z"
    }
   },
   "outputs": [
    {
     "data": {
      "text/plain": [
       "0     True\n",
       "1     True\n",
       "2     True\n",
       "3    False\n",
       "4     True\n",
       "dtype: bool"
      ]
     },
     "execution_count": 26,
     "metadata": {},
     "output_type": "execute_result"
    }
   ],
   "source": [
    "s.notnull() # 非空返回true，否则返回false"
   ]
  },
  {
   "cell_type": "code",
   "execution_count": 27,
   "id": "separated-reverse",
   "metadata": {
    "execution": {
     "iopub.execute_input": "2021-06-07T08:34:09.864132Z",
     "iopub.status.busy": "2021-06-07T08:34:09.864132Z",
     "iopub.status.idle": "2021-06-07T08:34:09.870157Z",
     "shell.execute_reply": "2021-06-07T08:34:09.870157Z",
     "shell.execute_reply.started": "2021-06-07T08:34:09.864132Z"
    }
   },
   "outputs": [
    {
     "data": {
      "text/plain": [
       "0       1\n",
       "1       5\n",
       "2     2.5\n",
       "3    非空替换\n",
       "4       t\n",
       "dtype: object"
      ]
     },
     "execution_count": 27,
     "metadata": {},
     "output_type": "execute_result"
    }
   ],
   "source": [
    "s.fillna('非空替换') # 替换空为指定值，注意这是在副本上替换，未改变原来的s"
   ]
  },
  {
   "cell_type": "code",
   "execution_count": 28,
   "id": "alone-boards",
   "metadata": {
    "execution": {
     "iopub.execute_input": "2021-06-07T08:35:03.593130Z",
     "iopub.status.busy": "2021-06-07T08:35:03.593130Z",
     "iopub.status.idle": "2021-06-07T08:35:03.600133Z",
     "shell.execute_reply": "2021-06-07T08:35:03.599132Z",
     "shell.execute_reply.started": "2021-06-07T08:35:03.593130Z"
    }
   },
   "outputs": [
    {
     "data": {
      "text/plain": [
       "0      1\n",
       "1      5\n",
       "2    2.5\n",
       "4      t\n",
       "dtype: object"
      ]
     },
     "execution_count": 28,
     "metadata": {},
     "output_type": "execute_result"
    }
   ],
   "source": [
    "s.dropna() # 删除有空的元素"
   ]
  }
 ],
 "metadata": {
  "kernelspec": {
   "display_name": "Python 3",
   "language": "python",
   "name": "python3"
  },
  "language_info": {
   "codemirror_mode": {
    "name": "ipython",
    "version": 3
   },
   "file_extension": ".py",
   "mimetype": "text/x-python",
   "name": "python",
   "nbconvert_exporter": "python",
   "pygments_lexer": "ipython3",
   "version": "3.6.8"
  }
 },
 "nbformat": 4,
 "nbformat_minor": 5
}
