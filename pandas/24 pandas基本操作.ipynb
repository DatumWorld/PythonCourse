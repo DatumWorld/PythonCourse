{
 "cells": [
  {
   "cell_type": "markdown",
   "id": "laughing-broadcasting",
   "metadata": {
    "execution": {
     "iopub.execute_input": "2021-05-10T07:18:52.990449Z",
     "iopub.status.busy": "2021-05-10T07:18:52.990449Z",
     "iopub.status.idle": "2021-05-10T07:18:52.994464Z",
     "shell.execute_reply": "2021-05-10T07:18:52.993452Z",
     "shell.execute_reply.started": "2021-05-10T07:18:52.990449Z"
    }
   },
   "source": [
    "##  pandas基本操作"
   ]
  },
  {
   "cell_type": "markdown",
   "id": "lasting-teach",
   "metadata": {},
   "source": [
    "### 基本操作\n",
    "#### index columns dtypes info rename dtype"
   ]
  },
  {
   "cell_type": "code",
   "execution_count": 1,
   "id": "mineral-wisdom",
   "metadata": {
    "execution": {
     "iopub.execute_input": "2021-10-18T01:59:27.800378Z",
     "iopub.status.busy": "2021-10-18T01:59:27.800378Z",
     "iopub.status.idle": "2021-10-18T01:59:28.416893Z",
     "shell.execute_reply": "2021-10-18T01:59:28.416893Z",
     "shell.execute_reply.started": "2021-10-18T01:59:27.800378Z"
    }
   },
   "outputs": [],
   "source": [
    "import numpy  as np\n",
    "import pandas as pd\n",
    "from faker import Faker\n",
    "\n",
    "fake = Faker('zh_CN')\n",
    "df=pd.DataFrame(data=[ [fake.name()] for x in range(10) ],columns=['name'])"
   ]
  },
  {
   "cell_type": "code",
   "execution_count": 2,
   "id": "august-optimization",
   "metadata": {
    "execution": {
     "iopub.execute_input": "2021-10-18T01:59:28.416893Z",
     "iopub.status.busy": "2021-10-18T01:59:28.416893Z",
     "iopub.status.idle": "2021-10-18T01:59:28.429175Z",
     "shell.execute_reply": "2021-10-18T01:59:28.426549Z",
     "shell.execute_reply.started": "2021-10-18T01:59:28.416893Z"
    }
   },
   "outputs": [],
   "source": [
    "df['销售额']=np.random.randint(100,100000,size=(10, 1))"
   ]
  },
  {
   "cell_type": "code",
   "execution_count": 3,
   "id": "designing-stuff",
   "metadata": {
    "execution": {
     "iopub.execute_input": "2021-10-18T01:59:28.435869Z",
     "iopub.status.busy": "2021-10-18T01:59:28.435359Z",
     "iopub.status.idle": "2021-10-18T01:59:28.441036Z",
     "shell.execute_reply": "2021-10-18T01:59:28.440012Z",
     "shell.execute_reply.started": "2021-10-18T01:59:28.435869Z"
    }
   },
   "outputs": [],
   "source": [
    "df.insert(0,'dept',['部门1']*5+['部门2']*5)"
   ]
  },
  {
   "cell_type": "code",
   "execution_count": 4,
   "id": "consecutive-voltage",
   "metadata": {
    "execution": {
     "iopub.execute_input": "2021-10-18T01:59:28.443101Z",
     "iopub.status.busy": "2021-10-18T01:59:28.442092Z",
     "iopub.status.idle": "2021-10-18T01:59:28.473308Z",
     "shell.execute_reply": "2021-10-18T01:59:28.472221Z",
     "shell.execute_reply.started": "2021-10-18T01:59:28.443101Z"
    }
   },
   "outputs": [
    {
     "data": {
      "text/html": [
       "<div>\n",
       "<style scoped>\n",
       "    .dataframe tbody tr th:only-of-type {\n",
       "        vertical-align: middle;\n",
       "    }\n",
       "\n",
       "    .dataframe tbody tr th {\n",
       "        vertical-align: top;\n",
       "    }\n",
       "\n",
       "    .dataframe thead th {\n",
       "        text-align: right;\n",
       "    }\n",
       "</style>\n",
       "<table border=\"1\" class=\"dataframe\">\n",
       "  <thead>\n",
       "    <tr style=\"text-align: right;\">\n",
       "      <th></th>\n",
       "      <th>dept</th>\n",
       "      <th>name</th>\n",
       "      <th>销售额</th>\n",
       "    </tr>\n",
       "  </thead>\n",
       "  <tbody>\n",
       "    <tr>\n",
       "      <th>0</th>\n",
       "      <td>部门1</td>\n",
       "      <td>郭雪</td>\n",
       "      <td>79185</td>\n",
       "    </tr>\n",
       "    <tr>\n",
       "      <th>1</th>\n",
       "      <td>部门1</td>\n",
       "      <td>易丽丽</td>\n",
       "      <td>95056</td>\n",
       "    </tr>\n",
       "    <tr>\n",
       "      <th>2</th>\n",
       "      <td>部门1</td>\n",
       "      <td>刘帆</td>\n",
       "      <td>20776</td>\n",
       "    </tr>\n",
       "    <tr>\n",
       "      <th>3</th>\n",
       "      <td>部门1</td>\n",
       "      <td>蒲涛</td>\n",
       "      <td>78194</td>\n",
       "    </tr>\n",
       "    <tr>\n",
       "      <th>4</th>\n",
       "      <td>部门1</td>\n",
       "      <td>王桂芳</td>\n",
       "      <td>42497</td>\n",
       "    </tr>\n",
       "    <tr>\n",
       "      <th>5</th>\n",
       "      <td>部门2</td>\n",
       "      <td>杨飞</td>\n",
       "      <td>67377</td>\n",
       "    </tr>\n",
       "    <tr>\n",
       "      <th>6</th>\n",
       "      <td>部门2</td>\n",
       "      <td>张东</td>\n",
       "      <td>95072</td>\n",
       "    </tr>\n",
       "    <tr>\n",
       "      <th>7</th>\n",
       "      <td>部门2</td>\n",
       "      <td>江丽娟</td>\n",
       "      <td>25336</td>\n",
       "    </tr>\n",
       "    <tr>\n",
       "      <th>8</th>\n",
       "      <td>部门2</td>\n",
       "      <td>许秀兰</td>\n",
       "      <td>85541</td>\n",
       "    </tr>\n",
       "    <tr>\n",
       "      <th>9</th>\n",
       "      <td>部门2</td>\n",
       "      <td>陶淑兰</td>\n",
       "      <td>2310</td>\n",
       "    </tr>\n",
       "  </tbody>\n",
       "</table>\n",
       "</div>"
      ],
      "text/plain": [
       "  dept name    销售额\n",
       "0  部门1   郭雪  79185\n",
       "1  部门1  易丽丽  95056\n",
       "2  部门1   刘帆  20776\n",
       "3  部门1   蒲涛  78194\n",
       "4  部门1  王桂芳  42497\n",
       "5  部门2   杨飞  67377\n",
       "6  部门2   张东  95072\n",
       "7  部门2  江丽娟  25336\n",
       "8  部门2  许秀兰  85541\n",
       "9  部门2  陶淑兰   2310"
      ]
     },
     "execution_count": 4,
     "metadata": {},
     "output_type": "execute_result"
    }
   ],
   "source": [
    "df # 随机生成的数据"
   ]
  },
  {
   "cell_type": "code",
   "execution_count": 5,
   "id": "genuine-crash",
   "metadata": {
    "execution": {
     "iopub.execute_input": "2021-10-18T01:59:28.475922Z",
     "iopub.status.busy": "2021-10-18T01:59:28.475400Z",
     "iopub.status.idle": "2021-10-18T01:59:28.482077Z",
     "shell.execute_reply": "2021-10-18T01:59:28.481071Z",
     "shell.execute_reply.started": "2021-10-18T01:59:28.475922Z"
    }
   },
   "outputs": [
    {
     "data": {
      "text/plain": [
       "RangeIndex(start=0, stop=10, step=1)"
      ]
     },
     "execution_count": 5,
     "metadata": {},
     "output_type": "execute_result"
    }
   ],
   "source": [
    "df.index  # 获取索引信息"
   ]
  },
  {
   "cell_type": "code",
   "execution_count": 6,
   "id": "robust-cornwall",
   "metadata": {
    "execution": {
     "iopub.execute_input": "2021-10-18T01:59:28.484091Z",
     "iopub.status.busy": "2021-10-18T01:59:28.483081Z",
     "iopub.status.idle": "2021-10-18T01:59:28.493798Z",
     "shell.execute_reply": "2021-10-18T01:59:28.492768Z",
     "shell.execute_reply.started": "2021-10-18T01:59:28.483081Z"
    }
   },
   "outputs": [
    {
     "data": {
      "text/plain": [
       "Index(['dept', 'name', '销售额'], dtype='object')"
      ]
     },
     "execution_count": 6,
     "metadata": {},
     "output_type": "execute_result"
    }
   ],
   "source": [
    "df.columns # 获取列名信息"
   ]
  },
  {
   "cell_type": "code",
   "execution_count": 7,
   "id": "composite-contrast",
   "metadata": {
    "execution": {
     "iopub.execute_input": "2021-10-18T01:59:28.494825Z",
     "iopub.status.busy": "2021-10-18T01:59:28.494825Z",
     "iopub.status.idle": "2021-10-18T01:59:28.507274Z",
     "shell.execute_reply": "2021-10-18T01:59:28.506242Z",
     "shell.execute_reply.started": "2021-10-18T01:59:28.494825Z"
    }
   },
   "outputs": [
    {
     "data": {
      "text/plain": [
       "dept    object\n",
       "name    object\n",
       "销售额      int32\n",
       "dtype: object"
      ]
     },
     "execution_count": 7,
     "metadata": {},
     "output_type": "execute_result"
    }
   ],
   "source": [
    "df.dtypes # 获取列的类型信息"
   ]
  },
  {
   "cell_type": "code",
   "execution_count": 8,
   "id": "choice-strengthening",
   "metadata": {
    "execution": {
     "iopub.execute_input": "2021-10-18T01:59:28.509454Z",
     "iopub.status.busy": "2021-10-18T01:59:28.509454Z",
     "iopub.status.idle": "2021-10-18T01:59:28.516199Z",
     "shell.execute_reply": "2021-10-18T01:59:28.515163Z",
     "shell.execute_reply.started": "2021-10-18T01:59:28.509454Z"
    }
   },
   "outputs": [],
   "source": [
    "df.rename({'dept':'部门'},axis=1,inplace=True) # 修改列明，用dict 表示 原名：修改名 的映射，可以一次修改多个列名\n",
    "# inplace=True 直接在原来的df上修改，而非在副本上修改"
   ]
  },
  {
   "cell_type": "code",
   "execution_count": 9,
   "id": "growing-symphony",
   "metadata": {
    "execution": {
     "iopub.execute_input": "2021-10-18T01:59:28.519253Z",
     "iopub.status.busy": "2021-10-18T01:59:28.518218Z",
     "iopub.status.idle": "2021-10-18T01:59:28.539493Z",
     "shell.execute_reply": "2021-10-18T01:59:28.538477Z",
     "shell.execute_reply.started": "2021-10-18T01:59:28.519253Z"
    }
   },
   "outputs": [
    {
     "name": "stdout",
     "output_type": "stream",
     "text": [
      "<class 'pandas.core.frame.DataFrame'>\n",
      "RangeIndex: 10 entries, 0 to 9\n",
      "Data columns (total 3 columns):\n",
      " #   Column  Non-Null Count  Dtype \n",
      "---  ------  --------------  ----- \n",
      " 0   部门      10 non-null     object\n",
      " 1   name    10 non-null     object\n",
      " 2   销售额     10 non-null     int32 \n",
      "dtypes: int32(1), object(2)\n",
      "memory usage: 328.0+ bytes\n"
     ]
    }
   ],
   "source": [
    "df.info() # 获取一个df对象的基本信息 ，含 列 名称 类型 统计 内存使用 索引等"
   ]
  },
  {
   "cell_type": "code",
   "execution_count": 14,
   "id": "coupled-stick",
   "metadata": {
    "execution": {
     "iopub.execute_input": "2021-10-18T02:00:40.427377Z",
     "iopub.status.busy": "2021-10-18T02:00:40.427377Z",
     "iopub.status.idle": "2021-10-18T02:00:40.446412Z",
     "shell.execute_reply": "2021-10-18T02:00:40.444812Z",
     "shell.execute_reply.started": "2021-10-18T02:00:40.427377Z"
    }
   },
   "outputs": [
    {
     "data": {
      "text/plain": [
       "dtype('O')"
      ]
     },
     "execution_count": 14,
     "metadata": {},
     "output_type": "execute_result"
    }
   ],
   "source": [
    "df.name.dtype # 新增：列类型"
   ]
  },
  {
   "cell_type": "code",
   "execution_count": 15,
   "id": "thirty-fiction",
   "metadata": {
    "execution": {
     "iopub.execute_input": "2021-10-18T02:01:13.192404Z",
     "iopub.status.busy": "2021-10-18T02:01:13.192404Z",
     "iopub.status.idle": "2021-10-18T02:01:13.199365Z",
     "shell.execute_reply": "2021-10-18T02:01:13.198199Z",
     "shell.execute_reply.started": "2021-10-18T02:01:13.192404Z"
    }
   },
   "outputs": [
    {
     "data": {
      "text/plain": [
       "dtype('int64')"
      ]
     },
     "execution_count": 15,
     "metadata": {},
     "output_type": "execute_result"
    }
   ],
   "source": [
    "df.index.dtype # 新增：索引类型"
   ]
  }
 ],
 "metadata": {
  "kernelspec": {
   "display_name": "Python 3",
   "language": "python",
   "name": "python3"
  },
  "language_info": {
   "codemirror_mode": {
    "name": "ipython",
    "version": 3
   },
   "file_extension": ".py",
   "mimetype": "text/x-python",
   "name": "python",
   "nbconvert_exporter": "python",
   "pygments_lexer": "ipython3",
   "version": "3.6.8"
  }
 },
 "nbformat": 4,
 "nbformat_minor": 5
}
