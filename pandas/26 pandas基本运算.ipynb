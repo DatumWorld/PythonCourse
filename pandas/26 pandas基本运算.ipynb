{
 "cells": [
  {
   "cell_type": "markdown",
   "id": "liable-criticism",
   "metadata": {
    "execution": {
     "iopub.execute_input": "2021-05-10T07:18:52.990449Z",
     "iopub.status.busy": "2021-05-10T07:18:52.990449Z",
     "iopub.status.idle": "2021-05-10T07:18:52.994464Z",
     "shell.execute_reply": "2021-05-10T07:18:52.993452Z",
     "shell.execute_reply.started": "2021-05-10T07:18:52.990449Z"
    }
   },
   "source": [
    "##  pandas基本运算"
   ]
  },
  {
   "cell_type": "markdown",
   "id": "confused-thing",
   "metadata": {},
   "source": [
    "### 基本运算列之加减乘除\n",
    "#### +-*/"
   ]
  },
  {
   "cell_type": "code",
   "execution_count": 1,
   "id": "sonic-novel",
   "metadata": {
    "execution": {
     "iopub.status.idle": "2021-06-16T07:56:36.255636Z",
     "shell.execute_reply": "2021-06-16T07:56:36.255636Z",
     "shell.execute_reply.started": "2021-06-16T07:56:35.915606Z"
    }
   },
   "outputs": [],
   "source": [
    "import numpy  as np\n",
    "import pandas as pd\n",
    "from faker import Faker\n",
    "\n",
    "fake = Faker('zh_CN')\n",
    "df=pd.DataFrame(data=[ [fake.name()] for x in range(10) ],columns=['姓名'])"
   ]
  },
  {
   "cell_type": "code",
   "execution_count": 2,
   "id": "psychological-sudan",
   "metadata": {
    "execution": {
     "iopub.execute_input": "2021-06-16T07:56:36.256604Z",
     "iopub.status.busy": "2021-06-16T07:56:36.256604Z",
     "iopub.status.idle": "2021-06-16T07:56:36.267605Z",
     "shell.execute_reply": "2021-06-16T07:56:36.267605Z",
     "shell.execute_reply.started": "2021-06-16T07:56:36.256604Z"
    }
   },
   "outputs": [],
   "source": [
    "df['销售额']=np.random.randint(100,100000,size=(10, 1))\n",
    "df['工龄']=np.random.randint(1,10,size=(10, 1))\n",
    "df.insert(0,'部门',['部门1']*5+['部门2']*5)\n",
    "df['绩效系数']=np.random.randint(7,10,size=(10, 1))/10\n",
    "df['补贴']=np.random.randint(10,1000,size=(10, 1))\n",
    "df['请假扣除']=np.random.randint(0,1000,size=(10, 1))"
   ]
  },
  {
   "cell_type": "code",
   "execution_count": 11,
   "id": "alone-george",
   "metadata": {
    "execution": {
     "iopub.execute_input": "2021-06-16T08:04:27.672451Z",
     "iopub.status.busy": "2021-06-16T08:04:27.672451Z",
     "iopub.status.idle": "2021-06-16T08:04:27.692476Z",
     "shell.execute_reply": "2021-06-16T08:04:27.689475Z",
     "shell.execute_reply.started": "2021-06-16T08:04:27.672451Z"
    }
   },
   "outputs": [
    {
     "data": {
      "text/html": [
       "<div>\n",
       "<style scoped>\n",
       "    .dataframe tbody tr th:only-of-type {\n",
       "        vertical-align: middle;\n",
       "    }\n",
       "\n",
       "    .dataframe tbody tr th {\n",
       "        vertical-align: top;\n",
       "    }\n",
       "\n",
       "    .dataframe thead th {\n",
       "        text-align: right;\n",
       "    }\n",
       "</style>\n",
       "<table border=\"1\" class=\"dataframe\">\n",
       "  <thead>\n",
       "    <tr style=\"text-align: right;\">\n",
       "      <th></th>\n",
       "      <th>部门</th>\n",
       "      <th>姓名</th>\n",
       "      <th>销售额</th>\n",
       "      <th>工龄</th>\n",
       "      <th>绩效系数</th>\n",
       "      <th>补贴</th>\n",
       "      <th>请假扣除</th>\n",
       "      <th>调整</th>\n",
       "      <th>其它扣除</th>\n",
       "      <th>应发工资</th>\n",
       "    </tr>\n",
       "  </thead>\n",
       "  <tbody>\n",
       "    <tr>\n",
       "      <th>0</th>\n",
       "      <td>部门1</td>\n",
       "      <td>任淑华</td>\n",
       "      <td>9606</td>\n",
       "      <td>8</td>\n",
       "      <td>0.8</td>\n",
       "      <td>738</td>\n",
       "      <td>396</td>\n",
       "      <td>838</td>\n",
       "      <td>376</td>\n",
       "      <td>8026.8</td>\n",
       "    </tr>\n",
       "    <tr>\n",
       "      <th>1</th>\n",
       "      <td>部门1</td>\n",
       "      <td>李琳</td>\n",
       "      <td>89948</td>\n",
       "      <td>7</td>\n",
       "      <td>0.9</td>\n",
       "      <td>631</td>\n",
       "      <td>763</td>\n",
       "      <td>731</td>\n",
       "      <td>743</td>\n",
       "      <td>80821.2</td>\n",
       "    </tr>\n",
       "    <tr>\n",
       "      <th>2</th>\n",
       "      <td>部门1</td>\n",
       "      <td>杨勇</td>\n",
       "      <td>46492</td>\n",
       "      <td>7</td>\n",
       "      <td>0.8</td>\n",
       "      <td>473</td>\n",
       "      <td>651</td>\n",
       "      <td>573</td>\n",
       "      <td>631</td>\n",
       "      <td>37015.6</td>\n",
       "    </tr>\n",
       "    <tr>\n",
       "      <th>3</th>\n",
       "      <td>部门1</td>\n",
       "      <td>贾桂兰</td>\n",
       "      <td>9356</td>\n",
       "      <td>6</td>\n",
       "      <td>0.7</td>\n",
       "      <td>407</td>\n",
       "      <td>845</td>\n",
       "      <td>507</td>\n",
       "      <td>825</td>\n",
       "      <td>6111.2</td>\n",
       "    </tr>\n",
       "    <tr>\n",
       "      <th>4</th>\n",
       "      <td>部门1</td>\n",
       "      <td>张伟</td>\n",
       "      <td>61682</td>\n",
       "      <td>7</td>\n",
       "      <td>0.9</td>\n",
       "      <td>287</td>\n",
       "      <td>309</td>\n",
       "      <td>387</td>\n",
       "      <td>289</td>\n",
       "      <td>55491.8</td>\n",
       "    </tr>\n",
       "    <tr>\n",
       "      <th>5</th>\n",
       "      <td>部门2</td>\n",
       "      <td>马璐</td>\n",
       "      <td>36260</td>\n",
       "      <td>6</td>\n",
       "      <td>0.7</td>\n",
       "      <td>32</td>\n",
       "      <td>270</td>\n",
       "      <td>132</td>\n",
       "      <td>250</td>\n",
       "      <td>25144.0</td>\n",
       "    </tr>\n",
       "    <tr>\n",
       "      <th>6</th>\n",
       "      <td>部门2</td>\n",
       "      <td>郭瑜</td>\n",
       "      <td>69067</td>\n",
       "      <td>4</td>\n",
       "      <td>0.7</td>\n",
       "      <td>461</td>\n",
       "      <td>791</td>\n",
       "      <td>561</td>\n",
       "      <td>771</td>\n",
       "      <td>48016.9</td>\n",
       "    </tr>\n",
       "    <tr>\n",
       "      <th>7</th>\n",
       "      <td>部门2</td>\n",
       "      <td>杨帆</td>\n",
       "      <td>46053</td>\n",
       "      <td>8</td>\n",
       "      <td>0.9</td>\n",
       "      <td>504</td>\n",
       "      <td>463</td>\n",
       "      <td>604</td>\n",
       "      <td>443</td>\n",
       "      <td>41488.7</td>\n",
       "    </tr>\n",
       "    <tr>\n",
       "      <th>8</th>\n",
       "      <td>部门2</td>\n",
       "      <td>王凯</td>\n",
       "      <td>76609</td>\n",
       "      <td>9</td>\n",
       "      <td>0.7</td>\n",
       "      <td>872</td>\n",
       "      <td>724</td>\n",
       "      <td>972</td>\n",
       "      <td>704</td>\n",
       "      <td>53774.3</td>\n",
       "    </tr>\n",
       "    <tr>\n",
       "      <th>9</th>\n",
       "      <td>部门2</td>\n",
       "      <td>杨兵</td>\n",
       "      <td>65153</td>\n",
       "      <td>3</td>\n",
       "      <td>0.8</td>\n",
       "      <td>219</td>\n",
       "      <td>659</td>\n",
       "      <td>319</td>\n",
       "      <td>639</td>\n",
       "      <td>51682.4</td>\n",
       "    </tr>\n",
       "  </tbody>\n",
       "</table>\n",
       "</div>"
      ],
      "text/plain": [
       "    部门   姓名    销售额  工龄  绩效系数   补贴  请假扣除   调整  其它扣除     应发工资\n",
       "0  部门1  任淑华   9606   8   0.8  738   396  838   376   8026.8\n",
       "1  部门1   李琳  89948   7   0.9  631   763  731   743  80821.2\n",
       "2  部门1   杨勇  46492   7   0.8  473   651  573   631  37015.6\n",
       "3  部门1  贾桂兰   9356   6   0.7  407   845  507   825   6111.2\n",
       "4  部门1   张伟  61682   7   0.9  287   309  387   289  55491.8\n",
       "5  部门2   马璐  36260   6   0.7   32   270  132   250  25144.0\n",
       "6  部门2   郭瑜  69067   4   0.7  461   791  561   771  48016.9\n",
       "7  部门2   杨帆  46053   8   0.9  504   463  604   443  41488.7\n",
       "8  部门2   王凯  76609   9   0.7  872   724  972   704  53774.3\n",
       "9  部门2   杨兵  65153   3   0.8  219   659  319   639  51682.4"
      ]
     },
     "execution_count": 11,
     "metadata": {},
     "output_type": "execute_result"
    }
   ],
   "source": [
    "df # 随机生成的数据"
   ]
  },
  {
   "cell_type": "code",
   "execution_count": 4,
   "id": "fossil-exhaust",
   "metadata": {
    "execution": {
     "iopub.execute_input": "2021-06-16T07:57:52.698528Z",
     "iopub.status.busy": "2021-06-16T07:57:52.698528Z",
     "iopub.status.idle": "2021-06-16T07:57:52.716526Z",
     "shell.execute_reply": "2021-06-16T07:57:52.715525Z",
     "shell.execute_reply.started": "2021-06-16T07:57:52.698528Z"
    }
   },
   "outputs": [],
   "source": [
    "df['调整']=df['补贴']+100  # 新增调整， “补贴”均加100"
   ]
  },
  {
   "cell_type": "code",
   "execution_count": 6,
   "id": "animal-mouse",
   "metadata": {
    "execution": {
     "iopub.execute_input": "2021-06-16T07:59:47.068927Z",
     "iopub.status.busy": "2021-06-16T07:59:47.067928Z",
     "iopub.status.idle": "2021-06-16T07:59:47.074934Z",
     "shell.execute_reply": "2021-06-16T07:59:47.072930Z",
     "shell.execute_reply.started": "2021-06-16T07:59:47.068927Z"
    }
   },
   "outputs": [],
   "source": [
    "df['其它扣除']=df['请假扣除']-20 # 减法"
   ]
  },
  {
   "cell_type": "code",
   "execution_count": 8,
   "id": "raising-powell",
   "metadata": {
    "execution": {
     "iopub.execute_input": "2021-06-16T08:00:47.983907Z",
     "iopub.status.busy": "2021-06-16T08:00:47.982907Z",
     "iopub.status.idle": "2021-06-16T08:00:47.991910Z",
     "shell.execute_reply": "2021-06-16T08:00:47.989916Z",
     "shell.execute_reply.started": "2021-06-16T08:00:47.983907Z"
    }
   },
   "outputs": [
    {
     "data": {
      "text/plain": [
       "0     96\n",
       "1     84\n",
       "2     84\n",
       "3     72\n",
       "4     84\n",
       "5     72\n",
       "6     48\n",
       "7     96\n",
       "8    108\n",
       "9     36\n",
       "Name: 工龄, dtype: int32"
      ]
     },
     "execution_count": 8,
     "metadata": {},
     "output_type": "execute_result"
    }
   ],
   "source": [
    "df.工龄*12 # 乘法。工龄转换成月份，按整年"
   ]
  },
  {
   "cell_type": "code",
   "execution_count": 9,
   "id": "satellite-toddler",
   "metadata": {
    "execution": {
     "iopub.execute_input": "2021-06-16T08:02:02.802909Z",
     "iopub.status.busy": "2021-06-16T08:02:02.801910Z",
     "iopub.status.idle": "2021-06-16T08:02:02.814911Z",
     "shell.execute_reply": "2021-06-16T08:02:02.813910Z",
     "shell.execute_reply.started": "2021-06-16T08:02:02.802909Z"
    }
   },
   "outputs": [
    {
     "data": {
      "text/plain": [
       "0     1200.750000\n",
       "1    12849.714286\n",
       "2     6641.714286\n",
       "3     1559.333333\n",
       "4     8811.714286\n",
       "5     6043.333333\n",
       "6    17266.750000\n",
       "7     5756.625000\n",
       "8     8512.111111\n",
       "9    21717.666667\n",
       "dtype: float64"
      ]
     },
     "execution_count": 9,
     "metadata": {},
     "output_type": "execute_result"
    }
   ],
   "source": [
    "df.销售额/df.工龄 # 除法。各行的销售额除以工龄"
   ]
  },
  {
   "cell_type": "code",
   "execution_count": 10,
   "id": "looking-hawaiian",
   "metadata": {
    "execution": {
     "iopub.execute_input": "2021-06-16T08:04:22.202448Z",
     "iopub.status.busy": "2021-06-16T08:04:22.202448Z",
     "iopub.status.idle": "2021-06-16T08:04:22.207448Z",
     "shell.execute_reply": "2021-06-16T08:04:22.207448Z",
     "shell.execute_reply.started": "2021-06-16T08:04:22.202448Z"
    }
   },
   "outputs": [],
   "source": [
    "df['应发工资']=df['销售额']*df.绩效系数+df.补贴-df.请假扣除 # 计算，公式算法仅作演示"
   ]
  }
 ],
 "metadata": {
  "kernelspec": {
   "display_name": "Python 3",
   "language": "python",
   "name": "python3"
  },
  "language_info": {
   "codemirror_mode": {
    "name": "ipython",
    "version": 3
   },
   "file_extension": ".py",
   "mimetype": "text/x-python",
   "name": "python",
   "nbconvert_exporter": "python",
   "pygments_lexer": "ipython3",
   "version": "3.6.8"
  }
 },
 "nbformat": 4,
 "nbformat_minor": 5
}
