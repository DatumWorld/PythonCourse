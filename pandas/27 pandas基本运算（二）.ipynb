{
 "cells": [
  {
   "cell_type": "markdown",
   "id": "current-chester",
   "metadata": {
    "execution": {
     "iopub.execute_input": "2021-05-10T07:18:52.990449Z",
     "iopub.status.busy": "2021-05-10T07:18:52.990449Z",
     "iopub.status.idle": "2021-05-10T07:18:52.994464Z",
     "shell.execute_reply": "2021-05-10T07:18:52.993452Z",
     "shell.execute_reply.started": "2021-05-10T07:18:52.990449Z"
    }
   },
   "source": [
    "##  pandas基本运算"
   ]
  },
  {
   "cell_type": "markdown",
   "id": "intimate-klein",
   "metadata": {},
   "source": [
    "### 基本运算列之加减乘除(两个表)\n",
    "#### +-*/"
   ]
  },
  {
   "cell_type": "code",
   "execution_count": 1,
   "id": "honey-attempt",
   "metadata": {
    "execution": {
     "iopub.execute_input": "2021-06-17T07:19:17.108090Z",
     "iopub.status.busy": "2021-06-17T07:19:17.108090Z",
     "iopub.status.idle": "2021-06-17T07:19:17.457123Z",
     "shell.execute_reply": "2021-06-17T07:19:17.457123Z",
     "shell.execute_reply.started": "2021-06-17T07:19:17.108090Z"
    }
   },
   "outputs": [],
   "source": [
    "import numpy  as np\n",
    "import pandas as pd\n",
    "from faker import Faker\n",
    "\n",
    "fake = Faker('zh_CN')\n",
    "df=pd.DataFrame(data=[ [fake.name()] for x in range(10) ],columns=['姓名'])"
   ]
  },
  {
   "cell_type": "code",
   "execution_count": 2,
   "id": "olive-crime",
   "metadata": {
    "execution": {
     "iopub.execute_input": "2021-06-17T07:19:17.458090Z",
     "iopub.status.busy": "2021-06-17T07:19:17.458090Z",
     "iopub.status.idle": "2021-06-17T07:19:17.468096Z",
     "shell.execute_reply": "2021-06-17T07:19:17.467092Z",
     "shell.execute_reply.started": "2021-06-17T07:19:17.458090Z"
    }
   },
   "outputs": [],
   "source": [
    "df['销售额']=np.random.randint(100,100000,size=(10, 1))\n",
    "df['工龄']=np.random.randint(1,10,size=(10, 1))\n",
    "df.insert(0,'部门',['部门1']*5+['部门2']*5)\n",
    "df['绩效系数']=np.random.randint(7,10,size=(10, 1))/10\n",
    "df['补贴']=np.random.randint(10,1000,size=(10, 1))\n",
    "df['请假扣除']=np.random.randint(0,1000,size=(10, 1))"
   ]
  },
  {
   "cell_type": "code",
   "execution_count": 3,
   "id": "thermal-holmes",
   "metadata": {
    "execution": {
     "iopub.execute_input": "2021-06-17T07:19:17.471091Z",
     "iopub.status.busy": "2021-06-17T07:19:17.470104Z",
     "iopub.status.idle": "2021-06-17T07:19:17.490091Z",
     "shell.execute_reply": "2021-06-17T07:19:17.490091Z",
     "shell.execute_reply.started": "2021-06-17T07:19:17.471091Z"
    }
   },
   "outputs": [
    {
     "data": {
      "text/html": [
       "<div>\n",
       "<style scoped>\n",
       "    .dataframe tbody tr th:only-of-type {\n",
       "        vertical-align: middle;\n",
       "    }\n",
       "\n",
       "    .dataframe tbody tr th {\n",
       "        vertical-align: top;\n",
       "    }\n",
       "\n",
       "    .dataframe thead th {\n",
       "        text-align: right;\n",
       "    }\n",
       "</style>\n",
       "<table border=\"1\" class=\"dataframe\">\n",
       "  <thead>\n",
       "    <tr style=\"text-align: right;\">\n",
       "      <th></th>\n",
       "      <th>部门</th>\n",
       "      <th>姓名</th>\n",
       "      <th>销售额</th>\n",
       "      <th>工龄</th>\n",
       "      <th>绩效系数</th>\n",
       "      <th>补贴</th>\n",
       "      <th>请假扣除</th>\n",
       "    </tr>\n",
       "  </thead>\n",
       "  <tbody>\n",
       "    <tr>\n",
       "      <th>0</th>\n",
       "      <td>部门1</td>\n",
       "      <td>熊淑英</td>\n",
       "      <td>16279</td>\n",
       "      <td>2</td>\n",
       "      <td>0.9</td>\n",
       "      <td>839</td>\n",
       "      <td>99</td>\n",
       "    </tr>\n",
       "    <tr>\n",
       "      <th>1</th>\n",
       "      <td>部门1</td>\n",
       "      <td>李浩</td>\n",
       "      <td>30868</td>\n",
       "      <td>3</td>\n",
       "      <td>0.9</td>\n",
       "      <td>309</td>\n",
       "      <td>287</td>\n",
       "    </tr>\n",
       "    <tr>\n",
       "      <th>2</th>\n",
       "      <td>部门1</td>\n",
       "      <td>孙健</td>\n",
       "      <td>468</td>\n",
       "      <td>7</td>\n",
       "      <td>0.9</td>\n",
       "      <td>404</td>\n",
       "      <td>161</td>\n",
       "    </tr>\n",
       "    <tr>\n",
       "      <th>3</th>\n",
       "      <td>部门1</td>\n",
       "      <td>兰娟</td>\n",
       "      <td>15378</td>\n",
       "      <td>2</td>\n",
       "      <td>0.9</td>\n",
       "      <td>244</td>\n",
       "      <td>33</td>\n",
       "    </tr>\n",
       "    <tr>\n",
       "      <th>4</th>\n",
       "      <td>部门1</td>\n",
       "      <td>莫冬梅</td>\n",
       "      <td>75257</td>\n",
       "      <td>6</td>\n",
       "      <td>0.7</td>\n",
       "      <td>934</td>\n",
       "      <td>480</td>\n",
       "    </tr>\n",
       "    <tr>\n",
       "      <th>5</th>\n",
       "      <td>部门2</td>\n",
       "      <td>周兰英</td>\n",
       "      <td>61801</td>\n",
       "      <td>2</td>\n",
       "      <td>0.9</td>\n",
       "      <td>817</td>\n",
       "      <td>814</td>\n",
       "    </tr>\n",
       "    <tr>\n",
       "      <th>6</th>\n",
       "      <td>部门2</td>\n",
       "      <td>李成</td>\n",
       "      <td>54765</td>\n",
       "      <td>1</td>\n",
       "      <td>0.7</td>\n",
       "      <td>136</td>\n",
       "      <td>206</td>\n",
       "    </tr>\n",
       "    <tr>\n",
       "      <th>7</th>\n",
       "      <td>部门2</td>\n",
       "      <td>张浩</td>\n",
       "      <td>59945</td>\n",
       "      <td>7</td>\n",
       "      <td>0.7</td>\n",
       "      <td>465</td>\n",
       "      <td>981</td>\n",
       "    </tr>\n",
       "    <tr>\n",
       "      <th>8</th>\n",
       "      <td>部门2</td>\n",
       "      <td>刘丽华</td>\n",
       "      <td>72184</td>\n",
       "      <td>3</td>\n",
       "      <td>0.7</td>\n",
       "      <td>122</td>\n",
       "      <td>571</td>\n",
       "    </tr>\n",
       "    <tr>\n",
       "      <th>9</th>\n",
       "      <td>部门2</td>\n",
       "      <td>黄婷</td>\n",
       "      <td>1432</td>\n",
       "      <td>3</td>\n",
       "      <td>0.8</td>\n",
       "      <td>665</td>\n",
       "      <td>150</td>\n",
       "    </tr>\n",
       "  </tbody>\n",
       "</table>\n",
       "</div>"
      ],
      "text/plain": [
       "    部门   姓名    销售额  工龄  绩效系数   补贴  请假扣除\n",
       "0  部门1  熊淑英  16279   2   0.9  839    99\n",
       "1  部门1   李浩  30868   3   0.9  309   287\n",
       "2  部门1   孙健    468   7   0.9  404   161\n",
       "3  部门1   兰娟  15378   2   0.9  244    33\n",
       "4  部门1  莫冬梅  75257   6   0.7  934   480\n",
       "5  部门2  周兰英  61801   2   0.9  817   814\n",
       "6  部门2   李成  54765   1   0.7  136   206\n",
       "7  部门2   张浩  59945   7   0.7  465   981\n",
       "8  部门2  刘丽华  72184   3   0.7  122   571\n",
       "9  部门2   黄婷   1432   3   0.8  665   150"
      ]
     },
     "execution_count": 3,
     "metadata": {},
     "output_type": "execute_result"
    }
   ],
   "source": [
    "df # 随机生成的数据"
   ]
  },
  {
   "cell_type": "code",
   "execution_count": 4,
   "id": "tribal-scratch",
   "metadata": {
    "execution": {
     "iopub.execute_input": "2021-06-17T07:20:01.592091Z",
     "iopub.status.busy": "2021-06-17T07:20:01.591093Z",
     "iopub.status.idle": "2021-06-17T07:20:01.596128Z",
     "shell.execute_reply": "2021-06-17T07:20:01.596128Z",
     "shell.execute_reply.started": "2021-06-17T07:20:01.592091Z"
    }
   },
   "outputs": [],
   "source": [
    "df2 =df[['部门','姓名']]"
   ]
  },
  {
   "cell_type": "code",
   "execution_count": 12,
   "id": "parallel-samoa",
   "metadata": {
    "execution": {
     "iopub.execute_input": "2021-06-17T07:26:06.707092Z",
     "iopub.status.busy": "2021-06-17T07:26:06.706092Z",
     "iopub.status.idle": "2021-06-17T07:26:06.718093Z",
     "shell.execute_reply": "2021-06-17T07:26:06.717093Z",
     "shell.execute_reply.started": "2021-06-17T07:26:06.707092Z"
    }
   },
   "outputs": [
    {
     "data": {
      "text/html": [
       "<div>\n",
       "<style scoped>\n",
       "    .dataframe tbody tr th:only-of-type {\n",
       "        vertical-align: middle;\n",
       "    }\n",
       "\n",
       "    .dataframe tbody tr th {\n",
       "        vertical-align: top;\n",
       "    }\n",
       "\n",
       "    .dataframe thead th {\n",
       "        text-align: right;\n",
       "    }\n",
       "</style>\n",
       "<table border=\"1\" class=\"dataframe\">\n",
       "  <thead>\n",
       "    <tr style=\"text-align: right;\">\n",
       "      <th></th>\n",
       "      <th>部门</th>\n",
       "      <th>姓名</th>\n",
       "      <th>补贴调整</th>\n",
       "      <th>请假扣除</th>\n",
       "      <th>应发工资</th>\n",
       "    </tr>\n",
       "  </thead>\n",
       "  <tbody>\n",
       "    <tr>\n",
       "      <th>0</th>\n",
       "      <td>部门1</td>\n",
       "      <td>熊淑英</td>\n",
       "      <td>939</td>\n",
       "      <td>49</td>\n",
       "      <td>15541.1</td>\n",
       "    </tr>\n",
       "    <tr>\n",
       "      <th>1</th>\n",
       "      <td>部门1</td>\n",
       "      <td>李浩</td>\n",
       "      <td>409</td>\n",
       "      <td>237</td>\n",
       "      <td>27953.2</td>\n",
       "    </tr>\n",
       "    <tr>\n",
       "      <th>2</th>\n",
       "      <td>部门1</td>\n",
       "      <td>孙健</td>\n",
       "      <td>504</td>\n",
       "      <td>111</td>\n",
       "      <td>814.2</td>\n",
       "    </tr>\n",
       "    <tr>\n",
       "      <th>3</th>\n",
       "      <td>部门1</td>\n",
       "      <td>兰娟</td>\n",
       "      <td>344</td>\n",
       "      <td>-17</td>\n",
       "      <td>14201.2</td>\n",
       "    </tr>\n",
       "    <tr>\n",
       "      <th>4</th>\n",
       "      <td>部门1</td>\n",
       "      <td>莫冬梅</td>\n",
       "      <td>1034</td>\n",
       "      <td>430</td>\n",
       "      <td>53283.9</td>\n",
       "    </tr>\n",
       "    <tr>\n",
       "      <th>5</th>\n",
       "      <td>部门2</td>\n",
       "      <td>周兰英</td>\n",
       "      <td>917</td>\n",
       "      <td>764</td>\n",
       "      <td>55773.9</td>\n",
       "    </tr>\n",
       "    <tr>\n",
       "      <th>6</th>\n",
       "      <td>部门2</td>\n",
       "      <td>李成</td>\n",
       "      <td>236</td>\n",
       "      <td>156</td>\n",
       "      <td>38415.5</td>\n",
       "    </tr>\n",
       "    <tr>\n",
       "      <th>7</th>\n",
       "      <td>部门2</td>\n",
       "      <td>张浩</td>\n",
       "      <td>565</td>\n",
       "      <td>931</td>\n",
       "      <td>41595.5</td>\n",
       "    </tr>\n",
       "    <tr>\n",
       "      <th>8</th>\n",
       "      <td>部门2</td>\n",
       "      <td>刘丽华</td>\n",
       "      <td>222</td>\n",
       "      <td>521</td>\n",
       "      <td>50229.8</td>\n",
       "    </tr>\n",
       "    <tr>\n",
       "      <th>9</th>\n",
       "      <td>部门2</td>\n",
       "      <td>黄婷</td>\n",
       "      <td>765</td>\n",
       "      <td>100</td>\n",
       "      <td>1810.6</td>\n",
       "    </tr>\n",
       "  </tbody>\n",
       "</table>\n",
       "</div>"
      ],
      "text/plain": [
       "    部门   姓名  补贴调整  请假扣除     应发工资\n",
       "0  部门1  熊淑英   939    49  15541.1\n",
       "1  部门1   李浩   409   237  27953.2\n",
       "2  部门1   孙健   504   111    814.2\n",
       "3  部门1   兰娟   344   -17  14201.2\n",
       "4  部门1  莫冬梅  1034   430  53283.9\n",
       "5  部门2  周兰英   917   764  55773.9\n",
       "6  部门2   李成   236   156  38415.5\n",
       "7  部门2   张浩   565   931  41595.5\n",
       "8  部门2  刘丽华   222   521  50229.8\n",
       "9  部门2   黄婷   765   100   1810.6"
      ]
     },
     "execution_count": 12,
     "metadata": {},
     "output_type": "execute_result"
    }
   ],
   "source": [
    "df2 # 创建df2 ，取df前两列。注意此处索引一样，类比Excel中行号一致"
   ]
  },
  {
   "cell_type": "code",
   "execution_count": 6,
   "id": "adjusted-parameter",
   "metadata": {
    "execution": {
     "iopub.execute_input": "2021-06-17T07:21:57.759094Z",
     "iopub.status.busy": "2021-06-17T07:21:57.759094Z",
     "iopub.status.idle": "2021-06-17T07:21:57.774110Z",
     "shell.execute_reply": "2021-06-17T07:21:57.773098Z",
     "shell.execute_reply.started": "2021-06-17T07:21:57.759094Z"
    }
   },
   "outputs": [],
   "source": [
    "df2.insert(2,'补贴调整',df['补贴']+100) # 加一列"
   ]
  },
  {
   "cell_type": "code",
   "execution_count": 8,
   "id": "dress-confirmation",
   "metadata": {
    "execution": {
     "iopub.execute_input": "2021-06-17T07:22:44.699092Z",
     "iopub.status.busy": "2021-06-17T07:22:44.698094Z",
     "iopub.status.idle": "2021-06-17T07:22:44.711124Z",
     "shell.execute_reply": "2021-06-17T07:22:44.711124Z",
     "shell.execute_reply.started": "2021-06-17T07:22:44.699092Z"
    }
   },
   "outputs": [
    {
     "name": "stderr",
     "output_type": "stream",
     "text": [
      "d:\\datacenterkun\\jupyter\\venv\\lib\\site-packages\\ipykernel_launcher.py:1: SettingWithCopyWarning: \n",
      "A value is trying to be set on a copy of a slice from a DataFrame.\n",
      "Try using .loc[row_indexer,col_indexer] = value instead\n",
      "\n",
      "See the caveats in the documentation: https://pandas.pydata.org/pandas-docs/stable/user_guide/indexing.html#returning-a-view-versus-a-copy\n",
      "  \"\"\"Entry point for launching an IPython kernel.\n"
     ]
    }
   ],
   "source": [
    "df2['请假扣除']=df.请假扣除-50 # 另一种加列方式，虽然有警告，但是可以成功"
   ]
  },
  {
   "cell_type": "code",
   "execution_count": 10,
   "id": "super-kentucky",
   "metadata": {
    "execution": {
     "iopub.execute_input": "2021-06-17T07:24:01.881091Z",
     "iopub.status.busy": "2021-06-17T07:24:01.881091Z",
     "iopub.status.idle": "2021-06-17T07:24:01.892092Z",
     "shell.execute_reply": "2021-06-17T07:24:01.891111Z",
     "shell.execute_reply.started": "2021-06-17T07:24:01.881091Z"
    }
   },
   "outputs": [
    {
     "data": {
      "text/plain": [
       "0    469.500000\n",
       "1    136.333333\n",
       "2     72.000000\n",
       "3    172.000000\n",
       "4    172.333333\n",
       "5    458.500000\n",
       "6    236.000000\n",
       "7     80.714286\n",
       "8     74.000000\n",
       "9    255.000000\n",
       "dtype: float64"
      ]
     },
     "execution_count": 10,
     "metadata": {},
     "output_type": "execute_result"
    }
   ],
   "source": [
    "df2.补贴调整/df.工龄 # 跨表的两列相除。仅仅作为演示"
   ]
  },
  {
   "cell_type": "code",
   "execution_count": 11,
   "id": "junior-netherlands",
   "metadata": {
    "execution": {
     "iopub.execute_input": "2021-06-17T07:26:00.115092Z",
     "iopub.status.busy": "2021-06-17T07:26:00.114099Z",
     "iopub.status.idle": "2021-06-17T07:26:00.122091Z",
     "shell.execute_reply": "2021-06-17T07:26:00.122091Z",
     "shell.execute_reply.started": "2021-06-17T07:26:00.115092Z"
    }
   },
   "outputs": [
    {
     "name": "stderr",
     "output_type": "stream",
     "text": [
      "d:\\datacenterkun\\jupyter\\venv\\lib\\site-packages\\ipykernel_launcher.py:1: SettingWithCopyWarning: \n",
      "A value is trying to be set on a copy of a slice from a DataFrame.\n",
      "Try using .loc[row_indexer,col_indexer] = value instead\n",
      "\n",
      "See the caveats in the documentation: https://pandas.pydata.org/pandas-docs/stable/user_guide/indexing.html#returning-a-view-versus-a-copy\n",
      "  \"\"\"Entry point for launching an IPython kernel.\n"
     ]
    }
   ],
   "source": [
    "df2['应发工资']=df.销售额*df.绩效系数+df2.补贴调整-df2.请假扣除 # 跨表计算。也可以使用insert"
   ]
  }
 ],
 "metadata": {
  "kernelspec": {
   "display_name": "Python 3",
   "language": "python",
   "name": "python3"
  },
  "language_info": {
   "codemirror_mode": {
    "name": "ipython",
    "version": 3
   },
   "file_extension": ".py",
   "mimetype": "text/x-python",
   "name": "python",
   "nbconvert_exporter": "python",
   "pygments_lexer": "ipython3",
   "version": "3.6.8"
  }
 },
 "nbformat": 4,
 "nbformat_minor": 5
}
