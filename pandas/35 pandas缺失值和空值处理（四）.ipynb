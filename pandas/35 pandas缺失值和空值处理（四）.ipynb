{
 "cells": [
  {
   "cell_type": "markdown",
   "id": "senior-essence",
   "metadata": {
    "execution": {
     "iopub.execute_input": "2021-05-10T07:18:52.990449Z",
     "iopub.status.busy": "2021-05-10T07:18:52.990449Z",
     "iopub.status.idle": "2021-05-10T07:18:52.994464Z",
     "shell.execute_reply": "2021-05-10T07:18:52.993452Z",
     "shell.execute_reply.started": "2021-05-10T07:18:52.990449Z"
    }
   },
   "source": [
    "## 35 pandas缺失值/空值处理"
   ]
  },
  {
   "cell_type": "markdown",
   "id": "loved-charter",
   "metadata": {},
   "source": [
    "### fillna 相关的 ffill bfill pad backfill使用。由于后四个用法类似，仅以一个为主举例子"
   ]
  },
  {
   "cell_type": "code",
   "execution_count": 1,
   "id": "classified-performance",
   "metadata": {
    "execution": {
     "iopub.status.idle": "2021-06-25T07:16:03.401797Z",
     "shell.execute_reply": "2021-06-25T07:16:03.401797Z",
     "shell.execute_reply.started": "2021-06-25T07:16:02.918799Z"
    }
   },
   "outputs": [],
   "source": [
    "import  numpy as np\n",
    "import pandas as pd"
   ]
  },
  {
   "cell_type": "code",
   "execution_count": 2,
   "id": "grand-alabama",
   "metadata": {
    "execution": {
     "iopub.execute_input": "2021-06-25T07:16:03.402793Z",
     "iopub.status.busy": "2021-06-25T07:16:03.402793Z",
     "iopub.status.idle": "2021-06-25T07:16:03.410767Z",
     "shell.execute_reply": "2021-06-25T07:16:03.409768Z",
     "shell.execute_reply.started": "2021-06-25T07:16:03.402793Z"
    }
   },
   "outputs": [],
   "source": [
    "df = pd.DataFrame([[np.nan, 2, np.nan, 0],\n",
    "                   [3, 4, np.nan, 1],\n",
    "                   [np.nan, np.nan, np.nan, 5],\n",
    "                   [np.nan, 3, np.nan, 4]],\n",
    "                  columns=list('ABCD'))"
   ]
  },
  {
   "cell_type": "code",
   "execution_count": 3,
   "id": "italic-election",
   "metadata": {
    "execution": {
     "iopub.execute_input": "2021-06-25T07:16:03.415770Z",
     "iopub.status.busy": "2021-06-25T07:16:03.415770Z",
     "iopub.status.idle": "2021-06-25T07:16:03.432768Z",
     "shell.execute_reply": "2021-06-25T07:16:03.432768Z",
     "shell.execute_reply.started": "2021-06-25T07:16:03.415770Z"
    }
   },
   "outputs": [
    {
     "data": {
      "text/html": [
       "<div>\n",
       "<style scoped>\n",
       "    .dataframe tbody tr th:only-of-type {\n",
       "        vertical-align: middle;\n",
       "    }\n",
       "\n",
       "    .dataframe tbody tr th {\n",
       "        vertical-align: top;\n",
       "    }\n",
       "\n",
       "    .dataframe thead th {\n",
       "        text-align: right;\n",
       "    }\n",
       "</style>\n",
       "<table border=\"1\" class=\"dataframe\">\n",
       "  <thead>\n",
       "    <tr style=\"text-align: right;\">\n",
       "      <th></th>\n",
       "      <th>A</th>\n",
       "      <th>B</th>\n",
       "      <th>C</th>\n",
       "      <th>D</th>\n",
       "    </tr>\n",
       "  </thead>\n",
       "  <tbody>\n",
       "    <tr>\n",
       "      <th>0</th>\n",
       "      <td>NaN</td>\n",
       "      <td>2.0</td>\n",
       "      <td>NaN</td>\n",
       "      <td>0</td>\n",
       "    </tr>\n",
       "    <tr>\n",
       "      <th>1</th>\n",
       "      <td>3.0</td>\n",
       "      <td>4.0</td>\n",
       "      <td>NaN</td>\n",
       "      <td>1</td>\n",
       "    </tr>\n",
       "    <tr>\n",
       "      <th>2</th>\n",
       "      <td>NaN</td>\n",
       "      <td>NaN</td>\n",
       "      <td>NaN</td>\n",
       "      <td>5</td>\n",
       "    </tr>\n",
       "    <tr>\n",
       "      <th>3</th>\n",
       "      <td>NaN</td>\n",
       "      <td>3.0</td>\n",
       "      <td>NaN</td>\n",
       "      <td>4</td>\n",
       "    </tr>\n",
       "  </tbody>\n",
       "</table>\n",
       "</div>"
      ],
      "text/plain": [
       "     A    B   C  D\n",
       "0  NaN  2.0 NaN  0\n",
       "1  3.0  4.0 NaN  1\n",
       "2  NaN  NaN NaN  5\n",
       "3  NaN  3.0 NaN  4"
      ]
     },
     "execution_count": 3,
     "metadata": {},
     "output_type": "execute_result"
    }
   ],
   "source": [
    "df"
   ]
  },
  {
   "cell_type": "code",
   "execution_count": 4,
   "id": "positive-banks",
   "metadata": {
    "execution": {
     "iopub.execute_input": "2021-06-25T07:16:03.433766Z",
     "iopub.status.busy": "2021-06-25T07:16:03.433766Z",
     "iopub.status.idle": "2021-06-25T07:16:03.489768Z",
     "shell.execute_reply": "2021-06-25T07:16:03.488771Z",
     "shell.execute_reply.started": "2021-06-25T07:16:03.433766Z"
    }
   },
   "outputs": [
    {
     "ename": "NameError",
     "evalue": "name 'tran_values' is not defined",
     "output_type": "error",
     "traceback": [
      "\u001b[1;31m---------------------------------------------------------------------------\u001b[0m",
      "\u001b[1;31mNameError\u001b[0m                                 Traceback (most recent call last)",
      "\u001b[1;32m<ipython-input-4-640f0b2eb936>\u001b[0m in \u001b[0;36m<module>\u001b[1;34m\u001b[0m\n\u001b[1;32m----> 1\u001b[1;33m \u001b[0mdf\u001b[0m\u001b[1;33m.\u001b[0m\u001b[0mfillna\u001b[0m\u001b[1;33m(\u001b[0m\u001b[0mvalue\u001b[0m\u001b[1;33m=\u001b[0m\u001b[0mtran_values\u001b[0m\u001b[1;33m,\u001b[0m\u001b[0mdowncast\u001b[0m\u001b[1;33m=\u001b[0m\u001b[1;34m'infer'\u001b[0m\u001b[1;33m)\u001b[0m \u001b[1;31m# fillna  的downcast 类型推断转换\u001b[0m\u001b[1;33m\u001b[0m\u001b[1;33m\u001b[0m\u001b[0m\n\u001b[0m",
      "\u001b[1;31mNameError\u001b[0m: name 'tran_values' is not defined"
     ]
    }
   ],
   "source": [
    "df.fillna(value=tran_values,downcast='infer') # fillna  的downcast 类型推断转换"
   ]
  },
  {
   "cell_type": "code",
   "execution_count": 7,
   "id": "dental-stuart",
   "metadata": {
    "execution": {
     "iopub.execute_input": "2021-06-25T07:16:41.396766Z",
     "iopub.status.busy": "2021-06-25T07:16:41.395766Z",
     "iopub.status.idle": "2021-06-25T07:16:41.406777Z",
     "shell.execute_reply": "2021-06-25T07:16:41.404769Z",
     "shell.execute_reply.started": "2021-06-25T07:16:41.396766Z"
    }
   },
   "outputs": [
    {
     "data": {
      "text/html": [
       "<div>\n",
       "<style scoped>\n",
       "    .dataframe tbody tr th:only-of-type {\n",
       "        vertical-align: middle;\n",
       "    }\n",
       "\n",
       "    .dataframe tbody tr th {\n",
       "        vertical-align: top;\n",
       "    }\n",
       "\n",
       "    .dataframe thead th {\n",
       "        text-align: right;\n",
       "    }\n",
       "</style>\n",
       "<table border=\"1\" class=\"dataframe\">\n",
       "  <thead>\n",
       "    <tr style=\"text-align: right;\">\n",
       "      <th></th>\n",
       "      <th>A</th>\n",
       "      <th>B</th>\n",
       "      <th>C</th>\n",
       "      <th>D</th>\n",
       "    </tr>\n",
       "  </thead>\n",
       "  <tbody>\n",
       "    <tr>\n",
       "      <th>0</th>\n",
       "      <td>1.0</td>\n",
       "      <td>2.0</td>\n",
       "      <td>3.0</td>\n",
       "      <td>0</td>\n",
       "    </tr>\n",
       "    <tr>\n",
       "      <th>1</th>\n",
       "      <td>3.0</td>\n",
       "      <td>4.0</td>\n",
       "      <td>3.0</td>\n",
       "      <td>1</td>\n",
       "    </tr>\n",
       "    <tr>\n",
       "      <th>2</th>\n",
       "      <td>1.0</td>\n",
       "      <td>2.0</td>\n",
       "      <td>3.0</td>\n",
       "      <td>5</td>\n",
       "    </tr>\n",
       "    <tr>\n",
       "      <th>3</th>\n",
       "      <td>1.0</td>\n",
       "      <td>3.0</td>\n",
       "      <td>3.0</td>\n",
       "      <td>4</td>\n",
       "    </tr>\n",
       "  </tbody>\n",
       "</table>\n",
       "</div>"
      ],
      "text/plain": [
       "     A    B    C  D\n",
       "0  1.0  2.0  3.0  0\n",
       "1  3.0  4.0  3.0  1\n",
       "2  1.0  2.0  3.0  5\n",
       "3  1.0  3.0  3.0  4"
      ]
     },
     "execution_count": 7,
     "metadata": {},
     "output_type": "execute_result"
    }
   ],
   "source": [
    "tran_values={'A':1,'B':2,'C':3,'D':4} # 将各列空对应替换\n",
    "df.fillna(value=tran_values)"
   ]
  },
  {
   "cell_type": "code",
   "execution_count": null,
   "id": "broad-riverside",
   "metadata": {
    "execution": {
     "iopub.status.busy": "2021-06-25T07:16:03.491769Z",
     "iopub.status.idle": "2021-06-25T07:16:03.492768Z",
     "shell.execute_reply": "2021-06-25T07:16:03.491769Z"
    }
   },
   "outputs": [],
   "source": [
    "df.B.pad(downcast='int') # 填充，同时进行类型转换。尝试转换int "
   ]
  },
  {
   "cell_type": "code",
   "execution_count": null,
   "id": "threatened-cleaner",
   "metadata": {
    "execution": {
     "iopub.status.busy": "2021-06-25T07:16:03.492768Z",
     "iopub.status.idle": "2021-06-25T07:16:03.492768Z",
     "shell.execute_reply": "2021-06-25T07:16:03.492768Z"
    }
   },
   "outputs": [],
   "source": [
    "df.B.pad(downcast='infer') # 填充，同时进行类型转换。infer 是推断方式"
   ]
  },
  {
   "cell_type": "code",
   "execution_count": null,
   "id": "biological-browser",
   "metadata": {
    "execution": {
     "iopub.status.busy": "2021-06-25T07:16:03.493766Z",
     "iopub.status.idle": "2021-06-25T07:16:03.493766Z",
     "shell.execute_reply": "2021-06-25T07:16:03.493766Z"
    }
   },
   "outputs": [],
   "source": [
    "df.A.pad() # 在单列上使用"
   ]
  }
 ],
 "metadata": {
  "kernelspec": {
   "display_name": "Python 3",
   "language": "python",
   "name": "python3"
  },
  "language_info": {
   "codemirror_mode": {
    "name": "ipython",
    "version": 3
   },
   "file_extension": ".py",
   "mimetype": "text/x-python",
   "name": "python",
   "nbconvert_exporter": "python",
   "pygments_lexer": "ipython3",
   "version": "3.6.8"
  }
 },
 "nbformat": 4,
 "nbformat_minor": 5
}
