{
 "cells": [
  {
   "cell_type": "markdown",
   "id": "excessive-ending",
   "metadata": {
    "execution": {
     "iopub.execute_input": "2021-05-10T07:18:52.990449Z",
     "iopub.status.busy": "2021-05-10T07:18:52.990449Z",
     "iopub.status.idle": "2021-05-10T07:18:52.994464Z",
     "shell.execute_reply": "2021-05-10T07:18:52.993452Z",
     "shell.execute_reply.started": "2021-05-10T07:18:52.990449Z"
    }
   },
   "source": [
    "## 37 pandas索引\n",
    "###  set_index "
   ]
  },
  {
   "cell_type": "markdown",
   "id": "brutal-cherry",
   "metadata": {
    "heading_collapsed": true
   },
   "source": [
    "### 创建数据"
   ]
  },
  {
   "cell_type": "code",
   "execution_count": 1,
   "id": "prompt-validation",
   "metadata": {
    "ExecuteTime": {
     "end_time": "2021-06-28T08:03:26.728356Z",
     "start_time": "2021-06-28T08:03:26.483318Z"
    },
    "execution": {
     "iopub.status.idle": "2021-06-29T03:21:58.015556Z",
     "shell.execute_reply": "2021-06-29T03:21:58.015556Z",
     "shell.execute_reply.started": "2021-06-29T03:21:57.714556Z"
    },
    "hidden": true
   },
   "outputs": [],
   "source": [
    "import numpy  as np\n",
    "import pandas as pd\n",
    "from faker import Faker\n",
    "\n",
    "fake = Faker('zh_CN')\n",
    "df=pd.DataFrame(data=[ [fake.name()] for x in range(6) ],columns=['name'])\n",
    "df['销售额']=np.random.randint(100,100000,size=(6, 1))\n",
    "df.insert(0,'dept',['部门1']*3+['部门2']*3)"
   ]
  },
  {
   "cell_type": "code",
   "execution_count": 2,
   "id": "breathing-filling",
   "metadata": {
    "ExecuteTime": {
     "end_time": "2021-06-28T08:03:26.733320Z",
     "start_time": "2021-06-28T08:03:26.729350Z"
    },
    "execution": {
     "iopub.execute_input": "2021-06-29T03:21:58.016556Z",
     "iopub.status.busy": "2021-06-29T03:21:58.016556Z",
     "iopub.status.idle": "2021-06-29T03:21:58.032562Z",
     "shell.execute_reply": "2021-06-29T03:21:58.030563Z",
     "shell.execute_reply.started": "2021-06-29T03:21:58.016556Z"
    },
    "hidden": true
   },
   "outputs": [
    {
     "data": {
      "text/html": [
       "<div>\n",
       "<style scoped>\n",
       "    .dataframe tbody tr th:only-of-type {\n",
       "        vertical-align: middle;\n",
       "    }\n",
       "\n",
       "    .dataframe tbody tr th {\n",
       "        vertical-align: top;\n",
       "    }\n",
       "\n",
       "    .dataframe thead th {\n",
       "        text-align: right;\n",
       "    }\n",
       "</style>\n",
       "<table border=\"1\" class=\"dataframe\">\n",
       "  <thead>\n",
       "    <tr style=\"text-align: right;\">\n",
       "      <th></th>\n",
       "      <th>dept</th>\n",
       "      <th>name</th>\n",
       "      <th>销售额</th>\n",
       "    </tr>\n",
       "  </thead>\n",
       "  <tbody>\n",
       "    <tr>\n",
       "      <th>0</th>\n",
       "      <td>部门1</td>\n",
       "      <td>史刚</td>\n",
       "      <td>51590</td>\n",
       "    </tr>\n",
       "    <tr>\n",
       "      <th>1</th>\n",
       "      <td>部门1</td>\n",
       "      <td>王秀珍</td>\n",
       "      <td>50001</td>\n",
       "    </tr>\n",
       "    <tr>\n",
       "      <th>2</th>\n",
       "      <td>部门1</td>\n",
       "      <td>张杨</td>\n",
       "      <td>35937</td>\n",
       "    </tr>\n",
       "    <tr>\n",
       "      <th>3</th>\n",
       "      <td>部门2</td>\n",
       "      <td>文勇</td>\n",
       "      <td>87271</td>\n",
       "    </tr>\n",
       "    <tr>\n",
       "      <th>4</th>\n",
       "      <td>部门2</td>\n",
       "      <td>王彬</td>\n",
       "      <td>20007</td>\n",
       "    </tr>\n",
       "    <tr>\n",
       "      <th>5</th>\n",
       "      <td>部门2</td>\n",
       "      <td>史峰</td>\n",
       "      <td>62859</td>\n",
       "    </tr>\n",
       "  </tbody>\n",
       "</table>\n",
       "</div>"
      ],
      "text/plain": [
       "  dept name    销售额\n",
       "0  部门1   史刚  51590\n",
       "1  部门1  王秀珍  50001\n",
       "2  部门1   张杨  35937\n",
       "3  部门2   文勇  87271\n",
       "4  部门2   王彬  20007\n",
       "5  部门2   史峰  62859"
      ]
     },
     "execution_count": 2,
     "metadata": {},
     "output_type": "execute_result"
    }
   ],
   "source": [
    "df"
   ]
  },
  {
   "cell_type": "code",
   "execution_count": 6,
   "id": "presidential-karaoke",
   "metadata": {
    "execution": {
     "iopub.execute_input": "2021-06-29T03:25:45.100561Z",
     "iopub.status.busy": "2021-06-29T03:25:45.099560Z",
     "iopub.status.idle": "2021-06-29T03:25:45.113560Z",
     "shell.execute_reply": "2021-06-29T03:25:45.110565Z",
     "shell.execute_reply.started": "2021-06-29T03:25:45.100561Z"
    }
   },
   "outputs": [
    {
     "data": {
      "text/html": [
       "<div>\n",
       "<style scoped>\n",
       "    .dataframe tbody tr th:only-of-type {\n",
       "        vertical-align: middle;\n",
       "    }\n",
       "\n",
       "    .dataframe tbody tr th {\n",
       "        vertical-align: top;\n",
       "    }\n",
       "\n",
       "    .dataframe thead th {\n",
       "        text-align: right;\n",
       "    }\n",
       "</style>\n",
       "<table border=\"1\" class=\"dataframe\">\n",
       "  <thead>\n",
       "    <tr style=\"text-align: right;\">\n",
       "      <th></th>\n",
       "      <th>name</th>\n",
       "      <th>销售额</th>\n",
       "    </tr>\n",
       "    <tr>\n",
       "      <th>dept</th>\n",
       "      <th></th>\n",
       "      <th></th>\n",
       "    </tr>\n",
       "  </thead>\n",
       "  <tbody>\n",
       "    <tr>\n",
       "      <th>部门1</th>\n",
       "      <td>史刚</td>\n",
       "      <td>51590</td>\n",
       "    </tr>\n",
       "    <tr>\n",
       "      <th>部门1</th>\n",
       "      <td>王秀珍</td>\n",
       "      <td>50001</td>\n",
       "    </tr>\n",
       "    <tr>\n",
       "      <th>部门1</th>\n",
       "      <td>张杨</td>\n",
       "      <td>35937</td>\n",
       "    </tr>\n",
       "    <tr>\n",
       "      <th>部门2</th>\n",
       "      <td>文勇</td>\n",
       "      <td>87271</td>\n",
       "    </tr>\n",
       "    <tr>\n",
       "      <th>部门2</th>\n",
       "      <td>王彬</td>\n",
       "      <td>20007</td>\n",
       "    </tr>\n",
       "    <tr>\n",
       "      <th>部门2</th>\n",
       "      <td>史峰</td>\n",
       "      <td>62859</td>\n",
       "    </tr>\n",
       "  </tbody>\n",
       "</table>\n",
       "</div>"
      ],
      "text/plain": [
       "     name    销售额\n",
       "dept            \n",
       "部门1    史刚  51590\n",
       "部门1   王秀珍  50001\n",
       "部门1    张杨  35937\n",
       "部门2    文勇  87271\n",
       "部门2    王彬  20007\n",
       "部门2    史峰  62859"
      ]
     },
     "execution_count": 6,
     "metadata": {},
     "output_type": "execute_result"
    }
   ],
   "source": [
    "df1=df.set_index(['dept']) \n",
    "df1"
   ]
  },
  {
   "cell_type": "code",
   "execution_count": 9,
   "id": "twelve-entertainment",
   "metadata": {
    "execution": {
     "iopub.execute_input": "2021-06-29T03:27:19.052562Z",
     "iopub.status.busy": "2021-06-29T03:27:19.052562Z",
     "iopub.status.idle": "2021-06-29T03:27:19.065572Z",
     "shell.execute_reply": "2021-06-29T03:27:19.063570Z",
     "shell.execute_reply.started": "2021-06-29T03:27:19.052562Z"
    }
   },
   "outputs": [
    {
     "data": {
      "text/html": [
       "<div>\n",
       "<style scoped>\n",
       "    .dataframe tbody tr th:only-of-type {\n",
       "        vertical-align: middle;\n",
       "    }\n",
       "\n",
       "    .dataframe tbody tr th {\n",
       "        vertical-align: top;\n",
       "    }\n",
       "\n",
       "    .dataframe thead th {\n",
       "        text-align: right;\n",
       "    }\n",
       "</style>\n",
       "<table border=\"1\" class=\"dataframe\">\n",
       "  <thead>\n",
       "    <tr style=\"text-align: right;\">\n",
       "      <th></th>\n",
       "      <th></th>\n",
       "      <th>销售额</th>\n",
       "    </tr>\n",
       "    <tr>\n",
       "      <th>dept</th>\n",
       "      <th>name</th>\n",
       "      <th></th>\n",
       "    </tr>\n",
       "  </thead>\n",
       "  <tbody>\n",
       "    <tr>\n",
       "      <th rowspan=\"3\" valign=\"top\">部门1</th>\n",
       "      <th>史刚</th>\n",
       "      <td>51590</td>\n",
       "    </tr>\n",
       "    <tr>\n",
       "      <th>王秀珍</th>\n",
       "      <td>50001</td>\n",
       "    </tr>\n",
       "    <tr>\n",
       "      <th>张杨</th>\n",
       "      <td>35937</td>\n",
       "    </tr>\n",
       "    <tr>\n",
       "      <th rowspan=\"3\" valign=\"top\">部门2</th>\n",
       "      <th>文勇</th>\n",
       "      <td>87271</td>\n",
       "    </tr>\n",
       "    <tr>\n",
       "      <th>王彬</th>\n",
       "      <td>20007</td>\n",
       "    </tr>\n",
       "    <tr>\n",
       "      <th>史峰</th>\n",
       "      <td>62859</td>\n",
       "    </tr>\n",
       "  </tbody>\n",
       "</table>\n",
       "</div>"
      ],
      "text/plain": [
       "             销售额\n",
       "dept name       \n",
       "部门1  史刚    51590\n",
       "     王秀珍   50001\n",
       "     张杨    35937\n",
       "部门2  文勇    87271\n",
       "     王彬    20007\n",
       "     史峰    62859"
      ]
     },
     "execution_count": 9,
     "metadata": {},
     "output_type": "execute_result"
    }
   ],
   "source": [
    "df1.set_index(['name'],append=1) # 添加name列到 索引列"
   ]
  },
  {
   "cell_type": "code",
   "execution_count": 5,
   "id": "mobile-cooking",
   "metadata": {
    "execution": {
     "iopub.execute_input": "2021-06-29T03:24:08.322561Z",
     "iopub.status.busy": "2021-06-29T03:24:08.322561Z",
     "iopub.status.idle": "2021-06-29T03:24:08.335600Z",
     "shell.execute_reply": "2021-06-29T03:24:08.333564Z",
     "shell.execute_reply.started": "2021-06-29T03:24:08.322561Z"
    }
   },
   "outputs": [
    {
     "data": {
      "text/html": [
       "<div>\n",
       "<style scoped>\n",
       "    .dataframe tbody tr th:only-of-type {\n",
       "        vertical-align: middle;\n",
       "    }\n",
       "\n",
       "    .dataframe tbody tr th {\n",
       "        vertical-align: top;\n",
       "    }\n",
       "\n",
       "    .dataframe thead th {\n",
       "        text-align: right;\n",
       "    }\n",
       "</style>\n",
       "<table border=\"1\" class=\"dataframe\">\n",
       "  <thead>\n",
       "    <tr style=\"text-align: right;\">\n",
       "      <th></th>\n",
       "      <th></th>\n",
       "      <th>dept</th>\n",
       "      <th>name</th>\n",
       "      <th>销售额</th>\n",
       "    </tr>\n",
       "    <tr>\n",
       "      <th>dept</th>\n",
       "      <th>name</th>\n",
       "      <th></th>\n",
       "      <th></th>\n",
       "      <th></th>\n",
       "    </tr>\n",
       "  </thead>\n",
       "  <tbody>\n",
       "    <tr>\n",
       "      <th rowspan=\"3\" valign=\"top\">部门1</th>\n",
       "      <th>史刚</th>\n",
       "      <td>部门1</td>\n",
       "      <td>史刚</td>\n",
       "      <td>51590</td>\n",
       "    </tr>\n",
       "    <tr>\n",
       "      <th>王秀珍</th>\n",
       "      <td>部门1</td>\n",
       "      <td>王秀珍</td>\n",
       "      <td>50001</td>\n",
       "    </tr>\n",
       "    <tr>\n",
       "      <th>张杨</th>\n",
       "      <td>部门1</td>\n",
       "      <td>张杨</td>\n",
       "      <td>35937</td>\n",
       "    </tr>\n",
       "    <tr>\n",
       "      <th rowspan=\"3\" valign=\"top\">部门2</th>\n",
       "      <th>文勇</th>\n",
       "      <td>部门2</td>\n",
       "      <td>文勇</td>\n",
       "      <td>87271</td>\n",
       "    </tr>\n",
       "    <tr>\n",
       "      <th>王彬</th>\n",
       "      <td>部门2</td>\n",
       "      <td>王彬</td>\n",
       "      <td>20007</td>\n",
       "    </tr>\n",
       "    <tr>\n",
       "      <th>史峰</th>\n",
       "      <td>部门2</td>\n",
       "      <td>史峰</td>\n",
       "      <td>62859</td>\n",
       "    </tr>\n",
       "  </tbody>\n",
       "</table>\n",
       "</div>"
      ],
      "text/plain": [
       "          dept name    销售额\n",
       "dept name                 \n",
       "部门1  史刚    部门1   史刚  51590\n",
       "     王秀珍   部门1  王秀珍  50001\n",
       "     张杨    部门1   张杨  35937\n",
       "部门2  文勇    部门2   文勇  87271\n",
       "     王彬    部门2   王彬  20007\n",
       "     史峰    部门2   史峰  62859"
      ]
     },
     "execution_count": 5,
     "metadata": {},
     "output_type": "execute_result"
    }
   ],
   "source": [
    "df.set_index(['dept','name'],drop=False) # 设置索引dept 和names,同时并不删除 原数据列中的这两列"
   ]
  },
  {
   "cell_type": "code",
   "execution_count": 4,
   "id": "joined-briefs",
   "metadata": {
    "execution": {
     "iopub.execute_input": "2021-06-29T03:23:15.981562Z",
     "iopub.status.busy": "2021-06-29T03:23:15.981562Z",
     "iopub.status.idle": "2021-06-29T03:23:15.994562Z",
     "shell.execute_reply": "2021-06-29T03:23:15.993591Z",
     "shell.execute_reply.started": "2021-06-29T03:23:15.981562Z"
    }
   },
   "outputs": [
    {
     "data": {
      "text/html": [
       "<div>\n",
       "<style scoped>\n",
       "    .dataframe tbody tr th:only-of-type {\n",
       "        vertical-align: middle;\n",
       "    }\n",
       "\n",
       "    .dataframe tbody tr th {\n",
       "        vertical-align: top;\n",
       "    }\n",
       "\n",
       "    .dataframe thead th {\n",
       "        text-align: right;\n",
       "    }\n",
       "</style>\n",
       "<table border=\"1\" class=\"dataframe\">\n",
       "  <thead>\n",
       "    <tr style=\"text-align: right;\">\n",
       "      <th></th>\n",
       "      <th></th>\n",
       "      <th>销售额</th>\n",
       "    </tr>\n",
       "    <tr>\n",
       "      <th>dept</th>\n",
       "      <th>name</th>\n",
       "      <th></th>\n",
       "    </tr>\n",
       "  </thead>\n",
       "  <tbody>\n",
       "    <tr>\n",
       "      <th rowspan=\"3\" valign=\"top\">部门1</th>\n",
       "      <th>史刚</th>\n",
       "      <td>51590</td>\n",
       "    </tr>\n",
       "    <tr>\n",
       "      <th>王秀珍</th>\n",
       "      <td>50001</td>\n",
       "    </tr>\n",
       "    <tr>\n",
       "      <th>张杨</th>\n",
       "      <td>35937</td>\n",
       "    </tr>\n",
       "    <tr>\n",
       "      <th rowspan=\"3\" valign=\"top\">部门2</th>\n",
       "      <th>文勇</th>\n",
       "      <td>87271</td>\n",
       "    </tr>\n",
       "    <tr>\n",
       "      <th>王彬</th>\n",
       "      <td>20007</td>\n",
       "    </tr>\n",
       "    <tr>\n",
       "      <th>史峰</th>\n",
       "      <td>62859</td>\n",
       "    </tr>\n",
       "  </tbody>\n",
       "</table>\n",
       "</div>"
      ],
      "text/plain": [
       "             销售额\n",
       "dept name       \n",
       "部门1  史刚    51590\n",
       "     王秀珍   50001\n",
       "     张杨    35937\n",
       "部门2  文勇    87271\n",
       "     王彬    20007\n",
       "     史峰    62859"
      ]
     },
     "execution_count": 4,
     "metadata": {},
     "output_type": "execute_result"
    }
   ],
   "source": [
    "df.set_index(['dept','name']) # 设置索引dept 和name"
   ]
  },
  {
   "cell_type": "code",
   "execution_count": 3,
   "id": "seven-independence",
   "metadata": {
    "execution": {
     "iopub.execute_input": "2021-06-29T03:22:23.419559Z",
     "iopub.status.busy": "2021-06-29T03:22:23.419559Z",
     "iopub.status.idle": "2021-06-29T03:22:23.432591Z",
     "shell.execute_reply": "2021-06-29T03:22:23.432591Z",
     "shell.execute_reply.started": "2021-06-29T03:22:23.419559Z"
    }
   },
   "outputs": [
    {
     "data": {
      "text/html": [
       "<div>\n",
       "<style scoped>\n",
       "    .dataframe tbody tr th:only-of-type {\n",
       "        vertical-align: middle;\n",
       "    }\n",
       "\n",
       "    .dataframe tbody tr th {\n",
       "        vertical-align: top;\n",
       "    }\n",
       "\n",
       "    .dataframe thead th {\n",
       "        text-align: right;\n",
       "    }\n",
       "</style>\n",
       "<table border=\"1\" class=\"dataframe\">\n",
       "  <thead>\n",
       "    <tr style=\"text-align: right;\">\n",
       "      <th></th>\n",
       "      <th>name</th>\n",
       "      <th>销售额</th>\n",
       "    </tr>\n",
       "    <tr>\n",
       "      <th>dept</th>\n",
       "      <th></th>\n",
       "      <th></th>\n",
       "    </tr>\n",
       "  </thead>\n",
       "  <tbody>\n",
       "    <tr>\n",
       "      <th>部门1</th>\n",
       "      <td>史刚</td>\n",
       "      <td>51590</td>\n",
       "    </tr>\n",
       "    <tr>\n",
       "      <th>部门1</th>\n",
       "      <td>王秀珍</td>\n",
       "      <td>50001</td>\n",
       "    </tr>\n",
       "    <tr>\n",
       "      <th>部门1</th>\n",
       "      <td>张杨</td>\n",
       "      <td>35937</td>\n",
       "    </tr>\n",
       "    <tr>\n",
       "      <th>部门2</th>\n",
       "      <td>文勇</td>\n",
       "      <td>87271</td>\n",
       "    </tr>\n",
       "    <tr>\n",
       "      <th>部门2</th>\n",
       "      <td>王彬</td>\n",
       "      <td>20007</td>\n",
       "    </tr>\n",
       "    <tr>\n",
       "      <th>部门2</th>\n",
       "      <td>史峰</td>\n",
       "      <td>62859</td>\n",
       "    </tr>\n",
       "  </tbody>\n",
       "</table>\n",
       "</div>"
      ],
      "text/plain": [
       "     name    销售额\n",
       "dept            \n",
       "部门1    史刚  51590\n",
       "部门1   王秀珍  50001\n",
       "部门1    张杨  35937\n",
       "部门2    文勇  87271\n",
       "部门2    王彬  20007\n",
       "部门2    史峰  62859"
      ]
     },
     "execution_count": 3,
     "metadata": {},
     "output_type": "execute_result"
    }
   ],
   "source": [
    "df.set_index('dept') # 设置索引dept"
   ]
  }
 ],
 "metadata": {
  "kernelspec": {
   "display_name": "Python 3",
   "language": "python",
   "name": "python3"
  },
  "language_info": {
   "codemirror_mode": {
    "name": "ipython",
    "version": 3
   },
   "file_extension": ".py",
   "mimetype": "text/x-python",
   "name": "python",
   "nbconvert_exporter": "python",
   "pygments_lexer": "ipython3",
   "version": "3.6.8"
  },
  "toc": {
   "base_numbering": 1,
   "nav_menu": {},
   "number_sections": true,
   "sideBar": true,
   "skip_h1_title": false,
   "title_cell": "Table of Contents",
   "title_sidebar": "Contents",
   "toc_cell": false,
   "toc_position": {},
   "toc_section_display": true,
   "toc_window_display": false
  },
  "varInspector": {
   "cols": {
    "lenName": 16,
    "lenType": 16,
    "lenVar": 40
   },
   "kernels_config": {
    "python": {
     "delete_cmd_postfix": "",
     "delete_cmd_prefix": "del ",
     "library": "var_list.py",
     "varRefreshCmd": "print(var_dic_list())"
    },
    "r": {
     "delete_cmd_postfix": ") ",
     "delete_cmd_prefix": "rm(",
     "library": "var_list.r",
     "varRefreshCmd": "cat(var_dic_list()) "
    }
   },
   "types_to_exclude": [
    "module",
    "function",
    "builtin_function_or_method",
    "instance",
    "_Feature"
   ],
   "window_display": false
  }
 },
 "nbformat": 4,
 "nbformat_minor": 5
}
