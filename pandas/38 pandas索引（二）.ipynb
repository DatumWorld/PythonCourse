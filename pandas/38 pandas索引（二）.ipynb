{
 "cells": [
  {
   "cell_type": "markdown",
   "id": "aware-research",
   "metadata": {
    "execution": {
     "iopub.execute_input": "2021-05-10T07:18:52.990449Z",
     "iopub.status.busy": "2021-05-10T07:18:52.990449Z",
     "iopub.status.idle": "2021-05-10T07:18:52.994464Z",
     "shell.execute_reply": "2021-05-10T07:18:52.993452Z",
     "shell.execute_reply.started": "2021-05-10T07:18:52.990449Z"
    }
   },
   "source": [
    "## 38 pandas索引（二）\n",
    "###  reset_index 移除索引"
   ]
  },
  {
   "cell_type": "markdown",
   "id": "clear-thomson",
   "metadata": {
    "heading_collapsed": true
   },
   "source": [
    "### 创建数据"
   ]
  },
  {
   "cell_type": "code",
   "execution_count": 1,
   "id": "blond-cookie",
   "metadata": {
    "ExecuteTime": {
     "end_time": "2021-06-28T08:03:26.728356Z",
     "start_time": "2021-06-28T08:03:26.483318Z"
    },
    "execution": {
     "iopub.status.idle": "2021-06-30T07:05:16.549688Z",
     "shell.execute_reply": "2021-06-30T07:05:16.549688Z",
     "shell.execute_reply.started": "2021-06-30T07:05:16.237663Z"
    },
    "hidden": true
   },
   "outputs": [],
   "source": [
    "import numpy  as np\n",
    "import pandas as pd\n",
    "from faker import Faker\n",
    "\n",
    "fake = Faker('zh_CN')\n",
    "df=pd.DataFrame(data=[ [fake.name()] for x in range(6) ],columns=['name'])\n",
    "df['销售额']=np.random.randint(100,100000,size=(6, 1))\n",
    "df.insert(0,'dept',['部门1']*3+['部门2']*3)"
   ]
  },
  {
   "cell_type": "code",
   "execution_count": 10,
   "id": "smart-bottom",
   "metadata": {
    "ExecuteTime": {
     "end_time": "2021-06-28T08:03:26.733320Z",
     "start_time": "2021-06-28T08:03:26.729350Z"
    },
    "execution": {
     "iopub.execute_input": "2021-06-30T07:10:19.898663Z",
     "iopub.status.busy": "2021-06-30T07:10:19.898663Z",
     "iopub.status.idle": "2021-06-30T07:10:19.908693Z",
     "shell.execute_reply": "2021-06-30T07:10:19.908693Z",
     "shell.execute_reply.started": "2021-06-30T07:10:19.898663Z"
    },
    "hidden": true
   },
   "outputs": [
    {
     "data": {
      "text/html": [
       "<div>\n",
       "<style scoped>\n",
       "    .dataframe tbody tr th:only-of-type {\n",
       "        vertical-align: middle;\n",
       "    }\n",
       "\n",
       "    .dataframe tbody tr th {\n",
       "        vertical-align: top;\n",
       "    }\n",
       "\n",
       "    .dataframe thead th {\n",
       "        text-align: right;\n",
       "    }\n",
       "</style>\n",
       "<table border=\"1\" class=\"dataframe\">\n",
       "  <thead>\n",
       "    <tr style=\"text-align: right;\">\n",
       "      <th></th>\n",
       "      <th>dept</th>\n",
       "      <th>销售额</th>\n",
       "    </tr>\n",
       "    <tr>\n",
       "      <th>name</th>\n",
       "      <th></th>\n",
       "      <th></th>\n",
       "    </tr>\n",
       "  </thead>\n",
       "  <tbody>\n",
       "    <tr>\n",
       "      <th>崔建军</th>\n",
       "      <td>部门1</td>\n",
       "      <td>51802</td>\n",
       "    </tr>\n",
       "    <tr>\n",
       "      <th>陆文</th>\n",
       "      <td>部门1</td>\n",
       "      <td>89674</td>\n",
       "    </tr>\n",
       "    <tr>\n",
       "      <th>马健</th>\n",
       "      <td>部门1</td>\n",
       "      <td>28343</td>\n",
       "    </tr>\n",
       "    <tr>\n",
       "      <th>李淑兰</th>\n",
       "      <td>部门2</td>\n",
       "      <td>42950</td>\n",
       "    </tr>\n",
       "    <tr>\n",
       "      <th>陈畅</th>\n",
       "      <td>部门2</td>\n",
       "      <td>24397</td>\n",
       "    </tr>\n",
       "    <tr>\n",
       "      <th>刁欣</th>\n",
       "      <td>部门2</td>\n",
       "      <td>99240</td>\n",
       "    </tr>\n",
       "  </tbody>\n",
       "</table>\n",
       "</div>"
      ],
      "text/plain": [
       "     dept    销售额\n",
       "name            \n",
       "崔建军   部门1  51802\n",
       "陆文    部门1  89674\n",
       "马健    部门1  28343\n",
       "李淑兰   部门2  42950\n",
       "陈畅    部门2  24397\n",
       "刁欣    部门2  99240"
      ]
     },
     "execution_count": 10,
     "metadata": {},
     "output_type": "execute_result"
    }
   ],
   "source": [
    "df"
   ]
  },
  {
   "cell_type": "code",
   "execution_count": 9,
   "id": "extended-nightlife",
   "metadata": {
    "execution": {
     "iopub.execute_input": "2021-06-30T07:10:14.855668Z",
     "iopub.status.busy": "2021-06-30T07:10:14.854682Z",
     "iopub.status.idle": "2021-06-30T07:10:14.861663Z",
     "shell.execute_reply": "2021-06-30T07:10:14.861663Z",
     "shell.execute_reply.started": "2021-06-30T07:10:14.855668Z"
    }
   },
   "outputs": [],
   "source": [
    "df.reset_index(level=0,inplace=True) # inplace=True,表示不复制，直接替换df"
   ]
  },
  {
   "cell_type": "code",
   "execution_count": 8,
   "id": "perceived-aaron",
   "metadata": {
    "execution": {
     "iopub.execute_input": "2021-06-30T07:09:19.020662Z",
     "iopub.status.busy": "2021-06-30T07:09:19.019661Z",
     "iopub.status.idle": "2021-06-30T07:09:19.025700Z",
     "shell.execute_reply": "2021-06-30T07:09:19.025700Z",
     "shell.execute_reply.started": "2021-06-30T07:09:19.020662Z"
    }
   },
   "outputs": [
    {
     "data": {
      "text/html": [
       "<div>\n",
       "<style scoped>\n",
       "    .dataframe tbody tr th:only-of-type {\n",
       "        vertical-align: middle;\n",
       "    }\n",
       "\n",
       "    .dataframe tbody tr th {\n",
       "        vertical-align: top;\n",
       "    }\n",
       "\n",
       "    .dataframe thead th {\n",
       "        text-align: right;\n",
       "    }\n",
       "</style>\n",
       "<table border=\"1\" class=\"dataframe\">\n",
       "  <thead>\n",
       "    <tr style=\"text-align: right;\">\n",
       "      <th></th>\n",
       "      <th>销售额</th>\n",
       "    </tr>\n",
       "    <tr>\n",
       "      <th>name</th>\n",
       "      <th></th>\n",
       "    </tr>\n",
       "  </thead>\n",
       "  <tbody>\n",
       "    <tr>\n",
       "      <th>崔建军</th>\n",
       "      <td>51802</td>\n",
       "    </tr>\n",
       "    <tr>\n",
       "      <th>陆文</th>\n",
       "      <td>89674</td>\n",
       "    </tr>\n",
       "    <tr>\n",
       "      <th>马健</th>\n",
       "      <td>28343</td>\n",
       "    </tr>\n",
       "    <tr>\n",
       "      <th>李淑兰</th>\n",
       "      <td>42950</td>\n",
       "    </tr>\n",
       "    <tr>\n",
       "      <th>陈畅</th>\n",
       "      <td>24397</td>\n",
       "    </tr>\n",
       "    <tr>\n",
       "      <th>刁欣</th>\n",
       "      <td>99240</td>\n",
       "    </tr>\n",
       "  </tbody>\n",
       "</table>\n",
       "</div>"
      ],
      "text/plain": [
       "        销售额\n",
       "name       \n",
       "崔建军   51802\n",
       "陆文    89674\n",
       "马健    28343\n",
       "李淑兰   42950\n",
       "陈畅    24397\n",
       "刁欣    99240"
      ]
     },
     "execution_count": 8,
     "metadata": {},
     "output_type": "execute_result"
    }
   ],
   "source": [
    "df.reset_index(level=0,drop=True) # 移除指定层级索引 并 删除"
   ]
  },
  {
   "cell_type": "code",
   "execution_count": 7,
   "id": "shared-recipient",
   "metadata": {
    "execution": {
     "iopub.execute_input": "2021-06-30T07:08:46.738662Z",
     "iopub.status.busy": "2021-06-30T07:08:46.738662Z",
     "iopub.status.idle": "2021-06-30T07:08:46.749668Z",
     "shell.execute_reply": "2021-06-30T07:08:46.746692Z",
     "shell.execute_reply.started": "2021-06-30T07:08:46.738662Z"
    }
   },
   "outputs": [
    {
     "data": {
      "text/html": [
       "<div>\n",
       "<style scoped>\n",
       "    .dataframe tbody tr th:only-of-type {\n",
       "        vertical-align: middle;\n",
       "    }\n",
       "\n",
       "    .dataframe tbody tr th {\n",
       "        vertical-align: top;\n",
       "    }\n",
       "\n",
       "    .dataframe thead th {\n",
       "        text-align: right;\n",
       "    }\n",
       "</style>\n",
       "<table border=\"1\" class=\"dataframe\">\n",
       "  <thead>\n",
       "    <tr style=\"text-align: right;\">\n",
       "      <th></th>\n",
       "      <th>name</th>\n",
       "      <th>销售额</th>\n",
       "    </tr>\n",
       "    <tr>\n",
       "      <th>dept</th>\n",
       "      <th></th>\n",
       "      <th></th>\n",
       "    </tr>\n",
       "  </thead>\n",
       "  <tbody>\n",
       "    <tr>\n",
       "      <th>部门1</th>\n",
       "      <td>崔建军</td>\n",
       "      <td>51802</td>\n",
       "    </tr>\n",
       "    <tr>\n",
       "      <th>部门1</th>\n",
       "      <td>陆文</td>\n",
       "      <td>89674</td>\n",
       "    </tr>\n",
       "    <tr>\n",
       "      <th>部门1</th>\n",
       "      <td>马健</td>\n",
       "      <td>28343</td>\n",
       "    </tr>\n",
       "    <tr>\n",
       "      <th>部门2</th>\n",
       "      <td>李淑兰</td>\n",
       "      <td>42950</td>\n",
       "    </tr>\n",
       "    <tr>\n",
       "      <th>部门2</th>\n",
       "      <td>陈畅</td>\n",
       "      <td>24397</td>\n",
       "    </tr>\n",
       "    <tr>\n",
       "      <th>部门2</th>\n",
       "      <td>刁欣</td>\n",
       "      <td>99240</td>\n",
       "    </tr>\n",
       "  </tbody>\n",
       "</table>\n",
       "</div>"
      ],
      "text/plain": [
       "     name    销售额\n",
       "dept            \n",
       "部门1   崔建军  51802\n",
       "部门1    陆文  89674\n",
       "部门1    马健  28343\n",
       "部门2   李淑兰  42950\n",
       "部门2    陈畅  24397\n",
       "部门2    刁欣  99240"
      ]
     },
     "execution_count": 7,
     "metadata": {},
     "output_type": "execute_result"
    }
   ],
   "source": [
    "df.reset_index(level=1) # 移除指定层级索引，这里移除1层，即name"
   ]
  },
  {
   "cell_type": "code",
   "execution_count": 6,
   "id": "wired-relations",
   "metadata": {
    "execution": {
     "iopub.execute_input": "2021-06-30T07:07:45.570688Z",
     "iopub.status.busy": "2021-06-30T07:07:45.570688Z",
     "iopub.status.idle": "2021-06-30T07:07:45.577661Z",
     "shell.execute_reply": "2021-06-30T07:07:45.577661Z",
     "shell.execute_reply.started": "2021-06-30T07:07:45.570688Z"
    }
   },
   "outputs": [
    {
     "data": {
      "text/html": [
       "<div>\n",
       "<style scoped>\n",
       "    .dataframe tbody tr th:only-of-type {\n",
       "        vertical-align: middle;\n",
       "    }\n",
       "\n",
       "    .dataframe tbody tr th {\n",
       "        vertical-align: top;\n",
       "    }\n",
       "\n",
       "    .dataframe thead th {\n",
       "        text-align: right;\n",
       "    }\n",
       "</style>\n",
       "<table border=\"1\" class=\"dataframe\">\n",
       "  <thead>\n",
       "    <tr style=\"text-align: right;\">\n",
       "      <th></th>\n",
       "      <th>dept</th>\n",
       "      <th>销售额</th>\n",
       "    </tr>\n",
       "    <tr>\n",
       "      <th>name</th>\n",
       "      <th></th>\n",
       "      <th></th>\n",
       "    </tr>\n",
       "  </thead>\n",
       "  <tbody>\n",
       "    <tr>\n",
       "      <th>崔建军</th>\n",
       "      <td>部门1</td>\n",
       "      <td>51802</td>\n",
       "    </tr>\n",
       "    <tr>\n",
       "      <th>陆文</th>\n",
       "      <td>部门1</td>\n",
       "      <td>89674</td>\n",
       "    </tr>\n",
       "    <tr>\n",
       "      <th>马健</th>\n",
       "      <td>部门1</td>\n",
       "      <td>28343</td>\n",
       "    </tr>\n",
       "    <tr>\n",
       "      <th>李淑兰</th>\n",
       "      <td>部门2</td>\n",
       "      <td>42950</td>\n",
       "    </tr>\n",
       "    <tr>\n",
       "      <th>陈畅</th>\n",
       "      <td>部门2</td>\n",
       "      <td>24397</td>\n",
       "    </tr>\n",
       "    <tr>\n",
       "      <th>刁欣</th>\n",
       "      <td>部门2</td>\n",
       "      <td>99240</td>\n",
       "    </tr>\n",
       "  </tbody>\n",
       "</table>\n",
       "</div>"
      ],
      "text/plain": [
       "     dept    销售额\n",
       "name            \n",
       "崔建军   部门1  51802\n",
       "陆文    部门1  89674\n",
       "马健    部门1  28343\n",
       "李淑兰   部门2  42950\n",
       "陈畅    部门2  24397\n",
       "刁欣    部门2  99240"
      ]
     },
     "execution_count": 6,
     "metadata": {},
     "output_type": "execute_result"
    }
   ],
   "source": [
    "df.reset_index(level=0) # 移除指定层级索引，这里移除0层，即dept"
   ]
  },
  {
   "cell_type": "code",
   "execution_count": 5,
   "id": "working-potter",
   "metadata": {
    "execution": {
     "iopub.execute_input": "2021-06-30T07:06:54.569662Z",
     "iopub.status.busy": "2021-06-30T07:06:54.569662Z",
     "iopub.status.idle": "2021-06-30T07:06:54.578666Z",
     "shell.execute_reply": "2021-06-30T07:06:54.577664Z",
     "shell.execute_reply.started": "2021-06-30T07:06:54.569662Z"
    }
   },
   "outputs": [
    {
     "data": {
      "text/html": [
       "<div>\n",
       "<style scoped>\n",
       "    .dataframe tbody tr th:only-of-type {\n",
       "        vertical-align: middle;\n",
       "    }\n",
       "\n",
       "    .dataframe tbody tr th {\n",
       "        vertical-align: top;\n",
       "    }\n",
       "\n",
       "    .dataframe thead th {\n",
       "        text-align: right;\n",
       "    }\n",
       "</style>\n",
       "<table border=\"1\" class=\"dataframe\">\n",
       "  <thead>\n",
       "    <tr style=\"text-align: right;\">\n",
       "      <th></th>\n",
       "      <th>dept</th>\n",
       "      <th>name</th>\n",
       "      <th>销售额</th>\n",
       "    </tr>\n",
       "  </thead>\n",
       "  <tbody>\n",
       "    <tr>\n",
       "      <th>0</th>\n",
       "      <td>部门1</td>\n",
       "      <td>崔建军</td>\n",
       "      <td>51802</td>\n",
       "    </tr>\n",
       "    <tr>\n",
       "      <th>1</th>\n",
       "      <td>部门1</td>\n",
       "      <td>陆文</td>\n",
       "      <td>89674</td>\n",
       "    </tr>\n",
       "    <tr>\n",
       "      <th>2</th>\n",
       "      <td>部门1</td>\n",
       "      <td>马健</td>\n",
       "      <td>28343</td>\n",
       "    </tr>\n",
       "    <tr>\n",
       "      <th>3</th>\n",
       "      <td>部门2</td>\n",
       "      <td>李淑兰</td>\n",
       "      <td>42950</td>\n",
       "    </tr>\n",
       "    <tr>\n",
       "      <th>4</th>\n",
       "      <td>部门2</td>\n",
       "      <td>陈畅</td>\n",
       "      <td>24397</td>\n",
       "    </tr>\n",
       "    <tr>\n",
       "      <th>5</th>\n",
       "      <td>部门2</td>\n",
       "      <td>刁欣</td>\n",
       "      <td>99240</td>\n",
       "    </tr>\n",
       "  </tbody>\n",
       "</table>\n",
       "</div>"
      ],
      "text/plain": [
       "  dept name    销售额\n",
       "0  部门1  崔建军  51802\n",
       "1  部门1   陆文  89674\n",
       "2  部门1   马健  28343\n",
       "3  部门2  李淑兰  42950\n",
       "4  部门2   陈畅  24397\n",
       "5  部门2   刁欣  99240"
      ]
     },
     "execution_count": 5,
     "metadata": {},
     "output_type": "execute_result"
    }
   ],
   "source": [
    "df.reset_index() # 默认移除所有索引"
   ]
  },
  {
   "cell_type": "code",
   "execution_count": 3,
   "id": "dress-peeing",
   "metadata": {
    "execution": {
     "iopub.execute_input": "2021-06-30T07:05:47.060663Z",
     "iopub.status.busy": "2021-06-30T07:05:47.060663Z",
     "iopub.status.idle": "2021-06-30T07:05:47.067662Z",
     "shell.execute_reply": "2021-06-30T07:05:47.066674Z",
     "shell.execute_reply.started": "2021-06-30T07:05:47.060663Z"
    }
   },
   "outputs": [],
   "source": [
    "df.set_index(['dept','name'],inplace=True) # dept和name二级索引。inplace=True 表示不复制直接替换"
   ]
  }
 ],
 "metadata": {
  "kernelspec": {
   "display_name": "Python 3",
   "language": "python",
   "name": "python3"
  },
  "language_info": {
   "codemirror_mode": {
    "name": "ipython",
    "version": 3
   },
   "file_extension": ".py",
   "mimetype": "text/x-python",
   "name": "python",
   "nbconvert_exporter": "python",
   "pygments_lexer": "ipython3",
   "version": "3.6.8"
  },
  "toc": {
   "base_numbering": 1,
   "nav_menu": {},
   "number_sections": true,
   "sideBar": true,
   "skip_h1_title": false,
   "title_cell": "Table of Contents",
   "title_sidebar": "Contents",
   "toc_cell": false,
   "toc_position": {},
   "toc_section_display": true,
   "toc_window_display": false
  },
  "varInspector": {
   "cols": {
    "lenName": 16,
    "lenType": 16,
    "lenVar": 40
   },
   "kernels_config": {
    "python": {
     "delete_cmd_postfix": "",
     "delete_cmd_prefix": "del ",
     "library": "var_list.py",
     "varRefreshCmd": "print(var_dic_list())"
    },
    "r": {
     "delete_cmd_postfix": ") ",
     "delete_cmd_prefix": "rm(",
     "library": "var_list.r",
     "varRefreshCmd": "cat(var_dic_list()) "
    }
   },
   "types_to_exclude": [
    "module",
    "function",
    "builtin_function_or_method",
    "instance",
    "_Feature"
   ],
   "window_display": false
  }
 },
 "nbformat": 4,
 "nbformat_minor": 5
}
