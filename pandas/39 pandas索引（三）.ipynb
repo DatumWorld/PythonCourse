{
 "cells": [
  {
   "cell_type": "markdown",
   "id": "reflected-public",
   "metadata": {
    "execution": {
     "iopub.execute_input": "2021-05-10T07:18:52.990449Z",
     "iopub.status.busy": "2021-05-10T07:18:52.990449Z",
     "iopub.status.idle": "2021-05-10T07:18:52.994464Z",
     "shell.execute_reply": "2021-05-10T07:18:52.993452Z",
     "shell.execute_reply.started": "2021-05-10T07:18:52.990449Z"
    }
   },
   "source": [
    "## 39 pandas索引（三）\n",
    "###  reindex 重新索引"
   ]
  },
  {
   "cell_type": "markdown",
   "id": "meaningful-midnight",
   "metadata": {
    "heading_collapsed": true
   },
   "source": [
    "### 创建数据"
   ]
  },
  {
   "cell_type": "code",
   "execution_count": 1,
   "id": "comprehensive-bolivia",
   "metadata": {
    "ExecuteTime": {
     "end_time": "2021-06-28T08:03:26.728356Z",
     "start_time": "2021-06-28T08:03:26.483318Z"
    },
    "execution": {
     "iopub.status.idle": "2021-07-01T07:47:15.380497Z",
     "shell.execute_reply": "2021-07-01T07:47:15.380497Z",
     "shell.execute_reply.started": "2021-07-01T07:47:15.061496Z"
    },
    "hidden": true
   },
   "outputs": [],
   "source": [
    "import numpy  as np\n",
    "import pandas as pd\n",
    "from faker import Faker\n",
    "\n",
    "fake = Faker('zh_CN')\n",
    "df=pd.DataFrame(data=[ [fake.name()] for x in range(6) ],columns=['name'])\n",
    "df['销售额']=np.random.randint(100,100000,size=(6, 1))\n",
    "df.insert(0,'dept',['部门1']*3+['部门2']*3)"
   ]
  },
  {
   "cell_type": "code",
   "execution_count": 2,
   "id": "electoral-genius",
   "metadata": {
    "ExecuteTime": {
     "end_time": "2021-06-28T08:03:26.733320Z",
     "start_time": "2021-06-28T08:03:26.729350Z"
    },
    "execution": {
     "iopub.execute_input": "2021-07-01T07:47:15.381494Z",
     "iopub.status.busy": "2021-07-01T07:47:15.381494Z",
     "iopub.status.idle": "2021-07-01T07:47:15.402498Z",
     "shell.execute_reply": "2021-07-01T07:47:15.401498Z",
     "shell.execute_reply.started": "2021-07-01T07:47:15.381494Z"
    },
    "hidden": true
   },
   "outputs": [
    {
     "data": {
      "text/html": [
       "<div>\n",
       "<style scoped>\n",
       "    .dataframe tbody tr th:only-of-type {\n",
       "        vertical-align: middle;\n",
       "    }\n",
       "\n",
       "    .dataframe tbody tr th {\n",
       "        vertical-align: top;\n",
       "    }\n",
       "\n",
       "    .dataframe thead th {\n",
       "        text-align: right;\n",
       "    }\n",
       "</style>\n",
       "<table border=\"1\" class=\"dataframe\">\n",
       "  <thead>\n",
       "    <tr style=\"text-align: right;\">\n",
       "      <th></th>\n",
       "      <th>dept</th>\n",
       "      <th>name</th>\n",
       "      <th>销售额</th>\n",
       "    </tr>\n",
       "  </thead>\n",
       "  <tbody>\n",
       "    <tr>\n",
       "      <th>0</th>\n",
       "      <td>部门1</td>\n",
       "      <td>周英</td>\n",
       "      <td>90098</td>\n",
       "    </tr>\n",
       "    <tr>\n",
       "      <th>1</th>\n",
       "      <td>部门1</td>\n",
       "      <td>仇波</td>\n",
       "      <td>62467</td>\n",
       "    </tr>\n",
       "    <tr>\n",
       "      <th>2</th>\n",
       "      <td>部门1</td>\n",
       "      <td>萧晨</td>\n",
       "      <td>59025</td>\n",
       "    </tr>\n",
       "    <tr>\n",
       "      <th>3</th>\n",
       "      <td>部门2</td>\n",
       "      <td>郑冬梅</td>\n",
       "      <td>27919</td>\n",
       "    </tr>\n",
       "    <tr>\n",
       "      <th>4</th>\n",
       "      <td>部门2</td>\n",
       "      <td>周桂香</td>\n",
       "      <td>47450</td>\n",
       "    </tr>\n",
       "    <tr>\n",
       "      <th>5</th>\n",
       "      <td>部门2</td>\n",
       "      <td>李荣</td>\n",
       "      <td>80927</td>\n",
       "    </tr>\n",
       "  </tbody>\n",
       "</table>\n",
       "</div>"
      ],
      "text/plain": [
       "  dept name    销售额\n",
       "0  部门1   周英  90098\n",
       "1  部门1   仇波  62467\n",
       "2  部门1   萧晨  59025\n",
       "3  部门2  郑冬梅  27919\n",
       "4  部门2  周桂香  47450\n",
       "5  部门2   李荣  80927"
      ]
     },
     "execution_count": 2,
     "metadata": {},
     "output_type": "execute_result"
    }
   ],
   "source": [
    "df"
   ]
  },
  {
   "cell_type": "code",
   "execution_count": 15,
   "id": "manual-copper",
   "metadata": {
    "execution": {
     "iopub.execute_input": "2021-07-01T07:56:03.999532Z",
     "iopub.status.busy": "2021-07-01T07:56:03.999532Z",
     "iopub.status.idle": "2021-07-01T07:56:04.013498Z",
     "shell.execute_reply": "2021-07-01T07:56:04.012494Z",
     "shell.execute_reply.started": "2021-07-01T07:56:03.999532Z"
    }
   },
   "outputs": [
    {
     "data": {
      "text/html": [
       "<div>\n",
       "<style scoped>\n",
       "    .dataframe tbody tr th:only-of-type {\n",
       "        vertical-align: middle;\n",
       "    }\n",
       "\n",
       "    .dataframe tbody tr th {\n",
       "        vertical-align: top;\n",
       "    }\n",
       "\n",
       "    .dataframe thead th {\n",
       "        text-align: right;\n",
       "    }\n",
       "</style>\n",
       "<table border=\"1\" class=\"dataframe\">\n",
       "  <thead>\n",
       "    <tr style=\"text-align: right;\">\n",
       "      <th></th>\n",
       "      <th>name</th>\n",
       "      <th>dept</th>\n",
       "      <th>销售额</th>\n",
       "    </tr>\n",
       "  </thead>\n",
       "  <tbody>\n",
       "    <tr>\n",
       "      <th>5</th>\n",
       "      <td>李荣</td>\n",
       "      <td>部门2</td>\n",
       "      <td>80927</td>\n",
       "    </tr>\n",
       "    <tr>\n",
       "      <th>4</th>\n",
       "      <td>周桂香</td>\n",
       "      <td>部门2</td>\n",
       "      <td>47450</td>\n",
       "    </tr>\n",
       "    <tr>\n",
       "      <th>3</th>\n",
       "      <td>郑冬梅</td>\n",
       "      <td>部门2</td>\n",
       "      <td>27919</td>\n",
       "    </tr>\n",
       "    <tr>\n",
       "      <th>2</th>\n",
       "      <td>萧晨</td>\n",
       "      <td>部门1</td>\n",
       "      <td>59025</td>\n",
       "    </tr>\n",
       "    <tr>\n",
       "      <th>1</th>\n",
       "      <td>仇波</td>\n",
       "      <td>部门1</td>\n",
       "      <td>62467</td>\n",
       "    </tr>\n",
       "    <tr>\n",
       "      <th>0</th>\n",
       "      <td>周英</td>\n",
       "      <td>部门1</td>\n",
       "      <td>90098</td>\n",
       "    </tr>\n",
       "    <tr>\n",
       "      <th>6</th>\n",
       "      <td>李荣</td>\n",
       "      <td>部门2</td>\n",
       "      <td>80927</td>\n",
       "    </tr>\n",
       "    <tr>\n",
       "      <th>7</th>\n",
       "      <td>李荣</td>\n",
       "      <td>部门2</td>\n",
       "      <td>80927</td>\n",
       "    </tr>\n",
       "    <tr>\n",
       "      <th>8</th>\n",
       "      <td>李荣</td>\n",
       "      <td>部门2</td>\n",
       "      <td>80927</td>\n",
       "    </tr>\n",
       "  </tbody>\n",
       "</table>\n",
       "</div>"
      ],
      "text/plain": [
       "  name dept    销售额\n",
       "5   李荣  部门2  80927\n",
       "4  周桂香  部门2  47450\n",
       "3  郑冬梅  部门2  27919\n",
       "2   萧晨  部门1  59025\n",
       "1   仇波  部门1  62467\n",
       "0   周英  部门1  90098\n",
       "6   李荣  部门2  80927\n",
       "7   李荣  部门2  80927\n",
       "8   李荣  部门2  80927"
      ]
     },
     "execution_count": 15,
     "metadata": {},
     "output_type": "execute_result"
    }
   ],
   "source": [
    "df.reindex(index=df.index[::-1].values.tolist()+[6,7,8],fill_value=0,method='pad',columns=['name','dept','销售额']) # 索引反向重新排列,新项目 pad模式填充。提示limit在单调有序时才能用\n",
    "# 设置列位置顺序"
   ]
  },
  {
   "cell_type": "code",
   "execution_count": 13,
   "id": "naval-frontier",
   "metadata": {
    "execution": {
     "iopub.execute_input": "2021-07-01T07:55:19.714495Z",
     "iopub.status.busy": "2021-07-01T07:55:19.714495Z",
     "iopub.status.idle": "2021-07-01T07:55:19.729499Z",
     "shell.execute_reply": "2021-07-01T07:55:19.728508Z",
     "shell.execute_reply.started": "2021-07-01T07:55:19.714495Z"
    }
   },
   "outputs": [
    {
     "data": {
      "text/html": [
       "<div>\n",
       "<style scoped>\n",
       "    .dataframe tbody tr th:only-of-type {\n",
       "        vertical-align: middle;\n",
       "    }\n",
       "\n",
       "    .dataframe tbody tr th {\n",
       "        vertical-align: top;\n",
       "    }\n",
       "\n",
       "    .dataframe thead th {\n",
       "        text-align: right;\n",
       "    }\n",
       "</style>\n",
       "<table border=\"1\" class=\"dataframe\">\n",
       "  <thead>\n",
       "    <tr style=\"text-align: right;\">\n",
       "      <th></th>\n",
       "      <th>dept</th>\n",
       "      <th>name</th>\n",
       "    </tr>\n",
       "  </thead>\n",
       "  <tbody>\n",
       "    <tr>\n",
       "      <th>5</th>\n",
       "      <td>部门2</td>\n",
       "      <td>李荣</td>\n",
       "    </tr>\n",
       "    <tr>\n",
       "      <th>4</th>\n",
       "      <td>部门2</td>\n",
       "      <td>周桂香</td>\n",
       "    </tr>\n",
       "    <tr>\n",
       "      <th>3</th>\n",
       "      <td>部门2</td>\n",
       "      <td>郑冬梅</td>\n",
       "    </tr>\n",
       "    <tr>\n",
       "      <th>2</th>\n",
       "      <td>部门1</td>\n",
       "      <td>萧晨</td>\n",
       "    </tr>\n",
       "    <tr>\n",
       "      <th>1</th>\n",
       "      <td>部门1</td>\n",
       "      <td>仇波</td>\n",
       "    </tr>\n",
       "    <tr>\n",
       "      <th>0</th>\n",
       "      <td>部门1</td>\n",
       "      <td>周英</td>\n",
       "    </tr>\n",
       "    <tr>\n",
       "      <th>6</th>\n",
       "      <td>部门2</td>\n",
       "      <td>李荣</td>\n",
       "    </tr>\n",
       "    <tr>\n",
       "      <th>7</th>\n",
       "      <td>部门2</td>\n",
       "      <td>李荣</td>\n",
       "    </tr>\n",
       "    <tr>\n",
       "      <th>8</th>\n",
       "      <td>部门2</td>\n",
       "      <td>李荣</td>\n",
       "    </tr>\n",
       "  </tbody>\n",
       "</table>\n",
       "</div>"
      ],
      "text/plain": [
       "  dept name\n",
       "5  部门2   李荣\n",
       "4  部门2  周桂香\n",
       "3  部门2  郑冬梅\n",
       "2  部门1   萧晨\n",
       "1  部门1   仇波\n",
       "0  部门1   周英\n",
       "6  部门2   李荣\n",
       "7  部门2   李荣\n",
       "8  部门2   李荣"
      ]
     },
     "execution_count": 13,
     "metadata": {},
     "output_type": "execute_result"
    }
   ],
   "source": [
    "df.reindex(index=df.index[::-1].values.tolist()+[6,7,8],fill_value=0,method='pad',columns=['dept','name']) # 索引反向重新排列,新项目 pad模式填充。提示limit在单调有序时才能用\n",
    "# 设置列"
   ]
  },
  {
   "cell_type": "code",
   "execution_count": 10,
   "id": "floating-valve",
   "metadata": {
    "execution": {
     "iopub.execute_input": "2021-07-01T07:52:52.114500Z",
     "iopub.status.busy": "2021-07-01T07:52:52.114500Z",
     "iopub.status.idle": "2021-07-01T07:52:52.125495Z",
     "shell.execute_reply": "2021-07-01T07:52:52.125495Z",
     "shell.execute_reply.started": "2021-07-01T07:52:52.114500Z"
    }
   },
   "outputs": [
    {
     "data": {
      "text/html": [
       "<div>\n",
       "<style scoped>\n",
       "    .dataframe tbody tr th:only-of-type {\n",
       "        vertical-align: middle;\n",
       "    }\n",
       "\n",
       "    .dataframe tbody tr th {\n",
       "        vertical-align: top;\n",
       "    }\n",
       "\n",
       "    .dataframe thead th {\n",
       "        text-align: right;\n",
       "    }\n",
       "</style>\n",
       "<table border=\"1\" class=\"dataframe\">\n",
       "  <thead>\n",
       "    <tr style=\"text-align: right;\">\n",
       "      <th></th>\n",
       "      <th>dept</th>\n",
       "      <th>name</th>\n",
       "      <th>销售额</th>\n",
       "    </tr>\n",
       "  </thead>\n",
       "  <tbody>\n",
       "    <tr>\n",
       "      <th>5</th>\n",
       "      <td>部门2</td>\n",
       "      <td>李荣</td>\n",
       "      <td>80927</td>\n",
       "    </tr>\n",
       "    <tr>\n",
       "      <th>4</th>\n",
       "      <td>部门2</td>\n",
       "      <td>周桂香</td>\n",
       "      <td>47450</td>\n",
       "    </tr>\n",
       "    <tr>\n",
       "      <th>3</th>\n",
       "      <td>部门2</td>\n",
       "      <td>郑冬梅</td>\n",
       "      <td>27919</td>\n",
       "    </tr>\n",
       "    <tr>\n",
       "      <th>2</th>\n",
       "      <td>部门1</td>\n",
       "      <td>萧晨</td>\n",
       "      <td>59025</td>\n",
       "    </tr>\n",
       "    <tr>\n",
       "      <th>1</th>\n",
       "      <td>部门1</td>\n",
       "      <td>仇波</td>\n",
       "      <td>62467</td>\n",
       "    </tr>\n",
       "    <tr>\n",
       "      <th>0</th>\n",
       "      <td>部门1</td>\n",
       "      <td>周英</td>\n",
       "      <td>90098</td>\n",
       "    </tr>\n",
       "    <tr>\n",
       "      <th>6</th>\n",
       "      <td>部门2</td>\n",
       "      <td>李荣</td>\n",
       "      <td>80927</td>\n",
       "    </tr>\n",
       "    <tr>\n",
       "      <th>7</th>\n",
       "      <td>部门2</td>\n",
       "      <td>李荣</td>\n",
       "      <td>80927</td>\n",
       "    </tr>\n",
       "    <tr>\n",
       "      <th>8</th>\n",
       "      <td>部门2</td>\n",
       "      <td>李荣</td>\n",
       "      <td>80927</td>\n",
       "    </tr>\n",
       "  </tbody>\n",
       "</table>\n",
       "</div>"
      ],
      "text/plain": [
       "  dept name    销售额\n",
       "5  部门2   李荣  80927\n",
       "4  部门2  周桂香  47450\n",
       "3  部门2  郑冬梅  27919\n",
       "2  部门1   萧晨  59025\n",
       "1  部门1   仇波  62467\n",
       "0  部门1   周英  90098\n",
       "6  部门2   李荣  80927\n",
       "7  部门2   李荣  80927\n",
       "8  部门2   李荣  80927"
      ]
     },
     "execution_count": 10,
     "metadata": {},
     "output_type": "execute_result"
    }
   ],
   "source": [
    "df.reindex(index=df.index[::-1].values.tolist()+[6,7,8],fill_value=0,method='pad') # 索引反向重新排列,新项目 pad模式填充"
   ]
  },
  {
   "cell_type": "code",
   "execution_count": 9,
   "id": "early-mixer",
   "metadata": {
    "execution": {
     "iopub.execute_input": "2021-07-01T07:51:56.664497Z",
     "iopub.status.busy": "2021-07-01T07:51:56.664497Z",
     "iopub.status.idle": "2021-07-01T07:51:56.675495Z",
     "shell.execute_reply": "2021-07-01T07:51:56.675495Z",
     "shell.execute_reply.started": "2021-07-01T07:51:56.664497Z"
    }
   },
   "outputs": [
    {
     "data": {
      "text/html": [
       "<div>\n",
       "<style scoped>\n",
       "    .dataframe tbody tr th:only-of-type {\n",
       "        vertical-align: middle;\n",
       "    }\n",
       "\n",
       "    .dataframe tbody tr th {\n",
       "        vertical-align: top;\n",
       "    }\n",
       "\n",
       "    .dataframe thead th {\n",
       "        text-align: right;\n",
       "    }\n",
       "</style>\n",
       "<table border=\"1\" class=\"dataframe\">\n",
       "  <thead>\n",
       "    <tr style=\"text-align: right;\">\n",
       "      <th></th>\n",
       "      <th>dept</th>\n",
       "      <th>name</th>\n",
       "      <th>销售额</th>\n",
       "    </tr>\n",
       "  </thead>\n",
       "  <tbody>\n",
       "    <tr>\n",
       "      <th>5</th>\n",
       "      <td>部门2</td>\n",
       "      <td>李荣</td>\n",
       "      <td>80927</td>\n",
       "    </tr>\n",
       "    <tr>\n",
       "      <th>4</th>\n",
       "      <td>部门2</td>\n",
       "      <td>周桂香</td>\n",
       "      <td>47450</td>\n",
       "    </tr>\n",
       "    <tr>\n",
       "      <th>3</th>\n",
       "      <td>部门2</td>\n",
       "      <td>郑冬梅</td>\n",
       "      <td>27919</td>\n",
       "    </tr>\n",
       "    <tr>\n",
       "      <th>2</th>\n",
       "      <td>部门1</td>\n",
       "      <td>萧晨</td>\n",
       "      <td>59025</td>\n",
       "    </tr>\n",
       "    <tr>\n",
       "      <th>1</th>\n",
       "      <td>部门1</td>\n",
       "      <td>仇波</td>\n",
       "      <td>62467</td>\n",
       "    </tr>\n",
       "    <tr>\n",
       "      <th>0</th>\n",
       "      <td>部门1</td>\n",
       "      <td>周英</td>\n",
       "      <td>90098</td>\n",
       "    </tr>\n",
       "    <tr>\n",
       "      <th>6</th>\n",
       "      <td>0</td>\n",
       "      <td>0</td>\n",
       "      <td>0</td>\n",
       "    </tr>\n",
       "    <tr>\n",
       "      <th>7</th>\n",
       "      <td>0</td>\n",
       "      <td>0</td>\n",
       "      <td>0</td>\n",
       "    </tr>\n",
       "    <tr>\n",
       "      <th>8</th>\n",
       "      <td>0</td>\n",
       "      <td>0</td>\n",
       "      <td>0</td>\n",
       "    </tr>\n",
       "  </tbody>\n",
       "</table>\n",
       "</div>"
      ],
      "text/plain": [
       "  dept name    销售额\n",
       "5  部门2   李荣  80927\n",
       "4  部门2  周桂香  47450\n",
       "3  部门2  郑冬梅  27919\n",
       "2  部门1   萧晨  59025\n",
       "1  部门1   仇波  62467\n",
       "0  部门1   周英  90098\n",
       "6    0    0      0\n",
       "7    0    0      0\n",
       "8    0    0      0"
      ]
     },
     "execution_count": 9,
     "metadata": {},
     "output_type": "execute_result"
    }
   ],
   "source": [
    "df.reindex(index=df.index[::-1].values.tolist()+[6,7,8],fill_value=0) # 索引反向重新排列,新项目 默认nan,填充0 可自选其他值"
   ]
  },
  {
   "cell_type": "code",
   "execution_count": 8,
   "id": "dynamic-dealer",
   "metadata": {
    "execution": {
     "iopub.execute_input": "2021-07-01T07:51:08.777497Z",
     "iopub.status.busy": "2021-07-01T07:51:08.777497Z",
     "iopub.status.idle": "2021-07-01T07:51:08.793530Z",
     "shell.execute_reply": "2021-07-01T07:51:08.792502Z",
     "shell.execute_reply.started": "2021-07-01T07:51:08.777497Z"
    }
   },
   "outputs": [
    {
     "data": {
      "text/html": [
       "<div>\n",
       "<style scoped>\n",
       "    .dataframe tbody tr th:only-of-type {\n",
       "        vertical-align: middle;\n",
       "    }\n",
       "\n",
       "    .dataframe tbody tr th {\n",
       "        vertical-align: top;\n",
       "    }\n",
       "\n",
       "    .dataframe thead th {\n",
       "        text-align: right;\n",
       "    }\n",
       "</style>\n",
       "<table border=\"1\" class=\"dataframe\">\n",
       "  <thead>\n",
       "    <tr style=\"text-align: right;\">\n",
       "      <th></th>\n",
       "      <th>dept</th>\n",
       "      <th>name</th>\n",
       "      <th>销售额</th>\n",
       "    </tr>\n",
       "  </thead>\n",
       "  <tbody>\n",
       "    <tr>\n",
       "      <th>5</th>\n",
       "      <td>部门2</td>\n",
       "      <td>李荣</td>\n",
       "      <td>80927.0</td>\n",
       "    </tr>\n",
       "    <tr>\n",
       "      <th>4</th>\n",
       "      <td>部门2</td>\n",
       "      <td>周桂香</td>\n",
       "      <td>47450.0</td>\n",
       "    </tr>\n",
       "    <tr>\n",
       "      <th>3</th>\n",
       "      <td>部门2</td>\n",
       "      <td>郑冬梅</td>\n",
       "      <td>27919.0</td>\n",
       "    </tr>\n",
       "    <tr>\n",
       "      <th>2</th>\n",
       "      <td>部门1</td>\n",
       "      <td>萧晨</td>\n",
       "      <td>59025.0</td>\n",
       "    </tr>\n",
       "    <tr>\n",
       "      <th>1</th>\n",
       "      <td>部门1</td>\n",
       "      <td>仇波</td>\n",
       "      <td>62467.0</td>\n",
       "    </tr>\n",
       "    <tr>\n",
       "      <th>0</th>\n",
       "      <td>部门1</td>\n",
       "      <td>周英</td>\n",
       "      <td>90098.0</td>\n",
       "    </tr>\n",
       "    <tr>\n",
       "      <th>6</th>\n",
       "      <td>NaN</td>\n",
       "      <td>NaN</td>\n",
       "      <td>NaN</td>\n",
       "    </tr>\n",
       "    <tr>\n",
       "      <th>7</th>\n",
       "      <td>NaN</td>\n",
       "      <td>NaN</td>\n",
       "      <td>NaN</td>\n",
       "    </tr>\n",
       "    <tr>\n",
       "      <th>8</th>\n",
       "      <td>NaN</td>\n",
       "      <td>NaN</td>\n",
       "      <td>NaN</td>\n",
       "    </tr>\n",
       "  </tbody>\n",
       "</table>\n",
       "</div>"
      ],
      "text/plain": [
       "  dept name      销售额\n",
       "5  部门2   李荣  80927.0\n",
       "4  部门2  周桂香  47450.0\n",
       "3  部门2  郑冬梅  27919.0\n",
       "2  部门1   萧晨  59025.0\n",
       "1  部门1   仇波  62467.0\n",
       "0  部门1   周英  90098.0\n",
       "6  NaN  NaN      NaN\n",
       "7  NaN  NaN      NaN\n",
       "8  NaN  NaN      NaN"
      ]
     },
     "execution_count": 8,
     "metadata": {},
     "output_type": "execute_result"
    }
   ],
   "source": [
    "df.reindex(index=df.index[::-1].values.tolist()+[6,7,8]) # 索引反向重新排列,新项目 默认nan"
   ]
  },
  {
   "cell_type": "code",
   "execution_count": 6,
   "id": "adverse-quantity",
   "metadata": {
    "execution": {
     "iopub.execute_input": "2021-07-01T07:50:00.209499Z",
     "iopub.status.busy": "2021-07-01T07:50:00.209499Z",
     "iopub.status.idle": "2021-07-01T07:50:00.216498Z",
     "shell.execute_reply": "2021-07-01T07:50:00.214518Z",
     "shell.execute_reply.started": "2021-07-01T07:50:00.209499Z"
    }
   },
   "outputs": [
    {
     "data": {
      "text/plain": [
       "[5, 4, 3, 2, 1, 0, 6, 7, 8]"
      ]
     },
     "execution_count": 6,
     "metadata": {},
     "output_type": "execute_result"
    }
   ],
   "source": [
    "df.index[::-1].values.tolist()+[6,7,8] # 索引反向\n",
    "# 索引加新项目"
   ]
  },
  {
   "cell_type": "code",
   "execution_count": 5,
   "id": "prime-commercial",
   "metadata": {
    "execution": {
     "iopub.execute_input": "2021-07-01T07:48:23.081498Z",
     "iopub.status.busy": "2021-07-01T07:48:23.081498Z",
     "iopub.status.idle": "2021-07-01T07:48:23.093499Z",
     "shell.execute_reply": "2021-07-01T07:48:23.093499Z",
     "shell.execute_reply.started": "2021-07-01T07:48:23.081498Z"
    }
   },
   "outputs": [
    {
     "data": {
      "text/html": [
       "<div>\n",
       "<style scoped>\n",
       "    .dataframe tbody tr th:only-of-type {\n",
       "        vertical-align: middle;\n",
       "    }\n",
       "\n",
       "    .dataframe tbody tr th {\n",
       "        vertical-align: top;\n",
       "    }\n",
       "\n",
       "    .dataframe thead th {\n",
       "        text-align: right;\n",
       "    }\n",
       "</style>\n",
       "<table border=\"1\" class=\"dataframe\">\n",
       "  <thead>\n",
       "    <tr style=\"text-align: right;\">\n",
       "      <th></th>\n",
       "      <th>dept</th>\n",
       "      <th>name</th>\n",
       "      <th>销售额</th>\n",
       "    </tr>\n",
       "  </thead>\n",
       "  <tbody>\n",
       "    <tr>\n",
       "      <th>5</th>\n",
       "      <td>部门2</td>\n",
       "      <td>李荣</td>\n",
       "      <td>80927</td>\n",
       "    </tr>\n",
       "    <tr>\n",
       "      <th>4</th>\n",
       "      <td>部门2</td>\n",
       "      <td>周桂香</td>\n",
       "      <td>47450</td>\n",
       "    </tr>\n",
       "    <tr>\n",
       "      <th>3</th>\n",
       "      <td>部门2</td>\n",
       "      <td>郑冬梅</td>\n",
       "      <td>27919</td>\n",
       "    </tr>\n",
       "    <tr>\n",
       "      <th>2</th>\n",
       "      <td>部门1</td>\n",
       "      <td>萧晨</td>\n",
       "      <td>59025</td>\n",
       "    </tr>\n",
       "    <tr>\n",
       "      <th>1</th>\n",
       "      <td>部门1</td>\n",
       "      <td>仇波</td>\n",
       "      <td>62467</td>\n",
       "    </tr>\n",
       "    <tr>\n",
       "      <th>0</th>\n",
       "      <td>部门1</td>\n",
       "      <td>周英</td>\n",
       "      <td>90098</td>\n",
       "    </tr>\n",
       "  </tbody>\n",
       "</table>\n",
       "</div>"
      ],
      "text/plain": [
       "  dept name    销售额\n",
       "5  部门2   李荣  80927\n",
       "4  部门2  周桂香  47450\n",
       "3  部门2  郑冬梅  27919\n",
       "2  部门1   萧晨  59025\n",
       "1  部门1   仇波  62467\n",
       "0  部门1   周英  90098"
      ]
     },
     "execution_count": 5,
     "metadata": {},
     "output_type": "execute_result"
    }
   ],
   "source": [
    "df.reindex(index=df.index[::-1]) # 索引反向重新排列"
   ]
  }
 ],
 "metadata": {
  "kernelspec": {
   "display_name": "Python 3",
   "language": "python",
   "name": "python3"
  },
  "language_info": {
   "codemirror_mode": {
    "name": "ipython",
    "version": 3
   },
   "file_extension": ".py",
   "mimetype": "text/x-python",
   "name": "python",
   "nbconvert_exporter": "python",
   "pygments_lexer": "ipython3",
   "version": "3.6.8"
  },
  "toc": {
   "base_numbering": 1,
   "nav_menu": {},
   "number_sections": true,
   "sideBar": true,
   "skip_h1_title": false,
   "title_cell": "Table of Contents",
   "title_sidebar": "Contents",
   "toc_cell": false,
   "toc_position": {},
   "toc_section_display": true,
   "toc_window_display": false
  },
  "varInspector": {
   "cols": {
    "lenName": 16,
    "lenType": 16,
    "lenVar": 40
   },
   "kernels_config": {
    "python": {
     "delete_cmd_postfix": "",
     "delete_cmd_prefix": "del ",
     "library": "var_list.py",
     "varRefreshCmd": "print(var_dic_list())"
    },
    "r": {
     "delete_cmd_postfix": ") ",
     "delete_cmd_prefix": "rm(",
     "library": "var_list.r",
     "varRefreshCmd": "cat(var_dic_list()) "
    }
   },
   "types_to_exclude": [
    "module",
    "function",
    "builtin_function_or_method",
    "instance",
    "_Feature"
   ],
   "window_display": false
  }
 },
 "nbformat": 4,
 "nbformat_minor": 5
}
