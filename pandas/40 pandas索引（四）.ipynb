{
 "cells": [
  {
   "cell_type": "markdown",
   "id": "medieval-selling",
   "metadata": {
    "execution": {
     "iopub.execute_input": "2021-05-10T07:18:52.990449Z",
     "iopub.status.busy": "2021-05-10T07:18:52.990449Z",
     "iopub.status.idle": "2021-05-10T07:18:52.994464Z",
     "shell.execute_reply": "2021-05-10T07:18:52.993452Z",
     "shell.execute_reply.started": "2021-05-10T07:18:52.990449Z"
    }
   },
   "source": [
    "## 40 pandas索引（四）\n",
    "###  reindex_like： 参照另一个df重新索引\n",
    "#### 因其参数method, copy, limit, tolerance作用类似reindex，此处仅演示其主要作用"
   ]
  },
  {
   "cell_type": "markdown",
   "id": "processed-string",
   "metadata": {
    "heading_collapsed": true
   },
   "source": [
    "### 创建数据"
   ]
  },
  {
   "cell_type": "code",
   "execution_count": 1,
   "id": "flexible-native",
   "metadata": {
    "ExecuteTime": {
     "end_time": "2021-06-28T08:03:26.728356Z",
     "start_time": "2021-06-28T08:03:26.483318Z"
    },
    "execution": {
     "iopub.execute_input": "2021-07-02T08:10:42.167373Z",
     "iopub.status.busy": "2021-07-02T08:10:42.166373Z",
     "iopub.status.idle": "2021-07-02T08:10:42.486376Z",
     "shell.execute_reply": "2021-07-02T08:10:42.486376Z",
     "shell.execute_reply.started": "2021-07-02T08:10:42.167373Z"
    },
    "hidden": true
   },
   "outputs": [],
   "source": [
    "import numpy  as np\n",
    "import pandas as pd\n",
    "from faker import Faker\n",
    "\n",
    "fake = Faker('zh_CN')\n",
    "df=pd.DataFrame(data=[ [fake.name()] for x in range(6) ],columns=['name'])\n",
    "df['销售额']=np.random.randint(100,100000,size=(6, 1))\n",
    "df.insert(0,'dept',['部门1']*3+['部门2']*3)"
   ]
  },
  {
   "cell_type": "code",
   "execution_count": 2,
   "id": "solved-video",
   "metadata": {
    "ExecuteTime": {
     "end_time": "2021-06-28T08:03:26.733320Z",
     "start_time": "2021-06-28T08:03:26.729350Z"
    },
    "execution": {
     "iopub.execute_input": "2021-07-02T08:10:42.487377Z",
     "iopub.status.busy": "2021-07-02T08:10:42.487377Z",
     "iopub.status.idle": "2021-07-02T08:10:42.503378Z",
     "shell.execute_reply": "2021-07-02T08:10:42.503378Z",
     "shell.execute_reply.started": "2021-07-02T08:10:42.487377Z"
    },
    "hidden": true
   },
   "outputs": [
    {
     "data": {
      "text/html": [
       "<div>\n",
       "<style scoped>\n",
       "    .dataframe tbody tr th:only-of-type {\n",
       "        vertical-align: middle;\n",
       "    }\n",
       "\n",
       "    .dataframe tbody tr th {\n",
       "        vertical-align: top;\n",
       "    }\n",
       "\n",
       "    .dataframe thead th {\n",
       "        text-align: right;\n",
       "    }\n",
       "</style>\n",
       "<table border=\"1\" class=\"dataframe\">\n",
       "  <thead>\n",
       "    <tr style=\"text-align: right;\">\n",
       "      <th></th>\n",
       "      <th>dept</th>\n",
       "      <th>name</th>\n",
       "      <th>销售额</th>\n",
       "    </tr>\n",
       "  </thead>\n",
       "  <tbody>\n",
       "    <tr>\n",
       "      <th>0</th>\n",
       "      <td>部门1</td>\n",
       "      <td>余丽</td>\n",
       "      <td>71322</td>\n",
       "    </tr>\n",
       "    <tr>\n",
       "      <th>1</th>\n",
       "      <td>部门1</td>\n",
       "      <td>林辉</td>\n",
       "      <td>89908</td>\n",
       "    </tr>\n",
       "    <tr>\n",
       "      <th>2</th>\n",
       "      <td>部门1</td>\n",
       "      <td>赵静</td>\n",
       "      <td>39649</td>\n",
       "    </tr>\n",
       "    <tr>\n",
       "      <th>3</th>\n",
       "      <td>部门2</td>\n",
       "      <td>蒋雪梅</td>\n",
       "      <td>82117</td>\n",
       "    </tr>\n",
       "    <tr>\n",
       "      <th>4</th>\n",
       "      <td>部门2</td>\n",
       "      <td>石帆</td>\n",
       "      <td>56606</td>\n",
       "    </tr>\n",
       "    <tr>\n",
       "      <th>5</th>\n",
       "      <td>部门2</td>\n",
       "      <td>徐敏</td>\n",
       "      <td>24147</td>\n",
       "    </tr>\n",
       "  </tbody>\n",
       "</table>\n",
       "</div>"
      ],
      "text/plain": [
       "  dept name    销售额\n",
       "0  部门1   余丽  71322\n",
       "1  部门1   林辉  89908\n",
       "2  部门1   赵静  39649\n",
       "3  部门2  蒋雪梅  82117\n",
       "4  部门2   石帆  56606\n",
       "5  部门2   徐敏  24147"
      ]
     },
     "execution_count": 2,
     "metadata": {},
     "output_type": "execute_result"
    }
   ],
   "source": [
    "df"
   ]
  },
  {
   "cell_type": "code",
   "execution_count": 3,
   "id": "conventional-blues",
   "metadata": {
    "execution": {
     "iopub.execute_input": "2021-07-02T08:10:42.504376Z",
     "iopub.status.busy": "2021-07-02T08:10:42.504376Z",
     "iopub.status.idle": "2021-07-02T08:10:42.511378Z",
     "shell.execute_reply": "2021-07-02T08:10:42.510381Z",
     "shell.execute_reply.started": "2021-07-02T08:10:42.504376Z"
    }
   },
   "outputs": [],
   "source": [
    "df1=pd.DataFrame(data=[ [fake.name()] for x in range(10) ],columns=['name'])\n",
    "df1['销售额']=np.random.randint(100,100000,size=(10, 1))\n",
    "df1.insert(0,'dept',['部门1']*5+['部门2']*5)\n",
    "df1['其他']='other'"
   ]
  },
  {
   "cell_type": "code",
   "execution_count": 19,
   "id": "stylish-rendering",
   "metadata": {
    "execution": {
     "iopub.execute_input": "2021-07-02T08:24:16.818375Z",
     "iopub.status.busy": "2021-07-02T08:24:16.818375Z",
     "iopub.status.idle": "2021-07-02T08:24:16.826379Z",
     "shell.execute_reply": "2021-07-02T08:24:16.825378Z",
     "shell.execute_reply.started": "2021-07-02T08:24:16.818375Z"
    }
   },
   "outputs": [
    {
     "data": {
      "text/html": [
       "<div>\n",
       "<style scoped>\n",
       "    .dataframe tbody tr th:only-of-type {\n",
       "        vertical-align: middle;\n",
       "    }\n",
       "\n",
       "    .dataframe tbody tr th {\n",
       "        vertical-align: top;\n",
       "    }\n",
       "\n",
       "    .dataframe thead th {\n",
       "        text-align: right;\n",
       "    }\n",
       "</style>\n",
       "<table border=\"1\" class=\"dataframe\">\n",
       "  <thead>\n",
       "    <tr style=\"text-align: right;\">\n",
       "      <th></th>\n",
       "      <th>dept</th>\n",
       "      <th>name</th>\n",
       "      <th>销售额</th>\n",
       "      <th>其他</th>\n",
       "    </tr>\n",
       "  </thead>\n",
       "  <tbody>\n",
       "    <tr>\n",
       "      <th>9</th>\n",
       "      <td>部门2</td>\n",
       "      <td>孙勇</td>\n",
       "      <td>4413</td>\n",
       "      <td>other</td>\n",
       "    </tr>\n",
       "    <tr>\n",
       "      <th>8</th>\n",
       "      <td>部门2</td>\n",
       "      <td>刘旭</td>\n",
       "      <td>7022</td>\n",
       "      <td>other</td>\n",
       "    </tr>\n",
       "    <tr>\n",
       "      <th>7</th>\n",
       "      <td>部门2</td>\n",
       "      <td>廖桂兰</td>\n",
       "      <td>71622</td>\n",
       "      <td>other</td>\n",
       "    </tr>\n",
       "    <tr>\n",
       "      <th>6</th>\n",
       "      <td>部门2</td>\n",
       "      <td>陈玉英</td>\n",
       "      <td>76292</td>\n",
       "      <td>other</td>\n",
       "    </tr>\n",
       "    <tr>\n",
       "      <th>5</th>\n",
       "      <td>部门2</td>\n",
       "      <td>胡燕</td>\n",
       "      <td>36087</td>\n",
       "      <td>other</td>\n",
       "    </tr>\n",
       "    <tr>\n",
       "      <th>4</th>\n",
       "      <td>部门1</td>\n",
       "      <td>杨建军</td>\n",
       "      <td>67504</td>\n",
       "      <td>other</td>\n",
       "    </tr>\n",
       "    <tr>\n",
       "      <th>3</th>\n",
       "      <td>部门1</td>\n",
       "      <td>王桂香</td>\n",
       "      <td>6353</td>\n",
       "      <td>other</td>\n",
       "    </tr>\n",
       "    <tr>\n",
       "      <th>2</th>\n",
       "      <td>部门1</td>\n",
       "      <td>李超</td>\n",
       "      <td>88914</td>\n",
       "      <td>other</td>\n",
       "    </tr>\n",
       "    <tr>\n",
       "      <th>1</th>\n",
       "      <td>部门1</td>\n",
       "      <td>陈文</td>\n",
       "      <td>43191</td>\n",
       "      <td>other</td>\n",
       "    </tr>\n",
       "    <tr>\n",
       "      <th>0</th>\n",
       "      <td>部门1</td>\n",
       "      <td>赵建</td>\n",
       "      <td>67538</td>\n",
       "      <td>other</td>\n",
       "    </tr>\n",
       "  </tbody>\n",
       "</table>\n",
       "</div>"
      ],
      "text/plain": [
       "  dept name    销售额     其他\n",
       "9  部门2   孙勇   4413  other\n",
       "8  部门2   刘旭   7022  other\n",
       "7  部门2  廖桂兰  71622  other\n",
       "6  部门2  陈玉英  76292  other\n",
       "5  部门2   胡燕  36087  other\n",
       "4  部门1  杨建军  67504  other\n",
       "3  部门1  王桂香   6353  other\n",
       "2  部门1   李超  88914  other\n",
       "1  部门1   陈文  43191  other\n",
       "0  部门1   赵建  67538  other"
      ]
     },
     "execution_count": 19,
     "metadata": {},
     "output_type": "execute_result"
    }
   ],
   "source": [
    "df1[::-1]"
   ]
  },
  {
   "cell_type": "code",
   "execution_count": 6,
   "id": "fewer-ebony",
   "metadata": {
    "execution": {
     "iopub.execute_input": "2021-07-02T08:12:43.525375Z",
     "iopub.status.busy": "2021-07-02T08:12:43.525375Z",
     "iopub.status.idle": "2021-07-02T08:12:43.537376Z",
     "shell.execute_reply": "2021-07-02T08:12:43.536379Z",
     "shell.execute_reply.started": "2021-07-02T08:12:43.525375Z"
    }
   },
   "outputs": [
    {
     "data": {
      "text/html": [
       "<div>\n",
       "<style scoped>\n",
       "    .dataframe tbody tr th:only-of-type {\n",
       "        vertical-align: middle;\n",
       "    }\n",
       "\n",
       "    .dataframe tbody tr th {\n",
       "        vertical-align: top;\n",
       "    }\n",
       "\n",
       "    .dataframe thead th {\n",
       "        text-align: right;\n",
       "    }\n",
       "</style>\n",
       "<table border=\"1\" class=\"dataframe\">\n",
       "  <thead>\n",
       "    <tr style=\"text-align: right;\">\n",
       "      <th></th>\n",
       "      <th>dept</th>\n",
       "      <th>name</th>\n",
       "      <th>销售额</th>\n",
       "    </tr>\n",
       "  </thead>\n",
       "  <tbody>\n",
       "    <tr>\n",
       "      <th>0</th>\n",
       "      <td>部门1</td>\n",
       "      <td>赵建</td>\n",
       "      <td>67538</td>\n",
       "    </tr>\n",
       "    <tr>\n",
       "      <th>1</th>\n",
       "      <td>部门1</td>\n",
       "      <td>陈文</td>\n",
       "      <td>43191</td>\n",
       "    </tr>\n",
       "    <tr>\n",
       "      <th>2</th>\n",
       "      <td>部门1</td>\n",
       "      <td>李超</td>\n",
       "      <td>88914</td>\n",
       "    </tr>\n",
       "    <tr>\n",
       "      <th>3</th>\n",
       "      <td>部门1</td>\n",
       "      <td>王桂香</td>\n",
       "      <td>6353</td>\n",
       "    </tr>\n",
       "    <tr>\n",
       "      <th>4</th>\n",
       "      <td>部门1</td>\n",
       "      <td>杨建军</td>\n",
       "      <td>67504</td>\n",
       "    </tr>\n",
       "    <tr>\n",
       "      <th>5</th>\n",
       "      <td>部门2</td>\n",
       "      <td>胡燕</td>\n",
       "      <td>36087</td>\n",
       "    </tr>\n",
       "  </tbody>\n",
       "</table>\n",
       "</div>"
      ],
      "text/plain": [
       "  dept name    销售额\n",
       "0  部门1   赵建  67538\n",
       "1  部门1   陈文  43191\n",
       "2  部门1   李超  88914\n",
       "3  部门1  王桂香   6353\n",
       "4  部门1  杨建军  67504\n",
       "5  部门2   胡燕  36087"
      ]
     },
     "execution_count": 6,
     "metadata": {},
     "output_type": "execute_result"
    }
   ],
   "source": [
    "df1.reindex_like(df) # df1按照df 进行索引重排，注意列减少和 行数减少"
   ]
  },
  {
   "cell_type": "code",
   "execution_count": 22,
   "id": "positive-lambda",
   "metadata": {
    "execution": {
     "iopub.execute_input": "2021-07-02T08:25:20.297376Z",
     "iopub.status.busy": "2021-07-02T08:25:20.297376Z",
     "iopub.status.idle": "2021-07-02T08:25:20.307375Z",
     "shell.execute_reply": "2021-07-02T08:25:20.307375Z",
     "shell.execute_reply.started": "2021-07-02T08:25:20.297376Z"
    }
   },
   "outputs": [
    {
     "data": {
      "text/html": [
       "<div>\n",
       "<style scoped>\n",
       "    .dataframe tbody tr th:only-of-type {\n",
       "        vertical-align: middle;\n",
       "    }\n",
       "\n",
       "    .dataframe tbody tr th {\n",
       "        vertical-align: top;\n",
       "    }\n",
       "\n",
       "    .dataframe thead th {\n",
       "        text-align: right;\n",
       "    }\n",
       "</style>\n",
       "<table border=\"1\" class=\"dataframe\">\n",
       "  <thead>\n",
       "    <tr style=\"text-align: right;\">\n",
       "      <th></th>\n",
       "      <th>dept</th>\n",
       "      <th>name</th>\n",
       "      <th>销售额</th>\n",
       "      <th>其他</th>\n",
       "    </tr>\n",
       "  </thead>\n",
       "  <tbody>\n",
       "    <tr>\n",
       "      <th>0</th>\n",
       "      <td>部门1</td>\n",
       "      <td>余丽</td>\n",
       "      <td>71322.0</td>\n",
       "      <td>NaN</td>\n",
       "    </tr>\n",
       "    <tr>\n",
       "      <th>1</th>\n",
       "      <td>部门1</td>\n",
       "      <td>林辉</td>\n",
       "      <td>89908.0</td>\n",
       "      <td>NaN</td>\n",
       "    </tr>\n",
       "    <tr>\n",
       "      <th>2</th>\n",
       "      <td>部门1</td>\n",
       "      <td>赵静</td>\n",
       "      <td>39649.0</td>\n",
       "      <td>NaN</td>\n",
       "    </tr>\n",
       "    <tr>\n",
       "      <th>3</th>\n",
       "      <td>部门2</td>\n",
       "      <td>蒋雪梅</td>\n",
       "      <td>82117.0</td>\n",
       "      <td>NaN</td>\n",
       "    </tr>\n",
       "    <tr>\n",
       "      <th>4</th>\n",
       "      <td>部门2</td>\n",
       "      <td>石帆</td>\n",
       "      <td>56606.0</td>\n",
       "      <td>NaN</td>\n",
       "    </tr>\n",
       "    <tr>\n",
       "      <th>5</th>\n",
       "      <td>部门2</td>\n",
       "      <td>徐敏</td>\n",
       "      <td>24147.0</td>\n",
       "      <td>NaN</td>\n",
       "    </tr>\n",
       "    <tr>\n",
       "      <th>6</th>\n",
       "      <td>NaN</td>\n",
       "      <td>NaN</td>\n",
       "      <td>NaN</td>\n",
       "      <td>NaN</td>\n",
       "    </tr>\n",
       "    <tr>\n",
       "      <th>7</th>\n",
       "      <td>NaN</td>\n",
       "      <td>NaN</td>\n",
       "      <td>NaN</td>\n",
       "      <td>NaN</td>\n",
       "    </tr>\n",
       "    <tr>\n",
       "      <th>8</th>\n",
       "      <td>NaN</td>\n",
       "      <td>NaN</td>\n",
       "      <td>NaN</td>\n",
       "      <td>NaN</td>\n",
       "    </tr>\n",
       "    <tr>\n",
       "      <th>9</th>\n",
       "      <td>NaN</td>\n",
       "      <td>NaN</td>\n",
       "      <td>NaN</td>\n",
       "      <td>NaN</td>\n",
       "    </tr>\n",
       "  </tbody>\n",
       "</table>\n",
       "</div>"
      ],
      "text/plain": [
       "  dept name      销售额  其他\n",
       "0  部门1   余丽  71322.0 NaN\n",
       "1  部门1   林辉  89908.0 NaN\n",
       "2  部门1   赵静  39649.0 NaN\n",
       "3  部门2  蒋雪梅  82117.0 NaN\n",
       "4  部门2   石帆  56606.0 NaN\n",
       "5  部门2   徐敏  24147.0 NaN\n",
       "6  NaN  NaN      NaN NaN\n",
       "7  NaN  NaN      NaN NaN\n",
       "8  NaN  NaN      NaN NaN\n",
       "9  NaN  NaN      NaN NaN"
      ]
     },
     "execution_count": 22,
     "metadata": {},
     "output_type": "execute_result"
    }
   ],
   "source": [
    "df.reindex_like(df1) # df按照df1 进行索引重排，注意列变化和nan的填充"
   ]
  }
 ],
 "metadata": {
  "kernelspec": {
   "display_name": "Python 3",
   "language": "python",
   "name": "python3"
  },
  "language_info": {
   "codemirror_mode": {
    "name": "ipython",
    "version": 3
   },
   "file_extension": ".py",
   "mimetype": "text/x-python",
   "name": "python",
   "nbconvert_exporter": "python",
   "pygments_lexer": "ipython3",
   "version": "3.6.8"
  },
  "toc": {
   "base_numbering": 1,
   "nav_menu": {},
   "number_sections": true,
   "sideBar": true,
   "skip_h1_title": false,
   "title_cell": "Table of Contents",
   "title_sidebar": "Contents",
   "toc_cell": false,
   "toc_position": {},
   "toc_section_display": true,
   "toc_window_display": false
  },
  "varInspector": {
   "cols": {
    "lenName": 16,
    "lenType": 16,
    "lenVar": 40
   },
   "kernels_config": {
    "python": {
     "delete_cmd_postfix": "",
     "delete_cmd_prefix": "del ",
     "library": "var_list.py",
     "varRefreshCmd": "print(var_dic_list())"
    },
    "r": {
     "delete_cmd_postfix": ") ",
     "delete_cmd_prefix": "rm(",
     "library": "var_list.r",
     "varRefreshCmd": "cat(var_dic_list()) "
    }
   },
   "types_to_exclude": [
    "module",
    "function",
    "builtin_function_or_method",
    "instance",
    "_Feature"
   ],
   "window_display": false
  }
 },
 "nbformat": 4,
 "nbformat_minor": 5
}
