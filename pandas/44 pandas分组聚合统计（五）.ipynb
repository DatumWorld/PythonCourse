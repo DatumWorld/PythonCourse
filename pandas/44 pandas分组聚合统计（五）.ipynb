{
 "cells": [
  {
   "cell_type": "markdown",
   "id": "revolutionary-recruitment",
   "metadata": {
    "execution": {
     "iopub.execute_input": "2021-05-10T07:18:52.990449Z",
     "iopub.status.busy": "2021-05-10T07:18:52.990449Z",
     "iopub.status.idle": "2021-05-10T07:18:52.994464Z",
     "shell.execute_reply": "2021-05-10T07:18:52.993452Z",
     "shell.execute_reply.started": "2021-05-10T07:18:52.990449Z"
    }
   },
   "source": [
    "##  44 pandas分组聚合统计（五）"
   ]
  },
  {
   "cell_type": "markdown",
   "id": "premier-cable",
   "metadata": {},
   "source": [
    "### 分组聚合统计\n",
    "#### groupby  get_group nunique count"
   ]
  },
  {
   "cell_type": "code",
   "execution_count": 1,
   "id": "palestinian-venture",
   "metadata": {
    "execution": {
     "iopub.status.idle": "2021-07-07T08:11:39.617371Z",
     "shell.execute_reply": "2021-07-07T08:11:39.617371Z",
     "shell.execute_reply.started": "2021-07-07T08:11:39.313371Z"
    }
   },
   "outputs": [],
   "source": [
    "import numpy  as np\n",
    "import pandas as pd\n",
    "from faker import Faker\n",
    "\n",
    "fake = Faker('zh_CN')\n",
    "df=pd.DataFrame(data=[ [fake.name()] for x in range(10) ],columns=['name'])\n",
    "df['销售额']=np.random.randint(100,100000,size=(10, 1))\n",
    "df['奖金']=np.random.randint(100,100000,size=(10, 1))\n",
    "df.insert(0,'dept',['部门1']*5+['部门2']*5)\n",
    "df.insert(1,'dept1',['小部门1']*2+['小部门2']*3+['小部门3']*1+['小部门4']*4)"
   ]
  },
  {
   "cell_type": "code",
   "execution_count": 11,
   "id": "hired-touch",
   "metadata": {
    "execution": {
     "iopub.execute_input": "2021-07-07T08:18:35.902370Z",
     "iopub.status.busy": "2021-07-07T08:18:35.902370Z",
     "iopub.status.idle": "2021-07-07T08:18:35.914373Z",
     "shell.execute_reply": "2021-07-07T08:18:35.914373Z",
     "shell.execute_reply.started": "2021-07-07T08:18:35.902370Z"
    }
   },
   "outputs": [
    {
     "data": {
      "text/html": [
       "<div>\n",
       "<style scoped>\n",
       "    .dataframe tbody tr th:only-of-type {\n",
       "        vertical-align: middle;\n",
       "    }\n",
       "\n",
       "    .dataframe tbody tr th {\n",
       "        vertical-align: top;\n",
       "    }\n",
       "\n",
       "    .dataframe thead th {\n",
       "        text-align: right;\n",
       "    }\n",
       "</style>\n",
       "<table border=\"1\" class=\"dataframe\">\n",
       "  <thead>\n",
       "    <tr style=\"text-align: right;\">\n",
       "      <th></th>\n",
       "      <th>dept</th>\n",
       "      <th>dept1</th>\n",
       "      <th>name</th>\n",
       "      <th>销售额</th>\n",
       "      <th>奖金</th>\n",
       "    </tr>\n",
       "  </thead>\n",
       "  <tbody>\n",
       "    <tr>\n",
       "      <th>0</th>\n",
       "      <td>部门1</td>\n",
       "      <td>NaN</td>\n",
       "      <td>李秀兰</td>\n",
       "      <td>59585</td>\n",
       "      <td>57433</td>\n",
       "    </tr>\n",
       "    <tr>\n",
       "      <th>1</th>\n",
       "      <td>部门1</td>\n",
       "      <td>NaN</td>\n",
       "      <td>张娟</td>\n",
       "      <td>96350</td>\n",
       "      <td>96769</td>\n",
       "    </tr>\n",
       "    <tr>\n",
       "      <th>2</th>\n",
       "      <td>部门1</td>\n",
       "      <td>小部门2</td>\n",
       "      <td>姜琴</td>\n",
       "      <td>86085</td>\n",
       "      <td>34412</td>\n",
       "    </tr>\n",
       "    <tr>\n",
       "      <th>3</th>\n",
       "      <td>部门1</td>\n",
       "      <td>小部门2</td>\n",
       "      <td>阎俊</td>\n",
       "      <td>67593</td>\n",
       "      <td>72468</td>\n",
       "    </tr>\n",
       "    <tr>\n",
       "      <th>4</th>\n",
       "      <td>部门1</td>\n",
       "      <td>小部门2</td>\n",
       "      <td>伍莉</td>\n",
       "      <td>10707</td>\n",
       "      <td>2630</td>\n",
       "    </tr>\n",
       "    <tr>\n",
       "      <th>5</th>\n",
       "      <td>部门2</td>\n",
       "      <td>小部门3</td>\n",
       "      <td>石秀珍</td>\n",
       "      <td>32406</td>\n",
       "      <td>60175</td>\n",
       "    </tr>\n",
       "    <tr>\n",
       "      <th>6</th>\n",
       "      <td>部门2</td>\n",
       "      <td>小部门4</td>\n",
       "      <td>黄桂兰</td>\n",
       "      <td>9370</td>\n",
       "      <td>44283</td>\n",
       "    </tr>\n",
       "    <tr>\n",
       "      <th>7</th>\n",
       "      <td>部门2</td>\n",
       "      <td>小部门4</td>\n",
       "      <td>梁倩</td>\n",
       "      <td>32435</td>\n",
       "      <td>52669</td>\n",
       "    </tr>\n",
       "    <tr>\n",
       "      <th>8</th>\n",
       "      <td>部门2</td>\n",
       "      <td>小部门4</td>\n",
       "      <td>赵建国</td>\n",
       "      <td>89941</td>\n",
       "      <td>48170</td>\n",
       "    </tr>\n",
       "    <tr>\n",
       "      <th>9</th>\n",
       "      <td>部门2</td>\n",
       "      <td>小部门4</td>\n",
       "      <td>唐桂珍</td>\n",
       "      <td>13712</td>\n",
       "      <td>84863</td>\n",
       "    </tr>\n",
       "  </tbody>\n",
       "</table>\n",
       "</div>"
      ],
      "text/plain": [
       "  dept dept1 name    销售额     奖金\n",
       "0  部门1   NaN  李秀兰  59585  57433\n",
       "1  部门1   NaN   张娟  96350  96769\n",
       "2  部门1  小部门2   姜琴  86085  34412\n",
       "3  部门1  小部门2   阎俊  67593  72468\n",
       "4  部门1  小部门2   伍莉  10707   2630\n",
       "5  部门2  小部门3  石秀珍  32406  60175\n",
       "6  部门2  小部门4  黄桂兰   9370  44283\n",
       "7  部门2  小部门4   梁倩  32435  52669\n",
       "8  部门2  小部门4  赵建国  89941  48170\n",
       "9  部门2  小部门4  唐桂珍  13712  84863"
      ]
     },
     "execution_count": 11,
     "metadata": {},
     "output_type": "execute_result"
    }
   ],
   "source": [
    "df # 随机生成的数据"
   ]
  },
  {
   "cell_type": "code",
   "execution_count": 15,
   "id": "christian-rochester",
   "metadata": {
    "execution": {
     "iopub.execute_input": "2021-07-07T08:19:44.006370Z",
     "iopub.status.busy": "2021-07-07T08:19:44.006370Z",
     "iopub.status.idle": "2021-07-07T08:19:44.011397Z",
     "shell.execute_reply": "2021-07-07T08:19:44.011397Z",
     "shell.execute_reply.started": "2021-07-07T08:19:44.006370Z"
    }
   },
   "outputs": [
    {
     "data": {
      "text/plain": [
       "dept\n",
       "部门1    1\n",
       "部门2    2\n",
       "Name: dept1, dtype: int64"
      ]
     },
     "execution_count": 15,
     "metadata": {},
     "output_type": "execute_result"
    }
   ],
   "source": [
    "df.groupby(['dept'])['dept1'].nunique(dropna=True) # 分组统计某个列 不同元素的个数（去重统计，类似sql distinct）。不含na"
   ]
  },
  {
   "cell_type": "code",
   "execution_count": 13,
   "id": "medieval-ranch",
   "metadata": {
    "execution": {
     "iopub.execute_input": "2021-07-07T08:19:27.741370Z",
     "iopub.status.busy": "2021-07-07T08:19:27.741370Z",
     "iopub.status.idle": "2021-07-07T08:19:27.748373Z",
     "shell.execute_reply": "2021-07-07T08:19:27.747370Z",
     "shell.execute_reply.started": "2021-07-07T08:19:27.741370Z"
    }
   },
   "outputs": [
    {
     "data": {
      "text/plain": [
       "dept\n",
       "部门1    2\n",
       "部门2    2\n",
       "Name: dept1, dtype: int64"
      ]
     },
     "execution_count": 13,
     "metadata": {},
     "output_type": "execute_result"
    }
   ],
   "source": [
    "df.groupby(['dept'])['dept1'].nunique(dropna=0) # 分组统计某个列 不同元素的个数（去重统计，类似sql distinct）"
   ]
  },
  {
   "cell_type": "code",
   "execution_count": 10,
   "id": "suburban-wiring",
   "metadata": {
    "execution": {
     "iopub.execute_input": "2021-07-07T08:18:32.524370Z",
     "iopub.status.busy": "2021-07-07T08:18:32.524370Z",
     "iopub.status.idle": "2021-07-07T08:18:32.527374Z",
     "shell.execute_reply": "2021-07-07T08:18:32.527374Z",
     "shell.execute_reply.started": "2021-07-07T08:18:32.524370Z"
    }
   },
   "outputs": [],
   "source": [
    "df.loc[df.dept1=='小部门1','dept1']=np.nan # 将 小部门1  修改为空"
   ]
  },
  {
   "cell_type": "code",
   "execution_count": 16,
   "id": "strategic-nashville",
   "metadata": {
    "execution": {
     "iopub.execute_input": "2021-07-07T08:20:21.222372Z",
     "iopub.status.busy": "2021-07-07T08:20:21.221373Z",
     "iopub.status.idle": "2021-07-07T08:20:21.228404Z",
     "shell.execute_reply": "2021-07-07T08:20:21.228404Z",
     "shell.execute_reply.started": "2021-07-07T08:20:21.222372Z"
    }
   },
   "outputs": [
    {
     "data": {
      "text/plain": [
       "dept\n",
       "部门1    1\n",
       "部门2    2\n",
       "Name: dept1, dtype: int64"
      ]
     },
     "execution_count": 16,
     "metadata": {},
     "output_type": "execute_result"
    }
   ],
   "source": [
    "df.groupby(['dept'])['dept1'].nunique() # 分组统计某个列 不同元素的个数（去重统计，类似sql distinct）。默认dropna=True"
   ]
  },
  {
   "cell_type": "code",
   "execution_count": 8,
   "id": "chubby-anxiety",
   "metadata": {
    "execution": {
     "iopub.execute_input": "2021-07-07T08:16:29.604372Z",
     "iopub.status.busy": "2021-07-07T08:16:29.603373Z",
     "iopub.status.idle": "2021-07-07T08:16:29.612372Z",
     "shell.execute_reply": "2021-07-07T08:16:29.611403Z",
     "shell.execute_reply.started": "2021-07-07T08:16:29.604372Z"
    }
   },
   "outputs": [
    {
     "data": {
      "text/plain": [
       "dept\n",
       "部门1    5\n",
       "部门2    5\n",
       "Name: dept1, dtype: int64"
      ]
     },
     "execution_count": 8,
     "metadata": {},
     "output_type": "execute_result"
    }
   ],
   "source": [
    "df.groupby(['dept'])['dept1'].count() # 分组统计某个列的元素个数"
   ]
  },
  {
   "cell_type": "code",
   "execution_count": 17,
   "id": "cleared-vietnam",
   "metadata": {
    "execution": {
     "iopub.execute_input": "2021-07-07T08:23:28.038903Z",
     "iopub.status.busy": "2021-07-07T08:23:28.037903Z",
     "iopub.status.idle": "2021-07-07T08:23:28.049908Z",
     "shell.execute_reply": "2021-07-07T08:23:28.047904Z",
     "shell.execute_reply.started": "2021-07-07T08:23:28.038903Z"
    }
   },
   "outputs": [
    {
     "data": {
      "text/html": [
       "<div>\n",
       "<style scoped>\n",
       "    .dataframe tbody tr th:only-of-type {\n",
       "        vertical-align: middle;\n",
       "    }\n",
       "\n",
       "    .dataframe tbody tr th {\n",
       "        vertical-align: top;\n",
       "    }\n",
       "\n",
       "    .dataframe thead th {\n",
       "        text-align: right;\n",
       "    }\n",
       "</style>\n",
       "<table border=\"1\" class=\"dataframe\">\n",
       "  <thead>\n",
       "    <tr style=\"text-align: right;\">\n",
       "      <th></th>\n",
       "      <th></th>\n",
       "      <th>name</th>\n",
       "      <th>销售额</th>\n",
       "      <th>奖金</th>\n",
       "    </tr>\n",
       "    <tr>\n",
       "      <th>dept</th>\n",
       "      <th>dept1</th>\n",
       "      <th></th>\n",
       "      <th></th>\n",
       "      <th></th>\n",
       "    </tr>\n",
       "  </thead>\n",
       "  <tbody>\n",
       "    <tr>\n",
       "      <th>部门1</th>\n",
       "      <th>小部门2</th>\n",
       "      <td>3</td>\n",
       "      <td>3</td>\n",
       "      <td>3</td>\n",
       "    </tr>\n",
       "    <tr>\n",
       "      <th rowspan=\"2\" valign=\"top\">部门2</th>\n",
       "      <th>小部门3</th>\n",
       "      <td>1</td>\n",
       "      <td>1</td>\n",
       "      <td>1</td>\n",
       "    </tr>\n",
       "    <tr>\n",
       "      <th>小部门4</th>\n",
       "      <td>4</td>\n",
       "      <td>4</td>\n",
       "      <td>4</td>\n",
       "    </tr>\n",
       "  </tbody>\n",
       "</table>\n",
       "</div>"
      ],
      "text/plain": [
       "            name  销售额  奖金\n",
       "dept dept1               \n",
       "部门1  小部门2      3    3   3\n",
       "部门2  小部门3      1    1   1\n",
       "     小部门4      4    4   4"
      ]
     },
     "execution_count": 17,
     "metadata": {},
     "output_type": "execute_result"
    }
   ],
   "source": [
    "df.groupby(['dept','dept1']).count() # 分组统计个数"
   ]
  },
  {
   "cell_type": "code",
   "execution_count": 6,
   "id": "flying-chocolate",
   "metadata": {
    "execution": {
     "iopub.execute_input": "2021-07-07T08:14:35.790369Z",
     "iopub.status.busy": "2021-07-07T08:14:35.789373Z",
     "iopub.status.idle": "2021-07-07T08:14:35.806370Z",
     "shell.execute_reply": "2021-07-07T08:14:35.804383Z",
     "shell.execute_reply.started": "2021-07-07T08:14:35.790369Z"
    }
   },
   "outputs": [
    {
     "data": {
      "text/html": [
       "<div>\n",
       "<style scoped>\n",
       "    .dataframe tbody tr th:only-of-type {\n",
       "        vertical-align: middle;\n",
       "    }\n",
       "\n",
       "    .dataframe tbody tr th {\n",
       "        vertical-align: top;\n",
       "    }\n",
       "\n",
       "    .dataframe thead th {\n",
       "        text-align: right;\n",
       "    }\n",
       "</style>\n",
       "<table border=\"1\" class=\"dataframe\">\n",
       "  <thead>\n",
       "    <tr style=\"text-align: right;\">\n",
       "      <th></th>\n",
       "      <th>dept</th>\n",
       "      <th>dept1</th>\n",
       "      <th>name</th>\n",
       "      <th>销售额</th>\n",
       "      <th>奖金</th>\n",
       "    </tr>\n",
       "  </thead>\n",
       "  <tbody>\n",
       "    <tr>\n",
       "      <th>2</th>\n",
       "      <td>部门1</td>\n",
       "      <td>小部门2</td>\n",
       "      <td>姜琴</td>\n",
       "      <td>86085</td>\n",
       "      <td>34412</td>\n",
       "    </tr>\n",
       "    <tr>\n",
       "      <th>3</th>\n",
       "      <td>部门1</td>\n",
       "      <td>小部门2</td>\n",
       "      <td>阎俊</td>\n",
       "      <td>67593</td>\n",
       "      <td>72468</td>\n",
       "    </tr>\n",
       "    <tr>\n",
       "      <th>4</th>\n",
       "      <td>部门1</td>\n",
       "      <td>小部门2</td>\n",
       "      <td>伍莉</td>\n",
       "      <td>10707</td>\n",
       "      <td>2630</td>\n",
       "    </tr>\n",
       "  </tbody>\n",
       "</table>\n",
       "</div>"
      ],
      "text/plain": [
       "  dept dept1 name    销售额     奖金\n",
       "2  部门1  小部门2   姜琴  86085  34412\n",
       "3  部门1  小部门2   阎俊  67593  72468\n",
       "4  部门1  小部门2   伍莉  10707   2630"
      ]
     },
     "execution_count": 6,
     "metadata": {},
     "output_type": "execute_result"
    }
   ],
   "source": [
    "df.groupby(['dept','dept1']).get_group(('部门1','小部门2')) # 多级分组的情况下获取某个组的数据"
   ]
  },
  {
   "cell_type": "code",
   "execution_count": 3,
   "id": "painted-shell",
   "metadata": {
    "execution": {
     "iopub.execute_input": "2021-07-07T08:12:36.445373Z",
     "iopub.status.busy": "2021-07-07T08:12:36.444377Z",
     "iopub.status.idle": "2021-07-07T08:12:36.449380Z",
     "shell.execute_reply": "2021-07-07T08:12:36.448376Z",
     "shell.execute_reply.started": "2021-07-07T08:12:36.445373Z"
    }
   },
   "outputs": [],
   "source": [
    "groups=df.groupby('dept')"
   ]
  },
  {
   "cell_type": "code",
   "execution_count": 5,
   "id": "capable-entertainment",
   "metadata": {
    "execution": {
     "iopub.execute_input": "2021-07-07T08:13:19.511370Z",
     "iopub.status.busy": "2021-07-07T08:13:19.511370Z",
     "iopub.status.idle": "2021-07-07T08:13:19.522371Z",
     "shell.execute_reply": "2021-07-07T08:13:19.521381Z",
     "shell.execute_reply.started": "2021-07-07T08:13:19.511370Z"
    }
   },
   "outputs": [
    {
     "data": {
      "text/html": [
       "<div>\n",
       "<style scoped>\n",
       "    .dataframe tbody tr th:only-of-type {\n",
       "        vertical-align: middle;\n",
       "    }\n",
       "\n",
       "    .dataframe tbody tr th {\n",
       "        vertical-align: top;\n",
       "    }\n",
       "\n",
       "    .dataframe thead th {\n",
       "        text-align: right;\n",
       "    }\n",
       "</style>\n",
       "<table border=\"1\" class=\"dataframe\">\n",
       "  <thead>\n",
       "    <tr style=\"text-align: right;\">\n",
       "      <th></th>\n",
       "      <th>dept1</th>\n",
       "      <th>name</th>\n",
       "      <th>销售额</th>\n",
       "      <th>奖金</th>\n",
       "    </tr>\n",
       "  </thead>\n",
       "  <tbody>\n",
       "    <tr>\n",
       "      <th>5</th>\n",
       "      <td>小部门3</td>\n",
       "      <td>石秀珍</td>\n",
       "      <td>32406</td>\n",
       "      <td>60175</td>\n",
       "    </tr>\n",
       "    <tr>\n",
       "      <th>6</th>\n",
       "      <td>小部门4</td>\n",
       "      <td>黄桂兰</td>\n",
       "      <td>9370</td>\n",
       "      <td>44283</td>\n",
       "    </tr>\n",
       "    <tr>\n",
       "      <th>7</th>\n",
       "      <td>小部门4</td>\n",
       "      <td>梁倩</td>\n",
       "      <td>32435</td>\n",
       "      <td>52669</td>\n",
       "    </tr>\n",
       "    <tr>\n",
       "      <th>8</th>\n",
       "      <td>小部门4</td>\n",
       "      <td>赵建国</td>\n",
       "      <td>89941</td>\n",
       "      <td>48170</td>\n",
       "    </tr>\n",
       "    <tr>\n",
       "      <th>9</th>\n",
       "      <td>小部门4</td>\n",
       "      <td>唐桂珍</td>\n",
       "      <td>13712</td>\n",
       "      <td>84863</td>\n",
       "    </tr>\n",
       "  </tbody>\n",
       "</table>\n",
       "</div>"
      ],
      "text/plain": [
       "  dept1 name    销售额     奖金\n",
       "5  小部门3  石秀珍  32406  60175\n",
       "6  小部门4  黄桂兰   9370  44283\n",
       "7  小部门4   梁倩  32435  52669\n",
       "8  小部门4  赵建国  89941  48170\n",
       "9  小部门4  唐桂珍  13712  84863"
      ]
     },
     "execution_count": 5,
     "metadata": {},
     "output_type": "execute_result"
    }
   ],
   "source": [
    "groups.get_group('部门2') # 获取某个分组的详细数据"
   ]
  }
 ],
 "metadata": {
  "kernelspec": {
   "display_name": "Python 3",
   "language": "python",
   "name": "python3"
  },
  "language_info": {
   "codemirror_mode": {
    "name": "ipython",
    "version": 3
   },
   "file_extension": ".py",
   "mimetype": "text/x-python",
   "name": "python",
   "nbconvert_exporter": "python",
   "pygments_lexer": "ipython3",
   "version": "3.6.8"
  }
 },
 "nbformat": 4,
 "nbformat_minor": 5
}
