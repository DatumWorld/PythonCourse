{
 "cells": [
  {
   "cell_type": "markdown",
   "id": "indonesian-flashing",
   "metadata": {
    "execution": {
     "iopub.execute_input": "2021-05-10T07:18:52.990449Z",
     "iopub.status.busy": "2021-05-10T07:18:52.990449Z",
     "iopub.status.idle": "2021-05-10T07:18:52.994464Z",
     "shell.execute_reply": "2021-05-10T07:18:52.993452Z",
     "shell.execute_reply.started": "2021-05-10T07:18:52.990449Z"
    }
   },
   "source": [
    "##  45 pandas分组聚合统计（六）"
   ]
  },
  {
   "cell_type": "markdown",
   "id": "olympic-synthetic",
   "metadata": {},
   "source": [
    "### 分组聚合统计\n",
    "#### groupby  agg unique 自定义函数等"
   ]
  },
  {
   "cell_type": "code",
   "execution_count": 1,
   "id": "equipped-captain",
   "metadata": {
    "execution": {
     "iopub.status.idle": "2021-07-08T06:31:11.561964Z",
     "shell.execute_reply": "2021-07-08T06:31:11.561964Z",
     "shell.execute_reply.started": "2021-07-08T06:31:11.252934Z"
    }
   },
   "outputs": [],
   "source": [
    "import numpy  as np\n",
    "import pandas as pd\n",
    "from faker import Faker\n",
    "\n",
    "fake = Faker('zh_CN')\n",
    "df=pd.DataFrame(data=[ [fake.name()] for x in range(10) ],columns=['name'])\n",
    "df['销售额']=np.random.randint(100,100000,size=(10, 1))\n",
    "df['奖金']=np.random.randint(100,100000,size=(10, 1))\n",
    "df.insert(0,'dept',['部门1']*5+['部门2']*5)\n",
    "df.insert(1,'dept1',['小部门1']*2+['小部门2']*3+['小部门3']*1+['小部门4']*4)"
   ]
  },
  {
   "cell_type": "code",
   "execution_count": 2,
   "id": "aquatic-apparel",
   "metadata": {
    "execution": {
     "iopub.execute_input": "2021-07-08T06:31:11.562965Z",
     "iopub.status.busy": "2021-07-08T06:31:11.562965Z",
     "iopub.status.idle": "2021-07-08T06:31:11.580964Z",
     "shell.execute_reply": "2021-07-08T06:31:11.580964Z",
     "shell.execute_reply.started": "2021-07-08T06:31:11.562965Z"
    }
   },
   "outputs": [
    {
     "data": {
      "text/html": [
       "<div>\n",
       "<style scoped>\n",
       "    .dataframe tbody tr th:only-of-type {\n",
       "        vertical-align: middle;\n",
       "    }\n",
       "\n",
       "    .dataframe tbody tr th {\n",
       "        vertical-align: top;\n",
       "    }\n",
       "\n",
       "    .dataframe thead th {\n",
       "        text-align: right;\n",
       "    }\n",
       "</style>\n",
       "<table border=\"1\" class=\"dataframe\">\n",
       "  <thead>\n",
       "    <tr style=\"text-align: right;\">\n",
       "      <th></th>\n",
       "      <th>dept</th>\n",
       "      <th>dept1</th>\n",
       "      <th>name</th>\n",
       "      <th>销售额</th>\n",
       "      <th>奖金</th>\n",
       "    </tr>\n",
       "  </thead>\n",
       "  <tbody>\n",
       "    <tr>\n",
       "      <th>0</th>\n",
       "      <td>部门1</td>\n",
       "      <td>小部门1</td>\n",
       "      <td>卢彬</td>\n",
       "      <td>99237</td>\n",
       "      <td>14923</td>\n",
       "    </tr>\n",
       "    <tr>\n",
       "      <th>1</th>\n",
       "      <td>部门1</td>\n",
       "      <td>小部门1</td>\n",
       "      <td>孙丹</td>\n",
       "      <td>34572</td>\n",
       "      <td>4666</td>\n",
       "    </tr>\n",
       "    <tr>\n",
       "      <th>2</th>\n",
       "      <td>部门1</td>\n",
       "      <td>小部门2</td>\n",
       "      <td>饶涛</td>\n",
       "      <td>47487</td>\n",
       "      <td>28123</td>\n",
       "    </tr>\n",
       "    <tr>\n",
       "      <th>3</th>\n",
       "      <td>部门1</td>\n",
       "      <td>小部门2</td>\n",
       "      <td>戴洁</td>\n",
       "      <td>44577</td>\n",
       "      <td>59522</td>\n",
       "    </tr>\n",
       "    <tr>\n",
       "      <th>4</th>\n",
       "      <td>部门1</td>\n",
       "      <td>小部门2</td>\n",
       "      <td>李建平</td>\n",
       "      <td>68356</td>\n",
       "      <td>76668</td>\n",
       "    </tr>\n",
       "    <tr>\n",
       "      <th>5</th>\n",
       "      <td>部门2</td>\n",
       "      <td>小部门3</td>\n",
       "      <td>麦芳</td>\n",
       "      <td>98470</td>\n",
       "      <td>14968</td>\n",
       "    </tr>\n",
       "    <tr>\n",
       "      <th>6</th>\n",
       "      <td>部门2</td>\n",
       "      <td>小部门4</td>\n",
       "      <td>李杨</td>\n",
       "      <td>360</td>\n",
       "      <td>9192</td>\n",
       "    </tr>\n",
       "    <tr>\n",
       "      <th>7</th>\n",
       "      <td>部门2</td>\n",
       "      <td>小部门4</td>\n",
       "      <td>杨丽</td>\n",
       "      <td>91955</td>\n",
       "      <td>88835</td>\n",
       "    </tr>\n",
       "    <tr>\n",
       "      <th>8</th>\n",
       "      <td>部门2</td>\n",
       "      <td>小部门4</td>\n",
       "      <td>丁楠</td>\n",
       "      <td>53085</td>\n",
       "      <td>72271</td>\n",
       "    </tr>\n",
       "    <tr>\n",
       "      <th>9</th>\n",
       "      <td>部门2</td>\n",
       "      <td>小部门4</td>\n",
       "      <td>马凤英</td>\n",
       "      <td>90935</td>\n",
       "      <td>23962</td>\n",
       "    </tr>\n",
       "  </tbody>\n",
       "</table>\n",
       "</div>"
      ],
      "text/plain": [
       "  dept dept1 name    销售额     奖金\n",
       "0  部门1  小部门1   卢彬  99237  14923\n",
       "1  部门1  小部门1   孙丹  34572   4666\n",
       "2  部门1  小部门2   饶涛  47487  28123\n",
       "3  部门1  小部门2   戴洁  44577  59522\n",
       "4  部门1  小部门2  李建平  68356  76668\n",
       "5  部门2  小部门3   麦芳  98470  14968\n",
       "6  部门2  小部门4   李杨    360   9192\n",
       "7  部门2  小部门4   杨丽  91955  88835\n",
       "8  部门2  小部门4   丁楠  53085  72271\n",
       "9  部门2  小部门4  马凤英  90935  23962"
      ]
     },
     "execution_count": 2,
     "metadata": {},
     "output_type": "execute_result"
    }
   ],
   "source": [
    "df # 随机生成的数据"
   ]
  },
  {
   "cell_type": "code",
   "execution_count": 21,
   "id": "nasty-brave",
   "metadata": {
    "execution": {
     "iopub.execute_input": "2021-07-08T06:43:31.447934Z",
     "iopub.status.busy": "2021-07-08T06:43:31.446933Z",
     "iopub.status.idle": "2021-07-08T06:43:31.471938Z",
     "shell.execute_reply": "2021-07-08T06:43:31.469971Z",
     "shell.execute_reply.started": "2021-07-08T06:43:31.447934Z"
    }
   },
   "outputs": [
    {
     "data": {
      "text/html": [
       "<div>\n",
       "<style scoped>\n",
       "    .dataframe tbody tr th:only-of-type {\n",
       "        vertical-align: middle;\n",
       "    }\n",
       "\n",
       "    .dataframe tbody tr th {\n",
       "        vertical-align: top;\n",
       "    }\n",
       "\n",
       "    .dataframe thead th {\n",
       "        text-align: right;\n",
       "    }\n",
       "</style>\n",
       "<table border=\"1\" class=\"dataframe\">\n",
       "  <thead>\n",
       "    <tr style=\"text-align: right;\">\n",
       "      <th></th>\n",
       "      <th>dept</th>\n",
       "      <th>dept1</th>\n",
       "      <th>xiasohou</th>\n",
       "      <th>销售额_平均</th>\n",
       "    </tr>\n",
       "  </thead>\n",
       "  <tbody>\n",
       "    <tr>\n",
       "      <th>0</th>\n",
       "      <td>部门1</td>\n",
       "      <td>小部门1</td>\n",
       "      <td>133809</td>\n",
       "      <td>66904.500000</td>\n",
       "    </tr>\n",
       "    <tr>\n",
       "      <th>1</th>\n",
       "      <td>部门1</td>\n",
       "      <td>小部门2</td>\n",
       "      <td>160420</td>\n",
       "      <td>53473.333333</td>\n",
       "    </tr>\n",
       "    <tr>\n",
       "      <th>2</th>\n",
       "      <td>部门2</td>\n",
       "      <td>小部门3</td>\n",
       "      <td>98470</td>\n",
       "      <td>98470.000000</td>\n",
       "    </tr>\n",
       "    <tr>\n",
       "      <th>3</th>\n",
       "      <td>部门2</td>\n",
       "      <td>小部门4</td>\n",
       "      <td>236335</td>\n",
       "      <td>59083.750000</td>\n",
       "    </tr>\n",
       "  </tbody>\n",
       "</table>\n",
       "</div>"
      ],
      "text/plain": [
       "  dept dept1  xiasohou        销售额_平均\n",
       "0  部门1  小部门1    133809  66904.500000\n",
       "1  部门1  小部门2    160420  53473.333333\n",
       "2  部门2  小部门3     98470  98470.000000\n",
       "3  部门2  小部门4    236335  59083.750000"
      ]
     },
     "execution_count": 21,
     "metadata": {},
     "output_type": "execute_result"
    }
   ],
   "source": [
    "df.groupby(['dept','dept1'],as_index=0).agg(xiasohou=('销售额','sum'),销售额_平均=('销售额','mean')) # 自定义结果列名称，命名方法求销售额合计"
   ]
  },
  {
   "cell_type": "code",
   "execution_count": 12,
   "id": "thirty-criminal",
   "metadata": {
    "execution": {
     "iopub.execute_input": "2021-07-08T06:37:56.732933Z",
     "iopub.status.busy": "2021-07-08T06:37:56.732933Z",
     "iopub.status.idle": "2021-07-08T06:37:56.753932Z",
     "shell.execute_reply": "2021-07-08T06:37:56.752941Z",
     "shell.execute_reply.started": "2021-07-08T06:37:56.732933Z"
    }
   },
   "outputs": [
    {
     "data": {
      "text/html": [
       "<div>\n",
       "<style scoped>\n",
       "    .dataframe tbody tr th:only-of-type {\n",
       "        vertical-align: middle;\n",
       "    }\n",
       "\n",
       "    .dataframe tbody tr th {\n",
       "        vertical-align: top;\n",
       "    }\n",
       "\n",
       "    .dataframe thead th {\n",
       "        text-align: right;\n",
       "    }\n",
       "</style>\n",
       "<table border=\"1\" class=\"dataframe\">\n",
       "  <thead>\n",
       "    <tr style=\"text-align: right;\">\n",
       "      <th></th>\n",
       "      <th>dept</th>\n",
       "      <th>dept1</th>\n",
       "      <th>xiasohou</th>\n",
       "    </tr>\n",
       "  </thead>\n",
       "  <tbody>\n",
       "    <tr>\n",
       "      <th>0</th>\n",
       "      <td>部门1</td>\n",
       "      <td>小部门1</td>\n",
       "      <td>133809</td>\n",
       "    </tr>\n",
       "    <tr>\n",
       "      <th>1</th>\n",
       "      <td>部门1</td>\n",
       "      <td>小部门2</td>\n",
       "      <td>160420</td>\n",
       "    </tr>\n",
       "    <tr>\n",
       "      <th>2</th>\n",
       "      <td>部门2</td>\n",
       "      <td>小部门3</td>\n",
       "      <td>98470</td>\n",
       "    </tr>\n",
       "    <tr>\n",
       "      <th>3</th>\n",
       "      <td>部门2</td>\n",
       "      <td>小部门4</td>\n",
       "      <td>236335</td>\n",
       "    </tr>\n",
       "  </tbody>\n",
       "</table>\n",
       "</div>"
      ],
      "text/plain": [
       "  dept dept1  xiasohou\n",
       "0  部门1  小部门1    133809\n",
       "1  部门1  小部门2    160420\n",
       "2  部门2  小部门3     98470\n",
       "3  部门2  小部门4    236335"
      ]
     },
     "execution_count": 12,
     "metadata": {},
     "output_type": "execute_result"
    }
   ],
   "source": [
    "df.groupby(['dept','dept1'],as_index=0).agg(xiasohou=('销售额','sum')) # 自定义结果列名称，命名方法求销售额合计"
   ]
  },
  {
   "cell_type": "code",
   "execution_count": 8,
   "id": "convertible-integer",
   "metadata": {
    "execution": {
     "iopub.execute_input": "2021-07-08T06:35:58.619935Z",
     "iopub.status.busy": "2021-07-08T06:35:58.619935Z",
     "iopub.status.idle": "2021-07-08T06:35:58.640931Z",
     "shell.execute_reply": "2021-07-08T06:35:58.640931Z",
     "shell.execute_reply.started": "2021-07-08T06:35:58.619935Z"
    }
   },
   "outputs": [
    {
     "data": {
      "text/html": [
       "<div>\n",
       "<style scoped>\n",
       "    .dataframe tbody tr th:only-of-type {\n",
       "        vertical-align: middle;\n",
       "    }\n",
       "\n",
       "    .dataframe tbody tr th {\n",
       "        vertical-align: top;\n",
       "    }\n",
       "\n",
       "    .dataframe thead tr th {\n",
       "        text-align: left;\n",
       "    }\n",
       "</style>\n",
       "<table border=\"1\" class=\"dataframe\">\n",
       "  <thead>\n",
       "    <tr>\n",
       "      <th></th>\n",
       "      <th>dept</th>\n",
       "      <th>dept1</th>\n",
       "      <th colspan=\"3\" halign=\"left\">销售额</th>\n",
       "    </tr>\n",
       "    <tr>\n",
       "      <th></th>\n",
       "      <th></th>\n",
       "      <th></th>\n",
       "      <th>sum</th>\n",
       "      <th>mean</th>\n",
       "      <th>range</th>\n",
       "    </tr>\n",
       "  </thead>\n",
       "  <tbody>\n",
       "    <tr>\n",
       "      <th>0</th>\n",
       "      <td>部门1</td>\n",
       "      <td>小部门1</td>\n",
       "      <td>133809</td>\n",
       "      <td>66904.500000</td>\n",
       "      <td>64665</td>\n",
       "    </tr>\n",
       "    <tr>\n",
       "      <th>1</th>\n",
       "      <td>部门1</td>\n",
       "      <td>小部门2</td>\n",
       "      <td>160420</td>\n",
       "      <td>53473.333333</td>\n",
       "      <td>23779</td>\n",
       "    </tr>\n",
       "    <tr>\n",
       "      <th>2</th>\n",
       "      <td>部门2</td>\n",
       "      <td>小部门3</td>\n",
       "      <td>98470</td>\n",
       "      <td>98470.000000</td>\n",
       "      <td>0</td>\n",
       "    </tr>\n",
       "    <tr>\n",
       "      <th>3</th>\n",
       "      <td>部门2</td>\n",
       "      <td>小部门4</td>\n",
       "      <td>236335</td>\n",
       "      <td>59083.750000</td>\n",
       "      <td>91595</td>\n",
       "    </tr>\n",
       "  </tbody>\n",
       "</table>\n",
       "</div>"
      ],
      "text/plain": [
       "  dept dept1     销售额                     \n",
       "                 sum          mean  range\n",
       "0  部门1  小部门1  133809  66904.500000  64665\n",
       "1  部门1  小部门2  160420  53473.333333  23779\n",
       "2  部门2  小部门3   98470  98470.000000      0\n",
       "3  部门2  小部门4  236335  59083.750000  91595"
      ]
     },
     "execution_count": 8,
     "metadata": {},
     "output_type": "execute_result"
    }
   ],
   "source": [
    "df.groupby(['dept','dept1'],as_index=0).agg({'销售额':['sum','mean',lambda x :x.max()-x.min()]}).rename({'<lambda_0>':'range'},axis=1) # agg 中加入自定函数.修改默认的列名"
   ]
  },
  {
   "cell_type": "code",
   "execution_count": 7,
   "id": "hired-evidence",
   "metadata": {
    "execution": {
     "iopub.execute_input": "2021-07-08T06:34:49.930934Z",
     "iopub.status.busy": "2021-07-08T06:34:49.930934Z",
     "iopub.status.idle": "2021-07-08T06:34:49.963936Z",
     "shell.execute_reply": "2021-07-08T06:34:49.962965Z",
     "shell.execute_reply.started": "2021-07-08T06:34:49.930934Z"
    }
   },
   "outputs": [
    {
     "data": {
      "text/html": [
       "<div>\n",
       "<style scoped>\n",
       "    .dataframe tbody tr th:only-of-type {\n",
       "        vertical-align: middle;\n",
       "    }\n",
       "\n",
       "    .dataframe tbody tr th {\n",
       "        vertical-align: top;\n",
       "    }\n",
       "\n",
       "    .dataframe thead tr th {\n",
       "        text-align: left;\n",
       "    }\n",
       "</style>\n",
       "<table border=\"1\" class=\"dataframe\">\n",
       "  <thead>\n",
       "    <tr>\n",
       "      <th></th>\n",
       "      <th>dept</th>\n",
       "      <th>dept1</th>\n",
       "      <th colspan=\"3\" halign=\"left\">销售额</th>\n",
       "    </tr>\n",
       "    <tr>\n",
       "      <th></th>\n",
       "      <th></th>\n",
       "      <th></th>\n",
       "      <th>sum</th>\n",
       "      <th>mean</th>\n",
       "      <th>&lt;lambda_0&gt;</th>\n",
       "    </tr>\n",
       "  </thead>\n",
       "  <tbody>\n",
       "    <tr>\n",
       "      <th>0</th>\n",
       "      <td>部门1</td>\n",
       "      <td>小部门1</td>\n",
       "      <td>133809</td>\n",
       "      <td>66904.500000</td>\n",
       "      <td>64665</td>\n",
       "    </tr>\n",
       "    <tr>\n",
       "      <th>1</th>\n",
       "      <td>部门1</td>\n",
       "      <td>小部门2</td>\n",
       "      <td>160420</td>\n",
       "      <td>53473.333333</td>\n",
       "      <td>23779</td>\n",
       "    </tr>\n",
       "    <tr>\n",
       "      <th>2</th>\n",
       "      <td>部门2</td>\n",
       "      <td>小部门3</td>\n",
       "      <td>98470</td>\n",
       "      <td>98470.000000</td>\n",
       "      <td>0</td>\n",
       "    </tr>\n",
       "    <tr>\n",
       "      <th>3</th>\n",
       "      <td>部门2</td>\n",
       "      <td>小部门4</td>\n",
       "      <td>236335</td>\n",
       "      <td>59083.750000</td>\n",
       "      <td>91595</td>\n",
       "    </tr>\n",
       "  </tbody>\n",
       "</table>\n",
       "</div>"
      ],
      "text/plain": [
       "  dept dept1     销售额                         \n",
       "                 sum          mean <lambda_0>\n",
       "0  部门1  小部门1  133809  66904.500000      64665\n",
       "1  部门1  小部门2  160420  53473.333333      23779\n",
       "2  部门2  小部门3   98470  98470.000000          0\n",
       "3  部门2  小部门4  236335  59083.750000      91595"
      ]
     },
     "execution_count": 7,
     "metadata": {},
     "output_type": "execute_result"
    }
   ],
   "source": [
    "df.groupby(['dept','dept1'],as_index=0).agg({'销售额':['sum','mean',lambda x :x.max()-x.min()]}) # agg 中加入自定函数"
   ]
  },
  {
   "cell_type": "code",
   "execution_count": 4,
   "id": "common-bryan",
   "metadata": {
    "execution": {
     "iopub.execute_input": "2021-07-08T06:32:41.244947Z",
     "iopub.status.busy": "2021-07-08T06:32:41.244947Z",
     "iopub.status.idle": "2021-07-08T06:32:41.259959Z",
     "shell.execute_reply": "2021-07-08T06:32:41.258937Z",
     "shell.execute_reply.started": "2021-07-08T06:32:41.244947Z"
    }
   },
   "outputs": [
    {
     "data": {
      "text/plain": [
       "dept\n",
       "部门1    [小部门1, 小部门2]\n",
       "部门2    [小部门3, 小部门4]\n",
       "Name: dept1, dtype: object"
      ]
     },
     "execution_count": 4,
     "metadata": {},
     "output_type": "execute_result"
    }
   ],
   "source": [
    "df.groupby(['dept'])['dept1'].unique() # 同前，换了统计对象，更简单清晰"
   ]
  },
  {
   "cell_type": "code",
   "execution_count": 3,
   "id": "competent-cache",
   "metadata": {
    "execution": {
     "iopub.execute_input": "2021-07-08T06:31:55.036932Z",
     "iopub.status.busy": "2021-07-08T06:31:55.036932Z",
     "iopub.status.idle": "2021-07-08T06:31:55.048964Z",
     "shell.execute_reply": "2021-07-08T06:31:55.048964Z",
     "shell.execute_reply.started": "2021-07-08T06:31:55.036932Z"
    }
   },
   "outputs": [
    {
     "data": {
      "text/plain": [
       "dept  dept1\n",
       "部门1   小部门1              [卢彬, 孙丹]\n",
       "      小部门2         [饶涛, 戴洁, 李建平]\n",
       "部门2   小部门3                  [麦芳]\n",
       "      小部门4     [李杨, 杨丽, 丁楠, 马凤英]\n",
       "Name: name, dtype: object"
      ]
     },
     "execution_count": 3,
     "metadata": {},
     "output_type": "execute_result"
    }
   ],
   "source": [
    "df.groupby(['dept','dept1'])['name'].unique() # 分组统计每个组内的不重复的元素"
   ]
  }
 ],
 "metadata": {
  "kernelspec": {
   "display_name": "Python 3",
   "language": "python",
   "name": "python3"
  },
  "language_info": {
   "codemirror_mode": {
    "name": "ipython",
    "version": 3
   },
   "file_extension": ".py",
   "mimetype": "text/x-python",
   "name": "python",
   "nbconvert_exporter": "python",
   "pygments_lexer": "ipython3",
   "version": "3.6.8"
  }
 },
 "nbformat": 4,
 "nbformat_minor": 5
}
