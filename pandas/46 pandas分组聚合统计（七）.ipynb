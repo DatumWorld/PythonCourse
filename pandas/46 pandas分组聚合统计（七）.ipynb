{
 "cells": [
  {
   "cell_type": "markdown",
   "id": "residential-lesson",
   "metadata": {
    "execution": {
     "iopub.execute_input": "2021-05-10T07:18:52.990449Z",
     "iopub.status.busy": "2021-05-10T07:18:52.990449Z",
     "iopub.status.idle": "2021-05-10T07:18:52.994464Z",
     "shell.execute_reply": "2021-05-10T07:18:52.993452Z",
     "shell.execute_reply.started": "2021-05-10T07:18:52.990449Z"
    }
   },
   "source": [
    "##  46 pandas分组聚合统计（七）"
   ]
  },
  {
   "cell_type": "markdown",
   "id": "realistic-patrick",
   "metadata": {},
   "source": [
    "### 分组聚合统计\n",
    "#### groupby  agg  自定义函数 列名 非标准列名"
   ]
  },
  {
   "cell_type": "code",
   "execution_count": 1,
   "id": "hidden-layout",
   "metadata": {
    "execution": {
     "iopub.execute_input": "2021-07-09T03:17:36.458240Z",
     "iopub.status.busy": "2021-07-09T03:17:36.458240Z",
     "iopub.status.idle": "2021-07-09T03:17:36.775275Z",
     "shell.execute_reply": "2021-07-09T03:17:36.775275Z",
     "shell.execute_reply.started": "2021-07-09T03:17:36.458240Z"
    }
   },
   "outputs": [],
   "source": [
    "import numpy  as np\n",
    "import pandas as pd\n",
    "from faker import Faker\n",
    "\n",
    "fake = Faker('zh_CN')\n",
    "df=pd.DataFrame(data=[ [fake.name()] for x in range(10) ],columns=['name'])\n",
    "df['销售额']=np.random.randint(100,100000,size=(10, 1))\n",
    "df['奖金']=np.random.randint(100,100000,size=(10, 1))\n",
    "df.insert(0,'dept',['部门1']*5+['部门2']*5)\n",
    "df.insert(1,'dept1',['小部门1']*2+['小部门2']*3+['小部门3']*1+['小部门4']*4)"
   ]
  },
  {
   "cell_type": "code",
   "execution_count": 2,
   "id": "tired-bedroom",
   "metadata": {
    "execution": {
     "iopub.execute_input": "2021-07-09T03:17:36.777242Z",
     "iopub.status.busy": "2021-07-09T03:17:36.776276Z",
     "iopub.status.idle": "2021-07-09T03:17:36.794239Z",
     "shell.execute_reply": "2021-07-09T03:17:36.794239Z",
     "shell.execute_reply.started": "2021-07-09T03:17:36.777242Z"
    }
   },
   "outputs": [
    {
     "data": {
      "text/html": [
       "<div>\n",
       "<style scoped>\n",
       "    .dataframe tbody tr th:only-of-type {\n",
       "        vertical-align: middle;\n",
       "    }\n",
       "\n",
       "    .dataframe tbody tr th {\n",
       "        vertical-align: top;\n",
       "    }\n",
       "\n",
       "    .dataframe thead th {\n",
       "        text-align: right;\n",
       "    }\n",
       "</style>\n",
       "<table border=\"1\" class=\"dataframe\">\n",
       "  <thead>\n",
       "    <tr style=\"text-align: right;\">\n",
       "      <th></th>\n",
       "      <th>dept</th>\n",
       "      <th>dept1</th>\n",
       "      <th>name</th>\n",
       "      <th>销售额</th>\n",
       "      <th>奖金</th>\n",
       "    </tr>\n",
       "  </thead>\n",
       "  <tbody>\n",
       "    <tr>\n",
       "      <th>0</th>\n",
       "      <td>部门1</td>\n",
       "      <td>小部门1</td>\n",
       "      <td>胡雷</td>\n",
       "      <td>30309</td>\n",
       "      <td>41215</td>\n",
       "    </tr>\n",
       "    <tr>\n",
       "      <th>1</th>\n",
       "      <td>部门1</td>\n",
       "      <td>小部门1</td>\n",
       "      <td>李丹</td>\n",
       "      <td>22173</td>\n",
       "      <td>54306</td>\n",
       "    </tr>\n",
       "    <tr>\n",
       "      <th>2</th>\n",
       "      <td>部门1</td>\n",
       "      <td>小部门2</td>\n",
       "      <td>高浩</td>\n",
       "      <td>8077</td>\n",
       "      <td>98163</td>\n",
       "    </tr>\n",
       "    <tr>\n",
       "      <th>3</th>\n",
       "      <td>部门1</td>\n",
       "      <td>小部门2</td>\n",
       "      <td>金琳</td>\n",
       "      <td>17774</td>\n",
       "      <td>4167</td>\n",
       "    </tr>\n",
       "    <tr>\n",
       "      <th>4</th>\n",
       "      <td>部门1</td>\n",
       "      <td>小部门2</td>\n",
       "      <td>罗静</td>\n",
       "      <td>95539</td>\n",
       "      <td>92517</td>\n",
       "    </tr>\n",
       "    <tr>\n",
       "      <th>5</th>\n",
       "      <td>部门2</td>\n",
       "      <td>小部门3</td>\n",
       "      <td>成璐</td>\n",
       "      <td>85574</td>\n",
       "      <td>76045</td>\n",
       "    </tr>\n",
       "    <tr>\n",
       "      <th>6</th>\n",
       "      <td>部门2</td>\n",
       "      <td>小部门4</td>\n",
       "      <td>王琴</td>\n",
       "      <td>35527</td>\n",
       "      <td>54822</td>\n",
       "    </tr>\n",
       "    <tr>\n",
       "      <th>7</th>\n",
       "      <td>部门2</td>\n",
       "      <td>小部门4</td>\n",
       "      <td>鞠娟</td>\n",
       "      <td>96039</td>\n",
       "      <td>81361</td>\n",
       "    </tr>\n",
       "    <tr>\n",
       "      <th>8</th>\n",
       "      <td>部门2</td>\n",
       "      <td>小部门4</td>\n",
       "      <td>吴云</td>\n",
       "      <td>49867</td>\n",
       "      <td>67502</td>\n",
       "    </tr>\n",
       "    <tr>\n",
       "      <th>9</th>\n",
       "      <td>部门2</td>\n",
       "      <td>小部门4</td>\n",
       "      <td>郑丹丹</td>\n",
       "      <td>31522</td>\n",
       "      <td>44010</td>\n",
       "    </tr>\n",
       "  </tbody>\n",
       "</table>\n",
       "</div>"
      ],
      "text/plain": [
       "  dept dept1 name    销售额     奖金\n",
       "0  部门1  小部门1   胡雷  30309  41215\n",
       "1  部门1  小部门1   李丹  22173  54306\n",
       "2  部门1  小部门2   高浩   8077  98163\n",
       "3  部门1  小部门2   金琳  17774   4167\n",
       "4  部门1  小部门2   罗静  95539  92517\n",
       "5  部门2  小部门3   成璐  85574  76045\n",
       "6  部门2  小部门4   王琴  35527  54822\n",
       "7  部门2  小部门4   鞠娟  96039  81361\n",
       "8  部门2  小部门4   吴云  49867  67502\n",
       "9  部门2  小部门4  郑丹丹  31522  44010"
      ]
     },
     "execution_count": 2,
     "metadata": {},
     "output_type": "execute_result"
    }
   ],
   "source": [
    "df # 随机生成的数据"
   ]
  },
  {
   "cell_type": "code",
   "execution_count": 12,
   "id": "human-appreciation",
   "metadata": {
    "execution": {
     "iopub.execute_input": "2021-07-09T03:25:18.814241Z",
     "iopub.status.busy": "2021-07-09T03:25:18.813242Z",
     "iopub.status.idle": "2021-07-09T03:25:18.835239Z",
     "shell.execute_reply": "2021-07-09T03:25:18.835239Z",
     "shell.execute_reply.started": "2021-07-09T03:25:18.813242Z"
    }
   },
   "outputs": [
    {
     "data": {
      "text/html": [
       "<div>\n",
       "<style scoped>\n",
       "    .dataframe tbody tr th:only-of-type {\n",
       "        vertical-align: middle;\n",
       "    }\n",
       "\n",
       "    .dataframe tbody tr th {\n",
       "        vertical-align: top;\n",
       "    }\n",
       "\n",
       "    .dataframe thead th {\n",
       "        text-align: right;\n",
       "    }\n",
       "</style>\n",
       "<table border=\"1\" class=\"dataframe\">\n",
       "  <thead>\n",
       "    <tr style=\"text-align: right;\">\n",
       "      <th></th>\n",
       "      <th>dept</th>\n",
       "      <th>dept1</th>\n",
       "      <th>销售额</th>\n",
       "      <th>销售额 平均</th>\n",
       "    </tr>\n",
       "  </thead>\n",
       "  <tbody>\n",
       "    <tr>\n",
       "      <th>0</th>\n",
       "      <td>部门1</td>\n",
       "      <td>小部门1</td>\n",
       "      <td>52482</td>\n",
       "      <td>26241.000000</td>\n",
       "    </tr>\n",
       "    <tr>\n",
       "      <th>1</th>\n",
       "      <td>部门1</td>\n",
       "      <td>小部门2</td>\n",
       "      <td>121390</td>\n",
       "      <td>40463.333333</td>\n",
       "    </tr>\n",
       "    <tr>\n",
       "      <th>2</th>\n",
       "      <td>部门2</td>\n",
       "      <td>小部门3</td>\n",
       "      <td>85574</td>\n",
       "      <td>85574.000000</td>\n",
       "    </tr>\n",
       "    <tr>\n",
       "      <th>3</th>\n",
       "      <td>部门2</td>\n",
       "      <td>小部门4</td>\n",
       "      <td>212955</td>\n",
       "      <td>53238.750000</td>\n",
       "    </tr>\n",
       "  </tbody>\n",
       "</table>\n",
       "</div>"
      ],
      "text/plain": [
       "  dept dept1     销售额        销售额 平均\n",
       "0  部门1  小部门1   52482  26241.000000\n",
       "1  部门1  小部门2  121390  40463.333333\n",
       "2  部门2  小部门3   85574  85574.000000\n",
       "3  部门2  小部门4  212955  53238.750000"
      ]
     },
     "execution_count": 12,
     "metadata": {},
     "output_type": "execute_result"
    }
   ],
   "source": [
    "df.groupby(['dept','dept1'],as_index=0).agg( # 自定义列名不符合python要求时 的写法\n",
    "    **{'销售额':('销售额','sum'),\n",
    "       '销售额 平均':('销售额','mean')}\n",
    ")"
   ]
  },
  {
   "cell_type": "code",
   "execution_count": 5,
   "id": "smart-bhutan",
   "metadata": {
    "execution": {
     "iopub.execute_input": "2021-07-09T03:21:01.027240Z",
     "iopub.status.busy": "2021-07-09T03:21:01.026240Z",
     "iopub.status.idle": "2021-07-09T03:21:01.050241Z",
     "shell.execute_reply": "2021-07-09T03:21:01.048243Z",
     "shell.execute_reply.started": "2021-07-09T03:21:01.027240Z"
    }
   },
   "outputs": [
    {
     "data": {
      "text/html": [
       "<div>\n",
       "<style scoped>\n",
       "    .dataframe tbody tr th:only-of-type {\n",
       "        vertical-align: middle;\n",
       "    }\n",
       "\n",
       "    .dataframe tbody tr th {\n",
       "        vertical-align: top;\n",
       "    }\n",
       "\n",
       "    .dataframe thead th {\n",
       "        text-align: right;\n",
       "    }\n",
       "</style>\n",
       "<table border=\"1\" class=\"dataframe\">\n",
       "  <thead>\n",
       "    <tr style=\"text-align: right;\">\n",
       "      <th></th>\n",
       "      <th>dept</th>\n",
       "      <th>dept1</th>\n",
       "      <th>销售额</th>\n",
       "      <th>销售额_平均</th>\n",
       "    </tr>\n",
       "  </thead>\n",
       "  <tbody>\n",
       "    <tr>\n",
       "      <th>0</th>\n",
       "      <td>部门1</td>\n",
       "      <td>小部门1</td>\n",
       "      <td>52482</td>\n",
       "      <td>26241.000000</td>\n",
       "    </tr>\n",
       "    <tr>\n",
       "      <th>1</th>\n",
       "      <td>部门1</td>\n",
       "      <td>小部门2</td>\n",
       "      <td>121390</td>\n",
       "      <td>40463.333333</td>\n",
       "    </tr>\n",
       "    <tr>\n",
       "      <th>2</th>\n",
       "      <td>部门2</td>\n",
       "      <td>小部门3</td>\n",
       "      <td>85574</td>\n",
       "      <td>85574.000000</td>\n",
       "    </tr>\n",
       "    <tr>\n",
       "      <th>3</th>\n",
       "      <td>部门2</td>\n",
       "      <td>小部门4</td>\n",
       "      <td>212955</td>\n",
       "      <td>53238.750000</td>\n",
       "    </tr>\n",
       "  </tbody>\n",
       "</table>\n",
       "</div>"
      ],
      "text/plain": [
       "  dept dept1     销售额        销售额_平均\n",
       "0  部门1  小部门1   52482  26241.000000\n",
       "1  部门1  小部门2  121390  40463.333333\n",
       "2  部门2  小部门3   85574  85574.000000\n",
       "3  部门2  小部门4  212955  53238.750000"
      ]
     },
     "execution_count": 5,
     "metadata": {},
     "output_type": "execute_result"
    }
   ],
   "source": [
    "df.groupby(['dept','dept1'],as_index=0).agg(销售额=pd.NamedAgg('销售额',lambda x:x.sum()),销售额_平均=('销售额','mean')) # 这是NamedAgg的标准写法，下方是简写"
   ]
  },
  {
   "cell_type": "code",
   "execution_count": 4,
   "id": "linear-romance",
   "metadata": {
    "execution": {
     "iopub.execute_input": "2021-07-09T03:20:15.667240Z",
     "iopub.status.busy": "2021-07-09T03:20:15.667240Z",
     "iopub.status.idle": "2021-07-09T03:20:15.690239Z",
     "shell.execute_reply": "2021-07-09T03:20:15.690239Z",
     "shell.execute_reply.started": "2021-07-09T03:20:15.667240Z"
    }
   },
   "outputs": [
    {
     "data": {
      "text/html": [
       "<div>\n",
       "<style scoped>\n",
       "    .dataframe tbody tr th:only-of-type {\n",
       "        vertical-align: middle;\n",
       "    }\n",
       "\n",
       "    .dataframe tbody tr th {\n",
       "        vertical-align: top;\n",
       "    }\n",
       "\n",
       "    .dataframe thead th {\n",
       "        text-align: right;\n",
       "    }\n",
       "</style>\n",
       "<table border=\"1\" class=\"dataframe\">\n",
       "  <thead>\n",
       "    <tr style=\"text-align: right;\">\n",
       "      <th></th>\n",
       "      <th>dept</th>\n",
       "      <th>dept1</th>\n",
       "      <th>销售额</th>\n",
       "      <th>销售额_平均</th>\n",
       "    </tr>\n",
       "  </thead>\n",
       "  <tbody>\n",
       "    <tr>\n",
       "      <th>0</th>\n",
       "      <td>部门1</td>\n",
       "      <td>小部门1</td>\n",
       "      <td>52482</td>\n",
       "      <td>26241.000000</td>\n",
       "    </tr>\n",
       "    <tr>\n",
       "      <th>1</th>\n",
       "      <td>部门1</td>\n",
       "      <td>小部门2</td>\n",
       "      <td>121390</td>\n",
       "      <td>40463.333333</td>\n",
       "    </tr>\n",
       "    <tr>\n",
       "      <th>2</th>\n",
       "      <td>部门2</td>\n",
       "      <td>小部门3</td>\n",
       "      <td>85574</td>\n",
       "      <td>85574.000000</td>\n",
       "    </tr>\n",
       "    <tr>\n",
       "      <th>3</th>\n",
       "      <td>部门2</td>\n",
       "      <td>小部门4</td>\n",
       "      <td>212955</td>\n",
       "      <td>53238.750000</td>\n",
       "    </tr>\n",
       "  </tbody>\n",
       "</table>\n",
       "</div>"
      ],
      "text/plain": [
       "  dept dept1     销售额        销售额_平均\n",
       "0  部门1  小部门1   52482  26241.000000\n",
       "1  部门1  小部门2  121390  40463.333333\n",
       "2  部门2  小部门3   85574  85574.000000\n",
       "3  部门2  小部门4  212955  53238.750000"
      ]
     },
     "execution_count": 4,
     "metadata": {},
     "output_type": "execute_result"
    }
   ],
   "source": [
    "df.groupby(['dept','dept1'],as_index=0).agg(销售额=('销售额',lambda x:x.sum()),销售额_平均=('销售额','mean')) # 可以使用lambda"
   ]
  },
  {
   "cell_type": "code",
   "execution_count": 3,
   "id": "incoming-variance",
   "metadata": {
    "execution": {
     "iopub.execute_input": "2021-07-09T03:19:48.683241Z",
     "iopub.status.busy": "2021-07-09T03:19:48.683241Z",
     "iopub.status.idle": "2021-07-09T03:19:48.710238Z",
     "shell.execute_reply": "2021-07-09T03:19:48.710238Z",
     "shell.execute_reply.started": "2021-07-09T03:19:48.683241Z"
    }
   },
   "outputs": [
    {
     "data": {
      "text/html": [
       "<div>\n",
       "<style scoped>\n",
       "    .dataframe tbody tr th:only-of-type {\n",
       "        vertical-align: middle;\n",
       "    }\n",
       "\n",
       "    .dataframe tbody tr th {\n",
       "        vertical-align: top;\n",
       "    }\n",
       "\n",
       "    .dataframe thead th {\n",
       "        text-align: right;\n",
       "    }\n",
       "</style>\n",
       "<table border=\"1\" class=\"dataframe\">\n",
       "  <thead>\n",
       "    <tr style=\"text-align: right;\">\n",
       "      <th></th>\n",
       "      <th>dept</th>\n",
       "      <th>dept1</th>\n",
       "      <th>销售额</th>\n",
       "      <th>销售额_平均</th>\n",
       "    </tr>\n",
       "  </thead>\n",
       "  <tbody>\n",
       "    <tr>\n",
       "      <th>0</th>\n",
       "      <td>部门1</td>\n",
       "      <td>小部门1</td>\n",
       "      <td>52482</td>\n",
       "      <td>26241.000000</td>\n",
       "    </tr>\n",
       "    <tr>\n",
       "      <th>1</th>\n",
       "      <td>部门1</td>\n",
       "      <td>小部门2</td>\n",
       "      <td>121390</td>\n",
       "      <td>40463.333333</td>\n",
       "    </tr>\n",
       "    <tr>\n",
       "      <th>2</th>\n",
       "      <td>部门2</td>\n",
       "      <td>小部门3</td>\n",
       "      <td>85574</td>\n",
       "      <td>85574.000000</td>\n",
       "    </tr>\n",
       "    <tr>\n",
       "      <th>3</th>\n",
       "      <td>部门2</td>\n",
       "      <td>小部门4</td>\n",
       "      <td>212955</td>\n",
       "      <td>53238.750000</td>\n",
       "    </tr>\n",
       "  </tbody>\n",
       "</table>\n",
       "</div>"
      ],
      "text/plain": [
       "  dept dept1     销售额        销售额_平均\n",
       "0  部门1  小部门1   52482  26241.000000\n",
       "1  部门1  小部门2  121390  40463.333333\n",
       "2  部门2  小部门3   85574  85574.000000\n",
       "3  部门2  小部门4  212955  53238.750000"
      ]
     },
     "execution_count": 3,
     "metadata": {},
     "output_type": "execute_result"
    }
   ],
   "source": [
    "df.groupby(['dept','dept1'],as_index=0).agg(销售额=('销售额','sum'),销售额_平均=('销售额','mean'))"
   ]
  }
 ],
 "metadata": {
  "kernelspec": {
   "display_name": "Python 3",
   "language": "python",
   "name": "python3"
  },
  "language_info": {
   "codemirror_mode": {
    "name": "ipython",
    "version": 3
   },
   "file_extension": ".py",
   "mimetype": "text/x-python",
   "name": "python",
   "nbconvert_exporter": "python",
   "pygments_lexer": "ipython3",
   "version": "3.6.8"
  }
 },
 "nbformat": 4,
 "nbformat_minor": 5
}
