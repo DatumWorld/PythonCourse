{
 "cells": [
  {
   "cell_type": "markdown",
   "id": "sixth-teddy",
   "metadata": {
    "execution": {
     "iopub.execute_input": "2021-05-10T07:18:52.990449Z",
     "iopub.status.busy": "2021-05-10T07:18:52.990449Z",
     "iopub.status.idle": "2021-05-10T07:18:52.994464Z",
     "shell.execute_reply": "2021-05-10T07:18:52.993452Z",
     "shell.execute_reply.started": "2021-05-10T07:18:52.990449Z"
    }
   },
   "source": [
    "##  47 pandas分组聚合统计（八）"
   ]
  },
  {
   "cell_type": "markdown",
   "id": "compact-topic",
   "metadata": {},
   "source": [
    "### 分组聚合统计\n",
    "#### groupby  agg  transform"
   ]
  },
  {
   "cell_type": "code",
   "execution_count": 1,
   "id": "corporate-wound",
   "metadata": {
    "execution": {
     "iopub.execute_input": "2021-07-09T06:47:36.659263Z",
     "iopub.status.busy": "2021-07-09T06:47:36.658262Z",
     "iopub.status.idle": "2021-07-09T06:47:36.972295Z",
     "shell.execute_reply": "2021-07-09T06:47:36.972295Z",
     "shell.execute_reply.started": "2021-07-09T06:47:36.659263Z"
    }
   },
   "outputs": [],
   "source": [
    "import numpy  as np\n",
    "import pandas as pd\n",
    "from faker import Faker\n",
    "\n",
    "fake = Faker('zh_CN')\n",
    "df=pd.DataFrame(data=[ [fake.name()] for x in range(10) ],columns=['name'])\n",
    "df['销售额']=np.random.randint(100,100000,size=(10, 1))\n",
    "df['奖金']=np.random.randint(100,100000,size=(10, 1))\n",
    "df.insert(0,'dept',['部门1']*5+['部门2']*5)\n",
    "df.insert(1,'dept1',['小部门1']*2+['小部门2']*3+['小部门3']*1+['小部门4']*4)"
   ]
  },
  {
   "cell_type": "code",
   "execution_count": 18,
   "id": "involved-basin",
   "metadata": {
    "execution": {
     "iopub.execute_input": "2021-07-09T06:56:48.235305Z",
     "iopub.status.busy": "2021-07-09T06:56:48.235305Z",
     "iopub.status.idle": "2021-07-09T06:56:48.247266Z",
     "shell.execute_reply": "2021-07-09T06:56:48.246264Z",
     "shell.execute_reply.started": "2021-07-09T06:56:48.235305Z"
    }
   },
   "outputs": [
    {
     "data": {
      "text/html": [
       "<div>\n",
       "<style scoped>\n",
       "    .dataframe tbody tr th:only-of-type {\n",
       "        vertical-align: middle;\n",
       "    }\n",
       "\n",
       "    .dataframe tbody tr th {\n",
       "        vertical-align: top;\n",
       "    }\n",
       "\n",
       "    .dataframe thead th {\n",
       "        text-align: right;\n",
       "    }\n",
       "</style>\n",
       "<table border=\"1\" class=\"dataframe\">\n",
       "  <thead>\n",
       "    <tr style=\"text-align: right;\">\n",
       "      <th></th>\n",
       "      <th>dept</th>\n",
       "      <th>dept1</th>\n",
       "      <th>name</th>\n",
       "      <th>销售额</th>\n",
       "      <th>奖金</th>\n",
       "      <th>销售额—占比</th>\n",
       "      <th>销售额—小部门占比</th>\n",
       "    </tr>\n",
       "  </thead>\n",
       "  <tbody>\n",
       "    <tr>\n",
       "      <th>0</th>\n",
       "      <td>部门1</td>\n",
       "      <td>小部门1</td>\n",
       "      <td>黄坤</td>\n",
       "      <td>59406</td>\n",
       "      <td>30514</td>\n",
       "      <td>0.330118</td>\n",
       "      <td>0.700</td>\n",
       "    </tr>\n",
       "    <tr>\n",
       "      <th>1</th>\n",
       "      <td>部门1</td>\n",
       "      <td>小部门1</td>\n",
       "      <td>刘鹏</td>\n",
       "      <td>25497</td>\n",
       "      <td>54517</td>\n",
       "      <td>0.141686</td>\n",
       "      <td>0.300</td>\n",
       "    </tr>\n",
       "    <tr>\n",
       "      <th>2</th>\n",
       "      <td>部门1</td>\n",
       "      <td>小部门2</td>\n",
       "      <td>蔡璐</td>\n",
       "      <td>47603</td>\n",
       "      <td>69622</td>\n",
       "      <td>0.264529</td>\n",
       "      <td>0.501</td>\n",
       "    </tr>\n",
       "    <tr>\n",
       "      <th>3</th>\n",
       "      <td>部门1</td>\n",
       "      <td>小部门2</td>\n",
       "      <td>雷伟</td>\n",
       "      <td>10533</td>\n",
       "      <td>62148</td>\n",
       "      <td>0.058532</td>\n",
       "      <td>0.111</td>\n",
       "    </tr>\n",
       "    <tr>\n",
       "      <th>4</th>\n",
       "      <td>部门1</td>\n",
       "      <td>小部门2</td>\n",
       "      <td>周婷</td>\n",
       "      <td>36915</td>\n",
       "      <td>77583</td>\n",
       "      <td>0.205136</td>\n",
       "      <td>0.388</td>\n",
       "    </tr>\n",
       "    <tr>\n",
       "      <th>5</th>\n",
       "      <td>部门2</td>\n",
       "      <td>小部门3</td>\n",
       "      <td>陈淑英</td>\n",
       "      <td>5775</td>\n",
       "      <td>24060</td>\n",
       "      <td>0.030645</td>\n",
       "      <td>1.000</td>\n",
       "    </tr>\n",
       "    <tr>\n",
       "      <th>6</th>\n",
       "      <td>部门2</td>\n",
       "      <td>小部门4</td>\n",
       "      <td>宋桂香</td>\n",
       "      <td>75203</td>\n",
       "      <td>497</td>\n",
       "      <td>0.399063</td>\n",
       "      <td>0.412</td>\n",
       "    </tr>\n",
       "    <tr>\n",
       "      <th>7</th>\n",
       "      <td>部门2</td>\n",
       "      <td>小部门4</td>\n",
       "      <td>景建国</td>\n",
       "      <td>4022</td>\n",
       "      <td>93405</td>\n",
       "      <td>0.021343</td>\n",
       "      <td>0.022</td>\n",
       "    </tr>\n",
       "    <tr>\n",
       "      <th>8</th>\n",
       "      <td>部门2</td>\n",
       "      <td>小部门4</td>\n",
       "      <td>白海燕</td>\n",
       "      <td>51550</td>\n",
       "      <td>13873</td>\n",
       "      <td>0.273549</td>\n",
       "      <td>0.282</td>\n",
       "    </tr>\n",
       "    <tr>\n",
       "      <th>9</th>\n",
       "      <td>部门2</td>\n",
       "      <td>小部门4</td>\n",
       "      <td>陶磊</td>\n",
       "      <td>51899</td>\n",
       "      <td>20512</td>\n",
       "      <td>0.275401</td>\n",
       "      <td>0.284</td>\n",
       "    </tr>\n",
       "  </tbody>\n",
       "</table>\n",
       "</div>"
      ],
      "text/plain": [
       "  dept dept1 name    销售额     奖金    销售额—占比  销售额—小部门占比\n",
       "0  部门1  小部门1   黄坤  59406  30514  0.330118      0.700\n",
       "1  部门1  小部门1   刘鹏  25497  54517  0.141686      0.300\n",
       "2  部门1  小部门2   蔡璐  47603  69622  0.264529      0.501\n",
       "3  部门1  小部门2   雷伟  10533  62148  0.058532      0.111\n",
       "4  部门1  小部门2   周婷  36915  77583  0.205136      0.388\n",
       "5  部门2  小部门3  陈淑英   5775  24060  0.030645      1.000\n",
       "6  部门2  小部门4  宋桂香  75203    497  0.399063      0.412\n",
       "7  部门2  小部门4  景建国   4022  93405  0.021343      0.022\n",
       "8  部门2  小部门4  白海燕  51550  13873  0.273549      0.282\n",
       "9  部门2  小部门4   陶磊  51899  20512  0.275401      0.284"
      ]
     },
     "execution_count": 18,
     "metadata": {},
     "output_type": "execute_result"
    }
   ],
   "source": [
    "df # 随机生成的数据"
   ]
  },
  {
   "cell_type": "code",
   "execution_count": 17,
   "id": "quiet-denmark",
   "metadata": {
    "execution": {
     "iopub.execute_input": "2021-07-09T06:56:44.534281Z",
     "iopub.status.busy": "2021-07-09T06:56:44.534281Z",
     "iopub.status.idle": "2021-07-09T06:56:44.544279Z",
     "shell.execute_reply": "2021-07-09T06:56:44.543267Z",
     "shell.execute_reply.started": "2021-07-09T06:56:44.534281Z"
    }
   },
   "outputs": [],
   "source": [
    "df['销售额—小部门占比']=df.groupby(['dept','dept1'])['销售额'].transform(lambda x:x/x.sum()).round(3) # 可以调整格式"
   ]
  },
  {
   "cell_type": "code",
   "execution_count": 13,
   "id": "stupid-greene",
   "metadata": {
    "execution": {
     "iopub.execute_input": "2021-07-09T06:55:27.936272Z",
     "iopub.status.busy": "2021-07-09T06:55:27.936272Z",
     "iopub.status.idle": "2021-07-09T06:55:27.956265Z",
     "shell.execute_reply": "2021-07-09T06:55:27.955264Z",
     "shell.execute_reply.started": "2021-07-09T06:55:27.936272Z"
    }
   },
   "outputs": [],
   "source": [
    "df['销售额—小部门占比']=df.groupby(['dept','dept1'])['销售额'].transform(lambda x:x/x.sum()) # 也可以计算小部门的成员的销售额占比"
   ]
  },
  {
   "cell_type": "code",
   "execution_count": 11,
   "id": "young-bronze",
   "metadata": {
    "execution": {
     "iopub.execute_input": "2021-07-09T06:54:09.321264Z",
     "iopub.status.busy": "2021-07-09T06:54:09.321264Z",
     "iopub.status.idle": "2021-07-09T06:54:09.332265Z",
     "shell.execute_reply": "2021-07-09T06:54:09.331266Z",
     "shell.execute_reply.started": "2021-07-09T06:54:09.321264Z"
    }
   },
   "outputs": [],
   "source": [
    "df['销售额—占比']=df.groupby(['dept'])['销售额'].transform(lambda x:x/x.sum()) # 自增一列，计算各个部门的成员的销售额占比"
   ]
  },
  {
   "cell_type": "code",
   "execution_count": 9,
   "id": "going-ozone",
   "metadata": {
    "execution": {
     "iopub.execute_input": "2021-07-09T06:51:59.524262Z",
     "iopub.status.busy": "2021-07-09T06:51:59.524262Z",
     "iopub.status.idle": "2021-07-09T06:51:59.542294Z",
     "shell.execute_reply": "2021-07-09T06:51:59.542294Z",
     "shell.execute_reply.started": "2021-07-09T06:51:59.524262Z"
    }
   },
   "outputs": [
    {
     "data": {
      "text/html": [
       "<div>\n",
       "<style scoped>\n",
       "    .dataframe tbody tr th:only-of-type {\n",
       "        vertical-align: middle;\n",
       "    }\n",
       "\n",
       "    .dataframe tbody tr th {\n",
       "        vertical-align: top;\n",
       "    }\n",
       "\n",
       "    .dataframe thead th {\n",
       "        text-align: right;\n",
       "    }\n",
       "</style>\n",
       "<table border=\"1\" class=\"dataframe\">\n",
       "  <thead>\n",
       "    <tr style=\"text-align: right;\">\n",
       "      <th></th>\n",
       "      <th>销售额</th>\n",
       "      <th>奖金</th>\n",
       "    </tr>\n",
       "  </thead>\n",
       "  <tbody>\n",
       "    <tr>\n",
       "      <th>0</th>\n",
       "      <td>35990.8</td>\n",
       "      <td>58876.8</td>\n",
       "    </tr>\n",
       "    <tr>\n",
       "      <th>1</th>\n",
       "      <td>35990.8</td>\n",
       "      <td>58876.8</td>\n",
       "    </tr>\n",
       "    <tr>\n",
       "      <th>2</th>\n",
       "      <td>35990.8</td>\n",
       "      <td>58876.8</td>\n",
       "    </tr>\n",
       "    <tr>\n",
       "      <th>3</th>\n",
       "      <td>35990.8</td>\n",
       "      <td>58876.8</td>\n",
       "    </tr>\n",
       "    <tr>\n",
       "      <th>4</th>\n",
       "      <td>35990.8</td>\n",
       "      <td>58876.8</td>\n",
       "    </tr>\n",
       "    <tr>\n",
       "      <th>5</th>\n",
       "      <td>37689.8</td>\n",
       "      <td>30469.4</td>\n",
       "    </tr>\n",
       "    <tr>\n",
       "      <th>6</th>\n",
       "      <td>37689.8</td>\n",
       "      <td>30469.4</td>\n",
       "    </tr>\n",
       "    <tr>\n",
       "      <th>7</th>\n",
       "      <td>37689.8</td>\n",
       "      <td>30469.4</td>\n",
       "    </tr>\n",
       "    <tr>\n",
       "      <th>8</th>\n",
       "      <td>37689.8</td>\n",
       "      <td>30469.4</td>\n",
       "    </tr>\n",
       "    <tr>\n",
       "      <th>9</th>\n",
       "      <td>37689.8</td>\n",
       "      <td>30469.4</td>\n",
       "    </tr>\n",
       "  </tbody>\n",
       "</table>\n",
       "</div>"
      ],
      "text/plain": [
       "       销售额       奖金\n",
       "0  35990.8  58876.8\n",
       "1  35990.8  58876.8\n",
       "2  35990.8  58876.8\n",
       "3  35990.8  58876.8\n",
       "4  35990.8  58876.8\n",
       "5  37689.8  30469.4\n",
       "6  37689.8  30469.4\n",
       "7  37689.8  30469.4\n",
       "8  37689.8  30469.4\n",
       "9  37689.8  30469.4"
      ]
     },
     "execution_count": 9,
     "metadata": {},
     "output_type": "execute_result"
    }
   ],
   "source": [
    "df.groupby(['dept'])[['销售额','奖金']].transform('mean','sum')# 可以看出，不支持聚合写法"
   ]
  },
  {
   "cell_type": "code",
   "execution_count": 6,
   "id": "pediatric-blocking",
   "metadata": {
    "execution": {
     "iopub.execute_input": "2021-07-09T06:51:02.415264Z",
     "iopub.status.busy": "2021-07-09T06:51:02.415264Z",
     "iopub.status.idle": "2021-07-09T06:51:02.428263Z",
     "shell.execute_reply": "2021-07-09T06:51:02.427298Z",
     "shell.execute_reply.started": "2021-07-09T06:51:02.415264Z"
    }
   },
   "outputs": [
    {
     "data": {
      "text/html": [
       "<div>\n",
       "<style scoped>\n",
       "    .dataframe tbody tr th:only-of-type {\n",
       "        vertical-align: middle;\n",
       "    }\n",
       "\n",
       "    .dataframe tbody tr th {\n",
       "        vertical-align: top;\n",
       "    }\n",
       "\n",
       "    .dataframe thead th {\n",
       "        text-align: right;\n",
       "    }\n",
       "</style>\n",
       "<table border=\"1\" class=\"dataframe\">\n",
       "  <thead>\n",
       "    <tr style=\"text-align: right;\">\n",
       "      <th></th>\n",
       "      <th>销售额</th>\n",
       "      <th>奖金</th>\n",
       "    </tr>\n",
       "  </thead>\n",
       "  <tbody>\n",
       "    <tr>\n",
       "      <th>0</th>\n",
       "      <td>179954</td>\n",
       "      <td>294384</td>\n",
       "    </tr>\n",
       "    <tr>\n",
       "      <th>1</th>\n",
       "      <td>179954</td>\n",
       "      <td>294384</td>\n",
       "    </tr>\n",
       "    <tr>\n",
       "      <th>2</th>\n",
       "      <td>179954</td>\n",
       "      <td>294384</td>\n",
       "    </tr>\n",
       "    <tr>\n",
       "      <th>3</th>\n",
       "      <td>179954</td>\n",
       "      <td>294384</td>\n",
       "    </tr>\n",
       "    <tr>\n",
       "      <th>4</th>\n",
       "      <td>179954</td>\n",
       "      <td>294384</td>\n",
       "    </tr>\n",
       "    <tr>\n",
       "      <th>5</th>\n",
       "      <td>188449</td>\n",
       "      <td>152347</td>\n",
       "    </tr>\n",
       "    <tr>\n",
       "      <th>6</th>\n",
       "      <td>188449</td>\n",
       "      <td>152347</td>\n",
       "    </tr>\n",
       "    <tr>\n",
       "      <th>7</th>\n",
       "      <td>188449</td>\n",
       "      <td>152347</td>\n",
       "    </tr>\n",
       "    <tr>\n",
       "      <th>8</th>\n",
       "      <td>188449</td>\n",
       "      <td>152347</td>\n",
       "    </tr>\n",
       "    <tr>\n",
       "      <th>9</th>\n",
       "      <td>188449</td>\n",
       "      <td>152347</td>\n",
       "    </tr>\n",
       "  </tbody>\n",
       "</table>\n",
       "</div>"
      ],
      "text/plain": [
       "      销售额      奖金\n",
       "0  179954  294384\n",
       "1  179954  294384\n",
       "2  179954  294384\n",
       "3  179954  294384\n",
       "4  179954  294384\n",
       "5  188449  152347\n",
       "6  188449  152347\n",
       "7  188449  152347\n",
       "8  188449  152347\n",
       "9  188449  152347"
      ]
     },
     "execution_count": 6,
     "metadata": {},
     "output_type": "execute_result"
    }
   ],
   "source": [
    "df.groupby(['dept'])[['销售额','奖金']].transform('sum') # 计算各个dept的销售额的合计，返回列的形状行数与原来相同，对比下面。可以计算多列"
   ]
  },
  {
   "cell_type": "code",
   "execution_count": 3,
   "id": "excited-dayton",
   "metadata": {
    "execution": {
     "iopub.execute_input": "2021-07-09T06:48:25.390263Z",
     "iopub.status.busy": "2021-07-09T06:48:25.390263Z",
     "iopub.status.idle": "2021-07-09T06:48:25.398265Z",
     "shell.execute_reply": "2021-07-09T06:48:25.398265Z",
     "shell.execute_reply.started": "2021-07-09T06:48:25.390263Z"
    }
   },
   "outputs": [
    {
     "data": {
      "text/plain": [
       "0    179954\n",
       "1    179954\n",
       "2    179954\n",
       "3    179954\n",
       "4    179954\n",
       "5    188449\n",
       "6    188449\n",
       "7    188449\n",
       "8    188449\n",
       "9    188449\n",
       "Name: 销售额, dtype: int32"
      ]
     },
     "execution_count": 3,
     "metadata": {},
     "output_type": "execute_result"
    }
   ],
   "source": [
    "df.groupby(['dept'])['销售额'].transform('sum') # 计算各个dept的销售额的合计，返回列的形状行数与原来相同，对比下面"
   ]
  },
  {
   "cell_type": "code",
   "execution_count": 4,
   "id": "advanced-interim",
   "metadata": {
    "execution": {
     "iopub.execute_input": "2021-07-09T06:49:03.495267Z",
     "iopub.status.busy": "2021-07-09T06:49:03.494267Z",
     "iopub.status.idle": "2021-07-09T06:49:03.504294Z",
     "shell.execute_reply": "2021-07-09T06:49:03.501271Z",
     "shell.execute_reply.started": "2021-07-09T06:49:03.495267Z"
    }
   },
   "outputs": [
    {
     "data": {
      "text/plain": [
       "dept\n",
       "部门1    179954\n",
       "部门2    188449\n",
       "Name: 销售额, dtype: int32"
      ]
     },
     "execution_count": 4,
     "metadata": {},
     "output_type": "execute_result"
    }
   ],
   "source": [
    "df.groupby(['dept'])['销售额'].sum()"
   ]
  }
 ],
 "metadata": {
  "kernelspec": {
   "display_name": "Python 3",
   "language": "python",
   "name": "python3"
  },
  "language_info": {
   "codemirror_mode": {
    "name": "ipython",
    "version": 3
   },
   "file_extension": ".py",
   "mimetype": "text/x-python",
   "name": "python",
   "nbconvert_exporter": "python",
   "pygments_lexer": "ipython3",
   "version": "3.6.8"
  }
 },
 "nbformat": 4,
 "nbformat_minor": 5
}
