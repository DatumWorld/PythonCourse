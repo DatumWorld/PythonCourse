{
 "cells": [
  {
   "cell_type": "markdown",
   "id": "adjacent-nepal",
   "metadata": {
    "execution": {
     "iopub.execute_input": "2021-05-10T07:18:52.990449Z",
     "iopub.status.busy": "2021-05-10T07:18:52.990449Z",
     "iopub.status.idle": "2021-05-10T07:18:52.994464Z",
     "shell.execute_reply": "2021-05-10T07:18:52.993452Z",
     "shell.execute_reply.started": "2021-05-10T07:18:52.990449Z"
    }
   },
   "source": [
    "## 50 pandas基本运算(四)"
   ]
  },
  {
   "cell_type": "markdown",
   "id": "canadian-rough",
   "metadata": {},
   "source": [
    "### 加减乘除等与空值处理\n",
    "#### +-*/ // % **与 add sub mul div truediv floordiv mod pow"
   ]
  },
  {
   "cell_type": "code",
   "execution_count": 1,
   "id": "attractive-passage",
   "metadata": {
    "execution": {
     "iopub.execute_input": "2021-07-14T06:06:54.241654Z",
     "iopub.status.busy": "2021-07-14T06:06:54.241654Z",
     "iopub.status.idle": "2021-07-14T06:06:54.560687Z",
     "shell.execute_reply": "2021-07-14T06:06:54.560687Z",
     "shell.execute_reply.started": "2021-07-14T06:06:54.241654Z"
    }
   },
   "outputs": [],
   "source": [
    "import numpy  as np\n",
    "import pandas as pd\n",
    "from faker import Faker\n",
    "\n",
    "fake = Faker('zh_CN')\n",
    "df=pd.DataFrame(data=[ [fake.name()] for x in range(10) ],columns=['姓名'])"
   ]
  },
  {
   "cell_type": "code",
   "execution_count": 2,
   "id": "protected-spirit",
   "metadata": {
    "execution": {
     "iopub.execute_input": "2021-07-14T06:06:54.561653Z",
     "iopub.status.busy": "2021-07-14T06:06:54.561653Z",
     "iopub.status.idle": "2021-07-14T06:06:54.567655Z",
     "shell.execute_reply": "2021-07-14T06:06:54.567655Z",
     "shell.execute_reply.started": "2021-07-14T06:06:54.561653Z"
    }
   },
   "outputs": [],
   "source": [
    "df['销售额']=np.random.randint(100,100000,size=(10, 1))\n",
    "df['工龄']=np.random.randint(1,10,size=(10, 1))\n",
    "df.insert(0,'部门',['部门1']*5+['部门2']*5)\n",
    "df['绩效系数']=np.random.randint(7,10,size=(10, 1))/10\n",
    "df['补贴']=np.random.randint(10,1000,size=(10, 1))\n",
    "df['请假扣除']=np.random.randint(0,1000,size=(10, 1))"
   ]
  },
  {
   "cell_type": "code",
   "execution_count": 7,
   "id": "focused-yahoo",
   "metadata": {
    "execution": {
     "iopub.execute_input": "2021-07-14T06:09:11.138655Z",
     "iopub.status.busy": "2021-07-14T06:09:11.137655Z",
     "iopub.status.idle": "2021-07-14T06:09:11.149660Z",
     "shell.execute_reply": "2021-07-14T06:09:11.148660Z",
     "shell.execute_reply.started": "2021-07-14T06:09:11.138655Z"
    }
   },
   "outputs": [
    {
     "data": {
      "text/html": [
       "<div>\n",
       "<style scoped>\n",
       "    .dataframe tbody tr th:only-of-type {\n",
       "        vertical-align: middle;\n",
       "    }\n",
       "\n",
       "    .dataframe tbody tr th {\n",
       "        vertical-align: top;\n",
       "    }\n",
       "\n",
       "    .dataframe thead th {\n",
       "        text-align: right;\n",
       "    }\n",
       "</style>\n",
       "<table border=\"1\" class=\"dataframe\">\n",
       "  <thead>\n",
       "    <tr style=\"text-align: right;\">\n",
       "      <th></th>\n",
       "      <th>部门</th>\n",
       "      <th>姓名</th>\n",
       "      <th>销售额</th>\n",
       "      <th>工龄</th>\n",
       "      <th>绩效系数</th>\n",
       "      <th>补贴</th>\n",
       "      <th>请假扣除</th>\n",
       "    </tr>\n",
       "  </thead>\n",
       "  <tbody>\n",
       "    <tr>\n",
       "      <th>0</th>\n",
       "      <td>部门1</td>\n",
       "      <td>田艳</td>\n",
       "      <td>54285</td>\n",
       "      <td>3</td>\n",
       "      <td>0.7</td>\n",
       "      <td>NaN</td>\n",
       "      <td>794</td>\n",
       "    </tr>\n",
       "    <tr>\n",
       "      <th>1</th>\n",
       "      <td>部门1</td>\n",
       "      <td>洪艳</td>\n",
       "      <td>62028</td>\n",
       "      <td>2</td>\n",
       "      <td>0.9</td>\n",
       "      <td>343.0</td>\n",
       "      <td>756</td>\n",
       "    </tr>\n",
       "    <tr>\n",
       "      <th>2</th>\n",
       "      <td>部门1</td>\n",
       "      <td>余文</td>\n",
       "      <td>13790</td>\n",
       "      <td>9</td>\n",
       "      <td>0.9</td>\n",
       "      <td>12.0</td>\n",
       "      <td>802</td>\n",
       "    </tr>\n",
       "    <tr>\n",
       "      <th>3</th>\n",
       "      <td>部门1</td>\n",
       "      <td>迟凯</td>\n",
       "      <td>91290</td>\n",
       "      <td>2</td>\n",
       "      <td>0.8</td>\n",
       "      <td>190.0</td>\n",
       "      <td>985</td>\n",
       "    </tr>\n",
       "    <tr>\n",
       "      <th>4</th>\n",
       "      <td>部门1</td>\n",
       "      <td>毛欣</td>\n",
       "      <td>1170</td>\n",
       "      <td>6</td>\n",
       "      <td>0.9</td>\n",
       "      <td>658.0</td>\n",
       "      <td>168</td>\n",
       "    </tr>\n",
       "    <tr>\n",
       "      <th>5</th>\n",
       "      <td>部门2</td>\n",
       "      <td>祝金凤</td>\n",
       "      <td>74280</td>\n",
       "      <td>5</td>\n",
       "      <td>0.8</td>\n",
       "      <td>629.0</td>\n",
       "      <td>968</td>\n",
       "    </tr>\n",
       "    <tr>\n",
       "      <th>6</th>\n",
       "      <td>部门2</td>\n",
       "      <td>刘丹</td>\n",
       "      <td>44322</td>\n",
       "      <td>2</td>\n",
       "      <td>0.7</td>\n",
       "      <td>116.0</td>\n",
       "      <td>466</td>\n",
       "    </tr>\n",
       "    <tr>\n",
       "      <th>7</th>\n",
       "      <td>部门2</td>\n",
       "      <td>苗杨</td>\n",
       "      <td>86968</td>\n",
       "      <td>4</td>\n",
       "      <td>0.8</td>\n",
       "      <td>587.0</td>\n",
       "      <td>638</td>\n",
       "    </tr>\n",
       "    <tr>\n",
       "      <th>8</th>\n",
       "      <td>部门2</td>\n",
       "      <td>银斌</td>\n",
       "      <td>97070</td>\n",
       "      <td>3</td>\n",
       "      <td>0.7</td>\n",
       "      <td>495.0</td>\n",
       "      <td>4</td>\n",
       "    </tr>\n",
       "    <tr>\n",
       "      <th>9</th>\n",
       "      <td>部门2</td>\n",
       "      <td>李阳</td>\n",
       "      <td>73086</td>\n",
       "      <td>9</td>\n",
       "      <td>0.7</td>\n",
       "      <td>68.0</td>\n",
       "      <td>475</td>\n",
       "    </tr>\n",
       "  </tbody>\n",
       "</table>\n",
       "</div>"
      ],
      "text/plain": [
       "    部门   姓名    销售额  工龄  绩效系数     补贴  请假扣除\n",
       "0  部门1   田艳  54285   3   0.7    NaN   794\n",
       "1  部门1   洪艳  62028   2   0.9  343.0   756\n",
       "2  部门1   余文  13790   9   0.9   12.0   802\n",
       "3  部门1   迟凯  91290   2   0.8  190.0   985\n",
       "4  部门1   毛欣   1170   6   0.9  658.0   168\n",
       "5  部门2  祝金凤  74280   5   0.8  629.0   968\n",
       "6  部门2   刘丹  44322   2   0.7  116.0   466\n",
       "7  部门2   苗杨  86968   4   0.8  587.0   638\n",
       "8  部门2   银斌  97070   3   0.7  495.0     4\n",
       "9  部门2   李阳  73086   9   0.7   68.0   475"
      ]
     },
     "execution_count": 7,
     "metadata": {},
     "output_type": "execute_result"
    }
   ],
   "source": [
    "df # 随机生成的数据"
   ]
  },
  {
   "cell_type": "code",
   "execution_count": 31,
   "id": "primary-distance",
   "metadata": {
    "execution": {
     "iopub.execute_input": "2021-07-14T06:20:29.053680Z",
     "iopub.status.busy": "2021-07-14T06:20:29.053680Z",
     "iopub.status.idle": "2021-07-14T06:20:29.061654Z",
     "shell.execute_reply": "2021-07-14T06:20:29.061654Z",
     "shell.execute_reply.started": "2021-07-14T06:20:29.053680Z"
    }
   },
   "outputs": [
    {
     "data": {
      "text/html": [
       "<div>\n",
       "<style scoped>\n",
       "    .dataframe tbody tr th:only-of-type {\n",
       "        vertical-align: middle;\n",
       "    }\n",
       "\n",
       "    .dataframe tbody tr th {\n",
       "        vertical-align: top;\n",
       "    }\n",
       "\n",
       "    .dataframe thead th {\n",
       "        text-align: right;\n",
       "    }\n",
       "</style>\n",
       "<table border=\"1\" class=\"dataframe\">\n",
       "  <thead>\n",
       "    <tr style=\"text-align: right;\">\n",
       "      <th></th>\n",
       "      <th>补贴</th>\n",
       "      <th>绩效系数</th>\n",
       "    </tr>\n",
       "  </thead>\n",
       "  <tbody>\n",
       "    <tr>\n",
       "      <th>0</th>\n",
       "      <td>NaN</td>\n",
       "      <td>0.028248</td>\n",
       "    </tr>\n",
       "    <tr>\n",
       "      <th>1</th>\n",
       "      <td>4.747562e+12</td>\n",
       "      <td>0.348678</td>\n",
       "    </tr>\n",
       "    <tr>\n",
       "      <th>2</th>\n",
       "      <td>2.488320e+05</td>\n",
       "      <td>0.348678</td>\n",
       "    </tr>\n",
       "    <tr>\n",
       "      <th>3</th>\n",
       "      <td>2.476099e+11</td>\n",
       "      <td>0.107374</td>\n",
       "    </tr>\n",
       "    <tr>\n",
       "      <th>4</th>\n",
       "      <td>1.233472e+14</td>\n",
       "      <td>0.348678</td>\n",
       "    </tr>\n",
       "    <tr>\n",
       "      <th>5</th>\n",
       "      <td>9.845850e+13</td>\n",
       "      <td>0.107374</td>\n",
       "    </tr>\n",
       "    <tr>\n",
       "      <th>6</th>\n",
       "      <td>2.100342e+10</td>\n",
       "      <td>0.028248</td>\n",
       "    </tr>\n",
       "    <tr>\n",
       "      <th>7</th>\n",
       "      <td>6.969322e+13</td>\n",
       "      <td>0.107374</td>\n",
       "    </tr>\n",
       "    <tr>\n",
       "      <th>8</th>\n",
       "      <td>2.971844e+13</td>\n",
       "      <td>0.028248</td>\n",
       "    </tr>\n",
       "    <tr>\n",
       "      <th>9</th>\n",
       "      <td>1.453934e+09</td>\n",
       "      <td>0.028248</td>\n",
       "    </tr>\n",
       "  </tbody>\n",
       "</table>\n",
       "</div>"
      ],
      "text/plain": [
       "             补贴      绩效系数\n",
       "0           NaN  0.028248\n",
       "1  4.747562e+12  0.348678\n",
       "2  2.488320e+05  0.348678\n",
       "3  2.476099e+11  0.107374\n",
       "4  1.233472e+14  0.348678\n",
       "5  9.845850e+13  0.107374\n",
       "6  2.100342e+10  0.028248\n",
       "7  6.969322e+13  0.107374\n",
       "8  2.971844e+13  0.028248\n",
       "9  1.453934e+09  0.028248"
      ]
     },
     "execution_count": 31,
     "metadata": {},
     "output_type": "execute_result"
    }
   ],
   "source": [
    "df[['补贴','绩效系数']].pow([5,10]) # 等效下面"
   ]
  },
  {
   "cell_type": "code",
   "execution_count": 30,
   "id": "unknown-muscle",
   "metadata": {
    "execution": {
     "iopub.execute_input": "2021-07-14T06:19:48.104654Z",
     "iopub.status.busy": "2021-07-14T06:19:48.103655Z",
     "iopub.status.idle": "2021-07-14T06:19:48.112657Z",
     "shell.execute_reply": "2021-07-14T06:19:48.112657Z",
     "shell.execute_reply.started": "2021-07-14T06:19:48.104654Z"
    }
   },
   "outputs": [
    {
     "data": {
      "text/html": [
       "<div>\n",
       "<style scoped>\n",
       "    .dataframe tbody tr th:only-of-type {\n",
       "        vertical-align: middle;\n",
       "    }\n",
       "\n",
       "    .dataframe tbody tr th {\n",
       "        vertical-align: top;\n",
       "    }\n",
       "\n",
       "    .dataframe thead th {\n",
       "        text-align: right;\n",
       "    }\n",
       "</style>\n",
       "<table border=\"1\" class=\"dataframe\">\n",
       "  <thead>\n",
       "    <tr style=\"text-align: right;\">\n",
       "      <th></th>\n",
       "      <th>补贴</th>\n",
       "      <th>绩效系数</th>\n",
       "    </tr>\n",
       "  </thead>\n",
       "  <tbody>\n",
       "    <tr>\n",
       "      <th>0</th>\n",
       "      <td>NaN</td>\n",
       "      <td>0.028248</td>\n",
       "    </tr>\n",
       "    <tr>\n",
       "      <th>1</th>\n",
       "      <td>4.747562e+12</td>\n",
       "      <td>0.348678</td>\n",
       "    </tr>\n",
       "    <tr>\n",
       "      <th>2</th>\n",
       "      <td>2.488320e+05</td>\n",
       "      <td>0.348678</td>\n",
       "    </tr>\n",
       "    <tr>\n",
       "      <th>3</th>\n",
       "      <td>2.476099e+11</td>\n",
       "      <td>0.107374</td>\n",
       "    </tr>\n",
       "    <tr>\n",
       "      <th>4</th>\n",
       "      <td>1.233472e+14</td>\n",
       "      <td>0.348678</td>\n",
       "    </tr>\n",
       "    <tr>\n",
       "      <th>5</th>\n",
       "      <td>9.845850e+13</td>\n",
       "      <td>0.107374</td>\n",
       "    </tr>\n",
       "    <tr>\n",
       "      <th>6</th>\n",
       "      <td>2.100342e+10</td>\n",
       "      <td>0.028248</td>\n",
       "    </tr>\n",
       "    <tr>\n",
       "      <th>7</th>\n",
       "      <td>6.969322e+13</td>\n",
       "      <td>0.107374</td>\n",
       "    </tr>\n",
       "    <tr>\n",
       "      <th>8</th>\n",
       "      <td>2.971844e+13</td>\n",
       "      <td>0.028248</td>\n",
       "    </tr>\n",
       "    <tr>\n",
       "      <th>9</th>\n",
       "      <td>1.453934e+09</td>\n",
       "      <td>0.028248</td>\n",
       "    </tr>\n",
       "  </tbody>\n",
       "</table>\n",
       "</div>"
      ],
      "text/plain": [
       "             补贴      绩效系数\n",
       "0           NaN  0.028248\n",
       "1  4.747562e+12  0.348678\n",
       "2  2.488320e+05  0.348678\n",
       "3  2.476099e+11  0.107374\n",
       "4  1.233472e+14  0.348678\n",
       "5  9.845850e+13  0.107374\n",
       "6  2.100342e+10  0.028248\n",
       "7  6.969322e+13  0.107374\n",
       "8  2.971844e+13  0.028248\n",
       "9  1.453934e+09  0.028248"
      ]
     },
     "execution_count": 30,
     "metadata": {},
     "output_type": "execute_result"
    }
   ],
   "source": [
    "df[['补贴','绩效系数']]**([5,10]) # 也可以多列"
   ]
  },
  {
   "cell_type": "code",
   "execution_count": 24,
   "id": "dynamic-sustainability",
   "metadata": {
    "execution": {
     "iopub.execute_input": "2021-07-14T06:18:02.392652Z",
     "iopub.status.busy": "2021-07-14T06:18:02.391659Z",
     "iopub.status.idle": "2021-07-14T06:18:02.401657Z",
     "shell.execute_reply": "2021-07-14T06:18:02.400656Z",
     "shell.execute_reply.started": "2021-07-14T06:18:02.392652Z"
    }
   },
   "outputs": [
    {
     "data": {
      "text/plain": [
       "0             NaN\n",
       "1    2.253934e+25\n",
       "2    6.191736e+10\n",
       "3    6.131066e+22\n",
       "4    1.521454e+28\n",
       "5    9.694077e+27\n",
       "6    4.411435e+20\n",
       "7    4.857144e+27\n",
       "8    8.831856e+26\n",
       "9    2.113923e+18\n",
       "Name: 补贴, dtype: float64"
      ]
     },
     "execution_count": 24,
     "metadata": {},
     "output_type": "execute_result"
    }
   ],
   "source": [
    "df.补贴**10  # 指数幂乘。x的y次方。y大容易超出计算机数值范围"
   ]
  },
  {
   "cell_type": "code",
   "execution_count": 26,
   "id": "hollow-general",
   "metadata": {
    "execution": {
     "iopub.execute_input": "2021-07-14T06:18:25.193655Z",
     "iopub.status.busy": "2021-07-14T06:18:25.193655Z",
     "iopub.status.idle": "2021-07-14T06:18:25.202657Z",
     "shell.execute_reply": "2021-07-14T06:18:25.201666Z",
     "shell.execute_reply.started": "2021-07-14T06:18:25.193655Z"
    }
   },
   "outputs": [
    {
     "data": {
      "text/plain": [
       "0    0.000000e+00\n",
       "1    2.253934e+25\n",
       "2    6.191736e+10\n",
       "3    6.131066e+22\n",
       "4    1.521454e+28\n",
       "5    9.694077e+27\n",
       "6    4.411435e+20\n",
       "7    4.857144e+27\n",
       "8    8.831856e+26\n",
       "9    2.113923e+18\n",
       "Name: 补贴, dtype: float64"
      ]
     },
     "execution_count": 26,
     "metadata": {},
     "output_type": "execute_result"
    }
   ],
   "source": [
    "df.补贴.pow(10,fill_value=0) # 同上"
   ]
  },
  {
   "cell_type": "code",
   "execution_count": 21,
   "id": "animal-auditor",
   "metadata": {
    "execution": {
     "iopub.execute_input": "2021-07-14T06:16:08.340657Z",
     "iopub.status.busy": "2021-07-14T06:16:08.340657Z",
     "iopub.status.idle": "2021-07-14T06:16:08.347658Z",
     "shell.execute_reply": "2021-07-14T06:16:08.346656Z",
     "shell.execute_reply.started": "2021-07-14T06:16:08.340657Z"
    }
   },
   "outputs": [
    {
     "data": {
      "text/plain": [
       "0     NaN\n",
       "1    43.0\n",
       "2    12.0\n",
       "3    90.0\n",
       "4    58.0\n",
       "5    29.0\n",
       "6    16.0\n",
       "7    87.0\n",
       "8    95.0\n",
       "9    68.0\n",
       "Name: 补贴, dtype: float64"
      ]
     },
     "execution_count": 21,
     "metadata": {},
     "output_type": "execute_result"
    }
   ],
   "source": [
    "df.补贴%100  # 注意 nan"
   ]
  },
  {
   "cell_type": "code",
   "execution_count": 22,
   "id": "complex-return",
   "metadata": {
    "execution": {
     "iopub.execute_input": "2021-07-14T06:16:20.852655Z",
     "iopub.status.busy": "2021-07-14T06:16:20.852655Z",
     "iopub.status.idle": "2021-07-14T06:16:20.858653Z",
     "shell.execute_reply": "2021-07-14T06:16:20.858653Z",
     "shell.execute_reply.started": "2021-07-14T06:16:20.852655Z"
    }
   },
   "outputs": [
    {
     "data": {
      "text/plain": [
       "0     0.0\n",
       "1    43.0\n",
       "2    12.0\n",
       "3    90.0\n",
       "4    58.0\n",
       "5    29.0\n",
       "6    16.0\n",
       "7    87.0\n",
       "8    95.0\n",
       "9    68.0\n",
       "Name: 补贴, dtype: float64"
      ]
     },
     "execution_count": 22,
     "metadata": {},
     "output_type": "execute_result"
    }
   ],
   "source": [
    "df.补贴.mod(100,fill_value=0) # 求余数"
   ]
  },
  {
   "cell_type": "code",
   "execution_count": 19,
   "id": "happy-facial",
   "metadata": {
    "execution": {
     "iopub.execute_input": "2021-07-14T06:15:13.976654Z",
     "iopub.status.busy": "2021-07-14T06:15:13.976654Z",
     "iopub.status.idle": "2021-07-14T06:15:13.983662Z",
     "shell.execute_reply": "2021-07-14T06:15:13.982658Z",
     "shell.execute_reply.started": "2021-07-14T06:15:13.976654Z"
    }
   },
   "outputs": [
    {
     "data": {
      "text/plain": [
       "0    NaN\n",
       "1    3.0\n",
       "2    0.0\n",
       "3    1.0\n",
       "4    6.0\n",
       "5    6.0\n",
       "6    1.0\n",
       "7    5.0\n",
       "8    4.0\n",
       "9    0.0\n",
       "Name: 补贴, dtype: float64"
      ]
     },
     "execution_count": 19,
     "metadata": {},
     "output_type": "execute_result"
    }
   ],
   "source": [
    "df.补贴//100  # 注意 nan"
   ]
  },
  {
   "cell_type": "code",
   "execution_count": 20,
   "id": "yellow-regular",
   "metadata": {
    "execution": {
     "iopub.execute_input": "2021-07-14T06:15:31.117654Z",
     "iopub.status.busy": "2021-07-14T06:15:31.116658Z",
     "iopub.status.idle": "2021-07-14T06:15:31.124653Z",
     "shell.execute_reply": "2021-07-14T06:15:31.124653Z",
     "shell.execute_reply.started": "2021-07-14T06:15:31.117654Z"
    }
   },
   "outputs": [
    {
     "data": {
      "text/plain": [
       "0    0.0\n",
       "1    3.0\n",
       "2    0.0\n",
       "3    1.0\n",
       "4    6.0\n",
       "5    6.0\n",
       "6    1.0\n",
       "7    5.0\n",
       "8    4.0\n",
       "9    0.0\n",
       "Name: 补贴, dtype: float64"
      ]
     },
     "execution_count": 20,
     "metadata": {},
     "output_type": "execute_result"
    }
   ],
   "source": [
    "df.补贴.floordiv(100,fill_value=0) # 除法，保留整数结果，float方式。同样效果"
   ]
  },
  {
   "cell_type": "code",
   "execution_count": 18,
   "id": "worse-enterprise",
   "metadata": {
    "execution": {
     "iopub.execute_input": "2021-07-14T06:14:45.110654Z",
     "iopub.status.busy": "2021-07-14T06:14:45.110654Z",
     "iopub.status.idle": "2021-07-14T06:14:45.119657Z",
     "shell.execute_reply": "2021-07-14T06:14:45.118699Z",
     "shell.execute_reply.started": "2021-07-14T06:14:45.110654Z"
    }
   },
   "outputs": [
    {
     "data": {
      "text/plain": [
       "0    0.00\n",
       "1    3.43\n",
       "2    0.12\n",
       "3    1.90\n",
       "4    6.58\n",
       "5    6.29\n",
       "6    1.16\n",
       "7    5.87\n",
       "8    4.95\n",
       "9    0.68\n",
       "Name: 补贴, dtype: float64"
      ]
     },
     "execution_count": 18,
     "metadata": {},
     "output_type": "execute_result"
    }
   ],
   "source": [
    "df.补贴.truediv(100,fill_value=0) # 除法，float方式。同样效果"
   ]
  },
  {
   "cell_type": "code",
   "execution_count": 16,
   "id": "about-teddy",
   "metadata": {
    "execution": {
     "iopub.execute_input": "2021-07-14T06:13:42.339654Z",
     "iopub.status.busy": "2021-07-14T06:13:42.339654Z",
     "iopub.status.idle": "2021-07-14T06:13:42.347655Z",
     "shell.execute_reply": "2021-07-14T06:13:42.346657Z",
     "shell.execute_reply.started": "2021-07-14T06:13:42.339654Z"
    }
   },
   "outputs": [
    {
     "data": {
      "text/plain": [
       "0     NaN\n",
       "1    3.43\n",
       "2    0.12\n",
       "3    1.90\n",
       "4    6.58\n",
       "5    6.29\n",
       "6    1.16\n",
       "7    5.87\n",
       "8    4.95\n",
       "9    0.68\n",
       "Name: 补贴, dtype: float64"
      ]
     },
     "execution_count": 16,
     "metadata": {},
     "output_type": "execute_result"
    }
   ],
   "source": [
    "df.补贴/100  # 注意 nan"
   ]
  },
  {
   "cell_type": "code",
   "execution_count": 17,
   "id": "certain-sigma",
   "metadata": {
    "execution": {
     "iopub.execute_input": "2021-07-14T06:13:55.252657Z",
     "iopub.status.busy": "2021-07-14T06:13:55.251656Z",
     "iopub.status.idle": "2021-07-14T06:13:55.260659Z",
     "shell.execute_reply": "2021-07-14T06:13:55.259658Z",
     "shell.execute_reply.started": "2021-07-14T06:13:55.252657Z"
    }
   },
   "outputs": [
    {
     "data": {
      "text/plain": [
       "0    0.00\n",
       "1    3.43\n",
       "2    0.12\n",
       "3    1.90\n",
       "4    6.58\n",
       "5    6.29\n",
       "6    1.16\n",
       "7    5.87\n",
       "8    4.95\n",
       "9    0.68\n",
       "Name: 补贴, dtype: float64"
      ]
     },
     "execution_count": 17,
     "metadata": {},
     "output_type": "execute_result"
    }
   ],
   "source": [
    "df.补贴.div(100,fill_value=0) # 除法，float方式"
   ]
  },
  {
   "cell_type": "code",
   "execution_count": 14,
   "id": "anticipated-solomon",
   "metadata": {
    "execution": {
     "iopub.execute_input": "2021-07-14T06:13:03.795654Z",
     "iopub.status.busy": "2021-07-14T06:13:03.795654Z",
     "iopub.status.idle": "2021-07-14T06:13:03.801655Z",
     "shell.execute_reply": "2021-07-14T06:13:03.800655Z",
     "shell.execute_reply.started": "2021-07-14T06:13:03.795654Z"
    }
   },
   "outputs": [
    {
     "data": {
      "text/plain": [
       "0        NaN\n",
       "1    34300.0\n",
       "2     1200.0\n",
       "3    19000.0\n",
       "4    65800.0\n",
       "5    62900.0\n",
       "6    11600.0\n",
       "7    58700.0\n",
       "8    49500.0\n",
       "9     6800.0\n",
       "Name: 补贴, dtype: float64"
      ]
     },
     "execution_count": 14,
     "metadata": {},
     "output_type": "execute_result"
    }
   ],
   "source": [
    "df.补贴*100  # 注意 nan"
   ]
  },
  {
   "cell_type": "code",
   "execution_count": 15,
   "id": "suited-scratch",
   "metadata": {
    "execution": {
     "iopub.execute_input": "2021-07-14T06:13:20.992654Z",
     "iopub.status.busy": "2021-07-14T06:13:20.992654Z",
     "iopub.status.idle": "2021-07-14T06:13:21.001669Z",
     "shell.execute_reply": "2021-07-14T06:13:21.000660Z",
     "shell.execute_reply.started": "2021-07-14T06:13:20.992654Z"
    }
   },
   "outputs": [
    {
     "data": {
      "text/plain": [
       "0        0.0\n",
       "1    34300.0\n",
       "2     1200.0\n",
       "3    19000.0\n",
       "4    65800.0\n",
       "5    62900.0\n",
       "6    11600.0\n",
       "7    58700.0\n",
       "8    49500.0\n",
       "9     6800.0\n",
       "Name: 补贴, dtype: float64"
      ]
     },
     "execution_count": 15,
     "metadata": {},
     "output_type": "execute_result"
    }
   ],
   "source": [
    "df.补贴.mul(100,fill_value=0) # 乘法"
   ]
  },
  {
   "cell_type": "code",
   "execution_count": 12,
   "id": "clean-cincinnati",
   "metadata": {
    "execution": {
     "iopub.execute_input": "2021-07-14T06:12:09.647658Z",
     "iopub.status.busy": "2021-07-14T06:12:09.647658Z",
     "iopub.status.idle": "2021-07-14T06:12:09.653653Z",
     "shell.execute_reply": "2021-07-14T06:12:09.653653Z",
     "shell.execute_reply.started": "2021-07-14T06:12:09.647658Z"
    }
   },
   "outputs": [
    {
     "data": {
      "text/plain": [
       "0      NaN\n",
       "1    243.0\n",
       "2    -88.0\n",
       "3     90.0\n",
       "4    558.0\n",
       "5    529.0\n",
       "6     16.0\n",
       "7    487.0\n",
       "8    395.0\n",
       "9    -32.0\n",
       "Name: 补贴, dtype: float64"
      ]
     },
     "execution_count": 12,
     "metadata": {},
     "output_type": "execute_result"
    }
   ],
   "source": [
    "df.补贴-100  # 注意 nan"
   ]
  },
  {
   "cell_type": "code",
   "execution_count": 13,
   "id": "positive-energy",
   "metadata": {
    "execution": {
     "iopub.execute_input": "2021-07-14T06:12:36.676658Z",
     "iopub.status.busy": "2021-07-14T06:12:36.676658Z",
     "iopub.status.idle": "2021-07-14T06:12:36.683660Z",
     "shell.execute_reply": "2021-07-14T06:12:36.682660Z",
     "shell.execute_reply.started": "2021-07-14T06:12:36.676658Z"
    }
   },
   "outputs": [
    {
     "data": {
      "text/plain": [
       "0   -100.0\n",
       "1    243.0\n",
       "2    -88.0\n",
       "3     90.0\n",
       "4    558.0\n",
       "5    529.0\n",
       "6     16.0\n",
       "7    487.0\n",
       "8    395.0\n",
       "9    -32.0\n",
       "Name: 补贴, dtype: float64"
      ]
     },
     "execution_count": 13,
     "metadata": {},
     "output_type": "execute_result"
    }
   ],
   "source": [
    "df.补贴.sub(100,fill_value=0) # 减法"
   ]
  },
  {
   "cell_type": "code",
   "execution_count": 6,
   "id": "technological-decimal",
   "metadata": {
    "execution": {
     "iopub.execute_input": "2021-07-14T06:09:07.845653Z",
     "iopub.status.busy": "2021-07-14T06:09:07.844658Z",
     "iopub.status.idle": "2021-07-14T06:09:07.857666Z",
     "shell.execute_reply": "2021-07-14T06:09:07.855656Z",
     "shell.execute_reply.started": "2021-07-14T06:09:07.845653Z"
    }
   },
   "outputs": [],
   "source": [
    "df.loc[0,'补贴']=np.nan # 修改出来一个nan"
   ]
  },
  {
   "cell_type": "code",
   "execution_count": 8,
   "id": "demanding-landing",
   "metadata": {
    "execution": {
     "iopub.execute_input": "2021-07-14T06:09:31.520666Z",
     "iopub.status.busy": "2021-07-14T06:09:31.519662Z",
     "iopub.status.idle": "2021-07-14T06:09:31.528658Z",
     "shell.execute_reply": "2021-07-14T06:09:31.527655Z",
     "shell.execute_reply.started": "2021-07-14T06:09:31.520666Z"
    }
   },
   "outputs": [
    {
     "data": {
      "text/plain": [
       "0      NaN\n",
       "1    443.0\n",
       "2    112.0\n",
       "3    290.0\n",
       "4    758.0\n",
       "5    729.0\n",
       "6    216.0\n",
       "7    687.0\n",
       "8    595.0\n",
       "9    168.0\n",
       "Name: 补贴, dtype: float64"
      ]
     },
     "execution_count": 8,
     "metadata": {},
     "output_type": "execute_result"
    }
   ],
   "source": [
    "df.补贴+100  # 注意 nan"
   ]
  },
  {
   "cell_type": "code",
   "execution_count": 9,
   "id": "treated-villa",
   "metadata": {
    "execution": {
     "iopub.execute_input": "2021-07-14T06:09:53.402654Z",
     "iopub.status.busy": "2021-07-14T06:09:53.402654Z",
     "iopub.status.idle": "2021-07-14T06:09:53.408654Z",
     "shell.execute_reply": "2021-07-14T06:09:53.407656Z",
     "shell.execute_reply.started": "2021-07-14T06:09:53.402654Z"
    }
   },
   "outputs": [
    {
     "data": {
      "text/plain": [
       "0      NaN\n",
       "1    443.0\n",
       "2    112.0\n",
       "3    290.0\n",
       "4    758.0\n",
       "5    729.0\n",
       "6    216.0\n",
       "7    687.0\n",
       "8    595.0\n",
       "9    168.0\n",
       "Name: 补贴, dtype: float64"
      ]
     },
     "execution_count": 9,
     "metadata": {},
     "output_type": "execute_result"
    }
   ],
   "source": [
    "df.补贴.add(100) # 效果同上"
   ]
  },
  {
   "cell_type": "code",
   "execution_count": 11,
   "id": "religious-saturn",
   "metadata": {
    "execution": {
     "iopub.execute_input": "2021-07-14T06:10:26.026653Z",
     "iopub.status.busy": "2021-07-14T06:10:26.025655Z",
     "iopub.status.idle": "2021-07-14T06:10:26.036653Z",
     "shell.execute_reply": "2021-07-14T06:10:26.034671Z",
     "shell.execute_reply.started": "2021-07-14T06:10:26.026653Z"
    }
   },
   "outputs": [
    {
     "data": {
      "text/plain": [
       "0    100.0\n",
       "1    443.0\n",
       "2    112.0\n",
       "3    290.0\n",
       "4    758.0\n",
       "5    729.0\n",
       "6    216.0\n",
       "7    687.0\n",
       "8    595.0\n",
       "9    168.0\n",
       "Name: 补贴, dtype: float64"
      ]
     },
     "execution_count": 11,
     "metadata": {},
     "output_type": "execute_result"
    }
   ],
   "source": [
    "df.补贴.add(100,fill_value=0) # 将nan填充代替为0，再计算和。类似sql isnull()。 其它几个 函数都可以类似操作"
   ]
  }
 ],
 "metadata": {
  "kernelspec": {
   "display_name": "Python 3",
   "language": "python",
   "name": "python3"
  },
  "language_info": {
   "codemirror_mode": {
    "name": "ipython",
    "version": 3
   },
   "file_extension": ".py",
   "mimetype": "text/x-python",
   "name": "python",
   "nbconvert_exporter": "python",
   "pygments_lexer": "ipython3",
   "version": "3.6.8"
  }
 },
 "nbformat": 4,
 "nbformat_minor": 5
}
