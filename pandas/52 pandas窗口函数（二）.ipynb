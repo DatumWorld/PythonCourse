{
 "cells": [
  {
   "cell_type": "markdown",
   "id": "blessed-violin",
   "metadata": {
    "execution": {
     "iopub.execute_input": "2021-05-10T07:18:52.990449Z",
     "iopub.status.busy": "2021-05-10T07:18:52.990449Z",
     "iopub.status.idle": "2021-05-10T07:18:52.994464Z",
     "shell.execute_reply": "2021-05-10T07:18:52.993452Z",
     "shell.execute_reply.started": "2021-05-10T07:18:52.990449Z"
    }
   },
   "source": [
    "## 52 pandas窗口函数（二）"
   ]
  },
  {
   "cell_type": "markdown",
   "id": "optimum-honolulu",
   "metadata": {},
   "source": [
    "### 窗口函数\n",
    "#### ewm 指数加权。仅展示使用，数学物理意义参考网络\n",
    "#### 可以使用 mean(), var(), std(), corr(), cov()，不再一一示例"
   ]
  },
  {
   "cell_type": "code",
   "execution_count": 1,
   "id": "another-rates",
   "metadata": {
    "execution": {
     "iopub.execute_input": "2021-07-16T06:49:06.123847Z",
     "iopub.status.busy": "2021-07-16T06:49:06.122847Z",
     "iopub.status.idle": "2021-07-16T06:49:06.434851Z",
     "shell.execute_reply": "2021-07-16T06:49:06.434851Z",
     "shell.execute_reply.started": "2021-07-16T06:49:06.123847Z"
    }
   },
   "outputs": [],
   "source": [
    "import numpy  as np\n",
    "import pandas as pd\n",
    "from faker import Faker\n",
    "\n",
    "fake = Faker('zh_CN')\n",
    "df=pd.DataFrame(data=[ [fake.name()] for x in range(10) ],columns=['name'])"
   ]
  },
  {
   "cell_type": "code",
   "execution_count": 2,
   "id": "thick-italian",
   "metadata": {
    "execution": {
     "iopub.execute_input": "2021-07-16T06:49:06.435858Z",
     "iopub.status.busy": "2021-07-16T06:49:06.435858Z",
     "iopub.status.idle": "2021-07-16T06:49:06.440821Z",
     "shell.execute_reply": "2021-07-16T06:49:06.440821Z",
     "shell.execute_reply.started": "2021-07-16T06:49:06.435858Z"
    }
   },
   "outputs": [],
   "source": [
    "df['销售额']=np.random.randint(100,100000,size=(10, 1))\n",
    "df['时间']=pd.date_range(start='2020-01-01',periods=10,freq='D')"
   ]
  },
  {
   "cell_type": "code",
   "execution_count": 3,
   "id": "excited-purpose",
   "metadata": {
    "execution": {
     "iopub.execute_input": "2021-07-16T06:49:06.441818Z",
     "iopub.status.busy": "2021-07-16T06:49:06.441818Z",
     "iopub.status.idle": "2021-07-16T06:49:06.450815Z",
     "shell.execute_reply": "2021-07-16T06:49:06.449855Z",
     "shell.execute_reply.started": "2021-07-16T06:49:06.441818Z"
    }
   },
   "outputs": [],
   "source": [
    "df.insert(0,'dept',['部门1']*5+['部门2']*5)"
   ]
  },
  {
   "cell_type": "code",
   "execution_count": 4,
   "id": "realistic-tuition",
   "metadata": {
    "execution": {
     "iopub.execute_input": "2021-07-16T06:49:06.451820Z",
     "iopub.status.busy": "2021-07-16T06:49:06.450815Z",
     "iopub.status.idle": "2021-07-16T06:49:06.474815Z",
     "shell.execute_reply": "2021-07-16T06:49:06.474815Z",
     "shell.execute_reply.started": "2021-07-16T06:49:06.451820Z"
    }
   },
   "outputs": [
    {
     "data": {
      "text/html": [
       "<div>\n",
       "<style scoped>\n",
       "    .dataframe tbody tr th:only-of-type {\n",
       "        vertical-align: middle;\n",
       "    }\n",
       "\n",
       "    .dataframe tbody tr th {\n",
       "        vertical-align: top;\n",
       "    }\n",
       "\n",
       "    .dataframe thead th {\n",
       "        text-align: right;\n",
       "    }\n",
       "</style>\n",
       "<table border=\"1\" class=\"dataframe\">\n",
       "  <thead>\n",
       "    <tr style=\"text-align: right;\">\n",
       "      <th></th>\n",
       "      <th>dept</th>\n",
       "      <th>name</th>\n",
       "      <th>销售额</th>\n",
       "      <th>时间</th>\n",
       "    </tr>\n",
       "  </thead>\n",
       "  <tbody>\n",
       "    <tr>\n",
       "      <th>0</th>\n",
       "      <td>部门1</td>\n",
       "      <td>张玉梅</td>\n",
       "      <td>37342</td>\n",
       "      <td>2020-01-01</td>\n",
       "    </tr>\n",
       "    <tr>\n",
       "      <th>1</th>\n",
       "      <td>部门1</td>\n",
       "      <td>王华</td>\n",
       "      <td>19003</td>\n",
       "      <td>2020-01-02</td>\n",
       "    </tr>\n",
       "    <tr>\n",
       "      <th>2</th>\n",
       "      <td>部门1</td>\n",
       "      <td>李金凤</td>\n",
       "      <td>29812</td>\n",
       "      <td>2020-01-03</td>\n",
       "    </tr>\n",
       "    <tr>\n",
       "      <th>3</th>\n",
       "      <td>部门1</td>\n",
       "      <td>陈婷</td>\n",
       "      <td>31563</td>\n",
       "      <td>2020-01-04</td>\n",
       "    </tr>\n",
       "    <tr>\n",
       "      <th>4</th>\n",
       "      <td>部门1</td>\n",
       "      <td>陈帆</td>\n",
       "      <td>13244</td>\n",
       "      <td>2020-01-05</td>\n",
       "    </tr>\n",
       "    <tr>\n",
       "      <th>5</th>\n",
       "      <td>部门2</td>\n",
       "      <td>李丹丹</td>\n",
       "      <td>11844</td>\n",
       "      <td>2020-01-06</td>\n",
       "    </tr>\n",
       "    <tr>\n",
       "      <th>6</th>\n",
       "      <td>部门2</td>\n",
       "      <td>卢俊</td>\n",
       "      <td>12374</td>\n",
       "      <td>2020-01-07</td>\n",
       "    </tr>\n",
       "    <tr>\n",
       "      <th>7</th>\n",
       "      <td>部门2</td>\n",
       "      <td>林丹丹</td>\n",
       "      <td>86427</td>\n",
       "      <td>2020-01-08</td>\n",
       "    </tr>\n",
       "    <tr>\n",
       "      <th>8</th>\n",
       "      <td>部门2</td>\n",
       "      <td>宋玉珍</td>\n",
       "      <td>89915</td>\n",
       "      <td>2020-01-09</td>\n",
       "    </tr>\n",
       "    <tr>\n",
       "      <th>9</th>\n",
       "      <td>部门2</td>\n",
       "      <td>李霞</td>\n",
       "      <td>36113</td>\n",
       "      <td>2020-01-10</td>\n",
       "    </tr>\n",
       "  </tbody>\n",
       "</table>\n",
       "</div>"
      ],
      "text/plain": [
       "  dept name    销售额         时间\n",
       "0  部门1  张玉梅  37342 2020-01-01\n",
       "1  部门1   王华  19003 2020-01-02\n",
       "2  部门1  李金凤  29812 2020-01-03\n",
       "3  部门1   陈婷  31563 2020-01-04\n",
       "4  部门1   陈帆  13244 2020-01-05\n",
       "5  部门2  李丹丹  11844 2020-01-06\n",
       "6  部门2   卢俊  12374 2020-01-07\n",
       "7  部门2  林丹丹  86427 2020-01-08\n",
       "8  部门2  宋玉珍  89915 2020-01-09\n",
       "9  部门2   李霞  36113 2020-01-10"
      ]
     },
     "execution_count": 4,
     "metadata": {},
     "output_type": "execute_result"
    }
   ],
   "source": [
    "df # 随机生成的数据"
   ]
  },
  {
   "cell_type": "code",
   "execution_count": 5,
   "id": "constant-diagnosis",
   "metadata": {
    "execution": {
     "iopub.execute_input": "2021-07-16T06:49:48.199768Z",
     "iopub.status.busy": "2021-07-16T06:49:48.199768Z",
     "iopub.status.idle": "2021-07-16T06:49:48.204772Z",
     "shell.execute_reply": "2021-07-16T06:49:48.204772Z",
     "shell.execute_reply.started": "2021-07-16T06:49:48.199768Z"
    }
   },
   "outputs": [
    {
     "data": {
      "text/plain": [
       "0    37342.000000\n",
       "1    23587.750000\n",
       "2    27896.846154\n",
       "3    30371.500000\n",
       "4    18905.983471\n",
       "5    14191.527473\n",
       "6    12979.288198\n",
       "7    61951.893598\n",
       "8    80594.911696\n",
       "9    50939.801687\n",
       "Name: 销售额, dtype: float64"
      ]
     },
     "execution_count": 5,
     "metadata": {},
     "output_type": "execute_result"
    }
   ],
   "source": [
    "df.销售额.ewm(com=.5).mean() # 指定 com 质心"
   ]
  },
  {
   "cell_type": "code",
   "execution_count": 8,
   "id": "banner-shareware",
   "metadata": {
    "execution": {
     "iopub.execute_input": "2021-07-16T06:51:30.450768Z",
     "iopub.status.busy": "2021-07-16T06:51:30.450768Z",
     "iopub.status.idle": "2021-07-16T06:51:30.458777Z",
     "shell.execute_reply": "2021-07-16T06:51:30.456770Z",
     "shell.execute_reply.started": "2021-07-16T06:51:30.450768Z"
    }
   },
   "outputs": [
    {
     "data": {
      "text/plain": [
       "0    37342.000000\n",
       "1    27380.005480\n",
       "2    28334.476229\n",
       "3    29361.815640\n",
       "4    24937.013094\n",
       "5    21714.557770\n",
       "6    19599.686578\n",
       "7    33776.306744\n",
       "8    45085.676127\n",
       "9    43351.535550\n",
       "Name: 销售额, dtype: float64"
      ]
     },
     "execution_count": 8,
     "metadata": {},
     "output_type": "execute_result"
    }
   ],
   "source": [
    "df.销售额.ewm(halflife='4 days',times=df.时间).mean() # 依据时间列，指定半衰期"
   ]
  }
 ],
 "metadata": {
  "kernelspec": {
   "display_name": "Python 3",
   "language": "python",
   "name": "python3"
  },
  "language_info": {
   "codemirror_mode": {
    "name": "ipython",
    "version": 3
   },
   "file_extension": ".py",
   "mimetype": "text/x-python",
   "name": "python",
   "nbconvert_exporter": "python",
   "pygments_lexer": "ipython3",
   "version": "3.6.8"
  }
 },
 "nbformat": 4,
 "nbformat_minor": 5
}
