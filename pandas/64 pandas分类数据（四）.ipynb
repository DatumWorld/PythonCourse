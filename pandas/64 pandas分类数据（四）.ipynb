{
 "cells": [
  {
   "cell_type": "markdown",
   "id": "banned-berry",
   "metadata": {
    "execution": {
     "iopub.execute_input": "2021-05-10T07:18:52.990449Z",
     "iopub.status.busy": "2021-05-10T07:18:52.990449Z",
     "iopub.status.idle": "2021-05-10T07:18:52.994464Z",
     "shell.execute_reply": "2021-05-10T07:18:52.993452Z",
     "shell.execute_reply.started": "2021-05-10T07:18:52.990449Z"
    }
   },
   "source": [
    "## 64 pandas分类数据（四）"
   ]
  },
  {
   "cell_type": "markdown",
   "id": "municipal-brick",
   "metadata": {},
   "source": [
    "### 分类数据 Categorical data （也有翻译为范畴数据）\n",
    "#### 分类数据操作：增加/删除/设置/删除未使用的分类"
   ]
  },
  {
   "cell_type": "code",
   "execution_count": 1,
   "id": "latest-roads",
   "metadata": {
    "execution": {
     "iopub.execute_input": "2021-07-30T03:25:58.413101Z",
     "iopub.status.busy": "2021-07-30T03:25:58.413101Z",
     "iopub.status.idle": "2021-07-30T03:25:58.726108Z",
     "shell.execute_reply": "2021-07-30T03:25:58.726108Z",
     "shell.execute_reply.started": "2021-07-30T03:25:58.413101Z"
    },
    "tags": []
   },
   "outputs": [],
   "source": [
    "import numpy  as np\n",
    "import pandas as pd\n",
    "from faker import Faker\n",
    "\n",
    "fake = Faker('zh_CN')\n",
    "df=pd.DataFrame(data=[ [fake.name()] for x in range(10) ],columns=['name'])"
   ]
  },
  {
   "cell_type": "code",
   "execution_count": 2,
   "id": "7489a632-0051-41f3-82e3-0435a648c511",
   "metadata": {
    "execution": {
     "iopub.execute_input": "2021-07-30T03:25:58.727076Z",
     "iopub.status.busy": "2021-07-30T03:25:58.727076Z",
     "iopub.status.idle": "2021-07-30T03:25:58.733083Z",
     "shell.execute_reply": "2021-07-30T03:25:58.732082Z",
     "shell.execute_reply.started": "2021-07-30T03:25:58.727076Z"
    },
    "tags": []
   },
   "outputs": [],
   "source": [
    "df['销售额']=np.random.randint(100,100000,size=(10, 1))\n",
    "df['时间']=pd.date_range(start='2020-01-01',periods=10,freq='D')\n",
    "df.insert(0,'dept',['部门1']*5+['部门2']*5)"
   ]
  },
  {
   "cell_type": "code",
   "execution_count": 3,
   "id": "sporting-bishop",
   "metadata": {
    "execution": {
     "iopub.execute_input": "2021-07-30T03:25:58.734077Z",
     "iopub.status.busy": "2021-07-30T03:25:58.734077Z",
     "iopub.status.idle": "2021-07-30T03:25:58.751087Z",
     "shell.execute_reply": "2021-07-30T03:25:58.750105Z",
     "shell.execute_reply.started": "2021-07-30T03:25:58.734077Z"
    },
    "tags": []
   },
   "outputs": [
    {
     "data": {
      "text/html": [
       "<div>\n",
       "<style scoped>\n",
       "    .dataframe tbody tr th:only-of-type {\n",
       "        vertical-align: middle;\n",
       "    }\n",
       "\n",
       "    .dataframe tbody tr th {\n",
       "        vertical-align: top;\n",
       "    }\n",
       "\n",
       "    .dataframe thead th {\n",
       "        text-align: right;\n",
       "    }\n",
       "</style>\n",
       "<table border=\"1\" class=\"dataframe\">\n",
       "  <thead>\n",
       "    <tr style=\"text-align: right;\">\n",
       "      <th></th>\n",
       "      <th>dept</th>\n",
       "      <th>name</th>\n",
       "      <th>销售额</th>\n",
       "      <th>时间</th>\n",
       "    </tr>\n",
       "  </thead>\n",
       "  <tbody>\n",
       "    <tr>\n",
       "      <th>0</th>\n",
       "      <td>部门1</td>\n",
       "      <td>何阳</td>\n",
       "      <td>4274</td>\n",
       "      <td>2020-01-01</td>\n",
       "    </tr>\n",
       "    <tr>\n",
       "      <th>1</th>\n",
       "      <td>部门1</td>\n",
       "      <td>杨刚</td>\n",
       "      <td>99471</td>\n",
       "      <td>2020-01-02</td>\n",
       "    </tr>\n",
       "    <tr>\n",
       "      <th>2</th>\n",
       "      <td>部门1</td>\n",
       "      <td>王鑫</td>\n",
       "      <td>17248</td>\n",
       "      <td>2020-01-03</td>\n",
       "    </tr>\n",
       "    <tr>\n",
       "      <th>3</th>\n",
       "      <td>部门1</td>\n",
       "      <td>钟帆</td>\n",
       "      <td>68406</td>\n",
       "      <td>2020-01-04</td>\n",
       "    </tr>\n",
       "    <tr>\n",
       "      <th>4</th>\n",
       "      <td>部门1</td>\n",
       "      <td>杜玉珍</td>\n",
       "      <td>76326</td>\n",
       "      <td>2020-01-05</td>\n",
       "    </tr>\n",
       "    <tr>\n",
       "      <th>5</th>\n",
       "      <td>部门2</td>\n",
       "      <td>胡桂兰</td>\n",
       "      <td>63195</td>\n",
       "      <td>2020-01-06</td>\n",
       "    </tr>\n",
       "    <tr>\n",
       "      <th>6</th>\n",
       "      <td>部门2</td>\n",
       "      <td>艾瑜</td>\n",
       "      <td>27118</td>\n",
       "      <td>2020-01-07</td>\n",
       "    </tr>\n",
       "    <tr>\n",
       "      <th>7</th>\n",
       "      <td>部门2</td>\n",
       "      <td>李慧</td>\n",
       "      <td>80047</td>\n",
       "      <td>2020-01-08</td>\n",
       "    </tr>\n",
       "    <tr>\n",
       "      <th>8</th>\n",
       "      <td>部门2</td>\n",
       "      <td>许静</td>\n",
       "      <td>96507</td>\n",
       "      <td>2020-01-09</td>\n",
       "    </tr>\n",
       "    <tr>\n",
       "      <th>9</th>\n",
       "      <td>部门2</td>\n",
       "      <td>胡成</td>\n",
       "      <td>4848</td>\n",
       "      <td>2020-01-10</td>\n",
       "    </tr>\n",
       "  </tbody>\n",
       "</table>\n",
       "</div>"
      ],
      "text/plain": [
       "  dept name    销售额         时间\n",
       "0  部门1   何阳   4274 2020-01-01\n",
       "1  部门1   杨刚  99471 2020-01-02\n",
       "2  部门1   王鑫  17248 2020-01-03\n",
       "3  部门1   钟帆  68406 2020-01-04\n",
       "4  部门1  杜玉珍  76326 2020-01-05\n",
       "5  部门2  胡桂兰  63195 2020-01-06\n",
       "6  部门2   艾瑜  27118 2020-01-07\n",
       "7  部门2   李慧  80047 2020-01-08\n",
       "8  部门2   许静  96507 2020-01-09\n",
       "9  部门2   胡成   4848 2020-01-10"
      ]
     },
     "execution_count": 3,
     "metadata": {},
     "output_type": "execute_result"
    }
   ],
   "source": [
    "df # 随机生成的数据"
   ]
  },
  {
   "cell_type": "code",
   "execution_count": 4,
   "id": "16e9b63a-ae01-47bd-bb57-2d1bec344465",
   "metadata": {
    "execution": {
     "iopub.execute_input": "2021-07-30T03:26:31.082074Z",
     "iopub.status.busy": "2021-07-30T03:26:31.081078Z",
     "iopub.status.idle": "2021-07-30T03:26:31.088078Z",
     "shell.execute_reply": "2021-07-30T03:26:31.087075Z",
     "shell.execute_reply.started": "2021-07-30T03:26:31.082074Z"
    },
    "tags": []
   },
   "outputs": [],
   "source": [
    "t=df.dept.astype(pd.CategoricalDtype())"
   ]
  },
  {
   "cell_type": "code",
   "execution_count": 20,
   "id": "546c70ff-bee5-42a8-abc1-290c8817c08a",
   "metadata": {
    "execution": {
     "iopub.execute_input": "2021-07-30T03:31:36.923092Z",
     "iopub.status.busy": "2021-07-30T03:31:36.922078Z",
     "iopub.status.idle": "2021-07-30T03:31:36.929075Z",
     "shell.execute_reply": "2021-07-30T03:31:36.929075Z",
     "shell.execute_reply.started": "2021-07-30T03:31:36.923092Z"
    },
    "tags": []
   },
   "outputs": [
    {
     "data": {
      "text/plain": [
       "0    部门1\n",
       "1    部门1\n",
       "2    部门1\n",
       "3    部门1\n",
       "4    部门1\n",
       "5    部门2\n",
       "6    部门2\n",
       "7    部门2\n",
       "8    部门2\n",
       "9    部门2\n",
       "Name: dept, dtype: category\n",
       "Categories (2, object): ['部门1', '部门2']"
      ]
     },
     "execution_count": 20,
     "metadata": {},
     "output_type": "execute_result"
    }
   ],
   "source": [
    "t"
   ]
  },
  {
   "cell_type": "code",
   "execution_count": 6,
   "id": "2bdb0d33-8ca9-41c6-a02c-876269875006",
   "metadata": {
    "execution": {
     "iopub.execute_input": "2021-07-30T03:27:20.227075Z",
     "iopub.status.busy": "2021-07-30T03:27:20.227075Z",
     "iopub.status.idle": "2021-07-30T03:27:20.230081Z",
     "shell.execute_reply": "2021-07-30T03:27:20.230081Z",
     "shell.execute_reply.started": "2021-07-30T03:27:20.227075Z"
    },
    "tags": []
   },
   "outputs": [],
   "source": [
    "t=t.cat.add_categories(['dept3','dept4']) # 增加分类"
   ]
  },
  {
   "cell_type": "code",
   "execution_count": 13,
   "id": "e2946a3b-fc94-473a-9ab8-65afb8e8d25d",
   "metadata": {
    "execution": {
     "iopub.execute_input": "2021-07-30T03:29:22.692076Z",
     "iopub.status.busy": "2021-07-30T03:29:22.692076Z",
     "iopub.status.idle": "2021-07-30T03:29:22.699075Z",
     "shell.execute_reply": "2021-07-30T03:29:22.699075Z",
     "shell.execute_reply.started": "2021-07-30T03:29:22.692076Z"
    },
    "tags": []
   },
   "outputs": [],
   "source": [
    "t=t.cat.add_categories(['dept1','dept2']) #  新增加的分类中 不能 包含已有的分类"
   ]
  },
  {
   "cell_type": "code",
   "execution_count": null,
   "id": "f286e800-b40f-42c9-9db7-f086b687a9d5",
   "metadata": {
    "tags": []
   },
   "outputs": [],
   "source": [
    "t=t.cat.remove_categories(['dept1','dept2']) #  删除 指定的分类\n",
    "# 提示不能 删除 没有的分类"
   ]
  },
  {
   "cell_type": "code",
   "execution_count": 19,
   "id": "da1ce225-633a-4bfd-970f-6443bb1c8f31",
   "metadata": {
    "execution": {
     "iopub.execute_input": "2021-07-30T03:31:33.251076Z",
     "iopub.status.busy": "2021-07-30T03:31:33.251076Z",
     "iopub.status.idle": "2021-07-30T03:31:33.254101Z",
     "shell.execute_reply": "2021-07-30T03:31:33.254101Z",
     "shell.execute_reply.started": "2021-07-30T03:31:33.251076Z"
    },
    "tags": []
   },
   "outputs": [],
   "source": [
    "t=t.cat.remove_unused_categories() # 删除元素数据中未使用到的分类"
   ]
  },
  {
   "cell_type": "code",
   "execution_count": 23,
   "id": "0d2ea365-0dde-44f5-824c-3bb16ab1afc7",
   "metadata": {
    "execution": {
     "iopub.execute_input": "2021-07-30T03:33:13.969075Z",
     "iopub.status.busy": "2021-07-30T03:33:13.969075Z",
     "iopub.status.idle": "2021-07-30T03:33:13.974074Z",
     "shell.execute_reply": "2021-07-30T03:33:13.974074Z",
     "shell.execute_reply.started": "2021-07-30T03:33:13.969075Z"
    },
    "tags": []
   },
   "outputs": [
    {
     "data": {
      "text/plain": [
       "0    部门1\n",
       "1    部门1\n",
       "2    部门1\n",
       "3    部门1\n",
       "4    部门1\n",
       "5    NaN\n",
       "6    NaN\n",
       "7    NaN\n",
       "8    NaN\n",
       "9    NaN\n",
       "Name: dept, dtype: category\n",
       "Categories (4, object): ['部门1', '部门3', 'dept1', 'dept2']"
      ]
     },
     "execution_count": 23,
     "metadata": {},
     "output_type": "execute_result"
    }
   ],
   "source": [
    "t.cat.set_categories(['部门1', '部门3','dept1','dept2']) # 设置分类\n",
    "# 注意 数据元素无法找到相同的分类，显示为nan"
   ]
  }
 ],
 "metadata": {
  "kernelspec": {
   "display_name": "Python 3 (ipykernel)",
   "language": "python",
   "name": "python3"
  },
  "language_info": {
   "codemirror_mode": {
    "name": "ipython",
    "version": 3
   },
   "file_extension": ".py",
   "mimetype": "text/x-python",
   "name": "python",
   "nbconvert_exporter": "python",
   "pygments_lexer": "ipython3",
   "version": "3.8.10"
  }
 },
 "nbformat": 4,
 "nbformat_minor": 5
}
