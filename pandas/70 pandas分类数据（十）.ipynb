{
 "cells": [
  {
   "cell_type": "markdown",
   "id": "4fd9eb70",
   "metadata": {
    "execution": {
     "iopub.execute_input": "2021-05-10T07:18:52.990449Z",
     "iopub.status.busy": "2021-05-10T07:18:52.990449Z",
     "iopub.status.idle": "2021-05-10T07:18:52.994464Z",
     "shell.execute_reply": "2021-05-10T07:18:52.993452Z",
     "shell.execute_reply.started": "2021-05-10T07:18:52.990449Z"
    }
   },
   "source": [
    "## 70 pandas分类数据（十）"
   ]
  },
  {
   "cell_type": "markdown",
   "id": "9d1d668e",
   "metadata": {},
   "source": [
    "### 分类数据 Categorical data （也有翻译为范畴数据）\n",
    "#### 分类数据操作：表格合并"
   ]
  },
  {
   "cell_type": "code",
   "execution_count": 1,
   "id": "92dfebdb",
   "metadata": {
    "execution": {
     "iopub.execute_input": "2021-08-06T02:35:16.768344Z",
     "iopub.status.busy": "2021-08-06T02:35:16.767336Z",
     "iopub.status.idle": "2021-08-06T02:35:17.086349Z",
     "shell.execute_reply": "2021-08-06T02:35:17.086349Z",
     "shell.execute_reply.started": "2021-08-06T02:35:16.768344Z"
    },
    "tags": []
   },
   "outputs": [],
   "source": [
    "import numpy  as np\n",
    "import pandas as pd\n",
    "from faker import Faker\n",
    "\n",
    "fake = Faker('zh_CN')\n",
    "df=pd.DataFrame(data=[ [fake.name()] for x in range(10) ],columns=['name'])\n",
    "\n",
    "df['销售额']=np.random.randint(100,100000,size=(10, 1))\n",
    "df['时间']=pd.date_range(start='2020-01-01',periods=10,freq='D')\n",
    "df.insert(0,'dept',['部门1']*5+['部门2']*5)\n",
    "df.insert(1,'dept1',['小部门1']*2+['小部门2']*3+['小部门3']*1+['小部门4']*4)"
   ]
  },
  {
   "cell_type": "code",
   "execution_count": 2,
   "id": "3731db9c",
   "metadata": {
    "execution": {
     "iopub.execute_input": "2021-08-06T02:35:17.087323Z",
     "iopub.status.busy": "2021-08-06T02:35:17.087323Z",
     "iopub.status.idle": "2021-08-06T02:35:17.100324Z",
     "shell.execute_reply": "2021-08-06T02:35:17.100324Z",
     "shell.execute_reply.started": "2021-08-06T02:35:17.087323Z"
    },
    "tags": []
   },
   "outputs": [
    {
     "data": {
      "text/html": [
       "<div>\n",
       "<style scoped>\n",
       "    .dataframe tbody tr th:only-of-type {\n",
       "        vertical-align: middle;\n",
       "    }\n",
       "\n",
       "    .dataframe tbody tr th {\n",
       "        vertical-align: top;\n",
       "    }\n",
       "\n",
       "    .dataframe thead th {\n",
       "        text-align: right;\n",
       "    }\n",
       "</style>\n",
       "<table border=\"1\" class=\"dataframe\">\n",
       "  <thead>\n",
       "    <tr style=\"text-align: right;\">\n",
       "      <th></th>\n",
       "      <th>dept</th>\n",
       "      <th>dept1</th>\n",
       "      <th>name</th>\n",
       "      <th>销售额</th>\n",
       "      <th>时间</th>\n",
       "    </tr>\n",
       "  </thead>\n",
       "  <tbody>\n",
       "    <tr>\n",
       "      <th>0</th>\n",
       "      <td>部门1</td>\n",
       "      <td>小部门1</td>\n",
       "      <td>耿旭</td>\n",
       "      <td>5458</td>\n",
       "      <td>2020-01-01</td>\n",
       "    </tr>\n",
       "    <tr>\n",
       "      <th>1</th>\n",
       "      <td>部门1</td>\n",
       "      <td>小部门1</td>\n",
       "      <td>张丽丽</td>\n",
       "      <td>8857</td>\n",
       "      <td>2020-01-02</td>\n",
       "    </tr>\n",
       "    <tr>\n",
       "      <th>2</th>\n",
       "      <td>部门1</td>\n",
       "      <td>小部门2</td>\n",
       "      <td>赵建国</td>\n",
       "      <td>16399</td>\n",
       "      <td>2020-01-03</td>\n",
       "    </tr>\n",
       "    <tr>\n",
       "      <th>3</th>\n",
       "      <td>部门1</td>\n",
       "      <td>小部门2</td>\n",
       "      <td>汪桂香</td>\n",
       "      <td>23327</td>\n",
       "      <td>2020-01-04</td>\n",
       "    </tr>\n",
       "    <tr>\n",
       "      <th>4</th>\n",
       "      <td>部门1</td>\n",
       "      <td>小部门2</td>\n",
       "      <td>杨桂英</td>\n",
       "      <td>64689</td>\n",
       "      <td>2020-01-05</td>\n",
       "    </tr>\n",
       "    <tr>\n",
       "      <th>5</th>\n",
       "      <td>部门2</td>\n",
       "      <td>小部门3</td>\n",
       "      <td>邓霞</td>\n",
       "      <td>80870</td>\n",
       "      <td>2020-01-06</td>\n",
       "    </tr>\n",
       "    <tr>\n",
       "      <th>6</th>\n",
       "      <td>部门2</td>\n",
       "      <td>小部门4</td>\n",
       "      <td>任淑英</td>\n",
       "      <td>45469</td>\n",
       "      <td>2020-01-07</td>\n",
       "    </tr>\n",
       "    <tr>\n",
       "      <th>7</th>\n",
       "      <td>部门2</td>\n",
       "      <td>小部门4</td>\n",
       "      <td>张莉</td>\n",
       "      <td>72993</td>\n",
       "      <td>2020-01-08</td>\n",
       "    </tr>\n",
       "    <tr>\n",
       "      <th>8</th>\n",
       "      <td>部门2</td>\n",
       "      <td>小部门4</td>\n",
       "      <td>陆丽娟</td>\n",
       "      <td>89619</td>\n",
       "      <td>2020-01-09</td>\n",
       "    </tr>\n",
       "    <tr>\n",
       "      <th>9</th>\n",
       "      <td>部门2</td>\n",
       "      <td>小部门4</td>\n",
       "      <td>鲍秀华</td>\n",
       "      <td>27488</td>\n",
       "      <td>2020-01-10</td>\n",
       "    </tr>\n",
       "  </tbody>\n",
       "</table>\n",
       "</div>"
      ],
      "text/plain": [
       "  dept dept1 name    销售额         时间\n",
       "0  部门1  小部门1   耿旭   5458 2020-01-01\n",
       "1  部门1  小部门1  张丽丽   8857 2020-01-02\n",
       "2  部门1  小部门2  赵建国  16399 2020-01-03\n",
       "3  部门1  小部门2  汪桂香  23327 2020-01-04\n",
       "4  部门1  小部门2  杨桂英  64689 2020-01-05\n",
       "5  部门2  小部门3   邓霞  80870 2020-01-06\n",
       "6  部门2  小部门4  任淑英  45469 2020-01-07\n",
       "7  部门2  小部门4   张莉  72993 2020-01-08\n",
       "8  部门2  小部门4  陆丽娟  89619 2020-01-09\n",
       "9  部门2  小部门4  鲍秀华  27488 2020-01-10"
      ]
     },
     "execution_count": 2,
     "metadata": {},
     "output_type": "execute_result"
    }
   ],
   "source": [
    "df # 随机生成的数据"
   ]
  },
  {
   "cell_type": "code",
   "execution_count": 3,
   "id": "ea6c46bd-6c31-4c47-861d-714e09c00a4c",
   "metadata": {
    "execution": {
     "iopub.execute_input": "2021-08-06T02:35:54.502434Z",
     "iopub.status.busy": "2021-08-06T02:35:54.502434Z",
     "iopub.status.idle": "2021-08-06T02:35:54.509480Z",
     "shell.execute_reply": "2021-08-06T02:35:54.508445Z",
     "shell.execute_reply.started": "2021-08-06T02:35:54.502434Z"
    },
    "tags": []
   },
   "outputs": [],
   "source": [
    "df.dept=df.dept.astype('category')\n",
    "df.dept1=df.dept1.astype('category')"
   ]
  },
  {
   "cell_type": "code",
   "execution_count": 4,
   "id": "45d3a27a-d45d-4f32-88b1-1be4a1d1445a",
   "metadata": {
    "execution": {
     "iopub.execute_input": "2021-08-06T02:36:03.089464Z",
     "iopub.status.busy": "2021-08-06T02:36:03.089464Z",
     "iopub.status.idle": "2021-08-06T02:36:03.095467Z",
     "shell.execute_reply": "2021-08-06T02:36:03.095467Z",
     "shell.execute_reply.started": "2021-08-06T02:36:03.089464Z"
    },
    "tags": []
   },
   "outputs": [
    {
     "data": {
      "text/plain": [
       "dept           category\n",
       "dept1          category\n",
       "name             object\n",
       "销售额               int32\n",
       "时间       datetime64[ns]\n",
       "dtype: object"
      ]
     },
     "execution_count": 4,
     "metadata": {},
     "output_type": "execute_result"
    }
   ],
   "source": [
    "df.dtypes"
   ]
  },
  {
   "cell_type": "code",
   "execution_count": 5,
   "id": "a4c2ce4c-6293-440c-8838-a70d621a4ca4",
   "metadata": {
    "execution": {
     "iopub.execute_input": "2021-08-06T02:36:17.900503Z",
     "iopub.status.busy": "2021-08-06T02:36:17.900503Z",
     "iopub.status.idle": "2021-08-06T02:36:17.912504Z",
     "shell.execute_reply": "2021-08-06T02:36:17.912504Z",
     "shell.execute_reply.started": "2021-08-06T02:36:17.900503Z"
    },
    "tags": []
   },
   "outputs": [
    {
     "data": {
      "text/html": [
       "<div>\n",
       "<style scoped>\n",
       "    .dataframe tbody tr th:only-of-type {\n",
       "        vertical-align: middle;\n",
       "    }\n",
       "\n",
       "    .dataframe tbody tr th {\n",
       "        vertical-align: top;\n",
       "    }\n",
       "\n",
       "    .dataframe thead th {\n",
       "        text-align: right;\n",
       "    }\n",
       "</style>\n",
       "<table border=\"1\" class=\"dataframe\">\n",
       "  <thead>\n",
       "    <tr style=\"text-align: right;\">\n",
       "      <th></th>\n",
       "      <th>dept</th>\n",
       "      <th>dept1</th>\n",
       "      <th>name</th>\n",
       "      <th>销售额</th>\n",
       "      <th>时间</th>\n",
       "    </tr>\n",
       "  </thead>\n",
       "  <tbody>\n",
       "    <tr>\n",
       "      <th>0</th>\n",
       "      <td>部门1</td>\n",
       "      <td>小部门1</td>\n",
       "      <td>耿旭</td>\n",
       "      <td>5458</td>\n",
       "      <td>2020-01-01</td>\n",
       "    </tr>\n",
       "    <tr>\n",
       "      <th>1</th>\n",
       "      <td>部门1</td>\n",
       "      <td>小部门1</td>\n",
       "      <td>张丽丽</td>\n",
       "      <td>8857</td>\n",
       "      <td>2020-01-02</td>\n",
       "    </tr>\n",
       "    <tr>\n",
       "      <th>2</th>\n",
       "      <td>部门1</td>\n",
       "      <td>小部门2</td>\n",
       "      <td>赵建国</td>\n",
       "      <td>16399</td>\n",
       "      <td>2020-01-03</td>\n",
       "    </tr>\n",
       "    <tr>\n",
       "      <th>3</th>\n",
       "      <td>部门1</td>\n",
       "      <td>小部门2</td>\n",
       "      <td>汪桂香</td>\n",
       "      <td>23327</td>\n",
       "      <td>2020-01-04</td>\n",
       "    </tr>\n",
       "    <tr>\n",
       "      <th>4</th>\n",
       "      <td>部门1</td>\n",
       "      <td>小部门2</td>\n",
       "      <td>杨桂英</td>\n",
       "      <td>64689</td>\n",
       "      <td>2020-01-05</td>\n",
       "    </tr>\n",
       "    <tr>\n",
       "      <th>5</th>\n",
       "      <td>部门2</td>\n",
       "      <td>小部门3</td>\n",
       "      <td>邓霞</td>\n",
       "      <td>80870</td>\n",
       "      <td>2020-01-06</td>\n",
       "    </tr>\n",
       "    <tr>\n",
       "      <th>6</th>\n",
       "      <td>部门2</td>\n",
       "      <td>小部门4</td>\n",
       "      <td>任淑英</td>\n",
       "      <td>45469</td>\n",
       "      <td>2020-01-07</td>\n",
       "    </tr>\n",
       "    <tr>\n",
       "      <th>7</th>\n",
       "      <td>部门2</td>\n",
       "      <td>小部门4</td>\n",
       "      <td>张莉</td>\n",
       "      <td>72993</td>\n",
       "      <td>2020-01-08</td>\n",
       "    </tr>\n",
       "    <tr>\n",
       "      <th>8</th>\n",
       "      <td>部门2</td>\n",
       "      <td>小部门4</td>\n",
       "      <td>陆丽娟</td>\n",
       "      <td>89619</td>\n",
       "      <td>2020-01-09</td>\n",
       "    </tr>\n",
       "    <tr>\n",
       "      <th>9</th>\n",
       "      <td>部门2</td>\n",
       "      <td>小部门4</td>\n",
       "      <td>鲍秀华</td>\n",
       "      <td>27488</td>\n",
       "      <td>2020-01-10</td>\n",
       "    </tr>\n",
       "    <tr>\n",
       "      <th>0</th>\n",
       "      <td>部门1</td>\n",
       "      <td>小部门1</td>\n",
       "      <td>耿旭</td>\n",
       "      <td>5458</td>\n",
       "      <td>2020-01-01</td>\n",
       "    </tr>\n",
       "    <tr>\n",
       "      <th>1</th>\n",
       "      <td>部门1</td>\n",
       "      <td>小部门1</td>\n",
       "      <td>张丽丽</td>\n",
       "      <td>8857</td>\n",
       "      <td>2020-01-02</td>\n",
       "    </tr>\n",
       "    <tr>\n",
       "      <th>2</th>\n",
       "      <td>部门1</td>\n",
       "      <td>小部门2</td>\n",
       "      <td>赵建国</td>\n",
       "      <td>16399</td>\n",
       "      <td>2020-01-03</td>\n",
       "    </tr>\n",
       "    <tr>\n",
       "      <th>3</th>\n",
       "      <td>部门1</td>\n",
       "      <td>小部门2</td>\n",
       "      <td>汪桂香</td>\n",
       "      <td>23327</td>\n",
       "      <td>2020-01-04</td>\n",
       "    </tr>\n",
       "    <tr>\n",
       "      <th>4</th>\n",
       "      <td>部门1</td>\n",
       "      <td>小部门2</td>\n",
       "      <td>杨桂英</td>\n",
       "      <td>64689</td>\n",
       "      <td>2020-01-05</td>\n",
       "    </tr>\n",
       "    <tr>\n",
       "      <th>5</th>\n",
       "      <td>部门2</td>\n",
       "      <td>小部门3</td>\n",
       "      <td>邓霞</td>\n",
       "      <td>80870</td>\n",
       "      <td>2020-01-06</td>\n",
       "    </tr>\n",
       "    <tr>\n",
       "      <th>6</th>\n",
       "      <td>部门2</td>\n",
       "      <td>小部门4</td>\n",
       "      <td>任淑英</td>\n",
       "      <td>45469</td>\n",
       "      <td>2020-01-07</td>\n",
       "    </tr>\n",
       "    <tr>\n",
       "      <th>7</th>\n",
       "      <td>部门2</td>\n",
       "      <td>小部门4</td>\n",
       "      <td>张莉</td>\n",
       "      <td>72993</td>\n",
       "      <td>2020-01-08</td>\n",
       "    </tr>\n",
       "    <tr>\n",
       "      <th>8</th>\n",
       "      <td>部门2</td>\n",
       "      <td>小部门4</td>\n",
       "      <td>陆丽娟</td>\n",
       "      <td>89619</td>\n",
       "      <td>2020-01-09</td>\n",
       "    </tr>\n",
       "    <tr>\n",
       "      <th>9</th>\n",
       "      <td>部门2</td>\n",
       "      <td>小部门4</td>\n",
       "      <td>鲍秀华</td>\n",
       "      <td>27488</td>\n",
       "      <td>2020-01-10</td>\n",
       "    </tr>\n",
       "  </tbody>\n",
       "</table>\n",
       "</div>"
      ],
      "text/plain": [
       "  dept dept1 name    销售额         时间\n",
       "0  部门1  小部门1   耿旭   5458 2020-01-01\n",
       "1  部门1  小部门1  张丽丽   8857 2020-01-02\n",
       "2  部门1  小部门2  赵建国  16399 2020-01-03\n",
       "3  部门1  小部门2  汪桂香  23327 2020-01-04\n",
       "4  部门1  小部门2  杨桂英  64689 2020-01-05\n",
       "5  部门2  小部门3   邓霞  80870 2020-01-06\n",
       "6  部门2  小部门4  任淑英  45469 2020-01-07\n",
       "7  部门2  小部门4   张莉  72993 2020-01-08\n",
       "8  部门2  小部门4  陆丽娟  89619 2020-01-09\n",
       "9  部门2  小部门4  鲍秀华  27488 2020-01-10\n",
       "0  部门1  小部门1   耿旭   5458 2020-01-01\n",
       "1  部门1  小部门1  张丽丽   8857 2020-01-02\n",
       "2  部门1  小部门2  赵建国  16399 2020-01-03\n",
       "3  部门1  小部门2  汪桂香  23327 2020-01-04\n",
       "4  部门1  小部门2  杨桂英  64689 2020-01-05\n",
       "5  部门2  小部门3   邓霞  80870 2020-01-06\n",
       "6  部门2  小部门4  任淑英  45469 2020-01-07\n",
       "7  部门2  小部门4   张莉  72993 2020-01-08\n",
       "8  部门2  小部门4  陆丽娟  89619 2020-01-09\n",
       "9  部门2  小部门4  鲍秀华  27488 2020-01-10"
      ]
     },
     "execution_count": 5,
     "metadata": {},
     "output_type": "execute_result"
    }
   ],
   "source": [
    "pd.concat([df,df]) #合并含有分类数据的表格"
   ]
  },
  {
   "cell_type": "code",
   "execution_count": 6,
   "id": "75097f36-ebb0-4f6f-807d-4b43ccdf3aba",
   "metadata": {
    "execution": {
     "iopub.execute_input": "2021-08-06T02:36:44.319580Z",
     "iopub.status.busy": "2021-08-06T02:36:44.319580Z",
     "iopub.status.idle": "2021-08-06T02:36:44.328581Z",
     "shell.execute_reply": "2021-08-06T02:36:44.327583Z",
     "shell.execute_reply.started": "2021-08-06T02:36:44.319580Z"
    },
    "tags": []
   },
   "outputs": [
    {
     "data": {
      "text/plain": [
       "dept           category\n",
       "dept1          category\n",
       "name             object\n",
       "销售额               int32\n",
       "时间       datetime64[ns]\n",
       "dtype: object"
      ]
     },
     "execution_count": 6,
     "metadata": {},
     "output_type": "execute_result"
    }
   ],
   "source": [
    "pd.concat([df,df]).dtypes # 查看类型"
   ]
  },
  {
   "cell_type": "code",
   "execution_count": 8,
   "id": "6a7a0ef2-c340-4a9d-8fcd-b1c5021bc0ef",
   "metadata": {
    "execution": {
     "iopub.execute_input": "2021-08-06T02:37:17.935677Z",
     "iopub.status.busy": "2021-08-06T02:37:17.935677Z",
     "iopub.status.idle": "2021-08-06T02:37:17.950673Z",
     "shell.execute_reply": "2021-08-06T02:37:17.949675Z",
     "shell.execute_reply.started": "2021-08-06T02:37:17.935677Z"
    },
    "tags": []
   },
   "outputs": [
    {
     "data": {
      "text/html": [
       "<div>\n",
       "<style scoped>\n",
       "    .dataframe tbody tr th:only-of-type {\n",
       "        vertical-align: middle;\n",
       "    }\n",
       "\n",
       "    .dataframe tbody tr th {\n",
       "        vertical-align: top;\n",
       "    }\n",
       "\n",
       "    .dataframe thead th {\n",
       "        text-align: right;\n",
       "    }\n",
       "</style>\n",
       "<table border=\"1\" class=\"dataframe\">\n",
       "  <thead>\n",
       "    <tr style=\"text-align: right;\">\n",
       "      <th></th>\n",
       "      <th>dept</th>\n",
       "      <th>dept1</th>\n",
       "      <th>name</th>\n",
       "      <th>销售额</th>\n",
       "      <th>时间</th>\n",
       "      <th>dept</th>\n",
       "      <th>dept1</th>\n",
       "      <th>name</th>\n",
       "      <th>销售额</th>\n",
       "      <th>时间</th>\n",
       "    </tr>\n",
       "  </thead>\n",
       "  <tbody>\n",
       "    <tr>\n",
       "      <th>0</th>\n",
       "      <td>部门1</td>\n",
       "      <td>小部门1</td>\n",
       "      <td>耿旭</td>\n",
       "      <td>5458</td>\n",
       "      <td>2020-01-01</td>\n",
       "      <td>部门1</td>\n",
       "      <td>小部门1</td>\n",
       "      <td>耿旭</td>\n",
       "      <td>5458</td>\n",
       "      <td>2020-01-01</td>\n",
       "    </tr>\n",
       "    <tr>\n",
       "      <th>1</th>\n",
       "      <td>部门1</td>\n",
       "      <td>小部门1</td>\n",
       "      <td>张丽丽</td>\n",
       "      <td>8857</td>\n",
       "      <td>2020-01-02</td>\n",
       "      <td>部门1</td>\n",
       "      <td>小部门1</td>\n",
       "      <td>张丽丽</td>\n",
       "      <td>8857</td>\n",
       "      <td>2020-01-02</td>\n",
       "    </tr>\n",
       "    <tr>\n",
       "      <th>2</th>\n",
       "      <td>部门1</td>\n",
       "      <td>小部门2</td>\n",
       "      <td>赵建国</td>\n",
       "      <td>16399</td>\n",
       "      <td>2020-01-03</td>\n",
       "      <td>部门1</td>\n",
       "      <td>小部门2</td>\n",
       "      <td>赵建国</td>\n",
       "      <td>16399</td>\n",
       "      <td>2020-01-03</td>\n",
       "    </tr>\n",
       "    <tr>\n",
       "      <th>3</th>\n",
       "      <td>部门1</td>\n",
       "      <td>小部门2</td>\n",
       "      <td>汪桂香</td>\n",
       "      <td>23327</td>\n",
       "      <td>2020-01-04</td>\n",
       "      <td>部门1</td>\n",
       "      <td>小部门2</td>\n",
       "      <td>汪桂香</td>\n",
       "      <td>23327</td>\n",
       "      <td>2020-01-04</td>\n",
       "    </tr>\n",
       "    <tr>\n",
       "      <th>4</th>\n",
       "      <td>部门1</td>\n",
       "      <td>小部门2</td>\n",
       "      <td>杨桂英</td>\n",
       "      <td>64689</td>\n",
       "      <td>2020-01-05</td>\n",
       "      <td>部门1</td>\n",
       "      <td>小部门2</td>\n",
       "      <td>杨桂英</td>\n",
       "      <td>64689</td>\n",
       "      <td>2020-01-05</td>\n",
       "    </tr>\n",
       "    <tr>\n",
       "      <th>5</th>\n",
       "      <td>部门2</td>\n",
       "      <td>小部门3</td>\n",
       "      <td>邓霞</td>\n",
       "      <td>80870</td>\n",
       "      <td>2020-01-06</td>\n",
       "      <td>部门2</td>\n",
       "      <td>小部门3</td>\n",
       "      <td>邓霞</td>\n",
       "      <td>80870</td>\n",
       "      <td>2020-01-06</td>\n",
       "    </tr>\n",
       "    <tr>\n",
       "      <th>6</th>\n",
       "      <td>部门2</td>\n",
       "      <td>小部门4</td>\n",
       "      <td>任淑英</td>\n",
       "      <td>45469</td>\n",
       "      <td>2020-01-07</td>\n",
       "      <td>部门2</td>\n",
       "      <td>小部门4</td>\n",
       "      <td>任淑英</td>\n",
       "      <td>45469</td>\n",
       "      <td>2020-01-07</td>\n",
       "    </tr>\n",
       "    <tr>\n",
       "      <th>7</th>\n",
       "      <td>部门2</td>\n",
       "      <td>小部门4</td>\n",
       "      <td>张莉</td>\n",
       "      <td>72993</td>\n",
       "      <td>2020-01-08</td>\n",
       "      <td>部门2</td>\n",
       "      <td>小部门4</td>\n",
       "      <td>张莉</td>\n",
       "      <td>72993</td>\n",
       "      <td>2020-01-08</td>\n",
       "    </tr>\n",
       "    <tr>\n",
       "      <th>8</th>\n",
       "      <td>部门2</td>\n",
       "      <td>小部门4</td>\n",
       "      <td>陆丽娟</td>\n",
       "      <td>89619</td>\n",
       "      <td>2020-01-09</td>\n",
       "      <td>部门2</td>\n",
       "      <td>小部门4</td>\n",
       "      <td>陆丽娟</td>\n",
       "      <td>89619</td>\n",
       "      <td>2020-01-09</td>\n",
       "    </tr>\n",
       "    <tr>\n",
       "      <th>9</th>\n",
       "      <td>部门2</td>\n",
       "      <td>小部门4</td>\n",
       "      <td>鲍秀华</td>\n",
       "      <td>27488</td>\n",
       "      <td>2020-01-10</td>\n",
       "      <td>部门2</td>\n",
       "      <td>小部门4</td>\n",
       "      <td>鲍秀华</td>\n",
       "      <td>27488</td>\n",
       "      <td>2020-01-10</td>\n",
       "    </tr>\n",
       "  </tbody>\n",
       "</table>\n",
       "</div>"
      ],
      "text/plain": [
       "  dept dept1 name    销售额         时间 dept dept1 name    销售额         时间\n",
       "0  部门1  小部门1   耿旭   5458 2020-01-01  部门1  小部门1   耿旭   5458 2020-01-01\n",
       "1  部门1  小部门1  张丽丽   8857 2020-01-02  部门1  小部门1  张丽丽   8857 2020-01-02\n",
       "2  部门1  小部门2  赵建国  16399 2020-01-03  部门1  小部门2  赵建国  16399 2020-01-03\n",
       "3  部门1  小部门2  汪桂香  23327 2020-01-04  部门1  小部门2  汪桂香  23327 2020-01-04\n",
       "4  部门1  小部门2  杨桂英  64689 2020-01-05  部门1  小部门2  杨桂英  64689 2020-01-05\n",
       "5  部门2  小部门3   邓霞  80870 2020-01-06  部门2  小部门3   邓霞  80870 2020-01-06\n",
       "6  部门2  小部门4  任淑英  45469 2020-01-07  部门2  小部门4  任淑英  45469 2020-01-07\n",
       "7  部门2  小部门4   张莉  72993 2020-01-08  部门2  小部门4   张莉  72993 2020-01-08\n",
       "8  部门2  小部门4  陆丽娟  89619 2020-01-09  部门2  小部门4  陆丽娟  89619 2020-01-09\n",
       "9  部门2  小部门4  鲍秀华  27488 2020-01-10  部门2  小部门4  鲍秀华  27488 2020-01-10"
      ]
     },
     "execution_count": 8,
     "metadata": {},
     "output_type": "execute_result"
    }
   ],
   "source": [
    "pd.concat([df,df],axis=1) # axis=1的合并方向，并排表格"
   ]
  },
  {
   "cell_type": "code",
   "execution_count": 9,
   "id": "34dd03dd-106a-43e6-895c-e5759dbe04fd",
   "metadata": {
    "execution": {
     "iopub.execute_input": "2021-08-06T02:37:58.775783Z",
     "iopub.status.busy": "2021-08-06T02:37:58.775783Z",
     "iopub.status.idle": "2021-08-06T02:37:58.780787Z",
     "shell.execute_reply": "2021-08-06T02:37:58.780787Z",
     "shell.execute_reply.started": "2021-08-06T02:37:58.775783Z"
    },
    "tags": []
   },
   "outputs": [
    {
     "data": {
      "text/plain": [
       "dept           category\n",
       "dept1          category\n",
       "name             object\n",
       "销售额               int32\n",
       "时间       datetime64[ns]\n",
       "dept           category\n",
       "dept1          category\n",
       "name             object\n",
       "销售额               int32\n",
       "时间       datetime64[ns]\n",
       "dtype: object"
      ]
     },
     "execution_count": 9,
     "metadata": {},
     "output_type": "execute_result"
    }
   ],
   "source": [
    "pd.concat([df,df],axis=1).dtypes # 查看数据类型，注意重复列"
   ]
  },
  {
   "cell_type": "code",
   "execution_count": 10,
   "id": "5f92ebe7-7aec-4b14-baaa-2cb287fd282a",
   "metadata": {
    "execution": {
     "iopub.execute_input": "2021-08-06T02:39:02.953966Z",
     "iopub.status.busy": "2021-08-06T02:39:02.953966Z",
     "iopub.status.idle": "2021-08-06T02:39:02.957959Z",
     "shell.execute_reply": "2021-08-06T02:39:02.956957Z",
     "shell.execute_reply.started": "2021-08-06T02:39:02.953966Z"
    },
    "tags": []
   },
   "outputs": [],
   "source": [
    "from pandas.api.types import union_categoricals"
   ]
  },
  {
   "cell_type": "code",
   "execution_count": 11,
   "id": "0d90157b-f690-42a8-9c3c-bc76430a4ba2",
   "metadata": {
    "execution": {
     "iopub.execute_input": "2021-08-06T02:39:20.644004Z",
     "iopub.status.busy": "2021-08-06T02:39:20.643002Z",
     "iopub.status.idle": "2021-08-06T02:39:20.660005Z",
     "shell.execute_reply": "2021-08-06T02:39:20.660005Z",
     "shell.execute_reply.started": "2021-08-06T02:39:20.644004Z"
    },
    "tags": []
   },
   "outputs": [
    {
     "ename": "TypeError",
     "evalue": "all components to combine must be Categorical",
     "output_type": "error",
     "traceback": [
      "\u001b[1;31m---------------------------------------------------------------------------\u001b[0m",
      "\u001b[1;31mTypeError\u001b[0m                                 Traceback (most recent call last)",
      "\u001b[1;32mC:\\Users\\ADMINI~1\\AppData\\Local\\Temp\\1/ipykernel_5116/673601941.py\u001b[0m in \u001b[0;36m<module>\u001b[1;34m\u001b[0m\n\u001b[1;32m----> 1\u001b[1;33m \u001b[0munion_categoricals\u001b[0m\u001b[1;33m(\u001b[0m\u001b[1;33m[\u001b[0m\u001b[0mdf\u001b[0m\u001b[1;33m,\u001b[0m\u001b[0mdf\u001b[0m\u001b[1;33m]\u001b[0m\u001b[1;33m)\u001b[0m\u001b[1;33m\u001b[0m\u001b[1;33m\u001b[0m\u001b[0m\n\u001b[0m",
      "\u001b[1;32md:\\datacenterkun\\jupyter\\venv\\lib\\site-packages\\pandas\\core\\dtypes\\concat.py\u001b[0m in \u001b[0;36munion_categoricals\u001b[1;34m(to_union, sort_categories, ignore_order)\u001b[0m\n\u001b[0;32m    287\u001b[0m             \u001b[1;32mraise\u001b[0m \u001b[0mTypeError\u001b[0m\u001b[1;33m(\u001b[0m\u001b[1;34m\"all components to combine must be Categorical\"\u001b[0m\u001b[1;33m)\u001b[0m\u001b[1;33m\u001b[0m\u001b[1;33m\u001b[0m\u001b[0m\n\u001b[0;32m    288\u001b[0m \u001b[1;33m\u001b[0m\u001b[0m\n\u001b[1;32m--> 289\u001b[1;33m     \u001b[0mto_union\u001b[0m \u001b[1;33m=\u001b[0m \u001b[1;33m[\u001b[0m\u001b[0m_maybe_unwrap\u001b[0m\u001b[1;33m(\u001b[0m\u001b[0mx\u001b[0m\u001b[1;33m)\u001b[0m \u001b[1;32mfor\u001b[0m \u001b[0mx\u001b[0m \u001b[1;32min\u001b[0m \u001b[0mto_union\u001b[0m\u001b[1;33m]\u001b[0m\u001b[1;33m\u001b[0m\u001b[1;33m\u001b[0m\u001b[0m\n\u001b[0m\u001b[0;32m    290\u001b[0m     \u001b[0mfirst\u001b[0m \u001b[1;33m=\u001b[0m \u001b[0mto_union\u001b[0m\u001b[1;33m[\u001b[0m\u001b[1;36m0\u001b[0m\u001b[1;33m]\u001b[0m\u001b[1;33m\u001b[0m\u001b[1;33m\u001b[0m\u001b[0m\n\u001b[0;32m    291\u001b[0m \u001b[1;33m\u001b[0m\u001b[0m\n",
      "\u001b[1;32md:\\datacenterkun\\jupyter\\venv\\lib\\site-packages\\pandas\\core\\dtypes\\concat.py\u001b[0m in \u001b[0;36m<listcomp>\u001b[1;34m(.0)\u001b[0m\n\u001b[0;32m    287\u001b[0m             \u001b[1;32mraise\u001b[0m \u001b[0mTypeError\u001b[0m\u001b[1;33m(\u001b[0m\u001b[1;34m\"all components to combine must be Categorical\"\u001b[0m\u001b[1;33m)\u001b[0m\u001b[1;33m\u001b[0m\u001b[1;33m\u001b[0m\u001b[0m\n\u001b[0;32m    288\u001b[0m \u001b[1;33m\u001b[0m\u001b[0m\n\u001b[1;32m--> 289\u001b[1;33m     \u001b[0mto_union\u001b[0m \u001b[1;33m=\u001b[0m \u001b[1;33m[\u001b[0m\u001b[0m_maybe_unwrap\u001b[0m\u001b[1;33m(\u001b[0m\u001b[0mx\u001b[0m\u001b[1;33m)\u001b[0m \u001b[1;32mfor\u001b[0m \u001b[0mx\u001b[0m \u001b[1;32min\u001b[0m \u001b[0mto_union\u001b[0m\u001b[1;33m]\u001b[0m\u001b[1;33m\u001b[0m\u001b[1;33m\u001b[0m\u001b[0m\n\u001b[0m\u001b[0;32m    290\u001b[0m     \u001b[0mfirst\u001b[0m \u001b[1;33m=\u001b[0m \u001b[0mto_union\u001b[0m\u001b[1;33m[\u001b[0m\u001b[1;36m0\u001b[0m\u001b[1;33m]\u001b[0m\u001b[1;33m\u001b[0m\u001b[1;33m\u001b[0m\u001b[0m\n\u001b[0;32m    291\u001b[0m \u001b[1;33m\u001b[0m\u001b[0m\n",
      "\u001b[1;32md:\\datacenterkun\\jupyter\\venv\\lib\\site-packages\\pandas\\core\\dtypes\\concat.py\u001b[0m in \u001b[0;36m_maybe_unwrap\u001b[1;34m(x)\u001b[0m\n\u001b[0;32m    285\u001b[0m             \u001b[1;32mreturn\u001b[0m \u001b[0mx\u001b[0m\u001b[1;33m\u001b[0m\u001b[1;33m\u001b[0m\u001b[0m\n\u001b[0;32m    286\u001b[0m         \u001b[1;32melse\u001b[0m\u001b[1;33m:\u001b[0m\u001b[1;33m\u001b[0m\u001b[1;33m\u001b[0m\u001b[0m\n\u001b[1;32m--> 287\u001b[1;33m             \u001b[1;32mraise\u001b[0m \u001b[0mTypeError\u001b[0m\u001b[1;33m(\u001b[0m\u001b[1;34m\"all components to combine must be Categorical\"\u001b[0m\u001b[1;33m)\u001b[0m\u001b[1;33m\u001b[0m\u001b[1;33m\u001b[0m\u001b[0m\n\u001b[0m\u001b[0;32m    288\u001b[0m \u001b[1;33m\u001b[0m\u001b[0m\n\u001b[0;32m    289\u001b[0m     \u001b[0mto_union\u001b[0m \u001b[1;33m=\u001b[0m \u001b[1;33m[\u001b[0m\u001b[0m_maybe_unwrap\u001b[0m\u001b[1;33m(\u001b[0m\u001b[0mx\u001b[0m\u001b[1;33m)\u001b[0m \u001b[1;32mfor\u001b[0m \u001b[0mx\u001b[0m \u001b[1;32min\u001b[0m \u001b[0mto_union\u001b[0m\u001b[1;33m]\u001b[0m\u001b[1;33m\u001b[0m\u001b[1;33m\u001b[0m\u001b[0m\n",
      "\u001b[1;31mTypeError\u001b[0m: all components to combine must be Categorical"
     ]
    }
   ],
   "source": [
    "union_categoricals([df,df]) # 提示我们 表格所有的合并内容必须是 分类数据"
   ]
  },
  {
   "cell_type": "code",
   "execution_count": 12,
   "id": "2d078a86-34fe-4a35-91cc-dbf08ba76639",
   "metadata": {
    "execution": {
     "iopub.execute_input": "2021-08-06T02:40:16.611152Z",
     "iopub.status.busy": "2021-08-06T02:40:16.611152Z",
     "iopub.status.idle": "2021-08-06T02:40:16.622156Z",
     "shell.execute_reply": "2021-08-06T02:40:16.622156Z",
     "shell.execute_reply.started": "2021-08-06T02:40:16.611152Z"
    },
    "tags": []
   },
   "outputs": [
    {
     "data": {
      "text/plain": [
       "['部门1', '部门1', '部门1', '部门1', '部门1', ..., '部门2', '部门2', '部门2', '部门2', '部门2']\n",
       "Length: 20\n",
       "Categories (2, object): ['部门1', '部门2']"
      ]
     },
     "execution_count": 12,
     "metadata": {},
     "output_type": "execute_result"
    }
   ],
   "source": [
    "union_categoricals([df.dept,df.dept]) # 合并列"
   ]
  },
  {
   "cell_type": "code",
   "execution_count": 13,
   "id": "36154e51-09d4-4297-9b71-2a3dd0aa6d11",
   "metadata": {
    "execution": {
     "iopub.execute_input": "2021-08-06T02:40:41.412212Z",
     "iopub.status.busy": "2021-08-06T02:40:41.412212Z",
     "iopub.status.idle": "2021-08-06T02:40:41.422212Z",
     "shell.execute_reply": "2021-08-06T02:40:41.422212Z",
     "shell.execute_reply.started": "2021-08-06T02:40:41.412212Z"
    },
    "tags": []
   },
   "outputs": [
    {
     "data": {
      "text/plain": [
       "['部门1', '部门1', '部门1', '部门1', '部门1', ..., '小部门3', '小部门4', '小部门4', '小部门4', '小部门4']\n",
       "Length: 20\n",
       "Categories (6, object): ['部门1', '部门2', '小部门1', '小部门2', '小部门3', '小部门4']"
      ]
     },
     "execution_count": 13,
     "metadata": {},
     "output_type": "execute_result"
    }
   ],
   "source": [
    "union_categoricals([df.dept,df.dept1]) # 合并不同列"
   ]
  },
  {
   "cell_type": "code",
   "execution_count": 14,
   "id": "21f60dfd-1318-4cb7-adce-34045ea18442",
   "metadata": {
    "execution": {
     "iopub.execute_input": "2021-08-06T02:40:58.313256Z",
     "iopub.status.busy": "2021-08-06T02:40:58.313256Z",
     "iopub.status.idle": "2021-08-06T02:40:58.320274Z",
     "shell.execute_reply": "2021-08-06T02:40:58.320274Z",
     "shell.execute_reply.started": "2021-08-06T02:40:58.313256Z"
    },
    "tags": []
   },
   "outputs": [
    {
     "data": {
      "text/plain": [
       "['小部门1', '小部门1', '小部门2', '小部门2', '小部门2', ..., '部门2', '部门2', '部门2', '部门2', '部门2']\n",
       "Length: 20\n",
       "Categories (6, object): ['小部门1', '小部门2', '小部门3', '小部门4', '部门1', '部门2']"
      ]
     },
     "execution_count": 14,
     "metadata": {},
     "output_type": "execute_result"
    }
   ],
   "source": [
    "union_categoricals([df.dept1,df.dept]) # 合并不同列，注意与上面的区别，顺序上"
   ]
  },
  {
   "cell_type": "code",
   "execution_count": 15,
   "id": "92f08aae-ce53-4e11-889b-e9655b5eb43d",
   "metadata": {
    "execution": {
     "iopub.execute_input": "2021-08-06T02:41:37.659359Z",
     "iopub.status.busy": "2021-08-06T02:41:37.659359Z",
     "iopub.status.idle": "2021-08-06T02:41:37.669366Z",
     "shell.execute_reply": "2021-08-06T02:41:37.668356Z",
     "shell.execute_reply.started": "2021-08-06T02:41:37.659359Z"
    },
    "tags": []
   },
   "outputs": [
    {
     "data": {
      "text/plain": [
       "['小部门1', '小部门1', '小部门2', '小部门2', '小部门2', ..., '部门2', '部门2', '部门2', '部门2', '部门2']\n",
       "Length: 20\n",
       "Categories (6, object): ['小部门1', '小部门2', '小部门3', '小部门4', '部门1', '部门2']"
      ]
     },
     "execution_count": 19,
     "metadata": {},
     "output_type": "execute_result"
    }
   ],
   "source": [
    "union_categoricals([df.dept1,df.dept],sort_categories=True) # 合并不同列。分类排序参数"
   ]
  },
  {
   "cell_type": "code",
   "execution_count": 16,
   "id": "90248324-2dd5-41dd-b081-53fcf92c8837",
   "metadata": {
    "execution": {
     "iopub.execute_input": "2021-08-06T02:42:11.656454Z",
     "iopub.status.busy": "2021-08-06T02:42:11.655439Z",
     "iopub.status.idle": "2021-08-06T02:42:11.667439Z",
     "shell.execute_reply": "2021-08-06T02:42:11.666441Z",
     "shell.execute_reply.started": "2021-08-06T02:42:11.656454Z"
    },
    "tags": []
   },
   "outputs": [
    {
     "data": {
      "text/plain": [
       "['小部门1', '小部门1', '小部门2', '小部门2', '小部门2', ..., '部门2', '部门2', '部门2', '部门2', '部门2']\n",
       "Length: 20\n",
       "Categories (6, object): ['小部门1', '小部门2', '小部门3', '小部门4', '部门1', '部门2']"
      ]
     },
     "execution_count": 16,
     "metadata": {},
     "output_type": "execute_result"
    }
   ],
   "source": [
    "union_categoricals([df.dept1,df.dept],sort_categories=True,ignore_order=True) # 合并不同列.ignore_order 忽略顺序参数"
   ]
  },
  {
   "cell_type": "code",
   "execution_count": 17,
   "id": "1a30b94a-28f9-4753-b975-5e96f858dc66",
   "metadata": {
    "execution": {
     "iopub.execute_input": "2021-08-06T02:43:08.148582Z",
     "iopub.status.busy": "2021-08-06T02:43:08.148582Z",
     "iopub.status.idle": "2021-08-06T02:43:08.158580Z",
     "shell.execute_reply": "2021-08-06T02:43:08.158580Z",
     "shell.execute_reply.started": "2021-08-06T02:43:08.148582Z"
    },
    "tags": []
   },
   "outputs": [
    {
     "ename": "TypeError",
     "evalue": "union_categoricals() got an unexpected keyword argument 'axis'",
     "output_type": "error",
     "traceback": [
      "\u001b[1;31m---------------------------------------------------------------------------\u001b[0m",
      "\u001b[1;31mTypeError\u001b[0m                                 Traceback (most recent call last)",
      "\u001b[1;32mC:\\Users\\ADMINI~1\\AppData\\Local\\Temp\\1/ipykernel_5116/2741004281.py\u001b[0m in \u001b[0;36m<module>\u001b[1;34m\u001b[0m\n\u001b[1;32m----> 1\u001b[1;33m \u001b[0munion_categoricals\u001b[0m\u001b[1;33m(\u001b[0m\u001b[1;33m[\u001b[0m\u001b[0mdf\u001b[0m\u001b[1;33m.\u001b[0m\u001b[0mdept\u001b[0m\u001b[1;33m,\u001b[0m\u001b[0mdf\u001b[0m\u001b[1;33m.\u001b[0m\u001b[0mdept1\u001b[0m\u001b[1;33m]\u001b[0m\u001b[1;33m,\u001b[0m\u001b[0maxis\u001b[0m\u001b[1;33m=\u001b[0m\u001b[1;36m1\u001b[0m\u001b[1;33m)\u001b[0m \u001b[1;31m# 合并不同列\u001b[0m\u001b[1;33m\u001b[0m\u001b[1;33m\u001b[0m\u001b[0m\n\u001b[0m",
      "\u001b[1;31mTypeError\u001b[0m: union_categoricals() got an unexpected keyword argument 'axis'"
     ]
    }
   ],
   "source": [
    "union_categoricals([df.dept,df.dept1],axis=1) # 提示不支持 axis参数"
   ]
  }
 ],
 "metadata": {
  "kernelspec": {
   "display_name": "Python 3 (ipykernel)",
   "language": "python",
   "name": "python3"
  },
  "language_info": {
   "codemirror_mode": {
    "name": "ipython",
    "version": 3
   },
   "file_extension": ".py",
   "mimetype": "text/x-python",
   "name": "python",
   "nbconvert_exporter": "python",
   "pygments_lexer": "ipython3",
   "version": "3.8.10"
  }
 },
 "nbformat": 4,
 "nbformat_minor": 5
}
