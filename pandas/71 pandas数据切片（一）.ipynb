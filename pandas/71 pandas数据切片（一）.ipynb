{
 "cells": [
  {
   "cell_type": "markdown",
   "id": "4fd9eb70",
   "metadata": {
    "execution": {
     "iopub.execute_input": "2021-05-10T07:18:52.990449Z",
     "iopub.status.busy": "2021-05-10T07:18:52.990449Z",
     "iopub.status.idle": "2021-05-10T07:18:52.994464Z",
     "shell.execute_reply": "2021-05-10T07:18:52.993452Z",
     "shell.execute_reply.started": "2021-05-10T07:18:52.990449Z"
    }
   },
   "source": [
    "## 71 pandas数据切片（一）"
   ]
  },
  {
   "cell_type": "markdown",
   "id": "9d1d668e",
   "metadata": {},
   "source": [
    "### 数据切片 cut。和分类数据有一定关系\n",
    "参数 x,\n",
    "    bins,\n",
    "    right: bool = True,\n",
    "    labels=None,\n",
    "    retbins: bool = False,\n",
    "    precision: int = 3,\n",
    "    include_lowest: bool = False,\n",
    "    duplicates: str = 'raise',\n",
    "    ordered: bool = True,"
   ]
  },
  {
   "cell_type": "code",
   "execution_count": 1,
   "id": "92dfebdb",
   "metadata": {
    "execution": {
     "iopub.execute_input": "2021-08-06T06:03:32.234382Z",
     "iopub.status.busy": "2021-08-06T06:03:32.234382Z",
     "iopub.status.idle": "2021-08-06T06:03:32.550412Z",
     "shell.execute_reply": "2021-08-06T06:03:32.550412Z",
     "shell.execute_reply.started": "2021-08-06T06:03:32.234382Z"
    },
    "tags": []
   },
   "outputs": [],
   "source": [
    "import numpy  as np\n",
    "import pandas as pd\n",
    "from faker import Faker\n",
    "\n",
    "fake = Faker('zh_CN')\n",
    "df=pd.DataFrame(data=[ [fake.name()] for x in range(10) ],columns=['name'])\n",
    "\n",
    "df['销售额']=np.random.randint(100,100000,size=(10, 1))\n",
    "df['时间']=pd.date_range(start='2020-01-01',periods=10,freq='D')\n",
    "df.insert(0,'dept',['部门1']*5+['部门2']*5)\n",
    "df.insert(1,'dept1',['小部门1']*2+['小部门2']*3+['小部门3']*1+['小部门4']*4)"
   ]
  },
  {
   "cell_type": "code",
   "execution_count": 2,
   "id": "3731db9c",
   "metadata": {
    "execution": {
     "iopub.execute_input": "2021-08-06T06:03:32.551387Z",
     "iopub.status.busy": "2021-08-06T06:03:32.551387Z",
     "iopub.status.idle": "2021-08-06T06:03:32.568393Z",
     "shell.execute_reply": "2021-08-06T06:03:32.567390Z",
     "shell.execute_reply.started": "2021-08-06T06:03:32.551387Z"
    },
    "tags": []
   },
   "outputs": [
    {
     "data": {
      "text/html": [
       "<div>\n",
       "<style scoped>\n",
       "    .dataframe tbody tr th:only-of-type {\n",
       "        vertical-align: middle;\n",
       "    }\n",
       "\n",
       "    .dataframe tbody tr th {\n",
       "        vertical-align: top;\n",
       "    }\n",
       "\n",
       "    .dataframe thead th {\n",
       "        text-align: right;\n",
       "    }\n",
       "</style>\n",
       "<table border=\"1\" class=\"dataframe\">\n",
       "  <thead>\n",
       "    <tr style=\"text-align: right;\">\n",
       "      <th></th>\n",
       "      <th>dept</th>\n",
       "      <th>dept1</th>\n",
       "      <th>name</th>\n",
       "      <th>销售额</th>\n",
       "      <th>时间</th>\n",
       "    </tr>\n",
       "  </thead>\n",
       "  <tbody>\n",
       "    <tr>\n",
       "      <th>0</th>\n",
       "      <td>部门1</td>\n",
       "      <td>小部门1</td>\n",
       "      <td>关俊</td>\n",
       "      <td>18369</td>\n",
       "      <td>2020-01-01</td>\n",
       "    </tr>\n",
       "    <tr>\n",
       "      <th>1</th>\n",
       "      <td>部门1</td>\n",
       "      <td>小部门1</td>\n",
       "      <td>董荣</td>\n",
       "      <td>53481</td>\n",
       "      <td>2020-01-02</td>\n",
       "    </tr>\n",
       "    <tr>\n",
       "      <th>2</th>\n",
       "      <td>部门1</td>\n",
       "      <td>小部门2</td>\n",
       "      <td>梁静</td>\n",
       "      <td>78381</td>\n",
       "      <td>2020-01-03</td>\n",
       "    </tr>\n",
       "    <tr>\n",
       "      <th>3</th>\n",
       "      <td>部门1</td>\n",
       "      <td>小部门2</td>\n",
       "      <td>黄淑华</td>\n",
       "      <td>53161</td>\n",
       "      <td>2020-01-04</td>\n",
       "    </tr>\n",
       "    <tr>\n",
       "      <th>4</th>\n",
       "      <td>部门1</td>\n",
       "      <td>小部门2</td>\n",
       "      <td>蒋凤兰</td>\n",
       "      <td>10974</td>\n",
       "      <td>2020-01-05</td>\n",
       "    </tr>\n",
       "    <tr>\n",
       "      <th>5</th>\n",
       "      <td>部门2</td>\n",
       "      <td>小部门3</td>\n",
       "      <td>陈丽华</td>\n",
       "      <td>36308</td>\n",
       "      <td>2020-01-06</td>\n",
       "    </tr>\n",
       "    <tr>\n",
       "      <th>6</th>\n",
       "      <td>部门2</td>\n",
       "      <td>小部门4</td>\n",
       "      <td>陈玲</td>\n",
       "      <td>45758</td>\n",
       "      <td>2020-01-07</td>\n",
       "    </tr>\n",
       "    <tr>\n",
       "      <th>7</th>\n",
       "      <td>部门2</td>\n",
       "      <td>小部门4</td>\n",
       "      <td>李瑜</td>\n",
       "      <td>73797</td>\n",
       "      <td>2020-01-08</td>\n",
       "    </tr>\n",
       "    <tr>\n",
       "      <th>8</th>\n",
       "      <td>部门2</td>\n",
       "      <td>小部门4</td>\n",
       "      <td>段健</td>\n",
       "      <td>93656</td>\n",
       "      <td>2020-01-09</td>\n",
       "    </tr>\n",
       "    <tr>\n",
       "      <th>9</th>\n",
       "      <td>部门2</td>\n",
       "      <td>小部门4</td>\n",
       "      <td>杨东</td>\n",
       "      <td>85370</td>\n",
       "      <td>2020-01-10</td>\n",
       "    </tr>\n",
       "  </tbody>\n",
       "</table>\n",
       "</div>"
      ],
      "text/plain": [
       "  dept dept1 name    销售额         时间\n",
       "0  部门1  小部门1   关俊  18369 2020-01-01\n",
       "1  部门1  小部门1   董荣  53481 2020-01-02\n",
       "2  部门1  小部门2   梁静  78381 2020-01-03\n",
       "3  部门1  小部门2  黄淑华  53161 2020-01-04\n",
       "4  部门1  小部门2  蒋凤兰  10974 2020-01-05\n",
       "5  部门2  小部门3  陈丽华  36308 2020-01-06\n",
       "6  部门2  小部门4   陈玲  45758 2020-01-07\n",
       "7  部门2  小部门4   李瑜  73797 2020-01-08\n",
       "8  部门2  小部门4   段健  93656 2020-01-09\n",
       "9  部门2  小部门4   杨东  85370 2020-01-10"
      ]
     },
     "execution_count": 2,
     "metadata": {},
     "output_type": "execute_result"
    }
   ],
   "source": [
    "df # 随机生成的数据"
   ]
  },
  {
   "cell_type": "code",
   "execution_count": 28,
   "id": "332e449d-771d-4e76-952f-c07d6fc1658d",
   "metadata": {
    "execution": {
     "iopub.execute_input": "2021-08-06T06:25:04.060283Z",
     "iopub.status.busy": "2021-08-06T06:25:04.060283Z",
     "iopub.status.idle": "2021-08-06T06:25:04.068284Z",
     "shell.execute_reply": "2021-08-06T06:25:04.068284Z",
     "shell.execute_reply.started": "2021-08-06T06:25:04.060283Z"
    },
    "tags": []
   },
   "outputs": [
    {
     "data": {
      "text/plain": [
       "(0    (2019-12-31 23:47:02.400000, 2020-01-05 12:00:00]\n",
       " 1    (2019-12-31 23:47:02.400000, 2020-01-05 12:00:00]\n",
       " 2    (2019-12-31 23:47:02.400000, 2020-01-05 12:00:00]\n",
       " 3    (2019-12-31 23:47:02.400000, 2020-01-05 12:00:00]\n",
       " 4    (2019-12-31 23:47:02.400000, 2020-01-05 12:00:00]\n",
       " 5                    (2020-01-05 12:00:00, 2020-01-10]\n",
       " 6                    (2020-01-05 12:00:00, 2020-01-10]\n",
       " 7                    (2020-01-05 12:00:00, 2020-01-10]\n",
       " 8                    (2020-01-05 12:00:00, 2020-01-10]\n",
       " 9                    (2020-01-05 12:00:00, 2020-01-10]\n",
       " Name: 时间, dtype: category\n",
       " Categories (2, interval[datetime64[ns]]): [(2019-12-31 23:47:02.400000, 2020-01-05 12:00:00] < (2020-01-05 12:00:00, 2020-01-10]],\n",
       " DatetimeIndex(['2019-12-31 23:47:02.400000', '2020-01-05 12:00:00',\n",
       "                '2020-01-10 00:00:00'],\n",
       "               dtype='datetime64[ns]', freq=None))"
      ]
     },
     "execution_count": 28,
     "metadata": {},
     "output_type": "execute_result"
    }
   ],
   "source": [
    "pd.cut(df.时间,2,precision=1,right=1,retbins=1,include_lowest=0,duplicates='raise') # 也可以使用在时间数据上"
   ]
  },
  {
   "cell_type": "code",
   "execution_count": 20,
   "id": "5d707771-28f0-4bd7-b8c6-8e913ac40f82",
   "metadata": {
    "execution": {
     "iopub.execute_input": "2021-08-06T06:19:30.630536Z",
     "iopub.status.busy": "2021-08-06T06:19:30.630536Z",
     "iopub.status.idle": "2021-08-06T06:19:30.643539Z",
     "shell.execute_reply": "2021-08-06T06:19:30.642535Z",
     "shell.execute_reply.started": "2021-08-06T06:19:30.630536Z"
    },
    "tags": []
   },
   "outputs": [
    {
     "data": {
      "text/plain": [
       "(0    低\n",
       " 1    高\n",
       " 2    高\n",
       " 3    高\n",
       " 4    低\n",
       " 5    低\n",
       " 6    低\n",
       " 7    高\n",
       " 8    高\n",
       " 9    高\n",
       " Name: 销售额, dtype: category\n",
       " Categories (2, object): ['低', '高'],\n",
       " array([10891.318, 52315.   , 93656.   ]))"
      ]
     },
     "execution_count": 20,
     "metadata": {},
     "output_type": "execute_result"
    }
   ],
   "source": [
    "pd.cut(df.销售额,2,precision=1,right=1,labels=['低','高'],retbins=1,include_lowest=1,duplicates='raise',ordered=False) # 是否分类有序"
   ]
  },
  {
   "cell_type": "code",
   "execution_count": 17,
   "id": "bf8325bc-9988-40a8-b191-c4955628409c",
   "metadata": {
    "execution": {
     "iopub.execute_input": "2021-08-06T06:17:56.714048Z",
     "iopub.status.busy": "2021-08-06T06:17:56.714048Z",
     "iopub.status.idle": "2021-08-06T06:17:56.724026Z",
     "shell.execute_reply": "2021-08-06T06:17:56.723026Z",
     "shell.execute_reply.started": "2021-08-06T06:17:56.714048Z"
    },
    "tags": []
   },
   "outputs": [
    {
     "data": {
      "text/plain": [
       "(0    低\n",
       " 1    高\n",
       " 2    高\n",
       " 3    高\n",
       " 4    低\n",
       " 5    低\n",
       " 6    低\n",
       " 7    高\n",
       " 8    高\n",
       " 9    高\n",
       " Name: 销售额, dtype: category\n",
       " Categories (2, object): ['低' < '高'],\n",
       " array([10891.318, 52315.   , 93656.   ]))"
      ]
     },
     "execution_count": 17,
     "metadata": {},
     "output_type": "execute_result"
    }
   ],
   "source": [
    "pd.cut(df.销售额,2,precision=1,right=1,labels=['低','高'],retbins=1,include_lowest=1,duplicates='raise') # 如果有重复值，删除或者 报错。本例无"
   ]
  },
  {
   "cell_type": "code",
   "execution_count": 29,
   "id": "9e4859b9-bb10-4170-aa48-3ae8f5ced5f6",
   "metadata": {
    "execution": {
     "iopub.execute_input": "2021-08-06T06:37:59.286331Z",
     "iopub.status.busy": "2021-08-06T06:37:59.285328Z",
     "iopub.status.idle": "2021-08-06T06:37:59.294335Z",
     "shell.execute_reply": "2021-08-06T06:37:59.293332Z",
     "shell.execute_reply.started": "2021-08-06T06:37:59.286331Z"
    },
    "tags": []
   },
   "outputs": [
    {
     "data": {
      "text/plain": [
       "(0    低\n",
       " 1    高\n",
       " 2    高\n",
       " 3    高\n",
       " 4    低\n",
       " 5    低\n",
       " 6    低\n",
       " 7    高\n",
       " 8    高\n",
       " 9    高\n",
       " Name: 销售额, dtype: category\n",
       " Categories (2, object): ['低' < '高'],\n",
       " array([10891.318, 52315.   , 93656.   ]))"
      ]
     },
     "execution_count": 29,
     "metadata": {},
     "output_type": "execute_result"
    }
   ],
   "source": [
    "pd.cut(df.销售额,2,precision=1,right=1,labels=['低','高'],retbins=1,include_lowest=1) # 是否包含最小点（官方英文为：第一个间隔区间是否左包含）"
   ]
  },
  {
   "cell_type": "code",
   "execution_count": 11,
   "id": "684f02e8-5edb-41c8-add0-53b0c78d17d7",
   "metadata": {
    "execution": {
     "iopub.execute_input": "2021-08-06T06:14:24.106806Z",
     "iopub.status.busy": "2021-08-06T06:14:24.105806Z",
     "iopub.status.idle": "2021-08-06T06:14:24.113814Z",
     "shell.execute_reply": "2021-08-06T06:14:24.113814Z",
     "shell.execute_reply.started": "2021-08-06T06:14:24.106806Z"
    },
    "tags": []
   },
   "outputs": [
    {
     "data": {
      "text/plain": [
       "(0    低\n",
       " 1    高\n",
       " 2    高\n",
       " 3    高\n",
       " 4    低\n",
       " 5    低\n",
       " 6    低\n",
       " 7    高\n",
       " 8    高\n",
       " 9    高\n",
       " Name: 销售额, dtype: category\n",
       " Categories (2, object): ['低' < '高'],\n",
       " array([10891.318, 52315.   , 93656.   ]))"
      ]
     },
     "execution_count": 11,
     "metadata": {},
     "output_type": "execute_result"
    }
   ],
   "source": [
    "pd.cut(df.销售额,2,precision=1,right=1,labels=['低','高'],retbins=1) #  返回一个array含分类数据分界值点"
   ]
  },
  {
   "cell_type": "code",
   "execution_count": 8,
   "id": "7eb03ae9-8476-469a-82bb-5fd67bb7ae6c",
   "metadata": {
    "execution": {
     "iopub.execute_input": "2021-08-06T06:12:28.555071Z",
     "iopub.status.busy": "2021-08-06T06:12:28.554068Z",
     "iopub.status.idle": "2021-08-06T06:12:28.564069Z",
     "shell.execute_reply": "2021-08-06T06:12:28.563071Z",
     "shell.execute_reply.started": "2021-08-06T06:12:28.555071Z"
    },
    "tags": []
   },
   "outputs": [
    {
     "data": {
      "text/plain": [
       "0    低\n",
       "1    高\n",
       "2    高\n",
       "3    高\n",
       "4    低\n",
       "5    低\n",
       "6    低\n",
       "7    高\n",
       "8    高\n",
       "9    高\n",
       "Name: 销售额, dtype: category\n",
       "Categories (2, object): ['低' < '高']"
      ]
     },
     "execution_count": 8,
     "metadata": {},
     "output_type": "execute_result"
    }
   ],
   "source": [
    "pd.cut(df.销售额,2,precision=1,right=1,labels=['低','高']) #  定义分类区间的标签，方便解释等，比如这里的销售额 比较高的还是低的员工"
   ]
  },
  {
   "cell_type": "code",
   "execution_count": 6,
   "id": "7db84b70-7e63-43a4-b61b-aacebf79b7e2",
   "metadata": {
    "execution": {
     "iopub.execute_input": "2021-08-06T06:11:37.588719Z",
     "iopub.status.busy": "2021-08-06T06:11:37.588719Z",
     "iopub.status.idle": "2021-08-06T06:11:37.597723Z",
     "shell.execute_reply": "2021-08-06T06:11:37.596738Z",
     "shell.execute_reply.started": "2021-08-06T06:11:37.588719Z"
    },
    "tags": []
   },
   "outputs": [
    {
     "data": {
      "text/plain": [
       "0    (10891.3, 27510.4]\n",
       "1    (44046.8, 60583.2]\n",
       "2    (77119.6, 93656.0]\n",
       "3    (44046.8, 60583.2]\n",
       "4    (10891.3, 27510.4]\n",
       "5    (27510.4, 44046.8]\n",
       "6    (44046.8, 60583.2]\n",
       "7    (60583.2, 77119.6]\n",
       "8    (77119.6, 93656.0]\n",
       "9    (77119.6, 93656.0]\n",
       "Name: 销售额, dtype: category\n",
       "Categories (5, interval[float64]): [(10891.3, 27510.4] < (27510.4, 44046.8] < (44046.8, 60583.2] < (60583.2, 77119.6] < (77119.6, 93656.0]]"
      ]
     },
     "execution_count": 6,
     "metadata": {},
     "output_type": "execute_result"
    }
   ],
   "source": [
    "pd.cut(df.销售额,5,precision=1,right=1) #  right 是否含右边界"
   ]
  },
  {
   "cell_type": "code",
   "execution_count": 4,
   "id": "d735d94e-02ec-42ab-993c-cbb4a995e7e8",
   "metadata": {
    "execution": {
     "iopub.execute_input": "2021-08-06T06:09:36.910820Z",
     "iopub.status.busy": "2021-08-06T06:09:36.909832Z",
     "iopub.status.idle": "2021-08-06T06:09:36.923807Z",
     "shell.execute_reply": "2021-08-06T06:09:36.922801Z",
     "shell.execute_reply.started": "2021-08-06T06:09:36.910820Z"
    },
    "tags": []
   },
   "outputs": [
    {
     "data": {
      "text/plain": [
       "0    (10891.3, 27510.4]\n",
       "1    (44046.8, 60583.2]\n",
       "2    (77119.6, 93656.0]\n",
       "3    (44046.8, 60583.2]\n",
       "4    (10891.3, 27510.4]\n",
       "5    (27510.4, 44046.8]\n",
       "6    (44046.8, 60583.2]\n",
       "7    (60583.2, 77119.6]\n",
       "8    (77119.6, 93656.0]\n",
       "9    (77119.6, 93656.0]\n",
       "Name: 销售额, dtype: category\n",
       "Categories (5, interval[float64]): [(10891.3, 27510.4] < (27510.4, 44046.8] < (44046.8, 60583.2] < (60583.2, 77119.6] < (77119.6, 93656.0]]"
      ]
     },
     "execution_count": 4,
     "metadata": {},
     "output_type": "execute_result"
    }
   ],
   "source": [
    "pd.cut(df.销售额,5,precision=1) #  precision 控制精度"
   ]
  },
  {
   "cell_type": "code",
   "execution_count": 3,
   "id": "baf56cf5-be88-4b67-a3a1-6c415a75d732",
   "metadata": {
    "execution": {
     "iopub.execute_input": "2021-08-06T06:04:04.501964Z",
     "iopub.status.busy": "2021-08-06T06:04:04.500948Z",
     "iopub.status.idle": "2021-08-06T06:04:04.515962Z",
     "shell.execute_reply": "2021-08-06T06:04:04.513963Z",
     "shell.execute_reply.started": "2021-08-06T06:04:04.501964Z"
    },
    "tags": []
   },
   "outputs": [
    {
     "data": {
      "text/plain": [
       "0    (10891.318, 27510.4]\n",
       "1      (44046.8, 60583.2]\n",
       "2      (77119.6, 93656.0]\n",
       "3      (44046.8, 60583.2]\n",
       "4    (10891.318, 27510.4]\n",
       "5      (27510.4, 44046.8]\n",
       "6      (44046.8, 60583.2]\n",
       "7      (60583.2, 77119.6]\n",
       "8      (77119.6, 93656.0]\n",
       "9      (77119.6, 93656.0]\n",
       "Name: 销售额, dtype: category\n",
       "Categories (5, interval[float64]): [(10891.318, 27510.4] < (27510.4, 44046.8] < (44046.8, 60583.2] < (60583.2, 77119.6] < (77119.6, 93656.0]]"
      ]
     },
     "execution_count": 3,
     "metadata": {},
     "output_type": "execute_result"
    }
   ],
   "source": [
    "pd.cut(df.销售额,5) #  将销售额 切成5片。结果是 分类数据，有序。给出每个元素在哪个分类“区片”"
   ]
  }
 ],
 "metadata": {
  "kernelspec": {
   "display_name": "Python 3 (ipykernel)",
   "language": "python",
   "name": "python3"
  },
  "language_info": {
   "codemirror_mode": {
    "name": "ipython",
    "version": 3
   },
   "file_extension": ".py",
   "mimetype": "text/x-python",
   "name": "python",
   "nbconvert_exporter": "python",
   "pygments_lexer": "ipython3",
   "version": "3.8.10"
  }
 },
 "nbformat": 4,
 "nbformat_minor": 5
}
