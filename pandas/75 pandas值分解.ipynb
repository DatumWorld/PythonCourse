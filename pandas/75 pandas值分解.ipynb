{
 "cells": [
  {
   "cell_type": "markdown",
   "id": "native-silicon",
   "metadata": {
    "execution": {
     "iopub.execute_input": "2021-05-10T07:18:52.990449Z",
     "iopub.status.busy": "2021-05-10T07:18:52.990449Z",
     "iopub.status.idle": "2021-05-10T07:18:52.994464Z",
     "shell.execute_reply": "2021-05-10T07:18:52.993452Z",
     "shell.execute_reply.started": "2021-05-10T07:18:52.990449Z"
    }
   },
   "source": [
    "## 75 pandas值分解"
   ]
  },
  {
   "cell_type": "markdown",
   "id": "hungry-heater",
   "metadata": {},
   "source": [
    "### factorize 值分解，类比因式分解。这里将对象编码成枚举类型或分类变量。此处不解释其数学统计作用。\n",
    "参数 values, sort=False, na_sentinel=- 1, size_hint=None"
   ]
  },
  {
   "cell_type": "code",
   "execution_count": 59,
   "id": "illegal-prairie",
   "metadata": {
    "execution": {
     "iopub.execute_input": "2021-08-08T10:23:29.918170Z",
     "iopub.status.busy": "2021-08-08T10:23:29.917542Z",
     "iopub.status.idle": "2021-08-08T10:23:29.957703Z",
     "shell.execute_reply": "2021-08-08T10:23:29.956825Z",
     "shell.execute_reply.started": "2021-08-08T10:23:29.918117Z"
    },
    "tags": []
   },
   "outputs": [],
   "source": [
    "import numpy  as np\n",
    "import pandas as pd\n",
    "from faker import Faker\n",
    "\n",
    "fake = Faker('zh_CN')\n",
    "df=pd.DataFrame(data=[ [fake.name()] for x in range(10) ],columns=['name'])\n",
    "\n",
    "df['销售额']=np.random.randint(100,100000,size=(10, 1))\n",
    "df['时间']=pd.date_range(start='2020-01-01',periods=10,freq='D')\n",
    "df.insert(0,'dept',['部门1']*5+['部门2']*5)\n",
    "df.insert(1,'dept1',['小部门1']*2+['小部门2']*3+['小部门3']*1+['小部门4']*4)"
   ]
  },
  {
   "cell_type": "code",
   "execution_count": 64,
   "id": "sufficient-voltage",
   "metadata": {
    "execution": {
     "iopub.execute_input": "2021-08-08T10:25:53.501690Z",
     "iopub.status.busy": "2021-08-08T10:25:53.501429Z",
     "iopub.status.idle": "2021-08-08T10:25:53.512227Z",
     "shell.execute_reply": "2021-08-08T10:25:53.511508Z",
     "shell.execute_reply.started": "2021-08-08T10:25:53.501668Z"
    },
    "tags": []
   },
   "outputs": [
    {
     "data": {
      "text/html": [
       "<div>\n",
       "<style scoped>\n",
       "    .dataframe tbody tr th:only-of-type {\n",
       "        vertical-align: middle;\n",
       "    }\n",
       "\n",
       "    .dataframe tbody tr th {\n",
       "        vertical-align: top;\n",
       "    }\n",
       "\n",
       "    .dataframe thead th {\n",
       "        text-align: right;\n",
       "    }\n",
       "</style>\n",
       "<table border=\"1\" class=\"dataframe\">\n",
       "  <thead>\n",
       "    <tr style=\"text-align: right;\">\n",
       "      <th></th>\n",
       "      <th>dept</th>\n",
       "      <th>dept1</th>\n",
       "      <th>name</th>\n",
       "      <th>销售额</th>\n",
       "      <th>时间</th>\n",
       "    </tr>\n",
       "  </thead>\n",
       "  <tbody>\n",
       "    <tr>\n",
       "      <th>0</th>\n",
       "      <td>部门1</td>\n",
       "      <td>小部门1</td>\n",
       "      <td>陈荣</td>\n",
       "      <td>33884</td>\n",
       "      <td>2020-01-01</td>\n",
       "    </tr>\n",
       "    <tr>\n",
       "      <th>1</th>\n",
       "      <td>NaN</td>\n",
       "      <td>小部门1</td>\n",
       "      <td>李凤兰</td>\n",
       "      <td>25964</td>\n",
       "      <td>2020-01-02</td>\n",
       "    </tr>\n",
       "    <tr>\n",
       "      <th>2</th>\n",
       "      <td>部门1</td>\n",
       "      <td>小部门2</td>\n",
       "      <td>彭晨</td>\n",
       "      <td>73442</td>\n",
       "      <td>2020-01-03</td>\n",
       "    </tr>\n",
       "    <tr>\n",
       "      <th>3</th>\n",
       "      <td>部门1</td>\n",
       "      <td>小部门2</td>\n",
       "      <td>许华</td>\n",
       "      <td>164</td>\n",
       "      <td>2020-01-04</td>\n",
       "    </tr>\n",
       "    <tr>\n",
       "      <th>4</th>\n",
       "      <td>部门1</td>\n",
       "      <td>小部门2</td>\n",
       "      <td>沈强</td>\n",
       "      <td>5508</td>\n",
       "      <td>2020-01-05</td>\n",
       "    </tr>\n",
       "    <tr>\n",
       "      <th>5</th>\n",
       "      <td>部门2</td>\n",
       "      <td>小部门3</td>\n",
       "      <td>刘杨</td>\n",
       "      <td>21583</td>\n",
       "      <td>2020-01-06</td>\n",
       "    </tr>\n",
       "    <tr>\n",
       "      <th>6</th>\n",
       "      <td>部门2</td>\n",
       "      <td>小部门4</td>\n",
       "      <td>段欣</td>\n",
       "      <td>48850</td>\n",
       "      <td>2020-01-07</td>\n",
       "    </tr>\n",
       "    <tr>\n",
       "      <th>7</th>\n",
       "      <td>部门2</td>\n",
       "      <td>小部门4</td>\n",
       "      <td>吴敏</td>\n",
       "      <td>93381</td>\n",
       "      <td>2020-01-08</td>\n",
       "    </tr>\n",
       "    <tr>\n",
       "      <th>8</th>\n",
       "      <td>部门2</td>\n",
       "      <td>小部门4</td>\n",
       "      <td>伍红梅</td>\n",
       "      <td>370</td>\n",
       "      <td>2020-01-09</td>\n",
       "    </tr>\n",
       "    <tr>\n",
       "      <th>9</th>\n",
       "      <td>部门2</td>\n",
       "      <td>小部门4</td>\n",
       "      <td>薛彬</td>\n",
       "      <td>51914</td>\n",
       "      <td>2020-01-10</td>\n",
       "    </tr>\n",
       "  </tbody>\n",
       "</table>\n",
       "</div>"
      ],
      "text/plain": [
       "  dept dept1 name    销售额         时间\n",
       "0  部门1  小部门1   陈荣  33884 2020-01-01\n",
       "1  NaN  小部门1  李凤兰  25964 2020-01-02\n",
       "2  部门1  小部门2   彭晨  73442 2020-01-03\n",
       "3  部门1  小部门2   许华    164 2020-01-04\n",
       "4  部门1  小部门2   沈强   5508 2020-01-05\n",
       "5  部门2  小部门3   刘杨  21583 2020-01-06\n",
       "6  部门2  小部门4   段欣  48850 2020-01-07\n",
       "7  部门2  小部门4   吴敏  93381 2020-01-08\n",
       "8  部门2  小部门4  伍红梅    370 2020-01-09\n",
       "9  部门2  小部门4   薛彬  51914 2020-01-10"
      ]
     },
     "execution_count": 64,
     "metadata": {},
     "output_type": "execute_result"
    }
   ],
   "source": [
    "df # 随机生成的数据"
   ]
  },
  {
   "cell_type": "code",
   "execution_count": 76,
   "id": "saved-graphics",
   "metadata": {
    "execution": {
     "iopub.execute_input": "2021-08-08T10:31:10.873658Z",
     "iopub.status.busy": "2021-08-08T10:31:10.873235Z",
     "iopub.status.idle": "2021-08-08T10:31:10.882996Z",
     "shell.execute_reply": "2021-08-08T10:31:10.882042Z",
     "shell.execute_reply.started": "2021-08-08T10:31:10.873625Z"
    }
   },
   "outputs": [
    {
     "data": {
      "text/plain": [
       "(array([ 0, -1,  0,  0,  0,  1,  1,  1,  1,  1]),\n",
       " CategoricalIndex(['部门1', '部门2'], categories=['部门1', '部门2'], ordered=False, dtype='category'))"
      ]
     },
     "execution_count": 76,
     "metadata": {},
     "output_type": "execute_result"
    }
   ],
   "source": [
    "pd.factorize(values=df.dept.astype('category'),sort=1,size_hint=10) # size_hint 哈希大小。"
   ]
  },
  {
   "cell_type": "code",
   "execution_count": 74,
   "id": "acoustic-amazon",
   "metadata": {
    "execution": {
     "iopub.execute_input": "2021-08-08T10:30:08.331125Z",
     "iopub.status.busy": "2021-08-08T10:30:08.330790Z",
     "iopub.status.idle": "2021-08-08T10:30:08.337200Z",
     "shell.execute_reply": "2021-08-08T10:30:08.335992Z",
     "shell.execute_reply.started": "2021-08-08T10:30:08.331097Z"
    }
   },
   "outputs": [],
   "source": [
    "codecs,uniques=pd.factorize(values=df.dept.astype('category'),sort=1) # 作用于分类类型"
   ]
  },
  {
   "cell_type": "code",
   "execution_count": 75,
   "id": "solved-relay",
   "metadata": {
    "execution": {
     "iopub.execute_input": "2021-08-08T10:30:16.668174Z",
     "iopub.status.busy": "2021-08-08T10:30:16.667753Z",
     "iopub.status.idle": "2021-08-08T10:30:16.674470Z",
     "shell.execute_reply": "2021-08-08T10:30:16.673497Z",
     "shell.execute_reply.started": "2021-08-08T10:30:16.668139Z"
    }
   },
   "outputs": [
    {
     "data": {
      "text/plain": [
       "(array([ 0, -1,  0,  0,  0,  1,  1,  1,  1,  1]),\n",
       " CategoricalIndex(['部门1', '部门2'], categories=['部门1', '部门2'], ordered=False, dtype='category'))"
      ]
     },
     "execution_count": 75,
     "metadata": {},
     "output_type": "execute_result"
    }
   ],
   "source": [
    "codecs,uniques # 对应两个结果"
   ]
  },
  {
   "cell_type": "code",
   "execution_count": 73,
   "id": "integral-typing",
   "metadata": {
    "execution": {
     "iopub.execute_input": "2021-08-08T10:29:24.010464Z",
     "iopub.status.busy": "2021-08-08T10:29:24.010054Z",
     "iopub.status.idle": "2021-08-08T10:29:24.018790Z",
     "shell.execute_reply": "2021-08-08T10:29:24.017794Z",
     "shell.execute_reply.started": "2021-08-08T10:29:24.010433Z"
    }
   },
   "outputs": [
    {
     "data": {
      "text/plain": [
       "(array([ 0, -1,  0,  0,  0,  1,  1,  1,  1,  1]),\n",
       " CategoricalIndex(['部门1', '部门2'], categories=['部门1', '部门2'], ordered=False, dtype='category'))"
      ]
     },
     "execution_count": 73,
     "metadata": {},
     "output_type": "execute_result"
    }
   ],
   "source": [
    "pd.factorize(values=df.dept.astype('category'),sort=1) # 作用于分类类型"
   ]
  },
  {
   "cell_type": "code",
   "execution_count": 72,
   "id": "practical-repository",
   "metadata": {
    "execution": {
     "iopub.execute_input": "2021-08-08T10:28:31.844847Z",
     "iopub.status.busy": "2021-08-08T10:28:31.844435Z",
     "iopub.status.idle": "2021-08-08T10:28:31.851664Z",
     "shell.execute_reply": "2021-08-08T10:28:31.850705Z",
     "shell.execute_reply.started": "2021-08-08T10:28:31.844812Z"
    }
   },
   "outputs": [
    {
     "data": {
      "text/plain": [
       "(array([ 0, -1,  0,  0,  0,  1,  1,  1,  1,  1]),\n",
       " Index(['部门1', '部门2'], dtype='object'))"
      ]
     },
     "execution_count": 72,
     "metadata": {},
     "output_type": "execute_result"
    }
   ],
   "source": [
    "pd.factorize(values=df.dept,sort=1) # sort 排序 "
   ]
  },
  {
   "cell_type": "code",
   "execution_count": 63,
   "id": "afraid-rolling",
   "metadata": {
    "execution": {
     "iopub.execute_input": "2021-08-08T10:25:50.488482Z",
     "iopub.status.busy": "2021-08-08T10:25:50.487913Z",
     "iopub.status.idle": "2021-08-08T10:25:50.493723Z",
     "shell.execute_reply": "2021-08-08T10:25:50.492838Z",
     "shell.execute_reply.started": "2021-08-08T10:25:50.488413Z"
    }
   },
   "outputs": [],
   "source": [
    "df.iloc[1,0]=np.nan # 修改一个dept的元素值为nan"
   ]
  },
  {
   "cell_type": "code",
   "execution_count": 71,
   "id": "stock-coordination",
   "metadata": {
    "execution": {
     "iopub.execute_input": "2021-08-08T10:28:02.129465Z",
     "iopub.status.busy": "2021-08-08T10:28:02.128992Z",
     "iopub.status.idle": "2021-08-08T10:28:02.135758Z",
     "shell.execute_reply": "2021-08-08T10:28:02.134769Z",
     "shell.execute_reply.started": "2021-08-08T10:28:02.129425Z"
    }
   },
   "outputs": [
    {
     "data": {
      "text/plain": [
       "(array([ 0, -1,  0,  0,  0,  1,  1,  1,  1,  1]),\n",
       " Index(['部门1', '部门2'], dtype='object'))"
      ]
     },
     "execution_count": 71,
     "metadata": {},
     "output_type": "execute_result"
    }
   ],
   "source": [
    "pd.factorize(values=df.dept) # 注意变化。na_sentinel 控制nan如何处理。默认-1"
   ]
  },
  {
   "cell_type": "code",
   "execution_count": 61,
   "id": "dangerous-retailer",
   "metadata": {
    "execution": {
     "iopub.execute_input": "2021-08-08T10:24:20.304057Z",
     "iopub.status.busy": "2021-08-08T10:24:20.303409Z",
     "iopub.status.idle": "2021-08-08T10:24:20.311165Z",
     "shell.execute_reply": "2021-08-08T10:24:20.310155Z",
     "shell.execute_reply.started": "2021-08-08T10:24:20.304022Z"
    }
   },
   "outputs": [
    {
     "data": {
      "text/plain": [
       "(array([0, 0, 0, 0, 0, 1, 1, 1, 1, 1]), Index(['部门1', '部门2'], dtype='object'))"
      ]
     },
     "execution_count": 61,
     "metadata": {},
     "output_type": "execute_result"
    }
   ],
   "source": [
    "pd.factorize(df.dept) # 分解成 0   1 对应俩部门"
   ]
  }
 ],
 "metadata": {
  "kernelspec": {
   "display_name": "Python 3 (ipykernel)",
   "language": "python",
   "name": "python3"
  },
  "language_info": {
   "codemirror_mode": {
    "name": "ipython",
    "version": 3
   },
   "file_extension": ".py",
   "mimetype": "text/x-python",
   "name": "python",
   "nbconvert_exporter": "python",
   "pygments_lexer": "ipython3",
   "version": "3.8.10"
  }
 },
 "nbformat": 4,
 "nbformat_minor": 5
}
