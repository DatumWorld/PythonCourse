{
 "cells": [
  {
   "cell_type": "markdown",
   "id": "native-silicon",
   "metadata": {
    "execution": {
     "iopub.execute_input": "2021-05-10T07:18:52.990449Z",
     "iopub.status.busy": "2021-05-10T07:18:52.990449Z",
     "iopub.status.idle": "2021-05-10T07:18:52.994464Z",
     "shell.execute_reply": "2021-05-10T07:18:52.993452Z",
     "shell.execute_reply.started": "2021-05-10T07:18:52.990449Z"
    }
   },
   "source": [
    "## 79 pandas排序（二）"
   ]
  },
  {
   "cell_type": "markdown",
   "id": "hungry-heater",
   "metadata": {
    "jp-MarkdownHeadingCollapsed": true,
    "tags": []
   },
   "source": [
    "### rank 排名函数，计算数字排序\n",
    "参数 axis=0, method={‘average’, ‘min’, ‘max’, ‘first’, ‘dense’}, numeric_only=None, na_option={‘keep’, ‘top’, ‘bottom’}, ascending=True, pct=False"
   ]
  },
  {
   "cell_type": "code",
   "execution_count": 1,
   "id": "illegal-prairie",
   "metadata": {
    "execution": {
     "iopub.execute_input": "2021-08-10T01:45:15.674833Z",
     "iopub.status.busy": "2021-08-10T01:45:15.673839Z",
     "iopub.status.idle": "2021-08-10T01:45:15.977861Z",
     "shell.execute_reply": "2021-08-10T01:45:15.977861Z",
     "shell.execute_reply.started": "2021-08-10T01:45:15.674833Z"
    },
    "tags": []
   },
   "outputs": [],
   "source": [
    "import numpy  as np\n",
    "import pandas as pd\n",
    "from faker import Faker\n",
    "\n",
    "fake = Faker('zh_CN')\n",
    "df=pd.DataFrame(data=[ [fake.name()] for x in range(10) ],columns=['name'])\n",
    "\n",
    "df['销售额']=np.random.randint(100,100000,size=(10, 1))\n",
    "df['时间']=pd.date_range(start='2020-01-01',periods=10,freq='D')\n",
    "df.insert(0,'dept',['部门1']*5+['部门2']*5)\n",
    "df.insert(1,'dept 1',['小部门1']*2+['小部门2']*3+['小部门3']*1+['小部门4']*4)"
   ]
  },
  {
   "cell_type": "markdown",
   "id": "26c34ee2-b934-4459-b3bc-3065ccd98f50",
   "metadata": {
    "tags": []
   },
   "source": [
    "### 演示数据"
   ]
  },
  {
   "cell_type": "code",
   "execution_count": 2,
   "id": "aa8d9bcc-4b8e-4796-9ecc-dec527dac496",
   "metadata": {
    "execution": {
     "iopub.execute_input": "2021-08-10T01:45:15.978829Z",
     "iopub.status.busy": "2021-08-10T01:45:15.978829Z",
     "iopub.status.idle": "2021-08-10T01:45:15.981863Z",
     "shell.execute_reply": "2021-08-10T01:45:15.981863Z",
     "shell.execute_reply.started": "2021-08-10T01:45:15.978829Z"
    },
    "tags": []
   },
   "outputs": [],
   "source": [
    "df.iloc[0,3]=np.nan #  修改成nan\n",
    "df.iloc[1,3]=df.iloc[5,3] #  修改成一样"
   ]
  },
  {
   "cell_type": "code",
   "execution_count": 22,
   "id": "sufficient-voltage",
   "metadata": {
    "execution": {
     "iopub.execute_input": "2021-08-10T01:51:55.416829Z",
     "iopub.status.busy": "2021-08-10T01:51:55.416829Z",
     "iopub.status.idle": "2021-08-10T01:51:55.427831Z",
     "shell.execute_reply": "2021-08-10T01:51:55.427831Z",
     "shell.execute_reply.started": "2021-08-10T01:51:55.416829Z"
    },
    "tags": []
   },
   "outputs": [
    {
     "data": {
      "text/html": [
       "<div>\n",
       "<style scoped>\n",
       "    .dataframe tbody tr th:only-of-type {\n",
       "        vertical-align: middle;\n",
       "    }\n",
       "\n",
       "    .dataframe tbody tr th {\n",
       "        vertical-align: top;\n",
       "    }\n",
       "\n",
       "    .dataframe thead th {\n",
       "        text-align: right;\n",
       "    }\n",
       "</style>\n",
       "<table border=\"1\" class=\"dataframe\">\n",
       "  <thead>\n",
       "    <tr style=\"text-align: right;\">\n",
       "      <th></th>\n",
       "      <th>dept</th>\n",
       "      <th>dept 1</th>\n",
       "      <th>name</th>\n",
       "      <th>销售额</th>\n",
       "      <th>时间</th>\n",
       "      <th>排名</th>\n",
       "    </tr>\n",
       "  </thead>\n",
       "  <tbody>\n",
       "    <tr>\n",
       "      <th>0</th>\n",
       "      <td>部门1</td>\n",
       "      <td>小部门1</td>\n",
       "      <td>谢秀珍</td>\n",
       "      <td>NaN</td>\n",
       "      <td>2020-01-01</td>\n",
       "      <td>NaN</td>\n",
       "    </tr>\n",
       "    <tr>\n",
       "      <th>1</th>\n",
       "      <td>部门1</td>\n",
       "      <td>小部门1</td>\n",
       "      <td>刘婷婷</td>\n",
       "      <td>94971.0</td>\n",
       "      <td>2020-01-02</td>\n",
       "      <td>7.5</td>\n",
       "    </tr>\n",
       "    <tr>\n",
       "      <th>2</th>\n",
       "      <td>部门1</td>\n",
       "      <td>小部门2</td>\n",
       "      <td>赵玉兰</td>\n",
       "      <td>47657.0</td>\n",
       "      <td>2020-01-03</td>\n",
       "      <td>4.0</td>\n",
       "    </tr>\n",
       "    <tr>\n",
       "      <th>3</th>\n",
       "      <td>部门1</td>\n",
       "      <td>小部门2</td>\n",
       "      <td>方芳</td>\n",
       "      <td>3452.0</td>\n",
       "      <td>2020-01-04</td>\n",
       "      <td>1.0</td>\n",
       "    </tr>\n",
       "    <tr>\n",
       "      <th>4</th>\n",
       "      <td>部门1</td>\n",
       "      <td>小部门2</td>\n",
       "      <td>苑凯</td>\n",
       "      <td>86060.0</td>\n",
       "      <td>2020-01-05</td>\n",
       "      <td>6.0</td>\n",
       "    </tr>\n",
       "    <tr>\n",
       "      <th>5</th>\n",
       "      <td>部门2</td>\n",
       "      <td>小部门3</td>\n",
       "      <td>谢凤兰</td>\n",
       "      <td>94971.0</td>\n",
       "      <td>2020-01-06</td>\n",
       "      <td>7.5</td>\n",
       "    </tr>\n",
       "    <tr>\n",
       "      <th>6</th>\n",
       "      <td>部门2</td>\n",
       "      <td>小部门4</td>\n",
       "      <td>邓静</td>\n",
       "      <td>6533.0</td>\n",
       "      <td>2020-01-07</td>\n",
       "      <td>2.0</td>\n",
       "    </tr>\n",
       "    <tr>\n",
       "      <th>7</th>\n",
       "      <td>部门2</td>\n",
       "      <td>小部门4</td>\n",
       "      <td>李霞</td>\n",
       "      <td>69390.0</td>\n",
       "      <td>2020-01-08</td>\n",
       "      <td>5.0</td>\n",
       "    </tr>\n",
       "    <tr>\n",
       "      <th>8</th>\n",
       "      <td>部门2</td>\n",
       "      <td>小部门4</td>\n",
       "      <td>姜佳</td>\n",
       "      <td>95820.0</td>\n",
       "      <td>2020-01-09</td>\n",
       "      <td>9.0</td>\n",
       "    </tr>\n",
       "    <tr>\n",
       "      <th>9</th>\n",
       "      <td>部门2</td>\n",
       "      <td>小部门4</td>\n",
       "      <td>阎亮</td>\n",
       "      <td>11306.0</td>\n",
       "      <td>2020-01-10</td>\n",
       "      <td>3.0</td>\n",
       "    </tr>\n",
       "  </tbody>\n",
       "</table>\n",
       "</div>"
      ],
      "text/plain": [
       "  dept dept 1 name      销售额         时间   排名\n",
       "0  部门1   小部门1  谢秀珍      NaN 2020-01-01  NaN\n",
       "1  部门1   小部门1  刘婷婷  94971.0 2020-01-02  7.5\n",
       "2  部门1   小部门2  赵玉兰  47657.0 2020-01-03  4.0\n",
       "3  部门1   小部门2   方芳   3452.0 2020-01-04  1.0\n",
       "4  部门1   小部门2   苑凯  86060.0 2020-01-05  6.0\n",
       "5  部门2   小部门3  谢凤兰  94971.0 2020-01-06  7.5\n",
       "6  部门2   小部门4   邓静   6533.0 2020-01-07  2.0\n",
       "7  部门2   小部门4   李霞  69390.0 2020-01-08  5.0\n",
       "8  部门2   小部门4   姜佳  95820.0 2020-01-09  9.0\n",
       "9  部门2   小部门4   阎亮  11306.0 2020-01-10  3.0"
      ]
     },
     "execution_count": 22,
     "metadata": {},
     "output_type": "execute_result"
    }
   ],
   "source": [
    "df # 随机生成的数据"
   ]
  },
  {
   "cell_type": "code",
   "execution_count": 21,
   "id": "92fcc085-02f7-4b30-a1ee-f6cee0b60b80",
   "metadata": {
    "execution": {
     "iopub.execute_input": "2021-08-10T01:51:52.885835Z",
     "iopub.status.busy": "2021-08-10T01:51:52.885835Z",
     "iopub.status.idle": "2021-08-10T01:51:52.888833Z",
     "shell.execute_reply": "2021-08-10T01:51:52.888833Z",
     "shell.execute_reply.started": "2021-08-10T01:51:52.885835Z"
    },
    "tags": []
   },
   "outputs": [],
   "source": [
    "df['排名']=df.销售额.rank(ascending=1) # "
   ]
  },
  {
   "cell_type": "code",
   "execution_count": 30,
   "id": "b8bfe526-7776-4415-b3ff-50ef5274279f",
   "metadata": {
    "execution": {
     "iopub.execute_input": "2021-08-10T01:54:40.785830Z",
     "iopub.status.busy": "2021-08-10T01:54:40.784829Z",
     "iopub.status.idle": "2021-08-10T01:54:40.791828Z",
     "shell.execute_reply": "2021-08-10T01:54:40.791828Z",
     "shell.execute_reply.started": "2021-08-10T01:54:40.785830Z"
    },
    "tags": []
   },
   "outputs": [
    {
     "data": {
      "text/plain": [
       "0    NaN\n",
       "1    1.0\n",
       "2    3.0\n",
       "3    4.0\n",
       "4    2.0\n",
       "5    2.0\n",
       "6    5.0\n",
       "7    3.0\n",
       "8    1.0\n",
       "9    4.0\n",
       "Name: 销售额, dtype: float64"
      ]
     },
     "execution_count": 30,
     "metadata": {},
     "output_type": "execute_result"
    }
   ],
   "source": [
    "df.groupby('dept').销售额.rank(ascending=False) # 也可以用于分组"
   ]
  },
  {
   "cell_type": "code",
   "execution_count": 26,
   "id": "0a1ddad4-f5ed-40e1-bdc1-fb71dc76d532",
   "metadata": {
    "execution": {
     "iopub.execute_input": "2021-08-10T01:52:56.249835Z",
     "iopub.status.busy": "2021-08-10T01:52:56.248835Z",
     "iopub.status.idle": "2021-08-10T01:52:56.253834Z",
     "shell.execute_reply": "2021-08-10T01:52:56.253834Z",
     "shell.execute_reply.started": "2021-08-10T01:52:56.248835Z"
    },
    "tags": []
   },
   "outputs": [
    {
     "data": {
      "text/plain": [
       "0         NaN\n",
       "1    0.833333\n",
       "2    0.444444\n",
       "3    0.111111\n",
       "4    0.666667\n",
       "5    0.833333\n",
       "6    0.222222\n",
       "7    0.555556\n",
       "8    1.000000\n",
       "9    0.333333\n",
       "Name: 销售额, dtype: float64"
      ]
     },
     "execution_count": 26,
     "metadata": {},
     "output_type": "execute_result"
    }
   ],
   "source": [
    "df.销售额.rank(pct=1) # 给出排序分位数"
   ]
  },
  {
   "cell_type": "code",
   "execution_count": 33,
   "id": "a112a26c-a1c8-4094-8fea-9a5c3a388dc7",
   "metadata": {
    "execution": {
     "iopub.execute_input": "2021-08-10T01:56:11.442829Z",
     "iopub.status.busy": "2021-08-10T01:56:11.442829Z",
     "iopub.status.idle": "2021-08-10T01:56:11.448829Z",
     "shell.execute_reply": "2021-08-10T01:56:11.447889Z",
     "shell.execute_reply.started": "2021-08-10T01:56:11.442829Z"
    },
    "tags": []
   },
   "outputs": [
    {
     "data": {
      "text/plain": [
       "0    NaN\n",
       "1    2.5\n",
       "2    6.0\n",
       "3    9.0\n",
       "4    4.0\n",
       "5    2.5\n",
       "6    8.0\n",
       "7    5.0\n",
       "8    1.0\n",
       "9    7.0\n",
       "Name: 销售额, dtype: float64"
      ]
     },
     "execution_count": 33,
     "metadata": {},
     "output_type": "execute_result"
    }
   ],
   "source": [
    "df.销售额.rank(ascending=0) # 结果排序"
   ]
  },
  {
   "cell_type": "code",
   "execution_count": 15,
   "id": "a1329963-4476-498f-9a3d-f8f565fa46d5",
   "metadata": {
    "execution": {
     "iopub.execute_input": "2021-08-10T01:50:27.428833Z",
     "iopub.status.busy": "2021-08-10T01:50:27.428833Z",
     "iopub.status.idle": "2021-08-10T01:50:27.434831Z",
     "shell.execute_reply": "2021-08-10T01:50:27.433834Z",
     "shell.execute_reply.started": "2021-08-10T01:50:27.428833Z"
    },
    "tags": []
   },
   "outputs": [
    {
     "data": {
      "text/plain": [
       "0    10.0\n",
       "1     7.5\n",
       "2     4.0\n",
       "3     1.0\n",
       "4     6.0\n",
       "5     7.5\n",
       "6     2.0\n",
       "7     5.0\n",
       "8     9.0\n",
       "9     3.0\n",
       "Name: 销售额, dtype: float64"
      ]
     },
     "execution_count": 15,
     "metadata": {},
     "output_type": "execute_result"
    }
   ],
   "source": [
    "df.销售额.rank(na_option='bottom') # 对于 nan怎么处理。保持，最前，最后"
   ]
  },
  {
   "cell_type": "code",
   "execution_count": 8,
   "id": "e0107d76-883c-47de-b4e4-abf419dfa0e6",
   "metadata": {
    "execution": {
     "iopub.execute_input": "2021-08-10T01:48:12.638840Z",
     "iopub.status.busy": "2021-08-10T01:48:12.638840Z",
     "iopub.status.idle": "2021-08-10T01:48:12.646849Z",
     "shell.execute_reply": "2021-08-10T01:48:12.645829Z",
     "shell.execute_reply.started": "2021-08-10T01:48:12.638840Z"
    },
    "tags": []
   },
   "outputs": [
    {
     "data": {
      "text/plain": [
       "0    NaN\n",
       "1    7.5\n",
       "2    4.0\n",
       "3    1.0\n",
       "4    6.0\n",
       "5    7.5\n",
       "6    2.0\n",
       "7    5.0\n",
       "8    9.0\n",
       "9    3.0\n",
       "Name: 销售额, dtype: float64"
      ]
     },
     "execution_count": 8,
     "metadata": {},
     "output_type": "execute_result"
    }
   ],
   "source": [
    "df.销售额.rank(method='average') # 对于 相同的数字怎么排序。默认 平均"
   ]
  },
  {
   "cell_type": "code",
   "execution_count": 6,
   "id": "63dcc20d-c3f2-4592-b002-88c808eeb08c",
   "metadata": {
    "execution": {
     "iopub.execute_input": "2021-08-10T01:47:13.243831Z",
     "iopub.status.busy": "2021-08-10T01:47:13.242831Z",
     "iopub.status.idle": "2021-08-10T01:47:13.248845Z",
     "shell.execute_reply": "2021-08-10T01:47:13.247855Z",
     "shell.execute_reply.started": "2021-08-10T01:47:13.243831Z"
    },
    "tags": []
   },
   "outputs": [
    {
     "data": {
      "text/plain": [
       "3452.0"
      ]
     },
     "execution_count": 6,
     "metadata": {},
     "output_type": "execute_result"
    }
   ],
   "source": [
    "df.销售额.min()"
   ]
  },
  {
   "cell_type": "code",
   "execution_count": 5,
   "id": "f39da520-d3ec-406b-84cd-f0b2d8052953",
   "metadata": {
    "execution": {
     "iopub.execute_input": "2021-08-10T01:46:17.341828Z",
     "iopub.status.busy": "2021-08-10T01:46:17.341828Z",
     "iopub.status.idle": "2021-08-10T01:46:17.349830Z",
     "shell.execute_reply": "2021-08-10T01:46:17.348835Z",
     "shell.execute_reply.started": "2021-08-10T01:46:17.341828Z"
    },
    "tags": []
   },
   "outputs": [
    {
     "data": {
      "text/html": [
       "<div>\n",
       "<style scoped>\n",
       "    .dataframe tbody tr th:only-of-type {\n",
       "        vertical-align: middle;\n",
       "    }\n",
       "\n",
       "    .dataframe tbody tr th {\n",
       "        vertical-align: top;\n",
       "    }\n",
       "\n",
       "    .dataframe thead th {\n",
       "        text-align: right;\n",
       "    }\n",
       "</style>\n",
       "<table border=\"1\" class=\"dataframe\">\n",
       "  <thead>\n",
       "    <tr style=\"text-align: right;\">\n",
       "      <th></th>\n",
       "      <th>销售额</th>\n",
       "    </tr>\n",
       "  </thead>\n",
       "  <tbody>\n",
       "    <tr>\n",
       "      <th>0</th>\n",
       "      <td>NaN</td>\n",
       "    </tr>\n",
       "    <tr>\n",
       "      <th>1</th>\n",
       "      <td>7.5</td>\n",
       "    </tr>\n",
       "    <tr>\n",
       "      <th>2</th>\n",
       "      <td>4.0</td>\n",
       "    </tr>\n",
       "    <tr>\n",
       "      <th>3</th>\n",
       "      <td>1.0</td>\n",
       "    </tr>\n",
       "    <tr>\n",
       "      <th>4</th>\n",
       "      <td>6.0</td>\n",
       "    </tr>\n",
       "    <tr>\n",
       "      <th>5</th>\n",
       "      <td>7.5</td>\n",
       "    </tr>\n",
       "    <tr>\n",
       "      <th>6</th>\n",
       "      <td>2.0</td>\n",
       "    </tr>\n",
       "    <tr>\n",
       "      <th>7</th>\n",
       "      <td>5.0</td>\n",
       "    </tr>\n",
       "    <tr>\n",
       "      <th>8</th>\n",
       "      <td>9.0</td>\n",
       "    </tr>\n",
       "    <tr>\n",
       "      <th>9</th>\n",
       "      <td>3.0</td>\n",
       "    </tr>\n",
       "  </tbody>\n",
       "</table>\n",
       "</div>"
      ],
      "text/plain": [
       "   销售额\n",
       "0  NaN\n",
       "1  7.5\n",
       "2  4.0\n",
       "3  1.0\n",
       "4  6.0\n",
       "5  7.5\n",
       "6  2.0\n",
       "7  5.0\n",
       "8  9.0\n",
       "9  3.0"
      ]
     },
     "execution_count": 5,
     "metadata": {},
     "output_type": "execute_result"
    }
   ],
   "source": [
    "df.rank(numeric_only=True) # 仅仅对数字类型列排序"
   ]
  },
  {
   "cell_type": "code",
   "execution_count": 4,
   "id": "a5a2af3d-c158-4aa3-8354-7826e80324e3",
   "metadata": {
    "execution": {
     "iopub.execute_input": "2021-08-10T01:45:36.685840Z",
     "iopub.status.busy": "2021-08-10T01:45:36.684833Z",
     "iopub.status.idle": "2021-08-10T01:45:36.703830Z",
     "shell.execute_reply": "2021-08-10T01:45:36.702828Z",
     "shell.execute_reply.started": "2021-08-10T01:45:36.685840Z"
    },
    "tags": []
   },
   "outputs": [
    {
     "data": {
      "text/html": [
       "<div>\n",
       "<style scoped>\n",
       "    .dataframe tbody tr th:only-of-type {\n",
       "        vertical-align: middle;\n",
       "    }\n",
       "\n",
       "    .dataframe tbody tr th {\n",
       "        vertical-align: top;\n",
       "    }\n",
       "\n",
       "    .dataframe thead th {\n",
       "        text-align: right;\n",
       "    }\n",
       "</style>\n",
       "<table border=\"1\" class=\"dataframe\">\n",
       "  <thead>\n",
       "    <tr style=\"text-align: right;\">\n",
       "      <th></th>\n",
       "      <th>dept</th>\n",
       "      <th>dept 1</th>\n",
       "      <th>name</th>\n",
       "      <th>销售额</th>\n",
       "      <th>时间</th>\n",
       "    </tr>\n",
       "  </thead>\n",
       "  <tbody>\n",
       "    <tr>\n",
       "      <th>0</th>\n",
       "      <td>3.0</td>\n",
       "      <td>1.5</td>\n",
       "      <td>7.0</td>\n",
       "      <td>NaN</td>\n",
       "      <td>1.0</td>\n",
       "    </tr>\n",
       "    <tr>\n",
       "      <th>1</th>\n",
       "      <td>3.0</td>\n",
       "      <td>1.5</td>\n",
       "      <td>1.0</td>\n",
       "      <td>7.5</td>\n",
       "      <td>2.0</td>\n",
       "    </tr>\n",
       "    <tr>\n",
       "      <th>2</th>\n",
       "      <td>3.0</td>\n",
       "      <td>4.0</td>\n",
       "      <td>8.0</td>\n",
       "      <td>4.0</td>\n",
       "      <td>3.0</td>\n",
       "    </tr>\n",
       "    <tr>\n",
       "      <th>3</th>\n",
       "      <td>3.0</td>\n",
       "      <td>4.0</td>\n",
       "      <td>3.0</td>\n",
       "      <td>1.0</td>\n",
       "      <td>4.0</td>\n",
       "    </tr>\n",
       "    <tr>\n",
       "      <th>4</th>\n",
       "      <td>3.0</td>\n",
       "      <td>4.0</td>\n",
       "      <td>5.0</td>\n",
       "      <td>6.0</td>\n",
       "      <td>5.0</td>\n",
       "    </tr>\n",
       "    <tr>\n",
       "      <th>5</th>\n",
       "      <td>8.0</td>\n",
       "      <td>6.0</td>\n",
       "      <td>6.0</td>\n",
       "      <td>7.5</td>\n",
       "      <td>6.0</td>\n",
       "    </tr>\n",
       "    <tr>\n",
       "      <th>6</th>\n",
       "      <td>8.0</td>\n",
       "      <td>8.5</td>\n",
       "      <td>9.0</td>\n",
       "      <td>2.0</td>\n",
       "      <td>7.0</td>\n",
       "    </tr>\n",
       "    <tr>\n",
       "      <th>7</th>\n",
       "      <td>8.0</td>\n",
       "      <td>8.5</td>\n",
       "      <td>4.0</td>\n",
       "      <td>5.0</td>\n",
       "      <td>8.0</td>\n",
       "    </tr>\n",
       "    <tr>\n",
       "      <th>8</th>\n",
       "      <td>8.0</td>\n",
       "      <td>8.5</td>\n",
       "      <td>2.0</td>\n",
       "      <td>9.0</td>\n",
       "      <td>9.0</td>\n",
       "    </tr>\n",
       "    <tr>\n",
       "      <th>9</th>\n",
       "      <td>8.0</td>\n",
       "      <td>8.5</td>\n",
       "      <td>10.0</td>\n",
       "      <td>3.0</td>\n",
       "      <td>10.0</td>\n",
       "    </tr>\n",
       "  </tbody>\n",
       "</table>\n",
       "</div>"
      ],
      "text/plain": [
       "   dept  dept 1  name  销售额    时间\n",
       "0   3.0     1.5   7.0  NaN   1.0\n",
       "1   3.0     1.5   1.0  7.5   2.0\n",
       "2   3.0     4.0   8.0  4.0   3.0\n",
       "3   3.0     4.0   3.0  1.0   4.0\n",
       "4   3.0     4.0   5.0  6.0   5.0\n",
       "5   8.0     6.0   6.0  7.5   6.0\n",
       "6   8.0     8.5   9.0  2.0   7.0\n",
       "7   8.0     8.5   4.0  5.0   8.0\n",
       "8   8.0     8.5   2.0  9.0   9.0\n",
       "9   8.0     8.5  10.0  3.0  10.0"
      ]
     },
     "execution_count": 4,
     "metadata": {},
     "output_type": "execute_result"
    }
   ],
   "source": [
    "df.rank() # 一个简单的，虽然没什么意义"
   ]
  }
 ],
 "metadata": {
  "kernelspec": {
   "display_name": "Python 3 (ipykernel)",
   "language": "python",
   "name": "python3"
  },
  "language_info": {
   "codemirror_mode": {
    "name": "ipython",
    "version": 3
   },
   "file_extension": ".py",
   "mimetype": "text/x-python",
   "name": "python",
   "nbconvert_exporter": "python",
   "pygments_lexer": "ipython3",
   "version": "3.8.10"
  }
 },
 "nbformat": 4,
 "nbformat_minor": 5
}
