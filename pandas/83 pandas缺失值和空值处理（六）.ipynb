{
 "cells": [
  {
   "cell_type": "markdown",
   "id": "handed-region",
   "metadata": {
    "execution": {
     "iopub.execute_input": "2021-05-10T07:18:52.990449Z",
     "iopub.status.busy": "2021-05-10T07:18:52.990449Z",
     "iopub.status.idle": "2021-05-10T07:18:52.994464Z",
     "shell.execute_reply": "2021-05-10T07:18:52.993452Z",
     "shell.execute_reply.started": "2021-05-10T07:18:52.990449Z"
    }
   },
   "source": [
    "## 83 pandas缺失值/空值处理（六）\n",
    "### empty hasnans 判断 是否为空或有nan"
   ]
  },
  {
   "cell_type": "markdown",
   "id": "under-pulse",
   "metadata": {
    "heading_collapsed": true
   },
   "source": [
    "### 创建数据"
   ]
  },
  {
   "cell_type": "code",
   "execution_count": 1,
   "id": "wireless-poland",
   "metadata": {
    "ExecuteTime": {
     "end_time": "2021-06-28T08:03:26.728356Z",
     "start_time": "2021-06-28T08:03:26.483318Z"
    },
    "execution": {
     "iopub.execute_input": "2021-08-12T05:45:07.056640Z",
     "iopub.status.busy": "2021-08-12T05:45:07.056640Z",
     "iopub.status.idle": "2021-08-12T05:45:07.275669Z",
     "shell.execute_reply": "2021-08-12T05:45:07.275669Z",
     "shell.execute_reply.started": "2021-08-12T05:45:07.056640Z"
    },
    "hidden": true,
    "tags": []
   },
   "outputs": [],
   "source": [
    "import numpy as np\n",
    "import pandas as pd"
   ]
  },
  {
   "cell_type": "code",
   "execution_count": 2,
   "id": "southwest-retention",
   "metadata": {
    "ExecuteTime": {
     "end_time": "2021-06-28T08:03:26.733320Z",
     "start_time": "2021-06-28T08:03:26.729350Z"
    },
    "execution": {
     "iopub.execute_input": "2021-08-12T05:45:07.276641Z",
     "iopub.status.busy": "2021-08-12T05:45:07.276641Z",
     "iopub.status.idle": "2021-08-12T05:45:07.289638Z",
     "shell.execute_reply": "2021-08-12T05:45:07.289638Z",
     "shell.execute_reply.started": "2021-08-12T05:45:07.276641Z"
    },
    "hidden": true,
    "tags": []
   },
   "outputs": [
    {
     "data": {
      "text/html": [
       "<div>\n",
       "<style scoped>\n",
       "    .dataframe tbody tr th:only-of-type {\n",
       "        vertical-align: middle;\n",
       "    }\n",
       "\n",
       "    .dataframe tbody tr th {\n",
       "        vertical-align: top;\n",
       "    }\n",
       "\n",
       "    .dataframe thead th {\n",
       "        text-align: right;\n",
       "    }\n",
       "</style>\n",
       "<table border=\"1\" class=\"dataframe\">\n",
       "  <thead>\n",
       "    <tr style=\"text-align: right;\">\n",
       "      <th></th>\n",
       "      <th>A</th>\n",
       "    </tr>\n",
       "  </thead>\n",
       "  <tbody>\n",
       "  </tbody>\n",
       "</table>\n",
       "</div>"
      ],
      "text/plain": [
       "Empty DataFrame\n",
       "Columns: [A]\n",
       "Index: []"
      ]
     },
     "execution_count": 2,
     "metadata": {},
     "output_type": "execute_result"
    }
   ],
   "source": [
    "df = pd.DataFrame({'A' : []})\n",
    "df"
   ]
  },
  {
   "cell_type": "code",
   "execution_count": 4,
   "id": "72df9ba3-fe52-4d24-a9c1-6872256c3581",
   "metadata": {
    "execution": {
     "iopub.execute_input": "2021-08-12T05:45:29.715638Z",
     "iopub.status.busy": "2021-08-12T05:45:29.714638Z",
     "iopub.status.idle": "2021-08-12T05:45:29.721656Z",
     "shell.execute_reply": "2021-08-12T05:45:29.719674Z",
     "shell.execute_reply.started": "2021-08-12T05:45:29.715638Z"
    },
    "tags": []
   },
   "outputs": [
    {
     "data": {
      "text/plain": [
       "True"
      ]
     },
     "execution_count": 4,
     "metadata": {},
     "output_type": "execute_result"
    }
   ],
   "source": [
    "df.empty # df是否是空，即长度0"
   ]
  },
  {
   "cell_type": "code",
   "execution_count": 5,
   "id": "00a924a2-2564-46da-b9e0-bc32e9ef74ca",
   "metadata": {
    "execution": {
     "iopub.execute_input": "2021-08-12T05:46:11.213638Z",
     "iopub.status.busy": "2021-08-12T05:46:11.212637Z",
     "iopub.status.idle": "2021-08-12T05:46:11.217638Z",
     "shell.execute_reply": "2021-08-12T05:46:11.217638Z",
     "shell.execute_reply.started": "2021-08-12T05:46:11.213638Z"
    },
    "tags": []
   },
   "outputs": [
    {
     "data": {
      "text/plain": [
       "True"
      ]
     },
     "execution_count": 5,
     "metadata": {},
     "output_type": "execute_result"
    }
   ],
   "source": [
    "df.A.empty # A列是否是空"
   ]
  },
  {
   "cell_type": "code",
   "execution_count": 6,
   "id": "7e205ef8-757c-4ccf-a543-b40f2923cd3e",
   "metadata": {
    "execution": {
     "iopub.execute_input": "2021-08-12T05:46:58.971643Z",
     "iopub.status.busy": "2021-08-12T05:46:58.971643Z",
     "iopub.status.idle": "2021-08-12T05:46:58.978641Z",
     "shell.execute_reply": "2021-08-12T05:46:58.978641Z",
     "shell.execute_reply.started": "2021-08-12T05:46:58.971643Z"
    },
    "tags": []
   },
   "outputs": [
    {
     "data": {
      "text/html": [
       "<div>\n",
       "<style scoped>\n",
       "    .dataframe tbody tr th:only-of-type {\n",
       "        vertical-align: middle;\n",
       "    }\n",
       "\n",
       "    .dataframe tbody tr th {\n",
       "        vertical-align: top;\n",
       "    }\n",
       "\n",
       "    .dataframe thead th {\n",
       "        text-align: right;\n",
       "    }\n",
       "</style>\n",
       "<table border=\"1\" class=\"dataframe\">\n",
       "  <thead>\n",
       "    <tr style=\"text-align: right;\">\n",
       "      <th></th>\n",
       "      <th>A</th>\n",
       "    </tr>\n",
       "  </thead>\n",
       "  <tbody>\n",
       "    <tr>\n",
       "      <th>0</th>\n",
       "      <td>NaN</td>\n",
       "    </tr>\n",
       "  </tbody>\n",
       "</table>\n",
       "</div>"
      ],
      "text/plain": [
       "    A\n",
       "0 NaN"
      ]
     },
     "execution_count": 6,
     "metadata": {},
     "output_type": "execute_result"
    }
   ],
   "source": [
    "df1 = pd.DataFrame({'A' : [np.nan]})\n",
    "df1"
   ]
  },
  {
   "cell_type": "code",
   "execution_count": 7,
   "id": "6fbd2e2f-edf0-47ce-8804-92d4d4e925bf",
   "metadata": {
    "execution": {
     "iopub.execute_input": "2021-08-12T05:47:11.787641Z",
     "iopub.status.busy": "2021-08-12T05:47:11.787641Z",
     "iopub.status.idle": "2021-08-12T05:47:11.792678Z",
     "shell.execute_reply": "2021-08-12T05:47:11.792678Z",
     "shell.execute_reply.started": "2021-08-12T05:47:11.787641Z"
    },
    "tags": []
   },
   "outputs": [
    {
     "data": {
      "text/plain": [
       "False"
      ]
     },
     "execution_count": 7,
     "metadata": {},
     "output_type": "execute_result"
    }
   ],
   "source": [
    "df1.empty # df是否是空，即长度0. 注意区别"
   ]
  },
  {
   "cell_type": "code",
   "execution_count": 8,
   "id": "d4dc1585-efad-4116-a412-79c4ccdaac2f",
   "metadata": {
    "execution": {
     "iopub.execute_input": "2021-08-12T05:47:46.869705Z",
     "iopub.status.busy": "2021-08-12T05:47:46.867652Z",
     "iopub.status.idle": "2021-08-12T05:47:46.878639Z",
     "shell.execute_reply": "2021-08-12T05:47:46.878639Z",
     "shell.execute_reply.started": "2021-08-12T05:47:46.869705Z"
    },
    "tags": []
   },
   "outputs": [
    {
     "data": {
      "text/plain": [
       "False"
      ]
     },
     "execution_count": 8,
     "metadata": {},
     "output_type": "execute_result"
    }
   ],
   "source": [
    "df1.A.empty # A列是否是空 。注意区别"
   ]
  },
  {
   "cell_type": "code",
   "execution_count": 12,
   "id": "7bd6e344-9381-4455-a96e-5745f1989564",
   "metadata": {
    "execution": {
     "iopub.execute_input": "2021-08-12T05:48:27.447645Z",
     "iopub.status.busy": "2021-08-12T05:48:27.447645Z",
     "iopub.status.idle": "2021-08-12T05:48:27.453645Z",
     "shell.execute_reply": "2021-08-12T05:48:27.452649Z",
     "shell.execute_reply.started": "2021-08-12T05:48:27.447645Z"
    },
    "tags": []
   },
   "outputs": [
    {
     "data": {
      "text/plain": [
       "False"
      ]
     },
     "execution_count": 12,
     "metadata": {},
     "output_type": "execute_result"
    }
   ],
   "source": [
    "df.A.hasnans  # A上是否有nan"
   ]
  },
  {
   "cell_type": "code",
   "execution_count": 13,
   "id": "cd2fd8f9-0c36-4c1a-adb2-8e7cff92a863",
   "metadata": {
    "execution": {
     "iopub.execute_input": "2021-08-12T05:49:04.197640Z",
     "iopub.status.busy": "2021-08-12T05:49:04.197640Z",
     "iopub.status.idle": "2021-08-12T05:49:04.202673Z",
     "shell.execute_reply": "2021-08-12T05:49:04.202673Z",
     "shell.execute_reply.started": "2021-08-12T05:49:04.197640Z"
    },
    "tags": []
   },
   "outputs": [
    {
     "data": {
      "text/plain": [
       "True"
      ]
     },
     "execution_count": 13,
     "metadata": {},
     "output_type": "execute_result"
    }
   ],
   "source": [
    "df1.A.hasnans  # A上是否有nan 。注意区别"
   ]
  }
 ],
 "metadata": {
  "kernelspec": {
   "display_name": "Python 3 (ipykernel)",
   "language": "python",
   "name": "python3"
  },
  "language_info": {
   "codemirror_mode": {
    "name": "ipython",
    "version": 3
   },
   "file_extension": ".py",
   "mimetype": "text/x-python",
   "name": "python",
   "nbconvert_exporter": "python",
   "pygments_lexer": "ipython3",
   "version": "3.8.10"
  },
  "toc": {
   "base_numbering": 1,
   "nav_menu": {},
   "number_sections": true,
   "sideBar": true,
   "skip_h1_title": false,
   "title_cell": "Table of Contents",
   "title_sidebar": "Contents",
   "toc_cell": false,
   "toc_position": {},
   "toc_section_display": true,
   "toc_window_display": false
  },
  "varInspector": {
   "cols": {
    "lenName": 16,
    "lenType": 16,
    "lenVar": 40
   },
   "kernels_config": {
    "python": {
     "delete_cmd_postfix": "",
     "delete_cmd_prefix": "del ",
     "library": "var_list.py",
     "varRefreshCmd": "print(var_dic_list())"
    },
    "r": {
     "delete_cmd_postfix": ") ",
     "delete_cmd_prefix": "rm(",
     "library": "var_list.r",
     "varRefreshCmd": "cat(var_dic_list()) "
    }
   },
   "types_to_exclude": [
    "module",
    "function",
    "builtin_function_or_method",
    "instance",
    "_Feature"
   ],
   "window_display": false
  }
 },
 "nbformat": 4,
 "nbformat_minor": 5
}
