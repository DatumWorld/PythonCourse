{
 "cells": [
  {
   "cell_type": "markdown",
   "id": "fe95639a",
   "metadata": {
    "execution": {
     "iopub.execute_input": "2021-05-10T07:18:52.990449Z",
     "iopub.status.busy": "2021-05-10T07:18:52.990449Z",
     "iopub.status.idle": "2021-05-10T07:18:52.994464Z",
     "shell.execute_reply": "2021-05-10T07:18:52.993452Z",
     "shell.execute_reply.started": "2021-05-10T07:18:52.990449Z"
    }
   },
   "source": [
    "## 91 查询最大最小值的索引"
   ]
  },
  {
   "cell_type": "markdown",
   "id": "0ddac84a",
   "metadata": {
    "jp-MarkdownHeadingCollapsed": true,
    "tags": []
   },
   "source": [
    "### idxmax 返回沿着指定轴方向出现的第一个最大值的索引\n",
    "参数 axis=0, skipna=True\n",
    "### idxmin 返回沿着指定轴方向出现的第一个最小值的索引\n",
    "参数 和 使用 类似idxmax"
   ]
  },
  {
   "cell_type": "code",
   "execution_count": 1,
   "id": "5d61795b",
   "metadata": {
    "execution": {
     "iopub.execute_input": "2021-08-18T03:51:27.737243Z",
     "iopub.status.busy": "2021-08-18T03:51:27.737243Z",
     "iopub.status.idle": "2021-08-18T03:51:27.966275Z",
     "shell.execute_reply": "2021-08-18T03:51:27.966275Z",
     "shell.execute_reply.started": "2021-08-18T03:51:27.737243Z"
    },
    "tags": []
   },
   "outputs": [],
   "source": [
    "import numpy  as np\n",
    "import pandas as pd\n",
    "df = pd.DataFrame({'population': [59000000, 65000000, 434000,\n",
    "                                  434000, 434000, 337000, 11300,\n",
    "                                  11300, 11300],\n",
    "                   'GDP': [1937894, 2583560 , 12011, 4520, 12128,\n",
    "                           17036, 182, 38, 311]},\n",
    "                  index=[\"Italy\", \"France\", \"Malta\",\n",
    "                         \"Maldives\", \"Brunei\", \"Iceland\",\n",
    "                         \"Nauru\", \"Tuvalu\", \"Anguilla\"])"
   ]
  },
  {
   "cell_type": "markdown",
   "id": "cde7d4a7",
   "metadata": {
    "tags": []
   },
   "source": [
    "### 演示数据"
   ]
  },
  {
   "cell_type": "code",
   "execution_count": 12,
   "id": "5ff3889a",
   "metadata": {
    "execution": {
     "iopub.execute_input": "2021-08-18T05:35:41.770943Z",
     "iopub.status.busy": "2021-08-18T05:35:41.770943Z",
     "iopub.status.idle": "2021-08-18T05:35:41.778926Z",
     "shell.execute_reply": "2021-08-18T05:35:41.777925Z",
     "shell.execute_reply.started": "2021-08-18T05:35:41.770943Z"
    },
    "tags": []
   },
   "outputs": [
    {
     "data": {
      "text/html": [
       "<div>\n",
       "<style scoped>\n",
       "    .dataframe tbody tr th:only-of-type {\n",
       "        vertical-align: middle;\n",
       "    }\n",
       "\n",
       "    .dataframe tbody tr th {\n",
       "        vertical-align: top;\n",
       "    }\n",
       "\n",
       "    .dataframe thead th {\n",
       "        text-align: right;\n",
       "    }\n",
       "</style>\n",
       "<table border=\"1\" class=\"dataframe\">\n",
       "  <thead>\n",
       "    <tr style=\"text-align: right;\">\n",
       "      <th></th>\n",
       "      <th>population</th>\n",
       "      <th>GDP</th>\n",
       "    </tr>\n",
       "  </thead>\n",
       "  <tbody>\n",
       "    <tr>\n",
       "      <th>Italy</th>\n",
       "      <td>59000000</td>\n",
       "      <td>1937894</td>\n",
       "    </tr>\n",
       "    <tr>\n",
       "      <th>France</th>\n",
       "      <td>65000000</td>\n",
       "      <td>2583560</td>\n",
       "    </tr>\n",
       "    <tr>\n",
       "      <th>Malta</th>\n",
       "      <td>434000</td>\n",
       "      <td>12011</td>\n",
       "    </tr>\n",
       "    <tr>\n",
       "      <th>Maldives</th>\n",
       "      <td>434000</td>\n",
       "      <td>4520</td>\n",
       "    </tr>\n",
       "    <tr>\n",
       "      <th>Brunei</th>\n",
       "      <td>434000</td>\n",
       "      <td>12128</td>\n",
       "    </tr>\n",
       "    <tr>\n",
       "      <th>Iceland</th>\n",
       "      <td>337000</td>\n",
       "      <td>17036</td>\n",
       "    </tr>\n",
       "    <tr>\n",
       "      <th>Nauru</th>\n",
       "      <td>11300</td>\n",
       "      <td>182</td>\n",
       "    </tr>\n",
       "    <tr>\n",
       "      <th>Tuvalu</th>\n",
       "      <td>11300</td>\n",
       "      <td>38</td>\n",
       "    </tr>\n",
       "    <tr>\n",
       "      <th>Anguilla</th>\n",
       "      <td>11300</td>\n",
       "      <td>311</td>\n",
       "    </tr>\n",
       "  </tbody>\n",
       "</table>\n",
       "</div>"
      ],
      "text/plain": [
       "          population      GDP\n",
       "Italy       59000000  1937894\n",
       "France      65000000  2583560\n",
       "Malta         434000    12011\n",
       "Maldives      434000     4520\n",
       "Brunei        434000    12128\n",
       "Iceland       337000    17036\n",
       "Nauru          11300      182\n",
       "Tuvalu         11300       38\n",
       "Anguilla       11300      311"
      ]
     },
     "execution_count": 12,
     "metadata": {},
     "output_type": "execute_result"
    }
   ],
   "source": [
    "df"
   ]
  },
  {
   "cell_type": "code",
   "execution_count": 10,
   "id": "6910b6dd-aa62-4c24-8e0f-6622931a6b1f",
   "metadata": {
    "execution": {
     "iopub.execute_input": "2021-08-18T03:56:55.378250Z",
     "iopub.status.busy": "2021-08-18T03:56:55.378250Z",
     "iopub.status.idle": "2021-08-18T03:56:55.384251Z",
     "shell.execute_reply": "2021-08-18T03:56:55.383248Z",
     "shell.execute_reply.started": "2021-08-18T03:56:55.378250Z"
    },
    "tags": []
   },
   "outputs": [
    {
     "data": {
      "text/plain": [
       "population     Nauru\n",
       "GDP           Tuvalu\n",
       "dtype: object"
      ]
     },
     "execution_count": 10,
     "metadata": {},
     "output_type": "execute_result"
    }
   ],
   "source": [
    "df.idxmin() #  idxmin 使用类似。找第一个出现的最小的行的索引"
   ]
  },
  {
   "cell_type": "code",
   "execution_count": 9,
   "id": "12573bde-6b0c-4a2a-b34d-45aa8b3b7a4f",
   "metadata": {
    "execution": {
     "iopub.execute_input": "2021-08-18T03:56:27.202246Z",
     "iopub.status.busy": "2021-08-18T03:56:27.202246Z",
     "iopub.status.idle": "2021-08-18T03:56:27.206247Z",
     "shell.execute_reply": "2021-08-18T03:56:27.206247Z",
     "shell.execute_reply.started": "2021-08-18T03:56:27.202246Z"
    },
    "tags": []
   },
   "outputs": [
    {
     "data": {
      "text/plain": [
       "'Nauru'"
      ]
     },
     "execution_count": 9,
     "metadata": {},
     "output_type": "execute_result"
    }
   ],
   "source": [
    "df.population.idxmin(axis=0,skipna=1) #  idxmin 使用类似"
   ]
  },
  {
   "cell_type": "code",
   "execution_count": 8,
   "id": "c4c26789-c91a-4e3a-ab70-031608812cbd",
   "metadata": {
    "execution": {
     "iopub.execute_input": "2021-08-18T03:55:50.024244Z",
     "iopub.status.busy": "2021-08-18T03:55:50.024244Z",
     "iopub.status.idle": "2021-08-18T03:55:50.210247Z",
     "shell.execute_reply": "2021-08-18T03:55:50.210247Z",
     "shell.execute_reply.started": "2021-08-18T03:55:50.024244Z"
    },
    "tags": []
   },
   "outputs": [
    {
     "ename": "AttributeError",
     "evalue": "'Index' object has no attribute 'idxmax'",
     "output_type": "error",
     "traceback": [
      "\u001b[1;31m---------------------------------------------------------------------------\u001b[0m",
      "\u001b[1;31mAttributeError\u001b[0m                            Traceback (most recent call last)",
      "\u001b[1;32mC:\\Users\\ADMINI~1\\AppData\\Local\\Temp\\1/ipykernel_7856/1260372345.py\u001b[0m in \u001b[0;36m<module>\u001b[1;34m\u001b[0m\n\u001b[1;32m----> 1\u001b[1;33m \u001b[0mdf\u001b[0m\u001b[1;33m.\u001b[0m\u001b[0mindex\u001b[0m\u001b[1;33m.\u001b[0m\u001b[0midxmax\u001b[0m\u001b[1;33m(\u001b[0m\u001b[0maxis\u001b[0m\u001b[1;33m=\u001b[0m\u001b[1;36m0\u001b[0m\u001b[1;33m,\u001b[0m\u001b[0mskipna\u001b[0m\u001b[1;33m=\u001b[0m\u001b[1;36m1\u001b[0m\u001b[1;33m)\u001b[0m \u001b[1;31m#  在 列 上使用\u001b[0m\u001b[1;33m\u001b[0m\u001b[1;33m\u001b[0m\u001b[0m\n\u001b[0m",
      "\u001b[1;31mAttributeError\u001b[0m: 'Index' object has no attribute 'idxmax'"
     ]
    }
   ],
   "source": [
    "df.index.idxmax(axis=0,skipna=1) #  提示我们 index 上 不能使用"
   ]
  },
  {
   "cell_type": "code",
   "execution_count": 7,
   "id": "df8b6b74-3665-4fc8-b3a9-b7c7f0badedf",
   "metadata": {
    "execution": {
     "iopub.execute_input": "2021-08-18T03:55:17.075248Z",
     "iopub.status.busy": "2021-08-18T03:55:17.074244Z",
     "iopub.status.idle": "2021-08-18T03:55:17.081246Z",
     "shell.execute_reply": "2021-08-18T03:55:17.080273Z",
     "shell.execute_reply.started": "2021-08-18T03:55:17.075248Z"
    },
    "tags": []
   },
   "outputs": [
    {
     "data": {
      "text/plain": [
       "'France'"
      ]
     },
     "execution_count": 7,
     "metadata": {},
     "output_type": "execute_result"
    }
   ],
   "source": [
    "df.population.idxmax(axis=0,skipna=1) #  在 列 上使用"
   ]
  },
  {
   "cell_type": "code",
   "execution_count": 6,
   "id": "62137270-cb0f-4c3d-8865-475147ad1aa3",
   "metadata": {
    "execution": {
     "iopub.execute_input": "2021-08-18T03:54:33.854245Z",
     "iopub.status.busy": "2021-08-18T03:54:33.853243Z",
     "iopub.status.idle": "2021-08-18T03:54:33.863246Z",
     "shell.execute_reply": "2021-08-18T03:54:33.861268Z",
     "shell.execute_reply.started": "2021-08-18T03:54:33.854245Z"
    },
    "tags": []
   },
   "outputs": [
    {
     "data": {
      "text/plain": [
       "population    France\n",
       "GDP           France\n",
       "dtype: object"
      ]
     },
     "execution_count": 6,
     "metadata": {},
     "output_type": "execute_result"
    }
   ],
   "source": [
    "df.idxmax(axis=0,skipna=1) #  计算时 是否排除nan"
   ]
  },
  {
   "cell_type": "code",
   "execution_count": 5,
   "id": "d6753b66-3bc6-4551-9a97-de74e796227a",
   "metadata": {
    "execution": {
     "iopub.execute_input": "2021-08-18T03:53:18.333243Z",
     "iopub.status.busy": "2021-08-18T03:53:18.333243Z",
     "iopub.status.idle": "2021-08-18T03:53:18.340245Z",
     "shell.execute_reply": "2021-08-18T03:53:18.339248Z",
     "shell.execute_reply.started": "2021-08-18T03:53:18.333243Z"
    },
    "tags": []
   },
   "outputs": [
    {
     "data": {
      "text/plain": [
       "Italy       population\n",
       "France      population\n",
       "Malta       population\n",
       "Maldives    population\n",
       "Brunei      population\n",
       "Iceland     population\n",
       "Nauru       population\n",
       "Tuvalu      population\n",
       "Anguilla    population\n",
       "dtype: object"
      ]
     },
     "execution_count": 5,
     "metadata": {},
     "output_type": "execute_result"
    }
   ],
   "source": [
    "df.idxmax(axis=1) #  使用在axis=1 ，列方向。均是 population 大于 GDP"
   ]
  },
  {
   "cell_type": "code",
   "execution_count": 4,
   "id": "ab22a4d0-73ff-4df9-b58a-f83a549457f5",
   "metadata": {
    "execution": {
     "iopub.execute_input": "2021-08-18T03:51:50.244245Z",
     "iopub.status.busy": "2021-08-18T03:51:50.243245Z",
     "iopub.status.idle": "2021-08-18T03:51:50.250252Z",
     "shell.execute_reply": "2021-08-18T03:51:50.249244Z",
     "shell.execute_reply.started": "2021-08-18T03:51:50.244245Z"
    },
    "tags": []
   },
   "outputs": [
    {
     "data": {
      "text/plain": [
       "population    France\n",
       "GDP           France\n",
       "dtype: object"
      ]
     },
     "execution_count": 4,
     "metadata": {},
     "output_type": "execute_result"
    }
   ],
   "source": [
    "df.idxmax() #  population 的最大值 65000000 对应的索引是France；GDP 则也是对应 France"
   ]
  }
 ],
 "metadata": {
  "kernelspec": {
   "display_name": "Python 3 (ipykernel)",
   "language": "python",
   "name": "python3"
  },
  "language_info": {
   "codemirror_mode": {
    "name": "ipython",
    "version": 3
   },
   "file_extension": ".py",
   "mimetype": "text/x-python",
   "name": "python",
   "nbconvert_exporter": "python",
   "pygments_lexer": "ipython3",
   "version": "3.8.10"
  }
 },
 "nbformat": 4,
 "nbformat_minor": 5
}
