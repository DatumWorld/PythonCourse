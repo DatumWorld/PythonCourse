{
 "cells": [
  {
   "cell_type": "markdown",
   "id": "fe95639a",
   "metadata": {
    "execution": {
     "iopub.execute_input": "2021-05-10T07:18:52.990449Z",
     "iopub.status.busy": "2021-05-10T07:18:52.990449Z",
     "iopub.status.idle": "2021-05-10T07:18:52.994464Z",
     "shell.execute_reply": "2021-05-10T07:18:52.993452Z",
     "shell.execute_reply.started": "2021-05-10T07:18:52.990449Z"
    }
   },
   "source": [
    "## 93 first与last使用"
   ]
  },
  {
   "cell_type": "markdown",
   "id": "0ddac84a",
   "metadata": {
    "jp-MarkdownHeadingCollapsed": true,
    "tags": []
   },
   "source": [
    "### first 和last不同情况下用途不同\n",
    "参数 numeric_only=False, min_count=- 1"
   ]
  },
  {
   "cell_type": "code",
   "execution_count": 1,
   "id": "5d61795b",
   "metadata": {
    "execution": {
     "iopub.execute_input": "2021-08-19T05:39:52.175574Z",
     "iopub.status.busy": "2021-08-19T05:39:52.175574Z",
     "iopub.status.idle": "2021-08-19T05:39:52.487602Z",
     "shell.execute_reply": "2021-08-19T05:39:52.487602Z",
     "shell.execute_reply.started": "2021-08-19T05:39:52.175574Z"
    },
    "tags": []
   },
   "outputs": [],
   "source": [
    "import numpy  as np\n",
    "import pandas as pd\n",
    "from faker import Faker\n",
    "\n",
    "fake = Faker('zh_CN')\n",
    "df=pd.DataFrame(data=[ [fake.name()] for x in range(10) ],columns=['name'])\n",
    "\n",
    "df['销售额']=np.random.randint(100,100000,size=(10, 1))\n",
    "df['时间']=pd.date_range(start='2020-01-01',periods=10,freq='2D')\n",
    "df.insert(0,'dept',['部门1']*5+['部门2']*5)\n",
    "df.insert(1,'dept 1',['小部门1']*2+['小部门2']*3+['小部门3']*1+['小部门4']*4)\n",
    "df.iloc[[0,9],[3]]=np.nan #  修改成nan"
   ]
  },
  {
   "cell_type": "markdown",
   "id": "cde7d4a7",
   "metadata": {
    "tags": []
   },
   "source": [
    "### 演示数据"
   ]
  },
  {
   "cell_type": "code",
   "execution_count": 2,
   "id": "5ff3889a",
   "metadata": {
    "execution": {
     "iopub.execute_input": "2021-08-19T05:39:52.488569Z",
     "iopub.status.busy": "2021-08-19T05:39:52.488569Z",
     "iopub.status.idle": "2021-08-19T05:39:52.504570Z",
     "shell.execute_reply": "2021-08-19T05:39:52.504570Z",
     "shell.execute_reply.started": "2021-08-19T05:39:52.488569Z"
    },
    "tags": []
   },
   "outputs": [
    {
     "data": {
      "text/html": [
       "<div>\n",
       "<style scoped>\n",
       "    .dataframe tbody tr th:only-of-type {\n",
       "        vertical-align: middle;\n",
       "    }\n",
       "\n",
       "    .dataframe tbody tr th {\n",
       "        vertical-align: top;\n",
       "    }\n",
       "\n",
       "    .dataframe thead th {\n",
       "        text-align: right;\n",
       "    }\n",
       "</style>\n",
       "<table border=\"1\" class=\"dataframe\">\n",
       "  <thead>\n",
       "    <tr style=\"text-align: right;\">\n",
       "      <th></th>\n",
       "      <th>dept</th>\n",
       "      <th>dept 1</th>\n",
       "      <th>name</th>\n",
       "      <th>销售额</th>\n",
       "      <th>时间</th>\n",
       "    </tr>\n",
       "  </thead>\n",
       "  <tbody>\n",
       "    <tr>\n",
       "      <th>0</th>\n",
       "      <td>部门1</td>\n",
       "      <td>小部门1</td>\n",
       "      <td>张淑珍</td>\n",
       "      <td>NaN</td>\n",
       "      <td>2020-01-01</td>\n",
       "    </tr>\n",
       "    <tr>\n",
       "      <th>1</th>\n",
       "      <td>部门1</td>\n",
       "      <td>小部门1</td>\n",
       "      <td>周超</td>\n",
       "      <td>10870.0</td>\n",
       "      <td>2020-01-03</td>\n",
       "    </tr>\n",
       "    <tr>\n",
       "      <th>2</th>\n",
       "      <td>部门1</td>\n",
       "      <td>小部门2</td>\n",
       "      <td>史丽</td>\n",
       "      <td>37889.0</td>\n",
       "      <td>2020-01-05</td>\n",
       "    </tr>\n",
       "    <tr>\n",
       "      <th>3</th>\n",
       "      <td>部门1</td>\n",
       "      <td>小部门2</td>\n",
       "      <td>袁丽</td>\n",
       "      <td>55858.0</td>\n",
       "      <td>2020-01-07</td>\n",
       "    </tr>\n",
       "    <tr>\n",
       "      <th>4</th>\n",
       "      <td>部门1</td>\n",
       "      <td>小部门2</td>\n",
       "      <td>姜柳</td>\n",
       "      <td>46129.0</td>\n",
       "      <td>2020-01-09</td>\n",
       "    </tr>\n",
       "    <tr>\n",
       "      <th>5</th>\n",
       "      <td>部门2</td>\n",
       "      <td>小部门3</td>\n",
       "      <td>张志强</td>\n",
       "      <td>13510.0</td>\n",
       "      <td>2020-01-11</td>\n",
       "    </tr>\n",
       "    <tr>\n",
       "      <th>6</th>\n",
       "      <td>部门2</td>\n",
       "      <td>小部门4</td>\n",
       "      <td>许颖</td>\n",
       "      <td>20283.0</td>\n",
       "      <td>2020-01-13</td>\n",
       "    </tr>\n",
       "    <tr>\n",
       "      <th>7</th>\n",
       "      <td>部门2</td>\n",
       "      <td>小部门4</td>\n",
       "      <td>纪建华</td>\n",
       "      <td>50494.0</td>\n",
       "      <td>2020-01-15</td>\n",
       "    </tr>\n",
       "    <tr>\n",
       "      <th>8</th>\n",
       "      <td>部门2</td>\n",
       "      <td>小部门4</td>\n",
       "      <td>张凤英</td>\n",
       "      <td>23592.0</td>\n",
       "      <td>2020-01-17</td>\n",
       "    </tr>\n",
       "    <tr>\n",
       "      <th>9</th>\n",
       "      <td>部门2</td>\n",
       "      <td>小部门4</td>\n",
       "      <td>张桂珍</td>\n",
       "      <td>NaN</td>\n",
       "      <td>2020-01-19</td>\n",
       "    </tr>\n",
       "  </tbody>\n",
       "</table>\n",
       "</div>"
      ],
      "text/plain": [
       "  dept dept 1 name      销售额         时间\n",
       "0  部门1   小部门1  张淑珍      NaN 2020-01-01\n",
       "1  部门1   小部门1   周超  10870.0 2020-01-03\n",
       "2  部门1   小部门2   史丽  37889.0 2020-01-05\n",
       "3  部门1   小部门2   袁丽  55858.0 2020-01-07\n",
       "4  部门1   小部门2   姜柳  46129.0 2020-01-09\n",
       "5  部门2   小部门3  张志强  13510.0 2020-01-11\n",
       "6  部门2   小部门4   许颖  20283.0 2020-01-13\n",
       "7  部门2   小部门4  纪建华  50494.0 2020-01-15\n",
       "8  部门2   小部门4  张凤英  23592.0 2020-01-17\n",
       "9  部门2   小部门4  张桂珍      NaN 2020-01-19"
      ]
     },
     "execution_count": 2,
     "metadata": {},
     "output_type": "execute_result"
    }
   ],
   "source": [
    "df"
   ]
  },
  {
   "cell_type": "code",
   "execution_count": 16,
   "id": "4d984da7-2737-4eae-8ea7-1f768b8c9be8",
   "metadata": {
    "execution": {
     "iopub.execute_input": "2021-08-19T05:46:36.176574Z",
     "iopub.status.busy": "2021-08-19T05:46:36.175576Z",
     "iopub.status.idle": "2021-08-19T05:46:36.189575Z",
     "shell.execute_reply": "2021-08-19T05:46:36.188573Z",
     "shell.execute_reply.started": "2021-08-19T05:46:36.176574Z"
    },
    "tags": []
   },
   "outputs": [
    {
     "data": {
      "text/html": [
       "<div>\n",
       "<style scoped>\n",
       "    .dataframe tbody tr th:only-of-type {\n",
       "        vertical-align: middle;\n",
       "    }\n",
       "\n",
       "    .dataframe tbody tr th {\n",
       "        vertical-align: top;\n",
       "    }\n",
       "\n",
       "    .dataframe thead th {\n",
       "        text-align: right;\n",
       "    }\n",
       "</style>\n",
       "<table border=\"1\" class=\"dataframe\">\n",
       "  <thead>\n",
       "    <tr style=\"text-align: right;\">\n",
       "      <th></th>\n",
       "      <th>dept</th>\n",
       "      <th>dept 1</th>\n",
       "      <th>name</th>\n",
       "      <th>销售额</th>\n",
       "    </tr>\n",
       "    <tr>\n",
       "      <th>时间</th>\n",
       "      <th></th>\n",
       "      <th></th>\n",
       "      <th></th>\n",
       "      <th></th>\n",
       "    </tr>\n",
       "  </thead>\n",
       "  <tbody>\n",
       "    <tr>\n",
       "      <th>2020-01-19</th>\n",
       "      <td>部门2</td>\n",
       "      <td>小部门4</td>\n",
       "      <td>张桂珍</td>\n",
       "      <td>NaN</td>\n",
       "    </tr>\n",
       "  </tbody>\n",
       "</table>\n",
       "</div>"
      ],
      "text/plain": [
       "           dept dept 1 name  销售额\n",
       "时间                              \n",
       "2020-01-19  部门2   小部门4  张桂珍  NaN"
      ]
     },
     "execution_count": 16,
     "metadata": {},
     "output_type": "execute_result"
    }
   ],
   "source": [
    "df.set_index('时间').last(offset='1D') # 最后一个。\n",
    "# 因 last 与 first 的方向相反，参数用法相似，不再重复"
   ]
  },
  {
   "cell_type": "code",
   "execution_count": 15,
   "id": "0c50a198-4601-4e41-9235-0f3741b69ae2",
   "metadata": {
    "execution": {
     "iopub.execute_input": "2021-08-19T05:45:44.313570Z",
     "iopub.status.busy": "2021-08-19T05:45:44.313570Z",
     "iopub.status.idle": "2021-08-19T05:45:44.325572Z",
     "shell.execute_reply": "2021-08-19T05:45:44.325572Z",
     "shell.execute_reply.started": "2021-08-19T05:45:44.313570Z"
    },
    "tags": []
   },
   "outputs": [
    {
     "data": {
      "text/html": [
       "<div>\n",
       "<style scoped>\n",
       "    .dataframe tbody tr th:only-of-type {\n",
       "        vertical-align: middle;\n",
       "    }\n",
       "\n",
       "    .dataframe tbody tr th {\n",
       "        vertical-align: top;\n",
       "    }\n",
       "\n",
       "    .dataframe thead th {\n",
       "        text-align: right;\n",
       "    }\n",
       "</style>\n",
       "<table border=\"1\" class=\"dataframe\">\n",
       "  <thead>\n",
       "    <tr style=\"text-align: right;\">\n",
       "      <th></th>\n",
       "      <th></th>\n",
       "      <th>name</th>\n",
       "      <th>销售额</th>\n",
       "      <th>时间</th>\n",
       "    </tr>\n",
       "    <tr>\n",
       "      <th>dept</th>\n",
       "      <th>dept 1</th>\n",
       "      <th></th>\n",
       "      <th></th>\n",
       "      <th></th>\n",
       "    </tr>\n",
       "  </thead>\n",
       "  <tbody>\n",
       "    <tr>\n",
       "      <th rowspan=\"2\" valign=\"top\">部门1</th>\n",
       "      <th>小部门1</th>\n",
       "      <td>周超</td>\n",
       "      <td>NaN</td>\n",
       "      <td>2020-01-03</td>\n",
       "    </tr>\n",
       "    <tr>\n",
       "      <th>小部门2</th>\n",
       "      <td>姜柳</td>\n",
       "      <td>46129.0</td>\n",
       "      <td>2020-01-09</td>\n",
       "    </tr>\n",
       "    <tr>\n",
       "      <th rowspan=\"2\" valign=\"top\">部门2</th>\n",
       "      <th>小部门3</th>\n",
       "      <td>None</td>\n",
       "      <td>NaN</td>\n",
       "      <td>NaT</td>\n",
       "    </tr>\n",
       "    <tr>\n",
       "      <th>小部门4</th>\n",
       "      <td>张桂珍</td>\n",
       "      <td>23592.0</td>\n",
       "      <td>2020-01-19</td>\n",
       "    </tr>\n",
       "  </tbody>\n",
       "</table>\n",
       "</div>"
      ],
      "text/plain": [
       "             name      销售额         时间\n",
       "dept dept 1                          \n",
       "部门1  小部门1      周超      NaN 2020-01-03\n",
       "     小部门2      姜柳  46129.0 2020-01-09\n",
       "部门2  小部门3    None      NaN        NaT\n",
       "     小部门4     张桂珍  23592.0 2020-01-19"
      ]
     },
     "execution_count": 15,
     "metadata": {},
     "output_type": "execute_result"
    }
   ],
   "source": [
    "df.groupby(by=['dept','dept 1']).last(min_count=2)# last 与 first 的方向相反"
   ]
  },
  {
   "cell_type": "code",
   "execution_count": 14,
   "id": "ffb7f9ff-52b7-413a-9fc9-31b3a43d9668",
   "metadata": {
    "execution": {
     "iopub.execute_input": "2021-08-19T05:45:18.783575Z",
     "iopub.status.busy": "2021-08-19T05:45:18.783575Z",
     "iopub.status.idle": "2021-08-19T05:45:18.798592Z",
     "shell.execute_reply": "2021-08-19T05:45:18.798592Z",
     "shell.execute_reply.started": "2021-08-19T05:45:18.783575Z"
    },
    "tags": []
   },
   "outputs": [
    {
     "data": {
      "text/html": [
       "<div>\n",
       "<style scoped>\n",
       "    .dataframe tbody tr th:only-of-type {\n",
       "        vertical-align: middle;\n",
       "    }\n",
       "\n",
       "    .dataframe tbody tr th {\n",
       "        vertical-align: top;\n",
       "    }\n",
       "\n",
       "    .dataframe thead th {\n",
       "        text-align: right;\n",
       "    }\n",
       "</style>\n",
       "<table border=\"1\" class=\"dataframe\">\n",
       "  <thead>\n",
       "    <tr style=\"text-align: right;\">\n",
       "      <th></th>\n",
       "      <th></th>\n",
       "      <th>name</th>\n",
       "      <th>销售额</th>\n",
       "      <th>时间</th>\n",
       "    </tr>\n",
       "    <tr>\n",
       "      <th>dept</th>\n",
       "      <th>dept 1</th>\n",
       "      <th></th>\n",
       "      <th></th>\n",
       "      <th></th>\n",
       "    </tr>\n",
       "  </thead>\n",
       "  <tbody>\n",
       "    <tr>\n",
       "      <th rowspan=\"2\" valign=\"top\">部门1</th>\n",
       "      <th>小部门1</th>\n",
       "      <td>张淑珍</td>\n",
       "      <td>NaN</td>\n",
       "      <td>2020-01-01</td>\n",
       "    </tr>\n",
       "    <tr>\n",
       "      <th>小部门2</th>\n",
       "      <td>史丽</td>\n",
       "      <td>37889.0</td>\n",
       "      <td>2020-01-05</td>\n",
       "    </tr>\n",
       "    <tr>\n",
       "      <th rowspan=\"2\" valign=\"top\">部门2</th>\n",
       "      <th>小部门3</th>\n",
       "      <td>None</td>\n",
       "      <td>NaN</td>\n",
       "      <td>NaT</td>\n",
       "    </tr>\n",
       "    <tr>\n",
       "      <th>小部门4</th>\n",
       "      <td>许颖</td>\n",
       "      <td>20283.0</td>\n",
       "      <td>2020-01-13</td>\n",
       "    </tr>\n",
       "  </tbody>\n",
       "</table>\n",
       "</div>"
      ],
      "text/plain": [
       "             name      销售额         时间\n",
       "dept dept 1                          \n",
       "部门1  小部门1     张淑珍      NaN 2020-01-01\n",
       "     小部门2      史丽  37889.0 2020-01-05\n",
       "部门2  小部门3    None      NaN        NaT\n",
       "     小部门4      许颖  20283.0 2020-01-13"
      ]
     },
     "execution_count": 14,
     "metadata": {},
     "output_type": "execute_result"
    }
   ],
   "source": [
    "df.groupby(by=['dept','dept 1']).first(min_count=2)# 当每组不足二个时以nan 替代显示"
   ]
  },
  {
   "cell_type": "code",
   "execution_count": 13,
   "id": "99b8e6f2-5c9f-402b-b2f1-b3c854b0c869",
   "metadata": {
    "execution": {
     "iopub.execute_input": "2021-08-19T05:44:22.465572Z",
     "iopub.status.busy": "2021-08-19T05:44:22.465572Z",
     "iopub.status.idle": "2021-08-19T05:44:22.475570Z",
     "shell.execute_reply": "2021-08-19T05:44:22.475570Z",
     "shell.execute_reply.started": "2021-08-19T05:44:22.465572Z"
    },
    "tags": []
   },
   "outputs": [
    {
     "data": {
      "text/html": [
       "<div>\n",
       "<style scoped>\n",
       "    .dataframe tbody tr th:only-of-type {\n",
       "        vertical-align: middle;\n",
       "    }\n",
       "\n",
       "    .dataframe tbody tr th {\n",
       "        vertical-align: top;\n",
       "    }\n",
       "\n",
       "    .dataframe thead th {\n",
       "        text-align: right;\n",
       "    }\n",
       "</style>\n",
       "<table border=\"1\" class=\"dataframe\">\n",
       "  <thead>\n",
       "    <tr style=\"text-align: right;\">\n",
       "      <th></th>\n",
       "      <th></th>\n",
       "      <th>name</th>\n",
       "      <th>销售额</th>\n",
       "      <th>时间</th>\n",
       "    </tr>\n",
       "    <tr>\n",
       "      <th>dept</th>\n",
       "      <th>dept 1</th>\n",
       "      <th></th>\n",
       "      <th></th>\n",
       "      <th></th>\n",
       "    </tr>\n",
       "  </thead>\n",
       "  <tbody>\n",
       "    <tr>\n",
       "      <th rowspan=\"2\" valign=\"top\">部门1</th>\n",
       "      <th>小部门1</th>\n",
       "      <td>None</td>\n",
       "      <td>NaN</td>\n",
       "      <td>NaT</td>\n",
       "    </tr>\n",
       "    <tr>\n",
       "      <th>小部门2</th>\n",
       "      <td>史丽</td>\n",
       "      <td>37889.0</td>\n",
       "      <td>2020-01-05</td>\n",
       "    </tr>\n",
       "    <tr>\n",
       "      <th rowspan=\"2\" valign=\"top\">部门2</th>\n",
       "      <th>小部门3</th>\n",
       "      <td>None</td>\n",
       "      <td>NaN</td>\n",
       "      <td>NaT</td>\n",
       "    </tr>\n",
       "    <tr>\n",
       "      <th>小部门4</th>\n",
       "      <td>许颖</td>\n",
       "      <td>20283.0</td>\n",
       "      <td>2020-01-13</td>\n",
       "    </tr>\n",
       "  </tbody>\n",
       "</table>\n",
       "</div>"
      ],
      "text/plain": [
       "             name      销售额         时间\n",
       "dept dept 1                          \n",
       "部门1  小部门1    None      NaN        NaT\n",
       "     小部门2      史丽  37889.0 2020-01-05\n",
       "部门2  小部门3    None      NaN        NaT\n",
       "     小部门4      许颖  20283.0 2020-01-13"
      ]
     },
     "execution_count": 13,
     "metadata": {},
     "output_type": "execute_result"
    }
   ],
   "source": [
    "df.groupby(by=['dept','dept 1']).first(min_count=3)# 当每组不足三个时以nan 替代显示"
   ]
  },
  {
   "cell_type": "code",
   "execution_count": 12,
   "id": "c7008983-e708-4975-8442-6b4b11bd3725",
   "metadata": {
    "execution": {
     "iopub.execute_input": "2021-08-19T05:44:13.141573Z",
     "iopub.status.busy": "2021-08-19T05:44:13.141573Z",
     "iopub.status.idle": "2021-08-19T05:44:13.160569Z",
     "shell.execute_reply": "2021-08-19T05:44:13.160569Z",
     "shell.execute_reply.started": "2021-08-19T05:44:13.141573Z"
    },
    "tags": []
   },
   "outputs": [
    {
     "data": {
      "text/html": [
       "<div>\n",
       "<style scoped>\n",
       "    .dataframe tbody tr th:only-of-type {\n",
       "        vertical-align: middle;\n",
       "    }\n",
       "\n",
       "    .dataframe tbody tr th {\n",
       "        vertical-align: top;\n",
       "    }\n",
       "\n",
       "    .dataframe thead th {\n",
       "        text-align: right;\n",
       "    }\n",
       "</style>\n",
       "<table border=\"1\" class=\"dataframe\">\n",
       "  <thead>\n",
       "    <tr style=\"text-align: right;\">\n",
       "      <th></th>\n",
       "      <th></th>\n",
       "      <th>name</th>\n",
       "      <th>销售额</th>\n",
       "      <th>时间</th>\n",
       "    </tr>\n",
       "    <tr>\n",
       "      <th>dept</th>\n",
       "      <th>dept 1</th>\n",
       "      <th></th>\n",
       "      <th></th>\n",
       "      <th></th>\n",
       "    </tr>\n",
       "  </thead>\n",
       "  <tbody>\n",
       "    <tr>\n",
       "      <th rowspan=\"2\" valign=\"top\">部门1</th>\n",
       "      <th>小部门1</th>\n",
       "      <td>张淑珍</td>\n",
       "      <td>10870.0</td>\n",
       "      <td>2020-01-01</td>\n",
       "    </tr>\n",
       "    <tr>\n",
       "      <th>小部门2</th>\n",
       "      <td>史丽</td>\n",
       "      <td>37889.0</td>\n",
       "      <td>2020-01-05</td>\n",
       "    </tr>\n",
       "    <tr>\n",
       "      <th rowspan=\"2\" valign=\"top\">部门2</th>\n",
       "      <th>小部门3</th>\n",
       "      <td>张志强</td>\n",
       "      <td>13510.0</td>\n",
       "      <td>2020-01-11</td>\n",
       "    </tr>\n",
       "    <tr>\n",
       "      <th>小部门4</th>\n",
       "      <td>许颖</td>\n",
       "      <td>20283.0</td>\n",
       "      <td>2020-01-13</td>\n",
       "    </tr>\n",
       "  </tbody>\n",
       "</table>\n",
       "</div>"
      ],
      "text/plain": [
       "            name      销售额         时间\n",
       "dept dept 1                         \n",
       "部门1  小部门1    张淑珍  10870.0 2020-01-01\n",
       "     小部门2     史丽  37889.0 2020-01-05\n",
       "部门2  小部门3    张志强  13510.0 2020-01-11\n",
       "     小部门4     许颖  20283.0 2020-01-13"
      ]
     },
     "execution_count": 12,
     "metadata": {},
     "output_type": "execute_result"
    }
   ],
   "source": [
    "df.groupby(by=['dept','dept 1']).first(min_count=1)# 分组获取各组第一个。注意nan被忽略。只计算 数字类型的列"
   ]
  },
  {
   "cell_type": "code",
   "execution_count": 8,
   "id": "f1f7aaf9-2255-42a7-a16d-4695101a3ed4",
   "metadata": {
    "execution": {
     "iopub.execute_input": "2021-08-19T05:43:33.820574Z",
     "iopub.status.busy": "2021-08-19T05:43:33.819570Z",
     "iopub.status.idle": "2021-08-19T05:43:33.835571Z",
     "shell.execute_reply": "2021-08-19T05:43:33.833578Z",
     "shell.execute_reply.started": "2021-08-19T05:43:33.819570Z"
    },
    "tags": []
   },
   "outputs": [
    {
     "data": {
      "text/html": [
       "<div>\n",
       "<style scoped>\n",
       "    .dataframe tbody tr th:only-of-type {\n",
       "        vertical-align: middle;\n",
       "    }\n",
       "\n",
       "    .dataframe tbody tr th {\n",
       "        vertical-align: top;\n",
       "    }\n",
       "\n",
       "    .dataframe thead th {\n",
       "        text-align: right;\n",
       "    }\n",
       "</style>\n",
       "<table border=\"1\" class=\"dataframe\">\n",
       "  <thead>\n",
       "    <tr style=\"text-align: right;\">\n",
       "      <th></th>\n",
       "      <th></th>\n",
       "      <th>销售额</th>\n",
       "    </tr>\n",
       "    <tr>\n",
       "      <th>dept</th>\n",
       "      <th>dept 1</th>\n",
       "      <th></th>\n",
       "    </tr>\n",
       "  </thead>\n",
       "  <tbody>\n",
       "    <tr>\n",
       "      <th rowspan=\"2\" valign=\"top\">部门1</th>\n",
       "      <th>小部门1</th>\n",
       "      <td>10870.0</td>\n",
       "    </tr>\n",
       "    <tr>\n",
       "      <th>小部门2</th>\n",
       "      <td>37889.0</td>\n",
       "    </tr>\n",
       "    <tr>\n",
       "      <th rowspan=\"2\" valign=\"top\">部门2</th>\n",
       "      <th>小部门3</th>\n",
       "      <td>13510.0</td>\n",
       "    </tr>\n",
       "    <tr>\n",
       "      <th>小部门4</th>\n",
       "      <td>20283.0</td>\n",
       "    </tr>\n",
       "  </tbody>\n",
       "</table>\n",
       "</div>"
      ],
      "text/plain": [
       "                 销售额\n",
       "dept dept 1         \n",
       "部门1  小部门1    10870.0\n",
       "     小部门2    37889.0\n",
       "部门2  小部门3    13510.0\n",
       "     小部门4    20283.0"
      ]
     },
     "execution_count": 8,
     "metadata": {},
     "output_type": "execute_result"
    }
   ],
   "source": [
    "df.groupby(by=['dept','dept 1']).first(numeric_only=1)# 分组获取各组第一个。注意nan被忽略。只计算 数字类型的列"
   ]
  },
  {
   "cell_type": "code",
   "execution_count": 7,
   "id": "921412e8-e945-45ec-98c2-5d61a6902653",
   "metadata": {
    "execution": {
     "iopub.execute_input": "2021-08-19T05:42:45.033576Z",
     "iopub.status.busy": "2021-08-19T05:42:45.033576Z",
     "iopub.status.idle": "2021-08-19T05:42:45.048588Z",
     "shell.execute_reply": "2021-08-19T05:42:45.047572Z",
     "shell.execute_reply.started": "2021-08-19T05:42:45.033576Z"
    },
    "tags": []
   },
   "outputs": [
    {
     "data": {
      "text/html": [
       "<div>\n",
       "<style scoped>\n",
       "    .dataframe tbody tr th:only-of-type {\n",
       "        vertical-align: middle;\n",
       "    }\n",
       "\n",
       "    .dataframe tbody tr th {\n",
       "        vertical-align: top;\n",
       "    }\n",
       "\n",
       "    .dataframe thead th {\n",
       "        text-align: right;\n",
       "    }\n",
       "</style>\n",
       "<table border=\"1\" class=\"dataframe\">\n",
       "  <thead>\n",
       "    <tr style=\"text-align: right;\">\n",
       "      <th></th>\n",
       "      <th></th>\n",
       "      <th>name</th>\n",
       "      <th>销售额</th>\n",
       "      <th>时间</th>\n",
       "    </tr>\n",
       "    <tr>\n",
       "      <th>dept</th>\n",
       "      <th>dept 1</th>\n",
       "      <th></th>\n",
       "      <th></th>\n",
       "      <th></th>\n",
       "    </tr>\n",
       "  </thead>\n",
       "  <tbody>\n",
       "    <tr>\n",
       "      <th rowspan=\"2\" valign=\"top\">部门1</th>\n",
       "      <th>小部门1</th>\n",
       "      <td>张淑珍</td>\n",
       "      <td>10870.0</td>\n",
       "      <td>2020-01-01</td>\n",
       "    </tr>\n",
       "    <tr>\n",
       "      <th>小部门2</th>\n",
       "      <td>史丽</td>\n",
       "      <td>37889.0</td>\n",
       "      <td>2020-01-05</td>\n",
       "    </tr>\n",
       "    <tr>\n",
       "      <th rowspan=\"2\" valign=\"top\">部门2</th>\n",
       "      <th>小部门3</th>\n",
       "      <td>张志强</td>\n",
       "      <td>13510.0</td>\n",
       "      <td>2020-01-11</td>\n",
       "    </tr>\n",
       "    <tr>\n",
       "      <th>小部门4</th>\n",
       "      <td>许颖</td>\n",
       "      <td>20283.0</td>\n",
       "      <td>2020-01-13</td>\n",
       "    </tr>\n",
       "  </tbody>\n",
       "</table>\n",
       "</div>"
      ],
      "text/plain": [
       "            name      销售额         时间\n",
       "dept dept 1                         \n",
       "部门1  小部门1    张淑珍  10870.0 2020-01-01\n",
       "     小部门2     史丽  37889.0 2020-01-05\n",
       "部门2  小部门3    张志强  13510.0 2020-01-11\n",
       "     小部门4     许颖  20283.0 2020-01-13"
      ]
     },
     "execution_count": 7,
     "metadata": {},
     "output_type": "execute_result"
    }
   ],
   "source": [
    "df.groupby(by=['dept','dept 1']).first()# 分组获取各组第一个。注意nan被忽略"
   ]
  },
  {
   "cell_type": "code",
   "execution_count": 6,
   "id": "edf23834-e51c-4608-9e2e-7ae9b78ec05f",
   "metadata": {
    "execution": {
     "iopub.execute_input": "2021-08-19T05:41:30.320570Z",
     "iopub.status.busy": "2021-08-19T05:41:30.320570Z",
     "iopub.status.idle": "2021-08-19T05:41:30.331575Z",
     "shell.execute_reply": "2021-08-19T05:41:30.330604Z",
     "shell.execute_reply.started": "2021-08-19T05:41:30.320570Z"
    },
    "tags": []
   },
   "outputs": [
    {
     "data": {
      "text/html": [
       "<div>\n",
       "<style scoped>\n",
       "    .dataframe tbody tr th:only-of-type {\n",
       "        vertical-align: middle;\n",
       "    }\n",
       "\n",
       "    .dataframe tbody tr th {\n",
       "        vertical-align: top;\n",
       "    }\n",
       "\n",
       "    .dataframe thead th {\n",
       "        text-align: right;\n",
       "    }\n",
       "</style>\n",
       "<table border=\"1\" class=\"dataframe\">\n",
       "  <thead>\n",
       "    <tr style=\"text-align: right;\">\n",
       "      <th></th>\n",
       "      <th>dept</th>\n",
       "      <th>dept 1</th>\n",
       "      <th>name</th>\n",
       "      <th>销售额</th>\n",
       "    </tr>\n",
       "    <tr>\n",
       "      <th>时间</th>\n",
       "      <th></th>\n",
       "      <th></th>\n",
       "      <th></th>\n",
       "      <th></th>\n",
       "    </tr>\n",
       "  </thead>\n",
       "  <tbody>\n",
       "    <tr>\n",
       "      <th>2020-01-01</th>\n",
       "      <td>部门1</td>\n",
       "      <td>小部门1</td>\n",
       "      <td>张淑珍</td>\n",
       "      <td>NaN</td>\n",
       "    </tr>\n",
       "    <tr>\n",
       "      <th>2020-01-03</th>\n",
       "      <td>部门1</td>\n",
       "      <td>小部门1</td>\n",
       "      <td>周超</td>\n",
       "      <td>10870.0</td>\n",
       "    </tr>\n",
       "  </tbody>\n",
       "</table>\n",
       "</div>"
      ],
      "text/plain": [
       "           dept dept 1 name      销售额\n",
       "时间                                  \n",
       "2020-01-01  部门1   小部门1  张淑珍      NaN\n",
       "2020-01-03  部门1   小部门1   周超  10870.0"
      ]
     },
     "execution_count": 6,
     "metadata": {},
     "output_type": "execute_result"
    }
   ],
   "source": [
    "df.set_index('时间').first(offset='3D') # 时间列为索引，求第一个，偏移offset=3天\n",
    "# 对照区别，采用日历日期计算天数，而非行数"
   ]
  },
  {
   "cell_type": "code",
   "execution_count": 5,
   "id": "4b838fab-f108-4ee3-9674-a60d256dfa6b",
   "metadata": {
    "execution": {
     "iopub.execute_input": "2021-08-19T05:41:18.288575Z",
     "iopub.status.busy": "2021-08-19T05:41:18.288575Z",
     "iopub.status.idle": "2021-08-19T05:41:18.299591Z",
     "shell.execute_reply": "2021-08-19T05:41:18.298591Z",
     "shell.execute_reply.started": "2021-08-19T05:41:18.288575Z"
    },
    "tags": []
   },
   "outputs": [
    {
     "data": {
      "text/html": [
       "<div>\n",
       "<style scoped>\n",
       "    .dataframe tbody tr th:only-of-type {\n",
       "        vertical-align: middle;\n",
       "    }\n",
       "\n",
       "    .dataframe tbody tr th {\n",
       "        vertical-align: top;\n",
       "    }\n",
       "\n",
       "    .dataframe thead th {\n",
       "        text-align: right;\n",
       "    }\n",
       "</style>\n",
       "<table border=\"1\" class=\"dataframe\">\n",
       "  <thead>\n",
       "    <tr style=\"text-align: right;\">\n",
       "      <th></th>\n",
       "      <th>dept</th>\n",
       "      <th>dept 1</th>\n",
       "      <th>name</th>\n",
       "      <th>销售额</th>\n",
       "    </tr>\n",
       "    <tr>\n",
       "      <th>时间</th>\n",
       "      <th></th>\n",
       "      <th></th>\n",
       "      <th></th>\n",
       "      <th></th>\n",
       "    </tr>\n",
       "  </thead>\n",
       "  <tbody>\n",
       "    <tr>\n",
       "      <th>2020-01-01</th>\n",
       "      <td>部门1</td>\n",
       "      <td>小部门1</td>\n",
       "      <td>张淑珍</td>\n",
       "      <td>NaN</td>\n",
       "    </tr>\n",
       "  </tbody>\n",
       "</table>\n",
       "</div>"
      ],
      "text/plain": [
       "           dept dept 1 name  销售额\n",
       "时间                              \n",
       "2020-01-01  部门1   小部门1  张淑珍  NaN"
      ]
     },
     "execution_count": 5,
     "metadata": {},
     "output_type": "execute_result"
    }
   ],
   "source": [
    "df.set_index('时间').first(offset='2D') # 时间列为索引，求第一个，偏移offset=2天"
   ]
  },
  {
   "cell_type": "code",
   "execution_count": 4,
   "id": "0299f12e-f163-4237-8404-c6b2b6625d01",
   "metadata": {
    "execution": {
     "iopub.execute_input": "2021-08-19T05:40:33.177573Z",
     "iopub.status.busy": "2021-08-19T05:40:33.176572Z",
     "iopub.status.idle": "2021-08-19T05:40:33.190571Z",
     "shell.execute_reply": "2021-08-19T05:40:33.190571Z",
     "shell.execute_reply.started": "2021-08-19T05:40:33.176572Z"
    },
    "tags": []
   },
   "outputs": [
    {
     "data": {
      "text/html": [
       "<div>\n",
       "<style scoped>\n",
       "    .dataframe tbody tr th:only-of-type {\n",
       "        vertical-align: middle;\n",
       "    }\n",
       "\n",
       "    .dataframe tbody tr th {\n",
       "        vertical-align: top;\n",
       "    }\n",
       "\n",
       "    .dataframe thead th {\n",
       "        text-align: right;\n",
       "    }\n",
       "</style>\n",
       "<table border=\"1\" class=\"dataframe\">\n",
       "  <thead>\n",
       "    <tr style=\"text-align: right;\">\n",
       "      <th></th>\n",
       "      <th>dept</th>\n",
       "      <th>dept 1</th>\n",
       "      <th>name</th>\n",
       "      <th>销售额</th>\n",
       "    </tr>\n",
       "    <tr>\n",
       "      <th>时间</th>\n",
       "      <th></th>\n",
       "      <th></th>\n",
       "      <th></th>\n",
       "      <th></th>\n",
       "    </tr>\n",
       "  </thead>\n",
       "  <tbody>\n",
       "    <tr>\n",
       "      <th>2020-01-01</th>\n",
       "      <td>部门1</td>\n",
       "      <td>小部门1</td>\n",
       "      <td>张淑珍</td>\n",
       "      <td>NaN</td>\n",
       "    </tr>\n",
       "  </tbody>\n",
       "</table>\n",
       "</div>"
      ],
      "text/plain": [
       "           dept dept 1 name  销售额\n",
       "时间                              \n",
       "2020-01-01  部门1   小部门1  张淑珍  NaN"
      ]
     },
     "execution_count": 4,
     "metadata": {},
     "output_type": "execute_result"
    }
   ],
   "source": [
    "df.set_index('时间').first(offset='1D') # 时间列为索引，求第一个，偏移offset=1天"
   ]
  }
 ],
 "metadata": {
  "kernelspec": {
   "display_name": "Python 3 (ipykernel)",
   "language": "python",
   "name": "python3"
  },
  "language_info": {
   "codemirror_mode": {
    "name": "ipython",
    "version": 3
   },
   "file_extension": ".py",
   "mimetype": "text/x-python",
   "name": "python",
   "nbconvert_exporter": "python",
   "pygments_lexer": "ipython3",
   "version": "3.8.10"
  }
 },
 "nbformat": 4,
 "nbformat_minor": 5
}
