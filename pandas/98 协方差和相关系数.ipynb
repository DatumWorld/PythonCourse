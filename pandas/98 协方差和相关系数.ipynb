{
 "cells": [
  {
   "cell_type": "markdown",
   "id": "3fb2add4",
   "metadata": {
    "execution": {
     "iopub.execute_input": "2021-05-10T07:18:52.990449Z",
     "iopub.status.busy": "2021-05-10T07:18:52.990449Z",
     "iopub.status.idle": "2021-05-10T07:18:52.994464Z",
     "shell.execute_reply": "2021-05-10T07:18:52.993452Z",
     "shell.execute_reply.started": "2021-05-10T07:18:52.990449Z"
    }
   },
   "source": [
    "## 98 协方差和相关系数"
   ]
  },
  {
   "cell_type": "markdown",
   "id": "1dc28bf9",
   "metadata": {
    "jp-MarkdownHeadingCollapsed": true,
    "tags": []
   },
   "source": [
    "### cov 计算列数据之间的协方差，不含NA\n",
    "参数 min_periods=None, ddof=1\n",
    "### corr 计算列数据之间的相关系数，不含NA\n",
    "参数 method='pearson', min_periods=1 \n",
    "### corrwith 计算两个表/列数据之间的相关系数\n",
    "参数 other, axis=0, drop=False, method='pearson'"
   ]
  },
  {
   "cell_type": "code",
   "execution_count": 1,
   "id": "edad75a6",
   "metadata": {
    "execution": {
     "iopub.execute_input": "2021-08-22T06:49:16.471216Z",
     "iopub.status.busy": "2021-08-22T06:49:16.470815Z",
     "iopub.status.idle": "2021-08-22T06:49:16.751505Z",
     "shell.execute_reply": "2021-08-22T06:49:16.750512Z",
     "shell.execute_reply.started": "2021-08-22T06:49:16.471156Z"
    },
    "tags": []
   },
   "outputs": [],
   "source": [
    "import numpy  as np\n",
    "import pandas as pd\n",
    "\n",
    "df=pd.DataFrame(data=np.random.randint(100,100000,size=(10, 1)),columns=['a'])\n",
    "df['b']=np.random.randint(100,100000,size=(10, 1))"
   ]
  },
  {
   "cell_type": "markdown",
   "id": "dbf3387c",
   "metadata": {
    "tags": []
   },
   "source": [
    "### 演示数据"
   ]
  },
  {
   "cell_type": "code",
   "execution_count": 2,
   "id": "512acb08",
   "metadata": {
    "execution": {
     "iopub.execute_input": "2021-08-22T06:49:16.752970Z",
     "iopub.status.busy": "2021-08-22T06:49:16.752509Z",
     "iopub.status.idle": "2021-08-22T06:49:16.768775Z",
     "shell.execute_reply": "2021-08-22T06:49:16.767902Z",
     "shell.execute_reply.started": "2021-08-22T06:49:16.752943Z"
    },
    "tags": []
   },
   "outputs": [
    {
     "data": {
      "text/html": [
       "<div>\n",
       "<style scoped>\n",
       "    .dataframe tbody tr th:only-of-type {\n",
       "        vertical-align: middle;\n",
       "    }\n",
       "\n",
       "    .dataframe tbody tr th {\n",
       "        vertical-align: top;\n",
       "    }\n",
       "\n",
       "    .dataframe thead th {\n",
       "        text-align: right;\n",
       "    }\n",
       "</style>\n",
       "<table border=\"1\" class=\"dataframe\">\n",
       "  <thead>\n",
       "    <tr style=\"text-align: right;\">\n",
       "      <th></th>\n",
       "      <th>a</th>\n",
       "      <th>b</th>\n",
       "    </tr>\n",
       "  </thead>\n",
       "  <tbody>\n",
       "    <tr>\n",
       "      <th>0</th>\n",
       "      <td>5917</td>\n",
       "      <td>43163</td>\n",
       "    </tr>\n",
       "    <tr>\n",
       "      <th>1</th>\n",
       "      <td>84904</td>\n",
       "      <td>14392</td>\n",
       "    </tr>\n",
       "    <tr>\n",
       "      <th>2</th>\n",
       "      <td>53514</td>\n",
       "      <td>97468</td>\n",
       "    </tr>\n",
       "    <tr>\n",
       "      <th>3</th>\n",
       "      <td>19165</td>\n",
       "      <td>64583</td>\n",
       "    </tr>\n",
       "    <tr>\n",
       "      <th>4</th>\n",
       "      <td>56462</td>\n",
       "      <td>50090</td>\n",
       "    </tr>\n",
       "    <tr>\n",
       "      <th>5</th>\n",
       "      <td>82707</td>\n",
       "      <td>77684</td>\n",
       "    </tr>\n",
       "    <tr>\n",
       "      <th>6</th>\n",
       "      <td>50365</td>\n",
       "      <td>62362</td>\n",
       "    </tr>\n",
       "    <tr>\n",
       "      <th>7</th>\n",
       "      <td>84980</td>\n",
       "      <td>2301</td>\n",
       "    </tr>\n",
       "    <tr>\n",
       "      <th>8</th>\n",
       "      <td>55871</td>\n",
       "      <td>7270</td>\n",
       "    </tr>\n",
       "    <tr>\n",
       "      <th>9</th>\n",
       "      <td>36568</td>\n",
       "      <td>84222</td>\n",
       "    </tr>\n",
       "  </tbody>\n",
       "</table>\n",
       "</div>"
      ],
      "text/plain": [
       "       a      b\n",
       "0   5917  43163\n",
       "1  84904  14392\n",
       "2  53514  97468\n",
       "3  19165  64583\n",
       "4  56462  50090\n",
       "5  82707  77684\n",
       "6  50365  62362\n",
       "7  84980   2301\n",
       "8  55871   7270\n",
       "9  36568  84222"
      ]
     },
     "execution_count": 2,
     "metadata": {},
     "output_type": "execute_result"
    }
   ],
   "source": [
    "df # 随机生成的数据"
   ]
  },
  {
   "cell_type": "code",
   "execution_count": 3,
   "id": "a6820fa4",
   "metadata": {
    "execution": {
     "iopub.execute_input": "2021-08-22T06:50:45.325902Z",
     "iopub.status.busy": "2021-08-22T06:50:45.325526Z",
     "iopub.status.idle": "2021-08-22T06:50:45.345880Z",
     "shell.execute_reply": "2021-08-22T06:50:45.344918Z",
     "shell.execute_reply.started": "2021-08-22T06:50:45.325867Z"
    }
   },
   "outputs": [
    {
     "data": {
      "text/html": [
       "<div>\n",
       "<style scoped>\n",
       "    .dataframe tbody tr th:only-of-type {\n",
       "        vertical-align: middle;\n",
       "    }\n",
       "\n",
       "    .dataframe tbody tr th {\n",
       "        vertical-align: top;\n",
       "    }\n",
       "\n",
       "    .dataframe thead th {\n",
       "        text-align: right;\n",
       "    }\n",
       "</style>\n",
       "<table border=\"1\" class=\"dataframe\">\n",
       "  <thead>\n",
       "    <tr style=\"text-align: right;\">\n",
       "      <th></th>\n",
       "      <th>a</th>\n",
       "      <th>b</th>\n",
       "    </tr>\n",
       "  </thead>\n",
       "  <tbody>\n",
       "    <tr>\n",
       "      <th>a</th>\n",
       "      <td>7.313481e+08</td>\n",
       "      <td>-3.003989e+08</td>\n",
       "    </tr>\n",
       "    <tr>\n",
       "      <th>b</th>\n",
       "      <td>-3.003989e+08</td>\n",
       "      <td>1.107858e+09</td>\n",
       "    </tr>\n",
       "  </tbody>\n",
       "</table>\n",
       "</div>"
      ],
      "text/plain": [
       "              a             b\n",
       "a  7.313481e+08 -3.003989e+08\n",
       "b -3.003989e+08  1.107858e+09"
      ]
     },
     "execution_count": 3,
     "metadata": {},
     "output_type": "execute_result"
    }
   ],
   "source": [
    "df.cov() # a，b 两列之间的协方差"
   ]
  },
  {
   "cell_type": "code",
   "execution_count": 4,
   "id": "40d79bc1",
   "metadata": {
    "execution": {
     "iopub.execute_input": "2021-08-22T06:51:46.584537Z",
     "iopub.status.busy": "2021-08-22T06:51:46.583933Z",
     "iopub.status.idle": "2021-08-22T06:51:46.598179Z",
     "shell.execute_reply": "2021-08-22T06:51:46.596950Z",
     "shell.execute_reply.started": "2021-08-22T06:51:46.584489Z"
    }
   },
   "outputs": [
    {
     "data": {
      "text/html": [
       "<div>\n",
       "<style scoped>\n",
       "    .dataframe tbody tr th:only-of-type {\n",
       "        vertical-align: middle;\n",
       "    }\n",
       "\n",
       "    .dataframe tbody tr th {\n",
       "        vertical-align: top;\n",
       "    }\n",
       "\n",
       "    .dataframe thead th {\n",
       "        text-align: right;\n",
       "    }\n",
       "</style>\n",
       "<table border=\"1\" class=\"dataframe\">\n",
       "  <thead>\n",
       "    <tr style=\"text-align: right;\">\n",
       "      <th></th>\n",
       "      <th>a</th>\n",
       "      <th>b</th>\n",
       "    </tr>\n",
       "  </thead>\n",
       "  <tbody>\n",
       "    <tr>\n",
       "      <th>a</th>\n",
       "      <td>7.313481e+08</td>\n",
       "      <td>-3.003989e+08</td>\n",
       "    </tr>\n",
       "    <tr>\n",
       "      <th>b</th>\n",
       "      <td>-3.003989e+08</td>\n",
       "      <td>1.107858e+09</td>\n",
       "    </tr>\n",
       "  </tbody>\n",
       "</table>\n",
       "</div>"
      ],
      "text/plain": [
       "              a             b\n",
       "a  7.313481e+08 -3.003989e+08\n",
       "b -3.003989e+08  1.107858e+09"
      ]
     },
     "execution_count": 4,
     "metadata": {},
     "output_type": "execute_result"
    }
   ],
   "source": [
    "df.cov(min_periods=1,ddof=1) # a，b 两列之间的协方差 min_periods 未获取有效计算 设定的最少数量，  ddof  delta 自由度"
   ]
  },
  {
   "cell_type": "code",
   "execution_count": 5,
   "id": "3174076b",
   "metadata": {
    "execution": {
     "iopub.execute_input": "2021-08-22T06:53:23.157077Z",
     "iopub.status.busy": "2021-08-22T06:53:23.156695Z",
     "iopub.status.idle": "2021-08-22T06:53:23.172198Z",
     "shell.execute_reply": "2021-08-22T06:53:23.171344Z",
     "shell.execute_reply.started": "2021-08-22T06:53:23.157046Z"
    }
   },
   "outputs": [
    {
     "data": {
      "text/html": [
       "<div>\n",
       "<style scoped>\n",
       "    .dataframe tbody tr th:only-of-type {\n",
       "        vertical-align: middle;\n",
       "    }\n",
       "\n",
       "    .dataframe tbody tr th {\n",
       "        vertical-align: top;\n",
       "    }\n",
       "\n",
       "    .dataframe thead th {\n",
       "        text-align: right;\n",
       "    }\n",
       "</style>\n",
       "<table border=\"1\" class=\"dataframe\">\n",
       "  <thead>\n",
       "    <tr style=\"text-align: right;\">\n",
       "      <th></th>\n",
       "      <th>a</th>\n",
       "      <th>b</th>\n",
       "    </tr>\n",
       "  </thead>\n",
       "  <tbody>\n",
       "    <tr>\n",
       "      <th>a</th>\n",
       "      <td>1.000000</td>\n",
       "      <td>-0.333729</td>\n",
       "    </tr>\n",
       "    <tr>\n",
       "      <th>b</th>\n",
       "      <td>-0.333729</td>\n",
       "      <td>1.000000</td>\n",
       "    </tr>\n",
       "  </tbody>\n",
       "</table>\n",
       "</div>"
      ],
      "text/plain": [
       "          a         b\n",
       "a  1.000000 -0.333729\n",
       "b -0.333729  1.000000"
      ]
     },
     "execution_count": 5,
     "metadata": {},
     "output_type": "execute_result"
    }
   ],
   "source": [
    "df.corr() # 相关系数"
   ]
  },
  {
   "cell_type": "code",
   "execution_count": 7,
   "id": "de5968db",
   "metadata": {
    "execution": {
     "iopub.execute_input": "2021-08-22T06:54:46.561801Z",
     "iopub.status.busy": "2021-08-22T06:54:46.561543Z",
     "iopub.status.idle": "2021-08-22T06:54:46.576715Z",
     "shell.execute_reply": "2021-08-22T06:54:46.574994Z",
     "shell.execute_reply.started": "2021-08-22T06:54:46.561780Z"
    }
   },
   "outputs": [
    {
     "data": {
      "text/html": [
       "<div>\n",
       "<style scoped>\n",
       "    .dataframe tbody tr th:only-of-type {\n",
       "        vertical-align: middle;\n",
       "    }\n",
       "\n",
       "    .dataframe tbody tr th {\n",
       "        vertical-align: top;\n",
       "    }\n",
       "\n",
       "    .dataframe thead th {\n",
       "        text-align: right;\n",
       "    }\n",
       "</style>\n",
       "<table border=\"1\" class=\"dataframe\">\n",
       "  <thead>\n",
       "    <tr style=\"text-align: right;\">\n",
       "      <th></th>\n",
       "      <th>a</th>\n",
       "      <th>b</th>\n",
       "    </tr>\n",
       "  </thead>\n",
       "  <tbody>\n",
       "    <tr>\n",
       "      <th>a</th>\n",
       "      <td>1.000000</td>\n",
       "      <td>-0.333729</td>\n",
       "    </tr>\n",
       "    <tr>\n",
       "      <th>b</th>\n",
       "      <td>-0.333729</td>\n",
       "      <td>1.000000</td>\n",
       "    </tr>\n",
       "  </tbody>\n",
       "</table>\n",
       "</div>"
      ],
      "text/plain": [
       "          a         b\n",
       "a  1.000000 -0.333729\n",
       "b -0.333729  1.000000"
      ]
     },
     "execution_count": 7,
     "metadata": {},
     "output_type": "execute_result"
    }
   ],
   "source": [
    "df.corr(method='pearson',min_periods=1) # 相关系数 .method 相关系数算法 min_periods的含义同上"
   ]
  },
  {
   "cell_type": "code",
   "execution_count": 8,
   "id": "b5e732ce",
   "metadata": {
    "execution": {
     "iopub.execute_input": "2021-08-22T06:55:29.239689Z",
     "iopub.status.busy": "2021-08-22T06:55:29.239235Z",
     "iopub.status.idle": "2021-08-22T06:55:29.262840Z",
     "shell.execute_reply": "2021-08-22T06:55:29.262117Z",
     "shell.execute_reply.started": "2021-08-22T06:55:29.239649Z"
    }
   },
   "outputs": [
    {
     "data": {
      "text/plain": [
       "a    1.0\n",
       "b    1.0\n",
       "dtype: float64"
      ]
     },
     "execution_count": 8,
     "metadata": {},
     "output_type": "execute_result"
    }
   ],
   "source": [
    "df.corrwith(df) # 两个df 或列 之间的相关系数"
   ]
  },
  {
   "cell_type": "code",
   "execution_count": 11,
   "id": "c8b0ca51",
   "metadata": {
    "execution": {
     "iopub.execute_input": "2021-08-22T06:56:25.054505Z",
     "iopub.status.busy": "2021-08-22T06:56:25.054169Z",
     "iopub.status.idle": "2021-08-22T06:56:25.064401Z",
     "shell.execute_reply": "2021-08-22T06:56:25.063446Z",
     "shell.execute_reply.started": "2021-08-22T06:56:25.054482Z"
    }
   },
   "outputs": [
    {
     "data": {
      "text/plain": [
       "a    1.000000\n",
       "b   -0.333729\n",
       "dtype: float64"
      ]
     },
     "execution_count": 11,
     "metadata": {},
     "output_type": "execute_result"
    }
   ],
   "source": [
    "df.corrwith(df.a) # df a，b 与 a 之间的相关系数"
   ]
  }
 ],
 "metadata": {
  "kernelspec": {
   "display_name": "Python 3 (ipykernel)",
   "language": "python",
   "name": "python3"
  },
  "language_info": {
   "codemirror_mode": {
    "name": "ipython",
    "version": 3
   },
   "file_extension": ".py",
   "mimetype": "text/x-python",
   "name": "python",
   "nbconvert_exporter": "python",
   "pygments_lexer": "ipython3",
   "version": "3.8.10"
  }
 },
 "nbformat": 4,
 "nbformat_minor": 5
}
