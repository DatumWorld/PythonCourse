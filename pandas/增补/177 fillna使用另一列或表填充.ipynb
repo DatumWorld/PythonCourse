{
 "cells": [
  {
   "cell_type": "code",
   "execution_count": null,
   "id": "1085d7a8-222c-44ec-a4bd-7e9731eb84d6",
   "metadata": {},
   "outputs": [],
   "source": [
    "# fillna 使用 "
   ]
  },
  {
   "cell_type": "code",
   "execution_count": 1,
   "id": "02d5f99f-cf6e-46ba-b6ea-c3772ed349c6",
   "metadata": {
    "execution": {
     "iopub.execute_input": "2022-06-17T01:52:11.714805Z",
     "iopub.status.busy": "2022-06-17T01:52:11.714805Z",
     "iopub.status.idle": "2022-06-17T01:52:12.051838Z",
     "shell.execute_reply": "2022-06-17T01:52:12.051838Z",
     "shell.execute_reply.started": "2022-06-17T01:52:11.714805Z"
    }
   },
   "outputs": [],
   "source": [
    "import pandas as pd"
   ]
  },
  {
   "cell_type": "code",
   "execution_count": 18,
   "id": "794e42e2-925d-492c-a302-fbb36b63cc6e",
   "metadata": {
    "execution": {
     "iopub.execute_input": "2022-06-17T01:56:22.809805Z",
     "iopub.status.busy": "2022-06-17T01:56:22.809805Z",
     "iopub.status.idle": "2022-06-17T01:56:22.820808Z",
     "shell.execute_reply": "2022-06-17T01:56:22.820808Z",
     "shell.execute_reply.started": "2022-06-17T01:56:22.809805Z"
    },
    "tags": []
   },
   "outputs": [
    {
     "data": {
      "text/html": [
       "<div>\n",
       "<style scoped>\n",
       "    .dataframe tbody tr th:only-of-type {\n",
       "        vertical-align: middle;\n",
       "    }\n",
       "\n",
       "    .dataframe tbody tr th {\n",
       "        vertical-align: top;\n",
       "    }\n",
       "\n",
       "    .dataframe thead th {\n",
       "        text-align: right;\n",
       "    }\n",
       "</style>\n",
       "<table border=\"1\" class=\"dataframe\">\n",
       "  <thead>\n",
       "    <tr style=\"text-align: right;\">\n",
       "      <th></th>\n",
       "      <th>a</th>\n",
       "      <th>b</th>\n",
       "    </tr>\n",
       "  </thead>\n",
       "  <tbody>\n",
       "    <tr>\n",
       "      <th>0</th>\n",
       "      <td>1.0</td>\n",
       "      <td>4.0</td>\n",
       "    </tr>\n",
       "    <tr>\n",
       "      <th>1</th>\n",
       "      <td>NaN</td>\n",
       "      <td>5.0</td>\n",
       "    </tr>\n",
       "    <tr>\n",
       "      <th>2</th>\n",
       "      <td>3.0</td>\n",
       "      <td>NaN</td>\n",
       "    </tr>\n",
       "  </tbody>\n",
       "</table>\n",
       "</div>"
      ],
      "text/plain": [
       "     a    b\n",
       "0  1.0  4.0\n",
       "1  NaN  5.0\n",
       "2  3.0  NaN"
      ]
     },
     "execution_count": 18,
     "metadata": {},
     "output_type": "execute_result"
    }
   ],
   "source": [
    "df = pd.DataFrame({\"a\": [1, None, 3], \"b\": [4, 5, None]})\n",
    "\n",
    "df"
   ]
  },
  {
   "cell_type": "code",
   "execution_count": 19,
   "id": "2602beb1-9eef-40ae-bff0-d4b356c536fd",
   "metadata": {
    "execution": {
     "iopub.execute_input": "2022-06-17T01:56:33.361805Z",
     "iopub.status.busy": "2022-06-17T01:56:33.361805Z",
     "iopub.status.idle": "2022-06-17T01:56:33.369809Z",
     "shell.execute_reply": "2022-06-17T01:56:33.369809Z",
     "shell.execute_reply.started": "2022-06-17T01:56:33.361805Z"
    },
    "tags": []
   },
   "outputs": [
    {
     "data": {
      "text/html": [
       "<div>\n",
       "<style scoped>\n",
       "    .dataframe tbody tr th:only-of-type {\n",
       "        vertical-align: middle;\n",
       "    }\n",
       "\n",
       "    .dataframe tbody tr th {\n",
       "        vertical-align: top;\n",
       "    }\n",
       "\n",
       "    .dataframe thead th {\n",
       "        text-align: right;\n",
       "    }\n",
       "</style>\n",
       "<table border=\"1\" class=\"dataframe\">\n",
       "  <thead>\n",
       "    <tr style=\"text-align: right;\">\n",
       "      <th></th>\n",
       "      <th>a</th>\n",
       "      <th>b</th>\n",
       "    </tr>\n",
       "  </thead>\n",
       "  <tbody>\n",
       "    <tr>\n",
       "      <th>0</th>\n",
       "      <td>1</td>\n",
       "      <td>4.0</td>\n",
       "    </tr>\n",
       "    <tr>\n",
       "      <th>1</th>\n",
       "      <td>2</td>\n",
       "      <td>5.0</td>\n",
       "    </tr>\n",
       "    <tr>\n",
       "      <th>2</th>\n",
       "      <td>3</td>\n",
       "      <td>NaN</td>\n",
       "    </tr>\n",
       "  </tbody>\n",
       "</table>\n",
       "</div>"
      ],
      "text/plain": [
       "   a    b\n",
       "0  1  4.0\n",
       "1  2  5.0\n",
       "2  3  NaN"
      ]
     },
     "execution_count": 19,
     "metadata": {},
     "output_type": "execute_result"
    }
   ],
   "source": [
    "df2 = pd.DataFrame({\"a\": [1, 2, 3], \"b\": [4, 5, None]})\n",
    "\n",
    "df2"
   ]
  },
  {
   "cell_type": "code",
   "execution_count": 16,
   "id": "79d19368-ee1a-4231-a3d4-4e4846e1fc0c",
   "metadata": {
    "execution": {
     "iopub.execute_input": "2022-06-17T01:56:06.544805Z",
     "iopub.status.busy": "2022-06-17T01:56:06.544805Z",
     "iopub.status.idle": "2022-06-17T01:56:06.549805Z",
     "shell.execute_reply": "2022-06-17T01:56:06.549805Z",
     "shell.execute_reply.started": "2022-06-17T01:56:06.544805Z"
    },
    "tags": []
   },
   "outputs": [
    {
     "data": {
      "text/plain": [
       "0    1.0\n",
       "1    5.0\n",
       "2    3.0\n",
       "Name: a, dtype: float64"
      ]
     },
     "execution_count": 16,
     "metadata": {},
     "output_type": "execute_result"
    }
   ],
   "source": [
    "df.a.fillna(df.b)"
   ]
  },
  {
   "cell_type": "code",
   "execution_count": 17,
   "id": "bdf9a594-4879-41f7-9d42-f9c081fe46f7",
   "metadata": {
    "execution": {
     "iopub.execute_input": "2022-06-17T01:56:17.832806Z",
     "iopub.status.busy": "2022-06-17T01:56:17.831810Z",
     "iopub.status.idle": "2022-06-17T01:56:17.845807Z",
     "shell.execute_reply": "2022-06-17T01:56:17.845807Z",
     "shell.execute_reply.started": "2022-06-17T01:56:17.832806Z"
    },
    "tags": []
   },
   "outputs": [
    {
     "data": {
      "text/html": [
       "<div>\n",
       "<style scoped>\n",
       "    .dataframe tbody tr th:only-of-type {\n",
       "        vertical-align: middle;\n",
       "    }\n",
       "\n",
       "    .dataframe tbody tr th {\n",
       "        vertical-align: top;\n",
       "    }\n",
       "\n",
       "    .dataframe thead th {\n",
       "        text-align: right;\n",
       "    }\n",
       "</style>\n",
       "<table border=\"1\" class=\"dataframe\">\n",
       "  <thead>\n",
       "    <tr style=\"text-align: right;\">\n",
       "      <th></th>\n",
       "      <th>a</th>\n",
       "      <th>b</th>\n",
       "    </tr>\n",
       "  </thead>\n",
       "  <tbody>\n",
       "    <tr>\n",
       "      <th>0</th>\n",
       "      <td>1.0</td>\n",
       "      <td>4.0</td>\n",
       "    </tr>\n",
       "    <tr>\n",
       "      <th>1</th>\n",
       "      <td>2.0</td>\n",
       "      <td>5.0</td>\n",
       "    </tr>\n",
       "    <tr>\n",
       "      <th>2</th>\n",
       "      <td>3.0</td>\n",
       "      <td>NaN</td>\n",
       "    </tr>\n",
       "  </tbody>\n",
       "</table>\n",
       "</div>"
      ],
      "text/plain": [
       "     a    b\n",
       "0  1.0  4.0\n",
       "1  2.0  5.0\n",
       "2  3.0  NaN"
      ]
     },
     "execution_count": 17,
     "metadata": {},
     "output_type": "execute_result"
    }
   ],
   "source": [
    "df.fillna(df2)"
   ]
  }
 ],
 "metadata": {
  "kernelspec": {
   "display_name": "Python 3 (ipykernel)",
   "language": "python",
   "name": "python3"
  },
  "language_info": {
   "codemirror_mode": {
    "name": "ipython",
    "version": 3
   },
   "file_extension": ".py",
   "mimetype": "text/x-python",
   "name": "python",
   "nbconvert_exporter": "python",
   "pygments_lexer": "ipython3",
   "version": "3.8.13"
  }
 },
 "nbformat": 4,
 "nbformat_minor": 5
}
