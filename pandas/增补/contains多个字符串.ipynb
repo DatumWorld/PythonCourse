{
 "cells": [
  {
   "cell_type": "code",
   "execution_count": 3,
   "id": "d7fb036b-f719-4208-a3ef-d75548444eb4",
   "metadata": {
    "execution": {
     "iopub.execute_input": "2022-04-02T01:11:23.715262Z",
     "iopub.status.busy": "2022-04-02T01:11:23.715262Z",
     "iopub.status.idle": "2022-04-02T01:11:23.718265Z",
     "shell.execute_reply": "2022-04-02T01:11:23.718265Z",
     "shell.execute_reply.started": "2022-04-02T01:11:23.715262Z"
    },
    "tags": []
   },
   "outputs": [],
   "source": [
    "import pandas as pd\n",
    "import numpy as np"
   ]
  },
  {
   "cell_type": "code",
   "execution_count": 4,
   "id": "5dbb1381-eacd-46d5-865b-f05638278fea",
   "metadata": {
    "execution": {
     "iopub.execute_input": "2022-04-02T01:11:26.135262Z",
     "iopub.status.busy": "2022-04-02T01:11:26.135262Z",
     "iopub.status.idle": "2022-04-02T01:11:26.144267Z",
     "shell.execute_reply": "2022-04-02T01:11:26.143275Z",
     "shell.execute_reply.started": "2022-04-02T01:11:26.135262Z"
    },
    "tags": []
   },
   "outputs": [],
   "source": [
    "s1 = pd.Series(['Mouse', 'dog', 'house and parrot', '23', np.NaN])"
   ]
  },
  {
   "cell_type": "code",
   "execution_count": 5,
   "id": "dc0c1540-4db4-4273-bb28-edc281efeca6",
   "metadata": {
    "execution": {
     "iopub.execute_input": "2022-04-02T01:11:37.905262Z",
     "iopub.status.busy": "2022-04-02T01:11:37.905262Z",
     "iopub.status.idle": "2022-04-02T01:11:37.912266Z",
     "shell.execute_reply": "2022-04-02T01:11:37.912266Z",
     "shell.execute_reply.started": "2022-04-02T01:11:37.905262Z"
    },
    "tags": []
   },
   "outputs": [
    {
     "data": {
      "text/plain": [
       "0               Mouse\n",
       "1                 dog\n",
       "2    house and parrot\n",
       "3                  23\n",
       "4                 NaN\n",
       "dtype: object"
      ]
     },
     "execution_count": 5,
     "metadata": {},
     "output_type": "execute_result"
    }
   ],
   "source": [
    "s1"
   ]
  },
  {
   "cell_type": "code",
   "execution_count": 7,
   "id": "0d73a56e-c2fe-4f52-ab5e-43c32000fc8d",
   "metadata": {
    "execution": {
     "iopub.execute_input": "2022-04-02T01:12:21.917263Z",
     "iopub.status.busy": "2022-04-02T01:12:21.916262Z",
     "iopub.status.idle": "2022-04-02T01:12:21.924267Z",
     "shell.execute_reply": "2022-04-02T01:12:21.924267Z",
     "shell.execute_reply.started": "2022-04-02T01:12:21.917263Z"
    },
    "tags": []
   },
   "outputs": [
    {
     "data": {
      "text/plain": [
       "0    False\n",
       "1     True\n",
       "2     True\n",
       "3    False\n",
       "4      NaN\n",
       "dtype: object"
      ]
     },
     "execution_count": 7,
     "metadata": {},
     "output_type": "execute_result"
    }
   ],
   "source": [
    "s1.str.contains(pat='dog|house',regex=True) # 判断是否包含 dog  house 中的某一个。使用正则表达式。regex=True 是将pat的值视为正则表达式"
   ]
  },
  {
   "cell_type": "code",
   "execution_count": 8,
   "id": "a98a11b3-9b4c-4d56-ab16-3697745050d0",
   "metadata": {
    "execution": {
     "iopub.execute_input": "2022-04-02T01:12:31.119293Z",
     "iopub.status.busy": "2022-04-02T01:12:31.119293Z",
     "iopub.status.idle": "2022-04-02T01:12:31.123264Z",
     "shell.execute_reply": "2022-04-02T01:12:31.123264Z",
     "shell.execute_reply.started": "2022-04-02T01:12:31.119293Z"
    },
    "tags": []
   },
   "outputs": [
    {
     "data": {
      "text/plain": [
       "0    False\n",
       "1    False\n",
       "2    False\n",
       "3    False\n",
       "4      NaN\n",
       "dtype: object"
      ]
     },
     "execution_count": 8,
     "metadata": {},
     "output_type": "execute_result"
    }
   ],
   "source": [
    "s1.str.contains(pat='dog|house',regex=False) # 与上面对照。regex=False 是将pat的值视为字符串"
   ]
  }
 ],
 "metadata": {
  "kernelspec": {
   "display_name": "Python 3 (ipykernel)",
   "language": "python",
   "name": "python3"
  },
  "language_info": {
   "codemirror_mode": {
    "name": "ipython",
    "version": 3
   },
   "file_extension": ".py",
   "mimetype": "text/x-python",
   "name": "python",
   "nbconvert_exporter": "python",
   "pygments_lexer": "ipython3",
   "version": "3.8.13"
  }
 },
 "nbformat": 4,
 "nbformat_minor": 5
}
